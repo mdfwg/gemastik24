{
 "cells": [
  {
   "cell_type": "markdown",
   "metadata": {},
   "source": [
    "# Libraries"
   ]
  },
  {
   "cell_type": "code",
   "execution_count": 1,
   "metadata": {},
   "outputs": [],
   "source": [
    "import pandas as pd\n",
    "import matplotlib.pyplot as plt\n",
    "import sys\n",
    "from bertopic import BERTopic\n",
    "import gensim.corpora as corpora\n",
    "from gensim.models.coherencemodel import CoherenceModel"
   ]
  },
  {
   "cell_type": "markdown",
   "metadata": {},
   "source": [
    "# Load Data"
   ]
  },
  {
   "cell_type": "code",
   "execution_count": 2,
   "metadata": {},
   "outputs": [
    {
     "data": {
      "text/html": [
       "<div>\n",
       "<style scoped>\n",
       "    .dataframe tbody tr th:only-of-type {\n",
       "        vertical-align: middle;\n",
       "    }\n",
       "\n",
       "    .dataframe tbody tr th {\n",
       "        vertical-align: top;\n",
       "    }\n",
       "\n",
       "    .dataframe thead th {\n",
       "        text-align: right;\n",
       "    }\n",
       "</style>\n",
       "<table border=\"1\" class=\"dataframe\">\n",
       "  <thead>\n",
       "    <tr style=\"text-align: right;\">\n",
       "      <th></th>\n",
       "      <th>created_at</th>\n",
       "      <th>full_text</th>\n",
       "    </tr>\n",
       "  </thead>\n",
       "  <tbody>\n",
       "    <tr>\n",
       "      <th>0</th>\n",
       "      <td>2019-11-01 00:43:08+00:00</td>\n",
       "      <td>by lewat</td>\n",
       "    </tr>\n",
       "    <tr>\n",
       "      <th>1</th>\n",
       "      <td>2019-11-01 02:42:52+00:00</td>\n",
       "      <td>kakanwil kemenag provinsi papua pdt amsal yowe...</td>\n",
       "    </tr>\n",
       "    <tr>\n",
       "      <th>2</th>\n",
       "      <td>2019-11-01 08:53:32+00:00</td>\n",
       "      <td>politik baik anggota dprd betul psi libat raky...</td>\n",
       "    </tr>\n",
       "    <tr>\n",
       "      <th>3</th>\n",
       "      <td>2019-11-01 09:15:05+00:00</td>\n",
       "      <td>politik baik anggota dprd betul psi libat raky...</td>\n",
       "    </tr>\n",
       "    <tr>\n",
       "      <th>4</th>\n",
       "      <td>2019-11-01 11:16:16+00:00</td>\n",
       "      <td>kerja institusi  izin alami baru masuk temu bi...</td>\n",
       "    </tr>\n",
       "    <tr>\n",
       "      <th>...</th>\n",
       "      <td>...</td>\n",
       "      <td>...</td>\n",
       "    </tr>\n",
       "    <tr>\n",
       "      <th>8431</th>\n",
       "      <td>2024-04-29 09:26:46+00:00</td>\n",
       "      <td>pintas masa depan agama indonesia lihat lebih ...</td>\n",
       "    </tr>\n",
       "    <tr>\n",
       "      <th>8432</th>\n",
       "      <td>2024-04-29 12:00:01+00:00</td>\n",
       "      <td>hitung tahun ajar perintah lalu kemendikbud ja...</td>\n",
       "    </tr>\n",
       "    <tr>\n",
       "      <th>8433</th>\n",
       "      <td>2024-04-29 13:45:36+00:00</td>\n",
       "      <td>bersikukuh  tinggi komersialisasi semenjak  pt...</td>\n",
       "    </tr>\n",
       "    <tr>\n",
       "      <th>8434</th>\n",
       "      <td>2024-04-29 16:48:01+00:00</td>\n",
       "      <td>kagak ngotak asli dahh sbnrnya salah   sekaran...</td>\n",
       "    </tr>\n",
       "    <tr>\n",
       "      <th>8435</th>\n",
       "      <td>2024-04-29 23:50:04+00:00</td>\n",
       "      <td>bahasa inggris sd tantang imbang</td>\n",
       "    </tr>\n",
       "  </tbody>\n",
       "</table>\n",
       "<p>8434 rows × 2 columns</p>\n",
       "</div>"
      ],
      "text/plain": [
       "                    created_at  \\\n",
       "0    2019-11-01 00:43:08+00:00   \n",
       "1    2019-11-01 02:42:52+00:00   \n",
       "2    2019-11-01 08:53:32+00:00   \n",
       "3    2019-11-01 09:15:05+00:00   \n",
       "4    2019-11-01 11:16:16+00:00   \n",
       "...                        ...   \n",
       "8431 2024-04-29 09:26:46+00:00   \n",
       "8432 2024-04-29 12:00:01+00:00   \n",
       "8433 2024-04-29 13:45:36+00:00   \n",
       "8434 2024-04-29 16:48:01+00:00   \n",
       "8435 2024-04-29 23:50:04+00:00   \n",
       "\n",
       "                                              full_text  \n",
       "0                                              by lewat  \n",
       "1     kakanwil kemenag provinsi papua pdt amsal yowe...  \n",
       "2     politik baik anggota dprd betul psi libat raky...  \n",
       "3     politik baik anggota dprd betul psi libat raky...  \n",
       "4     kerja institusi  izin alami baru masuk temu bi...  \n",
       "...                                                 ...  \n",
       "8431  pintas masa depan agama indonesia lihat lebih ...  \n",
       "8432  hitung tahun ajar perintah lalu kemendikbud ja...  \n",
       "8433  bersikukuh  tinggi komersialisasi semenjak  pt...  \n",
       "8434  kagak ngotak asli dahh sbnrnya salah   sekaran...  \n",
       "8435                   bahasa inggris sd tantang imbang  \n",
       "\n",
       "[8434 rows x 2 columns]"
      ]
     },
     "execution_count": 2,
     "metadata": {},
     "output_type": "execute_result"
    }
   ],
   "source": [
    "tweet = pd.read_csv('../../src/cleaned_kp.csv')\n",
    "tweet = tweet.dropna(subset=['full_text'])\n",
    "tweet = tweet[['created_at', 'full_text']]\n",
    "tweet['created_at'] = pd.to_datetime(tweet['created_at'])\n",
    "tweet"
   ]
  },
  {
   "cell_type": "code",
   "execution_count": null,
   "metadata": {},
   "outputs": [],
   "source": []
  }
 ],
 "metadata": {
  "kernelspec": {
   "display_name": "rhafael",
   "language": "python",
   "name": "python3"
  },
  "language_info": {
   "codemirror_mode": {
    "name": "ipython",
    "version": 3
   },
   "file_extension": ".py",
   "mimetype": "text/x-python",
   "name": "python",
   "nbconvert_exporter": "python",
   "pygments_lexer": "ipython3",
   "version": "3.10.14"
  }
 },
 "nbformat": 4,
 "nbformat_minor": 2
}
