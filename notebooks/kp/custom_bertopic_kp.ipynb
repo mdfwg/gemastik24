{
 "cells": [
  {
   "cell_type": "markdown",
   "metadata": {},
   "source": [
    "# Libraries"
   ]
  },
  {
   "cell_type": "code",
   "execution_count": 1,
   "metadata": {},
   "outputs": [],
   "source": [
    "import pandas as pd\n",
    "import matplotlib.pyplot as plt\n",
    "import sys\n",
    "from bertopic import BERTopic\n",
    "import gensim.corpora as corpora\n",
    "from gensim.models.coherencemodel import CoherenceModel"
   ]
  },
  {
   "cell_type": "markdown",
   "metadata": {},
   "source": [
    "# Load Data"
   ]
  },
  {
   "cell_type": "code",
   "execution_count": 2,
   "metadata": {},
   "outputs": [
    {
     "data": {
      "text/html": [
       "<div>\n",
       "<style scoped>\n",
       "    .dataframe tbody tr th:only-of-type {\n",
       "        vertical-align: middle;\n",
       "    }\n",
       "\n",
       "    .dataframe tbody tr th {\n",
       "        vertical-align: top;\n",
       "    }\n",
       "\n",
       "    .dataframe thead th {\n",
       "        text-align: right;\n",
       "    }\n",
       "</style>\n",
       "<table border=\"1\" class=\"dataframe\">\n",
       "  <thead>\n",
       "    <tr style=\"text-align: right;\">\n",
       "      <th></th>\n",
       "      <th>created_at</th>\n",
       "      <th>full_text</th>\n",
       "    </tr>\n",
       "  </thead>\n",
       "  <tbody>\n",
       "    <tr>\n",
       "      <th>0</th>\n",
       "      <td>2019-11-01 00:43:08+00:00</td>\n",
       "      <td>by lewat</td>\n",
       "    </tr>\n",
       "    <tr>\n",
       "      <th>1</th>\n",
       "      <td>2019-11-01 02:42:52+00:00</td>\n",
       "      <td>kakanwil kemenag provinsi papua pdt amsal yowe...</td>\n",
       "    </tr>\n",
       "    <tr>\n",
       "      <th>2</th>\n",
       "      <td>2019-11-01 08:53:32+00:00</td>\n",
       "      <td>politik baik anggota dprd betul psi libat raky...</td>\n",
       "    </tr>\n",
       "    <tr>\n",
       "      <th>3</th>\n",
       "      <td>2019-11-01 09:15:05+00:00</td>\n",
       "      <td>politik baik anggota dprd betul psi libat raky...</td>\n",
       "    </tr>\n",
       "    <tr>\n",
       "      <th>4</th>\n",
       "      <td>2019-11-01 11:16:16+00:00</td>\n",
       "      <td>kerja institusi  izin alami baru masuk temu bi...</td>\n",
       "    </tr>\n",
       "    <tr>\n",
       "      <th>...</th>\n",
       "      <td>...</td>\n",
       "      <td>...</td>\n",
       "    </tr>\n",
       "    <tr>\n",
       "      <th>8431</th>\n",
       "      <td>2024-04-29 09:26:46+00:00</td>\n",
       "      <td>pintas masa depan agama indonesia lihat lebih ...</td>\n",
       "    </tr>\n",
       "    <tr>\n",
       "      <th>8432</th>\n",
       "      <td>2024-04-29 12:00:01+00:00</td>\n",
       "      <td>hitung tahun ajar perintah lalu kemendikbud ja...</td>\n",
       "    </tr>\n",
       "    <tr>\n",
       "      <th>8433</th>\n",
       "      <td>2024-04-29 13:45:36+00:00</td>\n",
       "      <td>bersikukuh  tinggi komersialisasi semenjak  pt...</td>\n",
       "    </tr>\n",
       "    <tr>\n",
       "      <th>8434</th>\n",
       "      <td>2024-04-29 16:48:01+00:00</td>\n",
       "      <td>kagak ngotak asli dahh sbnrnya salah   sekaran...</td>\n",
       "    </tr>\n",
       "    <tr>\n",
       "      <th>8435</th>\n",
       "      <td>2024-04-29 23:50:04+00:00</td>\n",
       "      <td>bahasa inggris sd tantang imbang</td>\n",
       "    </tr>\n",
       "  </tbody>\n",
       "</table>\n",
       "<p>8434 rows × 2 columns</p>\n",
       "</div>"
      ],
      "text/plain": [
       "                    created_at  \\\n",
       "0    2019-11-01 00:43:08+00:00   \n",
       "1    2019-11-01 02:42:52+00:00   \n",
       "2    2019-11-01 08:53:32+00:00   \n",
       "3    2019-11-01 09:15:05+00:00   \n",
       "4    2019-11-01 11:16:16+00:00   \n",
       "...                        ...   \n",
       "8431 2024-04-29 09:26:46+00:00   \n",
       "8432 2024-04-29 12:00:01+00:00   \n",
       "8433 2024-04-29 13:45:36+00:00   \n",
       "8434 2024-04-29 16:48:01+00:00   \n",
       "8435 2024-04-29 23:50:04+00:00   \n",
       "\n",
       "                                              full_text  \n",
       "0                                              by lewat  \n",
       "1     kakanwil kemenag provinsi papua pdt amsal yowe...  \n",
       "2     politik baik anggota dprd betul psi libat raky...  \n",
       "3     politik baik anggota dprd betul psi libat raky...  \n",
       "4     kerja institusi  izin alami baru masuk temu bi...  \n",
       "...                                                 ...  \n",
       "8431  pintas masa depan agama indonesia lihat lebih ...  \n",
       "8432  hitung tahun ajar perintah lalu kemendikbud ja...  \n",
       "8433  bersikukuh  tinggi komersialisasi semenjak  pt...  \n",
       "8434  kagak ngotak asli dahh sbnrnya salah   sekaran...  \n",
       "8435                   bahasa inggris sd tantang imbang  \n",
       "\n",
       "[8434 rows x 2 columns]"
      ]
     },
     "execution_count": 2,
     "metadata": {},
     "output_type": "execute_result"
    }
   ],
   "source": [
    "tweet = pd.read_csv('../../src/cleaned_kp.csv')\n",
    "tweet = tweet.dropna(subset=['full_text'])\n",
    "tweet = tweet[['created_at', 'full_text']]\n",
    "tweet['created_at'] = pd.to_datetime(tweet['created_at'])\n",
    "tweet"
   ]
  },
  {
   "cell_type": "markdown",
   "metadata": {},
   "source": [
    "# Preprocess"
   ]
  },
  {
   "cell_type": "code",
   "execution_count": 3,
   "metadata": {},
   "outputs": [],
   "source": [
    "tweet_quarter = tweet.copy()\n",
    "\n",
    "tweet_quarter['quarter'] = tweet_quarter['created_at'].dt.to_period('Q')\n",
    "\n",
    "tweet_quarter = tweet_quarter.groupby('quarter')"
   ]
  },
  {
   "cell_type": "markdown",
   "metadata": {},
   "source": [
    "# Modeling"
   ]
  },
  {
   "cell_type": "code",
   "execution_count": 4,
   "metadata": {},
   "outputs": [],
   "source": [
    "# from transformers import AutoTokenizer, AutoModel\n",
    "# tokenizer = AutoTokenizer.from_pretrained(\"indolem/indobertweet-base-uncased\")\n",
    "# model = AutoModel.from_pretrained(\"indolem/indobertweet-base-uncased\")"
   ]
  },
  {
   "cell_type": "code",
   "execution_count": 5,
   "metadata": {},
   "outputs": [],
   "source": [
    "from transformers import pipeline\n",
    "# embedding_model = pipeline(\"feature-extraction\", model=model, tokenizer=tokenizer, device=0)\n",
    "embedding_model = pipeline(\"feature-extraction\", model='indolem/indobertweet-base-uncased', device=0)\n",
    "# indolem/indobert-base-uncased"
   ]
  },
  {
   "cell_type": "code",
   "execution_count": 6,
   "metadata": {},
   "outputs": [],
   "source": [
    "results = {}"
   ]
  },
  {
   "cell_type": "code",
   "execution_count": 7,
   "metadata": {},
   "outputs": [
    {
     "name": "stderr",
     "output_type": "stream",
     "text": [
      "Asking to truncate to max_length but no maximum length is provided and the model has no predefined maximum length. Default to no truncation.\n",
      "You seem to be using the pipelines sequentially on GPU. In order to maximize efficiency please use a dataset\n"
     ]
    },
    {
     "name": "stdout",
     "output_type": "stream",
     "text": [
      "CPU times: total: 28.4 s\n",
      "Wall time: 2min 51s\n"
     ]
    }
   ],
   "source": [
    "%%time\n",
    "for period, group in tweet_quarter:\n",
    "    topic_model = BERTopic(verbose=False,\n",
    "                           embedding_model=embedding_model, calculate_probabilities=True,\n",
    "                           nr_topics=10,\n",
    "                           )\n",
    "    text_data = group['full_text'].tolist()\n",
    "    timestamps = group['created_at'].tolist()\n",
    "    topics, probs = topic_model.fit_transform(text_data)\n",
    "    results[period] = {\n",
    "        'model' : topic_model,\n",
    "        'topics_over_time' : topic_model.topics_over_time(text_data, timestamps, nr_bins=30),\n",
    "        'probs': probs,\n",
    "        'topic_info': topic_model.get_topic_info(),\n",
    "        \n",
    "        'topics': topics,\n",
    "        'text': text_data,\n",
    "    }"
   ]
  },
  {
   "cell_type": "code",
   "execution_count": 8,
   "metadata": {},
   "outputs": [
    {
     "data": {
      "application/vnd.plotly.v1+json": {
       "config": {
        "plotlyServerURL": "https://plot.ly"
       },
       "data": [
        {
         "hoverinfo": "text",
         "hovertext": [
          "<b>Topic 0</b><br>Words: kembang, mendikbud, nadiem, tempo, barong",
          "<b>Topic 0</b><br>Words: kembang, mendikbud, nadiem, tempo, barong",
          "<b>Topic 0</b><br>Words: kembang, mendikbud, nadiem, tempo, barong"
         ],
         "marker": {
          "color": "#E69F00"
         },
         "mode": "lines",
         "name": "0_kembang_mendikbud_nadiem_tempo",
         "type": "scatter",
         "x": [
          "2019-11-16T21:13:30.400000+00:00",
          "2019-11-20T20:21:06+00:00",
          "2019-12-12T15:32:51.800000+00:00"
         ],
         "y": [
          9,
          1,
          1
         ]
        },
        {
         "hoverinfo": "text",
         "hovertext": [
          "<b>Topic 1</b><br>Words: teu, demo, agama, publik, buat",
          "<b>Topic 1</b><br>Words: pusat, wamen, puasa, timbang, teliti",
          "<b>Topic 1</b><br>Words: guru, bangun, sehat, sekolah, jadi",
          "<b>Topic 1</b><br>Words: jadi, indonesia, jangan, menteri, coba",
          "<b>Topic 1</b><br>Words: andai, bidikmisi, kemeristekdikti, institusi, miskin",
          "<b>Topic 1</b><br>Words: makan, sedia, tambah, anak, satu",
          "<b>Topic 1</b><br>Words: tingkat, syarat, bpjs, lebih, indonesia",
          "<b>Topic 1</b><br>Words: indeks, lihat, fik, dilema, pra",
          "<b>Topic 1</b><br>Words: lima, indonesia, nadiem, guru, tanda",
          "<b>Topic 1</b><br>Words: jadi, teliti, nadiem, makarim, indonesia",
          "<b>Topic 1</b><br>Words: ndoro, gumun, ganti, formasi, daftar",
          "<b>Topic 1</b><br>Words: analisis, jadi, guru, moga, nadiem",
          "<b>Topic 1</b><br>Words: guru, nadiem, baik, harap, jadi",
          "<b>Topic 1</b><br>Words: menteri, un, jadi, ganti, pintro",
          "<b>Topic 1</b><br>Words: analisis, masif, mahal, panji, pastika",
          "<b>Topic 1</b><br>Words: utbk, amp, guru, baru, resmi",
          "<b>Topic 1</b><br>Words: aceh, jadi, mh, sh, kasih",
          "<b>Topic 1</b><br>Words: banyak, baru, jadi, guru, kurikulum",
          "<b>Topic 1</b><br>Words: ppp, perempuan, politik, berapa, peran",
          "<b>Topic 1</b><br>Words: ibu, kritik, sangat, bapak, bagai",
          "<b>Topic 1</b><br>Words: makarim, nadiem, ajar, merdeka, menteri",
          "<b>Topic 1</b><br>Words: menteri, sebut, ganti, nadiem, terobos",
          "<b>Topic 1</b><br>Words: un, menteri, enggak, hapus, baru",
          "<b>Topic 1</b><br>Words: menteri, guru, nadiem, ajar, budaya",
          "<b>Topic 1</b><br>Words: jadi, un, muhammadiyah, guru, menteri",
          "<b>Topic 1</b><br>Words: muhammadiyah, un, sd, ajar, cipta",
          "<b>Topic 1</b><br>Words: menteri, orang, uji, nasional, kapal",
          "<b>Topic 1</b><br>Words: buku, siswa, nadiem, terap, ajar",
          "<b>Topic 1</b><br>Words: apabila, mungkin, beban, langgar, minimal",
          "<b>Topic 1</b><br>Words: provinsi, jawa, tengah, ketua, jajah"
         ],
         "marker": {
          "color": "#56B4E9"
         },
         "mode": "lines",
         "name": "1_menteri_nadiem_jadi_guru",
         "type": "scatter",
         "x": [
          "2019-10-31T23:17:31.166000+00:00",
          "2019-11-03T00:16:55.800000+00:00",
          "2019-11-04T23:50:43.600000+00:00",
          "2019-11-06T23:24:31.400000+00:00",
          "2019-11-08T22:58:19.200000+00:00",
          "2019-11-10T22:32:07+00:00",
          "2019-11-12T22:05:54.800000+00:00",
          "2019-11-14T21:39:42.600000+00:00",
          "2019-11-16T21:13:30.400000+00:00",
          "2019-11-18T20:47:18.200000+00:00",
          "2019-11-20T20:21:06+00:00",
          "2019-11-22T19:54:53.800000+00:00",
          "2019-11-24T19:28:41.600000+00:00",
          "2019-11-26T19:02:29.400000+00:00",
          "2019-11-28T18:36:17.200000+00:00",
          "2019-11-30T18:10:05+00:00",
          "2019-12-02T17:43:52.800000+00:00",
          "2019-12-04T17:17:40.600000+00:00",
          "2019-12-06T16:51:28.400000+00:00",
          "2019-12-08T16:25:16.200000+00:00",
          "2019-12-10T15:59:04+00:00",
          "2019-12-12T15:32:51.800000+00:00",
          "2019-12-14T15:06:39.600000+00:00",
          "2019-12-16T14:40:27.400000+00:00",
          "2019-12-18T14:14:15.200000+00:00",
          "2019-12-20T13:48:03+00:00",
          "2019-12-22T13:21:50.800000+00:00",
          "2019-12-24T12:55:38.600000+00:00",
          "2019-12-26T12:29:26.400000+00:00",
          "2019-12-28T12:03:14.200000+00:00"
         ],
         "y": [
          8,
          5,
          11,
          20,
          2,
          6,
          12,
          4,
          13,
          12,
          4,
          27,
          23,
          11,
          3,
          8,
          13,
          17,
          9,
          3,
          62,
          24,
          22,
          18,
          16,
          6,
          9,
          3,
          4,
          9
         ]
        },
        {
         "hoverinfo": "text",
         "hovertext": [
          "<b>Topic 2</b><br>Words: dorong, lanjut, zonasi, mendikbud, merdeka",
          "<b>Topic 2</b><br>Words: merdeka, ajar, pokok, empat, sampai",
          "<b>Topic 2</b><br>Words: merdeka, pokok, ajar, luncur, empat",
          "<b>Topic 2</b><br>Words: khitah, kembali, literasi, merdeka, ajar"
         ],
         "marker": {
          "color": "#009E73"
         },
         "mode": "lines",
         "name": "2_merdeka_ajar_pokok_empat",
         "type": "scatter",
         "x": [
          "2019-12-08T16:25:16.200000+00:00",
          "2019-12-10T15:59:04+00:00",
          "2019-12-12T15:32:51.800000+00:00",
          "2019-12-14T15:06:39.600000+00:00"
         ],
         "y": [
          1,
          9,
          2,
          2
         ]
        },
        {
         "hoverinfo": "text",
         "hovertext": [
          "<b>Topic 3</b><br>Words: tetap, empat, pokok, mendikbud, merdeka",
          "<b>Topic 3</b><br>Words: tetap, empat, pokok, mendikbud, merdeka",
          "<b>Topic 3</b><br>Words: tetap, empat, pokok, mendikbud, merdeka"
         ],
         "marker": {
          "color": "#F0E442"
         },
         "mode": "lines",
         "name": "3_tetap_empat_pokok_mendikbud",
         "type": "scatter",
         "x": [
          "2019-12-10T15:59:04+00:00",
          "2019-12-12T15:32:51.800000+00:00",
          "2019-12-14T15:06:39.600000+00:00"
         ],
         "y": [
          15,
          1,
          2
         ]
        }
       ],
       "layout": {
        "height": 450,
        "hoverlabel": {
         "bgcolor": "white",
         "font": {
          "family": "Rockwell",
          "size": 16
         }
        },
        "legend": {
         "title": {
          "text": "<b>Global Topic Representation"
         }
        },
        "template": {
         "data": {
          "bar": [
           {
            "error_x": {
             "color": "rgb(36,36,36)"
            },
            "error_y": {
             "color": "rgb(36,36,36)"
            },
            "marker": {
             "line": {
              "color": "white",
              "width": 0.5
             },
             "pattern": {
              "fillmode": "overlay",
              "size": 10,
              "solidity": 0.2
             }
            },
            "type": "bar"
           }
          ],
          "barpolar": [
           {
            "marker": {
             "line": {
              "color": "white",
              "width": 0.5
             },
             "pattern": {
              "fillmode": "overlay",
              "size": 10,
              "solidity": 0.2
             }
            },
            "type": "barpolar"
           }
          ],
          "carpet": [
           {
            "aaxis": {
             "endlinecolor": "rgb(36,36,36)",
             "gridcolor": "white",
             "linecolor": "white",
             "minorgridcolor": "white",
             "startlinecolor": "rgb(36,36,36)"
            },
            "baxis": {
             "endlinecolor": "rgb(36,36,36)",
             "gridcolor": "white",
             "linecolor": "white",
             "minorgridcolor": "white",
             "startlinecolor": "rgb(36,36,36)"
            },
            "type": "carpet"
           }
          ],
          "choropleth": [
           {
            "colorbar": {
             "outlinewidth": 1,
             "tickcolor": "rgb(36,36,36)",
             "ticks": "outside"
            },
            "type": "choropleth"
           }
          ],
          "contour": [
           {
            "colorbar": {
             "outlinewidth": 1,
             "tickcolor": "rgb(36,36,36)",
             "ticks": "outside"
            },
            "colorscale": [
             [
              0,
              "#440154"
             ],
             [
              0.1111111111111111,
              "#482878"
             ],
             [
              0.2222222222222222,
              "#3e4989"
             ],
             [
              0.3333333333333333,
              "#31688e"
             ],
             [
              0.4444444444444444,
              "#26828e"
             ],
             [
              0.5555555555555556,
              "#1f9e89"
             ],
             [
              0.6666666666666666,
              "#35b779"
             ],
             [
              0.7777777777777778,
              "#6ece58"
             ],
             [
              0.8888888888888888,
              "#b5de2b"
             ],
             [
              1,
              "#fde725"
             ]
            ],
            "type": "contour"
           }
          ],
          "contourcarpet": [
           {
            "colorbar": {
             "outlinewidth": 1,
             "tickcolor": "rgb(36,36,36)",
             "ticks": "outside"
            },
            "type": "contourcarpet"
           }
          ],
          "heatmap": [
           {
            "colorbar": {
             "outlinewidth": 1,
             "tickcolor": "rgb(36,36,36)",
             "ticks": "outside"
            },
            "colorscale": [
             [
              0,
              "#440154"
             ],
             [
              0.1111111111111111,
              "#482878"
             ],
             [
              0.2222222222222222,
              "#3e4989"
             ],
             [
              0.3333333333333333,
              "#31688e"
             ],
             [
              0.4444444444444444,
              "#26828e"
             ],
             [
              0.5555555555555556,
              "#1f9e89"
             ],
             [
              0.6666666666666666,
              "#35b779"
             ],
             [
              0.7777777777777778,
              "#6ece58"
             ],
             [
              0.8888888888888888,
              "#b5de2b"
             ],
             [
              1,
              "#fde725"
             ]
            ],
            "type": "heatmap"
           }
          ],
          "heatmapgl": [
           {
            "colorbar": {
             "outlinewidth": 1,
             "tickcolor": "rgb(36,36,36)",
             "ticks": "outside"
            },
            "colorscale": [
             [
              0,
              "#440154"
             ],
             [
              0.1111111111111111,
              "#482878"
             ],
             [
              0.2222222222222222,
              "#3e4989"
             ],
             [
              0.3333333333333333,
              "#31688e"
             ],
             [
              0.4444444444444444,
              "#26828e"
             ],
             [
              0.5555555555555556,
              "#1f9e89"
             ],
             [
              0.6666666666666666,
              "#35b779"
             ],
             [
              0.7777777777777778,
              "#6ece58"
             ],
             [
              0.8888888888888888,
              "#b5de2b"
             ],
             [
              1,
              "#fde725"
             ]
            ],
            "type": "heatmapgl"
           }
          ],
          "histogram": [
           {
            "marker": {
             "line": {
              "color": "white",
              "width": 0.6
             }
            },
            "type": "histogram"
           }
          ],
          "histogram2d": [
           {
            "colorbar": {
             "outlinewidth": 1,
             "tickcolor": "rgb(36,36,36)",
             "ticks": "outside"
            },
            "colorscale": [
             [
              0,
              "#440154"
             ],
             [
              0.1111111111111111,
              "#482878"
             ],
             [
              0.2222222222222222,
              "#3e4989"
             ],
             [
              0.3333333333333333,
              "#31688e"
             ],
             [
              0.4444444444444444,
              "#26828e"
             ],
             [
              0.5555555555555556,
              "#1f9e89"
             ],
             [
              0.6666666666666666,
              "#35b779"
             ],
             [
              0.7777777777777778,
              "#6ece58"
             ],
             [
              0.8888888888888888,
              "#b5de2b"
             ],
             [
              1,
              "#fde725"
             ]
            ],
            "type": "histogram2d"
           }
          ],
          "histogram2dcontour": [
           {
            "colorbar": {
             "outlinewidth": 1,
             "tickcolor": "rgb(36,36,36)",
             "ticks": "outside"
            },
            "colorscale": [
             [
              0,
              "#440154"
             ],
             [
              0.1111111111111111,
              "#482878"
             ],
             [
              0.2222222222222222,
              "#3e4989"
             ],
             [
              0.3333333333333333,
              "#31688e"
             ],
             [
              0.4444444444444444,
              "#26828e"
             ],
             [
              0.5555555555555556,
              "#1f9e89"
             ],
             [
              0.6666666666666666,
              "#35b779"
             ],
             [
              0.7777777777777778,
              "#6ece58"
             ],
             [
              0.8888888888888888,
              "#b5de2b"
             ],
             [
              1,
              "#fde725"
             ]
            ],
            "type": "histogram2dcontour"
           }
          ],
          "mesh3d": [
           {
            "colorbar": {
             "outlinewidth": 1,
             "tickcolor": "rgb(36,36,36)",
             "ticks": "outside"
            },
            "type": "mesh3d"
           }
          ],
          "parcoords": [
           {
            "line": {
             "colorbar": {
              "outlinewidth": 1,
              "tickcolor": "rgb(36,36,36)",
              "ticks": "outside"
             }
            },
            "type": "parcoords"
           }
          ],
          "pie": [
           {
            "automargin": true,
            "type": "pie"
           }
          ],
          "scatter": [
           {
            "fillpattern": {
             "fillmode": "overlay",
             "size": 10,
             "solidity": 0.2
            },
            "type": "scatter"
           }
          ],
          "scatter3d": [
           {
            "line": {
             "colorbar": {
              "outlinewidth": 1,
              "tickcolor": "rgb(36,36,36)",
              "ticks": "outside"
             }
            },
            "marker": {
             "colorbar": {
              "outlinewidth": 1,
              "tickcolor": "rgb(36,36,36)",
              "ticks": "outside"
             }
            },
            "type": "scatter3d"
           }
          ],
          "scattercarpet": [
           {
            "marker": {
             "colorbar": {
              "outlinewidth": 1,
              "tickcolor": "rgb(36,36,36)",
              "ticks": "outside"
             }
            },
            "type": "scattercarpet"
           }
          ],
          "scattergeo": [
           {
            "marker": {
             "colorbar": {
              "outlinewidth": 1,
              "tickcolor": "rgb(36,36,36)",
              "ticks": "outside"
             }
            },
            "type": "scattergeo"
           }
          ],
          "scattergl": [
           {
            "marker": {
             "colorbar": {
              "outlinewidth": 1,
              "tickcolor": "rgb(36,36,36)",
              "ticks": "outside"
             }
            },
            "type": "scattergl"
           }
          ],
          "scattermapbox": [
           {
            "marker": {
             "colorbar": {
              "outlinewidth": 1,
              "tickcolor": "rgb(36,36,36)",
              "ticks": "outside"
             }
            },
            "type": "scattermapbox"
           }
          ],
          "scatterpolar": [
           {
            "marker": {
             "colorbar": {
              "outlinewidth": 1,
              "tickcolor": "rgb(36,36,36)",
              "ticks": "outside"
             }
            },
            "type": "scatterpolar"
           }
          ],
          "scatterpolargl": [
           {
            "marker": {
             "colorbar": {
              "outlinewidth": 1,
              "tickcolor": "rgb(36,36,36)",
              "ticks": "outside"
             }
            },
            "type": "scatterpolargl"
           }
          ],
          "scatterternary": [
           {
            "marker": {
             "colorbar": {
              "outlinewidth": 1,
              "tickcolor": "rgb(36,36,36)",
              "ticks": "outside"
             }
            },
            "type": "scatterternary"
           }
          ],
          "surface": [
           {
            "colorbar": {
             "outlinewidth": 1,
             "tickcolor": "rgb(36,36,36)",
             "ticks": "outside"
            },
            "colorscale": [
             [
              0,
              "#440154"
             ],
             [
              0.1111111111111111,
              "#482878"
             ],
             [
              0.2222222222222222,
              "#3e4989"
             ],
             [
              0.3333333333333333,
              "#31688e"
             ],
             [
              0.4444444444444444,
              "#26828e"
             ],
             [
              0.5555555555555556,
              "#1f9e89"
             ],
             [
              0.6666666666666666,
              "#35b779"
             ],
             [
              0.7777777777777778,
              "#6ece58"
             ],
             [
              0.8888888888888888,
              "#b5de2b"
             ],
             [
              1,
              "#fde725"
             ]
            ],
            "type": "surface"
           }
          ],
          "table": [
           {
            "cells": {
             "fill": {
              "color": "rgb(237,237,237)"
             },
             "line": {
              "color": "white"
             }
            },
            "header": {
             "fill": {
              "color": "rgb(217,217,217)"
             },
             "line": {
              "color": "white"
             }
            },
            "type": "table"
           }
          ]
         },
         "layout": {
          "annotationdefaults": {
           "arrowhead": 0,
           "arrowwidth": 1
          },
          "autotypenumbers": "strict",
          "coloraxis": {
           "colorbar": {
            "outlinewidth": 1,
            "tickcolor": "rgb(36,36,36)",
            "ticks": "outside"
           }
          },
          "colorscale": {
           "diverging": [
            [
             0,
             "rgb(103,0,31)"
            ],
            [
             0.1,
             "rgb(178,24,43)"
            ],
            [
             0.2,
             "rgb(214,96,77)"
            ],
            [
             0.3,
             "rgb(244,165,130)"
            ],
            [
             0.4,
             "rgb(253,219,199)"
            ],
            [
             0.5,
             "rgb(247,247,247)"
            ],
            [
             0.6,
             "rgb(209,229,240)"
            ],
            [
             0.7,
             "rgb(146,197,222)"
            ],
            [
             0.8,
             "rgb(67,147,195)"
            ],
            [
             0.9,
             "rgb(33,102,172)"
            ],
            [
             1,
             "rgb(5,48,97)"
            ]
           ],
           "sequential": [
            [
             0,
             "#440154"
            ],
            [
             0.1111111111111111,
             "#482878"
            ],
            [
             0.2222222222222222,
             "#3e4989"
            ],
            [
             0.3333333333333333,
             "#31688e"
            ],
            [
             0.4444444444444444,
             "#26828e"
            ],
            [
             0.5555555555555556,
             "#1f9e89"
            ],
            [
             0.6666666666666666,
             "#35b779"
            ],
            [
             0.7777777777777778,
             "#6ece58"
            ],
            [
             0.8888888888888888,
             "#b5de2b"
            ],
            [
             1,
             "#fde725"
            ]
           ],
           "sequentialminus": [
            [
             0,
             "#440154"
            ],
            [
             0.1111111111111111,
             "#482878"
            ],
            [
             0.2222222222222222,
             "#3e4989"
            ],
            [
             0.3333333333333333,
             "#31688e"
            ],
            [
             0.4444444444444444,
             "#26828e"
            ],
            [
             0.5555555555555556,
             "#1f9e89"
            ],
            [
             0.6666666666666666,
             "#35b779"
            ],
            [
             0.7777777777777778,
             "#6ece58"
            ],
            [
             0.8888888888888888,
             "#b5de2b"
            ],
            [
             1,
             "#fde725"
            ]
           ]
          },
          "colorway": [
           "#1F77B4",
           "#FF7F0E",
           "#2CA02C",
           "#D62728",
           "#9467BD",
           "#8C564B",
           "#E377C2",
           "#7F7F7F",
           "#BCBD22",
           "#17BECF"
          ],
          "font": {
           "color": "rgb(36,36,36)"
          },
          "geo": {
           "bgcolor": "white",
           "lakecolor": "white",
           "landcolor": "white",
           "showlakes": true,
           "showland": true,
           "subunitcolor": "white"
          },
          "hoverlabel": {
           "align": "left"
          },
          "hovermode": "closest",
          "mapbox": {
           "style": "light"
          },
          "paper_bgcolor": "white",
          "plot_bgcolor": "white",
          "polar": {
           "angularaxis": {
            "gridcolor": "rgb(232,232,232)",
            "linecolor": "rgb(36,36,36)",
            "showgrid": false,
            "showline": true,
            "ticks": "outside"
           },
           "bgcolor": "white",
           "radialaxis": {
            "gridcolor": "rgb(232,232,232)",
            "linecolor": "rgb(36,36,36)",
            "showgrid": false,
            "showline": true,
            "ticks": "outside"
           }
          },
          "scene": {
           "xaxis": {
            "backgroundcolor": "white",
            "gridcolor": "rgb(232,232,232)",
            "gridwidth": 2,
            "linecolor": "rgb(36,36,36)",
            "showbackground": true,
            "showgrid": false,
            "showline": true,
            "ticks": "outside",
            "zeroline": false,
            "zerolinecolor": "rgb(36,36,36)"
           },
           "yaxis": {
            "backgroundcolor": "white",
            "gridcolor": "rgb(232,232,232)",
            "gridwidth": 2,
            "linecolor": "rgb(36,36,36)",
            "showbackground": true,
            "showgrid": false,
            "showline": true,
            "ticks": "outside",
            "zeroline": false,
            "zerolinecolor": "rgb(36,36,36)"
           },
           "zaxis": {
            "backgroundcolor": "white",
            "gridcolor": "rgb(232,232,232)",
            "gridwidth": 2,
            "linecolor": "rgb(36,36,36)",
            "showbackground": true,
            "showgrid": false,
            "showline": true,
            "ticks": "outside",
            "zeroline": false,
            "zerolinecolor": "rgb(36,36,36)"
           }
          },
          "shapedefaults": {
           "fillcolor": "black",
           "line": {
            "width": 0
           },
           "opacity": 0.3
          },
          "ternary": {
           "aaxis": {
            "gridcolor": "rgb(232,232,232)",
            "linecolor": "rgb(36,36,36)",
            "showgrid": false,
            "showline": true,
            "ticks": "outside"
           },
           "baxis": {
            "gridcolor": "rgb(232,232,232)",
            "linecolor": "rgb(36,36,36)",
            "showgrid": false,
            "showline": true,
            "ticks": "outside"
           },
           "bgcolor": "white",
           "caxis": {
            "gridcolor": "rgb(232,232,232)",
            "linecolor": "rgb(36,36,36)",
            "showgrid": false,
            "showline": true,
            "ticks": "outside"
           }
          },
          "title": {
           "x": 0.05
          },
          "xaxis": {
           "automargin": true,
           "gridcolor": "rgb(232,232,232)",
           "linecolor": "rgb(36,36,36)",
           "showgrid": false,
           "showline": true,
           "ticks": "outside",
           "title": {
            "standoff": 15
           },
           "zeroline": false,
           "zerolinecolor": "rgb(36,36,36)"
          },
          "yaxis": {
           "automargin": true,
           "gridcolor": "rgb(232,232,232)",
           "linecolor": "rgb(36,36,36)",
           "showgrid": false,
           "showline": true,
           "ticks": "outside",
           "title": {
            "standoff": 15
           },
           "zeroline": false,
           "zerolinecolor": "rgb(36,36,36)"
          }
         }
        },
        "title": {
         "font": {
          "color": "Black",
          "size": 22
         },
         "text": "Topics Over Time for 2019Q4",
         "x": 0.4,
         "xanchor": "center",
         "y": 0.95,
         "yanchor": "top"
        },
        "width": 1250,
        "xaxis": {
         "showgrid": true
        },
        "yaxis": {
         "showgrid": true,
         "title": {
          "text": "Frequency"
         }
        }
       }
      }
     },
     "metadata": {},
     "output_type": "display_data"
    },
    {
     "data": {
      "application/vnd.plotly.v1+json": {
       "config": {
        "plotlyServerURL": "https://plot.ly"
       },
       "data": [
        {
         "hoverinfo": "text",
         "hovertext": [
          "<b>Topic 0</b><br>Words: klaim, dprd, sinkron, minta, islam",
          "<b>Topic 0</b><br>Words: minta, pemda, gerak, cepat, baru",
          "<b>Topic 0</b><br>Words: minta, islam, cegah, pemda, ikut",
          "<b>Topic 0</b><br>Words: minta, islam, cegah, pemda, ikut",
          "<b>Topic 0</b><br>Words: minta, ikut, papua, agama, lembaga"
         ],
         "marker": {
          "color": "#E69F00"
         },
         "mode": "lines",
         "name": "0_minta_islam_cegah_pemda",
         "type": "scatter",
         "x": [
          "2020-01-07T22:49:31+00:00",
          "2020-01-25T16:17:55+00:00",
          "2020-03-12T22:53:39+00:00",
          "2020-03-15T21:48:23+00:00",
          "2020-03-27T17:27:19+00:00"
         ],
         "y": [
          1,
          1,
          13,
          11,
          1
         ]
        },
        {
         "hoverinfo": "text",
         "hovertext": [
          "<b>Topic 1</b><br>Words: integrasi, kemendikbud, ubah, sinkron, jalur",
          "<b>Topic 1</b><br>Words: malaysia, mundur, kritik, habis, menteri",
          "<b>Topic 1</b><br>Words: menteri, sekolah, ajar, jateng, merdeka",
          "<b>Topic 1</b><br>Words: anies, banyak, anggar, ibu, bapak",
          "<b>Topic 1</b><br>Words: jago, formal, ilmu, arah, non",
          "<b>Topic 1</b><br>Words: anti, nadiem, lingkung, masuk, budaya",
          "<b>Topic 1</b><br>Words: zonasi, kena, wapres, dokter, malang",
          "<b>Topic 1</b><br>Words: merdeka, ajar, kampus, nadiem, luncur",
          "<b>Topic 1</b><br>Words: tinggi, merdeka, nadiem, kampus, ajar",
          "<b>Topic 1</b><br>Words: merdeka, kampus, nadiem, makarim, menteri",
          "<b>Topic 1</b><br>Words: vokasi, nadiem, merdeka, menteri, kampus",
          "<b>Topic 1</b><br>Words: merdeka, ajar, pangan, atas, nadiem",
          "<b>Topic 1</b><br>Words: buku, analisis, merdeka, kampus, jadi",
          "<b>Topic 1</b><br>Words: menteri, sekolah, merdeka, dana, budaya",
          "<b>Topic 1</b><br>Words: jadi, budaya, sekolah, merdeka, ajar",
          "<b>Topic 1</b><br>Words: merdeka, nadiem, menteri, ajar, sekolah",
          "<b>Topic 1</b><br>Words: bayar, spp, menteri, gojek, sekolah",
          "<b>Topic 1</b><br>Words: menteri, sekolah, nadiem, get, me",
          "<b>Topic 1</b><br>Words: merdeka, menteri, kalau, kampus, kepala",
          "<b>Topic 1</b><br>Words: tahun, sptv, jombang, isdianto, menyamaratakan",
          "<b>Topic 1</b><br>Words: merdeka, guru, ajar, sekolah, menteri",
          "<b>Topic 1</b><br>Words: merdeka, kampus, semua, menteri, bedah",
          "<b>Topic 1</b><br>Words: merdeka, asing, tak, kampus, dunia",
          "<b>Topic 1</b><br>Words: libur, sekolah, virus, perintah, corona",
          "<b>Topic 1</b><br>Words: libur, perintah, ajar, sekolah, corona",
          "<b>Topic 1</b><br>Words: pasuruan, kota, ajar, guru, merdeka",
          "<b>Topic 1</b><br>Words: covid, masa, darurat, sebar, laksana",
          "<b>Topic 1</b><br>Words: covid, masa, laksana, darurat, surat",
          "<b>Topic 1</b><br>Words: ajar, edar, darurat, surat, covid"
         ],
         "marker": {
          "color": "#56B4E9"
         },
         "mode": "lines",
         "name": "1_merdeka_ajar_menteri_nadiem",
         "type": "scatter",
         "x": [
          "2020-01-01T22:52:24.480000+00:00",
          "2020-01-04T23:54:47+00:00",
          "2020-01-07T22:49:31+00:00",
          "2020-01-10T21:44:15+00:00",
          "2020-01-13T20:38:59+00:00",
          "2020-01-16T19:33:43+00:00",
          "2020-01-19T18:28:27+00:00",
          "2020-01-22T17:23:11+00:00",
          "2020-01-25T16:17:55+00:00",
          "2020-01-28T15:12:39+00:00",
          "2020-01-31T14:07:23+00:00",
          "2020-02-03T13:02:07+00:00",
          "2020-02-06T11:56:51+00:00",
          "2020-02-09T10:51:35+00:00",
          "2020-02-12T09:46:19+00:00",
          "2020-02-15T08:41:03+00:00",
          "2020-02-18T07:35:47+00:00",
          "2020-02-21T06:30:31+00:00",
          "2020-02-24T05:25:15+00:00",
          "2020-02-27T04:19:59+00:00",
          "2020-03-01T03:14:43+00:00",
          "2020-03-04T02:09:27+00:00",
          "2020-03-09T23:58:55+00:00",
          "2020-03-12T22:53:39+00:00",
          "2020-03-15T21:48:23+00:00",
          "2020-03-18T20:43:07+00:00",
          "2020-03-21T19:37:51+00:00",
          "2020-03-24T18:32:35+00:00",
          "2020-03-27T17:27:19+00:00"
         ],
         "y": [
          14,
          14,
          12,
          7,
          17,
          7,
          9,
          27,
          47,
          26,
          14,
          18,
          12,
          23,
          19,
          27,
          23,
          21,
          15,
          4,
          12,
          20,
          18,
          13,
          29,
          22,
          53,
          79,
          33
         ]
        }
       ],
       "layout": {
        "height": 450,
        "hoverlabel": {
         "bgcolor": "white",
         "font": {
          "family": "Rockwell",
          "size": 16
         }
        },
        "legend": {
         "title": {
          "text": "<b>Global Topic Representation"
         }
        },
        "template": {
         "data": {
          "bar": [
           {
            "error_x": {
             "color": "rgb(36,36,36)"
            },
            "error_y": {
             "color": "rgb(36,36,36)"
            },
            "marker": {
             "line": {
              "color": "white",
              "width": 0.5
             },
             "pattern": {
              "fillmode": "overlay",
              "size": 10,
              "solidity": 0.2
             }
            },
            "type": "bar"
           }
          ],
          "barpolar": [
           {
            "marker": {
             "line": {
              "color": "white",
              "width": 0.5
             },
             "pattern": {
              "fillmode": "overlay",
              "size": 10,
              "solidity": 0.2
             }
            },
            "type": "barpolar"
           }
          ],
          "carpet": [
           {
            "aaxis": {
             "endlinecolor": "rgb(36,36,36)",
             "gridcolor": "white",
             "linecolor": "white",
             "minorgridcolor": "white",
             "startlinecolor": "rgb(36,36,36)"
            },
            "baxis": {
             "endlinecolor": "rgb(36,36,36)",
             "gridcolor": "white",
             "linecolor": "white",
             "minorgridcolor": "white",
             "startlinecolor": "rgb(36,36,36)"
            },
            "type": "carpet"
           }
          ],
          "choropleth": [
           {
            "colorbar": {
             "outlinewidth": 1,
             "tickcolor": "rgb(36,36,36)",
             "ticks": "outside"
            },
            "type": "choropleth"
           }
          ],
          "contour": [
           {
            "colorbar": {
             "outlinewidth": 1,
             "tickcolor": "rgb(36,36,36)",
             "ticks": "outside"
            },
            "colorscale": [
             [
              0,
              "#440154"
             ],
             [
              0.1111111111111111,
              "#482878"
             ],
             [
              0.2222222222222222,
              "#3e4989"
             ],
             [
              0.3333333333333333,
              "#31688e"
             ],
             [
              0.4444444444444444,
              "#26828e"
             ],
             [
              0.5555555555555556,
              "#1f9e89"
             ],
             [
              0.6666666666666666,
              "#35b779"
             ],
             [
              0.7777777777777778,
              "#6ece58"
             ],
             [
              0.8888888888888888,
              "#b5de2b"
             ],
             [
              1,
              "#fde725"
             ]
            ],
            "type": "contour"
           }
          ],
          "contourcarpet": [
           {
            "colorbar": {
             "outlinewidth": 1,
             "tickcolor": "rgb(36,36,36)",
             "ticks": "outside"
            },
            "type": "contourcarpet"
           }
          ],
          "heatmap": [
           {
            "colorbar": {
             "outlinewidth": 1,
             "tickcolor": "rgb(36,36,36)",
             "ticks": "outside"
            },
            "colorscale": [
             [
              0,
              "#440154"
             ],
             [
              0.1111111111111111,
              "#482878"
             ],
             [
              0.2222222222222222,
              "#3e4989"
             ],
             [
              0.3333333333333333,
              "#31688e"
             ],
             [
              0.4444444444444444,
              "#26828e"
             ],
             [
              0.5555555555555556,
              "#1f9e89"
             ],
             [
              0.6666666666666666,
              "#35b779"
             ],
             [
              0.7777777777777778,
              "#6ece58"
             ],
             [
              0.8888888888888888,
              "#b5de2b"
             ],
             [
              1,
              "#fde725"
             ]
            ],
            "type": "heatmap"
           }
          ],
          "heatmapgl": [
           {
            "colorbar": {
             "outlinewidth": 1,
             "tickcolor": "rgb(36,36,36)",
             "ticks": "outside"
            },
            "colorscale": [
             [
              0,
              "#440154"
             ],
             [
              0.1111111111111111,
              "#482878"
             ],
             [
              0.2222222222222222,
              "#3e4989"
             ],
             [
              0.3333333333333333,
              "#31688e"
             ],
             [
              0.4444444444444444,
              "#26828e"
             ],
             [
              0.5555555555555556,
              "#1f9e89"
             ],
             [
              0.6666666666666666,
              "#35b779"
             ],
             [
              0.7777777777777778,
              "#6ece58"
             ],
             [
              0.8888888888888888,
              "#b5de2b"
             ],
             [
              1,
              "#fde725"
             ]
            ],
            "type": "heatmapgl"
           }
          ],
          "histogram": [
           {
            "marker": {
             "line": {
              "color": "white",
              "width": 0.6
             }
            },
            "type": "histogram"
           }
          ],
          "histogram2d": [
           {
            "colorbar": {
             "outlinewidth": 1,
             "tickcolor": "rgb(36,36,36)",
             "ticks": "outside"
            },
            "colorscale": [
             [
              0,
              "#440154"
             ],
             [
              0.1111111111111111,
              "#482878"
             ],
             [
              0.2222222222222222,
              "#3e4989"
             ],
             [
              0.3333333333333333,
              "#31688e"
             ],
             [
              0.4444444444444444,
              "#26828e"
             ],
             [
              0.5555555555555556,
              "#1f9e89"
             ],
             [
              0.6666666666666666,
              "#35b779"
             ],
             [
              0.7777777777777778,
              "#6ece58"
             ],
             [
              0.8888888888888888,
              "#b5de2b"
             ],
             [
              1,
              "#fde725"
             ]
            ],
            "type": "histogram2d"
           }
          ],
          "histogram2dcontour": [
           {
            "colorbar": {
             "outlinewidth": 1,
             "tickcolor": "rgb(36,36,36)",
             "ticks": "outside"
            },
            "colorscale": [
             [
              0,
              "#440154"
             ],
             [
              0.1111111111111111,
              "#482878"
             ],
             [
              0.2222222222222222,
              "#3e4989"
             ],
             [
              0.3333333333333333,
              "#31688e"
             ],
             [
              0.4444444444444444,
              "#26828e"
             ],
             [
              0.5555555555555556,
              "#1f9e89"
             ],
             [
              0.6666666666666666,
              "#35b779"
             ],
             [
              0.7777777777777778,
              "#6ece58"
             ],
             [
              0.8888888888888888,
              "#b5de2b"
             ],
             [
              1,
              "#fde725"
             ]
            ],
            "type": "histogram2dcontour"
           }
          ],
          "mesh3d": [
           {
            "colorbar": {
             "outlinewidth": 1,
             "tickcolor": "rgb(36,36,36)",
             "ticks": "outside"
            },
            "type": "mesh3d"
           }
          ],
          "parcoords": [
           {
            "line": {
             "colorbar": {
              "outlinewidth": 1,
              "tickcolor": "rgb(36,36,36)",
              "ticks": "outside"
             }
            },
            "type": "parcoords"
           }
          ],
          "pie": [
           {
            "automargin": true,
            "type": "pie"
           }
          ],
          "scatter": [
           {
            "fillpattern": {
             "fillmode": "overlay",
             "size": 10,
             "solidity": 0.2
            },
            "type": "scatter"
           }
          ],
          "scatter3d": [
           {
            "line": {
             "colorbar": {
              "outlinewidth": 1,
              "tickcolor": "rgb(36,36,36)",
              "ticks": "outside"
             }
            },
            "marker": {
             "colorbar": {
              "outlinewidth": 1,
              "tickcolor": "rgb(36,36,36)",
              "ticks": "outside"
             }
            },
            "type": "scatter3d"
           }
          ],
          "scattercarpet": [
           {
            "marker": {
             "colorbar": {
              "outlinewidth": 1,
              "tickcolor": "rgb(36,36,36)",
              "ticks": "outside"
             }
            },
            "type": "scattercarpet"
           }
          ],
          "scattergeo": [
           {
            "marker": {
             "colorbar": {
              "outlinewidth": 1,
              "tickcolor": "rgb(36,36,36)",
              "ticks": "outside"
             }
            },
            "type": "scattergeo"
           }
          ],
          "scattergl": [
           {
            "marker": {
             "colorbar": {
              "outlinewidth": 1,
              "tickcolor": "rgb(36,36,36)",
              "ticks": "outside"
             }
            },
            "type": "scattergl"
           }
          ],
          "scattermapbox": [
           {
            "marker": {
             "colorbar": {
              "outlinewidth": 1,
              "tickcolor": "rgb(36,36,36)",
              "ticks": "outside"
             }
            },
            "type": "scattermapbox"
           }
          ],
          "scatterpolar": [
           {
            "marker": {
             "colorbar": {
              "outlinewidth": 1,
              "tickcolor": "rgb(36,36,36)",
              "ticks": "outside"
             }
            },
            "type": "scatterpolar"
           }
          ],
          "scatterpolargl": [
           {
            "marker": {
             "colorbar": {
              "outlinewidth": 1,
              "tickcolor": "rgb(36,36,36)",
              "ticks": "outside"
             }
            },
            "type": "scatterpolargl"
           }
          ],
          "scatterternary": [
           {
            "marker": {
             "colorbar": {
              "outlinewidth": 1,
              "tickcolor": "rgb(36,36,36)",
              "ticks": "outside"
             }
            },
            "type": "scatterternary"
           }
          ],
          "surface": [
           {
            "colorbar": {
             "outlinewidth": 1,
             "tickcolor": "rgb(36,36,36)",
             "ticks": "outside"
            },
            "colorscale": [
             [
              0,
              "#440154"
             ],
             [
              0.1111111111111111,
              "#482878"
             ],
             [
              0.2222222222222222,
              "#3e4989"
             ],
             [
              0.3333333333333333,
              "#31688e"
             ],
             [
              0.4444444444444444,
              "#26828e"
             ],
             [
              0.5555555555555556,
              "#1f9e89"
             ],
             [
              0.6666666666666666,
              "#35b779"
             ],
             [
              0.7777777777777778,
              "#6ece58"
             ],
             [
              0.8888888888888888,
              "#b5de2b"
             ],
             [
              1,
              "#fde725"
             ]
            ],
            "type": "surface"
           }
          ],
          "table": [
           {
            "cells": {
             "fill": {
              "color": "rgb(237,237,237)"
             },
             "line": {
              "color": "white"
             }
            },
            "header": {
             "fill": {
              "color": "rgb(217,217,217)"
             },
             "line": {
              "color": "white"
             }
            },
            "type": "table"
           }
          ]
         },
         "layout": {
          "annotationdefaults": {
           "arrowhead": 0,
           "arrowwidth": 1
          },
          "autotypenumbers": "strict",
          "coloraxis": {
           "colorbar": {
            "outlinewidth": 1,
            "tickcolor": "rgb(36,36,36)",
            "ticks": "outside"
           }
          },
          "colorscale": {
           "diverging": [
            [
             0,
             "rgb(103,0,31)"
            ],
            [
             0.1,
             "rgb(178,24,43)"
            ],
            [
             0.2,
             "rgb(214,96,77)"
            ],
            [
             0.3,
             "rgb(244,165,130)"
            ],
            [
             0.4,
             "rgb(253,219,199)"
            ],
            [
             0.5,
             "rgb(247,247,247)"
            ],
            [
             0.6,
             "rgb(209,229,240)"
            ],
            [
             0.7,
             "rgb(146,197,222)"
            ],
            [
             0.8,
             "rgb(67,147,195)"
            ],
            [
             0.9,
             "rgb(33,102,172)"
            ],
            [
             1,
             "rgb(5,48,97)"
            ]
           ],
           "sequential": [
            [
             0,
             "#440154"
            ],
            [
             0.1111111111111111,
             "#482878"
            ],
            [
             0.2222222222222222,
             "#3e4989"
            ],
            [
             0.3333333333333333,
             "#31688e"
            ],
            [
             0.4444444444444444,
             "#26828e"
            ],
            [
             0.5555555555555556,
             "#1f9e89"
            ],
            [
             0.6666666666666666,
             "#35b779"
            ],
            [
             0.7777777777777778,
             "#6ece58"
            ],
            [
             0.8888888888888888,
             "#b5de2b"
            ],
            [
             1,
             "#fde725"
            ]
           ],
           "sequentialminus": [
            [
             0,
             "#440154"
            ],
            [
             0.1111111111111111,
             "#482878"
            ],
            [
             0.2222222222222222,
             "#3e4989"
            ],
            [
             0.3333333333333333,
             "#31688e"
            ],
            [
             0.4444444444444444,
             "#26828e"
            ],
            [
             0.5555555555555556,
             "#1f9e89"
            ],
            [
             0.6666666666666666,
             "#35b779"
            ],
            [
             0.7777777777777778,
             "#6ece58"
            ],
            [
             0.8888888888888888,
             "#b5de2b"
            ],
            [
             1,
             "#fde725"
            ]
           ]
          },
          "colorway": [
           "#1F77B4",
           "#FF7F0E",
           "#2CA02C",
           "#D62728",
           "#9467BD",
           "#8C564B",
           "#E377C2",
           "#7F7F7F",
           "#BCBD22",
           "#17BECF"
          ],
          "font": {
           "color": "rgb(36,36,36)"
          },
          "geo": {
           "bgcolor": "white",
           "lakecolor": "white",
           "landcolor": "white",
           "showlakes": true,
           "showland": true,
           "subunitcolor": "white"
          },
          "hoverlabel": {
           "align": "left"
          },
          "hovermode": "closest",
          "mapbox": {
           "style": "light"
          },
          "paper_bgcolor": "white",
          "plot_bgcolor": "white",
          "polar": {
           "angularaxis": {
            "gridcolor": "rgb(232,232,232)",
            "linecolor": "rgb(36,36,36)",
            "showgrid": false,
            "showline": true,
            "ticks": "outside"
           },
           "bgcolor": "white",
           "radialaxis": {
            "gridcolor": "rgb(232,232,232)",
            "linecolor": "rgb(36,36,36)",
            "showgrid": false,
            "showline": true,
            "ticks": "outside"
           }
          },
          "scene": {
           "xaxis": {
            "backgroundcolor": "white",
            "gridcolor": "rgb(232,232,232)",
            "gridwidth": 2,
            "linecolor": "rgb(36,36,36)",
            "showbackground": true,
            "showgrid": false,
            "showline": true,
            "ticks": "outside",
            "zeroline": false,
            "zerolinecolor": "rgb(36,36,36)"
           },
           "yaxis": {
            "backgroundcolor": "white",
            "gridcolor": "rgb(232,232,232)",
            "gridwidth": 2,
            "linecolor": "rgb(36,36,36)",
            "showbackground": true,
            "showgrid": false,
            "showline": true,
            "ticks": "outside",
            "zeroline": false,
            "zerolinecolor": "rgb(36,36,36)"
           },
           "zaxis": {
            "backgroundcolor": "white",
            "gridcolor": "rgb(232,232,232)",
            "gridwidth": 2,
            "linecolor": "rgb(36,36,36)",
            "showbackground": true,
            "showgrid": false,
            "showline": true,
            "ticks": "outside",
            "zeroline": false,
            "zerolinecolor": "rgb(36,36,36)"
           }
          },
          "shapedefaults": {
           "fillcolor": "black",
           "line": {
            "width": 0
           },
           "opacity": 0.3
          },
          "ternary": {
           "aaxis": {
            "gridcolor": "rgb(232,232,232)",
            "linecolor": "rgb(36,36,36)",
            "showgrid": false,
            "showline": true,
            "ticks": "outside"
           },
           "baxis": {
            "gridcolor": "rgb(232,232,232)",
            "linecolor": "rgb(36,36,36)",
            "showgrid": false,
            "showline": true,
            "ticks": "outside"
           },
           "bgcolor": "white",
           "caxis": {
            "gridcolor": "rgb(232,232,232)",
            "linecolor": "rgb(36,36,36)",
            "showgrid": false,
            "showline": true,
            "ticks": "outside"
           }
          },
          "title": {
           "x": 0.05
          },
          "xaxis": {
           "automargin": true,
           "gridcolor": "rgb(232,232,232)",
           "linecolor": "rgb(36,36,36)",
           "showgrid": false,
           "showline": true,
           "ticks": "outside",
           "title": {
            "standoff": 15
           },
           "zeroline": false,
           "zerolinecolor": "rgb(36,36,36)"
          },
          "yaxis": {
           "automargin": true,
           "gridcolor": "rgb(232,232,232)",
           "linecolor": "rgb(36,36,36)",
           "showgrid": false,
           "showline": true,
           "ticks": "outside",
           "title": {
            "standoff": 15
           },
           "zeroline": false,
           "zerolinecolor": "rgb(36,36,36)"
          }
         }
        },
        "title": {
         "font": {
          "color": "Black",
          "size": 22
         },
         "text": "Topics Over Time for 2020Q1",
         "x": 0.4,
         "xanchor": "center",
         "y": 0.95,
         "yanchor": "top"
        },
        "width": 1250,
        "xaxis": {
         "showgrid": true
        },
        "yaxis": {
         "showgrid": true,
         "title": {
          "text": "Frequency"
         }
        }
       }
      }
     },
     "metadata": {},
     "output_type": "display_data"
    },
    {
     "data": {
      "application/vnd.plotly.v1+json": {
       "config": {
        "plotlyServerURL": "https://plot.ly"
       },
       "data": [
        {
         "hoverinfo": "text",
         "hovertext": [
          "<b>Topic 0</b><br>Words: enggak, perintah, covid, guru, baru",
          "<b>Topic 0</b><br>Words: lbp, amp, urus, luar, negeri",
          "<b>Topic 0</b><br>Words: muridmurid, mtsma, maksimal, sekalipun, kerja",
          "<b>Topic 0</b><br>Words: budaya, karantina, otgodp, kendal, bontang",
          "<b>Topic 0</b><br>Words: kurung, sanksi, cabut, kjp, keluar",
          "<b>Topic 0</b><br>Words: ikn, infrastruktur, maju, bangun, bangsa",
          "<b>Topic 0</b><br>Words: tangan, politik, kota, file, proteksi",
          "<b>Topic 0</b><br>Words: gebrak, tggu, sosok, siapa, alami",
          "<b>Topic 0</b><br>Words: amp, gol, medis, perempuan, jodo",
          "<b>Topic 0</b><br>Words: mahasiswa, beri, buat, kbm, belajarmengajar",
          "<b>Topic 0</b><br>Words: nasional, hari, mahasiswa, selamat, undip",
          "<b>Topic 0</b><br>Words: akademi, sangsi, edukreator, baru, ajar",
          "<b>Topic 0</b><br>Words: insan, bebas, gulir, beri, nadiem",
          "<b>Topic 0</b><br>Words: ntt, ragu, sertifikasi, pilar, handal",
          "<b>Topic 0</b><br>Words: aco, aktivitas, bpjs, batas, orangorang",
          "<b>Topic 0</b><br>Words: manajemen, pil, uny, unj, buat",
          "<b>Topic 0</b><br>Words: mungkin, menteri, kesel, hi, prank",
          "<b>Topic 0</b><br>Words: paham, jelas, masyarakat, perlu, kacaubalau",
          "<b>Topic 0</b><br>Words: pkb, baru, perhati, ajar, normal",
          "<b>Topic 0</b><br>Words: wisuda, dunia, normal, vokasi, banjarmasin",
          "<b>Topic 0</b><br>Words: normal, enggak, ukt, pak, kampus",
          "<b>Topic 0</b><br>Words: mas, sekolah, ukt, buat, bawah",
          "<b>Topic 0</b><br>Words: perintah, buat, spp, jadi, usul",
          "<b>Topic 0</b><br>Words: normal, perintah, new, baik, sektor",
          "<b>Topic 0</b><br>Words: undang, batas, adil, penting, sama",
          "<b>Topic 0</b><br>Words: covid, pandemi, perintah, sekolah, ajar",
          "<b>Topic 0</b><br>Words: ajar, budaya, mahasiswa, baik, indonesia",
          "<b>Topic 0</b><br>Words: ukt, mahasiswa, menteri, dukung, kait",
          "<b>Topic 0</b><br>Words: usia, dki, ppdb, jakarta, sama",
          "<b>Topic 0</b><br>Words: zonasi, sekolah, anak, layan, kontra"
         ],
         "marker": {
          "color": "#E69F00"
         },
         "mode": "lines",
         "name": "0_perintah_mahasiswa_menteri_baru",
         "type": "scatter",
         "x": [
          "2020-04-02T10:33:33.067000+00:00",
          "2020-04-05T11:25:17.433333+00:00",
          "2020-04-08T10:09:41.866666+00:00",
          "2020-04-11T08:54:06.300000+00:00",
          "2020-04-14T07:38:30.733333+00:00",
          "2020-04-17T06:22:55.166666+00:00",
          "2020-04-20T05:07:19.600000+00:00",
          "2020-04-23T03:51:44.033333+00:00",
          "2020-04-26T02:36:08.466666+00:00",
          "2020-04-29T01:20:32.900000+00:00",
          "2020-05-02T00:04:57.333333+00:00",
          "2020-05-04T22:49:21.766666+00:00",
          "2020-05-07T21:33:46.200000+00:00",
          "2020-05-10T20:18:10.633333+00:00",
          "2020-05-13T19:02:35.066666+00:00",
          "2020-05-16T17:46:59.500000+00:00",
          "2020-05-19T16:31:23.933333+00:00",
          "2020-05-22T15:15:48.366666+00:00",
          "2020-05-25T14:00:12.800000+00:00",
          "2020-05-28T12:44:37.233333+00:00",
          "2020-05-31T11:29:01.666666+00:00",
          "2020-06-03T10:13:26.100000+00:00",
          "2020-06-06T08:57:50.533333+00:00",
          "2020-06-09T07:42:14.966666+00:00",
          "2020-06-12T06:26:39.400000+00:00",
          "2020-06-15T05:11:03.833333+00:00",
          "2020-06-18T03:55:28.266666+00:00",
          "2020-06-21T02:39:52.700000+00:00",
          "2020-06-24T01:24:17.133333+00:00",
          "2020-06-27T00:08:41.566666+00:00"
         ],
         "y": [
          17,
          10,
          7,
          8,
          1,
          5,
          12,
          1,
          8,
          10,
          47,
          7,
          13,
          8,
          8,
          15,
          9,
          2,
          25,
          13,
          46,
          36,
          33,
          49,
          25,
          101,
          33,
          49,
          61,
          23
         ]
        },
        {
         "hoverinfo": "text",
         "hovertext": [
          "<b>Topic 1</b><br>Words: rebalancing, pandemik, masa, covid, pandemi",
          "<b>Topic 1</b><br>Words: lama, masa, darurat, laksana, covid",
          "<b>Topic 1</b><br>Words: ilmu, perlu, masa, pandemi, ubah",
          "<b>Topic 1</b><br>Words: ubah, lama, pandemi, covid, masa",
          "<b>Topic 1</b><br>Words: ini, ubah, lama, masa, pandemi",
          "<b>Topic 1</b><br>Words: timlo, net, ubah, lama, masa",
          "<b>Topic 1</b><br>Words: perintah, masa, pandemi, ubah, lama",
          "<b>Topic 1</b><br>Words: masa, pandemi, covid, resmi, tahu",
          "<b>Topic 1</b><br>Words: tengah, pandemi, covid, masa, ubah",
          "<b>Topic 1</b><br>Words: prinsip, masa, pandemi, ubah, lama",
          "<b>Topic 1</b><br>Words: intensif, awal, masa, pandemi, demokrat"
         ],
         "marker": {
          "color": "#56B4E9"
         },
         "mode": "lines",
         "name": "1_masa_pandemi_ubah_lama",
         "type": "scatter",
         "x": [
          "2020-04-08T10:09:41.866666+00:00",
          "2020-04-29T01:20:32.900000+00:00",
          "2020-05-07T21:33:46.200000+00:00",
          "2020-05-13T19:02:35.066666+00:00",
          "2020-05-16T17:46:59.500000+00:00",
          "2020-05-19T16:31:23.933333+00:00",
          "2020-05-28T12:44:37.233333+00:00",
          "2020-06-15T05:11:03.833333+00:00",
          "2020-06-18T03:55:28.266666+00:00",
          "2020-06-21T02:39:52.700000+00:00",
          "2020-06-24T01:24:17.133333+00:00"
         ],
         "y": [
          1,
          1,
          1,
          16,
          3,
          1,
          1,
          8,
          1,
          3,
          6
         ]
        },
        {
         "hoverinfo": "text",
         "hovertext": [
          "<b>Topic 2</b><br>Words: darurat, corona, nomor, masa, timur",
          "<b>Topic 2</b><br>Words: jawa, timur, darurat, disease, panjang",
          "<b>Topic 2</b><br>Words: jawa, timur, darurat, panjang, nomor",
          "<b>Topic 2</b><br>Words: jawa, timur, darurat, nomor, perihal",
          "<b>Topic 2</b><br>Words: panjang, darurat, diy, nomor, gubernur",
          "<b>Topic 2</b><br>Words: timur, jawa, darurat, masa, gubernur",
          "<b>Topic 2</b><br>Words: tana, toraja, bupati, darurat, edar"
         ],
         "marker": {
          "color": "#009E73"
         },
         "mode": "lines",
         "name": "2_timur_jawa_darurat_masa",
         "type": "scatter",
         "x": [
          "2020-04-02T10:33:33.067000+00:00",
          "2020-04-11T08:54:06.300000+00:00",
          "2020-04-17T06:22:55.166666+00:00",
          "2020-04-20T05:07:19.600000+00:00",
          "2020-05-28T12:44:37.233333+00:00",
          "2020-05-31T11:29:01.666666+00:00",
          "2020-06-12T06:26:39.400000+00:00"
         ],
         "y": [
          3,
          1,
          6,
          1,
          10,
          14,
          1
         ]
        },
        {
         "hoverinfo": "text",
         "hovertext": [
          "<b>Topic 3</b><br>Words: dpr, kali, komisi, ulm, fakultas",
          "<b>Topic 3</b><br>Words: vokasi, kemendikbud, dpr, terbit, khusus",
          "<b>Topic 3</b><br>Words: legislator, rumus, dorong, kemendikbud, vokasi",
          "<b>Topic 3</b><br>Words: dpr, dasco, kominfo, sufmi, kemendikbud",
          "<b>Topic 3</b><br>Words: dpr, kali, komisi, pariwisata, pustaka",
          "<b>Topic 3</b><br>Words: dpr, kali, apresiasi, komisi, kemendikbud",
          "<b>Topic 3</b><br>Words: dpr, apresiasi, bantu, kemendikbud, dampak",
          "<b>Topic 3</b><br>Words: dpr, kali, komisi, relaksasi, ri"
         ],
         "marker": {
          "color": "#F0E442"
         },
         "mode": "lines",
         "name": "3_dpr_kali_komisi_kemendikbud",
         "type": "scatter",
         "x": [
          "2020-04-20T05:07:19.600000+00:00",
          "2020-05-04T22:49:21.766666+00:00",
          "2020-05-07T21:33:46.200000+00:00",
          "2020-05-31T11:29:01.666666+00:00",
          "2020-06-15T05:11:03.833333+00:00",
          "2020-06-21T02:39:52.700000+00:00",
          "2020-06-24T01:24:17.133333+00:00",
          "2020-06-27T00:08:41.566666+00:00"
         ],
         "y": [
          1,
          4,
          1,
          2,
          2,
          8,
          2,
          2
         ]
        },
        {
         "hoverinfo": "text",
         "hovertext": [
          "<b>Topic 4</b><br>Words: saran, hendak, kemendikbud, bila, implementasi",
          "<b>Topic 4</b><br>Words: hendak, saran, bila, implementasi, timbang",
          "<b>Topic 4</b><br>Words: hendak, saran, bila, implementasi, timbang",
          "<b>Topic 4</b><br>Words: henti, sama, belajarmengajar, adaptasi, online"
         ],
         "marker": {
          "color": "#D55E00"
         },
         "mode": "lines",
         "name": "4_saran_hendak_bila_implementasi",
         "type": "scatter",
         "x": [
          "2020-06-06T08:57:50.533333+00:00",
          "2020-06-09T07:42:14.966666+00:00",
          "2020-06-12T06:26:39.400000+00:00",
          "2020-06-21T02:39:52.700000+00:00"
         ],
         "y": [
          2,
          8,
          3,
          2
         ]
        },
        {
         "hoverinfo": "text",
         "hovertext": [
          "<b>Topic 5</b><br>Words: lembaga, khusus, sektor, afirmasi, kuat",
          "<b>Topic 5</b><br>Words: afirmasi, godok, pesantren, khusus, sektor",
          "<b>Topic 5</b><br>Words: kuat, pesantren, afirmasi, sektor, perintah",
          "<b>Topic 5</b><br>Words: afirmasi, ulas, tarik, kena, perlu",
          "<b>Topic 5</b><br>Words: sisa, pph, pajak, ditjen, abadi"
         ],
         "marker": {
          "color": "#0072B2"
         },
         "mode": "lines",
         "name": "5_afirmasi_kuat_sektor_pesantren",
         "type": "scatter",
         "x": [
          "2020-05-31T11:29:01.666666+00:00",
          "2020-06-06T08:57:50.533333+00:00",
          "2020-06-09T07:42:14.966666+00:00",
          "2020-06-24T01:24:17.133333+00:00",
          "2020-06-27T00:08:41.566666+00:00"
         ],
         "y": [
          2,
          4,
          4,
          2,
          2
         ]
        },
        {
         "hoverinfo": "text",
         "hovertext": [
          "<b>Topic 6</b><br>Words: ajar, baru, tahun, lik, pandemi",
          "<b>Topic 6</b><br>Words: kala, tilik, baru, pandemi, ajar",
          "<b>Topic 6</b><br>Words: ajar, jarak, ancam, tahun, dekat",
          "<b>Topic 6</b><br>Words: ajar, jarak, ancam, dekat, tahun"
         ],
         "marker": {
          "color": "#CC79A7"
         },
         "mode": "lines",
         "name": "6_ajar_jarak_tahun_ancam",
         "type": "scatter",
         "x": [
          "2020-05-31T11:29:01.666666+00:00",
          "2020-06-15T05:11:03.833333+00:00",
          "2020-06-18T03:55:28.266666+00:00",
          "2020-06-21T02:39:52.700000+00:00"
         ],
         "y": [
          2,
          2,
          6,
          2
         ]
        },
        {
         "hoverinfo": "text",
         "hovertext": [
          "<b>Topic 7</b><br>Words: dokter, siap, era, normal, kemendikbud",
          "<b>Topic 7</b><br>Words: era, normal, new, bingung, dokter"
         ],
         "marker": {
          "color": "#E69F00"
         },
         "mode": "lines",
         "name": "7_era_dokter_normal_siap",
         "type": "scatter",
         "x": [
          "2020-06-06T08:57:50.533333+00:00",
          "2020-06-15T05:11:03.833333+00:00"
         ],
         "y": [
          8,
          4
         ]
        },
        {
         "hoverinfo": "text",
         "hovertext": [
          "<b>Topic 8</b><br>Words: ulm, virtual, dokter, bahas, rapat",
          "<b>Topic 8</b><br>Words: menko, pmk, menag, pondok, umum",
          "<b>Topic 8</b><br>Words: youtube, pondok, umum, pesantren, agama"
         ],
         "marker": {
          "color": "#56B4E9"
         },
         "mode": "lines",
         "name": "8_pondok_menko_umum_pmk",
         "type": "scatter",
         "x": [
          "2020-04-20T05:07:19.600000+00:00",
          "2020-06-12T06:26:39.400000+00:00",
          "2020-06-15T05:11:03.833333+00:00"
         ],
         "y": [
          1,
          8,
          2
         ]
        }
       ],
       "layout": {
        "height": 450,
        "hoverlabel": {
         "bgcolor": "white",
         "font": {
          "family": "Rockwell",
          "size": 16
         }
        },
        "legend": {
         "title": {
          "text": "<b>Global Topic Representation"
         }
        },
        "template": {
         "data": {
          "bar": [
           {
            "error_x": {
             "color": "rgb(36,36,36)"
            },
            "error_y": {
             "color": "rgb(36,36,36)"
            },
            "marker": {
             "line": {
              "color": "white",
              "width": 0.5
             },
             "pattern": {
              "fillmode": "overlay",
              "size": 10,
              "solidity": 0.2
             }
            },
            "type": "bar"
           }
          ],
          "barpolar": [
           {
            "marker": {
             "line": {
              "color": "white",
              "width": 0.5
             },
             "pattern": {
              "fillmode": "overlay",
              "size": 10,
              "solidity": 0.2
             }
            },
            "type": "barpolar"
           }
          ],
          "carpet": [
           {
            "aaxis": {
             "endlinecolor": "rgb(36,36,36)",
             "gridcolor": "white",
             "linecolor": "white",
             "minorgridcolor": "white",
             "startlinecolor": "rgb(36,36,36)"
            },
            "baxis": {
             "endlinecolor": "rgb(36,36,36)",
             "gridcolor": "white",
             "linecolor": "white",
             "minorgridcolor": "white",
             "startlinecolor": "rgb(36,36,36)"
            },
            "type": "carpet"
           }
          ],
          "choropleth": [
           {
            "colorbar": {
             "outlinewidth": 1,
             "tickcolor": "rgb(36,36,36)",
             "ticks": "outside"
            },
            "type": "choropleth"
           }
          ],
          "contour": [
           {
            "colorbar": {
             "outlinewidth": 1,
             "tickcolor": "rgb(36,36,36)",
             "ticks": "outside"
            },
            "colorscale": [
             [
              0,
              "#440154"
             ],
             [
              0.1111111111111111,
              "#482878"
             ],
             [
              0.2222222222222222,
              "#3e4989"
             ],
             [
              0.3333333333333333,
              "#31688e"
             ],
             [
              0.4444444444444444,
              "#26828e"
             ],
             [
              0.5555555555555556,
              "#1f9e89"
             ],
             [
              0.6666666666666666,
              "#35b779"
             ],
             [
              0.7777777777777778,
              "#6ece58"
             ],
             [
              0.8888888888888888,
              "#b5de2b"
             ],
             [
              1,
              "#fde725"
             ]
            ],
            "type": "contour"
           }
          ],
          "contourcarpet": [
           {
            "colorbar": {
             "outlinewidth": 1,
             "tickcolor": "rgb(36,36,36)",
             "ticks": "outside"
            },
            "type": "contourcarpet"
           }
          ],
          "heatmap": [
           {
            "colorbar": {
             "outlinewidth": 1,
             "tickcolor": "rgb(36,36,36)",
             "ticks": "outside"
            },
            "colorscale": [
             [
              0,
              "#440154"
             ],
             [
              0.1111111111111111,
              "#482878"
             ],
             [
              0.2222222222222222,
              "#3e4989"
             ],
             [
              0.3333333333333333,
              "#31688e"
             ],
             [
              0.4444444444444444,
              "#26828e"
             ],
             [
              0.5555555555555556,
              "#1f9e89"
             ],
             [
              0.6666666666666666,
              "#35b779"
             ],
             [
              0.7777777777777778,
              "#6ece58"
             ],
             [
              0.8888888888888888,
              "#b5de2b"
             ],
             [
              1,
              "#fde725"
             ]
            ],
            "type": "heatmap"
           }
          ],
          "heatmapgl": [
           {
            "colorbar": {
             "outlinewidth": 1,
             "tickcolor": "rgb(36,36,36)",
             "ticks": "outside"
            },
            "colorscale": [
             [
              0,
              "#440154"
             ],
             [
              0.1111111111111111,
              "#482878"
             ],
             [
              0.2222222222222222,
              "#3e4989"
             ],
             [
              0.3333333333333333,
              "#31688e"
             ],
             [
              0.4444444444444444,
              "#26828e"
             ],
             [
              0.5555555555555556,
              "#1f9e89"
             ],
             [
              0.6666666666666666,
              "#35b779"
             ],
             [
              0.7777777777777778,
              "#6ece58"
             ],
             [
              0.8888888888888888,
              "#b5de2b"
             ],
             [
              1,
              "#fde725"
             ]
            ],
            "type": "heatmapgl"
           }
          ],
          "histogram": [
           {
            "marker": {
             "line": {
              "color": "white",
              "width": 0.6
             }
            },
            "type": "histogram"
           }
          ],
          "histogram2d": [
           {
            "colorbar": {
             "outlinewidth": 1,
             "tickcolor": "rgb(36,36,36)",
             "ticks": "outside"
            },
            "colorscale": [
             [
              0,
              "#440154"
             ],
             [
              0.1111111111111111,
              "#482878"
             ],
             [
              0.2222222222222222,
              "#3e4989"
             ],
             [
              0.3333333333333333,
              "#31688e"
             ],
             [
              0.4444444444444444,
              "#26828e"
             ],
             [
              0.5555555555555556,
              "#1f9e89"
             ],
             [
              0.6666666666666666,
              "#35b779"
             ],
             [
              0.7777777777777778,
              "#6ece58"
             ],
             [
              0.8888888888888888,
              "#b5de2b"
             ],
             [
              1,
              "#fde725"
             ]
            ],
            "type": "histogram2d"
           }
          ],
          "histogram2dcontour": [
           {
            "colorbar": {
             "outlinewidth": 1,
             "tickcolor": "rgb(36,36,36)",
             "ticks": "outside"
            },
            "colorscale": [
             [
              0,
              "#440154"
             ],
             [
              0.1111111111111111,
              "#482878"
             ],
             [
              0.2222222222222222,
              "#3e4989"
             ],
             [
              0.3333333333333333,
              "#31688e"
             ],
             [
              0.4444444444444444,
              "#26828e"
             ],
             [
              0.5555555555555556,
              "#1f9e89"
             ],
             [
              0.6666666666666666,
              "#35b779"
             ],
             [
              0.7777777777777778,
              "#6ece58"
             ],
             [
              0.8888888888888888,
              "#b5de2b"
             ],
             [
              1,
              "#fde725"
             ]
            ],
            "type": "histogram2dcontour"
           }
          ],
          "mesh3d": [
           {
            "colorbar": {
             "outlinewidth": 1,
             "tickcolor": "rgb(36,36,36)",
             "ticks": "outside"
            },
            "type": "mesh3d"
           }
          ],
          "parcoords": [
           {
            "line": {
             "colorbar": {
              "outlinewidth": 1,
              "tickcolor": "rgb(36,36,36)",
              "ticks": "outside"
             }
            },
            "type": "parcoords"
           }
          ],
          "pie": [
           {
            "automargin": true,
            "type": "pie"
           }
          ],
          "scatter": [
           {
            "fillpattern": {
             "fillmode": "overlay",
             "size": 10,
             "solidity": 0.2
            },
            "type": "scatter"
           }
          ],
          "scatter3d": [
           {
            "line": {
             "colorbar": {
              "outlinewidth": 1,
              "tickcolor": "rgb(36,36,36)",
              "ticks": "outside"
             }
            },
            "marker": {
             "colorbar": {
              "outlinewidth": 1,
              "tickcolor": "rgb(36,36,36)",
              "ticks": "outside"
             }
            },
            "type": "scatter3d"
           }
          ],
          "scattercarpet": [
           {
            "marker": {
             "colorbar": {
              "outlinewidth": 1,
              "tickcolor": "rgb(36,36,36)",
              "ticks": "outside"
             }
            },
            "type": "scattercarpet"
           }
          ],
          "scattergeo": [
           {
            "marker": {
             "colorbar": {
              "outlinewidth": 1,
              "tickcolor": "rgb(36,36,36)",
              "ticks": "outside"
             }
            },
            "type": "scattergeo"
           }
          ],
          "scattergl": [
           {
            "marker": {
             "colorbar": {
              "outlinewidth": 1,
              "tickcolor": "rgb(36,36,36)",
              "ticks": "outside"
             }
            },
            "type": "scattergl"
           }
          ],
          "scattermapbox": [
           {
            "marker": {
             "colorbar": {
              "outlinewidth": 1,
              "tickcolor": "rgb(36,36,36)",
              "ticks": "outside"
             }
            },
            "type": "scattermapbox"
           }
          ],
          "scatterpolar": [
           {
            "marker": {
             "colorbar": {
              "outlinewidth": 1,
              "tickcolor": "rgb(36,36,36)",
              "ticks": "outside"
             }
            },
            "type": "scatterpolar"
           }
          ],
          "scatterpolargl": [
           {
            "marker": {
             "colorbar": {
              "outlinewidth": 1,
              "tickcolor": "rgb(36,36,36)",
              "ticks": "outside"
             }
            },
            "type": "scatterpolargl"
           }
          ],
          "scatterternary": [
           {
            "marker": {
             "colorbar": {
              "outlinewidth": 1,
              "tickcolor": "rgb(36,36,36)",
              "ticks": "outside"
             }
            },
            "type": "scatterternary"
           }
          ],
          "surface": [
           {
            "colorbar": {
             "outlinewidth": 1,
             "tickcolor": "rgb(36,36,36)",
             "ticks": "outside"
            },
            "colorscale": [
             [
              0,
              "#440154"
             ],
             [
              0.1111111111111111,
              "#482878"
             ],
             [
              0.2222222222222222,
              "#3e4989"
             ],
             [
              0.3333333333333333,
              "#31688e"
             ],
             [
              0.4444444444444444,
              "#26828e"
             ],
             [
              0.5555555555555556,
              "#1f9e89"
             ],
             [
              0.6666666666666666,
              "#35b779"
             ],
             [
              0.7777777777777778,
              "#6ece58"
             ],
             [
              0.8888888888888888,
              "#b5de2b"
             ],
             [
              1,
              "#fde725"
             ]
            ],
            "type": "surface"
           }
          ],
          "table": [
           {
            "cells": {
             "fill": {
              "color": "rgb(237,237,237)"
             },
             "line": {
              "color": "white"
             }
            },
            "header": {
             "fill": {
              "color": "rgb(217,217,217)"
             },
             "line": {
              "color": "white"
             }
            },
            "type": "table"
           }
          ]
         },
         "layout": {
          "annotationdefaults": {
           "arrowhead": 0,
           "arrowwidth": 1
          },
          "autotypenumbers": "strict",
          "coloraxis": {
           "colorbar": {
            "outlinewidth": 1,
            "tickcolor": "rgb(36,36,36)",
            "ticks": "outside"
           }
          },
          "colorscale": {
           "diverging": [
            [
             0,
             "rgb(103,0,31)"
            ],
            [
             0.1,
             "rgb(178,24,43)"
            ],
            [
             0.2,
             "rgb(214,96,77)"
            ],
            [
             0.3,
             "rgb(244,165,130)"
            ],
            [
             0.4,
             "rgb(253,219,199)"
            ],
            [
             0.5,
             "rgb(247,247,247)"
            ],
            [
             0.6,
             "rgb(209,229,240)"
            ],
            [
             0.7,
             "rgb(146,197,222)"
            ],
            [
             0.8,
             "rgb(67,147,195)"
            ],
            [
             0.9,
             "rgb(33,102,172)"
            ],
            [
             1,
             "rgb(5,48,97)"
            ]
           ],
           "sequential": [
            [
             0,
             "#440154"
            ],
            [
             0.1111111111111111,
             "#482878"
            ],
            [
             0.2222222222222222,
             "#3e4989"
            ],
            [
             0.3333333333333333,
             "#31688e"
            ],
            [
             0.4444444444444444,
             "#26828e"
            ],
            [
             0.5555555555555556,
             "#1f9e89"
            ],
            [
             0.6666666666666666,
             "#35b779"
            ],
            [
             0.7777777777777778,
             "#6ece58"
            ],
            [
             0.8888888888888888,
             "#b5de2b"
            ],
            [
             1,
             "#fde725"
            ]
           ],
           "sequentialminus": [
            [
             0,
             "#440154"
            ],
            [
             0.1111111111111111,
             "#482878"
            ],
            [
             0.2222222222222222,
             "#3e4989"
            ],
            [
             0.3333333333333333,
             "#31688e"
            ],
            [
             0.4444444444444444,
             "#26828e"
            ],
            [
             0.5555555555555556,
             "#1f9e89"
            ],
            [
             0.6666666666666666,
             "#35b779"
            ],
            [
             0.7777777777777778,
             "#6ece58"
            ],
            [
             0.8888888888888888,
             "#b5de2b"
            ],
            [
             1,
             "#fde725"
            ]
           ]
          },
          "colorway": [
           "#1F77B4",
           "#FF7F0E",
           "#2CA02C",
           "#D62728",
           "#9467BD",
           "#8C564B",
           "#E377C2",
           "#7F7F7F",
           "#BCBD22",
           "#17BECF"
          ],
          "font": {
           "color": "rgb(36,36,36)"
          },
          "geo": {
           "bgcolor": "white",
           "lakecolor": "white",
           "landcolor": "white",
           "showlakes": true,
           "showland": true,
           "subunitcolor": "white"
          },
          "hoverlabel": {
           "align": "left"
          },
          "hovermode": "closest",
          "mapbox": {
           "style": "light"
          },
          "paper_bgcolor": "white",
          "plot_bgcolor": "white",
          "polar": {
           "angularaxis": {
            "gridcolor": "rgb(232,232,232)",
            "linecolor": "rgb(36,36,36)",
            "showgrid": false,
            "showline": true,
            "ticks": "outside"
           },
           "bgcolor": "white",
           "radialaxis": {
            "gridcolor": "rgb(232,232,232)",
            "linecolor": "rgb(36,36,36)",
            "showgrid": false,
            "showline": true,
            "ticks": "outside"
           }
          },
          "scene": {
           "xaxis": {
            "backgroundcolor": "white",
            "gridcolor": "rgb(232,232,232)",
            "gridwidth": 2,
            "linecolor": "rgb(36,36,36)",
            "showbackground": true,
            "showgrid": false,
            "showline": true,
            "ticks": "outside",
            "zeroline": false,
            "zerolinecolor": "rgb(36,36,36)"
           },
           "yaxis": {
            "backgroundcolor": "white",
            "gridcolor": "rgb(232,232,232)",
            "gridwidth": 2,
            "linecolor": "rgb(36,36,36)",
            "showbackground": true,
            "showgrid": false,
            "showline": true,
            "ticks": "outside",
            "zeroline": false,
            "zerolinecolor": "rgb(36,36,36)"
           },
           "zaxis": {
            "backgroundcolor": "white",
            "gridcolor": "rgb(232,232,232)",
            "gridwidth": 2,
            "linecolor": "rgb(36,36,36)",
            "showbackground": true,
            "showgrid": false,
            "showline": true,
            "ticks": "outside",
            "zeroline": false,
            "zerolinecolor": "rgb(36,36,36)"
           }
          },
          "shapedefaults": {
           "fillcolor": "black",
           "line": {
            "width": 0
           },
           "opacity": 0.3
          },
          "ternary": {
           "aaxis": {
            "gridcolor": "rgb(232,232,232)",
            "linecolor": "rgb(36,36,36)",
            "showgrid": false,
            "showline": true,
            "ticks": "outside"
           },
           "baxis": {
            "gridcolor": "rgb(232,232,232)",
            "linecolor": "rgb(36,36,36)",
            "showgrid": false,
            "showline": true,
            "ticks": "outside"
           },
           "bgcolor": "white",
           "caxis": {
            "gridcolor": "rgb(232,232,232)",
            "linecolor": "rgb(36,36,36)",
            "showgrid": false,
            "showline": true,
            "ticks": "outside"
           }
          },
          "title": {
           "x": 0.05
          },
          "xaxis": {
           "automargin": true,
           "gridcolor": "rgb(232,232,232)",
           "linecolor": "rgb(36,36,36)",
           "showgrid": false,
           "showline": true,
           "ticks": "outside",
           "title": {
            "standoff": 15
           },
           "zeroline": false,
           "zerolinecolor": "rgb(36,36,36)"
          },
          "yaxis": {
           "automargin": true,
           "gridcolor": "rgb(232,232,232)",
           "linecolor": "rgb(36,36,36)",
           "showgrid": false,
           "showline": true,
           "ticks": "outside",
           "title": {
            "standoff": 15
           },
           "zeroline": false,
           "zerolinecolor": "rgb(36,36,36)"
          }
         }
        },
        "title": {
         "font": {
          "color": "Black",
          "size": 22
         },
         "text": "Topics Over Time for 2020Q2",
         "x": 0.4,
         "xanchor": "center",
         "y": 0.95,
         "yanchor": "top"
        },
        "width": 1250,
        "xaxis": {
         "showgrid": true
        },
        "yaxis": {
         "showgrid": true,
         "title": {
          "text": "Frequency"
         }
        }
       }
      }
     },
     "metadata": {},
     "output_type": "display_data"
    },
    {
     "data": {
      "application/vnd.plotly.v1+json": {
       "config": {
        "plotlyServerURL": "https://plot.ly"
       },
       "data": [
        {
         "hoverinfo": "text",
         "hovertext": [
          "<b>Topic 0</b><br>Words: kuat, kartu, prakerja, efektivitas, pip",
          "<b>Topic 0</b><br>Words: kuat, kartu, efektivitas, prakerja, salur",
          "<b>Topic 0</b><br>Words: karakter, selenggara, kuat, program, building"
         ],
         "marker": {
          "color": "#E69F00"
         },
         "mode": "lines",
         "name": "0_kuat_prakerja_kartu_efektivitas",
         "type": "scatter",
         "x": [
          "2020-08-12T02:56:03.933333+00:00",
          "2020-08-15T03:01:28.500000+00:00",
          "2020-08-30T03:28:31.333333+00:00"
         ],
         "y": [
          27,
          1,
          1
         ]
        },
        {
         "hoverinfo": "text",
         "hovertext": [
          "<b>Topic 1</b><br>Words: papua, otonomi, khusus, tanah, bangun",
          "<b>Topic 1</b><br>Words: papua, otsus, barat, otonomi, khusus",
          "<b>Topic 1</b><br>Words: papua, otonomi, khusus, asli, citacitanya",
          "<b>Topic 1</b><br>Words: papua, otonomi, emas, khusus, barat",
          "<b>Topic 1</b><br>Words: papua, otonomi, khusus, barat, bebas",
          "<b>Topic 1</b><br>Words: otonomi, khusus, papua, beasiswa, dana",
          "<b>Topic 1</b><br>Words: papua, otonomi, khusus, otsus, februari",
          "<b>Topic 1</b><br>Words: papua, otonomi, khusus, otsus, beasiswa",
          "<b>Topic 1</b><br>Words: otsus, amp, papua, audit, upa",
          "<b>Topic 1</b><br>Words: papua, peluang, otsus, barat, unk",
          "<b>Topic 1</b><br>Words: papua, otsus, otonomi, mndukung, mbawa",
          "<b>Topic 1</b><br>Words: otsus, papua, masyarakat, bidang, marthen",
          "<b>Topic 1</b><br>Words: papua, otsus, yaaotsus, mensejahterkan, sogok"
         ],
         "marker": {
          "color": "#56B4E9"
         },
         "mode": "lines",
         "name": "1_papua_otonomi_khusus_otsus",
         "type": "scatter",
         "x": [
          "2020-07-04T01:45:44.566666+00:00",
          "2020-07-10T01:56:33.700000+00:00",
          "2020-07-13T02:01:58.266666+00:00",
          "2020-07-22T02:18:11.966666+00:00",
          "2020-07-25T02:23:36.533333+00:00",
          "2020-07-28T02:29:01.100000+00:00",
          "2020-08-03T02:39:50.233333+00:00",
          "2020-08-06T02:45:14.800000+00:00",
          "2020-08-09T02:50:39.366666+00:00",
          "2020-08-15T03:01:28.500000+00:00",
          "2020-08-27T03:23:06.766666+00:00",
          "2020-09-02T03:33:55.900000+00:00",
          "2020-09-08T03:44:45.033333+00:00"
         ],
         "y": [
          1,
          2,
          6,
          1,
          5,
          6,
          1,
          4,
          1,
          1,
          1,
          1,
          1
         ]
        },
        {
         "hoverinfo": "text",
         "hovertext": [
          "<b>Topic 2</b><br>Words: sekolah, ajar, menteri, ganti, guru",
          "<b>Topic 2</b><br>Words: menteri, indonesia, dki, nadiem, pandemi",
          "<b>Topic 2</b><br>Words: sekolah, indonesia, menteri, ajar, mahasiswa",
          "<b>Topic 2</b><br>Words: ajar, anak, lihat, tahun, menteri",
          "<b>Topic 2</b><br>Words: ajar, jadi, tahun, bukan, uu",
          "<b>Topic 2</b><br>Words: ajar, rakyat, pandemi, merdeka, menteri",
          "<b>Topic 2</b><br>Words: ajar, buat, pandemi, banyak, menteri",
          "<b>Topic 2</b><br>Words: menteri, ajar, anak, jadi, dunia",
          "<b>Topic 2</b><br>Words: ribu, ajar, nadiem, budaya, menteri",
          "<b>Topic 2</b><br>Words: indonesia, menteri, ajar, buat, anak",
          "<b>Topic 2</b><br>Words: covid, sektor, tatanan, luar, guna",
          "<b>Topic 2</b><br>Words: program, indonesia, sekolah, ajar, sebut",
          "<b>Topic 2</b><br>Words: ajar, jadi, sekolah, satu, erti",
          "<b>Topic 2</b><br>Words: sekolah, menteri, ajar, pandemi, masa",
          "<b>Topic 2</b><br>Words: ajar, covid, menteri, perintah, tahun",
          "<b>Topic 2</b><br>Words: papua, pandemi, sujono, public, hs",
          "<b>Topic 2</b><br>Words: aspek, upaya, pandemi, covid, kemendikbud",
          "<b>Topic 2</b><br>Words: uny, covid, menteri, ajar, pil",
          "<b>Topic 2</b><br>Words: ajar, pandemi, kemendikbud, menteri, dpr",
          "<b>Topic 2</b><br>Words: pandemi, ajar, covid, sekolah, kemendikbud",
          "<b>Topic 2</b><br>Words: ajar, menteri, budaya, covid, nilai",
          "<b>Topic 2</b><br>Words: ganti, perdana, menteri, india, nasional",
          "<b>Topic 2</b><br>Words: nilai, positif, beri, siswa, menteri",
          "<b>Topic 2</b><br>Words: pandemi, ajar, indonesia, inews, bukan",
          "<b>Topic 2</b><br>Words: inews, pandemi, kurikulum, tengah, indonesia",
          "<b>Topic 2</b><br>Words: sejarah, jadi, memang, banyak, kalau",
          "<b>Topic 2</b><br>Words: ajar, mahasura, salam, muda, covid",
          "<b>Topic 2</b><br>Words: bantu, kuota, internet, nadiem, makarim",
          "<b>Topic 2</b><br>Words: sentral, jadi, tua, kerja, sekolah"
         ],
         "marker": {
          "color": "#009E73"
         },
         "mode": "lines",
         "name": "2_ajar_menteri_pandemi_covid",
         "type": "scatter",
         "x": [
          "2020-06-30T23:30:34.263000+00:00",
          "2020-07-04T01:45:44.566666+00:00",
          "2020-07-07T01:51:09.133333+00:00",
          "2020-07-10T01:56:33.700000+00:00",
          "2020-07-13T02:01:58.266666+00:00",
          "2020-07-16T02:07:22.833333+00:00",
          "2020-07-19T02:12:47.400000+00:00",
          "2020-07-22T02:18:11.966666+00:00",
          "2020-07-25T02:23:36.533333+00:00",
          "2020-07-28T02:29:01.100000+00:00",
          "2020-07-31T02:34:25.666666+00:00",
          "2020-08-03T02:39:50.233333+00:00",
          "2020-08-06T02:45:14.800000+00:00",
          "2020-08-09T02:50:39.366666+00:00",
          "2020-08-12T02:56:03.933333+00:00",
          "2020-08-15T03:01:28.500000+00:00",
          "2020-08-18T03:06:53.066666+00:00",
          "2020-08-24T03:17:42.200000+00:00",
          "2020-08-27T03:23:06.766666+00:00",
          "2020-08-30T03:28:31.333333+00:00",
          "2020-09-02T03:33:55.900000+00:00",
          "2020-09-05T03:39:20.466666+00:00",
          "2020-09-08T03:44:45.033333+00:00",
          "2020-09-11T03:50:09.600000+00:00",
          "2020-09-14T03:55:34.166666+00:00",
          "2020-09-17T04:00:58.733333+00:00",
          "2020-09-20T04:06:23.300000+00:00",
          "2020-09-23T04:11:47.866666+00:00",
          "2020-09-26T04:17:12.433333+00:00"
         ],
         "y": [
          30,
          34,
          32,
          29,
          37,
          21,
          33,
          50,
          34,
          43,
          10,
          36,
          25,
          45,
          38,
          20,
          18,
          23,
          29,
          14,
          34,
          16,
          29,
          24,
          17,
          12,
          42,
          17,
          9
         ]
        }
       ],
       "layout": {
        "height": 450,
        "hoverlabel": {
         "bgcolor": "white",
         "font": {
          "family": "Rockwell",
          "size": 16
         }
        },
        "legend": {
         "title": {
          "text": "<b>Global Topic Representation"
         }
        },
        "template": {
         "data": {
          "bar": [
           {
            "error_x": {
             "color": "rgb(36,36,36)"
            },
            "error_y": {
             "color": "rgb(36,36,36)"
            },
            "marker": {
             "line": {
              "color": "white",
              "width": 0.5
             },
             "pattern": {
              "fillmode": "overlay",
              "size": 10,
              "solidity": 0.2
             }
            },
            "type": "bar"
           }
          ],
          "barpolar": [
           {
            "marker": {
             "line": {
              "color": "white",
              "width": 0.5
             },
             "pattern": {
              "fillmode": "overlay",
              "size": 10,
              "solidity": 0.2
             }
            },
            "type": "barpolar"
           }
          ],
          "carpet": [
           {
            "aaxis": {
             "endlinecolor": "rgb(36,36,36)",
             "gridcolor": "white",
             "linecolor": "white",
             "minorgridcolor": "white",
             "startlinecolor": "rgb(36,36,36)"
            },
            "baxis": {
             "endlinecolor": "rgb(36,36,36)",
             "gridcolor": "white",
             "linecolor": "white",
             "minorgridcolor": "white",
             "startlinecolor": "rgb(36,36,36)"
            },
            "type": "carpet"
           }
          ],
          "choropleth": [
           {
            "colorbar": {
             "outlinewidth": 1,
             "tickcolor": "rgb(36,36,36)",
             "ticks": "outside"
            },
            "type": "choropleth"
           }
          ],
          "contour": [
           {
            "colorbar": {
             "outlinewidth": 1,
             "tickcolor": "rgb(36,36,36)",
             "ticks": "outside"
            },
            "colorscale": [
             [
              0,
              "#440154"
             ],
             [
              0.1111111111111111,
              "#482878"
             ],
             [
              0.2222222222222222,
              "#3e4989"
             ],
             [
              0.3333333333333333,
              "#31688e"
             ],
             [
              0.4444444444444444,
              "#26828e"
             ],
             [
              0.5555555555555556,
              "#1f9e89"
             ],
             [
              0.6666666666666666,
              "#35b779"
             ],
             [
              0.7777777777777778,
              "#6ece58"
             ],
             [
              0.8888888888888888,
              "#b5de2b"
             ],
             [
              1,
              "#fde725"
             ]
            ],
            "type": "contour"
           }
          ],
          "contourcarpet": [
           {
            "colorbar": {
             "outlinewidth": 1,
             "tickcolor": "rgb(36,36,36)",
             "ticks": "outside"
            },
            "type": "contourcarpet"
           }
          ],
          "heatmap": [
           {
            "colorbar": {
             "outlinewidth": 1,
             "tickcolor": "rgb(36,36,36)",
             "ticks": "outside"
            },
            "colorscale": [
             [
              0,
              "#440154"
             ],
             [
              0.1111111111111111,
              "#482878"
             ],
             [
              0.2222222222222222,
              "#3e4989"
             ],
             [
              0.3333333333333333,
              "#31688e"
             ],
             [
              0.4444444444444444,
              "#26828e"
             ],
             [
              0.5555555555555556,
              "#1f9e89"
             ],
             [
              0.6666666666666666,
              "#35b779"
             ],
             [
              0.7777777777777778,
              "#6ece58"
             ],
             [
              0.8888888888888888,
              "#b5de2b"
             ],
             [
              1,
              "#fde725"
             ]
            ],
            "type": "heatmap"
           }
          ],
          "heatmapgl": [
           {
            "colorbar": {
             "outlinewidth": 1,
             "tickcolor": "rgb(36,36,36)",
             "ticks": "outside"
            },
            "colorscale": [
             [
              0,
              "#440154"
             ],
             [
              0.1111111111111111,
              "#482878"
             ],
             [
              0.2222222222222222,
              "#3e4989"
             ],
             [
              0.3333333333333333,
              "#31688e"
             ],
             [
              0.4444444444444444,
              "#26828e"
             ],
             [
              0.5555555555555556,
              "#1f9e89"
             ],
             [
              0.6666666666666666,
              "#35b779"
             ],
             [
              0.7777777777777778,
              "#6ece58"
             ],
             [
              0.8888888888888888,
              "#b5de2b"
             ],
             [
              1,
              "#fde725"
             ]
            ],
            "type": "heatmapgl"
           }
          ],
          "histogram": [
           {
            "marker": {
             "line": {
              "color": "white",
              "width": 0.6
             }
            },
            "type": "histogram"
           }
          ],
          "histogram2d": [
           {
            "colorbar": {
             "outlinewidth": 1,
             "tickcolor": "rgb(36,36,36)",
             "ticks": "outside"
            },
            "colorscale": [
             [
              0,
              "#440154"
             ],
             [
              0.1111111111111111,
              "#482878"
             ],
             [
              0.2222222222222222,
              "#3e4989"
             ],
             [
              0.3333333333333333,
              "#31688e"
             ],
             [
              0.4444444444444444,
              "#26828e"
             ],
             [
              0.5555555555555556,
              "#1f9e89"
             ],
             [
              0.6666666666666666,
              "#35b779"
             ],
             [
              0.7777777777777778,
              "#6ece58"
             ],
             [
              0.8888888888888888,
              "#b5de2b"
             ],
             [
              1,
              "#fde725"
             ]
            ],
            "type": "histogram2d"
           }
          ],
          "histogram2dcontour": [
           {
            "colorbar": {
             "outlinewidth": 1,
             "tickcolor": "rgb(36,36,36)",
             "ticks": "outside"
            },
            "colorscale": [
             [
              0,
              "#440154"
             ],
             [
              0.1111111111111111,
              "#482878"
             ],
             [
              0.2222222222222222,
              "#3e4989"
             ],
             [
              0.3333333333333333,
              "#31688e"
             ],
             [
              0.4444444444444444,
              "#26828e"
             ],
             [
              0.5555555555555556,
              "#1f9e89"
             ],
             [
              0.6666666666666666,
              "#35b779"
             ],
             [
              0.7777777777777778,
              "#6ece58"
             ],
             [
              0.8888888888888888,
              "#b5de2b"
             ],
             [
              1,
              "#fde725"
             ]
            ],
            "type": "histogram2dcontour"
           }
          ],
          "mesh3d": [
           {
            "colorbar": {
             "outlinewidth": 1,
             "tickcolor": "rgb(36,36,36)",
             "ticks": "outside"
            },
            "type": "mesh3d"
           }
          ],
          "parcoords": [
           {
            "line": {
             "colorbar": {
              "outlinewidth": 1,
              "tickcolor": "rgb(36,36,36)",
              "ticks": "outside"
             }
            },
            "type": "parcoords"
           }
          ],
          "pie": [
           {
            "automargin": true,
            "type": "pie"
           }
          ],
          "scatter": [
           {
            "fillpattern": {
             "fillmode": "overlay",
             "size": 10,
             "solidity": 0.2
            },
            "type": "scatter"
           }
          ],
          "scatter3d": [
           {
            "line": {
             "colorbar": {
              "outlinewidth": 1,
              "tickcolor": "rgb(36,36,36)",
              "ticks": "outside"
             }
            },
            "marker": {
             "colorbar": {
              "outlinewidth": 1,
              "tickcolor": "rgb(36,36,36)",
              "ticks": "outside"
             }
            },
            "type": "scatter3d"
           }
          ],
          "scattercarpet": [
           {
            "marker": {
             "colorbar": {
              "outlinewidth": 1,
              "tickcolor": "rgb(36,36,36)",
              "ticks": "outside"
             }
            },
            "type": "scattercarpet"
           }
          ],
          "scattergeo": [
           {
            "marker": {
             "colorbar": {
              "outlinewidth": 1,
              "tickcolor": "rgb(36,36,36)",
              "ticks": "outside"
             }
            },
            "type": "scattergeo"
           }
          ],
          "scattergl": [
           {
            "marker": {
             "colorbar": {
              "outlinewidth": 1,
              "tickcolor": "rgb(36,36,36)",
              "ticks": "outside"
             }
            },
            "type": "scattergl"
           }
          ],
          "scattermapbox": [
           {
            "marker": {
             "colorbar": {
              "outlinewidth": 1,
              "tickcolor": "rgb(36,36,36)",
              "ticks": "outside"
             }
            },
            "type": "scattermapbox"
           }
          ],
          "scatterpolar": [
           {
            "marker": {
             "colorbar": {
              "outlinewidth": 1,
              "tickcolor": "rgb(36,36,36)",
              "ticks": "outside"
             }
            },
            "type": "scatterpolar"
           }
          ],
          "scatterpolargl": [
           {
            "marker": {
             "colorbar": {
              "outlinewidth": 1,
              "tickcolor": "rgb(36,36,36)",
              "ticks": "outside"
             }
            },
            "type": "scatterpolargl"
           }
          ],
          "scatterternary": [
           {
            "marker": {
             "colorbar": {
              "outlinewidth": 1,
              "tickcolor": "rgb(36,36,36)",
              "ticks": "outside"
             }
            },
            "type": "scatterternary"
           }
          ],
          "surface": [
           {
            "colorbar": {
             "outlinewidth": 1,
             "tickcolor": "rgb(36,36,36)",
             "ticks": "outside"
            },
            "colorscale": [
             [
              0,
              "#440154"
             ],
             [
              0.1111111111111111,
              "#482878"
             ],
             [
              0.2222222222222222,
              "#3e4989"
             ],
             [
              0.3333333333333333,
              "#31688e"
             ],
             [
              0.4444444444444444,
              "#26828e"
             ],
             [
              0.5555555555555556,
              "#1f9e89"
             ],
             [
              0.6666666666666666,
              "#35b779"
             ],
             [
              0.7777777777777778,
              "#6ece58"
             ],
             [
              0.8888888888888888,
              "#b5de2b"
             ],
             [
              1,
              "#fde725"
             ]
            ],
            "type": "surface"
           }
          ],
          "table": [
           {
            "cells": {
             "fill": {
              "color": "rgb(237,237,237)"
             },
             "line": {
              "color": "white"
             }
            },
            "header": {
             "fill": {
              "color": "rgb(217,217,217)"
             },
             "line": {
              "color": "white"
             }
            },
            "type": "table"
           }
          ]
         },
         "layout": {
          "annotationdefaults": {
           "arrowhead": 0,
           "arrowwidth": 1
          },
          "autotypenumbers": "strict",
          "coloraxis": {
           "colorbar": {
            "outlinewidth": 1,
            "tickcolor": "rgb(36,36,36)",
            "ticks": "outside"
           }
          },
          "colorscale": {
           "diverging": [
            [
             0,
             "rgb(103,0,31)"
            ],
            [
             0.1,
             "rgb(178,24,43)"
            ],
            [
             0.2,
             "rgb(214,96,77)"
            ],
            [
             0.3,
             "rgb(244,165,130)"
            ],
            [
             0.4,
             "rgb(253,219,199)"
            ],
            [
             0.5,
             "rgb(247,247,247)"
            ],
            [
             0.6,
             "rgb(209,229,240)"
            ],
            [
             0.7,
             "rgb(146,197,222)"
            ],
            [
             0.8,
             "rgb(67,147,195)"
            ],
            [
             0.9,
             "rgb(33,102,172)"
            ],
            [
             1,
             "rgb(5,48,97)"
            ]
           ],
           "sequential": [
            [
             0,
             "#440154"
            ],
            [
             0.1111111111111111,
             "#482878"
            ],
            [
             0.2222222222222222,
             "#3e4989"
            ],
            [
             0.3333333333333333,
             "#31688e"
            ],
            [
             0.4444444444444444,
             "#26828e"
            ],
            [
             0.5555555555555556,
             "#1f9e89"
            ],
            [
             0.6666666666666666,
             "#35b779"
            ],
            [
             0.7777777777777778,
             "#6ece58"
            ],
            [
             0.8888888888888888,
             "#b5de2b"
            ],
            [
             1,
             "#fde725"
            ]
           ],
           "sequentialminus": [
            [
             0,
             "#440154"
            ],
            [
             0.1111111111111111,
             "#482878"
            ],
            [
             0.2222222222222222,
             "#3e4989"
            ],
            [
             0.3333333333333333,
             "#31688e"
            ],
            [
             0.4444444444444444,
             "#26828e"
            ],
            [
             0.5555555555555556,
             "#1f9e89"
            ],
            [
             0.6666666666666666,
             "#35b779"
            ],
            [
             0.7777777777777778,
             "#6ece58"
            ],
            [
             0.8888888888888888,
             "#b5de2b"
            ],
            [
             1,
             "#fde725"
            ]
           ]
          },
          "colorway": [
           "#1F77B4",
           "#FF7F0E",
           "#2CA02C",
           "#D62728",
           "#9467BD",
           "#8C564B",
           "#E377C2",
           "#7F7F7F",
           "#BCBD22",
           "#17BECF"
          ],
          "font": {
           "color": "rgb(36,36,36)"
          },
          "geo": {
           "bgcolor": "white",
           "lakecolor": "white",
           "landcolor": "white",
           "showlakes": true,
           "showland": true,
           "subunitcolor": "white"
          },
          "hoverlabel": {
           "align": "left"
          },
          "hovermode": "closest",
          "mapbox": {
           "style": "light"
          },
          "paper_bgcolor": "white",
          "plot_bgcolor": "white",
          "polar": {
           "angularaxis": {
            "gridcolor": "rgb(232,232,232)",
            "linecolor": "rgb(36,36,36)",
            "showgrid": false,
            "showline": true,
            "ticks": "outside"
           },
           "bgcolor": "white",
           "radialaxis": {
            "gridcolor": "rgb(232,232,232)",
            "linecolor": "rgb(36,36,36)",
            "showgrid": false,
            "showline": true,
            "ticks": "outside"
           }
          },
          "scene": {
           "xaxis": {
            "backgroundcolor": "white",
            "gridcolor": "rgb(232,232,232)",
            "gridwidth": 2,
            "linecolor": "rgb(36,36,36)",
            "showbackground": true,
            "showgrid": false,
            "showline": true,
            "ticks": "outside",
            "zeroline": false,
            "zerolinecolor": "rgb(36,36,36)"
           },
           "yaxis": {
            "backgroundcolor": "white",
            "gridcolor": "rgb(232,232,232)",
            "gridwidth": 2,
            "linecolor": "rgb(36,36,36)",
            "showbackground": true,
            "showgrid": false,
            "showline": true,
            "ticks": "outside",
            "zeroline": false,
            "zerolinecolor": "rgb(36,36,36)"
           },
           "zaxis": {
            "backgroundcolor": "white",
            "gridcolor": "rgb(232,232,232)",
            "gridwidth": 2,
            "linecolor": "rgb(36,36,36)",
            "showbackground": true,
            "showgrid": false,
            "showline": true,
            "ticks": "outside",
            "zeroline": false,
            "zerolinecolor": "rgb(36,36,36)"
           }
          },
          "shapedefaults": {
           "fillcolor": "black",
           "line": {
            "width": 0
           },
           "opacity": 0.3
          },
          "ternary": {
           "aaxis": {
            "gridcolor": "rgb(232,232,232)",
            "linecolor": "rgb(36,36,36)",
            "showgrid": false,
            "showline": true,
            "ticks": "outside"
           },
           "baxis": {
            "gridcolor": "rgb(232,232,232)",
            "linecolor": "rgb(36,36,36)",
            "showgrid": false,
            "showline": true,
            "ticks": "outside"
           },
           "bgcolor": "white",
           "caxis": {
            "gridcolor": "rgb(232,232,232)",
            "linecolor": "rgb(36,36,36)",
            "showgrid": false,
            "showline": true,
            "ticks": "outside"
           }
          },
          "title": {
           "x": 0.05
          },
          "xaxis": {
           "automargin": true,
           "gridcolor": "rgb(232,232,232)",
           "linecolor": "rgb(36,36,36)",
           "showgrid": false,
           "showline": true,
           "ticks": "outside",
           "title": {
            "standoff": 15
           },
           "zeroline": false,
           "zerolinecolor": "rgb(36,36,36)"
          },
          "yaxis": {
           "automargin": true,
           "gridcolor": "rgb(232,232,232)",
           "linecolor": "rgb(36,36,36)",
           "showgrid": false,
           "showline": true,
           "ticks": "outside",
           "title": {
            "standoff": 15
           },
           "zeroline": false,
           "zerolinecolor": "rgb(36,36,36)"
          }
         }
        },
        "title": {
         "font": {
          "color": "Black",
          "size": 22
         },
         "text": "Topics Over Time for 2020Q3",
         "x": 0.4,
         "xanchor": "center",
         "y": 0.95,
         "yanchor": "top"
        },
        "width": 1250,
        "xaxis": {
         "showgrid": true
        },
        "yaxis": {
         "showgrid": true,
         "title": {
          "text": "Frequency"
         }
        }
       }
      }
     },
     "metadata": {},
     "output_type": "display_data"
    },
    {
     "data": {
      "application/vnd.plotly.v1+json": {
       "config": {
        "plotlyServerURL": "https://plot.ly"
       },
       "data": [
        {
         "hoverinfo": "text",
         "hovertext": [
          "<b>Topic 0</b><br>Words: baru, bagai, lockdown, mini, cecep",
          "<b>Topic 0</b><br>Words: terawang, upipengamat, cluster, pasca, topik",
          "<b>Topic 0</b><br>Words: mkp, adm, ebook, barusan, camaba",
          "<b>Topic 0</b><br>Words: st, sakarinto, msc, wikan, polines",
          "<b>Topic 0</b><br>Words: bkf, hamidi, pkapbn, ubaidi, kemenkeu",
          "<b>Topic 0</b><br>Words: matakuliah, media, analisis, manajemen, buku",
          "<b>Topic 0</b><br>Words: ilmiah, orasi, kande, fredrik, model",
          "<b>Topic 0</b><br>Words: alam, indonesia, ig, yuk, gambut",
          "<b>Topic 0</b><br>Words: portaljabar, bandung, upi, cecep, prof",
          "<b>Topic 0</b><br>Words: cecep, upi, darmawan, prof, universitas",
          "<b>Topic 0</b><br>Words: muhammadiyah, seluruh, inklusi, ekosistem, wig",
          "<b>Topic 0</b><br>Words: brilian, lumrah, normal, akbar, new",
          "<b>Topic 0</b><br>Words: ppi, lanjut, dunia, inklusif, policy",
          "<b>Topic 0</b><br>Words: jurnal, edisi, jpkp, unreformed, vol"
         ],
         "marker": {
          "color": "#E69F00"
         },
         "mode": "lines",
         "name": "0_cecep_upi_darmawan_universitas",
         "type": "scatter",
         "x": [
          "2020-10-01T01:05:00.297000+00:00",
          "2020-10-04T03:55:38.100000+00:00",
          "2020-10-07T04:35:28.200000+00:00",
          "2020-10-10T05:15:18.300000+00:00",
          "2020-10-13T05:55:08.400000+00:00",
          "2020-10-19T07:14:48.600000+00:00",
          "2020-10-28T09:14:18.900000+00:00",
          "2020-11-03T10:33:59.100000+00:00",
          "2020-11-06T11:13:49.200000+00:00",
          "2020-11-12T12:33:29.400000+00:00",
          "2020-11-15T13:13:19.500000+00:00",
          "2020-11-18T13:53:09.600000+00:00",
          "2020-12-12T19:11:50.400000+00:00",
          "2020-12-27T22:31:00.900000+00:00"
         ],
         "y": [
          1,
          1,
          1,
          1,
          1,
          2,
          1,
          5,
          1,
          4,
          2,
          2,
          1,
          2
         ]
        },
        {
         "hoverinfo": "text",
         "hovertext": [
          "<b>Topic 1</b><br>Words: amp, dulu, bikin, kalo, buat",
          "<b>Topic 1</b><br>Words: buat, jadi, baik, mulai, mau",
          "<b>Topic 1</b><br>Words: jadi, buat, baik, bagus, beranta",
          "<b>Topic 1</b><br>Words: terapin, jujur, asik, science, melulu",
          "<b>Topic 1</b><br>Words: nadin, bogor, depan, sendiri, amp",
          "<b>Topic 1</b><br>Words: wawas, alur, makin, kelola, ada",
          "<b>Topic 1</b><br>Words: jadi, politik, mau, ambil, politis",
          "<b>Topic 1</b><br>Words: masyarakat, demokratis, baca, agama, tulis",
          "<b>Topic 1</b><br>Words: miras, mabuk, orang, buat, banyak",
          "<b>Topic 1</b><br>Words: publik, up, speak, bingung, mang",
          "<b>Topic 1</b><br>Words: bentuk, peta, perlu, tentu, arah",
          "<b>Topic 1</b><br>Words: kayak, hah, ganjil, basically, serah",
          "<b>Topic 1</b><br>Words: peta, arah, politik, jalan, revolusi",
          "<b>Topic 1</b><br>Words: sisi, baik, dunia, sehat, kerja",
          "<b>Topic 1</b><br>Words: ptnbh, jadi, jalur, malah, kuota",
          "<b>Topic 1</b><br>Words: sama, baik, literally, diskriminatif, attawazun",
          "<b>Topic 1</b><br>Words: rupa, komponen, guru, cont, selenggara",
          "<b>Topic 1</b><br>Words: umur, pangkat, asih, move, nasehat",
          "<b>Topic 1</b><br>Words: gue, protes, deh, anehaneh, wasalam",
          "<b>Topic 1</b><br>Words: bila, urus, hukum, era, bangga",
          "<b>Topic 1</b><br>Words: sok, saia, jadi, banyak, kalau"
         ],
         "marker": {
          "color": "#56B4E9"
         },
         "mode": "lines",
         "name": "1_jadi_buat_ptnbh_baik",
         "type": "scatter",
         "x": [
          "2020-10-01T01:05:00.297000+00:00",
          "2020-10-04T03:55:38.100000+00:00",
          "2020-10-07T04:35:28.200000+00:00",
          "2020-10-13T05:55:08.400000+00:00",
          "2020-10-16T06:34:58.500000+00:00",
          "2020-10-19T07:14:48.600000+00:00",
          "2020-10-22T07:54:38.700000+00:00",
          "2020-10-28T09:14:18.900000+00:00",
          "2020-11-09T11:53:39.300000+00:00",
          "2020-11-12T12:33:29.400000+00:00",
          "2020-11-15T13:13:19.500000+00:00",
          "2020-11-18T13:53:09.600000+00:00",
          "2020-11-21T14:32:59.700000+00:00",
          "2020-11-24T15:12:49.800000+00:00",
          "2020-11-27T15:52:39.900000+00:00",
          "2020-12-12T19:11:50.400000+00:00",
          "2020-12-15T19:51:40.500000+00:00",
          "2020-12-18T20:31:30.600000+00:00",
          "2020-12-21T21:11:20.700000+00:00",
          "2020-12-24T21:51:10.800000+00:00",
          "2020-12-27T22:31:00.900000+00:00"
         ],
         "y": [
          4,
          9,
          6,
          1,
          4,
          6,
          5,
          3,
          3,
          4,
          1,
          2,
          2,
          4,
          16,
          2,
          1,
          2,
          1,
          2,
          4
         ]
        },
        {
         "hoverinfo": "text",
         "hovertext": [
          "<b>Topic 2</b><br>Words: pimpin, guna, perusahaanorganisasi, supervisor, buku",
          "<b>Topic 2</b><br>Words: kurikulum, sederhana, asas, merdeka, kembang",
          "<b>Topic 2</b><br>Words: kurikulum, buku, konsumen, kembang, rentjana",
          "<b>Topic 2</b><br>Words: kurikulum, februari, tanggal, kembang, nomor",
          "<b>Topic 2</b><br>Words: sejarah, ramah, ketat, generasi, globalisasi",
          "<b>Topic 2</b><br>Words: entah, karakter, bangsa, kurikulum, kembang",
          "<b>Topic 2</b><br>Words: visi, kembang, kurikulum, satu, buku",
          "<b>Topic 2</b><br>Words: kurikulum, kembang, bangsa, akar, filosofi",
          "<b>Topic 2</b><br>Words: kurikulum, kembang, buku, pengaruh, cont",
          "<b>Topic 2</b><br>Words: kurikulum, kembang, internal, latar, usia",
          "<b>Topic 2</b><br>Words: coronavirus, respon, wabah, jarak, bentuk",
          "<b>Topic 2</b><br>Words: kurikulum, kembang, kompetensi, buku, tugas"
         ],
         "marker": {
          "color": "#009E73"
         },
         "mode": "lines",
         "name": "2_kurikulum_kembang_buku_politik",
         "type": "scatter",
         "x": [
          "2020-10-01T01:05:00.297000+00:00",
          "2020-10-04T03:55:38.100000+00:00",
          "2020-10-07T04:35:28.200000+00:00",
          "2020-10-16T06:34:58.500000+00:00",
          "2020-10-19T07:14:48.600000+00:00",
          "2020-10-22T07:54:38.700000+00:00",
          "2020-10-25T08:34:28.800000+00:00",
          "2020-11-03T10:33:59.100000+00:00",
          "2020-11-18T13:53:09.600000+00:00",
          "2020-11-24T15:12:49.800000+00:00",
          "2020-12-15T19:51:40.500000+00:00",
          "2020-12-18T20:31:30.600000+00:00"
         ],
         "y": [
          1,
          1,
          2,
          1,
          3,
          2,
          2,
          1,
          1,
          1,
          1,
          1
         ]
        },
        {
         "hoverinfo": "text",
         "hovertext": [
          "<b>Topic 3</b><br>Words: ye, jendela, ai, ngebahas, abis",
          "<b>Topic 3</b><br>Words: rilis, andai, skripsi, niscaya, demo",
          "<b>Topic 3</b><br>Words: kalian, satu, cm, perintah, maruf",
          "<b>Topic 3</b><br>Words: pengin, cm, kalian, terap, sebut",
          "<b>Topic 3</b><br>Words: daring, btw, aneka, keluh, bunuh",
          "<b>Topic 3</b><br>Words: episode, force, penanggungjawab, majeure, selang",
          "<b>Topic 3</b><br>Words: eselon, musti, relevan, wujud, birokrasi",
          "<b>Topic 3</b><br>Words: banyak, kema, tinggal, unpad, bagaimana",
          "<b>Topic 3</b><br>Words: program, pandemitentu, kaget, kejut, siapa",
          "<b>Topic 3</b><br>Words: tular, ialah, angka, tekan, daring"
         ],
         "marker": {
          "color": "#F0E442"
         },
         "mode": "lines",
         "name": "3_buat_satu_program_kalian",
         "type": "scatter",
         "x": [
          "2020-10-04T03:55:38.100000+00:00",
          "2020-10-13T05:55:08.400000+00:00",
          "2020-10-19T07:14:48.600000+00:00",
          "2020-10-22T07:54:38.700000+00:00",
          "2020-10-25T08:34:28.800000+00:00",
          "2020-11-12T12:33:29.400000+00:00",
          "2020-11-18T13:53:09.600000+00:00",
          "2020-11-21T14:32:59.700000+00:00",
          "2020-12-12T19:11:50.400000+00:00",
          "2020-12-24T21:51:10.800000+00:00"
         ],
         "y": [
          1,
          1,
          4,
          1,
          2,
          2,
          1,
          1,
          1,
          1
         ]
        },
        {
         "hoverinfo": "text",
         "hovertext": [
          "<b>Topic 4</b><br>Words: seluruh, covid, ajar, kecuali, risiko",
          "<b>Topic 4</b><br>Words: nasional, asesmen, un, resmi, paradigma",
          "<b>Topic 4</b><br>Words: bekas, tengah, kota, ajar, tatap",
          "<b>Topic 4</b><br>Words: saran, jarak, himpun, akhir, jauh",
          "<b>Topic 4</b><br>Words: tatap, muka, tengah, sekolah, anwar",
          "<b>Topic 4</b><br>Words: tatap, muka, nadiem, izin, sekolah",
          "<b>Topic 4</b><br>Words: sekolah, tatap, muka, nadiem, tengah",
          "<b>Topic 4</b><br>Words: guru, bagai, sekaligus, perintah, alami",
          "<b>Topic 4</b><br>Words: protokol, cegah, hitung, matang, sangkut",
          "<b>Topic 4</b><br>Words: laksana, muka, tatap, komentar, simpang"
         ],
         "marker": {
          "color": "#D55E00"
         },
         "mode": "lines",
         "name": "4_muka_tatap_sekolah_ajar",
         "type": "scatter",
         "x": [
          "2020-10-04T03:55:38.100000+00:00",
          "2020-10-07T04:35:28.200000+00:00",
          "2020-11-09T11:53:39.300000+00:00",
          "2020-11-15T13:13:19.500000+00:00",
          "2020-11-18T13:53:09.600000+00:00",
          "2020-11-21T14:32:59.700000+00:00",
          "2020-11-24T15:12:49.800000+00:00",
          "2020-11-27T15:52:39.900000+00:00",
          "2020-12-15T19:51:40.500000+00:00",
          "2020-12-24T21:51:10.800000+00:00"
         ],
         "y": [
          1,
          1,
          2,
          1,
          4,
          4,
          2,
          1,
          2,
          2
         ]
        },
        {
         "hoverinfo": "text",
         "hovertext": [
          "<b>Topic 5</b><br>Words: merdeka, kampus, nakarim, menteri, canang",
          "<b>Topic 5</b><br>Words: merdeka, kampus, jaya, nadiem, baru",
          "<b>Topic 5</b><br>Words: menteri, th, sekolahmadrasah, upa, triwiyanto",
          "<b>Topic 5</b><br>Words: bakamla, merdeka, beri, kampus, jakstra",
          "<b>Topic 5</b><br>Words: republik, merdeka, kampus, program, rupa",
          "<b>Topic 5</b><br>Words: sama, sampai, simak, asesmen, bapak",
          "<b>Topic 5</b><br>Words: ikut, afirmasi, fgd, sub, aparatur",
          "<b>Topic 5</b><br>Words: nadiem, tahun, indonesia, menteri, makarim",
          "<b>Topic 5</b><br>Words: lama, latih, rencana, ri, nadiem",
          "<b>Topic 5</b><br>Words: luncur, virtual, enam, resmi, kemarin",
          "<b>Topic 5</b><br>Words: merdeka, kampus, nadiem, budaya, tinggi",
          "<b>Topic 5</b><br>Words: kampus, merdeka, kung, kerjasama, tuntut",
          "<b>Topic 5</b><br>Words: mbkm, merdeka, makariem, delapan, tiga",
          "<b>Topic 5</b><br>Words: petrus, madrasah, pedo, beke, ppt",
          "<b>Topic 5</b><br>Words: iii, lldikti, rakorda, wilayah, jakarta",
          "<b>Topic 5</b><br>Words: merdeka, program, kampus, lomba, integritas",
          "<b>Topic 5</b><br>Words: yudhoyono, susilo, bambang, selenggara, presiden",
          "<b>Topic 5</b><br>Words: teliti, budaya, aktivasi, indeks, shintia",
          "<b>Topic 5</b><br>Words: sia, merdeka, transformasi, fokus, kampus"
         ],
         "marker": {
          "color": "#0072B2"
         },
         "mode": "lines",
         "name": "5_merdeka_menteri_kampus_nadiem",
         "type": "scatter",
         "x": [
          "2020-10-01T01:05:00.297000+00:00",
          "2020-10-04T03:55:38.100000+00:00",
          "2020-10-07T04:35:28.200000+00:00",
          "2020-10-10T05:15:18.300000+00:00",
          "2020-10-13T05:55:08.400000+00:00",
          "2020-10-19T07:14:48.600000+00:00",
          "2020-10-22T07:54:38.700000+00:00",
          "2020-10-25T08:34:28.800000+00:00",
          "2020-10-31T09:54:09+00:00",
          "2020-11-03T10:33:59.100000+00:00",
          "2020-11-09T11:53:39.300000+00:00",
          "2020-11-15T13:13:19.500000+00:00",
          "2020-11-18T13:53:09.600000+00:00",
          "2020-11-21T14:32:59.700000+00:00",
          "2020-11-24T15:12:49.800000+00:00",
          "2020-12-12T19:11:50.400000+00:00",
          "2020-12-15T19:51:40.500000+00:00",
          "2020-12-18T20:31:30.600000+00:00",
          "2020-12-24T21:51:10.800000+00:00"
         ],
         "y": [
          1,
          2,
          1,
          2,
          1,
          1,
          2,
          2,
          2,
          1,
          2,
          1,
          1,
          1,
          1,
          1,
          2,
          2,
          2
         ]
        }
       ],
       "layout": {
        "height": 450,
        "hoverlabel": {
         "bgcolor": "white",
         "font": {
          "family": "Rockwell",
          "size": 16
         }
        },
        "legend": {
         "title": {
          "text": "<b>Global Topic Representation"
         }
        },
        "template": {
         "data": {
          "bar": [
           {
            "error_x": {
             "color": "rgb(36,36,36)"
            },
            "error_y": {
             "color": "rgb(36,36,36)"
            },
            "marker": {
             "line": {
              "color": "white",
              "width": 0.5
             },
             "pattern": {
              "fillmode": "overlay",
              "size": 10,
              "solidity": 0.2
             }
            },
            "type": "bar"
           }
          ],
          "barpolar": [
           {
            "marker": {
             "line": {
              "color": "white",
              "width": 0.5
             },
             "pattern": {
              "fillmode": "overlay",
              "size": 10,
              "solidity": 0.2
             }
            },
            "type": "barpolar"
           }
          ],
          "carpet": [
           {
            "aaxis": {
             "endlinecolor": "rgb(36,36,36)",
             "gridcolor": "white",
             "linecolor": "white",
             "minorgridcolor": "white",
             "startlinecolor": "rgb(36,36,36)"
            },
            "baxis": {
             "endlinecolor": "rgb(36,36,36)",
             "gridcolor": "white",
             "linecolor": "white",
             "minorgridcolor": "white",
             "startlinecolor": "rgb(36,36,36)"
            },
            "type": "carpet"
           }
          ],
          "choropleth": [
           {
            "colorbar": {
             "outlinewidth": 1,
             "tickcolor": "rgb(36,36,36)",
             "ticks": "outside"
            },
            "type": "choropleth"
           }
          ],
          "contour": [
           {
            "colorbar": {
             "outlinewidth": 1,
             "tickcolor": "rgb(36,36,36)",
             "ticks": "outside"
            },
            "colorscale": [
             [
              0,
              "#440154"
             ],
             [
              0.1111111111111111,
              "#482878"
             ],
             [
              0.2222222222222222,
              "#3e4989"
             ],
             [
              0.3333333333333333,
              "#31688e"
             ],
             [
              0.4444444444444444,
              "#26828e"
             ],
             [
              0.5555555555555556,
              "#1f9e89"
             ],
             [
              0.6666666666666666,
              "#35b779"
             ],
             [
              0.7777777777777778,
              "#6ece58"
             ],
             [
              0.8888888888888888,
              "#b5de2b"
             ],
             [
              1,
              "#fde725"
             ]
            ],
            "type": "contour"
           }
          ],
          "contourcarpet": [
           {
            "colorbar": {
             "outlinewidth": 1,
             "tickcolor": "rgb(36,36,36)",
             "ticks": "outside"
            },
            "type": "contourcarpet"
           }
          ],
          "heatmap": [
           {
            "colorbar": {
             "outlinewidth": 1,
             "tickcolor": "rgb(36,36,36)",
             "ticks": "outside"
            },
            "colorscale": [
             [
              0,
              "#440154"
             ],
             [
              0.1111111111111111,
              "#482878"
             ],
             [
              0.2222222222222222,
              "#3e4989"
             ],
             [
              0.3333333333333333,
              "#31688e"
             ],
             [
              0.4444444444444444,
              "#26828e"
             ],
             [
              0.5555555555555556,
              "#1f9e89"
             ],
             [
              0.6666666666666666,
              "#35b779"
             ],
             [
              0.7777777777777778,
              "#6ece58"
             ],
             [
              0.8888888888888888,
              "#b5de2b"
             ],
             [
              1,
              "#fde725"
             ]
            ],
            "type": "heatmap"
           }
          ],
          "heatmapgl": [
           {
            "colorbar": {
             "outlinewidth": 1,
             "tickcolor": "rgb(36,36,36)",
             "ticks": "outside"
            },
            "colorscale": [
             [
              0,
              "#440154"
             ],
             [
              0.1111111111111111,
              "#482878"
             ],
             [
              0.2222222222222222,
              "#3e4989"
             ],
             [
              0.3333333333333333,
              "#31688e"
             ],
             [
              0.4444444444444444,
              "#26828e"
             ],
             [
              0.5555555555555556,
              "#1f9e89"
             ],
             [
              0.6666666666666666,
              "#35b779"
             ],
             [
              0.7777777777777778,
              "#6ece58"
             ],
             [
              0.8888888888888888,
              "#b5de2b"
             ],
             [
              1,
              "#fde725"
             ]
            ],
            "type": "heatmapgl"
           }
          ],
          "histogram": [
           {
            "marker": {
             "line": {
              "color": "white",
              "width": 0.6
             }
            },
            "type": "histogram"
           }
          ],
          "histogram2d": [
           {
            "colorbar": {
             "outlinewidth": 1,
             "tickcolor": "rgb(36,36,36)",
             "ticks": "outside"
            },
            "colorscale": [
             [
              0,
              "#440154"
             ],
             [
              0.1111111111111111,
              "#482878"
             ],
             [
              0.2222222222222222,
              "#3e4989"
             ],
             [
              0.3333333333333333,
              "#31688e"
             ],
             [
              0.4444444444444444,
              "#26828e"
             ],
             [
              0.5555555555555556,
              "#1f9e89"
             ],
             [
              0.6666666666666666,
              "#35b779"
             ],
             [
              0.7777777777777778,
              "#6ece58"
             ],
             [
              0.8888888888888888,
              "#b5de2b"
             ],
             [
              1,
              "#fde725"
             ]
            ],
            "type": "histogram2d"
           }
          ],
          "histogram2dcontour": [
           {
            "colorbar": {
             "outlinewidth": 1,
             "tickcolor": "rgb(36,36,36)",
             "ticks": "outside"
            },
            "colorscale": [
             [
              0,
              "#440154"
             ],
             [
              0.1111111111111111,
              "#482878"
             ],
             [
              0.2222222222222222,
              "#3e4989"
             ],
             [
              0.3333333333333333,
              "#31688e"
             ],
             [
              0.4444444444444444,
              "#26828e"
             ],
             [
              0.5555555555555556,
              "#1f9e89"
             ],
             [
              0.6666666666666666,
              "#35b779"
             ],
             [
              0.7777777777777778,
              "#6ece58"
             ],
             [
              0.8888888888888888,
              "#b5de2b"
             ],
             [
              1,
              "#fde725"
             ]
            ],
            "type": "histogram2dcontour"
           }
          ],
          "mesh3d": [
           {
            "colorbar": {
             "outlinewidth": 1,
             "tickcolor": "rgb(36,36,36)",
             "ticks": "outside"
            },
            "type": "mesh3d"
           }
          ],
          "parcoords": [
           {
            "line": {
             "colorbar": {
              "outlinewidth": 1,
              "tickcolor": "rgb(36,36,36)",
              "ticks": "outside"
             }
            },
            "type": "parcoords"
           }
          ],
          "pie": [
           {
            "automargin": true,
            "type": "pie"
           }
          ],
          "scatter": [
           {
            "fillpattern": {
             "fillmode": "overlay",
             "size": 10,
             "solidity": 0.2
            },
            "type": "scatter"
           }
          ],
          "scatter3d": [
           {
            "line": {
             "colorbar": {
              "outlinewidth": 1,
              "tickcolor": "rgb(36,36,36)",
              "ticks": "outside"
             }
            },
            "marker": {
             "colorbar": {
              "outlinewidth": 1,
              "tickcolor": "rgb(36,36,36)",
              "ticks": "outside"
             }
            },
            "type": "scatter3d"
           }
          ],
          "scattercarpet": [
           {
            "marker": {
             "colorbar": {
              "outlinewidth": 1,
              "tickcolor": "rgb(36,36,36)",
              "ticks": "outside"
             }
            },
            "type": "scattercarpet"
           }
          ],
          "scattergeo": [
           {
            "marker": {
             "colorbar": {
              "outlinewidth": 1,
              "tickcolor": "rgb(36,36,36)",
              "ticks": "outside"
             }
            },
            "type": "scattergeo"
           }
          ],
          "scattergl": [
           {
            "marker": {
             "colorbar": {
              "outlinewidth": 1,
              "tickcolor": "rgb(36,36,36)",
              "ticks": "outside"
             }
            },
            "type": "scattergl"
           }
          ],
          "scattermapbox": [
           {
            "marker": {
             "colorbar": {
              "outlinewidth": 1,
              "tickcolor": "rgb(36,36,36)",
              "ticks": "outside"
             }
            },
            "type": "scattermapbox"
           }
          ],
          "scatterpolar": [
           {
            "marker": {
             "colorbar": {
              "outlinewidth": 1,
              "tickcolor": "rgb(36,36,36)",
              "ticks": "outside"
             }
            },
            "type": "scatterpolar"
           }
          ],
          "scatterpolargl": [
           {
            "marker": {
             "colorbar": {
              "outlinewidth": 1,
              "tickcolor": "rgb(36,36,36)",
              "ticks": "outside"
             }
            },
            "type": "scatterpolargl"
           }
          ],
          "scatterternary": [
           {
            "marker": {
             "colorbar": {
              "outlinewidth": 1,
              "tickcolor": "rgb(36,36,36)",
              "ticks": "outside"
             }
            },
            "type": "scatterternary"
           }
          ],
          "surface": [
           {
            "colorbar": {
             "outlinewidth": 1,
             "tickcolor": "rgb(36,36,36)",
             "ticks": "outside"
            },
            "colorscale": [
             [
              0,
              "#440154"
             ],
             [
              0.1111111111111111,
              "#482878"
             ],
             [
              0.2222222222222222,
              "#3e4989"
             ],
             [
              0.3333333333333333,
              "#31688e"
             ],
             [
              0.4444444444444444,
              "#26828e"
             ],
             [
              0.5555555555555556,
              "#1f9e89"
             ],
             [
              0.6666666666666666,
              "#35b779"
             ],
             [
              0.7777777777777778,
              "#6ece58"
             ],
             [
              0.8888888888888888,
              "#b5de2b"
             ],
             [
              1,
              "#fde725"
             ]
            ],
            "type": "surface"
           }
          ],
          "table": [
           {
            "cells": {
             "fill": {
              "color": "rgb(237,237,237)"
             },
             "line": {
              "color": "white"
             }
            },
            "header": {
             "fill": {
              "color": "rgb(217,217,217)"
             },
             "line": {
              "color": "white"
             }
            },
            "type": "table"
           }
          ]
         },
         "layout": {
          "annotationdefaults": {
           "arrowhead": 0,
           "arrowwidth": 1
          },
          "autotypenumbers": "strict",
          "coloraxis": {
           "colorbar": {
            "outlinewidth": 1,
            "tickcolor": "rgb(36,36,36)",
            "ticks": "outside"
           }
          },
          "colorscale": {
           "diverging": [
            [
             0,
             "rgb(103,0,31)"
            ],
            [
             0.1,
             "rgb(178,24,43)"
            ],
            [
             0.2,
             "rgb(214,96,77)"
            ],
            [
             0.3,
             "rgb(244,165,130)"
            ],
            [
             0.4,
             "rgb(253,219,199)"
            ],
            [
             0.5,
             "rgb(247,247,247)"
            ],
            [
             0.6,
             "rgb(209,229,240)"
            ],
            [
             0.7,
             "rgb(146,197,222)"
            ],
            [
             0.8,
             "rgb(67,147,195)"
            ],
            [
             0.9,
             "rgb(33,102,172)"
            ],
            [
             1,
             "rgb(5,48,97)"
            ]
           ],
           "sequential": [
            [
             0,
             "#440154"
            ],
            [
             0.1111111111111111,
             "#482878"
            ],
            [
             0.2222222222222222,
             "#3e4989"
            ],
            [
             0.3333333333333333,
             "#31688e"
            ],
            [
             0.4444444444444444,
             "#26828e"
            ],
            [
             0.5555555555555556,
             "#1f9e89"
            ],
            [
             0.6666666666666666,
             "#35b779"
            ],
            [
             0.7777777777777778,
             "#6ece58"
            ],
            [
             0.8888888888888888,
             "#b5de2b"
            ],
            [
             1,
             "#fde725"
            ]
           ],
           "sequentialminus": [
            [
             0,
             "#440154"
            ],
            [
             0.1111111111111111,
             "#482878"
            ],
            [
             0.2222222222222222,
             "#3e4989"
            ],
            [
             0.3333333333333333,
             "#31688e"
            ],
            [
             0.4444444444444444,
             "#26828e"
            ],
            [
             0.5555555555555556,
             "#1f9e89"
            ],
            [
             0.6666666666666666,
             "#35b779"
            ],
            [
             0.7777777777777778,
             "#6ece58"
            ],
            [
             0.8888888888888888,
             "#b5de2b"
            ],
            [
             1,
             "#fde725"
            ]
           ]
          },
          "colorway": [
           "#1F77B4",
           "#FF7F0E",
           "#2CA02C",
           "#D62728",
           "#9467BD",
           "#8C564B",
           "#E377C2",
           "#7F7F7F",
           "#BCBD22",
           "#17BECF"
          ],
          "font": {
           "color": "rgb(36,36,36)"
          },
          "geo": {
           "bgcolor": "white",
           "lakecolor": "white",
           "landcolor": "white",
           "showlakes": true,
           "showland": true,
           "subunitcolor": "white"
          },
          "hoverlabel": {
           "align": "left"
          },
          "hovermode": "closest",
          "mapbox": {
           "style": "light"
          },
          "paper_bgcolor": "white",
          "plot_bgcolor": "white",
          "polar": {
           "angularaxis": {
            "gridcolor": "rgb(232,232,232)",
            "linecolor": "rgb(36,36,36)",
            "showgrid": false,
            "showline": true,
            "ticks": "outside"
           },
           "bgcolor": "white",
           "radialaxis": {
            "gridcolor": "rgb(232,232,232)",
            "linecolor": "rgb(36,36,36)",
            "showgrid": false,
            "showline": true,
            "ticks": "outside"
           }
          },
          "scene": {
           "xaxis": {
            "backgroundcolor": "white",
            "gridcolor": "rgb(232,232,232)",
            "gridwidth": 2,
            "linecolor": "rgb(36,36,36)",
            "showbackground": true,
            "showgrid": false,
            "showline": true,
            "ticks": "outside",
            "zeroline": false,
            "zerolinecolor": "rgb(36,36,36)"
           },
           "yaxis": {
            "backgroundcolor": "white",
            "gridcolor": "rgb(232,232,232)",
            "gridwidth": 2,
            "linecolor": "rgb(36,36,36)",
            "showbackground": true,
            "showgrid": false,
            "showline": true,
            "ticks": "outside",
            "zeroline": false,
            "zerolinecolor": "rgb(36,36,36)"
           },
           "zaxis": {
            "backgroundcolor": "white",
            "gridcolor": "rgb(232,232,232)",
            "gridwidth": 2,
            "linecolor": "rgb(36,36,36)",
            "showbackground": true,
            "showgrid": false,
            "showline": true,
            "ticks": "outside",
            "zeroline": false,
            "zerolinecolor": "rgb(36,36,36)"
           }
          },
          "shapedefaults": {
           "fillcolor": "black",
           "line": {
            "width": 0
           },
           "opacity": 0.3
          },
          "ternary": {
           "aaxis": {
            "gridcolor": "rgb(232,232,232)",
            "linecolor": "rgb(36,36,36)",
            "showgrid": false,
            "showline": true,
            "ticks": "outside"
           },
           "baxis": {
            "gridcolor": "rgb(232,232,232)",
            "linecolor": "rgb(36,36,36)",
            "showgrid": false,
            "showline": true,
            "ticks": "outside"
           },
           "bgcolor": "white",
           "caxis": {
            "gridcolor": "rgb(232,232,232)",
            "linecolor": "rgb(36,36,36)",
            "showgrid": false,
            "showline": true,
            "ticks": "outside"
           }
          },
          "title": {
           "x": 0.05
          },
          "xaxis": {
           "automargin": true,
           "gridcolor": "rgb(232,232,232)",
           "linecolor": "rgb(36,36,36)",
           "showgrid": false,
           "showline": true,
           "ticks": "outside",
           "title": {
            "standoff": 15
           },
           "zeroline": false,
           "zerolinecolor": "rgb(36,36,36)"
          },
          "yaxis": {
           "automargin": true,
           "gridcolor": "rgb(232,232,232)",
           "linecolor": "rgb(36,36,36)",
           "showgrid": false,
           "showline": true,
           "ticks": "outside",
           "title": {
            "standoff": 15
           },
           "zeroline": false,
           "zerolinecolor": "rgb(36,36,36)"
          }
         }
        },
        "title": {
         "font": {
          "color": "Black",
          "size": 22
         },
         "text": "Topics Over Time for 2020Q4",
         "x": 0.4,
         "xanchor": "center",
         "y": 0.95,
         "yanchor": "top"
        },
        "width": 1250,
        "xaxis": {
         "showgrid": true
        },
        "yaxis": {
         "showgrid": true,
         "title": {
          "text": "Frequency"
         }
        }
       }
      }
     },
     "metadata": {},
     "output_type": "display_data"
    },
    {
     "data": {
      "application/vnd.plotly.v1+json": {
       "config": {
        "plotlyServerURL": "https://plot.ly"
       },
       "data": [
        {
         "hoverinfo": "text",
         "hovertext": [
          "<b>Topic 0</b><br>Words: kualitas, mampu, otsus, papua, tingkat",
          "<b>Topic 0</b><br>Words: kualitas, mampu, otsus, papua, tingkat",
          "<b>Topic 0</b><br>Words: kualitas, mampu, otsus, papua, tingkat",
          "<b>Topic 0</b><br>Words: otsus, tara, sektor, kualitas, mampu",
          "<b>Topic 0</b><br>Words: politik, indonesia, kualitas, mampu, otsus",
          "<b>Topic 0</b><br>Words: kualitas, mampu, otsus, papua, tingkat"
         ],
         "marker": {
          "color": "#E69F00"
         },
         "mode": "lines",
         "name": "0_kualitas_mampu_otsus_papua",
         "type": "scatter",
         "x": [
          "2021-01-28T06:42:15.533333+00:00",
          "2021-02-05T18:03:21.666666+00:00",
          "2021-02-12T02:34:11.266666+00:00",
          "2021-02-16T08:14:44.333333+00:00",
          "2021-02-24T19:35:50.466666+00:00",
          "2021-02-26T22:26:07+00:00"
         ],
         "y": [
          4,
          2,
          1,
          1,
          1,
          4
         ]
        },
        {
         "hoverinfo": "text",
         "hovertext": [
          "<b>Topic 1</b><br>Words: audiensi, tengah, langsung, biaya, pandemi",
          "<b>Topic 1</b><br>Words: pandemi, tilik, sektor, covid, audiensi"
         ],
         "marker": {
          "color": "#56B4E9"
         },
         "mode": "lines",
         "name": "1_audiensi_tengah_pandemi_langsung",
         "type": "scatter",
         "x": [
          "2021-02-16T08:14:44.333333+00:00",
          "2021-03-01T01:16:23.533333+00:00"
         ],
         "y": [
          10,
          1
         ]
        },
        {
         "hoverinfo": "text",
         "hovertext": [
          "<b>Topic 2</b><br>Words: musik, rancang, tradisional, apresiasi, lindung",
          "<b>Topic 2</b><br>Words: musik, rancang, hari, ingat, kemarin",
          "<b>Topic 2</b><br>Words: musik, tradisional, apresiasi, karya, cipta"
         ],
         "marker": {
          "color": "#009E73"
         },
         "mode": "lines",
         "name": "2_musik_tradisional_apresiasi_karya",
         "type": "scatter",
         "x": [
          "2021-03-07T09:47:13.133333+00:00",
          "2021-03-09T12:37:29.666666+00:00",
          "2021-03-13T18:18:02.733333+00:00"
         ],
         "y": [
          2,
          1,
          15
         ]
        },
        {
         "hoverinfo": "text",
         "hovertext": [
          "<b>Topic 3</b><br>Words: jadi, wajib, kad, jamin, copot",
          "<b>Topic 3</b><br>Words: jadi, pjp, susun, perintah, peta",
          "<b>Topic 3</b><br>Words: pdi, juang, sangat, internal, harga",
          "<b>Topic 3</b><br>Words: ibu, cebong, bela, jalan, peta",
          "<b>Topic 3</b><br>Words: jadi, sekolah, menteri, nasional, anak",
          "<b>Topic 3</b><br>Words: perintah, mesti, indonesia, menteri, buat",
          "<b>Topic 3</b><br>Words: lebih, program, indonesia, prakerja, kartu",
          "<b>Topic 3</b><br>Words: sehat, india, via, uji, assocham",
          "<b>Topic 3</b><br>Words: sama, punya, negeri, pak, gue",
          "<b>Topic 3</b><br>Words: macam, harap, gaji, soal, guru",
          "<b>Topic 3</b><br>Words: pandemi, bop, audiensi, biaya, ajar",
          "<b>Topic 3</b><br>Words: papua, masyarakat, dukung, kamu, informasi",
          "<b>Topic 3</b><br>Words: sertifikasi, forum, tuai, honorer, ketua",
          "<b>Topic 3</b><br>Words: kota, sekolah, lamongan, dukung, banjir",
          "<b>Topic 3</b><br>Words: internet, kuota, ilmiah, sarah, radio",
          "<b>Topic 3</b><br>Words: desa, masyarakat, paket, papua, miras",
          "<b>Topic 3</b><br>Words: bantu, internet, lanjut, kuota, data",
          "<b>Topic 3</b><br>Words: kuota, bantu, ajar, kemendikbud, lanjut",
          "<b>Topic 3</b><br>Words: kritik, merdeka, ajar, banyak, apa",
          "<b>Topic 3</b><br>Words: perempuan, agama, amp, perintah, anak",
          "<b>Topic 3</b><br>Words: agama, frasa, internet, jalan, kemendikbud",
          "<b>Topic 3</b><br>Words: gue, tahun, paud, wajib, nasional",
          "<b>Topic 3</b><br>Words: lanka, sri, tutup, larang, nasional",
          "<b>Topic 3</b><br>Words: widodo, joko, lama, ikut, anak",
          "<b>Topic 3</b><br>Words: papua, golkar, partai, masyarakat, dukung",
          "<b>Topic 3</b><br>Words: keluarga, kunjung, ormawa, nilai, laksana",
          "<b>Topic 3</b><br>Words: bukan, jalan, ajar, bekas, serta",
          "<b>Topic 3</b><br>Words: papua, masyarakat, bukti, dukung, khusus",
          "<b>Topic 3</b><br>Words: penting, nyawa, otsus, coba, sejahtera",
          "<b>Topic 3</b><br>Words: sekolah, jam, kakak, tangan, tanya"
         ],
         "marker": {
          "color": "#F0E442"
         },
         "mode": "lines",
         "name": "3_sekolah_menteri_indonesia_ajar",
         "type": "scatter",
         "x": [
          "2021-01-26T02:20:28.504000+00:00",
          "2021-01-28T06:42:15.533333+00:00",
          "2021-01-30T09:32:32.066666+00:00",
          "2021-02-01T12:22:48.600000+00:00",
          "2021-02-03T15:13:05.133333+00:00",
          "2021-02-05T18:03:21.666666+00:00",
          "2021-02-07T20:53:38.200000+00:00",
          "2021-02-09T23:43:54.733333+00:00",
          "2021-02-12T02:34:11.266666+00:00",
          "2021-02-14T05:24:27.800000+00:00",
          "2021-02-16T08:14:44.333333+00:00",
          "2021-02-18T11:05:00.866666+00:00",
          "2021-02-20T13:55:17.400000+00:00",
          "2021-02-22T16:45:33.933333+00:00",
          "2021-02-24T19:35:50.466666+00:00",
          "2021-02-26T22:26:07+00:00",
          "2021-03-01T01:16:23.533333+00:00",
          "2021-03-03T04:06:40.066666+00:00",
          "2021-03-05T06:56:56.600000+00:00",
          "2021-03-07T09:47:13.133333+00:00",
          "2021-03-09T12:37:29.666666+00:00",
          "2021-03-11T15:27:46.200000+00:00",
          "2021-03-13T18:18:02.733333+00:00",
          "2021-03-15T21:08:19.266666+00:00",
          "2021-03-17T23:58:35.800000+00:00",
          "2021-03-20T02:48:52.333333+00:00",
          "2021-03-22T05:39:08.866666+00:00",
          "2021-03-24T08:29:25.400000+00:00",
          "2021-03-26T11:19:41.933333+00:00",
          "2021-03-28T14:09:58.466666+00:00"
         ],
         "y": [
          9,
          15,
          2,
          11,
          20,
          20,
          12,
          6,
          9,
          5,
          13,
          6,
          1,
          9,
          15,
          3,
          18,
          9,
          6,
          10,
          17,
          11,
          12,
          3,
          3,
          3,
          7,
          11,
          4,
          10
         ]
        }
       ],
       "layout": {
        "height": 450,
        "hoverlabel": {
         "bgcolor": "white",
         "font": {
          "family": "Rockwell",
          "size": 16
         }
        },
        "legend": {
         "title": {
          "text": "<b>Global Topic Representation"
         }
        },
        "template": {
         "data": {
          "bar": [
           {
            "error_x": {
             "color": "rgb(36,36,36)"
            },
            "error_y": {
             "color": "rgb(36,36,36)"
            },
            "marker": {
             "line": {
              "color": "white",
              "width": 0.5
             },
             "pattern": {
              "fillmode": "overlay",
              "size": 10,
              "solidity": 0.2
             }
            },
            "type": "bar"
           }
          ],
          "barpolar": [
           {
            "marker": {
             "line": {
              "color": "white",
              "width": 0.5
             },
             "pattern": {
              "fillmode": "overlay",
              "size": 10,
              "solidity": 0.2
             }
            },
            "type": "barpolar"
           }
          ],
          "carpet": [
           {
            "aaxis": {
             "endlinecolor": "rgb(36,36,36)",
             "gridcolor": "white",
             "linecolor": "white",
             "minorgridcolor": "white",
             "startlinecolor": "rgb(36,36,36)"
            },
            "baxis": {
             "endlinecolor": "rgb(36,36,36)",
             "gridcolor": "white",
             "linecolor": "white",
             "minorgridcolor": "white",
             "startlinecolor": "rgb(36,36,36)"
            },
            "type": "carpet"
           }
          ],
          "choropleth": [
           {
            "colorbar": {
             "outlinewidth": 1,
             "tickcolor": "rgb(36,36,36)",
             "ticks": "outside"
            },
            "type": "choropleth"
           }
          ],
          "contour": [
           {
            "colorbar": {
             "outlinewidth": 1,
             "tickcolor": "rgb(36,36,36)",
             "ticks": "outside"
            },
            "colorscale": [
             [
              0,
              "#440154"
             ],
             [
              0.1111111111111111,
              "#482878"
             ],
             [
              0.2222222222222222,
              "#3e4989"
             ],
             [
              0.3333333333333333,
              "#31688e"
             ],
             [
              0.4444444444444444,
              "#26828e"
             ],
             [
              0.5555555555555556,
              "#1f9e89"
             ],
             [
              0.6666666666666666,
              "#35b779"
             ],
             [
              0.7777777777777778,
              "#6ece58"
             ],
             [
              0.8888888888888888,
              "#b5de2b"
             ],
             [
              1,
              "#fde725"
             ]
            ],
            "type": "contour"
           }
          ],
          "contourcarpet": [
           {
            "colorbar": {
             "outlinewidth": 1,
             "tickcolor": "rgb(36,36,36)",
             "ticks": "outside"
            },
            "type": "contourcarpet"
           }
          ],
          "heatmap": [
           {
            "colorbar": {
             "outlinewidth": 1,
             "tickcolor": "rgb(36,36,36)",
             "ticks": "outside"
            },
            "colorscale": [
             [
              0,
              "#440154"
             ],
             [
              0.1111111111111111,
              "#482878"
             ],
             [
              0.2222222222222222,
              "#3e4989"
             ],
             [
              0.3333333333333333,
              "#31688e"
             ],
             [
              0.4444444444444444,
              "#26828e"
             ],
             [
              0.5555555555555556,
              "#1f9e89"
             ],
             [
              0.6666666666666666,
              "#35b779"
             ],
             [
              0.7777777777777778,
              "#6ece58"
             ],
             [
              0.8888888888888888,
              "#b5de2b"
             ],
             [
              1,
              "#fde725"
             ]
            ],
            "type": "heatmap"
           }
          ],
          "heatmapgl": [
           {
            "colorbar": {
             "outlinewidth": 1,
             "tickcolor": "rgb(36,36,36)",
             "ticks": "outside"
            },
            "colorscale": [
             [
              0,
              "#440154"
             ],
             [
              0.1111111111111111,
              "#482878"
             ],
             [
              0.2222222222222222,
              "#3e4989"
             ],
             [
              0.3333333333333333,
              "#31688e"
             ],
             [
              0.4444444444444444,
              "#26828e"
             ],
             [
              0.5555555555555556,
              "#1f9e89"
             ],
             [
              0.6666666666666666,
              "#35b779"
             ],
             [
              0.7777777777777778,
              "#6ece58"
             ],
             [
              0.8888888888888888,
              "#b5de2b"
             ],
             [
              1,
              "#fde725"
             ]
            ],
            "type": "heatmapgl"
           }
          ],
          "histogram": [
           {
            "marker": {
             "line": {
              "color": "white",
              "width": 0.6
             }
            },
            "type": "histogram"
           }
          ],
          "histogram2d": [
           {
            "colorbar": {
             "outlinewidth": 1,
             "tickcolor": "rgb(36,36,36)",
             "ticks": "outside"
            },
            "colorscale": [
             [
              0,
              "#440154"
             ],
             [
              0.1111111111111111,
              "#482878"
             ],
             [
              0.2222222222222222,
              "#3e4989"
             ],
             [
              0.3333333333333333,
              "#31688e"
             ],
             [
              0.4444444444444444,
              "#26828e"
             ],
             [
              0.5555555555555556,
              "#1f9e89"
             ],
             [
              0.6666666666666666,
              "#35b779"
             ],
             [
              0.7777777777777778,
              "#6ece58"
             ],
             [
              0.8888888888888888,
              "#b5de2b"
             ],
             [
              1,
              "#fde725"
             ]
            ],
            "type": "histogram2d"
           }
          ],
          "histogram2dcontour": [
           {
            "colorbar": {
             "outlinewidth": 1,
             "tickcolor": "rgb(36,36,36)",
             "ticks": "outside"
            },
            "colorscale": [
             [
              0,
              "#440154"
             ],
             [
              0.1111111111111111,
              "#482878"
             ],
             [
              0.2222222222222222,
              "#3e4989"
             ],
             [
              0.3333333333333333,
              "#31688e"
             ],
             [
              0.4444444444444444,
              "#26828e"
             ],
             [
              0.5555555555555556,
              "#1f9e89"
             ],
             [
              0.6666666666666666,
              "#35b779"
             ],
             [
              0.7777777777777778,
              "#6ece58"
             ],
             [
              0.8888888888888888,
              "#b5de2b"
             ],
             [
              1,
              "#fde725"
             ]
            ],
            "type": "histogram2dcontour"
           }
          ],
          "mesh3d": [
           {
            "colorbar": {
             "outlinewidth": 1,
             "tickcolor": "rgb(36,36,36)",
             "ticks": "outside"
            },
            "type": "mesh3d"
           }
          ],
          "parcoords": [
           {
            "line": {
             "colorbar": {
              "outlinewidth": 1,
              "tickcolor": "rgb(36,36,36)",
              "ticks": "outside"
             }
            },
            "type": "parcoords"
           }
          ],
          "pie": [
           {
            "automargin": true,
            "type": "pie"
           }
          ],
          "scatter": [
           {
            "fillpattern": {
             "fillmode": "overlay",
             "size": 10,
             "solidity": 0.2
            },
            "type": "scatter"
           }
          ],
          "scatter3d": [
           {
            "line": {
             "colorbar": {
              "outlinewidth": 1,
              "tickcolor": "rgb(36,36,36)",
              "ticks": "outside"
             }
            },
            "marker": {
             "colorbar": {
              "outlinewidth": 1,
              "tickcolor": "rgb(36,36,36)",
              "ticks": "outside"
             }
            },
            "type": "scatter3d"
           }
          ],
          "scattercarpet": [
           {
            "marker": {
             "colorbar": {
              "outlinewidth": 1,
              "tickcolor": "rgb(36,36,36)",
              "ticks": "outside"
             }
            },
            "type": "scattercarpet"
           }
          ],
          "scattergeo": [
           {
            "marker": {
             "colorbar": {
              "outlinewidth": 1,
              "tickcolor": "rgb(36,36,36)",
              "ticks": "outside"
             }
            },
            "type": "scattergeo"
           }
          ],
          "scattergl": [
           {
            "marker": {
             "colorbar": {
              "outlinewidth": 1,
              "tickcolor": "rgb(36,36,36)",
              "ticks": "outside"
             }
            },
            "type": "scattergl"
           }
          ],
          "scattermapbox": [
           {
            "marker": {
             "colorbar": {
              "outlinewidth": 1,
              "tickcolor": "rgb(36,36,36)",
              "ticks": "outside"
             }
            },
            "type": "scattermapbox"
           }
          ],
          "scatterpolar": [
           {
            "marker": {
             "colorbar": {
              "outlinewidth": 1,
              "tickcolor": "rgb(36,36,36)",
              "ticks": "outside"
             }
            },
            "type": "scatterpolar"
           }
          ],
          "scatterpolargl": [
           {
            "marker": {
             "colorbar": {
              "outlinewidth": 1,
              "tickcolor": "rgb(36,36,36)",
              "ticks": "outside"
             }
            },
            "type": "scatterpolargl"
           }
          ],
          "scatterternary": [
           {
            "marker": {
             "colorbar": {
              "outlinewidth": 1,
              "tickcolor": "rgb(36,36,36)",
              "ticks": "outside"
             }
            },
            "type": "scatterternary"
           }
          ],
          "surface": [
           {
            "colorbar": {
             "outlinewidth": 1,
             "tickcolor": "rgb(36,36,36)",
             "ticks": "outside"
            },
            "colorscale": [
             [
              0,
              "#440154"
             ],
             [
              0.1111111111111111,
              "#482878"
             ],
             [
              0.2222222222222222,
              "#3e4989"
             ],
             [
              0.3333333333333333,
              "#31688e"
             ],
             [
              0.4444444444444444,
              "#26828e"
             ],
             [
              0.5555555555555556,
              "#1f9e89"
             ],
             [
              0.6666666666666666,
              "#35b779"
             ],
             [
              0.7777777777777778,
              "#6ece58"
             ],
             [
              0.8888888888888888,
              "#b5de2b"
             ],
             [
              1,
              "#fde725"
             ]
            ],
            "type": "surface"
           }
          ],
          "table": [
           {
            "cells": {
             "fill": {
              "color": "rgb(237,237,237)"
             },
             "line": {
              "color": "white"
             }
            },
            "header": {
             "fill": {
              "color": "rgb(217,217,217)"
             },
             "line": {
              "color": "white"
             }
            },
            "type": "table"
           }
          ]
         },
         "layout": {
          "annotationdefaults": {
           "arrowhead": 0,
           "arrowwidth": 1
          },
          "autotypenumbers": "strict",
          "coloraxis": {
           "colorbar": {
            "outlinewidth": 1,
            "tickcolor": "rgb(36,36,36)",
            "ticks": "outside"
           }
          },
          "colorscale": {
           "diverging": [
            [
             0,
             "rgb(103,0,31)"
            ],
            [
             0.1,
             "rgb(178,24,43)"
            ],
            [
             0.2,
             "rgb(214,96,77)"
            ],
            [
             0.3,
             "rgb(244,165,130)"
            ],
            [
             0.4,
             "rgb(253,219,199)"
            ],
            [
             0.5,
             "rgb(247,247,247)"
            ],
            [
             0.6,
             "rgb(209,229,240)"
            ],
            [
             0.7,
             "rgb(146,197,222)"
            ],
            [
             0.8,
             "rgb(67,147,195)"
            ],
            [
             0.9,
             "rgb(33,102,172)"
            ],
            [
             1,
             "rgb(5,48,97)"
            ]
           ],
           "sequential": [
            [
             0,
             "#440154"
            ],
            [
             0.1111111111111111,
             "#482878"
            ],
            [
             0.2222222222222222,
             "#3e4989"
            ],
            [
             0.3333333333333333,
             "#31688e"
            ],
            [
             0.4444444444444444,
             "#26828e"
            ],
            [
             0.5555555555555556,
             "#1f9e89"
            ],
            [
             0.6666666666666666,
             "#35b779"
            ],
            [
             0.7777777777777778,
             "#6ece58"
            ],
            [
             0.8888888888888888,
             "#b5de2b"
            ],
            [
             1,
             "#fde725"
            ]
           ],
           "sequentialminus": [
            [
             0,
             "#440154"
            ],
            [
             0.1111111111111111,
             "#482878"
            ],
            [
             0.2222222222222222,
             "#3e4989"
            ],
            [
             0.3333333333333333,
             "#31688e"
            ],
            [
             0.4444444444444444,
             "#26828e"
            ],
            [
             0.5555555555555556,
             "#1f9e89"
            ],
            [
             0.6666666666666666,
             "#35b779"
            ],
            [
             0.7777777777777778,
             "#6ece58"
            ],
            [
             0.8888888888888888,
             "#b5de2b"
            ],
            [
             1,
             "#fde725"
            ]
           ]
          },
          "colorway": [
           "#1F77B4",
           "#FF7F0E",
           "#2CA02C",
           "#D62728",
           "#9467BD",
           "#8C564B",
           "#E377C2",
           "#7F7F7F",
           "#BCBD22",
           "#17BECF"
          ],
          "font": {
           "color": "rgb(36,36,36)"
          },
          "geo": {
           "bgcolor": "white",
           "lakecolor": "white",
           "landcolor": "white",
           "showlakes": true,
           "showland": true,
           "subunitcolor": "white"
          },
          "hoverlabel": {
           "align": "left"
          },
          "hovermode": "closest",
          "mapbox": {
           "style": "light"
          },
          "paper_bgcolor": "white",
          "plot_bgcolor": "white",
          "polar": {
           "angularaxis": {
            "gridcolor": "rgb(232,232,232)",
            "linecolor": "rgb(36,36,36)",
            "showgrid": false,
            "showline": true,
            "ticks": "outside"
           },
           "bgcolor": "white",
           "radialaxis": {
            "gridcolor": "rgb(232,232,232)",
            "linecolor": "rgb(36,36,36)",
            "showgrid": false,
            "showline": true,
            "ticks": "outside"
           }
          },
          "scene": {
           "xaxis": {
            "backgroundcolor": "white",
            "gridcolor": "rgb(232,232,232)",
            "gridwidth": 2,
            "linecolor": "rgb(36,36,36)",
            "showbackground": true,
            "showgrid": false,
            "showline": true,
            "ticks": "outside",
            "zeroline": false,
            "zerolinecolor": "rgb(36,36,36)"
           },
           "yaxis": {
            "backgroundcolor": "white",
            "gridcolor": "rgb(232,232,232)",
            "gridwidth": 2,
            "linecolor": "rgb(36,36,36)",
            "showbackground": true,
            "showgrid": false,
            "showline": true,
            "ticks": "outside",
            "zeroline": false,
            "zerolinecolor": "rgb(36,36,36)"
           },
           "zaxis": {
            "backgroundcolor": "white",
            "gridcolor": "rgb(232,232,232)",
            "gridwidth": 2,
            "linecolor": "rgb(36,36,36)",
            "showbackground": true,
            "showgrid": false,
            "showline": true,
            "ticks": "outside",
            "zeroline": false,
            "zerolinecolor": "rgb(36,36,36)"
           }
          },
          "shapedefaults": {
           "fillcolor": "black",
           "line": {
            "width": 0
           },
           "opacity": 0.3
          },
          "ternary": {
           "aaxis": {
            "gridcolor": "rgb(232,232,232)",
            "linecolor": "rgb(36,36,36)",
            "showgrid": false,
            "showline": true,
            "ticks": "outside"
           },
           "baxis": {
            "gridcolor": "rgb(232,232,232)",
            "linecolor": "rgb(36,36,36)",
            "showgrid": false,
            "showline": true,
            "ticks": "outside"
           },
           "bgcolor": "white",
           "caxis": {
            "gridcolor": "rgb(232,232,232)",
            "linecolor": "rgb(36,36,36)",
            "showgrid": false,
            "showline": true,
            "ticks": "outside"
           }
          },
          "title": {
           "x": 0.05
          },
          "xaxis": {
           "automargin": true,
           "gridcolor": "rgb(232,232,232)",
           "linecolor": "rgb(36,36,36)",
           "showgrid": false,
           "showline": true,
           "ticks": "outside",
           "title": {
            "standoff": 15
           },
           "zeroline": false,
           "zerolinecolor": "rgb(36,36,36)"
          },
          "yaxis": {
           "automargin": true,
           "gridcolor": "rgb(232,232,232)",
           "linecolor": "rgb(36,36,36)",
           "showgrid": false,
           "showline": true,
           "ticks": "outside",
           "title": {
            "standoff": 15
           },
           "zeroline": false,
           "zerolinecolor": "rgb(36,36,36)"
          }
         }
        },
        "title": {
         "font": {
          "color": "Black",
          "size": 22
         },
         "text": "Topics Over Time for 2021Q1",
         "x": 0.4,
         "xanchor": "center",
         "y": 0.95,
         "yanchor": "top"
        },
        "width": 1250,
        "xaxis": {
         "showgrid": true
        },
        "yaxis": {
         "showgrid": true,
         "title": {
          "text": "Frequency"
         }
        }
       }
      }
     },
     "metadata": {},
     "output_type": "display_data"
    },
    {
     "data": {
      "application/vnd.plotly.v1+json": {
       "config": {
        "plotlyServerURL": "https://plot.ly"
       },
       "data": [
        {
         "hoverinfo": "text",
         "hovertext": [
          "<b>Topic 0</b><br>Words: papua, otsus, infrastruktur, sehat, kawal",
          "<b>Topic 0</b><br>Words: papua, otsus, infrastruktur, sehat, tara",
          "<b>Topic 0</b><br>Words: papua, infrastruktur, otsus, sehat, daya",
          "<b>Topic 0</b><br>Words: pen, sehat, pulih, apbn, optimal",
          "<b>Topic 0</b><br>Words: papua, dokter, umum, cenderawasih, fk",
          "<b>Topic 0</b><br>Words: papua, otsus, fsmpm, mahasiswa, maju"
         ],
         "marker": {
          "color": "#E69F00"
         },
         "mode": "lines",
         "name": "0_papua_otsus_infrastruktur_sehat",
         "type": "scatter",
         "x": [
          "2021-04-01T00:21:29.753000+00:00",
          "2021-04-04T01:54:02.566666+00:00",
          "2021-04-07T01:18:04.133333+00:00",
          "2021-04-13T00:06:07.266666+00:00",
          "2021-04-21T22:18:11.966666+00:00",
          "2021-04-24T21:42:13.533333+00:00"
         ],
         "y": [
          2,
          4,
          6,
          1,
          1,
          1
         ]
        },
        {
         "hoverinfo": "text",
         "hovertext": [
          "<b>Topic 1</b><br>Words: program, ajar, kip, jalan, sekolah",
          "<b>Topic 1</b><br>Words: kurikulum, merdeka, kipk, kip, kata",
          "<b>Topic 1</b><br>Words: gt, implementasi, menteri, timur, kalimantan",
          "<b>Topic 1</b><br>Words: riset, menteri, tak, ajar, budaya",
          "<b>Topic 1</b><br>Words: menteri, merdeka, budaya, kemendikbud, satu",
          "<b>Topic 1</b><br>Words: merdeka, negara, menteri, budaya, tuju",
          "<b>Topic 1</b><br>Words: indonesia, menteri, sekolah, ubah, orang",
          "<b>Topic 1</b><br>Words: buku, program, ajar, lptk, bahas",
          "<b>Topic 1</b><br>Words: sama, dulu, orang, ajar, ribut",
          "<b>Topic 1</b><br>Words: menteri, budaya, minimal, tangguh, dprd",
          "<b>Topic 1</b><br>Words: ajar, kalau, percuma, merdeka, guru",
          "<b>Topic 1</b><br>Words: sekolah, buat, zonasi, ajar, menteri",
          "<b>Topic 1</b><br>Words: marah, awal, negeri, tatsqif, panitia",
          "<b>Topic 1</b><br>Words: kerjasama, nasional, banking, stie, school",
          "<b>Topic 1</b><br>Words: selalu, ganti, muhammadiyah, menteri, budaya",
          "<b>Topic 1</b><br>Words: covid, hijau, kota, pihak, perintah",
          "<b>Topic 1</b><br>Words: merdeka, pajak, jabat, remaja, enggak",
          "<b>Topic 1</b><br>Words: provinsi, kategori, perintah, masuk, henti",
          "<b>Topic 1</b><br>Words: enggak, buat, its, presiden, hidup"
         ],
         "marker": {
          "color": "#56B4E9"
         },
         "mode": "lines",
         "name": "1_menteri_ajar_merdeka_budaya",
         "type": "scatter",
         "x": [
          "2021-04-01T00:21:29.753000+00:00",
          "2021-04-04T01:54:02.566666+00:00",
          "2021-04-07T01:18:04.133333+00:00",
          "2021-04-10T00:42:05.700000+00:00",
          "2021-04-13T00:06:07.266666+00:00",
          "2021-04-15T23:30:08.833333+00:00",
          "2021-04-18T22:54:10.400000+00:00",
          "2021-04-21T22:18:11.966666+00:00",
          "2021-04-24T21:42:13.533333+00:00",
          "2021-04-27T21:06:15.100000+00:00",
          "2021-05-15T17:30:24.500000+00:00",
          "2021-05-18T16:54:26.066666+00:00",
          "2021-05-21T16:18:27.633333+00:00",
          "2021-05-24T15:42:29.200000+00:00",
          "2021-05-27T15:06:30.766666+00:00",
          "2021-06-17T10:54:41.733333+00:00",
          "2021-06-20T10:18:43.300000+00:00",
          "2021-06-23T09:42:44.866666+00:00",
          "2021-06-26T09:06:46.433333+00:00"
         ],
         "y": [
          10,
          5,
          15,
          15,
          14,
          16,
          18,
          19,
          9,
          6,
          9,
          14,
          3,
          7,
          7,
          6,
          16,
          4,
          10
         ]
        }
       ],
       "layout": {
        "height": 450,
        "hoverlabel": {
         "bgcolor": "white",
         "font": {
          "family": "Rockwell",
          "size": 16
         }
        },
        "legend": {
         "title": {
          "text": "<b>Global Topic Representation"
         }
        },
        "template": {
         "data": {
          "bar": [
           {
            "error_x": {
             "color": "rgb(36,36,36)"
            },
            "error_y": {
             "color": "rgb(36,36,36)"
            },
            "marker": {
             "line": {
              "color": "white",
              "width": 0.5
             },
             "pattern": {
              "fillmode": "overlay",
              "size": 10,
              "solidity": 0.2
             }
            },
            "type": "bar"
           }
          ],
          "barpolar": [
           {
            "marker": {
             "line": {
              "color": "white",
              "width": 0.5
             },
             "pattern": {
              "fillmode": "overlay",
              "size": 10,
              "solidity": 0.2
             }
            },
            "type": "barpolar"
           }
          ],
          "carpet": [
           {
            "aaxis": {
             "endlinecolor": "rgb(36,36,36)",
             "gridcolor": "white",
             "linecolor": "white",
             "minorgridcolor": "white",
             "startlinecolor": "rgb(36,36,36)"
            },
            "baxis": {
             "endlinecolor": "rgb(36,36,36)",
             "gridcolor": "white",
             "linecolor": "white",
             "minorgridcolor": "white",
             "startlinecolor": "rgb(36,36,36)"
            },
            "type": "carpet"
           }
          ],
          "choropleth": [
           {
            "colorbar": {
             "outlinewidth": 1,
             "tickcolor": "rgb(36,36,36)",
             "ticks": "outside"
            },
            "type": "choropleth"
           }
          ],
          "contour": [
           {
            "colorbar": {
             "outlinewidth": 1,
             "tickcolor": "rgb(36,36,36)",
             "ticks": "outside"
            },
            "colorscale": [
             [
              0,
              "#440154"
             ],
             [
              0.1111111111111111,
              "#482878"
             ],
             [
              0.2222222222222222,
              "#3e4989"
             ],
             [
              0.3333333333333333,
              "#31688e"
             ],
             [
              0.4444444444444444,
              "#26828e"
             ],
             [
              0.5555555555555556,
              "#1f9e89"
             ],
             [
              0.6666666666666666,
              "#35b779"
             ],
             [
              0.7777777777777778,
              "#6ece58"
             ],
             [
              0.8888888888888888,
              "#b5de2b"
             ],
             [
              1,
              "#fde725"
             ]
            ],
            "type": "contour"
           }
          ],
          "contourcarpet": [
           {
            "colorbar": {
             "outlinewidth": 1,
             "tickcolor": "rgb(36,36,36)",
             "ticks": "outside"
            },
            "type": "contourcarpet"
           }
          ],
          "heatmap": [
           {
            "colorbar": {
             "outlinewidth": 1,
             "tickcolor": "rgb(36,36,36)",
             "ticks": "outside"
            },
            "colorscale": [
             [
              0,
              "#440154"
             ],
             [
              0.1111111111111111,
              "#482878"
             ],
             [
              0.2222222222222222,
              "#3e4989"
             ],
             [
              0.3333333333333333,
              "#31688e"
             ],
             [
              0.4444444444444444,
              "#26828e"
             ],
             [
              0.5555555555555556,
              "#1f9e89"
             ],
             [
              0.6666666666666666,
              "#35b779"
             ],
             [
              0.7777777777777778,
              "#6ece58"
             ],
             [
              0.8888888888888888,
              "#b5de2b"
             ],
             [
              1,
              "#fde725"
             ]
            ],
            "type": "heatmap"
           }
          ],
          "heatmapgl": [
           {
            "colorbar": {
             "outlinewidth": 1,
             "tickcolor": "rgb(36,36,36)",
             "ticks": "outside"
            },
            "colorscale": [
             [
              0,
              "#440154"
             ],
             [
              0.1111111111111111,
              "#482878"
             ],
             [
              0.2222222222222222,
              "#3e4989"
             ],
             [
              0.3333333333333333,
              "#31688e"
             ],
             [
              0.4444444444444444,
              "#26828e"
             ],
             [
              0.5555555555555556,
              "#1f9e89"
             ],
             [
              0.6666666666666666,
              "#35b779"
             ],
             [
              0.7777777777777778,
              "#6ece58"
             ],
             [
              0.8888888888888888,
              "#b5de2b"
             ],
             [
              1,
              "#fde725"
             ]
            ],
            "type": "heatmapgl"
           }
          ],
          "histogram": [
           {
            "marker": {
             "line": {
              "color": "white",
              "width": 0.6
             }
            },
            "type": "histogram"
           }
          ],
          "histogram2d": [
           {
            "colorbar": {
             "outlinewidth": 1,
             "tickcolor": "rgb(36,36,36)",
             "ticks": "outside"
            },
            "colorscale": [
             [
              0,
              "#440154"
             ],
             [
              0.1111111111111111,
              "#482878"
             ],
             [
              0.2222222222222222,
              "#3e4989"
             ],
             [
              0.3333333333333333,
              "#31688e"
             ],
             [
              0.4444444444444444,
              "#26828e"
             ],
             [
              0.5555555555555556,
              "#1f9e89"
             ],
             [
              0.6666666666666666,
              "#35b779"
             ],
             [
              0.7777777777777778,
              "#6ece58"
             ],
             [
              0.8888888888888888,
              "#b5de2b"
             ],
             [
              1,
              "#fde725"
             ]
            ],
            "type": "histogram2d"
           }
          ],
          "histogram2dcontour": [
           {
            "colorbar": {
             "outlinewidth": 1,
             "tickcolor": "rgb(36,36,36)",
             "ticks": "outside"
            },
            "colorscale": [
             [
              0,
              "#440154"
             ],
             [
              0.1111111111111111,
              "#482878"
             ],
             [
              0.2222222222222222,
              "#3e4989"
             ],
             [
              0.3333333333333333,
              "#31688e"
             ],
             [
              0.4444444444444444,
              "#26828e"
             ],
             [
              0.5555555555555556,
              "#1f9e89"
             ],
             [
              0.6666666666666666,
              "#35b779"
             ],
             [
              0.7777777777777778,
              "#6ece58"
             ],
             [
              0.8888888888888888,
              "#b5de2b"
             ],
             [
              1,
              "#fde725"
             ]
            ],
            "type": "histogram2dcontour"
           }
          ],
          "mesh3d": [
           {
            "colorbar": {
             "outlinewidth": 1,
             "tickcolor": "rgb(36,36,36)",
             "ticks": "outside"
            },
            "type": "mesh3d"
           }
          ],
          "parcoords": [
           {
            "line": {
             "colorbar": {
              "outlinewidth": 1,
              "tickcolor": "rgb(36,36,36)",
              "ticks": "outside"
             }
            },
            "type": "parcoords"
           }
          ],
          "pie": [
           {
            "automargin": true,
            "type": "pie"
           }
          ],
          "scatter": [
           {
            "fillpattern": {
             "fillmode": "overlay",
             "size": 10,
             "solidity": 0.2
            },
            "type": "scatter"
           }
          ],
          "scatter3d": [
           {
            "line": {
             "colorbar": {
              "outlinewidth": 1,
              "tickcolor": "rgb(36,36,36)",
              "ticks": "outside"
             }
            },
            "marker": {
             "colorbar": {
              "outlinewidth": 1,
              "tickcolor": "rgb(36,36,36)",
              "ticks": "outside"
             }
            },
            "type": "scatter3d"
           }
          ],
          "scattercarpet": [
           {
            "marker": {
             "colorbar": {
              "outlinewidth": 1,
              "tickcolor": "rgb(36,36,36)",
              "ticks": "outside"
             }
            },
            "type": "scattercarpet"
           }
          ],
          "scattergeo": [
           {
            "marker": {
             "colorbar": {
              "outlinewidth": 1,
              "tickcolor": "rgb(36,36,36)",
              "ticks": "outside"
             }
            },
            "type": "scattergeo"
           }
          ],
          "scattergl": [
           {
            "marker": {
             "colorbar": {
              "outlinewidth": 1,
              "tickcolor": "rgb(36,36,36)",
              "ticks": "outside"
             }
            },
            "type": "scattergl"
           }
          ],
          "scattermapbox": [
           {
            "marker": {
             "colorbar": {
              "outlinewidth": 1,
              "tickcolor": "rgb(36,36,36)",
              "ticks": "outside"
             }
            },
            "type": "scattermapbox"
           }
          ],
          "scatterpolar": [
           {
            "marker": {
             "colorbar": {
              "outlinewidth": 1,
              "tickcolor": "rgb(36,36,36)",
              "ticks": "outside"
             }
            },
            "type": "scatterpolar"
           }
          ],
          "scatterpolargl": [
           {
            "marker": {
             "colorbar": {
              "outlinewidth": 1,
              "tickcolor": "rgb(36,36,36)",
              "ticks": "outside"
             }
            },
            "type": "scatterpolargl"
           }
          ],
          "scatterternary": [
           {
            "marker": {
             "colorbar": {
              "outlinewidth": 1,
              "tickcolor": "rgb(36,36,36)",
              "ticks": "outside"
             }
            },
            "type": "scatterternary"
           }
          ],
          "surface": [
           {
            "colorbar": {
             "outlinewidth": 1,
             "tickcolor": "rgb(36,36,36)",
             "ticks": "outside"
            },
            "colorscale": [
             [
              0,
              "#440154"
             ],
             [
              0.1111111111111111,
              "#482878"
             ],
             [
              0.2222222222222222,
              "#3e4989"
             ],
             [
              0.3333333333333333,
              "#31688e"
             ],
             [
              0.4444444444444444,
              "#26828e"
             ],
             [
              0.5555555555555556,
              "#1f9e89"
             ],
             [
              0.6666666666666666,
              "#35b779"
             ],
             [
              0.7777777777777778,
              "#6ece58"
             ],
             [
              0.8888888888888888,
              "#b5de2b"
             ],
             [
              1,
              "#fde725"
             ]
            ],
            "type": "surface"
           }
          ],
          "table": [
           {
            "cells": {
             "fill": {
              "color": "rgb(237,237,237)"
             },
             "line": {
              "color": "white"
             }
            },
            "header": {
             "fill": {
              "color": "rgb(217,217,217)"
             },
             "line": {
              "color": "white"
             }
            },
            "type": "table"
           }
          ]
         },
         "layout": {
          "annotationdefaults": {
           "arrowhead": 0,
           "arrowwidth": 1
          },
          "autotypenumbers": "strict",
          "coloraxis": {
           "colorbar": {
            "outlinewidth": 1,
            "tickcolor": "rgb(36,36,36)",
            "ticks": "outside"
           }
          },
          "colorscale": {
           "diverging": [
            [
             0,
             "rgb(103,0,31)"
            ],
            [
             0.1,
             "rgb(178,24,43)"
            ],
            [
             0.2,
             "rgb(214,96,77)"
            ],
            [
             0.3,
             "rgb(244,165,130)"
            ],
            [
             0.4,
             "rgb(253,219,199)"
            ],
            [
             0.5,
             "rgb(247,247,247)"
            ],
            [
             0.6,
             "rgb(209,229,240)"
            ],
            [
             0.7,
             "rgb(146,197,222)"
            ],
            [
             0.8,
             "rgb(67,147,195)"
            ],
            [
             0.9,
             "rgb(33,102,172)"
            ],
            [
             1,
             "rgb(5,48,97)"
            ]
           ],
           "sequential": [
            [
             0,
             "#440154"
            ],
            [
             0.1111111111111111,
             "#482878"
            ],
            [
             0.2222222222222222,
             "#3e4989"
            ],
            [
             0.3333333333333333,
             "#31688e"
            ],
            [
             0.4444444444444444,
             "#26828e"
            ],
            [
             0.5555555555555556,
             "#1f9e89"
            ],
            [
             0.6666666666666666,
             "#35b779"
            ],
            [
             0.7777777777777778,
             "#6ece58"
            ],
            [
             0.8888888888888888,
             "#b5de2b"
            ],
            [
             1,
             "#fde725"
            ]
           ],
           "sequentialminus": [
            [
             0,
             "#440154"
            ],
            [
             0.1111111111111111,
             "#482878"
            ],
            [
             0.2222222222222222,
             "#3e4989"
            ],
            [
             0.3333333333333333,
             "#31688e"
            ],
            [
             0.4444444444444444,
             "#26828e"
            ],
            [
             0.5555555555555556,
             "#1f9e89"
            ],
            [
             0.6666666666666666,
             "#35b779"
            ],
            [
             0.7777777777777778,
             "#6ece58"
            ],
            [
             0.8888888888888888,
             "#b5de2b"
            ],
            [
             1,
             "#fde725"
            ]
           ]
          },
          "colorway": [
           "#1F77B4",
           "#FF7F0E",
           "#2CA02C",
           "#D62728",
           "#9467BD",
           "#8C564B",
           "#E377C2",
           "#7F7F7F",
           "#BCBD22",
           "#17BECF"
          ],
          "font": {
           "color": "rgb(36,36,36)"
          },
          "geo": {
           "bgcolor": "white",
           "lakecolor": "white",
           "landcolor": "white",
           "showlakes": true,
           "showland": true,
           "subunitcolor": "white"
          },
          "hoverlabel": {
           "align": "left"
          },
          "hovermode": "closest",
          "mapbox": {
           "style": "light"
          },
          "paper_bgcolor": "white",
          "plot_bgcolor": "white",
          "polar": {
           "angularaxis": {
            "gridcolor": "rgb(232,232,232)",
            "linecolor": "rgb(36,36,36)",
            "showgrid": false,
            "showline": true,
            "ticks": "outside"
           },
           "bgcolor": "white",
           "radialaxis": {
            "gridcolor": "rgb(232,232,232)",
            "linecolor": "rgb(36,36,36)",
            "showgrid": false,
            "showline": true,
            "ticks": "outside"
           }
          },
          "scene": {
           "xaxis": {
            "backgroundcolor": "white",
            "gridcolor": "rgb(232,232,232)",
            "gridwidth": 2,
            "linecolor": "rgb(36,36,36)",
            "showbackground": true,
            "showgrid": false,
            "showline": true,
            "ticks": "outside",
            "zeroline": false,
            "zerolinecolor": "rgb(36,36,36)"
           },
           "yaxis": {
            "backgroundcolor": "white",
            "gridcolor": "rgb(232,232,232)",
            "gridwidth": 2,
            "linecolor": "rgb(36,36,36)",
            "showbackground": true,
            "showgrid": false,
            "showline": true,
            "ticks": "outside",
            "zeroline": false,
            "zerolinecolor": "rgb(36,36,36)"
           },
           "zaxis": {
            "backgroundcolor": "white",
            "gridcolor": "rgb(232,232,232)",
            "gridwidth": 2,
            "linecolor": "rgb(36,36,36)",
            "showbackground": true,
            "showgrid": false,
            "showline": true,
            "ticks": "outside",
            "zeroline": false,
            "zerolinecolor": "rgb(36,36,36)"
           }
          },
          "shapedefaults": {
           "fillcolor": "black",
           "line": {
            "width": 0
           },
           "opacity": 0.3
          },
          "ternary": {
           "aaxis": {
            "gridcolor": "rgb(232,232,232)",
            "linecolor": "rgb(36,36,36)",
            "showgrid": false,
            "showline": true,
            "ticks": "outside"
           },
           "baxis": {
            "gridcolor": "rgb(232,232,232)",
            "linecolor": "rgb(36,36,36)",
            "showgrid": false,
            "showline": true,
            "ticks": "outside"
           },
           "bgcolor": "white",
           "caxis": {
            "gridcolor": "rgb(232,232,232)",
            "linecolor": "rgb(36,36,36)",
            "showgrid": false,
            "showline": true,
            "ticks": "outside"
           }
          },
          "title": {
           "x": 0.05
          },
          "xaxis": {
           "automargin": true,
           "gridcolor": "rgb(232,232,232)",
           "linecolor": "rgb(36,36,36)",
           "showgrid": false,
           "showline": true,
           "ticks": "outside",
           "title": {
            "standoff": 15
           },
           "zeroline": false,
           "zerolinecolor": "rgb(36,36,36)"
          },
          "yaxis": {
           "automargin": true,
           "gridcolor": "rgb(232,232,232)",
           "linecolor": "rgb(36,36,36)",
           "showgrid": false,
           "showline": true,
           "ticks": "outside",
           "title": {
            "standoff": 15
           },
           "zeroline": false,
           "zerolinecolor": "rgb(36,36,36)"
          }
         }
        },
        "title": {
         "font": {
          "color": "Black",
          "size": 22
         },
         "text": "Topics Over Time for 2021Q2",
         "x": 0.4,
         "xanchor": "center",
         "y": 0.95,
         "yanchor": "top"
        },
        "width": 1250,
        "xaxis": {
         "showgrid": true
        },
        "yaxis": {
         "showgrid": true,
         "title": {
          "text": "Frequency"
         }
        }
       }
      }
     },
     "metadata": {},
     "output_type": "display_data"
    },
    {
     "data": {
      "application/vnd.plotly.v1+json": {
       "config": {
        "plotlyServerURL": "https://plot.ly"
       },
       "data": [
        {
         "hoverinfo": "text",
         "hovertext": [
          "<b>Topic 0</b><br>Words: kerja, dong, evaluasi, benar, lanjut",
          "<b>Topic 0</b><br>Words: suatu, wilayah, kualitas, krusial, surabaya",
          "<b>Topic 0</b><br>Words: lewat, film, sensor, soeharto, kontrol",
          "<b>Topic 0</b><br>Words: holistik, komprehensif, jamin, tahu, dokter",
          "<b>Topic 0</b><br>Words: pengaruh, lengkap, artikel, wilayah, yuk",
          "<b>Topic 0</b><br>Words: zyrex, digitalisasi, dukung, produksi, laptop",
          "<b>Topic 0</b><br>Words: papua, adat, dana, otsus, layan",
          "<b>Topic 0</b><br>Words: sehat, papua, otsus, mudah, taraf",
          "<b>Topic 0</b><br>Words: prasarana, mismatch, sarana, tekan, lanjut",
          "<b>Topic 0</b><br>Words: tumbuh, kualitas, indonesia, prasarana, sarana"
         ],
         "marker": {
          "color": "#E69F00"
         },
         "mode": "lines",
         "name": "0_kualitas_tingkat_sarana_lanjut",
         "type": "scatter",
         "x": [
          "2021-07-09T05:29:11.066666+00:00",
          "2021-07-11T05:45:33.833333+00:00",
          "2021-07-15T06:18:19.366666+00:00",
          "2021-07-17T06:34:42.133333+00:00",
          "2021-07-23T07:23:50.433333+00:00",
          "2021-07-25T07:40:13.200000+00:00",
          "2021-08-08T09:34:52.566666+00:00",
          "2021-08-12T10:07:38.100000+00:00",
          "2021-08-14T10:24:00.866666+00:00",
          "2021-08-16T10:40:23.633333+00:00"
         ],
         "y": [
          1,
          1,
          1,
          1,
          1,
          2,
          3,
          3,
          5,
          3
         ]
        },
        {
         "hoverinfo": "text",
         "hovertext": [
          "<b>Topic 1</b><br>Words: tinggi, minim, akibat, akses, ptn",
          "<b>Topic 1</b><br>Words: cheap, nilai, pakde, sarjana, sedia",
          "<b>Topic 1</b><br>Words: dosen, terus, mahasiswa, tinggi, institusi",
          "<b>Topic 1</b><br>Words: vokasi, tinggi, merdeka, siap, kenal",
          "<b>Topic 1</b><br>Words: strategis, mutu, tingkat, aksi, satyakarta"
         ],
         "marker": {
          "color": "#56B4E9"
         },
         "mode": "lines",
         "name": "1_tinggi_vokasi_merdeka_siap",
         "type": "scatter",
         "x": [
          "2021-07-01T02:56:46.517000+00:00",
          "2021-07-27T07:56:35.966666+00:00",
          "2021-07-29T08:12:58.733333+00:00",
          "2021-08-20T11:13:09.166666+00:00",
          "2021-08-24T11:45:54.700000+00:00"
         ],
         "y": [
          1,
          1,
          1,
          22,
          1
         ]
        },
        {
         "hoverinfo": "text",
         "hovertext": [
          "<b>Topic 2</b><br>Words: meucci, trivia, antonio, genggam, telepon",
          "<b>Topic 2</b><br>Words: merdeka, itb, sbm, riset, teknologi",
          "<b>Topic 2</b><br>Words: merdeka, tinggi, ejawantah, tugastugas, ditjen",
          "<b>Topic 2</b><br>Words: makarim, nadiem, empat, itb, merdeka",
          "<b>Topic 2</b><br>Words: merdeka, kampus, salah, program, ajar",
          "<b>Topic 2</b><br>Words: merdeka, surakarta, koran, jastis, ums",
          "<b>Topic 2</b><br>Words: kait, pegawai, pancasila, naskah, apel",
          "<b>Topic 2</b><br>Words: merdeka, kampus, plan, canang, goals",
          "<b>Topic 2</b><br>Words: published, the, entitled, elisabeth, recently",
          "<b>Topic 2</b><br>Words: merdeka, vokasi, mt, st, bandanadjaja",
          "<b>Topic 2</b><br>Words: aman, sip, luncur, mendikbudristek, makarim",
          "<b>Topic 2</b><br>Words: doktor, banda, aceh, dr, merdeka"
         ],
         "marker": {
          "color": "#009E73"
         },
         "mode": "lines",
         "name": "2_merdeka_vokasi_kampus_ajar",
         "type": "scatter",
         "x": [
          "2021-07-01T02:56:46.517000+00:00",
          "2021-07-13T06:01:56.600000+00:00",
          "2021-07-15T06:18:19.366666+00:00",
          "2021-07-19T06:51:04.900000+00:00",
          "2021-07-21T07:07:27.666666+00:00",
          "2021-07-25T07:40:13.200000+00:00",
          "2021-08-02T08:45:44.266666+00:00",
          "2021-08-08T09:34:52.566666+00:00",
          "2021-08-16T10:40:23.633333+00:00",
          "2021-08-20T11:13:09.166666+00:00",
          "2021-08-26T12:02:17.466666+00:00",
          "2021-08-28T12:18:40.233333+00:00"
         ],
         "y": [
          1,
          3,
          2,
          3,
          2,
          1,
          1,
          1,
          1,
          23,
          1,
          1
         ]
        },
        {
         "hoverinfo": "text",
         "hovertext": [
          "<b>Topic 3</b><br>Words: zonasi, sekolah, positifnegatif, tempuh, perspektif",
          "<b>Topic 3</b><br>Words: giat, snp, tahun, provinsi, surat",
          "<b>Topic 3</b><br>Words: kelenteng, khonghucu, bimbing, biomiao, bal",
          "<b>Topic 3</b><br>Words: fraksi, fgd, bandar, pks, kota",
          "<b>Topic 3</b><br>Words: sanggau, cegah, seksi, staf, kab",
          "<b>Topic 3</b><br>Words: kota, kotan, cimahi, giat, narkoba",
          "<b>Topic 3</b><br>Words: narkoba, sanggau, sd, lingkung, giat",
          "<b>Topic 3</b><br>Words: sekolah, larang, maret, putri, putus",
          "<b>Topic 3</b><br>Words: level, ppkm, dki, wagub, langgar",
          "<b>Topic 3</b><br>Words: bupati, desak, way, karakter, pmii",
          "<b>Topic 3</b><br>Words: singkronisasi, subulussalam, efektif, koordinasi, dinas",
          "<b>Topic 3</b><br>Words: semarang, dewan, walikota, kalang, prihadi",
          "<b>Topic 3</b><br>Words: barat, dprd, jawa, provinsi, anggar",
          "<b>Topic 3</b><br>Words: jabar, anggar, dinas, disdik, vii"
         ],
         "marker": {
          "color": "#F0E442"
         },
         "mode": "lines",
         "name": "3_kota_giat_narkoba_sanggau",
         "type": "scatter",
         "x": [
          "2021-07-01T02:56:46.517000+00:00",
          "2021-07-03T04:40:02.766666+00:00",
          "2021-07-05T04:56:25.533333+00:00",
          "2021-07-09T05:29:11.066666+00:00",
          "2021-07-11T05:45:33.833333+00:00",
          "2021-07-13T06:01:56.600000+00:00",
          "2021-07-15T06:18:19.366666+00:00",
          "2021-07-23T07:23:50.433333+00:00",
          "2021-08-02T08:45:44.266666+00:00",
          "2021-08-08T09:34:52.566666+00:00",
          "2021-08-10T09:51:15.333333+00:00",
          "2021-08-16T10:40:23.633333+00:00",
          "2021-08-18T10:56:46.400000+00:00",
          "2021-08-20T11:13:09.166666+00:00"
         ],
         "y": [
          2,
          3,
          1,
          4,
          2,
          2,
          6,
          1,
          1,
          2,
          1,
          1,
          1,
          1
         ]
        },
        {
         "hoverinfo": "text",
         "hovertext": [
          "<b>Topic 4</b><br>Words: kaya, sih, kayak, enggak, abrek",
          "<b>Topic 4</b><br>Words: nya, warga, enggak, pak, masak",
          "<b>Topic 4</b><br>Words: malaysia, populis, geber, promelayu, kurang",
          "<b>Topic 4</b><br>Words: sendiri, pajak, ppn, tread, sharia",
          "<b>Topic 4</b><br>Words: semangat, bungkam, pers, sentralisasi, unnes",
          "<b>Topic 4</b><br>Words: skip, hari, kalender, sama, abad",
          "<b>Topic 4</b><br>Words: ganti, ide, sospol, gelintir, pandan",
          "<b>Topic 4</b><br>Words: baru, kurikulum, terus, menteri, sangklek",
          "<b>Topic 4</b><br>Words: versi, masing, tuntut, biasa, diri",
          "<b>Topic 4</b><br>Words: makan, batas, kelakar, mantan, perihal",
          "<b>Topic 4</b><br>Words: nyaman, tentang, pola, lini, bangsa",
          "<b>Topic 4</b><br>Words: kalian, sisi, buat, lapang, jengkel",
          "<b>Topic 4</b><br>Words: enggak, vaksin, jam, punya, kelas",
          "<b>Topic 4</b><br>Words: rang, indah, ilustrasi, langkah, sinar",
          "<b>Topic 4</b><br>Words: pikir, kapan, kelar, wkwkwk, air",
          "<b>Topic 4</b><br>Words: jokowi, bersabarr, isi, buka, rapat",
          "<b>Topic 4</b><br>Words: aku, bpktentang, kebijakankebijakan, skrh, bapk",
          "<b>Topic 4</b><br>Words: adut, kesel, teh, gontaganti, rezim",
          "<b>Topic 4</b><br>Words: atur, cemooh, publik, buat, masyarakat",
          "<b>Topic 4</b><br>Words: ubah, tak, perempuan, nih, kena",
          "<b>Topic 4</b><br>Words: kondisi, perintah, ustad, iklim, smartphone"
         ],
         "marker": {
          "color": "#D55E00"
         },
         "mode": "lines",
         "name": "4_enggak_buat_ubah_perintah",
         "type": "scatter",
         "x": [
          "2021-07-01T02:56:46.517000+00:00",
          "2021-07-03T04:40:02.766666+00:00",
          "2021-07-05T04:56:25.533333+00:00",
          "2021-07-09T05:29:11.066666+00:00",
          "2021-07-11T05:45:33.833333+00:00",
          "2021-07-13T06:01:56.600000+00:00",
          "2021-07-19T06:51:04.900000+00:00",
          "2021-07-21T07:07:27.666666+00:00",
          "2021-07-23T07:23:50.433333+00:00",
          "2021-07-27T07:56:35.966666+00:00",
          "2021-07-29T08:12:58.733333+00:00",
          "2021-07-31T08:29:21.500000+00:00",
          "2021-08-02T08:45:44.266666+00:00",
          "2021-08-04T09:02:07.033333+00:00",
          "2021-08-06T09:18:29.800000+00:00",
          "2021-08-08T09:34:52.566666+00:00",
          "2021-08-10T09:51:15.333333+00:00",
          "2021-08-12T10:07:38.100000+00:00",
          "2021-08-14T10:24:00.866666+00:00",
          "2021-08-16T10:40:23.633333+00:00",
          "2021-08-26T12:02:17.466666+00:00"
         ],
         "y": [
          2,
          3,
          1,
          1,
          1,
          2,
          2,
          1,
          1,
          1,
          2,
          1,
          4,
          2,
          1,
          2,
          1,
          1,
          1,
          3,
          2
         ]
        },
        {
         "hoverinfo": "text",
         "hovertext": [
          "<b>Topic 5</b><br>Words: ringan, biaya, covid, pandemi, merosot",
          "<b>Topic 5</b><br>Words: semester, akhir, mahasiswa, biaya, diponegoro",
          "<b>Topic 5</b><br>Words: semester, akhir, mahasiswa, snm, biaya",
          "<b>Topic 5</b><br>Words: policy, rilis, parah, rekomendasi, brief",
          "<b>Topic 5</b><br>Words: biaya, pandemi, mahasiswa, ui, ul",
          "<b>Topic 5</b><br>Words: ringan, biaya, ui, pandemi, ff",
          "<b>Topic 5</b><br>Words: universitas, mahasiswa, sebab, ongoing, stabil",
          "<b>Topic 5</b><br>Words: ringan, biaya, ui, pandemi, efisiensi",
          "<b>Topic 5</b><br>Words: skripsi, resin, donatur, ukt, habis",
          "<b>Topic 5</b><br>Words: ukt, bantu, kemendikbud, stakeholder, polban",
          "<b>Topic 5</b><br>Words: mahasiswamahasiswi, lolos, kendala, bangga, titik",
          "<b>Topic 5</b><br>Words: bantu, dikbud, prestasi, sasar, ukt",
          "<b>Topic 5</b><br>Words: ukt, biaya, ringan, semester, pnj"
         ],
         "marker": {
          "color": "#0072B2"
         },
         "mode": "lines",
         "name": "5_biaya_mahasiswa_pandemi_ringan",
         "type": "scatter",
         "x": [
          "2021-07-09T05:29:11.066666+00:00",
          "2021-07-17T06:34:42.133333+00:00",
          "2021-07-19T06:51:04.900000+00:00",
          "2021-07-23T07:23:50.433333+00:00",
          "2021-07-25T07:40:13.200000+00:00",
          "2021-07-27T07:56:35.966666+00:00",
          "2021-07-29T08:12:58.733333+00:00",
          "2021-08-02T08:45:44.266666+00:00",
          "2021-08-04T09:02:07.033333+00:00",
          "2021-08-14T10:24:00.866666+00:00",
          "2021-08-22T11:29:31.933333+00:00",
          "2021-08-24T11:45:54.700000+00:00",
          "2021-08-26T12:02:17.466666+00:00"
         ],
         "y": [
          1,
          1,
          2,
          1,
          3,
          1,
          1,
          1,
          1,
          1,
          1,
          1,
          1
         ]
        }
       ],
       "layout": {
        "height": 450,
        "hoverlabel": {
         "bgcolor": "white",
         "font": {
          "family": "Rockwell",
          "size": 16
         }
        },
        "legend": {
         "title": {
          "text": "<b>Global Topic Representation"
         }
        },
        "template": {
         "data": {
          "bar": [
           {
            "error_x": {
             "color": "rgb(36,36,36)"
            },
            "error_y": {
             "color": "rgb(36,36,36)"
            },
            "marker": {
             "line": {
              "color": "white",
              "width": 0.5
             },
             "pattern": {
              "fillmode": "overlay",
              "size": 10,
              "solidity": 0.2
             }
            },
            "type": "bar"
           }
          ],
          "barpolar": [
           {
            "marker": {
             "line": {
              "color": "white",
              "width": 0.5
             },
             "pattern": {
              "fillmode": "overlay",
              "size": 10,
              "solidity": 0.2
             }
            },
            "type": "barpolar"
           }
          ],
          "carpet": [
           {
            "aaxis": {
             "endlinecolor": "rgb(36,36,36)",
             "gridcolor": "white",
             "linecolor": "white",
             "minorgridcolor": "white",
             "startlinecolor": "rgb(36,36,36)"
            },
            "baxis": {
             "endlinecolor": "rgb(36,36,36)",
             "gridcolor": "white",
             "linecolor": "white",
             "minorgridcolor": "white",
             "startlinecolor": "rgb(36,36,36)"
            },
            "type": "carpet"
           }
          ],
          "choropleth": [
           {
            "colorbar": {
             "outlinewidth": 1,
             "tickcolor": "rgb(36,36,36)",
             "ticks": "outside"
            },
            "type": "choropleth"
           }
          ],
          "contour": [
           {
            "colorbar": {
             "outlinewidth": 1,
             "tickcolor": "rgb(36,36,36)",
             "ticks": "outside"
            },
            "colorscale": [
             [
              0,
              "#440154"
             ],
             [
              0.1111111111111111,
              "#482878"
             ],
             [
              0.2222222222222222,
              "#3e4989"
             ],
             [
              0.3333333333333333,
              "#31688e"
             ],
             [
              0.4444444444444444,
              "#26828e"
             ],
             [
              0.5555555555555556,
              "#1f9e89"
             ],
             [
              0.6666666666666666,
              "#35b779"
             ],
             [
              0.7777777777777778,
              "#6ece58"
             ],
             [
              0.8888888888888888,
              "#b5de2b"
             ],
             [
              1,
              "#fde725"
             ]
            ],
            "type": "contour"
           }
          ],
          "contourcarpet": [
           {
            "colorbar": {
             "outlinewidth": 1,
             "tickcolor": "rgb(36,36,36)",
             "ticks": "outside"
            },
            "type": "contourcarpet"
           }
          ],
          "heatmap": [
           {
            "colorbar": {
             "outlinewidth": 1,
             "tickcolor": "rgb(36,36,36)",
             "ticks": "outside"
            },
            "colorscale": [
             [
              0,
              "#440154"
             ],
             [
              0.1111111111111111,
              "#482878"
             ],
             [
              0.2222222222222222,
              "#3e4989"
             ],
             [
              0.3333333333333333,
              "#31688e"
             ],
             [
              0.4444444444444444,
              "#26828e"
             ],
             [
              0.5555555555555556,
              "#1f9e89"
             ],
             [
              0.6666666666666666,
              "#35b779"
             ],
             [
              0.7777777777777778,
              "#6ece58"
             ],
             [
              0.8888888888888888,
              "#b5de2b"
             ],
             [
              1,
              "#fde725"
             ]
            ],
            "type": "heatmap"
           }
          ],
          "heatmapgl": [
           {
            "colorbar": {
             "outlinewidth": 1,
             "tickcolor": "rgb(36,36,36)",
             "ticks": "outside"
            },
            "colorscale": [
             [
              0,
              "#440154"
             ],
             [
              0.1111111111111111,
              "#482878"
             ],
             [
              0.2222222222222222,
              "#3e4989"
             ],
             [
              0.3333333333333333,
              "#31688e"
             ],
             [
              0.4444444444444444,
              "#26828e"
             ],
             [
              0.5555555555555556,
              "#1f9e89"
             ],
             [
              0.6666666666666666,
              "#35b779"
             ],
             [
              0.7777777777777778,
              "#6ece58"
             ],
             [
              0.8888888888888888,
              "#b5de2b"
             ],
             [
              1,
              "#fde725"
             ]
            ],
            "type": "heatmapgl"
           }
          ],
          "histogram": [
           {
            "marker": {
             "line": {
              "color": "white",
              "width": 0.6
             }
            },
            "type": "histogram"
           }
          ],
          "histogram2d": [
           {
            "colorbar": {
             "outlinewidth": 1,
             "tickcolor": "rgb(36,36,36)",
             "ticks": "outside"
            },
            "colorscale": [
             [
              0,
              "#440154"
             ],
             [
              0.1111111111111111,
              "#482878"
             ],
             [
              0.2222222222222222,
              "#3e4989"
             ],
             [
              0.3333333333333333,
              "#31688e"
             ],
             [
              0.4444444444444444,
              "#26828e"
             ],
             [
              0.5555555555555556,
              "#1f9e89"
             ],
             [
              0.6666666666666666,
              "#35b779"
             ],
             [
              0.7777777777777778,
              "#6ece58"
             ],
             [
              0.8888888888888888,
              "#b5de2b"
             ],
             [
              1,
              "#fde725"
             ]
            ],
            "type": "histogram2d"
           }
          ],
          "histogram2dcontour": [
           {
            "colorbar": {
             "outlinewidth": 1,
             "tickcolor": "rgb(36,36,36)",
             "ticks": "outside"
            },
            "colorscale": [
             [
              0,
              "#440154"
             ],
             [
              0.1111111111111111,
              "#482878"
             ],
             [
              0.2222222222222222,
              "#3e4989"
             ],
             [
              0.3333333333333333,
              "#31688e"
             ],
             [
              0.4444444444444444,
              "#26828e"
             ],
             [
              0.5555555555555556,
              "#1f9e89"
             ],
             [
              0.6666666666666666,
              "#35b779"
             ],
             [
              0.7777777777777778,
              "#6ece58"
             ],
             [
              0.8888888888888888,
              "#b5de2b"
             ],
             [
              1,
              "#fde725"
             ]
            ],
            "type": "histogram2dcontour"
           }
          ],
          "mesh3d": [
           {
            "colorbar": {
             "outlinewidth": 1,
             "tickcolor": "rgb(36,36,36)",
             "ticks": "outside"
            },
            "type": "mesh3d"
           }
          ],
          "parcoords": [
           {
            "line": {
             "colorbar": {
              "outlinewidth": 1,
              "tickcolor": "rgb(36,36,36)",
              "ticks": "outside"
             }
            },
            "type": "parcoords"
           }
          ],
          "pie": [
           {
            "automargin": true,
            "type": "pie"
           }
          ],
          "scatter": [
           {
            "fillpattern": {
             "fillmode": "overlay",
             "size": 10,
             "solidity": 0.2
            },
            "type": "scatter"
           }
          ],
          "scatter3d": [
           {
            "line": {
             "colorbar": {
              "outlinewidth": 1,
              "tickcolor": "rgb(36,36,36)",
              "ticks": "outside"
             }
            },
            "marker": {
             "colorbar": {
              "outlinewidth": 1,
              "tickcolor": "rgb(36,36,36)",
              "ticks": "outside"
             }
            },
            "type": "scatter3d"
           }
          ],
          "scattercarpet": [
           {
            "marker": {
             "colorbar": {
              "outlinewidth": 1,
              "tickcolor": "rgb(36,36,36)",
              "ticks": "outside"
             }
            },
            "type": "scattercarpet"
           }
          ],
          "scattergeo": [
           {
            "marker": {
             "colorbar": {
              "outlinewidth": 1,
              "tickcolor": "rgb(36,36,36)",
              "ticks": "outside"
             }
            },
            "type": "scattergeo"
           }
          ],
          "scattergl": [
           {
            "marker": {
             "colorbar": {
              "outlinewidth": 1,
              "tickcolor": "rgb(36,36,36)",
              "ticks": "outside"
             }
            },
            "type": "scattergl"
           }
          ],
          "scattermapbox": [
           {
            "marker": {
             "colorbar": {
              "outlinewidth": 1,
              "tickcolor": "rgb(36,36,36)",
              "ticks": "outside"
             }
            },
            "type": "scattermapbox"
           }
          ],
          "scatterpolar": [
           {
            "marker": {
             "colorbar": {
              "outlinewidth": 1,
              "tickcolor": "rgb(36,36,36)",
              "ticks": "outside"
             }
            },
            "type": "scatterpolar"
           }
          ],
          "scatterpolargl": [
           {
            "marker": {
             "colorbar": {
              "outlinewidth": 1,
              "tickcolor": "rgb(36,36,36)",
              "ticks": "outside"
             }
            },
            "type": "scatterpolargl"
           }
          ],
          "scatterternary": [
           {
            "marker": {
             "colorbar": {
              "outlinewidth": 1,
              "tickcolor": "rgb(36,36,36)",
              "ticks": "outside"
             }
            },
            "type": "scatterternary"
           }
          ],
          "surface": [
           {
            "colorbar": {
             "outlinewidth": 1,
             "tickcolor": "rgb(36,36,36)",
             "ticks": "outside"
            },
            "colorscale": [
             [
              0,
              "#440154"
             ],
             [
              0.1111111111111111,
              "#482878"
             ],
             [
              0.2222222222222222,
              "#3e4989"
             ],
             [
              0.3333333333333333,
              "#31688e"
             ],
             [
              0.4444444444444444,
              "#26828e"
             ],
             [
              0.5555555555555556,
              "#1f9e89"
             ],
             [
              0.6666666666666666,
              "#35b779"
             ],
             [
              0.7777777777777778,
              "#6ece58"
             ],
             [
              0.8888888888888888,
              "#b5de2b"
             ],
             [
              1,
              "#fde725"
             ]
            ],
            "type": "surface"
           }
          ],
          "table": [
           {
            "cells": {
             "fill": {
              "color": "rgb(237,237,237)"
             },
             "line": {
              "color": "white"
             }
            },
            "header": {
             "fill": {
              "color": "rgb(217,217,217)"
             },
             "line": {
              "color": "white"
             }
            },
            "type": "table"
           }
          ]
         },
         "layout": {
          "annotationdefaults": {
           "arrowhead": 0,
           "arrowwidth": 1
          },
          "autotypenumbers": "strict",
          "coloraxis": {
           "colorbar": {
            "outlinewidth": 1,
            "tickcolor": "rgb(36,36,36)",
            "ticks": "outside"
           }
          },
          "colorscale": {
           "diverging": [
            [
             0,
             "rgb(103,0,31)"
            ],
            [
             0.1,
             "rgb(178,24,43)"
            ],
            [
             0.2,
             "rgb(214,96,77)"
            ],
            [
             0.3,
             "rgb(244,165,130)"
            ],
            [
             0.4,
             "rgb(253,219,199)"
            ],
            [
             0.5,
             "rgb(247,247,247)"
            ],
            [
             0.6,
             "rgb(209,229,240)"
            ],
            [
             0.7,
             "rgb(146,197,222)"
            ],
            [
             0.8,
             "rgb(67,147,195)"
            ],
            [
             0.9,
             "rgb(33,102,172)"
            ],
            [
             1,
             "rgb(5,48,97)"
            ]
           ],
           "sequential": [
            [
             0,
             "#440154"
            ],
            [
             0.1111111111111111,
             "#482878"
            ],
            [
             0.2222222222222222,
             "#3e4989"
            ],
            [
             0.3333333333333333,
             "#31688e"
            ],
            [
             0.4444444444444444,
             "#26828e"
            ],
            [
             0.5555555555555556,
             "#1f9e89"
            ],
            [
             0.6666666666666666,
             "#35b779"
            ],
            [
             0.7777777777777778,
             "#6ece58"
            ],
            [
             0.8888888888888888,
             "#b5de2b"
            ],
            [
             1,
             "#fde725"
            ]
           ],
           "sequentialminus": [
            [
             0,
             "#440154"
            ],
            [
             0.1111111111111111,
             "#482878"
            ],
            [
             0.2222222222222222,
             "#3e4989"
            ],
            [
             0.3333333333333333,
             "#31688e"
            ],
            [
             0.4444444444444444,
             "#26828e"
            ],
            [
             0.5555555555555556,
             "#1f9e89"
            ],
            [
             0.6666666666666666,
             "#35b779"
            ],
            [
             0.7777777777777778,
             "#6ece58"
            ],
            [
             0.8888888888888888,
             "#b5de2b"
            ],
            [
             1,
             "#fde725"
            ]
           ]
          },
          "colorway": [
           "#1F77B4",
           "#FF7F0E",
           "#2CA02C",
           "#D62728",
           "#9467BD",
           "#8C564B",
           "#E377C2",
           "#7F7F7F",
           "#BCBD22",
           "#17BECF"
          ],
          "font": {
           "color": "rgb(36,36,36)"
          },
          "geo": {
           "bgcolor": "white",
           "lakecolor": "white",
           "landcolor": "white",
           "showlakes": true,
           "showland": true,
           "subunitcolor": "white"
          },
          "hoverlabel": {
           "align": "left"
          },
          "hovermode": "closest",
          "mapbox": {
           "style": "light"
          },
          "paper_bgcolor": "white",
          "plot_bgcolor": "white",
          "polar": {
           "angularaxis": {
            "gridcolor": "rgb(232,232,232)",
            "linecolor": "rgb(36,36,36)",
            "showgrid": false,
            "showline": true,
            "ticks": "outside"
           },
           "bgcolor": "white",
           "radialaxis": {
            "gridcolor": "rgb(232,232,232)",
            "linecolor": "rgb(36,36,36)",
            "showgrid": false,
            "showline": true,
            "ticks": "outside"
           }
          },
          "scene": {
           "xaxis": {
            "backgroundcolor": "white",
            "gridcolor": "rgb(232,232,232)",
            "gridwidth": 2,
            "linecolor": "rgb(36,36,36)",
            "showbackground": true,
            "showgrid": false,
            "showline": true,
            "ticks": "outside",
            "zeroline": false,
            "zerolinecolor": "rgb(36,36,36)"
           },
           "yaxis": {
            "backgroundcolor": "white",
            "gridcolor": "rgb(232,232,232)",
            "gridwidth": 2,
            "linecolor": "rgb(36,36,36)",
            "showbackground": true,
            "showgrid": false,
            "showline": true,
            "ticks": "outside",
            "zeroline": false,
            "zerolinecolor": "rgb(36,36,36)"
           },
           "zaxis": {
            "backgroundcolor": "white",
            "gridcolor": "rgb(232,232,232)",
            "gridwidth": 2,
            "linecolor": "rgb(36,36,36)",
            "showbackground": true,
            "showgrid": false,
            "showline": true,
            "ticks": "outside",
            "zeroline": false,
            "zerolinecolor": "rgb(36,36,36)"
           }
          },
          "shapedefaults": {
           "fillcolor": "black",
           "line": {
            "width": 0
           },
           "opacity": 0.3
          },
          "ternary": {
           "aaxis": {
            "gridcolor": "rgb(232,232,232)",
            "linecolor": "rgb(36,36,36)",
            "showgrid": false,
            "showline": true,
            "ticks": "outside"
           },
           "baxis": {
            "gridcolor": "rgb(232,232,232)",
            "linecolor": "rgb(36,36,36)",
            "showgrid": false,
            "showline": true,
            "ticks": "outside"
           },
           "bgcolor": "white",
           "caxis": {
            "gridcolor": "rgb(232,232,232)",
            "linecolor": "rgb(36,36,36)",
            "showgrid": false,
            "showline": true,
            "ticks": "outside"
           }
          },
          "title": {
           "x": 0.05
          },
          "xaxis": {
           "automargin": true,
           "gridcolor": "rgb(232,232,232)",
           "linecolor": "rgb(36,36,36)",
           "showgrid": false,
           "showline": true,
           "ticks": "outside",
           "title": {
            "standoff": 15
           },
           "zeroline": false,
           "zerolinecolor": "rgb(36,36,36)"
          },
          "yaxis": {
           "automargin": true,
           "gridcolor": "rgb(232,232,232)",
           "linecolor": "rgb(36,36,36)",
           "showgrid": false,
           "showline": true,
           "ticks": "outside",
           "title": {
            "standoff": 15
           },
           "zeroline": false,
           "zerolinecolor": "rgb(36,36,36)"
          }
         }
        },
        "title": {
         "font": {
          "color": "Black",
          "size": 22
         },
         "text": "Topics Over Time for 2021Q3",
         "x": 0.4,
         "xanchor": "center",
         "y": 0.95,
         "yanchor": "top"
        },
        "width": 1250,
        "xaxis": {
         "showgrid": true
        },
        "yaxis": {
         "showgrid": true,
         "title": {
          "text": "Frequency"
         }
        }
       }
      }
     },
     "metadata": {},
     "output_type": "display_data"
    },
    {
     "data": {
      "application/vnd.plotly.v1+json": {
       "config": {
        "plotlyServerURL": "https://plot.ly"
       },
       "data": [
        {
         "hoverinfo": "text",
         "hovertext": [
          "<b>Topic 0</b><br>Words: jokowi, adaptasi, presidensi, lindung, sosial",
          "<b>Topic 0</b><br>Words: kredit, bayar, dini, sosial, anak",
          "<b>Topic 0</b><br>Words: kredit, bayar, dini, sosial, anak"
         ],
         "marker": {
          "color": "#E69F00"
         },
         "mode": "lines",
         "name": "0_jokowi_sosial_adaptasi_presidensi",
         "type": "scatter",
         "x": [
          "2021-11-01T21:14:34.166666+00:00",
          "2021-11-11T06:45:25.500000+00:00",
          "2021-11-18T07:53:34+00:00"
         ],
         "y": [
          14,
          1,
          1
         ]
        },
        {
         "hoverinfo": "text",
         "hovertext": [
          "<b>Topic 1</b><br>Words: narkoba, konsolidasi, kota, ancam, tanggap",
          "<b>Topic 1</b><br>Words: kota, laksana, narkoba, konsolidasi, ancam",
          "<b>Topic 1</b><br>Words: kota, narkoba, konsolidasi, ancam, tanggap",
          "<b>Topic 1</b><br>Words: narkoba, konsolidasi, ancam, kota, tanggap",
          "<b>Topic 1</b><br>Words: batang, hari, narkoba, konsolidasi, ancam",
          "<b>Topic 1</b><br>Words: narkoba, konsolidasi, ancam, kota, tanggap",
          "<b>Topic 1</b><br>Words: narkoba, konsolidasi, kota, tanggap, jaya",
          "<b>Topic 1</b><br>Words: sintang, narkoba, kota, konsolidasi, ancam",
          "<b>Topic 1</b><br>Words: kota, tanjungpinang, narkoba, konsolidasi, ancam"
         ],
         "marker": {
          "color": "#56B4E9"
         },
         "mode": "lines",
         "name": "1_kota_narkoba_konsolidasi_tanggap",
         "type": "scatter",
         "x": [
          "2021-10-25T20:06:25.666666+00:00",
          "2021-10-28T04:29:08.500000+00:00",
          "2021-11-11T06:45:25.500000+00:00",
          "2021-11-13T15:08:08.333333+00:00",
          "2021-11-15T23:30:51.166666+00:00",
          "2021-11-18T07:53:34+00:00",
          "2021-11-23T00:38:59.666666+00:00",
          "2021-11-25T09:01:42.500000+00:00",
          "2021-12-02T10:09:51+00:00"
         ],
         "y": [
          3,
          1,
          1,
          1,
          1,
          1,
          1,
          1,
          1
         ]
        },
        {
         "hoverinfo": "text",
         "hovertext": [
          "<b>Topic 2</b><br>Words: masa, ajar, kolonial, cilacap, habis",
          "<b>Topic 2</b><br>Words: perintah, manusia, institusi, satu, kata",
          "<b>Topic 2</b><br>Words: singapura, guru, tingkat, menteri, kerja",
          "<b>Topic 2</b><br>Words: kamu, indonesia, magang, sedang, jenjang",
          "<b>Topic 2</b><br>Words: kamu, ulas, islam, pesantren, jenjang",
          "<b>Topic 2</b><br>Words: guna, mahasiswa, buat, anak, dunia",
          "<b>Topic 2</b><br>Words: menteri, dukung, seksual, keras, tinggi",
          "<b>Topic 2</b><br>Words: menteri, seksual, keras, mas, dukung",
          "<b>Topic 2</b><br>Words: baru, abu, lupa, cepat, menteri",
          "<b>Topic 2</b><br>Words: indonesia, institusi, cegah, keras, seksual",
          "<b>Topic 2</b><br>Words: enggak, ajar, mulai, dunia, apa",
          "<b>Topic 2</b><br>Words: tingkat, mutu, terap, juang, menteri",
          "<b>Topic 2</b><br>Words: guru, indonesia, nasional, hari, seluruh",
          "<b>Topic 2</b><br>Words: rakyat, ajar, persen, berapa, perintah",
          "<b>Topic 2</b><br>Words: sangat, bumn, surabaya, demokrasi, otsus",
          "<b>Topic 2</b><br>Words: benar, konsisten, sertifikat, hadiah, target",
          "<b>Topic 2</b><br>Words: dprd, optimalisasi, bekas, dewan, lewat",
          "<b>Topic 2</b><br>Words: tara, disabilitas, dorong, dunia, laku",
          "<b>Topic 2</b><br>Words: kutuk, adab, jadi, generasi, nilai",
          "<b>Topic 2</b><br>Words: giat, menteri, headline, baku, batal",
          "<b>Topic 2</b><br>Words: jauh, banget, kayak, minat, golkar",
          "<b>Topic 2</b><br>Words: freire, asn, psykis, pusbangpeg, pik",
          "<b>Topic 2</b><br>Words: masuk, jadi, kukuh, kkks, bupati",
          "<b>Topic 2</b><br>Words: ibu, bagaimana, indonesia, tunggal, cermat",
          "<b>Topic 2</b><br>Words: enggak, mu, menteri, sekolah, jadi",
          "<b>Topic 2</b><br>Words: pkl, tahun, jawabarat, dinas, lampu",
          "<b>Topic 2</b><br>Words: nasional, merdeka, amp, ajar, anak"
         ],
         "marker": {
          "color": "#009E73"
         },
         "mode": "lines",
         "name": "2_menteri_guru_dunia_jadi",
         "type": "scatter",
         "x": [
          "2021-10-21T01:39:31.115000+00:00",
          "2021-10-23T11:43:42.833333+00:00",
          "2021-10-25T20:06:25.666666+00:00",
          "2021-10-28T04:29:08.500000+00:00",
          "2021-10-30T12:51:51.333333+00:00",
          "2021-11-01T21:14:34.166666+00:00",
          "2021-11-08T22:22:42.666666+00:00",
          "2021-11-11T06:45:25.500000+00:00",
          "2021-11-13T15:08:08.333333+00:00",
          "2021-11-15T23:30:51.166666+00:00",
          "2021-11-18T07:53:34+00:00",
          "2021-11-20T16:16:16.833333+00:00",
          "2021-11-23T00:38:59.666666+00:00",
          "2021-11-25T09:01:42.500000+00:00",
          "2021-11-27T17:24:25.333333+00:00",
          "2021-11-30T01:47:08.166666+00:00",
          "2021-12-02T10:09:51+00:00",
          "2021-12-04T18:32:33.833333+00:00",
          "2021-12-09T11:17:59.500000+00:00",
          "2021-12-11T19:40:42.333333+00:00",
          "2021-12-14T04:03:25.166666+00:00",
          "2021-12-16T12:26:08+00:00",
          "2021-12-18T20:48:50.833333+00:00",
          "2021-12-21T05:11:33.666666+00:00",
          "2021-12-23T13:34:16.500000+00:00",
          "2021-12-25T21:56:59.333333+00:00",
          "2021-12-28T06:19:42.166666+00:00"
         ],
         "y": [
          8,
          8,
          10,
          6,
          3,
          3,
          35,
          18,
          7,
          13,
          10,
          8,
          17,
          4,
          7,
          3,
          6,
          24,
          3,
          5,
          7,
          7,
          7,
          8,
          5,
          3,
          7
         ]
        }
       ],
       "layout": {
        "height": 450,
        "hoverlabel": {
         "bgcolor": "white",
         "font": {
          "family": "Rockwell",
          "size": 16
         }
        },
        "legend": {
         "title": {
          "text": "<b>Global Topic Representation"
         }
        },
        "template": {
         "data": {
          "bar": [
           {
            "error_x": {
             "color": "rgb(36,36,36)"
            },
            "error_y": {
             "color": "rgb(36,36,36)"
            },
            "marker": {
             "line": {
              "color": "white",
              "width": 0.5
             },
             "pattern": {
              "fillmode": "overlay",
              "size": 10,
              "solidity": 0.2
             }
            },
            "type": "bar"
           }
          ],
          "barpolar": [
           {
            "marker": {
             "line": {
              "color": "white",
              "width": 0.5
             },
             "pattern": {
              "fillmode": "overlay",
              "size": 10,
              "solidity": 0.2
             }
            },
            "type": "barpolar"
           }
          ],
          "carpet": [
           {
            "aaxis": {
             "endlinecolor": "rgb(36,36,36)",
             "gridcolor": "white",
             "linecolor": "white",
             "minorgridcolor": "white",
             "startlinecolor": "rgb(36,36,36)"
            },
            "baxis": {
             "endlinecolor": "rgb(36,36,36)",
             "gridcolor": "white",
             "linecolor": "white",
             "minorgridcolor": "white",
             "startlinecolor": "rgb(36,36,36)"
            },
            "type": "carpet"
           }
          ],
          "choropleth": [
           {
            "colorbar": {
             "outlinewidth": 1,
             "tickcolor": "rgb(36,36,36)",
             "ticks": "outside"
            },
            "type": "choropleth"
           }
          ],
          "contour": [
           {
            "colorbar": {
             "outlinewidth": 1,
             "tickcolor": "rgb(36,36,36)",
             "ticks": "outside"
            },
            "colorscale": [
             [
              0,
              "#440154"
             ],
             [
              0.1111111111111111,
              "#482878"
             ],
             [
              0.2222222222222222,
              "#3e4989"
             ],
             [
              0.3333333333333333,
              "#31688e"
             ],
             [
              0.4444444444444444,
              "#26828e"
             ],
             [
              0.5555555555555556,
              "#1f9e89"
             ],
             [
              0.6666666666666666,
              "#35b779"
             ],
             [
              0.7777777777777778,
              "#6ece58"
             ],
             [
              0.8888888888888888,
              "#b5de2b"
             ],
             [
              1,
              "#fde725"
             ]
            ],
            "type": "contour"
           }
          ],
          "contourcarpet": [
           {
            "colorbar": {
             "outlinewidth": 1,
             "tickcolor": "rgb(36,36,36)",
             "ticks": "outside"
            },
            "type": "contourcarpet"
           }
          ],
          "heatmap": [
           {
            "colorbar": {
             "outlinewidth": 1,
             "tickcolor": "rgb(36,36,36)",
             "ticks": "outside"
            },
            "colorscale": [
             [
              0,
              "#440154"
             ],
             [
              0.1111111111111111,
              "#482878"
             ],
             [
              0.2222222222222222,
              "#3e4989"
             ],
             [
              0.3333333333333333,
              "#31688e"
             ],
             [
              0.4444444444444444,
              "#26828e"
             ],
             [
              0.5555555555555556,
              "#1f9e89"
             ],
             [
              0.6666666666666666,
              "#35b779"
             ],
             [
              0.7777777777777778,
              "#6ece58"
             ],
             [
              0.8888888888888888,
              "#b5de2b"
             ],
             [
              1,
              "#fde725"
             ]
            ],
            "type": "heatmap"
           }
          ],
          "heatmapgl": [
           {
            "colorbar": {
             "outlinewidth": 1,
             "tickcolor": "rgb(36,36,36)",
             "ticks": "outside"
            },
            "colorscale": [
             [
              0,
              "#440154"
             ],
             [
              0.1111111111111111,
              "#482878"
             ],
             [
              0.2222222222222222,
              "#3e4989"
             ],
             [
              0.3333333333333333,
              "#31688e"
             ],
             [
              0.4444444444444444,
              "#26828e"
             ],
             [
              0.5555555555555556,
              "#1f9e89"
             ],
             [
              0.6666666666666666,
              "#35b779"
             ],
             [
              0.7777777777777778,
              "#6ece58"
             ],
             [
              0.8888888888888888,
              "#b5de2b"
             ],
             [
              1,
              "#fde725"
             ]
            ],
            "type": "heatmapgl"
           }
          ],
          "histogram": [
           {
            "marker": {
             "line": {
              "color": "white",
              "width": 0.6
             }
            },
            "type": "histogram"
           }
          ],
          "histogram2d": [
           {
            "colorbar": {
             "outlinewidth": 1,
             "tickcolor": "rgb(36,36,36)",
             "ticks": "outside"
            },
            "colorscale": [
             [
              0,
              "#440154"
             ],
             [
              0.1111111111111111,
              "#482878"
             ],
             [
              0.2222222222222222,
              "#3e4989"
             ],
             [
              0.3333333333333333,
              "#31688e"
             ],
             [
              0.4444444444444444,
              "#26828e"
             ],
             [
              0.5555555555555556,
              "#1f9e89"
             ],
             [
              0.6666666666666666,
              "#35b779"
             ],
             [
              0.7777777777777778,
              "#6ece58"
             ],
             [
              0.8888888888888888,
              "#b5de2b"
             ],
             [
              1,
              "#fde725"
             ]
            ],
            "type": "histogram2d"
           }
          ],
          "histogram2dcontour": [
           {
            "colorbar": {
             "outlinewidth": 1,
             "tickcolor": "rgb(36,36,36)",
             "ticks": "outside"
            },
            "colorscale": [
             [
              0,
              "#440154"
             ],
             [
              0.1111111111111111,
              "#482878"
             ],
             [
              0.2222222222222222,
              "#3e4989"
             ],
             [
              0.3333333333333333,
              "#31688e"
             ],
             [
              0.4444444444444444,
              "#26828e"
             ],
             [
              0.5555555555555556,
              "#1f9e89"
             ],
             [
              0.6666666666666666,
              "#35b779"
             ],
             [
              0.7777777777777778,
              "#6ece58"
             ],
             [
              0.8888888888888888,
              "#b5de2b"
             ],
             [
              1,
              "#fde725"
             ]
            ],
            "type": "histogram2dcontour"
           }
          ],
          "mesh3d": [
           {
            "colorbar": {
             "outlinewidth": 1,
             "tickcolor": "rgb(36,36,36)",
             "ticks": "outside"
            },
            "type": "mesh3d"
           }
          ],
          "parcoords": [
           {
            "line": {
             "colorbar": {
              "outlinewidth": 1,
              "tickcolor": "rgb(36,36,36)",
              "ticks": "outside"
             }
            },
            "type": "parcoords"
           }
          ],
          "pie": [
           {
            "automargin": true,
            "type": "pie"
           }
          ],
          "scatter": [
           {
            "fillpattern": {
             "fillmode": "overlay",
             "size": 10,
             "solidity": 0.2
            },
            "type": "scatter"
           }
          ],
          "scatter3d": [
           {
            "line": {
             "colorbar": {
              "outlinewidth": 1,
              "tickcolor": "rgb(36,36,36)",
              "ticks": "outside"
             }
            },
            "marker": {
             "colorbar": {
              "outlinewidth": 1,
              "tickcolor": "rgb(36,36,36)",
              "ticks": "outside"
             }
            },
            "type": "scatter3d"
           }
          ],
          "scattercarpet": [
           {
            "marker": {
             "colorbar": {
              "outlinewidth": 1,
              "tickcolor": "rgb(36,36,36)",
              "ticks": "outside"
             }
            },
            "type": "scattercarpet"
           }
          ],
          "scattergeo": [
           {
            "marker": {
             "colorbar": {
              "outlinewidth": 1,
              "tickcolor": "rgb(36,36,36)",
              "ticks": "outside"
             }
            },
            "type": "scattergeo"
           }
          ],
          "scattergl": [
           {
            "marker": {
             "colorbar": {
              "outlinewidth": 1,
              "tickcolor": "rgb(36,36,36)",
              "ticks": "outside"
             }
            },
            "type": "scattergl"
           }
          ],
          "scattermapbox": [
           {
            "marker": {
             "colorbar": {
              "outlinewidth": 1,
              "tickcolor": "rgb(36,36,36)",
              "ticks": "outside"
             }
            },
            "type": "scattermapbox"
           }
          ],
          "scatterpolar": [
           {
            "marker": {
             "colorbar": {
              "outlinewidth": 1,
              "tickcolor": "rgb(36,36,36)",
              "ticks": "outside"
             }
            },
            "type": "scatterpolar"
           }
          ],
          "scatterpolargl": [
           {
            "marker": {
             "colorbar": {
              "outlinewidth": 1,
              "tickcolor": "rgb(36,36,36)",
              "ticks": "outside"
             }
            },
            "type": "scatterpolargl"
           }
          ],
          "scatterternary": [
           {
            "marker": {
             "colorbar": {
              "outlinewidth": 1,
              "tickcolor": "rgb(36,36,36)",
              "ticks": "outside"
             }
            },
            "type": "scatterternary"
           }
          ],
          "surface": [
           {
            "colorbar": {
             "outlinewidth": 1,
             "tickcolor": "rgb(36,36,36)",
             "ticks": "outside"
            },
            "colorscale": [
             [
              0,
              "#440154"
             ],
             [
              0.1111111111111111,
              "#482878"
             ],
             [
              0.2222222222222222,
              "#3e4989"
             ],
             [
              0.3333333333333333,
              "#31688e"
             ],
             [
              0.4444444444444444,
              "#26828e"
             ],
             [
              0.5555555555555556,
              "#1f9e89"
             ],
             [
              0.6666666666666666,
              "#35b779"
             ],
             [
              0.7777777777777778,
              "#6ece58"
             ],
             [
              0.8888888888888888,
              "#b5de2b"
             ],
             [
              1,
              "#fde725"
             ]
            ],
            "type": "surface"
           }
          ],
          "table": [
           {
            "cells": {
             "fill": {
              "color": "rgb(237,237,237)"
             },
             "line": {
              "color": "white"
             }
            },
            "header": {
             "fill": {
              "color": "rgb(217,217,217)"
             },
             "line": {
              "color": "white"
             }
            },
            "type": "table"
           }
          ]
         },
         "layout": {
          "annotationdefaults": {
           "arrowhead": 0,
           "arrowwidth": 1
          },
          "autotypenumbers": "strict",
          "coloraxis": {
           "colorbar": {
            "outlinewidth": 1,
            "tickcolor": "rgb(36,36,36)",
            "ticks": "outside"
           }
          },
          "colorscale": {
           "diverging": [
            [
             0,
             "rgb(103,0,31)"
            ],
            [
             0.1,
             "rgb(178,24,43)"
            ],
            [
             0.2,
             "rgb(214,96,77)"
            ],
            [
             0.3,
             "rgb(244,165,130)"
            ],
            [
             0.4,
             "rgb(253,219,199)"
            ],
            [
             0.5,
             "rgb(247,247,247)"
            ],
            [
             0.6,
             "rgb(209,229,240)"
            ],
            [
             0.7,
             "rgb(146,197,222)"
            ],
            [
             0.8,
             "rgb(67,147,195)"
            ],
            [
             0.9,
             "rgb(33,102,172)"
            ],
            [
             1,
             "rgb(5,48,97)"
            ]
           ],
           "sequential": [
            [
             0,
             "#440154"
            ],
            [
             0.1111111111111111,
             "#482878"
            ],
            [
             0.2222222222222222,
             "#3e4989"
            ],
            [
             0.3333333333333333,
             "#31688e"
            ],
            [
             0.4444444444444444,
             "#26828e"
            ],
            [
             0.5555555555555556,
             "#1f9e89"
            ],
            [
             0.6666666666666666,
             "#35b779"
            ],
            [
             0.7777777777777778,
             "#6ece58"
            ],
            [
             0.8888888888888888,
             "#b5de2b"
            ],
            [
             1,
             "#fde725"
            ]
           ],
           "sequentialminus": [
            [
             0,
             "#440154"
            ],
            [
             0.1111111111111111,
             "#482878"
            ],
            [
             0.2222222222222222,
             "#3e4989"
            ],
            [
             0.3333333333333333,
             "#31688e"
            ],
            [
             0.4444444444444444,
             "#26828e"
            ],
            [
             0.5555555555555556,
             "#1f9e89"
            ],
            [
             0.6666666666666666,
             "#35b779"
            ],
            [
             0.7777777777777778,
             "#6ece58"
            ],
            [
             0.8888888888888888,
             "#b5de2b"
            ],
            [
             1,
             "#fde725"
            ]
           ]
          },
          "colorway": [
           "#1F77B4",
           "#FF7F0E",
           "#2CA02C",
           "#D62728",
           "#9467BD",
           "#8C564B",
           "#E377C2",
           "#7F7F7F",
           "#BCBD22",
           "#17BECF"
          ],
          "font": {
           "color": "rgb(36,36,36)"
          },
          "geo": {
           "bgcolor": "white",
           "lakecolor": "white",
           "landcolor": "white",
           "showlakes": true,
           "showland": true,
           "subunitcolor": "white"
          },
          "hoverlabel": {
           "align": "left"
          },
          "hovermode": "closest",
          "mapbox": {
           "style": "light"
          },
          "paper_bgcolor": "white",
          "plot_bgcolor": "white",
          "polar": {
           "angularaxis": {
            "gridcolor": "rgb(232,232,232)",
            "linecolor": "rgb(36,36,36)",
            "showgrid": false,
            "showline": true,
            "ticks": "outside"
           },
           "bgcolor": "white",
           "radialaxis": {
            "gridcolor": "rgb(232,232,232)",
            "linecolor": "rgb(36,36,36)",
            "showgrid": false,
            "showline": true,
            "ticks": "outside"
           }
          },
          "scene": {
           "xaxis": {
            "backgroundcolor": "white",
            "gridcolor": "rgb(232,232,232)",
            "gridwidth": 2,
            "linecolor": "rgb(36,36,36)",
            "showbackground": true,
            "showgrid": false,
            "showline": true,
            "ticks": "outside",
            "zeroline": false,
            "zerolinecolor": "rgb(36,36,36)"
           },
           "yaxis": {
            "backgroundcolor": "white",
            "gridcolor": "rgb(232,232,232)",
            "gridwidth": 2,
            "linecolor": "rgb(36,36,36)",
            "showbackground": true,
            "showgrid": false,
            "showline": true,
            "ticks": "outside",
            "zeroline": false,
            "zerolinecolor": "rgb(36,36,36)"
           },
           "zaxis": {
            "backgroundcolor": "white",
            "gridcolor": "rgb(232,232,232)",
            "gridwidth": 2,
            "linecolor": "rgb(36,36,36)",
            "showbackground": true,
            "showgrid": false,
            "showline": true,
            "ticks": "outside",
            "zeroline": false,
            "zerolinecolor": "rgb(36,36,36)"
           }
          },
          "shapedefaults": {
           "fillcolor": "black",
           "line": {
            "width": 0
           },
           "opacity": 0.3
          },
          "ternary": {
           "aaxis": {
            "gridcolor": "rgb(232,232,232)",
            "linecolor": "rgb(36,36,36)",
            "showgrid": false,
            "showline": true,
            "ticks": "outside"
           },
           "baxis": {
            "gridcolor": "rgb(232,232,232)",
            "linecolor": "rgb(36,36,36)",
            "showgrid": false,
            "showline": true,
            "ticks": "outside"
           },
           "bgcolor": "white",
           "caxis": {
            "gridcolor": "rgb(232,232,232)",
            "linecolor": "rgb(36,36,36)",
            "showgrid": false,
            "showline": true,
            "ticks": "outside"
           }
          },
          "title": {
           "x": 0.05
          },
          "xaxis": {
           "automargin": true,
           "gridcolor": "rgb(232,232,232)",
           "linecolor": "rgb(36,36,36)",
           "showgrid": false,
           "showline": true,
           "ticks": "outside",
           "title": {
            "standoff": 15
           },
           "zeroline": false,
           "zerolinecolor": "rgb(36,36,36)"
          },
          "yaxis": {
           "automargin": true,
           "gridcolor": "rgb(232,232,232)",
           "linecolor": "rgb(36,36,36)",
           "showgrid": false,
           "showline": true,
           "ticks": "outside",
           "title": {
            "standoff": 15
           },
           "zeroline": false,
           "zerolinecolor": "rgb(36,36,36)"
          }
         }
        },
        "title": {
         "font": {
          "color": "Black",
          "size": 22
         },
         "text": "Topics Over Time for 2021Q4",
         "x": 0.4,
         "xanchor": "center",
         "y": 0.95,
         "yanchor": "top"
        },
        "width": 1250,
        "xaxis": {
         "showgrid": true
        },
        "yaxis": {
         "showgrid": true,
         "title": {
          "text": "Frequency"
         }
        }
       }
      }
     },
     "metadata": {},
     "output_type": "display_data"
    },
    {
     "data": {
      "application/vnd.plotly.v1+json": {
       "config": {
        "plotlyServerURL": "https://plot.ly"
       },
       "data": [
        {
         "hoverinfo": "text",
         "hovertext": [
          "<b>Topic 0</b><br>Words: mirip, apaka, impact, prtrn, jir",
          "<b>Topic 0</b><br>Words: malah, pinter, pas, hati, ngasal",
          "<b>Topic 0</b><br>Words: kkn, mahasiswa, akhlak, adapun, dusun",
          "<b>Topic 0</b><br>Words: loan, student, enggak, negara, bayar",
          "<b>Topic 0</b><br>Words: negara, kampus, hak, enggak, tuntut",
          "<b>Topic 0</b><br>Words: kapitalis, sosdem, kalau, sih, memang",
          "<b>Topic 0</b><br>Words: pil, butuh, pngambil, guwe, formal",
          "<b>Topic 0</b><br>Words: kota, bakar, dok, abdullah, tv",
          "<b>Topic 0</b><br>Words: sangat, pengin, obrol, jawa, banget",
          "<b>Topic 0</b><br>Words: tengah, kurikulum, zaman, paradigma, kini",
          "<b>Topic 0</b><br>Words: sekolah, gue, keluarga, negara, negeri",
          "<b>Topic 0</b><br>Words: sisi, makin, ptn, rakyat, fokus",
          "<b>Topic 0</b><br>Words: pintar, makin, amp, camat, pinggir",
          "<b>Topic 0</b><br>Words: dapodik, tua, guna, konsep, benar",
          "<b>Topic 0</b><br>Words: dong, surat, punya, anakanak, hubung",
          "<b>Topic 0</b><br>Words: sini, tular, apa, korban, amp",
          "<b>Topic 0</b><br>Words: cepat, kurikulum, sakuareeeepmu, lost, pusing",
          "<b>Topic 0</b><br>Words: gagal, ccp, enggak, susah, bayar",
          "<b>Topic 0</b><br>Words: masyarakat, buat, hukum, lingkung, tjsl",
          "<b>Topic 0</b><br>Words: baik, jalan, asih, kuasa, bbm",
          "<b>Topic 0</b><br>Words: ksenjangan, coba, me, doi, sering",
          "<b>Topic 0</b><br>Words: impactnya, selera, thd, studi, tonton",
          "<b>Topic 0</b><br>Words: salah, belanda, smk, perempuan, siap",
          "<b>Topic 0</b><br>Words: cokelat, racun, jurus, manajemen, trivia",
          "<b>Topic 0</b><br>Words: dokter, abad, tantang, profesi, global",
          "<b>Topic 0</b><br>Words: ajar, diskriminatif, mild, schapp, india",
          "<b>Topic 0</b><br>Words: pakai, bpjs, kalo, anda, bikin"
         ],
         "marker": {
          "color": "#E69F00"
         },
         "mode": "lines",
         "name": "0_enggak_negara_jadi_buat",
         "type": "scatter",
         "x": [
          "2022-01-01T02:59:56.177000+00:00",
          "2022-01-04T22:02:41.533333+00:00",
          "2022-01-06T18:53:42.300000+00:00",
          "2022-01-08T15:44:43.066666+00:00",
          "2022-01-10T12:35:43.833333+00:00",
          "2022-01-12T09:26:44.600000+00:00",
          "2022-01-14T06:17:45.366666+00:00",
          "2022-01-16T03:08:46.133333+00:00",
          "2022-01-17T23:59:46.900000+00:00",
          "2022-01-19T20:50:47.666666+00:00",
          "2022-01-21T17:41:48.433333+00:00",
          "2022-01-23T14:32:49.200000+00:00",
          "2022-01-25T11:23:49.966666+00:00",
          "2022-01-27T08:14:50.733333+00:00",
          "2022-01-29T05:05:51.500000+00:00",
          "2022-02-01T22:47:53.033333+00:00",
          "2022-02-03T19:38:53.800000+00:00",
          "2022-02-05T16:29:54.566666+00:00",
          "2022-02-07T13:20:55.333333+00:00",
          "2022-02-11T07:02:56.866666+00:00",
          "2022-02-13T03:53:57.633333+00:00",
          "2022-02-15T00:44:58.400000+00:00",
          "2022-02-16T21:35:59.166666+00:00",
          "2022-02-18T18:26:59.933333+00:00",
          "2022-02-20T15:18:00.699999+00:00",
          "2022-02-22T12:09:01.466666+00:00",
          "2022-02-24T09:00:02.233333+00:00"
         ],
         "y": [
          1,
          1,
          1,
          15,
          7,
          4,
          2,
          1,
          3,
          2,
          2,
          4,
          2,
          4,
          1,
          4,
          2,
          4,
          2,
          3,
          2,
          1,
          3,
          1,
          2,
          3,
          3
         ]
        },
        {
         "hoverinfo": "text",
         "hovertext": [
          "<b>Topic 1</b><br>Words: sector, mdmc, pamekasan, lokakarya, risiko",
          "<b>Topic 1</b><br>Words: jakarta, ptm, dki, dinas, pekanbaru",
          "<b>Topic 1</b><br>Words: kontrak, besar, tenaga, ganti, presiden",
          "<b>Topic 1</b><br>Words: nadiem, prototipe, dukung, kurikulum, keren",
          "<b>Topic 1</b><br>Words: bukik, setiawan, amat, prototipe, besar",
          "<b>Topic 1</b><br>Words: tutup, beberapa, nyata, meski, radja",
          "<b>Topic 1</b><br>Words: kurikulum, kemendikbudristek, asesmen, aditomo, anindito",
          "<b>Topic 1</b><br>Words: kalong, kota, ramah, anak, sek",
          "<b>Topic 1</b><br>Words: muhammadiyah, ialah, amirrachman, dikdasmen, sekretaris",
          "<b>Topic 1</b><br>Words: efendi, pgri, ilyas, ketua, lampung",
          "<b>Topic 1</b><br>Words: bina, sd, bidang, ramu, merger",
          "<b>Topic 1</b><br>Words: depok, kcd, ii, wilayah, benarbenar",
          "<b>Topic 1</b><br>Words: diy, persen, dinas, ptm, susul",
          "<b>Topic 1</b><br>Words: diskresi, terbit, ajar, kait, daerah",
          "<b>Topic 1</b><br>Words: kota, ikut, ptm, dinas, semarang",
          "<b>Topic 1</b><br>Words: kota, padang, pjj, ptm, ajar",
          "<b>Topic 1</b><br>Words: tawar, presidensi, bas, komunitas, vokasi",
          "<b>Topic 1</b><br>Words: uajy, praksis, jogja, inklusi, sorot",
          "<b>Topic 1</b><br>Words: its, mbkm, direktorat, kota, laksana",
          "<b>Topic 1</b><br>Words: semester, tahun, jenderal, pasuk, diktiristek",
          "<b>Topic 1</b><br>Words: fisik, indak, laksana, tahun, pukul",
          "<b>Topic 1</b><br>Words: sisdiknas, buka, aliansi, ruu, uin"
         ],
         "marker": {
          "color": "#56B4E9"
         },
         "mode": "lines",
         "name": "1_ptm_ajar_dinas_kota",
         "type": "scatter",
         "x": [
          "2022-01-01T02:59:56.177000+00:00",
          "2022-01-03T01:11:40.766666+00:00",
          "2022-01-04T22:02:41.533333+00:00",
          "2022-01-08T15:44:43.066666+00:00",
          "2022-01-10T12:35:43.833333+00:00",
          "2022-01-16T03:08:46.133333+00:00",
          "2022-01-17T23:59:46.900000+00:00",
          "2022-01-19T20:50:47.666666+00:00",
          "2022-01-21T17:41:48.433333+00:00",
          "2022-01-27T08:14:50.733333+00:00",
          "2022-01-29T05:05:51.500000+00:00",
          "2022-01-31T01:56:52.266666+00:00",
          "2022-02-01T22:47:53.033333+00:00",
          "2022-02-03T19:38:53.800000+00:00",
          "2022-02-05T16:29:54.566666+00:00",
          "2022-02-07T13:20:55.333333+00:00",
          "2022-02-09T10:11:56.100000+00:00",
          "2022-02-11T07:02:56.866666+00:00",
          "2022-02-13T03:53:57.633333+00:00",
          "2022-02-16T21:35:59.166666+00:00",
          "2022-02-20T15:18:00.699999+00:00",
          "2022-02-22T12:09:01.466666+00:00"
         ],
         "y": [
          2,
          8,
          4,
          1,
          4,
          1,
          6,
          2,
          3,
          1,
          1,
          2,
          2,
          3,
          6,
          4,
          4,
          1,
          5,
          1,
          1,
          3
         ]
        },
        {
         "hoverinfo": "text",
         "hovertext": [
          "<b>Topic 2</b><br>Words: demokrat, guru, juang, sehat, susilo",
          "<b>Topic 2</b><br>Words: jangka, tempat, rekomendasi, keluarga, susun",
          "<b>Topic 2</b><br>Words: aneh, kerja, kualifikasi, skill, kemas",
          "<b>Topic 2</b><br>Words: papua, negeri, barat, maupun, asli",
          "<b>Topic 2</b><br>Words: tingkat, instansi, informasi, maupun, pasti",
          "<b>Topic 2</b><br>Words: naskah, akademik, pp, kualitas, tuju",
          "<b>Topic 2</b><br>Words: industri, university, corporate, taraf, global",
          "<b>Topic 2</b><br>Words: bumn, tetap, masa, pandemi, semua",
          "<b>Topic 2</b><br>Words: pegang, referensi, revitalisasi, akademisi, lptk",
          "<b>Topic 2</b><br>Words: gus, sehat, penting, menag, pandang",
          "<b>Topic 2</b><br>Words: hidup, sosial, baik, banyak, bismillah",
          "<b>Topic 2</b><br>Words: papua, beasiswa, asli, manusia, sendiri",
          "<b>Topic 2</b><br>Words: pegang, referensi, revitalisasi, akademisi, lptk",
          "<b>Topic 2</b><br>Words: papua, perintah, manusia, sumber, undang",
          "<b>Topic 2</b><br>Words: yakin, positif, dampak, beri, sebut",
          "<b>Topic 2</b><br>Words: manusia, sumber, susun, daya, prioritas",
          "<b>Topic 2</b><br>Words: suharso, ppn, monoarfa, ekstrem, turun",
          "<b>Topic 2</b><br>Words: produk, sektor, tingkat, tahun, publik"
         ],
         "marker": {
          "color": "#009E73"
         },
         "mode": "lines",
         "name": "2_sehat_manusia_tingkat_sumber",
         "type": "scatter",
         "x": [
          "2022-01-04T22:02:41.533333+00:00",
          "2022-01-10T12:35:43.833333+00:00",
          "2022-01-12T09:26:44.600000+00:00",
          "2022-01-17T23:59:46.900000+00:00",
          "2022-01-21T17:41:48.433333+00:00",
          "2022-01-23T14:32:49.200000+00:00",
          "2022-01-25T11:23:49.966666+00:00",
          "2022-01-29T05:05:51.500000+00:00",
          "2022-01-31T01:56:52.266666+00:00",
          "2022-02-01T22:47:53.033333+00:00",
          "2022-02-05T16:29:54.566666+00:00",
          "2022-02-09T10:11:56.100000+00:00",
          "2022-02-11T07:02:56.866666+00:00",
          "2022-02-13T03:53:57.633333+00:00",
          "2022-02-15T00:44:58.400000+00:00",
          "2022-02-16T21:35:59.166666+00:00",
          "2022-02-18T18:26:59.933333+00:00",
          "2022-02-22T12:09:01.466666+00:00"
         ],
         "y": [
          3,
          1,
          1,
          1,
          1,
          5,
          1,
          2,
          1,
          2,
          1,
          2,
          1,
          2,
          1,
          5,
          2,
          4
         ]
        }
       ],
       "layout": {
        "height": 450,
        "hoverlabel": {
         "bgcolor": "white",
         "font": {
          "family": "Rockwell",
          "size": 16
         }
        },
        "legend": {
         "title": {
          "text": "<b>Global Topic Representation"
         }
        },
        "template": {
         "data": {
          "bar": [
           {
            "error_x": {
             "color": "rgb(36,36,36)"
            },
            "error_y": {
             "color": "rgb(36,36,36)"
            },
            "marker": {
             "line": {
              "color": "white",
              "width": 0.5
             },
             "pattern": {
              "fillmode": "overlay",
              "size": 10,
              "solidity": 0.2
             }
            },
            "type": "bar"
           }
          ],
          "barpolar": [
           {
            "marker": {
             "line": {
              "color": "white",
              "width": 0.5
             },
             "pattern": {
              "fillmode": "overlay",
              "size": 10,
              "solidity": 0.2
             }
            },
            "type": "barpolar"
           }
          ],
          "carpet": [
           {
            "aaxis": {
             "endlinecolor": "rgb(36,36,36)",
             "gridcolor": "white",
             "linecolor": "white",
             "minorgridcolor": "white",
             "startlinecolor": "rgb(36,36,36)"
            },
            "baxis": {
             "endlinecolor": "rgb(36,36,36)",
             "gridcolor": "white",
             "linecolor": "white",
             "minorgridcolor": "white",
             "startlinecolor": "rgb(36,36,36)"
            },
            "type": "carpet"
           }
          ],
          "choropleth": [
           {
            "colorbar": {
             "outlinewidth": 1,
             "tickcolor": "rgb(36,36,36)",
             "ticks": "outside"
            },
            "type": "choropleth"
           }
          ],
          "contour": [
           {
            "colorbar": {
             "outlinewidth": 1,
             "tickcolor": "rgb(36,36,36)",
             "ticks": "outside"
            },
            "colorscale": [
             [
              0,
              "#440154"
             ],
             [
              0.1111111111111111,
              "#482878"
             ],
             [
              0.2222222222222222,
              "#3e4989"
             ],
             [
              0.3333333333333333,
              "#31688e"
             ],
             [
              0.4444444444444444,
              "#26828e"
             ],
             [
              0.5555555555555556,
              "#1f9e89"
             ],
             [
              0.6666666666666666,
              "#35b779"
             ],
             [
              0.7777777777777778,
              "#6ece58"
             ],
             [
              0.8888888888888888,
              "#b5de2b"
             ],
             [
              1,
              "#fde725"
             ]
            ],
            "type": "contour"
           }
          ],
          "contourcarpet": [
           {
            "colorbar": {
             "outlinewidth": 1,
             "tickcolor": "rgb(36,36,36)",
             "ticks": "outside"
            },
            "type": "contourcarpet"
           }
          ],
          "heatmap": [
           {
            "colorbar": {
             "outlinewidth": 1,
             "tickcolor": "rgb(36,36,36)",
             "ticks": "outside"
            },
            "colorscale": [
             [
              0,
              "#440154"
             ],
             [
              0.1111111111111111,
              "#482878"
             ],
             [
              0.2222222222222222,
              "#3e4989"
             ],
             [
              0.3333333333333333,
              "#31688e"
             ],
             [
              0.4444444444444444,
              "#26828e"
             ],
             [
              0.5555555555555556,
              "#1f9e89"
             ],
             [
              0.6666666666666666,
              "#35b779"
             ],
             [
              0.7777777777777778,
              "#6ece58"
             ],
             [
              0.8888888888888888,
              "#b5de2b"
             ],
             [
              1,
              "#fde725"
             ]
            ],
            "type": "heatmap"
           }
          ],
          "heatmapgl": [
           {
            "colorbar": {
             "outlinewidth": 1,
             "tickcolor": "rgb(36,36,36)",
             "ticks": "outside"
            },
            "colorscale": [
             [
              0,
              "#440154"
             ],
             [
              0.1111111111111111,
              "#482878"
             ],
             [
              0.2222222222222222,
              "#3e4989"
             ],
             [
              0.3333333333333333,
              "#31688e"
             ],
             [
              0.4444444444444444,
              "#26828e"
             ],
             [
              0.5555555555555556,
              "#1f9e89"
             ],
             [
              0.6666666666666666,
              "#35b779"
             ],
             [
              0.7777777777777778,
              "#6ece58"
             ],
             [
              0.8888888888888888,
              "#b5de2b"
             ],
             [
              1,
              "#fde725"
             ]
            ],
            "type": "heatmapgl"
           }
          ],
          "histogram": [
           {
            "marker": {
             "line": {
              "color": "white",
              "width": 0.6
             }
            },
            "type": "histogram"
           }
          ],
          "histogram2d": [
           {
            "colorbar": {
             "outlinewidth": 1,
             "tickcolor": "rgb(36,36,36)",
             "ticks": "outside"
            },
            "colorscale": [
             [
              0,
              "#440154"
             ],
             [
              0.1111111111111111,
              "#482878"
             ],
             [
              0.2222222222222222,
              "#3e4989"
             ],
             [
              0.3333333333333333,
              "#31688e"
             ],
             [
              0.4444444444444444,
              "#26828e"
             ],
             [
              0.5555555555555556,
              "#1f9e89"
             ],
             [
              0.6666666666666666,
              "#35b779"
             ],
             [
              0.7777777777777778,
              "#6ece58"
             ],
             [
              0.8888888888888888,
              "#b5de2b"
             ],
             [
              1,
              "#fde725"
             ]
            ],
            "type": "histogram2d"
           }
          ],
          "histogram2dcontour": [
           {
            "colorbar": {
             "outlinewidth": 1,
             "tickcolor": "rgb(36,36,36)",
             "ticks": "outside"
            },
            "colorscale": [
             [
              0,
              "#440154"
             ],
             [
              0.1111111111111111,
              "#482878"
             ],
             [
              0.2222222222222222,
              "#3e4989"
             ],
             [
              0.3333333333333333,
              "#31688e"
             ],
             [
              0.4444444444444444,
              "#26828e"
             ],
             [
              0.5555555555555556,
              "#1f9e89"
             ],
             [
              0.6666666666666666,
              "#35b779"
             ],
             [
              0.7777777777777778,
              "#6ece58"
             ],
             [
              0.8888888888888888,
              "#b5de2b"
             ],
             [
              1,
              "#fde725"
             ]
            ],
            "type": "histogram2dcontour"
           }
          ],
          "mesh3d": [
           {
            "colorbar": {
             "outlinewidth": 1,
             "tickcolor": "rgb(36,36,36)",
             "ticks": "outside"
            },
            "type": "mesh3d"
           }
          ],
          "parcoords": [
           {
            "line": {
             "colorbar": {
              "outlinewidth": 1,
              "tickcolor": "rgb(36,36,36)",
              "ticks": "outside"
             }
            },
            "type": "parcoords"
           }
          ],
          "pie": [
           {
            "automargin": true,
            "type": "pie"
           }
          ],
          "scatter": [
           {
            "fillpattern": {
             "fillmode": "overlay",
             "size": 10,
             "solidity": 0.2
            },
            "type": "scatter"
           }
          ],
          "scatter3d": [
           {
            "line": {
             "colorbar": {
              "outlinewidth": 1,
              "tickcolor": "rgb(36,36,36)",
              "ticks": "outside"
             }
            },
            "marker": {
             "colorbar": {
              "outlinewidth": 1,
              "tickcolor": "rgb(36,36,36)",
              "ticks": "outside"
             }
            },
            "type": "scatter3d"
           }
          ],
          "scattercarpet": [
           {
            "marker": {
             "colorbar": {
              "outlinewidth": 1,
              "tickcolor": "rgb(36,36,36)",
              "ticks": "outside"
             }
            },
            "type": "scattercarpet"
           }
          ],
          "scattergeo": [
           {
            "marker": {
             "colorbar": {
              "outlinewidth": 1,
              "tickcolor": "rgb(36,36,36)",
              "ticks": "outside"
             }
            },
            "type": "scattergeo"
           }
          ],
          "scattergl": [
           {
            "marker": {
             "colorbar": {
              "outlinewidth": 1,
              "tickcolor": "rgb(36,36,36)",
              "ticks": "outside"
             }
            },
            "type": "scattergl"
           }
          ],
          "scattermapbox": [
           {
            "marker": {
             "colorbar": {
              "outlinewidth": 1,
              "tickcolor": "rgb(36,36,36)",
              "ticks": "outside"
             }
            },
            "type": "scattermapbox"
           }
          ],
          "scatterpolar": [
           {
            "marker": {
             "colorbar": {
              "outlinewidth": 1,
              "tickcolor": "rgb(36,36,36)",
              "ticks": "outside"
             }
            },
            "type": "scatterpolar"
           }
          ],
          "scatterpolargl": [
           {
            "marker": {
             "colorbar": {
              "outlinewidth": 1,
              "tickcolor": "rgb(36,36,36)",
              "ticks": "outside"
             }
            },
            "type": "scatterpolargl"
           }
          ],
          "scatterternary": [
           {
            "marker": {
             "colorbar": {
              "outlinewidth": 1,
              "tickcolor": "rgb(36,36,36)",
              "ticks": "outside"
             }
            },
            "type": "scatterternary"
           }
          ],
          "surface": [
           {
            "colorbar": {
             "outlinewidth": 1,
             "tickcolor": "rgb(36,36,36)",
             "ticks": "outside"
            },
            "colorscale": [
             [
              0,
              "#440154"
             ],
             [
              0.1111111111111111,
              "#482878"
             ],
             [
              0.2222222222222222,
              "#3e4989"
             ],
             [
              0.3333333333333333,
              "#31688e"
             ],
             [
              0.4444444444444444,
              "#26828e"
             ],
             [
              0.5555555555555556,
              "#1f9e89"
             ],
             [
              0.6666666666666666,
              "#35b779"
             ],
             [
              0.7777777777777778,
              "#6ece58"
             ],
             [
              0.8888888888888888,
              "#b5de2b"
             ],
             [
              1,
              "#fde725"
             ]
            ],
            "type": "surface"
           }
          ],
          "table": [
           {
            "cells": {
             "fill": {
              "color": "rgb(237,237,237)"
             },
             "line": {
              "color": "white"
             }
            },
            "header": {
             "fill": {
              "color": "rgb(217,217,217)"
             },
             "line": {
              "color": "white"
             }
            },
            "type": "table"
           }
          ]
         },
         "layout": {
          "annotationdefaults": {
           "arrowhead": 0,
           "arrowwidth": 1
          },
          "autotypenumbers": "strict",
          "coloraxis": {
           "colorbar": {
            "outlinewidth": 1,
            "tickcolor": "rgb(36,36,36)",
            "ticks": "outside"
           }
          },
          "colorscale": {
           "diverging": [
            [
             0,
             "rgb(103,0,31)"
            ],
            [
             0.1,
             "rgb(178,24,43)"
            ],
            [
             0.2,
             "rgb(214,96,77)"
            ],
            [
             0.3,
             "rgb(244,165,130)"
            ],
            [
             0.4,
             "rgb(253,219,199)"
            ],
            [
             0.5,
             "rgb(247,247,247)"
            ],
            [
             0.6,
             "rgb(209,229,240)"
            ],
            [
             0.7,
             "rgb(146,197,222)"
            ],
            [
             0.8,
             "rgb(67,147,195)"
            ],
            [
             0.9,
             "rgb(33,102,172)"
            ],
            [
             1,
             "rgb(5,48,97)"
            ]
           ],
           "sequential": [
            [
             0,
             "#440154"
            ],
            [
             0.1111111111111111,
             "#482878"
            ],
            [
             0.2222222222222222,
             "#3e4989"
            ],
            [
             0.3333333333333333,
             "#31688e"
            ],
            [
             0.4444444444444444,
             "#26828e"
            ],
            [
             0.5555555555555556,
             "#1f9e89"
            ],
            [
             0.6666666666666666,
             "#35b779"
            ],
            [
             0.7777777777777778,
             "#6ece58"
            ],
            [
             0.8888888888888888,
             "#b5de2b"
            ],
            [
             1,
             "#fde725"
            ]
           ],
           "sequentialminus": [
            [
             0,
             "#440154"
            ],
            [
             0.1111111111111111,
             "#482878"
            ],
            [
             0.2222222222222222,
             "#3e4989"
            ],
            [
             0.3333333333333333,
             "#31688e"
            ],
            [
             0.4444444444444444,
             "#26828e"
            ],
            [
             0.5555555555555556,
             "#1f9e89"
            ],
            [
             0.6666666666666666,
             "#35b779"
            ],
            [
             0.7777777777777778,
             "#6ece58"
            ],
            [
             0.8888888888888888,
             "#b5de2b"
            ],
            [
             1,
             "#fde725"
            ]
           ]
          },
          "colorway": [
           "#1F77B4",
           "#FF7F0E",
           "#2CA02C",
           "#D62728",
           "#9467BD",
           "#8C564B",
           "#E377C2",
           "#7F7F7F",
           "#BCBD22",
           "#17BECF"
          ],
          "font": {
           "color": "rgb(36,36,36)"
          },
          "geo": {
           "bgcolor": "white",
           "lakecolor": "white",
           "landcolor": "white",
           "showlakes": true,
           "showland": true,
           "subunitcolor": "white"
          },
          "hoverlabel": {
           "align": "left"
          },
          "hovermode": "closest",
          "mapbox": {
           "style": "light"
          },
          "paper_bgcolor": "white",
          "plot_bgcolor": "white",
          "polar": {
           "angularaxis": {
            "gridcolor": "rgb(232,232,232)",
            "linecolor": "rgb(36,36,36)",
            "showgrid": false,
            "showline": true,
            "ticks": "outside"
           },
           "bgcolor": "white",
           "radialaxis": {
            "gridcolor": "rgb(232,232,232)",
            "linecolor": "rgb(36,36,36)",
            "showgrid": false,
            "showline": true,
            "ticks": "outside"
           }
          },
          "scene": {
           "xaxis": {
            "backgroundcolor": "white",
            "gridcolor": "rgb(232,232,232)",
            "gridwidth": 2,
            "linecolor": "rgb(36,36,36)",
            "showbackground": true,
            "showgrid": false,
            "showline": true,
            "ticks": "outside",
            "zeroline": false,
            "zerolinecolor": "rgb(36,36,36)"
           },
           "yaxis": {
            "backgroundcolor": "white",
            "gridcolor": "rgb(232,232,232)",
            "gridwidth": 2,
            "linecolor": "rgb(36,36,36)",
            "showbackground": true,
            "showgrid": false,
            "showline": true,
            "ticks": "outside",
            "zeroline": false,
            "zerolinecolor": "rgb(36,36,36)"
           },
           "zaxis": {
            "backgroundcolor": "white",
            "gridcolor": "rgb(232,232,232)",
            "gridwidth": 2,
            "linecolor": "rgb(36,36,36)",
            "showbackground": true,
            "showgrid": false,
            "showline": true,
            "ticks": "outside",
            "zeroline": false,
            "zerolinecolor": "rgb(36,36,36)"
           }
          },
          "shapedefaults": {
           "fillcolor": "black",
           "line": {
            "width": 0
           },
           "opacity": 0.3
          },
          "ternary": {
           "aaxis": {
            "gridcolor": "rgb(232,232,232)",
            "linecolor": "rgb(36,36,36)",
            "showgrid": false,
            "showline": true,
            "ticks": "outside"
           },
           "baxis": {
            "gridcolor": "rgb(232,232,232)",
            "linecolor": "rgb(36,36,36)",
            "showgrid": false,
            "showline": true,
            "ticks": "outside"
           },
           "bgcolor": "white",
           "caxis": {
            "gridcolor": "rgb(232,232,232)",
            "linecolor": "rgb(36,36,36)",
            "showgrid": false,
            "showline": true,
            "ticks": "outside"
           }
          },
          "title": {
           "x": 0.05
          },
          "xaxis": {
           "automargin": true,
           "gridcolor": "rgb(232,232,232)",
           "linecolor": "rgb(36,36,36)",
           "showgrid": false,
           "showline": true,
           "ticks": "outside",
           "title": {
            "standoff": 15
           },
           "zeroline": false,
           "zerolinecolor": "rgb(36,36,36)"
          },
          "yaxis": {
           "automargin": true,
           "gridcolor": "rgb(232,232,232)",
           "linecolor": "rgb(36,36,36)",
           "showgrid": false,
           "showline": true,
           "ticks": "outside",
           "title": {
            "standoff": 15
           },
           "zeroline": false,
           "zerolinecolor": "rgb(36,36,36)"
          }
         }
        },
        "title": {
         "font": {
          "color": "Black",
          "size": 22
         },
         "text": "Topics Over Time for 2022Q1",
         "x": 0.4,
         "xanchor": "center",
         "y": 0.95,
         "yanchor": "top"
        },
        "width": 1250,
        "xaxis": {
         "showgrid": true
        },
        "yaxis": {
         "showgrid": true,
         "title": {
          "text": "Frequency"
         }
        }
       }
      }
     },
     "metadata": {},
     "output_type": "display_data"
    },
    {
     "data": {
      "application/vnd.plotly.v1+json": {
       "config": {
        "plotlyServerURL": "https://plot.ly"
       },
       "data": [
        {
         "hoverinfo": "text",
         "hovertext": [
          "<b>Topic 0</b><br>Words: inklusif, kawal, implementasi, bersamasama, mesti",
          "<b>Topic 0</b><br>Words: inklusif, kawal, bersamasama, mesti, sobat",
          "<b>Topic 0</b><br>Words: inklusif, kawal, bersamasama, mesti, sobat",
          "<b>Topic 0</b><br>Words: inklusif, perlu, semua, vamsa, sobat"
         ],
         "marker": {
          "color": "#E69F00"
         },
         "mode": "lines",
         "name": "0_inklusif_kawal_implementasi_bersamasam...",
         "type": "scatter",
         "x": [
          "2022-06-13T18:54:48.266666+00:00",
          "2022-06-15T17:58:02.733333+00:00",
          "2022-06-17T17:01:17.200000+00:00",
          "2022-06-23T14:11:00.600000+00:00"
         ],
         "y": [
          20,
          4,
          1,
          1
         ]
        },
        {
         "hoverinfo": "text",
         "hovertext": [
          "<b>Topic 1</b><br>Words: indonesia, nasional, tingkat, muslim, variabel",
          "<b>Topic 1</b><br>Words: baru, orde, sekat, memang, benar",
          "<b>Topic 1</b><br>Words: panglima, tni, strategis, lemhannas, via",
          "<b>Topic 1</b><br>Words: pandemi, indonesia, ajar, program, vokasi",
          "<b>Topic 1</b><br>Words: model, ajar, intelektual, merdeka, indonesia",
          "<b>Topic 1</b><br>Words: sarana, prasarana, inovasi, bidang, indonesia",
          "<b>Topic 1</b><br>Words: standard, jadi, jahatnyaordebarutahun, kadang, orangorang",
          "<b>Topic 1</b><br>Words: sektor, arah, masyarakat, buat, presiden",
          "<b>Topic 1</b><br>Words: manfaat, infrastruktur, merdeka, akselerasi, sumberdaya",
          "<b>Topic 1</b><br>Words: sebal, miskin, bantu, layan, siswa",
          "<b>Topic 1</b><br>Words: sekolah, amp, siswa, ajar, miskin",
          "<b>Topic 1</b><br>Words: aliansi, indonesia, sampai, kait, pandang",
          "<b>Topic 1</b><br>Words: aliansi, sampai, selenggara, bagai, indonesia",
          "<b>Topic 1</b><br>Words: indonesia, aliansi, masuk, bawaslu, harap",
          "<b>Topic 1</b><br>Words: kena, perintah, labil, ferdiansyah, fungsi",
          "<b>Topic 1</b><br>Words: sekarang, ajar, buddha, borobudur, umat",
          "<b>Topic 1</b><br>Words: tenaga, honorer, sehat, amp, nasib",
          "<b>Topic 1</b><br>Words: bahasa, asia, seameo, kolaborasi, qitep",
          "<b>Topic 1</b><br>Words: stabilitas, honorer, aplikasi, indonesia, harga",
          "<b>Topic 1</b><br>Words: seluruh, layan, pulih, mang, kemendikbudristek",
          "<b>Topic 1</b><br>Words: indonesia, henti, bodoh, aneka, lengkap",
          "<b>Topic 1</b><br>Words: survei, tingkat, jang, ristek, kemendikbud",
          "<b>Topic 1</b><br>Words: ojol, swasta, hitung, tak, baru",
          "<b>Topic 1</b><br>Words: jurnal, ptt, sbmptn, pp, selamat",
          "<b>Topic 1</b><br>Words: jadi, ekonomi, lebih, wilayah, dulu",
          "<b>Topic 1</b><br>Words: ajar, indonesia, rapor, pecat, merdeka",
          "<b>Topic 1</b><br>Words: olahraga, rencana, perempuan, publik, dokumen"
         ],
         "marker": {
          "color": "#56B4E9"
         },
         "mode": "lines",
         "name": "1_indonesia_aliansi_masuk_beri",
         "type": "scatter",
         "x": [
          "2022-05-01T14:18:48.166000+00:00",
          "2022-05-03T14:46:44.466666+00:00",
          "2022-05-05T13:49:58.933333+00:00",
          "2022-05-11T10:59:42.333333+00:00",
          "2022-05-13T10:02:56.800000+00:00",
          "2022-05-15T09:06:11.266666+00:00",
          "2022-05-19T07:12:40.200000+00:00",
          "2022-05-21T06:15:54.666666+00:00",
          "2022-05-23T05:19:09.133333+00:00",
          "2022-05-25T04:22:23.600000+00:00",
          "2022-05-27T03:25:38.066666+00:00",
          "2022-05-29T02:28:52.533333+00:00",
          "2022-05-31T01:32:07+00:00",
          "2022-06-02T00:35:21.466666+00:00",
          "2022-06-03T23:38:35.933333+00:00",
          "2022-06-05T22:41:50.400000+00:00",
          "2022-06-07T21:45:04.866666+00:00",
          "2022-06-09T20:48:19.333333+00:00",
          "2022-06-11T19:51:33.800000+00:00",
          "2022-06-13T18:54:48.266666+00:00",
          "2022-06-15T17:58:02.733333+00:00",
          "2022-06-17T17:01:17.200000+00:00",
          "2022-06-19T16:04:31.666666+00:00",
          "2022-06-21T15:07:46.133333+00:00",
          "2022-06-23T14:11:00.600000+00:00",
          "2022-06-25T13:14:15.066666+00:00",
          "2022-06-27T12:17:29.533333+00:00"
         ],
         "y": [
          5,
          3,
          1,
          14,
          5,
          1,
          2,
          3,
          6,
          11,
          15,
          25,
          7,
          11,
          3,
          6,
          4,
          5,
          7,
          16,
          8,
          7,
          4,
          4,
          6,
          10,
          16
         ]
        }
       ],
       "layout": {
        "height": 450,
        "hoverlabel": {
         "bgcolor": "white",
         "font": {
          "family": "Rockwell",
          "size": 16
         }
        },
        "legend": {
         "title": {
          "text": "<b>Global Topic Representation"
         }
        },
        "template": {
         "data": {
          "bar": [
           {
            "error_x": {
             "color": "rgb(36,36,36)"
            },
            "error_y": {
             "color": "rgb(36,36,36)"
            },
            "marker": {
             "line": {
              "color": "white",
              "width": 0.5
             },
             "pattern": {
              "fillmode": "overlay",
              "size": 10,
              "solidity": 0.2
             }
            },
            "type": "bar"
           }
          ],
          "barpolar": [
           {
            "marker": {
             "line": {
              "color": "white",
              "width": 0.5
             },
             "pattern": {
              "fillmode": "overlay",
              "size": 10,
              "solidity": 0.2
             }
            },
            "type": "barpolar"
           }
          ],
          "carpet": [
           {
            "aaxis": {
             "endlinecolor": "rgb(36,36,36)",
             "gridcolor": "white",
             "linecolor": "white",
             "minorgridcolor": "white",
             "startlinecolor": "rgb(36,36,36)"
            },
            "baxis": {
             "endlinecolor": "rgb(36,36,36)",
             "gridcolor": "white",
             "linecolor": "white",
             "minorgridcolor": "white",
             "startlinecolor": "rgb(36,36,36)"
            },
            "type": "carpet"
           }
          ],
          "choropleth": [
           {
            "colorbar": {
             "outlinewidth": 1,
             "tickcolor": "rgb(36,36,36)",
             "ticks": "outside"
            },
            "type": "choropleth"
           }
          ],
          "contour": [
           {
            "colorbar": {
             "outlinewidth": 1,
             "tickcolor": "rgb(36,36,36)",
             "ticks": "outside"
            },
            "colorscale": [
             [
              0,
              "#440154"
             ],
             [
              0.1111111111111111,
              "#482878"
             ],
             [
              0.2222222222222222,
              "#3e4989"
             ],
             [
              0.3333333333333333,
              "#31688e"
             ],
             [
              0.4444444444444444,
              "#26828e"
             ],
             [
              0.5555555555555556,
              "#1f9e89"
             ],
             [
              0.6666666666666666,
              "#35b779"
             ],
             [
              0.7777777777777778,
              "#6ece58"
             ],
             [
              0.8888888888888888,
              "#b5de2b"
             ],
             [
              1,
              "#fde725"
             ]
            ],
            "type": "contour"
           }
          ],
          "contourcarpet": [
           {
            "colorbar": {
             "outlinewidth": 1,
             "tickcolor": "rgb(36,36,36)",
             "ticks": "outside"
            },
            "type": "contourcarpet"
           }
          ],
          "heatmap": [
           {
            "colorbar": {
             "outlinewidth": 1,
             "tickcolor": "rgb(36,36,36)",
             "ticks": "outside"
            },
            "colorscale": [
             [
              0,
              "#440154"
             ],
             [
              0.1111111111111111,
              "#482878"
             ],
             [
              0.2222222222222222,
              "#3e4989"
             ],
             [
              0.3333333333333333,
              "#31688e"
             ],
             [
              0.4444444444444444,
              "#26828e"
             ],
             [
              0.5555555555555556,
              "#1f9e89"
             ],
             [
              0.6666666666666666,
              "#35b779"
             ],
             [
              0.7777777777777778,
              "#6ece58"
             ],
             [
              0.8888888888888888,
              "#b5de2b"
             ],
             [
              1,
              "#fde725"
             ]
            ],
            "type": "heatmap"
           }
          ],
          "heatmapgl": [
           {
            "colorbar": {
             "outlinewidth": 1,
             "tickcolor": "rgb(36,36,36)",
             "ticks": "outside"
            },
            "colorscale": [
             [
              0,
              "#440154"
             ],
             [
              0.1111111111111111,
              "#482878"
             ],
             [
              0.2222222222222222,
              "#3e4989"
             ],
             [
              0.3333333333333333,
              "#31688e"
             ],
             [
              0.4444444444444444,
              "#26828e"
             ],
             [
              0.5555555555555556,
              "#1f9e89"
             ],
             [
              0.6666666666666666,
              "#35b779"
             ],
             [
              0.7777777777777778,
              "#6ece58"
             ],
             [
              0.8888888888888888,
              "#b5de2b"
             ],
             [
              1,
              "#fde725"
             ]
            ],
            "type": "heatmapgl"
           }
          ],
          "histogram": [
           {
            "marker": {
             "line": {
              "color": "white",
              "width": 0.6
             }
            },
            "type": "histogram"
           }
          ],
          "histogram2d": [
           {
            "colorbar": {
             "outlinewidth": 1,
             "tickcolor": "rgb(36,36,36)",
             "ticks": "outside"
            },
            "colorscale": [
             [
              0,
              "#440154"
             ],
             [
              0.1111111111111111,
              "#482878"
             ],
             [
              0.2222222222222222,
              "#3e4989"
             ],
             [
              0.3333333333333333,
              "#31688e"
             ],
             [
              0.4444444444444444,
              "#26828e"
             ],
             [
              0.5555555555555556,
              "#1f9e89"
             ],
             [
              0.6666666666666666,
              "#35b779"
             ],
             [
              0.7777777777777778,
              "#6ece58"
             ],
             [
              0.8888888888888888,
              "#b5de2b"
             ],
             [
              1,
              "#fde725"
             ]
            ],
            "type": "histogram2d"
           }
          ],
          "histogram2dcontour": [
           {
            "colorbar": {
             "outlinewidth": 1,
             "tickcolor": "rgb(36,36,36)",
             "ticks": "outside"
            },
            "colorscale": [
             [
              0,
              "#440154"
             ],
             [
              0.1111111111111111,
              "#482878"
             ],
             [
              0.2222222222222222,
              "#3e4989"
             ],
             [
              0.3333333333333333,
              "#31688e"
             ],
             [
              0.4444444444444444,
              "#26828e"
             ],
             [
              0.5555555555555556,
              "#1f9e89"
             ],
             [
              0.6666666666666666,
              "#35b779"
             ],
             [
              0.7777777777777778,
              "#6ece58"
             ],
             [
              0.8888888888888888,
              "#b5de2b"
             ],
             [
              1,
              "#fde725"
             ]
            ],
            "type": "histogram2dcontour"
           }
          ],
          "mesh3d": [
           {
            "colorbar": {
             "outlinewidth": 1,
             "tickcolor": "rgb(36,36,36)",
             "ticks": "outside"
            },
            "type": "mesh3d"
           }
          ],
          "parcoords": [
           {
            "line": {
             "colorbar": {
              "outlinewidth": 1,
              "tickcolor": "rgb(36,36,36)",
              "ticks": "outside"
             }
            },
            "type": "parcoords"
           }
          ],
          "pie": [
           {
            "automargin": true,
            "type": "pie"
           }
          ],
          "scatter": [
           {
            "fillpattern": {
             "fillmode": "overlay",
             "size": 10,
             "solidity": 0.2
            },
            "type": "scatter"
           }
          ],
          "scatter3d": [
           {
            "line": {
             "colorbar": {
              "outlinewidth": 1,
              "tickcolor": "rgb(36,36,36)",
              "ticks": "outside"
             }
            },
            "marker": {
             "colorbar": {
              "outlinewidth": 1,
              "tickcolor": "rgb(36,36,36)",
              "ticks": "outside"
             }
            },
            "type": "scatter3d"
           }
          ],
          "scattercarpet": [
           {
            "marker": {
             "colorbar": {
              "outlinewidth": 1,
              "tickcolor": "rgb(36,36,36)",
              "ticks": "outside"
             }
            },
            "type": "scattercarpet"
           }
          ],
          "scattergeo": [
           {
            "marker": {
             "colorbar": {
              "outlinewidth": 1,
              "tickcolor": "rgb(36,36,36)",
              "ticks": "outside"
             }
            },
            "type": "scattergeo"
           }
          ],
          "scattergl": [
           {
            "marker": {
             "colorbar": {
              "outlinewidth": 1,
              "tickcolor": "rgb(36,36,36)",
              "ticks": "outside"
             }
            },
            "type": "scattergl"
           }
          ],
          "scattermapbox": [
           {
            "marker": {
             "colorbar": {
              "outlinewidth": 1,
              "tickcolor": "rgb(36,36,36)",
              "ticks": "outside"
             }
            },
            "type": "scattermapbox"
           }
          ],
          "scatterpolar": [
           {
            "marker": {
             "colorbar": {
              "outlinewidth": 1,
              "tickcolor": "rgb(36,36,36)",
              "ticks": "outside"
             }
            },
            "type": "scatterpolar"
           }
          ],
          "scatterpolargl": [
           {
            "marker": {
             "colorbar": {
              "outlinewidth": 1,
              "tickcolor": "rgb(36,36,36)",
              "ticks": "outside"
             }
            },
            "type": "scatterpolargl"
           }
          ],
          "scatterternary": [
           {
            "marker": {
             "colorbar": {
              "outlinewidth": 1,
              "tickcolor": "rgb(36,36,36)",
              "ticks": "outside"
             }
            },
            "type": "scatterternary"
           }
          ],
          "surface": [
           {
            "colorbar": {
             "outlinewidth": 1,
             "tickcolor": "rgb(36,36,36)",
             "ticks": "outside"
            },
            "colorscale": [
             [
              0,
              "#440154"
             ],
             [
              0.1111111111111111,
              "#482878"
             ],
             [
              0.2222222222222222,
              "#3e4989"
             ],
             [
              0.3333333333333333,
              "#31688e"
             ],
             [
              0.4444444444444444,
              "#26828e"
             ],
             [
              0.5555555555555556,
              "#1f9e89"
             ],
             [
              0.6666666666666666,
              "#35b779"
             ],
             [
              0.7777777777777778,
              "#6ece58"
             ],
             [
              0.8888888888888888,
              "#b5de2b"
             ],
             [
              1,
              "#fde725"
             ]
            ],
            "type": "surface"
           }
          ],
          "table": [
           {
            "cells": {
             "fill": {
              "color": "rgb(237,237,237)"
             },
             "line": {
              "color": "white"
             }
            },
            "header": {
             "fill": {
              "color": "rgb(217,217,217)"
             },
             "line": {
              "color": "white"
             }
            },
            "type": "table"
           }
          ]
         },
         "layout": {
          "annotationdefaults": {
           "arrowhead": 0,
           "arrowwidth": 1
          },
          "autotypenumbers": "strict",
          "coloraxis": {
           "colorbar": {
            "outlinewidth": 1,
            "tickcolor": "rgb(36,36,36)",
            "ticks": "outside"
           }
          },
          "colorscale": {
           "diverging": [
            [
             0,
             "rgb(103,0,31)"
            ],
            [
             0.1,
             "rgb(178,24,43)"
            ],
            [
             0.2,
             "rgb(214,96,77)"
            ],
            [
             0.3,
             "rgb(244,165,130)"
            ],
            [
             0.4,
             "rgb(253,219,199)"
            ],
            [
             0.5,
             "rgb(247,247,247)"
            ],
            [
             0.6,
             "rgb(209,229,240)"
            ],
            [
             0.7,
             "rgb(146,197,222)"
            ],
            [
             0.8,
             "rgb(67,147,195)"
            ],
            [
             0.9,
             "rgb(33,102,172)"
            ],
            [
             1,
             "rgb(5,48,97)"
            ]
           ],
           "sequential": [
            [
             0,
             "#440154"
            ],
            [
             0.1111111111111111,
             "#482878"
            ],
            [
             0.2222222222222222,
             "#3e4989"
            ],
            [
             0.3333333333333333,
             "#31688e"
            ],
            [
             0.4444444444444444,
             "#26828e"
            ],
            [
             0.5555555555555556,
             "#1f9e89"
            ],
            [
             0.6666666666666666,
             "#35b779"
            ],
            [
             0.7777777777777778,
             "#6ece58"
            ],
            [
             0.8888888888888888,
             "#b5de2b"
            ],
            [
             1,
             "#fde725"
            ]
           ],
           "sequentialminus": [
            [
             0,
             "#440154"
            ],
            [
             0.1111111111111111,
             "#482878"
            ],
            [
             0.2222222222222222,
             "#3e4989"
            ],
            [
             0.3333333333333333,
             "#31688e"
            ],
            [
             0.4444444444444444,
             "#26828e"
            ],
            [
             0.5555555555555556,
             "#1f9e89"
            ],
            [
             0.6666666666666666,
             "#35b779"
            ],
            [
             0.7777777777777778,
             "#6ece58"
            ],
            [
             0.8888888888888888,
             "#b5de2b"
            ],
            [
             1,
             "#fde725"
            ]
           ]
          },
          "colorway": [
           "#1F77B4",
           "#FF7F0E",
           "#2CA02C",
           "#D62728",
           "#9467BD",
           "#8C564B",
           "#E377C2",
           "#7F7F7F",
           "#BCBD22",
           "#17BECF"
          ],
          "font": {
           "color": "rgb(36,36,36)"
          },
          "geo": {
           "bgcolor": "white",
           "lakecolor": "white",
           "landcolor": "white",
           "showlakes": true,
           "showland": true,
           "subunitcolor": "white"
          },
          "hoverlabel": {
           "align": "left"
          },
          "hovermode": "closest",
          "mapbox": {
           "style": "light"
          },
          "paper_bgcolor": "white",
          "plot_bgcolor": "white",
          "polar": {
           "angularaxis": {
            "gridcolor": "rgb(232,232,232)",
            "linecolor": "rgb(36,36,36)",
            "showgrid": false,
            "showline": true,
            "ticks": "outside"
           },
           "bgcolor": "white",
           "radialaxis": {
            "gridcolor": "rgb(232,232,232)",
            "linecolor": "rgb(36,36,36)",
            "showgrid": false,
            "showline": true,
            "ticks": "outside"
           }
          },
          "scene": {
           "xaxis": {
            "backgroundcolor": "white",
            "gridcolor": "rgb(232,232,232)",
            "gridwidth": 2,
            "linecolor": "rgb(36,36,36)",
            "showbackground": true,
            "showgrid": false,
            "showline": true,
            "ticks": "outside",
            "zeroline": false,
            "zerolinecolor": "rgb(36,36,36)"
           },
           "yaxis": {
            "backgroundcolor": "white",
            "gridcolor": "rgb(232,232,232)",
            "gridwidth": 2,
            "linecolor": "rgb(36,36,36)",
            "showbackground": true,
            "showgrid": false,
            "showline": true,
            "ticks": "outside",
            "zeroline": false,
            "zerolinecolor": "rgb(36,36,36)"
           },
           "zaxis": {
            "backgroundcolor": "white",
            "gridcolor": "rgb(232,232,232)",
            "gridwidth": 2,
            "linecolor": "rgb(36,36,36)",
            "showbackground": true,
            "showgrid": false,
            "showline": true,
            "ticks": "outside",
            "zeroline": false,
            "zerolinecolor": "rgb(36,36,36)"
           }
          },
          "shapedefaults": {
           "fillcolor": "black",
           "line": {
            "width": 0
           },
           "opacity": 0.3
          },
          "ternary": {
           "aaxis": {
            "gridcolor": "rgb(232,232,232)",
            "linecolor": "rgb(36,36,36)",
            "showgrid": false,
            "showline": true,
            "ticks": "outside"
           },
           "baxis": {
            "gridcolor": "rgb(232,232,232)",
            "linecolor": "rgb(36,36,36)",
            "showgrid": false,
            "showline": true,
            "ticks": "outside"
           },
           "bgcolor": "white",
           "caxis": {
            "gridcolor": "rgb(232,232,232)",
            "linecolor": "rgb(36,36,36)",
            "showgrid": false,
            "showline": true,
            "ticks": "outside"
           }
          },
          "title": {
           "x": 0.05
          },
          "xaxis": {
           "automargin": true,
           "gridcolor": "rgb(232,232,232)",
           "linecolor": "rgb(36,36,36)",
           "showgrid": false,
           "showline": true,
           "ticks": "outside",
           "title": {
            "standoff": 15
           },
           "zeroline": false,
           "zerolinecolor": "rgb(36,36,36)"
          },
          "yaxis": {
           "automargin": true,
           "gridcolor": "rgb(232,232,232)",
           "linecolor": "rgb(36,36,36)",
           "showgrid": false,
           "showline": true,
           "ticks": "outside",
           "title": {
            "standoff": 15
           },
           "zeroline": false,
           "zerolinecolor": "rgb(36,36,36)"
          }
         }
        },
        "title": {
         "font": {
          "color": "Black",
          "size": 22
         },
         "text": "Topics Over Time for 2022Q2",
         "x": 0.4,
         "xanchor": "center",
         "y": 0.95,
         "yanchor": "top"
        },
        "width": 1250,
        "xaxis": {
         "showgrid": true
        },
        "yaxis": {
         "showgrid": true,
         "title": {
          "text": "Frequency"
         }
        }
       }
      }
     },
     "metadata": {},
     "output_type": "display_data"
    },
    {
     "data": {
      "application/vnd.plotly.v1+json": {
       "config": {
        "plotlyServerURL": "https://plot.ly"
       },
       "data": [
        {
         "hoverinfo": "text",
         "hovertext": [
          "<b>Topic 0</b><br>Words: maaf, kak, sinyal, hamba, lot",
          "<b>Topic 0</b><br>Words: lanyalla, gap, sorot, hadir, tekan",
          "<b>Topic 0</b><br>Words: wicaksono, gubernur, den, ratus, sendat"
         ],
         "marker": {
          "color": "#E69F00"
         },
         "mode": "lines",
         "name": "0_lanyalla_sorot_gap_senjang",
         "type": "scatter",
         "x": [
          "2022-07-11T06:34:10.400000+00:00",
          "2022-07-31T10:15:47.300000+00:00",
          "2022-08-06T04:27:40.700000+00:00"
         ],
         "y": [
          1,
          12,
          2
         ]
        },
        {
         "hoverinfo": "text",
         "hovertext": [
          "<b>Topic 1</b><br>Words: padang, temu, juli, rakor, besok",
          "<b>Topic 1</b><br>Words: amp, kritisi, merdeka, lahir, jadi",
          "<b>Topic 1</b><br>Words: baru, merdeka, menteri, kampus, program",
          "<b>Topic 1</b><br>Words: uny, buat, ptn, merdeka, teknologi",
          "<b>Topic 1</b><br>Words: merdeka, ajar, bidang, indonesia, perintah",
          "<b>Topic 1</b><br>Words: merdeka, guru, ajar, gerak, solusi",
          "<b>Topic 1</b><br>Words: enggak, utara, halmahera, jakarta, kalo",
          "<b>Topic 1</b><br>Words: agama, merdeka, ajar, islam, sekolah",
          "<b>Topic 1</b><br>Words: tri, jilbab, malah, cara, advokasi",
          "<b>Topic 1</b><br>Words: enggak, merdeka, lebih, baik, ajar",
          "<b>Topic 1</b><br>Words: kalian, jadi, ghozali, crush, indonesia",
          "<b>Topic 1</b><br>Words: papua, merdeka, bahasa, ajar, dob",
          "<b>Topic 1</b><br>Words: kp, podcast, mipa, ajar, mahasiswa",
          "<b>Topic 1</b><br>Words: suharto, pimpin, punya, lihat, hitem",
          "<b>Topic 1</b><br>Words: sebut, menteri, merdeka, orang, bangun",
          "<b>Topic 1</b><br>Words: papua, ajar, perintah, duit, rasa",
          "<b>Topic 1</b><br>Words: ukt, puncak, juang, akhir, sekolah",
          "<b>Topic 1</b><br>Words: negeri, muda, kaum, pak, muhammadiyah",
          "<b>Topic 1</b><br>Words: merdeka, siap, sdm, arah, enggak",
          "<b>Topic 1</b><br>Words: sektor, mentok, bbm, up, sejahtera"
         ],
         "marker": {
          "color": "#56B4E9"
         },
         "mode": "lines",
         "name": "1_merdeka_ajar_menteri_indonesia",
         "type": "scatter",
         "x": [
          "2022-07-05T10:17:54.299000+00:00",
          "2022-07-08T09:28:13.700000+00:00",
          "2022-07-11T06:34:10.400000+00:00",
          "2022-07-14T03:40:07.100000+00:00",
          "2022-07-17T00:46:03.800000+00:00",
          "2022-07-19T21:52:00.500000+00:00",
          "2022-07-22T18:57:57.200000+00:00",
          "2022-07-25T16:03:53.900000+00:00",
          "2022-07-28T13:09:50.600000+00:00",
          "2022-07-31T10:15:47.300000+00:00",
          "2022-08-03T07:21:44+00:00",
          "2022-08-06T04:27:40.700000+00:00",
          "2022-08-09T01:33:37.400000+00:00",
          "2022-08-11T22:39:34.100000+00:00",
          "2022-08-14T19:45:30.800000+00:00",
          "2022-08-20T13:57:24.200000+00:00",
          "2022-08-23T11:03:20.900000+00:00",
          "2022-08-26T08:09:17.600000+00:00",
          "2022-08-29T05:15:14.300000+00:00",
          "2022-09-27T00:14:41.300000+00:00"
         ],
         "y": [
          7,
          11,
          13,
          13,
          30,
          16,
          10,
          19,
          12,
          11,
          9,
          9,
          8,
          3,
          11,
          10,
          5,
          10,
          6,
          7
         ]
        }
       ],
       "layout": {
        "height": 450,
        "hoverlabel": {
         "bgcolor": "white",
         "font": {
          "family": "Rockwell",
          "size": 16
         }
        },
        "legend": {
         "title": {
          "text": "<b>Global Topic Representation"
         }
        },
        "template": {
         "data": {
          "bar": [
           {
            "error_x": {
             "color": "rgb(36,36,36)"
            },
            "error_y": {
             "color": "rgb(36,36,36)"
            },
            "marker": {
             "line": {
              "color": "white",
              "width": 0.5
             },
             "pattern": {
              "fillmode": "overlay",
              "size": 10,
              "solidity": 0.2
             }
            },
            "type": "bar"
           }
          ],
          "barpolar": [
           {
            "marker": {
             "line": {
              "color": "white",
              "width": 0.5
             },
             "pattern": {
              "fillmode": "overlay",
              "size": 10,
              "solidity": 0.2
             }
            },
            "type": "barpolar"
           }
          ],
          "carpet": [
           {
            "aaxis": {
             "endlinecolor": "rgb(36,36,36)",
             "gridcolor": "white",
             "linecolor": "white",
             "minorgridcolor": "white",
             "startlinecolor": "rgb(36,36,36)"
            },
            "baxis": {
             "endlinecolor": "rgb(36,36,36)",
             "gridcolor": "white",
             "linecolor": "white",
             "minorgridcolor": "white",
             "startlinecolor": "rgb(36,36,36)"
            },
            "type": "carpet"
           }
          ],
          "choropleth": [
           {
            "colorbar": {
             "outlinewidth": 1,
             "tickcolor": "rgb(36,36,36)",
             "ticks": "outside"
            },
            "type": "choropleth"
           }
          ],
          "contour": [
           {
            "colorbar": {
             "outlinewidth": 1,
             "tickcolor": "rgb(36,36,36)",
             "ticks": "outside"
            },
            "colorscale": [
             [
              0,
              "#440154"
             ],
             [
              0.1111111111111111,
              "#482878"
             ],
             [
              0.2222222222222222,
              "#3e4989"
             ],
             [
              0.3333333333333333,
              "#31688e"
             ],
             [
              0.4444444444444444,
              "#26828e"
             ],
             [
              0.5555555555555556,
              "#1f9e89"
             ],
             [
              0.6666666666666666,
              "#35b779"
             ],
             [
              0.7777777777777778,
              "#6ece58"
             ],
             [
              0.8888888888888888,
              "#b5de2b"
             ],
             [
              1,
              "#fde725"
             ]
            ],
            "type": "contour"
           }
          ],
          "contourcarpet": [
           {
            "colorbar": {
             "outlinewidth": 1,
             "tickcolor": "rgb(36,36,36)",
             "ticks": "outside"
            },
            "type": "contourcarpet"
           }
          ],
          "heatmap": [
           {
            "colorbar": {
             "outlinewidth": 1,
             "tickcolor": "rgb(36,36,36)",
             "ticks": "outside"
            },
            "colorscale": [
             [
              0,
              "#440154"
             ],
             [
              0.1111111111111111,
              "#482878"
             ],
             [
              0.2222222222222222,
              "#3e4989"
             ],
             [
              0.3333333333333333,
              "#31688e"
             ],
             [
              0.4444444444444444,
              "#26828e"
             ],
             [
              0.5555555555555556,
              "#1f9e89"
             ],
             [
              0.6666666666666666,
              "#35b779"
             ],
             [
              0.7777777777777778,
              "#6ece58"
             ],
             [
              0.8888888888888888,
              "#b5de2b"
             ],
             [
              1,
              "#fde725"
             ]
            ],
            "type": "heatmap"
           }
          ],
          "heatmapgl": [
           {
            "colorbar": {
             "outlinewidth": 1,
             "tickcolor": "rgb(36,36,36)",
             "ticks": "outside"
            },
            "colorscale": [
             [
              0,
              "#440154"
             ],
             [
              0.1111111111111111,
              "#482878"
             ],
             [
              0.2222222222222222,
              "#3e4989"
             ],
             [
              0.3333333333333333,
              "#31688e"
             ],
             [
              0.4444444444444444,
              "#26828e"
             ],
             [
              0.5555555555555556,
              "#1f9e89"
             ],
             [
              0.6666666666666666,
              "#35b779"
             ],
             [
              0.7777777777777778,
              "#6ece58"
             ],
             [
              0.8888888888888888,
              "#b5de2b"
             ],
             [
              1,
              "#fde725"
             ]
            ],
            "type": "heatmapgl"
           }
          ],
          "histogram": [
           {
            "marker": {
             "line": {
              "color": "white",
              "width": 0.6
             }
            },
            "type": "histogram"
           }
          ],
          "histogram2d": [
           {
            "colorbar": {
             "outlinewidth": 1,
             "tickcolor": "rgb(36,36,36)",
             "ticks": "outside"
            },
            "colorscale": [
             [
              0,
              "#440154"
             ],
             [
              0.1111111111111111,
              "#482878"
             ],
             [
              0.2222222222222222,
              "#3e4989"
             ],
             [
              0.3333333333333333,
              "#31688e"
             ],
             [
              0.4444444444444444,
              "#26828e"
             ],
             [
              0.5555555555555556,
              "#1f9e89"
             ],
             [
              0.6666666666666666,
              "#35b779"
             ],
             [
              0.7777777777777778,
              "#6ece58"
             ],
             [
              0.8888888888888888,
              "#b5de2b"
             ],
             [
              1,
              "#fde725"
             ]
            ],
            "type": "histogram2d"
           }
          ],
          "histogram2dcontour": [
           {
            "colorbar": {
             "outlinewidth": 1,
             "tickcolor": "rgb(36,36,36)",
             "ticks": "outside"
            },
            "colorscale": [
             [
              0,
              "#440154"
             ],
             [
              0.1111111111111111,
              "#482878"
             ],
             [
              0.2222222222222222,
              "#3e4989"
             ],
             [
              0.3333333333333333,
              "#31688e"
             ],
             [
              0.4444444444444444,
              "#26828e"
             ],
             [
              0.5555555555555556,
              "#1f9e89"
             ],
             [
              0.6666666666666666,
              "#35b779"
             ],
             [
              0.7777777777777778,
              "#6ece58"
             ],
             [
              0.8888888888888888,
              "#b5de2b"
             ],
             [
              1,
              "#fde725"
             ]
            ],
            "type": "histogram2dcontour"
           }
          ],
          "mesh3d": [
           {
            "colorbar": {
             "outlinewidth": 1,
             "tickcolor": "rgb(36,36,36)",
             "ticks": "outside"
            },
            "type": "mesh3d"
           }
          ],
          "parcoords": [
           {
            "line": {
             "colorbar": {
              "outlinewidth": 1,
              "tickcolor": "rgb(36,36,36)",
              "ticks": "outside"
             }
            },
            "type": "parcoords"
           }
          ],
          "pie": [
           {
            "automargin": true,
            "type": "pie"
           }
          ],
          "scatter": [
           {
            "fillpattern": {
             "fillmode": "overlay",
             "size": 10,
             "solidity": 0.2
            },
            "type": "scatter"
           }
          ],
          "scatter3d": [
           {
            "line": {
             "colorbar": {
              "outlinewidth": 1,
              "tickcolor": "rgb(36,36,36)",
              "ticks": "outside"
             }
            },
            "marker": {
             "colorbar": {
              "outlinewidth": 1,
              "tickcolor": "rgb(36,36,36)",
              "ticks": "outside"
             }
            },
            "type": "scatter3d"
           }
          ],
          "scattercarpet": [
           {
            "marker": {
             "colorbar": {
              "outlinewidth": 1,
              "tickcolor": "rgb(36,36,36)",
              "ticks": "outside"
             }
            },
            "type": "scattercarpet"
           }
          ],
          "scattergeo": [
           {
            "marker": {
             "colorbar": {
              "outlinewidth": 1,
              "tickcolor": "rgb(36,36,36)",
              "ticks": "outside"
             }
            },
            "type": "scattergeo"
           }
          ],
          "scattergl": [
           {
            "marker": {
             "colorbar": {
              "outlinewidth": 1,
              "tickcolor": "rgb(36,36,36)",
              "ticks": "outside"
             }
            },
            "type": "scattergl"
           }
          ],
          "scattermapbox": [
           {
            "marker": {
             "colorbar": {
              "outlinewidth": 1,
              "tickcolor": "rgb(36,36,36)",
              "ticks": "outside"
             }
            },
            "type": "scattermapbox"
           }
          ],
          "scatterpolar": [
           {
            "marker": {
             "colorbar": {
              "outlinewidth": 1,
              "tickcolor": "rgb(36,36,36)",
              "ticks": "outside"
             }
            },
            "type": "scatterpolar"
           }
          ],
          "scatterpolargl": [
           {
            "marker": {
             "colorbar": {
              "outlinewidth": 1,
              "tickcolor": "rgb(36,36,36)",
              "ticks": "outside"
             }
            },
            "type": "scatterpolargl"
           }
          ],
          "scatterternary": [
           {
            "marker": {
             "colorbar": {
              "outlinewidth": 1,
              "tickcolor": "rgb(36,36,36)",
              "ticks": "outside"
             }
            },
            "type": "scatterternary"
           }
          ],
          "surface": [
           {
            "colorbar": {
             "outlinewidth": 1,
             "tickcolor": "rgb(36,36,36)",
             "ticks": "outside"
            },
            "colorscale": [
             [
              0,
              "#440154"
             ],
             [
              0.1111111111111111,
              "#482878"
             ],
             [
              0.2222222222222222,
              "#3e4989"
             ],
             [
              0.3333333333333333,
              "#31688e"
             ],
             [
              0.4444444444444444,
              "#26828e"
             ],
             [
              0.5555555555555556,
              "#1f9e89"
             ],
             [
              0.6666666666666666,
              "#35b779"
             ],
             [
              0.7777777777777778,
              "#6ece58"
             ],
             [
              0.8888888888888888,
              "#b5de2b"
             ],
             [
              1,
              "#fde725"
             ]
            ],
            "type": "surface"
           }
          ],
          "table": [
           {
            "cells": {
             "fill": {
              "color": "rgb(237,237,237)"
             },
             "line": {
              "color": "white"
             }
            },
            "header": {
             "fill": {
              "color": "rgb(217,217,217)"
             },
             "line": {
              "color": "white"
             }
            },
            "type": "table"
           }
          ]
         },
         "layout": {
          "annotationdefaults": {
           "arrowhead": 0,
           "arrowwidth": 1
          },
          "autotypenumbers": "strict",
          "coloraxis": {
           "colorbar": {
            "outlinewidth": 1,
            "tickcolor": "rgb(36,36,36)",
            "ticks": "outside"
           }
          },
          "colorscale": {
           "diverging": [
            [
             0,
             "rgb(103,0,31)"
            ],
            [
             0.1,
             "rgb(178,24,43)"
            ],
            [
             0.2,
             "rgb(214,96,77)"
            ],
            [
             0.3,
             "rgb(244,165,130)"
            ],
            [
             0.4,
             "rgb(253,219,199)"
            ],
            [
             0.5,
             "rgb(247,247,247)"
            ],
            [
             0.6,
             "rgb(209,229,240)"
            ],
            [
             0.7,
             "rgb(146,197,222)"
            ],
            [
             0.8,
             "rgb(67,147,195)"
            ],
            [
             0.9,
             "rgb(33,102,172)"
            ],
            [
             1,
             "rgb(5,48,97)"
            ]
           ],
           "sequential": [
            [
             0,
             "#440154"
            ],
            [
             0.1111111111111111,
             "#482878"
            ],
            [
             0.2222222222222222,
             "#3e4989"
            ],
            [
             0.3333333333333333,
             "#31688e"
            ],
            [
             0.4444444444444444,
             "#26828e"
            ],
            [
             0.5555555555555556,
             "#1f9e89"
            ],
            [
             0.6666666666666666,
             "#35b779"
            ],
            [
             0.7777777777777778,
             "#6ece58"
            ],
            [
             0.8888888888888888,
             "#b5de2b"
            ],
            [
             1,
             "#fde725"
            ]
           ],
           "sequentialminus": [
            [
             0,
             "#440154"
            ],
            [
             0.1111111111111111,
             "#482878"
            ],
            [
             0.2222222222222222,
             "#3e4989"
            ],
            [
             0.3333333333333333,
             "#31688e"
            ],
            [
             0.4444444444444444,
             "#26828e"
            ],
            [
             0.5555555555555556,
             "#1f9e89"
            ],
            [
             0.6666666666666666,
             "#35b779"
            ],
            [
             0.7777777777777778,
             "#6ece58"
            ],
            [
             0.8888888888888888,
             "#b5de2b"
            ],
            [
             1,
             "#fde725"
            ]
           ]
          },
          "colorway": [
           "#1F77B4",
           "#FF7F0E",
           "#2CA02C",
           "#D62728",
           "#9467BD",
           "#8C564B",
           "#E377C2",
           "#7F7F7F",
           "#BCBD22",
           "#17BECF"
          ],
          "font": {
           "color": "rgb(36,36,36)"
          },
          "geo": {
           "bgcolor": "white",
           "lakecolor": "white",
           "landcolor": "white",
           "showlakes": true,
           "showland": true,
           "subunitcolor": "white"
          },
          "hoverlabel": {
           "align": "left"
          },
          "hovermode": "closest",
          "mapbox": {
           "style": "light"
          },
          "paper_bgcolor": "white",
          "plot_bgcolor": "white",
          "polar": {
           "angularaxis": {
            "gridcolor": "rgb(232,232,232)",
            "linecolor": "rgb(36,36,36)",
            "showgrid": false,
            "showline": true,
            "ticks": "outside"
           },
           "bgcolor": "white",
           "radialaxis": {
            "gridcolor": "rgb(232,232,232)",
            "linecolor": "rgb(36,36,36)",
            "showgrid": false,
            "showline": true,
            "ticks": "outside"
           }
          },
          "scene": {
           "xaxis": {
            "backgroundcolor": "white",
            "gridcolor": "rgb(232,232,232)",
            "gridwidth": 2,
            "linecolor": "rgb(36,36,36)",
            "showbackground": true,
            "showgrid": false,
            "showline": true,
            "ticks": "outside",
            "zeroline": false,
            "zerolinecolor": "rgb(36,36,36)"
           },
           "yaxis": {
            "backgroundcolor": "white",
            "gridcolor": "rgb(232,232,232)",
            "gridwidth": 2,
            "linecolor": "rgb(36,36,36)",
            "showbackground": true,
            "showgrid": false,
            "showline": true,
            "ticks": "outside",
            "zeroline": false,
            "zerolinecolor": "rgb(36,36,36)"
           },
           "zaxis": {
            "backgroundcolor": "white",
            "gridcolor": "rgb(232,232,232)",
            "gridwidth": 2,
            "linecolor": "rgb(36,36,36)",
            "showbackground": true,
            "showgrid": false,
            "showline": true,
            "ticks": "outside",
            "zeroline": false,
            "zerolinecolor": "rgb(36,36,36)"
           }
          },
          "shapedefaults": {
           "fillcolor": "black",
           "line": {
            "width": 0
           },
           "opacity": 0.3
          },
          "ternary": {
           "aaxis": {
            "gridcolor": "rgb(232,232,232)",
            "linecolor": "rgb(36,36,36)",
            "showgrid": false,
            "showline": true,
            "ticks": "outside"
           },
           "baxis": {
            "gridcolor": "rgb(232,232,232)",
            "linecolor": "rgb(36,36,36)",
            "showgrid": false,
            "showline": true,
            "ticks": "outside"
           },
           "bgcolor": "white",
           "caxis": {
            "gridcolor": "rgb(232,232,232)",
            "linecolor": "rgb(36,36,36)",
            "showgrid": false,
            "showline": true,
            "ticks": "outside"
           }
          },
          "title": {
           "x": 0.05
          },
          "xaxis": {
           "automargin": true,
           "gridcolor": "rgb(232,232,232)",
           "linecolor": "rgb(36,36,36)",
           "showgrid": false,
           "showline": true,
           "ticks": "outside",
           "title": {
            "standoff": 15
           },
           "zeroline": false,
           "zerolinecolor": "rgb(36,36,36)"
          },
          "yaxis": {
           "automargin": true,
           "gridcolor": "rgb(232,232,232)",
           "linecolor": "rgb(36,36,36)",
           "showgrid": false,
           "showline": true,
           "ticks": "outside",
           "title": {
            "standoff": 15
           },
           "zeroline": false,
           "zerolinecolor": "rgb(36,36,36)"
          }
         }
        },
        "title": {
         "font": {
          "color": "Black",
          "size": 22
         },
         "text": "Topics Over Time for 2022Q3",
         "x": 0.4,
         "xanchor": "center",
         "y": 0.95,
         "yanchor": "top"
        },
        "width": 1250,
        "xaxis": {
         "showgrid": true
        },
        "yaxis": {
         "showgrid": true,
         "title": {
          "text": "Frequency"
         }
        }
       }
      }
     },
     "metadata": {},
     "output_type": "display_data"
    },
    {
     "data": {
      "application/vnd.plotly.v1+json": {
       "config": {
        "plotlyServerURL": "https://plot.ly"
       },
       "data": [],
       "layout": {
        "height": 450,
        "hoverlabel": {
         "bgcolor": "white",
         "font": {
          "family": "Rockwell",
          "size": 16
         }
        },
        "legend": {
         "title": {
          "text": "<b>Global Topic Representation"
         }
        },
        "template": {
         "data": {
          "bar": [
           {
            "error_x": {
             "color": "rgb(36,36,36)"
            },
            "error_y": {
             "color": "rgb(36,36,36)"
            },
            "marker": {
             "line": {
              "color": "white",
              "width": 0.5
             },
             "pattern": {
              "fillmode": "overlay",
              "size": 10,
              "solidity": 0.2
             }
            },
            "type": "bar"
           }
          ],
          "barpolar": [
           {
            "marker": {
             "line": {
              "color": "white",
              "width": 0.5
             },
             "pattern": {
              "fillmode": "overlay",
              "size": 10,
              "solidity": 0.2
             }
            },
            "type": "barpolar"
           }
          ],
          "carpet": [
           {
            "aaxis": {
             "endlinecolor": "rgb(36,36,36)",
             "gridcolor": "white",
             "linecolor": "white",
             "minorgridcolor": "white",
             "startlinecolor": "rgb(36,36,36)"
            },
            "baxis": {
             "endlinecolor": "rgb(36,36,36)",
             "gridcolor": "white",
             "linecolor": "white",
             "minorgridcolor": "white",
             "startlinecolor": "rgb(36,36,36)"
            },
            "type": "carpet"
           }
          ],
          "choropleth": [
           {
            "colorbar": {
             "outlinewidth": 1,
             "tickcolor": "rgb(36,36,36)",
             "ticks": "outside"
            },
            "type": "choropleth"
           }
          ],
          "contour": [
           {
            "colorbar": {
             "outlinewidth": 1,
             "tickcolor": "rgb(36,36,36)",
             "ticks": "outside"
            },
            "colorscale": [
             [
              0,
              "#440154"
             ],
             [
              0.1111111111111111,
              "#482878"
             ],
             [
              0.2222222222222222,
              "#3e4989"
             ],
             [
              0.3333333333333333,
              "#31688e"
             ],
             [
              0.4444444444444444,
              "#26828e"
             ],
             [
              0.5555555555555556,
              "#1f9e89"
             ],
             [
              0.6666666666666666,
              "#35b779"
             ],
             [
              0.7777777777777778,
              "#6ece58"
             ],
             [
              0.8888888888888888,
              "#b5de2b"
             ],
             [
              1,
              "#fde725"
             ]
            ],
            "type": "contour"
           }
          ],
          "contourcarpet": [
           {
            "colorbar": {
             "outlinewidth": 1,
             "tickcolor": "rgb(36,36,36)",
             "ticks": "outside"
            },
            "type": "contourcarpet"
           }
          ],
          "heatmap": [
           {
            "colorbar": {
             "outlinewidth": 1,
             "tickcolor": "rgb(36,36,36)",
             "ticks": "outside"
            },
            "colorscale": [
             [
              0,
              "#440154"
             ],
             [
              0.1111111111111111,
              "#482878"
             ],
             [
              0.2222222222222222,
              "#3e4989"
             ],
             [
              0.3333333333333333,
              "#31688e"
             ],
             [
              0.4444444444444444,
              "#26828e"
             ],
             [
              0.5555555555555556,
              "#1f9e89"
             ],
             [
              0.6666666666666666,
              "#35b779"
             ],
             [
              0.7777777777777778,
              "#6ece58"
             ],
             [
              0.8888888888888888,
              "#b5de2b"
             ],
             [
              1,
              "#fde725"
             ]
            ],
            "type": "heatmap"
           }
          ],
          "heatmapgl": [
           {
            "colorbar": {
             "outlinewidth": 1,
             "tickcolor": "rgb(36,36,36)",
             "ticks": "outside"
            },
            "colorscale": [
             [
              0,
              "#440154"
             ],
             [
              0.1111111111111111,
              "#482878"
             ],
             [
              0.2222222222222222,
              "#3e4989"
             ],
             [
              0.3333333333333333,
              "#31688e"
             ],
             [
              0.4444444444444444,
              "#26828e"
             ],
             [
              0.5555555555555556,
              "#1f9e89"
             ],
             [
              0.6666666666666666,
              "#35b779"
             ],
             [
              0.7777777777777778,
              "#6ece58"
             ],
             [
              0.8888888888888888,
              "#b5de2b"
             ],
             [
              1,
              "#fde725"
             ]
            ],
            "type": "heatmapgl"
           }
          ],
          "histogram": [
           {
            "marker": {
             "line": {
              "color": "white",
              "width": 0.6
             }
            },
            "type": "histogram"
           }
          ],
          "histogram2d": [
           {
            "colorbar": {
             "outlinewidth": 1,
             "tickcolor": "rgb(36,36,36)",
             "ticks": "outside"
            },
            "colorscale": [
             [
              0,
              "#440154"
             ],
             [
              0.1111111111111111,
              "#482878"
             ],
             [
              0.2222222222222222,
              "#3e4989"
             ],
             [
              0.3333333333333333,
              "#31688e"
             ],
             [
              0.4444444444444444,
              "#26828e"
             ],
             [
              0.5555555555555556,
              "#1f9e89"
             ],
             [
              0.6666666666666666,
              "#35b779"
             ],
             [
              0.7777777777777778,
              "#6ece58"
             ],
             [
              0.8888888888888888,
              "#b5de2b"
             ],
             [
              1,
              "#fde725"
             ]
            ],
            "type": "histogram2d"
           }
          ],
          "histogram2dcontour": [
           {
            "colorbar": {
             "outlinewidth": 1,
             "tickcolor": "rgb(36,36,36)",
             "ticks": "outside"
            },
            "colorscale": [
             [
              0,
              "#440154"
             ],
             [
              0.1111111111111111,
              "#482878"
             ],
             [
              0.2222222222222222,
              "#3e4989"
             ],
             [
              0.3333333333333333,
              "#31688e"
             ],
             [
              0.4444444444444444,
              "#26828e"
             ],
             [
              0.5555555555555556,
              "#1f9e89"
             ],
             [
              0.6666666666666666,
              "#35b779"
             ],
             [
              0.7777777777777778,
              "#6ece58"
             ],
             [
              0.8888888888888888,
              "#b5de2b"
             ],
             [
              1,
              "#fde725"
             ]
            ],
            "type": "histogram2dcontour"
           }
          ],
          "mesh3d": [
           {
            "colorbar": {
             "outlinewidth": 1,
             "tickcolor": "rgb(36,36,36)",
             "ticks": "outside"
            },
            "type": "mesh3d"
           }
          ],
          "parcoords": [
           {
            "line": {
             "colorbar": {
              "outlinewidth": 1,
              "tickcolor": "rgb(36,36,36)",
              "ticks": "outside"
             }
            },
            "type": "parcoords"
           }
          ],
          "pie": [
           {
            "automargin": true,
            "type": "pie"
           }
          ],
          "scatter": [
           {
            "fillpattern": {
             "fillmode": "overlay",
             "size": 10,
             "solidity": 0.2
            },
            "type": "scatter"
           }
          ],
          "scatter3d": [
           {
            "line": {
             "colorbar": {
              "outlinewidth": 1,
              "tickcolor": "rgb(36,36,36)",
              "ticks": "outside"
             }
            },
            "marker": {
             "colorbar": {
              "outlinewidth": 1,
              "tickcolor": "rgb(36,36,36)",
              "ticks": "outside"
             }
            },
            "type": "scatter3d"
           }
          ],
          "scattercarpet": [
           {
            "marker": {
             "colorbar": {
              "outlinewidth": 1,
              "tickcolor": "rgb(36,36,36)",
              "ticks": "outside"
             }
            },
            "type": "scattercarpet"
           }
          ],
          "scattergeo": [
           {
            "marker": {
             "colorbar": {
              "outlinewidth": 1,
              "tickcolor": "rgb(36,36,36)",
              "ticks": "outside"
             }
            },
            "type": "scattergeo"
           }
          ],
          "scattergl": [
           {
            "marker": {
             "colorbar": {
              "outlinewidth": 1,
              "tickcolor": "rgb(36,36,36)",
              "ticks": "outside"
             }
            },
            "type": "scattergl"
           }
          ],
          "scattermapbox": [
           {
            "marker": {
             "colorbar": {
              "outlinewidth": 1,
              "tickcolor": "rgb(36,36,36)",
              "ticks": "outside"
             }
            },
            "type": "scattermapbox"
           }
          ],
          "scatterpolar": [
           {
            "marker": {
             "colorbar": {
              "outlinewidth": 1,
              "tickcolor": "rgb(36,36,36)",
              "ticks": "outside"
             }
            },
            "type": "scatterpolar"
           }
          ],
          "scatterpolargl": [
           {
            "marker": {
             "colorbar": {
              "outlinewidth": 1,
              "tickcolor": "rgb(36,36,36)",
              "ticks": "outside"
             }
            },
            "type": "scatterpolargl"
           }
          ],
          "scatterternary": [
           {
            "marker": {
             "colorbar": {
              "outlinewidth": 1,
              "tickcolor": "rgb(36,36,36)",
              "ticks": "outside"
             }
            },
            "type": "scatterternary"
           }
          ],
          "surface": [
           {
            "colorbar": {
             "outlinewidth": 1,
             "tickcolor": "rgb(36,36,36)",
             "ticks": "outside"
            },
            "colorscale": [
             [
              0,
              "#440154"
             ],
             [
              0.1111111111111111,
              "#482878"
             ],
             [
              0.2222222222222222,
              "#3e4989"
             ],
             [
              0.3333333333333333,
              "#31688e"
             ],
             [
              0.4444444444444444,
              "#26828e"
             ],
             [
              0.5555555555555556,
              "#1f9e89"
             ],
             [
              0.6666666666666666,
              "#35b779"
             ],
             [
              0.7777777777777778,
              "#6ece58"
             ],
             [
              0.8888888888888888,
              "#b5de2b"
             ],
             [
              1,
              "#fde725"
             ]
            ],
            "type": "surface"
           }
          ],
          "table": [
           {
            "cells": {
             "fill": {
              "color": "rgb(237,237,237)"
             },
             "line": {
              "color": "white"
             }
            },
            "header": {
             "fill": {
              "color": "rgb(217,217,217)"
             },
             "line": {
              "color": "white"
             }
            },
            "type": "table"
           }
          ]
         },
         "layout": {
          "annotationdefaults": {
           "arrowhead": 0,
           "arrowwidth": 1
          },
          "autotypenumbers": "strict",
          "coloraxis": {
           "colorbar": {
            "outlinewidth": 1,
            "tickcolor": "rgb(36,36,36)",
            "ticks": "outside"
           }
          },
          "colorscale": {
           "diverging": [
            [
             0,
             "rgb(103,0,31)"
            ],
            [
             0.1,
             "rgb(178,24,43)"
            ],
            [
             0.2,
             "rgb(214,96,77)"
            ],
            [
             0.3,
             "rgb(244,165,130)"
            ],
            [
             0.4,
             "rgb(253,219,199)"
            ],
            [
             0.5,
             "rgb(247,247,247)"
            ],
            [
             0.6,
             "rgb(209,229,240)"
            ],
            [
             0.7,
             "rgb(146,197,222)"
            ],
            [
             0.8,
             "rgb(67,147,195)"
            ],
            [
             0.9,
             "rgb(33,102,172)"
            ],
            [
             1,
             "rgb(5,48,97)"
            ]
           ],
           "sequential": [
            [
             0,
             "#440154"
            ],
            [
             0.1111111111111111,
             "#482878"
            ],
            [
             0.2222222222222222,
             "#3e4989"
            ],
            [
             0.3333333333333333,
             "#31688e"
            ],
            [
             0.4444444444444444,
             "#26828e"
            ],
            [
             0.5555555555555556,
             "#1f9e89"
            ],
            [
             0.6666666666666666,
             "#35b779"
            ],
            [
             0.7777777777777778,
             "#6ece58"
            ],
            [
             0.8888888888888888,
             "#b5de2b"
            ],
            [
             1,
             "#fde725"
            ]
           ],
           "sequentialminus": [
            [
             0,
             "#440154"
            ],
            [
             0.1111111111111111,
             "#482878"
            ],
            [
             0.2222222222222222,
             "#3e4989"
            ],
            [
             0.3333333333333333,
             "#31688e"
            ],
            [
             0.4444444444444444,
             "#26828e"
            ],
            [
             0.5555555555555556,
             "#1f9e89"
            ],
            [
             0.6666666666666666,
             "#35b779"
            ],
            [
             0.7777777777777778,
             "#6ece58"
            ],
            [
             0.8888888888888888,
             "#b5de2b"
            ],
            [
             1,
             "#fde725"
            ]
           ]
          },
          "colorway": [
           "#1F77B4",
           "#FF7F0E",
           "#2CA02C",
           "#D62728",
           "#9467BD",
           "#8C564B",
           "#E377C2",
           "#7F7F7F",
           "#BCBD22",
           "#17BECF"
          ],
          "font": {
           "color": "rgb(36,36,36)"
          },
          "geo": {
           "bgcolor": "white",
           "lakecolor": "white",
           "landcolor": "white",
           "showlakes": true,
           "showland": true,
           "subunitcolor": "white"
          },
          "hoverlabel": {
           "align": "left"
          },
          "hovermode": "closest",
          "mapbox": {
           "style": "light"
          },
          "paper_bgcolor": "white",
          "plot_bgcolor": "white",
          "polar": {
           "angularaxis": {
            "gridcolor": "rgb(232,232,232)",
            "linecolor": "rgb(36,36,36)",
            "showgrid": false,
            "showline": true,
            "ticks": "outside"
           },
           "bgcolor": "white",
           "radialaxis": {
            "gridcolor": "rgb(232,232,232)",
            "linecolor": "rgb(36,36,36)",
            "showgrid": false,
            "showline": true,
            "ticks": "outside"
           }
          },
          "scene": {
           "xaxis": {
            "backgroundcolor": "white",
            "gridcolor": "rgb(232,232,232)",
            "gridwidth": 2,
            "linecolor": "rgb(36,36,36)",
            "showbackground": true,
            "showgrid": false,
            "showline": true,
            "ticks": "outside",
            "zeroline": false,
            "zerolinecolor": "rgb(36,36,36)"
           },
           "yaxis": {
            "backgroundcolor": "white",
            "gridcolor": "rgb(232,232,232)",
            "gridwidth": 2,
            "linecolor": "rgb(36,36,36)",
            "showbackground": true,
            "showgrid": false,
            "showline": true,
            "ticks": "outside",
            "zeroline": false,
            "zerolinecolor": "rgb(36,36,36)"
           },
           "zaxis": {
            "backgroundcolor": "white",
            "gridcolor": "rgb(232,232,232)",
            "gridwidth": 2,
            "linecolor": "rgb(36,36,36)",
            "showbackground": true,
            "showgrid": false,
            "showline": true,
            "ticks": "outside",
            "zeroline": false,
            "zerolinecolor": "rgb(36,36,36)"
           }
          },
          "shapedefaults": {
           "fillcolor": "black",
           "line": {
            "width": 0
           },
           "opacity": 0.3
          },
          "ternary": {
           "aaxis": {
            "gridcolor": "rgb(232,232,232)",
            "linecolor": "rgb(36,36,36)",
            "showgrid": false,
            "showline": true,
            "ticks": "outside"
           },
           "baxis": {
            "gridcolor": "rgb(232,232,232)",
            "linecolor": "rgb(36,36,36)",
            "showgrid": false,
            "showline": true,
            "ticks": "outside"
           },
           "bgcolor": "white",
           "caxis": {
            "gridcolor": "rgb(232,232,232)",
            "linecolor": "rgb(36,36,36)",
            "showgrid": false,
            "showline": true,
            "ticks": "outside"
           }
          },
          "title": {
           "x": 0.05
          },
          "xaxis": {
           "automargin": true,
           "gridcolor": "rgb(232,232,232)",
           "linecolor": "rgb(36,36,36)",
           "showgrid": false,
           "showline": true,
           "ticks": "outside",
           "title": {
            "standoff": 15
           },
           "zeroline": false,
           "zerolinecolor": "rgb(36,36,36)"
          },
          "yaxis": {
           "automargin": true,
           "gridcolor": "rgb(232,232,232)",
           "linecolor": "rgb(36,36,36)",
           "showgrid": false,
           "showline": true,
           "ticks": "outside",
           "title": {
            "standoff": 15
           },
           "zeroline": false,
           "zerolinecolor": "rgb(36,36,36)"
          }
         }
        },
        "title": {
         "font": {
          "color": "Black",
          "size": 22
         },
         "text": "Topics Over Time for 2022Q4",
         "x": 0.4,
         "xanchor": "center",
         "y": 0.95,
         "yanchor": "top"
        },
        "width": 1250,
        "xaxis": {
         "showgrid": true
        },
        "yaxis": {
         "showgrid": true,
         "title": {
          "text": "Frequency"
         }
        }
       }
      }
     },
     "metadata": {},
     "output_type": "display_data"
    },
    {
     "data": {
      "application/vnd.plotly.v1+json": {
       "config": {
        "plotlyServerURL": "https://plot.ly"
       },
       "data": [
        {
         "hoverinfo": "text",
         "hovertext": [
          "<b>Topic 0</b><br>Words: papua, approach, tingkat, otsus, sdm",
          "<b>Topic 0</b><br>Words: papua, otsus, asli, tingkat, sdm",
          "<b>Topic 0</b><br>Words: papua, otsus, tingkat, asli, sdm",
          "<b>Topic 0</b><br>Words: papua, otsus, asli, sdm, tingkat",
          "<b>Topic 0</b><br>Words: papua, otsus, asli, tingkat, sdm",
          "<b>Topic 0</b><br>Words: papua, otsus, asli, tingkat, sdm",
          "<b>Topic 0</b><br>Words: papua, otsus, daerah, dana, bangun"
         ],
         "marker": {
          "color": "#E69F00"
         },
         "mode": "lines",
         "name": "0_papua_otsus_asli_tingkat",
         "type": "scatter",
         "x": [
          "2023-01-10T02:25:43.400000+00:00",
          "2023-02-02T15:42:43.133333+00:00",
          "2023-02-05T14:22:20.600000+00:00",
          "2023-02-08T13:01:58.066666+00:00",
          "2023-02-11T11:41:35.533333+00:00",
          "2023-02-17T09:00:50.466666+00:00",
          "2023-03-27T15:35:57.533333+00:00"
         ],
         "y": [
          1,
          4,
          2,
          5,
          7,
          1,
          1
         ]
        },
        {
         "hoverinfo": "text",
         "hovertext": [
          "<b>Topic 1</b><br>Words: lalu, of, wujud, biru, ocean",
          "<b>Topic 1</b><br>Words: digital, arah, leadership, lalu, wujud",
          "<b>Topic 1</b><br>Words: stmm, digital, buka, of, baru",
          "<b>Topic 1</b><br>Words: wujud, emosional, hardiknas, intelektual, megawati",
          "<b>Topic 1</b><br>Words: wujud, peduli, sosok, detail, beby"
         ],
         "marker": {
          "color": "#56B4E9"
         },
         "mode": "lines",
         "name": "1_lalu_wujud_of_biru",
         "type": "scatter",
         "x": [
          "2023-01-15T23:44:58.333333+00:00",
          "2023-01-18T22:24:35.800000+00:00",
          "2023-02-02T15:42:43.133333+00:00",
          "2023-03-12T22:17:50.200000+00:00",
          "2023-03-15T20:57:27.666666+00:00"
         ],
         "y": [
          9,
          2,
          1,
          1,
          1
         ]
        },
        {
         "hoverinfo": "text",
         "hovertext": [
          "<b>Topic 2</b><br>Words: tingkat, guru, kualitas, andal, ekstrem",
          "<b>Topic 2</b><br>Words: pelosok, gelontor, ratus, timpang, apresiasi",
          "<b>Topic 2</b><br>Words: anak, sekolah, publik, masjid, indonesia",
          "<b>Topic 2</b><br>Words: pimpin, perempuan, laku, indonesia, guru",
          "<b>Topic 2</b><br>Words: latolato, sekolah, larang, laku, kuliah",
          "<b>Topic 2</b><br>Words: anak, kalau, jateng, lpka, ikut",
          "<b>Topic 2</b><br>Words: pendidikanamppengentasan, yuspahruddin, kemenkumham, kakanwil, kutoarjo",
          "<b>Topic 2</b><br>Words: kampus, teliti, angket, jurnal, jpkp",
          "<b>Topic 2</b><br>Words: uny, sama, manajemen, matkul, dosen",
          "<b>Topic 2</b><br>Words: honorer, hapus, tenaga, ganjar, kurang",
          "<b>Topic 2</b><br>Words: baca, buku, tak, fundamen, damba",
          "<b>Topic 2</b><br>Words: tinggi, dunia, utara, sinkronisasi, tvr",
          "<b>Topic 2</b><br>Words: nongkrong, haha, how, filsafat, buang",
          "<b>Topic 2</b><br>Words: bagaimana, lorong, ikm, gelap, gerak",
          "<b>Topic 2</b><br>Words: kalau, kerja, enggak, wakanda, taun",
          "<b>Topic 2</b><br>Words: anak, orang, peran, tua, sekolah",
          "<b>Topic 2</b><br>Words: serius, jadi, dokter, bagai, sinyal",
          "<b>Topic 2</b><br>Words: pisa, perintah, bangun, jadi, manusia",
          "<b>Topic 2</b><br>Words: akuntansi, sejahtera, sosial, publik, banyak",
          "<b>Topic 2</b><br>Words: ntt, sekolah, anak, masuk, gubernur",
          "<b>Topic 2</b><br>Words: jam, ntt, sekolah, masuk, pagi",
          "<b>Topic 2</b><br>Words: pukul, masuk, ntt, budaya, dinas",
          "<b>Topic 2</b><br>Words: sekolah, ntt, masuk, pagi, jam",
          "<b>Topic 2</b><br>Words: wajib, sekolah, jam, guru, ajar",
          "<b>Topic 2</b><br>Words: pagi, menteri, sekolah, jadi, tangerang",
          "<b>Topic 2</b><br>Words: sekolah, inklusif, sorot, masuk, semua",
          "<b>Topic 2</b><br>Words: micellar, renata, ramadhan, alshad, syabda",
          "<b>Topic 2</b><br>Words: terima, enggak, kipk, maaf, biaya",
          "<b>Topic 2</b><br>Words: murid, optimal, potensi, hendak, menumbuhkembangkan",
          "<b>Topic 2</b><br>Words: gue, merdeka, ajar, kalo, orang"
         ],
         "marker": {
          "color": "#009E73"
         },
         "mode": "lines",
         "name": "2_sekolah_jam_ntt_masuk",
         "type": "scatter",
         "x": [
          "2023-01-01T04:19:39.676000+00:00",
          "2023-01-04T05:06:28.466666+00:00",
          "2023-01-07T03:46:05.933333+00:00",
          "2023-01-10T02:25:43.400000+00:00",
          "2023-01-13T01:05:20.866666+00:00",
          "2023-01-15T23:44:58.333333+00:00",
          "2023-01-18T22:24:35.800000+00:00",
          "2023-01-21T21:04:13.266666+00:00",
          "2023-01-24T19:43:50.733333+00:00",
          "2023-01-27T18:23:28.200000+00:00",
          "2023-01-30T17:03:05.666666+00:00",
          "2023-02-02T15:42:43.133333+00:00",
          "2023-02-05T14:22:20.600000+00:00",
          "2023-02-08T13:01:58.066666+00:00",
          "2023-02-11T11:41:35.533333+00:00",
          "2023-02-14T10:21:13+00:00",
          "2023-02-17T09:00:50.466666+00:00",
          "2023-02-20T07:40:27.933333+00:00",
          "2023-02-23T06:20:05.400000+00:00",
          "2023-02-26T04:59:42.866666+00:00",
          "2023-03-01T03:39:20.333333+00:00",
          "2023-03-04T02:18:57.800000+00:00",
          "2023-03-07T00:58:35.266666+00:00",
          "2023-03-09T23:38:12.733333+00:00",
          "2023-03-12T22:17:50.200000+00:00",
          "2023-03-15T20:57:27.666666+00:00",
          "2023-03-18T19:37:05.133333+00:00",
          "2023-03-21T18:16:42.600000+00:00",
          "2023-03-24T16:56:20.066666+00:00",
          "2023-03-27T15:35:57.533333+00:00"
         ],
         "y": [
          6,
          8,
          11,
          17,
          22,
          17,
          15,
          7,
          9,
          7,
          9,
          4,
          4,
          8,
          5,
          11,
          8,
          9,
          8,
          11,
          85,
          14,
          25,
          11,
          12,
          11,
          1,
          10,
          5,
          13
         ]
        }
       ],
       "layout": {
        "height": 450,
        "hoverlabel": {
         "bgcolor": "white",
         "font": {
          "family": "Rockwell",
          "size": 16
         }
        },
        "legend": {
         "title": {
          "text": "<b>Global Topic Representation"
         }
        },
        "template": {
         "data": {
          "bar": [
           {
            "error_x": {
             "color": "rgb(36,36,36)"
            },
            "error_y": {
             "color": "rgb(36,36,36)"
            },
            "marker": {
             "line": {
              "color": "white",
              "width": 0.5
             },
             "pattern": {
              "fillmode": "overlay",
              "size": 10,
              "solidity": 0.2
             }
            },
            "type": "bar"
           }
          ],
          "barpolar": [
           {
            "marker": {
             "line": {
              "color": "white",
              "width": 0.5
             },
             "pattern": {
              "fillmode": "overlay",
              "size": 10,
              "solidity": 0.2
             }
            },
            "type": "barpolar"
           }
          ],
          "carpet": [
           {
            "aaxis": {
             "endlinecolor": "rgb(36,36,36)",
             "gridcolor": "white",
             "linecolor": "white",
             "minorgridcolor": "white",
             "startlinecolor": "rgb(36,36,36)"
            },
            "baxis": {
             "endlinecolor": "rgb(36,36,36)",
             "gridcolor": "white",
             "linecolor": "white",
             "minorgridcolor": "white",
             "startlinecolor": "rgb(36,36,36)"
            },
            "type": "carpet"
           }
          ],
          "choropleth": [
           {
            "colorbar": {
             "outlinewidth": 1,
             "tickcolor": "rgb(36,36,36)",
             "ticks": "outside"
            },
            "type": "choropleth"
           }
          ],
          "contour": [
           {
            "colorbar": {
             "outlinewidth": 1,
             "tickcolor": "rgb(36,36,36)",
             "ticks": "outside"
            },
            "colorscale": [
             [
              0,
              "#440154"
             ],
             [
              0.1111111111111111,
              "#482878"
             ],
             [
              0.2222222222222222,
              "#3e4989"
             ],
             [
              0.3333333333333333,
              "#31688e"
             ],
             [
              0.4444444444444444,
              "#26828e"
             ],
             [
              0.5555555555555556,
              "#1f9e89"
             ],
             [
              0.6666666666666666,
              "#35b779"
             ],
             [
              0.7777777777777778,
              "#6ece58"
             ],
             [
              0.8888888888888888,
              "#b5de2b"
             ],
             [
              1,
              "#fde725"
             ]
            ],
            "type": "contour"
           }
          ],
          "contourcarpet": [
           {
            "colorbar": {
             "outlinewidth": 1,
             "tickcolor": "rgb(36,36,36)",
             "ticks": "outside"
            },
            "type": "contourcarpet"
           }
          ],
          "heatmap": [
           {
            "colorbar": {
             "outlinewidth": 1,
             "tickcolor": "rgb(36,36,36)",
             "ticks": "outside"
            },
            "colorscale": [
             [
              0,
              "#440154"
             ],
             [
              0.1111111111111111,
              "#482878"
             ],
             [
              0.2222222222222222,
              "#3e4989"
             ],
             [
              0.3333333333333333,
              "#31688e"
             ],
             [
              0.4444444444444444,
              "#26828e"
             ],
             [
              0.5555555555555556,
              "#1f9e89"
             ],
             [
              0.6666666666666666,
              "#35b779"
             ],
             [
              0.7777777777777778,
              "#6ece58"
             ],
             [
              0.8888888888888888,
              "#b5de2b"
             ],
             [
              1,
              "#fde725"
             ]
            ],
            "type": "heatmap"
           }
          ],
          "heatmapgl": [
           {
            "colorbar": {
             "outlinewidth": 1,
             "tickcolor": "rgb(36,36,36)",
             "ticks": "outside"
            },
            "colorscale": [
             [
              0,
              "#440154"
             ],
             [
              0.1111111111111111,
              "#482878"
             ],
             [
              0.2222222222222222,
              "#3e4989"
             ],
             [
              0.3333333333333333,
              "#31688e"
             ],
             [
              0.4444444444444444,
              "#26828e"
             ],
             [
              0.5555555555555556,
              "#1f9e89"
             ],
             [
              0.6666666666666666,
              "#35b779"
             ],
             [
              0.7777777777777778,
              "#6ece58"
             ],
             [
              0.8888888888888888,
              "#b5de2b"
             ],
             [
              1,
              "#fde725"
             ]
            ],
            "type": "heatmapgl"
           }
          ],
          "histogram": [
           {
            "marker": {
             "line": {
              "color": "white",
              "width": 0.6
             }
            },
            "type": "histogram"
           }
          ],
          "histogram2d": [
           {
            "colorbar": {
             "outlinewidth": 1,
             "tickcolor": "rgb(36,36,36)",
             "ticks": "outside"
            },
            "colorscale": [
             [
              0,
              "#440154"
             ],
             [
              0.1111111111111111,
              "#482878"
             ],
             [
              0.2222222222222222,
              "#3e4989"
             ],
             [
              0.3333333333333333,
              "#31688e"
             ],
             [
              0.4444444444444444,
              "#26828e"
             ],
             [
              0.5555555555555556,
              "#1f9e89"
             ],
             [
              0.6666666666666666,
              "#35b779"
             ],
             [
              0.7777777777777778,
              "#6ece58"
             ],
             [
              0.8888888888888888,
              "#b5de2b"
             ],
             [
              1,
              "#fde725"
             ]
            ],
            "type": "histogram2d"
           }
          ],
          "histogram2dcontour": [
           {
            "colorbar": {
             "outlinewidth": 1,
             "tickcolor": "rgb(36,36,36)",
             "ticks": "outside"
            },
            "colorscale": [
             [
              0,
              "#440154"
             ],
             [
              0.1111111111111111,
              "#482878"
             ],
             [
              0.2222222222222222,
              "#3e4989"
             ],
             [
              0.3333333333333333,
              "#31688e"
             ],
             [
              0.4444444444444444,
              "#26828e"
             ],
             [
              0.5555555555555556,
              "#1f9e89"
             ],
             [
              0.6666666666666666,
              "#35b779"
             ],
             [
              0.7777777777777778,
              "#6ece58"
             ],
             [
              0.8888888888888888,
              "#b5de2b"
             ],
             [
              1,
              "#fde725"
             ]
            ],
            "type": "histogram2dcontour"
           }
          ],
          "mesh3d": [
           {
            "colorbar": {
             "outlinewidth": 1,
             "tickcolor": "rgb(36,36,36)",
             "ticks": "outside"
            },
            "type": "mesh3d"
           }
          ],
          "parcoords": [
           {
            "line": {
             "colorbar": {
              "outlinewidth": 1,
              "tickcolor": "rgb(36,36,36)",
              "ticks": "outside"
             }
            },
            "type": "parcoords"
           }
          ],
          "pie": [
           {
            "automargin": true,
            "type": "pie"
           }
          ],
          "scatter": [
           {
            "fillpattern": {
             "fillmode": "overlay",
             "size": 10,
             "solidity": 0.2
            },
            "type": "scatter"
           }
          ],
          "scatter3d": [
           {
            "line": {
             "colorbar": {
              "outlinewidth": 1,
              "tickcolor": "rgb(36,36,36)",
              "ticks": "outside"
             }
            },
            "marker": {
             "colorbar": {
              "outlinewidth": 1,
              "tickcolor": "rgb(36,36,36)",
              "ticks": "outside"
             }
            },
            "type": "scatter3d"
           }
          ],
          "scattercarpet": [
           {
            "marker": {
             "colorbar": {
              "outlinewidth": 1,
              "tickcolor": "rgb(36,36,36)",
              "ticks": "outside"
             }
            },
            "type": "scattercarpet"
           }
          ],
          "scattergeo": [
           {
            "marker": {
             "colorbar": {
              "outlinewidth": 1,
              "tickcolor": "rgb(36,36,36)",
              "ticks": "outside"
             }
            },
            "type": "scattergeo"
           }
          ],
          "scattergl": [
           {
            "marker": {
             "colorbar": {
              "outlinewidth": 1,
              "tickcolor": "rgb(36,36,36)",
              "ticks": "outside"
             }
            },
            "type": "scattergl"
           }
          ],
          "scattermapbox": [
           {
            "marker": {
             "colorbar": {
              "outlinewidth": 1,
              "tickcolor": "rgb(36,36,36)",
              "ticks": "outside"
             }
            },
            "type": "scattermapbox"
           }
          ],
          "scatterpolar": [
           {
            "marker": {
             "colorbar": {
              "outlinewidth": 1,
              "tickcolor": "rgb(36,36,36)",
              "ticks": "outside"
             }
            },
            "type": "scatterpolar"
           }
          ],
          "scatterpolargl": [
           {
            "marker": {
             "colorbar": {
              "outlinewidth": 1,
              "tickcolor": "rgb(36,36,36)",
              "ticks": "outside"
             }
            },
            "type": "scatterpolargl"
           }
          ],
          "scatterternary": [
           {
            "marker": {
             "colorbar": {
              "outlinewidth": 1,
              "tickcolor": "rgb(36,36,36)",
              "ticks": "outside"
             }
            },
            "type": "scatterternary"
           }
          ],
          "surface": [
           {
            "colorbar": {
             "outlinewidth": 1,
             "tickcolor": "rgb(36,36,36)",
             "ticks": "outside"
            },
            "colorscale": [
             [
              0,
              "#440154"
             ],
             [
              0.1111111111111111,
              "#482878"
             ],
             [
              0.2222222222222222,
              "#3e4989"
             ],
             [
              0.3333333333333333,
              "#31688e"
             ],
             [
              0.4444444444444444,
              "#26828e"
             ],
             [
              0.5555555555555556,
              "#1f9e89"
             ],
             [
              0.6666666666666666,
              "#35b779"
             ],
             [
              0.7777777777777778,
              "#6ece58"
             ],
             [
              0.8888888888888888,
              "#b5de2b"
             ],
             [
              1,
              "#fde725"
             ]
            ],
            "type": "surface"
           }
          ],
          "table": [
           {
            "cells": {
             "fill": {
              "color": "rgb(237,237,237)"
             },
             "line": {
              "color": "white"
             }
            },
            "header": {
             "fill": {
              "color": "rgb(217,217,217)"
             },
             "line": {
              "color": "white"
             }
            },
            "type": "table"
           }
          ]
         },
         "layout": {
          "annotationdefaults": {
           "arrowhead": 0,
           "arrowwidth": 1
          },
          "autotypenumbers": "strict",
          "coloraxis": {
           "colorbar": {
            "outlinewidth": 1,
            "tickcolor": "rgb(36,36,36)",
            "ticks": "outside"
           }
          },
          "colorscale": {
           "diverging": [
            [
             0,
             "rgb(103,0,31)"
            ],
            [
             0.1,
             "rgb(178,24,43)"
            ],
            [
             0.2,
             "rgb(214,96,77)"
            ],
            [
             0.3,
             "rgb(244,165,130)"
            ],
            [
             0.4,
             "rgb(253,219,199)"
            ],
            [
             0.5,
             "rgb(247,247,247)"
            ],
            [
             0.6,
             "rgb(209,229,240)"
            ],
            [
             0.7,
             "rgb(146,197,222)"
            ],
            [
             0.8,
             "rgb(67,147,195)"
            ],
            [
             0.9,
             "rgb(33,102,172)"
            ],
            [
             1,
             "rgb(5,48,97)"
            ]
           ],
           "sequential": [
            [
             0,
             "#440154"
            ],
            [
             0.1111111111111111,
             "#482878"
            ],
            [
             0.2222222222222222,
             "#3e4989"
            ],
            [
             0.3333333333333333,
             "#31688e"
            ],
            [
             0.4444444444444444,
             "#26828e"
            ],
            [
             0.5555555555555556,
             "#1f9e89"
            ],
            [
             0.6666666666666666,
             "#35b779"
            ],
            [
             0.7777777777777778,
             "#6ece58"
            ],
            [
             0.8888888888888888,
             "#b5de2b"
            ],
            [
             1,
             "#fde725"
            ]
           ],
           "sequentialminus": [
            [
             0,
             "#440154"
            ],
            [
             0.1111111111111111,
             "#482878"
            ],
            [
             0.2222222222222222,
             "#3e4989"
            ],
            [
             0.3333333333333333,
             "#31688e"
            ],
            [
             0.4444444444444444,
             "#26828e"
            ],
            [
             0.5555555555555556,
             "#1f9e89"
            ],
            [
             0.6666666666666666,
             "#35b779"
            ],
            [
             0.7777777777777778,
             "#6ece58"
            ],
            [
             0.8888888888888888,
             "#b5de2b"
            ],
            [
             1,
             "#fde725"
            ]
           ]
          },
          "colorway": [
           "#1F77B4",
           "#FF7F0E",
           "#2CA02C",
           "#D62728",
           "#9467BD",
           "#8C564B",
           "#E377C2",
           "#7F7F7F",
           "#BCBD22",
           "#17BECF"
          ],
          "font": {
           "color": "rgb(36,36,36)"
          },
          "geo": {
           "bgcolor": "white",
           "lakecolor": "white",
           "landcolor": "white",
           "showlakes": true,
           "showland": true,
           "subunitcolor": "white"
          },
          "hoverlabel": {
           "align": "left"
          },
          "hovermode": "closest",
          "mapbox": {
           "style": "light"
          },
          "paper_bgcolor": "white",
          "plot_bgcolor": "white",
          "polar": {
           "angularaxis": {
            "gridcolor": "rgb(232,232,232)",
            "linecolor": "rgb(36,36,36)",
            "showgrid": false,
            "showline": true,
            "ticks": "outside"
           },
           "bgcolor": "white",
           "radialaxis": {
            "gridcolor": "rgb(232,232,232)",
            "linecolor": "rgb(36,36,36)",
            "showgrid": false,
            "showline": true,
            "ticks": "outside"
           }
          },
          "scene": {
           "xaxis": {
            "backgroundcolor": "white",
            "gridcolor": "rgb(232,232,232)",
            "gridwidth": 2,
            "linecolor": "rgb(36,36,36)",
            "showbackground": true,
            "showgrid": false,
            "showline": true,
            "ticks": "outside",
            "zeroline": false,
            "zerolinecolor": "rgb(36,36,36)"
           },
           "yaxis": {
            "backgroundcolor": "white",
            "gridcolor": "rgb(232,232,232)",
            "gridwidth": 2,
            "linecolor": "rgb(36,36,36)",
            "showbackground": true,
            "showgrid": false,
            "showline": true,
            "ticks": "outside",
            "zeroline": false,
            "zerolinecolor": "rgb(36,36,36)"
           },
           "zaxis": {
            "backgroundcolor": "white",
            "gridcolor": "rgb(232,232,232)",
            "gridwidth": 2,
            "linecolor": "rgb(36,36,36)",
            "showbackground": true,
            "showgrid": false,
            "showline": true,
            "ticks": "outside",
            "zeroline": false,
            "zerolinecolor": "rgb(36,36,36)"
           }
          },
          "shapedefaults": {
           "fillcolor": "black",
           "line": {
            "width": 0
           },
           "opacity": 0.3
          },
          "ternary": {
           "aaxis": {
            "gridcolor": "rgb(232,232,232)",
            "linecolor": "rgb(36,36,36)",
            "showgrid": false,
            "showline": true,
            "ticks": "outside"
           },
           "baxis": {
            "gridcolor": "rgb(232,232,232)",
            "linecolor": "rgb(36,36,36)",
            "showgrid": false,
            "showline": true,
            "ticks": "outside"
           },
           "bgcolor": "white",
           "caxis": {
            "gridcolor": "rgb(232,232,232)",
            "linecolor": "rgb(36,36,36)",
            "showgrid": false,
            "showline": true,
            "ticks": "outside"
           }
          },
          "title": {
           "x": 0.05
          },
          "xaxis": {
           "automargin": true,
           "gridcolor": "rgb(232,232,232)",
           "linecolor": "rgb(36,36,36)",
           "showgrid": false,
           "showline": true,
           "ticks": "outside",
           "title": {
            "standoff": 15
           },
           "zeroline": false,
           "zerolinecolor": "rgb(36,36,36)"
          },
          "yaxis": {
           "automargin": true,
           "gridcolor": "rgb(232,232,232)",
           "linecolor": "rgb(36,36,36)",
           "showgrid": false,
           "showline": true,
           "ticks": "outside",
           "title": {
            "standoff": 15
           },
           "zeroline": false,
           "zerolinecolor": "rgb(36,36,36)"
          }
         }
        },
        "title": {
         "font": {
          "color": "Black",
          "size": 22
         },
         "text": "Topics Over Time for 2023Q1",
         "x": 0.4,
         "xanchor": "center",
         "y": 0.95,
         "yanchor": "top"
        },
        "width": 1250,
        "xaxis": {
         "showgrid": true
        },
        "yaxis": {
         "showgrid": true,
         "title": {
          "text": "Frequency"
         }
        }
       }
      }
     },
     "metadata": {},
     "output_type": "display_data"
    },
    {
     "data": {
      "application/vnd.plotly.v1+json": {
       "config": {
        "plotlyServerURL": "https://plot.ly"
       },
       "data": [
        {
         "hoverinfo": "text",
         "hovertext": [
          "<b>Topic 0</b><br>Words: ragam, pesan, ganjar, maju, penting",
          "<b>Topic 0</b><br>Words: ragam, pesan, maju, ganjar, penting",
          "<b>Topic 0</b><br>Words: publik, ragam, pesan, maju, ganjar"
         ],
         "marker": {
          "color": "#E69F00"
         },
         "mode": "lines",
         "name": "0_ragam_pesan_maju_ganjar",
         "type": "scatter",
         "x": [
          "2023-05-01T06:59:52.666666+00:00",
          "2023-05-10T04:42:08.466666+00:00",
          "2023-05-28T00:06:40.066666+00:00"
         ],
         "y": [
          5,
          14,
          1
         ]
        },
        {
         "hoverinfo": "text",
         "hovertext": [
          "<b>Topic 1</b><br>Words: infertilitas, episode, alas, sd, jadi",
          "<b>Topic 1</b><br>Words: lebih, bas, sekolah, negara, restriktif",
          "<b>Topic 1</b><br>Words: talib, afghanistan, ulama, perempuan, anak",
          "<b>Topic 1</b><br>Words: nilai, kritik, kait, sebut, laku",
          "<b>Topic 1</b><br>Words: budaya, merdeka, tingkat, ajar, adopsi",
          "<b>Topic 1</b><br>Words: etika, gratis, sekolah, guru, antiisrael",
          "<b>Topic 1</b><br>Words: bikin, rakyat, banyak, sengsara, iisma",
          "<b>Topic 1</b><br>Words: orang, bulan, anies, buat, enggak",
          "<b>Topic 1</b><br>Words: sapa, eps, gtk, asn, seleksi",
          "<b>Topic 1</b><br>Words: hadjar, ki, dewantara, ingat, juang",
          "<b>Topic 1</b><br>Words: sekolah, hari, terus, nasional, program",
          "<b>Topic 1</b><br>Words: sekolah, gratis, indonesia, buat, mang",
          "<b>Topic 1</b><br>Words: indonesia, amp, guru, panitia, baik",
          "<b>Topic 1</b><br>Words: jadi, aspirasi, jaring, buat, perintah",
          "<b>Topic 1</b><br>Words: indonesia, pusat, satu, budaya, jadi",
          "<b>Topic 1</b><br>Words: literasi, indonesia, budaya, satu, teliti",
          "<b>Topic 1</b><br>Words: pks, kampus, tingkat, kuat, akses",
          "<b>Topic 1</b><br>Words: pakar, seminar, minta, upi, tangan",
          "<b>Topic 1</b><br>Words: jadi, guru, buat, deh, banget",
          "<b>Topic 1</b><br>Words: guru, enggak, jadi, menteri, baru",
          "<b>Topic 1</b><br>Words: universitas, indonesia, sektor, publik, kembang",
          "<b>Topic 1</b><br>Words: nadiem, universitas, indonesia, sama, bawa",
          "<b>Topic 1</b><br>Words: guru, ganti, jadi, sistem, indonesia",
          "<b>Topic 1</b><br>Words: anti, berani, korupsi, jateng, satu",
          "<b>Topic 1</b><br>Words: sekolah, ikhlas, guru, buat, buah",
          "<b>Topic 1</b><br>Words: negeri, jadi, satu, sama, perintah",
          "<b>Topic 1</b><br>Words: sekolah, jadi, sama, baik, guru",
          "<b>Topic 1</b><br>Words: ada, sekolah, cegah, lingkung, keras",
          "<b>Topic 1</b><br>Words: pak, jaman, jawa, tengah, anak",
          "<b>Topic 1</b><br>Words: kota, sehat, perintah, skor, aware"
         ],
         "marker": {
          "color": "#56B4E9"
         },
         "mode": "lines",
         "name": "1_indonesia_sekolah_jadi_guru",
         "type": "scatter",
         "x": [
          "2023-04-01T12:30:46.642000+00:00",
          "2023-04-04T13:53:05.266666+00:00",
          "2023-04-07T13:07:10.533333+00:00",
          "2023-04-10T12:21:15.800000+00:00",
          "2023-04-13T11:35:21.066666+00:00",
          "2023-04-16T10:49:26.333333+00:00",
          "2023-04-19T10:03:31.600000+00:00",
          "2023-04-22T09:17:36.866666+00:00",
          "2023-04-25T08:31:42.133333+00:00",
          "2023-04-28T07:45:47.400000+00:00",
          "2023-05-01T06:59:52.666666+00:00",
          "2023-05-04T06:13:57.933333+00:00",
          "2023-05-07T05:28:03.200000+00:00",
          "2023-05-10T04:42:08.466666+00:00",
          "2023-05-13T03:56:13.733333+00:00",
          "2023-05-16T03:10:19+00:00",
          "2023-05-19T02:24:24.266666+00:00",
          "2023-05-22T01:38:29.533333+00:00",
          "2023-05-25T00:52:34.800000+00:00",
          "2023-05-28T00:06:40.066666+00:00",
          "2023-05-30T23:20:45.333333+00:00",
          "2023-06-02T22:34:50.600000+00:00",
          "2023-06-05T21:48:55.866666+00:00",
          "2023-06-08T21:03:01.133333+00:00",
          "2023-06-11T20:17:06.400000+00:00",
          "2023-06-14T19:31:11.666666+00:00",
          "2023-06-17T18:45:16.933333+00:00",
          "2023-06-20T17:59:22.200000+00:00",
          "2023-06-23T17:13:27.466666+00:00",
          "2023-06-26T16:27:32.733333+00:00"
         ],
         "y": [
          6,
          10,
          8,
          9,
          8,
          12,
          5,
          8,
          3,
          4,
          52,
          21,
          17,
          12,
          17,
          22,
          23,
          4,
          4,
          26,
          13,
          3,
          18,
          2,
          16,
          27,
          27,
          26,
          13,
          10
         ]
        }
       ],
       "layout": {
        "height": 450,
        "hoverlabel": {
         "bgcolor": "white",
         "font": {
          "family": "Rockwell",
          "size": 16
         }
        },
        "legend": {
         "title": {
          "text": "<b>Global Topic Representation"
         }
        },
        "template": {
         "data": {
          "bar": [
           {
            "error_x": {
             "color": "rgb(36,36,36)"
            },
            "error_y": {
             "color": "rgb(36,36,36)"
            },
            "marker": {
             "line": {
              "color": "white",
              "width": 0.5
             },
             "pattern": {
              "fillmode": "overlay",
              "size": 10,
              "solidity": 0.2
             }
            },
            "type": "bar"
           }
          ],
          "barpolar": [
           {
            "marker": {
             "line": {
              "color": "white",
              "width": 0.5
             },
             "pattern": {
              "fillmode": "overlay",
              "size": 10,
              "solidity": 0.2
             }
            },
            "type": "barpolar"
           }
          ],
          "carpet": [
           {
            "aaxis": {
             "endlinecolor": "rgb(36,36,36)",
             "gridcolor": "white",
             "linecolor": "white",
             "minorgridcolor": "white",
             "startlinecolor": "rgb(36,36,36)"
            },
            "baxis": {
             "endlinecolor": "rgb(36,36,36)",
             "gridcolor": "white",
             "linecolor": "white",
             "minorgridcolor": "white",
             "startlinecolor": "rgb(36,36,36)"
            },
            "type": "carpet"
           }
          ],
          "choropleth": [
           {
            "colorbar": {
             "outlinewidth": 1,
             "tickcolor": "rgb(36,36,36)",
             "ticks": "outside"
            },
            "type": "choropleth"
           }
          ],
          "contour": [
           {
            "colorbar": {
             "outlinewidth": 1,
             "tickcolor": "rgb(36,36,36)",
             "ticks": "outside"
            },
            "colorscale": [
             [
              0,
              "#440154"
             ],
             [
              0.1111111111111111,
              "#482878"
             ],
             [
              0.2222222222222222,
              "#3e4989"
             ],
             [
              0.3333333333333333,
              "#31688e"
             ],
             [
              0.4444444444444444,
              "#26828e"
             ],
             [
              0.5555555555555556,
              "#1f9e89"
             ],
             [
              0.6666666666666666,
              "#35b779"
             ],
             [
              0.7777777777777778,
              "#6ece58"
             ],
             [
              0.8888888888888888,
              "#b5de2b"
             ],
             [
              1,
              "#fde725"
             ]
            ],
            "type": "contour"
           }
          ],
          "contourcarpet": [
           {
            "colorbar": {
             "outlinewidth": 1,
             "tickcolor": "rgb(36,36,36)",
             "ticks": "outside"
            },
            "type": "contourcarpet"
           }
          ],
          "heatmap": [
           {
            "colorbar": {
             "outlinewidth": 1,
             "tickcolor": "rgb(36,36,36)",
             "ticks": "outside"
            },
            "colorscale": [
             [
              0,
              "#440154"
             ],
             [
              0.1111111111111111,
              "#482878"
             ],
             [
              0.2222222222222222,
              "#3e4989"
             ],
             [
              0.3333333333333333,
              "#31688e"
             ],
             [
              0.4444444444444444,
              "#26828e"
             ],
             [
              0.5555555555555556,
              "#1f9e89"
             ],
             [
              0.6666666666666666,
              "#35b779"
             ],
             [
              0.7777777777777778,
              "#6ece58"
             ],
             [
              0.8888888888888888,
              "#b5de2b"
             ],
             [
              1,
              "#fde725"
             ]
            ],
            "type": "heatmap"
           }
          ],
          "heatmapgl": [
           {
            "colorbar": {
             "outlinewidth": 1,
             "tickcolor": "rgb(36,36,36)",
             "ticks": "outside"
            },
            "colorscale": [
             [
              0,
              "#440154"
             ],
             [
              0.1111111111111111,
              "#482878"
             ],
             [
              0.2222222222222222,
              "#3e4989"
             ],
             [
              0.3333333333333333,
              "#31688e"
             ],
             [
              0.4444444444444444,
              "#26828e"
             ],
             [
              0.5555555555555556,
              "#1f9e89"
             ],
             [
              0.6666666666666666,
              "#35b779"
             ],
             [
              0.7777777777777778,
              "#6ece58"
             ],
             [
              0.8888888888888888,
              "#b5de2b"
             ],
             [
              1,
              "#fde725"
             ]
            ],
            "type": "heatmapgl"
           }
          ],
          "histogram": [
           {
            "marker": {
             "line": {
              "color": "white",
              "width": 0.6
             }
            },
            "type": "histogram"
           }
          ],
          "histogram2d": [
           {
            "colorbar": {
             "outlinewidth": 1,
             "tickcolor": "rgb(36,36,36)",
             "ticks": "outside"
            },
            "colorscale": [
             [
              0,
              "#440154"
             ],
             [
              0.1111111111111111,
              "#482878"
             ],
             [
              0.2222222222222222,
              "#3e4989"
             ],
             [
              0.3333333333333333,
              "#31688e"
             ],
             [
              0.4444444444444444,
              "#26828e"
             ],
             [
              0.5555555555555556,
              "#1f9e89"
             ],
             [
              0.6666666666666666,
              "#35b779"
             ],
             [
              0.7777777777777778,
              "#6ece58"
             ],
             [
              0.8888888888888888,
              "#b5de2b"
             ],
             [
              1,
              "#fde725"
             ]
            ],
            "type": "histogram2d"
           }
          ],
          "histogram2dcontour": [
           {
            "colorbar": {
             "outlinewidth": 1,
             "tickcolor": "rgb(36,36,36)",
             "ticks": "outside"
            },
            "colorscale": [
             [
              0,
              "#440154"
             ],
             [
              0.1111111111111111,
              "#482878"
             ],
             [
              0.2222222222222222,
              "#3e4989"
             ],
             [
              0.3333333333333333,
              "#31688e"
             ],
             [
              0.4444444444444444,
              "#26828e"
             ],
             [
              0.5555555555555556,
              "#1f9e89"
             ],
             [
              0.6666666666666666,
              "#35b779"
             ],
             [
              0.7777777777777778,
              "#6ece58"
             ],
             [
              0.8888888888888888,
              "#b5de2b"
             ],
             [
              1,
              "#fde725"
             ]
            ],
            "type": "histogram2dcontour"
           }
          ],
          "mesh3d": [
           {
            "colorbar": {
             "outlinewidth": 1,
             "tickcolor": "rgb(36,36,36)",
             "ticks": "outside"
            },
            "type": "mesh3d"
           }
          ],
          "parcoords": [
           {
            "line": {
             "colorbar": {
              "outlinewidth": 1,
              "tickcolor": "rgb(36,36,36)",
              "ticks": "outside"
             }
            },
            "type": "parcoords"
           }
          ],
          "pie": [
           {
            "automargin": true,
            "type": "pie"
           }
          ],
          "scatter": [
           {
            "fillpattern": {
             "fillmode": "overlay",
             "size": 10,
             "solidity": 0.2
            },
            "type": "scatter"
           }
          ],
          "scatter3d": [
           {
            "line": {
             "colorbar": {
              "outlinewidth": 1,
              "tickcolor": "rgb(36,36,36)",
              "ticks": "outside"
             }
            },
            "marker": {
             "colorbar": {
              "outlinewidth": 1,
              "tickcolor": "rgb(36,36,36)",
              "ticks": "outside"
             }
            },
            "type": "scatter3d"
           }
          ],
          "scattercarpet": [
           {
            "marker": {
             "colorbar": {
              "outlinewidth": 1,
              "tickcolor": "rgb(36,36,36)",
              "ticks": "outside"
             }
            },
            "type": "scattercarpet"
           }
          ],
          "scattergeo": [
           {
            "marker": {
             "colorbar": {
              "outlinewidth": 1,
              "tickcolor": "rgb(36,36,36)",
              "ticks": "outside"
             }
            },
            "type": "scattergeo"
           }
          ],
          "scattergl": [
           {
            "marker": {
             "colorbar": {
              "outlinewidth": 1,
              "tickcolor": "rgb(36,36,36)",
              "ticks": "outside"
             }
            },
            "type": "scattergl"
           }
          ],
          "scattermapbox": [
           {
            "marker": {
             "colorbar": {
              "outlinewidth": 1,
              "tickcolor": "rgb(36,36,36)",
              "ticks": "outside"
             }
            },
            "type": "scattermapbox"
           }
          ],
          "scatterpolar": [
           {
            "marker": {
             "colorbar": {
              "outlinewidth": 1,
              "tickcolor": "rgb(36,36,36)",
              "ticks": "outside"
             }
            },
            "type": "scatterpolar"
           }
          ],
          "scatterpolargl": [
           {
            "marker": {
             "colorbar": {
              "outlinewidth": 1,
              "tickcolor": "rgb(36,36,36)",
              "ticks": "outside"
             }
            },
            "type": "scatterpolargl"
           }
          ],
          "scatterternary": [
           {
            "marker": {
             "colorbar": {
              "outlinewidth": 1,
              "tickcolor": "rgb(36,36,36)",
              "ticks": "outside"
             }
            },
            "type": "scatterternary"
           }
          ],
          "surface": [
           {
            "colorbar": {
             "outlinewidth": 1,
             "tickcolor": "rgb(36,36,36)",
             "ticks": "outside"
            },
            "colorscale": [
             [
              0,
              "#440154"
             ],
             [
              0.1111111111111111,
              "#482878"
             ],
             [
              0.2222222222222222,
              "#3e4989"
             ],
             [
              0.3333333333333333,
              "#31688e"
             ],
             [
              0.4444444444444444,
              "#26828e"
             ],
             [
              0.5555555555555556,
              "#1f9e89"
             ],
             [
              0.6666666666666666,
              "#35b779"
             ],
             [
              0.7777777777777778,
              "#6ece58"
             ],
             [
              0.8888888888888888,
              "#b5de2b"
             ],
             [
              1,
              "#fde725"
             ]
            ],
            "type": "surface"
           }
          ],
          "table": [
           {
            "cells": {
             "fill": {
              "color": "rgb(237,237,237)"
             },
             "line": {
              "color": "white"
             }
            },
            "header": {
             "fill": {
              "color": "rgb(217,217,217)"
             },
             "line": {
              "color": "white"
             }
            },
            "type": "table"
           }
          ]
         },
         "layout": {
          "annotationdefaults": {
           "arrowhead": 0,
           "arrowwidth": 1
          },
          "autotypenumbers": "strict",
          "coloraxis": {
           "colorbar": {
            "outlinewidth": 1,
            "tickcolor": "rgb(36,36,36)",
            "ticks": "outside"
           }
          },
          "colorscale": {
           "diverging": [
            [
             0,
             "rgb(103,0,31)"
            ],
            [
             0.1,
             "rgb(178,24,43)"
            ],
            [
             0.2,
             "rgb(214,96,77)"
            ],
            [
             0.3,
             "rgb(244,165,130)"
            ],
            [
             0.4,
             "rgb(253,219,199)"
            ],
            [
             0.5,
             "rgb(247,247,247)"
            ],
            [
             0.6,
             "rgb(209,229,240)"
            ],
            [
             0.7,
             "rgb(146,197,222)"
            ],
            [
             0.8,
             "rgb(67,147,195)"
            ],
            [
             0.9,
             "rgb(33,102,172)"
            ],
            [
             1,
             "rgb(5,48,97)"
            ]
           ],
           "sequential": [
            [
             0,
             "#440154"
            ],
            [
             0.1111111111111111,
             "#482878"
            ],
            [
             0.2222222222222222,
             "#3e4989"
            ],
            [
             0.3333333333333333,
             "#31688e"
            ],
            [
             0.4444444444444444,
             "#26828e"
            ],
            [
             0.5555555555555556,
             "#1f9e89"
            ],
            [
             0.6666666666666666,
             "#35b779"
            ],
            [
             0.7777777777777778,
             "#6ece58"
            ],
            [
             0.8888888888888888,
             "#b5de2b"
            ],
            [
             1,
             "#fde725"
            ]
           ],
           "sequentialminus": [
            [
             0,
             "#440154"
            ],
            [
             0.1111111111111111,
             "#482878"
            ],
            [
             0.2222222222222222,
             "#3e4989"
            ],
            [
             0.3333333333333333,
             "#31688e"
            ],
            [
             0.4444444444444444,
             "#26828e"
            ],
            [
             0.5555555555555556,
             "#1f9e89"
            ],
            [
             0.6666666666666666,
             "#35b779"
            ],
            [
             0.7777777777777778,
             "#6ece58"
            ],
            [
             0.8888888888888888,
             "#b5de2b"
            ],
            [
             1,
             "#fde725"
            ]
           ]
          },
          "colorway": [
           "#1F77B4",
           "#FF7F0E",
           "#2CA02C",
           "#D62728",
           "#9467BD",
           "#8C564B",
           "#E377C2",
           "#7F7F7F",
           "#BCBD22",
           "#17BECF"
          ],
          "font": {
           "color": "rgb(36,36,36)"
          },
          "geo": {
           "bgcolor": "white",
           "lakecolor": "white",
           "landcolor": "white",
           "showlakes": true,
           "showland": true,
           "subunitcolor": "white"
          },
          "hoverlabel": {
           "align": "left"
          },
          "hovermode": "closest",
          "mapbox": {
           "style": "light"
          },
          "paper_bgcolor": "white",
          "plot_bgcolor": "white",
          "polar": {
           "angularaxis": {
            "gridcolor": "rgb(232,232,232)",
            "linecolor": "rgb(36,36,36)",
            "showgrid": false,
            "showline": true,
            "ticks": "outside"
           },
           "bgcolor": "white",
           "radialaxis": {
            "gridcolor": "rgb(232,232,232)",
            "linecolor": "rgb(36,36,36)",
            "showgrid": false,
            "showline": true,
            "ticks": "outside"
           }
          },
          "scene": {
           "xaxis": {
            "backgroundcolor": "white",
            "gridcolor": "rgb(232,232,232)",
            "gridwidth": 2,
            "linecolor": "rgb(36,36,36)",
            "showbackground": true,
            "showgrid": false,
            "showline": true,
            "ticks": "outside",
            "zeroline": false,
            "zerolinecolor": "rgb(36,36,36)"
           },
           "yaxis": {
            "backgroundcolor": "white",
            "gridcolor": "rgb(232,232,232)",
            "gridwidth": 2,
            "linecolor": "rgb(36,36,36)",
            "showbackground": true,
            "showgrid": false,
            "showline": true,
            "ticks": "outside",
            "zeroline": false,
            "zerolinecolor": "rgb(36,36,36)"
           },
           "zaxis": {
            "backgroundcolor": "white",
            "gridcolor": "rgb(232,232,232)",
            "gridwidth": 2,
            "linecolor": "rgb(36,36,36)",
            "showbackground": true,
            "showgrid": false,
            "showline": true,
            "ticks": "outside",
            "zeroline": false,
            "zerolinecolor": "rgb(36,36,36)"
           }
          },
          "shapedefaults": {
           "fillcolor": "black",
           "line": {
            "width": 0
           },
           "opacity": 0.3
          },
          "ternary": {
           "aaxis": {
            "gridcolor": "rgb(232,232,232)",
            "linecolor": "rgb(36,36,36)",
            "showgrid": false,
            "showline": true,
            "ticks": "outside"
           },
           "baxis": {
            "gridcolor": "rgb(232,232,232)",
            "linecolor": "rgb(36,36,36)",
            "showgrid": false,
            "showline": true,
            "ticks": "outside"
           },
           "bgcolor": "white",
           "caxis": {
            "gridcolor": "rgb(232,232,232)",
            "linecolor": "rgb(36,36,36)",
            "showgrid": false,
            "showline": true,
            "ticks": "outside"
           }
          },
          "title": {
           "x": 0.05
          },
          "xaxis": {
           "automargin": true,
           "gridcolor": "rgb(232,232,232)",
           "linecolor": "rgb(36,36,36)",
           "showgrid": false,
           "showline": true,
           "ticks": "outside",
           "title": {
            "standoff": 15
           },
           "zeroline": false,
           "zerolinecolor": "rgb(36,36,36)"
          },
          "yaxis": {
           "automargin": true,
           "gridcolor": "rgb(232,232,232)",
           "linecolor": "rgb(36,36,36)",
           "showgrid": false,
           "showline": true,
           "ticks": "outside",
           "title": {
            "standoff": 15
           },
           "zeroline": false,
           "zerolinecolor": "rgb(36,36,36)"
          }
         }
        },
        "title": {
         "font": {
          "color": "Black",
          "size": 22
         },
         "text": "Topics Over Time for 2023Q2",
         "x": 0.4,
         "xanchor": "center",
         "y": 0.95,
         "yanchor": "top"
        },
        "width": 1250,
        "xaxis": {
         "showgrid": true
        },
        "yaxis": {
         "showgrid": true,
         "title": {
          "text": "Frequency"
         }
        }
       }
      }
     },
     "metadata": {},
     "output_type": "display_data"
    },
    {
     "data": {
      "application/vnd.plotly.v1+json": {
       "config": {
        "plotlyServerURL": "https://plot.ly"
       },
       "data": [
        {
         "hoverinfo": "text",
         "hovertext": [
          "<b>Topic 0</b><br>Words: akarakarnya, koesoema, kupas, doni, tuntas",
          "<b>Topic 0</b><br>Words: milihnyapakbowo, smakinmantab, jelaskerjanya, kerennyasubianto, nih",
          "<b>Topic 0</b><br>Words: milihnyapakbowo, jelaskerjanya, kerennyasubianto, smakinmantab, nih"
         ],
         "marker": {
          "color": "#E69F00"
         },
         "mode": "lines",
         "name": "0_milihnyapakbowo_smakinmantab_jelaskerj...",
         "type": "scatter",
         "x": [
          "2023-08-09T07:15:44.800000+00:00",
          "2023-09-11T08:18:44.400000+00:00",
          "2023-09-14T08:24:28+00:00"
         ],
         "y": [
          1,
          35,
          19
         ]
        },
        {
         "hoverinfo": "text",
         "hovertext": [
          "<b>Topic 1</b><br>Words: naik, prabowo, delapansmangat, utkmasadepan, barengpakbowo",
          "<b>Topic 1</b><br>Words: mebenai, jawab, bisnis, umkm, prabowo",
          "<b>Topic 1</b><br>Words: malam, pukis, umur, fajri, onic",
          "<b>Topic 1</b><br>Words: utkmasadepan, delapansmangat, prabowo, majuinnkri, barengpakbowo"
         ],
         "marker": {
          "color": "#56B4E9"
         },
         "mode": "lines",
         "name": "1_prabowo_delapansmangat_utkmasadepan_ba...",
         "type": "scatter",
         "x": [
          "2023-07-07T06:12:45.200000+00:00",
          "2023-07-13T06:24:12.400000+00:00",
          "2023-08-03T07:04:17.600000+00:00",
          "2023-09-20T08:35:55.200000+00:00"
         ],
         "y": [
          1,
          1,
          1,
          99
         ]
        },
        {
         "hoverinfo": "text",
         "hovertext": [
          "<b>Topic 2</b><br>Words: harapankita, subiantopastinya, kerjanyajelas, jelaspakbowo, nih"
         ],
         "marker": {
          "color": "#009E73"
         },
         "mode": "lines",
         "name": "2_harapankita_subiantopastinya_kerjanyaj...",
         "type": "scatter",
         "x": [
          "2023-09-17T08:30:11.600000+00:00"
         ],
         "y": [
          36
         ]
        },
        {
         "hoverinfo": "text",
         "hovertext": [
          "<b>Topic 3</b><br>Words: kalah, sedang, cerdas, alam, tulus",
          "<b>Topic 3</b><br>Words: hatikitaterlanjur, milihsubianto, bukan, kerjanyajelas, jelaspakbowo",
          "<b>Topic 3</b><br>Words: milihsubianto, hatikitaterlanjur, jelaspakbowo, kerjanyajelas, nih"
         ],
         "marker": {
          "color": "#F0E442"
         },
         "mode": "lines",
         "name": "3_milihsubianto_hatikitaterlanjur_jelasp...",
         "type": "scatter",
         "x": [
          "2023-07-13T06:24:12.400000+00:00",
          "2023-09-02T08:01:33.600000+00:00",
          "2023-09-17T08:30:11.600000+00:00"
         ],
         "y": [
          1,
          1,
          29
         ]
        },
        {
         "hoverinfo": "text",
         "hovertext": [
          "<b>Topic 4</b><br>Words: orang, antara, profesional, positif, marketplace",
          "<b>Topic 4</b><br>Words: barangjasa, ada, apa, orang, perintah",
          "<b>Topic 4</b><br>Words: zonasi, jadi, butuh, ppdb, sekolah",
          "<b>Topic 4</b><br>Words: zonasi, indonesia, jadi, enggak, sama",
          "<b>Topic 4</b><br>Words: sekolah, ada, menteri, anak, buat",
          "<b>Topic 4</b><br>Words: anak, sekolah, kipk, orang, tahun",
          "<b>Topic 4</b><br>Words: on, salah, anak, seapd, dindik",
          "<b>Topic 4</b><br>Words: muhadjir, dini, usia, lama, indonesia",
          "<b>Topic 4</b><br>Words: nadiem, zonasi, indonesia, menteri, makarim",
          "<b>Topic 4</b><br>Words: kukar, rpm, jadi, indonesia, enggak",
          "<b>Topic 4</b><br>Words: mutu, jadi, kong, hong, blokir",
          "<b>Topic 4</b><br>Words: gratis, indonesia, jadi, biaya, perintah",
          "<b>Topic 4</b><br>Words: tahun, gera, perintah, indonesia, jadi",
          "<b>Topic 4</b><br>Words: malang, dokter, bidang, jadi, amp",
          "<b>Topic 4</b><br>Words: guru, enggak, indonesia, nasional, bukan",
          "<b>Topic 4</b><br>Words: perintah, jadi, sekolah, profesionalisme, keluarga",
          "<b>Topic 4</b><br>Words: ubah, satu, enggak, ajar, baik",
          "<b>Topic 4</b><br>Words: hasil, jakarta, anies, baswedan, tahun",
          "<b>Topic 4</b><br>Words: bidang, jadi, pak, anies, menteri",
          "<b>Topic 4</b><br>Words: riset, skripsi, kelulus, mahasiswa, jadi",
          "<b>Topic 4</b><br>Words: indonesia, kenal, perintah, buah, masa",
          "<b>Topic 4</b><br>Words: politik, pengaruh, ganjar, guru, paham",
          "<b>Topic 4</b><br>Words: ganjar, anies, guru, jakarta, pak",
          "<b>Topic 4</b><br>Words: anies, pak, ganjar, hidup, jakarta",
          "<b>Topic 4</b><br>Words: enggak, indonesia, menteri, jadi, guru",
          "<b>Topic 4</b><br>Words: guru, jadi, nu, ulama, menteri",
          "<b>Topic 4</b><br>Words: evaluasi, monitoring, elemen, kelola, efektif",
          "<b>Topic 4</b><br>Words: ganjar, tani, siapa, mesti, manusia",
          "<b>Topic 4</b><br>Words: kurikulum, guru, kompeten, fair, anies"
         ],
         "marker": {
          "color": "#D55E00"
         },
         "mode": "lines",
         "name": "4_jadi_indonesia_guru_enggak",
         "type": "scatter",
         "x": [
          "2023-07-01T03:51:31.692000+00:00",
          "2023-07-04T06:07:01.600000+00:00",
          "2023-07-07T06:12:45.200000+00:00",
          "2023-07-10T06:18:28.800000+00:00",
          "2023-07-13T06:24:12.400000+00:00",
          "2023-07-16T06:29:56+00:00",
          "2023-07-22T06:41:23.200000+00:00",
          "2023-07-25T06:47:06.800000+00:00",
          "2023-07-28T06:52:50.400000+00:00",
          "2023-07-31T06:58:34+00:00",
          "2023-08-03T07:04:17.600000+00:00",
          "2023-08-06T07:10:01.200000+00:00",
          "2023-08-09T07:15:44.800000+00:00",
          "2023-08-12T07:21:28.400000+00:00",
          "2023-08-15T07:27:12+00:00",
          "2023-08-18T07:32:55.600000+00:00",
          "2023-08-21T07:38:39.200000+00:00",
          "2023-08-24T07:44:22.800000+00:00",
          "2023-08-27T07:50:06.400000+00:00",
          "2023-08-30T07:55:50+00:00",
          "2023-09-02T08:01:33.600000+00:00",
          "2023-09-05T08:07:17.200000+00:00",
          "2023-09-08T08:13:00.800000+00:00",
          "2023-09-11T08:18:44.400000+00:00",
          "2023-09-14T08:24:28+00:00",
          "2023-09-17T08:30:11.600000+00:00",
          "2023-09-20T08:35:55.200000+00:00",
          "2023-09-23T08:41:38.800000+00:00",
          "2023-09-26T08:47:22.400000+00:00"
         ],
         "y": [
          1,
          12,
          15,
          30,
          19,
          11,
          7,
          22,
          28,
          11,
          11,
          28,
          25,
          13,
          19,
          8,
          23,
          25,
          37,
          22,
          16,
          44,
          30,
          36,
          48,
          25,
          18,
          15,
          26
         ]
        }
       ],
       "layout": {
        "height": 450,
        "hoverlabel": {
         "bgcolor": "white",
         "font": {
          "family": "Rockwell",
          "size": 16
         }
        },
        "legend": {
         "title": {
          "text": "<b>Global Topic Representation"
         }
        },
        "template": {
         "data": {
          "bar": [
           {
            "error_x": {
             "color": "rgb(36,36,36)"
            },
            "error_y": {
             "color": "rgb(36,36,36)"
            },
            "marker": {
             "line": {
              "color": "white",
              "width": 0.5
             },
             "pattern": {
              "fillmode": "overlay",
              "size": 10,
              "solidity": 0.2
             }
            },
            "type": "bar"
           }
          ],
          "barpolar": [
           {
            "marker": {
             "line": {
              "color": "white",
              "width": 0.5
             },
             "pattern": {
              "fillmode": "overlay",
              "size": 10,
              "solidity": 0.2
             }
            },
            "type": "barpolar"
           }
          ],
          "carpet": [
           {
            "aaxis": {
             "endlinecolor": "rgb(36,36,36)",
             "gridcolor": "white",
             "linecolor": "white",
             "minorgridcolor": "white",
             "startlinecolor": "rgb(36,36,36)"
            },
            "baxis": {
             "endlinecolor": "rgb(36,36,36)",
             "gridcolor": "white",
             "linecolor": "white",
             "minorgridcolor": "white",
             "startlinecolor": "rgb(36,36,36)"
            },
            "type": "carpet"
           }
          ],
          "choropleth": [
           {
            "colorbar": {
             "outlinewidth": 1,
             "tickcolor": "rgb(36,36,36)",
             "ticks": "outside"
            },
            "type": "choropleth"
           }
          ],
          "contour": [
           {
            "colorbar": {
             "outlinewidth": 1,
             "tickcolor": "rgb(36,36,36)",
             "ticks": "outside"
            },
            "colorscale": [
             [
              0,
              "#440154"
             ],
             [
              0.1111111111111111,
              "#482878"
             ],
             [
              0.2222222222222222,
              "#3e4989"
             ],
             [
              0.3333333333333333,
              "#31688e"
             ],
             [
              0.4444444444444444,
              "#26828e"
             ],
             [
              0.5555555555555556,
              "#1f9e89"
             ],
             [
              0.6666666666666666,
              "#35b779"
             ],
             [
              0.7777777777777778,
              "#6ece58"
             ],
             [
              0.8888888888888888,
              "#b5de2b"
             ],
             [
              1,
              "#fde725"
             ]
            ],
            "type": "contour"
           }
          ],
          "contourcarpet": [
           {
            "colorbar": {
             "outlinewidth": 1,
             "tickcolor": "rgb(36,36,36)",
             "ticks": "outside"
            },
            "type": "contourcarpet"
           }
          ],
          "heatmap": [
           {
            "colorbar": {
             "outlinewidth": 1,
             "tickcolor": "rgb(36,36,36)",
             "ticks": "outside"
            },
            "colorscale": [
             [
              0,
              "#440154"
             ],
             [
              0.1111111111111111,
              "#482878"
             ],
             [
              0.2222222222222222,
              "#3e4989"
             ],
             [
              0.3333333333333333,
              "#31688e"
             ],
             [
              0.4444444444444444,
              "#26828e"
             ],
             [
              0.5555555555555556,
              "#1f9e89"
             ],
             [
              0.6666666666666666,
              "#35b779"
             ],
             [
              0.7777777777777778,
              "#6ece58"
             ],
             [
              0.8888888888888888,
              "#b5de2b"
             ],
             [
              1,
              "#fde725"
             ]
            ],
            "type": "heatmap"
           }
          ],
          "heatmapgl": [
           {
            "colorbar": {
             "outlinewidth": 1,
             "tickcolor": "rgb(36,36,36)",
             "ticks": "outside"
            },
            "colorscale": [
             [
              0,
              "#440154"
             ],
             [
              0.1111111111111111,
              "#482878"
             ],
             [
              0.2222222222222222,
              "#3e4989"
             ],
             [
              0.3333333333333333,
              "#31688e"
             ],
             [
              0.4444444444444444,
              "#26828e"
             ],
             [
              0.5555555555555556,
              "#1f9e89"
             ],
             [
              0.6666666666666666,
              "#35b779"
             ],
             [
              0.7777777777777778,
              "#6ece58"
             ],
             [
              0.8888888888888888,
              "#b5de2b"
             ],
             [
              1,
              "#fde725"
             ]
            ],
            "type": "heatmapgl"
           }
          ],
          "histogram": [
           {
            "marker": {
             "line": {
              "color": "white",
              "width": 0.6
             }
            },
            "type": "histogram"
           }
          ],
          "histogram2d": [
           {
            "colorbar": {
             "outlinewidth": 1,
             "tickcolor": "rgb(36,36,36)",
             "ticks": "outside"
            },
            "colorscale": [
             [
              0,
              "#440154"
             ],
             [
              0.1111111111111111,
              "#482878"
             ],
             [
              0.2222222222222222,
              "#3e4989"
             ],
             [
              0.3333333333333333,
              "#31688e"
             ],
             [
              0.4444444444444444,
              "#26828e"
             ],
             [
              0.5555555555555556,
              "#1f9e89"
             ],
             [
              0.6666666666666666,
              "#35b779"
             ],
             [
              0.7777777777777778,
              "#6ece58"
             ],
             [
              0.8888888888888888,
              "#b5de2b"
             ],
             [
              1,
              "#fde725"
             ]
            ],
            "type": "histogram2d"
           }
          ],
          "histogram2dcontour": [
           {
            "colorbar": {
             "outlinewidth": 1,
             "tickcolor": "rgb(36,36,36)",
             "ticks": "outside"
            },
            "colorscale": [
             [
              0,
              "#440154"
             ],
             [
              0.1111111111111111,
              "#482878"
             ],
             [
              0.2222222222222222,
              "#3e4989"
             ],
             [
              0.3333333333333333,
              "#31688e"
             ],
             [
              0.4444444444444444,
              "#26828e"
             ],
             [
              0.5555555555555556,
              "#1f9e89"
             ],
             [
              0.6666666666666666,
              "#35b779"
             ],
             [
              0.7777777777777778,
              "#6ece58"
             ],
             [
              0.8888888888888888,
              "#b5de2b"
             ],
             [
              1,
              "#fde725"
             ]
            ],
            "type": "histogram2dcontour"
           }
          ],
          "mesh3d": [
           {
            "colorbar": {
             "outlinewidth": 1,
             "tickcolor": "rgb(36,36,36)",
             "ticks": "outside"
            },
            "type": "mesh3d"
           }
          ],
          "parcoords": [
           {
            "line": {
             "colorbar": {
              "outlinewidth": 1,
              "tickcolor": "rgb(36,36,36)",
              "ticks": "outside"
             }
            },
            "type": "parcoords"
           }
          ],
          "pie": [
           {
            "automargin": true,
            "type": "pie"
           }
          ],
          "scatter": [
           {
            "fillpattern": {
             "fillmode": "overlay",
             "size": 10,
             "solidity": 0.2
            },
            "type": "scatter"
           }
          ],
          "scatter3d": [
           {
            "line": {
             "colorbar": {
              "outlinewidth": 1,
              "tickcolor": "rgb(36,36,36)",
              "ticks": "outside"
             }
            },
            "marker": {
             "colorbar": {
              "outlinewidth": 1,
              "tickcolor": "rgb(36,36,36)",
              "ticks": "outside"
             }
            },
            "type": "scatter3d"
           }
          ],
          "scattercarpet": [
           {
            "marker": {
             "colorbar": {
              "outlinewidth": 1,
              "tickcolor": "rgb(36,36,36)",
              "ticks": "outside"
             }
            },
            "type": "scattercarpet"
           }
          ],
          "scattergeo": [
           {
            "marker": {
             "colorbar": {
              "outlinewidth": 1,
              "tickcolor": "rgb(36,36,36)",
              "ticks": "outside"
             }
            },
            "type": "scattergeo"
           }
          ],
          "scattergl": [
           {
            "marker": {
             "colorbar": {
              "outlinewidth": 1,
              "tickcolor": "rgb(36,36,36)",
              "ticks": "outside"
             }
            },
            "type": "scattergl"
           }
          ],
          "scattermapbox": [
           {
            "marker": {
             "colorbar": {
              "outlinewidth": 1,
              "tickcolor": "rgb(36,36,36)",
              "ticks": "outside"
             }
            },
            "type": "scattermapbox"
           }
          ],
          "scatterpolar": [
           {
            "marker": {
             "colorbar": {
              "outlinewidth": 1,
              "tickcolor": "rgb(36,36,36)",
              "ticks": "outside"
             }
            },
            "type": "scatterpolar"
           }
          ],
          "scatterpolargl": [
           {
            "marker": {
             "colorbar": {
              "outlinewidth": 1,
              "tickcolor": "rgb(36,36,36)",
              "ticks": "outside"
             }
            },
            "type": "scatterpolargl"
           }
          ],
          "scatterternary": [
           {
            "marker": {
             "colorbar": {
              "outlinewidth": 1,
              "tickcolor": "rgb(36,36,36)",
              "ticks": "outside"
             }
            },
            "type": "scatterternary"
           }
          ],
          "surface": [
           {
            "colorbar": {
             "outlinewidth": 1,
             "tickcolor": "rgb(36,36,36)",
             "ticks": "outside"
            },
            "colorscale": [
             [
              0,
              "#440154"
             ],
             [
              0.1111111111111111,
              "#482878"
             ],
             [
              0.2222222222222222,
              "#3e4989"
             ],
             [
              0.3333333333333333,
              "#31688e"
             ],
             [
              0.4444444444444444,
              "#26828e"
             ],
             [
              0.5555555555555556,
              "#1f9e89"
             ],
             [
              0.6666666666666666,
              "#35b779"
             ],
             [
              0.7777777777777778,
              "#6ece58"
             ],
             [
              0.8888888888888888,
              "#b5de2b"
             ],
             [
              1,
              "#fde725"
             ]
            ],
            "type": "surface"
           }
          ],
          "table": [
           {
            "cells": {
             "fill": {
              "color": "rgb(237,237,237)"
             },
             "line": {
              "color": "white"
             }
            },
            "header": {
             "fill": {
              "color": "rgb(217,217,217)"
             },
             "line": {
              "color": "white"
             }
            },
            "type": "table"
           }
          ]
         },
         "layout": {
          "annotationdefaults": {
           "arrowhead": 0,
           "arrowwidth": 1
          },
          "autotypenumbers": "strict",
          "coloraxis": {
           "colorbar": {
            "outlinewidth": 1,
            "tickcolor": "rgb(36,36,36)",
            "ticks": "outside"
           }
          },
          "colorscale": {
           "diverging": [
            [
             0,
             "rgb(103,0,31)"
            ],
            [
             0.1,
             "rgb(178,24,43)"
            ],
            [
             0.2,
             "rgb(214,96,77)"
            ],
            [
             0.3,
             "rgb(244,165,130)"
            ],
            [
             0.4,
             "rgb(253,219,199)"
            ],
            [
             0.5,
             "rgb(247,247,247)"
            ],
            [
             0.6,
             "rgb(209,229,240)"
            ],
            [
             0.7,
             "rgb(146,197,222)"
            ],
            [
             0.8,
             "rgb(67,147,195)"
            ],
            [
             0.9,
             "rgb(33,102,172)"
            ],
            [
             1,
             "rgb(5,48,97)"
            ]
           ],
           "sequential": [
            [
             0,
             "#440154"
            ],
            [
             0.1111111111111111,
             "#482878"
            ],
            [
             0.2222222222222222,
             "#3e4989"
            ],
            [
             0.3333333333333333,
             "#31688e"
            ],
            [
             0.4444444444444444,
             "#26828e"
            ],
            [
             0.5555555555555556,
             "#1f9e89"
            ],
            [
             0.6666666666666666,
             "#35b779"
            ],
            [
             0.7777777777777778,
             "#6ece58"
            ],
            [
             0.8888888888888888,
             "#b5de2b"
            ],
            [
             1,
             "#fde725"
            ]
           ],
           "sequentialminus": [
            [
             0,
             "#440154"
            ],
            [
             0.1111111111111111,
             "#482878"
            ],
            [
             0.2222222222222222,
             "#3e4989"
            ],
            [
             0.3333333333333333,
             "#31688e"
            ],
            [
             0.4444444444444444,
             "#26828e"
            ],
            [
             0.5555555555555556,
             "#1f9e89"
            ],
            [
             0.6666666666666666,
             "#35b779"
            ],
            [
             0.7777777777777778,
             "#6ece58"
            ],
            [
             0.8888888888888888,
             "#b5de2b"
            ],
            [
             1,
             "#fde725"
            ]
           ]
          },
          "colorway": [
           "#1F77B4",
           "#FF7F0E",
           "#2CA02C",
           "#D62728",
           "#9467BD",
           "#8C564B",
           "#E377C2",
           "#7F7F7F",
           "#BCBD22",
           "#17BECF"
          ],
          "font": {
           "color": "rgb(36,36,36)"
          },
          "geo": {
           "bgcolor": "white",
           "lakecolor": "white",
           "landcolor": "white",
           "showlakes": true,
           "showland": true,
           "subunitcolor": "white"
          },
          "hoverlabel": {
           "align": "left"
          },
          "hovermode": "closest",
          "mapbox": {
           "style": "light"
          },
          "paper_bgcolor": "white",
          "plot_bgcolor": "white",
          "polar": {
           "angularaxis": {
            "gridcolor": "rgb(232,232,232)",
            "linecolor": "rgb(36,36,36)",
            "showgrid": false,
            "showline": true,
            "ticks": "outside"
           },
           "bgcolor": "white",
           "radialaxis": {
            "gridcolor": "rgb(232,232,232)",
            "linecolor": "rgb(36,36,36)",
            "showgrid": false,
            "showline": true,
            "ticks": "outside"
           }
          },
          "scene": {
           "xaxis": {
            "backgroundcolor": "white",
            "gridcolor": "rgb(232,232,232)",
            "gridwidth": 2,
            "linecolor": "rgb(36,36,36)",
            "showbackground": true,
            "showgrid": false,
            "showline": true,
            "ticks": "outside",
            "zeroline": false,
            "zerolinecolor": "rgb(36,36,36)"
           },
           "yaxis": {
            "backgroundcolor": "white",
            "gridcolor": "rgb(232,232,232)",
            "gridwidth": 2,
            "linecolor": "rgb(36,36,36)",
            "showbackground": true,
            "showgrid": false,
            "showline": true,
            "ticks": "outside",
            "zeroline": false,
            "zerolinecolor": "rgb(36,36,36)"
           },
           "zaxis": {
            "backgroundcolor": "white",
            "gridcolor": "rgb(232,232,232)",
            "gridwidth": 2,
            "linecolor": "rgb(36,36,36)",
            "showbackground": true,
            "showgrid": false,
            "showline": true,
            "ticks": "outside",
            "zeroline": false,
            "zerolinecolor": "rgb(36,36,36)"
           }
          },
          "shapedefaults": {
           "fillcolor": "black",
           "line": {
            "width": 0
           },
           "opacity": 0.3
          },
          "ternary": {
           "aaxis": {
            "gridcolor": "rgb(232,232,232)",
            "linecolor": "rgb(36,36,36)",
            "showgrid": false,
            "showline": true,
            "ticks": "outside"
           },
           "baxis": {
            "gridcolor": "rgb(232,232,232)",
            "linecolor": "rgb(36,36,36)",
            "showgrid": false,
            "showline": true,
            "ticks": "outside"
           },
           "bgcolor": "white",
           "caxis": {
            "gridcolor": "rgb(232,232,232)",
            "linecolor": "rgb(36,36,36)",
            "showgrid": false,
            "showline": true,
            "ticks": "outside"
           }
          },
          "title": {
           "x": 0.05
          },
          "xaxis": {
           "automargin": true,
           "gridcolor": "rgb(232,232,232)",
           "linecolor": "rgb(36,36,36)",
           "showgrid": false,
           "showline": true,
           "ticks": "outside",
           "title": {
            "standoff": 15
           },
           "zeroline": false,
           "zerolinecolor": "rgb(36,36,36)"
          },
          "yaxis": {
           "automargin": true,
           "gridcolor": "rgb(232,232,232)",
           "linecolor": "rgb(36,36,36)",
           "showgrid": false,
           "showline": true,
           "ticks": "outside",
           "title": {
            "standoff": 15
           },
           "zeroline": false,
           "zerolinecolor": "rgb(36,36,36)"
          }
         }
        },
        "title": {
         "font": {
          "color": "Black",
          "size": 22
         },
         "text": "Topics Over Time for 2023Q3",
         "x": 0.4,
         "xanchor": "center",
         "y": 0.95,
         "yanchor": "top"
        },
        "width": 1250,
        "xaxis": {
         "showgrid": true
        },
        "yaxis": {
         "showgrid": true,
         "title": {
          "text": "Frequency"
         }
        }
       }
      }
     },
     "metadata": {},
     "output_type": "display_data"
    },
    {
     "data": {
      "application/vnd.plotly.v1+json": {
       "config": {
        "plotlyServerURL": "https://plot.ly"
       },
       "data": [
        {
         "hoverinfo": "text",
         "hovertext": [
          "<b>Topic 0</b><br>Words: daring, ajar, masa, libur, pandemi",
          "<b>Topic 0</b><br>Words: beasiswa, ganjar, presiden, upaya, langkah",
          "<b>Topic 0</b><br>Words: ganjar, presiden, pak, pranowo, ubah",
          "<b>Topic 0</b><br>Words: ganjar, presiden, siap, pesantren, inklusif",
          "<b>Topic 0</b><br>Words: ganjar, presiden, ganjarmahfud, gama, gaspoll",
          "<b>Topic 0</b><br>Words: ganjar, presiden, masha, allah, optimalisasi",
          "<b>Topic 0</b><br>Words: aji, spiritual, pilar, wujud, pionir",
          "<b>Topic 0</b><br>Words: ganjar, pranowo, mahfud, presiden, md",
          "<b>Topic 0</b><br>Words: ganjar, set, sat, top, ganjarmahfud",
          "<b>Topic 0</b><br>Words: ganjar, programganjarmahfud, mahfud, agama, inklusif",
          "<b>Topic 0</b><br>Words: ganjar, mahfud, ganjarmahfud, md, pranowo"
         ],
         "marker": {
          "color": "#E69F00"
         },
         "mode": "lines",
         "name": "0_ganjar_presiden_mahfud_pranowo",
         "type": "scatter",
         "x": [
          "2023-09-30T22:07:50.763000+00:00",
          "2023-10-04T01:03:21.566666+00:00",
          "2023-10-10T02:32:30.700000+00:00",
          "2023-10-16T04:01:39.833333+00:00",
          "2023-10-22T05:30:48.966666+00:00",
          "2023-10-25T06:15:23.533333+00:00",
          "2023-11-27T14:25:43.766666+00:00",
          "2023-12-18T19:37:45.733333+00:00",
          "2023-12-21T20:22:20.300000+00:00",
          "2023-12-24T21:06:54.866666+00:00",
          "2023-12-27T21:51:29.433333+00:00"
         ],
         "y": [
          3,
          6,
          40,
          16,
          5,
          2,
          4,
          29,
          15,
          40,
          43
         ]
        },
        {
         "hoverinfo": "text",
         "hovertext": [
          "<b>Topic 1</b><br>Words: visisubianto, kinerjapakbowo, jatuhhati, nkrisejahtera, bapak",
          "<b>Topic 1</b><br>Words: visisubianto, semakindekat, semakinpakbowo, jelasarahnya, bapak",
          "<b>Topic 1</b><br>Words: jalar, buat, belakang, latar, paham",
          "<b>Topic 1</b><br>Words: franka, nadiem, franklinkarena, makarim, sera",
          "<b>Topic 1</b><br>Words: misi, visisubianto, lanjut, bapak, prabowo",
          "<b>Topic 1</b><br>Words: kuasa, pegang, pedang, jenderal, pendidikanjuga",
          "<b>Topic 1</b><br>Words: politik, golput, tenang, ikan, laut",
          "<b>Topic 1</b><br>Words: jokowi, pilih, langsung, visisubianto, menhan"
         ],
         "marker": {
          "color": "#56B4E9"
         },
         "mode": "lines",
         "name": "1_visisubianto_bapak_prabowo_semakinpakb...",
         "type": "scatter",
         "x": [
          "2023-10-04T01:03:21.566666+00:00",
          "2023-10-10T02:32:30.700000+00:00",
          "2023-10-16T04:01:39.833333+00:00",
          "2023-10-25T06:15:23.533333+00:00",
          "2023-10-28T06:59:58.100000+00:00",
          "2023-12-21T20:22:20.300000+00:00",
          "2023-12-24T21:06:54.866666+00:00",
          "2023-12-27T21:51:29.433333+00:00"
         ],
         "y": [
          51,
          112,
          1,
          1,
          2,
          1,
          1,
          2
         ]
        },
        {
         "hoverinfo": "text",
         "hovertext": [
          "<b>Topic 2</b><br>Words: siahaan, marcell, usul, kecil, jangkau",
          "<b>Topic 2</b><br>Words: gpmmd, sabang, merauke, ganjarmahfud, tahun",
          "<b>Topic 2</b><br>Words: integral, pemuda, bagi, suara, jadi"
         ],
         "marker": {
          "color": "#009E73"
         },
         "mode": "lines",
         "name": "2_gpmmd_sabang_merauke_ganjarmahfud",
         "type": "scatter",
         "x": [
          "2023-09-30T22:07:50.763000+00:00",
          "2023-11-27T14:25:43.766666+00:00",
          "2023-12-27T21:51:29.433333+00:00"
         ],
         "y": [
          1,
          137,
          5
         ]
        },
        {
         "hoverinfo": "text",
         "hovertext": [
          "<b>Topic 3</b><br>Words: tinggi, selenggara, spm, unud, spmi",
          "<b>Topic 3</b><br>Words: donasi, gembruduk, adikadik, senyum, bapakibu",
          "<b>Topic 3</b><br>Words: ayahbowo, masgibran, semangat, nih, baik",
          "<b>Topic 3</b><br>Words: pragibs, pabowogiban, revolusi, hati, tonggak",
          "<b>Topic 3</b><br>Words: untukindonesia, prabowogibran, tahan, usung, inovasi"
         ],
         "marker": {
          "color": "#F0E442"
         },
         "mode": "lines",
         "name": "3_ayahbowo_masgibran_semangat_nih",
         "type": "scatter",
         "x": [
          "2023-10-13T03:17:05.266666+00:00",
          "2023-10-16T04:01:39.833333+00:00",
          "2023-10-25T06:15:23.533333+00:00",
          "2023-11-27T14:25:43.766666+00:00",
          "2023-12-15T18:53:11.166666+00:00"
         ],
         "y": [
          1,
          1,
          123,
          1,
          2
         ]
        },
        {
         "hoverinfo": "text",
         "hovertext": [
          "<b>Topic 4</b><br>Words: enggak, mau, keras, ambil, satu",
          "<b>Topic 4</b><br>Words: uang, enggak, sebut, aku, siswi",
          "<b>Topic 4</b><br>Words: kek, aku, kota, dinas, enggak",
          "<b>Topic 4</b><br>Words: enggak, kok, ora, kampus, kpu",
          "<b>Topic 4</b><br>Words: enggak, memang, kalo, aset, mau",
          "<b>Topic 4</b><br>Words: lu, kalo, enggak, atur, aku",
          "<b>Topic 4</b><br>Words: negara, miskin, rendah, fair, strutural",
          "<b>Topic 4</b><br>Words: pangandaran, damping, bbpmp, barat, ajar",
          "<b>Topic 4</b><br>Words: ikut, finland, jepang, mau, menteri",
          "<b>Topic 4</b><br>Words: cuma, skor, enggak, un, iq",
          "<b>Topic 4</b><br>Words: erti, guru, sekarang, gue, anjeng",
          "<b>Topic 4</b><br>Words: hukum, joki, tugas, diy, akreditasi",
          "<b>Topic 4</b><br>Words: bu, irsyad, mbak, pak, ngobrol",
          "<b>Topic 4</b><br>Words: enggak, rata, kresek, tas, indonesianaik",
          "<b>Topic 4</b><br>Words: sama, smkn, kuliah, dana, jateng",
          "<b>Topic 4</b><br>Words: guru, minimal, bahkan, gua, gaji",
          "<b>Topic 4</b><br>Words: cari, tinggi, kerja, poverty, sepenuh"
         ],
         "marker": {
          "color": "#D55E00"
         },
         "mode": "lines",
         "name": "4_enggak_mau_guru_kayak",
         "type": "scatter",
         "x": [
          "2023-09-30T22:07:50.763000+00:00",
          "2023-10-04T01:03:21.566666+00:00",
          "2023-10-07T01:47:56.133333+00:00",
          "2023-10-10T02:32:30.700000+00:00",
          "2023-10-13T03:17:05.266666+00:00",
          "2023-10-16T04:01:39.833333+00:00",
          "2023-10-19T04:46:14.400000+00:00",
          "2023-10-22T05:30:48.966666+00:00",
          "2023-10-25T06:15:23.533333+00:00",
          "2023-10-28T06:59:58.100000+00:00",
          "2023-11-24T13:41:09.200000+00:00",
          "2023-11-27T14:25:43.766666+00:00",
          "2023-12-15T18:53:11.166666+00:00",
          "2023-12-18T19:37:45.733333+00:00",
          "2023-12-21T20:22:20.300000+00:00",
          "2023-12-24T21:06:54.866666+00:00",
          "2023-12-27T21:51:29.433333+00:00"
         ],
         "y": [
          9,
          7,
          6,
          5,
          6,
          2,
          2,
          4,
          4,
          3,
          2,
          6,
          1,
          2,
          3,
          3,
          6
         ]
        },
        {
         "hoverinfo": "text",
         "hovertext": [
          "<b>Topic 5</b><br>Words: berani, anies, salut, mantep, indonesia",
          "<b>Topic 5</b><br>Words: mampu, mantep, anies, upaya, amin",
          "<b>Topic 5</b><br>Words: anies, pantas, kompeten, bongkar, buruk",
          "<b>Topic 5</b><br>Words: anies, abdi, gebrak, tolak, kelulus",
          "<b>Topic 5</b><br>Words: anies, rombak, rian, beberapa, hasil",
          "<b>Topic 5</b><br>Words: anies, hasil, baswedan, rombak, beberapa",
          "<b>Topic 5</b><br>Words: pecah, anies, tentu, terampil, tahu",
          "<b>Topic 5</b><br>Words: untukprabowo, katamereka, dukung, prabowo, anies",
          "<b>Topic 5</b><br>Words: keren, banget, banyak, langkah, dunia",
          "<b>Topic 5</b><br>Words: anies, dimatadunia, prestasiprabowo, baswedan, proaktif",
          "<b>Topic 5</b><br>Words: kondisi, sorot, jumlah, anies, giat"
         ],
         "marker": {
          "color": "#0072B2"
         },
         "mode": "lines",
         "name": "5_anies_untukprabowo_katamereka_hasil",
         "type": "scatter",
         "x": [
          "2023-10-04T01:03:21.566666+00:00",
          "2023-10-07T01:47:56.133333+00:00",
          "2023-10-10T02:32:30.700000+00:00",
          "2023-10-19T04:46:14.400000+00:00",
          "2023-10-22T05:30:48.966666+00:00",
          "2023-10-25T06:15:23.533333+00:00",
          "2023-10-28T06:59:58.100000+00:00",
          "2023-12-18T19:37:45.733333+00:00",
          "2023-12-21T20:22:20.300000+00:00",
          "2023-12-24T21:06:54.866666+00:00",
          "2023-12-27T21:51:29.433333+00:00"
         ],
         "y": [
          2,
          1,
          2,
          1,
          6,
          7,
          3,
          12,
          1,
          2,
          1
         ]
        },
        {
         "hoverinfo": "text",
         "hovertext": [
          "<b>Topic 6</b><br>Words: baik, bapak, prabowo, nih, standar"
         ],
         "marker": {
          "color": "#CC79A7"
         },
         "mode": "lines",
         "name": "6_baik_bapak_prabowo_nih",
         "type": "scatter",
         "x": [
          "2023-10-10T02:32:30.700000+00:00"
         ],
         "y": [
          38
         ]
        },
        {
         "hoverinfo": "text",
         "hovertext": [
          "<b>Topic 7</b><br>Words: kompetensi, bedah, fkkmk, implikasi, dokter",
          "<b>Topic 7</b><br>Words: sehat, perilaku, berjejaring, organisasi, mitra",
          "<b>Topic 7</b><br>Words: inovasi, identifikasi, australia, mitra, praktik",
          "<b>Topic 7</b><br>Words: warga, ekonomi, sehat, keaamanan, seharihari",
          "<b>Topic 7</b><br>Words: kampanye, gagas, partai, pks, akses",
          "<b>Topic 7</b><br>Words: tingkat, pks, advokasi, perempuan, dukung",
          "<b>Topic 7</b><br>Words: industri, latih, baharu, kombinasi, advokasi",
          "<b>Topic 7</b><br>Words: pks, tingkat, peran, bahas, juang"
         ],
         "marker": {
          "color": "#E69F00"
         },
         "mode": "lines",
         "name": "7_pks_tingkat_sehat_ekonomi",
         "type": "scatter",
         "x": [
          "2023-10-10T02:32:30.700000+00:00",
          "2023-10-13T03:17:05.266666+00:00",
          "2023-10-25T06:15:23.533333+00:00",
          "2023-10-28T06:59:58.100000+00:00",
          "2023-11-24T13:41:09.200000+00:00",
          "2023-12-18T19:37:45.733333+00:00",
          "2023-12-21T20:22:20.300000+00:00",
          "2023-12-27T21:51:29.433333+00:00"
         ],
         "y": [
          1,
          1,
          1,
          4,
          1,
          5,
          2,
          10
         ]
        },
        {
         "hoverinfo": "text",
         "hovertext": [
          "<b>Topic 8</b><br>Words: bidang, boarding, smkn, laku, gagas",
          "<b>Topic 8</b><br>Words: internet, cepat, gratis, wilayah, super",
          "<b>Topic 8</b><br>Words: pilih, amin, negeri, rata, seluruh"
         ],
         "marker": {
          "color": "#56B4E9"
         },
         "mode": "lines",
         "name": "8_internet_cepat_gratis_wilayah",
         "type": "scatter",
         "x": [
          "2023-10-04T01:03:21.566666+00:00",
          "2023-12-21T20:22:20.300000+00:00",
          "2023-12-27T21:51:29.433333+00:00"
         ],
         "y": [
          1,
          14,
          1
         ]
        }
       ],
       "layout": {
        "height": 450,
        "hoverlabel": {
         "bgcolor": "white",
         "font": {
          "family": "Rockwell",
          "size": 16
         }
        },
        "legend": {
         "title": {
          "text": "<b>Global Topic Representation"
         }
        },
        "template": {
         "data": {
          "bar": [
           {
            "error_x": {
             "color": "rgb(36,36,36)"
            },
            "error_y": {
             "color": "rgb(36,36,36)"
            },
            "marker": {
             "line": {
              "color": "white",
              "width": 0.5
             },
             "pattern": {
              "fillmode": "overlay",
              "size": 10,
              "solidity": 0.2
             }
            },
            "type": "bar"
           }
          ],
          "barpolar": [
           {
            "marker": {
             "line": {
              "color": "white",
              "width": 0.5
             },
             "pattern": {
              "fillmode": "overlay",
              "size": 10,
              "solidity": 0.2
             }
            },
            "type": "barpolar"
           }
          ],
          "carpet": [
           {
            "aaxis": {
             "endlinecolor": "rgb(36,36,36)",
             "gridcolor": "white",
             "linecolor": "white",
             "minorgridcolor": "white",
             "startlinecolor": "rgb(36,36,36)"
            },
            "baxis": {
             "endlinecolor": "rgb(36,36,36)",
             "gridcolor": "white",
             "linecolor": "white",
             "minorgridcolor": "white",
             "startlinecolor": "rgb(36,36,36)"
            },
            "type": "carpet"
           }
          ],
          "choropleth": [
           {
            "colorbar": {
             "outlinewidth": 1,
             "tickcolor": "rgb(36,36,36)",
             "ticks": "outside"
            },
            "type": "choropleth"
           }
          ],
          "contour": [
           {
            "colorbar": {
             "outlinewidth": 1,
             "tickcolor": "rgb(36,36,36)",
             "ticks": "outside"
            },
            "colorscale": [
             [
              0,
              "#440154"
             ],
             [
              0.1111111111111111,
              "#482878"
             ],
             [
              0.2222222222222222,
              "#3e4989"
             ],
             [
              0.3333333333333333,
              "#31688e"
             ],
             [
              0.4444444444444444,
              "#26828e"
             ],
             [
              0.5555555555555556,
              "#1f9e89"
             ],
             [
              0.6666666666666666,
              "#35b779"
             ],
             [
              0.7777777777777778,
              "#6ece58"
             ],
             [
              0.8888888888888888,
              "#b5de2b"
             ],
             [
              1,
              "#fde725"
             ]
            ],
            "type": "contour"
           }
          ],
          "contourcarpet": [
           {
            "colorbar": {
             "outlinewidth": 1,
             "tickcolor": "rgb(36,36,36)",
             "ticks": "outside"
            },
            "type": "contourcarpet"
           }
          ],
          "heatmap": [
           {
            "colorbar": {
             "outlinewidth": 1,
             "tickcolor": "rgb(36,36,36)",
             "ticks": "outside"
            },
            "colorscale": [
             [
              0,
              "#440154"
             ],
             [
              0.1111111111111111,
              "#482878"
             ],
             [
              0.2222222222222222,
              "#3e4989"
             ],
             [
              0.3333333333333333,
              "#31688e"
             ],
             [
              0.4444444444444444,
              "#26828e"
             ],
             [
              0.5555555555555556,
              "#1f9e89"
             ],
             [
              0.6666666666666666,
              "#35b779"
             ],
             [
              0.7777777777777778,
              "#6ece58"
             ],
             [
              0.8888888888888888,
              "#b5de2b"
             ],
             [
              1,
              "#fde725"
             ]
            ],
            "type": "heatmap"
           }
          ],
          "heatmapgl": [
           {
            "colorbar": {
             "outlinewidth": 1,
             "tickcolor": "rgb(36,36,36)",
             "ticks": "outside"
            },
            "colorscale": [
             [
              0,
              "#440154"
             ],
             [
              0.1111111111111111,
              "#482878"
             ],
             [
              0.2222222222222222,
              "#3e4989"
             ],
             [
              0.3333333333333333,
              "#31688e"
             ],
             [
              0.4444444444444444,
              "#26828e"
             ],
             [
              0.5555555555555556,
              "#1f9e89"
             ],
             [
              0.6666666666666666,
              "#35b779"
             ],
             [
              0.7777777777777778,
              "#6ece58"
             ],
             [
              0.8888888888888888,
              "#b5de2b"
             ],
             [
              1,
              "#fde725"
             ]
            ],
            "type": "heatmapgl"
           }
          ],
          "histogram": [
           {
            "marker": {
             "line": {
              "color": "white",
              "width": 0.6
             }
            },
            "type": "histogram"
           }
          ],
          "histogram2d": [
           {
            "colorbar": {
             "outlinewidth": 1,
             "tickcolor": "rgb(36,36,36)",
             "ticks": "outside"
            },
            "colorscale": [
             [
              0,
              "#440154"
             ],
             [
              0.1111111111111111,
              "#482878"
             ],
             [
              0.2222222222222222,
              "#3e4989"
             ],
             [
              0.3333333333333333,
              "#31688e"
             ],
             [
              0.4444444444444444,
              "#26828e"
             ],
             [
              0.5555555555555556,
              "#1f9e89"
             ],
             [
              0.6666666666666666,
              "#35b779"
             ],
             [
              0.7777777777777778,
              "#6ece58"
             ],
             [
              0.8888888888888888,
              "#b5de2b"
             ],
             [
              1,
              "#fde725"
             ]
            ],
            "type": "histogram2d"
           }
          ],
          "histogram2dcontour": [
           {
            "colorbar": {
             "outlinewidth": 1,
             "tickcolor": "rgb(36,36,36)",
             "ticks": "outside"
            },
            "colorscale": [
             [
              0,
              "#440154"
             ],
             [
              0.1111111111111111,
              "#482878"
             ],
             [
              0.2222222222222222,
              "#3e4989"
             ],
             [
              0.3333333333333333,
              "#31688e"
             ],
             [
              0.4444444444444444,
              "#26828e"
             ],
             [
              0.5555555555555556,
              "#1f9e89"
             ],
             [
              0.6666666666666666,
              "#35b779"
             ],
             [
              0.7777777777777778,
              "#6ece58"
             ],
             [
              0.8888888888888888,
              "#b5de2b"
             ],
             [
              1,
              "#fde725"
             ]
            ],
            "type": "histogram2dcontour"
           }
          ],
          "mesh3d": [
           {
            "colorbar": {
             "outlinewidth": 1,
             "tickcolor": "rgb(36,36,36)",
             "ticks": "outside"
            },
            "type": "mesh3d"
           }
          ],
          "parcoords": [
           {
            "line": {
             "colorbar": {
              "outlinewidth": 1,
              "tickcolor": "rgb(36,36,36)",
              "ticks": "outside"
             }
            },
            "type": "parcoords"
           }
          ],
          "pie": [
           {
            "automargin": true,
            "type": "pie"
           }
          ],
          "scatter": [
           {
            "fillpattern": {
             "fillmode": "overlay",
             "size": 10,
             "solidity": 0.2
            },
            "type": "scatter"
           }
          ],
          "scatter3d": [
           {
            "line": {
             "colorbar": {
              "outlinewidth": 1,
              "tickcolor": "rgb(36,36,36)",
              "ticks": "outside"
             }
            },
            "marker": {
             "colorbar": {
              "outlinewidth": 1,
              "tickcolor": "rgb(36,36,36)",
              "ticks": "outside"
             }
            },
            "type": "scatter3d"
           }
          ],
          "scattercarpet": [
           {
            "marker": {
             "colorbar": {
              "outlinewidth": 1,
              "tickcolor": "rgb(36,36,36)",
              "ticks": "outside"
             }
            },
            "type": "scattercarpet"
           }
          ],
          "scattergeo": [
           {
            "marker": {
             "colorbar": {
              "outlinewidth": 1,
              "tickcolor": "rgb(36,36,36)",
              "ticks": "outside"
             }
            },
            "type": "scattergeo"
           }
          ],
          "scattergl": [
           {
            "marker": {
             "colorbar": {
              "outlinewidth": 1,
              "tickcolor": "rgb(36,36,36)",
              "ticks": "outside"
             }
            },
            "type": "scattergl"
           }
          ],
          "scattermapbox": [
           {
            "marker": {
             "colorbar": {
              "outlinewidth": 1,
              "tickcolor": "rgb(36,36,36)",
              "ticks": "outside"
             }
            },
            "type": "scattermapbox"
           }
          ],
          "scatterpolar": [
           {
            "marker": {
             "colorbar": {
              "outlinewidth": 1,
              "tickcolor": "rgb(36,36,36)",
              "ticks": "outside"
             }
            },
            "type": "scatterpolar"
           }
          ],
          "scatterpolargl": [
           {
            "marker": {
             "colorbar": {
              "outlinewidth": 1,
              "tickcolor": "rgb(36,36,36)",
              "ticks": "outside"
             }
            },
            "type": "scatterpolargl"
           }
          ],
          "scatterternary": [
           {
            "marker": {
             "colorbar": {
              "outlinewidth": 1,
              "tickcolor": "rgb(36,36,36)",
              "ticks": "outside"
             }
            },
            "type": "scatterternary"
           }
          ],
          "surface": [
           {
            "colorbar": {
             "outlinewidth": 1,
             "tickcolor": "rgb(36,36,36)",
             "ticks": "outside"
            },
            "colorscale": [
             [
              0,
              "#440154"
             ],
             [
              0.1111111111111111,
              "#482878"
             ],
             [
              0.2222222222222222,
              "#3e4989"
             ],
             [
              0.3333333333333333,
              "#31688e"
             ],
             [
              0.4444444444444444,
              "#26828e"
             ],
             [
              0.5555555555555556,
              "#1f9e89"
             ],
             [
              0.6666666666666666,
              "#35b779"
             ],
             [
              0.7777777777777778,
              "#6ece58"
             ],
             [
              0.8888888888888888,
              "#b5de2b"
             ],
             [
              1,
              "#fde725"
             ]
            ],
            "type": "surface"
           }
          ],
          "table": [
           {
            "cells": {
             "fill": {
              "color": "rgb(237,237,237)"
             },
             "line": {
              "color": "white"
             }
            },
            "header": {
             "fill": {
              "color": "rgb(217,217,217)"
             },
             "line": {
              "color": "white"
             }
            },
            "type": "table"
           }
          ]
         },
         "layout": {
          "annotationdefaults": {
           "arrowhead": 0,
           "arrowwidth": 1
          },
          "autotypenumbers": "strict",
          "coloraxis": {
           "colorbar": {
            "outlinewidth": 1,
            "tickcolor": "rgb(36,36,36)",
            "ticks": "outside"
           }
          },
          "colorscale": {
           "diverging": [
            [
             0,
             "rgb(103,0,31)"
            ],
            [
             0.1,
             "rgb(178,24,43)"
            ],
            [
             0.2,
             "rgb(214,96,77)"
            ],
            [
             0.3,
             "rgb(244,165,130)"
            ],
            [
             0.4,
             "rgb(253,219,199)"
            ],
            [
             0.5,
             "rgb(247,247,247)"
            ],
            [
             0.6,
             "rgb(209,229,240)"
            ],
            [
             0.7,
             "rgb(146,197,222)"
            ],
            [
             0.8,
             "rgb(67,147,195)"
            ],
            [
             0.9,
             "rgb(33,102,172)"
            ],
            [
             1,
             "rgb(5,48,97)"
            ]
           ],
           "sequential": [
            [
             0,
             "#440154"
            ],
            [
             0.1111111111111111,
             "#482878"
            ],
            [
             0.2222222222222222,
             "#3e4989"
            ],
            [
             0.3333333333333333,
             "#31688e"
            ],
            [
             0.4444444444444444,
             "#26828e"
            ],
            [
             0.5555555555555556,
             "#1f9e89"
            ],
            [
             0.6666666666666666,
             "#35b779"
            ],
            [
             0.7777777777777778,
             "#6ece58"
            ],
            [
             0.8888888888888888,
             "#b5de2b"
            ],
            [
             1,
             "#fde725"
            ]
           ],
           "sequentialminus": [
            [
             0,
             "#440154"
            ],
            [
             0.1111111111111111,
             "#482878"
            ],
            [
             0.2222222222222222,
             "#3e4989"
            ],
            [
             0.3333333333333333,
             "#31688e"
            ],
            [
             0.4444444444444444,
             "#26828e"
            ],
            [
             0.5555555555555556,
             "#1f9e89"
            ],
            [
             0.6666666666666666,
             "#35b779"
            ],
            [
             0.7777777777777778,
             "#6ece58"
            ],
            [
             0.8888888888888888,
             "#b5de2b"
            ],
            [
             1,
             "#fde725"
            ]
           ]
          },
          "colorway": [
           "#1F77B4",
           "#FF7F0E",
           "#2CA02C",
           "#D62728",
           "#9467BD",
           "#8C564B",
           "#E377C2",
           "#7F7F7F",
           "#BCBD22",
           "#17BECF"
          ],
          "font": {
           "color": "rgb(36,36,36)"
          },
          "geo": {
           "bgcolor": "white",
           "lakecolor": "white",
           "landcolor": "white",
           "showlakes": true,
           "showland": true,
           "subunitcolor": "white"
          },
          "hoverlabel": {
           "align": "left"
          },
          "hovermode": "closest",
          "mapbox": {
           "style": "light"
          },
          "paper_bgcolor": "white",
          "plot_bgcolor": "white",
          "polar": {
           "angularaxis": {
            "gridcolor": "rgb(232,232,232)",
            "linecolor": "rgb(36,36,36)",
            "showgrid": false,
            "showline": true,
            "ticks": "outside"
           },
           "bgcolor": "white",
           "radialaxis": {
            "gridcolor": "rgb(232,232,232)",
            "linecolor": "rgb(36,36,36)",
            "showgrid": false,
            "showline": true,
            "ticks": "outside"
           }
          },
          "scene": {
           "xaxis": {
            "backgroundcolor": "white",
            "gridcolor": "rgb(232,232,232)",
            "gridwidth": 2,
            "linecolor": "rgb(36,36,36)",
            "showbackground": true,
            "showgrid": false,
            "showline": true,
            "ticks": "outside",
            "zeroline": false,
            "zerolinecolor": "rgb(36,36,36)"
           },
           "yaxis": {
            "backgroundcolor": "white",
            "gridcolor": "rgb(232,232,232)",
            "gridwidth": 2,
            "linecolor": "rgb(36,36,36)",
            "showbackground": true,
            "showgrid": false,
            "showline": true,
            "ticks": "outside",
            "zeroline": false,
            "zerolinecolor": "rgb(36,36,36)"
           },
           "zaxis": {
            "backgroundcolor": "white",
            "gridcolor": "rgb(232,232,232)",
            "gridwidth": 2,
            "linecolor": "rgb(36,36,36)",
            "showbackground": true,
            "showgrid": false,
            "showline": true,
            "ticks": "outside",
            "zeroline": false,
            "zerolinecolor": "rgb(36,36,36)"
           }
          },
          "shapedefaults": {
           "fillcolor": "black",
           "line": {
            "width": 0
           },
           "opacity": 0.3
          },
          "ternary": {
           "aaxis": {
            "gridcolor": "rgb(232,232,232)",
            "linecolor": "rgb(36,36,36)",
            "showgrid": false,
            "showline": true,
            "ticks": "outside"
           },
           "baxis": {
            "gridcolor": "rgb(232,232,232)",
            "linecolor": "rgb(36,36,36)",
            "showgrid": false,
            "showline": true,
            "ticks": "outside"
           },
           "bgcolor": "white",
           "caxis": {
            "gridcolor": "rgb(232,232,232)",
            "linecolor": "rgb(36,36,36)",
            "showgrid": false,
            "showline": true,
            "ticks": "outside"
           }
          },
          "title": {
           "x": 0.05
          },
          "xaxis": {
           "automargin": true,
           "gridcolor": "rgb(232,232,232)",
           "linecolor": "rgb(36,36,36)",
           "showgrid": false,
           "showline": true,
           "ticks": "outside",
           "title": {
            "standoff": 15
           },
           "zeroline": false,
           "zerolinecolor": "rgb(36,36,36)"
          },
          "yaxis": {
           "automargin": true,
           "gridcolor": "rgb(232,232,232)",
           "linecolor": "rgb(36,36,36)",
           "showgrid": false,
           "showline": true,
           "ticks": "outside",
           "title": {
            "standoff": 15
           },
           "zeroline": false,
           "zerolinecolor": "rgb(36,36,36)"
          }
         }
        },
        "title": {
         "font": {
          "color": "Black",
          "size": 22
         },
         "text": "Topics Over Time for 2023Q4",
         "x": 0.4,
         "xanchor": "center",
         "y": 0.95,
         "yanchor": "top"
        },
        "width": 1250,
        "xaxis": {
         "showgrid": true
        },
        "yaxis": {
         "showgrid": true,
         "title": {
          "text": "Frequency"
         }
        }
       }
      }
     },
     "metadata": {},
     "output_type": "display_data"
    },
    {
     "data": {
      "application/vnd.plotly.v1+json": {
       "config": {
        "plotlyServerURL": "https://plot.ly"
       },
       "data": [
        {
         "hoverinfo": "text",
         "hovertext": [
          "<b>Topic 0</b><br>Words: papua, beasiswa, bagai, sdm, tingkat",
          "<b>Topic 0</b><br>Words: papua, beasiswa, bagai, sdm, tingkat",
          "<b>Topic 0</b><br>Words: strategis, realokasi, papua, kapan, pj",
          "<b>Topic 0</b><br>Words: papua, beasiswa, bagai, sdm, lain",
          "<b>Topic 0</b><br>Words: komite, sekolah, advisory, agency, tentu"
         ],
         "marker": {
          "color": "#E69F00"
         },
         "mode": "lines",
         "name": "0_papua_beasiswa_bagai_sdm",
         "type": "scatter",
         "x": [
          "2024-02-29T09:03:53.500000+00:00",
          "2024-03-02T09:26:00.800000+00:00",
          "2024-03-06T10:10:15.400000+00:00",
          "2024-03-12T11:16:37.300000+00:00",
          "2024-03-18T12:22:59.200000+00:00"
         ],
         "y": [
          3,
          5,
          1,
          1,
          1
         ]
        },
        {
         "hoverinfo": "text",
         "hovertext": [
          "<b>Topic 1</b><br>Words: ganjar, pranowo, sejahtera, mahfud, bukti",
          "<b>Topic 1</b><br>Words: ganjar, yarakat, adat, pranowo, baik",
          "<b>Topic 1</b><br>Words: ganjar, rakyat, pranowo, ganjarmahfud, sejahtera",
          "<b>Topic 1</b><br>Words: ganjar, pranowo, sejahtera, indonesia, rakyat",
          "<b>Topic 1</b><br>Words: ganjar, perempuan, lebih, pranowo, rakyat",
          "<b>Topic 1</b><br>Words: anies, hak, bukti, ganjar, perintah",
          "<b>Topic 1</b><br>Words: ganjar, pranowo, sejahtera, bukti, cipta",
          "<b>Topic 1</b><br>Words: ganjar, lebih, pranowo, bukti, indonesia",
          "<b>Topic 1</b><br>Words: kokoh, fondasi, bangsa, ganjar, hebat",
          "<b>Topic 1</b><br>Words: ganjar, indonesia, kolaborasi, emas, visi",
          "<b>Topic 1</b><br>Words: latah, online, integrasi, kaca, serba",
          "<b>Topic 1</b><br>Words: suara, jernih, peka, lapang, dengar"
         ],
         "marker": {
          "color": "#56B4E9"
         },
         "mode": "lines",
         "name": "1_ganjar_pranowo_sejahtera_lebih",
         "type": "scatter",
         "x": [
          "2024-01-30T02:05:00.181000+00:00",
          "2024-03-02T09:26:00.800000+00:00",
          "2024-03-04T09:48:08.100000+00:00",
          "2024-03-06T10:10:15.400000+00:00",
          "2024-03-08T10:32:22.700000+00:00",
          "2024-03-10T10:54:30+00:00",
          "2024-03-12T11:16:37.300000+00:00",
          "2024-03-14T11:38:44.600000+00:00",
          "2024-03-16T12:00:51.900000+00:00",
          "2024-03-18T12:22:59.200000+00:00",
          "2024-03-20T12:45:06.500000+00:00",
          "2024-03-22T13:07:13.800000+00:00"
         ],
         "y": [
          56,
          2,
          5,
          10,
          5,
          3,
          3,
          3,
          2,
          2,
          1,
          2
         ]
        },
        {
         "hoverinfo": "text",
         "hovertext": [
          "<b>Topic 2</b><br>Words: jadi, pak, butuh, gratis, pilih",
          "<b>Topic 2</b><br>Words: korban, kalo, makan, ngapain, kejadin",
          "<b>Topic 2</b><br>Words: enggak, guru, jadi, gratis, ganti",
          "<b>Topic 2</b><br>Words: pg, rencana, nyata, guru, tkn",
          "<b>Topic 2</b><br>Words: gratis, jadi, dana, makan, guna",
          "<b>Topic 2</b><br>Words: enggak, satu, sama, buat, bodoh",
          "<b>Topic 2</b><br>Words: enggak, dokter, mau, ekonomi, politik",
          "<b>Topic 2</b><br>Words: enggak, nadiem, mahal, bukan, jadi",
          "<b>Topic 2</b><br>Words: kjmu, makan, enggak, kurmer, kritis",
          "<b>Topic 2</b><br>Words: wahabi, families, royal, beri, enggak",
          "<b>Topic 2</b><br>Words: enggak, kasih, lo, kjmu, satu",
          "<b>Topic 2</b><br>Words: felt, guru, ratus, pai, nasib",
          "<b>Topic 2</b><br>Words: kak, mungkin, kelas, munir, rekrutmen",
          "<b>Topic 2</b><br>Words: enggak, merdeka, kurikulum, ganti, sistem",
          "<b>Topic 2</b><br>Words: enggak, aku, terus, banget, mau",
          "<b>Topic 2</b><br>Words: temu, tni, tahan, bahas, bukan",
          "<b>Topic 2</b><br>Words: sekolah, mbak, kurikulum, enggak, jadi",
          "<b>Topic 2</b><br>Words: pil, uny, unnes, inflasi, teknologi"
         ],
         "marker": {
          "color": "#009E73"
         },
         "mode": "lines",
         "name": "2_enggak_jadi_sekolah_guru",
         "type": "scatter",
         "x": [
          "2024-01-30T02:05:00.181000+00:00",
          "2024-02-25T08:19:38.900000+00:00",
          "2024-02-27T08:41:46.200000+00:00",
          "2024-02-29T09:03:53.500000+00:00",
          "2024-03-02T09:26:00.800000+00:00",
          "2024-03-04T09:48:08.100000+00:00",
          "2024-03-06T10:10:15.400000+00:00",
          "2024-03-08T10:32:22.700000+00:00",
          "2024-03-10T10:54:30+00:00",
          "2024-03-12T11:16:37.300000+00:00",
          "2024-03-14T11:38:44.600000+00:00",
          "2024-03-16T12:00:51.900000+00:00",
          "2024-03-18T12:22:59.200000+00:00",
          "2024-03-20T12:45:06.500000+00:00",
          "2024-03-22T13:07:13.800000+00:00",
          "2024-03-24T13:29:21.100000+00:00",
          "2024-03-26T13:51:28.400000+00:00",
          "2024-03-28T14:13:35.700000+00:00"
         ],
         "y": [
          13,
          3,
          19,
          1,
          15,
          18,
          16,
          10,
          7,
          7,
          8,
          6,
          5,
          14,
          8,
          6,
          10,
          10
         ]
        }
       ],
       "layout": {
        "height": 450,
        "hoverlabel": {
         "bgcolor": "white",
         "font": {
          "family": "Rockwell",
          "size": 16
         }
        },
        "legend": {
         "title": {
          "text": "<b>Global Topic Representation"
         }
        },
        "template": {
         "data": {
          "bar": [
           {
            "error_x": {
             "color": "rgb(36,36,36)"
            },
            "error_y": {
             "color": "rgb(36,36,36)"
            },
            "marker": {
             "line": {
              "color": "white",
              "width": 0.5
             },
             "pattern": {
              "fillmode": "overlay",
              "size": 10,
              "solidity": 0.2
             }
            },
            "type": "bar"
           }
          ],
          "barpolar": [
           {
            "marker": {
             "line": {
              "color": "white",
              "width": 0.5
             },
             "pattern": {
              "fillmode": "overlay",
              "size": 10,
              "solidity": 0.2
             }
            },
            "type": "barpolar"
           }
          ],
          "carpet": [
           {
            "aaxis": {
             "endlinecolor": "rgb(36,36,36)",
             "gridcolor": "white",
             "linecolor": "white",
             "minorgridcolor": "white",
             "startlinecolor": "rgb(36,36,36)"
            },
            "baxis": {
             "endlinecolor": "rgb(36,36,36)",
             "gridcolor": "white",
             "linecolor": "white",
             "minorgridcolor": "white",
             "startlinecolor": "rgb(36,36,36)"
            },
            "type": "carpet"
           }
          ],
          "choropleth": [
           {
            "colorbar": {
             "outlinewidth": 1,
             "tickcolor": "rgb(36,36,36)",
             "ticks": "outside"
            },
            "type": "choropleth"
           }
          ],
          "contour": [
           {
            "colorbar": {
             "outlinewidth": 1,
             "tickcolor": "rgb(36,36,36)",
             "ticks": "outside"
            },
            "colorscale": [
             [
              0,
              "#440154"
             ],
             [
              0.1111111111111111,
              "#482878"
             ],
             [
              0.2222222222222222,
              "#3e4989"
             ],
             [
              0.3333333333333333,
              "#31688e"
             ],
             [
              0.4444444444444444,
              "#26828e"
             ],
             [
              0.5555555555555556,
              "#1f9e89"
             ],
             [
              0.6666666666666666,
              "#35b779"
             ],
             [
              0.7777777777777778,
              "#6ece58"
             ],
             [
              0.8888888888888888,
              "#b5de2b"
             ],
             [
              1,
              "#fde725"
             ]
            ],
            "type": "contour"
           }
          ],
          "contourcarpet": [
           {
            "colorbar": {
             "outlinewidth": 1,
             "tickcolor": "rgb(36,36,36)",
             "ticks": "outside"
            },
            "type": "contourcarpet"
           }
          ],
          "heatmap": [
           {
            "colorbar": {
             "outlinewidth": 1,
             "tickcolor": "rgb(36,36,36)",
             "ticks": "outside"
            },
            "colorscale": [
             [
              0,
              "#440154"
             ],
             [
              0.1111111111111111,
              "#482878"
             ],
             [
              0.2222222222222222,
              "#3e4989"
             ],
             [
              0.3333333333333333,
              "#31688e"
             ],
             [
              0.4444444444444444,
              "#26828e"
             ],
             [
              0.5555555555555556,
              "#1f9e89"
             ],
             [
              0.6666666666666666,
              "#35b779"
             ],
             [
              0.7777777777777778,
              "#6ece58"
             ],
             [
              0.8888888888888888,
              "#b5de2b"
             ],
             [
              1,
              "#fde725"
             ]
            ],
            "type": "heatmap"
           }
          ],
          "heatmapgl": [
           {
            "colorbar": {
             "outlinewidth": 1,
             "tickcolor": "rgb(36,36,36)",
             "ticks": "outside"
            },
            "colorscale": [
             [
              0,
              "#440154"
             ],
             [
              0.1111111111111111,
              "#482878"
             ],
             [
              0.2222222222222222,
              "#3e4989"
             ],
             [
              0.3333333333333333,
              "#31688e"
             ],
             [
              0.4444444444444444,
              "#26828e"
             ],
             [
              0.5555555555555556,
              "#1f9e89"
             ],
             [
              0.6666666666666666,
              "#35b779"
             ],
             [
              0.7777777777777778,
              "#6ece58"
             ],
             [
              0.8888888888888888,
              "#b5de2b"
             ],
             [
              1,
              "#fde725"
             ]
            ],
            "type": "heatmapgl"
           }
          ],
          "histogram": [
           {
            "marker": {
             "line": {
              "color": "white",
              "width": 0.6
             }
            },
            "type": "histogram"
           }
          ],
          "histogram2d": [
           {
            "colorbar": {
             "outlinewidth": 1,
             "tickcolor": "rgb(36,36,36)",
             "ticks": "outside"
            },
            "colorscale": [
             [
              0,
              "#440154"
             ],
             [
              0.1111111111111111,
              "#482878"
             ],
             [
              0.2222222222222222,
              "#3e4989"
             ],
             [
              0.3333333333333333,
              "#31688e"
             ],
             [
              0.4444444444444444,
              "#26828e"
             ],
             [
              0.5555555555555556,
              "#1f9e89"
             ],
             [
              0.6666666666666666,
              "#35b779"
             ],
             [
              0.7777777777777778,
              "#6ece58"
             ],
             [
              0.8888888888888888,
              "#b5de2b"
             ],
             [
              1,
              "#fde725"
             ]
            ],
            "type": "histogram2d"
           }
          ],
          "histogram2dcontour": [
           {
            "colorbar": {
             "outlinewidth": 1,
             "tickcolor": "rgb(36,36,36)",
             "ticks": "outside"
            },
            "colorscale": [
             [
              0,
              "#440154"
             ],
             [
              0.1111111111111111,
              "#482878"
             ],
             [
              0.2222222222222222,
              "#3e4989"
             ],
             [
              0.3333333333333333,
              "#31688e"
             ],
             [
              0.4444444444444444,
              "#26828e"
             ],
             [
              0.5555555555555556,
              "#1f9e89"
             ],
             [
              0.6666666666666666,
              "#35b779"
             ],
             [
              0.7777777777777778,
              "#6ece58"
             ],
             [
              0.8888888888888888,
              "#b5de2b"
             ],
             [
              1,
              "#fde725"
             ]
            ],
            "type": "histogram2dcontour"
           }
          ],
          "mesh3d": [
           {
            "colorbar": {
             "outlinewidth": 1,
             "tickcolor": "rgb(36,36,36)",
             "ticks": "outside"
            },
            "type": "mesh3d"
           }
          ],
          "parcoords": [
           {
            "line": {
             "colorbar": {
              "outlinewidth": 1,
              "tickcolor": "rgb(36,36,36)",
              "ticks": "outside"
             }
            },
            "type": "parcoords"
           }
          ],
          "pie": [
           {
            "automargin": true,
            "type": "pie"
           }
          ],
          "scatter": [
           {
            "fillpattern": {
             "fillmode": "overlay",
             "size": 10,
             "solidity": 0.2
            },
            "type": "scatter"
           }
          ],
          "scatter3d": [
           {
            "line": {
             "colorbar": {
              "outlinewidth": 1,
              "tickcolor": "rgb(36,36,36)",
              "ticks": "outside"
             }
            },
            "marker": {
             "colorbar": {
              "outlinewidth": 1,
              "tickcolor": "rgb(36,36,36)",
              "ticks": "outside"
             }
            },
            "type": "scatter3d"
           }
          ],
          "scattercarpet": [
           {
            "marker": {
             "colorbar": {
              "outlinewidth": 1,
              "tickcolor": "rgb(36,36,36)",
              "ticks": "outside"
             }
            },
            "type": "scattercarpet"
           }
          ],
          "scattergeo": [
           {
            "marker": {
             "colorbar": {
              "outlinewidth": 1,
              "tickcolor": "rgb(36,36,36)",
              "ticks": "outside"
             }
            },
            "type": "scattergeo"
           }
          ],
          "scattergl": [
           {
            "marker": {
             "colorbar": {
              "outlinewidth": 1,
              "tickcolor": "rgb(36,36,36)",
              "ticks": "outside"
             }
            },
            "type": "scattergl"
           }
          ],
          "scattermapbox": [
           {
            "marker": {
             "colorbar": {
              "outlinewidth": 1,
              "tickcolor": "rgb(36,36,36)",
              "ticks": "outside"
             }
            },
            "type": "scattermapbox"
           }
          ],
          "scatterpolar": [
           {
            "marker": {
             "colorbar": {
              "outlinewidth": 1,
              "tickcolor": "rgb(36,36,36)",
              "ticks": "outside"
             }
            },
            "type": "scatterpolar"
           }
          ],
          "scatterpolargl": [
           {
            "marker": {
             "colorbar": {
              "outlinewidth": 1,
              "tickcolor": "rgb(36,36,36)",
              "ticks": "outside"
             }
            },
            "type": "scatterpolargl"
           }
          ],
          "scatterternary": [
           {
            "marker": {
             "colorbar": {
              "outlinewidth": 1,
              "tickcolor": "rgb(36,36,36)",
              "ticks": "outside"
             }
            },
            "type": "scatterternary"
           }
          ],
          "surface": [
           {
            "colorbar": {
             "outlinewidth": 1,
             "tickcolor": "rgb(36,36,36)",
             "ticks": "outside"
            },
            "colorscale": [
             [
              0,
              "#440154"
             ],
             [
              0.1111111111111111,
              "#482878"
             ],
             [
              0.2222222222222222,
              "#3e4989"
             ],
             [
              0.3333333333333333,
              "#31688e"
             ],
             [
              0.4444444444444444,
              "#26828e"
             ],
             [
              0.5555555555555556,
              "#1f9e89"
             ],
             [
              0.6666666666666666,
              "#35b779"
             ],
             [
              0.7777777777777778,
              "#6ece58"
             ],
             [
              0.8888888888888888,
              "#b5de2b"
             ],
             [
              1,
              "#fde725"
             ]
            ],
            "type": "surface"
           }
          ],
          "table": [
           {
            "cells": {
             "fill": {
              "color": "rgb(237,237,237)"
             },
             "line": {
              "color": "white"
             }
            },
            "header": {
             "fill": {
              "color": "rgb(217,217,217)"
             },
             "line": {
              "color": "white"
             }
            },
            "type": "table"
           }
          ]
         },
         "layout": {
          "annotationdefaults": {
           "arrowhead": 0,
           "arrowwidth": 1
          },
          "autotypenumbers": "strict",
          "coloraxis": {
           "colorbar": {
            "outlinewidth": 1,
            "tickcolor": "rgb(36,36,36)",
            "ticks": "outside"
           }
          },
          "colorscale": {
           "diverging": [
            [
             0,
             "rgb(103,0,31)"
            ],
            [
             0.1,
             "rgb(178,24,43)"
            ],
            [
             0.2,
             "rgb(214,96,77)"
            ],
            [
             0.3,
             "rgb(244,165,130)"
            ],
            [
             0.4,
             "rgb(253,219,199)"
            ],
            [
             0.5,
             "rgb(247,247,247)"
            ],
            [
             0.6,
             "rgb(209,229,240)"
            ],
            [
             0.7,
             "rgb(146,197,222)"
            ],
            [
             0.8,
             "rgb(67,147,195)"
            ],
            [
             0.9,
             "rgb(33,102,172)"
            ],
            [
             1,
             "rgb(5,48,97)"
            ]
           ],
           "sequential": [
            [
             0,
             "#440154"
            ],
            [
             0.1111111111111111,
             "#482878"
            ],
            [
             0.2222222222222222,
             "#3e4989"
            ],
            [
             0.3333333333333333,
             "#31688e"
            ],
            [
             0.4444444444444444,
             "#26828e"
            ],
            [
             0.5555555555555556,
             "#1f9e89"
            ],
            [
             0.6666666666666666,
             "#35b779"
            ],
            [
             0.7777777777777778,
             "#6ece58"
            ],
            [
             0.8888888888888888,
             "#b5de2b"
            ],
            [
             1,
             "#fde725"
            ]
           ],
           "sequentialminus": [
            [
             0,
             "#440154"
            ],
            [
             0.1111111111111111,
             "#482878"
            ],
            [
             0.2222222222222222,
             "#3e4989"
            ],
            [
             0.3333333333333333,
             "#31688e"
            ],
            [
             0.4444444444444444,
             "#26828e"
            ],
            [
             0.5555555555555556,
             "#1f9e89"
            ],
            [
             0.6666666666666666,
             "#35b779"
            ],
            [
             0.7777777777777778,
             "#6ece58"
            ],
            [
             0.8888888888888888,
             "#b5de2b"
            ],
            [
             1,
             "#fde725"
            ]
           ]
          },
          "colorway": [
           "#1F77B4",
           "#FF7F0E",
           "#2CA02C",
           "#D62728",
           "#9467BD",
           "#8C564B",
           "#E377C2",
           "#7F7F7F",
           "#BCBD22",
           "#17BECF"
          ],
          "font": {
           "color": "rgb(36,36,36)"
          },
          "geo": {
           "bgcolor": "white",
           "lakecolor": "white",
           "landcolor": "white",
           "showlakes": true,
           "showland": true,
           "subunitcolor": "white"
          },
          "hoverlabel": {
           "align": "left"
          },
          "hovermode": "closest",
          "mapbox": {
           "style": "light"
          },
          "paper_bgcolor": "white",
          "plot_bgcolor": "white",
          "polar": {
           "angularaxis": {
            "gridcolor": "rgb(232,232,232)",
            "linecolor": "rgb(36,36,36)",
            "showgrid": false,
            "showline": true,
            "ticks": "outside"
           },
           "bgcolor": "white",
           "radialaxis": {
            "gridcolor": "rgb(232,232,232)",
            "linecolor": "rgb(36,36,36)",
            "showgrid": false,
            "showline": true,
            "ticks": "outside"
           }
          },
          "scene": {
           "xaxis": {
            "backgroundcolor": "white",
            "gridcolor": "rgb(232,232,232)",
            "gridwidth": 2,
            "linecolor": "rgb(36,36,36)",
            "showbackground": true,
            "showgrid": false,
            "showline": true,
            "ticks": "outside",
            "zeroline": false,
            "zerolinecolor": "rgb(36,36,36)"
           },
           "yaxis": {
            "backgroundcolor": "white",
            "gridcolor": "rgb(232,232,232)",
            "gridwidth": 2,
            "linecolor": "rgb(36,36,36)",
            "showbackground": true,
            "showgrid": false,
            "showline": true,
            "ticks": "outside",
            "zeroline": false,
            "zerolinecolor": "rgb(36,36,36)"
           },
           "zaxis": {
            "backgroundcolor": "white",
            "gridcolor": "rgb(232,232,232)",
            "gridwidth": 2,
            "linecolor": "rgb(36,36,36)",
            "showbackground": true,
            "showgrid": false,
            "showline": true,
            "ticks": "outside",
            "zeroline": false,
            "zerolinecolor": "rgb(36,36,36)"
           }
          },
          "shapedefaults": {
           "fillcolor": "black",
           "line": {
            "width": 0
           },
           "opacity": 0.3
          },
          "ternary": {
           "aaxis": {
            "gridcolor": "rgb(232,232,232)",
            "linecolor": "rgb(36,36,36)",
            "showgrid": false,
            "showline": true,
            "ticks": "outside"
           },
           "baxis": {
            "gridcolor": "rgb(232,232,232)",
            "linecolor": "rgb(36,36,36)",
            "showgrid": false,
            "showline": true,
            "ticks": "outside"
           },
           "bgcolor": "white",
           "caxis": {
            "gridcolor": "rgb(232,232,232)",
            "linecolor": "rgb(36,36,36)",
            "showgrid": false,
            "showline": true,
            "ticks": "outside"
           }
          },
          "title": {
           "x": 0.05
          },
          "xaxis": {
           "automargin": true,
           "gridcolor": "rgb(232,232,232)",
           "linecolor": "rgb(36,36,36)",
           "showgrid": false,
           "showline": true,
           "ticks": "outside",
           "title": {
            "standoff": 15
           },
           "zeroline": false,
           "zerolinecolor": "rgb(36,36,36)"
          },
          "yaxis": {
           "automargin": true,
           "gridcolor": "rgb(232,232,232)",
           "linecolor": "rgb(36,36,36)",
           "showgrid": false,
           "showline": true,
           "ticks": "outside",
           "title": {
            "standoff": 15
           },
           "zeroline": false,
           "zerolinecolor": "rgb(36,36,36)"
          }
         }
        },
        "title": {
         "font": {
          "color": "Black",
          "size": 22
         },
         "text": "Topics Over Time for 2024Q1",
         "x": 0.4,
         "xanchor": "center",
         "y": 0.95,
         "yanchor": "top"
        },
        "width": 1250,
        "xaxis": {
         "showgrid": true
        },
        "yaxis": {
         "showgrid": true,
         "title": {
          "text": "Frequency"
         }
        }
       }
      }
     },
     "metadata": {},
     "output_type": "display_data"
    },
    {
     "data": {
      "application/vnd.plotly.v1+json": {
       "config": {
        "plotlyServerURL": "https://plot.ly"
       },
       "data": [
        {
         "hoverinfo": "text",
         "hovertext": [
          "<b>Topic 0</b><br>Words: wajib, pramuka, transformasi, nomor, nalar",
          "<b>Topic 0</b><br>Words: pramuka, wajib, hapus, cabut, sekolah",
          "<b>Topic 0</b><br>Words: kali, komisi, dpr, evaluasi, menteri",
          "<b>Topic 0</b><br>Words: pramuka, hapus, kurikulum, ekstrakurikuler, wajib",
          "<b>Topic 0</b><br>Words: pramuka, budaya, riset, komisi, jatim",
          "<b>Topic 0</b><br>Words: dapil, bebas, dailami, firdaus, senator",
          "<b>Topic 0</b><br>Words: kurikulum, tetap, nilai, nasional, merdeka",
          "<b>Topic 0</b><br>Words: seragam, edar, usai, tanggap, ban",
          "<b>Topic 0</b><br>Words: diy, tak, ubah, sekolah, seragam",
          "<b>Topic 0</b><br>Words: agam, lingkung, indra, semangat, cermin",
          "<b>Topic 0</b><br>Words: kelas, hingga, sekolah, gratis, salim",
          "<b>Topic 0</b><br>Words: jakarta, swasta, dki, dprd, desak"
         ],
         "marker": {
          "color": "#E69F00"
         },
         "mode": "lines",
         "name": "0_pramuka_wajib_sekolah_hapus",
         "type": "scatter",
         "x": [
          "2024-04-01T00:20:02.700000+00:00",
          "2024-04-02T00:11:20.666666+00:00",
          "2024-04-02T23:20:57.333333+00:00",
          "2024-04-03T22:30:34+00:00",
          "2024-04-04T21:40:10.666666+00:00",
          "2024-04-12T14:57:04+00:00",
          "2024-04-14T13:16:17.333333+00:00",
          "2024-04-15T12:25:54+00:00",
          "2024-04-17T10:45:07.333333+00:00",
          "2024-04-18T09:54:44+00:00",
          "2024-04-19T09:04:20.666666+00:00",
          "2024-04-29T00:40:27.333333+00:00"
         ],
         "y": [
          2,
          6,
          3,
          4,
          3,
          1,
          2,
          1,
          1,
          2,
          1,
          1
         ]
        },
        {
         "hoverinfo": "text",
         "hovertext": [
          "<b>Topic 1</b><br>Words: buat, banyak, guru, jadi, dulu",
          "<b>Topic 1</b><br>Words: adil, mana, rakyat, nkri, alas",
          "<b>Topic 1</b><br>Words: enggak, pns, entah, tinggi, mau",
          "<b>Topic 1</b><br>Words: ramadhan, negara, suci, kerdil, pill",
          "<b>Topic 1</b><br>Words: buat, jangan, enggak, gaya, link",
          "<b>Topic 1</b><br>Words: buat, perintah, topik, cara, enggak",
          "<b>Topic 1</b><br>Words: orang, yes, sung, cibalah, debat",
          "<b>Topic 1</b><br>Words: buat, menteri, jadi, makin, semua",
          "<b>Topic 1</b><br>Words: bikin, seragam, menteri, enggak, jadi",
          "<b>Topic 1</b><br>Words: memang, atur, masalah, banyak, baru",
          "<b>Topic 1</b><br>Words: jadi, tempat, tahan, naik, enggak",
          "<b>Topic 1</b><br>Words: lebih, lintas, takut, jurus, minat",
          "<b>Topic 1</b><br>Words: nakes, mental, kubur, jauh, lama",
          "<b>Topic 1</b><br>Words: via, rusak, benar, bangsa, seragam",
          "<b>Topic 1</b><br>Words: rencana, buku, ambil, amp, jadi",
          "<b>Topic 1</b><br>Words: muat, berani, betul, alternatif, responsible",
          "<b>Topic 1</b><br>Words: buat, antah, biaya, pribadi, risiko",
          "<b>Topic 1</b><br>Words: negara, gratis, uang, lunas, kalah",
          "<b>Topic 1</b><br>Words: akibat, generasi, salah, salahkebijakan, faham",
          "<b>Topic 1</b><br>Words: felt, mahasiswa, indonesia, vietnam, proletariat",
          "<b>Topic 1</b><br>Words: ubah, tarik, vokasi, menteri, lu",
          "<b>Topic 1</b><br>Words: enggak, bikin, bimbel, tuh, sama",
          "<b>Topic 1</b><br>Words: tinggi, amp, dokter, buat, enggak",
          "<b>Topic 1</b><br>Words: kipk, ngotak, teliti, gue, ukt"
         ],
         "marker": {
          "color": "#56B4E9"
         },
         "mode": "lines",
         "name": "1_enggak_buat_jadi_bikin",
         "type": "scatter",
         "x": [
          "2024-04-01T00:20:02.700000+00:00",
          "2024-04-02T23:20:57.333333+00:00",
          "2024-04-03T22:30:34+00:00",
          "2024-04-06T19:59:24+00:00",
          "2024-04-07T19:09:00.666666+00:00",
          "2024-04-08T18:18:37.333333+00:00",
          "2024-04-09T17:28:14+00:00",
          "2024-04-10T16:37:50.666666+00:00",
          "2024-04-11T15:47:27.333333+00:00",
          "2024-04-12T14:57:04+00:00",
          "2024-04-13T14:06:40.666666+00:00",
          "2024-04-14T13:16:17.333333+00:00",
          "2024-04-15T12:25:54+00:00",
          "2024-04-16T11:35:30.666666+00:00",
          "2024-04-17T10:45:07.333333+00:00",
          "2024-04-18T09:54:44+00:00",
          "2024-04-19T09:04:20.666666+00:00",
          "2024-04-20T08:13:57.333333+00:00",
          "2024-04-21T07:23:34+00:00",
          "2024-04-24T04:52:24+00:00",
          "2024-04-25T04:02:00.666666+00:00",
          "2024-04-27T02:21:14+00:00",
          "2024-04-28T01:30:50.666666+00:00",
          "2024-04-29T00:40:27.333333+00:00"
         ],
         "y": [
          6,
          1,
          6,
          2,
          6,
          4,
          2,
          9,
          9,
          5,
          4,
          4,
          3,
          3,
          2,
          1,
          3,
          2,
          1,
          2,
          4,
          5,
          5,
          4
         ]
        }
       ],
       "layout": {
        "height": 450,
        "hoverlabel": {
         "bgcolor": "white",
         "font": {
          "family": "Rockwell",
          "size": 16
         }
        },
        "legend": {
         "title": {
          "text": "<b>Global Topic Representation"
         }
        },
        "template": {
         "data": {
          "bar": [
           {
            "error_x": {
             "color": "rgb(36,36,36)"
            },
            "error_y": {
             "color": "rgb(36,36,36)"
            },
            "marker": {
             "line": {
              "color": "white",
              "width": 0.5
             },
             "pattern": {
              "fillmode": "overlay",
              "size": 10,
              "solidity": 0.2
             }
            },
            "type": "bar"
           }
          ],
          "barpolar": [
           {
            "marker": {
             "line": {
              "color": "white",
              "width": 0.5
             },
             "pattern": {
              "fillmode": "overlay",
              "size": 10,
              "solidity": 0.2
             }
            },
            "type": "barpolar"
           }
          ],
          "carpet": [
           {
            "aaxis": {
             "endlinecolor": "rgb(36,36,36)",
             "gridcolor": "white",
             "linecolor": "white",
             "minorgridcolor": "white",
             "startlinecolor": "rgb(36,36,36)"
            },
            "baxis": {
             "endlinecolor": "rgb(36,36,36)",
             "gridcolor": "white",
             "linecolor": "white",
             "minorgridcolor": "white",
             "startlinecolor": "rgb(36,36,36)"
            },
            "type": "carpet"
           }
          ],
          "choropleth": [
           {
            "colorbar": {
             "outlinewidth": 1,
             "tickcolor": "rgb(36,36,36)",
             "ticks": "outside"
            },
            "type": "choropleth"
           }
          ],
          "contour": [
           {
            "colorbar": {
             "outlinewidth": 1,
             "tickcolor": "rgb(36,36,36)",
             "ticks": "outside"
            },
            "colorscale": [
             [
              0,
              "#440154"
             ],
             [
              0.1111111111111111,
              "#482878"
             ],
             [
              0.2222222222222222,
              "#3e4989"
             ],
             [
              0.3333333333333333,
              "#31688e"
             ],
             [
              0.4444444444444444,
              "#26828e"
             ],
             [
              0.5555555555555556,
              "#1f9e89"
             ],
             [
              0.6666666666666666,
              "#35b779"
             ],
             [
              0.7777777777777778,
              "#6ece58"
             ],
             [
              0.8888888888888888,
              "#b5de2b"
             ],
             [
              1,
              "#fde725"
             ]
            ],
            "type": "contour"
           }
          ],
          "contourcarpet": [
           {
            "colorbar": {
             "outlinewidth": 1,
             "tickcolor": "rgb(36,36,36)",
             "ticks": "outside"
            },
            "type": "contourcarpet"
           }
          ],
          "heatmap": [
           {
            "colorbar": {
             "outlinewidth": 1,
             "tickcolor": "rgb(36,36,36)",
             "ticks": "outside"
            },
            "colorscale": [
             [
              0,
              "#440154"
             ],
             [
              0.1111111111111111,
              "#482878"
             ],
             [
              0.2222222222222222,
              "#3e4989"
             ],
             [
              0.3333333333333333,
              "#31688e"
             ],
             [
              0.4444444444444444,
              "#26828e"
             ],
             [
              0.5555555555555556,
              "#1f9e89"
             ],
             [
              0.6666666666666666,
              "#35b779"
             ],
             [
              0.7777777777777778,
              "#6ece58"
             ],
             [
              0.8888888888888888,
              "#b5de2b"
             ],
             [
              1,
              "#fde725"
             ]
            ],
            "type": "heatmap"
           }
          ],
          "heatmapgl": [
           {
            "colorbar": {
             "outlinewidth": 1,
             "tickcolor": "rgb(36,36,36)",
             "ticks": "outside"
            },
            "colorscale": [
             [
              0,
              "#440154"
             ],
             [
              0.1111111111111111,
              "#482878"
             ],
             [
              0.2222222222222222,
              "#3e4989"
             ],
             [
              0.3333333333333333,
              "#31688e"
             ],
             [
              0.4444444444444444,
              "#26828e"
             ],
             [
              0.5555555555555556,
              "#1f9e89"
             ],
             [
              0.6666666666666666,
              "#35b779"
             ],
             [
              0.7777777777777778,
              "#6ece58"
             ],
             [
              0.8888888888888888,
              "#b5de2b"
             ],
             [
              1,
              "#fde725"
             ]
            ],
            "type": "heatmapgl"
           }
          ],
          "histogram": [
           {
            "marker": {
             "line": {
              "color": "white",
              "width": 0.6
             }
            },
            "type": "histogram"
           }
          ],
          "histogram2d": [
           {
            "colorbar": {
             "outlinewidth": 1,
             "tickcolor": "rgb(36,36,36)",
             "ticks": "outside"
            },
            "colorscale": [
             [
              0,
              "#440154"
             ],
             [
              0.1111111111111111,
              "#482878"
             ],
             [
              0.2222222222222222,
              "#3e4989"
             ],
             [
              0.3333333333333333,
              "#31688e"
             ],
             [
              0.4444444444444444,
              "#26828e"
             ],
             [
              0.5555555555555556,
              "#1f9e89"
             ],
             [
              0.6666666666666666,
              "#35b779"
             ],
             [
              0.7777777777777778,
              "#6ece58"
             ],
             [
              0.8888888888888888,
              "#b5de2b"
             ],
             [
              1,
              "#fde725"
             ]
            ],
            "type": "histogram2d"
           }
          ],
          "histogram2dcontour": [
           {
            "colorbar": {
             "outlinewidth": 1,
             "tickcolor": "rgb(36,36,36)",
             "ticks": "outside"
            },
            "colorscale": [
             [
              0,
              "#440154"
             ],
             [
              0.1111111111111111,
              "#482878"
             ],
             [
              0.2222222222222222,
              "#3e4989"
             ],
             [
              0.3333333333333333,
              "#31688e"
             ],
             [
              0.4444444444444444,
              "#26828e"
             ],
             [
              0.5555555555555556,
              "#1f9e89"
             ],
             [
              0.6666666666666666,
              "#35b779"
             ],
             [
              0.7777777777777778,
              "#6ece58"
             ],
             [
              0.8888888888888888,
              "#b5de2b"
             ],
             [
              1,
              "#fde725"
             ]
            ],
            "type": "histogram2dcontour"
           }
          ],
          "mesh3d": [
           {
            "colorbar": {
             "outlinewidth": 1,
             "tickcolor": "rgb(36,36,36)",
             "ticks": "outside"
            },
            "type": "mesh3d"
           }
          ],
          "parcoords": [
           {
            "line": {
             "colorbar": {
              "outlinewidth": 1,
              "tickcolor": "rgb(36,36,36)",
              "ticks": "outside"
             }
            },
            "type": "parcoords"
           }
          ],
          "pie": [
           {
            "automargin": true,
            "type": "pie"
           }
          ],
          "scatter": [
           {
            "fillpattern": {
             "fillmode": "overlay",
             "size": 10,
             "solidity": 0.2
            },
            "type": "scatter"
           }
          ],
          "scatter3d": [
           {
            "line": {
             "colorbar": {
              "outlinewidth": 1,
              "tickcolor": "rgb(36,36,36)",
              "ticks": "outside"
             }
            },
            "marker": {
             "colorbar": {
              "outlinewidth": 1,
              "tickcolor": "rgb(36,36,36)",
              "ticks": "outside"
             }
            },
            "type": "scatter3d"
           }
          ],
          "scattercarpet": [
           {
            "marker": {
             "colorbar": {
              "outlinewidth": 1,
              "tickcolor": "rgb(36,36,36)",
              "ticks": "outside"
             }
            },
            "type": "scattercarpet"
           }
          ],
          "scattergeo": [
           {
            "marker": {
             "colorbar": {
              "outlinewidth": 1,
              "tickcolor": "rgb(36,36,36)",
              "ticks": "outside"
             }
            },
            "type": "scattergeo"
           }
          ],
          "scattergl": [
           {
            "marker": {
             "colorbar": {
              "outlinewidth": 1,
              "tickcolor": "rgb(36,36,36)",
              "ticks": "outside"
             }
            },
            "type": "scattergl"
           }
          ],
          "scattermapbox": [
           {
            "marker": {
             "colorbar": {
              "outlinewidth": 1,
              "tickcolor": "rgb(36,36,36)",
              "ticks": "outside"
             }
            },
            "type": "scattermapbox"
           }
          ],
          "scatterpolar": [
           {
            "marker": {
             "colorbar": {
              "outlinewidth": 1,
              "tickcolor": "rgb(36,36,36)",
              "ticks": "outside"
             }
            },
            "type": "scatterpolar"
           }
          ],
          "scatterpolargl": [
           {
            "marker": {
             "colorbar": {
              "outlinewidth": 1,
              "tickcolor": "rgb(36,36,36)",
              "ticks": "outside"
             }
            },
            "type": "scatterpolargl"
           }
          ],
          "scatterternary": [
           {
            "marker": {
             "colorbar": {
              "outlinewidth": 1,
              "tickcolor": "rgb(36,36,36)",
              "ticks": "outside"
             }
            },
            "type": "scatterternary"
           }
          ],
          "surface": [
           {
            "colorbar": {
             "outlinewidth": 1,
             "tickcolor": "rgb(36,36,36)",
             "ticks": "outside"
            },
            "colorscale": [
             [
              0,
              "#440154"
             ],
             [
              0.1111111111111111,
              "#482878"
             ],
             [
              0.2222222222222222,
              "#3e4989"
             ],
             [
              0.3333333333333333,
              "#31688e"
             ],
             [
              0.4444444444444444,
              "#26828e"
             ],
             [
              0.5555555555555556,
              "#1f9e89"
             ],
             [
              0.6666666666666666,
              "#35b779"
             ],
             [
              0.7777777777777778,
              "#6ece58"
             ],
             [
              0.8888888888888888,
              "#b5de2b"
             ],
             [
              1,
              "#fde725"
             ]
            ],
            "type": "surface"
           }
          ],
          "table": [
           {
            "cells": {
             "fill": {
              "color": "rgb(237,237,237)"
             },
             "line": {
              "color": "white"
             }
            },
            "header": {
             "fill": {
              "color": "rgb(217,217,217)"
             },
             "line": {
              "color": "white"
             }
            },
            "type": "table"
           }
          ]
         },
         "layout": {
          "annotationdefaults": {
           "arrowhead": 0,
           "arrowwidth": 1
          },
          "autotypenumbers": "strict",
          "coloraxis": {
           "colorbar": {
            "outlinewidth": 1,
            "tickcolor": "rgb(36,36,36)",
            "ticks": "outside"
           }
          },
          "colorscale": {
           "diverging": [
            [
             0,
             "rgb(103,0,31)"
            ],
            [
             0.1,
             "rgb(178,24,43)"
            ],
            [
             0.2,
             "rgb(214,96,77)"
            ],
            [
             0.3,
             "rgb(244,165,130)"
            ],
            [
             0.4,
             "rgb(253,219,199)"
            ],
            [
             0.5,
             "rgb(247,247,247)"
            ],
            [
             0.6,
             "rgb(209,229,240)"
            ],
            [
             0.7,
             "rgb(146,197,222)"
            ],
            [
             0.8,
             "rgb(67,147,195)"
            ],
            [
             0.9,
             "rgb(33,102,172)"
            ],
            [
             1,
             "rgb(5,48,97)"
            ]
           ],
           "sequential": [
            [
             0,
             "#440154"
            ],
            [
             0.1111111111111111,
             "#482878"
            ],
            [
             0.2222222222222222,
             "#3e4989"
            ],
            [
             0.3333333333333333,
             "#31688e"
            ],
            [
             0.4444444444444444,
             "#26828e"
            ],
            [
             0.5555555555555556,
             "#1f9e89"
            ],
            [
             0.6666666666666666,
             "#35b779"
            ],
            [
             0.7777777777777778,
             "#6ece58"
            ],
            [
             0.8888888888888888,
             "#b5de2b"
            ],
            [
             1,
             "#fde725"
            ]
           ],
           "sequentialminus": [
            [
             0,
             "#440154"
            ],
            [
             0.1111111111111111,
             "#482878"
            ],
            [
             0.2222222222222222,
             "#3e4989"
            ],
            [
             0.3333333333333333,
             "#31688e"
            ],
            [
             0.4444444444444444,
             "#26828e"
            ],
            [
             0.5555555555555556,
             "#1f9e89"
            ],
            [
             0.6666666666666666,
             "#35b779"
            ],
            [
             0.7777777777777778,
             "#6ece58"
            ],
            [
             0.8888888888888888,
             "#b5de2b"
            ],
            [
             1,
             "#fde725"
            ]
           ]
          },
          "colorway": [
           "#1F77B4",
           "#FF7F0E",
           "#2CA02C",
           "#D62728",
           "#9467BD",
           "#8C564B",
           "#E377C2",
           "#7F7F7F",
           "#BCBD22",
           "#17BECF"
          ],
          "font": {
           "color": "rgb(36,36,36)"
          },
          "geo": {
           "bgcolor": "white",
           "lakecolor": "white",
           "landcolor": "white",
           "showlakes": true,
           "showland": true,
           "subunitcolor": "white"
          },
          "hoverlabel": {
           "align": "left"
          },
          "hovermode": "closest",
          "mapbox": {
           "style": "light"
          },
          "paper_bgcolor": "white",
          "plot_bgcolor": "white",
          "polar": {
           "angularaxis": {
            "gridcolor": "rgb(232,232,232)",
            "linecolor": "rgb(36,36,36)",
            "showgrid": false,
            "showline": true,
            "ticks": "outside"
           },
           "bgcolor": "white",
           "radialaxis": {
            "gridcolor": "rgb(232,232,232)",
            "linecolor": "rgb(36,36,36)",
            "showgrid": false,
            "showline": true,
            "ticks": "outside"
           }
          },
          "scene": {
           "xaxis": {
            "backgroundcolor": "white",
            "gridcolor": "rgb(232,232,232)",
            "gridwidth": 2,
            "linecolor": "rgb(36,36,36)",
            "showbackground": true,
            "showgrid": false,
            "showline": true,
            "ticks": "outside",
            "zeroline": false,
            "zerolinecolor": "rgb(36,36,36)"
           },
           "yaxis": {
            "backgroundcolor": "white",
            "gridcolor": "rgb(232,232,232)",
            "gridwidth": 2,
            "linecolor": "rgb(36,36,36)",
            "showbackground": true,
            "showgrid": false,
            "showline": true,
            "ticks": "outside",
            "zeroline": false,
            "zerolinecolor": "rgb(36,36,36)"
           },
           "zaxis": {
            "backgroundcolor": "white",
            "gridcolor": "rgb(232,232,232)",
            "gridwidth": 2,
            "linecolor": "rgb(36,36,36)",
            "showbackground": true,
            "showgrid": false,
            "showline": true,
            "ticks": "outside",
            "zeroline": false,
            "zerolinecolor": "rgb(36,36,36)"
           }
          },
          "shapedefaults": {
           "fillcolor": "black",
           "line": {
            "width": 0
           },
           "opacity": 0.3
          },
          "ternary": {
           "aaxis": {
            "gridcolor": "rgb(232,232,232)",
            "linecolor": "rgb(36,36,36)",
            "showgrid": false,
            "showline": true,
            "ticks": "outside"
           },
           "baxis": {
            "gridcolor": "rgb(232,232,232)",
            "linecolor": "rgb(36,36,36)",
            "showgrid": false,
            "showline": true,
            "ticks": "outside"
           },
           "bgcolor": "white",
           "caxis": {
            "gridcolor": "rgb(232,232,232)",
            "linecolor": "rgb(36,36,36)",
            "showgrid": false,
            "showline": true,
            "ticks": "outside"
           }
          },
          "title": {
           "x": 0.05
          },
          "xaxis": {
           "automargin": true,
           "gridcolor": "rgb(232,232,232)",
           "linecolor": "rgb(36,36,36)",
           "showgrid": false,
           "showline": true,
           "ticks": "outside",
           "title": {
            "standoff": 15
           },
           "zeroline": false,
           "zerolinecolor": "rgb(36,36,36)"
          },
          "yaxis": {
           "automargin": true,
           "gridcolor": "rgb(232,232,232)",
           "linecolor": "rgb(36,36,36)",
           "showgrid": false,
           "showline": true,
           "ticks": "outside",
           "title": {
            "standoff": 15
           },
           "zeroline": false,
           "zerolinecolor": "rgb(36,36,36)"
          }
         }
        },
        "title": {
         "font": {
          "color": "Black",
          "size": 22
         },
         "text": "Topics Over Time for 2024Q2",
         "x": 0.4,
         "xanchor": "center",
         "y": 0.95,
         "yanchor": "top"
        },
        "width": 1250,
        "xaxis": {
         "showgrid": true
        },
        "yaxis": {
         "showgrid": true,
         "title": {
          "text": "Frequency"
         }
        }
       }
      }
     },
     "metadata": {},
     "output_type": "display_data"
    }
   ],
   "source": [
    "for period, result in results.items():\n",
    "    fig = result['model'].visualize_topics_over_time(result['topics_over_time'], top_n_topics=10)\n",
    "    fig.update_layout(title_text=f\"Topics Over Time for {period}\")\n",
    "    fig.show()"
   ]
  },
  {
   "cell_type": "code",
   "execution_count": 9,
   "metadata": {},
   "outputs": [
    {
     "data": {
      "text/html": [
       "<div>\n",
       "<style scoped>\n",
       "    .dataframe tbody tr th:only-of-type {\n",
       "        vertical-align: middle;\n",
       "    }\n",
       "\n",
       "    .dataframe tbody tr th {\n",
       "        vertical-align: top;\n",
       "    }\n",
       "\n",
       "    .dataframe thead th {\n",
       "        text-align: right;\n",
       "    }\n",
       "</style>\n",
       "<table border=\"1\" class=\"dataframe\">\n",
       "  <thead>\n",
       "    <tr style=\"text-align: right;\">\n",
       "      <th></th>\n",
       "      <th>period</th>\n",
       "      <th>topics</th>\n",
       "    </tr>\n",
       "  </thead>\n",
       "  <tbody>\n",
       "    <tr>\n",
       "      <th>0</th>\n",
       "      <td>2019Q4</td>\n",
       "      <td>[-1_keliru_akurat_data_sampai, 0_kembang_mendi...</td>\n",
       "    </tr>\n",
       "    <tr>\n",
       "      <th>1</th>\n",
       "      <td>2020Q1</td>\n",
       "      <td>[0_minta_islam_cegah_pemda, 1_merdeka_ajar_men...</td>\n",
       "    </tr>\n",
       "    <tr>\n",
       "      <th>2</th>\n",
       "      <td>2020Q2</td>\n",
       "      <td>[-1_ajar_anak_perintah_buat, 0_perintah_mahasi...</td>\n",
       "    </tr>\n",
       "    <tr>\n",
       "      <th>3</th>\n",
       "      <td>2020Q3</td>\n",
       "      <td>[0_kuat_prakerja_kartu_efektivitas, 1_papua_ot...</td>\n",
       "    </tr>\n",
       "    <tr>\n",
       "      <th>4</th>\n",
       "      <td>2020Q4</td>\n",
       "      <td>[-1_pandemi_ajar_menteri_perintah, 0_cecep_upi...</td>\n",
       "    </tr>\n",
       "    <tr>\n",
       "      <th>5</th>\n",
       "      <td>2021Q1</td>\n",
       "      <td>[0_kualitas_mampu_otsus_papua, 1_audiensi_teng...</td>\n",
       "    </tr>\n",
       "    <tr>\n",
       "      <th>6</th>\n",
       "      <td>2021Q2</td>\n",
       "      <td>[-1_lanny_jaya_otsus_papua, 0_papua_otsus_infr...</td>\n",
       "    </tr>\n",
       "    <tr>\n",
       "      <th>7</th>\n",
       "      <td>2021Q3</td>\n",
       "      <td>[-1_pandemi_ajar_sekolah_jadi, 0_kualitas_ting...</td>\n",
       "    </tr>\n",
       "    <tr>\n",
       "      <th>8</th>\n",
       "      <td>2021Q4</td>\n",
       "      <td>[-1_materi_antikorupsi_mesti_libat, 0_jokowi_s...</td>\n",
       "    </tr>\n",
       "    <tr>\n",
       "      <th>9</th>\n",
       "      <td>2022Q1</td>\n",
       "      <td>[-1_tingkat_milu_bawaslu_perintah, 0_enggak_ne...</td>\n",
       "    </tr>\n",
       "    <tr>\n",
       "      <th>10</th>\n",
       "      <td>2022Q2</td>\n",
       "      <td>[0_inklusif_kawal_implementasi_bersamasama, 1_...</td>\n",
       "    </tr>\n",
       "    <tr>\n",
       "      <th>11</th>\n",
       "      <td>2022Q3</td>\n",
       "      <td>[0_lanyalla_sorot_gap_senjang, 1_merdeka_ajar_...</td>\n",
       "    </tr>\n",
       "    <tr>\n",
       "      <th>12</th>\n",
       "      <td>2022Q4</td>\n",
       "      <td>[-1_jokowi_jadi_jaga_pimpin]</td>\n",
       "    </tr>\n",
       "    <tr>\n",
       "      <th>13</th>\n",
       "      <td>2023Q1</td>\n",
       "      <td>[0_papua_otsus_asli_tingkat, 1_lalu_wujud_of_b...</td>\n",
       "    </tr>\n",
       "    <tr>\n",
       "      <th>14</th>\n",
       "      <td>2023Q2</td>\n",
       "      <td>[0_ragam_pesan_maju_ganjar, 1_indonesia_sekola...</td>\n",
       "    </tr>\n",
       "    <tr>\n",
       "      <th>15</th>\n",
       "      <td>2023Q3</td>\n",
       "      <td>[0_milihnyapakbowo_smakinmantab_jelaskerjanya_...</td>\n",
       "    </tr>\n",
       "    <tr>\n",
       "      <th>16</th>\n",
       "      <td>2023Q4</td>\n",
       "      <td>[-1_indonesia_pks_ganjar_perintah, 0_ganjar_pr...</td>\n",
       "    </tr>\n",
       "    <tr>\n",
       "      <th>17</th>\n",
       "      <td>2024Q1</td>\n",
       "      <td>[0_papua_beasiswa_bagai_sdm, 1_ganjar_pranowo_...</td>\n",
       "    </tr>\n",
       "    <tr>\n",
       "      <th>18</th>\n",
       "      <td>2024Q2</td>\n",
       "      <td>[-1_program_ajar_indonesia_tahun, 0_pramuka_wa...</td>\n",
       "    </tr>\n",
       "  </tbody>\n",
       "</table>\n",
       "</div>"
      ],
      "text/plain": [
       "    period                                             topics\n",
       "0   2019Q4  [-1_keliru_akurat_data_sampai, 0_kembang_mendi...\n",
       "1   2020Q1  [0_minta_islam_cegah_pemda, 1_merdeka_ajar_men...\n",
       "2   2020Q2  [-1_ajar_anak_perintah_buat, 0_perintah_mahasi...\n",
       "3   2020Q3  [0_kuat_prakerja_kartu_efektivitas, 1_papua_ot...\n",
       "4   2020Q4  [-1_pandemi_ajar_menteri_perintah, 0_cecep_upi...\n",
       "5   2021Q1  [0_kualitas_mampu_otsus_papua, 1_audiensi_teng...\n",
       "6   2021Q2  [-1_lanny_jaya_otsus_papua, 0_papua_otsus_infr...\n",
       "7   2021Q3  [-1_pandemi_ajar_sekolah_jadi, 0_kualitas_ting...\n",
       "8   2021Q4  [-1_materi_antikorupsi_mesti_libat, 0_jokowi_s...\n",
       "9   2022Q1  [-1_tingkat_milu_bawaslu_perintah, 0_enggak_ne...\n",
       "10  2022Q2  [0_inklusif_kawal_implementasi_bersamasama, 1_...\n",
       "11  2022Q3  [0_lanyalla_sorot_gap_senjang, 1_merdeka_ajar_...\n",
       "12  2022Q4                       [-1_jokowi_jadi_jaga_pimpin]\n",
       "13  2023Q1  [0_papua_otsus_asli_tingkat, 1_lalu_wujud_of_b...\n",
       "14  2023Q2  [0_ragam_pesan_maju_ganjar, 1_indonesia_sekola...\n",
       "15  2023Q3  [0_milihnyapakbowo_smakinmantab_jelaskerjanya_...\n",
       "16  2023Q4  [-1_indonesia_pks_ganjar_perintah, 0_ganjar_pr...\n",
       "17  2024Q1  [0_papua_beasiswa_bagai_sdm, 1_ganjar_pranowo_...\n",
       "18  2024Q2  [-1_program_ajar_indonesia_tahun, 0_pramuka_wa..."
      ]
     },
     "metadata": {},
     "output_type": "display_data"
    }
   ],
   "source": [
    "top_topics = []\n",
    "\n",
    "\n",
    "for period, result in results.items():\n",
    "    top_10_topics = result['topic_info'][0:11]\n",
    "    # top_10_topics['Name'] = top_10_topics['Name'].str.replace(r'^\\d+_', '', regex=True)\n",
    "    topic_descriptions = top_10_topics['Name'].tolist()\n",
    "    top_topics.append({'period': period, 'topics': topic_descriptions})\n",
    "\n",
    "\n",
    "top_topics_df = pd.DataFrame(top_topics)\n",
    "display(top_topics_df)"
   ]
  },
  {
   "cell_type": "code",
   "execution_count": 10,
   "metadata": {},
   "outputs": [
    {
     "name": "stdout",
     "output_type": "stream",
     "text": [
      "2019Q4: ['-1_keliru_akurat_data_sampai', '0_kembang_mendikbud_nadiem_tempo', '1_menteri_nadiem_jadi_guru', '2_merdeka_ajar_pokok_empat', '3_tetap_empat_pokok_mendikbud']\n",
      "2020Q1: ['0_minta_islam_cegah_pemda', '1_merdeka_ajar_menteri_nadiem']\n",
      "2020Q2: ['-1_ajar_anak_perintah_buat', '0_perintah_mahasiswa_menteri_baru', '1_masa_pandemi_ubah_lama', '2_timur_jawa_darurat_masa', '3_dpr_kali_komisi_kemendikbud', '4_saran_hendak_bila_implementasi', '5_afirmasi_kuat_sektor_pesantren', '6_ajar_jarak_tahun_ancam', '7_era_dokter_normal_siap', '8_pondok_menko_umum_pmk']\n",
      "2020Q3: ['0_kuat_prakerja_kartu_efektivitas', '1_papua_otonomi_khusus_otsus', '2_ajar_menteri_pandemi_covid']\n",
      "2020Q4: ['-1_pandemi_ajar_menteri_perintah', '0_cecep_upi_darmawan_universitas', '1_jadi_buat_ptnbh_baik', '2_kurikulum_kembang_buku_politik', '3_buat_satu_program_kalian', '4_muka_tatap_sekolah_ajar', '5_merdeka_menteri_kampus_nadiem']\n",
      "2021Q1: ['0_kualitas_mampu_otsus_papua', '1_audiensi_tengah_pandemi_langsung', '2_musik_tradisional_apresiasi_karya', '3_sekolah_menteri_indonesia_ajar']\n",
      "2021Q2: ['-1_lanny_jaya_otsus_papua', '0_papua_otsus_infrastruktur_sehat', '1_menteri_ajar_merdeka_budaya']\n",
      "2021Q3: ['-1_pandemi_ajar_sekolah_jadi', '0_kualitas_tingkat_sarana_lanjut', '1_tinggi_vokasi_merdeka_siap', '2_merdeka_vokasi_kampus_ajar', '3_kota_giat_narkoba_sanggau', '4_enggak_buat_ubah_perintah', '5_biaya_mahasiswa_pandemi_ringan']\n",
      "2021Q4: ['-1_materi_antikorupsi_mesti_libat', '0_jokowi_sosial_adaptasi_presidensi', '1_kota_narkoba_konsolidasi_tanggap', '2_menteri_guru_dunia_jadi']\n",
      "2022Q1: ['-1_tingkat_milu_bawaslu_perintah', '0_enggak_negara_jadi_buat', '1_ptm_ajar_dinas_kota', '2_sehat_manusia_tingkat_sumber']\n",
      "2022Q2: ['0_inklusif_kawal_implementasi_bersamasama', '1_indonesia_aliansi_masuk_beri']\n",
      "2022Q3: ['0_lanyalla_sorot_gap_senjang', '1_merdeka_ajar_menteri_indonesia']\n",
      "2022Q4: ['-1_jokowi_jadi_jaga_pimpin']\n",
      "2023Q1: ['0_papua_otsus_asli_tingkat', '1_lalu_wujud_of_biru', '2_sekolah_jam_ntt_masuk']\n",
      "2023Q2: ['0_ragam_pesan_maju_ganjar', '1_indonesia_sekolah_jadi_guru']\n",
      "2023Q3: ['0_milihnyapakbowo_smakinmantab_jelaskerjanya_kerennyasubianto', '1_prabowo_delapansmangat_utkmasadepan_barengpakbowo', '2_harapankita_subiantopastinya_kerjanyajelas_jelaspakbowo', '3_milihsubianto_hatikitaterlanjur_jelaspakbowo_kerjanyajelas', '4_jadi_indonesia_guru_enggak']\n",
      "2023Q4: ['-1_indonesia_pks_ganjar_perintah', '0_ganjar_presiden_mahfud_pranowo', '1_visisubianto_bapak_prabowo_semakinpakbowo', '2_gpmmd_sabang_merauke_ganjarmahfud', '3_ayahbowo_masgibran_semangat_nih', '4_enggak_mau_guru_kayak', '5_anies_untukprabowo_katamereka_hasil', '6_baik_bapak_prabowo_nih', '7_pks_tingkat_sehat_ekonomi', '8_internet_cepat_gratis_wilayah']\n",
      "2024Q1: ['0_papua_beasiswa_bagai_sdm', '1_ganjar_pranowo_sejahtera_lebih', '2_enggak_jadi_sekolah_guru']\n",
      "2024Q2: ['-1_program_ajar_indonesia_tahun', '0_pramuka_wajib_sekolah_hapus', '1_enggak_buat_jadi_bikin']\n"
     ]
    }
   ],
   "source": [
    "for quarter in top_topics:\n",
    "    print(f\"{quarter['period']}: {quarter['topics']}\")"
   ]
  },
  {
   "cell_type": "code",
   "execution_count": null,
   "metadata": {},
   "outputs": [],
   "source": []
  },
  {
   "cell_type": "markdown",
   "metadata": {},
   "source": [
    "# Evaluation"
   ]
  },
  {
   "cell_type": "code",
   "execution_count": 11,
   "metadata": {},
   "outputs": [],
   "source": [
    "# coherence_obj = {}\n",
    "\n",
    "# for period, result in results.items():\n",
    "#     documents = pd.DataFrame({\"Document\": result['text'],\n",
    "#                               \"ID\": range(len(result['text'])),\n",
    "#                               \"Topic\": result['topics'],\n",
    "#                               })\n",
    "\n",
    "#     documents_per_topic = documents.groupby(['Topic'], as_index=False).agg({'Document': ' '.join})\n",
    "#     cleaned_docs = result['model']._preprocess_text(documents_per_topic.Document.values)\n",
    "\n",
    "#     vectorizer = result['model'].vectorizer_model\n",
    "#     analyzer = vectorizer.build_analyzer()\n",
    "\n",
    "#     words = vectorizer.get_feature_names_out()\n",
    "#     tokens = [analyzer(doc) for doc in cleaned_docs]\n",
    "#     dictionary = corpora.Dictionary(tokens)\n",
    "#     corpus = [dictionary.doc2bow(token) for token in tokens]\n",
    "#     topic_words = [[words for words, _ in result['model'].get_topic(topic)] for topic in range(len(set(result['topics']))-1)]\n",
    "\n",
    "#     coherence_model_c_v = CoherenceModel(topics=topic_words,\n",
    "#                                     texts=tokens,\n",
    "#                                     corpus=corpus,\n",
    "#                                     dictionary=dictionary,\n",
    "#                                     coherence='c_v')\n",
    "#     coherence_model_u_mass = CoherenceModel(topics=topic_words,\n",
    "#                                     texts=tokens,\n",
    "#                                     corpus=corpus,\n",
    "#                                     dictionary=dictionary,\n",
    "#                                     coherence='u_mass')\n",
    "#     coherence_c_v = coherence_model_c_v.get_coherence()\n",
    "#     coherence_u_mass = coherence_model_u_mass.get_coherence()\n",
    "#     coherence_obj[period] = {\n",
    "#         'coherence_c_v': coherence_c_v,\n",
    "#         'coherence_u_mass': coherence_u_mass,\n",
    "#     }"
   ]
  },
  {
   "cell_type": "code",
   "execution_count": 12,
   "metadata": {},
   "outputs": [],
   "source": [
    "# coherence_obj"
   ]
  },
  {
   "cell_type": "code",
   "execution_count": null,
   "metadata": {},
   "outputs": [],
   "source": []
  }
 ],
 "metadata": {
  "kernelspec": {
   "display_name": "base",
   "language": "python",
   "name": "python3"
  },
  "language_info": {
   "codemirror_mode": {
    "name": "ipython",
    "version": 3
   },
   "file_extension": ".py",
   "mimetype": "text/x-python",
   "name": "python",
   "nbconvert_exporter": "python",
   "pygments_lexer": "ipython3",
   "version": "3.10.14"
  }
 },
 "nbformat": 4,
 "nbformat_minor": 2
}
