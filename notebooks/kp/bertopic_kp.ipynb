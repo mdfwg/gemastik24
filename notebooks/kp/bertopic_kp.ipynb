{
 "cells": [
  {
   "cell_type": "markdown",
   "metadata": {},
   "source": [
    "# Libraries"
   ]
  },
  {
   "cell_type": "code",
   "execution_count": 12,
   "metadata": {},
   "outputs": [],
   "source": [
    "import pandas as pd\n",
    "import matplotlib.pyplot as plt\n",
    "import sys\n",
    "from bertopic import BERTopic\n",
    "from gensim.corpora import Dictionary\n",
    "\n",
    "sys.path.insert(0, \"../\")\n",
    "from utils.text_preprocessing import preprocessTextDataFrame, filterWordLengthTextDataFrame\n",
    "from utils.quarter_labeling import labelQuarters\n",
    "from utils.evaluation import calculate_coherence_score"
   ]
  },
  {
   "cell_type": "markdown",
   "metadata": {},
   "source": [
    "# Load Data"
   ]
  },
  {
   "cell_type": "code",
   "execution_count": 2,
   "metadata": {},
   "outputs": [
    {
     "data": {
      "text/html": [
       "<div>\n",
       "<style scoped>\n",
       "    .dataframe tbody tr th:only-of-type {\n",
       "        vertical-align: middle;\n",
       "    }\n",
       "\n",
       "    .dataframe tbody tr th {\n",
       "        vertical-align: top;\n",
       "    }\n",
       "\n",
       "    .dataframe thead th {\n",
       "        text-align: right;\n",
       "    }\n",
       "</style>\n",
       "<table border=\"1\" class=\"dataframe\">\n",
       "  <thead>\n",
       "    <tr style=\"text-align: right;\">\n",
       "      <th></th>\n",
       "      <th>created_at</th>\n",
       "      <th>full_text</th>\n",
       "    </tr>\n",
       "  </thead>\n",
       "  <tbody>\n",
       "    <tr>\n",
       "      <th>0</th>\n",
       "      <td>2019-11-01 00:43:08+00:00</td>\n",
       "      <td>by lewat</td>\n",
       "    </tr>\n",
       "    <tr>\n",
       "      <th>1</th>\n",
       "      <td>2019-11-01 02:42:52+00:00</td>\n",
       "      <td>kakanwil kemenag provinsi papua pdt amsal yowe...</td>\n",
       "    </tr>\n",
       "    <tr>\n",
       "      <th>2</th>\n",
       "      <td>2019-11-01 08:53:32+00:00</td>\n",
       "      <td>politik baik anggota dprd betul psi libat raky...</td>\n",
       "    </tr>\n",
       "    <tr>\n",
       "      <th>3</th>\n",
       "      <td>2019-11-01 09:15:05+00:00</td>\n",
       "      <td>politik baik anggota dprd betul psi libat raky...</td>\n",
       "    </tr>\n",
       "    <tr>\n",
       "      <th>4</th>\n",
       "      <td>2019-11-01 11:16:16+00:00</td>\n",
       "      <td>kerja institusi  izin alami baru masuk temu bi...</td>\n",
       "    </tr>\n",
       "    <tr>\n",
       "      <th>...</th>\n",
       "      <td>...</td>\n",
       "      <td>...</td>\n",
       "    </tr>\n",
       "    <tr>\n",
       "      <th>8431</th>\n",
       "      <td>2024-04-29 09:26:46+00:00</td>\n",
       "      <td>pintas masa depan agama indonesia lihat lebih ...</td>\n",
       "    </tr>\n",
       "    <tr>\n",
       "      <th>8432</th>\n",
       "      <td>2024-04-29 12:00:01+00:00</td>\n",
       "      <td>hitung tahun ajar perintah lalu kemendikbud ja...</td>\n",
       "    </tr>\n",
       "    <tr>\n",
       "      <th>8433</th>\n",
       "      <td>2024-04-29 13:45:36+00:00</td>\n",
       "      <td>bersikukuh  tinggi komersialisasi semenjak  pt...</td>\n",
       "    </tr>\n",
       "    <tr>\n",
       "      <th>8434</th>\n",
       "      <td>2024-04-29 16:48:01+00:00</td>\n",
       "      <td>kagak ngotak asli dahh sbnrnya salah   sekaran...</td>\n",
       "    </tr>\n",
       "    <tr>\n",
       "      <th>8435</th>\n",
       "      <td>2024-04-29 23:50:04+00:00</td>\n",
       "      <td>bahasa inggris sd tantang imbang</td>\n",
       "    </tr>\n",
       "  </tbody>\n",
       "</table>\n",
       "<p>8434 rows × 2 columns</p>\n",
       "</div>"
      ],
      "text/plain": [
       "                     created_at  \\\n",
       "0     2019-11-01 00:43:08+00:00   \n",
       "1     2019-11-01 02:42:52+00:00   \n",
       "2     2019-11-01 08:53:32+00:00   \n",
       "3     2019-11-01 09:15:05+00:00   \n",
       "4     2019-11-01 11:16:16+00:00   \n",
       "...                         ...   \n",
       "8431  2024-04-29 09:26:46+00:00   \n",
       "8432  2024-04-29 12:00:01+00:00   \n",
       "8433  2024-04-29 13:45:36+00:00   \n",
       "8434  2024-04-29 16:48:01+00:00   \n",
       "8435  2024-04-29 23:50:04+00:00   \n",
       "\n",
       "                                              full_text  \n",
       "0                                              by lewat  \n",
       "1     kakanwil kemenag provinsi papua pdt amsal yowe...  \n",
       "2     politik baik anggota dprd betul psi libat raky...  \n",
       "3     politik baik anggota dprd betul psi libat raky...  \n",
       "4     kerja institusi  izin alami baru masuk temu bi...  \n",
       "...                                                 ...  \n",
       "8431  pintas masa depan agama indonesia lihat lebih ...  \n",
       "8432  hitung tahun ajar perintah lalu kemendikbud ja...  \n",
       "8433  bersikukuh  tinggi komersialisasi semenjak  pt...  \n",
       "8434  kagak ngotak asli dahh sbnrnya salah   sekaran...  \n",
       "8435                   bahasa inggris sd tantang imbang  \n",
       "\n",
       "[8434 rows x 2 columns]"
      ]
     },
     "execution_count": 2,
     "metadata": {},
     "output_type": "execute_result"
    }
   ],
   "source": [
    "tweet = pd.read_csv('../../src/cleaned_kp.csv')\n",
    "tweet = tweet.dropna(subset=['full_text'])\n",
    "tweet = tweet[['created_at', 'full_text']]\n",
    "tweet"
   ]
  },
  {
   "cell_type": "markdown",
   "metadata": {},
   "source": [
    "# Preprocess"
   ]
  },
  {
   "cell_type": "code",
   "execution_count": 3,
   "metadata": {},
   "outputs": [
    {
     "data": {
      "text/html": [
       "<div>\n",
       "<style scoped>\n",
       "    .dataframe tbody tr th:only-of-type {\n",
       "        vertical-align: middle;\n",
       "    }\n",
       "\n",
       "    .dataframe tbody tr th {\n",
       "        vertical-align: top;\n",
       "    }\n",
       "\n",
       "    .dataframe thead th {\n",
       "        text-align: right;\n",
       "    }\n",
       "</style>\n",
       "<table border=\"1\" class=\"dataframe\">\n",
       "  <thead>\n",
       "    <tr style=\"text-align: right;\">\n",
       "      <th></th>\n",
       "      <th>created_at</th>\n",
       "      <th>full_text</th>\n",
       "    </tr>\n",
       "  </thead>\n",
       "  <tbody>\n",
       "    <tr>\n",
       "      <th>1</th>\n",
       "      <td>2019-11-01 02:42:52+00:00</td>\n",
       "      <td>[kakanwil, kemenag, provinsi, papua, pdt, amsa...</td>\n",
       "    </tr>\n",
       "    <tr>\n",
       "      <th>2</th>\n",
       "      <td>2019-11-01 08:53:32+00:00</td>\n",
       "      <td>[politik, baik, anggota, dprd, betul, psi, lib...</td>\n",
       "    </tr>\n",
       "    <tr>\n",
       "      <th>3</th>\n",
       "      <td>2019-11-01 09:15:05+00:00</td>\n",
       "      <td>[politik, baik, anggota, dprd, betul, psi, lib...</td>\n",
       "    </tr>\n",
       "    <tr>\n",
       "      <th>4</th>\n",
       "      <td>2019-11-01 11:16:16+00:00</td>\n",
       "      <td>[kerja, institusi, izin, alami, baru, masuk, t...</td>\n",
       "    </tr>\n",
       "    <tr>\n",
       "      <th>6</th>\n",
       "      <td>2019-11-02 02:40:05+00:00</td>\n",
       "      <td>[penting, aspekaspek, publik]</td>\n",
       "    </tr>\n",
       "    <tr>\n",
       "      <th>...</th>\n",
       "      <td>...</td>\n",
       "      <td>...</td>\n",
       "    </tr>\n",
       "    <tr>\n",
       "      <th>8431</th>\n",
       "      <td>2024-04-29 09:26:46+00:00</td>\n",
       "      <td>[pintas, masa, depan, agama, indonesia, lihat,...</td>\n",
       "    </tr>\n",
       "    <tr>\n",
       "      <th>8432</th>\n",
       "      <td>2024-04-29 12:00:01+00:00</td>\n",
       "      <td>[hitung, tahun, ajar, perintah, lalu, kemendik...</td>\n",
       "    </tr>\n",
       "    <tr>\n",
       "      <th>8433</th>\n",
       "      <td>2024-04-29 13:45:36+00:00</td>\n",
       "      <td>[bersikukuh, tinggi, komersialisasi, semenjak,...</td>\n",
       "    </tr>\n",
       "    <tr>\n",
       "      <th>8434</th>\n",
       "      <td>2024-04-29 16:48:01+00:00</td>\n",
       "      <td>[kagak, ngotak, asli, dahh, sbnrnya, salah, se...</td>\n",
       "    </tr>\n",
       "    <tr>\n",
       "      <th>8435</th>\n",
       "      <td>2024-04-29 23:50:04+00:00</td>\n",
       "      <td>[bahasa, inggris, sd, tantang, imbang]</td>\n",
       "    </tr>\n",
       "  </tbody>\n",
       "</table>\n",
       "<p>8391 rows × 2 columns</p>\n",
       "</div>"
      ],
      "text/plain": [
       "                    created_at  \\\n",
       "1    2019-11-01 02:42:52+00:00   \n",
       "2    2019-11-01 08:53:32+00:00   \n",
       "3    2019-11-01 09:15:05+00:00   \n",
       "4    2019-11-01 11:16:16+00:00   \n",
       "6    2019-11-02 02:40:05+00:00   \n",
       "...                        ...   \n",
       "8431 2024-04-29 09:26:46+00:00   \n",
       "8432 2024-04-29 12:00:01+00:00   \n",
       "8433 2024-04-29 13:45:36+00:00   \n",
       "8434 2024-04-29 16:48:01+00:00   \n",
       "8435 2024-04-29 23:50:04+00:00   \n",
       "\n",
       "                                              full_text  \n",
       "1     [kakanwil, kemenag, provinsi, papua, pdt, amsa...  \n",
       "2     [politik, baik, anggota, dprd, betul, psi, lib...  \n",
       "3     [politik, baik, anggota, dprd, betul, psi, lib...  \n",
       "4     [kerja, institusi, izin, alami, baru, masuk, t...  \n",
       "6                         [penting, aspekaspek, publik]  \n",
       "...                                                 ...  \n",
       "8431  [pintas, masa, depan, agama, indonesia, lihat,...  \n",
       "8432  [hitung, tahun, ajar, perintah, lalu, kemendik...  \n",
       "8433  [bersikukuh, tinggi, komersialisasi, semenjak,...  \n",
       "8434  [kagak, ngotak, asli, dahh, sbnrnya, salah, se...  \n",
       "8435             [bahasa, inggris, sd, tantang, imbang]  \n",
       "\n",
       "[8391 rows x 2 columns]"
      ]
     },
     "execution_count": 3,
     "metadata": {},
     "output_type": "execute_result"
    }
   ],
   "source": [
    "tweet_preprocessed = tweet.copy()\n",
    "tweet_preprocessed = preprocessTextDataFrame(df=tweet_preprocessed, dt_column='created_at', text_column='full_text')\n",
    "tweet_preprocessed = filterWordLengthTextDataFrame(tweet_preprocessed, 'full_text', 3)\n",
    "tweet_preprocessed"
   ]
  },
  {
   "cell_type": "code",
   "execution_count": 4,
   "metadata": {},
   "outputs": [],
   "source": [
    "tweet_quarter = tweet_preprocessed.copy()\n",
    "\n",
    "tweet_quarter = labelQuarters(tweet_quarter, 'created_at')\n",
    "tweet_quarter['full_text'] = tweet_quarter['full_text'].str.join(' ')\n",
    "\n",
    "tweet_quarter = tweet_quarter.groupby('quarter')"
   ]
  },
  {
   "cell_type": "markdown",
   "metadata": {},
   "source": [
    "# Modeling"
   ]
  },
  {
   "cell_type": "code",
   "execution_count": 37,
   "metadata": {},
   "outputs": [],
   "source": [
    "results = {}"
   ]
  },
  {
   "cell_type": "code",
   "execution_count": 38,
   "metadata": {},
   "outputs": [
    {
     "name": "stdout",
     "output_type": "stream",
     "text": [
      "CPU times: total: 22min 10s\n",
      "Wall time: 6min 47s\n"
     ]
    }
   ],
   "source": [
    "%%time\n",
    "for period, group in tweet_quarter:\n",
    "    topic_model = BERTopic(verbose=False,\n",
    "                           language='indonesian', calculate_probabilities=True,\n",
    "                           nr_topics=10,\n",
    "                           )\n",
    "    text_data = group['full_text'].tolist()\n",
    "    timestamps = group['created_at'].tolist()\n",
    "    topics, probs = topic_model.fit_transform(text_data)\n",
    "    results[period] = {\n",
    "        'model' : topic_model,\n",
    "        'topics_over_time' : topic_model.topics_over_time(text_data, timestamps, nr_bins=30),\n",
    "        'topics': topics,\n",
    "        'probs': probs,\n",
    "        'topic_info': topic_model.get_topic_info(),\n",
    "    }"
   ]
  },
  {
   "cell_type": "code",
   "execution_count": 39,
   "metadata": {},
   "outputs": [
    {
     "data": {
      "application/vnd.plotly.v1+json": {
       "config": {
        "plotlyServerURL": "https://plot.ly"
       },
       "data": [
        {
         "hoverinfo": "text",
         "hovertext": [
          "<b>Topic 0</b><br>Words: teu, buat, demo, agama, mun",
          "<b>Topic 0</b><br>Words: guru, amp, sehat, nadiem, jadi",
          "<b>Topic 0</b><br>Words: jadi, indonesia, coba, menteri, jangan",
          "<b>Topic 0</b><br>Words: anak, satu, makan, jadi, sedia",
          "<b>Topic 0</b><br>Words: tingkat, syarat, sehat, diklat, indeks",
          "<b>Topic 0</b><br>Words: kembang, nadiem, mendikbud, lima, indonesia",
          "<b>Topic 0</b><br>Words: jadi, masalah, teknik, mengakomodir, kau",
          "<b>Topic 0</b><br>Words: guru, jadi, nadiem, analisis, moga",
          "<b>Topic 0</b><br>Words: menteri, un, nadiem, blora, tau",
          "<b>Topic 0</b><br>Words: snmptn, utbk, kaji, analisis, arah",
          "<b>Topic 0</b><br>Words: aceh, jadi, guru, menteri, budaya",
          "<b>Topic 0</b><br>Words: banyak, guru, baru, jadi, kurikulum",
          "<b>Topic 0</b><br>Words: ppp, perempuan, politik, berapa, ibu",
          "<b>Topic 0</b><br>Words: nadiem, menteri, mendikbud, merdeka, makarim",
          "<b>Topic 0</b><br>Words: menteri, un, ganti, nadiem, ajar",
          "<b>Topic 0</b><br>Words: menteri, un, nadiem, hapus, ajar",
          "<b>Topic 0</b><br>Words: guru, lembaga, muhammadiyah, sistem, tuju",
          "<b>Topic 0</b><br>Words: nadiem, menteri, budaya, makarim, ajar",
          "<b>Topic 0</b><br>Words: mulus, jajah, abdul, jabar, jawa",
          "<b>Topic 0</b><br>Words: dewan, dialog, provinsi, publik, ajar",
          "<b>Topic 0</b><br>Words: ubah, kemendikbud, integrasi, apa, jadi",
          "<b>Topic 0</b><br>Words: malaysia, mundur, habis, kritik, menteri",
          "<b>Topic 0</b><br>Words: menteri, sekolah, jateng, ajar, sesi",
          "<b>Topic 0</b><br>Words: anies, banyak, ibu, anggar, bapak",
          "<b>Topic 0</b><br>Words: jago, ilmu, formal, non, arah",
          "<b>Topic 0</b><br>Words: anti, lingkung, masuk, nadiem, perintah",
          "<b>Topic 0</b><br>Words: kena, zonasi, malang, dokter, wapres",
          "<b>Topic 0</b><br>Words: merdeka, kampus, luncur, ajar, nadiem",
          "<b>Topic 0</b><br>Words: tinggi, merdeka, nadiem, kampus, makarim",
          "<b>Topic 0</b><br>Words: kampus, merdeka, nadiem, makarim, menteri"
         ],
         "marker": {
          "color": "#E69F00"
         },
         "mode": "lines",
         "name": "0_nadiem_menteri_merdeka_guru",
         "type": "scatter",
         "x": [
          "2019-11-01T00:30:28.732999+00:00",
          "2019-11-04T04:15:47.566666+00:00",
          "2019-11-07T05:48:43.133333+00:00",
          "2019-11-10T07:21:38.700000+00:00",
          "2019-11-13T08:54:34.266666+00:00",
          "2019-11-16T10:27:29.833333+00:00",
          "2019-11-19T12:00:25.400000+00:00",
          "2019-11-22T13:33:20.966666+00:00",
          "2019-11-25T15:06:16.533333+00:00",
          "2019-11-28T16:39:12.100000+00:00",
          "2019-12-01T18:12:07.666666+00:00",
          "2019-12-04T19:45:03.233333+00:00",
          "2019-12-07T21:17:58.800000+00:00",
          "2019-12-10T22:50:54.366666+00:00",
          "2019-12-14T00:23:49.933333+00:00",
          "2019-12-17T01:56:45.500000+00:00",
          "2019-12-20T03:29:41.066666+00:00",
          "2019-12-23T05:02:36.633333+00:00",
          "2019-12-26T06:35:32.200000+00:00",
          "2019-12-29T08:08:27.766666+00:00",
          "2020-01-01T09:41:23.333333+00:00",
          "2020-01-04T11:14:18.900000+00:00",
          "2020-01-07T12:47:14.466666+00:00",
          "2020-01-10T14:20:10.033333+00:00",
          "2020-01-13T15:53:05.600000+00:00",
          "2020-01-16T17:26:01.166666+00:00",
          "2020-01-19T18:58:56.733333+00:00",
          "2020-01-22T20:31:52.300000+00:00",
          "2020-01-25T22:04:47.866666+00:00",
          "2020-01-28T23:37:43.433333+00:00"
         ],
         "y": [
          8,
          21,
          17,
          10,
          13,
          29,
          9,
          47,
          16,
          5,
          19,
          20,
          10,
          69,
          40,
          32,
          10,
          12,
          12,
          3,
          11,
          16,
          13,
          7,
          15,
          6,
          8,
          27,
          49,
          23
         ]
        },
        {
         "hoverinfo": "text",
         "hovertext": [
          "<b>Topic 1</b><br>Words: tetap, pokok, empat, mendikbud, ajar",
          "<b>Topic 1</b><br>Words: tetap, pokok, empat, mendikbud, ajar",
          "<b>Topic 1</b><br>Words: tetap, pokok, empat, mendikbud, ajar"
         ],
         "marker": {
          "color": "#56B4E9"
         },
         "mode": "lines",
         "name": "1_tetap_pokok_empat_mendikbud",
         "type": "scatter",
         "x": [
          "2019-12-10T22:50:54.366666+00:00",
          "2019-12-14T00:23:49.933333+00:00",
          "2019-12-17T01:56:45.500000+00:00"
         ],
         "y": [
          15,
          2,
          1
         ]
        },
        {
         "hoverinfo": "text",
         "hovertext": [
          "<b>Topic 2</b><br>Words: pokok, ajar, merdeka, empat, mendikbud",
          "<b>Topic 2</b><br>Words: pokok, luncur, ajar, merdeka, mendikbud"
         ],
         "marker": {
          "color": "#009E73"
         },
         "mode": "lines",
         "name": "2_pokok_ajar_merdeka_empat",
         "type": "scatter",
         "x": [
          "2019-12-10T22:50:54.366666+00:00",
          "2019-12-14T00:23:49.933333+00:00"
         ],
         "y": [
          11,
          1
         ]
        }
       ],
       "layout": {
        "height": 450,
        "hoverlabel": {
         "bgcolor": "white",
         "font": {
          "family": "Rockwell",
          "size": 16
         }
        },
        "legend": {
         "title": {
          "text": "<b>Global Topic Representation"
         }
        },
        "template": {
         "data": {
          "bar": [
           {
            "error_x": {
             "color": "rgb(36,36,36)"
            },
            "error_y": {
             "color": "rgb(36,36,36)"
            },
            "marker": {
             "line": {
              "color": "white",
              "width": 0.5
             },
             "pattern": {
              "fillmode": "overlay",
              "size": 10,
              "solidity": 0.2
             }
            },
            "type": "bar"
           }
          ],
          "barpolar": [
           {
            "marker": {
             "line": {
              "color": "white",
              "width": 0.5
             },
             "pattern": {
              "fillmode": "overlay",
              "size": 10,
              "solidity": 0.2
             }
            },
            "type": "barpolar"
           }
          ],
          "carpet": [
           {
            "aaxis": {
             "endlinecolor": "rgb(36,36,36)",
             "gridcolor": "white",
             "linecolor": "white",
             "minorgridcolor": "white",
             "startlinecolor": "rgb(36,36,36)"
            },
            "baxis": {
             "endlinecolor": "rgb(36,36,36)",
             "gridcolor": "white",
             "linecolor": "white",
             "minorgridcolor": "white",
             "startlinecolor": "rgb(36,36,36)"
            },
            "type": "carpet"
           }
          ],
          "choropleth": [
           {
            "colorbar": {
             "outlinewidth": 1,
             "tickcolor": "rgb(36,36,36)",
             "ticks": "outside"
            },
            "type": "choropleth"
           }
          ],
          "contour": [
           {
            "colorbar": {
             "outlinewidth": 1,
             "tickcolor": "rgb(36,36,36)",
             "ticks": "outside"
            },
            "colorscale": [
             [
              0,
              "#440154"
             ],
             [
              0.1111111111111111,
              "#482878"
             ],
             [
              0.2222222222222222,
              "#3e4989"
             ],
             [
              0.3333333333333333,
              "#31688e"
             ],
             [
              0.4444444444444444,
              "#26828e"
             ],
             [
              0.5555555555555556,
              "#1f9e89"
             ],
             [
              0.6666666666666666,
              "#35b779"
             ],
             [
              0.7777777777777778,
              "#6ece58"
             ],
             [
              0.8888888888888888,
              "#b5de2b"
             ],
             [
              1,
              "#fde725"
             ]
            ],
            "type": "contour"
           }
          ],
          "contourcarpet": [
           {
            "colorbar": {
             "outlinewidth": 1,
             "tickcolor": "rgb(36,36,36)",
             "ticks": "outside"
            },
            "type": "contourcarpet"
           }
          ],
          "heatmap": [
           {
            "colorbar": {
             "outlinewidth": 1,
             "tickcolor": "rgb(36,36,36)",
             "ticks": "outside"
            },
            "colorscale": [
             [
              0,
              "#440154"
             ],
             [
              0.1111111111111111,
              "#482878"
             ],
             [
              0.2222222222222222,
              "#3e4989"
             ],
             [
              0.3333333333333333,
              "#31688e"
             ],
             [
              0.4444444444444444,
              "#26828e"
             ],
             [
              0.5555555555555556,
              "#1f9e89"
             ],
             [
              0.6666666666666666,
              "#35b779"
             ],
             [
              0.7777777777777778,
              "#6ece58"
             ],
             [
              0.8888888888888888,
              "#b5de2b"
             ],
             [
              1,
              "#fde725"
             ]
            ],
            "type": "heatmap"
           }
          ],
          "heatmapgl": [
           {
            "colorbar": {
             "outlinewidth": 1,
             "tickcolor": "rgb(36,36,36)",
             "ticks": "outside"
            },
            "colorscale": [
             [
              0,
              "#440154"
             ],
             [
              0.1111111111111111,
              "#482878"
             ],
             [
              0.2222222222222222,
              "#3e4989"
             ],
             [
              0.3333333333333333,
              "#31688e"
             ],
             [
              0.4444444444444444,
              "#26828e"
             ],
             [
              0.5555555555555556,
              "#1f9e89"
             ],
             [
              0.6666666666666666,
              "#35b779"
             ],
             [
              0.7777777777777778,
              "#6ece58"
             ],
             [
              0.8888888888888888,
              "#b5de2b"
             ],
             [
              1,
              "#fde725"
             ]
            ],
            "type": "heatmapgl"
           }
          ],
          "histogram": [
           {
            "marker": {
             "line": {
              "color": "white",
              "width": 0.6
             }
            },
            "type": "histogram"
           }
          ],
          "histogram2d": [
           {
            "colorbar": {
             "outlinewidth": 1,
             "tickcolor": "rgb(36,36,36)",
             "ticks": "outside"
            },
            "colorscale": [
             [
              0,
              "#440154"
             ],
             [
              0.1111111111111111,
              "#482878"
             ],
             [
              0.2222222222222222,
              "#3e4989"
             ],
             [
              0.3333333333333333,
              "#31688e"
             ],
             [
              0.4444444444444444,
              "#26828e"
             ],
             [
              0.5555555555555556,
              "#1f9e89"
             ],
             [
              0.6666666666666666,
              "#35b779"
             ],
             [
              0.7777777777777778,
              "#6ece58"
             ],
             [
              0.8888888888888888,
              "#b5de2b"
             ],
             [
              1,
              "#fde725"
             ]
            ],
            "type": "histogram2d"
           }
          ],
          "histogram2dcontour": [
           {
            "colorbar": {
             "outlinewidth": 1,
             "tickcolor": "rgb(36,36,36)",
             "ticks": "outside"
            },
            "colorscale": [
             [
              0,
              "#440154"
             ],
             [
              0.1111111111111111,
              "#482878"
             ],
             [
              0.2222222222222222,
              "#3e4989"
             ],
             [
              0.3333333333333333,
              "#31688e"
             ],
             [
              0.4444444444444444,
              "#26828e"
             ],
             [
              0.5555555555555556,
              "#1f9e89"
             ],
             [
              0.6666666666666666,
              "#35b779"
             ],
             [
              0.7777777777777778,
              "#6ece58"
             ],
             [
              0.8888888888888888,
              "#b5de2b"
             ],
             [
              1,
              "#fde725"
             ]
            ],
            "type": "histogram2dcontour"
           }
          ],
          "mesh3d": [
           {
            "colorbar": {
             "outlinewidth": 1,
             "tickcolor": "rgb(36,36,36)",
             "ticks": "outside"
            },
            "type": "mesh3d"
           }
          ],
          "parcoords": [
           {
            "line": {
             "colorbar": {
              "outlinewidth": 1,
              "tickcolor": "rgb(36,36,36)",
              "ticks": "outside"
             }
            },
            "type": "parcoords"
           }
          ],
          "pie": [
           {
            "automargin": true,
            "type": "pie"
           }
          ],
          "scatter": [
           {
            "fillpattern": {
             "fillmode": "overlay",
             "size": 10,
             "solidity": 0.2
            },
            "type": "scatter"
           }
          ],
          "scatter3d": [
           {
            "line": {
             "colorbar": {
              "outlinewidth": 1,
              "tickcolor": "rgb(36,36,36)",
              "ticks": "outside"
             }
            },
            "marker": {
             "colorbar": {
              "outlinewidth": 1,
              "tickcolor": "rgb(36,36,36)",
              "ticks": "outside"
             }
            },
            "type": "scatter3d"
           }
          ],
          "scattercarpet": [
           {
            "marker": {
             "colorbar": {
              "outlinewidth": 1,
              "tickcolor": "rgb(36,36,36)",
              "ticks": "outside"
             }
            },
            "type": "scattercarpet"
           }
          ],
          "scattergeo": [
           {
            "marker": {
             "colorbar": {
              "outlinewidth": 1,
              "tickcolor": "rgb(36,36,36)",
              "ticks": "outside"
             }
            },
            "type": "scattergeo"
           }
          ],
          "scattergl": [
           {
            "marker": {
             "colorbar": {
              "outlinewidth": 1,
              "tickcolor": "rgb(36,36,36)",
              "ticks": "outside"
             }
            },
            "type": "scattergl"
           }
          ],
          "scattermapbox": [
           {
            "marker": {
             "colorbar": {
              "outlinewidth": 1,
              "tickcolor": "rgb(36,36,36)",
              "ticks": "outside"
             }
            },
            "type": "scattermapbox"
           }
          ],
          "scatterpolar": [
           {
            "marker": {
             "colorbar": {
              "outlinewidth": 1,
              "tickcolor": "rgb(36,36,36)",
              "ticks": "outside"
             }
            },
            "type": "scatterpolar"
           }
          ],
          "scatterpolargl": [
           {
            "marker": {
             "colorbar": {
              "outlinewidth": 1,
              "tickcolor": "rgb(36,36,36)",
              "ticks": "outside"
             }
            },
            "type": "scatterpolargl"
           }
          ],
          "scatterternary": [
           {
            "marker": {
             "colorbar": {
              "outlinewidth": 1,
              "tickcolor": "rgb(36,36,36)",
              "ticks": "outside"
             }
            },
            "type": "scatterternary"
           }
          ],
          "surface": [
           {
            "colorbar": {
             "outlinewidth": 1,
             "tickcolor": "rgb(36,36,36)",
             "ticks": "outside"
            },
            "colorscale": [
             [
              0,
              "#440154"
             ],
             [
              0.1111111111111111,
              "#482878"
             ],
             [
              0.2222222222222222,
              "#3e4989"
             ],
             [
              0.3333333333333333,
              "#31688e"
             ],
             [
              0.4444444444444444,
              "#26828e"
             ],
             [
              0.5555555555555556,
              "#1f9e89"
             ],
             [
              0.6666666666666666,
              "#35b779"
             ],
             [
              0.7777777777777778,
              "#6ece58"
             ],
             [
              0.8888888888888888,
              "#b5de2b"
             ],
             [
              1,
              "#fde725"
             ]
            ],
            "type": "surface"
           }
          ],
          "table": [
           {
            "cells": {
             "fill": {
              "color": "rgb(237,237,237)"
             },
             "line": {
              "color": "white"
             }
            },
            "header": {
             "fill": {
              "color": "rgb(217,217,217)"
             },
             "line": {
              "color": "white"
             }
            },
            "type": "table"
           }
          ]
         },
         "layout": {
          "annotationdefaults": {
           "arrowhead": 0,
           "arrowwidth": 1
          },
          "autotypenumbers": "strict",
          "coloraxis": {
           "colorbar": {
            "outlinewidth": 1,
            "tickcolor": "rgb(36,36,36)",
            "ticks": "outside"
           }
          },
          "colorscale": {
           "diverging": [
            [
             0,
             "rgb(103,0,31)"
            ],
            [
             0.1,
             "rgb(178,24,43)"
            ],
            [
             0.2,
             "rgb(214,96,77)"
            ],
            [
             0.3,
             "rgb(244,165,130)"
            ],
            [
             0.4,
             "rgb(253,219,199)"
            ],
            [
             0.5,
             "rgb(247,247,247)"
            ],
            [
             0.6,
             "rgb(209,229,240)"
            ],
            [
             0.7,
             "rgb(146,197,222)"
            ],
            [
             0.8,
             "rgb(67,147,195)"
            ],
            [
             0.9,
             "rgb(33,102,172)"
            ],
            [
             1,
             "rgb(5,48,97)"
            ]
           ],
           "sequential": [
            [
             0,
             "#440154"
            ],
            [
             0.1111111111111111,
             "#482878"
            ],
            [
             0.2222222222222222,
             "#3e4989"
            ],
            [
             0.3333333333333333,
             "#31688e"
            ],
            [
             0.4444444444444444,
             "#26828e"
            ],
            [
             0.5555555555555556,
             "#1f9e89"
            ],
            [
             0.6666666666666666,
             "#35b779"
            ],
            [
             0.7777777777777778,
             "#6ece58"
            ],
            [
             0.8888888888888888,
             "#b5de2b"
            ],
            [
             1,
             "#fde725"
            ]
           ],
           "sequentialminus": [
            [
             0,
             "#440154"
            ],
            [
             0.1111111111111111,
             "#482878"
            ],
            [
             0.2222222222222222,
             "#3e4989"
            ],
            [
             0.3333333333333333,
             "#31688e"
            ],
            [
             0.4444444444444444,
             "#26828e"
            ],
            [
             0.5555555555555556,
             "#1f9e89"
            ],
            [
             0.6666666666666666,
             "#35b779"
            ],
            [
             0.7777777777777778,
             "#6ece58"
            ],
            [
             0.8888888888888888,
             "#b5de2b"
            ],
            [
             1,
             "#fde725"
            ]
           ]
          },
          "colorway": [
           "#1F77B4",
           "#FF7F0E",
           "#2CA02C",
           "#D62728",
           "#9467BD",
           "#8C564B",
           "#E377C2",
           "#7F7F7F",
           "#BCBD22",
           "#17BECF"
          ],
          "font": {
           "color": "rgb(36,36,36)"
          },
          "geo": {
           "bgcolor": "white",
           "lakecolor": "white",
           "landcolor": "white",
           "showlakes": true,
           "showland": true,
           "subunitcolor": "white"
          },
          "hoverlabel": {
           "align": "left"
          },
          "hovermode": "closest",
          "mapbox": {
           "style": "light"
          },
          "paper_bgcolor": "white",
          "plot_bgcolor": "white",
          "polar": {
           "angularaxis": {
            "gridcolor": "rgb(232,232,232)",
            "linecolor": "rgb(36,36,36)",
            "showgrid": false,
            "showline": true,
            "ticks": "outside"
           },
           "bgcolor": "white",
           "radialaxis": {
            "gridcolor": "rgb(232,232,232)",
            "linecolor": "rgb(36,36,36)",
            "showgrid": false,
            "showline": true,
            "ticks": "outside"
           }
          },
          "scene": {
           "xaxis": {
            "backgroundcolor": "white",
            "gridcolor": "rgb(232,232,232)",
            "gridwidth": 2,
            "linecolor": "rgb(36,36,36)",
            "showbackground": true,
            "showgrid": false,
            "showline": true,
            "ticks": "outside",
            "zeroline": false,
            "zerolinecolor": "rgb(36,36,36)"
           },
           "yaxis": {
            "backgroundcolor": "white",
            "gridcolor": "rgb(232,232,232)",
            "gridwidth": 2,
            "linecolor": "rgb(36,36,36)",
            "showbackground": true,
            "showgrid": false,
            "showline": true,
            "ticks": "outside",
            "zeroline": false,
            "zerolinecolor": "rgb(36,36,36)"
           },
           "zaxis": {
            "backgroundcolor": "white",
            "gridcolor": "rgb(232,232,232)",
            "gridwidth": 2,
            "linecolor": "rgb(36,36,36)",
            "showbackground": true,
            "showgrid": false,
            "showline": true,
            "ticks": "outside",
            "zeroline": false,
            "zerolinecolor": "rgb(36,36,36)"
           }
          },
          "shapedefaults": {
           "fillcolor": "black",
           "line": {
            "width": 0
           },
           "opacity": 0.3
          },
          "ternary": {
           "aaxis": {
            "gridcolor": "rgb(232,232,232)",
            "linecolor": "rgb(36,36,36)",
            "showgrid": false,
            "showline": true,
            "ticks": "outside"
           },
           "baxis": {
            "gridcolor": "rgb(232,232,232)",
            "linecolor": "rgb(36,36,36)",
            "showgrid": false,
            "showline": true,
            "ticks": "outside"
           },
           "bgcolor": "white",
           "caxis": {
            "gridcolor": "rgb(232,232,232)",
            "linecolor": "rgb(36,36,36)",
            "showgrid": false,
            "showline": true,
            "ticks": "outside"
           }
          },
          "title": {
           "x": 0.05
          },
          "xaxis": {
           "automargin": true,
           "gridcolor": "rgb(232,232,232)",
           "linecolor": "rgb(36,36,36)",
           "showgrid": false,
           "showline": true,
           "ticks": "outside",
           "title": {
            "standoff": 15
           },
           "zeroline": false,
           "zerolinecolor": "rgb(36,36,36)"
          },
          "yaxis": {
           "automargin": true,
           "gridcolor": "rgb(232,232,232)",
           "linecolor": "rgb(36,36,36)",
           "showgrid": false,
           "showline": true,
           "ticks": "outside",
           "title": {
            "standoff": 15
           },
           "zeroline": false,
           "zerolinecolor": "rgb(36,36,36)"
          }
         }
        },
        "title": {
         "font": {
          "color": "Black",
          "size": 22
         },
         "text": "Topics Over Time for 2019_11-2020_01",
         "x": 0.4,
         "xanchor": "center",
         "y": 0.95,
         "yanchor": "top"
        },
        "width": 1250,
        "xaxis": {
         "showgrid": true
        },
        "yaxis": {
         "showgrid": true,
         "title": {
          "text": "Frequency"
         }
        }
       }
      }
     },
     "metadata": {},
     "output_type": "display_data"
    },
    {
     "data": {
      "application/vnd.plotly.v1+json": {
       "config": {
        "plotlyServerURL": "https://plot.ly"
       },
       "data": [
        {
         "hoverinfo": "text",
         "hovertext": [
          "<b>Topic 0</b><br>Words: islam, minta, cegah, pemda, buku",
          "<b>Topic 0</b><br>Words: islam, analisa, orde, jepang, belanda",
          "<b>Topic 0</b><br>Words: islam, minta, cegah, pemda, ikut",
          "<b>Topic 0</b><br>Words: islam, minta, cegah, pemda, ikut"
         ],
         "marker": {
          "color": "#E69F00"
         },
         "mode": "lines",
         "name": "0_islam_minta_cegah_pemda",
         "type": "scatter",
         "x": [
          "2020-02-04T04:34:06.066666+00:00",
          "2020-02-21T21:28:06.466666+00:00",
          "2020-03-13T13:11:06.933333+00:00",
          "2020-03-16T12:00:07+00:00"
         ],
         "y": [
          2,
          1,
          15,
          10
         ]
        },
        {
         "hoverinfo": "text",
         "hovertext": [
          "<b>Topic 1</b><br>Words: batam, rudi, hendri, apresiasi, virus",
          "<b>Topic 1</b><br>Words: corona, virus, sebar, edar, disease",
          "<b>Topic 1</b><br>Words: virus, corona, tunda, laksana, uji",
          "<b>Topic 1</b><br>Words: disease, darurat, sebar, masa, laksana",
          "<b>Topic 1</b><br>Words: virus, corona, masa, sebar, darurat",
          "<b>Topic 1</b><br>Words: virus, corona, sebar, darurat, laksana",
          "<b>Topic 1</b><br>Words: corona, surat, virus, sebar, edar",
          "<b>Topic 1</b><br>Words: kerja, rumah, rebak, virus, corona",
          "<b>Topic 1</b><br>Words: menindaklanjuti, disease, virus, corona, timur",
          "<b>Topic 1</b><br>Words: timur, jawa, panjang, corona, virus",
          "<b>Topic 1</b><br>Words: siswa, perintah, ajar, virus, beri"
         ],
         "marker": {
          "color": "#56B4E9"
         },
         "mode": "lines",
         "name": "1_virus_corona_sebar_disease",
         "type": "scatter",
         "x": [
          "2020-02-10T02:12:06.200000+00:00",
          "2020-03-13T13:11:06.933333+00:00",
          "2020-03-16T12:00:07+00:00",
          "2020-03-22T09:38:07.133333+00:00",
          "2020-03-25T08:27:07.200000+00:00",
          "2020-03-28T07:16:07.266666+00:00",
          "2020-04-03T04:54:07.400000+00:00",
          "2020-04-06T03:43:07.466666+00:00",
          "2020-04-12T01:21:07.600000+00:00",
          "2020-04-17T22:59:07.733333+00:00",
          "2020-04-26T19:26:07.933333+00:00"
         ],
         "y": [
          2,
          9,
          4,
          19,
          28,
          6,
          4,
          1,
          1,
          5,
          2
         ]
        },
        {
         "hoverinfo": "text",
         "hovertext": [
          "<b>Topic 2</b><br>Words: vokasi, merdeka, nadiem, menteri, kampus",
          "<b>Topic 2</b><br>Words: pangan, merdeka, sekolah, kampus, harap",
          "<b>Topic 2</b><br>Words: analisis, buku, merdeka, urai, krisis",
          "<b>Topic 2</b><br>Words: menteri, sekolah, dana, merdeka, budaya",
          "<b>Topic 2</b><br>Words: jadi, sekolah, ajar, buat, budaya",
          "<b>Topic 2</b><br>Words: bayar, merdeka, menteri, sekolah, nadiem",
          "<b>Topic 2</b><br>Words: menteri, spp, budaya, nadiem, bayar",
          "<b>Topic 2</b><br>Words: olah, sekolah, menteri, kpai, guru",
          "<b>Topic 2</b><br>Words: merdeka, menteri, kalau, kampus, nasional",
          "<b>Topic 2</b><br>Words: polling, timbang, mang, moga, bidang",
          "<b>Topic 2</b><br>Words: merdeka, budaya, guru, ajar, menteri",
          "<b>Topic 2</b><br>Words: merdeka, kampus, semua, alur, memasilitasi",
          "<b>Topic 2</b><br>Words: merdeka, asing, tak, kampus, dunia",
          "<b>Topic 2</b><br>Words: libur, sekolah, balikpapan, unika, ajar",
          "<b>Topic 2</b><br>Words: perintah, ajar, guru, dinas, rumah",
          "<b>Topic 2</b><br>Words: merdeka, ajar, kampus, menteri, guru",
          "<b>Topic 2</b><br>Words: covid, ajar, siswa, mendikbud, diy",
          "<b>Topic 2</b><br>Words: covid, ajar, laksana, masa, darurat",
          "<b>Topic 2</b><br>Words: ajar, edar, surat, rumah, darurat",
          "<b>Topic 2</b><br>Words: rangka, dasar, kabupaten, provinsi, negara",
          "<b>Topic 2</b><br>Words: lbp, guru, enggak, perintah, covid",
          "<b>Topic 2</b><br>Words: luar, negeri, ajar, metode, sukses",
          "<b>Topic 2</b><br>Words: ajar, indonesia, times, daring, karakter",
          "<b>Topic 2</b><br>Words: rumah, ajar, menteri, covid, kampus",
          "<b>Topic 2</b><br>Words: bangsa, indonesia, pakar, ikn, cecep",
          "<b>Topic 2</b><br>Words: ajar, covid, enggak, ekonomi, lebih",
          "<b>Topic 2</b><br>Words: medis, ars, university, riset, tinggal",
          "<b>Topic 2</b><br>Words: amp, jauh, ajar, jarak, buat"
         ],
         "marker": {
          "color": "#009E73"
         },
         "mode": "lines",
         "name": "2_ajar_merdeka_menteri_covid",
         "type": "scatter",
         "x": [
          "2020-02-01T03:37:37.798000+00:00",
          "2020-02-04T04:34:06.066666+00:00",
          "2020-02-07T03:23:06.133333+00:00",
          "2020-02-10T02:12:06.200000+00:00",
          "2020-02-13T01:01:06.266666+00:00",
          "2020-02-15T23:50:06.333333+00:00",
          "2020-02-18T22:39:06.400000+00:00",
          "2020-02-21T21:28:06.466666+00:00",
          "2020-02-24T20:17:06.533333+00:00",
          "2020-02-27T19:06:06.600000+00:00",
          "2020-03-01T17:55:06.666666+00:00",
          "2020-03-04T16:44:06.733333+00:00",
          "2020-03-10T14:22:06.866666+00:00",
          "2020-03-13T13:11:06.933333+00:00",
          "2020-03-16T12:00:07+00:00",
          "2020-03-19T10:49:07.066666+00:00",
          "2020-03-22T09:38:07.133333+00:00",
          "2020-03-25T08:27:07.200000+00:00",
          "2020-03-28T07:16:07.266666+00:00",
          "2020-03-31T06:05:07.333333+00:00",
          "2020-04-03T04:54:07.400000+00:00",
          "2020-04-06T03:43:07.466666+00:00",
          "2020-04-09T02:32:07.533333+00:00",
          "2020-04-12T01:21:07.600000+00:00",
          "2020-04-17T22:59:07.733333+00:00",
          "2020-04-20T21:48:07.800000+00:00",
          "2020-04-23T20:37:07.866666+00:00",
          "2020-04-26T19:26:07.933333+00:00"
         ],
         "y": [
          15,
          17,
          10,
          20,
          25,
          27,
          23,
          15,
          14,
          1,
          16,
          15,
          18,
          12,
          23,
          15,
          52,
          38,
          23,
          8,
          21,
          10,
          17,
          12,
          9,
          19,
          5,
          14
         ]
        }
       ],
       "layout": {
        "height": 450,
        "hoverlabel": {
         "bgcolor": "white",
         "font": {
          "family": "Rockwell",
          "size": 16
         }
        },
        "legend": {
         "title": {
          "text": "<b>Global Topic Representation"
         }
        },
        "template": {
         "data": {
          "bar": [
           {
            "error_x": {
             "color": "rgb(36,36,36)"
            },
            "error_y": {
             "color": "rgb(36,36,36)"
            },
            "marker": {
             "line": {
              "color": "white",
              "width": 0.5
             },
             "pattern": {
              "fillmode": "overlay",
              "size": 10,
              "solidity": 0.2
             }
            },
            "type": "bar"
           }
          ],
          "barpolar": [
           {
            "marker": {
             "line": {
              "color": "white",
              "width": 0.5
             },
             "pattern": {
              "fillmode": "overlay",
              "size": 10,
              "solidity": 0.2
             }
            },
            "type": "barpolar"
           }
          ],
          "carpet": [
           {
            "aaxis": {
             "endlinecolor": "rgb(36,36,36)",
             "gridcolor": "white",
             "linecolor": "white",
             "minorgridcolor": "white",
             "startlinecolor": "rgb(36,36,36)"
            },
            "baxis": {
             "endlinecolor": "rgb(36,36,36)",
             "gridcolor": "white",
             "linecolor": "white",
             "minorgridcolor": "white",
             "startlinecolor": "rgb(36,36,36)"
            },
            "type": "carpet"
           }
          ],
          "choropleth": [
           {
            "colorbar": {
             "outlinewidth": 1,
             "tickcolor": "rgb(36,36,36)",
             "ticks": "outside"
            },
            "type": "choropleth"
           }
          ],
          "contour": [
           {
            "colorbar": {
             "outlinewidth": 1,
             "tickcolor": "rgb(36,36,36)",
             "ticks": "outside"
            },
            "colorscale": [
             [
              0,
              "#440154"
             ],
             [
              0.1111111111111111,
              "#482878"
             ],
             [
              0.2222222222222222,
              "#3e4989"
             ],
             [
              0.3333333333333333,
              "#31688e"
             ],
             [
              0.4444444444444444,
              "#26828e"
             ],
             [
              0.5555555555555556,
              "#1f9e89"
             ],
             [
              0.6666666666666666,
              "#35b779"
             ],
             [
              0.7777777777777778,
              "#6ece58"
             ],
             [
              0.8888888888888888,
              "#b5de2b"
             ],
             [
              1,
              "#fde725"
             ]
            ],
            "type": "contour"
           }
          ],
          "contourcarpet": [
           {
            "colorbar": {
             "outlinewidth": 1,
             "tickcolor": "rgb(36,36,36)",
             "ticks": "outside"
            },
            "type": "contourcarpet"
           }
          ],
          "heatmap": [
           {
            "colorbar": {
             "outlinewidth": 1,
             "tickcolor": "rgb(36,36,36)",
             "ticks": "outside"
            },
            "colorscale": [
             [
              0,
              "#440154"
             ],
             [
              0.1111111111111111,
              "#482878"
             ],
             [
              0.2222222222222222,
              "#3e4989"
             ],
             [
              0.3333333333333333,
              "#31688e"
             ],
             [
              0.4444444444444444,
              "#26828e"
             ],
             [
              0.5555555555555556,
              "#1f9e89"
             ],
             [
              0.6666666666666666,
              "#35b779"
             ],
             [
              0.7777777777777778,
              "#6ece58"
             ],
             [
              0.8888888888888888,
              "#b5de2b"
             ],
             [
              1,
              "#fde725"
             ]
            ],
            "type": "heatmap"
           }
          ],
          "heatmapgl": [
           {
            "colorbar": {
             "outlinewidth": 1,
             "tickcolor": "rgb(36,36,36)",
             "ticks": "outside"
            },
            "colorscale": [
             [
              0,
              "#440154"
             ],
             [
              0.1111111111111111,
              "#482878"
             ],
             [
              0.2222222222222222,
              "#3e4989"
             ],
             [
              0.3333333333333333,
              "#31688e"
             ],
             [
              0.4444444444444444,
              "#26828e"
             ],
             [
              0.5555555555555556,
              "#1f9e89"
             ],
             [
              0.6666666666666666,
              "#35b779"
             ],
             [
              0.7777777777777778,
              "#6ece58"
             ],
             [
              0.8888888888888888,
              "#b5de2b"
             ],
             [
              1,
              "#fde725"
             ]
            ],
            "type": "heatmapgl"
           }
          ],
          "histogram": [
           {
            "marker": {
             "line": {
              "color": "white",
              "width": 0.6
             }
            },
            "type": "histogram"
           }
          ],
          "histogram2d": [
           {
            "colorbar": {
             "outlinewidth": 1,
             "tickcolor": "rgb(36,36,36)",
             "ticks": "outside"
            },
            "colorscale": [
             [
              0,
              "#440154"
             ],
             [
              0.1111111111111111,
              "#482878"
             ],
             [
              0.2222222222222222,
              "#3e4989"
             ],
             [
              0.3333333333333333,
              "#31688e"
             ],
             [
              0.4444444444444444,
              "#26828e"
             ],
             [
              0.5555555555555556,
              "#1f9e89"
             ],
             [
              0.6666666666666666,
              "#35b779"
             ],
             [
              0.7777777777777778,
              "#6ece58"
             ],
             [
              0.8888888888888888,
              "#b5de2b"
             ],
             [
              1,
              "#fde725"
             ]
            ],
            "type": "histogram2d"
           }
          ],
          "histogram2dcontour": [
           {
            "colorbar": {
             "outlinewidth": 1,
             "tickcolor": "rgb(36,36,36)",
             "ticks": "outside"
            },
            "colorscale": [
             [
              0,
              "#440154"
             ],
             [
              0.1111111111111111,
              "#482878"
             ],
             [
              0.2222222222222222,
              "#3e4989"
             ],
             [
              0.3333333333333333,
              "#31688e"
             ],
             [
              0.4444444444444444,
              "#26828e"
             ],
             [
              0.5555555555555556,
              "#1f9e89"
             ],
             [
              0.6666666666666666,
              "#35b779"
             ],
             [
              0.7777777777777778,
              "#6ece58"
             ],
             [
              0.8888888888888888,
              "#b5de2b"
             ],
             [
              1,
              "#fde725"
             ]
            ],
            "type": "histogram2dcontour"
           }
          ],
          "mesh3d": [
           {
            "colorbar": {
             "outlinewidth": 1,
             "tickcolor": "rgb(36,36,36)",
             "ticks": "outside"
            },
            "type": "mesh3d"
           }
          ],
          "parcoords": [
           {
            "line": {
             "colorbar": {
              "outlinewidth": 1,
              "tickcolor": "rgb(36,36,36)",
              "ticks": "outside"
             }
            },
            "type": "parcoords"
           }
          ],
          "pie": [
           {
            "automargin": true,
            "type": "pie"
           }
          ],
          "scatter": [
           {
            "fillpattern": {
             "fillmode": "overlay",
             "size": 10,
             "solidity": 0.2
            },
            "type": "scatter"
           }
          ],
          "scatter3d": [
           {
            "line": {
             "colorbar": {
              "outlinewidth": 1,
              "tickcolor": "rgb(36,36,36)",
              "ticks": "outside"
             }
            },
            "marker": {
             "colorbar": {
              "outlinewidth": 1,
              "tickcolor": "rgb(36,36,36)",
              "ticks": "outside"
             }
            },
            "type": "scatter3d"
           }
          ],
          "scattercarpet": [
           {
            "marker": {
             "colorbar": {
              "outlinewidth": 1,
              "tickcolor": "rgb(36,36,36)",
              "ticks": "outside"
             }
            },
            "type": "scattercarpet"
           }
          ],
          "scattergeo": [
           {
            "marker": {
             "colorbar": {
              "outlinewidth": 1,
              "tickcolor": "rgb(36,36,36)",
              "ticks": "outside"
             }
            },
            "type": "scattergeo"
           }
          ],
          "scattergl": [
           {
            "marker": {
             "colorbar": {
              "outlinewidth": 1,
              "tickcolor": "rgb(36,36,36)",
              "ticks": "outside"
             }
            },
            "type": "scattergl"
           }
          ],
          "scattermapbox": [
           {
            "marker": {
             "colorbar": {
              "outlinewidth": 1,
              "tickcolor": "rgb(36,36,36)",
              "ticks": "outside"
             }
            },
            "type": "scattermapbox"
           }
          ],
          "scatterpolar": [
           {
            "marker": {
             "colorbar": {
              "outlinewidth": 1,
              "tickcolor": "rgb(36,36,36)",
              "ticks": "outside"
             }
            },
            "type": "scatterpolar"
           }
          ],
          "scatterpolargl": [
           {
            "marker": {
             "colorbar": {
              "outlinewidth": 1,
              "tickcolor": "rgb(36,36,36)",
              "ticks": "outside"
             }
            },
            "type": "scatterpolargl"
           }
          ],
          "scatterternary": [
           {
            "marker": {
             "colorbar": {
              "outlinewidth": 1,
              "tickcolor": "rgb(36,36,36)",
              "ticks": "outside"
             }
            },
            "type": "scatterternary"
           }
          ],
          "surface": [
           {
            "colorbar": {
             "outlinewidth": 1,
             "tickcolor": "rgb(36,36,36)",
             "ticks": "outside"
            },
            "colorscale": [
             [
              0,
              "#440154"
             ],
             [
              0.1111111111111111,
              "#482878"
             ],
             [
              0.2222222222222222,
              "#3e4989"
             ],
             [
              0.3333333333333333,
              "#31688e"
             ],
             [
              0.4444444444444444,
              "#26828e"
             ],
             [
              0.5555555555555556,
              "#1f9e89"
             ],
             [
              0.6666666666666666,
              "#35b779"
             ],
             [
              0.7777777777777778,
              "#6ece58"
             ],
             [
              0.8888888888888888,
              "#b5de2b"
             ],
             [
              1,
              "#fde725"
             ]
            ],
            "type": "surface"
           }
          ],
          "table": [
           {
            "cells": {
             "fill": {
              "color": "rgb(237,237,237)"
             },
             "line": {
              "color": "white"
             }
            },
            "header": {
             "fill": {
              "color": "rgb(217,217,217)"
             },
             "line": {
              "color": "white"
             }
            },
            "type": "table"
           }
          ]
         },
         "layout": {
          "annotationdefaults": {
           "arrowhead": 0,
           "arrowwidth": 1
          },
          "autotypenumbers": "strict",
          "coloraxis": {
           "colorbar": {
            "outlinewidth": 1,
            "tickcolor": "rgb(36,36,36)",
            "ticks": "outside"
           }
          },
          "colorscale": {
           "diverging": [
            [
             0,
             "rgb(103,0,31)"
            ],
            [
             0.1,
             "rgb(178,24,43)"
            ],
            [
             0.2,
             "rgb(214,96,77)"
            ],
            [
             0.3,
             "rgb(244,165,130)"
            ],
            [
             0.4,
             "rgb(253,219,199)"
            ],
            [
             0.5,
             "rgb(247,247,247)"
            ],
            [
             0.6,
             "rgb(209,229,240)"
            ],
            [
             0.7,
             "rgb(146,197,222)"
            ],
            [
             0.8,
             "rgb(67,147,195)"
            ],
            [
             0.9,
             "rgb(33,102,172)"
            ],
            [
             1,
             "rgb(5,48,97)"
            ]
           ],
           "sequential": [
            [
             0,
             "#440154"
            ],
            [
             0.1111111111111111,
             "#482878"
            ],
            [
             0.2222222222222222,
             "#3e4989"
            ],
            [
             0.3333333333333333,
             "#31688e"
            ],
            [
             0.4444444444444444,
             "#26828e"
            ],
            [
             0.5555555555555556,
             "#1f9e89"
            ],
            [
             0.6666666666666666,
             "#35b779"
            ],
            [
             0.7777777777777778,
             "#6ece58"
            ],
            [
             0.8888888888888888,
             "#b5de2b"
            ],
            [
             1,
             "#fde725"
            ]
           ],
           "sequentialminus": [
            [
             0,
             "#440154"
            ],
            [
             0.1111111111111111,
             "#482878"
            ],
            [
             0.2222222222222222,
             "#3e4989"
            ],
            [
             0.3333333333333333,
             "#31688e"
            ],
            [
             0.4444444444444444,
             "#26828e"
            ],
            [
             0.5555555555555556,
             "#1f9e89"
            ],
            [
             0.6666666666666666,
             "#35b779"
            ],
            [
             0.7777777777777778,
             "#6ece58"
            ],
            [
             0.8888888888888888,
             "#b5de2b"
            ],
            [
             1,
             "#fde725"
            ]
           ]
          },
          "colorway": [
           "#1F77B4",
           "#FF7F0E",
           "#2CA02C",
           "#D62728",
           "#9467BD",
           "#8C564B",
           "#E377C2",
           "#7F7F7F",
           "#BCBD22",
           "#17BECF"
          ],
          "font": {
           "color": "rgb(36,36,36)"
          },
          "geo": {
           "bgcolor": "white",
           "lakecolor": "white",
           "landcolor": "white",
           "showlakes": true,
           "showland": true,
           "subunitcolor": "white"
          },
          "hoverlabel": {
           "align": "left"
          },
          "hovermode": "closest",
          "mapbox": {
           "style": "light"
          },
          "paper_bgcolor": "white",
          "plot_bgcolor": "white",
          "polar": {
           "angularaxis": {
            "gridcolor": "rgb(232,232,232)",
            "linecolor": "rgb(36,36,36)",
            "showgrid": false,
            "showline": true,
            "ticks": "outside"
           },
           "bgcolor": "white",
           "radialaxis": {
            "gridcolor": "rgb(232,232,232)",
            "linecolor": "rgb(36,36,36)",
            "showgrid": false,
            "showline": true,
            "ticks": "outside"
           }
          },
          "scene": {
           "xaxis": {
            "backgroundcolor": "white",
            "gridcolor": "rgb(232,232,232)",
            "gridwidth": 2,
            "linecolor": "rgb(36,36,36)",
            "showbackground": true,
            "showgrid": false,
            "showline": true,
            "ticks": "outside",
            "zeroline": false,
            "zerolinecolor": "rgb(36,36,36)"
           },
           "yaxis": {
            "backgroundcolor": "white",
            "gridcolor": "rgb(232,232,232)",
            "gridwidth": 2,
            "linecolor": "rgb(36,36,36)",
            "showbackground": true,
            "showgrid": false,
            "showline": true,
            "ticks": "outside",
            "zeroline": false,
            "zerolinecolor": "rgb(36,36,36)"
           },
           "zaxis": {
            "backgroundcolor": "white",
            "gridcolor": "rgb(232,232,232)",
            "gridwidth": 2,
            "linecolor": "rgb(36,36,36)",
            "showbackground": true,
            "showgrid": false,
            "showline": true,
            "ticks": "outside",
            "zeroline": false,
            "zerolinecolor": "rgb(36,36,36)"
           }
          },
          "shapedefaults": {
           "fillcolor": "black",
           "line": {
            "width": 0
           },
           "opacity": 0.3
          },
          "ternary": {
           "aaxis": {
            "gridcolor": "rgb(232,232,232)",
            "linecolor": "rgb(36,36,36)",
            "showgrid": false,
            "showline": true,
            "ticks": "outside"
           },
           "baxis": {
            "gridcolor": "rgb(232,232,232)",
            "linecolor": "rgb(36,36,36)",
            "showgrid": false,
            "showline": true,
            "ticks": "outside"
           },
           "bgcolor": "white",
           "caxis": {
            "gridcolor": "rgb(232,232,232)",
            "linecolor": "rgb(36,36,36)",
            "showgrid": false,
            "showline": true,
            "ticks": "outside"
           }
          },
          "title": {
           "x": 0.05
          },
          "xaxis": {
           "automargin": true,
           "gridcolor": "rgb(232,232,232)",
           "linecolor": "rgb(36,36,36)",
           "showgrid": false,
           "showline": true,
           "ticks": "outside",
           "title": {
            "standoff": 15
           },
           "zeroline": false,
           "zerolinecolor": "rgb(36,36,36)"
          },
          "yaxis": {
           "automargin": true,
           "gridcolor": "rgb(232,232,232)",
           "linecolor": "rgb(36,36,36)",
           "showgrid": false,
           "showline": true,
           "ticks": "outside",
           "title": {
            "standoff": 15
           },
           "zeroline": false,
           "zerolinecolor": "rgb(36,36,36)"
          }
         }
        },
        "title": {
         "font": {
          "color": "Black",
          "size": 22
         },
         "text": "Topics Over Time for 2020_02-2020_04",
         "x": 0.4,
         "xanchor": "center",
         "y": 0.95,
         "yanchor": "top"
        },
        "width": 1250,
        "xaxis": {
         "showgrid": true
        },
        "yaxis": {
         "showgrid": true,
         "title": {
          "text": "Frequency"
         }
        }
       }
      }
     },
     "metadata": {},
     "output_type": "display_data"
    },
    {
     "data": {
      "application/vnd.plotly.v1+json": {
       "config": {
        "plotlyServerURL": "https://plot.ly"
       },
       "data": [
        {
         "hoverinfo": "text",
         "hovertext": [
          "<b>Topic 0</b><br>Words: mahasiswa, hari, nasional, undip, hubung",
          "<b>Topic 0</b><br>Words: vokasi, kemendikbud, terbit, khusus, minta",
          "<b>Topic 0</b><br>Words: direktur, jenderal, syahril, phddilantik, iwan",
          "<b>Topic 0</b><br>Words: bandar, himpun, dinas, masingmasing, lampung",
          "<b>Topic 0</b><br>Words: daoed, joesoef, mui, delegasi, kolonial",
          "<b>Topic 0</b><br>Words: kampus, manajemen, tuntut, mahasiswa, masing",
          "<b>Topic 0</b><br>Words: manajemen, pigai, uny, pil, jokowi",
          "<b>Topic 0</b><br>Words: pkb, menteri, budaya, baru, ajar",
          "<b>Topic 0</b><br>Words: negeri, joko, pesantrean, antarwilayah, dikpora",
          "<b>Topic 0</b><br>Words: menteri, kampus, buat, nya, laku",
          "<b>Topic 0</b><br>Words: soal, rakyat, contoh, dprd, kemarin",
          "<b>Topic 0</b><br>Words: perintah, pesantren, afirmasi, menteri, khusus",
          "<b>Topic 0</b><br>Words: tlng, kuliah, buat, mahasiswa, kembang",
          "<b>Topic 0</b><br>Words: menteri, pondok, umum, menko, pmk",
          "<b>Topic 0</b><br>Words: menteri, ajar, budaya, tahun, mahasiswa",
          "<b>Topic 0</b><br>Words: ajar, jarak, menteri, budaya, jauh",
          "<b>Topic 0</b><br>Words: menteri, jakarta, ppdb, dki, demo",
          "<b>Topic 0</b><br>Words: usia, sekolah, zonasi, murid, menteri",
          "<b>Topic 0</b><br>Words: sekolah, anak, zonasi, makin, ngada",
          "<b>Topic 0</b><br>Words: menteri, sekarang, bukan, ruwet, begini",
          "<b>Topic 0</b><br>Words: menteri, denpasar, mahasiswa, perintah, turun",
          "<b>Topic 0</b><br>Words: tua, buntut, orang, ppdb, polemik",
          "<b>Topic 0</b><br>Words: menteri, uu, sekolah, kampus, thomas",
          "<b>Topic 0</b><br>Words: kondisi, memang, jangan, hilih, mbak",
          "<b>Topic 0</b><br>Words: bakal, daftar, kok, kalo, kampus",
          "<b>Topic 0</b><br>Words: kau, tentu, menteri, ajar, udayana",
          "<b>Topic 0</b><br>Words: menteri, garut, nya, mendikbud, sekolah",
          "<b>Topic 0</b><br>Words: menteri, obrol, sekarang, hidup, homeschooling",
          "<b>Topic 0</b><br>Words: menteri, data, suluh, sekolah, hidup"
         ],
         "marker": {
          "color": "#E69F00"
         },
         "mode": "lines",
         "name": "0_menteri_ajar_mahasiswa_sekolah",
         "type": "scatter",
         "x": [
          "2020-05-01T05:44:38.976999+00:00",
          "2020-05-04T09:17:14.100000+00:00",
          "2020-05-07T10:37:48.200000+00:00",
          "2020-05-10T11:58:22.300000+00:00",
          "2020-05-13T13:18:56.400000+00:00",
          "2020-05-16T14:39:30.500000+00:00",
          "2020-05-19T16:00:04.600000+00:00",
          "2020-05-25T18:41:12.800000+00:00",
          "2020-05-28T20:01:46.900000+00:00",
          "2020-05-31T21:22:21+00:00",
          "2020-06-03T22:42:55.100000+00:00",
          "2020-06-07T00:03:29.200000+00:00",
          "2020-06-10T01:24:03.300000+00:00",
          "2020-06-13T02:44:37.400000+00:00",
          "2020-06-16T04:05:11.500000+00:00",
          "2020-06-19T05:25:45.600000+00:00",
          "2020-06-22T06:46:19.700000+00:00",
          "2020-06-25T08:06:53.800000+00:00",
          "2020-06-28T09:27:27.900000+00:00",
          "2020-07-01T10:48:02+00:00",
          "2020-07-04T12:08:36.100000+00:00",
          "2020-07-07T13:29:10.200000+00:00",
          "2020-07-10T14:49:44.300000+00:00",
          "2020-07-13T16:10:18.400000+00:00",
          "2020-07-16T17:30:52.500000+00:00",
          "2020-07-19T18:51:26.600000+00:00",
          "2020-07-22T20:12:00.700000+00:00",
          "2020-07-25T21:32:34.800000+00:00",
          "2020-07-28T22:53:08.900000+00:00"
         ],
         "y": [
          27,
          5,
          5,
          2,
          2,
          10,
          5,
          10,
          4,
          32,
          10,
          24,
          25,
          28,
          35,
          18,
          41,
          20,
          11,
          7,
          16,
          10,
          10,
          4,
          6,
          10,
          15,
          5,
          11
         ]
        },
        {
         "hoverinfo": "text",
         "hovertext": [
          "<b>Topic 1</b><br>Words: rakyat, bangsa, buah, ajar, hari",
          "<b>Topic 1</b><br>Words: mulia, langit, setinggi, terhormattidak, perspektif",
          "<b>Topic 1</b><br>Words: baru, edukreator, akademi, insan, bebas",
          "<b>Topic 1</b><br>Words: sosial, bapak, tak, lpes, malu",
          "<b>Topic 1</b><br>Words: lihat, baik, politik, hidup, semua",
          "<b>Topic 1</b><br>Words: sekarang, dunia, ekonomi, bangsa, kondisi",
          "<b>Topic 1</b><br>Words: mungkin, kesel, prank, makin, miskin",
          "<b>Topic 1</b><br>Words: harga, paham, jelas, masyarakat, perlu",
          "<b>Topic 1</b><br>Words: normal, new, batam, sektor, sisi",
          "<b>Topic 1</b><br>Words: press, conference, kang, jabar, sore",
          "<b>Topic 1</b><br>Words: sahabat, normal, jabar, sore, enggak",
          "<b>Topic 1</b><br>Words: anggar, agam, tingkat, new, kata",
          "<b>Topic 1</b><br>Words: sosial, usul, ekonomi, selalu, rakyat",
          "<b>Topic 1</b><br>Words: normal, new, perintah, politik, nampaknya",
          "<b>Topic 1</b><br>Words: batas, undang, normal, new, ajang",
          "<b>Topic 1</b><br>Words: sih, baik, antah, ekonomi, normal",
          "<b>Topic 1</b><br>Words: kirakira, legislator, puji, new, ajar",
          "<b>Topic 1</b><br>Words: bangsa, ganti, murid, pejaratan, kapitalisme",
          "<b>Topic 1</b><br>Words: kaum, tarik, zonasi, buat, hehe",
          "<b>Topic 1</b><br>Words: negara, wajib, sehat, poin, busuk",
          "<b>Topic 1</b><br>Words: ganti, mikir, ajang, mbok, kurikulum",
          "<b>Topic 1</b><br>Words: refleksi, nadiem, percaya, apa, sektor",
          "<b>Topic 1</b><br>Words: rb, buka, rumus, pak, lah",
          "<b>Topic 1</b><br>Words: ekonomi, sosial, nafas, atur, lihat",
          "<b>Topic 1</b><br>Words: rakyat, bukan, buat, baik, ganti",
          "<b>Topic 1</b><br>Words: rakyat, sehat, gin, faktor, orang",
          "<b>Topic 1</b><br>Words: sd, online, amp, ponsel, jangka",
          "<b>Topic 1</b><br>Words: ribu, dunia, banyak, ajar, punya",
          "<b>Topic 1</b><br>Words: ribu, bpip, sejarah, sosial, masyarakat",
          "<b>Topic 1</b><br>Words: murid, tri, mas, betapa, orang"
         ],
         "marker": {
          "color": "#56B4E9"
         },
         "mode": "lines",
         "name": "1_normal_new_dunia_baik",
         "type": "scatter",
         "x": [
          "2020-05-01T05:44:38.976999+00:00",
          "2020-05-04T09:17:14.100000+00:00",
          "2020-05-07T10:37:48.200000+00:00",
          "2020-05-10T11:58:22.300000+00:00",
          "2020-05-13T13:18:56.400000+00:00",
          "2020-05-16T14:39:30.500000+00:00",
          "2020-05-19T16:00:04.600000+00:00",
          "2020-05-22T17:20:38.700000+00:00",
          "2020-05-25T18:41:12.800000+00:00",
          "2020-05-28T20:01:46.900000+00:00",
          "2020-05-31T21:22:21+00:00",
          "2020-06-03T22:42:55.100000+00:00",
          "2020-06-07T00:03:29.200000+00:00",
          "2020-06-10T01:24:03.300000+00:00",
          "2020-06-13T02:44:37.400000+00:00",
          "2020-06-16T04:05:11.500000+00:00",
          "2020-06-19T05:25:45.600000+00:00",
          "2020-06-22T06:46:19.700000+00:00",
          "2020-06-25T08:06:53.800000+00:00",
          "2020-06-28T09:27:27.900000+00:00",
          "2020-07-01T10:48:02+00:00",
          "2020-07-04T12:08:36.100000+00:00",
          "2020-07-07T13:29:10.200000+00:00",
          "2020-07-10T14:49:44.300000+00:00",
          "2020-07-13T16:10:18.400000+00:00",
          "2020-07-16T17:30:52.500000+00:00",
          "2020-07-19T18:51:26.600000+00:00",
          "2020-07-22T20:12:00.700000+00:00",
          "2020-07-25T21:32:34.800000+00:00",
          "2020-07-28T22:53:08.900000+00:00"
         ],
         "y": [
          9,
          3,
          5,
          5,
          4,
          3,
          4,
          3,
          7,
          6,
          12,
          8,
          16,
          19,
          21,
          14,
          9,
          6,
          10,
          6,
          3,
          5,
          5,
          8,
          14,
          7,
          8,
          19,
          11,
          6
         ]
        },
        {
         "hoverinfo": "text",
         "hovertext": [
          "<b>Topic 2</b><br>Words: pandemi, covid, terbang, masa, larang",
          "<b>Topic 2</b><br>Words: pandemi, soon, smi, coming, rubah",
          "<b>Topic 2</b><br>Words: covid, pandemi, mei, tinggal, masa",
          "<b>Topic 2</b><br>Words: lama, pandemi, ubah, covid, masa",
          "<b>Topic 2</b><br>Words: pandemi, medan, covid, tanggal, masa",
          "<b>Topic 2</b><br>Words: uji, perkembanga, deret, rangkai, covid",
          "<b>Topic 2</b><br>Words: faktor, sisi, disiplin, kolektif, gagal",
          "<b>Topic 2</b><br>Words: panjang, diy, masa, darurat, covid",
          "<b>Topic 2</b><br>Words: jawa, timur, masa, covid, pandemi",
          "<b>Topic 2</b><br>Words: inklusi, jepang, pandemi, murid, bantu",
          "<b>Topic 2</b><br>Words: pandemik, relaksasi, spp, beban, segera",
          "<b>Topic 2</b><br>Words: stafstafnya, pecah, pandemi, ku, heran",
          "<b>Topic 2</b><br>Words: pandemi, covid, bahas, sama, masa",
          "<b>Topic 2</b><br>Words: pandemi, masa, covid, prinsip, tahu",
          "<b>Topic 2</b><br>Words: dukung, pandemi, luncur, covid, dampak",
          "<b>Topic 2</b><br>Words: pandemi, masa, dukung, terus, covid",
          "<b>Topic 2</b><br>Words: zona, ima, khusi, makariem, wilayah",
          "<b>Topic 2</b><br>Words: mimbar, pandemi, intelektual, tinggi, masa",
          "<b>Topic 2</b><br>Words: saksi, pandemi, tayang, coronavirus, sabtu",
          "<b>Topic 2</b><br>Words: sekolah, pandemi, sembuh, duniawi, selaras",
          "<b>Topic 2</b><br>Words: pandemic, dunia, masa, baru, pandemi",
          "<b>Topic 2</b><br>Words: pandemi, covid, solutif, entah, masa",
          "<b>Topic 2</b><br>Words: pandemi, masa, sih, tegel, kapital",
          "<b>Topic 2</b><br>Words: demonstrasi, pandemi, unila, bem, bawa",
          "<b>Topic 2</b><br>Words: pandemi, nya, masa, siswa, acapkali",
          "<b>Topic 2</b><br>Words: pandemi, bengkalai, kntl, kulon, tidur"
         ],
         "marker": {
          "color": "#009E73"
         },
         "mode": "lines",
         "name": "2_pandemi_covid_masa_darurat",
         "type": "scatter",
         "x": [
          "2020-05-01T05:44:38.976999+00:00",
          "2020-05-07T10:37:48.200000+00:00",
          "2020-05-10T11:58:22.300000+00:00",
          "2020-05-13T13:18:56.400000+00:00",
          "2020-05-16T14:39:30.500000+00:00",
          "2020-05-19T16:00:04.600000+00:00",
          "2020-05-25T18:41:12.800000+00:00",
          "2020-05-28T20:01:46.900000+00:00",
          "2020-05-31T21:22:21+00:00",
          "2020-06-03T22:42:55.100000+00:00",
          "2020-06-07T00:03:29.200000+00:00",
          "2020-06-10T01:24:03.300000+00:00",
          "2020-06-13T02:44:37.400000+00:00",
          "2020-06-16T04:05:11.500000+00:00",
          "2020-06-19T05:25:45.600000+00:00",
          "2020-06-22T06:46:19.700000+00:00",
          "2020-06-25T08:06:53.800000+00:00",
          "2020-07-01T10:48:02+00:00",
          "2020-07-04T12:08:36.100000+00:00",
          "2020-07-07T13:29:10.200000+00:00",
          "2020-07-10T14:49:44.300000+00:00",
          "2020-07-16T17:30:52.500000+00:00",
          "2020-07-19T18:51:26.600000+00:00",
          "2020-07-22T20:12:00.700000+00:00",
          "2020-07-25T21:32:34.800000+00:00",
          "2020-07-28T22:53:08.900000+00:00"
         ],
         "y": [
          5,
          2,
          3,
          13,
          3,
          1,
          1,
          15,
          20,
          4,
          2,
          3,
          9,
          22,
          14,
          8,
          2,
          4,
          2,
          3,
          1,
          3,
          2,
          2,
          4,
          1
         ]
        },
        {
         "hoverinfo": "text",
         "hovertext": [
          "<b>Topic 3</b><br>Words: indonesia, ing, moga, pandemi, baik",
          "<b>Topic 3</b><br>Words: indonesia, sangsi, nasional, kalau, masalah",
          "<b>Topic 3</b><br>Words: indonesia, kalian, mentok, indonesiamasih, esai",
          "<b>Topic 3</b><br>Words: win, aco, orangorang, kualitas, pantas",
          "<b>Topic 3</b><br>Words: poljam, jambi, force, seminar, narasumber",
          "<b>Topic 3</b><br>Words: indonesia, hi, ptn, pil, bukti",
          "<b>Topic 3</b><br>Words: kalian, ado, yusuf, indonesia, new",
          "<b>Topic 3</b><br>Words: mergo, gurune, indonesia, sing, vokasi",
          "<b>Topic 3</b><br>Words: islam, normal, indonesia, new, masuk",
          "<b>Topic 3</b><br>Words: sesi, ora, muhammadiyah, indonesia, human",
          "<b>Topic 3</b><br>Words: indonesia, ekonomi, didownload, sandungan, reportnya",
          "<b>Topic 3</b><br>Words: tentu, berikn, enak, hidayah, sengsara",
          "<b>Topic 3</b><br>Words: kemndikbud, indonesia, pusatgugus, pasuk, penting",
          "<b>Topic 3</b><br>Words: santri, kamaruddin, dirjen, amin, pasti",
          "<b>Topic 3</b><br>Words: pesantren, hamidah, menganaktirikan, sowan, luluk",
          "<b>Topic 3</b><br>Words: bos, trmksh, sosok, diam, anggota",
          "<b>Topic 3</b><br>Words: soal, jemaah, wae, podo, gek",
          "<b>Topic 3</b><br>Words: bidik, agresif, basis, tangkal, panislamisme",
          "<b>Topic 3</b><br>Words: indonesia, transformasi, buru, asumsi, riset",
          "<b>Topic 3</b><br>Words: indonesia, artikel, wa, sobat, sama",
          "<b>Topic 3</b><br>Words: indonesia, arti, ganti, salah, tiap",
          "<b>Topic 3</b><br>Words: uu, agama, gt, reposted, islam",
          "<b>Topic 3</b><br>Words: maya, indonesia, timbul, atau, dunia",
          "<b>Topic 3</b><br>Words: indonesia, dadi, mengtri, ora, batas",
          "<b>Topic 3</b><br>Words: indonesia, nu, nadiem, muhammadiyah, merdeka",
          "<b>Topic 3</b><br>Words: keliru, gadai, gerindra, copot, indonesia",
          "<b>Topic 3</b><br>Words: indonesia, advokasi, bagus, maju, mungkin"
         ],
         "marker": {
          "color": "#F0E442"
         },
         "mode": "lines",
         "name": "3_indonesia_islam_normal_pandemi",
         "type": "scatter",
         "x": [
          "2020-05-01T05:44:38.976999+00:00",
          "2020-05-04T09:17:14.100000+00:00",
          "2020-05-07T10:37:48.200000+00:00",
          "2020-05-13T13:18:56.400000+00:00",
          "2020-05-16T14:39:30.500000+00:00",
          "2020-05-19T16:00:04.600000+00:00",
          "2020-05-25T18:41:12.800000+00:00",
          "2020-05-28T20:01:46.900000+00:00",
          "2020-05-31T21:22:21+00:00",
          "2020-06-03T22:42:55.100000+00:00",
          "2020-06-07T00:03:29.200000+00:00",
          "2020-06-10T01:24:03.300000+00:00",
          "2020-06-13T02:44:37.400000+00:00",
          "2020-06-16T04:05:11.500000+00:00",
          "2020-06-19T05:25:45.600000+00:00",
          "2020-06-22T06:46:19.700000+00:00",
          "2020-06-25T08:06:53.800000+00:00",
          "2020-06-28T09:27:27.900000+00:00",
          "2020-07-01T10:48:02+00:00",
          "2020-07-04T12:08:36.100000+00:00",
          "2020-07-07T13:29:10.200000+00:00",
          "2020-07-10T14:49:44.300000+00:00",
          "2020-07-13T16:10:18.400000+00:00",
          "2020-07-19T18:51:26.600000+00:00",
          "2020-07-22T20:12:00.700000+00:00",
          "2020-07-25T21:32:34.800000+00:00",
          "2020-07-28T22:53:08.900000+00:00"
         ],
         "y": [
          16,
          3,
          2,
          2,
          1,
          4,
          5,
          3,
          12,
          6,
          6,
          2,
          5,
          2,
          3,
          3,
          4,
          2,
          9,
          7,
          4,
          4,
          3,
          4,
          11,
          6,
          5
         ]
        },
        {
         "hoverinfo": "text",
         "hovertext": [
          "<b>Topic 4</b><br>Words: papua, ntt, tawar, endonesah, dikit",
          "<b>Topic 4</b><br>Words: papua, bidang, timpa, pusatmelainkan, otsus",
          "<b>Topic 4</b><br>Words: papua, bangun, infrastruktur, otonomi, michael",
          "<b>Topic 4</b><br>Words: papua, otonomi, tanah, infrastruktur, bangun",
          "<b>Topic 4</b><br>Words: papua, barat, otsus, otonomi, perintah",
          "<b>Topic 4</b><br>Words: papua, otonomi, khusus, asli, citacitanya",
          "<b>Topic 4</b><br>Words: papua, emas, barat, otonomi, bangun",
          "<b>Topic 4</b><br>Words: papua, otonomi, barat, sdm, sendiri"
         ],
         "marker": {
          "color": "#D55E00"
         },
         "mode": "lines",
         "name": "4_papua_otonomi_khusus_barat",
         "type": "scatter",
         "x": [
          "2020-05-10T11:58:22.300000+00:00",
          "2020-06-10T01:24:03.300000+00:00",
          "2020-06-16T04:05:11.500000+00:00",
          "2020-07-01T10:48:02+00:00",
          "2020-07-10T14:49:44.300000+00:00",
          "2020-07-13T16:10:18.400000+00:00",
          "2020-07-19T18:51:26.600000+00:00",
          "2020-07-25T21:32:34.800000+00:00"
         ],
         "y": [
          1,
          2,
          6,
          1,
          2,
          6,
          1,
          6
         ]
        },
        {
         "hoverinfo": "text",
         "hovertext": [
          "<b>Topic 5</b><br>Words: saran, hendak, bila, implementasi, dar",
          "<b>Topic 5</b><br>Words: hendak, saran, bila, implementasi, dar",
          "<b>Topic 5</b><br>Words: hendak, saran, bila, implementasi, dar"
         ],
         "marker": {
          "color": "#0072B2"
         },
         "mode": "lines",
         "name": "5_saran_hendak_bila_implementasi",
         "type": "scatter",
         "x": [
          "2020-06-07T00:03:29.200000+00:00",
          "2020-06-10T01:24:03.300000+00:00",
          "2020-06-13T02:44:37.400000+00:00"
         ],
         "y": [
          4,
          7,
          2
         ]
        },
        {
         "hoverinfo": "text",
         "hovertext": [
          "<b>Topic 6</b><br>Words: apresiasi, dpr, kali, komisi, bantu",
          "<b>Topic 6</b><br>Words: dpr, kali, komisi, relaksasi, biaya"
         ],
         "marker": {
          "color": "#CC79A7"
         },
         "mode": "lines",
         "name": "6_dpr_apresiasi_kali_komisi",
         "type": "scatter",
         "x": [
          "2020-06-22T06:46:19.700000+00:00",
          "2020-06-25T08:06:53.800000+00:00"
         ],
         "y": [
          10,
          3
         ]
        },
        {
         "hoverinfo": "text",
         "hovertext": [
          "<b>Topic 7</b><br>Words: akademika, sivitas, dosen, dr, tenaga",
          "<b>Topic 7</b><br>Words: perancis, mending, jerman, edc, bahasa",
          "<b>Topic 7</b><br>Words: butuh, tri, untuk, aktor, kebijakanyang",
          "<b>Topic 7</b><br>Words: mahasiswa, satu, tiga, dukung, mendikbud",
          "<b>Topic 7</b><br>Words: dapat, multibahasa, kebudayan, aksaranews, bio"
         ],
         "marker": {
          "color": "#E69F00"
         },
         "mode": "lines",
         "name": "7_tri_mahasiswa_butuh_dapat",
         "type": "scatter",
         "x": [
          "2020-05-25T18:41:12.800000+00:00",
          "2020-06-10T01:24:03.300000+00:00",
          "2020-06-13T02:44:37.400000+00:00",
          "2020-06-19T05:25:45.600000+00:00",
          "2020-06-25T08:06:53.800000+00:00"
         ],
         "y": [
          1,
          2,
          2,
          3,
          4
         ]
        },
        {
         "hoverinfo": "text",
         "hovertext": [
          "<b>Topic 8</b><br>Words: virtual, sepenuh, perlu, pesantren, khusus",
          "<b>Topic 8</b><br>Words: dokter, siap, normal, era, baru",
          "<b>Topic 8</b><br>Words: siap, beberapa, dokter, kerumun, protokol"
         ],
         "marker": {
          "color": "#56B4E9"
         },
         "mode": "lines",
         "name": "8_dokter_siap_normal_era",
         "type": "scatter",
         "x": [
          "2020-05-25T18:41:12.800000+00:00",
          "2020-06-07T00:03:29.200000+00:00",
          "2020-07-04T12:08:36.100000+00:00"
         ],
         "y": [
          1,
          10,
          1
         ]
        }
       ],
       "layout": {
        "height": 450,
        "hoverlabel": {
         "bgcolor": "white",
         "font": {
          "family": "Rockwell",
          "size": 16
         }
        },
        "legend": {
         "title": {
          "text": "<b>Global Topic Representation"
         }
        },
        "template": {
         "data": {
          "bar": [
           {
            "error_x": {
             "color": "rgb(36,36,36)"
            },
            "error_y": {
             "color": "rgb(36,36,36)"
            },
            "marker": {
             "line": {
              "color": "white",
              "width": 0.5
             },
             "pattern": {
              "fillmode": "overlay",
              "size": 10,
              "solidity": 0.2
             }
            },
            "type": "bar"
           }
          ],
          "barpolar": [
           {
            "marker": {
             "line": {
              "color": "white",
              "width": 0.5
             },
             "pattern": {
              "fillmode": "overlay",
              "size": 10,
              "solidity": 0.2
             }
            },
            "type": "barpolar"
           }
          ],
          "carpet": [
           {
            "aaxis": {
             "endlinecolor": "rgb(36,36,36)",
             "gridcolor": "white",
             "linecolor": "white",
             "minorgridcolor": "white",
             "startlinecolor": "rgb(36,36,36)"
            },
            "baxis": {
             "endlinecolor": "rgb(36,36,36)",
             "gridcolor": "white",
             "linecolor": "white",
             "minorgridcolor": "white",
             "startlinecolor": "rgb(36,36,36)"
            },
            "type": "carpet"
           }
          ],
          "choropleth": [
           {
            "colorbar": {
             "outlinewidth": 1,
             "tickcolor": "rgb(36,36,36)",
             "ticks": "outside"
            },
            "type": "choropleth"
           }
          ],
          "contour": [
           {
            "colorbar": {
             "outlinewidth": 1,
             "tickcolor": "rgb(36,36,36)",
             "ticks": "outside"
            },
            "colorscale": [
             [
              0,
              "#440154"
             ],
             [
              0.1111111111111111,
              "#482878"
             ],
             [
              0.2222222222222222,
              "#3e4989"
             ],
             [
              0.3333333333333333,
              "#31688e"
             ],
             [
              0.4444444444444444,
              "#26828e"
             ],
             [
              0.5555555555555556,
              "#1f9e89"
             ],
             [
              0.6666666666666666,
              "#35b779"
             ],
             [
              0.7777777777777778,
              "#6ece58"
             ],
             [
              0.8888888888888888,
              "#b5de2b"
             ],
             [
              1,
              "#fde725"
             ]
            ],
            "type": "contour"
           }
          ],
          "contourcarpet": [
           {
            "colorbar": {
             "outlinewidth": 1,
             "tickcolor": "rgb(36,36,36)",
             "ticks": "outside"
            },
            "type": "contourcarpet"
           }
          ],
          "heatmap": [
           {
            "colorbar": {
             "outlinewidth": 1,
             "tickcolor": "rgb(36,36,36)",
             "ticks": "outside"
            },
            "colorscale": [
             [
              0,
              "#440154"
             ],
             [
              0.1111111111111111,
              "#482878"
             ],
             [
              0.2222222222222222,
              "#3e4989"
             ],
             [
              0.3333333333333333,
              "#31688e"
             ],
             [
              0.4444444444444444,
              "#26828e"
             ],
             [
              0.5555555555555556,
              "#1f9e89"
             ],
             [
              0.6666666666666666,
              "#35b779"
             ],
             [
              0.7777777777777778,
              "#6ece58"
             ],
             [
              0.8888888888888888,
              "#b5de2b"
             ],
             [
              1,
              "#fde725"
             ]
            ],
            "type": "heatmap"
           }
          ],
          "heatmapgl": [
           {
            "colorbar": {
             "outlinewidth": 1,
             "tickcolor": "rgb(36,36,36)",
             "ticks": "outside"
            },
            "colorscale": [
             [
              0,
              "#440154"
             ],
             [
              0.1111111111111111,
              "#482878"
             ],
             [
              0.2222222222222222,
              "#3e4989"
             ],
             [
              0.3333333333333333,
              "#31688e"
             ],
             [
              0.4444444444444444,
              "#26828e"
             ],
             [
              0.5555555555555556,
              "#1f9e89"
             ],
             [
              0.6666666666666666,
              "#35b779"
             ],
             [
              0.7777777777777778,
              "#6ece58"
             ],
             [
              0.8888888888888888,
              "#b5de2b"
             ],
             [
              1,
              "#fde725"
             ]
            ],
            "type": "heatmapgl"
           }
          ],
          "histogram": [
           {
            "marker": {
             "line": {
              "color": "white",
              "width": 0.6
             }
            },
            "type": "histogram"
           }
          ],
          "histogram2d": [
           {
            "colorbar": {
             "outlinewidth": 1,
             "tickcolor": "rgb(36,36,36)",
             "ticks": "outside"
            },
            "colorscale": [
             [
              0,
              "#440154"
             ],
             [
              0.1111111111111111,
              "#482878"
             ],
             [
              0.2222222222222222,
              "#3e4989"
             ],
             [
              0.3333333333333333,
              "#31688e"
             ],
             [
              0.4444444444444444,
              "#26828e"
             ],
             [
              0.5555555555555556,
              "#1f9e89"
             ],
             [
              0.6666666666666666,
              "#35b779"
             ],
             [
              0.7777777777777778,
              "#6ece58"
             ],
             [
              0.8888888888888888,
              "#b5de2b"
             ],
             [
              1,
              "#fde725"
             ]
            ],
            "type": "histogram2d"
           }
          ],
          "histogram2dcontour": [
           {
            "colorbar": {
             "outlinewidth": 1,
             "tickcolor": "rgb(36,36,36)",
             "ticks": "outside"
            },
            "colorscale": [
             [
              0,
              "#440154"
             ],
             [
              0.1111111111111111,
              "#482878"
             ],
             [
              0.2222222222222222,
              "#3e4989"
             ],
             [
              0.3333333333333333,
              "#31688e"
             ],
             [
              0.4444444444444444,
              "#26828e"
             ],
             [
              0.5555555555555556,
              "#1f9e89"
             ],
             [
              0.6666666666666666,
              "#35b779"
             ],
             [
              0.7777777777777778,
              "#6ece58"
             ],
             [
              0.8888888888888888,
              "#b5de2b"
             ],
             [
              1,
              "#fde725"
             ]
            ],
            "type": "histogram2dcontour"
           }
          ],
          "mesh3d": [
           {
            "colorbar": {
             "outlinewidth": 1,
             "tickcolor": "rgb(36,36,36)",
             "ticks": "outside"
            },
            "type": "mesh3d"
           }
          ],
          "parcoords": [
           {
            "line": {
             "colorbar": {
              "outlinewidth": 1,
              "tickcolor": "rgb(36,36,36)",
              "ticks": "outside"
             }
            },
            "type": "parcoords"
           }
          ],
          "pie": [
           {
            "automargin": true,
            "type": "pie"
           }
          ],
          "scatter": [
           {
            "fillpattern": {
             "fillmode": "overlay",
             "size": 10,
             "solidity": 0.2
            },
            "type": "scatter"
           }
          ],
          "scatter3d": [
           {
            "line": {
             "colorbar": {
              "outlinewidth": 1,
              "tickcolor": "rgb(36,36,36)",
              "ticks": "outside"
             }
            },
            "marker": {
             "colorbar": {
              "outlinewidth": 1,
              "tickcolor": "rgb(36,36,36)",
              "ticks": "outside"
             }
            },
            "type": "scatter3d"
           }
          ],
          "scattercarpet": [
           {
            "marker": {
             "colorbar": {
              "outlinewidth": 1,
              "tickcolor": "rgb(36,36,36)",
              "ticks": "outside"
             }
            },
            "type": "scattercarpet"
           }
          ],
          "scattergeo": [
           {
            "marker": {
             "colorbar": {
              "outlinewidth": 1,
              "tickcolor": "rgb(36,36,36)",
              "ticks": "outside"
             }
            },
            "type": "scattergeo"
           }
          ],
          "scattergl": [
           {
            "marker": {
             "colorbar": {
              "outlinewidth": 1,
              "tickcolor": "rgb(36,36,36)",
              "ticks": "outside"
             }
            },
            "type": "scattergl"
           }
          ],
          "scattermapbox": [
           {
            "marker": {
             "colorbar": {
              "outlinewidth": 1,
              "tickcolor": "rgb(36,36,36)",
              "ticks": "outside"
             }
            },
            "type": "scattermapbox"
           }
          ],
          "scatterpolar": [
           {
            "marker": {
             "colorbar": {
              "outlinewidth": 1,
              "tickcolor": "rgb(36,36,36)",
              "ticks": "outside"
             }
            },
            "type": "scatterpolar"
           }
          ],
          "scatterpolargl": [
           {
            "marker": {
             "colorbar": {
              "outlinewidth": 1,
              "tickcolor": "rgb(36,36,36)",
              "ticks": "outside"
             }
            },
            "type": "scatterpolargl"
           }
          ],
          "scatterternary": [
           {
            "marker": {
             "colorbar": {
              "outlinewidth": 1,
              "tickcolor": "rgb(36,36,36)",
              "ticks": "outside"
             }
            },
            "type": "scatterternary"
           }
          ],
          "surface": [
           {
            "colorbar": {
             "outlinewidth": 1,
             "tickcolor": "rgb(36,36,36)",
             "ticks": "outside"
            },
            "colorscale": [
             [
              0,
              "#440154"
             ],
             [
              0.1111111111111111,
              "#482878"
             ],
             [
              0.2222222222222222,
              "#3e4989"
             ],
             [
              0.3333333333333333,
              "#31688e"
             ],
             [
              0.4444444444444444,
              "#26828e"
             ],
             [
              0.5555555555555556,
              "#1f9e89"
             ],
             [
              0.6666666666666666,
              "#35b779"
             ],
             [
              0.7777777777777778,
              "#6ece58"
             ],
             [
              0.8888888888888888,
              "#b5de2b"
             ],
             [
              1,
              "#fde725"
             ]
            ],
            "type": "surface"
           }
          ],
          "table": [
           {
            "cells": {
             "fill": {
              "color": "rgb(237,237,237)"
             },
             "line": {
              "color": "white"
             }
            },
            "header": {
             "fill": {
              "color": "rgb(217,217,217)"
             },
             "line": {
              "color": "white"
             }
            },
            "type": "table"
           }
          ]
         },
         "layout": {
          "annotationdefaults": {
           "arrowhead": 0,
           "arrowwidth": 1
          },
          "autotypenumbers": "strict",
          "coloraxis": {
           "colorbar": {
            "outlinewidth": 1,
            "tickcolor": "rgb(36,36,36)",
            "ticks": "outside"
           }
          },
          "colorscale": {
           "diverging": [
            [
             0,
             "rgb(103,0,31)"
            ],
            [
             0.1,
             "rgb(178,24,43)"
            ],
            [
             0.2,
             "rgb(214,96,77)"
            ],
            [
             0.3,
             "rgb(244,165,130)"
            ],
            [
             0.4,
             "rgb(253,219,199)"
            ],
            [
             0.5,
             "rgb(247,247,247)"
            ],
            [
             0.6,
             "rgb(209,229,240)"
            ],
            [
             0.7,
             "rgb(146,197,222)"
            ],
            [
             0.8,
             "rgb(67,147,195)"
            ],
            [
             0.9,
             "rgb(33,102,172)"
            ],
            [
             1,
             "rgb(5,48,97)"
            ]
           ],
           "sequential": [
            [
             0,
             "#440154"
            ],
            [
             0.1111111111111111,
             "#482878"
            ],
            [
             0.2222222222222222,
             "#3e4989"
            ],
            [
             0.3333333333333333,
             "#31688e"
            ],
            [
             0.4444444444444444,
             "#26828e"
            ],
            [
             0.5555555555555556,
             "#1f9e89"
            ],
            [
             0.6666666666666666,
             "#35b779"
            ],
            [
             0.7777777777777778,
             "#6ece58"
            ],
            [
             0.8888888888888888,
             "#b5de2b"
            ],
            [
             1,
             "#fde725"
            ]
           ],
           "sequentialminus": [
            [
             0,
             "#440154"
            ],
            [
             0.1111111111111111,
             "#482878"
            ],
            [
             0.2222222222222222,
             "#3e4989"
            ],
            [
             0.3333333333333333,
             "#31688e"
            ],
            [
             0.4444444444444444,
             "#26828e"
            ],
            [
             0.5555555555555556,
             "#1f9e89"
            ],
            [
             0.6666666666666666,
             "#35b779"
            ],
            [
             0.7777777777777778,
             "#6ece58"
            ],
            [
             0.8888888888888888,
             "#b5de2b"
            ],
            [
             1,
             "#fde725"
            ]
           ]
          },
          "colorway": [
           "#1F77B4",
           "#FF7F0E",
           "#2CA02C",
           "#D62728",
           "#9467BD",
           "#8C564B",
           "#E377C2",
           "#7F7F7F",
           "#BCBD22",
           "#17BECF"
          ],
          "font": {
           "color": "rgb(36,36,36)"
          },
          "geo": {
           "bgcolor": "white",
           "lakecolor": "white",
           "landcolor": "white",
           "showlakes": true,
           "showland": true,
           "subunitcolor": "white"
          },
          "hoverlabel": {
           "align": "left"
          },
          "hovermode": "closest",
          "mapbox": {
           "style": "light"
          },
          "paper_bgcolor": "white",
          "plot_bgcolor": "white",
          "polar": {
           "angularaxis": {
            "gridcolor": "rgb(232,232,232)",
            "linecolor": "rgb(36,36,36)",
            "showgrid": false,
            "showline": true,
            "ticks": "outside"
           },
           "bgcolor": "white",
           "radialaxis": {
            "gridcolor": "rgb(232,232,232)",
            "linecolor": "rgb(36,36,36)",
            "showgrid": false,
            "showline": true,
            "ticks": "outside"
           }
          },
          "scene": {
           "xaxis": {
            "backgroundcolor": "white",
            "gridcolor": "rgb(232,232,232)",
            "gridwidth": 2,
            "linecolor": "rgb(36,36,36)",
            "showbackground": true,
            "showgrid": false,
            "showline": true,
            "ticks": "outside",
            "zeroline": false,
            "zerolinecolor": "rgb(36,36,36)"
           },
           "yaxis": {
            "backgroundcolor": "white",
            "gridcolor": "rgb(232,232,232)",
            "gridwidth": 2,
            "linecolor": "rgb(36,36,36)",
            "showbackground": true,
            "showgrid": false,
            "showline": true,
            "ticks": "outside",
            "zeroline": false,
            "zerolinecolor": "rgb(36,36,36)"
           },
           "zaxis": {
            "backgroundcolor": "white",
            "gridcolor": "rgb(232,232,232)",
            "gridwidth": 2,
            "linecolor": "rgb(36,36,36)",
            "showbackground": true,
            "showgrid": false,
            "showline": true,
            "ticks": "outside",
            "zeroline": false,
            "zerolinecolor": "rgb(36,36,36)"
           }
          },
          "shapedefaults": {
           "fillcolor": "black",
           "line": {
            "width": 0
           },
           "opacity": 0.3
          },
          "ternary": {
           "aaxis": {
            "gridcolor": "rgb(232,232,232)",
            "linecolor": "rgb(36,36,36)",
            "showgrid": false,
            "showline": true,
            "ticks": "outside"
           },
           "baxis": {
            "gridcolor": "rgb(232,232,232)",
            "linecolor": "rgb(36,36,36)",
            "showgrid": false,
            "showline": true,
            "ticks": "outside"
           },
           "bgcolor": "white",
           "caxis": {
            "gridcolor": "rgb(232,232,232)",
            "linecolor": "rgb(36,36,36)",
            "showgrid": false,
            "showline": true,
            "ticks": "outside"
           }
          },
          "title": {
           "x": 0.05
          },
          "xaxis": {
           "automargin": true,
           "gridcolor": "rgb(232,232,232)",
           "linecolor": "rgb(36,36,36)",
           "showgrid": false,
           "showline": true,
           "ticks": "outside",
           "title": {
            "standoff": 15
           },
           "zeroline": false,
           "zerolinecolor": "rgb(36,36,36)"
          },
          "yaxis": {
           "automargin": true,
           "gridcolor": "rgb(232,232,232)",
           "linecolor": "rgb(36,36,36)",
           "showgrid": false,
           "showline": true,
           "ticks": "outside",
           "title": {
            "standoff": 15
           },
           "zeroline": false,
           "zerolinecolor": "rgb(36,36,36)"
          }
         }
        },
        "title": {
         "font": {
          "color": "Black",
          "size": 22
         },
         "text": "Topics Over Time for 2020_05-2020_07",
         "x": 0.4,
         "xanchor": "center",
         "y": 0.95,
         "yanchor": "top"
        },
        "width": 1250,
        "xaxis": {
         "showgrid": true
        },
        "yaxis": {
         "showgrid": true,
         "title": {
          "text": "Frequency"
         }
        }
       }
      }
     },
     "metadata": {},
     "output_type": "display_data"
    },
    {
     "data": {
      "application/vnd.plotly.v1+json": {
       "config": {
        "plotlyServerURL": "https://plot.ly"
       },
       "data": [
        {
         "hoverinfo": "text",
         "hovertext": [
          "<b>Topic 0</b><br>Words: kuat, prakerja, efektivitas, salur, kartu",
          "<b>Topic 0</b><br>Words: tingkat, lkt, menindaklanjuti, kuat, profesionalisme"
         ],
         "marker": {
          "color": "#E69F00"
         },
         "mode": "lines",
         "name": "0_kuat_efektivitas_prakerja_salur",
         "type": "scatter",
         "x": [
          "2020-08-13T13:40:23.733333+00:00",
          "2020-09-28T10:56:45.233333+00:00"
         ],
         "y": [
          28,
          1
         ]
        },
        {
         "hoverinfo": "text",
         "hovertext": [
          "<b>Topic 1</b><br>Words: papua, otonomi, otsus, roh, khusus",
          "<b>Topic 1</b><br>Words: papua, otonomi, otsus, prestasi, beasiswa",
          "<b>Topic 1</b><br>Words: papua, barat, pemudapemuda, hs, ppi",
          "<b>Topic 1</b><br>Words: papua, barat, otsus, otonomi, implementasi",
          "<b>Topic 1</b><br>Words: papua, otsus, mbawa, mperpanjang, tlh",
          "<b>Topic 1</b><br>Words: filipina, papua, komisi, tinggi, waris",
          "<b>Topic 1</b><br>Words: papua, kurang, cukup, mngekspos, otsus",
          "<b>Topic 1</b><br>Words: papua, yaaotsus, mensejahterkan, sogok, otsus",
          "<b>Topic 1</b><br>Words: papua, barat, otonomi, khusus, putra"
         ],
         "marker": {
          "color": "#56B4E9"
         },
         "mode": "lines",
         "name": "1_papua_otsus_otonomi_barat",
         "type": "scatter",
         "x": [
          "2020-08-01T05:47:52.836999+00:00",
          "2020-08-07T10:50:12.866666+00:00",
          "2020-08-13T13:40:23.733333+00:00",
          "2020-08-16T15:05:29.166666+00:00",
          "2020-08-25T19:20:45.466666+00:00",
          "2020-08-28T20:45:50.900000+00:00",
          "2020-09-07T01:01:07.200000+00:00",
          "2020-09-10T02:26:12.633333+00:00",
          "2020-10-04T13:46:56.100000+00:00"
         ],
         "y": [
          1,
          4,
          1,
          4,
          1,
          1,
          1,
          1,
          4
         ]
        },
        {
         "hoverinfo": "text",
         "hovertext": [
          "<b>Topic 2</b><br>Words: program, covid, nadiem, perintah, sebut",
          "<b>Topic 2</b><br>Words: sekolah, indonesia, jadi, amp, menteri",
          "<b>Topic 2</b><br>Words: ajar, menteri, sekolah, zona, kuning",
          "<b>Topic 2</b><br>Words: sekolah, pandemi, ajar, masa, covid",
          "<b>Topic 2</b><br>Words: covid, laku, reformasi, budaya, ajar",
          "<b>Topic 2</b><br>Words: aspek, indonesia, jadi, angkat, kemendikbud",
          "<b>Topic 2</b><br>Words: gue, baju, covid, pandemi, pakai",
          "<b>Topic 2</b><br>Words: kira, tak, utbk, ringan, uny",
          "<b>Topic 2</b><br>Words: ajar, menteri, pandemi, kemendikbud, covid",
          "<b>Topic 2</b><br>Words: pandemi, satu, ajar, bapak, ki",
          "<b>Topic 2</b><br>Words: ajar, pandemi, covid, masa, menteri",
          "<b>Topic 2</b><br>Words: rutinitas, perhati, alokasi, anggar, covid",
          "<b>Topic 2</b><br>Words: menteri, beri, nilai, positif, siswa",
          "<b>Topic 2</b><br>Words: tv, siar, ajar, mahasiswa, bikin",
          "<b>Topic 2</b><br>Words: inews, merdeka, pandemi, youtube, tengah",
          "<b>Topic 2</b><br>Words: sejarah, kurikulum, leader, indonesia, jadi",
          "<b>Topic 2</b><br>Words: mahasura, salam, muda, ajar, covid",
          "<b>Topic 2</b><br>Words: dinas, ajar, kurikulum, budaya, perintah",
          "<b>Topic 2</b><br>Words: bantu, kuota, internet, nadiem, budaya",
          "<b>Topic 2</b><br>Words: amp, bangsa, tetap, masuk, tak",
          "<b>Topic 2</b><br>Words: kampus, merdeka, menteri, indonesia, sama",
          "<b>Topic 2</b><br>Words: buat, ganti, ajar, pandemi, indonesia",
          "<b>Topic 2</b><br>Words: ajar, jadi, nasional, menteri, atur",
          "<b>Topic 2</b><br>Words: formal, kemendikbud, uji, bakamla, kampus",
          "<b>Topic 2</b><br>Words: cuci, tangan, sabun, menteri, lewat",
          "<b>Topic 2</b><br>Words: politik, nadin, bogor, pak, tenaga",
          "<b>Topic 2</b><br>Words: sama, perintah, pandemi, masa, nasional",
          "<b>Topic 2</b><br>Words: evaluasi, jadi, mampu, politik, ambil",
          "<b>Topic 2</b><br>Words: bagai, satu, visi, pandemi, indonesia",
          "<b>Topic 2</b><br>Words: mana, kerja, masyarakat, gelargelar, demokratis"
         ],
         "marker": {
          "color": "#009E73"
         },
         "mode": "lines",
         "name": "2_ajar_menteri_pandemi_covid",
         "type": "scatter",
         "x": [
          "2020-08-01T05:47:52.836999+00:00",
          "2020-08-04T09:25:07.433333+00:00",
          "2020-08-07T10:50:12.866666+00:00",
          "2020-08-10T12:15:18.300000+00:00",
          "2020-08-13T13:40:23.733333+00:00",
          "2020-08-16T15:05:29.166666+00:00",
          "2020-08-19T16:30:34.600000+00:00",
          "2020-08-22T17:55:40.033333+00:00",
          "2020-08-25T19:20:45.466666+00:00",
          "2020-08-28T20:45:50.900000+00:00",
          "2020-08-31T22:10:56.333333+00:00",
          "2020-09-03T23:36:01.766666+00:00",
          "2020-09-07T01:01:07.200000+00:00",
          "2020-09-10T02:26:12.633333+00:00",
          "2020-09-13T03:51:18.066666+00:00",
          "2020-09-16T05:16:23.500000+00:00",
          "2020-09-19T06:41:28.933333+00:00",
          "2020-09-22T08:06:34.366666+00:00",
          "2020-09-25T09:31:39.800000+00:00",
          "2020-09-28T10:56:45.233333+00:00",
          "2020-10-01T12:21:50.666666+00:00",
          "2020-10-04T13:46:56.100000+00:00",
          "2020-10-07T15:12:01.533333+00:00",
          "2020-10-10T16:37:06.966666+00:00",
          "2020-10-13T18:02:12.400000+00:00",
          "2020-10-16T19:27:17.833333+00:00",
          "2020-10-19T20:52:23.266666+00:00",
          "2020-10-22T22:17:28.700000+00:00",
          "2020-10-25T23:42:34.133333+00:00",
          "2020-10-29T01:07:39.566666+00:00"
         ],
         "y": [
          29,
          32,
          32,
          41,
          30,
          18,
          5,
          12,
          32,
          12,
          29,
          10,
          24,
          30,
          18,
          19,
          33,
          19,
          14,
          4,
          14,
          28,
          15,
          14,
          9,
          8,
          23,
          15,
          11,
          8
         ]
        }
       ],
       "layout": {
        "height": 450,
        "hoverlabel": {
         "bgcolor": "white",
         "font": {
          "family": "Rockwell",
          "size": 16
         }
        },
        "legend": {
         "title": {
          "text": "<b>Global Topic Representation"
         }
        },
        "template": {
         "data": {
          "bar": [
           {
            "error_x": {
             "color": "rgb(36,36,36)"
            },
            "error_y": {
             "color": "rgb(36,36,36)"
            },
            "marker": {
             "line": {
              "color": "white",
              "width": 0.5
             },
             "pattern": {
              "fillmode": "overlay",
              "size": 10,
              "solidity": 0.2
             }
            },
            "type": "bar"
           }
          ],
          "barpolar": [
           {
            "marker": {
             "line": {
              "color": "white",
              "width": 0.5
             },
             "pattern": {
              "fillmode": "overlay",
              "size": 10,
              "solidity": 0.2
             }
            },
            "type": "barpolar"
           }
          ],
          "carpet": [
           {
            "aaxis": {
             "endlinecolor": "rgb(36,36,36)",
             "gridcolor": "white",
             "linecolor": "white",
             "minorgridcolor": "white",
             "startlinecolor": "rgb(36,36,36)"
            },
            "baxis": {
             "endlinecolor": "rgb(36,36,36)",
             "gridcolor": "white",
             "linecolor": "white",
             "minorgridcolor": "white",
             "startlinecolor": "rgb(36,36,36)"
            },
            "type": "carpet"
           }
          ],
          "choropleth": [
           {
            "colorbar": {
             "outlinewidth": 1,
             "tickcolor": "rgb(36,36,36)",
             "ticks": "outside"
            },
            "type": "choropleth"
           }
          ],
          "contour": [
           {
            "colorbar": {
             "outlinewidth": 1,
             "tickcolor": "rgb(36,36,36)",
             "ticks": "outside"
            },
            "colorscale": [
             [
              0,
              "#440154"
             ],
             [
              0.1111111111111111,
              "#482878"
             ],
             [
              0.2222222222222222,
              "#3e4989"
             ],
             [
              0.3333333333333333,
              "#31688e"
             ],
             [
              0.4444444444444444,
              "#26828e"
             ],
             [
              0.5555555555555556,
              "#1f9e89"
             ],
             [
              0.6666666666666666,
              "#35b779"
             ],
             [
              0.7777777777777778,
              "#6ece58"
             ],
             [
              0.8888888888888888,
              "#b5de2b"
             ],
             [
              1,
              "#fde725"
             ]
            ],
            "type": "contour"
           }
          ],
          "contourcarpet": [
           {
            "colorbar": {
             "outlinewidth": 1,
             "tickcolor": "rgb(36,36,36)",
             "ticks": "outside"
            },
            "type": "contourcarpet"
           }
          ],
          "heatmap": [
           {
            "colorbar": {
             "outlinewidth": 1,
             "tickcolor": "rgb(36,36,36)",
             "ticks": "outside"
            },
            "colorscale": [
             [
              0,
              "#440154"
             ],
             [
              0.1111111111111111,
              "#482878"
             ],
             [
              0.2222222222222222,
              "#3e4989"
             ],
             [
              0.3333333333333333,
              "#31688e"
             ],
             [
              0.4444444444444444,
              "#26828e"
             ],
             [
              0.5555555555555556,
              "#1f9e89"
             ],
             [
              0.6666666666666666,
              "#35b779"
             ],
             [
              0.7777777777777778,
              "#6ece58"
             ],
             [
              0.8888888888888888,
              "#b5de2b"
             ],
             [
              1,
              "#fde725"
             ]
            ],
            "type": "heatmap"
           }
          ],
          "heatmapgl": [
           {
            "colorbar": {
             "outlinewidth": 1,
             "tickcolor": "rgb(36,36,36)",
             "ticks": "outside"
            },
            "colorscale": [
             [
              0,
              "#440154"
             ],
             [
              0.1111111111111111,
              "#482878"
             ],
             [
              0.2222222222222222,
              "#3e4989"
             ],
             [
              0.3333333333333333,
              "#31688e"
             ],
             [
              0.4444444444444444,
              "#26828e"
             ],
             [
              0.5555555555555556,
              "#1f9e89"
             ],
             [
              0.6666666666666666,
              "#35b779"
             ],
             [
              0.7777777777777778,
              "#6ece58"
             ],
             [
              0.8888888888888888,
              "#b5de2b"
             ],
             [
              1,
              "#fde725"
             ]
            ],
            "type": "heatmapgl"
           }
          ],
          "histogram": [
           {
            "marker": {
             "line": {
              "color": "white",
              "width": 0.6
             }
            },
            "type": "histogram"
           }
          ],
          "histogram2d": [
           {
            "colorbar": {
             "outlinewidth": 1,
             "tickcolor": "rgb(36,36,36)",
             "ticks": "outside"
            },
            "colorscale": [
             [
              0,
              "#440154"
             ],
             [
              0.1111111111111111,
              "#482878"
             ],
             [
              0.2222222222222222,
              "#3e4989"
             ],
             [
              0.3333333333333333,
              "#31688e"
             ],
             [
              0.4444444444444444,
              "#26828e"
             ],
             [
              0.5555555555555556,
              "#1f9e89"
             ],
             [
              0.6666666666666666,
              "#35b779"
             ],
             [
              0.7777777777777778,
              "#6ece58"
             ],
             [
              0.8888888888888888,
              "#b5de2b"
             ],
             [
              1,
              "#fde725"
             ]
            ],
            "type": "histogram2d"
           }
          ],
          "histogram2dcontour": [
           {
            "colorbar": {
             "outlinewidth": 1,
             "tickcolor": "rgb(36,36,36)",
             "ticks": "outside"
            },
            "colorscale": [
             [
              0,
              "#440154"
             ],
             [
              0.1111111111111111,
              "#482878"
             ],
             [
              0.2222222222222222,
              "#3e4989"
             ],
             [
              0.3333333333333333,
              "#31688e"
             ],
             [
              0.4444444444444444,
              "#26828e"
             ],
             [
              0.5555555555555556,
              "#1f9e89"
             ],
             [
              0.6666666666666666,
              "#35b779"
             ],
             [
              0.7777777777777778,
              "#6ece58"
             ],
             [
              0.8888888888888888,
              "#b5de2b"
             ],
             [
              1,
              "#fde725"
             ]
            ],
            "type": "histogram2dcontour"
           }
          ],
          "mesh3d": [
           {
            "colorbar": {
             "outlinewidth": 1,
             "tickcolor": "rgb(36,36,36)",
             "ticks": "outside"
            },
            "type": "mesh3d"
           }
          ],
          "parcoords": [
           {
            "line": {
             "colorbar": {
              "outlinewidth": 1,
              "tickcolor": "rgb(36,36,36)",
              "ticks": "outside"
             }
            },
            "type": "parcoords"
           }
          ],
          "pie": [
           {
            "automargin": true,
            "type": "pie"
           }
          ],
          "scatter": [
           {
            "fillpattern": {
             "fillmode": "overlay",
             "size": 10,
             "solidity": 0.2
            },
            "type": "scatter"
           }
          ],
          "scatter3d": [
           {
            "line": {
             "colorbar": {
              "outlinewidth": 1,
              "tickcolor": "rgb(36,36,36)",
              "ticks": "outside"
             }
            },
            "marker": {
             "colorbar": {
              "outlinewidth": 1,
              "tickcolor": "rgb(36,36,36)",
              "ticks": "outside"
             }
            },
            "type": "scatter3d"
           }
          ],
          "scattercarpet": [
           {
            "marker": {
             "colorbar": {
              "outlinewidth": 1,
              "tickcolor": "rgb(36,36,36)",
              "ticks": "outside"
             }
            },
            "type": "scattercarpet"
           }
          ],
          "scattergeo": [
           {
            "marker": {
             "colorbar": {
              "outlinewidth": 1,
              "tickcolor": "rgb(36,36,36)",
              "ticks": "outside"
             }
            },
            "type": "scattergeo"
           }
          ],
          "scattergl": [
           {
            "marker": {
             "colorbar": {
              "outlinewidth": 1,
              "tickcolor": "rgb(36,36,36)",
              "ticks": "outside"
             }
            },
            "type": "scattergl"
           }
          ],
          "scattermapbox": [
           {
            "marker": {
             "colorbar": {
              "outlinewidth": 1,
              "tickcolor": "rgb(36,36,36)",
              "ticks": "outside"
             }
            },
            "type": "scattermapbox"
           }
          ],
          "scatterpolar": [
           {
            "marker": {
             "colorbar": {
              "outlinewidth": 1,
              "tickcolor": "rgb(36,36,36)",
              "ticks": "outside"
             }
            },
            "type": "scatterpolar"
           }
          ],
          "scatterpolargl": [
           {
            "marker": {
             "colorbar": {
              "outlinewidth": 1,
              "tickcolor": "rgb(36,36,36)",
              "ticks": "outside"
             }
            },
            "type": "scatterpolargl"
           }
          ],
          "scatterternary": [
           {
            "marker": {
             "colorbar": {
              "outlinewidth": 1,
              "tickcolor": "rgb(36,36,36)",
              "ticks": "outside"
             }
            },
            "type": "scatterternary"
           }
          ],
          "surface": [
           {
            "colorbar": {
             "outlinewidth": 1,
             "tickcolor": "rgb(36,36,36)",
             "ticks": "outside"
            },
            "colorscale": [
             [
              0,
              "#440154"
             ],
             [
              0.1111111111111111,
              "#482878"
             ],
             [
              0.2222222222222222,
              "#3e4989"
             ],
             [
              0.3333333333333333,
              "#31688e"
             ],
             [
              0.4444444444444444,
              "#26828e"
             ],
             [
              0.5555555555555556,
              "#1f9e89"
             ],
             [
              0.6666666666666666,
              "#35b779"
             ],
             [
              0.7777777777777778,
              "#6ece58"
             ],
             [
              0.8888888888888888,
              "#b5de2b"
             ],
             [
              1,
              "#fde725"
             ]
            ],
            "type": "surface"
           }
          ],
          "table": [
           {
            "cells": {
             "fill": {
              "color": "rgb(237,237,237)"
             },
             "line": {
              "color": "white"
             }
            },
            "header": {
             "fill": {
              "color": "rgb(217,217,217)"
             },
             "line": {
              "color": "white"
             }
            },
            "type": "table"
           }
          ]
         },
         "layout": {
          "annotationdefaults": {
           "arrowhead": 0,
           "arrowwidth": 1
          },
          "autotypenumbers": "strict",
          "coloraxis": {
           "colorbar": {
            "outlinewidth": 1,
            "tickcolor": "rgb(36,36,36)",
            "ticks": "outside"
           }
          },
          "colorscale": {
           "diverging": [
            [
             0,
             "rgb(103,0,31)"
            ],
            [
             0.1,
             "rgb(178,24,43)"
            ],
            [
             0.2,
             "rgb(214,96,77)"
            ],
            [
             0.3,
             "rgb(244,165,130)"
            ],
            [
             0.4,
             "rgb(253,219,199)"
            ],
            [
             0.5,
             "rgb(247,247,247)"
            ],
            [
             0.6,
             "rgb(209,229,240)"
            ],
            [
             0.7,
             "rgb(146,197,222)"
            ],
            [
             0.8,
             "rgb(67,147,195)"
            ],
            [
             0.9,
             "rgb(33,102,172)"
            ],
            [
             1,
             "rgb(5,48,97)"
            ]
           ],
           "sequential": [
            [
             0,
             "#440154"
            ],
            [
             0.1111111111111111,
             "#482878"
            ],
            [
             0.2222222222222222,
             "#3e4989"
            ],
            [
             0.3333333333333333,
             "#31688e"
            ],
            [
             0.4444444444444444,
             "#26828e"
            ],
            [
             0.5555555555555556,
             "#1f9e89"
            ],
            [
             0.6666666666666666,
             "#35b779"
            ],
            [
             0.7777777777777778,
             "#6ece58"
            ],
            [
             0.8888888888888888,
             "#b5de2b"
            ],
            [
             1,
             "#fde725"
            ]
           ],
           "sequentialminus": [
            [
             0,
             "#440154"
            ],
            [
             0.1111111111111111,
             "#482878"
            ],
            [
             0.2222222222222222,
             "#3e4989"
            ],
            [
             0.3333333333333333,
             "#31688e"
            ],
            [
             0.4444444444444444,
             "#26828e"
            ],
            [
             0.5555555555555556,
             "#1f9e89"
            ],
            [
             0.6666666666666666,
             "#35b779"
            ],
            [
             0.7777777777777778,
             "#6ece58"
            ],
            [
             0.8888888888888888,
             "#b5de2b"
            ],
            [
             1,
             "#fde725"
            ]
           ]
          },
          "colorway": [
           "#1F77B4",
           "#FF7F0E",
           "#2CA02C",
           "#D62728",
           "#9467BD",
           "#8C564B",
           "#E377C2",
           "#7F7F7F",
           "#BCBD22",
           "#17BECF"
          ],
          "font": {
           "color": "rgb(36,36,36)"
          },
          "geo": {
           "bgcolor": "white",
           "lakecolor": "white",
           "landcolor": "white",
           "showlakes": true,
           "showland": true,
           "subunitcolor": "white"
          },
          "hoverlabel": {
           "align": "left"
          },
          "hovermode": "closest",
          "mapbox": {
           "style": "light"
          },
          "paper_bgcolor": "white",
          "plot_bgcolor": "white",
          "polar": {
           "angularaxis": {
            "gridcolor": "rgb(232,232,232)",
            "linecolor": "rgb(36,36,36)",
            "showgrid": false,
            "showline": true,
            "ticks": "outside"
           },
           "bgcolor": "white",
           "radialaxis": {
            "gridcolor": "rgb(232,232,232)",
            "linecolor": "rgb(36,36,36)",
            "showgrid": false,
            "showline": true,
            "ticks": "outside"
           }
          },
          "scene": {
           "xaxis": {
            "backgroundcolor": "white",
            "gridcolor": "rgb(232,232,232)",
            "gridwidth": 2,
            "linecolor": "rgb(36,36,36)",
            "showbackground": true,
            "showgrid": false,
            "showline": true,
            "ticks": "outside",
            "zeroline": false,
            "zerolinecolor": "rgb(36,36,36)"
           },
           "yaxis": {
            "backgroundcolor": "white",
            "gridcolor": "rgb(232,232,232)",
            "gridwidth": 2,
            "linecolor": "rgb(36,36,36)",
            "showbackground": true,
            "showgrid": false,
            "showline": true,
            "ticks": "outside",
            "zeroline": false,
            "zerolinecolor": "rgb(36,36,36)"
           },
           "zaxis": {
            "backgroundcolor": "white",
            "gridcolor": "rgb(232,232,232)",
            "gridwidth": 2,
            "linecolor": "rgb(36,36,36)",
            "showbackground": true,
            "showgrid": false,
            "showline": true,
            "ticks": "outside",
            "zeroline": false,
            "zerolinecolor": "rgb(36,36,36)"
           }
          },
          "shapedefaults": {
           "fillcolor": "black",
           "line": {
            "width": 0
           },
           "opacity": 0.3
          },
          "ternary": {
           "aaxis": {
            "gridcolor": "rgb(232,232,232)",
            "linecolor": "rgb(36,36,36)",
            "showgrid": false,
            "showline": true,
            "ticks": "outside"
           },
           "baxis": {
            "gridcolor": "rgb(232,232,232)",
            "linecolor": "rgb(36,36,36)",
            "showgrid": false,
            "showline": true,
            "ticks": "outside"
           },
           "bgcolor": "white",
           "caxis": {
            "gridcolor": "rgb(232,232,232)",
            "linecolor": "rgb(36,36,36)",
            "showgrid": false,
            "showline": true,
            "ticks": "outside"
           }
          },
          "title": {
           "x": 0.05
          },
          "xaxis": {
           "automargin": true,
           "gridcolor": "rgb(232,232,232)",
           "linecolor": "rgb(36,36,36)",
           "showgrid": false,
           "showline": true,
           "ticks": "outside",
           "title": {
            "standoff": 15
           },
           "zeroline": false,
           "zerolinecolor": "rgb(36,36,36)"
          },
          "yaxis": {
           "automargin": true,
           "gridcolor": "rgb(232,232,232)",
           "linecolor": "rgb(36,36,36)",
           "showgrid": false,
           "showline": true,
           "ticks": "outside",
           "title": {
            "standoff": 15
           },
           "zeroline": false,
           "zerolinecolor": "rgb(36,36,36)"
          }
         }
        },
        "title": {
         "font": {
          "color": "Black",
          "size": 22
         },
         "text": "Topics Over Time for 2020_08-2020_10",
         "x": 0.4,
         "xanchor": "center",
         "y": 0.95,
         "yanchor": "top"
        },
        "width": 1250,
        "xaxis": {
         "showgrid": true
        },
        "yaxis": {
         "showgrid": true,
         "title": {
          "text": "Frequency"
         }
        }
       }
      }
     },
     "metadata": {},
     "output_type": "display_data"
    },
    {
     "data": {
      "application/vnd.plotly.v1+json": {
       "config": {
        "plotlyServerURL": "https://plot.ly"
       },
       "data": [
        {
         "hoverinfo": "text",
         "hovertext": [
          "<b>Topic 0</b><br>Words: islam, artikel, satusatunya, berkah, sekularismekapitalisme",
          "<b>Topic 0</b><br>Words: islam, kaji, ekonomi, fasilitator, motivator",
          "<b>Topic 0</b><br>Words: muhammadiyah, seluruh, pp, mccc, amal",
          "<b>Topic 0</b><br>Words: gtgt, islam, cukup, dapat, layak",
          "<b>Topic 0</b><br>Words: bicara, islam, rakyat, asal, buzzer"
         ],
         "marker": {
          "color": "#E69F00"
         },
         "mode": "lines",
         "name": "0_gtgt_islam_seluruh_rakyat",
         "type": "scatter",
         "x": [
          "2020-11-08T03:38:40.200000+00:00",
          "2020-11-11T02:57:03.800000+00:00",
          "2020-11-17T01:33:51+00:00",
          "2020-12-22T17:14:34.200000+00:00",
          "2021-01-24T09:36:53.800000+00:00"
         ],
         "y": [
          1,
          1,
          2,
          7,
          1
         ]
        },
        {
         "hoverinfo": "text",
         "hovertext": [
          "<b>Topic 1</b><br>Words: budaya, bapak, dana, salah, perintah",
          "<b>Topic 1</b><br>Words: alam, keluar, manusia, perintah, dana",
          "<b>Topic 1</b><br>Words: indonesia, pancasila, perintah, kurikulum, mabuk",
          "<b>Topic 1</b><br>Words: ajar, merdeka, perintah, masalah, indonesia",
          "<b>Topic 1</b><br>Words: publik, tahun, indonesia, guru, darmawan",
          "<b>Topic 1</b><br>Words: sekolah, swasta, tanya, peta, dasar",
          "<b>Topic 1</b><br>Words: menteri, ajar, muka, tatap, nadiem",
          "<b>Topic 1</b><br>Words: sekolah, muka, tatap, menteri, nadiem",
          "<b>Topic 1</b><br>Words: ptnbh, jadi, guru, perintah, ajar",
          "<b>Topic 1</b><br>Words: program, menteri, semua, sama, milik",
          "<b>Topic 1</b><br>Words: covid, perintah, indonesia, sekolah, selenggara",
          "<b>Topic 1</b><br>Words: teknologi, digital, gue, bas, indonesia",
          "<b>Topic 1</b><br>Words: ajar, periode, anakanak, daftar, perintah",
          "<b>Topic 1</b><br>Words: sok, saia, jadi, guru, lebih",
          "<b>Topic 1</b><br>Words: wajib, jilbab, copot, kad, kalau",
          "<b>Topic 1</b><br>Words: jadi, susun, pjp, perintah, otsus"
         ],
         "marker": {
          "color": "#56B4E9"
         },
         "mode": "lines",
         "name": "1_ajar_perintah_indonesia_menteri",
         "type": "scatter",
         "x": [
          "2020-11-02T02:53:31.892000+00:00",
          "2020-11-05T04:20:16.600000+00:00",
          "2020-11-08T03:38:40.200000+00:00",
          "2020-11-11T02:57:03.800000+00:00",
          "2020-11-14T02:15:27.400000+00:00",
          "2020-11-17T01:33:51+00:00",
          "2020-11-20T00:52:14.600000+00:00",
          "2020-11-23T00:10:38.200000+00:00",
          "2020-11-25T23:29:01.800000+00:00",
          "2020-12-13T19:19:23.400000+00:00",
          "2020-12-16T18:37:47+00:00",
          "2020-12-19T17:56:10.600000+00:00",
          "2020-12-25T16:32:57.800000+00:00",
          "2020-12-28T15:51:21.400000+00:00",
          "2021-01-24T09:36:53.800000+00:00",
          "2021-01-27T08:55:17.400000+00:00"
         ],
         "y": [
          16,
          8,
          10,
          10,
          13,
          7,
          23,
          16,
          32,
          10,
          9,
          8,
          19,
          8,
          5,
          22
         ]
        }
       ],
       "layout": {
        "height": 450,
        "hoverlabel": {
         "bgcolor": "white",
         "font": {
          "family": "Rockwell",
          "size": 16
         }
        },
        "legend": {
         "title": {
          "text": "<b>Global Topic Representation"
         }
        },
        "template": {
         "data": {
          "bar": [
           {
            "error_x": {
             "color": "rgb(36,36,36)"
            },
            "error_y": {
             "color": "rgb(36,36,36)"
            },
            "marker": {
             "line": {
              "color": "white",
              "width": 0.5
             },
             "pattern": {
              "fillmode": "overlay",
              "size": 10,
              "solidity": 0.2
             }
            },
            "type": "bar"
           }
          ],
          "barpolar": [
           {
            "marker": {
             "line": {
              "color": "white",
              "width": 0.5
             },
             "pattern": {
              "fillmode": "overlay",
              "size": 10,
              "solidity": 0.2
             }
            },
            "type": "barpolar"
           }
          ],
          "carpet": [
           {
            "aaxis": {
             "endlinecolor": "rgb(36,36,36)",
             "gridcolor": "white",
             "linecolor": "white",
             "minorgridcolor": "white",
             "startlinecolor": "rgb(36,36,36)"
            },
            "baxis": {
             "endlinecolor": "rgb(36,36,36)",
             "gridcolor": "white",
             "linecolor": "white",
             "minorgridcolor": "white",
             "startlinecolor": "rgb(36,36,36)"
            },
            "type": "carpet"
           }
          ],
          "choropleth": [
           {
            "colorbar": {
             "outlinewidth": 1,
             "tickcolor": "rgb(36,36,36)",
             "ticks": "outside"
            },
            "type": "choropleth"
           }
          ],
          "contour": [
           {
            "colorbar": {
             "outlinewidth": 1,
             "tickcolor": "rgb(36,36,36)",
             "ticks": "outside"
            },
            "colorscale": [
             [
              0,
              "#440154"
             ],
             [
              0.1111111111111111,
              "#482878"
             ],
             [
              0.2222222222222222,
              "#3e4989"
             ],
             [
              0.3333333333333333,
              "#31688e"
             ],
             [
              0.4444444444444444,
              "#26828e"
             ],
             [
              0.5555555555555556,
              "#1f9e89"
             ],
             [
              0.6666666666666666,
              "#35b779"
             ],
             [
              0.7777777777777778,
              "#6ece58"
             ],
             [
              0.8888888888888888,
              "#b5de2b"
             ],
             [
              1,
              "#fde725"
             ]
            ],
            "type": "contour"
           }
          ],
          "contourcarpet": [
           {
            "colorbar": {
             "outlinewidth": 1,
             "tickcolor": "rgb(36,36,36)",
             "ticks": "outside"
            },
            "type": "contourcarpet"
           }
          ],
          "heatmap": [
           {
            "colorbar": {
             "outlinewidth": 1,
             "tickcolor": "rgb(36,36,36)",
             "ticks": "outside"
            },
            "colorscale": [
             [
              0,
              "#440154"
             ],
             [
              0.1111111111111111,
              "#482878"
             ],
             [
              0.2222222222222222,
              "#3e4989"
             ],
             [
              0.3333333333333333,
              "#31688e"
             ],
             [
              0.4444444444444444,
              "#26828e"
             ],
             [
              0.5555555555555556,
              "#1f9e89"
             ],
             [
              0.6666666666666666,
              "#35b779"
             ],
             [
              0.7777777777777778,
              "#6ece58"
             ],
             [
              0.8888888888888888,
              "#b5de2b"
             ],
             [
              1,
              "#fde725"
             ]
            ],
            "type": "heatmap"
           }
          ],
          "heatmapgl": [
           {
            "colorbar": {
             "outlinewidth": 1,
             "tickcolor": "rgb(36,36,36)",
             "ticks": "outside"
            },
            "colorscale": [
             [
              0,
              "#440154"
             ],
             [
              0.1111111111111111,
              "#482878"
             ],
             [
              0.2222222222222222,
              "#3e4989"
             ],
             [
              0.3333333333333333,
              "#31688e"
             ],
             [
              0.4444444444444444,
              "#26828e"
             ],
             [
              0.5555555555555556,
              "#1f9e89"
             ],
             [
              0.6666666666666666,
              "#35b779"
             ],
             [
              0.7777777777777778,
              "#6ece58"
             ],
             [
              0.8888888888888888,
              "#b5de2b"
             ],
             [
              1,
              "#fde725"
             ]
            ],
            "type": "heatmapgl"
           }
          ],
          "histogram": [
           {
            "marker": {
             "line": {
              "color": "white",
              "width": 0.6
             }
            },
            "type": "histogram"
           }
          ],
          "histogram2d": [
           {
            "colorbar": {
             "outlinewidth": 1,
             "tickcolor": "rgb(36,36,36)",
             "ticks": "outside"
            },
            "colorscale": [
             [
              0,
              "#440154"
             ],
             [
              0.1111111111111111,
              "#482878"
             ],
             [
              0.2222222222222222,
              "#3e4989"
             ],
             [
              0.3333333333333333,
              "#31688e"
             ],
             [
              0.4444444444444444,
              "#26828e"
             ],
             [
              0.5555555555555556,
              "#1f9e89"
             ],
             [
              0.6666666666666666,
              "#35b779"
             ],
             [
              0.7777777777777778,
              "#6ece58"
             ],
             [
              0.8888888888888888,
              "#b5de2b"
             ],
             [
              1,
              "#fde725"
             ]
            ],
            "type": "histogram2d"
           }
          ],
          "histogram2dcontour": [
           {
            "colorbar": {
             "outlinewidth": 1,
             "tickcolor": "rgb(36,36,36)",
             "ticks": "outside"
            },
            "colorscale": [
             [
              0,
              "#440154"
             ],
             [
              0.1111111111111111,
              "#482878"
             ],
             [
              0.2222222222222222,
              "#3e4989"
             ],
             [
              0.3333333333333333,
              "#31688e"
             ],
             [
              0.4444444444444444,
              "#26828e"
             ],
             [
              0.5555555555555556,
              "#1f9e89"
             ],
             [
              0.6666666666666666,
              "#35b779"
             ],
             [
              0.7777777777777778,
              "#6ece58"
             ],
             [
              0.8888888888888888,
              "#b5de2b"
             ],
             [
              1,
              "#fde725"
             ]
            ],
            "type": "histogram2dcontour"
           }
          ],
          "mesh3d": [
           {
            "colorbar": {
             "outlinewidth": 1,
             "tickcolor": "rgb(36,36,36)",
             "ticks": "outside"
            },
            "type": "mesh3d"
           }
          ],
          "parcoords": [
           {
            "line": {
             "colorbar": {
              "outlinewidth": 1,
              "tickcolor": "rgb(36,36,36)",
              "ticks": "outside"
             }
            },
            "type": "parcoords"
           }
          ],
          "pie": [
           {
            "automargin": true,
            "type": "pie"
           }
          ],
          "scatter": [
           {
            "fillpattern": {
             "fillmode": "overlay",
             "size": 10,
             "solidity": 0.2
            },
            "type": "scatter"
           }
          ],
          "scatter3d": [
           {
            "line": {
             "colorbar": {
              "outlinewidth": 1,
              "tickcolor": "rgb(36,36,36)",
              "ticks": "outside"
             }
            },
            "marker": {
             "colorbar": {
              "outlinewidth": 1,
              "tickcolor": "rgb(36,36,36)",
              "ticks": "outside"
             }
            },
            "type": "scatter3d"
           }
          ],
          "scattercarpet": [
           {
            "marker": {
             "colorbar": {
              "outlinewidth": 1,
              "tickcolor": "rgb(36,36,36)",
              "ticks": "outside"
             }
            },
            "type": "scattercarpet"
           }
          ],
          "scattergeo": [
           {
            "marker": {
             "colorbar": {
              "outlinewidth": 1,
              "tickcolor": "rgb(36,36,36)",
              "ticks": "outside"
             }
            },
            "type": "scattergeo"
           }
          ],
          "scattergl": [
           {
            "marker": {
             "colorbar": {
              "outlinewidth": 1,
              "tickcolor": "rgb(36,36,36)",
              "ticks": "outside"
             }
            },
            "type": "scattergl"
           }
          ],
          "scattermapbox": [
           {
            "marker": {
             "colorbar": {
              "outlinewidth": 1,
              "tickcolor": "rgb(36,36,36)",
              "ticks": "outside"
             }
            },
            "type": "scattermapbox"
           }
          ],
          "scatterpolar": [
           {
            "marker": {
             "colorbar": {
              "outlinewidth": 1,
              "tickcolor": "rgb(36,36,36)",
              "ticks": "outside"
             }
            },
            "type": "scatterpolar"
           }
          ],
          "scatterpolargl": [
           {
            "marker": {
             "colorbar": {
              "outlinewidth": 1,
              "tickcolor": "rgb(36,36,36)",
              "ticks": "outside"
             }
            },
            "type": "scatterpolargl"
           }
          ],
          "scatterternary": [
           {
            "marker": {
             "colorbar": {
              "outlinewidth": 1,
              "tickcolor": "rgb(36,36,36)",
              "ticks": "outside"
             }
            },
            "type": "scatterternary"
           }
          ],
          "surface": [
           {
            "colorbar": {
             "outlinewidth": 1,
             "tickcolor": "rgb(36,36,36)",
             "ticks": "outside"
            },
            "colorscale": [
             [
              0,
              "#440154"
             ],
             [
              0.1111111111111111,
              "#482878"
             ],
             [
              0.2222222222222222,
              "#3e4989"
             ],
             [
              0.3333333333333333,
              "#31688e"
             ],
             [
              0.4444444444444444,
              "#26828e"
             ],
             [
              0.5555555555555556,
              "#1f9e89"
             ],
             [
              0.6666666666666666,
              "#35b779"
             ],
             [
              0.7777777777777778,
              "#6ece58"
             ],
             [
              0.8888888888888888,
              "#b5de2b"
             ],
             [
              1,
              "#fde725"
             ]
            ],
            "type": "surface"
           }
          ],
          "table": [
           {
            "cells": {
             "fill": {
              "color": "rgb(237,237,237)"
             },
             "line": {
              "color": "white"
             }
            },
            "header": {
             "fill": {
              "color": "rgb(217,217,217)"
             },
             "line": {
              "color": "white"
             }
            },
            "type": "table"
           }
          ]
         },
         "layout": {
          "annotationdefaults": {
           "arrowhead": 0,
           "arrowwidth": 1
          },
          "autotypenumbers": "strict",
          "coloraxis": {
           "colorbar": {
            "outlinewidth": 1,
            "tickcolor": "rgb(36,36,36)",
            "ticks": "outside"
           }
          },
          "colorscale": {
           "diverging": [
            [
             0,
             "rgb(103,0,31)"
            ],
            [
             0.1,
             "rgb(178,24,43)"
            ],
            [
             0.2,
             "rgb(214,96,77)"
            ],
            [
             0.3,
             "rgb(244,165,130)"
            ],
            [
             0.4,
             "rgb(253,219,199)"
            ],
            [
             0.5,
             "rgb(247,247,247)"
            ],
            [
             0.6,
             "rgb(209,229,240)"
            ],
            [
             0.7,
             "rgb(146,197,222)"
            ],
            [
             0.8,
             "rgb(67,147,195)"
            ],
            [
             0.9,
             "rgb(33,102,172)"
            ],
            [
             1,
             "rgb(5,48,97)"
            ]
           ],
           "sequential": [
            [
             0,
             "#440154"
            ],
            [
             0.1111111111111111,
             "#482878"
            ],
            [
             0.2222222222222222,
             "#3e4989"
            ],
            [
             0.3333333333333333,
             "#31688e"
            ],
            [
             0.4444444444444444,
             "#26828e"
            ],
            [
             0.5555555555555556,
             "#1f9e89"
            ],
            [
             0.6666666666666666,
             "#35b779"
            ],
            [
             0.7777777777777778,
             "#6ece58"
            ],
            [
             0.8888888888888888,
             "#b5de2b"
            ],
            [
             1,
             "#fde725"
            ]
           ],
           "sequentialminus": [
            [
             0,
             "#440154"
            ],
            [
             0.1111111111111111,
             "#482878"
            ],
            [
             0.2222222222222222,
             "#3e4989"
            ],
            [
             0.3333333333333333,
             "#31688e"
            ],
            [
             0.4444444444444444,
             "#26828e"
            ],
            [
             0.5555555555555556,
             "#1f9e89"
            ],
            [
             0.6666666666666666,
             "#35b779"
            ],
            [
             0.7777777777777778,
             "#6ece58"
            ],
            [
             0.8888888888888888,
             "#b5de2b"
            ],
            [
             1,
             "#fde725"
            ]
           ]
          },
          "colorway": [
           "#1F77B4",
           "#FF7F0E",
           "#2CA02C",
           "#D62728",
           "#9467BD",
           "#8C564B",
           "#E377C2",
           "#7F7F7F",
           "#BCBD22",
           "#17BECF"
          ],
          "font": {
           "color": "rgb(36,36,36)"
          },
          "geo": {
           "bgcolor": "white",
           "lakecolor": "white",
           "landcolor": "white",
           "showlakes": true,
           "showland": true,
           "subunitcolor": "white"
          },
          "hoverlabel": {
           "align": "left"
          },
          "hovermode": "closest",
          "mapbox": {
           "style": "light"
          },
          "paper_bgcolor": "white",
          "plot_bgcolor": "white",
          "polar": {
           "angularaxis": {
            "gridcolor": "rgb(232,232,232)",
            "linecolor": "rgb(36,36,36)",
            "showgrid": false,
            "showline": true,
            "ticks": "outside"
           },
           "bgcolor": "white",
           "radialaxis": {
            "gridcolor": "rgb(232,232,232)",
            "linecolor": "rgb(36,36,36)",
            "showgrid": false,
            "showline": true,
            "ticks": "outside"
           }
          },
          "scene": {
           "xaxis": {
            "backgroundcolor": "white",
            "gridcolor": "rgb(232,232,232)",
            "gridwidth": 2,
            "linecolor": "rgb(36,36,36)",
            "showbackground": true,
            "showgrid": false,
            "showline": true,
            "ticks": "outside",
            "zeroline": false,
            "zerolinecolor": "rgb(36,36,36)"
           },
           "yaxis": {
            "backgroundcolor": "white",
            "gridcolor": "rgb(232,232,232)",
            "gridwidth": 2,
            "linecolor": "rgb(36,36,36)",
            "showbackground": true,
            "showgrid": false,
            "showline": true,
            "ticks": "outside",
            "zeroline": false,
            "zerolinecolor": "rgb(36,36,36)"
           },
           "zaxis": {
            "backgroundcolor": "white",
            "gridcolor": "rgb(232,232,232)",
            "gridwidth": 2,
            "linecolor": "rgb(36,36,36)",
            "showbackground": true,
            "showgrid": false,
            "showline": true,
            "ticks": "outside",
            "zeroline": false,
            "zerolinecolor": "rgb(36,36,36)"
           }
          },
          "shapedefaults": {
           "fillcolor": "black",
           "line": {
            "width": 0
           },
           "opacity": 0.3
          },
          "ternary": {
           "aaxis": {
            "gridcolor": "rgb(232,232,232)",
            "linecolor": "rgb(36,36,36)",
            "showgrid": false,
            "showline": true,
            "ticks": "outside"
           },
           "baxis": {
            "gridcolor": "rgb(232,232,232)",
            "linecolor": "rgb(36,36,36)",
            "showgrid": false,
            "showline": true,
            "ticks": "outside"
           },
           "bgcolor": "white",
           "caxis": {
            "gridcolor": "rgb(232,232,232)",
            "linecolor": "rgb(36,36,36)",
            "showgrid": false,
            "showline": true,
            "ticks": "outside"
           }
          },
          "title": {
           "x": 0.05
          },
          "xaxis": {
           "automargin": true,
           "gridcolor": "rgb(232,232,232)",
           "linecolor": "rgb(36,36,36)",
           "showgrid": false,
           "showline": true,
           "ticks": "outside",
           "title": {
            "standoff": 15
           },
           "zeroline": false,
           "zerolinecolor": "rgb(36,36,36)"
          },
          "yaxis": {
           "automargin": true,
           "gridcolor": "rgb(232,232,232)",
           "linecolor": "rgb(36,36,36)",
           "showgrid": false,
           "showline": true,
           "ticks": "outside",
           "title": {
            "standoff": 15
           },
           "zeroline": false,
           "zerolinecolor": "rgb(36,36,36)"
          }
         }
        },
        "title": {
         "font": {
          "color": "Black",
          "size": 22
         },
         "text": "Topics Over Time for 2020_11-2021_01",
         "x": 0.4,
         "xanchor": "center",
         "y": 0.95,
         "yanchor": "top"
        },
        "width": 1250,
        "xaxis": {
         "showgrid": true
        },
        "yaxis": {
         "showgrid": true,
         "title": {
          "text": "Frequency"
         }
        }
       }
      }
     },
     "metadata": {},
     "output_type": "display_data"
    },
    {
     "data": {
      "application/vnd.plotly.v1+json": {
       "config": {
        "plotlyServerURL": "https://plot.ly"
       },
       "data": [
        {
         "hoverinfo": "text",
         "hovertext": [
          "<b>Topic 0</b><br>Words: musik, rancang, tradisional, besar, apresiasi",
          "<b>Topic 0</b><br>Words: musik, tradisional, apresiasi, cipta, karya"
         ],
         "marker": {
          "color": "#E69F00"
         },
         "mode": "lines",
         "name": "0_musik_tradisional_apresiasi_karya",
         "type": "scatter",
         "x": [
          "2021-03-08T00:42:38.800000+00:00",
          "2021-03-13T20:12:05.266666+00:00"
         ],
         "y": [
          3,
          16
         ]
        },
        {
         "hoverinfo": "text",
         "hovertext": [
          "<b>Topic 1</b><br>Words: pandemi, lapang, gebuh, malaria, gila",
          "<b>Topic 1</b><br>Words: pandemi, negatif, proporsional, ujar, mpr",
          "<b>Topic 1</b><br>Words: pandemi, tarif, inflasi, plat, pergub",
          "<b>Topic 1</b><br>Words: pandemi, audiensi, biaya, tengah, langsung",
          "<b>Topic 1</b><br>Words: pandemi, biaya, ubah, fkm, audiensi",
          "<b>Topic 1</b><br>Words: pandemi, analyst, aryo, ravelto, klastering",
          "<b>Topic 1</b><br>Words: tilik, sektor, pandemi, covid, tahun",
          "<b>Topic 1</b><br>Words: pandemi, kualitas, ahead, rat, happen",
          "<b>Topic 1</b><br>Words: pandemi, saat, biaya, tak, hayo",
          "<b>Topic 1</b><br>Words: pandemi, efektif, sulut, dipungkiri, bayang",
          "<b>Topic 1</b><br>Words: pandemi, zona, anies, pjj, kritis",
          "<b>Topic 1</b><br>Words: dokumentasi, output, sekali, pandemi, kasih",
          "<b>Topic 1</b><br>Words: pandemi, fm, bandung, obrol, anggota"
         ],
         "marker": {
          "color": "#56B4E9"
         },
         "mode": "lines",
         "name": "1_pandemi_biaya_audiensi_tengah",
         "type": "scatter",
         "x": [
          "2021-02-01T01:40:27.503000+00:00",
          "2021-02-04T01:30:43.233333+00:00",
          "2021-02-09T21:00:09.700000+00:00",
          "2021-02-15T16:29:36.166666+00:00",
          "2021-02-18T14:14:19.400000+00:00",
          "2021-02-21T11:59:02.633333+00:00",
          "2021-02-27T07:28:29.100000+00:00",
          "2021-04-08T23:54:34.366666+00:00",
          "2021-04-14T19:24:00.833333+00:00",
          "2021-04-17T17:08:44.066666+00:00",
          "2021-04-20T14:53:27.300000+00:00",
          "2021-04-23T12:38:10.533333+00:00",
          "2021-04-26T10:22:53.766666+00:00"
         ],
         "y": [
          2,
          2,
          1,
          14,
          1,
          1,
          1,
          1,
          1,
          1,
          2,
          1,
          1
         ]
        },
        {
         "hoverinfo": "text",
         "hovertext": [
          "<b>Topic 2</b><br>Words: papua, masyarakat, bawa, sejahtera, otonomi",
          "<b>Topic 2</b><br>Words: papua, masyarakat, bawa, sejahtera, otonomi",
          "<b>Topic 2</b><br>Words: papua, masyarakat, dukung, bawa, sejahtera",
          "<b>Topic 2</b><br>Words: papua, masyarakat, bawa, sejahtera, otonomi",
          "<b>Topic 2</b><br>Words: papua, inspektur, bintara, polri, putra",
          "<b>Topic 2</b><br>Words: papua, fsmpm, bawa, otsus, mahasiswa"
         ],
         "marker": {
          "color": "#009E73"
         },
         "mode": "lines",
         "name": "2_papua_masyarakat_bawa_sejahtera",
         "type": "scatter",
         "x": [
          "2021-02-18T14:14:19.400000+00:00",
          "2021-02-24T09:43:45.866666+00:00",
          "2021-03-16T17:56:48.500000+00:00",
          "2021-03-22T13:26:14.966666+00:00",
          "2021-03-28T08:55:41.433333+00:00",
          "2021-04-23T12:38:10.533333+00:00"
         ],
         "y": [
          2,
          1,
          1,
          3,
          1,
          3
         ]
        },
        {
         "hoverinfo": "text",
         "hovertext": [
          "<b>Topic 3</b><br>Words: ibu, cebong, bela, jalan, peta",
          "<b>Topic 3</b><br>Words: menteri, indonesia, jadi, sekolah, perintah",
          "<b>Topic 3</b><br>Words: ajar, indonesia, agama, atur, dasar",
          "<b>Topic 3</b><br>Words: kampus, ppg, india, ajar, program",
          "<b>Topic 3</b><br>Words: macam, rasa, gue, harap, sistem",
          "<b>Topic 3</b><br>Words: ajar, kampus, masuk, merdeka, indonesia",
          "<b>Topic 3</b><br>Words: kamu, informasi, merdeka, sembilan, rep",
          "<b>Topic 3</b><br>Words: lamongan, sekolah, teh, nu, banjir",
          "<b>Topic 3</b><br>Words: desa, fisik, operasional, sekolah, yogyakarta",
          "<b>Topic 3</b><br>Words: miras, semua, legal, gara, mau",
          "<b>Topic 3</b><br>Words: ajar, selesai, feminisme, kaji, tahun",
          "<b>Topic 3</b><br>Words: kritik, agama, merdeka, ajar, banyak",
          "<b>Topic 3</b><br>Words: agama, perempuan, perintah, amp, frasa",
          "<b>Topic 3</b><br>Words: nasional, agama, gue, tahun, jalan",
          "<b>Topic 3</b><br>Words: sri, lanka, tutup, ikut, larang",
          "<b>Topic 3</b><br>Words: joko, widodo, golkar, partai, international",
          "<b>Topic 3</b><br>Words: keluarga, ormawa, kunjung, nilai, laksana",
          "<b>Topic 3</b><br>Words: tinggi, bukan, ajar, sekolah, jalan",
          "<b>Topic 3</b><br>Words: penting, kait, brunai, nyawa, sekolah",
          "<b>Topic 3</b><br>Words: kakak, jam, sekolah, tangan, tanya",
          "<b>Topic 3</b><br>Words: program, ajar, kampus, jalan, sekolah",
          "<b>Topic 3</b><br>Words: kurikulum, merdeka, kip, kuliah, kata",
          "<b>Topic 3</b><br>Words: kipk, bu, kuliah, implementasi, yogi",
          "<b>Topic 3</b><br>Words: gt, soal, menteri, tak, radikalisme",
          "<b>Topic 3</b><br>Words: ham, merdeka, menteri, kemendikbud, riset",
          "<b>Topic 3</b><br>Words: aku, menteri, budaya, merdeka, moga",
          "<b>Topic 3</b><br>Words: merdeka, bangsa, islam, negara, orang",
          "<b>Topic 3</b><br>Words: ganti, program, guru, indonesia, orang",
          "<b>Topic 3</b><br>Words: sama, lanny, jaya, ribut, batas",
          "<b>Topic 3</b><br>Words: diy, karakter, kerja, satu, program"
         ],
         "marker": {
          "color": "#F0E442"
         },
         "mode": "lines",
         "name": "3_ajar_sekolah_menteri_indonesia",
         "type": "scatter",
         "x": [
          "2021-02-01T01:40:27.503000+00:00",
          "2021-02-04T01:30:43.233333+00:00",
          "2021-02-06T23:15:26.466666+00:00",
          "2021-02-09T21:00:09.700000+00:00",
          "2021-02-12T18:44:52.933333+00:00",
          "2021-02-15T16:29:36.166666+00:00",
          "2021-02-18T14:14:19.400000+00:00",
          "2021-02-21T11:59:02.633333+00:00",
          "2021-02-24T09:43:45.866666+00:00",
          "2021-02-27T07:28:29.100000+00:00",
          "2021-03-02T05:13:12.333333+00:00",
          "2021-03-05T02:57:55.566666+00:00",
          "2021-03-08T00:42:38.800000+00:00",
          "2021-03-10T22:27:22.033333+00:00",
          "2021-03-13T20:12:05.266666+00:00",
          "2021-03-16T17:56:48.500000+00:00",
          "2021-03-19T15:41:31.733333+00:00",
          "2021-03-22T13:26:14.966666+00:00",
          "2021-03-25T11:10:58.200000+00:00",
          "2021-03-28T08:55:41.433333+00:00",
          "2021-03-31T06:40:24.666666+00:00",
          "2021-04-03T04:25:07.900000+00:00",
          "2021-04-06T02:09:51.133333+00:00",
          "2021-04-08T23:54:34.366666+00:00",
          "2021-04-11T21:39:17.600000+00:00",
          "2021-04-14T19:24:00.833333+00:00",
          "2021-04-17T17:08:44.066666+00:00",
          "2021-04-20T14:53:27.300000+00:00",
          "2021-04-23T12:38:10.533333+00:00",
          "2021-04-26T10:22:53.766666+00:00"
         ],
         "y": [
          12,
          28,
          17,
          8,
          8,
          10,
          3,
          7,
          8,
          4,
          10,
          9,
          13,
          19,
          13,
          3,
          3,
          11,
          7,
          8,
          8,
          4,
          10,
          16,
          12,
          15,
          13,
          21,
          9,
          10
         ]
        },
        {
         "hoverinfo": "text",
         "hovertext": [
          "<b>Topic 4</b><br>Words: kuota, internet, radio, akmrtv, sarah",
          "<b>Topic 4</b><br>Words: internet, kuota, bantu, kemendikbud, lanjut",
          "<b>Topic 4</b><br>Words: kuota, bantu, internet, data, lanjut",
          "<b>Topic 4</b><br>Words: internet, kuota, data, bantu, kemendikbud",
          "<b>Topic 4</b><br>Words: riset, format, menteri, tata, optimal",
          "<b>Topic 4</b><br>Words: minimal, tempat, wisata, pariwisata, mantan"
         ],
         "marker": {
          "color": "#D55E00"
         },
         "mode": "lines",
         "name": "4_kuota_internet_bantu_data",
         "type": "scatter",
         "x": [
          "2021-02-24T09:43:45.866666+00:00",
          "2021-02-27T07:28:29.100000+00:00",
          "2021-03-02T05:13:12.333333+00:00",
          "2021-03-08T00:42:38.800000+00:00",
          "2021-04-11T21:39:17.600000+00:00",
          "2021-04-26T10:22:53.766666+00:00"
         ],
         "y": [
          6,
          5,
          8,
          2,
          1,
          1
         ]
        },
        {
         "hoverinfo": "text",
         "hovertext": [
          "<b>Topic 5</b><br>Words: kualitas, mampu, otsus, tingkat, papua",
          "<b>Topic 5</b><br>Words: kualitas, otsus, papua, tingkat, mampu",
          "<b>Topic 5</b><br>Words: tara, sektor, otsus, kualitas, mampu",
          "<b>Topic 5</b><br>Words: papua, otsus, tingkat, tara, daerah",
          "<b>Topic 5</b><br>Words: kualitas, mampu, otsus, tingkat, papua",
          "<b>Topic 5</b><br>Words: barangjasa, ada, pusat, kategori, lkpp",
          "<b>Topic 5</b><br>Words: pusat, regulasi, taraf, sekitar, indikator"
         ],
         "marker": {
          "color": "#0072B2"
         },
         "mode": "lines",
         "name": "5_otsus_kualitas_mampu_papua",
         "type": "scatter",
         "x": [
          "2021-02-06T23:15:26.466666+00:00",
          "2021-02-09T21:00:09.700000+00:00",
          "2021-02-15T16:29:36.166666+00:00",
          "2021-02-24T09:43:45.866666+00:00",
          "2021-02-27T07:28:29.100000+00:00",
          "2021-03-08T00:42:38.800000+00:00",
          "2021-04-06T02:09:51.133333+00:00"
         ],
         "y": [
          2,
          2,
          1,
          1,
          4,
          1,
          1
         ]
        },
        {
         "hoverinfo": "text",
         "hovertext": [
          "<b>Topic 6</b><br>Words: dapat, lapis, otsus, akses, sdm",
          "<b>Topic 6</b><br>Words: oleh, akses, layak, sdm, upaya",
          "<b>Topic 6</b><br>Words: papua, tanah, jadi, otsus, amp",
          "<b>Topic 6</b><br>Words: perpu, provinsi, amp, tingkat, lebih",
          "<b>Topic 6</b><br>Words: otsus, sejahtera, papua, tingkat, serius",
          "<b>Topic 6</b><br>Words: otsus, papua, kawal, infrastruktur, provinsi",
          "<b>Topic 6</b><br>Words: ekspor, agresifbanyak, taiwan, adopsi, infrastruktur",
          "<b>Topic 6</b><br>Words: afirmasi, infrastruktur, daya, otsus, upaya"
         ],
         "marker": {
          "color": "#CC79A7"
         },
         "mode": "lines",
         "name": "6_otsus_papua_infrastruktur_sehat",
         "type": "scatter",
         "x": [
          "2021-02-06T23:15:26.466666+00:00",
          "2021-02-21T11:59:02.633333+00:00",
          "2021-02-24T09:43:45.866666+00:00",
          "2021-03-02T05:13:12.333333+00:00",
          "2021-03-25T11:10:58.200000+00:00",
          "2021-03-31T06:40:24.666666+00:00",
          "2021-04-06T02:09:51.133333+00:00",
          "2021-04-08T23:54:34.366666+00:00"
         ],
         "y": [
          1,
          1,
          2,
          1,
          1,
          2,
          1,
          4
         ]
        }
       ],
       "layout": {
        "height": 450,
        "hoverlabel": {
         "bgcolor": "white",
         "font": {
          "family": "Rockwell",
          "size": 16
         }
        },
        "legend": {
         "title": {
          "text": "<b>Global Topic Representation"
         }
        },
        "template": {
         "data": {
          "bar": [
           {
            "error_x": {
             "color": "rgb(36,36,36)"
            },
            "error_y": {
             "color": "rgb(36,36,36)"
            },
            "marker": {
             "line": {
              "color": "white",
              "width": 0.5
             },
             "pattern": {
              "fillmode": "overlay",
              "size": 10,
              "solidity": 0.2
             }
            },
            "type": "bar"
           }
          ],
          "barpolar": [
           {
            "marker": {
             "line": {
              "color": "white",
              "width": 0.5
             },
             "pattern": {
              "fillmode": "overlay",
              "size": 10,
              "solidity": 0.2
             }
            },
            "type": "barpolar"
           }
          ],
          "carpet": [
           {
            "aaxis": {
             "endlinecolor": "rgb(36,36,36)",
             "gridcolor": "white",
             "linecolor": "white",
             "minorgridcolor": "white",
             "startlinecolor": "rgb(36,36,36)"
            },
            "baxis": {
             "endlinecolor": "rgb(36,36,36)",
             "gridcolor": "white",
             "linecolor": "white",
             "minorgridcolor": "white",
             "startlinecolor": "rgb(36,36,36)"
            },
            "type": "carpet"
           }
          ],
          "choropleth": [
           {
            "colorbar": {
             "outlinewidth": 1,
             "tickcolor": "rgb(36,36,36)",
             "ticks": "outside"
            },
            "type": "choropleth"
           }
          ],
          "contour": [
           {
            "colorbar": {
             "outlinewidth": 1,
             "tickcolor": "rgb(36,36,36)",
             "ticks": "outside"
            },
            "colorscale": [
             [
              0,
              "#440154"
             ],
             [
              0.1111111111111111,
              "#482878"
             ],
             [
              0.2222222222222222,
              "#3e4989"
             ],
             [
              0.3333333333333333,
              "#31688e"
             ],
             [
              0.4444444444444444,
              "#26828e"
             ],
             [
              0.5555555555555556,
              "#1f9e89"
             ],
             [
              0.6666666666666666,
              "#35b779"
             ],
             [
              0.7777777777777778,
              "#6ece58"
             ],
             [
              0.8888888888888888,
              "#b5de2b"
             ],
             [
              1,
              "#fde725"
             ]
            ],
            "type": "contour"
           }
          ],
          "contourcarpet": [
           {
            "colorbar": {
             "outlinewidth": 1,
             "tickcolor": "rgb(36,36,36)",
             "ticks": "outside"
            },
            "type": "contourcarpet"
           }
          ],
          "heatmap": [
           {
            "colorbar": {
             "outlinewidth": 1,
             "tickcolor": "rgb(36,36,36)",
             "ticks": "outside"
            },
            "colorscale": [
             [
              0,
              "#440154"
             ],
             [
              0.1111111111111111,
              "#482878"
             ],
             [
              0.2222222222222222,
              "#3e4989"
             ],
             [
              0.3333333333333333,
              "#31688e"
             ],
             [
              0.4444444444444444,
              "#26828e"
             ],
             [
              0.5555555555555556,
              "#1f9e89"
             ],
             [
              0.6666666666666666,
              "#35b779"
             ],
             [
              0.7777777777777778,
              "#6ece58"
             ],
             [
              0.8888888888888888,
              "#b5de2b"
             ],
             [
              1,
              "#fde725"
             ]
            ],
            "type": "heatmap"
           }
          ],
          "heatmapgl": [
           {
            "colorbar": {
             "outlinewidth": 1,
             "tickcolor": "rgb(36,36,36)",
             "ticks": "outside"
            },
            "colorscale": [
             [
              0,
              "#440154"
             ],
             [
              0.1111111111111111,
              "#482878"
             ],
             [
              0.2222222222222222,
              "#3e4989"
             ],
             [
              0.3333333333333333,
              "#31688e"
             ],
             [
              0.4444444444444444,
              "#26828e"
             ],
             [
              0.5555555555555556,
              "#1f9e89"
             ],
             [
              0.6666666666666666,
              "#35b779"
             ],
             [
              0.7777777777777778,
              "#6ece58"
             ],
             [
              0.8888888888888888,
              "#b5de2b"
             ],
             [
              1,
              "#fde725"
             ]
            ],
            "type": "heatmapgl"
           }
          ],
          "histogram": [
           {
            "marker": {
             "line": {
              "color": "white",
              "width": 0.6
             }
            },
            "type": "histogram"
           }
          ],
          "histogram2d": [
           {
            "colorbar": {
             "outlinewidth": 1,
             "tickcolor": "rgb(36,36,36)",
             "ticks": "outside"
            },
            "colorscale": [
             [
              0,
              "#440154"
             ],
             [
              0.1111111111111111,
              "#482878"
             ],
             [
              0.2222222222222222,
              "#3e4989"
             ],
             [
              0.3333333333333333,
              "#31688e"
             ],
             [
              0.4444444444444444,
              "#26828e"
             ],
             [
              0.5555555555555556,
              "#1f9e89"
             ],
             [
              0.6666666666666666,
              "#35b779"
             ],
             [
              0.7777777777777778,
              "#6ece58"
             ],
             [
              0.8888888888888888,
              "#b5de2b"
             ],
             [
              1,
              "#fde725"
             ]
            ],
            "type": "histogram2d"
           }
          ],
          "histogram2dcontour": [
           {
            "colorbar": {
             "outlinewidth": 1,
             "tickcolor": "rgb(36,36,36)",
             "ticks": "outside"
            },
            "colorscale": [
             [
              0,
              "#440154"
             ],
             [
              0.1111111111111111,
              "#482878"
             ],
             [
              0.2222222222222222,
              "#3e4989"
             ],
             [
              0.3333333333333333,
              "#31688e"
             ],
             [
              0.4444444444444444,
              "#26828e"
             ],
             [
              0.5555555555555556,
              "#1f9e89"
             ],
             [
              0.6666666666666666,
              "#35b779"
             ],
             [
              0.7777777777777778,
              "#6ece58"
             ],
             [
              0.8888888888888888,
              "#b5de2b"
             ],
             [
              1,
              "#fde725"
             ]
            ],
            "type": "histogram2dcontour"
           }
          ],
          "mesh3d": [
           {
            "colorbar": {
             "outlinewidth": 1,
             "tickcolor": "rgb(36,36,36)",
             "ticks": "outside"
            },
            "type": "mesh3d"
           }
          ],
          "parcoords": [
           {
            "line": {
             "colorbar": {
              "outlinewidth": 1,
              "tickcolor": "rgb(36,36,36)",
              "ticks": "outside"
             }
            },
            "type": "parcoords"
           }
          ],
          "pie": [
           {
            "automargin": true,
            "type": "pie"
           }
          ],
          "scatter": [
           {
            "fillpattern": {
             "fillmode": "overlay",
             "size": 10,
             "solidity": 0.2
            },
            "type": "scatter"
           }
          ],
          "scatter3d": [
           {
            "line": {
             "colorbar": {
              "outlinewidth": 1,
              "tickcolor": "rgb(36,36,36)",
              "ticks": "outside"
             }
            },
            "marker": {
             "colorbar": {
              "outlinewidth": 1,
              "tickcolor": "rgb(36,36,36)",
              "ticks": "outside"
             }
            },
            "type": "scatter3d"
           }
          ],
          "scattercarpet": [
           {
            "marker": {
             "colorbar": {
              "outlinewidth": 1,
              "tickcolor": "rgb(36,36,36)",
              "ticks": "outside"
             }
            },
            "type": "scattercarpet"
           }
          ],
          "scattergeo": [
           {
            "marker": {
             "colorbar": {
              "outlinewidth": 1,
              "tickcolor": "rgb(36,36,36)",
              "ticks": "outside"
             }
            },
            "type": "scattergeo"
           }
          ],
          "scattergl": [
           {
            "marker": {
             "colorbar": {
              "outlinewidth": 1,
              "tickcolor": "rgb(36,36,36)",
              "ticks": "outside"
             }
            },
            "type": "scattergl"
           }
          ],
          "scattermapbox": [
           {
            "marker": {
             "colorbar": {
              "outlinewidth": 1,
              "tickcolor": "rgb(36,36,36)",
              "ticks": "outside"
             }
            },
            "type": "scattermapbox"
           }
          ],
          "scatterpolar": [
           {
            "marker": {
             "colorbar": {
              "outlinewidth": 1,
              "tickcolor": "rgb(36,36,36)",
              "ticks": "outside"
             }
            },
            "type": "scatterpolar"
           }
          ],
          "scatterpolargl": [
           {
            "marker": {
             "colorbar": {
              "outlinewidth": 1,
              "tickcolor": "rgb(36,36,36)",
              "ticks": "outside"
             }
            },
            "type": "scatterpolargl"
           }
          ],
          "scatterternary": [
           {
            "marker": {
             "colorbar": {
              "outlinewidth": 1,
              "tickcolor": "rgb(36,36,36)",
              "ticks": "outside"
             }
            },
            "type": "scatterternary"
           }
          ],
          "surface": [
           {
            "colorbar": {
             "outlinewidth": 1,
             "tickcolor": "rgb(36,36,36)",
             "ticks": "outside"
            },
            "colorscale": [
             [
              0,
              "#440154"
             ],
             [
              0.1111111111111111,
              "#482878"
             ],
             [
              0.2222222222222222,
              "#3e4989"
             ],
             [
              0.3333333333333333,
              "#31688e"
             ],
             [
              0.4444444444444444,
              "#26828e"
             ],
             [
              0.5555555555555556,
              "#1f9e89"
             ],
             [
              0.6666666666666666,
              "#35b779"
             ],
             [
              0.7777777777777778,
              "#6ece58"
             ],
             [
              0.8888888888888888,
              "#b5de2b"
             ],
             [
              1,
              "#fde725"
             ]
            ],
            "type": "surface"
           }
          ],
          "table": [
           {
            "cells": {
             "fill": {
              "color": "rgb(237,237,237)"
             },
             "line": {
              "color": "white"
             }
            },
            "header": {
             "fill": {
              "color": "rgb(217,217,217)"
             },
             "line": {
              "color": "white"
             }
            },
            "type": "table"
           }
          ]
         },
         "layout": {
          "annotationdefaults": {
           "arrowhead": 0,
           "arrowwidth": 1
          },
          "autotypenumbers": "strict",
          "coloraxis": {
           "colorbar": {
            "outlinewidth": 1,
            "tickcolor": "rgb(36,36,36)",
            "ticks": "outside"
           }
          },
          "colorscale": {
           "diverging": [
            [
             0,
             "rgb(103,0,31)"
            ],
            [
             0.1,
             "rgb(178,24,43)"
            ],
            [
             0.2,
             "rgb(214,96,77)"
            ],
            [
             0.3,
             "rgb(244,165,130)"
            ],
            [
             0.4,
             "rgb(253,219,199)"
            ],
            [
             0.5,
             "rgb(247,247,247)"
            ],
            [
             0.6,
             "rgb(209,229,240)"
            ],
            [
             0.7,
             "rgb(146,197,222)"
            ],
            [
             0.8,
             "rgb(67,147,195)"
            ],
            [
             0.9,
             "rgb(33,102,172)"
            ],
            [
             1,
             "rgb(5,48,97)"
            ]
           ],
           "sequential": [
            [
             0,
             "#440154"
            ],
            [
             0.1111111111111111,
             "#482878"
            ],
            [
             0.2222222222222222,
             "#3e4989"
            ],
            [
             0.3333333333333333,
             "#31688e"
            ],
            [
             0.4444444444444444,
             "#26828e"
            ],
            [
             0.5555555555555556,
             "#1f9e89"
            ],
            [
             0.6666666666666666,
             "#35b779"
            ],
            [
             0.7777777777777778,
             "#6ece58"
            ],
            [
             0.8888888888888888,
             "#b5de2b"
            ],
            [
             1,
             "#fde725"
            ]
           ],
           "sequentialminus": [
            [
             0,
             "#440154"
            ],
            [
             0.1111111111111111,
             "#482878"
            ],
            [
             0.2222222222222222,
             "#3e4989"
            ],
            [
             0.3333333333333333,
             "#31688e"
            ],
            [
             0.4444444444444444,
             "#26828e"
            ],
            [
             0.5555555555555556,
             "#1f9e89"
            ],
            [
             0.6666666666666666,
             "#35b779"
            ],
            [
             0.7777777777777778,
             "#6ece58"
            ],
            [
             0.8888888888888888,
             "#b5de2b"
            ],
            [
             1,
             "#fde725"
            ]
           ]
          },
          "colorway": [
           "#1F77B4",
           "#FF7F0E",
           "#2CA02C",
           "#D62728",
           "#9467BD",
           "#8C564B",
           "#E377C2",
           "#7F7F7F",
           "#BCBD22",
           "#17BECF"
          ],
          "font": {
           "color": "rgb(36,36,36)"
          },
          "geo": {
           "bgcolor": "white",
           "lakecolor": "white",
           "landcolor": "white",
           "showlakes": true,
           "showland": true,
           "subunitcolor": "white"
          },
          "hoverlabel": {
           "align": "left"
          },
          "hovermode": "closest",
          "mapbox": {
           "style": "light"
          },
          "paper_bgcolor": "white",
          "plot_bgcolor": "white",
          "polar": {
           "angularaxis": {
            "gridcolor": "rgb(232,232,232)",
            "linecolor": "rgb(36,36,36)",
            "showgrid": false,
            "showline": true,
            "ticks": "outside"
           },
           "bgcolor": "white",
           "radialaxis": {
            "gridcolor": "rgb(232,232,232)",
            "linecolor": "rgb(36,36,36)",
            "showgrid": false,
            "showline": true,
            "ticks": "outside"
           }
          },
          "scene": {
           "xaxis": {
            "backgroundcolor": "white",
            "gridcolor": "rgb(232,232,232)",
            "gridwidth": 2,
            "linecolor": "rgb(36,36,36)",
            "showbackground": true,
            "showgrid": false,
            "showline": true,
            "ticks": "outside",
            "zeroline": false,
            "zerolinecolor": "rgb(36,36,36)"
           },
           "yaxis": {
            "backgroundcolor": "white",
            "gridcolor": "rgb(232,232,232)",
            "gridwidth": 2,
            "linecolor": "rgb(36,36,36)",
            "showbackground": true,
            "showgrid": false,
            "showline": true,
            "ticks": "outside",
            "zeroline": false,
            "zerolinecolor": "rgb(36,36,36)"
           },
           "zaxis": {
            "backgroundcolor": "white",
            "gridcolor": "rgb(232,232,232)",
            "gridwidth": 2,
            "linecolor": "rgb(36,36,36)",
            "showbackground": true,
            "showgrid": false,
            "showline": true,
            "ticks": "outside",
            "zeroline": false,
            "zerolinecolor": "rgb(36,36,36)"
           }
          },
          "shapedefaults": {
           "fillcolor": "black",
           "line": {
            "width": 0
           },
           "opacity": 0.3
          },
          "ternary": {
           "aaxis": {
            "gridcolor": "rgb(232,232,232)",
            "linecolor": "rgb(36,36,36)",
            "showgrid": false,
            "showline": true,
            "ticks": "outside"
           },
           "baxis": {
            "gridcolor": "rgb(232,232,232)",
            "linecolor": "rgb(36,36,36)",
            "showgrid": false,
            "showline": true,
            "ticks": "outside"
           },
           "bgcolor": "white",
           "caxis": {
            "gridcolor": "rgb(232,232,232)",
            "linecolor": "rgb(36,36,36)",
            "showgrid": false,
            "showline": true,
            "ticks": "outside"
           }
          },
          "title": {
           "x": 0.05
          },
          "xaxis": {
           "automargin": true,
           "gridcolor": "rgb(232,232,232)",
           "linecolor": "rgb(36,36,36)",
           "showgrid": false,
           "showline": true,
           "ticks": "outside",
           "title": {
            "standoff": 15
           },
           "zeroline": false,
           "zerolinecolor": "rgb(36,36,36)"
          },
          "yaxis": {
           "automargin": true,
           "gridcolor": "rgb(232,232,232)",
           "linecolor": "rgb(36,36,36)",
           "showgrid": false,
           "showline": true,
           "ticks": "outside",
           "title": {
            "standoff": 15
           },
           "zeroline": false,
           "zerolinecolor": "rgb(36,36,36)"
          }
         }
        },
        "title": {
         "font": {
          "color": "Black",
          "size": 22
         },
         "text": "Topics Over Time for 2021_02-2021_04",
         "x": 0.4,
         "xanchor": "center",
         "y": 0.95,
         "yanchor": "top"
        },
        "width": 1250,
        "xaxis": {
         "showgrid": true
        },
        "yaxis": {
         "showgrid": true,
         "title": {
          "text": "Frequency"
         }
        }
       }
      }
     },
     "metadata": {},
     "output_type": "display_data"
    },
    {
     "data": {
      "application/vnd.plotly.v1+json": {
       "config": {
        "plotlyServerURL": "https://plot.ly"
       },
       "data": [
        {
         "hoverinfo": "text",
         "hovertext": [
          "<b>Topic 0</b><br>Words: rebak, jangan, pandemi, soal, salah",
          "<b>Topic 0</b><br>Words: pandemi, biaya, ringan, covid, mahasiswa",
          "<b>Topic 0</b><br>Words: rumah, pandemi, ajar, corona, malas",
          "<b>Topic 0</b><br>Words: pandemi, biaya, rilis, rekomendasi, policy",
          "<b>Topic 0</b><br>Words: pandemi, biaya, mahasiswa, ui, parah",
          "<b>Topic 0</b><br>Words: pandemi, biaya, mahasiswa, ui, ringan"
         ],
         "marker": {
          "color": "#E69F00"
         },
         "mode": "lines",
         "name": "0_pandemi_biaya_mahasiswa_ui",
         "type": "scatter",
         "x": [
          "2021-07-02T18:40:04.200000+00:00",
          "2021-07-10T07:05:57.600000+00:00",
          "2021-07-15T07:23:13.200000+00:00",
          "2021-07-22T19:49:06.600000+00:00",
          "2021-07-25T07:57:44.400000+00:00",
          "2021-07-27T20:06:22.200000+00:00"
         ],
         "y": [
          1,
          2,
          1,
          2,
          6,
          3
         ]
        },
        {
         "hoverinfo": "text",
         "hovertext": [
          "<b>Topic 1</b><br>Words: ajar, kalau, percuma, merdeka, guru",
          "<b>Topic 1</b><br>Words: sekolah, ajar, zonasi, buat, menteri",
          "<b>Topic 1</b><br>Words: marah, negeri, awal, masuk, baru",
          "<b>Topic 1</b><br>Words: school, banking, stie, muka, tatap",
          "<b>Topic 1</b><br>Words: ganti, selalu, kerjasama, muhammadiyah, strategis",
          "<b>Topic 1</b><br>Words: budaya, ilmuwan, moga, selalu, ikut",
          "<b>Topic 1</b><br>Words: covid, hijau, pihak, kota, perintah",
          "<b>Topic 1</b><br>Words: jabat, merdeka, remaja, tinggi, uny",
          "<b>Topic 1</b><br>Words: provinsi, perintah, kategori, jadi, pajak",
          "<b>Topic 1</b><br>Words: enggak, anak, banyak, buat, ptm",
          "<b>Topic 1</b><br>Words: its, dulu, hidup, masa, teknologi",
          "<b>Topic 1</b><br>Words: tinggi, pil, kaya, sama, sekolah",
          "<b>Topic 1</b><br>Words: darurat, ppkm, tahun, ajar, sekolah",
          "<b>Topic 1</b><br>Words: bandar, fraksi, fgd, lampung, gelar",
          "<b>Topic 1</b><br>Words: sanggau, sendiri, daya, kerja, pajak",
          "<b>Topic 1</b><br>Words: merdeka, skip, ajar, indonesia, itb",
          "<b>Topic 1</b><br>Words: narkoba, sd, merdeka, sanggau, jadi",
          "<b>Topic 1</b><br>Words: semester, akhir, mahasiswa, keluar, indonesia",
          "<b>Topic 1</b><br>Words: baru, menteri, jadi, income, ajar",
          "<b>Topic 1</b><br>Words: menteri, sekolah, ibuk, diskusi, lalu",
          "<b>Topic 1</b><br>Words: daerah, digitalisasi, zyrex, makan, batas",
          "<b>Topic 1</b><br>Words: buku, susun, kembang, menteri, dosen"
         ],
         "marker": {
          "color": "#56B4E9"
         },
         "mode": "lines",
         "name": "1_ajar_menteri_merdeka_sekolah",
         "type": "scatter",
         "x": [
          "2021-05-16T02:07:50.465999+00:00",
          "2021-05-18T16:04:43.800000+00:00",
          "2021-05-21T04:13:21.600000+00:00",
          "2021-05-23T16:21:59.400000+00:00",
          "2021-05-26T04:30:37.200000+00:00",
          "2021-05-28T16:39:15+00:00",
          "2021-06-17T17:48:17.400000+00:00",
          "2021-06-20T05:56:55.200000+00:00",
          "2021-06-22T18:05:33+00:00",
          "2021-06-25T06:14:10.800000+00:00",
          "2021-06-27T18:22:48.600000+00:00",
          "2021-06-30T06:31:26.400000+00:00",
          "2021-07-02T18:40:04.200000+00:00",
          "2021-07-07T18:57:19.800000+00:00",
          "2021-07-10T07:05:57.600000+00:00",
          "2021-07-12T19:14:35.400000+00:00",
          "2021-07-15T07:23:13.200000+00:00",
          "2021-07-17T19:31:51+00:00",
          "2021-07-20T07:40:28.800000+00:00",
          "2021-07-22T19:49:06.600000+00:00",
          "2021-07-25T07:57:44.400000+00:00",
          "2021-07-27T20:06:22.200000+00:00"
         ],
         "y": [
          9,
          13,
          4,
          3,
          7,
          4,
          5,
          12,
          8,
          3,
          7,
          12,
          12,
          5,
          9,
          9,
          15,
          7,
          12,
          6,
          7,
          8
         ]
        }
       ],
       "layout": {
        "height": 450,
        "hoverlabel": {
         "bgcolor": "white",
         "font": {
          "family": "Rockwell",
          "size": 16
         }
        },
        "legend": {
         "title": {
          "text": "<b>Global Topic Representation"
         }
        },
        "template": {
         "data": {
          "bar": [
           {
            "error_x": {
             "color": "rgb(36,36,36)"
            },
            "error_y": {
             "color": "rgb(36,36,36)"
            },
            "marker": {
             "line": {
              "color": "white",
              "width": 0.5
             },
             "pattern": {
              "fillmode": "overlay",
              "size": 10,
              "solidity": 0.2
             }
            },
            "type": "bar"
           }
          ],
          "barpolar": [
           {
            "marker": {
             "line": {
              "color": "white",
              "width": 0.5
             },
             "pattern": {
              "fillmode": "overlay",
              "size": 10,
              "solidity": 0.2
             }
            },
            "type": "barpolar"
           }
          ],
          "carpet": [
           {
            "aaxis": {
             "endlinecolor": "rgb(36,36,36)",
             "gridcolor": "white",
             "linecolor": "white",
             "minorgridcolor": "white",
             "startlinecolor": "rgb(36,36,36)"
            },
            "baxis": {
             "endlinecolor": "rgb(36,36,36)",
             "gridcolor": "white",
             "linecolor": "white",
             "minorgridcolor": "white",
             "startlinecolor": "rgb(36,36,36)"
            },
            "type": "carpet"
           }
          ],
          "choropleth": [
           {
            "colorbar": {
             "outlinewidth": 1,
             "tickcolor": "rgb(36,36,36)",
             "ticks": "outside"
            },
            "type": "choropleth"
           }
          ],
          "contour": [
           {
            "colorbar": {
             "outlinewidth": 1,
             "tickcolor": "rgb(36,36,36)",
             "ticks": "outside"
            },
            "colorscale": [
             [
              0,
              "#440154"
             ],
             [
              0.1111111111111111,
              "#482878"
             ],
             [
              0.2222222222222222,
              "#3e4989"
             ],
             [
              0.3333333333333333,
              "#31688e"
             ],
             [
              0.4444444444444444,
              "#26828e"
             ],
             [
              0.5555555555555556,
              "#1f9e89"
             ],
             [
              0.6666666666666666,
              "#35b779"
             ],
             [
              0.7777777777777778,
              "#6ece58"
             ],
             [
              0.8888888888888888,
              "#b5de2b"
             ],
             [
              1,
              "#fde725"
             ]
            ],
            "type": "contour"
           }
          ],
          "contourcarpet": [
           {
            "colorbar": {
             "outlinewidth": 1,
             "tickcolor": "rgb(36,36,36)",
             "ticks": "outside"
            },
            "type": "contourcarpet"
           }
          ],
          "heatmap": [
           {
            "colorbar": {
             "outlinewidth": 1,
             "tickcolor": "rgb(36,36,36)",
             "ticks": "outside"
            },
            "colorscale": [
             [
              0,
              "#440154"
             ],
             [
              0.1111111111111111,
              "#482878"
             ],
             [
              0.2222222222222222,
              "#3e4989"
             ],
             [
              0.3333333333333333,
              "#31688e"
             ],
             [
              0.4444444444444444,
              "#26828e"
             ],
             [
              0.5555555555555556,
              "#1f9e89"
             ],
             [
              0.6666666666666666,
              "#35b779"
             ],
             [
              0.7777777777777778,
              "#6ece58"
             ],
             [
              0.8888888888888888,
              "#b5de2b"
             ],
             [
              1,
              "#fde725"
             ]
            ],
            "type": "heatmap"
           }
          ],
          "heatmapgl": [
           {
            "colorbar": {
             "outlinewidth": 1,
             "tickcolor": "rgb(36,36,36)",
             "ticks": "outside"
            },
            "colorscale": [
             [
              0,
              "#440154"
             ],
             [
              0.1111111111111111,
              "#482878"
             ],
             [
              0.2222222222222222,
              "#3e4989"
             ],
             [
              0.3333333333333333,
              "#31688e"
             ],
             [
              0.4444444444444444,
              "#26828e"
             ],
             [
              0.5555555555555556,
              "#1f9e89"
             ],
             [
              0.6666666666666666,
              "#35b779"
             ],
             [
              0.7777777777777778,
              "#6ece58"
             ],
             [
              0.8888888888888888,
              "#b5de2b"
             ],
             [
              1,
              "#fde725"
             ]
            ],
            "type": "heatmapgl"
           }
          ],
          "histogram": [
           {
            "marker": {
             "line": {
              "color": "white",
              "width": 0.6
             }
            },
            "type": "histogram"
           }
          ],
          "histogram2d": [
           {
            "colorbar": {
             "outlinewidth": 1,
             "tickcolor": "rgb(36,36,36)",
             "ticks": "outside"
            },
            "colorscale": [
             [
              0,
              "#440154"
             ],
             [
              0.1111111111111111,
              "#482878"
             ],
             [
              0.2222222222222222,
              "#3e4989"
             ],
             [
              0.3333333333333333,
              "#31688e"
             ],
             [
              0.4444444444444444,
              "#26828e"
             ],
             [
              0.5555555555555556,
              "#1f9e89"
             ],
             [
              0.6666666666666666,
              "#35b779"
             ],
             [
              0.7777777777777778,
              "#6ece58"
             ],
             [
              0.8888888888888888,
              "#b5de2b"
             ],
             [
              1,
              "#fde725"
             ]
            ],
            "type": "histogram2d"
           }
          ],
          "histogram2dcontour": [
           {
            "colorbar": {
             "outlinewidth": 1,
             "tickcolor": "rgb(36,36,36)",
             "ticks": "outside"
            },
            "colorscale": [
             [
              0,
              "#440154"
             ],
             [
              0.1111111111111111,
              "#482878"
             ],
             [
              0.2222222222222222,
              "#3e4989"
             ],
             [
              0.3333333333333333,
              "#31688e"
             ],
             [
              0.4444444444444444,
              "#26828e"
             ],
             [
              0.5555555555555556,
              "#1f9e89"
             ],
             [
              0.6666666666666666,
              "#35b779"
             ],
             [
              0.7777777777777778,
              "#6ece58"
             ],
             [
              0.8888888888888888,
              "#b5de2b"
             ],
             [
              1,
              "#fde725"
             ]
            ],
            "type": "histogram2dcontour"
           }
          ],
          "mesh3d": [
           {
            "colorbar": {
             "outlinewidth": 1,
             "tickcolor": "rgb(36,36,36)",
             "ticks": "outside"
            },
            "type": "mesh3d"
           }
          ],
          "parcoords": [
           {
            "line": {
             "colorbar": {
              "outlinewidth": 1,
              "tickcolor": "rgb(36,36,36)",
              "ticks": "outside"
             }
            },
            "type": "parcoords"
           }
          ],
          "pie": [
           {
            "automargin": true,
            "type": "pie"
           }
          ],
          "scatter": [
           {
            "fillpattern": {
             "fillmode": "overlay",
             "size": 10,
             "solidity": 0.2
            },
            "type": "scatter"
           }
          ],
          "scatter3d": [
           {
            "line": {
             "colorbar": {
              "outlinewidth": 1,
              "tickcolor": "rgb(36,36,36)",
              "ticks": "outside"
             }
            },
            "marker": {
             "colorbar": {
              "outlinewidth": 1,
              "tickcolor": "rgb(36,36,36)",
              "ticks": "outside"
             }
            },
            "type": "scatter3d"
           }
          ],
          "scattercarpet": [
           {
            "marker": {
             "colorbar": {
              "outlinewidth": 1,
              "tickcolor": "rgb(36,36,36)",
              "ticks": "outside"
             }
            },
            "type": "scattercarpet"
           }
          ],
          "scattergeo": [
           {
            "marker": {
             "colorbar": {
              "outlinewidth": 1,
              "tickcolor": "rgb(36,36,36)",
              "ticks": "outside"
             }
            },
            "type": "scattergeo"
           }
          ],
          "scattergl": [
           {
            "marker": {
             "colorbar": {
              "outlinewidth": 1,
              "tickcolor": "rgb(36,36,36)",
              "ticks": "outside"
             }
            },
            "type": "scattergl"
           }
          ],
          "scattermapbox": [
           {
            "marker": {
             "colorbar": {
              "outlinewidth": 1,
              "tickcolor": "rgb(36,36,36)",
              "ticks": "outside"
             }
            },
            "type": "scattermapbox"
           }
          ],
          "scatterpolar": [
           {
            "marker": {
             "colorbar": {
              "outlinewidth": 1,
              "tickcolor": "rgb(36,36,36)",
              "ticks": "outside"
             }
            },
            "type": "scatterpolar"
           }
          ],
          "scatterpolargl": [
           {
            "marker": {
             "colorbar": {
              "outlinewidth": 1,
              "tickcolor": "rgb(36,36,36)",
              "ticks": "outside"
             }
            },
            "type": "scatterpolargl"
           }
          ],
          "scatterternary": [
           {
            "marker": {
             "colorbar": {
              "outlinewidth": 1,
              "tickcolor": "rgb(36,36,36)",
              "ticks": "outside"
             }
            },
            "type": "scatterternary"
           }
          ],
          "surface": [
           {
            "colorbar": {
             "outlinewidth": 1,
             "tickcolor": "rgb(36,36,36)",
             "ticks": "outside"
            },
            "colorscale": [
             [
              0,
              "#440154"
             ],
             [
              0.1111111111111111,
              "#482878"
             ],
             [
              0.2222222222222222,
              "#3e4989"
             ],
             [
              0.3333333333333333,
              "#31688e"
             ],
             [
              0.4444444444444444,
              "#26828e"
             ],
             [
              0.5555555555555556,
              "#1f9e89"
             ],
             [
              0.6666666666666666,
              "#35b779"
             ],
             [
              0.7777777777777778,
              "#6ece58"
             ],
             [
              0.8888888888888888,
              "#b5de2b"
             ],
             [
              1,
              "#fde725"
             ]
            ],
            "type": "surface"
           }
          ],
          "table": [
           {
            "cells": {
             "fill": {
              "color": "rgb(237,237,237)"
             },
             "line": {
              "color": "white"
             }
            },
            "header": {
             "fill": {
              "color": "rgb(217,217,217)"
             },
             "line": {
              "color": "white"
             }
            },
            "type": "table"
           }
          ]
         },
         "layout": {
          "annotationdefaults": {
           "arrowhead": 0,
           "arrowwidth": 1
          },
          "autotypenumbers": "strict",
          "coloraxis": {
           "colorbar": {
            "outlinewidth": 1,
            "tickcolor": "rgb(36,36,36)",
            "ticks": "outside"
           }
          },
          "colorscale": {
           "diverging": [
            [
             0,
             "rgb(103,0,31)"
            ],
            [
             0.1,
             "rgb(178,24,43)"
            ],
            [
             0.2,
             "rgb(214,96,77)"
            ],
            [
             0.3,
             "rgb(244,165,130)"
            ],
            [
             0.4,
             "rgb(253,219,199)"
            ],
            [
             0.5,
             "rgb(247,247,247)"
            ],
            [
             0.6,
             "rgb(209,229,240)"
            ],
            [
             0.7,
             "rgb(146,197,222)"
            ],
            [
             0.8,
             "rgb(67,147,195)"
            ],
            [
             0.9,
             "rgb(33,102,172)"
            ],
            [
             1,
             "rgb(5,48,97)"
            ]
           ],
           "sequential": [
            [
             0,
             "#440154"
            ],
            [
             0.1111111111111111,
             "#482878"
            ],
            [
             0.2222222222222222,
             "#3e4989"
            ],
            [
             0.3333333333333333,
             "#31688e"
            ],
            [
             0.4444444444444444,
             "#26828e"
            ],
            [
             0.5555555555555556,
             "#1f9e89"
            ],
            [
             0.6666666666666666,
             "#35b779"
            ],
            [
             0.7777777777777778,
             "#6ece58"
            ],
            [
             0.8888888888888888,
             "#b5de2b"
            ],
            [
             1,
             "#fde725"
            ]
           ],
           "sequentialminus": [
            [
             0,
             "#440154"
            ],
            [
             0.1111111111111111,
             "#482878"
            ],
            [
             0.2222222222222222,
             "#3e4989"
            ],
            [
             0.3333333333333333,
             "#31688e"
            ],
            [
             0.4444444444444444,
             "#26828e"
            ],
            [
             0.5555555555555556,
             "#1f9e89"
            ],
            [
             0.6666666666666666,
             "#35b779"
            ],
            [
             0.7777777777777778,
             "#6ece58"
            ],
            [
             0.8888888888888888,
             "#b5de2b"
            ],
            [
             1,
             "#fde725"
            ]
           ]
          },
          "colorway": [
           "#1F77B4",
           "#FF7F0E",
           "#2CA02C",
           "#D62728",
           "#9467BD",
           "#8C564B",
           "#E377C2",
           "#7F7F7F",
           "#BCBD22",
           "#17BECF"
          ],
          "font": {
           "color": "rgb(36,36,36)"
          },
          "geo": {
           "bgcolor": "white",
           "lakecolor": "white",
           "landcolor": "white",
           "showlakes": true,
           "showland": true,
           "subunitcolor": "white"
          },
          "hoverlabel": {
           "align": "left"
          },
          "hovermode": "closest",
          "mapbox": {
           "style": "light"
          },
          "paper_bgcolor": "white",
          "plot_bgcolor": "white",
          "polar": {
           "angularaxis": {
            "gridcolor": "rgb(232,232,232)",
            "linecolor": "rgb(36,36,36)",
            "showgrid": false,
            "showline": true,
            "ticks": "outside"
           },
           "bgcolor": "white",
           "radialaxis": {
            "gridcolor": "rgb(232,232,232)",
            "linecolor": "rgb(36,36,36)",
            "showgrid": false,
            "showline": true,
            "ticks": "outside"
           }
          },
          "scene": {
           "xaxis": {
            "backgroundcolor": "white",
            "gridcolor": "rgb(232,232,232)",
            "gridwidth": 2,
            "linecolor": "rgb(36,36,36)",
            "showbackground": true,
            "showgrid": false,
            "showline": true,
            "ticks": "outside",
            "zeroline": false,
            "zerolinecolor": "rgb(36,36,36)"
           },
           "yaxis": {
            "backgroundcolor": "white",
            "gridcolor": "rgb(232,232,232)",
            "gridwidth": 2,
            "linecolor": "rgb(36,36,36)",
            "showbackground": true,
            "showgrid": false,
            "showline": true,
            "ticks": "outside",
            "zeroline": false,
            "zerolinecolor": "rgb(36,36,36)"
           },
           "zaxis": {
            "backgroundcolor": "white",
            "gridcolor": "rgb(232,232,232)",
            "gridwidth": 2,
            "linecolor": "rgb(36,36,36)",
            "showbackground": true,
            "showgrid": false,
            "showline": true,
            "ticks": "outside",
            "zeroline": false,
            "zerolinecolor": "rgb(36,36,36)"
           }
          },
          "shapedefaults": {
           "fillcolor": "black",
           "line": {
            "width": 0
           },
           "opacity": 0.3
          },
          "ternary": {
           "aaxis": {
            "gridcolor": "rgb(232,232,232)",
            "linecolor": "rgb(36,36,36)",
            "showgrid": false,
            "showline": true,
            "ticks": "outside"
           },
           "baxis": {
            "gridcolor": "rgb(232,232,232)",
            "linecolor": "rgb(36,36,36)",
            "showgrid": false,
            "showline": true,
            "ticks": "outside"
           },
           "bgcolor": "white",
           "caxis": {
            "gridcolor": "rgb(232,232,232)",
            "linecolor": "rgb(36,36,36)",
            "showgrid": false,
            "showline": true,
            "ticks": "outside"
           }
          },
          "title": {
           "x": 0.05
          },
          "xaxis": {
           "automargin": true,
           "gridcolor": "rgb(232,232,232)",
           "linecolor": "rgb(36,36,36)",
           "showgrid": false,
           "showline": true,
           "ticks": "outside",
           "title": {
            "standoff": 15
           },
           "zeroline": false,
           "zerolinecolor": "rgb(36,36,36)"
          },
          "yaxis": {
           "automargin": true,
           "gridcolor": "rgb(232,232,232)",
           "linecolor": "rgb(36,36,36)",
           "showgrid": false,
           "showline": true,
           "ticks": "outside",
           "title": {
            "standoff": 15
           },
           "zeroline": false,
           "zerolinecolor": "rgb(36,36,36)"
          }
         }
        },
        "title": {
         "font": {
          "color": "Black",
          "size": 22
         },
         "text": "Topics Over Time for 2021_05-2021_07",
         "x": 0.4,
         "xanchor": "center",
         "y": 0.95,
         "yanchor": "top"
        },
        "width": 1250,
        "xaxis": {
         "showgrid": true
        },
        "yaxis": {
         "showgrid": true,
         "title": {
          "text": "Frequency"
         }
        }
       }
      }
     },
     "metadata": {},
     "output_type": "display_data"
    },
    {
     "data": {
      "application/vnd.plotly.v1+json": {
       "config": {
        "plotlyServerURL": "https://plot.ly"
       },
       "data": [
        {
         "hoverinfo": "text",
         "hovertext": [
          "<b>Topic 0</b><br>Words: buat, jam, sebar, kalian, panjang",
          "<b>Topic 0</b><br>Words: istilah, pinjam, tuduh, bang, ambil",
          "<b>Topic 0</b><br>Words: mohon, bersabarr, jokowi, daring, buka",
          "<b>Topic 0</b><br>Words: subulussalam, singkronisasi, koordinasi, efektif, aku",
          "<b>Topic 0</b><br>Words: bansos, perintah, jelata, start, sempat",
          "<b>Topic 0</b><br>Words: gue, jalan, dprd, jawa, provinsi",
          "<b>Topic 0</b><br>Words: jabar, dinas, anggar, negara, vii",
          "<b>Topic 0</b><br>Words: eks, napi, pertama, korupsi, gandeng",
          "<b>Topic 0</b><br>Words: kondisi, anggur, atas, perintah, gmn",
          "<b>Topic 0</b><br>Words: disink, formulasi, uny, rep, mbkm",
          "<b>Topic 0</b><br>Words: perintah, sama, kad, acu, plt",
          "<b>Topic 0</b><br>Words: narkoba, tanggap, ancam, konsolidasi, kota",
          "<b>Topic 0</b><br>Words: kota, laksana, zonasi, seksi, almadera"
         ],
         "marker": {
          "color": "#E69F00"
         },
         "mode": "lines",
         "name": "0_kota_perintah_jalan_narkoba",
         "type": "scatter",
         "x": [
          "2021-08-01T00:56:34.028000+00:00",
          "2021-08-04T03:17:01.400000+00:00",
          "2021-08-07T03:27:33.800000+00:00",
          "2021-08-10T03:38:06.200000+00:00",
          "2021-08-13T03:48:38.600000+00:00",
          "2021-08-16T03:59:11+00:00",
          "2021-08-19T04:09:43.400000+00:00",
          "2021-08-22T04:20:15.800000+00:00",
          "2021-08-25T04:30:48.200000+00:00",
          "2021-08-28T04:41:20.600000+00:00",
          "2021-10-21T07:51:03.800000+00:00",
          "2021-10-24T08:01:36.200000+00:00",
          "2021-10-27T08:12:08.600000+00:00"
         ],
         "y": [
          3,
          1,
          3,
          3,
          1,
          3,
          2,
          1,
          2,
          1,
          3,
          4,
          2
         ]
        },
        {
         "hoverinfo": "text",
         "hovertext": [
          "<b>Topic 1</b><br>Words: kait, level, ppkm, imbau, naskah",
          "<b>Topic 1</b><br>Words: pikir, data, agama, indonesia, kapan",
          "<b>Topic 1</b><br>Words: jurnal, akuntabilitas, yogyakarta, rukmini, articled",
          "<b>Topic 1</b><br>Words: merdeka, vokasi, indonesia, sistem, kenal",
          "<b>Topic 1</b><br>Words: an, mas, tuju, merdeka, indonesia",
          "<b>Topic 1</b><br>Words: surat, padang, kuliah, negeri, edar",
          "<b>Topic 1</b><br>Words: doktor, aceh, banda, disertasi, dayah",
          "<b>Topic 1</b><br>Words: singapura, tingkat, ipdn, tito, daerah",
          "<b>Topic 1</b><br>Words: riset, bpd, sobat, anwar, badan"
         ],
         "marker": {
          "color": "#56B4E9"
         },
         "mode": "lines",
         "name": "1_merdeka_indonesia_vokasi_kampus",
         "type": "scatter",
         "x": [
          "2021-08-01T00:56:34.028000+00:00",
          "2021-08-04T03:17:01.400000+00:00",
          "2021-08-16T03:59:11+00:00",
          "2021-08-19T04:09:43.400000+00:00",
          "2021-08-22T04:20:15.800000+00:00",
          "2021-08-25T04:30:48.200000+00:00",
          "2021-08-28T04:41:20.600000+00:00",
          "2021-10-24T08:01:36.200000+00:00",
          "2021-10-27T08:12:08.600000+00:00"
         ],
         "y": [
          2,
          4,
          1,
          21,
          2,
          2,
          1,
          4,
          2
         ]
        },
        {
         "hoverinfo": "text",
         "hovertext": [
          "<b>Topic 2</b><br>Words: ui, pandemi, ringan, biaya, efisiensi",
          "<b>Topic 2</b><br>Words: edukasi, protokol, sehat, pandemi, video",
          "<b>Topic 2</b><br>Words: pandemi, mang, berteletele, mrlihat, kasihan",
          "<b>Topic 2</b><br>Words: generasi, sejarah, konyol, kelak, respons",
          "<b>Topic 2</b><br>Words: pandemi, acak, kurikulum, selalu, teh",
          "<b>Topic 2</b><br>Words: pandemi, ubah, serta, salam, ace",
          "<b>Topic 2</b><br>Words: bantu, pandemi, sasar, dikbud, manfaat",
          "<b>Topic 2</b><br>Words: pandemi, risiko, apa, tetap, penuh"
         ],
         "marker": {
          "color": "#009E73"
         },
         "mode": "lines",
         "name": "2_pandemi_covid_ubah_rata",
         "type": "scatter",
         "x": [
          "2021-08-01T00:56:34.028000+00:00",
          "2021-08-04T03:17:01.400000+00:00",
          "2021-08-07T03:27:33.800000+00:00",
          "2021-08-10T03:38:06.200000+00:00",
          "2021-08-13T03:48:38.600000+00:00",
          "2021-08-22T04:20:15.800000+00:00",
          "2021-08-25T04:30:48.200000+00:00",
          "2021-08-28T04:41:20.600000+00:00"
         ],
         "y": [
          1,
          1,
          1,
          2,
          1,
          2,
          1,
          2
         ]
        },
        {
         "hoverinfo": "text",
         "hovertext": [
          "<b>Topic 3</b><br>Words: rakyat, adil, penting, bela, sosial",
          "<b>Topic 3</b><br>Words: kualitas, tiga, prasarana, tekan, lanjut",
          "<b>Topic 3</b><br>Words: belanja, ekspansif, negara, kembang, kualitas",
          "<b>Topic 3</b><br>Words: strategis, mutu, tingkat, aksi, satyakarta",
          "<b>Topic 3</b><br>Words: penting, negara, adab, gaya, akhlak"
         ],
         "marker": {
          "color": "#F0E442"
         },
         "mode": "lines",
         "name": "3_kualitas_indonesia_prasarana_tiga",
         "type": "scatter",
         "x": [
          "2021-08-13T03:48:38.600000+00:00",
          "2021-08-16T03:59:11+00:00",
          "2021-08-19T04:09:43.400000+00:00",
          "2021-08-25T04:30:48.200000+00:00",
          "2021-10-27T08:12:08.600000+00:00"
         ],
         "y": [
          1,
          9,
          2,
          1,
          1
         ]
        },
        {
         "hoverinfo": "text",
         "hovertext": [
          "<b>Topic 4</b><br>Words: sekolah, baru, abu, dhabi, mitra",
          "<b>Topic 4</b><br>Words: latih, barangjasa, pusat, lembaga, perintah",
          "<b>Topic 4</b><br>Words: ajar, merdeka, konsep, olh, dewantara",
          "<b>Topic 4</b><br>Words: ukt, kemendikbud, bantu, merespon, polban",
          "<b>Topic 4</b><br>Words: orang, enggak, kuasa, english, anggap",
          "<b>Topic 4</b><br>Words: vokasi, tinggi, merdeka, siap, mahasiswa",
          "<b>Topic 4</b><br>Words: terima, ukt, halo, vokasi, mahasiswa",
          "<b>Topic 4</b><br>Words: coba, filsafat, kam, administratif, esensi",
          "<b>Topic 4</b><br>Words: hipotesis, asumsiasumsi, analis, uji, sd",
          "<b>Topic 4</b><br>Words: guru, kamu, mahasiswa, tinggi, murid"
         ],
         "marker": {
          "color": "#D55E00"
         },
         "mode": "lines",
         "name": "4_vokasi_tinggi_merdeka_mahasiswa",
         "type": "scatter",
         "x": [
          "2021-08-01T00:56:34.028000+00:00",
          "2021-08-04T03:17:01.400000+00:00",
          "2021-08-10T03:38:06.200000+00:00",
          "2021-08-13T03:48:38.600000+00:00",
          "2021-08-16T03:59:11+00:00",
          "2021-08-19T04:09:43.400000+00:00",
          "2021-08-25T04:30:48.200000+00:00",
          "2021-10-21T07:51:03.800000+00:00",
          "2021-10-24T08:01:36.200000+00:00",
          "2021-10-27T08:12:08.600000+00:00"
         ],
         "y": [
          1,
          1,
          2,
          1,
          1,
          31,
          3,
          1,
          2,
          3
         ]
        }
       ],
       "layout": {
        "height": 450,
        "hoverlabel": {
         "bgcolor": "white",
         "font": {
          "family": "Rockwell",
          "size": 16
         }
        },
        "legend": {
         "title": {
          "text": "<b>Global Topic Representation"
         }
        },
        "template": {
         "data": {
          "bar": [
           {
            "error_x": {
             "color": "rgb(36,36,36)"
            },
            "error_y": {
             "color": "rgb(36,36,36)"
            },
            "marker": {
             "line": {
              "color": "white",
              "width": 0.5
             },
             "pattern": {
              "fillmode": "overlay",
              "size": 10,
              "solidity": 0.2
             }
            },
            "type": "bar"
           }
          ],
          "barpolar": [
           {
            "marker": {
             "line": {
              "color": "white",
              "width": 0.5
             },
             "pattern": {
              "fillmode": "overlay",
              "size": 10,
              "solidity": 0.2
             }
            },
            "type": "barpolar"
           }
          ],
          "carpet": [
           {
            "aaxis": {
             "endlinecolor": "rgb(36,36,36)",
             "gridcolor": "white",
             "linecolor": "white",
             "minorgridcolor": "white",
             "startlinecolor": "rgb(36,36,36)"
            },
            "baxis": {
             "endlinecolor": "rgb(36,36,36)",
             "gridcolor": "white",
             "linecolor": "white",
             "minorgridcolor": "white",
             "startlinecolor": "rgb(36,36,36)"
            },
            "type": "carpet"
           }
          ],
          "choropleth": [
           {
            "colorbar": {
             "outlinewidth": 1,
             "tickcolor": "rgb(36,36,36)",
             "ticks": "outside"
            },
            "type": "choropleth"
           }
          ],
          "contour": [
           {
            "colorbar": {
             "outlinewidth": 1,
             "tickcolor": "rgb(36,36,36)",
             "ticks": "outside"
            },
            "colorscale": [
             [
              0,
              "#440154"
             ],
             [
              0.1111111111111111,
              "#482878"
             ],
             [
              0.2222222222222222,
              "#3e4989"
             ],
             [
              0.3333333333333333,
              "#31688e"
             ],
             [
              0.4444444444444444,
              "#26828e"
             ],
             [
              0.5555555555555556,
              "#1f9e89"
             ],
             [
              0.6666666666666666,
              "#35b779"
             ],
             [
              0.7777777777777778,
              "#6ece58"
             ],
             [
              0.8888888888888888,
              "#b5de2b"
             ],
             [
              1,
              "#fde725"
             ]
            ],
            "type": "contour"
           }
          ],
          "contourcarpet": [
           {
            "colorbar": {
             "outlinewidth": 1,
             "tickcolor": "rgb(36,36,36)",
             "ticks": "outside"
            },
            "type": "contourcarpet"
           }
          ],
          "heatmap": [
           {
            "colorbar": {
             "outlinewidth": 1,
             "tickcolor": "rgb(36,36,36)",
             "ticks": "outside"
            },
            "colorscale": [
             [
              0,
              "#440154"
             ],
             [
              0.1111111111111111,
              "#482878"
             ],
             [
              0.2222222222222222,
              "#3e4989"
             ],
             [
              0.3333333333333333,
              "#31688e"
             ],
             [
              0.4444444444444444,
              "#26828e"
             ],
             [
              0.5555555555555556,
              "#1f9e89"
             ],
             [
              0.6666666666666666,
              "#35b779"
             ],
             [
              0.7777777777777778,
              "#6ece58"
             ],
             [
              0.8888888888888888,
              "#b5de2b"
             ],
             [
              1,
              "#fde725"
             ]
            ],
            "type": "heatmap"
           }
          ],
          "heatmapgl": [
           {
            "colorbar": {
             "outlinewidth": 1,
             "tickcolor": "rgb(36,36,36)",
             "ticks": "outside"
            },
            "colorscale": [
             [
              0,
              "#440154"
             ],
             [
              0.1111111111111111,
              "#482878"
             ],
             [
              0.2222222222222222,
              "#3e4989"
             ],
             [
              0.3333333333333333,
              "#31688e"
             ],
             [
              0.4444444444444444,
              "#26828e"
             ],
             [
              0.5555555555555556,
              "#1f9e89"
             ],
             [
              0.6666666666666666,
              "#35b779"
             ],
             [
              0.7777777777777778,
              "#6ece58"
             ],
             [
              0.8888888888888888,
              "#b5de2b"
             ],
             [
              1,
              "#fde725"
             ]
            ],
            "type": "heatmapgl"
           }
          ],
          "histogram": [
           {
            "marker": {
             "line": {
              "color": "white",
              "width": 0.6
             }
            },
            "type": "histogram"
           }
          ],
          "histogram2d": [
           {
            "colorbar": {
             "outlinewidth": 1,
             "tickcolor": "rgb(36,36,36)",
             "ticks": "outside"
            },
            "colorscale": [
             [
              0,
              "#440154"
             ],
             [
              0.1111111111111111,
              "#482878"
             ],
             [
              0.2222222222222222,
              "#3e4989"
             ],
             [
              0.3333333333333333,
              "#31688e"
             ],
             [
              0.4444444444444444,
              "#26828e"
             ],
             [
              0.5555555555555556,
              "#1f9e89"
             ],
             [
              0.6666666666666666,
              "#35b779"
             ],
             [
              0.7777777777777778,
              "#6ece58"
             ],
             [
              0.8888888888888888,
              "#b5de2b"
             ],
             [
              1,
              "#fde725"
             ]
            ],
            "type": "histogram2d"
           }
          ],
          "histogram2dcontour": [
           {
            "colorbar": {
             "outlinewidth": 1,
             "tickcolor": "rgb(36,36,36)",
             "ticks": "outside"
            },
            "colorscale": [
             [
              0,
              "#440154"
             ],
             [
              0.1111111111111111,
              "#482878"
             ],
             [
              0.2222222222222222,
              "#3e4989"
             ],
             [
              0.3333333333333333,
              "#31688e"
             ],
             [
              0.4444444444444444,
              "#26828e"
             ],
             [
              0.5555555555555556,
              "#1f9e89"
             ],
             [
              0.6666666666666666,
              "#35b779"
             ],
             [
              0.7777777777777778,
              "#6ece58"
             ],
             [
              0.8888888888888888,
              "#b5de2b"
             ],
             [
              1,
              "#fde725"
             ]
            ],
            "type": "histogram2dcontour"
           }
          ],
          "mesh3d": [
           {
            "colorbar": {
             "outlinewidth": 1,
             "tickcolor": "rgb(36,36,36)",
             "ticks": "outside"
            },
            "type": "mesh3d"
           }
          ],
          "parcoords": [
           {
            "line": {
             "colorbar": {
              "outlinewidth": 1,
              "tickcolor": "rgb(36,36,36)",
              "ticks": "outside"
             }
            },
            "type": "parcoords"
           }
          ],
          "pie": [
           {
            "automargin": true,
            "type": "pie"
           }
          ],
          "scatter": [
           {
            "fillpattern": {
             "fillmode": "overlay",
             "size": 10,
             "solidity": 0.2
            },
            "type": "scatter"
           }
          ],
          "scatter3d": [
           {
            "line": {
             "colorbar": {
              "outlinewidth": 1,
              "tickcolor": "rgb(36,36,36)",
              "ticks": "outside"
             }
            },
            "marker": {
             "colorbar": {
              "outlinewidth": 1,
              "tickcolor": "rgb(36,36,36)",
              "ticks": "outside"
             }
            },
            "type": "scatter3d"
           }
          ],
          "scattercarpet": [
           {
            "marker": {
             "colorbar": {
              "outlinewidth": 1,
              "tickcolor": "rgb(36,36,36)",
              "ticks": "outside"
             }
            },
            "type": "scattercarpet"
           }
          ],
          "scattergeo": [
           {
            "marker": {
             "colorbar": {
              "outlinewidth": 1,
              "tickcolor": "rgb(36,36,36)",
              "ticks": "outside"
             }
            },
            "type": "scattergeo"
           }
          ],
          "scattergl": [
           {
            "marker": {
             "colorbar": {
              "outlinewidth": 1,
              "tickcolor": "rgb(36,36,36)",
              "ticks": "outside"
             }
            },
            "type": "scattergl"
           }
          ],
          "scattermapbox": [
           {
            "marker": {
             "colorbar": {
              "outlinewidth": 1,
              "tickcolor": "rgb(36,36,36)",
              "ticks": "outside"
             }
            },
            "type": "scattermapbox"
           }
          ],
          "scatterpolar": [
           {
            "marker": {
             "colorbar": {
              "outlinewidth": 1,
              "tickcolor": "rgb(36,36,36)",
              "ticks": "outside"
             }
            },
            "type": "scatterpolar"
           }
          ],
          "scatterpolargl": [
           {
            "marker": {
             "colorbar": {
              "outlinewidth": 1,
              "tickcolor": "rgb(36,36,36)",
              "ticks": "outside"
             }
            },
            "type": "scatterpolargl"
           }
          ],
          "scatterternary": [
           {
            "marker": {
             "colorbar": {
              "outlinewidth": 1,
              "tickcolor": "rgb(36,36,36)",
              "ticks": "outside"
             }
            },
            "type": "scatterternary"
           }
          ],
          "surface": [
           {
            "colorbar": {
             "outlinewidth": 1,
             "tickcolor": "rgb(36,36,36)",
             "ticks": "outside"
            },
            "colorscale": [
             [
              0,
              "#440154"
             ],
             [
              0.1111111111111111,
              "#482878"
             ],
             [
              0.2222222222222222,
              "#3e4989"
             ],
             [
              0.3333333333333333,
              "#31688e"
             ],
             [
              0.4444444444444444,
              "#26828e"
             ],
             [
              0.5555555555555556,
              "#1f9e89"
             ],
             [
              0.6666666666666666,
              "#35b779"
             ],
             [
              0.7777777777777778,
              "#6ece58"
             ],
             [
              0.8888888888888888,
              "#b5de2b"
             ],
             [
              1,
              "#fde725"
             ]
            ],
            "type": "surface"
           }
          ],
          "table": [
           {
            "cells": {
             "fill": {
              "color": "rgb(237,237,237)"
             },
             "line": {
              "color": "white"
             }
            },
            "header": {
             "fill": {
              "color": "rgb(217,217,217)"
             },
             "line": {
              "color": "white"
             }
            },
            "type": "table"
           }
          ]
         },
         "layout": {
          "annotationdefaults": {
           "arrowhead": 0,
           "arrowwidth": 1
          },
          "autotypenumbers": "strict",
          "coloraxis": {
           "colorbar": {
            "outlinewidth": 1,
            "tickcolor": "rgb(36,36,36)",
            "ticks": "outside"
           }
          },
          "colorscale": {
           "diverging": [
            [
             0,
             "rgb(103,0,31)"
            ],
            [
             0.1,
             "rgb(178,24,43)"
            ],
            [
             0.2,
             "rgb(214,96,77)"
            ],
            [
             0.3,
             "rgb(244,165,130)"
            ],
            [
             0.4,
             "rgb(253,219,199)"
            ],
            [
             0.5,
             "rgb(247,247,247)"
            ],
            [
             0.6,
             "rgb(209,229,240)"
            ],
            [
             0.7,
             "rgb(146,197,222)"
            ],
            [
             0.8,
             "rgb(67,147,195)"
            ],
            [
             0.9,
             "rgb(33,102,172)"
            ],
            [
             1,
             "rgb(5,48,97)"
            ]
           ],
           "sequential": [
            [
             0,
             "#440154"
            ],
            [
             0.1111111111111111,
             "#482878"
            ],
            [
             0.2222222222222222,
             "#3e4989"
            ],
            [
             0.3333333333333333,
             "#31688e"
            ],
            [
             0.4444444444444444,
             "#26828e"
            ],
            [
             0.5555555555555556,
             "#1f9e89"
            ],
            [
             0.6666666666666666,
             "#35b779"
            ],
            [
             0.7777777777777778,
             "#6ece58"
            ],
            [
             0.8888888888888888,
             "#b5de2b"
            ],
            [
             1,
             "#fde725"
            ]
           ],
           "sequentialminus": [
            [
             0,
             "#440154"
            ],
            [
             0.1111111111111111,
             "#482878"
            ],
            [
             0.2222222222222222,
             "#3e4989"
            ],
            [
             0.3333333333333333,
             "#31688e"
            ],
            [
             0.4444444444444444,
             "#26828e"
            ],
            [
             0.5555555555555556,
             "#1f9e89"
            ],
            [
             0.6666666666666666,
             "#35b779"
            ],
            [
             0.7777777777777778,
             "#6ece58"
            ],
            [
             0.8888888888888888,
             "#b5de2b"
            ],
            [
             1,
             "#fde725"
            ]
           ]
          },
          "colorway": [
           "#1F77B4",
           "#FF7F0E",
           "#2CA02C",
           "#D62728",
           "#9467BD",
           "#8C564B",
           "#E377C2",
           "#7F7F7F",
           "#BCBD22",
           "#17BECF"
          ],
          "font": {
           "color": "rgb(36,36,36)"
          },
          "geo": {
           "bgcolor": "white",
           "lakecolor": "white",
           "landcolor": "white",
           "showlakes": true,
           "showland": true,
           "subunitcolor": "white"
          },
          "hoverlabel": {
           "align": "left"
          },
          "hovermode": "closest",
          "mapbox": {
           "style": "light"
          },
          "paper_bgcolor": "white",
          "plot_bgcolor": "white",
          "polar": {
           "angularaxis": {
            "gridcolor": "rgb(232,232,232)",
            "linecolor": "rgb(36,36,36)",
            "showgrid": false,
            "showline": true,
            "ticks": "outside"
           },
           "bgcolor": "white",
           "radialaxis": {
            "gridcolor": "rgb(232,232,232)",
            "linecolor": "rgb(36,36,36)",
            "showgrid": false,
            "showline": true,
            "ticks": "outside"
           }
          },
          "scene": {
           "xaxis": {
            "backgroundcolor": "white",
            "gridcolor": "rgb(232,232,232)",
            "gridwidth": 2,
            "linecolor": "rgb(36,36,36)",
            "showbackground": true,
            "showgrid": false,
            "showline": true,
            "ticks": "outside",
            "zeroline": false,
            "zerolinecolor": "rgb(36,36,36)"
           },
           "yaxis": {
            "backgroundcolor": "white",
            "gridcolor": "rgb(232,232,232)",
            "gridwidth": 2,
            "linecolor": "rgb(36,36,36)",
            "showbackground": true,
            "showgrid": false,
            "showline": true,
            "ticks": "outside",
            "zeroline": false,
            "zerolinecolor": "rgb(36,36,36)"
           },
           "zaxis": {
            "backgroundcolor": "white",
            "gridcolor": "rgb(232,232,232)",
            "gridwidth": 2,
            "linecolor": "rgb(36,36,36)",
            "showbackground": true,
            "showgrid": false,
            "showline": true,
            "ticks": "outside",
            "zeroline": false,
            "zerolinecolor": "rgb(36,36,36)"
           }
          },
          "shapedefaults": {
           "fillcolor": "black",
           "line": {
            "width": 0
           },
           "opacity": 0.3
          },
          "ternary": {
           "aaxis": {
            "gridcolor": "rgb(232,232,232)",
            "linecolor": "rgb(36,36,36)",
            "showgrid": false,
            "showline": true,
            "ticks": "outside"
           },
           "baxis": {
            "gridcolor": "rgb(232,232,232)",
            "linecolor": "rgb(36,36,36)",
            "showgrid": false,
            "showline": true,
            "ticks": "outside"
           },
           "bgcolor": "white",
           "caxis": {
            "gridcolor": "rgb(232,232,232)",
            "linecolor": "rgb(36,36,36)",
            "showgrid": false,
            "showline": true,
            "ticks": "outside"
           }
          },
          "title": {
           "x": 0.05
          },
          "xaxis": {
           "automargin": true,
           "gridcolor": "rgb(232,232,232)",
           "linecolor": "rgb(36,36,36)",
           "showgrid": false,
           "showline": true,
           "ticks": "outside",
           "title": {
            "standoff": 15
           },
           "zeroline": false,
           "zerolinecolor": "rgb(36,36,36)"
          },
          "yaxis": {
           "automargin": true,
           "gridcolor": "rgb(232,232,232)",
           "linecolor": "rgb(36,36,36)",
           "showgrid": false,
           "showline": true,
           "ticks": "outside",
           "title": {
            "standoff": 15
           },
           "zeroline": false,
           "zerolinecolor": "rgb(36,36,36)"
          }
         }
        },
        "title": {
         "font": {
          "color": "Black",
          "size": 22
         },
         "text": "Topics Over Time for 2021_08-2021_10",
         "x": 0.4,
         "xanchor": "center",
         "y": 0.95,
         "yanchor": "top"
        },
        "width": 1250,
        "xaxis": {
         "showgrid": true
        },
        "yaxis": {
         "showgrid": true,
         "title": {
          "text": "Frequency"
         }
        }
       }
      }
     },
     "metadata": {},
     "output_type": "display_data"
    },
    {
     "data": {
      "application/vnd.plotly.v1+json": {
       "config": {
        "plotlyServerURL": "https://plot.ly"
       },
       "data": [
        {
         "hoverinfo": "text",
         "hovertext": [
          "<b>Topic 0</b><br>Words: disabilitas, dorong, tara, risma, laku"
         ],
         "marker": {
          "color": "#E69F00"
         },
         "mode": "lines",
         "name": "0_disabilitas_dorong_tara_risma",
         "type": "scatter",
         "x": [
          "2021-12-04T05:19:23.966666+00:00"
         ],
         "y": [
          21
         ]
        },
        {
         "hoverinfo": "text",
         "hovertext": [
          "<b>Topic 1</b><br>Words: kredit, dini, bayar, anak, awat",
          "<b>Topic 1</b><br>Words: materi, antikorupsi, libat, mesti, mang",
          "<b>Topic 1</b><br>Words: logicnya, hasil, fufufu, korup, langgar",
          "<b>Topic 1</b><br>Words: kontrak, tenaga, sampit, kotawaringin, tekon",
          "<b>Topic 1</b><br>Words: embuh, subsidi, ancene, suruh, hutang",
          "<b>Topic 1</b><br>Words: student, loan, negara, bayar, hak",
          "<b>Topic 1</b><br>Words: sekolah, keluarga, negara, negeri, aparat"
         ],
         "marker": {
          "color": "#56B4E9"
         },
         "mode": "lines",
         "name": "1_student_loan_negara_bayar",
         "type": "scatter",
         "x": [
          "2021-11-10T04:10:46.900000+00:00",
          "2021-11-16T04:27:56.166666+00:00",
          "2021-12-25T06:19:26.400000+00:00",
          "2022-01-03T06:45:10.300000+00:00",
          "2022-01-06T06:53:44.933333+00:00",
          "2022-01-09T07:02:19.566666+00:00",
          "2022-01-21T07:36:38.100000+00:00"
         ],
         "y": [
          1,
          6,
          1,
          1,
          1,
          11,
          1
         ]
        },
        {
         "hoverinfo": "text",
         "hovertext": [
          "<b>Topic 2</b><br>Words: jokowi, adaptasi, presidensi, lindung, ketua",
          "<b>Topic 2</b><br>Words: cepat, sasar, kursi, produktivitas, raih",
          "<b>Topic 2</b><br>Words: amp, garap, capai, qampa, lenny",
          "<b>Topic 2</b><br>Words: pola, luas, imho, oligarki, gera",
          "<b>Topic 2</b><br>Words: makmur, konsisten, idealisme, luhur, perindo",
          "<b>Topic 2</b><br>Words: golkar, dpd, potensial, institute, sarmuji",
          "<b>Topic 2</b><br>Words: jamin, rekrut, gurudosentenaga, status, fraksi",
          "<b>Topic 2</b><br>Words: ganti, masalah, indonesia, akar, selesai",
          "<b>Topic 2</b><br>Words: polri, andiko, trunoyudo, pusdikmin, divisi",
          "<b>Topic 2</b><br>Words: perempuan, politik, ani, sektor, lindung",
          "<b>Topic 2</b><br>Words: sulit, ganti, ideologis, telaah, peta",
          "<b>Topic 2</b><br>Words: musyawarah, mgmp, sumedang, wilayah, tanjungsari"
         ],
         "marker": {
          "color": "#009E73"
         },
         "mode": "lines",
         "name": "2_jokowi_ketua_sektor_lindung",
         "type": "scatter",
         "x": [
          "2021-11-01T01:35:11.560999+00:00",
          "2021-11-13T04:19:21.533333+00:00",
          "2021-11-16T04:27:56.166666+00:00",
          "2021-11-22T04:45:05.433333+00:00",
          "2021-12-01T05:10:49.333333+00:00",
          "2021-12-13T05:45:07.866666+00:00",
          "2021-12-16T05:53:42.500000+00:00",
          "2021-12-22T06:10:51.766666+00:00",
          "2022-01-03T06:45:10.300000+00:00",
          "2022-01-09T07:02:19.566666+00:00",
          "2022-01-12T07:10:54.200000+00:00",
          "2022-01-18T07:28:03.466666+00:00"
         ],
         "y": [
          14,
          1,
          1,
          1,
          1,
          1,
          1,
          1,
          1,
          2,
          2,
          1
         ]
        },
        {
         "hoverinfo": "text",
         "hovertext": [
          "<b>Topic 3</b><br>Words: makin, google, hi, runyam, jarak",
          "<b>Topic 3</b><br>Words: gimana, trivia, sch, kondisi, kalian",
          "<b>Topic 3</b><br>Words: sajak, negeri, auth, gairah, pesanpesan",
          "<b>Topic 3</b><br>Words: jelang, disdikpora, gunung, nataru, edar",
          "<b>Topic 3</b><br>Words: ganti, kayak, memang, jakarta, sch",
          "<b>Topic 3</b><br>Words: kukuh, kkks, urus, bupati, harap",
          "<b>Topic 3</b><br>Words: kntr, apaka, jir, prtrn, impact",
          "<b>Topic 3</b><br>Words: jakarta, kasubag, humas, dki, kata",
          "<b>Topic 3</b><br>Words: halmahera, selatan, teliti, tenggara, statistika"
         ],
         "marker": {
          "color": "#F0E442"
         },
         "mode": "lines",
         "name": "3_jakarta_sch_trivia_kasubag",
         "type": "scatter",
         "x": [
          "2021-11-10T04:10:46.900000+00:00",
          "2021-11-22T04:45:05.433333+00:00",
          "2021-12-04T05:19:23.966666+00:00",
          "2021-12-10T05:36:33.233333+00:00",
          "2021-12-13T05:45:07.866666+00:00",
          "2021-12-19T06:02:17.133333+00:00",
          "2021-12-31T06:36:35.666666+00:00",
          "2022-01-03T06:45:10.300000+00:00",
          "2022-01-21T07:36:38.100000+00:00"
         ],
         "y": [
          3,
          2,
          1,
          1,
          1,
          3,
          1,
          3,
          2
         ]
        },
        {
         "hoverinfo": "text",
         "hovertext": [
          "<b>Topic 4</b><br>Words: menteri, agama, seksual, dukung, tangan",
          "<b>Topic 4</b><br>Words: menteri, tangan, agama, cegah, seksual",
          "<b>Topic 4</b><br>Words: sanksi, laku, yaqut, cholil, menteri",
          "<b>Topic 4</b><br>Words: menteri, tangan, agama, seksual, cegah",
          "<b>Topic 4</b><br>Words: pikir, menteri, seksual, abai, kuno"
         ],
         "marker": {
          "color": "#D55E00"
         },
         "mode": "lines",
         "name": "4_menteri_seksual_agama_tangan",
         "type": "scatter",
         "x": [
          "2021-11-07T04:02:12.266666+00:00",
          "2021-11-10T04:10:46.900000+00:00",
          "2021-11-13T04:19:21.533333+00:00",
          "2021-11-19T04:36:30.800000+00:00",
          "2021-12-13T05:45:07.866666+00:00"
         ],
         "y": [
          2,
          9,
          1,
          1,
          1
         ]
        },
        {
         "hoverinfo": "text",
         "hovertext": [
          "<b>Topic 5</b><br>Words: keras, seksual, amp, lembaga, bentuk",
          "<b>Topic 5</b><br>Words: keras, seksual, dukung, menag, jahat",
          "<b>Topic 5</b><br>Words: keras, seksual, dukung, psi, tangsel",
          "<b>Topic 5</b><br>Words: keras, seksual, cair, dunia, nadiem",
          "<b>Topic 5</b><br>Words: seksual, coreng, aniaya, kutaraja, polisi",
          "<b>Topic 5</b><br>Words: kuning, lampu, online, hingga, keras"
         ],
         "marker": {
          "color": "#0072B2"
         },
         "mode": "lines",
         "name": "5_keras_seksual_dukung_dunia",
         "type": "scatter",
         "x": [
          "2021-11-07T04:02:12.266666+00:00",
          "2021-11-10T04:10:46.900000+00:00",
          "2021-11-13T04:19:21.533333+00:00",
          "2021-11-16T04:27:56.166666+00:00",
          "2021-12-16T05:53:42.500000+00:00",
          "2021-12-25T06:19:26.400000+00:00"
         ],
         "y": [
          2,
          8,
          2,
          2,
          1,
          1
         ]
        },
        {
         "hoverinfo": "text",
         "hovertext": [
          "<b>Topic 6</b><br>Words: mikir, diamdiam, kontradiksi, teledor, me",
          "<b>Topic 6</b><br>Words: salah, sepakat, kultur, opini, edan",
          "<b>Topic 6</b><br>Words: mulia, cuma, nyusun, ngakuin, enggak",
          "<b>Topic 6</b><br>Words: manut, kritisi, konyol, ajar, demokrasi",
          "<b>Topic 6</b><br>Words: hindar, resah, cerdas, kebijakanterobosan, kontroversial",
          "<b>Topic 6</b><br>Words: demokrasi, amp, sangat, munafik, wow",
          "<b>Topic 6</b><br>Words: bom, pakar, coe, smk, mendikbud",
          "<b>Topic 6</b><br>Words: kutuk, adab, generasi, jadi, nilai",
          "<b>Topic 6</b><br>Words: freire, politik, tentu, lebay, bungkam",
          "<b>Topic 6</b><br>Words: terus, absurd, akal, runtuh, halang",
          "<b>Topic 6</b><br>Words: kacau, hadeh, coba, pleusnamdua, syukur",
          "<b>Topic 6</b><br>Words: filosofi, vokasi, politik, enggak, demokrasi",
          "<b>Topic 6</b><br>Words: nation, batubara, ekspor, coal, mobilitas",
          "<b>Topic 6</b><br>Words: malah, pinter, pas, ganti, bikin",
          "<b>Topic 6</b><br>Words: rektor, umj, bias, henti, negeri",
          "<b>Topic 6</b><br>Words: kapitalis, pil, aneh, sosdem, negara",
          "<b>Topic 6</b><br>Words: butuh, bentur, formal, mngandalkn, guwe",
          "<b>Topic 6</b><br>Words: jepara, prioritas, arah, bangun, kristiandi",
          "<b>Topic 6</b><br>Words: gue, kemenpupr, balok, ketiban, prihatin",
          "<b>Topic 6</b><br>Words: rakyat, fokus, bawah, cahari, jangkau"
         ],
         "marker": {
          "color": "#CC79A7"
         },
         "mode": "lines",
         "name": "6_enggak_demokrasi_gue_kalau",
         "type": "scatter",
         "x": [
          "2021-11-10T04:10:46.900000+00:00",
          "2021-11-13T04:19:21.533333+00:00",
          "2021-11-16T04:27:56.166666+00:00",
          "2021-11-19T04:36:30.800000+00:00",
          "2021-11-25T04:53:40.066666+00:00",
          "2021-11-28T05:02:14.700000+00:00",
          "2021-12-01T05:10:49.333333+00:00",
          "2021-12-10T05:36:33.233333+00:00",
          "2021-12-16T05:53:42.500000+00:00",
          "2021-12-19T06:02:17.133333+00:00",
          "2021-12-22T06:10:51.766666+00:00",
          "2021-12-25T06:19:26.400000+00:00",
          "2022-01-03T06:45:10.300000+00:00",
          "2022-01-06T06:53:44.933333+00:00",
          "2022-01-09T07:02:19.566666+00:00",
          "2022-01-12T07:10:54.200000+00:00",
          "2022-01-15T07:19:28.833333+00:00",
          "2022-01-18T07:28:03.466666+00:00",
          "2022-01-21T07:36:38.100000+00:00",
          "2022-01-24T07:45:12.733333+00:00"
         ],
         "y": [
          1,
          2,
          1,
          1,
          1,
          1,
          1,
          2,
          2,
          1,
          1,
          1,
          1,
          2,
          1,
          4,
          1,
          2,
          1,
          1
         ]
        },
        {
         "hoverinfo": "text",
         "hovertext": [
          "<b>Topic 7</b><br>Words: kamu, guna, mahasiswa, calon, jenjang",
          "<b>Topic 7</b><br>Words: suka, masuk, tinggi, misal, of",
          "<b>Topic 7</b><br>Words: kurikulum, standardisasi, bpip, kip, kuliah",
          "<b>Topic 7</b><br>Words: baru, lupa, gelar, punya, diri",
          "<b>Topic 7</b><br>Words: banyak, akhirakhir, nusantara, jatuh, pandawa",
          "<b>Topic 7</b><br>Words: kurikulum, daya, analis, mutu, enggak",
          "<b>Topic 7</b><br>Words: guru, indonesia, seluruh, hari, nasional",
          "<b>Topic 7</b><br>Words: guru, ajar, kalian, rakyat, berapa",
          "<b>Topic 7</b><br>Words: otsus, papua, maju, otonomi, wenang",
          "<b>Topic 7</b><br>Words: dprd, optimalisasi, bekas, anggar, peran",
          "<b>Topic 7</b><br>Words: pratama, cermin, simulasi, maklum, langgeng",
          "<b>Topic 7</b><br>Words: siswa, jauh, minat, mana, kurikulum",
          "<b>Topic 7</b><br>Words: pusbangpeg, pik, asn, sekolah, favorit",
          "<b>Topic 7</b><br>Words: ibu, tunggal, sebar, diklat, bas",
          "<b>Topic 7</b><br>Words: kurikulum, dapat, enggak, tawur, soft",
          "<b>Topic 7</b><br>Words: pkl, jawabarat, tahun, dinas, gais",
          "<b>Topic 7</b><br>Words: nasional, sda, amp, daerah, merdeka",
          "<b>Topic 7</b><br>Words: covid, risiko, sector, mdmc, pamekasan",
          "<b>Topic 7</b><br>Words: pekanbaru, pusat, hari, kalender, januari",
          "<b>Topic 7</b><br>Words: kkn, guru, mahasiswa, riset, bidangnyaaa",
          "<b>Topic 7</b><br>Words: guru, prototipe, kurikulum, buat, bagaimana",
          "<b>Topic 7</b><br>Words: kalau, sih, buang, kembali, degree",
          "<b>Topic 7</b><br>Words: papua, negeri, asli, meski, barat",
          "<b>Topic 7</b><br>Words: kurikulum, kemendikbudristek, anindito, obrol, aditomo",
          "<b>Topic 7</b><br>Words: ptn, makin, perintah, program, tingkat",
          "<b>Topic 7</b><br>Words: industri, jalan, pangan, amp, bidang",
          "<b>Topic 7</b><br>Words: satu, program, guru, dapodik, indonesia"
         ],
         "marker": {
          "color": "#E69F00"
         },
         "mode": "lines",
         "name": "7_guru_kurikulum_perintah_indonesia",
         "type": "scatter",
         "x": [
          "2021-11-01T01:35:11.560999+00:00",
          "2021-11-07T04:02:12.266666+00:00",
          "2021-11-10T04:10:46.900000+00:00",
          "2021-11-13T04:19:21.533333+00:00",
          "2021-11-16T04:27:56.166666+00:00",
          "2021-11-19T04:36:30.800000+00:00",
          "2021-11-22T04:45:05.433333+00:00",
          "2021-11-25T04:53:40.066666+00:00",
          "2021-11-28T05:02:14.700000+00:00",
          "2021-12-01T05:10:49.333333+00:00",
          "2021-12-04T05:19:23.966666+00:00",
          "2021-12-13T05:45:07.866666+00:00",
          "2021-12-16T05:53:42.500000+00:00",
          "2021-12-19T06:02:17.133333+00:00",
          "2021-12-22T06:10:51.766666+00:00",
          "2021-12-25T06:19:26.400000+00:00",
          "2021-12-28T06:28:01.033333+00:00",
          "2021-12-31T06:36:35.666666+00:00",
          "2022-01-03T06:45:10.300000+00:00",
          "2022-01-06T06:53:44.933333+00:00",
          "2022-01-09T07:02:19.566666+00:00",
          "2022-01-12T07:10:54.200000+00:00",
          "2022-01-15T07:19:28.833333+00:00",
          "2022-01-18T07:28:03.466666+00:00",
          "2022-01-21T07:36:38.100000+00:00",
          "2022-01-24T07:45:12.733333+00:00",
          "2022-01-27T07:53:47.366666+00:00"
         ],
         "y": [
          3,
          2,
          4,
          4,
          3,
          5,
          12,
          6,
          2,
          5,
          3,
          6,
          2,
          6,
          3,
          1,
          5,
          3,
          5,
          4,
          11,
          2,
          2,
          6,
          6,
          7,
          7
         ]
        },
        {
         "hoverinfo": "text",
         "hovertext": [
          "<b>Topic 8</b><br>Words: yuk, menteri, ppks, penuh, kena",
          "<b>Topic 8</b><br>Words: lu, menteri, pdip, jadi, hari",
          "<b>Topic 8</b><br>Words: surabaya, bumn, rakyat, menteri, kena",
          "<b>Topic 8</b><br>Words: pas, menteri, jadi, pjj, gua",
          "<b>Topic 8</b><br>Words: mu, menteri, tahap, manggarai, kabar",
          "<b>Topic 8</b><br>Words: demokrat, ahy, bambang, susilo, bareng",
          "<b>Topic 8</b><br>Words: sifat, tindas, senggol, bos, tuan",
          "<b>Topic 8</b><br>Words: dong, vaksin, putus, anakanak, hubung"
         ],
         "marker": {
          "color": "#56B4E9"
         },
         "mode": "lines",
         "name": "8_menteri_yuk_kena_jadi",
         "type": "scatter",
         "x": [
          "2021-11-10T04:10:46.900000+00:00",
          "2021-11-13T04:19:21.533333+00:00",
          "2021-11-28T05:02:14.700000+00:00",
          "2021-12-13T05:45:07.866666+00:00",
          "2021-12-22T06:10:51.766666+00:00",
          "2022-01-03T06:45:10.300000+00:00",
          "2022-01-09T07:02:19.566666+00:00",
          "2022-01-27T07:53:47.366666+00:00"
         ],
         "y": [
          11,
          3,
          3,
          1,
          2,
          1,
          1,
          1
         ]
        }
       ],
       "layout": {
        "height": 450,
        "hoverlabel": {
         "bgcolor": "white",
         "font": {
          "family": "Rockwell",
          "size": 16
         }
        },
        "legend": {
         "title": {
          "text": "<b>Global Topic Representation"
         }
        },
        "template": {
         "data": {
          "bar": [
           {
            "error_x": {
             "color": "rgb(36,36,36)"
            },
            "error_y": {
             "color": "rgb(36,36,36)"
            },
            "marker": {
             "line": {
              "color": "white",
              "width": 0.5
             },
             "pattern": {
              "fillmode": "overlay",
              "size": 10,
              "solidity": 0.2
             }
            },
            "type": "bar"
           }
          ],
          "barpolar": [
           {
            "marker": {
             "line": {
              "color": "white",
              "width": 0.5
             },
             "pattern": {
              "fillmode": "overlay",
              "size": 10,
              "solidity": 0.2
             }
            },
            "type": "barpolar"
           }
          ],
          "carpet": [
           {
            "aaxis": {
             "endlinecolor": "rgb(36,36,36)",
             "gridcolor": "white",
             "linecolor": "white",
             "minorgridcolor": "white",
             "startlinecolor": "rgb(36,36,36)"
            },
            "baxis": {
             "endlinecolor": "rgb(36,36,36)",
             "gridcolor": "white",
             "linecolor": "white",
             "minorgridcolor": "white",
             "startlinecolor": "rgb(36,36,36)"
            },
            "type": "carpet"
           }
          ],
          "choropleth": [
           {
            "colorbar": {
             "outlinewidth": 1,
             "tickcolor": "rgb(36,36,36)",
             "ticks": "outside"
            },
            "type": "choropleth"
           }
          ],
          "contour": [
           {
            "colorbar": {
             "outlinewidth": 1,
             "tickcolor": "rgb(36,36,36)",
             "ticks": "outside"
            },
            "colorscale": [
             [
              0,
              "#440154"
             ],
             [
              0.1111111111111111,
              "#482878"
             ],
             [
              0.2222222222222222,
              "#3e4989"
             ],
             [
              0.3333333333333333,
              "#31688e"
             ],
             [
              0.4444444444444444,
              "#26828e"
             ],
             [
              0.5555555555555556,
              "#1f9e89"
             ],
             [
              0.6666666666666666,
              "#35b779"
             ],
             [
              0.7777777777777778,
              "#6ece58"
             ],
             [
              0.8888888888888888,
              "#b5de2b"
             ],
             [
              1,
              "#fde725"
             ]
            ],
            "type": "contour"
           }
          ],
          "contourcarpet": [
           {
            "colorbar": {
             "outlinewidth": 1,
             "tickcolor": "rgb(36,36,36)",
             "ticks": "outside"
            },
            "type": "contourcarpet"
           }
          ],
          "heatmap": [
           {
            "colorbar": {
             "outlinewidth": 1,
             "tickcolor": "rgb(36,36,36)",
             "ticks": "outside"
            },
            "colorscale": [
             [
              0,
              "#440154"
             ],
             [
              0.1111111111111111,
              "#482878"
             ],
             [
              0.2222222222222222,
              "#3e4989"
             ],
             [
              0.3333333333333333,
              "#31688e"
             ],
             [
              0.4444444444444444,
              "#26828e"
             ],
             [
              0.5555555555555556,
              "#1f9e89"
             ],
             [
              0.6666666666666666,
              "#35b779"
             ],
             [
              0.7777777777777778,
              "#6ece58"
             ],
             [
              0.8888888888888888,
              "#b5de2b"
             ],
             [
              1,
              "#fde725"
             ]
            ],
            "type": "heatmap"
           }
          ],
          "heatmapgl": [
           {
            "colorbar": {
             "outlinewidth": 1,
             "tickcolor": "rgb(36,36,36)",
             "ticks": "outside"
            },
            "colorscale": [
             [
              0,
              "#440154"
             ],
             [
              0.1111111111111111,
              "#482878"
             ],
             [
              0.2222222222222222,
              "#3e4989"
             ],
             [
              0.3333333333333333,
              "#31688e"
             ],
             [
              0.4444444444444444,
              "#26828e"
             ],
             [
              0.5555555555555556,
              "#1f9e89"
             ],
             [
              0.6666666666666666,
              "#35b779"
             ],
             [
              0.7777777777777778,
              "#6ece58"
             ],
             [
              0.8888888888888888,
              "#b5de2b"
             ],
             [
              1,
              "#fde725"
             ]
            ],
            "type": "heatmapgl"
           }
          ],
          "histogram": [
           {
            "marker": {
             "line": {
              "color": "white",
              "width": 0.6
             }
            },
            "type": "histogram"
           }
          ],
          "histogram2d": [
           {
            "colorbar": {
             "outlinewidth": 1,
             "tickcolor": "rgb(36,36,36)",
             "ticks": "outside"
            },
            "colorscale": [
             [
              0,
              "#440154"
             ],
             [
              0.1111111111111111,
              "#482878"
             ],
             [
              0.2222222222222222,
              "#3e4989"
             ],
             [
              0.3333333333333333,
              "#31688e"
             ],
             [
              0.4444444444444444,
              "#26828e"
             ],
             [
              0.5555555555555556,
              "#1f9e89"
             ],
             [
              0.6666666666666666,
              "#35b779"
             ],
             [
              0.7777777777777778,
              "#6ece58"
             ],
             [
              0.8888888888888888,
              "#b5de2b"
             ],
             [
              1,
              "#fde725"
             ]
            ],
            "type": "histogram2d"
           }
          ],
          "histogram2dcontour": [
           {
            "colorbar": {
             "outlinewidth": 1,
             "tickcolor": "rgb(36,36,36)",
             "ticks": "outside"
            },
            "colorscale": [
             [
              0,
              "#440154"
             ],
             [
              0.1111111111111111,
              "#482878"
             ],
             [
              0.2222222222222222,
              "#3e4989"
             ],
             [
              0.3333333333333333,
              "#31688e"
             ],
             [
              0.4444444444444444,
              "#26828e"
             ],
             [
              0.5555555555555556,
              "#1f9e89"
             ],
             [
              0.6666666666666666,
              "#35b779"
             ],
             [
              0.7777777777777778,
              "#6ece58"
             ],
             [
              0.8888888888888888,
              "#b5de2b"
             ],
             [
              1,
              "#fde725"
             ]
            ],
            "type": "histogram2dcontour"
           }
          ],
          "mesh3d": [
           {
            "colorbar": {
             "outlinewidth": 1,
             "tickcolor": "rgb(36,36,36)",
             "ticks": "outside"
            },
            "type": "mesh3d"
           }
          ],
          "parcoords": [
           {
            "line": {
             "colorbar": {
              "outlinewidth": 1,
              "tickcolor": "rgb(36,36,36)",
              "ticks": "outside"
             }
            },
            "type": "parcoords"
           }
          ],
          "pie": [
           {
            "automargin": true,
            "type": "pie"
           }
          ],
          "scatter": [
           {
            "fillpattern": {
             "fillmode": "overlay",
             "size": 10,
             "solidity": 0.2
            },
            "type": "scatter"
           }
          ],
          "scatter3d": [
           {
            "line": {
             "colorbar": {
              "outlinewidth": 1,
              "tickcolor": "rgb(36,36,36)",
              "ticks": "outside"
             }
            },
            "marker": {
             "colorbar": {
              "outlinewidth": 1,
              "tickcolor": "rgb(36,36,36)",
              "ticks": "outside"
             }
            },
            "type": "scatter3d"
           }
          ],
          "scattercarpet": [
           {
            "marker": {
             "colorbar": {
              "outlinewidth": 1,
              "tickcolor": "rgb(36,36,36)",
              "ticks": "outside"
             }
            },
            "type": "scattercarpet"
           }
          ],
          "scattergeo": [
           {
            "marker": {
             "colorbar": {
              "outlinewidth": 1,
              "tickcolor": "rgb(36,36,36)",
              "ticks": "outside"
             }
            },
            "type": "scattergeo"
           }
          ],
          "scattergl": [
           {
            "marker": {
             "colorbar": {
              "outlinewidth": 1,
              "tickcolor": "rgb(36,36,36)",
              "ticks": "outside"
             }
            },
            "type": "scattergl"
           }
          ],
          "scattermapbox": [
           {
            "marker": {
             "colorbar": {
              "outlinewidth": 1,
              "tickcolor": "rgb(36,36,36)",
              "ticks": "outside"
             }
            },
            "type": "scattermapbox"
           }
          ],
          "scatterpolar": [
           {
            "marker": {
             "colorbar": {
              "outlinewidth": 1,
              "tickcolor": "rgb(36,36,36)",
              "ticks": "outside"
             }
            },
            "type": "scatterpolar"
           }
          ],
          "scatterpolargl": [
           {
            "marker": {
             "colorbar": {
              "outlinewidth": 1,
              "tickcolor": "rgb(36,36,36)",
              "ticks": "outside"
             }
            },
            "type": "scatterpolargl"
           }
          ],
          "scatterternary": [
           {
            "marker": {
             "colorbar": {
              "outlinewidth": 1,
              "tickcolor": "rgb(36,36,36)",
              "ticks": "outside"
             }
            },
            "type": "scatterternary"
           }
          ],
          "surface": [
           {
            "colorbar": {
             "outlinewidth": 1,
             "tickcolor": "rgb(36,36,36)",
             "ticks": "outside"
            },
            "colorscale": [
             [
              0,
              "#440154"
             ],
             [
              0.1111111111111111,
              "#482878"
             ],
             [
              0.2222222222222222,
              "#3e4989"
             ],
             [
              0.3333333333333333,
              "#31688e"
             ],
             [
              0.4444444444444444,
              "#26828e"
             ],
             [
              0.5555555555555556,
              "#1f9e89"
             ],
             [
              0.6666666666666666,
              "#35b779"
             ],
             [
              0.7777777777777778,
              "#6ece58"
             ],
             [
              0.8888888888888888,
              "#b5de2b"
             ],
             [
              1,
              "#fde725"
             ]
            ],
            "type": "surface"
           }
          ],
          "table": [
           {
            "cells": {
             "fill": {
              "color": "rgb(237,237,237)"
             },
             "line": {
              "color": "white"
             }
            },
            "header": {
             "fill": {
              "color": "rgb(217,217,217)"
             },
             "line": {
              "color": "white"
             }
            },
            "type": "table"
           }
          ]
         },
         "layout": {
          "annotationdefaults": {
           "arrowhead": 0,
           "arrowwidth": 1
          },
          "autotypenumbers": "strict",
          "coloraxis": {
           "colorbar": {
            "outlinewidth": 1,
            "tickcolor": "rgb(36,36,36)",
            "ticks": "outside"
           }
          },
          "colorscale": {
           "diverging": [
            [
             0,
             "rgb(103,0,31)"
            ],
            [
             0.1,
             "rgb(178,24,43)"
            ],
            [
             0.2,
             "rgb(214,96,77)"
            ],
            [
             0.3,
             "rgb(244,165,130)"
            ],
            [
             0.4,
             "rgb(253,219,199)"
            ],
            [
             0.5,
             "rgb(247,247,247)"
            ],
            [
             0.6,
             "rgb(209,229,240)"
            ],
            [
             0.7,
             "rgb(146,197,222)"
            ],
            [
             0.8,
             "rgb(67,147,195)"
            ],
            [
             0.9,
             "rgb(33,102,172)"
            ],
            [
             1,
             "rgb(5,48,97)"
            ]
           ],
           "sequential": [
            [
             0,
             "#440154"
            ],
            [
             0.1111111111111111,
             "#482878"
            ],
            [
             0.2222222222222222,
             "#3e4989"
            ],
            [
             0.3333333333333333,
             "#31688e"
            ],
            [
             0.4444444444444444,
             "#26828e"
            ],
            [
             0.5555555555555556,
             "#1f9e89"
            ],
            [
             0.6666666666666666,
             "#35b779"
            ],
            [
             0.7777777777777778,
             "#6ece58"
            ],
            [
             0.8888888888888888,
             "#b5de2b"
            ],
            [
             1,
             "#fde725"
            ]
           ],
           "sequentialminus": [
            [
             0,
             "#440154"
            ],
            [
             0.1111111111111111,
             "#482878"
            ],
            [
             0.2222222222222222,
             "#3e4989"
            ],
            [
             0.3333333333333333,
             "#31688e"
            ],
            [
             0.4444444444444444,
             "#26828e"
            ],
            [
             0.5555555555555556,
             "#1f9e89"
            ],
            [
             0.6666666666666666,
             "#35b779"
            ],
            [
             0.7777777777777778,
             "#6ece58"
            ],
            [
             0.8888888888888888,
             "#b5de2b"
            ],
            [
             1,
             "#fde725"
            ]
           ]
          },
          "colorway": [
           "#1F77B4",
           "#FF7F0E",
           "#2CA02C",
           "#D62728",
           "#9467BD",
           "#8C564B",
           "#E377C2",
           "#7F7F7F",
           "#BCBD22",
           "#17BECF"
          ],
          "font": {
           "color": "rgb(36,36,36)"
          },
          "geo": {
           "bgcolor": "white",
           "lakecolor": "white",
           "landcolor": "white",
           "showlakes": true,
           "showland": true,
           "subunitcolor": "white"
          },
          "hoverlabel": {
           "align": "left"
          },
          "hovermode": "closest",
          "mapbox": {
           "style": "light"
          },
          "paper_bgcolor": "white",
          "plot_bgcolor": "white",
          "polar": {
           "angularaxis": {
            "gridcolor": "rgb(232,232,232)",
            "linecolor": "rgb(36,36,36)",
            "showgrid": false,
            "showline": true,
            "ticks": "outside"
           },
           "bgcolor": "white",
           "radialaxis": {
            "gridcolor": "rgb(232,232,232)",
            "linecolor": "rgb(36,36,36)",
            "showgrid": false,
            "showline": true,
            "ticks": "outside"
           }
          },
          "scene": {
           "xaxis": {
            "backgroundcolor": "white",
            "gridcolor": "rgb(232,232,232)",
            "gridwidth": 2,
            "linecolor": "rgb(36,36,36)",
            "showbackground": true,
            "showgrid": false,
            "showline": true,
            "ticks": "outside",
            "zeroline": false,
            "zerolinecolor": "rgb(36,36,36)"
           },
           "yaxis": {
            "backgroundcolor": "white",
            "gridcolor": "rgb(232,232,232)",
            "gridwidth": 2,
            "linecolor": "rgb(36,36,36)",
            "showbackground": true,
            "showgrid": false,
            "showline": true,
            "ticks": "outside",
            "zeroline": false,
            "zerolinecolor": "rgb(36,36,36)"
           },
           "zaxis": {
            "backgroundcolor": "white",
            "gridcolor": "rgb(232,232,232)",
            "gridwidth": 2,
            "linecolor": "rgb(36,36,36)",
            "showbackground": true,
            "showgrid": false,
            "showline": true,
            "ticks": "outside",
            "zeroline": false,
            "zerolinecolor": "rgb(36,36,36)"
           }
          },
          "shapedefaults": {
           "fillcolor": "black",
           "line": {
            "width": 0
           },
           "opacity": 0.3
          },
          "ternary": {
           "aaxis": {
            "gridcolor": "rgb(232,232,232)",
            "linecolor": "rgb(36,36,36)",
            "showgrid": false,
            "showline": true,
            "ticks": "outside"
           },
           "baxis": {
            "gridcolor": "rgb(232,232,232)",
            "linecolor": "rgb(36,36,36)",
            "showgrid": false,
            "showline": true,
            "ticks": "outside"
           },
           "bgcolor": "white",
           "caxis": {
            "gridcolor": "rgb(232,232,232)",
            "linecolor": "rgb(36,36,36)",
            "showgrid": false,
            "showline": true,
            "ticks": "outside"
           }
          },
          "title": {
           "x": 0.05
          },
          "xaxis": {
           "automargin": true,
           "gridcolor": "rgb(232,232,232)",
           "linecolor": "rgb(36,36,36)",
           "showgrid": false,
           "showline": true,
           "ticks": "outside",
           "title": {
            "standoff": 15
           },
           "zeroline": false,
           "zerolinecolor": "rgb(36,36,36)"
          },
          "yaxis": {
           "automargin": true,
           "gridcolor": "rgb(232,232,232)",
           "linecolor": "rgb(36,36,36)",
           "showgrid": false,
           "showline": true,
           "ticks": "outside",
           "title": {
            "standoff": 15
           },
           "zeroline": false,
           "zerolinecolor": "rgb(36,36,36)"
          }
         }
        },
        "title": {
         "font": {
          "color": "Black",
          "size": 22
         },
         "text": "Topics Over Time for 2021_11-2022_01",
         "x": 0.4,
         "xanchor": "center",
         "y": 0.95,
         "yanchor": "top"
        },
        "width": 1250,
        "xaxis": {
         "showgrid": true
        },
        "yaxis": {
         "showgrid": true,
         "title": {
          "text": "Frequency"
         }
        }
       }
      }
     },
     "metadata": {},
     "output_type": "display_data"
    },
    {
     "data": {
      "application/vnd.plotly.v1+json": {
       "config": {
        "plotlyServerURL": "https://plot.ly"
       },
       "data": [
        {
         "hoverinfo": "text",
         "hovertext": [
          "<b>Topic 0</b><br>Words: gus, penting, sehat, pimpin, sayang",
          "<b>Topic 0</b><br>Words: biaya, ikut, tingkat, nol, plt",
          "<b>Topic 0</b><br>Words: kurikulum, orangorang, paling, waka, dosa",
          "<b>Topic 0</b><br>Words: hidup, banyak, sosial, baik, jamin",
          "<b>Topic 0</b><br>Words: atur, universitas, sanksi, denda, besar",
          "<b>Topic 0</b><br>Words: masyarakat, buat, hukum, lingkung, indonesia",
          "<b>Topic 0</b><br>Words: tingkat, layan, kronis, capai, rancang",
          "<b>Topic 0</b><br>Words: sendiri, asli, mutu, beasiswa, ada",
          "<b>Topic 0</b><br>Words: papua, jaya, nkri, luncur, asli",
          "<b>Topic 0</b><br>Words: bbm, serah, hrbat, indeks, biasa",
          "<b>Topic 0</b><br>Words: ksenjangan, sehat, tingkat, harmonis, timbul",
          "<b>Topic 0</b><br>Words: bop, dana, perintah, tingkat, disdikbud",
          "<b>Topic 0</b><br>Words: akselerasi, dana, tingkat, reformasi, yakin",
          "<b>Topic 0</b><br>Words: tingkat, sehat, prioritas, miskin, jumlah",
          "<b>Topic 0</b><br>Words: tingkat, sehat, tahun, ekonomi, daya",
          "<b>Topic 0</b><br>Words: ppn, monoarfa, suharso, ekstrem, turun",
          "<b>Topic 0</b><br>Words: abad, tantang, global, tingkat, sehat",
          "<b>Topic 0</b><br>Words: publik, produk, kontroversial, minim, nasional",
          "<b>Topic 0</b><br>Words: sektor, tingkat, buat, indonesia, tahun"
         ],
         "marker": {
          "color": "#E69F00"
         },
         "mode": "lines",
         "name": "0_tingkat_sehat_perintah_daya",
         "type": "scatter",
         "x": [
          "2022-02-02T21:17:23.266666+00:00",
          "2022-02-03T17:18:35.400000+00:00",
          "2022-02-04T13:19:47.533333+00:00",
          "2022-02-06T05:22:11.800000+00:00",
          "2022-02-07T01:23:23.933333+00:00",
          "2022-02-07T21:24:36.066666+00:00",
          "2022-02-08T17:25:48.200000+00:00",
          "2022-02-09T13:27:00.333333+00:00",
          "2022-02-10T09:28:12.466666+00:00",
          "2022-02-12T21:31:48.866666+00:00",
          "2022-02-13T17:33:01+00:00",
          "2022-02-14T13:34:13.133333+00:00",
          "2022-02-15T09:35:25.266666+00:00",
          "2022-02-17T01:37:49.533333+00:00",
          "2022-02-17T21:39:01.666666+00:00",
          "2022-02-18T17:40:13.800000+00:00",
          "2022-02-21T05:43:50.200000+00:00",
          "2022-02-22T21:46:14.466666+00:00",
          "2022-02-23T17:47:26.600000+00:00"
         ],
         "y": [
          1,
          2,
          1,
          1,
          1,
          3,
          1,
          1,
          2,
          1,
          2,
          2,
          3,
          3,
          5,
          2,
          1,
          2,
          2
         ]
        },
        {
         "hoverinfo": "text",
         "hovertext": [
          "<b>Topic 1</b><br>Words: ii, depok, wilayah, kcd, guru",
          "<b>Topic 1</b><br>Words: tular, penting, satu, siur, lolos",
          "<b>Topic 1</b><br>Words: cepat, learning, sakuareeeepmu, ndul, mingkem",
          "<b>Topic 1</b><br>Words: rencana, lho, eksekusi, cuma, tinggal",
          "<b>Topic 1</b><br>Words: susah, bayar, enggak, minta, bandar",
          "<b>Topic 1</b><br>Words: tangsel, dewan, apreasiasi, tegur, cianjur",
          "<b>Topic 1</b><br>Words: sekolah, yahya, muhaimin, aku, era",
          "<b>Topic 1</b><br>Words: guru, pak, usai, senin, vihara",
          "<b>Topic 1</b><br>Words: jalan, salam, tempat, min, ayo",
          "<b>Topic 1</b><br>Words: its, direktorat, gate, bem, biro",
          "<b>Topic 1</b><br>Words: belanda, semester, perempuan, tahun, tempuh",
          "<b>Topic 1</b><br>Words: kurikulum, alas, wawancara, sila, wajah",
          "<b>Topic 1</b><br>Words: sch, cokelat, anjing, makan, trivia",
          "<b>Topic 1</b><br>Words: edisi, nuwun, bukti, buku, matur",
          "<b>Topic 1</b><br>Words: ajar, report, kakakkakak, larang, cm",
          "<b>Topic 1</b><br>Words: anda, kalo, kata, pakai, sekolah",
          "<b>Topic 1</b><br>Words: bpjs, pakai, jangan, bicara, bikin"
         ],
         "marker": {
          "color": "#56B4E9"
         },
         "mode": "lines",
         "name": "1_pakai_guru_sekolah_its",
         "type": "scatter",
         "x": [
          "2022-02-01T04:38:56.836000+00:00",
          "2022-02-02T21:17:23.266666+00:00",
          "2022-02-03T17:18:35.400000+00:00",
          "2022-02-06T05:22:11.800000+00:00",
          "2022-02-07T01:23:23.933333+00:00",
          "2022-02-08T17:25:48.200000+00:00",
          "2022-02-09T13:27:00.333333+00:00",
          "2022-02-10T09:28:12.466666+00:00",
          "2022-02-12T01:30:36.733333+00:00",
          "2022-02-12T21:31:48.866666+00:00",
          "2022-02-17T01:37:49.533333+00:00",
          "2022-02-17T21:39:01.666666+00:00",
          "2022-02-18T17:40:13.800000+00:00",
          "2022-02-22T01:45:02.333333+00:00",
          "2022-02-22T21:46:14.466666+00:00",
          "2022-02-23T17:47:26.600000+00:00",
          "2022-02-25T09:49:50.866666+00:00"
         ],
         "y": [
          3,
          2,
          2,
          1,
          2,
          2,
          1,
          2,
          2,
          1,
          2,
          1,
          1,
          1,
          3,
          3,
          2
         ]
        }
       ],
       "layout": {
        "height": 450,
        "hoverlabel": {
         "bgcolor": "white",
         "font": {
          "family": "Rockwell",
          "size": 16
         }
        },
        "legend": {
         "title": {
          "text": "<b>Global Topic Representation"
         }
        },
        "template": {
         "data": {
          "bar": [
           {
            "error_x": {
             "color": "rgb(36,36,36)"
            },
            "error_y": {
             "color": "rgb(36,36,36)"
            },
            "marker": {
             "line": {
              "color": "white",
              "width": 0.5
             },
             "pattern": {
              "fillmode": "overlay",
              "size": 10,
              "solidity": 0.2
             }
            },
            "type": "bar"
           }
          ],
          "barpolar": [
           {
            "marker": {
             "line": {
              "color": "white",
              "width": 0.5
             },
             "pattern": {
              "fillmode": "overlay",
              "size": 10,
              "solidity": 0.2
             }
            },
            "type": "barpolar"
           }
          ],
          "carpet": [
           {
            "aaxis": {
             "endlinecolor": "rgb(36,36,36)",
             "gridcolor": "white",
             "linecolor": "white",
             "minorgridcolor": "white",
             "startlinecolor": "rgb(36,36,36)"
            },
            "baxis": {
             "endlinecolor": "rgb(36,36,36)",
             "gridcolor": "white",
             "linecolor": "white",
             "minorgridcolor": "white",
             "startlinecolor": "rgb(36,36,36)"
            },
            "type": "carpet"
           }
          ],
          "choropleth": [
           {
            "colorbar": {
             "outlinewidth": 1,
             "tickcolor": "rgb(36,36,36)",
             "ticks": "outside"
            },
            "type": "choropleth"
           }
          ],
          "contour": [
           {
            "colorbar": {
             "outlinewidth": 1,
             "tickcolor": "rgb(36,36,36)",
             "ticks": "outside"
            },
            "colorscale": [
             [
              0,
              "#440154"
             ],
             [
              0.1111111111111111,
              "#482878"
             ],
             [
              0.2222222222222222,
              "#3e4989"
             ],
             [
              0.3333333333333333,
              "#31688e"
             ],
             [
              0.4444444444444444,
              "#26828e"
             ],
             [
              0.5555555555555556,
              "#1f9e89"
             ],
             [
              0.6666666666666666,
              "#35b779"
             ],
             [
              0.7777777777777778,
              "#6ece58"
             ],
             [
              0.8888888888888888,
              "#b5de2b"
             ],
             [
              1,
              "#fde725"
             ]
            ],
            "type": "contour"
           }
          ],
          "contourcarpet": [
           {
            "colorbar": {
             "outlinewidth": 1,
             "tickcolor": "rgb(36,36,36)",
             "ticks": "outside"
            },
            "type": "contourcarpet"
           }
          ],
          "heatmap": [
           {
            "colorbar": {
             "outlinewidth": 1,
             "tickcolor": "rgb(36,36,36)",
             "ticks": "outside"
            },
            "colorscale": [
             [
              0,
              "#440154"
             ],
             [
              0.1111111111111111,
              "#482878"
             ],
             [
              0.2222222222222222,
              "#3e4989"
             ],
             [
              0.3333333333333333,
              "#31688e"
             ],
             [
              0.4444444444444444,
              "#26828e"
             ],
             [
              0.5555555555555556,
              "#1f9e89"
             ],
             [
              0.6666666666666666,
              "#35b779"
             ],
             [
              0.7777777777777778,
              "#6ece58"
             ],
             [
              0.8888888888888888,
              "#b5de2b"
             ],
             [
              1,
              "#fde725"
             ]
            ],
            "type": "heatmap"
           }
          ],
          "heatmapgl": [
           {
            "colorbar": {
             "outlinewidth": 1,
             "tickcolor": "rgb(36,36,36)",
             "ticks": "outside"
            },
            "colorscale": [
             [
              0,
              "#440154"
             ],
             [
              0.1111111111111111,
              "#482878"
             ],
             [
              0.2222222222222222,
              "#3e4989"
             ],
             [
              0.3333333333333333,
              "#31688e"
             ],
             [
              0.4444444444444444,
              "#26828e"
             ],
             [
              0.5555555555555556,
              "#1f9e89"
             ],
             [
              0.6666666666666666,
              "#35b779"
             ],
             [
              0.7777777777777778,
              "#6ece58"
             ],
             [
              0.8888888888888888,
              "#b5de2b"
             ],
             [
              1,
              "#fde725"
             ]
            ],
            "type": "heatmapgl"
           }
          ],
          "histogram": [
           {
            "marker": {
             "line": {
              "color": "white",
              "width": 0.6
             }
            },
            "type": "histogram"
           }
          ],
          "histogram2d": [
           {
            "colorbar": {
             "outlinewidth": 1,
             "tickcolor": "rgb(36,36,36)",
             "ticks": "outside"
            },
            "colorscale": [
             [
              0,
              "#440154"
             ],
             [
              0.1111111111111111,
              "#482878"
             ],
             [
              0.2222222222222222,
              "#3e4989"
             ],
             [
              0.3333333333333333,
              "#31688e"
             ],
             [
              0.4444444444444444,
              "#26828e"
             ],
             [
              0.5555555555555556,
              "#1f9e89"
             ],
             [
              0.6666666666666666,
              "#35b779"
             ],
             [
              0.7777777777777778,
              "#6ece58"
             ],
             [
              0.8888888888888888,
              "#b5de2b"
             ],
             [
              1,
              "#fde725"
             ]
            ],
            "type": "histogram2d"
           }
          ],
          "histogram2dcontour": [
           {
            "colorbar": {
             "outlinewidth": 1,
             "tickcolor": "rgb(36,36,36)",
             "ticks": "outside"
            },
            "colorscale": [
             [
              0,
              "#440154"
             ],
             [
              0.1111111111111111,
              "#482878"
             ],
             [
              0.2222222222222222,
              "#3e4989"
             ],
             [
              0.3333333333333333,
              "#31688e"
             ],
             [
              0.4444444444444444,
              "#26828e"
             ],
             [
              0.5555555555555556,
              "#1f9e89"
             ],
             [
              0.6666666666666666,
              "#35b779"
             ],
             [
              0.7777777777777778,
              "#6ece58"
             ],
             [
              0.8888888888888888,
              "#b5de2b"
             ],
             [
              1,
              "#fde725"
             ]
            ],
            "type": "histogram2dcontour"
           }
          ],
          "mesh3d": [
           {
            "colorbar": {
             "outlinewidth": 1,
             "tickcolor": "rgb(36,36,36)",
             "ticks": "outside"
            },
            "type": "mesh3d"
           }
          ],
          "parcoords": [
           {
            "line": {
             "colorbar": {
              "outlinewidth": 1,
              "tickcolor": "rgb(36,36,36)",
              "ticks": "outside"
             }
            },
            "type": "parcoords"
           }
          ],
          "pie": [
           {
            "automargin": true,
            "type": "pie"
           }
          ],
          "scatter": [
           {
            "fillpattern": {
             "fillmode": "overlay",
             "size": 10,
             "solidity": 0.2
            },
            "type": "scatter"
           }
          ],
          "scatter3d": [
           {
            "line": {
             "colorbar": {
              "outlinewidth": 1,
              "tickcolor": "rgb(36,36,36)",
              "ticks": "outside"
             }
            },
            "marker": {
             "colorbar": {
              "outlinewidth": 1,
              "tickcolor": "rgb(36,36,36)",
              "ticks": "outside"
             }
            },
            "type": "scatter3d"
           }
          ],
          "scattercarpet": [
           {
            "marker": {
             "colorbar": {
              "outlinewidth": 1,
              "tickcolor": "rgb(36,36,36)",
              "ticks": "outside"
             }
            },
            "type": "scattercarpet"
           }
          ],
          "scattergeo": [
           {
            "marker": {
             "colorbar": {
              "outlinewidth": 1,
              "tickcolor": "rgb(36,36,36)",
              "ticks": "outside"
             }
            },
            "type": "scattergeo"
           }
          ],
          "scattergl": [
           {
            "marker": {
             "colorbar": {
              "outlinewidth": 1,
              "tickcolor": "rgb(36,36,36)",
              "ticks": "outside"
             }
            },
            "type": "scattergl"
           }
          ],
          "scattermapbox": [
           {
            "marker": {
             "colorbar": {
              "outlinewidth": 1,
              "tickcolor": "rgb(36,36,36)",
              "ticks": "outside"
             }
            },
            "type": "scattermapbox"
           }
          ],
          "scatterpolar": [
           {
            "marker": {
             "colorbar": {
              "outlinewidth": 1,
              "tickcolor": "rgb(36,36,36)",
              "ticks": "outside"
             }
            },
            "type": "scatterpolar"
           }
          ],
          "scatterpolargl": [
           {
            "marker": {
             "colorbar": {
              "outlinewidth": 1,
              "tickcolor": "rgb(36,36,36)",
              "ticks": "outside"
             }
            },
            "type": "scatterpolargl"
           }
          ],
          "scatterternary": [
           {
            "marker": {
             "colorbar": {
              "outlinewidth": 1,
              "tickcolor": "rgb(36,36,36)",
              "ticks": "outside"
             }
            },
            "type": "scatterternary"
           }
          ],
          "surface": [
           {
            "colorbar": {
             "outlinewidth": 1,
             "tickcolor": "rgb(36,36,36)",
             "ticks": "outside"
            },
            "colorscale": [
             [
              0,
              "#440154"
             ],
             [
              0.1111111111111111,
              "#482878"
             ],
             [
              0.2222222222222222,
              "#3e4989"
             ],
             [
              0.3333333333333333,
              "#31688e"
             ],
             [
              0.4444444444444444,
              "#26828e"
             ],
             [
              0.5555555555555556,
              "#1f9e89"
             ],
             [
              0.6666666666666666,
              "#35b779"
             ],
             [
              0.7777777777777778,
              "#6ece58"
             ],
             [
              0.8888888888888888,
              "#b5de2b"
             ],
             [
              1,
              "#fde725"
             ]
            ],
            "type": "surface"
           }
          ],
          "table": [
           {
            "cells": {
             "fill": {
              "color": "rgb(237,237,237)"
             },
             "line": {
              "color": "white"
             }
            },
            "header": {
             "fill": {
              "color": "rgb(217,217,217)"
             },
             "line": {
              "color": "white"
             }
            },
            "type": "table"
           }
          ]
         },
         "layout": {
          "annotationdefaults": {
           "arrowhead": 0,
           "arrowwidth": 1
          },
          "autotypenumbers": "strict",
          "coloraxis": {
           "colorbar": {
            "outlinewidth": 1,
            "tickcolor": "rgb(36,36,36)",
            "ticks": "outside"
           }
          },
          "colorscale": {
           "diverging": [
            [
             0,
             "rgb(103,0,31)"
            ],
            [
             0.1,
             "rgb(178,24,43)"
            ],
            [
             0.2,
             "rgb(214,96,77)"
            ],
            [
             0.3,
             "rgb(244,165,130)"
            ],
            [
             0.4,
             "rgb(253,219,199)"
            ],
            [
             0.5,
             "rgb(247,247,247)"
            ],
            [
             0.6,
             "rgb(209,229,240)"
            ],
            [
             0.7,
             "rgb(146,197,222)"
            ],
            [
             0.8,
             "rgb(67,147,195)"
            ],
            [
             0.9,
             "rgb(33,102,172)"
            ],
            [
             1,
             "rgb(5,48,97)"
            ]
           ],
           "sequential": [
            [
             0,
             "#440154"
            ],
            [
             0.1111111111111111,
             "#482878"
            ],
            [
             0.2222222222222222,
             "#3e4989"
            ],
            [
             0.3333333333333333,
             "#31688e"
            ],
            [
             0.4444444444444444,
             "#26828e"
            ],
            [
             0.5555555555555556,
             "#1f9e89"
            ],
            [
             0.6666666666666666,
             "#35b779"
            ],
            [
             0.7777777777777778,
             "#6ece58"
            ],
            [
             0.8888888888888888,
             "#b5de2b"
            ],
            [
             1,
             "#fde725"
            ]
           ],
           "sequentialminus": [
            [
             0,
             "#440154"
            ],
            [
             0.1111111111111111,
             "#482878"
            ],
            [
             0.2222222222222222,
             "#3e4989"
            ],
            [
             0.3333333333333333,
             "#31688e"
            ],
            [
             0.4444444444444444,
             "#26828e"
            ],
            [
             0.5555555555555556,
             "#1f9e89"
            ],
            [
             0.6666666666666666,
             "#35b779"
            ],
            [
             0.7777777777777778,
             "#6ece58"
            ],
            [
             0.8888888888888888,
             "#b5de2b"
            ],
            [
             1,
             "#fde725"
            ]
           ]
          },
          "colorway": [
           "#1F77B4",
           "#FF7F0E",
           "#2CA02C",
           "#D62728",
           "#9467BD",
           "#8C564B",
           "#E377C2",
           "#7F7F7F",
           "#BCBD22",
           "#17BECF"
          ],
          "font": {
           "color": "rgb(36,36,36)"
          },
          "geo": {
           "bgcolor": "white",
           "lakecolor": "white",
           "landcolor": "white",
           "showlakes": true,
           "showland": true,
           "subunitcolor": "white"
          },
          "hoverlabel": {
           "align": "left"
          },
          "hovermode": "closest",
          "mapbox": {
           "style": "light"
          },
          "paper_bgcolor": "white",
          "plot_bgcolor": "white",
          "polar": {
           "angularaxis": {
            "gridcolor": "rgb(232,232,232)",
            "linecolor": "rgb(36,36,36)",
            "showgrid": false,
            "showline": true,
            "ticks": "outside"
           },
           "bgcolor": "white",
           "radialaxis": {
            "gridcolor": "rgb(232,232,232)",
            "linecolor": "rgb(36,36,36)",
            "showgrid": false,
            "showline": true,
            "ticks": "outside"
           }
          },
          "scene": {
           "xaxis": {
            "backgroundcolor": "white",
            "gridcolor": "rgb(232,232,232)",
            "gridwidth": 2,
            "linecolor": "rgb(36,36,36)",
            "showbackground": true,
            "showgrid": false,
            "showline": true,
            "ticks": "outside",
            "zeroline": false,
            "zerolinecolor": "rgb(36,36,36)"
           },
           "yaxis": {
            "backgroundcolor": "white",
            "gridcolor": "rgb(232,232,232)",
            "gridwidth": 2,
            "linecolor": "rgb(36,36,36)",
            "showbackground": true,
            "showgrid": false,
            "showline": true,
            "ticks": "outside",
            "zeroline": false,
            "zerolinecolor": "rgb(36,36,36)"
           },
           "zaxis": {
            "backgroundcolor": "white",
            "gridcolor": "rgb(232,232,232)",
            "gridwidth": 2,
            "linecolor": "rgb(36,36,36)",
            "showbackground": true,
            "showgrid": false,
            "showline": true,
            "ticks": "outside",
            "zeroline": false,
            "zerolinecolor": "rgb(36,36,36)"
           }
          },
          "shapedefaults": {
           "fillcolor": "black",
           "line": {
            "width": 0
           },
           "opacity": 0.3
          },
          "ternary": {
           "aaxis": {
            "gridcolor": "rgb(232,232,232)",
            "linecolor": "rgb(36,36,36)",
            "showgrid": false,
            "showline": true,
            "ticks": "outside"
           },
           "baxis": {
            "gridcolor": "rgb(232,232,232)",
            "linecolor": "rgb(36,36,36)",
            "showgrid": false,
            "showline": true,
            "ticks": "outside"
           },
           "bgcolor": "white",
           "caxis": {
            "gridcolor": "rgb(232,232,232)",
            "linecolor": "rgb(36,36,36)",
            "showgrid": false,
            "showline": true,
            "ticks": "outside"
           }
          },
          "title": {
           "x": 0.05
          },
          "xaxis": {
           "automargin": true,
           "gridcolor": "rgb(232,232,232)",
           "linecolor": "rgb(36,36,36)",
           "showgrid": false,
           "showline": true,
           "ticks": "outside",
           "title": {
            "standoff": 15
           },
           "zeroline": false,
           "zerolinecolor": "rgb(36,36,36)"
          },
          "yaxis": {
           "automargin": true,
           "gridcolor": "rgb(232,232,232)",
           "linecolor": "rgb(36,36,36)",
           "showgrid": false,
           "showline": true,
           "ticks": "outside",
           "title": {
            "standoff": 15
           },
           "zeroline": false,
           "zerolinecolor": "rgb(36,36,36)"
          }
         }
        },
        "title": {
         "font": {
          "color": "Black",
          "size": 22
         },
         "text": "Topics Over Time for 2022_02-2022_04",
         "x": 0.4,
         "xanchor": "center",
         "y": 0.95,
         "yanchor": "top"
        },
        "width": 1250,
        "xaxis": {
         "showgrid": true
        },
        "yaxis": {
         "showgrid": true,
         "title": {
          "text": "Frequency"
         }
        }
       }
      }
     },
     "metadata": {},
     "output_type": "display_data"
    },
    {
     "data": {
      "application/vnd.plotly.v1+json": {
       "config": {
        "plotlyServerURL": "https://plot.ly"
       },
       "data": [
        {
         "hoverinfo": "text",
         "hovertext": [
          "<b>Topic 0</b><br>Words: temu, pandang, sampai, sebut, harap",
          "<b>Topic 0</b><br>Words: inklusif, kawal, bersamasama, mesti, implementasi",
          "<b>Topic 0</b><br>Words: inklusif, kawal, bersamasama, mesti, vamsa"
         ],
         "marker": {
          "color": "#E69F00"
         },
         "mode": "lines",
         "name": "0_inklusif_kawal_bersamasama_mesti",
         "type": "scatter",
         "x": [
          "2022-06-01T02:56:08+00:00",
          "2022-06-13T07:25:11.200000+00:00",
          "2022-06-16T08:32:27+00:00"
         ],
         "y": [
          1,
          22,
          3
         ]
        },
        {
         "hoverinfo": "text",
         "hovertext": [
          "<b>Topic 1</b><br>Words: indonesia, nasional, tingkat, baru, orde",
          "<b>Topic 1</b><br>Words: memang, masaalah, ibadah, panglima, batal",
          "<b>Topic 1</b><br>Words: pandemi, ajar, program, indonesia, vokasi",
          "<b>Topic 1</b><br>Words: model, intelektual, ajar, merdeka, strategi",
          "<b>Topic 1</b><br>Words: standard, mampu, sektor, masyarakat, sistem",
          "<b>Topic 1</b><br>Words: manfaat, merdeka, infrastruktur, akselerasi, tegah",
          "<b>Topic 1</b><br>Words: siswa, miskin, bantu, sekolah, layan",
          "<b>Topic 1</b><br>Words: aliansi, indonesia, pandang, sampai, kait",
          "<b>Topic 1</b><br>Words: indonesia, aliansi, masuk, presiden, selenggara",
          "<b>Topic 1</b><br>Words: bukan, jadi, perintah, borobudur, ritual",
          "<b>Topic 1</b><br>Words: tenaga, honorer, lebih, amp, hapus",
          "<b>Topic 1</b><br>Words: bahasa, stabilitas, pasti, alokasi, anggar",
          "<b>Topic 1</b><br>Words: seluruh, layan, pulih, mang, indonesia",
          "<b>Topic 1</b><br>Words: indonesia, tingkat, rilis, ristek, perintah",
          "<b>Topic 1</b><br>Words: survei, ojol, swasta, hitung, tak",
          "<b>Topic 1</b><br>Words: jadi, kurikulum, jurnal, indonesia, sekarang",
          "<b>Topic 1</b><br>Words: perempuan, ajar, publik, tingkat, olahraga",
          "<b>Topic 1</b><br>Words: olahraga, dokumen, anies, rekreasi, dbon",
          "<b>Topic 1</b><br>Words: padang, besok, tpk, juli, kepala",
          "<b>Topic 1</b><br>Words: kritisi, merdeka, sama, ajar, indonesia",
          "<b>Topic 1</b><br>Words: baru, perintah, sama, merdeka, sekolah",
          "<b>Topic 1</b><br>Words: merdeka, uny, teknologi, buat, menteri",
          "<b>Topic 1</b><br>Words: merdeka, ajar, indonesia, bidang, perintah",
          "<b>Topic 1</b><br>Words: merdeka, guru, ajar, gerak, solusi",
          "<b>Topic 1</b><br>Words: enggak, halmahera, utara, provinsi, kalo",
          "<b>Topic 1</b><br>Words: agama, merdeka, ajar, islam, indonesia",
          "<b>Topic 1</b><br>Words: tri, jilbab, cara, advokasi, dunia"
         ],
         "marker": {
          "color": "#56B4E9"
         },
         "mode": "lines",
         "name": "1_indonesia_merdeka_ajar_perintah",
         "type": "scatter",
         "x": [
          "2022-05-01T13:31:52.926000+00:00",
          "2022-05-04T16:50:45.800000+00:00",
          "2022-05-10T19:05:17.400000+00:00",
          "2022-05-13T20:12:33.200000+00:00",
          "2022-05-19T22:27:04.800000+00:00",
          "2022-05-22T23:34:20.600000+00:00",
          "2022-05-26T00:41:36.400000+00:00",
          "2022-05-29T01:48:52.200000+00:00",
          "2022-06-01T02:56:08+00:00",
          "2022-06-04T04:03:23.800000+00:00",
          "2022-06-07T05:10:39.600000+00:00",
          "2022-06-10T06:17:55.400000+00:00",
          "2022-06-13T07:25:11.200000+00:00",
          "2022-06-16T08:32:27+00:00",
          "2022-06-19T09:39:42.800000+00:00",
          "2022-06-22T10:46:58.600000+00:00",
          "2022-06-25T11:54:14.400000+00:00",
          "2022-06-28T13:01:30.200000+00:00",
          "2022-07-04T15:16:01.800000+00:00",
          "2022-07-07T16:23:17.600000+00:00",
          "2022-07-10T17:30:33.400000+00:00",
          "2022-07-13T18:37:49.200000+00:00",
          "2022-07-16T19:45:05+00:00",
          "2022-07-19T20:52:20.800000+00:00",
          "2022-07-22T21:59:36.600000+00:00",
          "2022-07-25T23:06:52.400000+00:00",
          "2022-07-29T00:14:08.200000+00:00"
         ],
         "y": [
          7,
          2,
          14,
          6,
          4,
          8,
          24,
          25,
          16,
          6,
          7,
          9,
          20,
          13,
          5,
          11,
          19,
          7,
          2,
          12,
          15,
          15,
          30,
          15,
          9,
          21,
          11
         ]
        }
       ],
       "layout": {
        "height": 450,
        "hoverlabel": {
         "bgcolor": "white",
         "font": {
          "family": "Rockwell",
          "size": 16
         }
        },
        "legend": {
         "title": {
          "text": "<b>Global Topic Representation"
         }
        },
        "template": {
         "data": {
          "bar": [
           {
            "error_x": {
             "color": "rgb(36,36,36)"
            },
            "error_y": {
             "color": "rgb(36,36,36)"
            },
            "marker": {
             "line": {
              "color": "white",
              "width": 0.5
             },
             "pattern": {
              "fillmode": "overlay",
              "size": 10,
              "solidity": 0.2
             }
            },
            "type": "bar"
           }
          ],
          "barpolar": [
           {
            "marker": {
             "line": {
              "color": "white",
              "width": 0.5
             },
             "pattern": {
              "fillmode": "overlay",
              "size": 10,
              "solidity": 0.2
             }
            },
            "type": "barpolar"
           }
          ],
          "carpet": [
           {
            "aaxis": {
             "endlinecolor": "rgb(36,36,36)",
             "gridcolor": "white",
             "linecolor": "white",
             "minorgridcolor": "white",
             "startlinecolor": "rgb(36,36,36)"
            },
            "baxis": {
             "endlinecolor": "rgb(36,36,36)",
             "gridcolor": "white",
             "linecolor": "white",
             "minorgridcolor": "white",
             "startlinecolor": "rgb(36,36,36)"
            },
            "type": "carpet"
           }
          ],
          "choropleth": [
           {
            "colorbar": {
             "outlinewidth": 1,
             "tickcolor": "rgb(36,36,36)",
             "ticks": "outside"
            },
            "type": "choropleth"
           }
          ],
          "contour": [
           {
            "colorbar": {
             "outlinewidth": 1,
             "tickcolor": "rgb(36,36,36)",
             "ticks": "outside"
            },
            "colorscale": [
             [
              0,
              "#440154"
             ],
             [
              0.1111111111111111,
              "#482878"
             ],
             [
              0.2222222222222222,
              "#3e4989"
             ],
             [
              0.3333333333333333,
              "#31688e"
             ],
             [
              0.4444444444444444,
              "#26828e"
             ],
             [
              0.5555555555555556,
              "#1f9e89"
             ],
             [
              0.6666666666666666,
              "#35b779"
             ],
             [
              0.7777777777777778,
              "#6ece58"
             ],
             [
              0.8888888888888888,
              "#b5de2b"
             ],
             [
              1,
              "#fde725"
             ]
            ],
            "type": "contour"
           }
          ],
          "contourcarpet": [
           {
            "colorbar": {
             "outlinewidth": 1,
             "tickcolor": "rgb(36,36,36)",
             "ticks": "outside"
            },
            "type": "contourcarpet"
           }
          ],
          "heatmap": [
           {
            "colorbar": {
             "outlinewidth": 1,
             "tickcolor": "rgb(36,36,36)",
             "ticks": "outside"
            },
            "colorscale": [
             [
              0,
              "#440154"
             ],
             [
              0.1111111111111111,
              "#482878"
             ],
             [
              0.2222222222222222,
              "#3e4989"
             ],
             [
              0.3333333333333333,
              "#31688e"
             ],
             [
              0.4444444444444444,
              "#26828e"
             ],
             [
              0.5555555555555556,
              "#1f9e89"
             ],
             [
              0.6666666666666666,
              "#35b779"
             ],
             [
              0.7777777777777778,
              "#6ece58"
             ],
             [
              0.8888888888888888,
              "#b5de2b"
             ],
             [
              1,
              "#fde725"
             ]
            ],
            "type": "heatmap"
           }
          ],
          "heatmapgl": [
           {
            "colorbar": {
             "outlinewidth": 1,
             "tickcolor": "rgb(36,36,36)",
             "ticks": "outside"
            },
            "colorscale": [
             [
              0,
              "#440154"
             ],
             [
              0.1111111111111111,
              "#482878"
             ],
             [
              0.2222222222222222,
              "#3e4989"
             ],
             [
              0.3333333333333333,
              "#31688e"
             ],
             [
              0.4444444444444444,
              "#26828e"
             ],
             [
              0.5555555555555556,
              "#1f9e89"
             ],
             [
              0.6666666666666666,
              "#35b779"
             ],
             [
              0.7777777777777778,
              "#6ece58"
             ],
             [
              0.8888888888888888,
              "#b5de2b"
             ],
             [
              1,
              "#fde725"
             ]
            ],
            "type": "heatmapgl"
           }
          ],
          "histogram": [
           {
            "marker": {
             "line": {
              "color": "white",
              "width": 0.6
             }
            },
            "type": "histogram"
           }
          ],
          "histogram2d": [
           {
            "colorbar": {
             "outlinewidth": 1,
             "tickcolor": "rgb(36,36,36)",
             "ticks": "outside"
            },
            "colorscale": [
             [
              0,
              "#440154"
             ],
             [
              0.1111111111111111,
              "#482878"
             ],
             [
              0.2222222222222222,
              "#3e4989"
             ],
             [
              0.3333333333333333,
              "#31688e"
             ],
             [
              0.4444444444444444,
              "#26828e"
             ],
             [
              0.5555555555555556,
              "#1f9e89"
             ],
             [
              0.6666666666666666,
              "#35b779"
             ],
             [
              0.7777777777777778,
              "#6ece58"
             ],
             [
              0.8888888888888888,
              "#b5de2b"
             ],
             [
              1,
              "#fde725"
             ]
            ],
            "type": "histogram2d"
           }
          ],
          "histogram2dcontour": [
           {
            "colorbar": {
             "outlinewidth": 1,
             "tickcolor": "rgb(36,36,36)",
             "ticks": "outside"
            },
            "colorscale": [
             [
              0,
              "#440154"
             ],
             [
              0.1111111111111111,
              "#482878"
             ],
             [
              0.2222222222222222,
              "#3e4989"
             ],
             [
              0.3333333333333333,
              "#31688e"
             ],
             [
              0.4444444444444444,
              "#26828e"
             ],
             [
              0.5555555555555556,
              "#1f9e89"
             ],
             [
              0.6666666666666666,
              "#35b779"
             ],
             [
              0.7777777777777778,
              "#6ece58"
             ],
             [
              0.8888888888888888,
              "#b5de2b"
             ],
             [
              1,
              "#fde725"
             ]
            ],
            "type": "histogram2dcontour"
           }
          ],
          "mesh3d": [
           {
            "colorbar": {
             "outlinewidth": 1,
             "tickcolor": "rgb(36,36,36)",
             "ticks": "outside"
            },
            "type": "mesh3d"
           }
          ],
          "parcoords": [
           {
            "line": {
             "colorbar": {
              "outlinewidth": 1,
              "tickcolor": "rgb(36,36,36)",
              "ticks": "outside"
             }
            },
            "type": "parcoords"
           }
          ],
          "pie": [
           {
            "automargin": true,
            "type": "pie"
           }
          ],
          "scatter": [
           {
            "fillpattern": {
             "fillmode": "overlay",
             "size": 10,
             "solidity": 0.2
            },
            "type": "scatter"
           }
          ],
          "scatter3d": [
           {
            "line": {
             "colorbar": {
              "outlinewidth": 1,
              "tickcolor": "rgb(36,36,36)",
              "ticks": "outside"
             }
            },
            "marker": {
             "colorbar": {
              "outlinewidth": 1,
              "tickcolor": "rgb(36,36,36)",
              "ticks": "outside"
             }
            },
            "type": "scatter3d"
           }
          ],
          "scattercarpet": [
           {
            "marker": {
             "colorbar": {
              "outlinewidth": 1,
              "tickcolor": "rgb(36,36,36)",
              "ticks": "outside"
             }
            },
            "type": "scattercarpet"
           }
          ],
          "scattergeo": [
           {
            "marker": {
             "colorbar": {
              "outlinewidth": 1,
              "tickcolor": "rgb(36,36,36)",
              "ticks": "outside"
             }
            },
            "type": "scattergeo"
           }
          ],
          "scattergl": [
           {
            "marker": {
             "colorbar": {
              "outlinewidth": 1,
              "tickcolor": "rgb(36,36,36)",
              "ticks": "outside"
             }
            },
            "type": "scattergl"
           }
          ],
          "scattermapbox": [
           {
            "marker": {
             "colorbar": {
              "outlinewidth": 1,
              "tickcolor": "rgb(36,36,36)",
              "ticks": "outside"
             }
            },
            "type": "scattermapbox"
           }
          ],
          "scatterpolar": [
           {
            "marker": {
             "colorbar": {
              "outlinewidth": 1,
              "tickcolor": "rgb(36,36,36)",
              "ticks": "outside"
             }
            },
            "type": "scatterpolar"
           }
          ],
          "scatterpolargl": [
           {
            "marker": {
             "colorbar": {
              "outlinewidth": 1,
              "tickcolor": "rgb(36,36,36)",
              "ticks": "outside"
             }
            },
            "type": "scatterpolargl"
           }
          ],
          "scatterternary": [
           {
            "marker": {
             "colorbar": {
              "outlinewidth": 1,
              "tickcolor": "rgb(36,36,36)",
              "ticks": "outside"
             }
            },
            "type": "scatterternary"
           }
          ],
          "surface": [
           {
            "colorbar": {
             "outlinewidth": 1,
             "tickcolor": "rgb(36,36,36)",
             "ticks": "outside"
            },
            "colorscale": [
             [
              0,
              "#440154"
             ],
             [
              0.1111111111111111,
              "#482878"
             ],
             [
              0.2222222222222222,
              "#3e4989"
             ],
             [
              0.3333333333333333,
              "#31688e"
             ],
             [
              0.4444444444444444,
              "#26828e"
             ],
             [
              0.5555555555555556,
              "#1f9e89"
             ],
             [
              0.6666666666666666,
              "#35b779"
             ],
             [
              0.7777777777777778,
              "#6ece58"
             ],
             [
              0.8888888888888888,
              "#b5de2b"
             ],
             [
              1,
              "#fde725"
             ]
            ],
            "type": "surface"
           }
          ],
          "table": [
           {
            "cells": {
             "fill": {
              "color": "rgb(237,237,237)"
             },
             "line": {
              "color": "white"
             }
            },
            "header": {
             "fill": {
              "color": "rgb(217,217,217)"
             },
             "line": {
              "color": "white"
             }
            },
            "type": "table"
           }
          ]
         },
         "layout": {
          "annotationdefaults": {
           "arrowhead": 0,
           "arrowwidth": 1
          },
          "autotypenumbers": "strict",
          "coloraxis": {
           "colorbar": {
            "outlinewidth": 1,
            "tickcolor": "rgb(36,36,36)",
            "ticks": "outside"
           }
          },
          "colorscale": {
           "diverging": [
            [
             0,
             "rgb(103,0,31)"
            ],
            [
             0.1,
             "rgb(178,24,43)"
            ],
            [
             0.2,
             "rgb(214,96,77)"
            ],
            [
             0.3,
             "rgb(244,165,130)"
            ],
            [
             0.4,
             "rgb(253,219,199)"
            ],
            [
             0.5,
             "rgb(247,247,247)"
            ],
            [
             0.6,
             "rgb(209,229,240)"
            ],
            [
             0.7,
             "rgb(146,197,222)"
            ],
            [
             0.8,
             "rgb(67,147,195)"
            ],
            [
             0.9,
             "rgb(33,102,172)"
            ],
            [
             1,
             "rgb(5,48,97)"
            ]
           ],
           "sequential": [
            [
             0,
             "#440154"
            ],
            [
             0.1111111111111111,
             "#482878"
            ],
            [
             0.2222222222222222,
             "#3e4989"
            ],
            [
             0.3333333333333333,
             "#31688e"
            ],
            [
             0.4444444444444444,
             "#26828e"
            ],
            [
             0.5555555555555556,
             "#1f9e89"
            ],
            [
             0.6666666666666666,
             "#35b779"
            ],
            [
             0.7777777777777778,
             "#6ece58"
            ],
            [
             0.8888888888888888,
             "#b5de2b"
            ],
            [
             1,
             "#fde725"
            ]
           ],
           "sequentialminus": [
            [
             0,
             "#440154"
            ],
            [
             0.1111111111111111,
             "#482878"
            ],
            [
             0.2222222222222222,
             "#3e4989"
            ],
            [
             0.3333333333333333,
             "#31688e"
            ],
            [
             0.4444444444444444,
             "#26828e"
            ],
            [
             0.5555555555555556,
             "#1f9e89"
            ],
            [
             0.6666666666666666,
             "#35b779"
            ],
            [
             0.7777777777777778,
             "#6ece58"
            ],
            [
             0.8888888888888888,
             "#b5de2b"
            ],
            [
             1,
             "#fde725"
            ]
           ]
          },
          "colorway": [
           "#1F77B4",
           "#FF7F0E",
           "#2CA02C",
           "#D62728",
           "#9467BD",
           "#8C564B",
           "#E377C2",
           "#7F7F7F",
           "#BCBD22",
           "#17BECF"
          ],
          "font": {
           "color": "rgb(36,36,36)"
          },
          "geo": {
           "bgcolor": "white",
           "lakecolor": "white",
           "landcolor": "white",
           "showlakes": true,
           "showland": true,
           "subunitcolor": "white"
          },
          "hoverlabel": {
           "align": "left"
          },
          "hovermode": "closest",
          "mapbox": {
           "style": "light"
          },
          "paper_bgcolor": "white",
          "plot_bgcolor": "white",
          "polar": {
           "angularaxis": {
            "gridcolor": "rgb(232,232,232)",
            "linecolor": "rgb(36,36,36)",
            "showgrid": false,
            "showline": true,
            "ticks": "outside"
           },
           "bgcolor": "white",
           "radialaxis": {
            "gridcolor": "rgb(232,232,232)",
            "linecolor": "rgb(36,36,36)",
            "showgrid": false,
            "showline": true,
            "ticks": "outside"
           }
          },
          "scene": {
           "xaxis": {
            "backgroundcolor": "white",
            "gridcolor": "rgb(232,232,232)",
            "gridwidth": 2,
            "linecolor": "rgb(36,36,36)",
            "showbackground": true,
            "showgrid": false,
            "showline": true,
            "ticks": "outside",
            "zeroline": false,
            "zerolinecolor": "rgb(36,36,36)"
           },
           "yaxis": {
            "backgroundcolor": "white",
            "gridcolor": "rgb(232,232,232)",
            "gridwidth": 2,
            "linecolor": "rgb(36,36,36)",
            "showbackground": true,
            "showgrid": false,
            "showline": true,
            "ticks": "outside",
            "zeroline": false,
            "zerolinecolor": "rgb(36,36,36)"
           },
           "zaxis": {
            "backgroundcolor": "white",
            "gridcolor": "rgb(232,232,232)",
            "gridwidth": 2,
            "linecolor": "rgb(36,36,36)",
            "showbackground": true,
            "showgrid": false,
            "showline": true,
            "ticks": "outside",
            "zeroline": false,
            "zerolinecolor": "rgb(36,36,36)"
           }
          },
          "shapedefaults": {
           "fillcolor": "black",
           "line": {
            "width": 0
           },
           "opacity": 0.3
          },
          "ternary": {
           "aaxis": {
            "gridcolor": "rgb(232,232,232)",
            "linecolor": "rgb(36,36,36)",
            "showgrid": false,
            "showline": true,
            "ticks": "outside"
           },
           "baxis": {
            "gridcolor": "rgb(232,232,232)",
            "linecolor": "rgb(36,36,36)",
            "showgrid": false,
            "showline": true,
            "ticks": "outside"
           },
           "bgcolor": "white",
           "caxis": {
            "gridcolor": "rgb(232,232,232)",
            "linecolor": "rgb(36,36,36)",
            "showgrid": false,
            "showline": true,
            "ticks": "outside"
           }
          },
          "title": {
           "x": 0.05
          },
          "xaxis": {
           "automargin": true,
           "gridcolor": "rgb(232,232,232)",
           "linecolor": "rgb(36,36,36)",
           "showgrid": false,
           "showline": true,
           "ticks": "outside",
           "title": {
            "standoff": 15
           },
           "zeroline": false,
           "zerolinecolor": "rgb(36,36,36)"
          },
          "yaxis": {
           "automargin": true,
           "gridcolor": "rgb(232,232,232)",
           "linecolor": "rgb(36,36,36)",
           "showgrid": false,
           "showline": true,
           "ticks": "outside",
           "title": {
            "standoff": 15
           },
           "zeroline": false,
           "zerolinecolor": "rgb(36,36,36)"
          }
         }
        },
        "title": {
         "font": {
          "color": "Black",
          "size": 22
         },
         "text": "Topics Over Time for 2022_05-2022_07",
         "x": 0.4,
         "xanchor": "center",
         "y": 0.95,
         "yanchor": "top"
        },
        "width": 1250,
        "xaxis": {
         "showgrid": true
        },
        "yaxis": {
         "showgrid": true,
         "title": {
          "text": "Frequency"
         }
        }
       }
      }
     },
     "metadata": {},
     "output_type": "display_data"
    },
    {
     "data": {
      "application/vnd.plotly.v1+json": {
       "config": {
        "plotlyServerURL": "https://plot.ly"
       },
       "data": [
        {
         "hoverinfo": "text",
         "hovertext": [
          "<b>Topic 0</b><br>Words: hadir, senjang, tekan, lanyalla, minta",
          "<b>Topic 0</b><br>Words: bawa, taufik, tergesagesa, bayang, perhati",
          "<b>Topic 0</b><br>Words: sempat, tenaga, gua, moga, soal"
         ],
         "marker": {
          "color": "#E69F00"
         },
         "mode": "lines",
         "name": "0_hadir_senjang_tekan_lanyalla",
         "type": "scatter",
         "x": [
          "2022-08-01T02:04:44.463000+00:00",
          "2022-08-28T06:57:34.100000+00:00",
          "2022-10-24T12:41:00.866666+00:00"
         ],
         "y": [
          9,
          1,
          1
         ]
        },
        {
         "hoverinfo": "text",
         "hovertext": [
          "<b>Topic 1</b><br>Words: ri, enggak, dpd, bidang, ketua",
          "<b>Topic 1</b><br>Words: kalian, papua, jadi, crush, ghozali",
          "<b>Topic 1</b><br>Words: bahasa, lalu, wicaksono, den, komunikasi",
          "<b>Topic 1</b><br>Words: kp, podcast, mahasiswa, mipa, ajar",
          "<b>Topic 1</b><br>Words: sebut, tinggi, zaman, indramayu, tangguh",
          "<b>Topic 1</b><br>Words: kurikulum, bangun, ikhtiar, film, anakanak",
          "<b>Topic 1</b><br>Words: ajar, perintah, lampau, system, hayat",
          "<b>Topic 1</b><br>Words: kelola, papua, duit, rasa, perempuan",
          "<b>Topic 1</b><br>Words: negeri, muda, muhammadiyah, guru, pak",
          "<b>Topic 1</b><br>Words: indonesia, erick, unggul, bumn, islam",
          "<b>Topic 1</b><br>Words: sektor, gin, mentok, sejahtera, up",
          "<b>Topic 1</b><br>Words: pimpin, ta, masyarakat, memang, time",
          "<b>Topic 1</b><br>Words: olah, analis, data, jabat, tahun",
          "<b>Topic 1</b><br>Words: lu, kerja, perintah, hasil, kantor"
         ],
         "marker": {
          "color": "#56B4E9"
         },
         "mode": "lines",
         "name": "1_ajar_enggak_indonesia_merdeka",
         "type": "scatter",
         "x": [
          "2022-08-01T02:04:44.463000+00:00",
          "2022-08-04T04:32:57.566666+00:00",
          "2022-08-07T04:51:02.133333+00:00",
          "2022-08-10T05:09:06.700000+00:00",
          "2022-08-13T05:27:11.266666+00:00",
          "2022-08-16T05:45:15.833333+00:00",
          "2022-08-19T06:03:20.400000+00:00",
          "2022-08-22T06:21:24.966666+00:00",
          "2022-08-25T06:39:29.533333+00:00",
          "2022-08-28T06:57:34.100000+00:00",
          "2022-09-27T09:58:19.766666+00:00",
          "2022-10-21T12:22:56.300000+00:00",
          "2022-10-24T12:41:00.866666+00:00",
          "2022-10-27T12:59:05.433333+00:00"
         ],
         "y": [
          16,
          10,
          7,
          9,
          8,
          5,
          2,
          10,
          10,
          8,
          7,
          8,
          18,
          6
         ]
        }
       ],
       "layout": {
        "height": 450,
        "hoverlabel": {
         "bgcolor": "white",
         "font": {
          "family": "Rockwell",
          "size": 16
         }
        },
        "legend": {
         "title": {
          "text": "<b>Global Topic Representation"
         }
        },
        "template": {
         "data": {
          "bar": [
           {
            "error_x": {
             "color": "rgb(36,36,36)"
            },
            "error_y": {
             "color": "rgb(36,36,36)"
            },
            "marker": {
             "line": {
              "color": "white",
              "width": 0.5
             },
             "pattern": {
              "fillmode": "overlay",
              "size": 10,
              "solidity": 0.2
             }
            },
            "type": "bar"
           }
          ],
          "barpolar": [
           {
            "marker": {
             "line": {
              "color": "white",
              "width": 0.5
             },
             "pattern": {
              "fillmode": "overlay",
              "size": 10,
              "solidity": 0.2
             }
            },
            "type": "barpolar"
           }
          ],
          "carpet": [
           {
            "aaxis": {
             "endlinecolor": "rgb(36,36,36)",
             "gridcolor": "white",
             "linecolor": "white",
             "minorgridcolor": "white",
             "startlinecolor": "rgb(36,36,36)"
            },
            "baxis": {
             "endlinecolor": "rgb(36,36,36)",
             "gridcolor": "white",
             "linecolor": "white",
             "minorgridcolor": "white",
             "startlinecolor": "rgb(36,36,36)"
            },
            "type": "carpet"
           }
          ],
          "choropleth": [
           {
            "colorbar": {
             "outlinewidth": 1,
             "tickcolor": "rgb(36,36,36)",
             "ticks": "outside"
            },
            "type": "choropleth"
           }
          ],
          "contour": [
           {
            "colorbar": {
             "outlinewidth": 1,
             "tickcolor": "rgb(36,36,36)",
             "ticks": "outside"
            },
            "colorscale": [
             [
              0,
              "#440154"
             ],
             [
              0.1111111111111111,
              "#482878"
             ],
             [
              0.2222222222222222,
              "#3e4989"
             ],
             [
              0.3333333333333333,
              "#31688e"
             ],
             [
              0.4444444444444444,
              "#26828e"
             ],
             [
              0.5555555555555556,
              "#1f9e89"
             ],
             [
              0.6666666666666666,
              "#35b779"
             ],
             [
              0.7777777777777778,
              "#6ece58"
             ],
             [
              0.8888888888888888,
              "#b5de2b"
             ],
             [
              1,
              "#fde725"
             ]
            ],
            "type": "contour"
           }
          ],
          "contourcarpet": [
           {
            "colorbar": {
             "outlinewidth": 1,
             "tickcolor": "rgb(36,36,36)",
             "ticks": "outside"
            },
            "type": "contourcarpet"
           }
          ],
          "heatmap": [
           {
            "colorbar": {
             "outlinewidth": 1,
             "tickcolor": "rgb(36,36,36)",
             "ticks": "outside"
            },
            "colorscale": [
             [
              0,
              "#440154"
             ],
             [
              0.1111111111111111,
              "#482878"
             ],
             [
              0.2222222222222222,
              "#3e4989"
             ],
             [
              0.3333333333333333,
              "#31688e"
             ],
             [
              0.4444444444444444,
              "#26828e"
             ],
             [
              0.5555555555555556,
              "#1f9e89"
             ],
             [
              0.6666666666666666,
              "#35b779"
             ],
             [
              0.7777777777777778,
              "#6ece58"
             ],
             [
              0.8888888888888888,
              "#b5de2b"
             ],
             [
              1,
              "#fde725"
             ]
            ],
            "type": "heatmap"
           }
          ],
          "heatmapgl": [
           {
            "colorbar": {
             "outlinewidth": 1,
             "tickcolor": "rgb(36,36,36)",
             "ticks": "outside"
            },
            "colorscale": [
             [
              0,
              "#440154"
             ],
             [
              0.1111111111111111,
              "#482878"
             ],
             [
              0.2222222222222222,
              "#3e4989"
             ],
             [
              0.3333333333333333,
              "#31688e"
             ],
             [
              0.4444444444444444,
              "#26828e"
             ],
             [
              0.5555555555555556,
              "#1f9e89"
             ],
             [
              0.6666666666666666,
              "#35b779"
             ],
             [
              0.7777777777777778,
              "#6ece58"
             ],
             [
              0.8888888888888888,
              "#b5de2b"
             ],
             [
              1,
              "#fde725"
             ]
            ],
            "type": "heatmapgl"
           }
          ],
          "histogram": [
           {
            "marker": {
             "line": {
              "color": "white",
              "width": 0.6
             }
            },
            "type": "histogram"
           }
          ],
          "histogram2d": [
           {
            "colorbar": {
             "outlinewidth": 1,
             "tickcolor": "rgb(36,36,36)",
             "ticks": "outside"
            },
            "colorscale": [
             [
              0,
              "#440154"
             ],
             [
              0.1111111111111111,
              "#482878"
             ],
             [
              0.2222222222222222,
              "#3e4989"
             ],
             [
              0.3333333333333333,
              "#31688e"
             ],
             [
              0.4444444444444444,
              "#26828e"
             ],
             [
              0.5555555555555556,
              "#1f9e89"
             ],
             [
              0.6666666666666666,
              "#35b779"
             ],
             [
              0.7777777777777778,
              "#6ece58"
             ],
             [
              0.8888888888888888,
              "#b5de2b"
             ],
             [
              1,
              "#fde725"
             ]
            ],
            "type": "histogram2d"
           }
          ],
          "histogram2dcontour": [
           {
            "colorbar": {
             "outlinewidth": 1,
             "tickcolor": "rgb(36,36,36)",
             "ticks": "outside"
            },
            "colorscale": [
             [
              0,
              "#440154"
             ],
             [
              0.1111111111111111,
              "#482878"
             ],
             [
              0.2222222222222222,
              "#3e4989"
             ],
             [
              0.3333333333333333,
              "#31688e"
             ],
             [
              0.4444444444444444,
              "#26828e"
             ],
             [
              0.5555555555555556,
              "#1f9e89"
             ],
             [
              0.6666666666666666,
              "#35b779"
             ],
             [
              0.7777777777777778,
              "#6ece58"
             ],
             [
              0.8888888888888888,
              "#b5de2b"
             ],
             [
              1,
              "#fde725"
             ]
            ],
            "type": "histogram2dcontour"
           }
          ],
          "mesh3d": [
           {
            "colorbar": {
             "outlinewidth": 1,
             "tickcolor": "rgb(36,36,36)",
             "ticks": "outside"
            },
            "type": "mesh3d"
           }
          ],
          "parcoords": [
           {
            "line": {
             "colorbar": {
              "outlinewidth": 1,
              "tickcolor": "rgb(36,36,36)",
              "ticks": "outside"
             }
            },
            "type": "parcoords"
           }
          ],
          "pie": [
           {
            "automargin": true,
            "type": "pie"
           }
          ],
          "scatter": [
           {
            "fillpattern": {
             "fillmode": "overlay",
             "size": 10,
             "solidity": 0.2
            },
            "type": "scatter"
           }
          ],
          "scatter3d": [
           {
            "line": {
             "colorbar": {
              "outlinewidth": 1,
              "tickcolor": "rgb(36,36,36)",
              "ticks": "outside"
             }
            },
            "marker": {
             "colorbar": {
              "outlinewidth": 1,
              "tickcolor": "rgb(36,36,36)",
              "ticks": "outside"
             }
            },
            "type": "scatter3d"
           }
          ],
          "scattercarpet": [
           {
            "marker": {
             "colorbar": {
              "outlinewidth": 1,
              "tickcolor": "rgb(36,36,36)",
              "ticks": "outside"
             }
            },
            "type": "scattercarpet"
           }
          ],
          "scattergeo": [
           {
            "marker": {
             "colorbar": {
              "outlinewidth": 1,
              "tickcolor": "rgb(36,36,36)",
              "ticks": "outside"
             }
            },
            "type": "scattergeo"
           }
          ],
          "scattergl": [
           {
            "marker": {
             "colorbar": {
              "outlinewidth": 1,
              "tickcolor": "rgb(36,36,36)",
              "ticks": "outside"
             }
            },
            "type": "scattergl"
           }
          ],
          "scattermapbox": [
           {
            "marker": {
             "colorbar": {
              "outlinewidth": 1,
              "tickcolor": "rgb(36,36,36)",
              "ticks": "outside"
             }
            },
            "type": "scattermapbox"
           }
          ],
          "scatterpolar": [
           {
            "marker": {
             "colorbar": {
              "outlinewidth": 1,
              "tickcolor": "rgb(36,36,36)",
              "ticks": "outside"
             }
            },
            "type": "scatterpolar"
           }
          ],
          "scatterpolargl": [
           {
            "marker": {
             "colorbar": {
              "outlinewidth": 1,
              "tickcolor": "rgb(36,36,36)",
              "ticks": "outside"
             }
            },
            "type": "scatterpolargl"
           }
          ],
          "scatterternary": [
           {
            "marker": {
             "colorbar": {
              "outlinewidth": 1,
              "tickcolor": "rgb(36,36,36)",
              "ticks": "outside"
             }
            },
            "type": "scatterternary"
           }
          ],
          "surface": [
           {
            "colorbar": {
             "outlinewidth": 1,
             "tickcolor": "rgb(36,36,36)",
             "ticks": "outside"
            },
            "colorscale": [
             [
              0,
              "#440154"
             ],
             [
              0.1111111111111111,
              "#482878"
             ],
             [
              0.2222222222222222,
              "#3e4989"
             ],
             [
              0.3333333333333333,
              "#31688e"
             ],
             [
              0.4444444444444444,
              "#26828e"
             ],
             [
              0.5555555555555556,
              "#1f9e89"
             ],
             [
              0.6666666666666666,
              "#35b779"
             ],
             [
              0.7777777777777778,
              "#6ece58"
             ],
             [
              0.8888888888888888,
              "#b5de2b"
             ],
             [
              1,
              "#fde725"
             ]
            ],
            "type": "surface"
           }
          ],
          "table": [
           {
            "cells": {
             "fill": {
              "color": "rgb(237,237,237)"
             },
             "line": {
              "color": "white"
             }
            },
            "header": {
             "fill": {
              "color": "rgb(217,217,217)"
             },
             "line": {
              "color": "white"
             }
            },
            "type": "table"
           }
          ]
         },
         "layout": {
          "annotationdefaults": {
           "arrowhead": 0,
           "arrowwidth": 1
          },
          "autotypenumbers": "strict",
          "coloraxis": {
           "colorbar": {
            "outlinewidth": 1,
            "tickcolor": "rgb(36,36,36)",
            "ticks": "outside"
           }
          },
          "colorscale": {
           "diverging": [
            [
             0,
             "rgb(103,0,31)"
            ],
            [
             0.1,
             "rgb(178,24,43)"
            ],
            [
             0.2,
             "rgb(214,96,77)"
            ],
            [
             0.3,
             "rgb(244,165,130)"
            ],
            [
             0.4,
             "rgb(253,219,199)"
            ],
            [
             0.5,
             "rgb(247,247,247)"
            ],
            [
             0.6,
             "rgb(209,229,240)"
            ],
            [
             0.7,
             "rgb(146,197,222)"
            ],
            [
             0.8,
             "rgb(67,147,195)"
            ],
            [
             0.9,
             "rgb(33,102,172)"
            ],
            [
             1,
             "rgb(5,48,97)"
            ]
           ],
           "sequential": [
            [
             0,
             "#440154"
            ],
            [
             0.1111111111111111,
             "#482878"
            ],
            [
             0.2222222222222222,
             "#3e4989"
            ],
            [
             0.3333333333333333,
             "#31688e"
            ],
            [
             0.4444444444444444,
             "#26828e"
            ],
            [
             0.5555555555555556,
             "#1f9e89"
            ],
            [
             0.6666666666666666,
             "#35b779"
            ],
            [
             0.7777777777777778,
             "#6ece58"
            ],
            [
             0.8888888888888888,
             "#b5de2b"
            ],
            [
             1,
             "#fde725"
            ]
           ],
           "sequentialminus": [
            [
             0,
             "#440154"
            ],
            [
             0.1111111111111111,
             "#482878"
            ],
            [
             0.2222222222222222,
             "#3e4989"
            ],
            [
             0.3333333333333333,
             "#31688e"
            ],
            [
             0.4444444444444444,
             "#26828e"
            ],
            [
             0.5555555555555556,
             "#1f9e89"
            ],
            [
             0.6666666666666666,
             "#35b779"
            ],
            [
             0.7777777777777778,
             "#6ece58"
            ],
            [
             0.8888888888888888,
             "#b5de2b"
            ],
            [
             1,
             "#fde725"
            ]
           ]
          },
          "colorway": [
           "#1F77B4",
           "#FF7F0E",
           "#2CA02C",
           "#D62728",
           "#9467BD",
           "#8C564B",
           "#E377C2",
           "#7F7F7F",
           "#BCBD22",
           "#17BECF"
          ],
          "font": {
           "color": "rgb(36,36,36)"
          },
          "geo": {
           "bgcolor": "white",
           "lakecolor": "white",
           "landcolor": "white",
           "showlakes": true,
           "showland": true,
           "subunitcolor": "white"
          },
          "hoverlabel": {
           "align": "left"
          },
          "hovermode": "closest",
          "mapbox": {
           "style": "light"
          },
          "paper_bgcolor": "white",
          "plot_bgcolor": "white",
          "polar": {
           "angularaxis": {
            "gridcolor": "rgb(232,232,232)",
            "linecolor": "rgb(36,36,36)",
            "showgrid": false,
            "showline": true,
            "ticks": "outside"
           },
           "bgcolor": "white",
           "radialaxis": {
            "gridcolor": "rgb(232,232,232)",
            "linecolor": "rgb(36,36,36)",
            "showgrid": false,
            "showline": true,
            "ticks": "outside"
           }
          },
          "scene": {
           "xaxis": {
            "backgroundcolor": "white",
            "gridcolor": "rgb(232,232,232)",
            "gridwidth": 2,
            "linecolor": "rgb(36,36,36)",
            "showbackground": true,
            "showgrid": false,
            "showline": true,
            "ticks": "outside",
            "zeroline": false,
            "zerolinecolor": "rgb(36,36,36)"
           },
           "yaxis": {
            "backgroundcolor": "white",
            "gridcolor": "rgb(232,232,232)",
            "gridwidth": 2,
            "linecolor": "rgb(36,36,36)",
            "showbackground": true,
            "showgrid": false,
            "showline": true,
            "ticks": "outside",
            "zeroline": false,
            "zerolinecolor": "rgb(36,36,36)"
           },
           "zaxis": {
            "backgroundcolor": "white",
            "gridcolor": "rgb(232,232,232)",
            "gridwidth": 2,
            "linecolor": "rgb(36,36,36)",
            "showbackground": true,
            "showgrid": false,
            "showline": true,
            "ticks": "outside",
            "zeroline": false,
            "zerolinecolor": "rgb(36,36,36)"
           }
          },
          "shapedefaults": {
           "fillcolor": "black",
           "line": {
            "width": 0
           },
           "opacity": 0.3
          },
          "ternary": {
           "aaxis": {
            "gridcolor": "rgb(232,232,232)",
            "linecolor": "rgb(36,36,36)",
            "showgrid": false,
            "showline": true,
            "ticks": "outside"
           },
           "baxis": {
            "gridcolor": "rgb(232,232,232)",
            "linecolor": "rgb(36,36,36)",
            "showgrid": false,
            "showline": true,
            "ticks": "outside"
           },
           "bgcolor": "white",
           "caxis": {
            "gridcolor": "rgb(232,232,232)",
            "linecolor": "rgb(36,36,36)",
            "showgrid": false,
            "showline": true,
            "ticks": "outside"
           }
          },
          "title": {
           "x": 0.05
          },
          "xaxis": {
           "automargin": true,
           "gridcolor": "rgb(232,232,232)",
           "linecolor": "rgb(36,36,36)",
           "showgrid": false,
           "showline": true,
           "ticks": "outside",
           "title": {
            "standoff": 15
           },
           "zeroline": false,
           "zerolinecolor": "rgb(36,36,36)"
          },
          "yaxis": {
           "automargin": true,
           "gridcolor": "rgb(232,232,232)",
           "linecolor": "rgb(36,36,36)",
           "showgrid": false,
           "showline": true,
           "ticks": "outside",
           "title": {
            "standoff": 15
           },
           "zeroline": false,
           "zerolinecolor": "rgb(36,36,36)"
          }
         }
        },
        "title": {
         "font": {
          "color": "Black",
          "size": 22
         },
         "text": "Topics Over Time for 2022_08-2022_10",
         "x": 0.4,
         "xanchor": "center",
         "y": 0.95,
         "yanchor": "top"
        },
        "width": 1250,
        "xaxis": {
         "showgrid": true
        },
        "yaxis": {
         "showgrid": true,
         "title": {
          "text": "Frequency"
         }
        }
       }
      }
     },
     "metadata": {},
     "output_type": "display_data"
    },
    {
     "data": {
      "application/vnd.plotly.v1+json": {
       "config": {
        "plotlyServerURL": "https://plot.ly"
       },
       "data": [
        {
         "hoverinfo": "text",
         "hovertext": [
          "<b>Topic 0</b><br>Words: bilang, layan, khofifah, dasar, daya",
          "<b>Topic 0</b><br>Words: transformasi, tengah, jenderal, direktur, ekosistem",
          "<b>Topic 0</b><br>Words: lalu, transformasi, tengah, of, kunci"
         ],
         "marker": {
          "color": "#E69F00"
         },
         "mode": "lines",
         "name": "0_lalu_transformasi_tengah_institute",
         "type": "scatter",
         "x": [
          "2022-11-28T17:39:23.400000+00:00",
          "2023-01-08T06:52:51+00:00",
          "2023-01-16T19:46:12.600000+00:00"
         ],
         "y": [
          1,
          2,
          9
         ]
        },
        {
         "hoverinfo": "text",
         "hovertext": [
          "<b>Topic 1</b><br>Words: dki, dosen, program, egov, jakarta",
          "<b>Topic 1</b><br>Words: anjir, setinggi, percuma, lulus, sesuai",
          "<b>Topic 1</b><br>Words: jokowi, jaga, nkri, dorong, damai",
          "<b>Topic 1</b><br>Words: apresiasi, dokter, guru, pola, ruu",
          "<b>Topic 1</b><br>Words: partai, perindo, amp, masyarakat, rupa",
          "<b>Topic 1</b><br>Words: kerja, tahun, sama, jadi, leader",
          "<b>Topic 1</b><br>Words: guru, tingkat, angkat, upaya, lewat",
          "<b>Topic 1</b><br>Words: satu, timpang, triliun, gelontor, ratus",
          "<b>Topic 1</b><br>Words: sekolah, anak, indonesia, pejabrut, gratis",
          "<b>Topic 1</b><br>Words: publik, perempuan, masjid, merdeka, perintah",
          "<b>Topic 1</b><br>Words: pimpin, negara, dikomersilkan, subsidi, guru",
          "<b>Topic 1</b><br>Words: laku, menteri, agama, orang, sekolah",
          "<b>Topic 1</b><br>Words: kalau, sekolah, ajar, anak, pangan",
          "<b>Topic 1</b><br>Words: anak, lpka, jateng, kuat, ikut",
          "<b>Topic 1</b><br>Words: yuspahruddin, pendidikanamppengentasan, kemenkumham, kakanwil, kutoarjo",
          "<b>Topic 1</b><br>Words: angket, ketemu, kasih, diniyah, lho",
          "<b>Topic 1</b><br>Words: teliti, kampus, jpkp, jurnal, laku",
          "<b>Topic 1</b><br>Words: uny, sama, mbkm, manajemen, group",
          "<b>Topic 1</b><br>Words: tenaga, honorer, hapus, ganjar, kurang"
         ],
         "marker": {
          "color": "#56B4E9"
         },
         "mode": "lines",
         "name": "1_sekolah_laku_anak_satu",
         "type": "scatter",
         "x": [
          "2022-11-26T12:53:50.988000+00:00",
          "2022-11-28T17:39:23.400000+00:00",
          "2022-12-24T08:19:28.200000+00:00",
          "2022-12-26T11:32:48.600000+00:00",
          "2022-12-28T14:46:09+00:00",
          "2022-12-30T17:59:29.400000+00:00",
          "2023-01-01T21:12:49.800000+00:00",
          "2023-01-04T00:26:10.200000+00:00",
          "2023-01-06T03:39:30.600000+00:00",
          "2023-01-08T06:52:51+00:00",
          "2023-01-10T10:06:11.400000+00:00",
          "2023-01-12T13:19:31.800000+00:00",
          "2023-01-14T16:32:52.200000+00:00",
          "2023-01-16T19:46:12.600000+00:00",
          "2023-01-18T22:59:33+00:00",
          "2023-01-21T02:12:53.400000+00:00",
          "2023-01-23T05:26:13.800000+00:00",
          "2023-01-25T08:39:34.200000+00:00",
          "2023-01-27T11:52:54.600000+00:00"
         ],
         "y": [
          8,
          1,
          10,
          8,
          12,
          3,
          1,
          10,
          4,
          10,
          10,
          21,
          10,
          11,
          15,
          4,
          6,
          6,
          9
         ]
        }
       ],
       "layout": {
        "height": 450,
        "hoverlabel": {
         "bgcolor": "white",
         "font": {
          "family": "Rockwell",
          "size": 16
         }
        },
        "legend": {
         "title": {
          "text": "<b>Global Topic Representation"
         }
        },
        "template": {
         "data": {
          "bar": [
           {
            "error_x": {
             "color": "rgb(36,36,36)"
            },
            "error_y": {
             "color": "rgb(36,36,36)"
            },
            "marker": {
             "line": {
              "color": "white",
              "width": 0.5
             },
             "pattern": {
              "fillmode": "overlay",
              "size": 10,
              "solidity": 0.2
             }
            },
            "type": "bar"
           }
          ],
          "barpolar": [
           {
            "marker": {
             "line": {
              "color": "white",
              "width": 0.5
             },
             "pattern": {
              "fillmode": "overlay",
              "size": 10,
              "solidity": 0.2
             }
            },
            "type": "barpolar"
           }
          ],
          "carpet": [
           {
            "aaxis": {
             "endlinecolor": "rgb(36,36,36)",
             "gridcolor": "white",
             "linecolor": "white",
             "minorgridcolor": "white",
             "startlinecolor": "rgb(36,36,36)"
            },
            "baxis": {
             "endlinecolor": "rgb(36,36,36)",
             "gridcolor": "white",
             "linecolor": "white",
             "minorgridcolor": "white",
             "startlinecolor": "rgb(36,36,36)"
            },
            "type": "carpet"
           }
          ],
          "choropleth": [
           {
            "colorbar": {
             "outlinewidth": 1,
             "tickcolor": "rgb(36,36,36)",
             "ticks": "outside"
            },
            "type": "choropleth"
           }
          ],
          "contour": [
           {
            "colorbar": {
             "outlinewidth": 1,
             "tickcolor": "rgb(36,36,36)",
             "ticks": "outside"
            },
            "colorscale": [
             [
              0,
              "#440154"
             ],
             [
              0.1111111111111111,
              "#482878"
             ],
             [
              0.2222222222222222,
              "#3e4989"
             ],
             [
              0.3333333333333333,
              "#31688e"
             ],
             [
              0.4444444444444444,
              "#26828e"
             ],
             [
              0.5555555555555556,
              "#1f9e89"
             ],
             [
              0.6666666666666666,
              "#35b779"
             ],
             [
              0.7777777777777778,
              "#6ece58"
             ],
             [
              0.8888888888888888,
              "#b5de2b"
             ],
             [
              1,
              "#fde725"
             ]
            ],
            "type": "contour"
           }
          ],
          "contourcarpet": [
           {
            "colorbar": {
             "outlinewidth": 1,
             "tickcolor": "rgb(36,36,36)",
             "ticks": "outside"
            },
            "type": "contourcarpet"
           }
          ],
          "heatmap": [
           {
            "colorbar": {
             "outlinewidth": 1,
             "tickcolor": "rgb(36,36,36)",
             "ticks": "outside"
            },
            "colorscale": [
             [
              0,
              "#440154"
             ],
             [
              0.1111111111111111,
              "#482878"
             ],
             [
              0.2222222222222222,
              "#3e4989"
             ],
             [
              0.3333333333333333,
              "#31688e"
             ],
             [
              0.4444444444444444,
              "#26828e"
             ],
             [
              0.5555555555555556,
              "#1f9e89"
             ],
             [
              0.6666666666666666,
              "#35b779"
             ],
             [
              0.7777777777777778,
              "#6ece58"
             ],
             [
              0.8888888888888888,
              "#b5de2b"
             ],
             [
              1,
              "#fde725"
             ]
            ],
            "type": "heatmap"
           }
          ],
          "heatmapgl": [
           {
            "colorbar": {
             "outlinewidth": 1,
             "tickcolor": "rgb(36,36,36)",
             "ticks": "outside"
            },
            "colorscale": [
             [
              0,
              "#440154"
             ],
             [
              0.1111111111111111,
              "#482878"
             ],
             [
              0.2222222222222222,
              "#3e4989"
             ],
             [
              0.3333333333333333,
              "#31688e"
             ],
             [
              0.4444444444444444,
              "#26828e"
             ],
             [
              0.5555555555555556,
              "#1f9e89"
             ],
             [
              0.6666666666666666,
              "#35b779"
             ],
             [
              0.7777777777777778,
              "#6ece58"
             ],
             [
              0.8888888888888888,
              "#b5de2b"
             ],
             [
              1,
              "#fde725"
             ]
            ],
            "type": "heatmapgl"
           }
          ],
          "histogram": [
           {
            "marker": {
             "line": {
              "color": "white",
              "width": 0.6
             }
            },
            "type": "histogram"
           }
          ],
          "histogram2d": [
           {
            "colorbar": {
             "outlinewidth": 1,
             "tickcolor": "rgb(36,36,36)",
             "ticks": "outside"
            },
            "colorscale": [
             [
              0,
              "#440154"
             ],
             [
              0.1111111111111111,
              "#482878"
             ],
             [
              0.2222222222222222,
              "#3e4989"
             ],
             [
              0.3333333333333333,
              "#31688e"
             ],
             [
              0.4444444444444444,
              "#26828e"
             ],
             [
              0.5555555555555556,
              "#1f9e89"
             ],
             [
              0.6666666666666666,
              "#35b779"
             ],
             [
              0.7777777777777778,
              "#6ece58"
             ],
             [
              0.8888888888888888,
              "#b5de2b"
             ],
             [
              1,
              "#fde725"
             ]
            ],
            "type": "histogram2d"
           }
          ],
          "histogram2dcontour": [
           {
            "colorbar": {
             "outlinewidth": 1,
             "tickcolor": "rgb(36,36,36)",
             "ticks": "outside"
            },
            "colorscale": [
             [
              0,
              "#440154"
             ],
             [
              0.1111111111111111,
              "#482878"
             ],
             [
              0.2222222222222222,
              "#3e4989"
             ],
             [
              0.3333333333333333,
              "#31688e"
             ],
             [
              0.4444444444444444,
              "#26828e"
             ],
             [
              0.5555555555555556,
              "#1f9e89"
             ],
             [
              0.6666666666666666,
              "#35b779"
             ],
             [
              0.7777777777777778,
              "#6ece58"
             ],
             [
              0.8888888888888888,
              "#b5de2b"
             ],
             [
              1,
              "#fde725"
             ]
            ],
            "type": "histogram2dcontour"
           }
          ],
          "mesh3d": [
           {
            "colorbar": {
             "outlinewidth": 1,
             "tickcolor": "rgb(36,36,36)",
             "ticks": "outside"
            },
            "type": "mesh3d"
           }
          ],
          "parcoords": [
           {
            "line": {
             "colorbar": {
              "outlinewidth": 1,
              "tickcolor": "rgb(36,36,36)",
              "ticks": "outside"
             }
            },
            "type": "parcoords"
           }
          ],
          "pie": [
           {
            "automargin": true,
            "type": "pie"
           }
          ],
          "scatter": [
           {
            "fillpattern": {
             "fillmode": "overlay",
             "size": 10,
             "solidity": 0.2
            },
            "type": "scatter"
           }
          ],
          "scatter3d": [
           {
            "line": {
             "colorbar": {
              "outlinewidth": 1,
              "tickcolor": "rgb(36,36,36)",
              "ticks": "outside"
             }
            },
            "marker": {
             "colorbar": {
              "outlinewidth": 1,
              "tickcolor": "rgb(36,36,36)",
              "ticks": "outside"
             }
            },
            "type": "scatter3d"
           }
          ],
          "scattercarpet": [
           {
            "marker": {
             "colorbar": {
              "outlinewidth": 1,
              "tickcolor": "rgb(36,36,36)",
              "ticks": "outside"
             }
            },
            "type": "scattercarpet"
           }
          ],
          "scattergeo": [
           {
            "marker": {
             "colorbar": {
              "outlinewidth": 1,
              "tickcolor": "rgb(36,36,36)",
              "ticks": "outside"
             }
            },
            "type": "scattergeo"
           }
          ],
          "scattergl": [
           {
            "marker": {
             "colorbar": {
              "outlinewidth": 1,
              "tickcolor": "rgb(36,36,36)",
              "ticks": "outside"
             }
            },
            "type": "scattergl"
           }
          ],
          "scattermapbox": [
           {
            "marker": {
             "colorbar": {
              "outlinewidth": 1,
              "tickcolor": "rgb(36,36,36)",
              "ticks": "outside"
             }
            },
            "type": "scattermapbox"
           }
          ],
          "scatterpolar": [
           {
            "marker": {
             "colorbar": {
              "outlinewidth": 1,
              "tickcolor": "rgb(36,36,36)",
              "ticks": "outside"
             }
            },
            "type": "scatterpolar"
           }
          ],
          "scatterpolargl": [
           {
            "marker": {
             "colorbar": {
              "outlinewidth": 1,
              "tickcolor": "rgb(36,36,36)",
              "ticks": "outside"
             }
            },
            "type": "scatterpolargl"
           }
          ],
          "scatterternary": [
           {
            "marker": {
             "colorbar": {
              "outlinewidth": 1,
              "tickcolor": "rgb(36,36,36)",
              "ticks": "outside"
             }
            },
            "type": "scatterternary"
           }
          ],
          "surface": [
           {
            "colorbar": {
             "outlinewidth": 1,
             "tickcolor": "rgb(36,36,36)",
             "ticks": "outside"
            },
            "colorscale": [
             [
              0,
              "#440154"
             ],
             [
              0.1111111111111111,
              "#482878"
             ],
             [
              0.2222222222222222,
              "#3e4989"
             ],
             [
              0.3333333333333333,
              "#31688e"
             ],
             [
              0.4444444444444444,
              "#26828e"
             ],
             [
              0.5555555555555556,
              "#1f9e89"
             ],
             [
              0.6666666666666666,
              "#35b779"
             ],
             [
              0.7777777777777778,
              "#6ece58"
             ],
             [
              0.8888888888888888,
              "#b5de2b"
             ],
             [
              1,
              "#fde725"
             ]
            ],
            "type": "surface"
           }
          ],
          "table": [
           {
            "cells": {
             "fill": {
              "color": "rgb(237,237,237)"
             },
             "line": {
              "color": "white"
             }
            },
            "header": {
             "fill": {
              "color": "rgb(217,217,217)"
             },
             "line": {
              "color": "white"
             }
            },
            "type": "table"
           }
          ]
         },
         "layout": {
          "annotationdefaults": {
           "arrowhead": 0,
           "arrowwidth": 1
          },
          "autotypenumbers": "strict",
          "coloraxis": {
           "colorbar": {
            "outlinewidth": 1,
            "tickcolor": "rgb(36,36,36)",
            "ticks": "outside"
           }
          },
          "colorscale": {
           "diverging": [
            [
             0,
             "rgb(103,0,31)"
            ],
            [
             0.1,
             "rgb(178,24,43)"
            ],
            [
             0.2,
             "rgb(214,96,77)"
            ],
            [
             0.3,
             "rgb(244,165,130)"
            ],
            [
             0.4,
             "rgb(253,219,199)"
            ],
            [
             0.5,
             "rgb(247,247,247)"
            ],
            [
             0.6,
             "rgb(209,229,240)"
            ],
            [
             0.7,
             "rgb(146,197,222)"
            ],
            [
             0.8,
             "rgb(67,147,195)"
            ],
            [
             0.9,
             "rgb(33,102,172)"
            ],
            [
             1,
             "rgb(5,48,97)"
            ]
           ],
           "sequential": [
            [
             0,
             "#440154"
            ],
            [
             0.1111111111111111,
             "#482878"
            ],
            [
             0.2222222222222222,
             "#3e4989"
            ],
            [
             0.3333333333333333,
             "#31688e"
            ],
            [
             0.4444444444444444,
             "#26828e"
            ],
            [
             0.5555555555555556,
             "#1f9e89"
            ],
            [
             0.6666666666666666,
             "#35b779"
            ],
            [
             0.7777777777777778,
             "#6ece58"
            ],
            [
             0.8888888888888888,
             "#b5de2b"
            ],
            [
             1,
             "#fde725"
            ]
           ],
           "sequentialminus": [
            [
             0,
             "#440154"
            ],
            [
             0.1111111111111111,
             "#482878"
            ],
            [
             0.2222222222222222,
             "#3e4989"
            ],
            [
             0.3333333333333333,
             "#31688e"
            ],
            [
             0.4444444444444444,
             "#26828e"
            ],
            [
             0.5555555555555556,
             "#1f9e89"
            ],
            [
             0.6666666666666666,
             "#35b779"
            ],
            [
             0.7777777777777778,
             "#6ece58"
            ],
            [
             0.8888888888888888,
             "#b5de2b"
            ],
            [
             1,
             "#fde725"
            ]
           ]
          },
          "colorway": [
           "#1F77B4",
           "#FF7F0E",
           "#2CA02C",
           "#D62728",
           "#9467BD",
           "#8C564B",
           "#E377C2",
           "#7F7F7F",
           "#BCBD22",
           "#17BECF"
          ],
          "font": {
           "color": "rgb(36,36,36)"
          },
          "geo": {
           "bgcolor": "white",
           "lakecolor": "white",
           "landcolor": "white",
           "showlakes": true,
           "showland": true,
           "subunitcolor": "white"
          },
          "hoverlabel": {
           "align": "left"
          },
          "hovermode": "closest",
          "mapbox": {
           "style": "light"
          },
          "paper_bgcolor": "white",
          "plot_bgcolor": "white",
          "polar": {
           "angularaxis": {
            "gridcolor": "rgb(232,232,232)",
            "linecolor": "rgb(36,36,36)",
            "showgrid": false,
            "showline": true,
            "ticks": "outside"
           },
           "bgcolor": "white",
           "radialaxis": {
            "gridcolor": "rgb(232,232,232)",
            "linecolor": "rgb(36,36,36)",
            "showgrid": false,
            "showline": true,
            "ticks": "outside"
           }
          },
          "scene": {
           "xaxis": {
            "backgroundcolor": "white",
            "gridcolor": "rgb(232,232,232)",
            "gridwidth": 2,
            "linecolor": "rgb(36,36,36)",
            "showbackground": true,
            "showgrid": false,
            "showline": true,
            "ticks": "outside",
            "zeroline": false,
            "zerolinecolor": "rgb(36,36,36)"
           },
           "yaxis": {
            "backgroundcolor": "white",
            "gridcolor": "rgb(232,232,232)",
            "gridwidth": 2,
            "linecolor": "rgb(36,36,36)",
            "showbackground": true,
            "showgrid": false,
            "showline": true,
            "ticks": "outside",
            "zeroline": false,
            "zerolinecolor": "rgb(36,36,36)"
           },
           "zaxis": {
            "backgroundcolor": "white",
            "gridcolor": "rgb(232,232,232)",
            "gridwidth": 2,
            "linecolor": "rgb(36,36,36)",
            "showbackground": true,
            "showgrid": false,
            "showline": true,
            "ticks": "outside",
            "zeroline": false,
            "zerolinecolor": "rgb(36,36,36)"
           }
          },
          "shapedefaults": {
           "fillcolor": "black",
           "line": {
            "width": 0
           },
           "opacity": 0.3
          },
          "ternary": {
           "aaxis": {
            "gridcolor": "rgb(232,232,232)",
            "linecolor": "rgb(36,36,36)",
            "showgrid": false,
            "showline": true,
            "ticks": "outside"
           },
           "baxis": {
            "gridcolor": "rgb(232,232,232)",
            "linecolor": "rgb(36,36,36)",
            "showgrid": false,
            "showline": true,
            "ticks": "outside"
           },
           "bgcolor": "white",
           "caxis": {
            "gridcolor": "rgb(232,232,232)",
            "linecolor": "rgb(36,36,36)",
            "showgrid": false,
            "showline": true,
            "ticks": "outside"
           }
          },
          "title": {
           "x": 0.05
          },
          "xaxis": {
           "automargin": true,
           "gridcolor": "rgb(232,232,232)",
           "linecolor": "rgb(36,36,36)",
           "showgrid": false,
           "showline": true,
           "ticks": "outside",
           "title": {
            "standoff": 15
           },
           "zeroline": false,
           "zerolinecolor": "rgb(36,36,36)"
          },
          "yaxis": {
           "automargin": true,
           "gridcolor": "rgb(232,232,232)",
           "linecolor": "rgb(36,36,36)",
           "showgrid": false,
           "showline": true,
           "ticks": "outside",
           "title": {
            "standoff": 15
           },
           "zeroline": false,
           "zerolinecolor": "rgb(36,36,36)"
          }
         }
        },
        "title": {
         "font": {
          "color": "Black",
          "size": 22
         },
         "text": "Topics Over Time for 2022_11-2023_01",
         "x": 0.4,
         "xanchor": "center",
         "y": 0.95,
         "yanchor": "top"
        },
        "width": 1250,
        "xaxis": {
         "showgrid": true
        },
        "yaxis": {
         "showgrid": true,
         "title": {
          "text": "Frequency"
         }
        }
       }
      }
     },
     "metadata": {},
     "output_type": "display_data"
    },
    {
     "data": {
      "application/vnd.plotly.v1+json": {
       "config": {
        "plotlyServerURL": "https://plot.ly"
       },
       "data": [
        {
         "hoverinfo": "text",
         "hovertext": [
          "<b>Topic 0</b><br>Words: papua, otsus, tingkat, asli, sdm",
          "<b>Topic 0</b><br>Words: papua, otsus, asli, tingkat, sdm",
          "<b>Topic 0</b><br>Words: papua, otsus, asli, sdm, tingkat",
          "<b>Topic 0</b><br>Words: papua, otsus, asli, sdm, tingkat",
          "<b>Topic 0</b><br>Words: papua, otsus, asli, tingkat, sdm",
          "<b>Topic 0</b><br>Words: papua, otsus, asli, sdm, tingkat",
          "<b>Topic 0</b><br>Words: papua, asli, otsus, tingkat, dialog",
          "<b>Topic 0</b><br>Words: papua, otsus, daerah, dana, bangun"
         ],
         "marker": {
          "color": "#E69F00"
         },
         "mode": "lines",
         "name": "0_papua_otsus_asli_tingkat",
         "type": "scatter",
         "x": [
          "2023-02-01T04:25:25.980999+00:00",
          "2023-02-04T04:21:42.966666+00:00",
          "2023-02-07T02:12:16.933333+00:00",
          "2023-02-10T00:02:50.900000+00:00",
          "2023-02-12T21:53:24.866666+00:00",
          "2023-02-18T17:34:32.800000+00:00",
          "2023-02-21T15:25:06.766666+00:00",
          "2023-03-25T15:41:20.400000+00:00"
         ],
         "y": [
          2,
          4,
          1,
          4,
          7,
          1,
          1,
          1
         ]
        },
        {
         "hoverinfo": "text",
         "hovertext": [
          "<b>Topic 1</b><br>Words: baca, buku, tak, guru, penting",
          "<b>Topic 1</b><br>Words: nongkrong, haha, how, filsafat, obrol",
          "<b>Topic 1</b><br>Words: tahun, ikm, lorong, ppdb, gelap",
          "<b>Topic 1</b><br>Words: kyai, jangkau, kata, bagaimana, bukan",
          "<b>Topic 1</b><br>Words: enggak, ganti, gue, kerja, mau",
          "<b>Topic 1</b><br>Words: peran, tak, merdeka, cimsa, debat",
          "<b>Topic 1</b><br>Words: serius, dokter, bagai, perintah, kelompok",
          "<b>Topic 1</b><br>Words: bangun, pisa, jadi, perintah, indonesia",
          "<b>Topic 1</b><br>Words: akuntansi, sejahtera, sosial, leadership, manajemen",
          "<b>Topic 1</b><br>Words: ntt, sekolah, jam, masuk, pagi",
          "<b>Topic 1</b><br>Words: jam, masuk, sekolah, ntt, pagi",
          "<b>Topic 1</b><br>Words: masuk, ntt, jam, sekolah, pukul",
          "<b>Topic 1</b><br>Words: sekolah, pagi, guru, ntt, ajar",
          "<b>Topic 1</b><br>Words: bantu, wajib, indonesia, akun, advokasi",
          "<b>Topic 1</b><br>Words: pagi, menteri, tangerang, guru, jam",
          "<b>Topic 1</b><br>Words: inklusif, detail, beby, indonesia, maharani",
          "<b>Topic 1</b><br>Words: terima, kipk, biaya, kena, sih",
          "<b>Topic 1</b><br>Words: enggak, maaf, murid, semua, anak",
          "<b>Topic 1</b><br>Words: merdeka, ajar, beberapa, mutu, salur",
          "<b>Topic 1</b><br>Words: gue, kalo, ajar, ntb, tua",
          "<b>Topic 1</b><br>Words: alas, ahirahir, syarat, tes, situasi",
          "<b>Topic 1</b><br>Words: episode, ajar, lebih, negara, menteri",
          "<b>Topic 1</b><br>Words: ukt, sekolah, anak, aneh, masa",
          "<b>Topic 1</b><br>Words: nilai, kait, sebut, dosen, kritik",
          "<b>Topic 1</b><br>Words: lampung, guru, provinsi, fungsional, inggris",
          "<b>Topic 1</b><br>Words: etika, ajar, merdeka, guru, kualitas",
          "<b>Topic 1</b><br>Words: gratis, banyak, bikin, sekolah, antiisrael",
          "<b>Topic 1</b><br>Words: anies, iisma, presiden, tugas, ri",
          "<b>Topic 1</b><br>Words: bahas, bulan, enggak, guru, gtk",
          "<b>Topic 1</b><br>Words: indonesia, dewantara, ki, hadjar, juang"
         ],
         "marker": {
          "color": "#56B4E9"
         },
         "mode": "lines",
         "name": "1_sekolah_jam_ntt_masuk",
         "type": "scatter",
         "x": [
          "2023-02-01T04:25:25.980999+00:00",
          "2023-02-04T04:21:42.966666+00:00",
          "2023-02-07T02:12:16.933333+00:00",
          "2023-02-10T00:02:50.900000+00:00",
          "2023-02-12T21:53:24.866666+00:00",
          "2023-02-15T19:43:58.833333+00:00",
          "2023-02-18T17:34:32.800000+00:00",
          "2023-02-21T15:25:06.766666+00:00",
          "2023-02-24T13:15:40.733333+00:00",
          "2023-02-27T11:06:14.700000+00:00",
          "2023-03-02T08:56:48.666666+00:00",
          "2023-03-05T06:47:22.633333+00:00",
          "2023-03-08T04:37:56.600000+00:00",
          "2023-03-11T02:28:30.566666+00:00",
          "2023-03-14T00:19:04.533333+00:00",
          "2023-03-16T22:09:38.500000+00:00",
          "2023-03-19T20:00:12.466666+00:00",
          "2023-03-22T17:50:46.433333+00:00",
          "2023-03-25T15:41:20.400000+00:00",
          "2023-03-28T13:31:54.366666+00:00",
          "2023-03-31T11:22:28.333333+00:00",
          "2023-04-03T09:13:02.300000+00:00",
          "2023-04-06T07:03:36.266666+00:00",
          "2023-04-09T04:54:10.233333+00:00",
          "2023-04-12T02:44:44.200000+00:00",
          "2023-04-15T00:35:18.166666+00:00",
          "2023-04-17T22:25:52.133333+00:00",
          "2023-04-20T20:16:26.100000+00:00",
          "2023-04-23T18:07:00.066666+00:00",
          "2023-04-26T15:57:34.033333+00:00"
         ],
         "y": [
          13,
          3,
          7,
          5,
          8,
          8,
          7,
          11,
          5,
          60,
          34,
          29,
          16,
          9,
          11,
          10,
          4,
          11,
          4,
          10,
          2,
          10,
          6,
          5,
          10,
          7,
          10,
          4,
          8,
          5
         ]
        }
       ],
       "layout": {
        "height": 450,
        "hoverlabel": {
         "bgcolor": "white",
         "font": {
          "family": "Rockwell",
          "size": 16
         }
        },
        "legend": {
         "title": {
          "text": "<b>Global Topic Representation"
         }
        },
        "template": {
         "data": {
          "bar": [
           {
            "error_x": {
             "color": "rgb(36,36,36)"
            },
            "error_y": {
             "color": "rgb(36,36,36)"
            },
            "marker": {
             "line": {
              "color": "white",
              "width": 0.5
             },
             "pattern": {
              "fillmode": "overlay",
              "size": 10,
              "solidity": 0.2
             }
            },
            "type": "bar"
           }
          ],
          "barpolar": [
           {
            "marker": {
             "line": {
              "color": "white",
              "width": 0.5
             },
             "pattern": {
              "fillmode": "overlay",
              "size": 10,
              "solidity": 0.2
             }
            },
            "type": "barpolar"
           }
          ],
          "carpet": [
           {
            "aaxis": {
             "endlinecolor": "rgb(36,36,36)",
             "gridcolor": "white",
             "linecolor": "white",
             "minorgridcolor": "white",
             "startlinecolor": "rgb(36,36,36)"
            },
            "baxis": {
             "endlinecolor": "rgb(36,36,36)",
             "gridcolor": "white",
             "linecolor": "white",
             "minorgridcolor": "white",
             "startlinecolor": "rgb(36,36,36)"
            },
            "type": "carpet"
           }
          ],
          "choropleth": [
           {
            "colorbar": {
             "outlinewidth": 1,
             "tickcolor": "rgb(36,36,36)",
             "ticks": "outside"
            },
            "type": "choropleth"
           }
          ],
          "contour": [
           {
            "colorbar": {
             "outlinewidth": 1,
             "tickcolor": "rgb(36,36,36)",
             "ticks": "outside"
            },
            "colorscale": [
             [
              0,
              "#440154"
             ],
             [
              0.1111111111111111,
              "#482878"
             ],
             [
              0.2222222222222222,
              "#3e4989"
             ],
             [
              0.3333333333333333,
              "#31688e"
             ],
             [
              0.4444444444444444,
              "#26828e"
             ],
             [
              0.5555555555555556,
              "#1f9e89"
             ],
             [
              0.6666666666666666,
              "#35b779"
             ],
             [
              0.7777777777777778,
              "#6ece58"
             ],
             [
              0.8888888888888888,
              "#b5de2b"
             ],
             [
              1,
              "#fde725"
             ]
            ],
            "type": "contour"
           }
          ],
          "contourcarpet": [
           {
            "colorbar": {
             "outlinewidth": 1,
             "tickcolor": "rgb(36,36,36)",
             "ticks": "outside"
            },
            "type": "contourcarpet"
           }
          ],
          "heatmap": [
           {
            "colorbar": {
             "outlinewidth": 1,
             "tickcolor": "rgb(36,36,36)",
             "ticks": "outside"
            },
            "colorscale": [
             [
              0,
              "#440154"
             ],
             [
              0.1111111111111111,
              "#482878"
             ],
             [
              0.2222222222222222,
              "#3e4989"
             ],
             [
              0.3333333333333333,
              "#31688e"
             ],
             [
              0.4444444444444444,
              "#26828e"
             ],
             [
              0.5555555555555556,
              "#1f9e89"
             ],
             [
              0.6666666666666666,
              "#35b779"
             ],
             [
              0.7777777777777778,
              "#6ece58"
             ],
             [
              0.8888888888888888,
              "#b5de2b"
             ],
             [
              1,
              "#fde725"
             ]
            ],
            "type": "heatmap"
           }
          ],
          "heatmapgl": [
           {
            "colorbar": {
             "outlinewidth": 1,
             "tickcolor": "rgb(36,36,36)",
             "ticks": "outside"
            },
            "colorscale": [
             [
              0,
              "#440154"
             ],
             [
              0.1111111111111111,
              "#482878"
             ],
             [
              0.2222222222222222,
              "#3e4989"
             ],
             [
              0.3333333333333333,
              "#31688e"
             ],
             [
              0.4444444444444444,
              "#26828e"
             ],
             [
              0.5555555555555556,
              "#1f9e89"
             ],
             [
              0.6666666666666666,
              "#35b779"
             ],
             [
              0.7777777777777778,
              "#6ece58"
             ],
             [
              0.8888888888888888,
              "#b5de2b"
             ],
             [
              1,
              "#fde725"
             ]
            ],
            "type": "heatmapgl"
           }
          ],
          "histogram": [
           {
            "marker": {
             "line": {
              "color": "white",
              "width": 0.6
             }
            },
            "type": "histogram"
           }
          ],
          "histogram2d": [
           {
            "colorbar": {
             "outlinewidth": 1,
             "tickcolor": "rgb(36,36,36)",
             "ticks": "outside"
            },
            "colorscale": [
             [
              0,
              "#440154"
             ],
             [
              0.1111111111111111,
              "#482878"
             ],
             [
              0.2222222222222222,
              "#3e4989"
             ],
             [
              0.3333333333333333,
              "#31688e"
             ],
             [
              0.4444444444444444,
              "#26828e"
             ],
             [
              0.5555555555555556,
              "#1f9e89"
             ],
             [
              0.6666666666666666,
              "#35b779"
             ],
             [
              0.7777777777777778,
              "#6ece58"
             ],
             [
              0.8888888888888888,
              "#b5de2b"
             ],
             [
              1,
              "#fde725"
             ]
            ],
            "type": "histogram2d"
           }
          ],
          "histogram2dcontour": [
           {
            "colorbar": {
             "outlinewidth": 1,
             "tickcolor": "rgb(36,36,36)",
             "ticks": "outside"
            },
            "colorscale": [
             [
              0,
              "#440154"
             ],
             [
              0.1111111111111111,
              "#482878"
             ],
             [
              0.2222222222222222,
              "#3e4989"
             ],
             [
              0.3333333333333333,
              "#31688e"
             ],
             [
              0.4444444444444444,
              "#26828e"
             ],
             [
              0.5555555555555556,
              "#1f9e89"
             ],
             [
              0.6666666666666666,
              "#35b779"
             ],
             [
              0.7777777777777778,
              "#6ece58"
             ],
             [
              0.8888888888888888,
              "#b5de2b"
             ],
             [
              1,
              "#fde725"
             ]
            ],
            "type": "histogram2dcontour"
           }
          ],
          "mesh3d": [
           {
            "colorbar": {
             "outlinewidth": 1,
             "tickcolor": "rgb(36,36,36)",
             "ticks": "outside"
            },
            "type": "mesh3d"
           }
          ],
          "parcoords": [
           {
            "line": {
             "colorbar": {
              "outlinewidth": 1,
              "tickcolor": "rgb(36,36,36)",
              "ticks": "outside"
             }
            },
            "type": "parcoords"
           }
          ],
          "pie": [
           {
            "automargin": true,
            "type": "pie"
           }
          ],
          "scatter": [
           {
            "fillpattern": {
             "fillmode": "overlay",
             "size": 10,
             "solidity": 0.2
            },
            "type": "scatter"
           }
          ],
          "scatter3d": [
           {
            "line": {
             "colorbar": {
              "outlinewidth": 1,
              "tickcolor": "rgb(36,36,36)",
              "ticks": "outside"
             }
            },
            "marker": {
             "colorbar": {
              "outlinewidth": 1,
              "tickcolor": "rgb(36,36,36)",
              "ticks": "outside"
             }
            },
            "type": "scatter3d"
           }
          ],
          "scattercarpet": [
           {
            "marker": {
             "colorbar": {
              "outlinewidth": 1,
              "tickcolor": "rgb(36,36,36)",
              "ticks": "outside"
             }
            },
            "type": "scattercarpet"
           }
          ],
          "scattergeo": [
           {
            "marker": {
             "colorbar": {
              "outlinewidth": 1,
              "tickcolor": "rgb(36,36,36)",
              "ticks": "outside"
             }
            },
            "type": "scattergeo"
           }
          ],
          "scattergl": [
           {
            "marker": {
             "colorbar": {
              "outlinewidth": 1,
              "tickcolor": "rgb(36,36,36)",
              "ticks": "outside"
             }
            },
            "type": "scattergl"
           }
          ],
          "scattermapbox": [
           {
            "marker": {
             "colorbar": {
              "outlinewidth": 1,
              "tickcolor": "rgb(36,36,36)",
              "ticks": "outside"
             }
            },
            "type": "scattermapbox"
           }
          ],
          "scatterpolar": [
           {
            "marker": {
             "colorbar": {
              "outlinewidth": 1,
              "tickcolor": "rgb(36,36,36)",
              "ticks": "outside"
             }
            },
            "type": "scatterpolar"
           }
          ],
          "scatterpolargl": [
           {
            "marker": {
             "colorbar": {
              "outlinewidth": 1,
              "tickcolor": "rgb(36,36,36)",
              "ticks": "outside"
             }
            },
            "type": "scatterpolargl"
           }
          ],
          "scatterternary": [
           {
            "marker": {
             "colorbar": {
              "outlinewidth": 1,
              "tickcolor": "rgb(36,36,36)",
              "ticks": "outside"
             }
            },
            "type": "scatterternary"
           }
          ],
          "surface": [
           {
            "colorbar": {
             "outlinewidth": 1,
             "tickcolor": "rgb(36,36,36)",
             "ticks": "outside"
            },
            "colorscale": [
             [
              0,
              "#440154"
             ],
             [
              0.1111111111111111,
              "#482878"
             ],
             [
              0.2222222222222222,
              "#3e4989"
             ],
             [
              0.3333333333333333,
              "#31688e"
             ],
             [
              0.4444444444444444,
              "#26828e"
             ],
             [
              0.5555555555555556,
              "#1f9e89"
             ],
             [
              0.6666666666666666,
              "#35b779"
             ],
             [
              0.7777777777777778,
              "#6ece58"
             ],
             [
              0.8888888888888888,
              "#b5de2b"
             ],
             [
              1,
              "#fde725"
             ]
            ],
            "type": "surface"
           }
          ],
          "table": [
           {
            "cells": {
             "fill": {
              "color": "rgb(237,237,237)"
             },
             "line": {
              "color": "white"
             }
            },
            "header": {
             "fill": {
              "color": "rgb(217,217,217)"
             },
             "line": {
              "color": "white"
             }
            },
            "type": "table"
           }
          ]
         },
         "layout": {
          "annotationdefaults": {
           "arrowhead": 0,
           "arrowwidth": 1
          },
          "autotypenumbers": "strict",
          "coloraxis": {
           "colorbar": {
            "outlinewidth": 1,
            "tickcolor": "rgb(36,36,36)",
            "ticks": "outside"
           }
          },
          "colorscale": {
           "diverging": [
            [
             0,
             "rgb(103,0,31)"
            ],
            [
             0.1,
             "rgb(178,24,43)"
            ],
            [
             0.2,
             "rgb(214,96,77)"
            ],
            [
             0.3,
             "rgb(244,165,130)"
            ],
            [
             0.4,
             "rgb(253,219,199)"
            ],
            [
             0.5,
             "rgb(247,247,247)"
            ],
            [
             0.6,
             "rgb(209,229,240)"
            ],
            [
             0.7,
             "rgb(146,197,222)"
            ],
            [
             0.8,
             "rgb(67,147,195)"
            ],
            [
             0.9,
             "rgb(33,102,172)"
            ],
            [
             1,
             "rgb(5,48,97)"
            ]
           ],
           "sequential": [
            [
             0,
             "#440154"
            ],
            [
             0.1111111111111111,
             "#482878"
            ],
            [
             0.2222222222222222,
             "#3e4989"
            ],
            [
             0.3333333333333333,
             "#31688e"
            ],
            [
             0.4444444444444444,
             "#26828e"
            ],
            [
             0.5555555555555556,
             "#1f9e89"
            ],
            [
             0.6666666666666666,
             "#35b779"
            ],
            [
             0.7777777777777778,
             "#6ece58"
            ],
            [
             0.8888888888888888,
             "#b5de2b"
            ],
            [
             1,
             "#fde725"
            ]
           ],
           "sequentialminus": [
            [
             0,
             "#440154"
            ],
            [
             0.1111111111111111,
             "#482878"
            ],
            [
             0.2222222222222222,
             "#3e4989"
            ],
            [
             0.3333333333333333,
             "#31688e"
            ],
            [
             0.4444444444444444,
             "#26828e"
            ],
            [
             0.5555555555555556,
             "#1f9e89"
            ],
            [
             0.6666666666666666,
             "#35b779"
            ],
            [
             0.7777777777777778,
             "#6ece58"
            ],
            [
             0.8888888888888888,
             "#b5de2b"
            ],
            [
             1,
             "#fde725"
            ]
           ]
          },
          "colorway": [
           "#1F77B4",
           "#FF7F0E",
           "#2CA02C",
           "#D62728",
           "#9467BD",
           "#8C564B",
           "#E377C2",
           "#7F7F7F",
           "#BCBD22",
           "#17BECF"
          ],
          "font": {
           "color": "rgb(36,36,36)"
          },
          "geo": {
           "bgcolor": "white",
           "lakecolor": "white",
           "landcolor": "white",
           "showlakes": true,
           "showland": true,
           "subunitcolor": "white"
          },
          "hoverlabel": {
           "align": "left"
          },
          "hovermode": "closest",
          "mapbox": {
           "style": "light"
          },
          "paper_bgcolor": "white",
          "plot_bgcolor": "white",
          "polar": {
           "angularaxis": {
            "gridcolor": "rgb(232,232,232)",
            "linecolor": "rgb(36,36,36)",
            "showgrid": false,
            "showline": true,
            "ticks": "outside"
           },
           "bgcolor": "white",
           "radialaxis": {
            "gridcolor": "rgb(232,232,232)",
            "linecolor": "rgb(36,36,36)",
            "showgrid": false,
            "showline": true,
            "ticks": "outside"
           }
          },
          "scene": {
           "xaxis": {
            "backgroundcolor": "white",
            "gridcolor": "rgb(232,232,232)",
            "gridwidth": 2,
            "linecolor": "rgb(36,36,36)",
            "showbackground": true,
            "showgrid": false,
            "showline": true,
            "ticks": "outside",
            "zeroline": false,
            "zerolinecolor": "rgb(36,36,36)"
           },
           "yaxis": {
            "backgroundcolor": "white",
            "gridcolor": "rgb(232,232,232)",
            "gridwidth": 2,
            "linecolor": "rgb(36,36,36)",
            "showbackground": true,
            "showgrid": false,
            "showline": true,
            "ticks": "outside",
            "zeroline": false,
            "zerolinecolor": "rgb(36,36,36)"
           },
           "zaxis": {
            "backgroundcolor": "white",
            "gridcolor": "rgb(232,232,232)",
            "gridwidth": 2,
            "linecolor": "rgb(36,36,36)",
            "showbackground": true,
            "showgrid": false,
            "showline": true,
            "ticks": "outside",
            "zeroline": false,
            "zerolinecolor": "rgb(36,36,36)"
           }
          },
          "shapedefaults": {
           "fillcolor": "black",
           "line": {
            "width": 0
           },
           "opacity": 0.3
          },
          "ternary": {
           "aaxis": {
            "gridcolor": "rgb(232,232,232)",
            "linecolor": "rgb(36,36,36)",
            "showgrid": false,
            "showline": true,
            "ticks": "outside"
           },
           "baxis": {
            "gridcolor": "rgb(232,232,232)",
            "linecolor": "rgb(36,36,36)",
            "showgrid": false,
            "showline": true,
            "ticks": "outside"
           },
           "bgcolor": "white",
           "caxis": {
            "gridcolor": "rgb(232,232,232)",
            "linecolor": "rgb(36,36,36)",
            "showgrid": false,
            "showline": true,
            "ticks": "outside"
           }
          },
          "title": {
           "x": 0.05
          },
          "xaxis": {
           "automargin": true,
           "gridcolor": "rgb(232,232,232)",
           "linecolor": "rgb(36,36,36)",
           "showgrid": false,
           "showline": true,
           "ticks": "outside",
           "title": {
            "standoff": 15
           },
           "zeroline": false,
           "zerolinecolor": "rgb(36,36,36)"
          },
          "yaxis": {
           "automargin": true,
           "gridcolor": "rgb(232,232,232)",
           "linecolor": "rgb(36,36,36)",
           "showgrid": false,
           "showline": true,
           "ticks": "outside",
           "title": {
            "standoff": 15
           },
           "zeroline": false,
           "zerolinecolor": "rgb(36,36,36)"
          }
         }
        },
        "title": {
         "font": {
          "color": "Black",
          "size": 22
         },
         "text": "Topics Over Time for 2023_02-2023_04",
         "x": 0.4,
         "xanchor": "center",
         "y": 0.95,
         "yanchor": "top"
        },
        "width": 1250,
        "xaxis": {
         "showgrid": true
        },
        "yaxis": {
         "showgrid": true,
         "title": {
          "text": "Frequency"
         }
        }
       }
      }
     },
     "metadata": {},
     "output_type": "display_data"
    },
    {
     "data": {
      "application/vnd.plotly.v1+json": {
       "config": {
        "plotlyServerURL": "https://plot.ly"
       },
       "data": [
        {
         "hoverinfo": "text",
         "hovertext": [
          "<b>Topic 0</b><br>Words: guru, mei, pekaes, renggut, tega",
          "<b>Topic 0</b><br>Words: sekolah, senang, kurang, gratis, bangun",
          "<b>Topic 0</b><br>Words: tanya, sekolah, kalian, guru, tahu",
          "<b>Topic 0</b><br>Words: aspirasi, jaring, mahasiswa, jadi, biaya",
          "<b>Topic 0</b><br>Words: problematika, kali, buru, fipp, sok",
          "<b>Topic 0</b><br>Words: deret, tunjuk, lewat, ahli, mendikbud",
          "<b>Topic 0</b><br>Words: fenomena, siswamahasiswa, radikalisme, radikalisasi, intoleransi",
          "<b>Topic 0</b><br>Words: guru, banget, buat, jadi, merdeka",
          "<b>Topic 0</b><br>Words: guru, enggak, gaji, jadi, aku",
          "<b>Topic 0</b><br>Words: guru, malah, tambah, baru, enggak",
          "<b>Topic 0</b><br>Words: sudut, dr, pandang, prof, amat",
          "<b>Topic 0</b><br>Words: guru, ganti, urus, punya, lapang",
          "<b>Topic 0</b><br>Words: sekolah, ikhlas, guru, kalau, ajar",
          "<b>Topic 0</b><br>Words: edukasi, ide, insan, brilian, ngobrol",
          "<b>Topic 0</b><br>Words: cegah, sekolah, keras, lingkung, baik",
          "<b>Topic 0</b><br>Words: jelas, anggar, enggak, money, manajerial",
          "<b>Topic 0</b><br>Words: aware, tangerang, kota, profesor, guru",
          "<b>Topic 0</b><br>Words: prestasi, siswa, batamampnbsphal, batam, reward",
          "<b>Topic 0</b><br>Words: profesional, kompeten, orang, positif, antara",
          "<b>Topic 0</b><br>Words: hebat, lihat, media, orang, sekolah",
          "<b>Topic 0</b><br>Words: perata, guru, kuantitas, basis, sekolah",
          "<b>Topic 0</b><br>Words: guru, gaji, bikin, awal, kualitas",
          "<b>Topic 0</b><br>Words: sekolah, periode, buat, enggak, sedang",
          "<b>Topic 0</b><br>Words: sekolah, anak, kipk, tahun, masuk",
          "<b>Topic 0</b><br>Words: sistem, salah, ukt, jadi, tahun",
          "<b>Topic 0</b><br>Words: sekolah, masuk, ajar, awak, skola"
         ],
         "marker": {
          "color": "#E69F00"
         },
         "mode": "lines",
         "name": "0_guru_sekolah_jadi_enggak",
         "type": "scatter",
         "x": [
          "2023-05-01T14:45:48.126000+00:00",
          "2023-05-04T17:09:03.800000+00:00",
          "2023-05-07T17:22:19.600000+00:00",
          "2023-05-10T17:35:35.400000+00:00",
          "2023-05-13T17:48:51.200000+00:00",
          "2023-05-16T18:02:07+00:00",
          "2023-05-19T18:15:22.800000+00:00",
          "2023-05-25T18:41:54.400000+00:00",
          "2023-05-28T18:55:10.200000+00:00",
          "2023-05-31T19:08:26+00:00",
          "2023-06-03T19:21:41.800000+00:00",
          "2023-06-06T19:34:57.600000+00:00",
          "2023-06-12T20:01:29.200000+00:00",
          "2023-06-15T20:14:45+00:00",
          "2023-06-18T20:28:00.800000+00:00",
          "2023-06-21T20:41:16.600000+00:00",
          "2023-06-24T20:54:32.400000+00:00",
          "2023-06-27T21:07:48.200000+00:00",
          "2023-06-30T21:21:04+00:00",
          "2023-07-03T21:34:19.800000+00:00",
          "2023-07-06T21:47:35.600000+00:00",
          "2023-07-09T22:00:51.400000+00:00",
          "2023-07-12T22:14:07.200000+00:00",
          "2023-07-15T22:27:23+00:00",
          "2023-07-24T23:07:10.400000+00:00",
          "2023-07-27T23:20:26.200000+00:00"
         ],
         "y": [
          8,
          3,
          4,
          7,
          2,
          1,
          1,
          5,
          14,
          4,
          1,
          6,
          8,
          2,
          22,
          3,
          4,
          2,
          1,
          4,
          2,
          6,
          8,
          8,
          3,
          7
         ]
        },
        {
         "hoverinfo": "text",
         "hovertext": [
          "<b>Topic 1</b><br>Words: indonesia, hari, papua, jakarta, nasional",
          "<b>Topic 1</b><br>Words: gt, indonesia, ganti, tenaga, miskin",
          "<b>Topic 1</b><br>Words: indonesia, obrol, kalang, bareng, pspk",
          "<b>Topic 1</b><br>Words: literasi, indonesia, data, teliti, senjang",
          "<b>Topic 1</b><br>Words: indonesia, perindo, satu, partai, inklusif",
          "<b>Topic 1</b><br>Words: pks, programprogram, bela, aksesibilitas, usul",
          "<b>Topic 1</b><br>Words: indonesia, instansi, akumulasi, impi, terampil",
          "<b>Topic 1</b><br>Words: kok, coba, ntb, sarjana, survai",
          "<b>Topic 1</b><br>Words: indonesia, fiskal, manufaktur, himbau, politis",
          "<b>Topic 1</b><br>Words: guru, makin, memang, segi, knapa",
          "<b>Topic 1</b><br>Words: sukses, bapak, baswedan, bantu, jakarta",
          "<b>Topic 1</b><br>Words: indonesia, sama, tlng, pak, papua",
          "<b>Topic 1</b><br>Words: papua, otsus, marah, asli, indonesia",
          "<b>Topic 1</b><br>Words: indonesia, makarim, tuju, nadiem, buat",
          "<b>Topic 1</b><br>Words: jaman, indonesia, sekarang, hidup, nilai",
          "<b>Topic 1</b><br>Words: indonesia, stem, think, seperti, kirakira",
          "<b>Topic 1</b><br>Words: lo, antah, malaysia, enggak, maju",
          "<b>Topic 1</b><br>Words: indonesia, unas, jakarta, miskin, butuh",
          "<b>Topic 1</b><br>Words: indonesia, makin, full, acu, jadi",
          "<b>Topic 1</b><br>Words: papua, indonesia, isolir, formasi, cepat",
          "<b>Topic 1</b><br>Words: on, seapd, early, childhood, southeast",
          "<b>Topic 1</b><br>Words: dini, usia, asean, dialog, gelar",
          "<b>Topic 1</b><br>Words: indonesia, lama, on, muhadjir, ganti"
         ],
         "marker": {
          "color": "#56B4E9"
         },
         "mode": "lines",
         "name": "1_indonesia_literasi_satu_anak",
         "type": "scatter",
         "x": [
          "2023-05-01T14:45:48.126000+00:00",
          "2023-05-04T17:09:03.800000+00:00",
          "2023-05-07T17:22:19.600000+00:00",
          "2023-05-13T17:48:51.200000+00:00",
          "2023-05-16T18:02:07+00:00",
          "2023-05-19T18:15:22.800000+00:00",
          "2023-05-28T18:55:10.200000+00:00",
          "2023-05-31T19:08:26+00:00",
          "2023-06-03T19:21:41.800000+00:00",
          "2023-06-06T19:34:57.600000+00:00",
          "2023-06-09T19:48:13.400000+00:00",
          "2023-06-12T20:01:29.200000+00:00",
          "2023-06-15T20:14:45+00:00",
          "2023-06-18T20:28:00.800000+00:00",
          "2023-06-21T20:41:16.600000+00:00",
          "2023-06-24T20:54:32.400000+00:00",
          "2023-07-03T21:34:19.800000+00:00",
          "2023-07-06T21:47:35.600000+00:00",
          "2023-07-09T22:00:51.400000+00:00",
          "2023-07-12T22:14:07.200000+00:00",
          "2023-07-21T22:53:54.600000+00:00",
          "2023-07-24T23:07:10.400000+00:00",
          "2023-07-27T23:20:26.200000+00:00"
         ],
         "y": [
          9,
          5,
          6,
          12,
          4,
          1,
          2,
          1,
          2,
          1,
          1,
          5,
          3,
          3,
          4,
          2,
          2,
          4,
          5,
          4,
          2,
          7,
          13
         ]
        },
        {
         "hoverinfo": "text",
         "hovertext": [
          "<b>Topic 2</b><br>Words: tunai, mengarusutamakan, agenda, bagibagi, australia",
          "<b>Topic 2</b><br>Words: mang, semua, bold, underline, perahu",
          "<b>Topic 2</b><br>Words: partai, rakyat, sehat, adil, akses",
          "<b>Topic 2</b><br>Words: rakyat, usaha, miskin, kota, smpsma",
          "<b>Topic 2</b><br>Words: perempuan, lindung, bangun, sehat, pks",
          "<b>Topic 2</b><br>Words: pks, lapis, ada, bela, kondisi",
          "<b>Topic 2</b><br>Words: tani, dukung, lembaga, kerja, bersih",
          "<b>Topic 2</b><br>Words: pariwisata, tumbuh, progresif, daya, cipta",
          "<b>Topic 2</b><br>Words: ekonomi, positif, peluang, akses, sehat",
          "<b>Topic 2</b><br>Words: naikin, konsekuensi, rokok, demokratis, reformasi",
          "<b>Topic 2</b><br>Words: political, will, hadap, bonus, peluang",
          "<b>Topic 2</b><br>Words: progresif, inovatif, milik, sektor, jawa",
          "<b>Topic 2</b><br>Words: dana, daerah, dad, ringkas, abadi",
          "<b>Topic 2</b><br>Words: stakeholders, this, present, new, aksi",
          "<b>Topic 2</b><br>Words: fokus, hidup, miskin, layan, sehat",
          "<b>Topic 2</b><br>Words: liput, holistik, manusia, sosial, pks",
          "<b>Topic 2</b><br>Words: medical, wellness, hasil, kolaborasi, elemen",
          "<b>Topic 2</b><br>Words: subsidi, wellness, medical, sasar, ku"
         ],
         "marker": {
          "color": "#009E73"
         },
         "mode": "lines",
         "name": "2_sehat_akses_rakyat_pks",
         "type": "scatter",
         "x": [
          "2023-05-01T14:45:48.126000+00:00",
          "2023-05-04T17:09:03.800000+00:00",
          "2023-05-07T17:22:19.600000+00:00",
          "2023-05-10T17:35:35.400000+00:00",
          "2023-05-16T18:02:07+00:00",
          "2023-05-19T18:15:22.800000+00:00",
          "2023-05-28T18:55:10.200000+00:00",
          "2023-05-31T19:08:26+00:00",
          "2023-06-12T20:01:29.200000+00:00",
          "2023-06-15T20:14:45+00:00",
          "2023-06-21T20:41:16.600000+00:00",
          "2023-06-24T20:54:32.400000+00:00",
          "2023-06-27T21:07:48.200000+00:00",
          "2023-07-03T21:34:19.800000+00:00",
          "2023-07-09T22:00:51.400000+00:00",
          "2023-07-12T22:14:07.200000+00:00",
          "2023-07-24T23:07:10.400000+00:00",
          "2023-07-27T23:20:26.200000+00:00"
         ],
         "y": [
          2,
          2,
          2,
          2,
          8,
          1,
          2,
          1,
          3,
          2,
          1,
          3,
          1,
          1,
          1,
          1,
          2,
          2
         ]
        },
        {
         "hoverinfo": "text",
         "hovertext": [
          "<b>Topic 3</b><br>Words: kamu, artikel, lengkap, sini, baca",
          "<b>Topic 3</b><br>Words: kartu, karyono, karpeg, mpd, disdikbud",
          "<b>Topic 3</b><br>Words: dikdasmen, pnf, helat, fgd, fip",
          "<b>Topic 3</b><br>Words: zonasi, ingin, bareng, ppdb, meski",
          "<b>Topic 3</b><br>Words: zonasi, ppdb, kait, sob, meski",
          "<b>Topic 3</b><br>Words: ppdb, zonasi, domisili, gaduh, goblok",
          "<b>Topic 3</b><br>Words: zonasi, penyamarataan, antar, sebab, fasilitas",
          "<b>Topic 3</b><br>Words: muhadjir, menko, zonasi, tuju, ppdb",
          "<b>Topic 3</b><br>Words: zonasi, makarim, nadiem, ppdb, menteri"
         ],
         "marker": {
          "color": "#F0E442"
         },
         "mode": "lines",
         "name": "3_zonasi_ppdb_makarim_nadiem",
         "type": "scatter",
         "x": [
          "2023-05-13T17:48:51.200000+00:00",
          "2023-05-19T18:15:22.800000+00:00",
          "2023-06-18T20:28:00.800000+00:00",
          "2023-07-06T21:47:35.600000+00:00",
          "2023-07-09T22:00:51.400000+00:00",
          "2023-07-12T22:14:07.200000+00:00",
          "2023-07-15T22:27:23+00:00",
          "2023-07-24T23:07:10.400000+00:00",
          "2023-07-27T23:20:26.200000+00:00"
         ],
         "y": [
          2,
          1,
          2,
          1,
          5,
          2,
          1,
          2,
          8
         ]
        },
        {
         "hoverinfo": "text",
         "hovertext": [
          "<b>Topic 4</b><br>Words: saudi, musik, simalakama, arab, mapel",
          "<b>Topic 4</b><br>Words: bye, common, tegur, moral, society",
          "<b>Topic 4</b><br>Words: panitia, pdm, plm, pkkmb, agama",
          "<b>Topic 4</b><br>Words: almasih, isa, naik, agama, ingat",
          "<b>Topic 4</b><br>Words: nu, nahdlatul, maahid, islamiyah, rabithah",
          "<b>Topic 4</b><br>Words: mboh, karepmu, all, for, mang",
          "<b>Topic 4</b><br>Words: kepala, siang, sub, aula, hermawan",
          "<b>Topic 4</b><br>Words: bagito, miing, gelora, bambang, tum",
          "<b>Topic 4</b><br>Words: pgn, giat, prawijaya, poldrsghiri, brigjen",
          "<b>Topic 4</b><br>Words: kepala, upacara, kantor, negeri, luar",
          "<b>Topic 4</b><br>Words: ormas, kuasa, kali, negara, mendekte",
          "<b>Topic 4</b><br>Words: timur, jawa, stp, lantik, aries",
          "<b>Topic 4</b><br>Words: agama, haji, adabetika, menag, khayal",
          "<b>Topic 4</b><br>Words: moal, abi, insyaallah, aya, budak",
          "<b>Topic 4</b><br>Words: dindik, paewai, aries, agung, timur",
          "<b>Topic 4</b><br>Words: dindik, paewai, aries, agung, timur"
         ],
         "marker": {
          "color": "#D55E00"
         },
         "mode": "lines",
         "name": "4_agama_kepala_timur_panitia",
         "type": "scatter",
         "x": [
          "2023-05-01T14:45:48.126000+00:00",
          "2023-05-04T17:09:03.800000+00:00",
          "2023-05-07T17:22:19.600000+00:00",
          "2023-05-16T18:02:07+00:00",
          "2023-05-19T18:15:22.800000+00:00",
          "2023-05-28T18:55:10.200000+00:00",
          "2023-05-31T19:08:26+00:00",
          "2023-06-06T19:34:57.600000+00:00",
          "2023-06-12T20:01:29.200000+00:00",
          "2023-06-18T20:28:00.800000+00:00",
          "2023-06-27T21:07:48.200000+00:00",
          "2023-07-06T21:47:35.600000+00:00",
          "2023-07-12T22:14:07.200000+00:00",
          "2023-07-15T22:27:23+00:00",
          "2023-07-21T22:53:54.600000+00:00",
          "2023-07-24T23:07:10.400000+00:00"
         ],
         "y": [
          2,
          1,
          2,
          2,
          2,
          1,
          1,
          1,
          1,
          2,
          1,
          1,
          2,
          1,
          1,
          1
         ]
        },
        {
         "hoverinfo": "text",
         "hovertext": [
          "<b>Topic 5</b><br>Words: ragam, pesan, ganjar, penting, maju",
          "<b>Topic 5</b><br>Words: abai, karakter, ingat, ragam, tinggi",
          "<b>Topic 5</b><br>Words: ragam, pesan, maju, penting, ganjar",
          "<b>Topic 5</b><br>Words: mebenai, jawab, umkm, prabowo, bisnis"
         ],
         "marker": {
          "color": "#0072B2"
         },
         "mode": "lines",
         "name": "5_ragam_pesan_maju_penting",
         "type": "scatter",
         "x": [
          "2023-05-01T14:45:48.126000+00:00",
          "2023-05-07T17:22:19.600000+00:00",
          "2023-05-10T17:35:35.400000+00:00",
          "2023-07-12T22:14:07.200000+00:00"
         ],
         "y": [
          5,
          1,
          14,
          1
         ]
        },
        {
         "hoverinfo": "text",
         "hovertext": [
          "<b>Topic 6</b><br>Words: politik, inkonsistensi, politisasi, dunia, pisah",
          "<b>Topic 6</b><br>Words: isme, apa, politik, share, inhern",
          "<b>Topic 6</b><br>Words: bidang, akademis, politikus, baswedan, ahli",
          "<b>Topic 6</b><br>Words: politik, etis, bumiputra, bangkit, perintah",
          "<b>Topic 6</b><br>Words: sosok, panelis, kontak, revin, proiisma",
          "<b>Topic 6</b><br>Words: warga, jabat, negara, tonton, tidack",
          "<b>Topic 6</b><br>Words: etika, lintas, simnya, kendara, emosi",
          "<b>Topic 6</b><br>Words: nurlia, menpanrb, jppr, paramita, dian",
          "<b>Topic 6</b><br>Words: kritik, dgn, pupuk, buzzer, utang",
          "<b>Topic 6</b><br>Words: kuasa, belenggu, chapter, digital, realitas",
          "<b>Topic 6</b><br>Words: amerika, politik, ekonomi, fulbright, state"
         ],
         "marker": {
          "color": "#CC79A7"
         },
         "mode": "lines",
         "name": "6_politik_inkonsistensi_politisasi_dunia",
         "type": "scatter",
         "x": [
          "2023-05-01T14:45:48.126000+00:00",
          "2023-05-13T17:48:51.200000+00:00",
          "2023-05-16T18:02:07+00:00",
          "2023-05-19T18:15:22.800000+00:00",
          "2023-05-31T19:08:26+00:00",
          "2023-06-06T19:34:57.600000+00:00",
          "2023-06-15T20:14:45+00:00",
          "2023-06-18T20:28:00.800000+00:00",
          "2023-06-21T20:41:16.600000+00:00",
          "2023-07-06T21:47:35.600000+00:00",
          "2023-07-27T23:20:26.200000+00:00"
         ],
         "y": [
          5,
          1,
          1,
          1,
          1,
          2,
          1,
          1,
          1,
          1,
          2
         ]
        },
        {
         "hoverinfo": "text",
         "hovertext": [
          "<b>Topic 7</b><br>Words: kontroversial, huda, subprogram, syaiful, rumus",
          "<b>Topic 7</b><br>Words: terjemah, kompetensi, referensi, pancasila, profil",
          "<b>Topic 7</b><br>Words: tangan, ada, adek, pemkabpemkot, slb",
          "<b>Topic 7</b><br>Words: kemudi, lampir, sim, surat, sertifikat",
          "<b>Topic 7</b><br>Words: ada, barangjasa, lkpp, ppsdm, atrbpn",
          "<b>Topic 7</b><br>Words: barangjasa, ada, atrbpn, ppsdm, bekerjasama",
          "<b>Topic 7</b><br>Words: barangjasa, ada, perintah, hai, atrbpn",
          "<b>Topic 7</b><br>Words: nasional, asesmen, blinder, uji, tvr",
          "<b>Topic 7</b><br>Words: ada, barangjasa, analis, rencana, uji",
          "<b>Topic 7</b><br>Words: institusi, dpr, komisi, ptn, kali"
         ],
         "marker": {
          "color": "#E69F00"
         },
         "mode": "lines",
         "name": "7_ada_barangjasa_uji_latih",
         "type": "scatter",
         "x": [
          "2023-05-01T14:45:48.126000+00:00",
          "2023-05-10T17:35:35.400000+00:00",
          "2023-05-19T18:15:22.800000+00:00",
          "2023-06-18T20:28:00.800000+00:00",
          "2023-06-21T20:41:16.600000+00:00",
          "2023-07-03T21:34:19.800000+00:00",
          "2023-07-06T21:47:35.600000+00:00",
          "2023-07-09T22:00:51.400000+00:00",
          "2023-07-12T22:14:07.200000+00:00",
          "2023-07-24T23:07:10.400000+00:00"
         ],
         "y": [
          1,
          2,
          1,
          1,
          2,
          2,
          1,
          2,
          2,
          2
         ]
        },
        {
         "hoverinfo": "text",
         "hovertext": [
          "<b>Topic 8</b><br>Words: pahlawan, riau, gubri, gulir, syamsuar",
          "<b>Topic 8</b><br>Words: gubri, gulir, syamsuar, riau, provinsi",
          "<b>Topic 8</b><br>Words: andri, erti, ucap, mesti, jabat",
          "<b>Topic 8</b><br>Words: tokcer, banget, inklusif, anies, pak",
          "<b>Topic 8</b><br>Words: kasihan, kayak, begini, kalo, up",
          "<b>Topic 8</b><br>Words: militan, banget, inklusif, anies, pak",
          "<b>Topic 8</b><br>Words: juara, mirza, fathir, lupa, kritisi",
          "<b>Topic 8</b><br>Words: spill, utbk, uny, skor, lolos",
          "<b>Topic 8</b><br>Words: riau, kepri, pulau, rombel, ombudsman",
          "<b>Topic 8</b><br>Words: settle, gebrak, ellon, rusuh, kesan"
         ],
         "marker": {
          "color": "#56B4E9"
         },
         "mode": "lines",
         "name": "8_riau_gubri_syamsuar_gulir",
         "type": "scatter",
         "x": [
          "2023-05-01T14:45:48.126000+00:00",
          "2023-05-04T17:09:03.800000+00:00",
          "2023-05-16T18:02:07+00:00",
          "2023-05-25T18:41:54.400000+00:00",
          "2023-05-28T18:55:10.200000+00:00",
          "2023-06-06T19:34:57.600000+00:00",
          "2023-06-12T20:01:29.200000+00:00",
          "2023-07-09T22:00:51.400000+00:00",
          "2023-07-15T22:27:23+00:00",
          "2023-07-21T22:53:54.600000+00:00"
         ],
         "y": [
          3,
          2,
          1,
          1,
          1,
          1,
          1,
          1,
          1,
          1
         ]
        }
       ],
       "layout": {
        "height": 450,
        "hoverlabel": {
         "bgcolor": "white",
         "font": {
          "family": "Rockwell",
          "size": 16
         }
        },
        "legend": {
         "title": {
          "text": "<b>Global Topic Representation"
         }
        },
        "template": {
         "data": {
          "bar": [
           {
            "error_x": {
             "color": "rgb(36,36,36)"
            },
            "error_y": {
             "color": "rgb(36,36,36)"
            },
            "marker": {
             "line": {
              "color": "white",
              "width": 0.5
             },
             "pattern": {
              "fillmode": "overlay",
              "size": 10,
              "solidity": 0.2
             }
            },
            "type": "bar"
           }
          ],
          "barpolar": [
           {
            "marker": {
             "line": {
              "color": "white",
              "width": 0.5
             },
             "pattern": {
              "fillmode": "overlay",
              "size": 10,
              "solidity": 0.2
             }
            },
            "type": "barpolar"
           }
          ],
          "carpet": [
           {
            "aaxis": {
             "endlinecolor": "rgb(36,36,36)",
             "gridcolor": "white",
             "linecolor": "white",
             "minorgridcolor": "white",
             "startlinecolor": "rgb(36,36,36)"
            },
            "baxis": {
             "endlinecolor": "rgb(36,36,36)",
             "gridcolor": "white",
             "linecolor": "white",
             "minorgridcolor": "white",
             "startlinecolor": "rgb(36,36,36)"
            },
            "type": "carpet"
           }
          ],
          "choropleth": [
           {
            "colorbar": {
             "outlinewidth": 1,
             "tickcolor": "rgb(36,36,36)",
             "ticks": "outside"
            },
            "type": "choropleth"
           }
          ],
          "contour": [
           {
            "colorbar": {
             "outlinewidth": 1,
             "tickcolor": "rgb(36,36,36)",
             "ticks": "outside"
            },
            "colorscale": [
             [
              0,
              "#440154"
             ],
             [
              0.1111111111111111,
              "#482878"
             ],
             [
              0.2222222222222222,
              "#3e4989"
             ],
             [
              0.3333333333333333,
              "#31688e"
             ],
             [
              0.4444444444444444,
              "#26828e"
             ],
             [
              0.5555555555555556,
              "#1f9e89"
             ],
             [
              0.6666666666666666,
              "#35b779"
             ],
             [
              0.7777777777777778,
              "#6ece58"
             ],
             [
              0.8888888888888888,
              "#b5de2b"
             ],
             [
              1,
              "#fde725"
             ]
            ],
            "type": "contour"
           }
          ],
          "contourcarpet": [
           {
            "colorbar": {
             "outlinewidth": 1,
             "tickcolor": "rgb(36,36,36)",
             "ticks": "outside"
            },
            "type": "contourcarpet"
           }
          ],
          "heatmap": [
           {
            "colorbar": {
             "outlinewidth": 1,
             "tickcolor": "rgb(36,36,36)",
             "ticks": "outside"
            },
            "colorscale": [
             [
              0,
              "#440154"
             ],
             [
              0.1111111111111111,
              "#482878"
             ],
             [
              0.2222222222222222,
              "#3e4989"
             ],
             [
              0.3333333333333333,
              "#31688e"
             ],
             [
              0.4444444444444444,
              "#26828e"
             ],
             [
              0.5555555555555556,
              "#1f9e89"
             ],
             [
              0.6666666666666666,
              "#35b779"
             ],
             [
              0.7777777777777778,
              "#6ece58"
             ],
             [
              0.8888888888888888,
              "#b5de2b"
             ],
             [
              1,
              "#fde725"
             ]
            ],
            "type": "heatmap"
           }
          ],
          "heatmapgl": [
           {
            "colorbar": {
             "outlinewidth": 1,
             "tickcolor": "rgb(36,36,36)",
             "ticks": "outside"
            },
            "colorscale": [
             [
              0,
              "#440154"
             ],
             [
              0.1111111111111111,
              "#482878"
             ],
             [
              0.2222222222222222,
              "#3e4989"
             ],
             [
              0.3333333333333333,
              "#31688e"
             ],
             [
              0.4444444444444444,
              "#26828e"
             ],
             [
              0.5555555555555556,
              "#1f9e89"
             ],
             [
              0.6666666666666666,
              "#35b779"
             ],
             [
              0.7777777777777778,
              "#6ece58"
             ],
             [
              0.8888888888888888,
              "#b5de2b"
             ],
             [
              1,
              "#fde725"
             ]
            ],
            "type": "heatmapgl"
           }
          ],
          "histogram": [
           {
            "marker": {
             "line": {
              "color": "white",
              "width": 0.6
             }
            },
            "type": "histogram"
           }
          ],
          "histogram2d": [
           {
            "colorbar": {
             "outlinewidth": 1,
             "tickcolor": "rgb(36,36,36)",
             "ticks": "outside"
            },
            "colorscale": [
             [
              0,
              "#440154"
             ],
             [
              0.1111111111111111,
              "#482878"
             ],
             [
              0.2222222222222222,
              "#3e4989"
             ],
             [
              0.3333333333333333,
              "#31688e"
             ],
             [
              0.4444444444444444,
              "#26828e"
             ],
             [
              0.5555555555555556,
              "#1f9e89"
             ],
             [
              0.6666666666666666,
              "#35b779"
             ],
             [
              0.7777777777777778,
              "#6ece58"
             ],
             [
              0.8888888888888888,
              "#b5de2b"
             ],
             [
              1,
              "#fde725"
             ]
            ],
            "type": "histogram2d"
           }
          ],
          "histogram2dcontour": [
           {
            "colorbar": {
             "outlinewidth": 1,
             "tickcolor": "rgb(36,36,36)",
             "ticks": "outside"
            },
            "colorscale": [
             [
              0,
              "#440154"
             ],
             [
              0.1111111111111111,
              "#482878"
             ],
             [
              0.2222222222222222,
              "#3e4989"
             ],
             [
              0.3333333333333333,
              "#31688e"
             ],
             [
              0.4444444444444444,
              "#26828e"
             ],
             [
              0.5555555555555556,
              "#1f9e89"
             ],
             [
              0.6666666666666666,
              "#35b779"
             ],
             [
              0.7777777777777778,
              "#6ece58"
             ],
             [
              0.8888888888888888,
              "#b5de2b"
             ],
             [
              1,
              "#fde725"
             ]
            ],
            "type": "histogram2dcontour"
           }
          ],
          "mesh3d": [
           {
            "colorbar": {
             "outlinewidth": 1,
             "tickcolor": "rgb(36,36,36)",
             "ticks": "outside"
            },
            "type": "mesh3d"
           }
          ],
          "parcoords": [
           {
            "line": {
             "colorbar": {
              "outlinewidth": 1,
              "tickcolor": "rgb(36,36,36)",
              "ticks": "outside"
             }
            },
            "type": "parcoords"
           }
          ],
          "pie": [
           {
            "automargin": true,
            "type": "pie"
           }
          ],
          "scatter": [
           {
            "fillpattern": {
             "fillmode": "overlay",
             "size": 10,
             "solidity": 0.2
            },
            "type": "scatter"
           }
          ],
          "scatter3d": [
           {
            "line": {
             "colorbar": {
              "outlinewidth": 1,
              "tickcolor": "rgb(36,36,36)",
              "ticks": "outside"
             }
            },
            "marker": {
             "colorbar": {
              "outlinewidth": 1,
              "tickcolor": "rgb(36,36,36)",
              "ticks": "outside"
             }
            },
            "type": "scatter3d"
           }
          ],
          "scattercarpet": [
           {
            "marker": {
             "colorbar": {
              "outlinewidth": 1,
              "tickcolor": "rgb(36,36,36)",
              "ticks": "outside"
             }
            },
            "type": "scattercarpet"
           }
          ],
          "scattergeo": [
           {
            "marker": {
             "colorbar": {
              "outlinewidth": 1,
              "tickcolor": "rgb(36,36,36)",
              "ticks": "outside"
             }
            },
            "type": "scattergeo"
           }
          ],
          "scattergl": [
           {
            "marker": {
             "colorbar": {
              "outlinewidth": 1,
              "tickcolor": "rgb(36,36,36)",
              "ticks": "outside"
             }
            },
            "type": "scattergl"
           }
          ],
          "scattermapbox": [
           {
            "marker": {
             "colorbar": {
              "outlinewidth": 1,
              "tickcolor": "rgb(36,36,36)",
              "ticks": "outside"
             }
            },
            "type": "scattermapbox"
           }
          ],
          "scatterpolar": [
           {
            "marker": {
             "colorbar": {
              "outlinewidth": 1,
              "tickcolor": "rgb(36,36,36)",
              "ticks": "outside"
             }
            },
            "type": "scatterpolar"
           }
          ],
          "scatterpolargl": [
           {
            "marker": {
             "colorbar": {
              "outlinewidth": 1,
              "tickcolor": "rgb(36,36,36)",
              "ticks": "outside"
             }
            },
            "type": "scatterpolargl"
           }
          ],
          "scatterternary": [
           {
            "marker": {
             "colorbar": {
              "outlinewidth": 1,
              "tickcolor": "rgb(36,36,36)",
              "ticks": "outside"
             }
            },
            "type": "scatterternary"
           }
          ],
          "surface": [
           {
            "colorbar": {
             "outlinewidth": 1,
             "tickcolor": "rgb(36,36,36)",
             "ticks": "outside"
            },
            "colorscale": [
             [
              0,
              "#440154"
             ],
             [
              0.1111111111111111,
              "#482878"
             ],
             [
              0.2222222222222222,
              "#3e4989"
             ],
             [
              0.3333333333333333,
              "#31688e"
             ],
             [
              0.4444444444444444,
              "#26828e"
             ],
             [
              0.5555555555555556,
              "#1f9e89"
             ],
             [
              0.6666666666666666,
              "#35b779"
             ],
             [
              0.7777777777777778,
              "#6ece58"
             ],
             [
              0.8888888888888888,
              "#b5de2b"
             ],
             [
              1,
              "#fde725"
             ]
            ],
            "type": "surface"
           }
          ],
          "table": [
           {
            "cells": {
             "fill": {
              "color": "rgb(237,237,237)"
             },
             "line": {
              "color": "white"
             }
            },
            "header": {
             "fill": {
              "color": "rgb(217,217,217)"
             },
             "line": {
              "color": "white"
             }
            },
            "type": "table"
           }
          ]
         },
         "layout": {
          "annotationdefaults": {
           "arrowhead": 0,
           "arrowwidth": 1
          },
          "autotypenumbers": "strict",
          "coloraxis": {
           "colorbar": {
            "outlinewidth": 1,
            "tickcolor": "rgb(36,36,36)",
            "ticks": "outside"
           }
          },
          "colorscale": {
           "diverging": [
            [
             0,
             "rgb(103,0,31)"
            ],
            [
             0.1,
             "rgb(178,24,43)"
            ],
            [
             0.2,
             "rgb(214,96,77)"
            ],
            [
             0.3,
             "rgb(244,165,130)"
            ],
            [
             0.4,
             "rgb(253,219,199)"
            ],
            [
             0.5,
             "rgb(247,247,247)"
            ],
            [
             0.6,
             "rgb(209,229,240)"
            ],
            [
             0.7,
             "rgb(146,197,222)"
            ],
            [
             0.8,
             "rgb(67,147,195)"
            ],
            [
             0.9,
             "rgb(33,102,172)"
            ],
            [
             1,
             "rgb(5,48,97)"
            ]
           ],
           "sequential": [
            [
             0,
             "#440154"
            ],
            [
             0.1111111111111111,
             "#482878"
            ],
            [
             0.2222222222222222,
             "#3e4989"
            ],
            [
             0.3333333333333333,
             "#31688e"
            ],
            [
             0.4444444444444444,
             "#26828e"
            ],
            [
             0.5555555555555556,
             "#1f9e89"
            ],
            [
             0.6666666666666666,
             "#35b779"
            ],
            [
             0.7777777777777778,
             "#6ece58"
            ],
            [
             0.8888888888888888,
             "#b5de2b"
            ],
            [
             1,
             "#fde725"
            ]
           ],
           "sequentialminus": [
            [
             0,
             "#440154"
            ],
            [
             0.1111111111111111,
             "#482878"
            ],
            [
             0.2222222222222222,
             "#3e4989"
            ],
            [
             0.3333333333333333,
             "#31688e"
            ],
            [
             0.4444444444444444,
             "#26828e"
            ],
            [
             0.5555555555555556,
             "#1f9e89"
            ],
            [
             0.6666666666666666,
             "#35b779"
            ],
            [
             0.7777777777777778,
             "#6ece58"
            ],
            [
             0.8888888888888888,
             "#b5de2b"
            ],
            [
             1,
             "#fde725"
            ]
           ]
          },
          "colorway": [
           "#1F77B4",
           "#FF7F0E",
           "#2CA02C",
           "#D62728",
           "#9467BD",
           "#8C564B",
           "#E377C2",
           "#7F7F7F",
           "#BCBD22",
           "#17BECF"
          ],
          "font": {
           "color": "rgb(36,36,36)"
          },
          "geo": {
           "bgcolor": "white",
           "lakecolor": "white",
           "landcolor": "white",
           "showlakes": true,
           "showland": true,
           "subunitcolor": "white"
          },
          "hoverlabel": {
           "align": "left"
          },
          "hovermode": "closest",
          "mapbox": {
           "style": "light"
          },
          "paper_bgcolor": "white",
          "plot_bgcolor": "white",
          "polar": {
           "angularaxis": {
            "gridcolor": "rgb(232,232,232)",
            "linecolor": "rgb(36,36,36)",
            "showgrid": false,
            "showline": true,
            "ticks": "outside"
           },
           "bgcolor": "white",
           "radialaxis": {
            "gridcolor": "rgb(232,232,232)",
            "linecolor": "rgb(36,36,36)",
            "showgrid": false,
            "showline": true,
            "ticks": "outside"
           }
          },
          "scene": {
           "xaxis": {
            "backgroundcolor": "white",
            "gridcolor": "rgb(232,232,232)",
            "gridwidth": 2,
            "linecolor": "rgb(36,36,36)",
            "showbackground": true,
            "showgrid": false,
            "showline": true,
            "ticks": "outside",
            "zeroline": false,
            "zerolinecolor": "rgb(36,36,36)"
           },
           "yaxis": {
            "backgroundcolor": "white",
            "gridcolor": "rgb(232,232,232)",
            "gridwidth": 2,
            "linecolor": "rgb(36,36,36)",
            "showbackground": true,
            "showgrid": false,
            "showline": true,
            "ticks": "outside",
            "zeroline": false,
            "zerolinecolor": "rgb(36,36,36)"
           },
           "zaxis": {
            "backgroundcolor": "white",
            "gridcolor": "rgb(232,232,232)",
            "gridwidth": 2,
            "linecolor": "rgb(36,36,36)",
            "showbackground": true,
            "showgrid": false,
            "showline": true,
            "ticks": "outside",
            "zeroline": false,
            "zerolinecolor": "rgb(36,36,36)"
           }
          },
          "shapedefaults": {
           "fillcolor": "black",
           "line": {
            "width": 0
           },
           "opacity": 0.3
          },
          "ternary": {
           "aaxis": {
            "gridcolor": "rgb(232,232,232)",
            "linecolor": "rgb(36,36,36)",
            "showgrid": false,
            "showline": true,
            "ticks": "outside"
           },
           "baxis": {
            "gridcolor": "rgb(232,232,232)",
            "linecolor": "rgb(36,36,36)",
            "showgrid": false,
            "showline": true,
            "ticks": "outside"
           },
           "bgcolor": "white",
           "caxis": {
            "gridcolor": "rgb(232,232,232)",
            "linecolor": "rgb(36,36,36)",
            "showgrid": false,
            "showline": true,
            "ticks": "outside"
           }
          },
          "title": {
           "x": 0.05
          },
          "xaxis": {
           "automargin": true,
           "gridcolor": "rgb(232,232,232)",
           "linecolor": "rgb(36,36,36)",
           "showgrid": false,
           "showline": true,
           "ticks": "outside",
           "title": {
            "standoff": 15
           },
           "zeroline": false,
           "zerolinecolor": "rgb(36,36,36)"
          },
          "yaxis": {
           "automargin": true,
           "gridcolor": "rgb(232,232,232)",
           "linecolor": "rgb(36,36,36)",
           "showgrid": false,
           "showline": true,
           "ticks": "outside",
           "title": {
            "standoff": 15
           },
           "zeroline": false,
           "zerolinecolor": "rgb(36,36,36)"
          }
         }
        },
        "title": {
         "font": {
          "color": "Black",
          "size": 22
         },
         "text": "Topics Over Time for 2023_05-2023_07",
         "x": 0.4,
         "xanchor": "center",
         "y": 0.95,
         "yanchor": "top"
        },
        "width": 1250,
        "xaxis": {
         "showgrid": true
        },
        "yaxis": {
         "showgrid": true,
         "title": {
          "text": "Frequency"
         }
        }
       }
      }
     },
     "metadata": {},
     "output_type": "display_data"
    },
    {
     "data": {
      "application/vnd.plotly.v1+json": {
       "config": {
        "plotlyServerURL": "https://plot.ly"
       },
       "data": [
        {
         "hoverinfo": "text",
         "hovertext": [
          "<b>Topic 0</b><br>Words: kisruh, kutat, kanal, youtube, sedia",
          "<b>Topic 0</b><br>Words: pemprov, serta, swasta, riau, smk",
          "<b>Topic 0</b><br>Words: pahlawan, guru, datang, umk, tara",
          "<b>Topic 0</b><br>Words: gigih, gubernur, berani, bidang, anak",
          "<b>Topic 0</b><br>Words: barokallah, tiru, mana, layak, hak",
          "<b>Topic 0</b><br>Words: asprotepak, respons, percaya, via, sosok",
          "<b>Topic 0</b><br>Words: guru, peduli, ganjar, honorer, baik",
          "<b>Topic 0</b><br>Words: honorer, tara, guru, alhamdulillah, abdi",
          "<b>Topic 0</b><br>Words: smakinmantab, milihnyapakbowo, kerennyasubianto, jelaskerjanya, nih",
          "<b>Topic 0</b><br>Words: milihsubianto, hatikitaterlanjur, kerjanyajelas, jelaspakbowo, nih",
          "<b>Topic 0</b><br>Words: subiantopastinya, harapankita, jelaspakbowo, kerjanyajelas, nih",
          "<b>Topic 0</b><br>Words: terkadang, andai, petinggi, beranda, perintah",
          "<b>Topic 0</b><br>Words: guru, marketplace, pppk, huru, hara",
          "<b>Topic 0</b><br>Words: nduk, juliani, mctominay, romcom, modern",
          "<b>Topic 0</b><br>Words: bapak, nih, baik, jelasarahnya, semakinpakbowo",
          "<b>Topic 0</b><br>Words: rian, beliau, kebijakankebijakan, terap, kuat"
         ],
         "marker": {
          "color": "#E69F00"
         },
         "mode": "lines",
         "name": "0_nih_baik_bapak_jelasarahnya",
         "type": "scatter",
         "x": [
          "2023-08-04T04:41:23.733333+00:00",
          "2023-08-07T04:58:47.466666+00:00",
          "2023-08-13T05:33:34.933333+00:00",
          "2023-08-19T06:08:22.400000+00:00",
          "2023-08-28T07:00:33.600000+00:00",
          "2023-08-31T07:17:57.333333+00:00",
          "2023-09-06T07:52:44.800000+00:00",
          "2023-09-09T08:10:08.533333+00:00",
          "2023-09-12T08:27:32.266666+00:00",
          "2023-09-15T08:44:56+00:00",
          "2023-09-18T09:02:19.733333+00:00",
          "2023-09-21T09:19:43.466666+00:00",
          "2023-09-27T09:54:30.933333+00:00",
          "2023-10-06T10:46:42.133333+00:00",
          "2023-10-09T11:04:05.866666+00:00",
          "2023-10-21T12:13:40.800000+00:00"
         ],
         "y": [
          1,
          1,
          1,
          1,
          1,
          2,
          11,
          1,
          44,
          28,
          31,
          1,
          2,
          1,
          128,
          2
         ]
        },
        {
         "hoverinfo": "text",
         "hovertext": [
          "<b>Topic 1</b><br>Words: maju, unggul, ayo, kontribusi, sdm",
          "<b>Topic 1</b><br>Words: pks, dukung, legislatif, sandang, disabilitas",
          "<b>Topic 1</b><br>Words: pemuda, penyebarluasan, ditingjatkan, indeks, pedoman",
          "<b>Topic 1</b><br>Words: kemenkes, malik, adam, rsup, sesat",
          "<b>Topic 1</b><br>Words: sosial, society, sehat, kerja, politik",
          "<b>Topic 1</b><br>Words: bumn, roket, mati, bangkrut, seruduk",
          "<b>Topic 1</b><br>Words: startup, amiin, industri, kok, sdm",
          "<b>Topic 1</b><br>Words: investasi, juang, pesantren, ganti, keseataraan",
          "<b>Topic 1</b><br>Words: politik, pengaruh, melek, bantu, sehat",
          "<b>Topic 1</b><br>Words: janji, turun, ecek, got, tehnologi",
          "<b>Topic 1</b><br>Words: hidup, alam, pak, sehat, ganjar",
          "<b>Topic 1</b><br>Words: subiantopastinya, harapankita, jelaspakbowo, kerjanyajelas, makmur",
          "<b>Topic 1</b><br>Words: subiantopastinyanya, usaha, sehat, harapankita, peluang",
          "<b>Topic 1</b><br>Words: delapansmangat, utkmasadepan, majuinnkri, barengpakbowo, prabowo",
          "<b>Topic 1</b><br>Words: tani, ganjar, ynag, dukung, rakyat",
          "<b>Topic 1</b><br>Words: pihak, masa, dukung, pandemi, siahaan",
          "<b>Topic 1</b><br>Words: jatuhhati, kinerjapakbowo, nkrisejahtera, prabowo, visisubianto",
          "<b>Topic 1</b><br>Words: prabowo, usaha, sempat, bapak, sehat",
          "<b>Topic 1</b><br>Words: pasca, fundamental, sembako, murah, jangkau",
          "<b>Topic 1</b><br>Words: berjejaring, perilaku, sehat, organisasi, mitra",
          "<b>Topic 1</b><br>Words: ekonomi, paham, anies, doktor, kesan",
          "<b>Topic 1</b><br>Words: usaha, masgibran, ayahbowo, sakit, asuransi",
          "<b>Topic 1</b><br>Words: usaha, rakyat, sehat, sianturi, hapri"
         ],
         "marker": {
          "color": "#56B4E9"
         },
         "mode": "lines",
         "name": "1_prabowo_delapansmangat_utkmasadepan_us...",
         "type": "scatter",
         "x": [
          "2023-08-07T04:58:47.466666+00:00",
          "2023-08-10T05:16:11.200000+00:00",
          "2023-08-13T05:33:34.933333+00:00",
          "2023-08-19T06:08:22.400000+00:00",
          "2023-08-22T06:25:46.133333+00:00",
          "2023-08-25T06:43:09.866666+00:00",
          "2023-08-28T07:00:33.600000+00:00",
          "2023-09-03T07:35:21.066666+00:00",
          "2023-09-06T07:52:44.800000+00:00",
          "2023-09-09T08:10:08.533333+00:00",
          "2023-09-12T08:27:32.266666+00:00",
          "2023-09-15T08:44:56+00:00",
          "2023-09-18T09:02:19.733333+00:00",
          "2023-09-21T09:19:43.466666+00:00",
          "2023-09-24T09:37:07.200000+00:00",
          "2023-09-30T10:11:54.666666+00:00",
          "2023-10-03T10:29:18.400000+00:00",
          "2023-10-09T11:04:05.866666+00:00",
          "2023-10-12T11:21:29.600000+00:00",
          "2023-10-15T11:38:53.333333+00:00",
          "2023-10-18T11:56:17.066666+00:00",
          "2023-10-24T12:31:04.533333+00:00",
          "2023-10-27T12:48:28.266666+00:00"
         ],
         "y": [
          1,
          2,
          1,
          1,
          4,
          1,
          2,
          2,
          13,
          1,
          6,
          4,
          6,
          95,
          5,
          2,
          44,
          11,
          1,
          1,
          2,
          7,
          3
         ]
        },
        {
         "hoverinfo": "text",
         "hovertext": [
          "<b>Topic 2</b><br>Words: suwadi, nama, fafifu, tokoh, ingat",
          "<b>Topic 2</b><br>Words: masgibran, ayahbowo, semangat, nih, baik",
          "<b>Topic 2</b><br>Words: semangat, ayahbowo, masgibran, masbowogibran, emangkeren"
         ],
         "marker": {
          "color": "#009E73"
         },
         "mode": "lines",
         "name": "2_masgibran_ayahbowo_semangat_nih",
         "type": "scatter",
         "x": [
          "2023-08-01T02:13:52.688000+00:00",
          "2023-10-24T12:31:04.533333+00:00",
          "2023-10-27T12:48:28.266666+00:00"
         ],
         "y": [
          1,
          101,
          10
         ]
        },
        {
         "hoverinfo": "text",
         "hovertext": [
          "<b>Topic 3</b><br>Words: ganti, cetak, buku, pustaka, beli",
          "<b>Topic 3</b><br>Words: blokir, bos, yaa, operasional, mprri",
          "<b>Topic 3</b><br>Words: menteri, urus, bebas, merdeka, lambe",
          "<b>Topic 3</b><br>Words: presiden, gadis, joko, widodo, timbang",
          "<b>Topic 3</b><br>Words: guru, km, aneh, praturan, konversi",
          "<b>Topic 3</b><br>Words: asesmen, nasional, satu, pemkab, sebentar",
          "<b>Topic 3</b><br>Words: menteri, personal, komunis, kesehatanampmenteri, mu",
          "<b>Topic 3</b><br>Words: prancis, presiden, sama, lawan, syamsuar",
          "<b>Topic 3</b><br>Words: ganjar, beri, presiden, menteri, pak",
          "<b>Topic 3</b><br>Words: harus, biar, gaji, masa, bikin",
          "<b>Topic 3</b><br>Words: menteri, ganti, ganjar, presiden, kalau",
          "<b>Topic 3</b><br>Words: viral, ayunda, maudy, menteri, jadi",
          "<b>Topic 3</b><br>Words: gue, enggak, kayak, benar, presiden",
          "<b>Topic 3</b><br>Words: beasiswa, ganjar, presiden, langkah, nyata",
          "<b>Topic 3</b><br>Words: ganjar, presiden, tunjuk, pak, satu",
          "<b>Topic 3</b><br>Words: ganjar, presiden, pak, menteri, kalo",
          "<b>Topic 3</b><br>Words: ganjar, presiden, siap, pesantren, tunjuk",
          "<b>Topic 3</b><br>Words: presiden, ganjar, ganjarmahfud, bangun, penting",
          "<b>Topic 3</b><br>Words: ganjar, presiden, vital, franka, jadi",
          "<b>Topic 3</b><br>Words: menteri, finland, ikut, jepang, mau"
         ],
         "marker": {
          "color": "#F0E442"
         },
         "mode": "lines",
         "name": "3_ganjar_presiden_menteri_pak",
         "type": "scatter",
         "x": [
          "2023-08-01T02:13:52.688000+00:00",
          "2023-08-04T04:41:23.733333+00:00",
          "2023-08-07T04:58:47.466666+00:00",
          "2023-08-10T05:16:11.200000+00:00",
          "2023-08-16T05:50:58.666666+00:00",
          "2023-08-25T06:43:09.866666+00:00",
          "2023-08-28T07:00:33.600000+00:00",
          "2023-09-06T07:52:44.800000+00:00",
          "2023-09-09T08:10:08.533333+00:00",
          "2023-09-12T08:27:32.266666+00:00",
          "2023-09-15T08:44:56+00:00",
          "2023-09-18T09:02:19.733333+00:00",
          "2023-09-30T10:11:54.666666+00:00",
          "2023-10-03T10:29:18.400000+00:00",
          "2023-10-09T11:04:05.866666+00:00",
          "2023-10-12T11:21:29.600000+00:00",
          "2023-10-15T11:38:53.333333+00:00",
          "2023-10-21T12:13:40.800000+00:00",
          "2023-10-24T12:31:04.533333+00:00",
          "2023-10-27T12:48:28.266666+00:00"
         ],
         "y": [
          1,
          1,
          2,
          2,
          1,
          2,
          1,
          3,
          5,
          1,
          9,
          4,
          1,
          4,
          28,
          9,
          13,
          5,
          4,
          2
         ]
        },
        {
         "hoverinfo": "text",
         "hovertext": [
          "<b>Topic 4</b><br>Words: indonesia, sd, advokasi, inklusif, perintah",
          "<b>Topic 4</b><br>Words: pukis, fajri, malam, onic, morninggg",
          "<b>Topic 4</b><br>Words: indonesia, papua, tangguh, otsus, komitmen",
          "<b>Topic 4</b><br>Words: gera, indonesia, tahun, women, entrepreneurship",
          "<b>Topic 4</b><br>Words: dokter, indonesia, otsus, papua, kaum",
          "<b>Topic 4</b><br>Words: indonesia, begini, enggak, kalau, merdeka",
          "<b>Topic 4</b><br>Words: indonesia, keras, maju, hadap, society",
          "<b>Topic 4</b><br>Words: papua, gus, dob, mantap, perintah",
          "<b>Topic 4</b><br>Words: indonesia, anies, pak, jakarta, jadi",
          "<b>Topic 4</b><br>Words: retas, strategis, jalan, peran, tuju",
          "<b>Topic 4</b><br>Words: indonesia, kenal, buah, khusus, sistematis",
          "<b>Topic 4</b><br>Words: anies, jakarta, nunjukin, wibawa, pintar",
          "<b>Topic 4</b><br>Words: indonesia, inklusif, anies, aktif, hadir",
          "<b>Topic 4</b><br>Words: indonesia, ulama, perempuan, nu, pasal",
          "<b>Topic 4</b><br>Words: indonesia, aktif, anies, beliau, inklusif",
          "<b>Topic 4</b><br>Words: kacau, semrawut, sipil, es, puncak",
          "<b>Topic 4</b><br>Words: berani, indonesia, inklusif, anies, maju",
          "<b>Topic 4</b><br>Words: mampu, mantep, hadir, upaya, inklusif",
          "<b>Topic 4</b><br>Words: indonesia, ganjar, presiden, maju, pks",
          "<b>Topic 4</b><br>Words: indonesia, ganjar, presiden, aset, jadi",
          "<b>Topic 4</b><br>Words: indonesia, ganjar, presiden, siap, inklusif",
          "<b>Topic 4</b><br>Words: indonesia, seharihari, vokasi, warga, bagai"
         ],
         "marker": {
          "color": "#D55E00"
         },
         "mode": "lines",
         "name": "4_indonesia_anies_inklusif_jadi",
         "type": "scatter",
         "x": [
          "2023-08-01T02:13:52.688000+00:00",
          "2023-08-04T04:41:23.733333+00:00",
          "2023-08-07T04:58:47.466666+00:00",
          "2023-08-10T05:16:11.200000+00:00",
          "2023-08-13T05:33:34.933333+00:00",
          "2023-08-16T05:50:58.666666+00:00",
          "2023-08-22T06:25:46.133333+00:00",
          "2023-08-25T06:43:09.866666+00:00",
          "2023-08-28T07:00:33.600000+00:00",
          "2023-08-31T07:17:57.333333+00:00",
          "2023-09-03T07:35:21.066666+00:00",
          "2023-09-06T07:52:44.800000+00:00",
          "2023-09-15T08:44:56+00:00",
          "2023-09-18T09:02:19.733333+00:00",
          "2023-09-21T09:19:43.466666+00:00",
          "2023-09-30T10:11:54.666666+00:00",
          "2023-10-03T10:29:18.400000+00:00",
          "2023-10-06T10:46:42.133333+00:00",
          "2023-10-09T11:04:05.866666+00:00",
          "2023-10-12T11:21:29.600000+00:00",
          "2023-10-15T11:38:53.333333+00:00",
          "2023-10-27T12:48:28.266666+00:00"
         ],
         "y": [
          5,
          1,
          4,
          3,
          2,
          3,
          2,
          1,
          9,
          1,
          7,
          7,
          12,
          2,
          3,
          1,
          3,
          1,
          8,
          7,
          7,
          3
         ]
        },
        {
         "hoverinfo": "text",
         "hovertext": [
          "<b>Topic 5</b><br>Words: ormas, lomba, punya, tahun, enggak",
          "<b>Topic 5</b><br>Words: sejarah, hapus, rep, bacain, liat",
          "<b>Topic 5</b><br>Words: teman, sedikit, henti, laku, biaya",
          "<b>Topic 5</b><br>Words: kepsek, adekku, seragam, khawatir, iur",
          "<b>Topic 5</b><br>Words: yayasan, sekalipun, faktanyaaa, gilanyaa, perintah",
          "<b>Topic 5</b><br>Words: abai, enggak, jaman, sekarang, waktu",
          "<b>Topic 5</b><br>Words: pesimis, gamang, tadi, pertama, asal",
          "<b>Topic 5</b><br>Words: adaptasi, spesialis, diaspora, impi, picik",
          "<b>Topic 5</b><br>Words: hasil, real, kosong, raih, cuman",
          "<b>Topic 5</b><br>Words: enggak, the, bidang, of, pimpin",
          "<b>Topic 5</b><br>Words: bukan, salahgak, kykny, selera, aj",
          "<b>Topic 5</b><br>Words: enggak, teliti, bukti, majumaju, wonder",
          "<b>Topic 5</b><br>Words: raih, enggak, beasiswa, jakarta, mampu",
          "<b>Topic 5</b><br>Words: anies, real, raih, the, beasiswa",
          "<b>Topic 5</b><br>Words: enggak, guru, indonesia, sama, sekolah",
          "<b>Topic 5</b><br>Words: point, kostum, sdsmpsma, tiga, timpang",
          "<b>Topic 5</b><br>Words: kurikulum, zaman, sejak, kembang, kkni",
          "<b>Topic 5</b><br>Words: nyawa, terjdi, prenah, taur, hobi",
          "<b>Topic 5</b><br>Words: enggak, mau, per, kagak, bos",
          "<b>Topic 5</b><br>Words: jalur, enggak, uang, indonesia, umptn",
          "<b>Topic 5</b><br>Words: justru, dampakdampaknya, elitisme, tampak, anies",
          "<b>Topic 5</b><br>Words: jabat, ganti, mau, enggak, hasil",
          "<b>Topic 5</b><br>Words: inovasi, australia, identifikasi, mitra, praktik",
          "<b>Topic 5</b><br>Words: unicef, un, cuma, enggak, gaza"
         ],
         "marker": {
          "color": "#0072B2"
         },
         "mode": "lines",
         "name": "5_enggak_the_indonesia_anies",
         "type": "scatter",
         "x": [
          "2023-08-01T02:13:52.688000+00:00",
          "2023-08-04T04:41:23.733333+00:00",
          "2023-08-07T04:58:47.466666+00:00",
          "2023-08-10T05:16:11.200000+00:00",
          "2023-08-13T05:33:34.933333+00:00",
          "2023-08-16T05:50:58.666666+00:00",
          "2023-08-19T06:08:22.400000+00:00",
          "2023-08-22T06:25:46.133333+00:00",
          "2023-08-25T06:43:09.866666+00:00",
          "2023-08-28T07:00:33.600000+00:00",
          "2023-09-03T07:35:21.066666+00:00",
          "2023-09-06T07:52:44.800000+00:00",
          "2023-09-09T08:10:08.533333+00:00",
          "2023-09-12T08:27:32.266666+00:00",
          "2023-09-15T08:44:56+00:00",
          "2023-09-18T09:02:19.733333+00:00",
          "2023-09-24T09:37:07.200000+00:00",
          "2023-09-27T09:54:30.933333+00:00",
          "2023-09-30T10:11:54.666666+00:00",
          "2023-10-03T10:29:18.400000+00:00",
          "2023-10-09T11:04:05.866666+00:00",
          "2023-10-21T12:13:40.800000+00:00",
          "2023-10-24T12:31:04.533333+00:00",
          "2023-10-27T12:48:28.266666+00:00"
         ],
         "y": [
          2,
          1,
          1,
          1,
          2,
          4,
          1,
          2,
          5,
          10,
          1,
          2,
          7,
          3,
          13,
          2,
          3,
          1,
          2,
          2,
          2,
          1,
          1,
          1
         ]
        },
        {
         "hoverinfo": "text",
         "hovertext": [
          "<b>Topic 6</b><br>Words: fck, itb, audiensi, dimultikampus, senjang",
          "<b>Topic 6</b><br>Words: teknik, tegar, fakultas, santoso, semarang",
          "<b>Topic 6</b><br>Words: daerah, survei, rise, temu, tim",
          "<b>Topic 6</b><br>Words: malang, tni, hutan, snya, grand",
          "<b>Topic 6</b><br>Words: pgri, pb, kepala, kabupaten, mutu",
          "<b>Topic 6</b><br>Words: ajar, satu, bosp, platform, dana",
          "<b>Topic 6</b><br>Words: pts, ptn, partisipasi, evaluasi, ambil",
          "<b>Topic 6</b><br>Words: capai, riset, teknologi, budaya, menteri",
          "<b>Topic 6</b><br>Words: mahasiswa, skripsi, kelulus, wajib, nadiem",
          "<b>Topic 6</b><br>Words: riset, skripsi, mahasiswa, kelulus, teknologi",
          "<b>Topic 6</b><br>Words: guna, arah, tentu, tuju, sains",
          "<b>Topic 6</b><br>Words: kelulus, merdeka, signifikan, permedikbudristek, riset",
          "<b>Topic 6</b><br>Words: literasi, esensi, numerasi, pilar, abai",
          "<b>Topic 6</b><br>Words: arah, bagaimana, konkrit, programprogram, tifa",
          "<b>Topic 6</b><br>Words: kota, siswa, perintah, autistik, chandigarh",
          "<b>Topic 6</b><br>Words: kunjung, laksana, tatap, review, retribusi",
          "<b>Topic 6</b><br>Words: laku, kurikulum, ubah, analis, pegang",
          "<b>Topic 6</b><br>Words: nahdliyin, pemprov, rancang, jateng, akses",
          "<b>Topic 6</b><br>Words: ajar, sekira, made, libur, kkg",
          "<b>Topic 6</b><br>Words: joget, guruguru, sekali, jikalau, tiktok",
          "<b>Topic 6</b><br>Words: implikasi, fkkmk, bedah, ugm, tantang",
          "<b>Topic 6</b><br>Words: genz, prokesetaraan, idam, segar, angin",
          "<b>Topic 6</b><br>Words: sisdik, pbnu, lptnu, lpt, lokakarya",
          "<b>Topic 6</b><br>Words: konsisten, rian, bagai, terap, akses",
          "<b>Topic 6</b><br>Words: pptk, teknologi, baru, daftar, singkat",
          "<b>Topic 6</b><br>Words: lanjut, disertasi, literatur, need, perhatiaan"
         ],
         "marker": {
          "color": "#CC79A7"
         },
         "mode": "lines",
         "name": "6_riset_teknologi_skripsi_mahasiswa",
         "type": "scatter",
         "x": [
          "2023-08-01T02:13:52.688000+00:00",
          "2023-08-07T04:58:47.466666+00:00",
          "2023-08-10T05:16:11.200000+00:00",
          "2023-08-13T05:33:34.933333+00:00",
          "2023-08-16T05:50:58.666666+00:00",
          "2023-08-19T06:08:22.400000+00:00",
          "2023-08-22T06:25:46.133333+00:00",
          "2023-08-25T06:43:09.866666+00:00",
          "2023-08-28T07:00:33.600000+00:00",
          "2023-08-31T07:17:57.333333+00:00",
          "2023-09-03T07:35:21.066666+00:00",
          "2023-09-06T07:52:44.800000+00:00",
          "2023-09-09T08:10:08.533333+00:00",
          "2023-09-12T08:27:32.266666+00:00",
          "2023-09-15T08:44:56+00:00",
          "2023-09-18T09:02:19.733333+00:00",
          "2023-09-24T09:37:07.200000+00:00",
          "2023-09-27T09:54:30.933333+00:00",
          "2023-09-30T10:11:54.666666+00:00",
          "2023-10-06T10:46:42.133333+00:00",
          "2023-10-09T11:04:05.866666+00:00",
          "2023-10-12T11:21:29.600000+00:00",
          "2023-10-15T11:38:53.333333+00:00",
          "2023-10-21T12:13:40.800000+00:00",
          "2023-10-24T12:31:04.533333+00:00",
          "2023-10-27T12:48:28.266666+00:00"
         ],
         "y": [
          2,
          1,
          2,
          3,
          2,
          3,
          5,
          4,
          10,
          6,
          2,
          3,
          2,
          1,
          2,
          2,
          1,
          2,
          2,
          3,
          1,
          1,
          1,
          1,
          1,
          2
         ]
        },
        {
         "hoverinfo": "text",
         "hovertext": [
          "<b>Topic 7</b><br>Words: laksana, menteri, rekap, sea, ecce",
          "<b>Topic 7</b><br>Words: topik, cc, refleksi, pandang, upi",
          "<b>Topic 7</b><br>Words: keras, cantum, playlist, hospital, love",
          "<b>Topic 7</b><br>Words: hongaria, bahasa, cermat, antar, gelar",
          "<b>Topic 7</b><br>Words: zamrun, kendari, halu, uho, oleo",
          "<b>Topic 7</b><br>Words: gelar, kpu, muhammad, narasumber, holik",
          "<b>Topic 7</b><br>Words: direktorat, islam, sudirman, simanihuruk, bogor",
          "<b>Topic 7</b><br>Words: sindir, soal, temenku, ngekritik, rencanain",
          "<b>Topic 7</b><br>Words: maarif, nahdlatul, ulama, nu, lp",
          "<b>Topic 7</b><br>Words: merdeka, administrator, discussion, jilid, canang",
          "<b>Topic 7</b><br>Words: kpu, ketua, sebut, wewenang, download",
          "<b>Topic 7</b><br>Words: tinggi, ancang, spm, spmi, unud",
          "<b>Topic 7</b><br>Words: talk, live, yuhan, ppna, edisi"
         ],
         "marker": {
          "color": "#E69F00"
         },
         "mode": "lines",
         "name": "7_gelar_tinggi_kpu_maarif",
         "type": "scatter",
         "x": [
          "2023-08-10T05:16:11.200000+00:00",
          "2023-08-13T05:33:34.933333+00:00",
          "2023-08-25T06:43:09.866666+00:00",
          "2023-08-28T07:00:33.600000+00:00",
          "2023-09-03T07:35:21.066666+00:00",
          "2023-09-06T07:52:44.800000+00:00",
          "2023-09-12T08:27:32.266666+00:00",
          "2023-09-15T08:44:56+00:00",
          "2023-09-18T09:02:19.733333+00:00",
          "2023-09-27T09:54:30.933333+00:00",
          "2023-10-09T11:04:05.866666+00:00",
          "2023-10-15T11:38:53.333333+00:00",
          "2023-10-24T12:31:04.533333+00:00"
         ],
         "y": [
          1,
          1,
          1,
          1,
          1,
          2,
          1,
          1,
          1,
          1,
          1,
          2,
          1
         ]
        },
        {
         "hoverinfo": "text",
         "hovertext": [
          "<b>Topic 8</b><br>Words: zahra, tsabita, fk, gherriya, biaya",
          "<b>Topic 8</b><br>Words: biaya, bebas, hasil, akses, rata",
          "<b>Topic 8</b><br>Words: bebas, rata, inimah, biaya, akses",
          "<b>Topic 8</b><br>Words: bebas, anies, rata, fixs, biaya",
          "<b>Topic 8</b><br>Words: bebas, anies, inimah, rata, fixs",
          "<b>Topic 8</b><br>Words: bebas, rata, biaya, akses, jakarta"
         ],
         "marker": {
          "color": "#56B4E9"
         },
         "mode": "lines",
         "name": "8_bebas_rata_biaya_akses",
         "type": "scatter",
         "x": [
          "2023-08-07T04:58:47.466666+00:00",
          "2023-08-22T06:25:46.133333+00:00",
          "2023-08-25T06:43:09.866666+00:00",
          "2023-09-09T08:10:08.533333+00:00",
          "2023-09-12T08:27:32.266666+00:00",
          "2023-09-30T10:11:54.666666+00:00"
         ],
         "y": [
          1,
          4,
          4,
          2,
          1,
          1
         ]
        }
       ],
       "layout": {
        "height": 450,
        "hoverlabel": {
         "bgcolor": "white",
         "font": {
          "family": "Rockwell",
          "size": 16
         }
        },
        "legend": {
         "title": {
          "text": "<b>Global Topic Representation"
         }
        },
        "template": {
         "data": {
          "bar": [
           {
            "error_x": {
             "color": "rgb(36,36,36)"
            },
            "error_y": {
             "color": "rgb(36,36,36)"
            },
            "marker": {
             "line": {
              "color": "white",
              "width": 0.5
             },
             "pattern": {
              "fillmode": "overlay",
              "size": 10,
              "solidity": 0.2
             }
            },
            "type": "bar"
           }
          ],
          "barpolar": [
           {
            "marker": {
             "line": {
              "color": "white",
              "width": 0.5
             },
             "pattern": {
              "fillmode": "overlay",
              "size": 10,
              "solidity": 0.2
             }
            },
            "type": "barpolar"
           }
          ],
          "carpet": [
           {
            "aaxis": {
             "endlinecolor": "rgb(36,36,36)",
             "gridcolor": "white",
             "linecolor": "white",
             "minorgridcolor": "white",
             "startlinecolor": "rgb(36,36,36)"
            },
            "baxis": {
             "endlinecolor": "rgb(36,36,36)",
             "gridcolor": "white",
             "linecolor": "white",
             "minorgridcolor": "white",
             "startlinecolor": "rgb(36,36,36)"
            },
            "type": "carpet"
           }
          ],
          "choropleth": [
           {
            "colorbar": {
             "outlinewidth": 1,
             "tickcolor": "rgb(36,36,36)",
             "ticks": "outside"
            },
            "type": "choropleth"
           }
          ],
          "contour": [
           {
            "colorbar": {
             "outlinewidth": 1,
             "tickcolor": "rgb(36,36,36)",
             "ticks": "outside"
            },
            "colorscale": [
             [
              0,
              "#440154"
             ],
             [
              0.1111111111111111,
              "#482878"
             ],
             [
              0.2222222222222222,
              "#3e4989"
             ],
             [
              0.3333333333333333,
              "#31688e"
             ],
             [
              0.4444444444444444,
              "#26828e"
             ],
             [
              0.5555555555555556,
              "#1f9e89"
             ],
             [
              0.6666666666666666,
              "#35b779"
             ],
             [
              0.7777777777777778,
              "#6ece58"
             ],
             [
              0.8888888888888888,
              "#b5de2b"
             ],
             [
              1,
              "#fde725"
             ]
            ],
            "type": "contour"
           }
          ],
          "contourcarpet": [
           {
            "colorbar": {
             "outlinewidth": 1,
             "tickcolor": "rgb(36,36,36)",
             "ticks": "outside"
            },
            "type": "contourcarpet"
           }
          ],
          "heatmap": [
           {
            "colorbar": {
             "outlinewidth": 1,
             "tickcolor": "rgb(36,36,36)",
             "ticks": "outside"
            },
            "colorscale": [
             [
              0,
              "#440154"
             ],
             [
              0.1111111111111111,
              "#482878"
             ],
             [
              0.2222222222222222,
              "#3e4989"
             ],
             [
              0.3333333333333333,
              "#31688e"
             ],
             [
              0.4444444444444444,
              "#26828e"
             ],
             [
              0.5555555555555556,
              "#1f9e89"
             ],
             [
              0.6666666666666666,
              "#35b779"
             ],
             [
              0.7777777777777778,
              "#6ece58"
             ],
             [
              0.8888888888888888,
              "#b5de2b"
             ],
             [
              1,
              "#fde725"
             ]
            ],
            "type": "heatmap"
           }
          ],
          "heatmapgl": [
           {
            "colorbar": {
             "outlinewidth": 1,
             "tickcolor": "rgb(36,36,36)",
             "ticks": "outside"
            },
            "colorscale": [
             [
              0,
              "#440154"
             ],
             [
              0.1111111111111111,
              "#482878"
             ],
             [
              0.2222222222222222,
              "#3e4989"
             ],
             [
              0.3333333333333333,
              "#31688e"
             ],
             [
              0.4444444444444444,
              "#26828e"
             ],
             [
              0.5555555555555556,
              "#1f9e89"
             ],
             [
              0.6666666666666666,
              "#35b779"
             ],
             [
              0.7777777777777778,
              "#6ece58"
             ],
             [
              0.8888888888888888,
              "#b5de2b"
             ],
             [
              1,
              "#fde725"
             ]
            ],
            "type": "heatmapgl"
           }
          ],
          "histogram": [
           {
            "marker": {
             "line": {
              "color": "white",
              "width": 0.6
             }
            },
            "type": "histogram"
           }
          ],
          "histogram2d": [
           {
            "colorbar": {
             "outlinewidth": 1,
             "tickcolor": "rgb(36,36,36)",
             "ticks": "outside"
            },
            "colorscale": [
             [
              0,
              "#440154"
             ],
             [
              0.1111111111111111,
              "#482878"
             ],
             [
              0.2222222222222222,
              "#3e4989"
             ],
             [
              0.3333333333333333,
              "#31688e"
             ],
             [
              0.4444444444444444,
              "#26828e"
             ],
             [
              0.5555555555555556,
              "#1f9e89"
             ],
             [
              0.6666666666666666,
              "#35b779"
             ],
             [
              0.7777777777777778,
              "#6ece58"
             ],
             [
              0.8888888888888888,
              "#b5de2b"
             ],
             [
              1,
              "#fde725"
             ]
            ],
            "type": "histogram2d"
           }
          ],
          "histogram2dcontour": [
           {
            "colorbar": {
             "outlinewidth": 1,
             "tickcolor": "rgb(36,36,36)",
             "ticks": "outside"
            },
            "colorscale": [
             [
              0,
              "#440154"
             ],
             [
              0.1111111111111111,
              "#482878"
             ],
             [
              0.2222222222222222,
              "#3e4989"
             ],
             [
              0.3333333333333333,
              "#31688e"
             ],
             [
              0.4444444444444444,
              "#26828e"
             ],
             [
              0.5555555555555556,
              "#1f9e89"
             ],
             [
              0.6666666666666666,
              "#35b779"
             ],
             [
              0.7777777777777778,
              "#6ece58"
             ],
             [
              0.8888888888888888,
              "#b5de2b"
             ],
             [
              1,
              "#fde725"
             ]
            ],
            "type": "histogram2dcontour"
           }
          ],
          "mesh3d": [
           {
            "colorbar": {
             "outlinewidth": 1,
             "tickcolor": "rgb(36,36,36)",
             "ticks": "outside"
            },
            "type": "mesh3d"
           }
          ],
          "parcoords": [
           {
            "line": {
             "colorbar": {
              "outlinewidth": 1,
              "tickcolor": "rgb(36,36,36)",
              "ticks": "outside"
             }
            },
            "type": "parcoords"
           }
          ],
          "pie": [
           {
            "automargin": true,
            "type": "pie"
           }
          ],
          "scatter": [
           {
            "fillpattern": {
             "fillmode": "overlay",
             "size": 10,
             "solidity": 0.2
            },
            "type": "scatter"
           }
          ],
          "scatter3d": [
           {
            "line": {
             "colorbar": {
              "outlinewidth": 1,
              "tickcolor": "rgb(36,36,36)",
              "ticks": "outside"
             }
            },
            "marker": {
             "colorbar": {
              "outlinewidth": 1,
              "tickcolor": "rgb(36,36,36)",
              "ticks": "outside"
             }
            },
            "type": "scatter3d"
           }
          ],
          "scattercarpet": [
           {
            "marker": {
             "colorbar": {
              "outlinewidth": 1,
              "tickcolor": "rgb(36,36,36)",
              "ticks": "outside"
             }
            },
            "type": "scattercarpet"
           }
          ],
          "scattergeo": [
           {
            "marker": {
             "colorbar": {
              "outlinewidth": 1,
              "tickcolor": "rgb(36,36,36)",
              "ticks": "outside"
             }
            },
            "type": "scattergeo"
           }
          ],
          "scattergl": [
           {
            "marker": {
             "colorbar": {
              "outlinewidth": 1,
              "tickcolor": "rgb(36,36,36)",
              "ticks": "outside"
             }
            },
            "type": "scattergl"
           }
          ],
          "scattermapbox": [
           {
            "marker": {
             "colorbar": {
              "outlinewidth": 1,
              "tickcolor": "rgb(36,36,36)",
              "ticks": "outside"
             }
            },
            "type": "scattermapbox"
           }
          ],
          "scatterpolar": [
           {
            "marker": {
             "colorbar": {
              "outlinewidth": 1,
              "tickcolor": "rgb(36,36,36)",
              "ticks": "outside"
             }
            },
            "type": "scatterpolar"
           }
          ],
          "scatterpolargl": [
           {
            "marker": {
             "colorbar": {
              "outlinewidth": 1,
              "tickcolor": "rgb(36,36,36)",
              "ticks": "outside"
             }
            },
            "type": "scatterpolargl"
           }
          ],
          "scatterternary": [
           {
            "marker": {
             "colorbar": {
              "outlinewidth": 1,
              "tickcolor": "rgb(36,36,36)",
              "ticks": "outside"
             }
            },
            "type": "scatterternary"
           }
          ],
          "surface": [
           {
            "colorbar": {
             "outlinewidth": 1,
             "tickcolor": "rgb(36,36,36)",
             "ticks": "outside"
            },
            "colorscale": [
             [
              0,
              "#440154"
             ],
             [
              0.1111111111111111,
              "#482878"
             ],
             [
              0.2222222222222222,
              "#3e4989"
             ],
             [
              0.3333333333333333,
              "#31688e"
             ],
             [
              0.4444444444444444,
              "#26828e"
             ],
             [
              0.5555555555555556,
              "#1f9e89"
             ],
             [
              0.6666666666666666,
              "#35b779"
             ],
             [
              0.7777777777777778,
              "#6ece58"
             ],
             [
              0.8888888888888888,
              "#b5de2b"
             ],
             [
              1,
              "#fde725"
             ]
            ],
            "type": "surface"
           }
          ],
          "table": [
           {
            "cells": {
             "fill": {
              "color": "rgb(237,237,237)"
             },
             "line": {
              "color": "white"
             }
            },
            "header": {
             "fill": {
              "color": "rgb(217,217,217)"
             },
             "line": {
              "color": "white"
             }
            },
            "type": "table"
           }
          ]
         },
         "layout": {
          "annotationdefaults": {
           "arrowhead": 0,
           "arrowwidth": 1
          },
          "autotypenumbers": "strict",
          "coloraxis": {
           "colorbar": {
            "outlinewidth": 1,
            "tickcolor": "rgb(36,36,36)",
            "ticks": "outside"
           }
          },
          "colorscale": {
           "diverging": [
            [
             0,
             "rgb(103,0,31)"
            ],
            [
             0.1,
             "rgb(178,24,43)"
            ],
            [
             0.2,
             "rgb(214,96,77)"
            ],
            [
             0.3,
             "rgb(244,165,130)"
            ],
            [
             0.4,
             "rgb(253,219,199)"
            ],
            [
             0.5,
             "rgb(247,247,247)"
            ],
            [
             0.6,
             "rgb(209,229,240)"
            ],
            [
             0.7,
             "rgb(146,197,222)"
            ],
            [
             0.8,
             "rgb(67,147,195)"
            ],
            [
             0.9,
             "rgb(33,102,172)"
            ],
            [
             1,
             "rgb(5,48,97)"
            ]
           ],
           "sequential": [
            [
             0,
             "#440154"
            ],
            [
             0.1111111111111111,
             "#482878"
            ],
            [
             0.2222222222222222,
             "#3e4989"
            ],
            [
             0.3333333333333333,
             "#31688e"
            ],
            [
             0.4444444444444444,
             "#26828e"
            ],
            [
             0.5555555555555556,
             "#1f9e89"
            ],
            [
             0.6666666666666666,
             "#35b779"
            ],
            [
             0.7777777777777778,
             "#6ece58"
            ],
            [
             0.8888888888888888,
             "#b5de2b"
            ],
            [
             1,
             "#fde725"
            ]
           ],
           "sequentialminus": [
            [
             0,
             "#440154"
            ],
            [
             0.1111111111111111,
             "#482878"
            ],
            [
             0.2222222222222222,
             "#3e4989"
            ],
            [
             0.3333333333333333,
             "#31688e"
            ],
            [
             0.4444444444444444,
             "#26828e"
            ],
            [
             0.5555555555555556,
             "#1f9e89"
            ],
            [
             0.6666666666666666,
             "#35b779"
            ],
            [
             0.7777777777777778,
             "#6ece58"
            ],
            [
             0.8888888888888888,
             "#b5de2b"
            ],
            [
             1,
             "#fde725"
            ]
           ]
          },
          "colorway": [
           "#1F77B4",
           "#FF7F0E",
           "#2CA02C",
           "#D62728",
           "#9467BD",
           "#8C564B",
           "#E377C2",
           "#7F7F7F",
           "#BCBD22",
           "#17BECF"
          ],
          "font": {
           "color": "rgb(36,36,36)"
          },
          "geo": {
           "bgcolor": "white",
           "lakecolor": "white",
           "landcolor": "white",
           "showlakes": true,
           "showland": true,
           "subunitcolor": "white"
          },
          "hoverlabel": {
           "align": "left"
          },
          "hovermode": "closest",
          "mapbox": {
           "style": "light"
          },
          "paper_bgcolor": "white",
          "plot_bgcolor": "white",
          "polar": {
           "angularaxis": {
            "gridcolor": "rgb(232,232,232)",
            "linecolor": "rgb(36,36,36)",
            "showgrid": false,
            "showline": true,
            "ticks": "outside"
           },
           "bgcolor": "white",
           "radialaxis": {
            "gridcolor": "rgb(232,232,232)",
            "linecolor": "rgb(36,36,36)",
            "showgrid": false,
            "showline": true,
            "ticks": "outside"
           }
          },
          "scene": {
           "xaxis": {
            "backgroundcolor": "white",
            "gridcolor": "rgb(232,232,232)",
            "gridwidth": 2,
            "linecolor": "rgb(36,36,36)",
            "showbackground": true,
            "showgrid": false,
            "showline": true,
            "ticks": "outside",
            "zeroline": false,
            "zerolinecolor": "rgb(36,36,36)"
           },
           "yaxis": {
            "backgroundcolor": "white",
            "gridcolor": "rgb(232,232,232)",
            "gridwidth": 2,
            "linecolor": "rgb(36,36,36)",
            "showbackground": true,
            "showgrid": false,
            "showline": true,
            "ticks": "outside",
            "zeroline": false,
            "zerolinecolor": "rgb(36,36,36)"
           },
           "zaxis": {
            "backgroundcolor": "white",
            "gridcolor": "rgb(232,232,232)",
            "gridwidth": 2,
            "linecolor": "rgb(36,36,36)",
            "showbackground": true,
            "showgrid": false,
            "showline": true,
            "ticks": "outside",
            "zeroline": false,
            "zerolinecolor": "rgb(36,36,36)"
           }
          },
          "shapedefaults": {
           "fillcolor": "black",
           "line": {
            "width": 0
           },
           "opacity": 0.3
          },
          "ternary": {
           "aaxis": {
            "gridcolor": "rgb(232,232,232)",
            "linecolor": "rgb(36,36,36)",
            "showgrid": false,
            "showline": true,
            "ticks": "outside"
           },
           "baxis": {
            "gridcolor": "rgb(232,232,232)",
            "linecolor": "rgb(36,36,36)",
            "showgrid": false,
            "showline": true,
            "ticks": "outside"
           },
           "bgcolor": "white",
           "caxis": {
            "gridcolor": "rgb(232,232,232)",
            "linecolor": "rgb(36,36,36)",
            "showgrid": false,
            "showline": true,
            "ticks": "outside"
           }
          },
          "title": {
           "x": 0.05
          },
          "xaxis": {
           "automargin": true,
           "gridcolor": "rgb(232,232,232)",
           "linecolor": "rgb(36,36,36)",
           "showgrid": false,
           "showline": true,
           "ticks": "outside",
           "title": {
            "standoff": 15
           },
           "zeroline": false,
           "zerolinecolor": "rgb(36,36,36)"
          },
          "yaxis": {
           "automargin": true,
           "gridcolor": "rgb(232,232,232)",
           "linecolor": "rgb(36,36,36)",
           "showgrid": false,
           "showline": true,
           "ticks": "outside",
           "title": {
            "standoff": 15
           },
           "zeroline": false,
           "zerolinecolor": "rgb(36,36,36)"
          }
         }
        },
        "title": {
         "font": {
          "color": "Black",
          "size": 22
         },
         "text": "Topics Over Time for 2023_08-2023_10",
         "x": 0.4,
         "xanchor": "center",
         "y": 0.95,
         "yanchor": "top"
        },
        "width": 1250,
        "xaxis": {
         "showgrid": true
        },
        "yaxis": {
         "showgrid": true,
         "title": {
          "text": "Frequency"
         }
        }
       }
      }
     },
     "metadata": {},
     "output_type": "display_data"
    },
    {
     "data": {
      "application/vnd.plotly.v1+json": {
       "config": {
        "plotlyServerURL": "https://plot.ly"
       },
       "data": [
        {
         "hoverinfo": "text",
         "hovertext": [
          "<b>Topic 0</b><br>Words: papua, gpmmd, aceh, mahfud, dunia",
          "<b>Topic 0</b><br>Words: indonesia, gpmmd, sabang, merauke, ganjarmahfud",
          "<b>Topic 0</b><br>Words: indonesia, katamereka, untukprabowo, prabowo, maju",
          "<b>Topic 0</b><br>Words: indonesia, transportasi, maju, anggar, ki",
          "<b>Topic 0</b><br>Words: sama, indonesia, menarique, relate, tanya",
          "<b>Topic 0</b><br>Words: indonesia, promosi, ubah, lebih, jadi",
          "<b>Topic 0</b><br>Words: indonesia, guru, agama, maju, mahfud",
          "<b>Topic 0</b><br>Words: indonesia, md, tepat, mahfud, guru",
          "<b>Topic 0</b><br>Words: indonesia, kali, sejahtera, papua, ganjar"
         ],
         "marker": {
          "color": "#E69F00"
         },
         "mode": "lines",
         "name": "0_indonesia_papua_gpmmd_ganjar",
         "type": "scatter",
         "x": [
          "2023-11-26T05:40:18.795000+00:00",
          "2023-11-28T11:25:28.500000+00:00",
          "2023-12-18T01:06:30+00:00",
          "2023-12-20T05:17:43.500000+00:00",
          "2023-12-22T09:28:57+00:00",
          "2023-12-24T13:40:10.500000+00:00",
          "2023-12-26T17:51:24+00:00",
          "2023-12-28T22:02:37.500000+00:00",
          "2024-01-28T08:39:46.500000+00:00"
         ],
         "y": [
          10,
          21,
          16,
          7,
          2,
          3,
          5,
          7,
          30
         ]
        },
        {
         "hoverinfo": "text",
         "hovertext": [
          "<b>Topic 1</b><br>Words: sekolah, erti, gue, ntb, sekarang",
          "<b>Topic 1</b><br>Words: gpmmd, tahun, sabang, merauke, sekolah",
          "<b>Topic 1</b><br>Words: kurang, kendala, dasar, sekolah, tenaga",
          "<b>Topic 1</b><br>Words: tahun, gratis, wajib, sekolah, visimisi",
          "<b>Topic 1</b><br>Words: dana, kuliah, gratis, tinggi, terlalu",
          "<b>Topic 1</b><br>Words: sekolah, gua, gpmmd, gratis, tahun",
          "<b>Topic 1</b><br>Words: sekolah, gpmmd, gratis, sepenuh, tahun",
          "<b>Topic 1</b><br>Words: sekolah, gratis, gpmmd, tahun, ganjarmahfud"
         ],
         "marker": {
          "color": "#56B4E9"
         },
         "mode": "lines",
         "name": "1_gpmmd_sekolah_tahun_gratis",
         "type": "scatter",
         "x": [
          "2023-11-26T05:40:18.795000+00:00",
          "2023-11-28T11:25:28.500000+00:00",
          "2023-12-18T01:06:30+00:00",
          "2023-12-20T05:17:43.500000+00:00",
          "2023-12-22T09:28:57+00:00",
          "2023-12-26T17:51:24+00:00",
          "2023-12-28T22:02:37.500000+00:00",
          "2024-01-28T08:39:46.500000+00:00"
         ],
         "y": [
          2,
          52,
          2,
          3,
          1,
          4,
          3,
          4
         ]
        },
        {
         "hoverinfo": "text",
         "hovertext": [
          "<b>Topic 2</b><br>Words: desa, pks, masyarakat, dukung, gpmmd",
          "<b>Topic 2</b><br>Words: gpmmd, merauke, sabang, ganjarmahfud, makin",
          "<b>Topic 2</b><br>Words: pranowo, edukasi, kualitas, ganjar, tingkat",
          "<b>Topic 2</b><br>Words: jurnal, visimisi, ganjarmahfud, positif, ganjar",
          "<b>Topic 2</b><br>Words: generasi, sat, set, lebih, top",
          "<b>Topic 2</b><br>Words: atikoh, ibu, sektor, positif, propendidikan",
          "<b>Topic 2</b><br>Words: zita, manis, dalam, lebih, holistik",
          "<b>Topic 2</b><br>Words: nya, netizen, kualitas, yakin, ganjarmahfud",
          "<b>Topic 2</b><br>Words: ganjar, sejahtera, positif, rakyat, pranowo"
         ],
         "marker": {
          "color": "#009E73"
         },
         "mode": "lines",
         "name": "2_ganjar_pranowo_positif_masyarakat",
         "type": "scatter",
         "x": [
          "2023-11-26T05:40:18.795000+00:00",
          "2023-11-28T11:25:28.500000+00:00",
          "2023-12-18T01:06:30+00:00",
          "2023-12-20T05:17:43.500000+00:00",
          "2023-12-22T09:28:57+00:00",
          "2023-12-24T13:40:10.500000+00:00",
          "2023-12-26T17:51:24+00:00",
          "2023-12-28T22:02:37.500000+00:00",
          "2024-01-28T08:39:46.500000+00:00"
         ],
         "y": [
          2,
          15,
          9,
          10,
          10,
          7,
          2,
          6,
          6
         ]
        },
        {
         "hoverinfo": "text",
         "hovertext": [
          "<b>Topic 3</b><br>Words: informasi, kandidat, periksa, kritis, sembur",
          "<b>Topic 3</b><br>Words: bukti, kupang, gpmmd, inklusif, pranowo",
          "<b>Topic 3</b><br>Words: perempuan, gender, baik, bukti, politik",
          "<b>Topic 3</b><br>Words: timur, lebih, jawa, gibran, anggap",
          "<b>Topic 3</b><br>Words: undangundang, luar, bagi, sistem, negeri",
          "<b>Topic 3</b><br>Words: bukti, ketidaksetaraan, adil, lalu, pranowo",
          "<b>Topic 3</b><br>Words: bukti, pranowo, ganjar, dbat, baik"
         ],
         "marker": {
          "color": "#F0E442"
         },
         "mode": "lines",
         "name": "3_bukti_pranowo_ganjar_ketidaksetaraan",
         "type": "scatter",
         "x": [
          "2023-11-26T05:40:18.795000+00:00",
          "2023-11-28T11:25:28.500000+00:00",
          "2023-12-20T05:17:43.500000+00:00",
          "2023-12-24T13:40:10.500000+00:00",
          "2023-12-26T17:51:24+00:00",
          "2023-12-28T22:02:37.500000+00:00",
          "2024-01-28T08:39:46.500000+00:00"
         ],
         "y": [
          1,
          9,
          3,
          1,
          1,
          14,
          8
         ]
        },
        {
         "hoverinfo": "text",
         "hovertext": [
          "<b>Topic 4</b><br>Words: miskin, keluarga, kupang, gpmmd, ganjarmahfud",
          "<b>Topic 4</b><br>Words: pks, pimp, rintang, beasiswa, kader",
          "<b>Topic 4</b><br>Words: miskin, keluarga, programganjarmahfud, rantai, dini",
          "<b>Topic 4</b><br>Words: miskin, keluarga, kunci, sarjana, ganjarmahfud",
          "<b>Topic 4</b><br>Words: miskin, lawan, senjata, menang, keluarga"
         ],
         "marker": {
          "color": "#D55E00"
         },
         "mode": "lines",
         "name": "4_miskin_keluarga_kupang_sarjana",
         "type": "scatter",
         "x": [
          "2023-11-28T11:25:28.500000+00:00",
          "2023-12-20T05:17:43.500000+00:00",
          "2023-12-26T17:51:24+00:00",
          "2023-12-28T22:02:37.500000+00:00",
          "2024-01-28T08:39:46.500000+00:00"
         ],
         "y": [
          13,
          1,
          6,
          13,
          1
         ]
        },
        {
         "hoverinfo": "text",
         "hovertext": [
          "<b>Topic 5</b><br>Words: diy, akreditasi, agama, lembaga, islam",
          "<b>Topic 5</b><br>Words: hukum, joki, aji, spiritual, pilar",
          "<b>Topic 5</b><br>Words: ulama, dukung, yakin, katamereka, untukprabowo",
          "<b>Topic 5</b><br>Words: agama, programganjarmahfud, prof, investasi, pak",
          "<b>Topic 5</b><br>Words: agama, guru, aji, prof, moral"
         ],
         "marker": {
          "color": "#0072B2"
         },
         "mode": "lines",
         "name": "5_agama_guru_aji_programganjarmahfud",
         "type": "scatter",
         "x": [
          "2023-11-26T05:40:18.795000+00:00",
          "2023-11-28T11:25:28.500000+00:00",
          "2023-12-18T01:06:30+00:00",
          "2023-12-26T17:51:24+00:00",
          "2023-12-28T22:02:37.500000+00:00"
         ],
         "y": [
          2,
          5,
          4,
          10,
          6
         ]
        },
        {
         "hoverinfo": "text",
         "hovertext": [
          "<b>Topic 6</b><br>Words: kembali, ahli, moga, pimpin, mahfud",
          "<b>Topic 6</b><br>Words: citacita, gapai, rombak, bicara, rangkul",
          "<b>Topic 6</b><br>Words: md, pimpin, mahfud, efektif, sosok",
          "<b>Topic 6</b><br>Words: md, mahfud, bawa, ubah, pimpin",
          "<b>Topic 6</b><br>Words: smk, mention, pbb, muhaimin, mohon",
          "<b>Topic 6</b><br>Words: thebest, ngabuburit, sesuai, mutakhir, berduwa",
          "<b>Topic 6</b><br>Words: gin, bagus, cerita, kayak, pimpin",
          "<b>Topic 6</b><br>Words: pimpin, peduli, cerdas, md, rancang",
          "<b>Topic 6</b><br>Words: alat, prof, nasib, tepat, pak"
         ],
         "marker": {
          "color": "#CC79A7"
         },
         "mode": "lines",
         "name": "6_pimpin_mahfud_md_pak",
         "type": "scatter",
         "x": [
          "2023-11-26T05:40:18.795000+00:00",
          "2023-11-28T11:25:28.500000+00:00",
          "2023-12-18T01:06:30+00:00",
          "2023-12-20T05:17:43.500000+00:00",
          "2023-12-22T09:28:57+00:00",
          "2023-12-24T13:40:10.500000+00:00",
          "2023-12-26T17:51:24+00:00",
          "2023-12-28T22:02:37.500000+00:00",
          "2024-01-28T08:39:46.500000+00:00"
         ],
         "y": [
          1,
          2,
          4,
          2,
          2,
          1,
          1,
          4,
          1
         ]
        },
        {
         "hoverinfo": "text",
         "hovertext": [
          "<b>Topic 7</b><br>Words: anak, lang, pasti, tara, harap",
          "<b>Topic 7</b><br>Words: anakanak, anak, khusus, inklusi, dorong",
          "<b>Topic 7</b><br>Words: anak, jakarta, cipta, akses, pasti",
          "<b>Topic 7</b><br>Words: lalu, potensi, nasib, anak, milik",
          "<b>Topic 7</b><br>Words: pilih, pemuda, integral, suara, bagi",
          "<b>Topic 7</b><br>Words: depan, harap, anak, whejejdndjdjsnws, help"
         ],
         "marker": {
          "color": "#E69F00"
         },
         "mode": "lines",
         "name": "7_anak_harap_pilih_anakanak",
         "type": "scatter",
         "x": [
          "2023-11-28T11:25:28.500000+00:00",
          "2023-12-20T05:17:43.500000+00:00",
          "2023-12-24T13:40:10.500000+00:00",
          "2023-12-26T17:51:24+00:00",
          "2023-12-28T22:02:37.500000+00:00",
          "2024-01-28T08:39:46.500000+00:00"
         ],
         "y": [
          2,
          7,
          3,
          1,
          2,
          3
         ]
        },
        {
         "hoverinfo": "text",
         "hovertext": [
          "<b>Topic 8</b><br>Words: aksesibilitas, internet, perlu, suara, ekonomi",
          "<b>Topic 8</b><br>Words: internet, seluruh, cepat, wilayah, gratis",
          "<b>Topic 8</b><br>Words: internet, cepat, seluruh, super, wilayah"
         ],
         "marker": {
          "color": "#56B4E9"
         },
         "mode": "lines",
         "name": "8_internet_cepat_seluruh_wilayah",
         "type": "scatter",
         "x": [
          "2023-12-20T05:17:43.500000+00:00",
          "2023-12-22T09:28:57+00:00",
          "2023-12-24T13:40:10.500000+00:00"
         ],
         "y": [
          1,
          6,
          9
         ]
        }
       ],
       "layout": {
        "height": 450,
        "hoverlabel": {
         "bgcolor": "white",
         "font": {
          "family": "Rockwell",
          "size": 16
         }
        },
        "legend": {
         "title": {
          "text": "<b>Global Topic Representation"
         }
        },
        "template": {
         "data": {
          "bar": [
           {
            "error_x": {
             "color": "rgb(36,36,36)"
            },
            "error_y": {
             "color": "rgb(36,36,36)"
            },
            "marker": {
             "line": {
              "color": "white",
              "width": 0.5
             },
             "pattern": {
              "fillmode": "overlay",
              "size": 10,
              "solidity": 0.2
             }
            },
            "type": "bar"
           }
          ],
          "barpolar": [
           {
            "marker": {
             "line": {
              "color": "white",
              "width": 0.5
             },
             "pattern": {
              "fillmode": "overlay",
              "size": 10,
              "solidity": 0.2
             }
            },
            "type": "barpolar"
           }
          ],
          "carpet": [
           {
            "aaxis": {
             "endlinecolor": "rgb(36,36,36)",
             "gridcolor": "white",
             "linecolor": "white",
             "minorgridcolor": "white",
             "startlinecolor": "rgb(36,36,36)"
            },
            "baxis": {
             "endlinecolor": "rgb(36,36,36)",
             "gridcolor": "white",
             "linecolor": "white",
             "minorgridcolor": "white",
             "startlinecolor": "rgb(36,36,36)"
            },
            "type": "carpet"
           }
          ],
          "choropleth": [
           {
            "colorbar": {
             "outlinewidth": 1,
             "tickcolor": "rgb(36,36,36)",
             "ticks": "outside"
            },
            "type": "choropleth"
           }
          ],
          "contour": [
           {
            "colorbar": {
             "outlinewidth": 1,
             "tickcolor": "rgb(36,36,36)",
             "ticks": "outside"
            },
            "colorscale": [
             [
              0,
              "#440154"
             ],
             [
              0.1111111111111111,
              "#482878"
             ],
             [
              0.2222222222222222,
              "#3e4989"
             ],
             [
              0.3333333333333333,
              "#31688e"
             ],
             [
              0.4444444444444444,
              "#26828e"
             ],
             [
              0.5555555555555556,
              "#1f9e89"
             ],
             [
              0.6666666666666666,
              "#35b779"
             ],
             [
              0.7777777777777778,
              "#6ece58"
             ],
             [
              0.8888888888888888,
              "#b5de2b"
             ],
             [
              1,
              "#fde725"
             ]
            ],
            "type": "contour"
           }
          ],
          "contourcarpet": [
           {
            "colorbar": {
             "outlinewidth": 1,
             "tickcolor": "rgb(36,36,36)",
             "ticks": "outside"
            },
            "type": "contourcarpet"
           }
          ],
          "heatmap": [
           {
            "colorbar": {
             "outlinewidth": 1,
             "tickcolor": "rgb(36,36,36)",
             "ticks": "outside"
            },
            "colorscale": [
             [
              0,
              "#440154"
             ],
             [
              0.1111111111111111,
              "#482878"
             ],
             [
              0.2222222222222222,
              "#3e4989"
             ],
             [
              0.3333333333333333,
              "#31688e"
             ],
             [
              0.4444444444444444,
              "#26828e"
             ],
             [
              0.5555555555555556,
              "#1f9e89"
             ],
             [
              0.6666666666666666,
              "#35b779"
             ],
             [
              0.7777777777777778,
              "#6ece58"
             ],
             [
              0.8888888888888888,
              "#b5de2b"
             ],
             [
              1,
              "#fde725"
             ]
            ],
            "type": "heatmap"
           }
          ],
          "heatmapgl": [
           {
            "colorbar": {
             "outlinewidth": 1,
             "tickcolor": "rgb(36,36,36)",
             "ticks": "outside"
            },
            "colorscale": [
             [
              0,
              "#440154"
             ],
             [
              0.1111111111111111,
              "#482878"
             ],
             [
              0.2222222222222222,
              "#3e4989"
             ],
             [
              0.3333333333333333,
              "#31688e"
             ],
             [
              0.4444444444444444,
              "#26828e"
             ],
             [
              0.5555555555555556,
              "#1f9e89"
             ],
             [
              0.6666666666666666,
              "#35b779"
             ],
             [
              0.7777777777777778,
              "#6ece58"
             ],
             [
              0.8888888888888888,
              "#b5de2b"
             ],
             [
              1,
              "#fde725"
             ]
            ],
            "type": "heatmapgl"
           }
          ],
          "histogram": [
           {
            "marker": {
             "line": {
              "color": "white",
              "width": 0.6
             }
            },
            "type": "histogram"
           }
          ],
          "histogram2d": [
           {
            "colorbar": {
             "outlinewidth": 1,
             "tickcolor": "rgb(36,36,36)",
             "ticks": "outside"
            },
            "colorscale": [
             [
              0,
              "#440154"
             ],
             [
              0.1111111111111111,
              "#482878"
             ],
             [
              0.2222222222222222,
              "#3e4989"
             ],
             [
              0.3333333333333333,
              "#31688e"
             ],
             [
              0.4444444444444444,
              "#26828e"
             ],
             [
              0.5555555555555556,
              "#1f9e89"
             ],
             [
              0.6666666666666666,
              "#35b779"
             ],
             [
              0.7777777777777778,
              "#6ece58"
             ],
             [
              0.8888888888888888,
              "#b5de2b"
             ],
             [
              1,
              "#fde725"
             ]
            ],
            "type": "histogram2d"
           }
          ],
          "histogram2dcontour": [
           {
            "colorbar": {
             "outlinewidth": 1,
             "tickcolor": "rgb(36,36,36)",
             "ticks": "outside"
            },
            "colorscale": [
             [
              0,
              "#440154"
             ],
             [
              0.1111111111111111,
              "#482878"
             ],
             [
              0.2222222222222222,
              "#3e4989"
             ],
             [
              0.3333333333333333,
              "#31688e"
             ],
             [
              0.4444444444444444,
              "#26828e"
             ],
             [
              0.5555555555555556,
              "#1f9e89"
             ],
             [
              0.6666666666666666,
              "#35b779"
             ],
             [
              0.7777777777777778,
              "#6ece58"
             ],
             [
              0.8888888888888888,
              "#b5de2b"
             ],
             [
              1,
              "#fde725"
             ]
            ],
            "type": "histogram2dcontour"
           }
          ],
          "mesh3d": [
           {
            "colorbar": {
             "outlinewidth": 1,
             "tickcolor": "rgb(36,36,36)",
             "ticks": "outside"
            },
            "type": "mesh3d"
           }
          ],
          "parcoords": [
           {
            "line": {
             "colorbar": {
              "outlinewidth": 1,
              "tickcolor": "rgb(36,36,36)",
              "ticks": "outside"
             }
            },
            "type": "parcoords"
           }
          ],
          "pie": [
           {
            "automargin": true,
            "type": "pie"
           }
          ],
          "scatter": [
           {
            "fillpattern": {
             "fillmode": "overlay",
             "size": 10,
             "solidity": 0.2
            },
            "type": "scatter"
           }
          ],
          "scatter3d": [
           {
            "line": {
             "colorbar": {
              "outlinewidth": 1,
              "tickcolor": "rgb(36,36,36)",
              "ticks": "outside"
             }
            },
            "marker": {
             "colorbar": {
              "outlinewidth": 1,
              "tickcolor": "rgb(36,36,36)",
              "ticks": "outside"
             }
            },
            "type": "scatter3d"
           }
          ],
          "scattercarpet": [
           {
            "marker": {
             "colorbar": {
              "outlinewidth": 1,
              "tickcolor": "rgb(36,36,36)",
              "ticks": "outside"
             }
            },
            "type": "scattercarpet"
           }
          ],
          "scattergeo": [
           {
            "marker": {
             "colorbar": {
              "outlinewidth": 1,
              "tickcolor": "rgb(36,36,36)",
              "ticks": "outside"
             }
            },
            "type": "scattergeo"
           }
          ],
          "scattergl": [
           {
            "marker": {
             "colorbar": {
              "outlinewidth": 1,
              "tickcolor": "rgb(36,36,36)",
              "ticks": "outside"
             }
            },
            "type": "scattergl"
           }
          ],
          "scattermapbox": [
           {
            "marker": {
             "colorbar": {
              "outlinewidth": 1,
              "tickcolor": "rgb(36,36,36)",
              "ticks": "outside"
             }
            },
            "type": "scattermapbox"
           }
          ],
          "scatterpolar": [
           {
            "marker": {
             "colorbar": {
              "outlinewidth": 1,
              "tickcolor": "rgb(36,36,36)",
              "ticks": "outside"
             }
            },
            "type": "scatterpolar"
           }
          ],
          "scatterpolargl": [
           {
            "marker": {
             "colorbar": {
              "outlinewidth": 1,
              "tickcolor": "rgb(36,36,36)",
              "ticks": "outside"
             }
            },
            "type": "scatterpolargl"
           }
          ],
          "scatterternary": [
           {
            "marker": {
             "colorbar": {
              "outlinewidth": 1,
              "tickcolor": "rgb(36,36,36)",
              "ticks": "outside"
             }
            },
            "type": "scatterternary"
           }
          ],
          "surface": [
           {
            "colorbar": {
             "outlinewidth": 1,
             "tickcolor": "rgb(36,36,36)",
             "ticks": "outside"
            },
            "colorscale": [
             [
              0,
              "#440154"
             ],
             [
              0.1111111111111111,
              "#482878"
             ],
             [
              0.2222222222222222,
              "#3e4989"
             ],
             [
              0.3333333333333333,
              "#31688e"
             ],
             [
              0.4444444444444444,
              "#26828e"
             ],
             [
              0.5555555555555556,
              "#1f9e89"
             ],
             [
              0.6666666666666666,
              "#35b779"
             ],
             [
              0.7777777777777778,
              "#6ece58"
             ],
             [
              0.8888888888888888,
              "#b5de2b"
             ],
             [
              1,
              "#fde725"
             ]
            ],
            "type": "surface"
           }
          ],
          "table": [
           {
            "cells": {
             "fill": {
              "color": "rgb(237,237,237)"
             },
             "line": {
              "color": "white"
             }
            },
            "header": {
             "fill": {
              "color": "rgb(217,217,217)"
             },
             "line": {
              "color": "white"
             }
            },
            "type": "table"
           }
          ]
         },
         "layout": {
          "annotationdefaults": {
           "arrowhead": 0,
           "arrowwidth": 1
          },
          "autotypenumbers": "strict",
          "coloraxis": {
           "colorbar": {
            "outlinewidth": 1,
            "tickcolor": "rgb(36,36,36)",
            "ticks": "outside"
           }
          },
          "colorscale": {
           "diverging": [
            [
             0,
             "rgb(103,0,31)"
            ],
            [
             0.1,
             "rgb(178,24,43)"
            ],
            [
             0.2,
             "rgb(214,96,77)"
            ],
            [
             0.3,
             "rgb(244,165,130)"
            ],
            [
             0.4,
             "rgb(253,219,199)"
            ],
            [
             0.5,
             "rgb(247,247,247)"
            ],
            [
             0.6,
             "rgb(209,229,240)"
            ],
            [
             0.7,
             "rgb(146,197,222)"
            ],
            [
             0.8,
             "rgb(67,147,195)"
            ],
            [
             0.9,
             "rgb(33,102,172)"
            ],
            [
             1,
             "rgb(5,48,97)"
            ]
           ],
           "sequential": [
            [
             0,
             "#440154"
            ],
            [
             0.1111111111111111,
             "#482878"
            ],
            [
             0.2222222222222222,
             "#3e4989"
            ],
            [
             0.3333333333333333,
             "#31688e"
            ],
            [
             0.4444444444444444,
             "#26828e"
            ],
            [
             0.5555555555555556,
             "#1f9e89"
            ],
            [
             0.6666666666666666,
             "#35b779"
            ],
            [
             0.7777777777777778,
             "#6ece58"
            ],
            [
             0.8888888888888888,
             "#b5de2b"
            ],
            [
             1,
             "#fde725"
            ]
           ],
           "sequentialminus": [
            [
             0,
             "#440154"
            ],
            [
             0.1111111111111111,
             "#482878"
            ],
            [
             0.2222222222222222,
             "#3e4989"
            ],
            [
             0.3333333333333333,
             "#31688e"
            ],
            [
             0.4444444444444444,
             "#26828e"
            ],
            [
             0.5555555555555556,
             "#1f9e89"
            ],
            [
             0.6666666666666666,
             "#35b779"
            ],
            [
             0.7777777777777778,
             "#6ece58"
            ],
            [
             0.8888888888888888,
             "#b5de2b"
            ],
            [
             1,
             "#fde725"
            ]
           ]
          },
          "colorway": [
           "#1F77B4",
           "#FF7F0E",
           "#2CA02C",
           "#D62728",
           "#9467BD",
           "#8C564B",
           "#E377C2",
           "#7F7F7F",
           "#BCBD22",
           "#17BECF"
          ],
          "font": {
           "color": "rgb(36,36,36)"
          },
          "geo": {
           "bgcolor": "white",
           "lakecolor": "white",
           "landcolor": "white",
           "showlakes": true,
           "showland": true,
           "subunitcolor": "white"
          },
          "hoverlabel": {
           "align": "left"
          },
          "hovermode": "closest",
          "mapbox": {
           "style": "light"
          },
          "paper_bgcolor": "white",
          "plot_bgcolor": "white",
          "polar": {
           "angularaxis": {
            "gridcolor": "rgb(232,232,232)",
            "linecolor": "rgb(36,36,36)",
            "showgrid": false,
            "showline": true,
            "ticks": "outside"
           },
           "bgcolor": "white",
           "radialaxis": {
            "gridcolor": "rgb(232,232,232)",
            "linecolor": "rgb(36,36,36)",
            "showgrid": false,
            "showline": true,
            "ticks": "outside"
           }
          },
          "scene": {
           "xaxis": {
            "backgroundcolor": "white",
            "gridcolor": "rgb(232,232,232)",
            "gridwidth": 2,
            "linecolor": "rgb(36,36,36)",
            "showbackground": true,
            "showgrid": false,
            "showline": true,
            "ticks": "outside",
            "zeroline": false,
            "zerolinecolor": "rgb(36,36,36)"
           },
           "yaxis": {
            "backgroundcolor": "white",
            "gridcolor": "rgb(232,232,232)",
            "gridwidth": 2,
            "linecolor": "rgb(36,36,36)",
            "showbackground": true,
            "showgrid": false,
            "showline": true,
            "ticks": "outside",
            "zeroline": false,
            "zerolinecolor": "rgb(36,36,36)"
           },
           "zaxis": {
            "backgroundcolor": "white",
            "gridcolor": "rgb(232,232,232)",
            "gridwidth": 2,
            "linecolor": "rgb(36,36,36)",
            "showbackground": true,
            "showgrid": false,
            "showline": true,
            "ticks": "outside",
            "zeroline": false,
            "zerolinecolor": "rgb(36,36,36)"
           }
          },
          "shapedefaults": {
           "fillcolor": "black",
           "line": {
            "width": 0
           },
           "opacity": 0.3
          },
          "ternary": {
           "aaxis": {
            "gridcolor": "rgb(232,232,232)",
            "linecolor": "rgb(36,36,36)",
            "showgrid": false,
            "showline": true,
            "ticks": "outside"
           },
           "baxis": {
            "gridcolor": "rgb(232,232,232)",
            "linecolor": "rgb(36,36,36)",
            "showgrid": false,
            "showline": true,
            "ticks": "outside"
           },
           "bgcolor": "white",
           "caxis": {
            "gridcolor": "rgb(232,232,232)",
            "linecolor": "rgb(36,36,36)",
            "showgrid": false,
            "showline": true,
            "ticks": "outside"
           }
          },
          "title": {
           "x": 0.05
          },
          "xaxis": {
           "automargin": true,
           "gridcolor": "rgb(232,232,232)",
           "linecolor": "rgb(36,36,36)",
           "showgrid": false,
           "showline": true,
           "ticks": "outside",
           "title": {
            "standoff": 15
           },
           "zeroline": false,
           "zerolinecolor": "rgb(36,36,36)"
          },
          "yaxis": {
           "automargin": true,
           "gridcolor": "rgb(232,232,232)",
           "linecolor": "rgb(36,36,36)",
           "showgrid": false,
           "showline": true,
           "ticks": "outside",
           "title": {
            "standoff": 15
           },
           "zeroline": false,
           "zerolinecolor": "rgb(36,36,36)"
          }
         }
        },
        "title": {
         "font": {
          "color": "Black",
          "size": 22
         },
         "text": "Topics Over Time for 2023_11-2024_01",
         "x": 0.4,
         "xanchor": "center",
         "y": 0.95,
         "yanchor": "top"
        },
        "width": 1250,
        "xaxis": {
         "showgrid": true
        },
        "yaxis": {
         "showgrid": true,
         "title": {
          "text": "Frequency"
         }
        }
       }
      }
     },
     "metadata": {},
     "output_type": "display_data"
    },
    {
     "data": {
      "application/vnd.plotly.v1+json": {
       "config": {
        "plotlyServerURL": "https://plot.ly"
       },
       "data": [
        {
         "hoverinfo": "text",
         "hovertext": [
          "<b>Topic 0</b><br>Words: gue, penasaran, presiden, sama, punya",
          "<b>Topic 0</b><br>Words: menteri, jadi, tenaga, tuh, kerja",
          "<b>Topic 0</b><br>Words: warga, lu, tuju, aku, salah",
          "<b>Topic 0</b><br>Words: menteri, dokter, abah, logical, angin",
          "<b>Topic 0</b><br>Words: apresiasi, fgd, kapan, tadi, kritik",
          "<b>Topic 0</b><br>Words: beta, raport, geografi, internal, landas",
          "<b>Topic 0</b><br>Words: istana, hamba, kendali, jilat, koar",
          "<b>Topic 0</b><br>Words: nek, tak, dewa, awak, pecah",
          "<b>Topic 0</b><br>Words: coba, kelinci, muak, ngubah, berapa",
          "<b>Topic 0</b><br>Words: menteri, pramuka, wajib, ekstrakurikuler, ri",
          "<b>Topic 0</b><br>Words: pramuka, menteri, komisi, kali, hapus",
          "<b>Topic 0</b><br>Words: budaya, riset, pramuka, jatim, menteri",
          "<b>Topic 0</b><br>Words: jangan, ganti, ujug, politisasi, stop",
          "<b>Topic 0</b><br>Words: topik, caleg, program, capres, krusial",
          "<b>Topic 0</b><br>Words: menteri, sih, jadi, makin, nadiem",
          "<b>Topic 0</b><br>Words: emergency, you, isnt, supposed, pr",
          "<b>Topic 0</b><br>Words: menteri, rasa, nadiem, viral, tafakur",
          "<b>Topic 0</b><br>Words: your, menteri, lu, lama, own",
          "<b>Topic 0</b><br>Words: tinggi, masingmasing, slb, bersikukuh, ptnbh"
         ],
         "marker": {
          "color": "#E69F00"
         },
         "mode": "lines",
         "name": "0_menteri_pramuka_jadi_nadiem",
         "type": "scatter",
         "x": [
          "2024-02-27T03:43:02.201999+00:00",
          "2024-03-02T09:39:52.533333+00:00",
          "2024-03-04T11:53:05.800000+00:00",
          "2024-03-06T14:06:19.066666+00:00",
          "2024-03-14T22:59:12.133333+00:00",
          "2024-03-17T01:12:25.400000+00:00",
          "2024-03-19T03:25:38.666666+00:00",
          "2024-03-21T05:38:51.933333+00:00",
          "2024-03-27T12:18:31.733333+00:00",
          "2024-03-31T16:44:58.266666+00:00",
          "2024-04-02T18:58:11.533333+00:00",
          "2024-04-04T21:11:24.800000+00:00",
          "2024-04-06T23:24:38.066666+00:00",
          "2024-04-09T01:37:51.333333+00:00",
          "2024-04-11T03:51:04.600000+00:00",
          "2024-04-13T06:04:17.866666+00:00",
          "2024-04-15T08:17:31.133333+00:00",
          "2024-04-25T19:23:37.466666+00:00",
          "2024-04-27T21:36:50.733333+00:00"
         ],
         "y": [
          2,
          4,
          2,
          2,
          1,
          1,
          1,
          1,
          1,
          4,
          7,
          3,
          1,
          1,
          7,
          1,
          2,
          3,
          2
         ]
        },
        {
         "hoverinfo": "text",
         "hovertext": [
          "<b>Topic 1</b><br>Words: indonesia, kjmu, mahal, beasiswa, zalim",
          "<b>Topic 1</b><br>Words: indonesia, hebat, ganjarmahfud, sejahtera, kali",
          "<b>Topic 1</b><br>Words: indonesia, sejahtera, kolaborasi, emas, lipat",
          "<b>Topic 1</b><br>Words: indonesia, belanda, hebat, ajar, pribumi",
          "<b>Topic 1</b><br>Words: indonesia, moga, anies, kjmu, jakarta",
          "<b>Topic 1</b><br>Words: daya, sumber, manusia, hebat, ganjarmahfud",
          "<b>Topic 1</b><br>Words: indonesia, lo, pintar, banyak, pola",
          "<b>Topic 1</b><br>Words: indonesia, felt, kokoh, fondasi, kolaborasi",
          "<b>Topic 1</b><br>Words: kak, indonesia, ikut, syahrul, hasibuan",
          "<b>Topic 1</b><br>Words: ganti, weh, hayo, sebel, asli",
          "<b>Topic 1</b><br>Words: indonesia, republik, wakil, spesifik, dewan",
          "<b>Topic 1</b><br>Words: indonesia, dasar, ciri, paradigma, pasuk",
          "<b>Topic 1</b><br>Words: aco, kepala, indonesia, bup, instruksi",
          "<b>Topic 1</b><br>Words: indonesia, literasi, sangat, tuju, banyak",
          "<b>Topic 1</b><br>Words: indonesia, mulai, esensi, lingkup, turut",
          "<b>Topic 1</b><br>Words: indonesia, administrasi, setir, ruibet, ira",
          "<b>Topic 1</b><br>Words: ajurrrrrrr, puoooollllll, ngawur, sekali, paham",
          "<b>Topic 1</b><br>Words: baru, indonesia, benar, seragam, cita",
          "<b>Topic 1</b><br>Words: indonesia, ubah, felt, kurun, paper",
          "<b>Topic 1</b><br>Words: indonesia, bimbel, bikin, jangan, tuh",
          "<b>Topic 1</b><br>Words: indonesia, arah, mahasiswa, hidup, guru"
         ],
         "marker": {
          "color": "#56B4E9"
         },
         "mode": "lines",
         "name": "1_indonesia_hebat_sejahtera_kali",
         "type": "scatter",
         "x": [
          "2024-03-02T09:39:52.533333+00:00",
          "2024-03-04T11:53:05.800000+00:00",
          "2024-03-06T14:06:19.066666+00:00",
          "2024-03-08T16:19:32.333333+00:00",
          "2024-03-10T18:32:45.600000+00:00",
          "2024-03-12T20:45:58.866666+00:00",
          "2024-03-14T22:59:12.133333+00:00",
          "2024-03-17T01:12:25.400000+00:00",
          "2024-03-19T03:25:38.666666+00:00",
          "2024-03-21T05:38:51.933333+00:00",
          "2024-03-25T10:05:18.466666+00:00",
          "2024-03-27T12:18:31.733333+00:00",
          "2024-03-31T16:44:58.266666+00:00",
          "2024-04-02T18:58:11.533333+00:00",
          "2024-04-09T01:37:51.333333+00:00",
          "2024-04-11T03:51:04.600000+00:00",
          "2024-04-13T06:04:17.866666+00:00",
          "2024-04-15T08:17:31.133333+00:00",
          "2024-04-23T17:10:24.200000+00:00",
          "2024-04-25T19:23:37.466666+00:00",
          "2024-04-27T21:36:50.733333+00:00"
         ],
         "y": [
          2,
          3,
          4,
          4,
          3,
          1,
          2,
          4,
          2,
          1,
          1,
          2,
          2,
          4,
          2,
          2,
          1,
          2,
          2,
          2,
          4
         ]
        },
        {
         "hoverinfo": "text",
         "hovertext": [
          "<b>Topic 2</b><br>Words: ganjar, adat, pranowo, meukkan, yarakat",
          "<b>Topic 2</b><br>Words: ganjar, pranowo, rakyat, ibu, ganjarmahfud",
          "<b>Topic 2</b><br>Words: ganjar, pranowo, timur, jawa, rakyat",
          "<b>Topic 2</b><br>Words: ganjar, pelopor, inklusif, rata, pranowo",
          "<b>Topic 2</b><br>Words: hak, bukti, prioritas, inklusivitas, ganjar",
          "<b>Topic 2</b><br>Words: mahfud, ganjarprof, cermin, setia, ganjar",
          "<b>Topic 2</b><br>Words: ganjar, pranowo, lebih, rakyat, bukti",
          "<b>Topic 2</b><br>Words: ganjar, rakyat, pranowo, betul, piagam",
          "<b>Topic 2</b><br>Words: ekskul, wajib, pramuka, koperasiumkm, orba",
          "<b>Topic 2</b><br>Words: entah, dzolim, seignorant, pambuat, tunggu",
          "<b>Topic 2</b><br>Words: mumpung, vampir, rame, plis, institute",
          "<b>Topic 2</b><br>Words: etika, aksi, tanam, ancang, anugrah",
          "<b>Topic 2</b><br>Words: muat, berani, agam, betul, indra",
          "<b>Topic 2</b><br>Words: pribadi, langkahlangkah, kausalitas, sosialtindakan, edukasi"
         ],
         "marker": {
          "color": "#009E73"
         },
         "mode": "lines",
         "name": "2_ganjar_pranowo_rakyat_betul",
         "type": "scatter",
         "x": [
          "2024-03-02T09:39:52.533333+00:00",
          "2024-03-04T11:53:05.800000+00:00",
          "2024-03-06T14:06:19.066666+00:00",
          "2024-03-08T16:19:32.333333+00:00",
          "2024-03-10T18:32:45.600000+00:00",
          "2024-03-12T20:45:58.866666+00:00",
          "2024-03-14T22:59:12.133333+00:00",
          "2024-03-19T03:25:38.666666+00:00",
          "2024-03-31T16:44:58.266666+00:00",
          "2024-04-02T18:58:11.533333+00:00",
          "2024-04-13T06:04:17.866666+00:00",
          "2024-04-15T08:17:31.133333+00:00",
          "2024-04-17T10:30:44.400000+00:00",
          "2024-04-19T12:43:57.666666+00:00"
         ],
         "y": [
          3,
          4,
          3,
          1,
          2,
          1,
          3,
          2,
          3,
          1,
          1,
          1,
          2,
          1
         ]
        },
        {
         "hoverinfo": "text",
         "hovertext": [
          "<b>Topic 3</b><br>Words: background, bidang, bukan, berangkat, skeptis",
          "<b>Topic 3</b><br>Words: malang, guru, tindak, diapus, discussion",
          "<b>Topic 3</b><br>Words: kanker, dokter, dar, tg, februari",
          "<b>Topic 3</b><br>Words: nadiem, berita, kompas, caracara, sisi",
          "<b>Topic 3</b><br>Words: batal, hartono, asudahlah, sasar, dipaido",
          "<b>Topic 3</b><br>Words: ratus, nasib, pai, guru, jember",
          "<b>Topic 3</b><br>Words: kelas, psikis, kangen, nostalgia, tensi",
          "<b>Topic 3</b><br>Words: jernih, suara, peka, lapang, harap",
          "<b>Topic 3</b><br>Words: tni, temu, tahan, mr, panglima",
          "<b>Topic 3</b><br>Words: mbak, mas, nisa, puasa, pspk",
          "<b>Topic 3</b><br>Words: pramuka, wajib, nadiem, karakter, apa",
          "<b>Topic 3</b><br>Words: demo, pengaruh, sekali, ukt, tri",
          "<b>Topic 3</b><br>Words: nyaris, wapi, logis, gelut, papa",
          "<b>Topic 3</b><br>Words: kuliah, maaf, prajab, gt, ppg",
          "<b>Topic 3</b><br>Words: kebon, love, garam, rombak, pilih",
          "<b>Topic 3</b><br>Words: luarrr, alesan, biasaahh, ohhh, nya",
          "<b>Topic 3</b><br>Words: don, yoo, inspirasi, muga, iklim",
          "<b>Topic 3</b><br>Words: isbn, pandu, mesin, peduli, rp",
          "<b>Topic 3</b><br>Words: adopsi, plus, ikn, merdeka, hubner",
          "<b>Topic 3</b><br>Words: tantang, inggris, imbang, bahasa, sd",
          "<b>Topic 3</b><br>Words: kipk, ngotak, teliti, gue, soal"
         ],
         "marker": {
          "color": "#F0E442"
         },
         "mode": "lines",
         "name": "3_nadiem_guru_mbak_buat",
         "type": "scatter",
         "x": [
          "2024-02-27T03:43:02.201999+00:00",
          "2024-03-04T11:53:05.800000+00:00",
          "2024-03-06T14:06:19.066666+00:00",
          "2024-03-08T16:19:32.333333+00:00",
          "2024-03-12T20:45:58.866666+00:00",
          "2024-03-17T01:12:25.400000+00:00",
          "2024-03-19T03:25:38.666666+00:00",
          "2024-03-21T05:38:51.933333+00:00",
          "2024-03-23T07:52:05.200000+00:00",
          "2024-03-27T12:18:31.733333+00:00",
          "2024-03-31T16:44:58.266666+00:00",
          "2024-04-02T18:58:11.533333+00:00",
          "2024-04-04T21:11:24.800000+00:00",
          "2024-04-09T01:37:51.333333+00:00",
          "2024-04-11T03:51:04.600000+00:00",
          "2024-04-13T06:04:17.866666+00:00",
          "2024-04-15T08:17:31.133333+00:00",
          "2024-04-17T10:30:44.400000+00:00",
          "2024-04-21T14:57:10.933333+00:00",
          "2024-04-25T19:23:37.466666+00:00",
          "2024-04-27T21:36:50.733333+00:00"
         ],
         "y": [
          1,
          3,
          1,
          1,
          2,
          2,
          1,
          2,
          1,
          1,
          3,
          1,
          1,
          5,
          1,
          1,
          1,
          2,
          2,
          1,
          3
         ]
        },
        {
         "hoverinfo": "text",
         "hovertext": [
          "<b>Topic 4</b><br>Words: gratis, makan, siang, sulfat, samping",
          "<b>Topic 4</b><br>Words: gratis, dana, makan, siang, guna",
          "<b>Topic 4</b><br>Words: kelan, tai, makan, gratis, mahal",
          "<b>Topic 4</b><br>Words: kalang, ekonomi, makan, mnjalani, bbm",
          "<b>Topic 4</b><br>Words: mahal, gratis, makan, gtbiaya, enggak",
          "<b>Topic 4</b><br>Words: makan, siang, gratis, anak, pragmatis",
          "<b>Topic 4</b><br>Words: gimana, kdepannya, biak, segi, nutrisi",
          "<b>Topic 4</b><br>Words: jauh, gratis, gue, manfaat, segala",
          "<b>Topic 4</b><br>Words: gratis, lebih, makan, penting, stunting",
          "<b>Topic 4</b><br>Words: inflasi, naik, tinggi, kpr, cicil",
          "<b>Topic 4</b><br>Words: sekunder, teror, menang, sabagai, primer",
          "<b>Topic 4</b><br>Words: replynya, hahaha, of, tkdn, domestik",
          "<b>Topic 4</b><br>Words: wapres, royong, naikin, gilir, mantau",
          "<b>Topic 4</b><br>Words: biaya, antah, gratis, mana, makan",
          "<b>Topic 4</b><br>Words: kapitalis, kemendagri, boncos, tan, nanggung"
         ],
         "marker": {
          "color": "#D55E00"
         },
         "mode": "lines",
         "name": "4_gratis_makan_siang_naik",
         "type": "scatter",
         "x": [
          "2024-02-27T03:43:02.201999+00:00",
          "2024-03-02T09:39:52.533333+00:00",
          "2024-03-04T11:53:05.800000+00:00",
          "2024-03-06T14:06:19.066666+00:00",
          "2024-03-08T16:19:32.333333+00:00",
          "2024-03-10T18:32:45.600000+00:00",
          "2024-03-12T20:45:58.866666+00:00",
          "2024-03-21T05:38:51.933333+00:00",
          "2024-03-27T12:18:31.733333+00:00",
          "2024-03-29T14:31:45+00:00",
          "2024-04-02T18:58:11.533333+00:00",
          "2024-04-06T23:24:38.066666+00:00",
          "2024-04-09T01:37:51.333333+00:00",
          "2024-04-19T12:43:57.666666+00:00",
          "2024-04-25T19:23:37.466666+00:00"
         ],
         "y": [
          6,
          5,
          2,
          3,
          3,
          1,
          1,
          1,
          1,
          2,
          2,
          1,
          1,
          2,
          2
         ]
        },
        {
         "hoverinfo": "text",
         "hovertext": [
          "<b>Topic 5</b><br>Words: negara, lalai, masterplan, instansi, jarang",
          "<b>Topic 5</b><br>Words: politik, bagaimana, penting, sekarang, arah",
          "<b>Topic 5</b><br>Words: publik, rakyat, negara, pangan, korupsi",
          "<b>Topic 5</b><br>Words: otonomi, burleigh, kencang, too, becus",
          "<b>Topic 5</b><br>Words: demokrasi, anut, sistem, rakyat, negara",
          "<b>Topic 5</b><br>Words: miskin, bukan, govt, marxian, walaupun",
          "<b>Topic 5</b><br>Words: ruined, the, malah, sekarang, sistem",
          "<b>Topic 5</b><br>Words: konstitusi, konoha, kangkang, rajalela, bener",
          "<b>Topic 5</b><br>Words: negara, ekonomi, publik, yasudah, barang",
          "<b>Topic 5</b><br>Words: suka, politik, partai, langsung, utakatik",
          "<b>Topic 5</b><br>Words: tahan, upaya, amp, untuk, power",
          "<b>Topic 5</b><br>Words: kubur, nakes, mental, via, jauh"
         ],
         "marker": {
          "color": "#0072B2"
         },
         "mode": "lines",
         "name": "5_negara_politik_publik_korupsi",
         "type": "scatter",
         "x": [
          "2024-02-27T03:43:02.201999+00:00",
          "2024-03-04T11:53:05.800000+00:00",
          "2024-03-06T14:06:19.066666+00:00",
          "2024-03-14T22:59:12.133333+00:00",
          "2024-03-21T05:38:51.933333+00:00",
          "2024-03-23T07:52:05.200000+00:00",
          "2024-03-29T14:31:45+00:00",
          "2024-03-31T16:44:58.266666+00:00",
          "2024-04-06T23:24:38.066666+00:00",
          "2024-04-11T03:51:04.600000+00:00",
          "2024-04-13T06:04:17.866666+00:00",
          "2024-04-15T08:17:31.133333+00:00"
         ],
         "y": [
          2,
          3,
          4,
          1,
          2,
          1,
          1,
          1,
          2,
          3,
          2,
          2
         ]
        },
        {
         "hoverinfo": "text",
         "hovertext": [
          "<b>Topic 6</b><br>Words: terap, merdeka, kurikulum, khusus, kesiap",
          "<b>Topic 6</b><br>Words: pesantren, nonformal, bismillahirrohmanirrohim, doa, susun",
          "<b>Topic 6</b><br>Words: data, ajar, model, merdeka, bas",
          "<b>Topic 6</b><br>Words: tilik, inovasi, kurikulum, kualitas, merdeka",
          "<b>Topic 6</b><br>Words: kurmer, kritis, defisit, analisis, kerangka",
          "<b>Topic 6</b><br>Words: gelomgang, bbgp, merdeka, provinsi, awas",
          "<b>Topic 6</b><br>Words: merdeka, kurikulum, naskah, opini, selesai",
          "<b>Topic 6</b><br>Words: region, bogor, bekas, awas, merdeka",
          "<b>Topic 6</b><br>Words: mahasiswa, link, usaha, hukum, semester",
          "<b>Topic 6</b><br>Words: kurikulum, sekuler, noor, afeefa, resmi",
          "<b>Topic 6</b><br>Words: kurikulum, ilmiah, soefijanto, paramadina, amin",
          "<b>Topic 6</b><br>Words: lemdiklat, polri, madya, padang, kombes",
          "<b>Topic 6</b><br>Words: merdeka, jamin, mutu, ajar, duta"
         ],
         "marker": {
          "color": "#CC79A7"
         },
         "mode": "lines",
         "name": "6_merdeka_kurikulum_ajar_latih",
         "type": "scatter",
         "x": [
          "2024-02-27T03:43:02.201999+00:00",
          "2024-03-02T09:39:52.533333+00:00",
          "2024-03-04T11:53:05.800000+00:00",
          "2024-03-06T14:06:19.066666+00:00",
          "2024-03-10T18:32:45.600000+00:00",
          "2024-03-17T01:12:25.400000+00:00",
          "2024-03-19T03:25:38.666666+00:00",
          "2024-03-21T05:38:51.933333+00:00",
          "2024-04-06T23:24:38.066666+00:00",
          "2024-04-13T06:04:17.866666+00:00",
          "2024-04-15T08:17:31.133333+00:00",
          "2024-04-23T17:10:24.200000+00:00",
          "2024-04-25T19:23:37.466666+00:00"
         ],
         "y": [
          1,
          1,
          3,
          1,
          1,
          1,
          1,
          1,
          2,
          1,
          1,
          1,
          1
         ]
        },
        {
         "hoverinfo": "text",
         "hovertext": [
          "<b>Topic 7</b><br>Words: guru, enggak, tuh, kelas, ganti",
          "<b>Topic 7</b><br>Words: mahasiswa, kelas, enggak, mau, sd",
          "<b>Topic 7</b><br>Words: diskusi, mutakhir, ajaib, remeh, mendikbud",
          "<b>Topic 7</b><br>Words: kjmu, serius, berat, henti, sedang",
          "<b>Topic 7</b><br>Words: kjmu, serius, berat, henti, sedang",
          "<b>Topic 7</b><br>Words: aku, terus, mau, guru, kalo",
          "<b>Topic 7</b><br>Words: uji, sekolah, coba, pelosok, sampel",
          "<b>Topic 7</b><br>Words: apa, kicik, umur, nama, rumah",
          "<b>Topic 7</b><br>Words: guru, cuma, kalau, banyak, cetus",
          "<b>Topic 7</b><br>Words: bikin, anak, orgorg, gebrak, urgensi",
          "<b>Topic 7</b><br>Words: kelas, naik, gigit, muridnyasemua, jekalamak",
          "<b>Topic 7</b><br>Words: les, susah, begini, eksklusifitasnya, ah",
          "<b>Topic 7</b><br>Words: madrasah, ibtidaiyah, ajar, inggris, kemendikbud"
         ],
         "marker": {
          "color": "#E69F00"
         },
         "mode": "lines",
         "name": "7_guru_mau_sekolah_enggak",
         "type": "scatter",
         "x": [
          "2024-02-27T03:43:02.201999+00:00",
          "2024-03-06T14:06:19.066666+00:00",
          "2024-03-08T16:19:32.333333+00:00",
          "2024-03-10T18:32:45.600000+00:00",
          "2024-03-14T22:59:12.133333+00:00",
          "2024-03-21T05:38:51.933333+00:00",
          "2024-03-23T07:52:05.200000+00:00",
          "2024-03-25T10:05:18.466666+00:00",
          "2024-03-31T16:44:58.266666+00:00",
          "2024-04-11T03:51:04.600000+00:00",
          "2024-04-13T06:04:17.866666+00:00",
          "2024-04-25T19:23:37.466666+00:00",
          "2024-04-27T21:36:50.733333+00:00"
         ],
         "y": [
          4,
          3,
          1,
          1,
          1,
          3,
          1,
          1,
          2,
          1,
          1,
          1,
          1
         ]
        }
       ],
       "layout": {
        "height": 450,
        "hoverlabel": {
         "bgcolor": "white",
         "font": {
          "family": "Rockwell",
          "size": 16
         }
        },
        "legend": {
         "title": {
          "text": "<b>Global Topic Representation"
         }
        },
        "template": {
         "data": {
          "bar": [
           {
            "error_x": {
             "color": "rgb(36,36,36)"
            },
            "error_y": {
             "color": "rgb(36,36,36)"
            },
            "marker": {
             "line": {
              "color": "white",
              "width": 0.5
             },
             "pattern": {
              "fillmode": "overlay",
              "size": 10,
              "solidity": 0.2
             }
            },
            "type": "bar"
           }
          ],
          "barpolar": [
           {
            "marker": {
             "line": {
              "color": "white",
              "width": 0.5
             },
             "pattern": {
              "fillmode": "overlay",
              "size": 10,
              "solidity": 0.2
             }
            },
            "type": "barpolar"
           }
          ],
          "carpet": [
           {
            "aaxis": {
             "endlinecolor": "rgb(36,36,36)",
             "gridcolor": "white",
             "linecolor": "white",
             "minorgridcolor": "white",
             "startlinecolor": "rgb(36,36,36)"
            },
            "baxis": {
             "endlinecolor": "rgb(36,36,36)",
             "gridcolor": "white",
             "linecolor": "white",
             "minorgridcolor": "white",
             "startlinecolor": "rgb(36,36,36)"
            },
            "type": "carpet"
           }
          ],
          "choropleth": [
           {
            "colorbar": {
             "outlinewidth": 1,
             "tickcolor": "rgb(36,36,36)",
             "ticks": "outside"
            },
            "type": "choropleth"
           }
          ],
          "contour": [
           {
            "colorbar": {
             "outlinewidth": 1,
             "tickcolor": "rgb(36,36,36)",
             "ticks": "outside"
            },
            "colorscale": [
             [
              0,
              "#440154"
             ],
             [
              0.1111111111111111,
              "#482878"
             ],
             [
              0.2222222222222222,
              "#3e4989"
             ],
             [
              0.3333333333333333,
              "#31688e"
             ],
             [
              0.4444444444444444,
              "#26828e"
             ],
             [
              0.5555555555555556,
              "#1f9e89"
             ],
             [
              0.6666666666666666,
              "#35b779"
             ],
             [
              0.7777777777777778,
              "#6ece58"
             ],
             [
              0.8888888888888888,
              "#b5de2b"
             ],
             [
              1,
              "#fde725"
             ]
            ],
            "type": "contour"
           }
          ],
          "contourcarpet": [
           {
            "colorbar": {
             "outlinewidth": 1,
             "tickcolor": "rgb(36,36,36)",
             "ticks": "outside"
            },
            "type": "contourcarpet"
           }
          ],
          "heatmap": [
           {
            "colorbar": {
             "outlinewidth": 1,
             "tickcolor": "rgb(36,36,36)",
             "ticks": "outside"
            },
            "colorscale": [
             [
              0,
              "#440154"
             ],
             [
              0.1111111111111111,
              "#482878"
             ],
             [
              0.2222222222222222,
              "#3e4989"
             ],
             [
              0.3333333333333333,
              "#31688e"
             ],
             [
              0.4444444444444444,
              "#26828e"
             ],
             [
              0.5555555555555556,
              "#1f9e89"
             ],
             [
              0.6666666666666666,
              "#35b779"
             ],
             [
              0.7777777777777778,
              "#6ece58"
             ],
             [
              0.8888888888888888,
              "#b5de2b"
             ],
             [
              1,
              "#fde725"
             ]
            ],
            "type": "heatmap"
           }
          ],
          "heatmapgl": [
           {
            "colorbar": {
             "outlinewidth": 1,
             "tickcolor": "rgb(36,36,36)",
             "ticks": "outside"
            },
            "colorscale": [
             [
              0,
              "#440154"
             ],
             [
              0.1111111111111111,
              "#482878"
             ],
             [
              0.2222222222222222,
              "#3e4989"
             ],
             [
              0.3333333333333333,
              "#31688e"
             ],
             [
              0.4444444444444444,
              "#26828e"
             ],
             [
              0.5555555555555556,
              "#1f9e89"
             ],
             [
              0.6666666666666666,
              "#35b779"
             ],
             [
              0.7777777777777778,
              "#6ece58"
             ],
             [
              0.8888888888888888,
              "#b5de2b"
             ],
             [
              1,
              "#fde725"
             ]
            ],
            "type": "heatmapgl"
           }
          ],
          "histogram": [
           {
            "marker": {
             "line": {
              "color": "white",
              "width": 0.6
             }
            },
            "type": "histogram"
           }
          ],
          "histogram2d": [
           {
            "colorbar": {
             "outlinewidth": 1,
             "tickcolor": "rgb(36,36,36)",
             "ticks": "outside"
            },
            "colorscale": [
             [
              0,
              "#440154"
             ],
             [
              0.1111111111111111,
              "#482878"
             ],
             [
              0.2222222222222222,
              "#3e4989"
             ],
             [
              0.3333333333333333,
              "#31688e"
             ],
             [
              0.4444444444444444,
              "#26828e"
             ],
             [
              0.5555555555555556,
              "#1f9e89"
             ],
             [
              0.6666666666666666,
              "#35b779"
             ],
             [
              0.7777777777777778,
              "#6ece58"
             ],
             [
              0.8888888888888888,
              "#b5de2b"
             ],
             [
              1,
              "#fde725"
             ]
            ],
            "type": "histogram2d"
           }
          ],
          "histogram2dcontour": [
           {
            "colorbar": {
             "outlinewidth": 1,
             "tickcolor": "rgb(36,36,36)",
             "ticks": "outside"
            },
            "colorscale": [
             [
              0,
              "#440154"
             ],
             [
              0.1111111111111111,
              "#482878"
             ],
             [
              0.2222222222222222,
              "#3e4989"
             ],
             [
              0.3333333333333333,
              "#31688e"
             ],
             [
              0.4444444444444444,
              "#26828e"
             ],
             [
              0.5555555555555556,
              "#1f9e89"
             ],
             [
              0.6666666666666666,
              "#35b779"
             ],
             [
              0.7777777777777778,
              "#6ece58"
             ],
             [
              0.8888888888888888,
              "#b5de2b"
             ],
             [
              1,
              "#fde725"
             ]
            ],
            "type": "histogram2dcontour"
           }
          ],
          "mesh3d": [
           {
            "colorbar": {
             "outlinewidth": 1,
             "tickcolor": "rgb(36,36,36)",
             "ticks": "outside"
            },
            "type": "mesh3d"
           }
          ],
          "parcoords": [
           {
            "line": {
             "colorbar": {
              "outlinewidth": 1,
              "tickcolor": "rgb(36,36,36)",
              "ticks": "outside"
             }
            },
            "type": "parcoords"
           }
          ],
          "pie": [
           {
            "automargin": true,
            "type": "pie"
           }
          ],
          "scatter": [
           {
            "fillpattern": {
             "fillmode": "overlay",
             "size": 10,
             "solidity": 0.2
            },
            "type": "scatter"
           }
          ],
          "scatter3d": [
           {
            "line": {
             "colorbar": {
              "outlinewidth": 1,
              "tickcolor": "rgb(36,36,36)",
              "ticks": "outside"
             }
            },
            "marker": {
             "colorbar": {
              "outlinewidth": 1,
              "tickcolor": "rgb(36,36,36)",
              "ticks": "outside"
             }
            },
            "type": "scatter3d"
           }
          ],
          "scattercarpet": [
           {
            "marker": {
             "colorbar": {
              "outlinewidth": 1,
              "tickcolor": "rgb(36,36,36)",
              "ticks": "outside"
             }
            },
            "type": "scattercarpet"
           }
          ],
          "scattergeo": [
           {
            "marker": {
             "colorbar": {
              "outlinewidth": 1,
              "tickcolor": "rgb(36,36,36)",
              "ticks": "outside"
             }
            },
            "type": "scattergeo"
           }
          ],
          "scattergl": [
           {
            "marker": {
             "colorbar": {
              "outlinewidth": 1,
              "tickcolor": "rgb(36,36,36)",
              "ticks": "outside"
             }
            },
            "type": "scattergl"
           }
          ],
          "scattermapbox": [
           {
            "marker": {
             "colorbar": {
              "outlinewidth": 1,
              "tickcolor": "rgb(36,36,36)",
              "ticks": "outside"
             }
            },
            "type": "scattermapbox"
           }
          ],
          "scatterpolar": [
           {
            "marker": {
             "colorbar": {
              "outlinewidth": 1,
              "tickcolor": "rgb(36,36,36)",
              "ticks": "outside"
             }
            },
            "type": "scatterpolar"
           }
          ],
          "scatterpolargl": [
           {
            "marker": {
             "colorbar": {
              "outlinewidth": 1,
              "tickcolor": "rgb(36,36,36)",
              "ticks": "outside"
             }
            },
            "type": "scatterpolargl"
           }
          ],
          "scatterternary": [
           {
            "marker": {
             "colorbar": {
              "outlinewidth": 1,
              "tickcolor": "rgb(36,36,36)",
              "ticks": "outside"
             }
            },
            "type": "scatterternary"
           }
          ],
          "surface": [
           {
            "colorbar": {
             "outlinewidth": 1,
             "tickcolor": "rgb(36,36,36)",
             "ticks": "outside"
            },
            "colorscale": [
             [
              0,
              "#440154"
             ],
             [
              0.1111111111111111,
              "#482878"
             ],
             [
              0.2222222222222222,
              "#3e4989"
             ],
             [
              0.3333333333333333,
              "#31688e"
             ],
             [
              0.4444444444444444,
              "#26828e"
             ],
             [
              0.5555555555555556,
              "#1f9e89"
             ],
             [
              0.6666666666666666,
              "#35b779"
             ],
             [
              0.7777777777777778,
              "#6ece58"
             ],
             [
              0.8888888888888888,
              "#b5de2b"
             ],
             [
              1,
              "#fde725"
             ]
            ],
            "type": "surface"
           }
          ],
          "table": [
           {
            "cells": {
             "fill": {
              "color": "rgb(237,237,237)"
             },
             "line": {
              "color": "white"
             }
            },
            "header": {
             "fill": {
              "color": "rgb(217,217,217)"
             },
             "line": {
              "color": "white"
             }
            },
            "type": "table"
           }
          ]
         },
         "layout": {
          "annotationdefaults": {
           "arrowhead": 0,
           "arrowwidth": 1
          },
          "autotypenumbers": "strict",
          "coloraxis": {
           "colorbar": {
            "outlinewidth": 1,
            "tickcolor": "rgb(36,36,36)",
            "ticks": "outside"
           }
          },
          "colorscale": {
           "diverging": [
            [
             0,
             "rgb(103,0,31)"
            ],
            [
             0.1,
             "rgb(178,24,43)"
            ],
            [
             0.2,
             "rgb(214,96,77)"
            ],
            [
             0.3,
             "rgb(244,165,130)"
            ],
            [
             0.4,
             "rgb(253,219,199)"
            ],
            [
             0.5,
             "rgb(247,247,247)"
            ],
            [
             0.6,
             "rgb(209,229,240)"
            ],
            [
             0.7,
             "rgb(146,197,222)"
            ],
            [
             0.8,
             "rgb(67,147,195)"
            ],
            [
             0.9,
             "rgb(33,102,172)"
            ],
            [
             1,
             "rgb(5,48,97)"
            ]
           ],
           "sequential": [
            [
             0,
             "#440154"
            ],
            [
             0.1111111111111111,
             "#482878"
            ],
            [
             0.2222222222222222,
             "#3e4989"
            ],
            [
             0.3333333333333333,
             "#31688e"
            ],
            [
             0.4444444444444444,
             "#26828e"
            ],
            [
             0.5555555555555556,
             "#1f9e89"
            ],
            [
             0.6666666666666666,
             "#35b779"
            ],
            [
             0.7777777777777778,
             "#6ece58"
            ],
            [
             0.8888888888888888,
             "#b5de2b"
            ],
            [
             1,
             "#fde725"
            ]
           ],
           "sequentialminus": [
            [
             0,
             "#440154"
            ],
            [
             0.1111111111111111,
             "#482878"
            ],
            [
             0.2222222222222222,
             "#3e4989"
            ],
            [
             0.3333333333333333,
             "#31688e"
            ],
            [
             0.4444444444444444,
             "#26828e"
            ],
            [
             0.5555555555555556,
             "#1f9e89"
            ],
            [
             0.6666666666666666,
             "#35b779"
            ],
            [
             0.7777777777777778,
             "#6ece58"
            ],
            [
             0.8888888888888888,
             "#b5de2b"
            ],
            [
             1,
             "#fde725"
            ]
           ]
          },
          "colorway": [
           "#1F77B4",
           "#FF7F0E",
           "#2CA02C",
           "#D62728",
           "#9467BD",
           "#8C564B",
           "#E377C2",
           "#7F7F7F",
           "#BCBD22",
           "#17BECF"
          ],
          "font": {
           "color": "rgb(36,36,36)"
          },
          "geo": {
           "bgcolor": "white",
           "lakecolor": "white",
           "landcolor": "white",
           "showlakes": true,
           "showland": true,
           "subunitcolor": "white"
          },
          "hoverlabel": {
           "align": "left"
          },
          "hovermode": "closest",
          "mapbox": {
           "style": "light"
          },
          "paper_bgcolor": "white",
          "plot_bgcolor": "white",
          "polar": {
           "angularaxis": {
            "gridcolor": "rgb(232,232,232)",
            "linecolor": "rgb(36,36,36)",
            "showgrid": false,
            "showline": true,
            "ticks": "outside"
           },
           "bgcolor": "white",
           "radialaxis": {
            "gridcolor": "rgb(232,232,232)",
            "linecolor": "rgb(36,36,36)",
            "showgrid": false,
            "showline": true,
            "ticks": "outside"
           }
          },
          "scene": {
           "xaxis": {
            "backgroundcolor": "white",
            "gridcolor": "rgb(232,232,232)",
            "gridwidth": 2,
            "linecolor": "rgb(36,36,36)",
            "showbackground": true,
            "showgrid": false,
            "showline": true,
            "ticks": "outside",
            "zeroline": false,
            "zerolinecolor": "rgb(36,36,36)"
           },
           "yaxis": {
            "backgroundcolor": "white",
            "gridcolor": "rgb(232,232,232)",
            "gridwidth": 2,
            "linecolor": "rgb(36,36,36)",
            "showbackground": true,
            "showgrid": false,
            "showline": true,
            "ticks": "outside",
            "zeroline": false,
            "zerolinecolor": "rgb(36,36,36)"
           },
           "zaxis": {
            "backgroundcolor": "white",
            "gridcolor": "rgb(232,232,232)",
            "gridwidth": 2,
            "linecolor": "rgb(36,36,36)",
            "showbackground": true,
            "showgrid": false,
            "showline": true,
            "ticks": "outside",
            "zeroline": false,
            "zerolinecolor": "rgb(36,36,36)"
           }
          },
          "shapedefaults": {
           "fillcolor": "black",
           "line": {
            "width": 0
           },
           "opacity": 0.3
          },
          "ternary": {
           "aaxis": {
            "gridcolor": "rgb(232,232,232)",
            "linecolor": "rgb(36,36,36)",
            "showgrid": false,
            "showline": true,
            "ticks": "outside"
           },
           "baxis": {
            "gridcolor": "rgb(232,232,232)",
            "linecolor": "rgb(36,36,36)",
            "showgrid": false,
            "showline": true,
            "ticks": "outside"
           },
           "bgcolor": "white",
           "caxis": {
            "gridcolor": "rgb(232,232,232)",
            "linecolor": "rgb(36,36,36)",
            "showgrid": false,
            "showline": true,
            "ticks": "outside"
           }
          },
          "title": {
           "x": 0.05
          },
          "xaxis": {
           "automargin": true,
           "gridcolor": "rgb(232,232,232)",
           "linecolor": "rgb(36,36,36)",
           "showgrid": false,
           "showline": true,
           "ticks": "outside",
           "title": {
            "standoff": 15
           },
           "zeroline": false,
           "zerolinecolor": "rgb(36,36,36)"
          },
          "yaxis": {
           "automargin": true,
           "gridcolor": "rgb(232,232,232)",
           "linecolor": "rgb(36,36,36)",
           "showgrid": false,
           "showline": true,
           "ticks": "outside",
           "title": {
            "standoff": 15
           },
           "zeroline": false,
           "zerolinecolor": "rgb(36,36,36)"
          }
         }
        },
        "title": {
         "font": {
          "color": "Black",
          "size": 22
         },
         "text": "Topics Over Time for 2024_02-2024_04",
         "x": 0.4,
         "xanchor": "center",
         "y": 0.95,
         "yanchor": "top"
        },
        "width": 1250,
        "xaxis": {
         "showgrid": true
        },
        "yaxis": {
         "showgrid": true,
         "title": {
          "text": "Frequency"
         }
        }
       }
      }
     },
     "metadata": {},
     "output_type": "display_data"
    }
   ],
   "source": [
    "for period, result in results.items():\n",
    "    fig = result['model'].visualize_topics_over_time(result['topics_over_time'], top_n_topics=10)\n",
    "    fig.update_layout(title_text=f\"Topics Over Time for {period}\")\n",
    "    fig.show()"
   ]
  },
  {
   "cell_type": "code",
   "execution_count": 40,
   "metadata": {},
   "outputs": [
    {
     "data": {
      "text/plain": [
       "1       [kakanwil, kemenag, provinsi, papua, pdt, amsa...\n",
       "2       [politik, baik, anggota, dprd, betul, psi, lib...\n",
       "3       [politik, baik, anggota, dprd, betul, psi, lib...\n",
       "4       [kerja, institusi, izin, alami, baru, masuk, t...\n",
       "6                           [penting, aspekaspek, publik]\n",
       "                              ...                        \n",
       "8431    [pintas, masa, depan, agama, indonesia, lihat,...\n",
       "8432    [hitung, tahun, ajar, perintah, lalu, kemendik...\n",
       "8433    [bersikukuh, tinggi, komersialisasi, semenjak,...\n",
       "8434    [kagak, ngotak, asli, dahh, sbnrnya, salah, se...\n",
       "8435               [bahasa, inggris, sd, tantang, imbang]\n",
       "Name: full_text, Length: 8391, dtype: object"
      ]
     },
     "execution_count": 40,
     "metadata": {},
     "output_type": "execute_result"
    }
   ],
   "source": [
    "tweet_preprocessed['full_text']"
   ]
  },
  {
   "cell_type": "code",
   "execution_count": 41,
   "metadata": {},
   "outputs": [
    {
     "data": {
      "text/html": [
       "<div>\n",
       "<style scoped>\n",
       "    .dataframe tbody tr th:only-of-type {\n",
       "        vertical-align: middle;\n",
       "    }\n",
       "\n",
       "    .dataframe tbody tr th {\n",
       "        vertical-align: top;\n",
       "    }\n",
       "\n",
       "    .dataframe thead th {\n",
       "        text-align: right;\n",
       "    }\n",
       "</style>\n",
       "<table border=\"1\" class=\"dataframe\">\n",
       "  <thead>\n",
       "    <tr style=\"text-align: right;\">\n",
       "      <th></th>\n",
       "      <th>period</th>\n",
       "      <th>topics</th>\n",
       "    </tr>\n",
       "  </thead>\n",
       "  <tbody>\n",
       "    <tr>\n",
       "      <th>0</th>\n",
       "      <td>2019_11-2020_01</td>\n",
       "      <td>[0_nadiem_menteri_merdeka_guru, 1_tetap_pokok_...</td>\n",
       "    </tr>\n",
       "    <tr>\n",
       "      <th>1</th>\n",
       "      <td>2020_02-2020_04</td>\n",
       "      <td>[1_virus_corona_sebar_disease, 2_ajar_merdeka_...</td>\n",
       "    </tr>\n",
       "    <tr>\n",
       "      <th>2</th>\n",
       "      <td>2020_05-2020_07</td>\n",
       "      <td>[0_menteri_ajar_mahasiswa_sekolah, 1_normal_ne...</td>\n",
       "    </tr>\n",
       "    <tr>\n",
       "      <th>3</th>\n",
       "      <td>2020_08-2020_10</td>\n",
       "      <td>[0_kuat_efektivitas_prakerja_salur, 1_papua_ot...</td>\n",
       "    </tr>\n",
       "    <tr>\n",
       "      <th>4</th>\n",
       "      <td>2020_11-2021_01</td>\n",
       "      <td>[1_ajar_perintah_indonesia_menteri]</td>\n",
       "    </tr>\n",
       "    <tr>\n",
       "      <th>5</th>\n",
       "      <td>2021_02-2021_04</td>\n",
       "      <td>[0_musik_tradisional_apresiasi_karya, 1_pandem...</td>\n",
       "    </tr>\n",
       "    <tr>\n",
       "      <th>6</th>\n",
       "      <td>2021_05-2021_07</td>\n",
       "      <td>[1_ajar_menteri_merdeka_sekolah]</td>\n",
       "    </tr>\n",
       "    <tr>\n",
       "      <th>7</th>\n",
       "      <td>2021_08-2021_10</td>\n",
       "      <td>[0_kota_perintah_jalan_narkoba, 1_merdeka_indo...</td>\n",
       "    </tr>\n",
       "    <tr>\n",
       "      <th>8</th>\n",
       "      <td>2021_11-2022_01</td>\n",
       "      <td>[0_disabilitas_dorong_tara_risma, 1_student_lo...</td>\n",
       "    </tr>\n",
       "    <tr>\n",
       "      <th>9</th>\n",
       "      <td>2022_02-2022_04</td>\n",
       "      <td>[0_tingkat_sehat_perintah_daya, 1_pakai_guru_s...</td>\n",
       "    </tr>\n",
       "    <tr>\n",
       "      <th>10</th>\n",
       "      <td>2022_05-2022_07</td>\n",
       "      <td>[1_indonesia_merdeka_ajar_perintah]</td>\n",
       "    </tr>\n",
       "    <tr>\n",
       "      <th>11</th>\n",
       "      <td>2022_08-2022_10</td>\n",
       "      <td>[1_ajar_enggak_indonesia_merdeka]</td>\n",
       "    </tr>\n",
       "    <tr>\n",
       "      <th>12</th>\n",
       "      <td>2022_11-2023_01</td>\n",
       "      <td>[1_sekolah_laku_anak_satu]</td>\n",
       "    </tr>\n",
       "    <tr>\n",
       "      <th>13</th>\n",
       "      <td>2023_02-2023_04</td>\n",
       "      <td>[0_papua_otsus_asli_tingkat, 1_sekolah_jam_ntt...</td>\n",
       "    </tr>\n",
       "    <tr>\n",
       "      <th>14</th>\n",
       "      <td>2023_05-2023_07</td>\n",
       "      <td>[0_guru_sekolah_jadi_enggak, 1_indonesia_liter...</td>\n",
       "    </tr>\n",
       "    <tr>\n",
       "      <th>15</th>\n",
       "      <td>2023_08-2023_10</td>\n",
       "      <td>[0_nih_baik_bapak_jelasarahnya, 1_prabowo_dela...</td>\n",
       "    </tr>\n",
       "    <tr>\n",
       "      <th>16</th>\n",
       "      <td>2023_11-2024_01</td>\n",
       "      <td>[0_indonesia_papua_gpmmd_ganjar, 1_gpmmd_sekol...</td>\n",
       "    </tr>\n",
       "    <tr>\n",
       "      <th>17</th>\n",
       "      <td>2024_02-2024_04</td>\n",
       "      <td>[0_menteri_pramuka_jadi_nadiem, 1_indonesia_he...</td>\n",
       "    </tr>\n",
       "  </tbody>\n",
       "</table>\n",
       "</div>"
      ],
      "text/plain": [
       "             period                                             topics\n",
       "0   2019_11-2020_01  [0_nadiem_menteri_merdeka_guru, 1_tetap_pokok_...\n",
       "1   2020_02-2020_04  [1_virus_corona_sebar_disease, 2_ajar_merdeka_...\n",
       "2   2020_05-2020_07  [0_menteri_ajar_mahasiswa_sekolah, 1_normal_ne...\n",
       "3   2020_08-2020_10  [0_kuat_efektivitas_prakerja_salur, 1_papua_ot...\n",
       "4   2020_11-2021_01                [1_ajar_perintah_indonesia_menteri]\n",
       "5   2021_02-2021_04  [0_musik_tradisional_apresiasi_karya, 1_pandem...\n",
       "6   2021_05-2021_07                   [1_ajar_menteri_merdeka_sekolah]\n",
       "7   2021_08-2021_10  [0_kota_perintah_jalan_narkoba, 1_merdeka_indo...\n",
       "8   2021_11-2022_01  [0_disabilitas_dorong_tara_risma, 1_student_lo...\n",
       "9   2022_02-2022_04  [0_tingkat_sehat_perintah_daya, 1_pakai_guru_s...\n",
       "10  2022_05-2022_07                [1_indonesia_merdeka_ajar_perintah]\n",
       "11  2022_08-2022_10                  [1_ajar_enggak_indonesia_merdeka]\n",
       "12  2022_11-2023_01                         [1_sekolah_laku_anak_satu]\n",
       "13  2023_02-2023_04  [0_papua_otsus_asli_tingkat, 1_sekolah_jam_ntt...\n",
       "14  2023_05-2023_07  [0_guru_sekolah_jadi_enggak, 1_indonesia_liter...\n",
       "15  2023_08-2023_10  [0_nih_baik_bapak_jelasarahnya, 1_prabowo_dela...\n",
       "16  2023_11-2024_01  [0_indonesia_papua_gpmmd_ganjar, 1_gpmmd_sekol...\n",
       "17  2024_02-2024_04  [0_menteri_pramuka_jadi_nadiem, 1_indonesia_he..."
      ]
     },
     "metadata": {},
     "output_type": "display_data"
    }
   ],
   "source": [
    "top_topics = []\n",
    "\n",
    "\n",
    "for period, result in results.items():\n",
    "    top_10_topics = result['topic_info'][1:11]\n",
    "    # top_10_topics['Name'] = top_10_topics['Name'].str.replace(r'^\\d+_', '', regex=True)\n",
    "    topic_descriptions = top_10_topics['Name'].tolist()\n",
    "    top_topics.append({'period': period, 'topics': topic_descriptions})\n",
    "\n",
    "\n",
    "top_topics_df = pd.DataFrame(top_topics)\n",
    "display(top_topics_df)"
   ]
  },
  {
   "cell_type": "code",
   "execution_count": 8,
   "metadata": {},
   "outputs": [
    {
     "name": "stdout",
     "output_type": "stream",
     "text": [
      "2019_11-2020_01: ['0_nadiem_menteri_merdeka_guru', '1_tetap_pokok_empat_mendikbud', '2_pokok_ajar_empat_merdeka']\n",
      "2020_02-2020_04: ['0_ajar_menteri_sekolah_covid', '1_virus_corona_sebar_surat', '2_islam_minta_cegah_pemda', '3_disease_coronavirus_tahun_laksana']\n",
      "2020_05-2020_07: ['0_pandemi_masa_covid_prinsip', '1_sosial_ekonomi_ribu_online', '2_pandemi_mahasiswa_covid_dampak', '3_ajar_budaya_guru_menteri', '4_indonesia_kualitas_tak_baik', '5_menteri_buat_pikir_presiden', '6_manajemen_perintah_afirmasi_sektor', '7_nadiem_insan_tinggi_gulir', '8_normal_masyarakat_kontra_new', '9_kampus_demo_mahasiswa_jadi']\n",
      "2020_08-2020_10: ['0_ajar_menteri_pandemi_covid', '1_kuat_efektivitas_prakerja_selenggara', '2_papua_otsus_otonomi_barat']\n",
      "2020_11-2021_01: ['1_gtgt_islam_seluruh_rakyat']\n",
      "2021_02-2021_04: ['1_pandemi_biaya_audiensi_tengah', '2_musik_tradisional_apresiasi_karya']\n",
      "2021_05-2021_07: ['1_pandemi_biaya_mahasiswa_ui']\n",
      "2021_08-2021_10: ['0_vokasi_tinggi_merdeka_mahasiswa', '1_merdeka_indonesia_vokasi_kampus', '2_pandemi_kualitas_indonesia_tumbuh', '3_perintah_kota_jalan_narkoba']\n",
      "2021_11-2022_01: ['0_guru_kurikulum_perintah_indonesia', '1_jokowi_ketua_sektor_lindung', '2_menteri_jadi_yuk_kena', '3_enggak_kalau_arah_politik', '4_disabilitas_dorong_tara_risma', '5_jakarta_sch_trivia_kasubag', '6_student_loan_negara_bayar', '7_keras_seksual_dunia_dukung', '8_menteri_seksual_agama_tangan']\n",
      "2022_02-2022_04: ['0_tingkat_sehat_indonesia_daya', '1_guru_sekolah_its_enggak']\n",
      "2022_05-2022_07: ['1_inklusif_kawal_bersamasama_mesti']\n",
      "2022_08-2022_10: ['0_ajar_enggak_indonesia_merdeka', '1_hadir_senjang_tekan_lanyalla']\n",
      "2022_11-2023_01: ['1_agama_menteri_laku_perempuan', '2_lalu_transformasi_tengah_institute', '3_atas_amat_pelosok_jelas']\n",
      "2023_02-2023_04: ['0_sekolah_jam_ntt_masuk', '1_papua_otsus_asli_tingkat']\n",
      "2023_05-2023_07: ['0_sekolah_guru_jadi_anak', '1_indonesia_anak_buat_dini', '2_sehat_rakyat_akses_pks', '3_agama_kepala_panitia_timur', '4_zonasi_ppdb_makarim_nadiem', '5_pahlawan_riau_syamsuar_gubri', '6_ragam_pesan_maju_penting', '7_urus_nih_sistem_periode', '8_politik_sering_inkonsistensi_politisasi', '9_ada_barangjasa_uji_latih']\n",
      "2023_08-2023_10: ['0_indonesia_inklusif_maju_aktif', '1_ganjar_presiden_pak_tunjuk', '2_jelasarahnya_semakindekat_semakinpakbowo_visisubianto', '3_asuransi_sehat_usaha_tambah', '4_riset_budaya_skripsi_mahasiswa', '5_sakit_rumah_utkmasadepan_delapansmangat', '6_puskesmas_makmur_peluang_majuinnkri', '7_pengaruh_politik_hidup_sosial', '8_menteri_ganti_jadi_maudy', '9_standar_jelasarahnya_semakindekat_semakinpakbowo']\n",
      "2023_11-2024_01: ['0_gpmmd_ganjar_ganjarmahfud_pranowo', '1_indonesia_papua_gpmmd_ganjar', '2_agama_guru_aji_dukung', '3_internet_cepat_seluruh_gratis']\n",
      "2024_02-2024_04: ['1_papua_beasiswa_bagai_sdm']\n"
     ]
    }
   ],
   "source": [
    "for quarter in top_topics:\n",
    "    print(f\"{quarter['period']}: {quarter['topics']}\")"
   ]
  },
  {
   "cell_type": "markdown",
   "metadata": {},
   "source": [
    "# Evaluation"
   ]
  },
  {
   "cell_type": "code",
   "execution_count": 35,
   "metadata": {},
   "outputs": [
    {
     "data": {
      "text/plain": [
       "False"
      ]
     },
     "execution_count": 35,
     "metadata": {},
     "output_type": "execute_result"
    }
   ],
   "source": [
    "result['model'].get_topic()"
   ]
  },
  {
   "cell_type": "code",
   "execution_count": 21,
   "metadata": {},
   "outputs": [
    {
     "ename": "TypeError",
     "evalue": "'int' object is not subscriptable",
     "output_type": "error",
     "traceback": [
      "\u001b[1;31m---------------------------------------------------------------------------\u001b[0m",
      "\u001b[1;31mTypeError\u001b[0m                                 Traceback (most recent call last)",
      "Cell \u001b[1;32mIn[21], line 6\u001b[0m\n\u001b[0;32m      2\u001b[0m dictionary \u001b[38;5;241m=\u001b[39m Dictionary(texts)\n\u001b[0;32m      5\u001b[0m \u001b[38;5;28;01mfor\u001b[39;00m period, result \u001b[38;5;129;01min\u001b[39;00m results\u001b[38;5;241m.\u001b[39mitems():\n\u001b[1;32m----> 6\u001b[0m     coherence_score_cv \u001b[38;5;241m=\u001b[39m \u001b[43mcalculate_coherence_score\u001b[49m\u001b[43m(\u001b[49m\u001b[43mresult\u001b[49m\u001b[43m[\u001b[49m\u001b[38;5;124;43m'\u001b[39;49m\u001b[38;5;124;43mmodel\u001b[39;49m\u001b[38;5;124;43m'\u001b[39;49m\u001b[43m]\u001b[49m\u001b[43m,\u001b[49m\u001b[43m \u001b[49m\u001b[43mtexts\u001b[49m\u001b[43m,\u001b[49m\u001b[43m \u001b[49m\u001b[43mdictionary\u001b[49m\u001b[43m,\u001b[49m\u001b[43m \u001b[49m\u001b[43mcoherence\u001b[49m\u001b[38;5;241;43m=\u001b[39;49m\u001b[38;5;124;43m'\u001b[39;49m\u001b[38;5;124;43mc_v\u001b[39;49m\u001b[38;5;124;43m'\u001b[39;49m\u001b[43m)\u001b[49m\n\u001b[0;32m      7\u001b[0m     coherence_score_umass \u001b[38;5;241m=\u001b[39m calculate_coherence_score(result[\u001b[38;5;124m'\u001b[39m\u001b[38;5;124mmodel\u001b[39m\u001b[38;5;124m'\u001b[39m], texts, dictionary, coherence\u001b[38;5;241m=\u001b[39m\u001b[38;5;124m'\u001b[39m\u001b[38;5;124mu_mass\u001b[39m\u001b[38;5;124m'\u001b[39m)\n\u001b[0;32m      8\u001b[0m     \u001b[38;5;28mprint\u001b[39m(\u001b[38;5;124mf\u001b[39m\u001b[38;5;124m\"\u001b[39m\u001b[38;5;124mPeriod: \u001b[39m\u001b[38;5;132;01m{\u001b[39;00mperiod\u001b[38;5;132;01m}\u001b[39;00m\u001b[38;5;124m\"\u001b[39m)\n",
      "File \u001b[1;32md:\\UGM\\Data Science\\gemastik24\\gemastik24\\notebooks\\kp\\..\\utils\\evaluation.py:6\u001b[0m, in \u001b[0;36mcalculate_coherence_score\u001b[1;34m(topic_model, texts, dictionary, coherence)\u001b[0m\n\u001b[0;32m      5\u001b[0m \u001b[38;5;28;01mdef\u001b[39;00m \u001b[38;5;21mcalculate_coherence_score\u001b[39m(topic_model, texts, dictionary, coherence\u001b[38;5;241m=\u001b[39m\u001b[38;5;124m'\u001b[39m\u001b[38;5;124mc_v\u001b[39m\u001b[38;5;124m'\u001b[39m):\n\u001b[1;32m----> 6\u001b[0m     topics \u001b[38;5;241m=\u001b[39m \u001b[43m[\u001b[49m\u001b[43mtopic\u001b[49m\u001b[43m[\u001b[49m\u001b[38;5;241;43m0\u001b[39;49m\u001b[43m]\u001b[49m\u001b[43m \u001b[49m\u001b[38;5;28;43;01mfor\u001b[39;49;00m\u001b[43m \u001b[49m\u001b[43mtopic\u001b[49m\u001b[43m \u001b[49m\u001b[38;5;129;43;01min\u001b[39;49;00m\u001b[43m \u001b[49m\u001b[43mtopic_model\u001b[49m\u001b[38;5;241;43m.\u001b[39;49m\u001b[43mget_topics\u001b[49m\u001b[43m(\u001b[49m\u001b[43m)\u001b[49m\u001b[43m]\u001b[49m\n\u001b[0;32m      7\u001b[0m     cm \u001b[38;5;241m=\u001b[39m CoherenceModel(topics\u001b[38;5;241m=\u001b[39mtopics, texts\u001b[38;5;241m=\u001b[39mtexts, dictionary\u001b[38;5;241m=\u001b[39mdictionary, coherence\u001b[38;5;241m=\u001b[39mcoherence)\n\u001b[0;32m      8\u001b[0m     coherence_score \u001b[38;5;241m=\u001b[39m cm\u001b[38;5;241m.\u001b[39mget_coherence()\n",
      "File \u001b[1;32md:\\UGM\\Data Science\\gemastik24\\gemastik24\\notebooks\\kp\\..\\utils\\evaluation.py:6\u001b[0m, in \u001b[0;36m<listcomp>\u001b[1;34m(.0)\u001b[0m\n\u001b[0;32m      5\u001b[0m \u001b[38;5;28;01mdef\u001b[39;00m \u001b[38;5;21mcalculate_coherence_score\u001b[39m(topic_model, texts, dictionary, coherence\u001b[38;5;241m=\u001b[39m\u001b[38;5;124m'\u001b[39m\u001b[38;5;124mc_v\u001b[39m\u001b[38;5;124m'\u001b[39m):\n\u001b[1;32m----> 6\u001b[0m     topics \u001b[38;5;241m=\u001b[39m [\u001b[43mtopic\u001b[49m\u001b[43m[\u001b[49m\u001b[38;5;241;43m0\u001b[39;49m\u001b[43m]\u001b[49m \u001b[38;5;28;01mfor\u001b[39;00m topic \u001b[38;5;129;01min\u001b[39;00m topic_model\u001b[38;5;241m.\u001b[39mget_topics()]\n\u001b[0;32m      7\u001b[0m     cm \u001b[38;5;241m=\u001b[39m CoherenceModel(topics\u001b[38;5;241m=\u001b[39mtopics, texts\u001b[38;5;241m=\u001b[39mtexts, dictionary\u001b[38;5;241m=\u001b[39mdictionary, coherence\u001b[38;5;241m=\u001b[39mcoherence)\n\u001b[0;32m      8\u001b[0m     coherence_score \u001b[38;5;241m=\u001b[39m cm\u001b[38;5;241m.\u001b[39mget_coherence()\n",
      "\u001b[1;31mTypeError\u001b[0m: 'int' object is not subscriptable"
     ]
    }
   ],
   "source": [
    "texts = tweet_preprocessed['full_text'].tolist()\n",
    "dictionary = Dictionary(texts)\n",
    "\n",
    "\n",
    "for period, result in results.items():\n",
    "    coherence_score_cv = calculate_coherence_score(result['model'], texts, dictionary, coherence='c_v')\n",
    "    coherence_score_umass = calculate_coherence_score(result['model'], texts, dictionary, coherence='u_mass')\n",
    "    print(f\"Period: {period}\")\n",
    "    print(f\"Coherence Score CV: {coherence_score_cv}\")\n",
    "    print(f\"Coherence Score UMass: {coherence_score_umass}\")"
   ]
  },
  {
   "cell_type": "code",
   "execution_count": null,
   "metadata": {},
   "outputs": [],
   "source": []
  }
 ],
 "metadata": {
  "kernelspec": {
   "display_name": "base",
   "language": "python",
   "name": "python3"
  },
  "language_info": {
   "codemirror_mode": {
    "name": "ipython",
    "version": 3
   },
   "file_extension": ".py",
   "mimetype": "text/x-python",
   "name": "python",
   "nbconvert_exporter": "python",
   "pygments_lexer": "ipython3",
   "version": "3.11.6"
  }
 },
 "nbformat": 4,
 "nbformat_minor": 2
}
