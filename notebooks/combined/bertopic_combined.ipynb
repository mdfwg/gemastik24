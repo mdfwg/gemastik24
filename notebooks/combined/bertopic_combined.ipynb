{
 "cells": [
  {
   "cell_type": "markdown",
   "metadata": {},
   "source": [
    "# Libraries"
   ]
  },
  {
   "cell_type": "code",
   "execution_count": 1,
   "metadata": {},
   "outputs": [],
   "source": [
    "import pandas as pd\n",
    "import matplotlib.pyplot as plt\n",
    "import sys\n",
    "from bertopic import BERTopic\n",
    "import gensim.corpora as corpora\n",
    "from gensim.models.coherencemodel import CoherenceModel\n",
    "\n",
    "from bertopic.vectorizers import ClassTfidfTransformer\n",
    "\n",
    "# import torch\n",
    "\n",
    "from octis.evaluation_metrics.diversity_metrics import TopicDiversity\n",
    "from octis.evaluation_metrics.coherence_metrics import Coherence\n",
    "\n",
    "\n",
    "sys.path.insert(0, \"../\")\n",
    "from utils.quarter_label import labelQuarters"
   ]
  },
  {
   "cell_type": "code",
   "execution_count": 2,
   "metadata": {},
   "outputs": [],
   "source": [
    "def get_topic_diversity(topic_model, topk=10):\n",
    "    td = TopicDiversity(topk=topk)\n",
    "    topic_list = list(topic_model.get_topics().values())\n",
    "    td_score = td.score({'topics': topic_list})\n",
    "    return td_score"
   ]
  },
  {
   "cell_type": "code",
   "execution_count": 3,
   "metadata": {},
   "outputs": [
    {
     "data": {
      "text/html": [
       "<div>\n",
       "<style scoped>\n",
       "    .dataframe tbody tr th:only-of-type {\n",
       "        vertical-align: middle;\n",
       "    }\n",
       "\n",
       "    .dataframe tbody tr th {\n",
       "        vertical-align: top;\n",
       "    }\n",
       "\n",
       "    .dataframe thead th {\n",
       "        text-align: right;\n",
       "    }\n",
       "</style>\n",
       "<table border=\"1\" class=\"dataframe\">\n",
       "  <thead>\n",
       "    <tr style=\"text-align: right;\">\n",
       "      <th></th>\n",
       "      <th>created_at</th>\n",
       "      <th>full_text</th>\n",
       "    </tr>\n",
       "  </thead>\n",
       "  <tbody>\n",
       "    <tr>\n",
       "      <th>0</th>\n",
       "      <td>2019-11-07 16:20:08+00:00</td>\n",
       "      <td>suka bikin gaduh lebih orang teken petisi ui p...</td>\n",
       "    </tr>\n",
       "    <tr>\n",
       "      <th>1</th>\n",
       "      <td>2019-11-08 19:22:05+00:00</td>\n",
       "      <td>nadiem makarim pesan rektor itb kampus merdeka...</td>\n",
       "    </tr>\n",
       "    <tr>\n",
       "      <th>2</th>\n",
       "      <td>2019-11-09 01:31:35+00:00</td>\n",
       "      <td>kalau merdeka kampus potensi asai pikir berang...</td>\n",
       "    </tr>\n",
       "    <tr>\n",
       "      <th>3</th>\n",
       "      <td>2019-11-09 04:16:02+00:00</td>\n",
       "      <td>nadiem makarim minta kampus merdeka</td>\n",
       "    </tr>\n",
       "    <tr>\n",
       "      <th>4</th>\n",
       "      <td>2019-11-12 06:27:24+00:00</td>\n",
       "      <td>enggak punya kenang apaapa pertama kali lihat ...</td>\n",
       "    </tr>\n",
       "    <tr>\n",
       "      <th>...</th>\n",
       "      <td>...</td>\n",
       "      <td>...</td>\n",
       "    </tr>\n",
       "    <tr>\n",
       "      <th>82993</th>\n",
       "      <td>2024-04-29 15:25:47+00:00</td>\n",
       "      <td>demo mahasiswa minta tuukt turun unsoed nyata ...</td>\n",
       "    </tr>\n",
       "    <tr>\n",
       "      <th>82994</th>\n",
       "      <td>2024-04-29 15:53:37+00:00</td>\n",
       "      <td>sumpah adikadik moga kalian kuatkuat mental am...</td>\n",
       "    </tr>\n",
       "    <tr>\n",
       "      <th>82995</th>\n",
       "      <td>2024-04-29 16:33:36+00:00</td>\n",
       "      <td>amanat konstitusi cerdas hidup bangsa bukan ma...</td>\n",
       "    </tr>\n",
       "    <tr>\n",
       "      <th>82996</th>\n",
       "      <td>2024-04-29 22:58:27+00:00</td>\n",
       "      <td>gue heran kadang biaya  setinggi sekarang gaji...</td>\n",
       "    </tr>\n",
       "    <tr>\n",
       "      <th>82997</th>\n",
       "      <td>2024-04-29 23:39:19+00:00</td>\n",
       "      <td>kip buat orang miskin sasar terus orang tengah...</td>\n",
       "    </tr>\n",
       "  </tbody>\n",
       "</table>\n",
       "<p>82982 rows × 2 columns</p>\n",
       "</div>"
      ],
      "text/plain": [
       "                     created_at  \\\n",
       "0     2019-11-07 16:20:08+00:00   \n",
       "1     2019-11-08 19:22:05+00:00   \n",
       "2     2019-11-09 01:31:35+00:00   \n",
       "3     2019-11-09 04:16:02+00:00   \n",
       "4     2019-11-12 06:27:24+00:00   \n",
       "...                         ...   \n",
       "82993 2024-04-29 15:25:47+00:00   \n",
       "82994 2024-04-29 15:53:37+00:00   \n",
       "82995 2024-04-29 16:33:36+00:00   \n",
       "82996 2024-04-29 22:58:27+00:00   \n",
       "82997 2024-04-29 23:39:19+00:00   \n",
       "\n",
       "                                               full_text  \n",
       "0      suka bikin gaduh lebih orang teken petisi ui p...  \n",
       "1      nadiem makarim pesan rektor itb kampus merdeka...  \n",
       "2      kalau merdeka kampus potensi asai pikir berang...  \n",
       "3                    nadiem makarim minta kampus merdeka  \n",
       "4      enggak punya kenang apaapa pertama kali lihat ...  \n",
       "...                                                  ...  \n",
       "82993  demo mahasiswa minta tuukt turun unsoed nyata ...  \n",
       "82994  sumpah adikadik moga kalian kuatkuat mental am...  \n",
       "82995  amanat konstitusi cerdas hidup bangsa bukan ma...  \n",
       "82996  gue heran kadang biaya  setinggi sekarang gaji...  \n",
       "82997  kip buat orang miskin sasar terus orang tengah...  \n",
       "\n",
       "[82982 rows x 2 columns]"
      ]
     },
     "execution_count": 3,
     "metadata": {},
     "output_type": "execute_result"
    }
   ],
   "source": [
    "tweet = pd.read_csv('../../src/cleaned_combined.csv')\n",
    "tweet = tweet.dropna(subset=['full_text'])\n",
    "tweet = tweet[['created_at', 'full_text']]\n",
    "tweet['created_at'] = pd.to_datetime(tweet['created_at'])\n",
    "tweet"
   ]
  },
  {
   "cell_type": "markdown",
   "metadata": {},
   "source": [
    "# Grouping Dataset"
   ]
  },
  {
   "cell_type": "code",
   "execution_count": 4,
   "metadata": {},
   "outputs": [],
   "source": [
    "tweet_quarter = tweet.copy()\n",
    "\n",
    "tweet_quarter = labelQuarters(tweet_quarter, 'created_at', 6)\n",
    "\n",
    "tweet_quarter = tweet_quarter.groupby('quarter')"
   ]
  },
  {
   "cell_type": "markdown",
   "metadata": {},
   "source": [
    "# Model"
   ]
  },
  {
   "cell_type": "code",
   "execution_count": 5,
   "metadata": {},
   "outputs": [],
   "source": [
    "results = {}"
   ]
  },
  {
   "cell_type": "code",
   "execution_count": 6,
   "metadata": {},
   "outputs": [],
   "source": [
    "ctfidf_model = ClassTfidfTransformer(reduce_frequent_words=True)"
   ]
  },
  {
   "cell_type": "code",
   "execution_count": 7,
   "metadata": {},
   "outputs": [
    {
     "name": "stderr",
     "output_type": "stream",
     "text": [
      "2024-05-25 22:48:31,242 - BERTopic - Embedding - Transforming documents to embeddings.\n"
     ]
    },
    {
     "data": {
      "application/vnd.jupyter.widget-view+json": {
       "model_id": "22c5373231574b9a848cc8d164a9435b",
       "version_major": 2,
       "version_minor": 0
      },
      "text/plain": [
       "Batches:   0%|          | 0/263 [00:00<?, ?it/s]"
      ]
     },
     "metadata": {},
     "output_type": "display_data"
    },
    {
     "name": "stderr",
     "output_type": "stream",
     "text": [
      "2024-05-25 22:48:45,163 - BERTopic - Embedding - Completed ✓\n",
      "2024-05-25 22:48:45,166 - BERTopic - Dimensionality - Fitting the dimensionality reduction algorithm\n",
      "2024-05-25 22:49:13,306 - BERTopic - Dimensionality - Completed ✓\n",
      "2024-05-25 22:49:13,309 - BERTopic - Cluster - Start clustering the reduced embeddings\n",
      "2024-05-25 22:49:14,479 - BERTopic - Cluster - Completed ✓\n",
      "2024-05-25 22:49:14,480 - BERTopic - Representation - Extracting topics from clusters using representation models.\n",
      "2024-05-25 22:49:14,887 - BERTopic - Representation - Completed ✓\n",
      "2024-05-25 22:49:14,888 - BERTopic - Topic reduction - Reducing number of topics\n",
      "2024-05-25 22:49:15,326 - BERTopic - Topic reduction - Reduced number of topics from 13 to 4\n",
      "3it [00:01,  1.93it/s]\n",
      "2024-05-25 22:49:17,416 - BERTopic - Embedding - Transforming documents to embeddings.\n"
     ]
    },
    {
     "data": {
      "application/vnd.jupyter.widget-view+json": {
       "model_id": "6062cd2560b845ada33f1c58c61718f5",
       "version_major": 2,
       "version_minor": 0
      },
      "text/plain": [
       "Batches:   0%|          | 0/373 [00:00<?, ?it/s]"
      ]
     },
     "metadata": {},
     "output_type": "display_data"
    },
    {
     "name": "stderr",
     "output_type": "stream",
     "text": [
      "2024-05-25 22:49:36,119 - BERTopic - Embedding - Completed ✓\n",
      "2024-05-25 22:49:36,123 - BERTopic - Dimensionality - Fitting the dimensionality reduction algorithm\n",
      "2024-05-25 22:49:47,578 - BERTopic - Dimensionality - Completed ✓\n",
      "2024-05-25 22:49:47,580 - BERTopic - Cluster - Start clustering the reduced embeddings\n",
      "2024-05-25 22:49:49,148 - BERTopic - Cluster - Completed ✓\n",
      "2024-05-25 22:49:49,150 - BERTopic - Representation - Extracting topics from clusters using representation models.\n",
      "2024-05-25 22:49:50,016 - BERTopic - Representation - Completed ✓\n",
      "2024-05-25 22:49:50,019 - BERTopic - Topic reduction - Reducing number of topics\n",
      "2024-05-25 22:49:50,964 - BERTopic - Topic reduction - Reduced number of topics from 4 to 4\n",
      "3it [00:02,  1.03it/s]\n",
      "2024-05-25 22:49:54,249 - BERTopic - Embedding - Transforming documents to embeddings.\n"
     ]
    },
    {
     "data": {
      "application/vnd.jupyter.widget-view+json": {
       "model_id": "0896acf49aae4398a5d9eb6f275c34b7",
       "version_major": 2,
       "version_minor": 0
      },
      "text/plain": [
       "Batches:   0%|          | 0/202 [00:00<?, ?it/s]"
      ]
     },
     "metadata": {},
     "output_type": "display_data"
    },
    {
     "name": "stderr",
     "output_type": "stream",
     "text": [
      "2024-05-25 22:50:21,684 - BERTopic - Embedding - Completed ✓\n",
      "2024-05-25 22:50:21,685 - BERTopic - Dimensionality - Fitting the dimensionality reduction algorithm\n",
      "2024-05-25 22:50:30,140 - BERTopic - Dimensionality - Completed ✓\n",
      "2024-05-25 22:50:30,142 - BERTopic - Cluster - Start clustering the reduced embeddings\n",
      "2024-05-25 22:50:30,557 - BERTopic - Cluster - Completed ✓\n",
      "2024-05-25 22:50:30,558 - BERTopic - Representation - Extracting topics from clusters using representation models.\n",
      "2024-05-25 22:50:32,570 - BERTopic - Representation - Completed ✓\n",
      "2024-05-25 22:50:32,571 - BERTopic - Topic reduction - Reducing number of topics\n",
      "2024-05-25 22:50:34,896 - BERTopic - Topic reduction - Reduced number of topics from 5 to 5\n",
      "3it [00:01,  1.69it/s]\n",
      "2024-05-25 22:50:41,460 - BERTopic - Embedding - Transforming documents to embeddings.\n"
     ]
    },
    {
     "data": {
      "application/vnd.jupyter.widget-view+json": {
       "model_id": "0604b16778d04444a0bd2e7019ee44a0",
       "version_major": 2,
       "version_minor": 0
      },
      "text/plain": [
       "Batches:   0%|          | 0/320 [00:00<?, ?it/s]"
      ]
     },
     "metadata": {},
     "output_type": "display_data"
    },
    {
     "name": "stderr",
     "output_type": "stream",
     "text": [
      "2024-05-25 22:51:07,795 - BERTopic - Embedding - Completed ✓\n",
      "2024-05-25 22:51:07,798 - BERTopic - Dimensionality - Fitting the dimensionality reduction algorithm\n",
      "2024-05-25 22:51:17,879 - BERTopic - Dimensionality - Completed ✓\n",
      "2024-05-25 22:51:17,881 - BERTopic - Cluster - Start clustering the reduced embeddings\n",
      "2024-05-25 22:51:19,197 - BERTopic - Cluster - Completed ✓\n",
      "2024-05-25 22:51:19,198 - BERTopic - Representation - Extracting topics from clusters using representation models.\n",
      "2024-05-25 22:51:19,905 - BERTopic - Representation - Completed ✓\n",
      "2024-05-25 22:51:19,907 - BERTopic - Topic reduction - Reducing number of topics\n",
      "2024-05-25 22:51:20,463 - BERTopic - Topic reduction - Reduced number of topics from 7 to 7\n",
      "3it [00:02,  1.20it/s]\n",
      "2024-05-25 22:51:23,308 - BERTopic - Embedding - Transforming documents to embeddings.\n"
     ]
    },
    {
     "data": {
      "application/vnd.jupyter.widget-view+json": {
       "model_id": "8a7d0d1e18684203bc8cde73b5e08ec8",
       "version_major": 2,
       "version_minor": 0
      },
      "text/plain": [
       "Batches:   0%|          | 0/220 [00:00<?, ?it/s]"
      ]
     },
     "metadata": {},
     "output_type": "display_data"
    },
    {
     "name": "stderr",
     "output_type": "stream",
     "text": [
      "2024-05-25 22:51:40,559 - BERTopic - Embedding - Completed ✓\n",
      "2024-05-25 22:51:40,568 - BERTopic - Dimensionality - Fitting the dimensionality reduction algorithm\n",
      "2024-05-25 22:51:56,170 - BERTopic - Dimensionality - Completed ✓\n",
      "2024-05-25 22:51:56,172 - BERTopic - Cluster - Start clustering the reduced embeddings\n",
      "2024-05-25 22:51:57,050 - BERTopic - Cluster - Completed ✓\n",
      "2024-05-25 22:51:57,051 - BERTopic - Representation - Extracting topics from clusters using representation models.\n",
      "2024-05-25 22:51:57,657 - BERTopic - Representation - Completed ✓\n",
      "2024-05-25 22:51:57,660 - BERTopic - Topic reduction - Reducing number of topics\n",
      "2024-05-25 22:51:58,312 - BERTopic - Topic reduction - Reduced number of topics from 6 to 6\n",
      "3it [00:01,  2.05it/s]\n",
      "2024-05-25 22:52:00,101 - BERTopic - Embedding - Transforming documents to embeddings.\n"
     ]
    },
    {
     "data": {
      "application/vnd.jupyter.widget-view+json": {
       "model_id": "fc0877b453354bc2a0d75f948b7df2a9",
       "version_major": 2,
       "version_minor": 0
      },
      "text/plain": [
       "Batches:   0%|          | 0/269 [00:00<?, ?it/s]"
      ]
     },
     "metadata": {},
     "output_type": "display_data"
    },
    {
     "name": "stderr",
     "output_type": "stream",
     "text": [
      "2024-05-25 22:52:17,226 - BERTopic - Embedding - Completed ✓\n",
      "2024-05-25 22:52:17,228 - BERTopic - Dimensionality - Fitting the dimensionality reduction algorithm\n",
      "2024-05-25 22:52:33,946 - BERTopic - Dimensionality - Completed ✓\n",
      "2024-05-25 22:52:33,948 - BERTopic - Cluster - Start clustering the reduced embeddings\n",
      "2024-05-25 22:52:35,144 - BERTopic - Cluster - Completed ✓\n",
      "2024-05-25 22:52:35,147 - BERTopic - Representation - Extracting topics from clusters using representation models.\n",
      "2024-05-25 22:52:36,387 - BERTopic - Representation - Completed ✓\n",
      "2024-05-25 22:52:36,392 - BERTopic - Topic reduction - Reducing number of topics\n",
      "2024-05-25 22:52:37,162 - BERTopic - Topic reduction - Reduced number of topics from 5 to 5\n",
      "3it [00:02,  1.44it/s]\n",
      "2024-05-25 22:52:39,769 - BERTopic - Embedding - Transforming documents to embeddings.\n"
     ]
    },
    {
     "data": {
      "application/vnd.jupyter.widget-view+json": {
       "model_id": "6c61dd4726a34634ab0fc8f3bab6ae1a",
       "version_major": 2,
       "version_minor": 0
      },
      "text/plain": [
       "Batches:   0%|          | 0/268 [00:00<?, ?it/s]"
      ]
     },
     "metadata": {},
     "output_type": "display_data"
    },
    {
     "name": "stderr",
     "output_type": "stream",
     "text": [
      "2024-05-25 22:52:59,484 - BERTopic - Embedding - Completed ✓\n",
      "2024-05-25 22:52:59,486 - BERTopic - Dimensionality - Fitting the dimensionality reduction algorithm\n",
      "2024-05-25 22:53:14,697 - BERTopic - Dimensionality - Completed ✓\n",
      "2024-05-25 22:53:14,700 - BERTopic - Cluster - Start clustering the reduced embeddings\n",
      "2024-05-25 22:53:15,818 - BERTopic - Cluster - Completed ✓\n",
      "2024-05-25 22:53:15,819 - BERTopic - Representation - Extracting topics from clusters using representation models.\n",
      "2024-05-25 22:53:16,550 - BERTopic - Representation - Completed ✓\n",
      "2024-05-25 22:53:16,556 - BERTopic - Topic reduction - Reducing number of topics\n",
      "2024-05-25 22:53:17,246 - BERTopic - Topic reduction - Reduced number of topics from 4 to 4\n",
      "3it [00:02,  1.33it/s]\n",
      "2024-05-25 22:53:20,138 - BERTopic - Embedding - Transforming documents to embeddings.\n"
     ]
    },
    {
     "data": {
      "application/vnd.jupyter.widget-view+json": {
       "model_id": "9303815cf33c4845a50e5972a12f5ea2",
       "version_major": 2,
       "version_minor": 0
      },
      "text/plain": [
       "Batches:   0%|          | 0/362 [00:00<?, ?it/s]"
      ]
     },
     "metadata": {},
     "output_type": "display_data"
    },
    {
     "name": "stderr",
     "output_type": "stream",
     "text": [
      "2024-05-25 22:53:44,073 - BERTopic - Embedding - Completed ✓\n",
      "2024-05-25 22:53:44,079 - BERTopic - Dimensionality - Fitting the dimensionality reduction algorithm\n",
      "2024-05-25 22:53:55,773 - BERTopic - Dimensionality - Completed ✓\n",
      "2024-05-25 22:53:55,775 - BERTopic - Cluster - Start clustering the reduced embeddings\n",
      "2024-05-25 22:53:57,472 - BERTopic - Cluster - Completed ✓\n",
      "2024-05-25 22:53:57,474 - BERTopic - Representation - Extracting topics from clusters using representation models.\n"
     ]
    },
    {
     "ename": "MemoryError",
     "evalue": "Unable to allocate 15.8 MiB for an array with shape (10792, 384) and data type float32",
     "output_type": "error",
     "traceback": [
      "\u001b[1;31m---------------------------------------------------------------------------\u001b[0m",
      "\u001b[1;31mMemoryError\u001b[0m                               Traceback (most recent call last)",
      "File \u001b[1;32m<timed exec>:12\u001b[0m\n",
      "File \u001b[1;32mc:\\Users\\vince\\anaconda3\\envs\\rhafael\\lib\\site-packages\\bertopic\\_bertopic.py:433\u001b[0m, in \u001b[0;36mBERTopic.fit_transform\u001b[1;34m(self, documents, embeddings, images, y)\u001b[0m\n\u001b[0;32m    430\u001b[0m     \u001b[38;5;28mself\u001b[39m\u001b[38;5;241m.\u001b[39m_save_representative_docs(custom_documents)\n\u001b[0;32m    431\u001b[0m \u001b[38;5;28;01melse\u001b[39;00m:\n\u001b[0;32m    432\u001b[0m     \u001b[38;5;66;03m# Extract topics by calculating c-TF-IDF\u001b[39;00m\n\u001b[1;32m--> 433\u001b[0m     \u001b[38;5;28;43mself\u001b[39;49m\u001b[38;5;241;43m.\u001b[39;49m\u001b[43m_extract_topics\u001b[49m\u001b[43m(\u001b[49m\u001b[43mdocuments\u001b[49m\u001b[43m,\u001b[49m\u001b[43m \u001b[49m\u001b[43membeddings\u001b[49m\u001b[38;5;241;43m=\u001b[39;49m\u001b[43membeddings\u001b[49m\u001b[43m,\u001b[49m\u001b[43m \u001b[49m\u001b[43mverbose\u001b[49m\u001b[38;5;241;43m=\u001b[39;49m\u001b[38;5;28;43mself\u001b[39;49m\u001b[38;5;241;43m.\u001b[39;49m\u001b[43mverbose\u001b[49m\u001b[43m)\u001b[49m\n\u001b[0;32m    435\u001b[0m     \u001b[38;5;66;03m# Reduce topics\u001b[39;00m\n\u001b[0;32m    436\u001b[0m     \u001b[38;5;28;01mif\u001b[39;00m \u001b[38;5;28mself\u001b[39m\u001b[38;5;241m.\u001b[39mnr_topics:\n",
      "File \u001b[1;32mc:\\Users\\vince\\anaconda3\\envs\\rhafael\\lib\\site-packages\\bertopic\\_bertopic.py:3788\u001b[0m, in \u001b[0;36mBERTopic._extract_topics\u001b[1;34m(self, documents, embeddings, mappings, verbose)\u001b[0m\n\u001b[0;32m   3786\u001b[0m \u001b[38;5;28mself\u001b[39m\u001b[38;5;241m.\u001b[39mc_tf_idf_, words \u001b[38;5;241m=\u001b[39m \u001b[38;5;28mself\u001b[39m\u001b[38;5;241m.\u001b[39m_c_tf_idf(documents_per_topic)\n\u001b[0;32m   3787\u001b[0m \u001b[38;5;28mself\u001b[39m\u001b[38;5;241m.\u001b[39mtopic_representations_ \u001b[38;5;241m=\u001b[39m \u001b[38;5;28mself\u001b[39m\u001b[38;5;241m.\u001b[39m_extract_words_per_topic(words, documents)\n\u001b[1;32m-> 3788\u001b[0m \u001b[38;5;28;43mself\u001b[39;49m\u001b[38;5;241;43m.\u001b[39;49m\u001b[43m_create_topic_vectors\u001b[49m\u001b[43m(\u001b[49m\u001b[43mdocuments\u001b[49m\u001b[38;5;241;43m=\u001b[39;49m\u001b[43mdocuments\u001b[49m\u001b[43m,\u001b[49m\u001b[43m \u001b[49m\u001b[43membeddings\u001b[49m\u001b[38;5;241;43m=\u001b[39;49m\u001b[43membeddings\u001b[49m\u001b[43m,\u001b[49m\u001b[43m \u001b[49m\u001b[43mmappings\u001b[49m\u001b[38;5;241;43m=\u001b[39;49m\u001b[43mmappings\u001b[49m\u001b[43m)\u001b[49m\n\u001b[0;32m   3789\u001b[0m \u001b[38;5;28mself\u001b[39m\u001b[38;5;241m.\u001b[39mtopic_labels_ \u001b[38;5;241m=\u001b[39m {key: \u001b[38;5;124mf\u001b[39m\u001b[38;5;124m\"\u001b[39m\u001b[38;5;132;01m{\u001b[39;00mkey\u001b[38;5;132;01m}\u001b[39;00m\u001b[38;5;124m_\u001b[39m\u001b[38;5;124m\"\u001b[39m \u001b[38;5;241m+\u001b[39m \u001b[38;5;124m\"\u001b[39m\u001b[38;5;124m_\u001b[39m\u001b[38;5;124m\"\u001b[39m\u001b[38;5;241m.\u001b[39mjoin([word[\u001b[38;5;241m0\u001b[39m] \u001b[38;5;28;01mfor\u001b[39;00m word \u001b[38;5;129;01min\u001b[39;00m values[:\u001b[38;5;241m4\u001b[39m]])\n\u001b[0;32m   3790\u001b[0m                       \u001b[38;5;28;01mfor\u001b[39;00m key, values \u001b[38;5;129;01min\u001b[39;00m\n\u001b[0;32m   3791\u001b[0m                       \u001b[38;5;28mself\u001b[39m\u001b[38;5;241m.\u001b[39mtopic_representations_\u001b[38;5;241m.\u001b[39mitems()}\n\u001b[0;32m   3792\u001b[0m \u001b[38;5;28;01mif\u001b[39;00m verbose:\n",
      "File \u001b[1;32mc:\\Users\\vince\\anaconda3\\envs\\rhafael\\lib\\site-packages\\bertopic\\_bertopic.py:3908\u001b[0m, in \u001b[0;36mBERTopic._create_topic_vectors\u001b[1;34m(self, documents, embeddings, mappings)\u001b[0m\n\u001b[0;32m   3906\u001b[0m     indices \u001b[38;5;241m=\u001b[39m documents\u001b[38;5;241m.\u001b[39mloc[documents\u001b[38;5;241m.\u001b[39mTopic \u001b[38;5;241m==\u001b[39m topic, \u001b[38;5;124m\"\u001b[39m\u001b[38;5;124mID\u001b[39m\u001b[38;5;124m\"\u001b[39m]\u001b[38;5;241m.\u001b[39mvalues\n\u001b[0;32m   3907\u001b[0m     indices \u001b[38;5;241m=\u001b[39m [\u001b[38;5;28mint\u001b[39m(index) \u001b[38;5;28;01mfor\u001b[39;00m index \u001b[38;5;129;01min\u001b[39;00m indices]\n\u001b[1;32m-> 3908\u001b[0m     topic_embedding \u001b[38;5;241m=\u001b[39m np\u001b[38;5;241m.\u001b[39mmean(\u001b[43membeddings\u001b[49m\u001b[43m[\u001b[49m\u001b[43mindices\u001b[49m\u001b[43m]\u001b[49m, axis\u001b[38;5;241m=\u001b[39m\u001b[38;5;241m0\u001b[39m)\n\u001b[0;32m   3909\u001b[0m     topic_embeddings\u001b[38;5;241m.\u001b[39mappend(topic_embedding)\n\u001b[0;32m   3910\u001b[0m \u001b[38;5;28mself\u001b[39m\u001b[38;5;241m.\u001b[39mtopic_embeddings_ \u001b[38;5;241m=\u001b[39m np\u001b[38;5;241m.\u001b[39marray(topic_embeddings)\n",
      "\u001b[1;31mMemoryError\u001b[0m: Unable to allocate 15.8 MiB for an array with shape (10792, 384) and data type float32"
     ]
    }
   ],
   "source": [
    "%%time\n",
    "for period, group in tweet_quarter:\n",
    "    topic_model = BERTopic(verbose=True,\n",
    "                            calculate_probabilities=True,\n",
    "                            language='indonesian',\n",
    "                            nr_topics=3,\n",
    "                            ctfidf_model = ctfidf_model,\n",
    "                            n_gram_range=(1, 2),\n",
    "                            min_topic_size = 100\n",
    "                            )\n",
    "    text_data = group['full_text'].tolist()\n",
    "    timestamps = group['created_at'].tolist()\n",
    "    topics, probs = topic_model.fit_transform(text_data)\n",
    "    results[period] = {\n",
    "        'model' : topic_model,\n",
    "            'text_data': text_data,\n",
    "        'topics_over_time' : topic_model.topics_over_time(text_data, timestamps, nr_bins=3),\n",
    "        'topics': topics,\n",
    "        'probs': probs,\n",
    "        'topic_info': topic_model.get_topic_info(),\n",
    "    }"
   ]
  },
  {
   "cell_type": "markdown",
   "metadata": {},
   "source": [
    "# Result"
   ]
  },
  {
   "cell_type": "code",
   "execution_count": null,
   "metadata": {},
   "outputs": [],
   "source": [
    "for period, result in results.items():\n",
    "    fig = result['model'].visualize_topics_over_time(result['topics_over_time'], top_n_topics=10)\n",
    "    fig.update_layout(title_text=f\"Topics Over Time for {period}\")\n",
    "    fig.show()"
   ]
  },
  {
   "cell_type": "code",
   "execution_count": null,
   "metadata": {},
   "outputs": [],
   "source": [
    "for period, result in results.items():\n",
    "    display(result['topics_over_time'])"
   ]
  },
  {
   "cell_type": "code",
   "execution_count": null,
   "metadata": {},
   "outputs": [],
   "source": [
    "for period, result in results.items():\n",
    "    print(result['model'].get_topics())"
   ]
  },
  {
   "cell_type": "code",
   "execution_count": null,
   "metadata": {},
   "outputs": [],
   "source": [
    "for period, result in results.items():\n",
    "    fig = result['model'].visualize_topics()\n",
    "    fig.update_layout(title_text=f\"Period {period}\")\n",
    "    fig.show()"
   ]
  },
  {
   "cell_type": "code",
   "execution_count": null,
   "metadata": {},
   "outputs": [],
   "source": [
    "for period, result in results.items():\n",
    "    fig = result['model'].visualize_documents(result['text_data'])\n",
    "    fig.update_layout(title_text=f\"Period {period}\")\n",
    "    fig.show()"
   ]
  },
  {
   "cell_type": "code",
   "execution_count": null,
   "metadata": {},
   "outputs": [],
   "source": [
    "for period, result in results.items():\n",
    "    hierarchical_topics = result['model'].hierarchical_topics(result['text_data'])\n",
    "    fig = result['model'].visualize_hierarchy(hierarchical_topics=hierarchical_topics)\n",
    "    fig.update_layout(title_text=f\"Period {period}\")\n",
    "    fig.show()\n"
   ]
  },
  {
   "cell_type": "code",
   "execution_count": null,
   "metadata": {},
   "outputs": [],
   "source": [
    "for period, result in results.items():\n",
    "    print(f'{period} : {get_topic_diversity(result[\"model\"])}')"
   ]
  }
 ],
 "metadata": {
  "kernelspec": {
   "display_name": "Python 3",
   "language": "python",
   "name": "python3"
  },
  "language_info": {
   "codemirror_mode": {
    "name": "ipython",
    "version": 3
   },
   "file_extension": ".py",
   "mimetype": "text/x-python",
   "name": "python",
   "nbconvert_exporter": "python",
   "pygments_lexer": "ipython3",
   "version": "3.10.14"
  }
 },
 "nbformat": 4,
 "nbformat_minor": 2
}
