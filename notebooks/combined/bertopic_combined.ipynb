{
 "cells": [
  {
   "cell_type": "markdown",
   "metadata": {},
   "source": [
    "# Libraries"
   ]
  },
  {
   "cell_type": "code",
   "execution_count": 10,
   "metadata": {},
   "outputs": [],
   "source": [
    "import pandas as pd\n",
    "import matplotlib.pyplot as plt\n",
    "import sys\n",
    "from bertopic import BERTopic\n",
    "import gensim.corpora as corpora\n",
    "from gensim.models.coherencemodel import CoherenceModel\n",
    "\n",
    "sys.path.insert(0, \"../\")\n",
    "from utils.quarter_label import labelQuarters"
   ]
  },
  {
   "cell_type": "code",
   "execution_count": 2,
   "metadata": {},
   "outputs": [
    {
     "data": {
      "text/html": [
       "<div>\n",
       "<style scoped>\n",
       "    .dataframe tbody tr th:only-of-type {\n",
       "        vertical-align: middle;\n",
       "    }\n",
       "\n",
       "    .dataframe tbody tr th {\n",
       "        vertical-align: top;\n",
       "    }\n",
       "\n",
       "    .dataframe thead th {\n",
       "        text-align: right;\n",
       "    }\n",
       "</style>\n",
       "<table border=\"1\" class=\"dataframe\">\n",
       "  <thead>\n",
       "    <tr style=\"text-align: right;\">\n",
       "      <th></th>\n",
       "      <th>created_at</th>\n",
       "      <th>full_text</th>\n",
       "    </tr>\n",
       "  </thead>\n",
       "  <tbody>\n",
       "    <tr>\n",
       "      <th>0</th>\n",
       "      <td>2019-11-07 16:20:08+00:00</td>\n",
       "      <td>suka bikin gaduh lebih orang teken petisi ui p...</td>\n",
       "    </tr>\n",
       "    <tr>\n",
       "      <th>1</th>\n",
       "      <td>2019-11-08 19:22:05+00:00</td>\n",
       "      <td>nadiem makarim pesan rektor itb kampus merdeka...</td>\n",
       "    </tr>\n",
       "    <tr>\n",
       "      <th>2</th>\n",
       "      <td>2019-11-09 01:31:35+00:00</td>\n",
       "      <td>kalau merdeka kampus potensi asai pikir berang...</td>\n",
       "    </tr>\n",
       "    <tr>\n",
       "      <th>3</th>\n",
       "      <td>2019-11-09 04:16:02+00:00</td>\n",
       "      <td>nadiem makarim minta kampus merdeka</td>\n",
       "    </tr>\n",
       "    <tr>\n",
       "      <th>4</th>\n",
       "      <td>2019-11-12 06:27:24+00:00</td>\n",
       "      <td>enggak punya kenang apaapa pertama kali lihat ...</td>\n",
       "    </tr>\n",
       "    <tr>\n",
       "      <th>...</th>\n",
       "      <td>...</td>\n",
       "      <td>...</td>\n",
       "    </tr>\n",
       "    <tr>\n",
       "      <th>65319</th>\n",
       "      <td>2024-04-29 13:43:31+00:00</td>\n",
       "      <td>wakatobi siap gelar konferensi internasional s...</td>\n",
       "    </tr>\n",
       "    <tr>\n",
       "      <th>65320</th>\n",
       "      <td>2024-04-29 14:23:23+00:00</td>\n",
       "      <td>konsorsium baterai listrik nasional</td>\n",
       "    </tr>\n",
       "    <tr>\n",
       "      <th>65321</th>\n",
       "      <td>2024-04-29 15:50:14+00:00</td>\n",
       "      <td>joki essay tema merdeka ajar</td>\n",
       "    </tr>\n",
       "    <tr>\n",
       "      <th>65322</th>\n",
       "      <td>2024-04-29 18:23:19+00:00</td>\n",
       "      <td>tim pkm pnup terima dana pkm vokasi tahun</td>\n",
       "    </tr>\n",
       "    <tr>\n",
       "      <th>65323</th>\n",
       "      <td>2024-04-29 20:22:16+00:00</td>\n",
       "      <td>juang anakanak dusun biram aceh utara tempuh m...</td>\n",
       "    </tr>\n",
       "  </tbody>\n",
       "</table>\n",
       "<p>65308 rows × 2 columns</p>\n",
       "</div>"
      ],
      "text/plain": [
       "                     created_at  \\\n",
       "0     2019-11-07 16:20:08+00:00   \n",
       "1     2019-11-08 19:22:05+00:00   \n",
       "2     2019-11-09 01:31:35+00:00   \n",
       "3     2019-11-09 04:16:02+00:00   \n",
       "4     2019-11-12 06:27:24+00:00   \n",
       "...                         ...   \n",
       "65319 2024-04-29 13:43:31+00:00   \n",
       "65320 2024-04-29 14:23:23+00:00   \n",
       "65321 2024-04-29 15:50:14+00:00   \n",
       "65322 2024-04-29 18:23:19+00:00   \n",
       "65323 2024-04-29 20:22:16+00:00   \n",
       "\n",
       "                                               full_text  \n",
       "0      suka bikin gaduh lebih orang teken petisi ui p...  \n",
       "1      nadiem makarim pesan rektor itb kampus merdeka...  \n",
       "2      kalau merdeka kampus potensi asai pikir berang...  \n",
       "3                    nadiem makarim minta kampus merdeka  \n",
       "4      enggak punya kenang apaapa pertama kali lihat ...  \n",
       "...                                                  ...  \n",
       "65319  wakatobi siap gelar konferensi internasional s...  \n",
       "65320                konsorsium baterai listrik nasional  \n",
       "65321                       joki essay tema merdeka ajar  \n",
       "65322          tim pkm pnup terima dana pkm vokasi tahun  \n",
       "65323  juang anakanak dusun biram aceh utara tempuh m...  \n",
       "\n",
       "[65308 rows x 2 columns]"
      ]
     },
     "execution_count": 2,
     "metadata": {},
     "output_type": "execute_result"
    }
   ],
   "source": [
    "tweet = pd.read_csv('../../src/cleaned_combined.csv')\n",
    "tweet = tweet.dropna(subset=['full_text'])\n",
    "tweet = tweet[['created_at', 'full_text']]\n",
    "tweet['created_at'] = pd.to_datetime(tweet['created_at'])\n",
    "tweet"
   ]
  },
  {
   "cell_type": "code",
   "execution_count": 14,
   "metadata": {},
   "outputs": [
    {
     "name": "stderr",
     "output_type": "stream",
     "text": [
      "2024-05-23 14:46:02,185 - BERTopic - Embedding - Transforming documents to embeddings.\n"
     ]
    },
    {
     "data": {
      "application/vnd.jupyter.widget-view+json": {
       "model_id": "91a7d20813994dd79c87731a289a9660",
       "version_major": 2,
       "version_minor": 0
      },
      "text/plain": [
       "Batches:   0%|          | 0/2041 [00:00<?, ?it/s]"
      ]
     },
     "metadata": {},
     "output_type": "display_data"
    },
    {
     "name": "stderr",
     "output_type": "stream",
     "text": [
      "2024-05-23 15:00:37,309 - BERTopic - Embedding - Completed ✓\n",
      "2024-05-23 15:00:37,312 - BERTopic - Dimensionality - Fitting the dimensionality reduction algorithm\n",
      "2024-05-23 15:01:36,982 - BERTopic - Dimensionality - Completed ✓\n",
      "2024-05-23 15:01:36,995 - BERTopic - Cluster - Start clustering the reduced embeddings\n"
     ]
    }
   ],
   "source": [
    "%%time\n",
    "topic_model = BERTopic(verbose=True,\n",
    "                        calculate_probabilities=True,\n",
    "                        language='indonesian',\n",
    "                        nr_topics=\"auto\",\n",
    "                        )\n",
    "text_data = tweet['full_text'].tolist()\n",
    "timestamps = tweet['created_at'].tolist()\n",
    "\n",
    "topics, probs = topic_model.fit_transform(text_data)\n",
    "\n",
    "results = {\n",
    "        'model' : topic_model,\n",
    "        'topics_over_time' : topic_model.topics_over_time(text_data, timestamps, nr_bins=18),\n",
    "        'probs': probs,\n",
    "        'topic_info': topic_model.get_topic_info(),\n",
    "        \n",
    "        'topics': topics,\n",
    "        'text': text_data,\n",
    "    }"
   ]
  },
  {
   "cell_type": "code",
   "execution_count": null,
   "metadata": {},
   "outputs": [],
   "source": [
    "fig = results['model'].visualize_topics_over_time(results['topics_over_time'], top_n_topics=20)\n",
    "# fig.update_layout(title_text=f\"Topics Over Time for {period}\")\n",
    "fig.show()"
   ]
  },
  {
   "cell_type": "code",
   "execution_count": null,
   "metadata": {},
   "outputs": [],
   "source": [
    "topic_model.get_topics()"
   ]
  },
  {
   "cell_type": "code",
   "execution_count": null,
   "metadata": {},
   "outputs": [],
   "source": [
    "topic_model.get_topic_freq()"
   ]
  },
  {
   "cell_type": "code",
   "execution_count": null,
   "metadata": {},
   "outputs": [],
   "source": [
    "topic_model.get_document_info(text_data)"
   ]
  },
  {
   "cell_type": "code",
   "execution_count": null,
   "metadata": {},
   "outputs": [],
   "source": [
    "topic_model.visualize_topics()"
   ]
  },
  {
   "cell_type": "code",
   "execution_count": null,
   "metadata": {},
   "outputs": [],
   "source": [
    "topic_model.visualize_documents(text_data)"
   ]
  },
  {
   "cell_type": "code",
   "execution_count": null,
   "metadata": {},
   "outputs": [],
   "source": [
    "hierarchical_topics = topic_model.hierarchical_topics(text_data)\n",
    "topic_model.visualize_hierarchy(hierarchical_topics=hierarchical_topics)"
   ]
  },
  {
   "cell_type": "code",
   "execution_count": null,
   "metadata": {},
   "outputs": [],
   "source": [
    "from octis.evaluation_metrics.diversity_metrics import TopicDiversity\n",
    "from octis.evaluation_metrics.coherence_metrics import Coherence"
   ]
  },
  {
   "cell_type": "markdown",
   "metadata": {},
   "source": [
    "# Grouping Dataset"
   ]
  },
  {
   "cell_type": "code",
   "execution_count": 6,
   "metadata": {},
   "outputs": [],
   "source": [
    "def get_custom_quarter(date):\n",
    "    start_month = date.month\n",
    "    end_month = start_month + 2\n",
    "    \n",
    "    if end_month > 12:\n",
    "        end_year = date.year + 1\n",
    "        end_month = end_month % 12\n",
    "    else:\n",
    "        end_year = date.year\n",
    "    \n",
    "    start_date = pd.Timestamp(year=date.year, month=start_month, day=1)\n",
    "    end_date = pd.Timestamp(year=end_year, month=end_month, day=1) + pd.offsets.MonthEnd(1)\n",
    "    \n",
    "    return f\"{start_date.strftime('%Y_%m')}-{end_date.strftime('%Y_%m')}\""
   ]
  },
  {
   "cell_type": "code",
   "execution_count": 13,
   "metadata": {},
   "outputs": [],
   "source": [
    "tweet_quarter = tweet.copy()\n",
    "\n",
    "tweet_quarter = labelQuarters(tweet_quarter, 'created_at')\n",
    "\n",
    "tweet_quarter = tweet_quarter.groupby('quarter')"
   ]
  },
  {
   "cell_type": "code",
   "execution_count": null,
   "metadata": {},
   "outputs": [],
   "source": [
    "%%time\n",
    "for period, group in tweet_quarter:\n",
    "    topic_model = BERTopic(verbose=True,\n",
    "                           language='indonesian', calculate_probabilities=True,\n",
    "                           nr_topics=10,\n",
    "                           )\n",
    "    text_data = group['full_text'].tolist()\n",
    "    timestamps = group['created_at'].tolist()\n",
    "    topics, probs = topic_model.fit_transform(text_data)\n",
    "    results[period] = {\n",
    "        'model' : topic_model,\n",
    "        'topics_over_time' : topic_model.topics_over_time(text_data, timestamps, nr_bins=18),\n",
    "        'topics': topics,\n",
    "        'probs': probs,\n",
    "        'topic_info': topic_model.get_topic_info(),\n",
    "    }"
   ]
  }
 ],
 "metadata": {
  "kernelspec": {
   "display_name": "Python 3",
   "language": "python",
   "name": "python3"
  },
  "language_info": {
   "codemirror_mode": {
    "name": "ipython",
    "version": 3
   },
   "file_extension": ".py",
   "mimetype": "text/x-python",
   "name": "python",
   "nbconvert_exporter": "python",
   "pygments_lexer": "ipython3",
   "version": "3.11.6"
  }
 },
 "nbformat": 4,
 "nbformat_minor": 2
}
