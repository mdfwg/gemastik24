{
 "cells": [
  {
   "cell_type": "code",
   "execution_count": 2,
   "metadata": {},
   "outputs": [],
   "source": [
    "import pandas as pd\n",
    "import matplotlib.pyplot as plt\n",
    "import sys\n",
    "from bertopic import BERTopic\n",
    "import gensim.corpora as corpora\n",
    "from gensim.models.coherencemodel import CoherenceModel\n",
    "import torch\n",
    "\n",
    "sys.path.insert(0, \"../\")\n",
    "from utils.quarter_label import labelQuarters"
   ]
  },
  {
   "cell_type": "code",
   "execution_count": 24,
   "metadata": {},
   "outputs": [
    {
     "data": {
      "text/html": [
       "<div>\n",
       "<style scoped>\n",
       "    .dataframe tbody tr th:only-of-type {\n",
       "        vertical-align: middle;\n",
       "    }\n",
       "\n",
       "    .dataframe tbody tr th {\n",
       "        vertical-align: top;\n",
       "    }\n",
       "\n",
       "    .dataframe thead th {\n",
       "        text-align: right;\n",
       "    }\n",
       "</style>\n",
       "<table border=\"1\" class=\"dataframe\">\n",
       "  <thead>\n",
       "    <tr style=\"text-align: right;\">\n",
       "      <th></th>\n",
       "      <th>created_at</th>\n",
       "      <th>full_text</th>\n",
       "    </tr>\n",
       "  </thead>\n",
       "  <tbody>\n",
       "    <tr>\n",
       "      <th>0</th>\n",
       "      <td>2019-11-01 00:43:08+00:00</td>\n",
       "      <td>by lewat</td>\n",
       "    </tr>\n",
       "    <tr>\n",
       "      <th>1</th>\n",
       "      <td>2019-11-01 02:42:52+00:00</td>\n",
       "      <td>kakanwil kemenag provinsi papua pdt amsal yowe...</td>\n",
       "    </tr>\n",
       "    <tr>\n",
       "      <th>2</th>\n",
       "      <td>2019-11-01 08:53:32+00:00</td>\n",
       "      <td>politik baik anggota dprd betul psi libat raky...</td>\n",
       "    </tr>\n",
       "    <tr>\n",
       "      <th>4</th>\n",
       "      <td>2019-11-01 11:16:16+00:00</td>\n",
       "      <td>kerja institusi  izin alami baru masuk temu bi...</td>\n",
       "    </tr>\n",
       "    <tr>\n",
       "      <th>5</th>\n",
       "      <td>2019-11-02 02:34:01+00:00</td>\n",
       "      <td>ajar  publik</td>\n",
       "    </tr>\n",
       "    <tr>\n",
       "      <th>...</th>\n",
       "      <td>...</td>\n",
       "      <td>...</td>\n",
       "    </tr>\n",
       "    <tr>\n",
       "      <th>25773</th>\n",
       "      <td>2024-04-29 15:25:47+00:00</td>\n",
       "      <td>demo mahasiswa minta tuukt turun unsoed nyata ...</td>\n",
       "    </tr>\n",
       "    <tr>\n",
       "      <th>25774</th>\n",
       "      <td>2024-04-29 15:53:37+00:00</td>\n",
       "      <td>sumpah adikadik moga kalian kuatkuat mental am...</td>\n",
       "    </tr>\n",
       "    <tr>\n",
       "      <th>25775</th>\n",
       "      <td>2024-04-29 16:33:36+00:00</td>\n",
       "      <td>amanat konstitusi cerdas hidup bangsa bukan ma...</td>\n",
       "    </tr>\n",
       "    <tr>\n",
       "      <th>25776</th>\n",
       "      <td>2024-04-29 22:58:27+00:00</td>\n",
       "      <td>gue heran kadang biaya  setinggi sekarang gaji...</td>\n",
       "    </tr>\n",
       "    <tr>\n",
       "      <th>25777</th>\n",
       "      <td>2024-04-29 23:39:19+00:00</td>\n",
       "      <td>kip buat orang miskin sasar terus orang tengah...</td>\n",
       "    </tr>\n",
       "  </tbody>\n",
       "</table>\n",
       "<p>20274 rows × 2 columns</p>\n",
       "</div>"
      ],
      "text/plain": [
       "                     created_at  \\\n",
       "0     2019-11-01 00:43:08+00:00   \n",
       "1     2019-11-01 02:42:52+00:00   \n",
       "2     2019-11-01 08:53:32+00:00   \n",
       "4     2019-11-01 11:16:16+00:00   \n",
       "5     2019-11-02 02:34:01+00:00   \n",
       "...                         ...   \n",
       "25773 2024-04-29 15:25:47+00:00   \n",
       "25774 2024-04-29 15:53:37+00:00   \n",
       "25775 2024-04-29 16:33:36+00:00   \n",
       "25776 2024-04-29 22:58:27+00:00   \n",
       "25777 2024-04-29 23:39:19+00:00   \n",
       "\n",
       "                                               full_text  \n",
       "0                                               by lewat  \n",
       "1      kakanwil kemenag provinsi papua pdt amsal yowe...  \n",
       "2      politik baik anggota dprd betul psi libat raky...  \n",
       "4      kerja institusi  izin alami baru masuk temu bi...  \n",
       "5                                           ajar  publik  \n",
       "...                                                  ...  \n",
       "25773  demo mahasiswa minta tuukt turun unsoed nyata ...  \n",
       "25774  sumpah adikadik moga kalian kuatkuat mental am...  \n",
       "25775  amanat konstitusi cerdas hidup bangsa bukan ma...  \n",
       "25776  gue heran kadang biaya  setinggi sekarang gaji...  \n",
       "25777  kip buat orang miskin sasar terus orang tengah...  \n",
       "\n",
       "[20274 rows x 2 columns]"
      ]
     },
     "execution_count": 24,
     "metadata": {},
     "output_type": "execute_result"
    }
   ],
   "source": [
    "tweet = pd.read_csv('../../src/cleaned_kp_bp.csv')\n",
    "tweet = tweet.dropna(subset=['full_text'])\n",
    "tweet = tweet[['created_at', 'full_text']]\n",
    "tweet['created_at'] = pd.to_datetime(tweet['created_at'])\n",
    "tweet = tweet.drop_duplicates(subset='full_text')\n",
    "tweet"
   ]
  },
  {
   "cell_type": "code",
   "execution_count": 25,
   "metadata": {},
   "outputs": [],
   "source": [
    "from bertopic.vectorizers import ClassTfidfTransformer\n",
    "\n",
    "ctfidf_model = ClassTfidfTransformer(reduce_frequent_words=True)"
   ]
  },
  {
   "cell_type": "code",
   "execution_count": 26,
   "metadata": {},
   "outputs": [],
   "source": [
    "from transformers import pipeline\n",
    "from bertopic.representation import TextGeneration\n",
    "\n",
    "prompt = \"Aku memiliki kata kunci berikut: [KEYWORDS]. Berdasarkan kata kunci berikut, tentang apa topik ini?\"\n",
    "\n",
    "# Create your representation model\n",
    "generator = pipeline('text2text-generation', model='google/flan-t5-base')\n",
    "representation_model = TextGeneration(generator)"
   ]
  },
  {
   "cell_type": "code",
   "execution_count": 27,
   "metadata": {},
   "outputs": [
    {
     "name": "stderr",
     "output_type": "stream",
     "text": [
      "2024-05-27 17:04:12,289 - BERTopic - Embedding - Transforming documents to embeddings.\n"
     ]
    },
    {
     "data": {
      "application/vnd.jupyter.widget-view+json": {
       "model_id": "956dcc9a71354b728010f6453978ca04",
       "version_major": 2,
       "version_minor": 0
      },
      "text/plain": [
       "Batches:   0%|          | 0/634 [00:00<?, ?it/s]"
      ]
     },
     "metadata": {},
     "output_type": "display_data"
    },
    {
     "name": "stderr",
     "output_type": "stream",
     "text": [
      "2024-05-27 17:04:34,941 - BERTopic - Embedding - Completed ✓\n",
      "2024-05-27 17:04:34,942 - BERTopic - Dimensionality - Fitting the dimensionality reduction algorithm\n",
      "2024-05-27 17:04:45,489 - BERTopic - Dimensionality - Completed ✓\n",
      "2024-05-27 17:04:45,649 - BERTopic - Cluster - Start clustering the reduced embeddings\n",
      "2024-05-27 17:04:59,765 - BERTopic - Cluster - Completed ✓\n",
      "2024-05-27 17:04:59,766 - BERTopic - Representation - Extracting topics from clusters using representation models.\n",
      "2024-05-27 17:05:00,910 - BERTopic - Representation - Completed ✓\n",
      "2024-05-27 17:05:00,910 - BERTopic - Topic reduction - Reducing number of topics\n",
      "2024-05-27 17:05:02,012 - BERTopic - Topic reduction - Reduced number of topics from 49 to 27\n",
      "18it [00:15,  1.18it/s]\n"
     ]
    },
    {
     "name": "stdout",
     "output_type": "stream",
     "text": [
      "CPU times: total: 13.3 s\n",
      "Wall time: 1min 9s\n"
     ]
    }
   ],
   "source": [
    "%%time\n",
    "topic_model = BERTopic(verbose=True,\n",
    "                        calculate_probabilities=True,\n",
    "                        language='indonesian',\n",
    "                        nr_topics=\"auto\",\n",
    "                        ctfidf_model = ctfidf_model,\n",
    "                        n_gram_range=(1, 2),\n",
    "                        min_topic_size = 50, \n",
    "                        # representation_model = representation_model\n",
    "                        )\n",
    "text_data = tweet['full_text'].tolist()\n",
    "timestamps = tweet['created_at'].tolist()\n",
    "\n",
    "topics, probs = topic_model.fit_transform(text_data)\n",
    "\n",
    "results = {\n",
    "        'model' : topic_model,\n",
    "        'topics_over_time' : topic_model.topics_over_time(text_data, timestamps, nr_bins=18),\n",
    "        'probs': probs,\n",
    "        'topic_info': topic_model.get_topic_info(),\n",
    "        \n",
    "        'topics': topics,\n",
    "        'text': text_data,\n",
    "    }"
   ]
  },
  {
   "cell_type": "code",
   "execution_count": 28,
   "metadata": {},
   "outputs": [
    {
     "data": {
      "application/vnd.plotly.v1+json": {
       "config": {
        "plotlyServerURL": "https://plot.ly"
       },
       "data": [
        {
         "hoverinfo": "text",
         "hovertext": [
          "<b>Topic 0</b><br>Words: guru, sekolah, nadiem, indonesia, tahun",
          "<b>Topic 0</b><br>Words: beasiswa, bayar, kampus merdeka, naik biaya, gobills",
          "<b>Topic 0</b><br>Words: mahasiswa, mahal, semester, sekolah, biaya",
          "<b>Topic 0</b><br>Words: beasiswa, mahasiswa, bayar, indonesia, biaya",
          "<b>Topic 0</b><br>Words: skema cicil, biaya skema, semester, skema, daftar mohon",
          "<b>Topic 0</b><br>Words: anak, daftar, satu, program, biaya",
          "<b>Topic 0</b><br>Words: semester, paragon, sempat mahasiswa, bopb, bughot",
          "<b>Topic 0</b><br>Words: vokasi, tinggi vokasi, vokasi indonesia, kenal sistem, mahasiswa",
          "<b>Topic 0</b><br>Words: guru, kurikulum, adaptasi sektor, ketua presidensi, sektor beri",
          "<b>Topic 0</b><br>Words: bayar, jateng, beasiswa, masa bayar, juru fasilitas",
          "<b>Topic 0</b><br>Words: merdeka, makin, gue, enggak, anak",
          "<b>Topic 0</b><br>Words: beasiswa, biaya naik, naik terus, bank indonesia, naik",
          "<b>Topic 0</b><br>Words: universitas bsi, bayar, bsi, latolato, semester genap",
          "<b>Topic 0</b><br>Words: jam, ntt, jam pagi, masuk sekolah, sekolah jam",
          "<b>Topic 0</b><br>Words: guru, enggak, sekolah, mahal, bayar",
          "<b>Topic 0</b><br>Words: indonesia, sekolah, gratis, mahal, nih",
          "<b>Topic 0</b><br>Words: ganjar, mahfud, ganjarmahfud, beban biaya, beban",
          "<b>Topic 0</b><br>Words: mahal, sejahtera, enggak, sekolah, indonesia"
         ],
         "marker": {
          "color": "#E69F00"
         },
         "mode": "lines",
         "name": "0_indonesia_sekolah_mahal_beasiswa",
         "type": "scatter",
         "x": [
          "2019-10-30T09:18:43.029000+00:00",
          "2020-01-31T05:59:35.277777+00:00",
          "2020-05-01T11:16:02.555555+00:00",
          "2020-07-31T16:32:29.833333+00:00",
          "2020-10-30T21:48:57.111111+00:00",
          "2021-01-30T03:05:24.388888+00:00",
          "2021-05-01T08:21:51.666666+00:00",
          "2021-07-31T13:38:18.944444+00:00",
          "2021-10-30T18:54:46.222222+00:00",
          "2022-01-30T00:11:13.500000+00:00",
          "2022-05-01T05:27:40.777777+00:00",
          "2022-07-31T10:44:08.055555+00:00",
          "2022-10-30T16:00:35.333333+00:00",
          "2023-01-29T21:17:02.611111+00:00",
          "2023-05-01T02:33:29.888888+00:00",
          "2023-07-31T07:49:57.166666+00:00",
          "2023-10-30T13:06:24.444444+00:00",
          "2024-01-29T18:22:51.722222+00:00"
         ],
         "y": [
          450,
          355,
          595,
          449,
          201,
          336,
          143,
          271,
          217,
          205,
          333,
          190,
          135,
          226,
          576,
          925,
          362,
          639
         ]
        },
        {
         "hoverinfo": "text",
         "hovertext": [
          "<b>Topic 1</b><br>Words: donasi, quran, assalamualaikum, al quran, al",
          "<b>Topic 1</b><br>Words: islam minta, corona islam, kafalah, cegah sebar, islam",
          "<b>Topic 1</b><br>Words: islam, muhammadiyah, normal, new normal, pesantren",
          "<b>Topic 1</b><br>Words: islam, muhammadiyah, anak asuh, asuh, kafalah",
          "<b>Topic 1</b><br>Words: islam, layak cukup, islam laku, rakyat dapat, gtgt",
          "<b>Topic 1</b><br>Words: sahabat, nurul huda, huda, gomil, gomil peduli",
          "<b>Topic 1</b><br>Words: mushola, yatim kode, ppn sembako, ppn, no rek",
          "<b>Topic 1</b><br>Words: banda aceh, banda, mal banda, tsaqib, aceh",
          "<b>Topic 1</b><br>Words: muhammadiyah, kalong, khair yasmin, yay, not change",
          "<b>Topic 1</b><br>Words: its, hnw dukung, hnw, mahasiswa muslim, dana zakat",
          "<b>Topic 1</b><br>Words: islam, mercury, ikat adhyaksa, dialog sosial, halmahera utara",
          "<b>Topic 1</b><br>Words: ghozali, yudisium september, subkoordinato, anak wahono, sariyanti",
          "<b>Topic 1</b><br>Words: masjid, argo, drs argo, about malang, argo pambudi",
          "<b>Topic 1</b><br>Words: islam sekolah, indramayu, hj nina, nina, agustina",
          "<b>Topic 1</b><br>Words: donatur, donatur bulan, quran, santri, rborang",
          "<b>Topic 1</b><br>Words: islam, muhammad, quran, yapindu, nabung buat",
          "<b>Topic 1</b><br>Words: joki, joki tugas, hafal, juz, mtt",
          "<b>Topic 1</b><br>Words: muhammadiyah, islam, ikn adopsi, sekolah muhammadiyah, ajar plus"
         ],
         "marker": {
          "color": "#56B4E9"
         },
         "mode": "lines",
         "name": "1_islam_muhammadiyah_quran_yatim",
         "type": "scatter",
         "x": [
          "2019-10-30T09:18:43.029000+00:00",
          "2020-01-31T05:59:35.277777+00:00",
          "2020-05-01T11:16:02.555555+00:00",
          "2020-07-31T16:32:29.833333+00:00",
          "2020-10-30T21:48:57.111111+00:00",
          "2021-01-30T03:05:24.388888+00:00",
          "2021-05-01T08:21:51.666666+00:00",
          "2021-07-31T13:38:18.944444+00:00",
          "2021-10-30T18:54:46.222222+00:00",
          "2022-01-30T00:11:13.500000+00:00",
          "2022-05-01T05:27:40.777777+00:00",
          "2022-07-31T10:44:08.055555+00:00",
          "2022-10-30T16:00:35.333333+00:00",
          "2023-01-29T21:17:02.611111+00:00",
          "2023-05-01T02:33:29.888888+00:00",
          "2023-07-31T07:49:57.166666+00:00",
          "2023-10-30T13:06:24.444444+00:00",
          "2024-01-29T18:22:51.722222+00:00"
         ],
         "y": [
          56,
          61,
          79,
          66,
          30,
          54,
          14,
          32,
          27,
          19,
          46,
          21,
          26,
          28,
          58,
          49,
          27,
          72
         ]
        },
        {
         "hoverinfo": "text",
         "hovertext": [
          "<b>Topic 2</b><br>Words: analisis, zam, bantaeng, pgri rumus, baru nilai",
          "<b>Topic 2</b><br>Words: sensus duduk, tentu bangun, sensus, data hasil, duduk tentu",
          "<b>Topic 2</b><br>Words: gulir beri, insan budaya, sektor, simbol, bebas insan",
          "<b>Topic 2</b><br>Words: rem, mulai bangun, akhir yaa, perintah nakhoda, perhati beri",
          "<b>Topic 2</b><br>Words: alokasi apbd, bosda, gelap, inovasi, daya tapanuli",
          "<b>Topic 2</b><br>Words: punya arah, gaduh, redo, sendiri soal, otsus tara",
          "<b>Topic 2</b><br>Words: selenggara perhati, bimbing khonghucu, investasi bismillah, imbau kepala, bismillah ptwaskita",
          "<b>Topic 2</b><br>Words: jelas erti, rang gelap, coreng institusi, gelap indah, sama alternatif",
          "<b>Topic 2</b><br>Words: kutuk, kukuh urus, kkks bupati, kkks, bupati harap",
          "<b>Topic 2</b><br>Words: rkp tahun, rkp, ruu sisdiknas, sisdiknas, manusia tangguh",
          "<b>Topic 2</b><br>Words: orde baru, orde, sekat, perdana, ojol",
          "<b>Topic 2</b><br>Words: disdik teken, mbkm maksud, investasi aceh, zaman akseleratif, pemuda bahas",
          "<b>Topic 2</b><br>Words: kembang manusia, rebel baik, sosial ekologis, dunia maupun, pengin gali",
          "<b>Topic 2</b><br>Words: staf, nyuruh anak, variabel jawab, orang gelut, nanti sinyal",
          "<b>Topic 2</b><br>Words: ragam ganjar, ragam, pesan penting, pesan, penting maju",
          "<b>Topic 2</b><br>Words: bapak prabowo, prabowo, nih, semakinpakbowo visisubianto, jelasarahnya",
          "<b>Topic 2</b><br>Words: gpmmd, ganjarmahfud, ganjar, gpmmd kupang, sabang",
          "<b>Topic 2</b><br>Words: ganjar, ganjar pranowo, pranowo, baik rakyat, pranowo baik"
         ],
         "marker": {
          "color": "#009E73"
         },
         "mode": "lines",
         "name": "2_prabowo_bapak prabowo_nih_jelasarahnya",
         "type": "scatter",
         "x": [
          "2019-10-30T09:18:43.029000+00:00",
          "2020-01-31T05:59:35.277777+00:00",
          "2020-05-01T11:16:02.555555+00:00",
          "2020-07-31T16:32:29.833333+00:00",
          "2020-10-30T21:48:57.111111+00:00",
          "2021-01-30T03:05:24.388888+00:00",
          "2021-05-01T08:21:51.666666+00:00",
          "2021-07-31T13:38:18.944444+00:00",
          "2021-10-30T18:54:46.222222+00:00",
          "2022-01-30T00:11:13.500000+00:00",
          "2022-05-01T05:27:40.777777+00:00",
          "2022-07-31T10:44:08.055555+00:00",
          "2022-10-30T16:00:35.333333+00:00",
          "2023-01-29T21:17:02.611111+00:00",
          "2023-05-01T02:33:29.888888+00:00",
          "2023-07-31T07:49:57.166666+00:00",
          "2023-10-30T13:06:24.444444+00:00",
          "2024-01-29T18:22:51.722222+00:00"
         ],
         "y": [
          33,
          19,
          30,
          15,
          8,
          13,
          4,
          8,
          19,
          6,
          12,
          4,
          7,
          18,
          35,
          169,
          72,
          34
         ]
        },
        {
         "hoverinfo": "text",
         "hovertext": [
          "<b>Topic 3</b><br>Words: menteri, nadiem, un, ganti, makarim",
          "<b>Topic 3</b><br>Words: menteri, unicorn, menteri budaya, tvri, nadiem",
          "<b>Topic 3</b><br>Words: menteri, menteri budaya, mas menteri, budaya, jadi menteri",
          "<b>Topic 3</b><br>Words: menteri, ganti, menteri ganti, menteri budaya, ganti menteri",
          "<b>Topic 3</b><br>Words: menteri, indra, budaya ri, lama satu, publik kuat",
          "<b>Topic 3</b><br>Words: menteri, bangkang, menteri afganistan, guru bangkang, menteri tahan",
          "<b>Topic 3</b><br>Words: makarim tahun, empat baru, baru mendikbud, menteri, presiden enggak",
          "<b>Topic 3</b><br>Words: baru selesai, buat sop, lasi lambak, nih caca, covi",
          "<b>Topic 3</b><br>Words: penuh buat, kena ppks, ppks jadi, buat menteri, ppks",
          "<b>Topic 3</b><br>Words: anggar baru, me sih, jauh anakanak, menteri cuman, asih positif",
          "<b>Topic 3</b><br>Words: pecat dinas, pecat, jember, deputi ii, bnpt",
          "<b>Topic 3</b><br>Words: racun anakanak, murid tonton, dalih kolaborasi, mutu tsb, menteri dalih",
          "<b>Topic 3</b><br>Words: konseling, mendikbud pecat, bela anak, min zhalik, zhalik",
          "<b>Topic 3</b><br>Words: gubernur, ntt, rasa paksa, minta gubernur, mama takut",
          "<b>Topic 3</b><br>Words: menteri, marketplace, ngacak, ane, nadiem",
          "<b>Topic 3</b><br>Words: menteri, jadi menteri, ganti, menteri ganti, ganti menteri",
          "<b>Topic 3</b><br>Words: kalau ndasmu, etik jadi, bahasa banyumas, ndasmu etik, baru bahasa",
          "<b>Topic 3</b><br>Words: menteri, pramuka, jadi menteri, wajib sekolah, ekstrakurikuler"
         ],
         "marker": {
          "color": "#F0E442"
         },
         "mode": "lines",
         "name": "3_menteri_ganti_nadiem_jadi menteri",
         "type": "scatter",
         "x": [
          "2019-10-30T09:18:43.029000+00:00",
          "2020-01-31T05:59:35.277777+00:00",
          "2020-05-01T11:16:02.555555+00:00",
          "2020-07-31T16:32:29.833333+00:00",
          "2020-10-30T21:48:57.111111+00:00",
          "2021-01-30T03:05:24.388888+00:00",
          "2021-05-01T08:21:51.666666+00:00",
          "2021-07-31T13:38:18.944444+00:00",
          "2021-10-30T18:54:46.222222+00:00",
          "2022-01-30T00:11:13.500000+00:00",
          "2022-05-01T05:27:40.777777+00:00",
          "2022-07-31T10:44:08.055555+00:00",
          "2022-10-30T16:00:35.333333+00:00",
          "2023-01-29T21:17:02.611111+00:00",
          "2023-05-01T02:33:29.888888+00:00",
          "2023-07-31T07:49:57.166666+00:00",
          "2023-10-30T13:06:24.444444+00:00",
          "2024-01-29T18:22:51.722222+00:00"
         ],
         "y": [
          61,
          23,
          59,
          38,
          10,
          20,
          8,
          1,
          18,
          3,
          7,
          1,
          2,
          13,
          21,
          28,
          1,
          26
         ]
        },
        {
         "hoverinfo": "text",
         "hovertext": [
          "<b>Topic 4</b><br>Words: unik sekolah, dunia unik, finlandia negara, gtgt enggak, dokter",
          "<b>Topic 4</b><br>Words: dokter, medis, biaya dokter, tenaga medis, kemendikbud turun",
          "<b>Topic 4</b><br>Words: medis, dokter, tim medis, anak tim, anies jamin",
          "<b>Topic 4</b><br>Words: dokter, biaya dokter, medis, doktor, pasien",
          "<b>Topic 4</b><br>Words: dokter, barat mungkin, tua sekaligus, nyawa hasil, lewat beberapa",
          "<b>Topic 4</b><br>Words: dokter, jadi dokter, awat, nya mahal, dokter mahal",
          "<b>Topic 4</b><br>Words: dokter, mutu dokter, holistik komprehensif, sangat holistik, sistem jamin",
          "<b>Topic 4</b><br>Words: apoteker, dokter, apoteker walou, kuliah apoteker, sangat cerdas",
          "<b>Topic 4</b><br>Words: jtsmt, jadi spesialis, pinter, sangat wow, rasa perintah",
          "<b>Topic 4</b><br>Words: dokter, dokter mahal, lulus sana, endorse carnegie, rendahin profesi",
          "<b>Topic 4</b><br>Words: dokter, biaya dokter, dokter biaya, pdsi, pdsi dorong",
          "<b>Topic 4</b><br>Words: ora aji, guri, aneh negara, gajine, maju kan",
          "<b>Topic 4</b><br>Words: dokter, cuba, kait dokter, dokter lebih, dokter spesialis",
          "<b>Topic 4</b><br>Words: dokter, buat sefriendly, sistem calon, mahal padan, mudah harap",
          "<b>Topic 4</b><br>Words: dokter, jadi dokter, biaya dokter, spesialis, fk",
          "<b>Topic 4</b><br>Words: dokter, dorong pemuda, pemuda bangsa, jadi dokter, dokter mudah",
          "<b>Topic 4</b><br>Words: tajam, biaya dokter, obat, bengkak luar, milik picu",
          "<b>Topic 4</b><br>Words: dokter, biaya dokter, spesialis, dokter mahal, dokter spesialis"
         ],
         "marker": {
          "color": "#D55E00"
         },
         "mode": "lines",
         "name": "4_dokter_biaya dokter_jadi dokter_medis",
         "type": "scatter",
         "x": [
          "2019-10-30T09:18:43.029000+00:00",
          "2020-01-31T05:59:35.277777+00:00",
          "2020-05-01T11:16:02.555555+00:00",
          "2020-07-31T16:32:29.833333+00:00",
          "2020-10-30T21:48:57.111111+00:00",
          "2021-01-30T03:05:24.388888+00:00",
          "2021-05-01T08:21:51.666666+00:00",
          "2021-07-31T13:38:18.944444+00:00",
          "2021-10-30T18:54:46.222222+00:00",
          "2022-01-30T00:11:13.500000+00:00",
          "2022-05-01T05:27:40.777777+00:00",
          "2022-07-31T10:44:08.055555+00:00",
          "2022-10-30T16:00:35.333333+00:00",
          "2023-01-29T21:17:02.611111+00:00",
          "2023-05-01T02:33:29.888888+00:00",
          "2023-07-31T07:49:57.166666+00:00",
          "2023-10-30T13:06:24.444444+00:00",
          "2024-01-29T18:22:51.722222+00:00"
         ],
         "y": [
          14,
          27,
          33,
          33,
          6,
          13,
          6,
          5,
          5,
          8,
          25,
          1,
          8,
          5,
          33,
          20,
          4,
          29
         ]
        },
        {
         "hoverinfo": "text",
         "hovertext": [
          "<b>Topic 5</b><br>Words: nikah, biaya nikah, mau nikah, ntal, pak suami",
          "<b>Topic 5</b><br>Words: nikah, nikah bukan, kasih sayang, buat bikin, impi mama",
          "<b>Topic 5</b><br>Words: nikah, anak nikah, istri, beli rumah, kasih makan",
          "<b>Topic 5</b><br>Words: nikah, pasang semangat, hura, pesta, biaya nikah",
          "<b>Topic 5</b><br>Words: kerja kerja, nikah, kokoh insyaallah, sidang kok, bubur susu",
          "<b>Topic 5</b><br>Words: nikah, resah, resah mu, sel, nikah tuh",
          "<b>Topic 5</b><br>Words: bri rupa, kredit beri, cukup mbok, rupa pegawai, rupa kredit",
          "<b>Topic 5</b><br>Words: nikah, biaya nikah, selesai kuliah, pesta, heyyy tahu",
          "<b>Topic 5</b><br>Words: nikah, istri, suami, layak suami, buat layak",
          "<b>Topic 5</b><br>Words: nikah, aku nak, hibah, biaya nikah, raya cm",
          "<b>Topic 5</b><br>Words: nikah, temuin, cewenya, gue temuin, istri",
          "<b>Topic 5</b><br>Words: lu stres, nikah, anak cukup, jadinyaa, cukup laki",
          "<b>Topic 5</b><br>Words: nikah, dakwa, mudah banget, isteri aku, aku nak",
          "<b>Topic 5</b><br>Words: nikah, isteri aku, isteri, aku nak, mau nikah",
          "<b>Topic 5</b><br>Words: nikah, nyuruh, masa idah, nyuruh nikah, idah",
          "<b>Topic 5</b><br>Words: istri, istri dua, anak istri, mbak elfira, elfira",
          "<b>Topic 5</b><br>Words: paksa masalah, bunuh orang, pasang tinggi, dana jt, doang kayak",
          "<b>Topic 5</b><br>Words: nikah, waduh, waduh waduh, istri, istri kalian"
         ],
         "marker": {
          "color": "#0072B2"
         },
         "mode": "lines",
         "name": "5_nikah_istri_biaya nikah_suami",
         "type": "scatter",
         "x": [
          "2019-10-30T09:18:43.029000+00:00",
          "2020-01-31T05:59:35.277777+00:00",
          "2020-05-01T11:16:02.555555+00:00",
          "2020-07-31T16:32:29.833333+00:00",
          "2020-10-30T21:48:57.111111+00:00",
          "2021-01-30T03:05:24.388888+00:00",
          "2021-05-01T08:21:51.666666+00:00",
          "2021-07-31T13:38:18.944444+00:00",
          "2021-10-30T18:54:46.222222+00:00",
          "2022-01-30T00:11:13.500000+00:00",
          "2022-05-01T05:27:40.777777+00:00",
          "2022-07-31T10:44:08.055555+00:00",
          "2022-10-30T16:00:35.333333+00:00",
          "2023-01-29T21:17:02.611111+00:00",
          "2023-05-01T02:33:29.888888+00:00",
          "2023-07-31T07:49:57.166666+00:00",
          "2023-10-30T13:06:24.444444+00:00",
          "2024-01-29T18:22:51.722222+00:00"
         ],
         "y": [
          17,
          8,
          15,
          12,
          5,
          14,
          3,
          7,
          15,
          7,
          10,
          6,
          8,
          7,
          17,
          10,
          4,
          16
         ]
        },
        {
         "hoverinfo": "text",
         "hovertext": [
          "<b>Topic 6</b><br>Words: bla, papua, orang tengahtimur, ambon papua, tengahtimur",
          "<b>Topic 6</b><br>Words: papua, capek lihat, papua lembaga, langsung lengkap, terap papua",
          "<b>Topic 6</b><br>Words: papua, otonomi khusus, otonomi, papua barat, papua papua",
          "<b>Topic 6</b><br>Words: papua, otsus, inews, papua barat, papua tengah",
          "<b>Topic 6</b><br>Words: papua, otonomi khusus, otonomi, mahasiswa papua, papua dapat",
          "<b>Topic 6</b><br>Words: papua, otsus, masyarakat papua, otsus papua, papua dukung",
          "<b>Topic 6</b><br>Words: papua, otsus, bangun layan, adat papua, bagi beberapa",
          "<b>Topic 6</b><br>Words: otsus maju, papua, otsus, sdm papua, jalan negeri",
          "<b>Topic 6</b><br>Words: daerah sendiri, bangun daerah, beasiswa tingkat, papua bangun, manusia orang",
          "<b>Topic 6</b><br>Words: gratis papua, papua, juang gratis, beri manfaat, papua barat",
          "<b>Topic 6</b><br>Words: papua, warga papua, dob, dana otonomi, otonomi khusus",
          "<b>Topic 6</b><br>Words: approach, papua soft, sosialisasi tingkat, tnipolri awal, hard approach",
          "<b>Topic 6</b><br>Words: otsus, papua, otsus tingkat, asli papua, standar masyarakat",
          "<b>Topic 6</b><br>Words: papua, papua sekarang, papua maju, anak papua, taruna lapor",
          "<b>Topic 6</b><br>Words: papua, otsus, papua baik, otsus papua, kaji puskappi",
          "<b>Topic 6</b><br>Words: gpmmd papua, papua, gpmmd aceh, aceh gpmmd, gpmmd",
          "<b>Topic 6</b><br>Words: papua, ganjar mahfud, papua lalu, mahfud, sdm papua"
         ],
         "marker": {
          "color": "#CC79A7"
         },
         "mode": "lines",
         "name": "6_papua_otsus_otonomi khusus_otonomi",
         "type": "scatter",
         "x": [
          "2019-10-30T09:18:43.029000+00:00",
          "2020-01-31T05:59:35.277777+00:00",
          "2020-05-01T11:16:02.555555+00:00",
          "2020-07-31T16:32:29.833333+00:00",
          "2020-10-30T21:48:57.111111+00:00",
          "2021-01-30T03:05:24.388888+00:00",
          "2021-07-31T13:38:18.944444+00:00",
          "2021-10-30T18:54:46.222222+00:00",
          "2022-01-30T00:11:13.500000+00:00",
          "2022-05-01T05:27:40.777777+00:00",
          "2022-07-31T10:44:08.055555+00:00",
          "2022-10-30T16:00:35.333333+00:00",
          "2023-01-29T21:17:02.611111+00:00",
          "2023-05-01T02:33:29.888888+00:00",
          "2023-07-31T07:49:57.166666+00:00",
          "2023-10-30T13:06:24.444444+00:00",
          "2024-01-29T18:22:51.722222+00:00"
         ],
         "y": [
          4,
          3,
          19,
          28,
          7,
          18,
          8,
          6,
          4,
          5,
          3,
          1,
          14,
          6,
          3,
          16,
          35
         ]
        },
        {
         "hoverinfo": "text",
         "hovertext": [
          "<b>Topic 7</b><br>Words: virus perintah, proses tanah, air cegah, covid sangat, sangat ganggu",
          "<b>Topic 7</b><br>Words: pandemi, masa pandemi, pandemi covid, covid, masa",
          "<b>Topic 7</b><br>Words: pandemi, pandemi covid, masa pandemi, covid, hadap pandemi",
          "<b>Topic 7</b><br>Words: pandemi, pandemi covid, masa pandemi, sesuai masa, covid",
          "<b>Topic 7</b><br>Words: pandemi, audiensi biaya, audiensi, langsung audiensi, biaya tengah",
          "<b>Topic 7</b><br>Words: pandemi problematika, problematika biaya, problematika, trivia yuri, astronout",
          "<b>Topic 7</b><br>Words: perintah sekarang, pandemi ngene, program golkar, yaudah lah, penting sekarang",
          "<b>Topic 7</b><br>Words: pandemi, protes pandemi, si maksud, persen perlu, mental ibadah",
          "<b>Topic 7</b><br>Words: luk biaya, tahan terpa, pandemi siswi, siswi aceh, luk",
          "<b>Topic 7</b><br>Words: pandemi, pandemi covid, masa pandemi, kak, covid",
          "<b>Topic 7</b><br>Words: rasa pandemi, lonjak tajam, biaya lonjak, entah rasa, pandemi biaya",
          "<b>Topic 7</b><br>Words: asean lengkap, ktt asean, klik gtgt, pihak santri, purwakarta ubah"
         ],
         "marker": {
          "color": "#E69F00"
         },
         "mode": "lines",
         "name": "7_pandemi_pandemi covid_masa pandemi_cov...",
         "type": "scatter",
         "x": [
          "2020-01-31T05:59:35.277777+00:00",
          "2020-05-01T11:16:02.555555+00:00",
          "2020-07-31T16:32:29.833333+00:00",
          "2020-10-30T21:48:57.111111+00:00",
          "2021-01-30T03:05:24.388888+00:00",
          "2021-05-01T08:21:51.666666+00:00",
          "2021-07-31T13:38:18.944444+00:00",
          "2021-10-30T18:54:46.222222+00:00",
          "2022-01-30T00:11:13.500000+00:00",
          "2022-05-01T05:27:40.777777+00:00",
          "2023-05-01T02:33:29.888888+00:00",
          "2023-07-31T07:49:57.166666+00:00"
         ],
         "y": [
          8,
          79,
          37,
          10,
          16,
          4,
          4,
          7,
          1,
          7,
          1,
          2
         ]
        },
        {
         "hoverinfo": "text",
         "hovertext": [
          "<b>Topic 8</b><br>Words: cipta situasi, antiekstremisme antiterorisme, pola latih, situasi xinjiang, xinjiang",
          "<b>Topic 8</b><br>Words: ars university, ars, tanya duluan, university dampak, siswa marjinal",
          "<b>Topic 8</b><br>Words: pandemi, pandemi covid, masa pandemi, covid, dampak pandemi",
          "<b>Topic 8</b><br>Words: pandemi, pandemi covid, masa pandemi, lama pandemi, covid",
          "<b>Topic 8</b><br>Words: harap hatihati, uir bantu, hatihati betul, uir, mahasiswa masa",
          "<b>Topic 8</b><br>Words: pandemi, pandemi covid, masa pandemi, kondisi harap, sesuai bop",
          "<b>Topic 8</b><br>Words: pandemi, pandemi makin, rekomendasi biaya, brief rekomendasi, rilis policy",
          "<b>Topic 8</b><br>Words: pandemi, edukasi protokol, apa risiko, sumedang, kab sumedang",
          "<b>Topic 8</b><br>Words: anak pandemi, aktif orang, sekolah tekan, rupa momentum, buruk masalah",
          "<b>Topic 8</b><br>Words: hybrid cips, cips laku, cips, ptm besar, survei lebih",
          "<b>Topic 8</b><br>Words: lancar masa, pihak kerja, dukung masa, daring pasti, pasti lancar"
         ],
         "marker": {
          "color": "#56B4E9"
         },
         "mode": "lines",
         "name": "8_pandemi_pandemi covid_masa pandemi_cov...",
         "type": "scatter",
         "x": [
          "2019-10-30T09:18:43.029000+00:00",
          "2020-01-31T05:59:35.277777+00:00",
          "2020-05-01T11:16:02.555555+00:00",
          "2020-07-31T16:32:29.833333+00:00",
          "2020-10-30T21:48:57.111111+00:00",
          "2021-01-30T03:05:24.388888+00:00",
          "2021-05-01T08:21:51.666666+00:00",
          "2021-07-31T13:38:18.944444+00:00",
          "2021-10-30T18:54:46.222222+00:00",
          "2022-05-01T05:27:40.777777+00:00",
          "2023-07-31T07:49:57.166666+00:00"
         ],
         "y": [
          1,
          7,
          75,
          30,
          6,
          21,
          14,
          9,
          4,
          1,
          1
         ]
        },
        {
         "hoverinfo": "text",
         "hovertext": [
          "<b>Topic 9</b><br>Words: asuransi, asuransi jiwa, cicoin, jiwa, tabung jangka",
          "<b>Topic 9</b><br>Words: asuransi, asuransi jiwa, jiwa, hr, nasabah",
          "<b>Topic 9</b><br>Words: asuransi, asuransi anak, asuransi jiwa, jiwa, asuransi baik",
          "<b>Topic 9</b><br>Words: asuransi, asuransi anak, indeks, nyawa indeks, padahal subscribe",
          "<b>Topic 9</b><br>Words: pilih asuransi, branded simpan, simpan tabung, tidur hotel, modifikasi",
          "<b>Topic 9</b><br>Words: asuransi, polis, polis asuransi, asuransi bumiputera, asuransi tabung",
          "<b>Topic 9</b><br>Words: asuransi online, hario asuransi, kamu hario, aplikasi cuma, sakit rumah",
          "<b>Topic 9</b><br>Words: masuk asuransi, asuransi, capai arti, produk khusus, sekarang bni",
          "<b>Topic 9</b><br>Words: asuransi, banyak nasabah, kententuan asuransi, benar konsep, gagal byr",
          "<b>Topic 9</b><br>Words: asuransi, agen, prospek, design tanggung, asuransi vs",
          "<b>Topic 9</b><br>Words: asuransi, tb, aku masuk, deposit, pas aku",
          "<b>Topic 9</b><br>Words: mah kedok, claim awal, keluar jtan, cuman jt, setor pas",
          "<b>Topic 9</b><br>Words: uang bebas, makam sisa, sisa utang, bebas pakai, tanggung ahli",
          "<b>Topic 9</b><br>Words: asuransi, utama asuransi, proteksi biaya, berapa lisa, risiko ada",
          "<b>Topic 9</b><br>Words: asuransi sehat, asuransi, tambah asuransi, sehat lapang, prabowo",
          "<b>Topic 9</b><br>Words: pakai bank, kena bunga, bank otomatis, nyicil, dp kena",
          "<b>Topic 9</b><br>Words: asuransi, adekku pas, adekku, risiko, pakai asuransi"
         ],
         "marker": {
          "color": "#009E73"
         },
         "mode": "lines",
         "name": "9_asuransi_asuransi sehat_tambah asurans...",
         "type": "scatter",
         "x": [
          "2019-10-30T09:18:43.029000+00:00",
          "2020-01-31T05:59:35.277777+00:00",
          "2020-05-01T11:16:02.555555+00:00",
          "2020-07-31T16:32:29.833333+00:00",
          "2020-10-30T21:48:57.111111+00:00",
          "2021-01-30T03:05:24.388888+00:00",
          "2021-05-01T08:21:51.666666+00:00",
          "2021-07-31T13:38:18.944444+00:00",
          "2021-10-30T18:54:46.222222+00:00",
          "2022-01-30T00:11:13.500000+00:00",
          "2022-05-01T05:27:40.777777+00:00",
          "2022-07-31T10:44:08.055555+00:00",
          "2023-01-29T21:17:02.611111+00:00",
          "2023-05-01T02:33:29.888888+00:00",
          "2023-07-31T07:49:57.166666+00:00",
          "2023-10-30T13:06:24.444444+00:00",
          "2024-01-29T18:22:51.722222+00:00"
         ],
         "y": [
          8,
          6,
          26,
          5,
          3,
          10,
          4,
          4,
          3,
          4,
          7,
          2,
          6,
          11,
          46,
          1,
          12
         ]
        },
        {
         "hoverinfo": "text",
         "hovertext": [
          "<b>Topic 10</b><br>Words: ubah pak, petinggipetinggi lat, optimis dukung, presiden benar, korban sektor",
          "<b>Topic 10</b><br>Words: oon, presiden, kirim email, orang pimpin, suap",
          "<b>Topic 10</b><br>Words: presiden, oligarki, bpjs lg, kompensasi ratus, cara kritik",
          "<b>Topic 10</b><br>Words: presiden, fokus karakter, kaca buat, gurih, tabrak sih",
          "<b>Topic 10</b><br>Words: jiwasraya, adil semena, faktor lansia, tubuh jiwasraya, timbang faktor",
          "<b>Topic 10</b><br>Words: ppkm darurat, ppkm, presiden kena, hmm seperti, gelut sistem",
          "<b>Topic 10</b><br>Words: kebijakankebijakan covid, kecewa bpktentang, widodo upa, skrh aku, bantu presiden",
          "<b>Topic 10</b><br>Words: demokrat, yudhoyono kena, penuh partai, demokrat bareng, juang demokrat",
          "<b>Topic 10</b><br>Words: kerja bbm, lapabgan, ratarata jtbulan, realisasi aamiin, dalam manusia",
          "<b>Topic 10</b><br>Words: padahal anggar, tetap apbn, yth masalah, apbn mana, depan padahal",
          "<b>Topic 10</b><br>Words: suharto, presiden hapus, outsourcing turun, rutilahu dana, rakyat bansos",
          "<b>Topic 10</b><br>Words: ham, presiden, kebun biaya, gunung kebun, jokowi keluh",
          "<b>Topic 10</b><br>Words: presiden, ganjar presiden, ganjar, ganjar siap, siap presiden",
          "<b>Topic 10</b><br>Words: presiden, ganjarpranowo presiden, ganjarpranowo, pilih presiden, presiden enggak",
          "<b>Topic 10</b><br>Words: presiden, siapa presiden, president, presiden pilih, pilih presiden"
         ],
         "marker": {
          "color": "#F0E442"
         },
         "mode": "lines",
         "name": "10_presiden_ganjar presiden_ganjar_siap ...",
         "type": "scatter",
         "x": [
          "2019-10-30T09:18:43.029000+00:00",
          "2020-01-31T05:59:35.277777+00:00",
          "2020-05-01T11:16:02.555555+00:00",
          "2020-07-31T16:32:29.833333+00:00",
          "2020-10-30T21:48:57.111111+00:00",
          "2021-05-01T08:21:51.666666+00:00",
          "2021-07-31T13:38:18.944444+00:00",
          "2021-10-30T18:54:46.222222+00:00",
          "2022-01-30T00:11:13.500000+00:00",
          "2022-05-01T05:27:40.777777+00:00",
          "2022-07-31T10:44:08.055555+00:00",
          "2023-05-01T02:33:29.888888+00:00",
          "2023-07-31T07:49:57.166666+00:00",
          "2023-10-30T13:06:24.444444+00:00",
          "2024-01-29T18:22:51.722222+00:00"
         ],
         "y": [
          4,
          6,
          7,
          7,
          3,
          1,
          2,
          3,
          2,
          1,
          3,
          7,
          56,
          13,
          16
         ]
        },
        {
         "hoverinfo": "text",
         "hovertext": [
          "<b>Topic 11</b><br>Words: haji rp, langgar, haji, perintah abai, tuju anggar",
          "<b>Topic 11</b><br>Words: pasuruan, pasuruan kota, kota kepala, pikir tarik, kota guru",
          "<b>Topic 11</b><br>Words: siap afirmasi, khusus pesantren, pesantren agama, perintah siap, sektor khusus",
          "<b>Topic 11</b><br>Words: agama, se sumut, bikin siapa, marwan dasopang, cerah hidup",
          "<b>Topic 11</b><br>Words: agama, frasa agama, frasa, durratun nashihin, tarawih",
          "<b>Topic 11</b><br>Words: sikap kepala, sikap, tuntut sikap, majelis katolik, yuk kompak",
          "<b>Topic 11</b><br>Words: data agama, agama, cara simple, sejarah pelintir, segera baik",
          "<b>Topic 11</b><br>Words: agama, kristen, masuk kristen, kristen pas, pas kelas",
          "<b>Topic 11</b><br>Words: orang ada, monster lahir, ragu benar, klrgasal, slrh tindakankebijakanperkataanpendidikangelarsilsilah",
          "<b>Topic 11</b><br>Words: sensitif bawabawa, keluarga mana, lu sensitif, makan lingkung, enggak nyinggung",
          "<b>Topic 11</b><br>Words: beliau dorong, hasil capai, moderasi, saat lanjut, stai miftahul",
          "<b>Topic 11</b><br>Words: ikut paud, valid lengkap, dinas sulsel, bangun yayasan, beberapa dampak",
          "<b>Topic 11</b><br>Words: agama, bye, muka agama, alami kacau, sebentarsebentar ubah",
          "<b>Topic 11</b><br>Words: agama, agama ganjar, guru agama, besar pak, sejahtera santri",
          "<b>Topic 11</b><br>Words: agama, programganjarmahfud, programganjarmahfud pak, guru aji, programganjarmahfud prof",
          "<b>Topic 11</b><br>Words: agama, ajar agama, dosa, entah, seignorant"
         ],
         "marker": {
          "color": "#D55E00"
         },
         "mode": "lines",
         "name": "11_agama_ajar agama_guru agama_frasa aga...",
         "type": "scatter",
         "x": [
          "2019-10-30T09:18:43.029000+00:00",
          "2020-01-31T05:59:35.277777+00:00",
          "2020-05-01T11:16:02.555555+00:00",
          "2020-07-31T16:32:29.833333+00:00",
          "2021-01-30T03:05:24.388888+00:00",
          "2021-05-01T08:21:51.666666+00:00",
          "2021-07-31T13:38:18.944444+00:00",
          "2021-10-30T18:54:46.222222+00:00",
          "2022-05-01T05:27:40.777777+00:00",
          "2022-07-31T10:44:08.055555+00:00",
          "2022-10-30T16:00:35.333333+00:00",
          "2023-01-29T21:17:02.611111+00:00",
          "2023-05-01T02:33:29.888888+00:00",
          "2023-07-31T07:49:57.166666+00:00",
          "2023-10-30T13:06:24.444444+00:00",
          "2024-01-29T18:22:51.722222+00:00"
         ],
         "y": [
          6,
          2,
          4,
          5,
          21,
          4,
          4,
          8,
          4,
          1,
          2,
          4,
          6,
          8,
          16,
          9
         ]
        },
        {
         "hoverinfo": "text",
         "hovertext": [
          "<b>Topic 12</b><br>Words: masgibran, ayahbowo, ayahbowo masgibran, masbowogibran, masbowogibran emangkeren"
         ],
         "marker": {
          "color": "#0072B2"
         },
         "mode": "lines",
         "name": "12_masgibran_ayahbowo_ayahbowo masgibran...",
         "type": "scatter",
         "x": [
          "2023-07-31T07:49:57.166666+00:00"
         ],
         "y": [
          96
         ]
        },
        {
         "hoverinfo": "text",
         "hovertext": [
          "<b>Topic 13</b><br>Words: politikkebijakan, politik, cucuk, mulai bupati, heran terus",
          "<b>Topic 13</b><br>Words: politik, bangkrut, reaksi, home realitanya, sadar usaha",
          "<b>Topic 13</b><br>Words: politik, hindar debat, subyek salah, simak tahan, kuat demokratis",
          "<b>Topic 13</b><br>Words: politik, demokrasi, erti, rip, demokratis",
          "<b>Topic 13</b><br>Words: moral buat, sebar politik, pancasila konkret, bas moral, amp sebar",
          "<b>Topic 13</b><br>Words: lamongan, nu lamongan, kejam, lingkar birokrasi, birokrasi parpol",
          "<b>Topic 13</b><br>Words: bukan wewenang, dikit pakai, budaya hukum, politik identitas, loh ekonomi",
          "<b>Topic 13</b><br>Words: demokrasi, ketua partai, alas doi, doi, freire",
          "<b>Topic 13</b><br>Words: rana percaya, modi kecam, politik tentu, temu puncak, dar kalau",
          "<b>Topic 13</b><br>Words: fgd politik, monografi hukum, forjas gelar, politik link, monografi",
          "<b>Topic 13</b><br>Words: takalar, perindo takalar, partai perindo, perindo, fraksi dprd",
          "<b>Topic 13</b><br>Words: kyai, narasi, kyai kyai, pak politik, timbul ricuh",
          "<b>Topic 13</b><br>Words: politik, politik dunia, politisasi, inkonsistensi, inkonsistensi lebih",
          "<b>Topic 13</b><br>Words: politik, melek politik, politik mungkin, melek, pengaruh",
          "<b>Topic 13</b><br>Words: warganegara, demokrasi, masy, demokrasi civic, civic",
          "<b>Topic 13</b><br>Words: lvl, politik, naik lvl, negara anut, demokrasi"
         ],
         "marker": {
          "color": "#CC79A7"
         },
         "mode": "lines",
         "name": "13_politik_demokrasi_partai_politik duni...",
         "type": "scatter",
         "x": [
          "2019-10-30T09:18:43.029000+00:00",
          "2020-01-31T05:59:35.277777+00:00",
          "2020-05-01T11:16:02.555555+00:00",
          "2020-07-31T16:32:29.833333+00:00",
          "2020-10-30T21:48:57.111111+00:00",
          "2021-01-30T03:05:24.388888+00:00",
          "2021-05-01T08:21:51.666666+00:00",
          "2021-10-30T18:54:46.222222+00:00",
          "2022-05-01T05:27:40.777777+00:00",
          "2022-07-31T10:44:08.055555+00:00",
          "2022-10-30T16:00:35.333333+00:00",
          "2023-01-29T21:17:02.611111+00:00",
          "2023-05-01T02:33:29.888888+00:00",
          "2023-07-31T07:49:57.166666+00:00",
          "2023-10-30T13:06:24.444444+00:00",
          "2024-01-29T18:22:51.722222+00:00"
         ],
         "y": [
          7,
          6,
          6,
          10,
          1,
          5,
          3,
          6,
          3,
          3,
          1,
          4,
          10,
          9,
          5,
          9
         ]
        },
        {
         "hoverinfo": "text",
         "hovertext": [
          "<b>Topic 14</b><br>Words: yuk tanyatanya, gelombang yuk, tanyatanya dulu, lewat whatsapp, whatsapp layan",
          "<b>Topic 14</b><br>Words: biaya franchise, franchise, biaya usaha, bimbel usia, kabupaten",
          "<b>Topic 14</b><br>Words: bedagai sumatra, batas persen, sumatra utara, utara mulai, bedagai",
          "<b>Topic 14</b><br>Words: cecar biaya, cecar, biaya promosi, bekas cecar, kad kota",
          "<b>Topic 14</b><br>Words: dana multi, lembaga kota, motor tahun, tahun modal, nikah cair",
          "<b>Topic 14</b><br>Words: kerja host, gentrifikasi kota, hubung link, non daftar, host non",
          "<b>Topic 14</b><br>Words: negara ikn, biaya pembagunan, bangun ibu, canang biaya, sebut canang"
         ],
         "marker": {
          "color": "#E69F00"
         },
         "mode": "lines",
         "name": "14_biaya franchise_franchise_biaya usaha...",
         "type": "scatter",
         "x": [
          "2019-10-30T09:18:43.029000+00:00",
          "2020-01-31T05:59:35.277777+00:00",
          "2021-10-30T18:54:46.222222+00:00",
          "2022-01-30T00:11:13.500000+00:00",
          "2022-10-30T16:00:35.333333+00:00",
          "2023-05-01T02:33:29.888888+00:00",
          "2023-07-31T07:49:57.166666+00:00"
         ],
         "y": [
          1,
          79,
          1,
          1,
          2,
          2,
          2
         ]
        },
        {
         "hoverinfo": "text",
         "hovertext": [
          "<b>Topic 15</b><br>Words: virus, corona, disease, darurat sebar, disease covid",
          "<b>Topic 15</b><br>Words: virus, corona, disease covid, disease, virus corona",
          "<b>Topic 15</b><br>Words: virus, tular virus, virus corona, tular, corona",
          "<b>Topic 15</b><br>Words: coronavirus covid, bentuk respon, dunia keluar, respon perintah, wabah coronavirus",
          "<b>Topic 15</b><br>Words: banding ada, terkadang muncul, atur terap, corona walaupun, rumah terkadang",
          "<b>Topic 15</b><br>Words: ganggu wabah, nataru berapa, tanggal des, wabah atas, psykis ganggu"
         ],
         "marker": {
          "color": "#56B4E9"
         },
         "mode": "lines",
         "name": "15_virus_corona_disease_disease covid",
         "type": "scatter",
         "x": [
          "2020-01-31T05:59:35.277777+00:00",
          "2020-05-01T11:16:02.555555+00:00",
          "2020-07-31T16:32:29.833333+00:00",
          "2020-10-30T21:48:57.111111+00:00",
          "2021-05-01T08:21:51.666666+00:00",
          "2021-10-30T18:54:46.222222+00:00"
         ],
         "y": [
          65,
          14,
          5,
          1,
          1,
          1
         ]
        },
        {
         "hoverinfo": "text",
         "hovertext": [
          "<b>Topic 16</b><br>Words: ppp, perempuan ppp, perempuan, pandan tema, perempuan agen",
          "<b>Topic 16</b><br>Words: jodo, kunci surga, dominasi, timpang, surga",
          "<b>Topic 16</b><br>Words: banyak besut, lgbt lembaga, gender diabilitas, isu miskin, isu gender",
          "<b>Topic 16</b><br>Words: mkp, insecure kait, between women, hi ekonomi, politik siapa",
          "<b>Topic 16</b><br>Words: perempuan, gender, feminisme, seksual, keras seksual",
          "<b>Topic 16</b><br>Words: anggar pihak, pihak perempuan, politik anggar, perempuan, pihak",
          "<b>Topic 16</b><br>Words: imun, partisipasi usd, konferensi online, online imun, perempuan",
          "<b>Topic 16</b><br>Words: seksual, keras seksual, seksual lingkung, keras, cegah",
          "<b>Topic 16</b><br>Words: finis belanda, tsb aletta, serta perempuan, belanda kritik, perempuan akhir",
          "<b>Topic 16</b><br>Words: tingkat peran, perempuan, perempuan tingkat, peran perempuan, politik perempuan",
          "<b>Topic 16</b><br>Words: perempuan, depan pertama, perempuan tuju, pecah jalan, sepenuh hadap",
          "<b>Topic 16</b><br>Words: catat salah, ustaz pesantren, dorong menteri, seksual laku, menteri pppa",
          "<b>Topic 16</b><br>Words: cimsa, gender, malam guys, aman jaga, ketidaksetaraan gender",
          "<b>Topic 16</b><br>Words: tara gender, akses adil, lindung, gender, perempuan",
          "<b>Topic 16</b><br>Words: twist sama, treasure million, pranowo aktif, pmi kalian, progresif tuju",
          "<b>Topic 16</b><br>Words: perempuan, gender, ungkap pak, minat perempuan, pak yes",
          "<b>Topic 16</b><br>Words: perempuan, kerja berkat, perempuan rasa, luas sempat, rasa milik"
         ],
         "marker": {
          "color": "#009E73"
         },
         "mode": "lines",
         "name": "16_perempuan_seksual_keras seksual_keras",
         "type": "scatter",
         "x": [
          "2019-10-30T09:18:43.029000+00:00",
          "2020-01-31T05:59:35.277777+00:00",
          "2020-05-01T11:16:02.555555+00:00",
          "2020-07-31T16:32:29.833333+00:00",
          "2021-01-30T03:05:24.388888+00:00",
          "2021-05-01T08:21:51.666666+00:00",
          "2021-07-31T13:38:18.944444+00:00",
          "2021-10-30T18:54:46.222222+00:00",
          "2022-01-30T00:11:13.500000+00:00",
          "2022-05-01T05:27:40.777777+00:00",
          "2022-07-31T10:44:08.055555+00:00",
          "2022-10-30T16:00:35.333333+00:00",
          "2023-01-29T21:17:02.611111+00:00",
          "2023-05-01T02:33:29.888888+00:00",
          "2023-07-31T07:49:57.166666+00:00",
          "2023-10-30T13:06:24.444444+00:00",
          "2024-01-29T18:22:51.722222+00:00"
         ],
         "y": [
          3,
          3,
          1,
          2,
          7,
          1,
          8,
          31,
          1,
          6,
          2,
          2,
          2,
          3,
          2,
          3,
          6
         ]
        },
        {
         "hoverinfo": "text",
         "hovertext": [
          "<b>Topic 17</b><br>Words: nadiem kembang, kembang tempo, nadiem, satu hapus, mendikbud nadiem",
          "<b>Topic 17</b><br>Words: terus kasihan, wkwk aku, manut sih, puruk rubah, un mau",
          "<b>Topic 17</b><br>Words: amat minta, buka rumus, minta nadiem, makarim buka, nadiem",
          "<b>Topic 17</b><br>Words: nadin, yesterday with, twitter ramerame, solusi jangan, prodi ajar",
          "<b>Topic 17</b><br>Words: move on, sama jurus, gagal move, on sama, move",
          "<b>Topic 17</b><br>Words: chodidjah aku, isu bagus, amat itje, terlalu ikut, tanya bukan",
          "<b>Topic 17</b><br>Words: amburadul akhirakhir, masuk marah, marah nyata, pak masuk, akhirakhir pak",
          "<b>Topic 17</b><br>Words: istilah bang, tuduh pinjam, pinjam istilah, ambil tuduh, dapat rapor",
          "<b>Topic 17</b><br>Words: smk mendikbud, pakar sebut, bom waktu, waktu masalah, jadi bom",
          "<b>Topic 17</b><br>Words: candi malam, kalian esmelon, malam kelas, eksekusi eh, rapi siap",
          "<b>Topic 17</b><br>Words: lihat sepolwan, keluar maret, yaudah kelarin, abdi lewat, bwc deh",
          "<b>Topic 17</b><br>Words: marahmarah dulu, nih eitssss, hah ruu, biaya waduh, waduh bagaimana",
          "<b>Topic 17</b><br>Words: marah baru, akt alas, dadak tri, lewat ibuibu, calistung syarat",
          "<b>Topic 17</b><br>Words: anies inklusif, sense enggak, settle bagus, mesti jabat, kayak tri",
          "<b>Topic 17</b><br>Words: abai, monggo klaim, abai alokasi, tepat hadehh, abai tepat",
          "<b>Topic 17</b><br>Words: ganjarmahfud tak, kamu mutakhir, bas passion, mahfud thebest, masuk sulit",
          "<b>Topic 17</b><br>Words: gedek sama, debat yes, demo keluar, duluuuu, nya salah"
         ],
         "marker": {
          "color": "#F0E442"
         },
         "mode": "lines",
         "name": "17_nadiem_nadiem kembang_tri_mendikbud n...",
         "type": "scatter",
         "x": [
          "2019-10-30T09:18:43.029000+00:00",
          "2020-01-31T05:59:35.277777+00:00",
          "2020-05-01T11:16:02.555555+00:00",
          "2020-07-31T16:32:29.833333+00:00",
          "2020-10-30T21:48:57.111111+00:00",
          "2021-01-30T03:05:24.388888+00:00",
          "2021-05-01T08:21:51.666666+00:00",
          "2021-07-31T13:38:18.944444+00:00",
          "2021-10-30T18:54:46.222222+00:00",
          "2022-01-30T00:11:13.500000+00:00",
          "2022-05-01T05:27:40.777777+00:00",
          "2022-07-31T10:44:08.055555+00:00",
          "2023-01-29T21:17:02.611111+00:00",
          "2023-05-01T02:33:29.888888+00:00",
          "2023-07-31T07:49:57.166666+00:00",
          "2023-10-30T13:06:24.444444+00:00",
          "2024-01-29T18:22:51.722222+00:00"
         ],
         "y": [
          17,
          4,
          15,
          6,
          1,
          2,
          1,
          3,
          1,
          1,
          5,
          1,
          3,
          6,
          2,
          4,
          6
         ]
        },
        {
         "hoverinfo": "text",
         "hovertext": [
          "<b>Topic 18</b><br>Words: inflasi, biaya umrah, umrah tingkat, jenak naik, bayang jenak",
          "<b>Topic 18</b><br>Words: inflasi, sumbang inflasi, sumbang, tinggi sumbang, inflasi periode",
          "<b>Topic 18</b><br>Words: inflasi, focus bayang, ekonomi inflasi, hmmmm memang, beat focus",
          "<b>Topic 18</b><br>Words: inflasi, sama inflasi, inflasi biaya, gamikir naik, woyyyyyy swasta",
          "<b>Topic 18</b><br>Words: banget inflasi, nyata inflasi, tinggi tiap, iya banget, inflasi tinggi",
          "<b>Topic 18</b><br>Words: inflasi, hitung inflasi, item, inflasi biaya, hitung",
          "<b>Topic 18</b><br>Words: year, iii besar, rachman prediksi, ekonom bank, inflasi musim",
          "<b>Topic 18</b><br>Words: inflasi, beban tengah, biaya kerek, alami masyarakat, sekarang tips",
          "<b>Topic 18</b><br>Words: inflasi, keri just, fyi nyata, harga segitu, belah dulu",
          "<b>Topic 18</b><br>Words: selanjutnyaa kontroling, inflasi pertama, lipat total, kontroling biaya, kontroling",
          "<b>Topic 18</b><br>Words: inflasi, inflasi biaya, anjir anjir, anjir, alami inflasi",
          "<b>Topic 18</b><br>Words: inflasi, tempuh terus, langkah orang, terus penuh, kata bokap",
          "<b>Topic 18</b><br>Words: cara siap, begini cara, inflasi begini, sebab inflasi, anak inflasi",
          "<b>Topic 18</b><br>Words: offset, govt boptn, reguler kagak, boptn tahun, subsidi govt",
          "<b>Topic 18</b><br>Words: inflasi, dsj, sistem ukt, inflasi biaya, lampau laju",
          "<b>Topic 18</b><br>Words: sistem optimal, baru bangsa, sekolah golong, bapak kalo, sendiri iq",
          "<b>Topic 18</b><br>Words: sekolah koma, bagus murah, deh xnya, khawatir jaman, enggak jaman",
          "<b>Topic 18</b><br>Words: inflasi, inflasi biaya, tinggi pajak, kpr tahun, senin naik"
         ],
         "marker": {
          "color": "#D55E00"
         },
         "mode": "lines",
         "name": "18_inflasi_inflasi biaya_harga properti_...",
         "type": "scatter",
         "x": [
          "2019-10-30T09:18:43.029000+00:00",
          "2020-01-31T05:59:35.277777+00:00",
          "2020-05-01T11:16:02.555555+00:00",
          "2020-07-31T16:32:29.833333+00:00",
          "2020-10-30T21:48:57.111111+00:00",
          "2021-01-30T03:05:24.388888+00:00",
          "2021-05-01T08:21:51.666666+00:00",
          "2021-07-31T13:38:18.944444+00:00",
          "2021-10-30T18:54:46.222222+00:00",
          "2022-01-30T00:11:13.500000+00:00",
          "2022-05-01T05:27:40.777777+00:00",
          "2022-07-31T10:44:08.055555+00:00",
          "2022-10-30T16:00:35.333333+00:00",
          "2023-01-29T21:17:02.611111+00:00",
          "2023-05-01T02:33:29.888888+00:00",
          "2023-07-31T07:49:57.166666+00:00",
          "2023-10-30T13:06:24.444444+00:00",
          "2024-01-29T18:22:51.722222+00:00"
         ],
         "y": [
          8,
          4,
          5,
          5,
          2,
          4,
          1,
          7,
          2,
          2,
          9,
          3,
          2,
          2,
          6,
          1,
          1,
          10
         ]
        },
        {
         "hoverinfo": "text",
         "hovertext": [
          "<b>Topic 19</b><br>Words: kambing gratis, susu kambing, prabowo tak, beri susu, kambing",
          "<b>Topic 19</b><br>Words: chiki, gratis chiki, chiki snack, net potato, potato barbecue",
          "<b>Topic 19</b><br>Words: mending pasti, tuju rencana, gratis mending, bonus mampu, gratis bonus",
          "<b>Topic 19</b><br>Words: gratis blt, blt, program makan, ganti program, makan gratis",
          "<b>Topic 19</b><br>Words: makan siang, siang gratis, siang, makan, makan gratis"
         ],
         "marker": {
          "color": "#0072B2"
         },
         "mode": "lines",
         "name": "19_makan siang_siang gratis_siang_makan",
         "type": "scatter",
         "x": [
          "2022-10-30T16:00:35.333333+00:00",
          "2023-05-01T02:33:29.888888+00:00",
          "2023-07-31T07:49:57.166666+00:00",
          "2023-10-30T13:06:24.444444+00:00",
          "2024-01-29T18:22:51.722222+00:00"
         ],
         "y": [
          1,
          1,
          2,
          19,
          50
         ]
        }
       ],
       "layout": {
        "height": 450,
        "hoverlabel": {
         "bgcolor": "white",
         "font": {
          "family": "Rockwell",
          "size": 16
         }
        },
        "legend": {
         "title": {
          "text": "<b>Global Topic Representation"
         }
        },
        "template": {
         "data": {
          "bar": [
           {
            "error_x": {
             "color": "rgb(36,36,36)"
            },
            "error_y": {
             "color": "rgb(36,36,36)"
            },
            "marker": {
             "line": {
              "color": "white",
              "width": 0.5
             },
             "pattern": {
              "fillmode": "overlay",
              "size": 10,
              "solidity": 0.2
             }
            },
            "type": "bar"
           }
          ],
          "barpolar": [
           {
            "marker": {
             "line": {
              "color": "white",
              "width": 0.5
             },
             "pattern": {
              "fillmode": "overlay",
              "size": 10,
              "solidity": 0.2
             }
            },
            "type": "barpolar"
           }
          ],
          "carpet": [
           {
            "aaxis": {
             "endlinecolor": "rgb(36,36,36)",
             "gridcolor": "white",
             "linecolor": "white",
             "minorgridcolor": "white",
             "startlinecolor": "rgb(36,36,36)"
            },
            "baxis": {
             "endlinecolor": "rgb(36,36,36)",
             "gridcolor": "white",
             "linecolor": "white",
             "minorgridcolor": "white",
             "startlinecolor": "rgb(36,36,36)"
            },
            "type": "carpet"
           }
          ],
          "choropleth": [
           {
            "colorbar": {
             "outlinewidth": 1,
             "tickcolor": "rgb(36,36,36)",
             "ticks": "outside"
            },
            "type": "choropleth"
           }
          ],
          "contour": [
           {
            "colorbar": {
             "outlinewidth": 1,
             "tickcolor": "rgb(36,36,36)",
             "ticks": "outside"
            },
            "colorscale": [
             [
              0,
              "#440154"
             ],
             [
              0.1111111111111111,
              "#482878"
             ],
             [
              0.2222222222222222,
              "#3e4989"
             ],
             [
              0.3333333333333333,
              "#31688e"
             ],
             [
              0.4444444444444444,
              "#26828e"
             ],
             [
              0.5555555555555556,
              "#1f9e89"
             ],
             [
              0.6666666666666666,
              "#35b779"
             ],
             [
              0.7777777777777778,
              "#6ece58"
             ],
             [
              0.8888888888888888,
              "#b5de2b"
             ],
             [
              1,
              "#fde725"
             ]
            ],
            "type": "contour"
           }
          ],
          "contourcarpet": [
           {
            "colorbar": {
             "outlinewidth": 1,
             "tickcolor": "rgb(36,36,36)",
             "ticks": "outside"
            },
            "type": "contourcarpet"
           }
          ],
          "heatmap": [
           {
            "colorbar": {
             "outlinewidth": 1,
             "tickcolor": "rgb(36,36,36)",
             "ticks": "outside"
            },
            "colorscale": [
             [
              0,
              "#440154"
             ],
             [
              0.1111111111111111,
              "#482878"
             ],
             [
              0.2222222222222222,
              "#3e4989"
             ],
             [
              0.3333333333333333,
              "#31688e"
             ],
             [
              0.4444444444444444,
              "#26828e"
             ],
             [
              0.5555555555555556,
              "#1f9e89"
             ],
             [
              0.6666666666666666,
              "#35b779"
             ],
             [
              0.7777777777777778,
              "#6ece58"
             ],
             [
              0.8888888888888888,
              "#b5de2b"
             ],
             [
              1,
              "#fde725"
             ]
            ],
            "type": "heatmap"
           }
          ],
          "heatmapgl": [
           {
            "colorbar": {
             "outlinewidth": 1,
             "tickcolor": "rgb(36,36,36)",
             "ticks": "outside"
            },
            "colorscale": [
             [
              0,
              "#440154"
             ],
             [
              0.1111111111111111,
              "#482878"
             ],
             [
              0.2222222222222222,
              "#3e4989"
             ],
             [
              0.3333333333333333,
              "#31688e"
             ],
             [
              0.4444444444444444,
              "#26828e"
             ],
             [
              0.5555555555555556,
              "#1f9e89"
             ],
             [
              0.6666666666666666,
              "#35b779"
             ],
             [
              0.7777777777777778,
              "#6ece58"
             ],
             [
              0.8888888888888888,
              "#b5de2b"
             ],
             [
              1,
              "#fde725"
             ]
            ],
            "type": "heatmapgl"
           }
          ],
          "histogram": [
           {
            "marker": {
             "line": {
              "color": "white",
              "width": 0.6
             }
            },
            "type": "histogram"
           }
          ],
          "histogram2d": [
           {
            "colorbar": {
             "outlinewidth": 1,
             "tickcolor": "rgb(36,36,36)",
             "ticks": "outside"
            },
            "colorscale": [
             [
              0,
              "#440154"
             ],
             [
              0.1111111111111111,
              "#482878"
             ],
             [
              0.2222222222222222,
              "#3e4989"
             ],
             [
              0.3333333333333333,
              "#31688e"
             ],
             [
              0.4444444444444444,
              "#26828e"
             ],
             [
              0.5555555555555556,
              "#1f9e89"
             ],
             [
              0.6666666666666666,
              "#35b779"
             ],
             [
              0.7777777777777778,
              "#6ece58"
             ],
             [
              0.8888888888888888,
              "#b5de2b"
             ],
             [
              1,
              "#fde725"
             ]
            ],
            "type": "histogram2d"
           }
          ],
          "histogram2dcontour": [
           {
            "colorbar": {
             "outlinewidth": 1,
             "tickcolor": "rgb(36,36,36)",
             "ticks": "outside"
            },
            "colorscale": [
             [
              0,
              "#440154"
             ],
             [
              0.1111111111111111,
              "#482878"
             ],
             [
              0.2222222222222222,
              "#3e4989"
             ],
             [
              0.3333333333333333,
              "#31688e"
             ],
             [
              0.4444444444444444,
              "#26828e"
             ],
             [
              0.5555555555555556,
              "#1f9e89"
             ],
             [
              0.6666666666666666,
              "#35b779"
             ],
             [
              0.7777777777777778,
              "#6ece58"
             ],
             [
              0.8888888888888888,
              "#b5de2b"
             ],
             [
              1,
              "#fde725"
             ]
            ],
            "type": "histogram2dcontour"
           }
          ],
          "mesh3d": [
           {
            "colorbar": {
             "outlinewidth": 1,
             "tickcolor": "rgb(36,36,36)",
             "ticks": "outside"
            },
            "type": "mesh3d"
           }
          ],
          "parcoords": [
           {
            "line": {
             "colorbar": {
              "outlinewidth": 1,
              "tickcolor": "rgb(36,36,36)",
              "ticks": "outside"
             }
            },
            "type": "parcoords"
           }
          ],
          "pie": [
           {
            "automargin": true,
            "type": "pie"
           }
          ],
          "scatter": [
           {
            "fillpattern": {
             "fillmode": "overlay",
             "size": 10,
             "solidity": 0.2
            },
            "type": "scatter"
           }
          ],
          "scatter3d": [
           {
            "line": {
             "colorbar": {
              "outlinewidth": 1,
              "tickcolor": "rgb(36,36,36)",
              "ticks": "outside"
             }
            },
            "marker": {
             "colorbar": {
              "outlinewidth": 1,
              "tickcolor": "rgb(36,36,36)",
              "ticks": "outside"
             }
            },
            "type": "scatter3d"
           }
          ],
          "scattercarpet": [
           {
            "marker": {
             "colorbar": {
              "outlinewidth": 1,
              "tickcolor": "rgb(36,36,36)",
              "ticks": "outside"
             }
            },
            "type": "scattercarpet"
           }
          ],
          "scattergeo": [
           {
            "marker": {
             "colorbar": {
              "outlinewidth": 1,
              "tickcolor": "rgb(36,36,36)",
              "ticks": "outside"
             }
            },
            "type": "scattergeo"
           }
          ],
          "scattergl": [
           {
            "marker": {
             "colorbar": {
              "outlinewidth": 1,
              "tickcolor": "rgb(36,36,36)",
              "ticks": "outside"
             }
            },
            "type": "scattergl"
           }
          ],
          "scattermapbox": [
           {
            "marker": {
             "colorbar": {
              "outlinewidth": 1,
              "tickcolor": "rgb(36,36,36)",
              "ticks": "outside"
             }
            },
            "type": "scattermapbox"
           }
          ],
          "scatterpolar": [
           {
            "marker": {
             "colorbar": {
              "outlinewidth": 1,
              "tickcolor": "rgb(36,36,36)",
              "ticks": "outside"
             }
            },
            "type": "scatterpolar"
           }
          ],
          "scatterpolargl": [
           {
            "marker": {
             "colorbar": {
              "outlinewidth": 1,
              "tickcolor": "rgb(36,36,36)",
              "ticks": "outside"
             }
            },
            "type": "scatterpolargl"
           }
          ],
          "scatterternary": [
           {
            "marker": {
             "colorbar": {
              "outlinewidth": 1,
              "tickcolor": "rgb(36,36,36)",
              "ticks": "outside"
             }
            },
            "type": "scatterternary"
           }
          ],
          "surface": [
           {
            "colorbar": {
             "outlinewidth": 1,
             "tickcolor": "rgb(36,36,36)",
             "ticks": "outside"
            },
            "colorscale": [
             [
              0,
              "#440154"
             ],
             [
              0.1111111111111111,
              "#482878"
             ],
             [
              0.2222222222222222,
              "#3e4989"
             ],
             [
              0.3333333333333333,
              "#31688e"
             ],
             [
              0.4444444444444444,
              "#26828e"
             ],
             [
              0.5555555555555556,
              "#1f9e89"
             ],
             [
              0.6666666666666666,
              "#35b779"
             ],
             [
              0.7777777777777778,
              "#6ece58"
             ],
             [
              0.8888888888888888,
              "#b5de2b"
             ],
             [
              1,
              "#fde725"
             ]
            ],
            "type": "surface"
           }
          ],
          "table": [
           {
            "cells": {
             "fill": {
              "color": "rgb(237,237,237)"
             },
             "line": {
              "color": "white"
             }
            },
            "header": {
             "fill": {
              "color": "rgb(217,217,217)"
             },
             "line": {
              "color": "white"
             }
            },
            "type": "table"
           }
          ]
         },
         "layout": {
          "annotationdefaults": {
           "arrowhead": 0,
           "arrowwidth": 1
          },
          "autotypenumbers": "strict",
          "coloraxis": {
           "colorbar": {
            "outlinewidth": 1,
            "tickcolor": "rgb(36,36,36)",
            "ticks": "outside"
           }
          },
          "colorscale": {
           "diverging": [
            [
             0,
             "rgb(103,0,31)"
            ],
            [
             0.1,
             "rgb(178,24,43)"
            ],
            [
             0.2,
             "rgb(214,96,77)"
            ],
            [
             0.3,
             "rgb(244,165,130)"
            ],
            [
             0.4,
             "rgb(253,219,199)"
            ],
            [
             0.5,
             "rgb(247,247,247)"
            ],
            [
             0.6,
             "rgb(209,229,240)"
            ],
            [
             0.7,
             "rgb(146,197,222)"
            ],
            [
             0.8,
             "rgb(67,147,195)"
            ],
            [
             0.9,
             "rgb(33,102,172)"
            ],
            [
             1,
             "rgb(5,48,97)"
            ]
           ],
           "sequential": [
            [
             0,
             "#440154"
            ],
            [
             0.1111111111111111,
             "#482878"
            ],
            [
             0.2222222222222222,
             "#3e4989"
            ],
            [
             0.3333333333333333,
             "#31688e"
            ],
            [
             0.4444444444444444,
             "#26828e"
            ],
            [
             0.5555555555555556,
             "#1f9e89"
            ],
            [
             0.6666666666666666,
             "#35b779"
            ],
            [
             0.7777777777777778,
             "#6ece58"
            ],
            [
             0.8888888888888888,
             "#b5de2b"
            ],
            [
             1,
             "#fde725"
            ]
           ],
           "sequentialminus": [
            [
             0,
             "#440154"
            ],
            [
             0.1111111111111111,
             "#482878"
            ],
            [
             0.2222222222222222,
             "#3e4989"
            ],
            [
             0.3333333333333333,
             "#31688e"
            ],
            [
             0.4444444444444444,
             "#26828e"
            ],
            [
             0.5555555555555556,
             "#1f9e89"
            ],
            [
             0.6666666666666666,
             "#35b779"
            ],
            [
             0.7777777777777778,
             "#6ece58"
            ],
            [
             0.8888888888888888,
             "#b5de2b"
            ],
            [
             1,
             "#fde725"
            ]
           ]
          },
          "colorway": [
           "#1F77B4",
           "#FF7F0E",
           "#2CA02C",
           "#D62728",
           "#9467BD",
           "#8C564B",
           "#E377C2",
           "#7F7F7F",
           "#BCBD22",
           "#17BECF"
          ],
          "font": {
           "color": "rgb(36,36,36)"
          },
          "geo": {
           "bgcolor": "white",
           "lakecolor": "white",
           "landcolor": "white",
           "showlakes": true,
           "showland": true,
           "subunitcolor": "white"
          },
          "hoverlabel": {
           "align": "left"
          },
          "hovermode": "closest",
          "mapbox": {
           "style": "light"
          },
          "paper_bgcolor": "white",
          "plot_bgcolor": "white",
          "polar": {
           "angularaxis": {
            "gridcolor": "rgb(232,232,232)",
            "linecolor": "rgb(36,36,36)",
            "showgrid": false,
            "showline": true,
            "ticks": "outside"
           },
           "bgcolor": "white",
           "radialaxis": {
            "gridcolor": "rgb(232,232,232)",
            "linecolor": "rgb(36,36,36)",
            "showgrid": false,
            "showline": true,
            "ticks": "outside"
           }
          },
          "scene": {
           "xaxis": {
            "backgroundcolor": "white",
            "gridcolor": "rgb(232,232,232)",
            "gridwidth": 2,
            "linecolor": "rgb(36,36,36)",
            "showbackground": true,
            "showgrid": false,
            "showline": true,
            "ticks": "outside",
            "zeroline": false,
            "zerolinecolor": "rgb(36,36,36)"
           },
           "yaxis": {
            "backgroundcolor": "white",
            "gridcolor": "rgb(232,232,232)",
            "gridwidth": 2,
            "linecolor": "rgb(36,36,36)",
            "showbackground": true,
            "showgrid": false,
            "showline": true,
            "ticks": "outside",
            "zeroline": false,
            "zerolinecolor": "rgb(36,36,36)"
           },
           "zaxis": {
            "backgroundcolor": "white",
            "gridcolor": "rgb(232,232,232)",
            "gridwidth": 2,
            "linecolor": "rgb(36,36,36)",
            "showbackground": true,
            "showgrid": false,
            "showline": true,
            "ticks": "outside",
            "zeroline": false,
            "zerolinecolor": "rgb(36,36,36)"
           }
          },
          "shapedefaults": {
           "fillcolor": "black",
           "line": {
            "width": 0
           },
           "opacity": 0.3
          },
          "ternary": {
           "aaxis": {
            "gridcolor": "rgb(232,232,232)",
            "linecolor": "rgb(36,36,36)",
            "showgrid": false,
            "showline": true,
            "ticks": "outside"
           },
           "baxis": {
            "gridcolor": "rgb(232,232,232)",
            "linecolor": "rgb(36,36,36)",
            "showgrid": false,
            "showline": true,
            "ticks": "outside"
           },
           "bgcolor": "white",
           "caxis": {
            "gridcolor": "rgb(232,232,232)",
            "linecolor": "rgb(36,36,36)",
            "showgrid": false,
            "showline": true,
            "ticks": "outside"
           }
          },
          "title": {
           "x": 0.05
          },
          "xaxis": {
           "automargin": true,
           "gridcolor": "rgb(232,232,232)",
           "linecolor": "rgb(36,36,36)",
           "showgrid": false,
           "showline": true,
           "ticks": "outside",
           "title": {
            "standoff": 15
           },
           "zeroline": false,
           "zerolinecolor": "rgb(36,36,36)"
          },
          "yaxis": {
           "automargin": true,
           "gridcolor": "rgb(232,232,232)",
           "linecolor": "rgb(36,36,36)",
           "showgrid": false,
           "showline": true,
           "ticks": "outside",
           "title": {
            "standoff": 15
           },
           "zeroline": false,
           "zerolinecolor": "rgb(36,36,36)"
          }
         }
        },
        "title": {
         "font": {
          "color": "Black",
          "size": 22
         },
         "text": "<b>Topics over Time</b>",
         "x": 0.4,
         "xanchor": "center",
         "y": 0.95,
         "yanchor": "top"
        },
        "width": 1250,
        "xaxis": {
         "showgrid": true
        },
        "yaxis": {
         "showgrid": true,
         "title": {
          "text": "Frequency"
         }
        }
       }
      }
     },
     "metadata": {},
     "output_type": "display_data"
    }
   ],
   "source": [
    "fig = results['model'].visualize_topics_over_time(results['topics_over_time'], top_n_topics=20)\n",
    "# fig.update_layout(title_text=f\"Topics Over Time for {period}\")\n",
    "fig.show()"
   ]
  },
  {
   "cell_type": "code",
   "execution_count": 21,
   "metadata": {},
   "outputs": [
    {
     "data": {
      "text/plain": [
       "{-1: ['cover nasional pinjam dana tunai modal usaha biaya renovasi rumah biaya  anak gadai bpkb mobil minimal tahun take over proses cepat mudah tuju leasing company go publik ayo guys dm wa langsung',\n",
       "  'cover nasional tiap daerah kantor cabang pinjam dana tunai modal usaha biaya  anak biaya renovasi rumah dana talang jamin bpkb mobil minimal tahun take over kalau mobil kredit ayo guys butuh pinjam dm',\n",
       "  'cover nasional pinjam dana tunai modal usaha biaya renovasi rumah biaya  anak gadai bpkb mobil minimal tahun take over proses cepat mudah tuju leasing company go publik ayo guys dm wa langsung'],\n",
       " 0: ['baik datang pustaka umum biaya sekolah karcis bis sekal lima sen hari baca buku bekas kau perlu tahu bagaimana mula kau tahu cara pergi pustaka umum',\n",
       "  'baik datang pustaka umum biaya sekolah karcis bis sekal lima sen hari baca buku bekas kau perlu tahu bagaimana mula kau tahu cara pergi pustaka umum',\n",
       "  'baik datang pustaka umum biaya sekolah karcis bis sekal lima sen hari baca buku bekas kau perlu tahu bagaimana mula kau tahu cara pergi pustaka umum'],\n",
       " 1: ['biaya rugi hidup  lebih tinggi biaya',\n",
       "  'biaya rugi hidup  lebih tinggi biaya',\n",
       "  'biaya rugi hidup  lebih tinggi biaya'],\n",
       " 2: ['bupati sidenreng rappang h dol mando terima harga direktur jenderal  agama islam menteri agama kemenag ri atas partisipasi kontribusi kembang  positif  agama islam sekolah',\n",
       "  'sekarang society ahli sehat sebut vaksin racun sehat lgbt normal agama jadi lelucon  media isi indoktrin lembaga gov tempat cuci uang biaya hidup mahal publik kena segala jenis pajak lalu bicara begini',\n",
       "  'society ahli sehat sebut racun vaksin sehat lgbt normal agama jadi lelucon  media isi indoktrin lembaga gov tempat cuci uang biaya hidup mahal publik kena segala jenis pajak lalu bicara radikal yahudi pesek lol'],\n",
       " 3: ['laskar langit ladang amal dermawan biaya hidup  amp hafal al qur an yatim rumah yatim jkt pondok yatim kebumen pondok modern gontor tebu ireng amp jabodetabek bantu raih masa depan baik wa',\n",
       "  'laskar langit ladang amal dermawan biaya hidup  amp hafal al qur an yatim rumah yatim jkt pondok yatim kebumen pondok modern gontor tebu ireng amp jabodetabek yuk bantu raih masa depan wa',\n",
       "  'laskar langit ladang amal dermawan biaya hidup  amp hafal al qur an yatim rumah yatim jkt pondok yatim kebumen pondok modern gontor tebu ireng amp jabodetabek yuk bantu raih masa depan wa'],\n",
       " 4: ['pspp yogyakarta cara daftar amp biaya  pspp jogja',\n",
       "  'pspp yogyakarta cara daftar amp biaya  pspp jogja',\n",
       "  'pspp yogyakarta cara daftar amp biaya  pspp jogja'],\n",
       " 5: ['kemdikbudri surat edar nomor tahun laksana   masa darurat sebar corona virus disease covid dapat empat',\n",
       "  'surat edar nomor tahun laksana   masa darurat sebar corona virus disease covid dapat empat  perlu',\n",
       "  'surat edar nomor tahun laksana   masa darurat sebar corona virus disease covid dapat empat  perlu'],\n",
       " 6: ['buntut kasus leceh seksual laku orang ustaz pesantren tahfidz minta menteri pppa dorong menteri agama laku kuat  cegah lingkung satu  bas agama',\n",
       "  'buntut kasus leceh seksual laku orang ustaz pesantren tahfidz minta menteri pppa dorong menteri agama laku kuat  cegah lingkung satu  bas agama',\n",
       "  'buntut kasus leceh seksual laku orang ustaz pesantren tahfidz minta menteri pppa dorong menteri agama laku kuat  cegah lingkung satu  bas agama'],\n",
       " 7: ['bahasa inggris uad bakal kasih ringan biaya amp discount mahasiswa amp calon mahasiswa',\n",
       "  'bahasa inggris uad bakal kasih ringan biaya amp discount mahasiswa amp calon mahasiswa',\n",
       "  'bahasa inggris uad bakal kasih ringan biaya amp discount mahasiswa amp calon mahasiswa'],\n",
       " 8: ['hari denger un mau hapus bagaimana kalian manut sih wkwk aku enggak un kalo hapus  baru kan moga biasa terap terus kalo sistem  ganti terus kasihan laku',\n",
       "  'ribut kau undang bwc deh tinggal lihat  sepolwan gimana kalo memang kasih ijin buat ikut bagus kalo enggak yaudah kelarin dulu  baru abdi lewat jalur prestasi enggak lama kok enggak taun',\n",
       "  'enggak tau  laku seakanakan mengsugesti skip  skip ibadah jamaah skip hari raya skip hari merdeka th begini tum partai logo kepala tanduk merah terang an ucap abad hari jadi pkc amazing'],\n",
       " 9: ['biaya franchise  bimbel usia sd sumur batu kabupaten bogor hubung',\n",
       "  'biaya franchise  bimbel usia tak muara jaya kabupaten bogor telp',\n",
       "  'biaya franchise  bimbel usia sd sukawangi kabupaten bogor telepon'],\n",
       " 10: ['halo sahabat magistra utama magistra utama beri potong biaya  cukup besar nih biaya  rp kini cukup rp manfaat sempat info lebih lanjut wa website',\n",
       "  'halo sahabat magistra utama magistra utama beri potong biaya  cukup besar nih biaya  rp kini cukup rp manfaat sempat info lebih lanjut wa website',\n",
       "  'halo sahabat magistra utama magistra utama beri potong biaya  cukup besar nih biaya  rp kini cukup rp manfaat sempat info lebih lanjut wa website'],\n",
       " 11: ['kadang kalau deep talk sama ayah suka mau menang kalau soal  ayah gua pengin banget kalau gua kuliah memang kakak enggak kuliah bukan biaya kakak gua enggak kuliah enak kerja jadi malas kuliah',\n",
       "  'sumpah gua pengin banget kuliah biayain sama orang tua lulus tugas gua cuma ajar gua enggak kayak gua cari biaya sendiri urus sendiri bahkan gua izin samsek susah banget padahal pengin lanjut  kok',\n",
       "  'padahal kalau sama gua rumah punya mobil gua kerja  gua tinggi gua enggak punya tanggung jadi lu enggak usah pusing urus biaya gua lu cuma sama gua anjerrrr sial memang apa paling gua ingin enggak beli'],\n",
       " 12: ['hai hari ppsdm menteri atrbpn bekerjasama pusat  latih ada barangjasa lembaga  ada barangjasa perintah lkpp ada uji sertifikasi ada barangjasa tingkat dasar level angkat i tahun',\n",
       "  'hai hari ppsdm menteri atrbpn bekerjasama pusat  latih ada barangjasa lembaga  ada barangjasa perintah lkpp ada uji sertifikasi ada barangjasa tingkat dasar level angkat i tahun',\n",
       "  'hai hari ppsdm menteri atrbpn bekerjasama pusat  latih ada barangjasa lembaga  ada barangjasa perintah lkpp ada uji sertifikasi ada barangjasa tingkat dasar level angkat iv tahun']}"
      ]
     },
     "execution_count": 21,
     "metadata": {},
     "output_type": "execute_result"
    }
   ],
   "source": [
    "topic_model.get_representative_docs()"
   ]
  },
  {
   "cell_type": "code",
   "execution_count": 6,
   "metadata": {},
   "outputs": [
    {
     "ename": "NameError",
     "evalue": "name 'topic_model' is not defined",
     "output_type": "error",
     "traceback": [
      "\u001b[1;31m---------------------------------------------------------------------------\u001b[0m",
      "\u001b[1;31mNameError\u001b[0m                                 Traceback (most recent call last)",
      "Cell \u001b[1;32mIn[6], line 1\u001b[0m\n\u001b[1;32m----> 1\u001b[0m \u001b[43mtopic_model\u001b[49m\u001b[38;5;241m.\u001b[39mget_topics()\n",
      "\u001b[1;31mNameError\u001b[0m: name 'topic_model' is not defined"
     ]
    }
   ],
   "source": [
    "topic_model.get_topics("
   ]
  }
 ],
 "metadata": {
  "kernelspec": {
   "display_name": "rhafael",
   "language": "python",
   "name": "python3"
  },
  "language_info": {
   "codemirror_mode": {
    "name": "ipython",
    "version": 3
   },
   "file_extension": ".py",
   "mimetype": "text/x-python",
   "name": "python",
   "nbconvert_exporter": "python",
   "pygments_lexer": "ipython3",
   "version": "3.10.14"
  }
 },
 "nbformat": 4,
 "nbformat_minor": 2
}
