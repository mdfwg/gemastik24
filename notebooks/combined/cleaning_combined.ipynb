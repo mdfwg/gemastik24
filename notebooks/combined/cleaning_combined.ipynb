{
 "cells": [
  {
   "cell_type": "markdown",
   "metadata": {},
   "source": [
    "# Libraries"
   ]
  },
  {
   "cell_type": "code",
   "execution_count": 1,
   "metadata": {},
   "outputs": [],
   "source": [
    "import pandas as pd"
   ]
  },
  {
   "cell_type": "markdown",
   "metadata": {},
   "source": [
    "# Load Data"
   ]
  },
  {
   "cell_type": "code",
   "execution_count": 3,
   "metadata": {},
   "outputs": [],
   "source": [
    "df_km = pd.read_csv('../../src/cleaned_km.csv')\n",
    "df_kp = pd.read_csv('../../src/cleaned_kp.csv')\n",
    "df_mb = pd.read_csv('../../src/cleaned_mb.csv')"
   ]
  },
  {
   "cell_type": "code",
   "execution_count": 4,
   "metadata": {},
   "outputs": [
    {
     "name": "stdout",
     "output_type": "stream",
     "text": [
      "16\n",
      "16\n",
      "16\n"
     ]
    }
   ],
   "source": [
    "print(len(df_km.columns))\n",
    "print(len(df_kp.columns))\n",
    "print(len(df_mb.columns))"
   ]
  },
  {
   "cell_type": "markdown",
   "metadata": {},
   "source": [
    "# Join"
   ]
  },
  {
   "cell_type": "code",
   "execution_count": 5,
   "metadata": {},
   "outputs": [
    {
     "name": "stdout",
     "output_type": "stream",
     "text": [
      "(65324, 15)\n"
     ]
    }
   ],
   "source": [
    "df_combined = pd.concat([df_km, df_kp, df_mb]).reset_index(drop=True)\n",
    "# drop unnamed column\n",
    "df_combined = df_combined.loc[:, ~df_combined.columns.str.contains('^Unnamed')]\n",
    "df_combined.drop_duplicates(inplace=True)\n",
    "print(df_combined.shape)\n",
    "df_combined.to_csv('../../src/cleaned_combined.csv', index=False)"
   ]
  },
  {
   "cell_type": "code",
   "execution_count": null,
   "metadata": {},
   "outputs": [],
   "source": []
  }
 ],
 "metadata": {
  "kernelspec": {
   "display_name": "Python 3",
   "language": "python",
   "name": "python3"
  },
  "language_info": {
   "codemirror_mode": {
    "name": "ipython",
    "version": 3
   },
   "file_extension": ".py",
   "mimetype": "text/x-python",
   "name": "python",
   "nbconvert_exporter": "python",
   "pygments_lexer": "ipython3",
   "version": "3.11.6"
  }
 },
 "nbformat": 4,
 "nbformat_minor": 2
}
