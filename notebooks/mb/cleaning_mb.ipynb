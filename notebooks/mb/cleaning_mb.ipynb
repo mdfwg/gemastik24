{
 "cells": [
  {
   "cell_type": "markdown",
   "metadata": {},
   "source": [
    "# Merge Data"
   ]
  },
  {
   "cell_type": "code",
   "execution_count": 2,
   "metadata": {},
   "outputs": [],
   "source": [
    "import pandas as pd\n",
    "import warnings\n",
    "warnings.filterwarnings(\"ignore\")\n",
    "import re"
   ]
  },
  {
   "cell_type": "code",
   "execution_count": 3,
   "metadata": {},
   "outputs": [
    {
     "data": {
      "text/plain": [
       "'1.5.3'"
      ]
     },
     "execution_count": 3,
     "metadata": {},
     "output_type": "execute_result"
    }
   ],
   "source": [
    "pd.__version__"
   ]
  },
  {
   "cell_type": "code",
   "execution_count": 5,
   "metadata": {},
   "outputs": [],
   "source": [
    "import os\n",
    "\n",
    "directory = 'D:\\Dafa\\Jupyter\\gemasyik\\data_merdeka_belajar'\n",
    "\n",
    "df = pd.DataFrame()\n",
    "\n",
    "for filename in os.scandir(directory):\n",
    "    if filename.is_file():\n",
    "        temp = pd.read_csv(filename.path)\n",
    "        df = df.append(temp, ignore_index=True)"
   ]
  },
  {
   "cell_type": "code",
   "execution_count": 23,
   "metadata": {},
   "outputs": [
    {
     "data": {
      "text/plain": [
       "<Axes: >"
      ]
     },
     "execution_count": 23,
     "metadata": {},
     "output_type": "execute_result"
    },
    {
     "data": {
      "image/png": "[encoded data removed]",
      "text/plain": [
       "<Figure size 640x480 with 1 Axes>"
      ]
     },
     "metadata": {},
     "output_type": "display_data"
    }
   ],
   "source": [
    "# visualize how much data with created_at as timestamps\n",
    "df['created_at'].hist(bins=100)"
   ]
  },
  {
   "cell_type": "code",
   "execution_count": 6,
   "metadata": {},
   "outputs": [
    {
     "data": {
      "text/html": [
       "<div>\n",
       "<style scoped>\n",
       "    .dataframe tbody tr th:only-of-type {\n",
       "        vertical-align: middle;\n",
       "    }\n",
       "\n",
       "    .dataframe tbody tr th {\n",
       "        vertical-align: top;\n",
       "    }\n",
       "\n",
       "    .dataframe thead th {\n",
       "        text-align: right;\n",
       "    }\n",
       "</style>\n",
       "<table border=\"1\" class=\"dataframe\">\n",
       "  <thead>\n",
       "    <tr style=\"text-align: right;\">\n",
       "      <th></th>\n",
       "      <th>conversation_id_str</th>\n",
       "      <th>created_at</th>\n",
       "      <th>favorite_count</th>\n",
       "      <th>full_text</th>\n",
       "      <th>id_str</th>\n",
       "      <th>image_url</th>\n",
       "      <th>in_reply_to_screen_name</th>\n",
       "      <th>lang</th>\n",
       "      <th>location</th>\n",
       "      <th>quote_count</th>\n",
       "      <th>reply_count</th>\n",
       "      <th>retweet_count</th>\n",
       "      <th>tweet_url</th>\n",
       "      <th>user_id_str</th>\n",
       "      <th>username</th>\n",
       "    </tr>\n",
       "  </thead>\n",
       "  <tbody>\n",
       "    <tr>\n",
       "      <th>0</th>\n",
       "      <td>1200379450938085376</td>\n",
       "      <td>Fri Nov 29 11:42:17 +0000 2019</td>\n",
       "      <td>0</td>\n",
       "      <td>Siapa yang berasal dari daerah berikut? Bandun...</td>\n",
       "      <td>1200379450938085376</td>\n",
       "      <td>NaN</td>\n",
       "      <td>NaN</td>\n",
       "      <td>in</td>\n",
       "      <td>Serpong</td>\n",
       "      <td>0</td>\n",
       "      <td>0</td>\n",
       "      <td>1</td>\n",
       "      <td>https://twitter.com/KampusGuruCikal/status/120...</td>\n",
       "      <td>2804980657</td>\n",
       "      <td>KampusGuruCikal</td>\n",
       "    </tr>\n",
       "    <tr>\n",
       "      <th>1</th>\n",
       "      <td>1200339635320188928</td>\n",
       "      <td>Fri Nov 29 09:04:04 +0000 2019</td>\n",
       "      <td>1</td>\n",
       "      <td>Merdeka Belajar https://t.co/YCE8HyOXBh</td>\n",
       "      <td>1200339635320188928</td>\n",
       "      <td>NaN</td>\n",
       "      <td>NaN</td>\n",
       "      <td>in</td>\n",
       "      <td>Indonesia</td>\n",
       "      <td>0</td>\n",
       "      <td>0</td>\n",
       "      <td>2</td>\n",
       "      <td>https://twitter.com/kompasiana/status/12003396...</td>\n",
       "      <td>23786106</td>\n",
       "      <td>kompasiana</td>\n",
       "    </tr>\n",
       "    <tr>\n",
       "      <th>2</th>\n",
       "      <td>1200295713290113024</td>\n",
       "      <td>Fri Nov 29 06:09:33 +0000 2019</td>\n",
       "      <td>5</td>\n",
       "      <td>Guys...guys...guys please ajak aq jalan2x. Aq ...</td>\n",
       "      <td>1200295713290113024</td>\n",
       "      <td>NaN</td>\n",
       "      <td>NaN</td>\n",
       "      <td>in</td>\n",
       "      <td>close enough</td>\n",
       "      <td>0</td>\n",
       "      <td>0</td>\n",
       "      <td>1</td>\n",
       "      <td>https://twitter.com/hannanzdn/status/120029571...</td>\n",
       "      <td>1006556164266516480</td>\n",
       "      <td>hannanzdn</td>\n",
       "    </tr>\n",
       "    <tr>\n",
       "      <th>3</th>\n",
       "      <td>1200292966847246336</td>\n",
       "      <td>Fri Nov 29 05:58:38 +0000 2019</td>\n",
       "      <td>0</td>\n",
       "      <td>Mungkin yg dimaksud konsep merdeka belajar ada...</td>\n",
       "      <td>1200292966847246336</td>\n",
       "      <td>NaN</td>\n",
       "      <td>NaN</td>\n",
       "      <td>in</td>\n",
       "      <td>NaN</td>\n",
       "      <td>0</td>\n",
       "      <td>1</td>\n",
       "      <td>0</td>\n",
       "      <td>https://twitter.com/smiertx/status/12002929668...</td>\n",
       "      <td>91778886</td>\n",
       "      <td>smiertx</td>\n",
       "    </tr>\n",
       "    <tr>\n",
       "      <th>4</th>\n",
       "      <td>1200270358869204992</td>\n",
       "      <td>Fri Nov 29 04:28:48 +0000 2019</td>\n",
       "      <td>9</td>\n",
       "      <td>Tahun 2020 Sekolah Gratis Tetap Berjalan Sumba...</td>\n",
       "      <td>1200270358869204992</td>\n",
       "      <td>https://pbs.twimg.com/media/EKg3hbuVUAAIUqG.png</td>\n",
       "      <td>NaN</td>\n",
       "      <td>in</td>\n",
       "      <td>Palembang</td>\n",
       "      <td>0</td>\n",
       "      <td>0</td>\n",
       "      <td>6</td>\n",
       "      <td>https://twitter.com/Detiksumsel_/status/120027...</td>\n",
       "      <td>84621673</td>\n",
       "      <td>Detiksumsel_</td>\n",
       "    </tr>\n",
       "    <tr>\n",
       "      <th>...</th>\n",
       "      <td>...</td>\n",
       "      <td>...</td>\n",
       "      <td>...</td>\n",
       "      <td>...</td>\n",
       "      <td>...</td>\n",
       "      <td>...</td>\n",
       "      <td>...</td>\n",
       "      <td>...</td>\n",
       "      <td>...</td>\n",
       "      <td>...</td>\n",
       "      <td>...</td>\n",
       "      <td>...</td>\n",
       "      <td>...</td>\n",
       "      <td>...</td>\n",
       "      <td>...</td>\n",
       "    </tr>\n",
       "    <tr>\n",
       "      <th>34593</th>\n",
       "      <td>1774660062667297256</td>\n",
       "      <td>Mon Apr 01 04:48:25 +0000 2024</td>\n",
       "      <td>0</td>\n",
       "      <td>Benar benar panutan.. sekarang gw berproses ba...</td>\n",
       "      <td>1774660062667297256</td>\n",
       "      <td>NaN</td>\n",
       "      <td>NaN</td>\n",
       "      <td>in</td>\n",
       "      <td>East Java, Indonesia</td>\n",
       "      <td>0</td>\n",
       "      <td>0</td>\n",
       "      <td>0</td>\n",
       "      <td>https://twitter.com/TrustMe3Buddy/status/17746...</td>\n",
       "      <td>1082587296304553984</td>\n",
       "      <td>TrustMe3Buddy</td>\n",
       "    </tr>\n",
       "    <tr>\n",
       "      <th>34594</th>\n",
       "      <td>1774639286459244789</td>\n",
       "      <td>Mon Apr 01 03:25:51 +0000 2024</td>\n",
       "      <td>0</td>\n",
       "      <td>#WhatsOnUnas #UnasNews Jakarta (UNAS) Universi...</td>\n",
       "      <td>1774639286459244789</td>\n",
       "      <td>NaN</td>\n",
       "      <td>NaN</td>\n",
       "      <td>in</td>\n",
       "      <td>Jakarta, Indonesia</td>\n",
       "      <td>0</td>\n",
       "      <td>0</td>\n",
       "      <td>0</td>\n",
       "      <td>https://twitter.com/UNAS1949/status/1774639286...</td>\n",
       "      <td>56605444</td>\n",
       "      <td>UNAS1949</td>\n",
       "    </tr>\n",
       "    <tr>\n",
       "      <th>34595</th>\n",
       "      <td>1774635680515465256</td>\n",
       "      <td>Mon Apr 01 03:11:32 +0000 2024</td>\n",
       "      <td>0</td>\n",
       "      <td>Ide Nadiem mas menteri soal Kampus/Belajar Mer...</td>\n",
       "      <td>1774635680515465256</td>\n",
       "      <td>NaN</td>\n",
       "      <td>NaN</td>\n",
       "      <td>in</td>\n",
       "      <td>Jakarta, Indonesia</td>\n",
       "      <td>0</td>\n",
       "      <td>0</td>\n",
       "      <td>0</td>\n",
       "      <td>https://twitter.com/indrayanto/status/17746356...</td>\n",
       "      <td>39698859</td>\n",
       "      <td>indrayanto</td>\n",
       "    </tr>\n",
       "    <tr>\n",
       "      <th>34596</th>\n",
       "      <td>1774626511745867816</td>\n",
       "      <td>Mon Apr 01 02:35:06 +0000 2024</td>\n",
       "      <td>20</td>\n",
       "      <td>Ekskul Pramuka Gak Lagi Wajib ? Sensasi @nadie...</td>\n",
       "      <td>1774626511745867816</td>\n",
       "      <td>https://pbs.twimg.com/media/GKC9aHPasAAzM_8.jpg</td>\n",
       "      <td>NaN</td>\n",
       "      <td>in</td>\n",
       "      <td>NaN</td>\n",
       "      <td>0</td>\n",
       "      <td>6</td>\n",
       "      <td>6</td>\n",
       "      <td>https://twitter.com/Penyair_Berdiri/status/177...</td>\n",
       "      <td>1240137086331748352</td>\n",
       "      <td>Penyair_Berdiri</td>\n",
       "    </tr>\n",
       "    <tr>\n",
       "      <th>34597</th>\n",
       "      <td>1774620492370153723</td>\n",
       "      <td>Mon Apr 01 02:11:10 +0000 2024</td>\n",
       "      <td>1</td>\n",
       "      <td>Sekolah Rimba: Penerapan Merdeka Belajar di Te...</td>\n",
       "      <td>1774620492370153723</td>\n",
       "      <td>NaN</td>\n",
       "      <td>NaN</td>\n",
       "      <td>in</td>\n",
       "      <td>Indonesia</td>\n",
       "      <td>0</td>\n",
       "      <td>0</td>\n",
       "      <td>0</td>\n",
       "      <td>https://twitter.com/kompasiana/status/17746204...</td>\n",
       "      <td>23786106</td>\n",
       "      <td>kompasiana</td>\n",
       "    </tr>\n",
       "  </tbody>\n",
       "</table>\n",
       "<p>34598 rows × 15 columns</p>\n",
       "</div>"
      ],
      "text/plain": [
       "       conversation_id_str                      created_at  favorite_count  \\\n",
       "0      1200379450938085376  Fri Nov 29 11:42:17 +0000 2019               0   \n",
       "1      1200339635320188928  Fri Nov 29 09:04:04 +0000 2019               1   \n",
       "2      1200295713290113024  Fri Nov 29 06:09:33 +0000 2019               5   \n",
       "3      1200292966847246336  Fri Nov 29 05:58:38 +0000 2019               0   \n",
       "4      1200270358869204992  Fri Nov 29 04:28:48 +0000 2019               9   \n",
       "...                    ...                             ...             ...   \n",
       "34593  1774660062667297256  Mon Apr 01 04:48:25 +0000 2024               0   \n",
       "34594  1774639286459244789  Mon Apr 01 03:25:51 +0000 2024               0   \n",
       "34595  1774635680515465256  Mon Apr 01 03:11:32 +0000 2024               0   \n",
       "34596  1774626511745867816  Mon Apr 01 02:35:06 +0000 2024              20   \n",
       "34597  1774620492370153723  Mon Apr 01 02:11:10 +0000 2024               1   \n",
       "\n",
       "                                               full_text               id_str  \\\n",
       "0      Siapa yang berasal dari daerah berikut? Bandun...  1200379450938085376   \n",
       "1                Merdeka Belajar https://t.co/YCE8HyOXBh  1200339635320188928   \n",
       "2      Guys...guys...guys please ajak aq jalan2x. Aq ...  1200295713290113024   \n",
       "3      Mungkin yg dimaksud konsep merdeka belajar ada...  1200292966847246336   \n",
       "4      Tahun 2020 Sekolah Gratis Tetap Berjalan Sumba...  1200270358869204992   \n",
       "...                                                  ...                  ...   \n",
       "34593  Benar benar panutan.. sekarang gw berproses ba...  1774660062667297256   \n",
       "34594  #WhatsOnUnas #UnasNews Jakarta (UNAS) Universi...  1774639286459244789   \n",
       "34595  Ide Nadiem mas menteri soal Kampus/Belajar Mer...  1774635680515465256   \n",
       "34596  Ekskul Pramuka Gak Lagi Wajib ? Sensasi @nadie...  1774626511745867816   \n",
       "34597  Sekolah Rimba: Penerapan Merdeka Belajar di Te...  1774620492370153723   \n",
       "\n",
       "                                             image_url  \\\n",
       "0                                                  NaN   \n",
       "1                                                  NaN   \n",
       "2                                                  NaN   \n",
       "3                                                  NaN   \n",
       "4      https://pbs.twimg.com/media/EKg3hbuVUAAIUqG.png   \n",
       "...                                                ...   \n",
       "34593                                              NaN   \n",
       "34594                                              NaN   \n",
       "34595                                              NaN   \n",
       "34596  https://pbs.twimg.com/media/GKC9aHPasAAzM_8.jpg   \n",
       "34597                                              NaN   \n",
       "\n",
       "       in_reply_to_screen_name lang              location  quote_count  \\\n",
       "0                          NaN   in               Serpong            0   \n",
       "1                          NaN   in             Indonesia            0   \n",
       "2                          NaN   in          close enough            0   \n",
       "3                          NaN   in                   NaN            0   \n",
       "4                          NaN   in             Palembang            0   \n",
       "...                        ...  ...                   ...          ...   \n",
       "34593                      NaN   in  East Java, Indonesia            0   \n",
       "34594                      NaN   in    Jakarta, Indonesia            0   \n",
       "34595                      NaN   in    Jakarta, Indonesia            0   \n",
       "34596                      NaN   in                   NaN            0   \n",
       "34597                      NaN   in             Indonesia            0   \n",
       "\n",
       "       reply_count  retweet_count  \\\n",
       "0                0              1   \n",
       "1                0              2   \n",
       "2                0              1   \n",
       "3                1              0   \n",
       "4                0              6   \n",
       "...            ...            ...   \n",
       "34593            0              0   \n",
       "34594            0              0   \n",
       "34595            0              0   \n",
       "34596            6              6   \n",
       "34597            0              0   \n",
       "\n",
       "                                               tweet_url          user_id_str  \\\n",
       "0      https://twitter.com/KampusGuruCikal/status/120...           2804980657   \n",
       "1      https://twitter.com/kompasiana/status/12003396...             23786106   \n",
       "2      https://twitter.com/hannanzdn/status/120029571...  1006556164266516480   \n",
       "3      https://twitter.com/smiertx/status/12002929668...             91778886   \n",
       "4      https://twitter.com/Detiksumsel_/status/120027...             84621673   \n",
       "...                                                  ...                  ...   \n",
       "34593  https://twitter.com/TrustMe3Buddy/status/17746...  1082587296304553984   \n",
       "34594  https://twitter.com/UNAS1949/status/1774639286...             56605444   \n",
       "34595  https://twitter.com/indrayanto/status/17746356...             39698859   \n",
       "34596  https://twitter.com/Penyair_Berdiri/status/177...  1240137086331748352   \n",
       "34597  https://twitter.com/kompasiana/status/17746204...             23786106   \n",
       "\n",
       "              username  \n",
       "0      KampusGuruCikal  \n",
       "1           kompasiana  \n",
       "2            hannanzdn  \n",
       "3              smiertx  \n",
       "4         Detiksumsel_  \n",
       "...                ...  \n",
       "34593    TrustMe3Buddy  \n",
       "34594         UNAS1949  \n",
       "34595       indrayanto  \n",
       "34596  Penyair_Berdiri  \n",
       "34597       kompasiana  \n",
       "\n",
       "[34598 rows x 15 columns]"
      ]
     },
     "execution_count": 6,
     "metadata": {},
     "output_type": "execute_result"
    }
   ],
   "source": [
    "df"
   ]
  },
  {
   "cell_type": "code",
   "execution_count": 7,
   "metadata": {},
   "outputs": [],
   "source": [
    "df['created_at'] = pd.to_datetime(df['created_at'], errors='coerce')\n",
    "df.sort_values(by='created_at', inplace=True)\n",
    "df.reset_index(drop=True, inplace=True)\n",
    "df.dropna(subset=['created_at'], inplace=True)"
   ]
  },
  {
   "cell_type": "code",
   "execution_count": 10,
   "metadata": {},
   "outputs": [],
   "source": [
    "df.dropna(subset=['full_text'], inplace=True)"
   ]
  },
  {
   "cell_type": "code",
   "execution_count": 11,
   "metadata": {},
   "outputs": [
    {
     "data": {
      "text/plain": [
       "34598"
      ]
     },
     "execution_count": 11,
     "metadata": {},
     "output_type": "execute_result"
    }
   ],
   "source": [
    "len(df)"
   ]
  },
  {
   "cell_type": "markdown",
   "metadata": {},
   "source": [
    "# Clean Data"
   ]
  },
  {
   "cell_type": "markdown",
   "metadata": {},
   "source": [
    "### Slang dan Abreviasi"
   ]
  },
  {
   "cell_type": "code",
   "execution_count": 13,
   "metadata": {},
   "outputs": [],
   "source": [
    "kamus_slang=pd.read_csv('D:\\Dafa\\Jupyter\\gemasyik\\src\\kamus_slang.csv')\n",
    "kamus_slang=kamus_slang.rename(columns = {'slang' : 'kamus_slang' , 'formal' : 'kamus_perbaikan'})\n",
    "slang_mapping = dict(zip(kamus_slang['kamus_slang'], kamus_slang['kamus_perbaikan']))\n",
    "\n",
    "kamus_singkatan = pd.read_csv('D:\\Dafa\\Jupyter\\gemasyik\\src\\kamus_singkatan.csv', header=None, names=['sebelum_perbaikan', 'setelah_perbaikan'],delimiter=';')\n",
    "singkatan_mapping=dict(zip(kamus_singkatan['sebelum_perbaikan'],kamus_singkatan['setelah_perbaikan']))"
   ]
  },
  {
   "cell_type": "markdown",
   "metadata": {},
   "source": [
    "### Stopword, emoji, dan Stemmer Factory"
   ]
  },
  {
   "cell_type": "code",
   "execution_count": 17,
   "metadata": {},
   "outputs": [],
   "source": [
    "from Sastrawi.Stemmer.StemmerFactory import StemmerFactory\n",
    "from Sastrawi.StopWordRemover.StopWordRemoverFactory import  StopWordRemoverFactory\n",
    "import emoji\n",
    "from spacy.lang.id import Indonesian\n",
    "import string"
   ]
  },
  {
   "cell_type": "code",
   "execution_count": 18,
   "metadata": {},
   "outputs": [],
   "source": [
    "stopword_factory = StopWordRemoverFactory()\n",
    "stopwords = stopword_factory.get_stop_words()\n",
    "# List of words with negation meaning\n",
    "data = emoji.EMOJI_DATA\n",
    "\n",
    "# Remove negation words from stopwords\n",
    "# stopwords = set(stopwords).difference(excluded_stopwords)\n",
    "nlp = Indonesian()\n",
    "factory = StemmerFactory()\n",
    "stemmer = factory.create_stemmer()"
   ]
  },
  {
   "cell_type": "code",
   "execution_count": 19,
   "metadata": {},
   "outputs": [],
   "source": [
    "from Sastrawi.StopWordRemover.StopWordRemoverFactory import  StopWordRemoverFactory\n",
    "stopword_factory = StopWordRemoverFactory()\n",
    "stopwords = stopword_factory.get_stop_words()\n",
    "# stopwords"
   ]
  },
  {
   "cell_type": "code",
   "execution_count": 20,
   "metadata": {},
   "outputs": [],
   "source": [
    "def replace_emoji_with_space(text, emoji_data, language='id'):\n",
    "    for emoji, translations in emoji_data.items():\n",
    "        if language in translations:\n",
    "            text = text.replace(emoji, '')\n",
    "    return text"
   ]
  },
  {
   "cell_type": "code",
   "execution_count": 21,
   "metadata": {},
   "outputs": [],
   "source": [
    "def process_tweet(tweet) :\n",
    "  tweet=tweet.lower()\n",
    "  # link\n",
    "  tweet = re.sub('((www\\.[^\\s]+)|(https?://[^\\s]+))','',tweet)\n",
    "\n",
    "  # spesifik\n",
    "  # tweet = re.sub(r'\\[username\\]|\\[url\\]|\\[askmf\\]|\\[sensitive-no\\]|\\[satu menit kemudian\\]|\\[seo in ha, love rain\\]|\\[bb\\]|\\[c48\\]|\\[idm\\]', '', tweet)\n",
    "\n",
    "  # emoji\n",
    "  tweet=replace_emoji_with_space(tweet,data)\n",
    "  # tweet=tweet.replace(\":\",' ').replace('_','mask').replace('-','rus').strip()\n",
    "  # tweet=re.sub(' +', ' ', tweet)\n",
    "\n",
    "  # username\n",
    "  tweet = re.sub('@[^\\s]+','',tweet)\n",
    "\n",
    "  # hashtag\n",
    "  tweet = re.sub(r'#([^\\s]+)', '', tweet)\n",
    "\n",
    "  # tokenisasi\n",
    "  tokens = tweet.split()\n",
    "\n",
    "  tweet_tokens = []\n",
    "  for ele in tokens:\n",
    "    ele_kamus = kamus_singkatan.get(ele, ele)\n",
    "    ele_slang = slang_mapping.get(ele_kamus, ele_kamus)\n",
    "    tweet_tokens.append(ele_slang)\n",
    "\n",
    "  tweet = ' '.join(tweet_tokens)\n",
    "  tweet = re.sub('[\\s]+', ' ', tweet)\n",
    "    #Replace #word with word\n",
    "  tweet = re.sub(r'#([^\\s]+)', '', tweet)\n",
    "  tweet=re.sub(r'\\d+', '', tweet)\n",
    "  tweet = tweet.strip('\\'\"')\n",
    "  tweet = tweet.lstrip('\\'\"')\n",
    "\n",
    "  tweet = \"\".join([char for char in tweet if char not in string.punctuation])\n",
    "\n",
    "  doc = nlp(tweet)\n",
    "\n",
    "  tokens = [token.text for token in doc]\n",
    "      # Hapus stopwords dari tokens\n",
    "  filtered_tokens = [token for token in tokens if token.lower() not in stopwords]\n",
    "  tweet = ' '.join(filtered_tokens)\n",
    "\n",
    "  tweet=stemmer.stem(tweet)\n",
    "  # tweet=tweet.replace('mask',' ').replace('rus','-')\n",
    "\n",
    "  # hapus kata bijak dan didik\n",
    "  tweet = re.sub(r'\\b(?:bijak|didik)\\b', '', tweet)\n",
    "\n",
    "  # hapus spasi berlebih di awal dan akhir\n",
    "  tweet = tweet.strip()\n",
    "\n",
    "  return tweet"
   ]
  },
  {
   "cell_type": "code",
   "execution_count": 27,
   "metadata": {},
   "outputs": [
    {
     "data": {
      "text/plain": [
       "'kbm tl ambengan admin mau share beberapa dokumentasi giat ajar ajar tl ambengan sore tadi anak merdeka tl ambengan ajar seni warna cerita'"
      ]
     },
     "execution_count": 27,
     "metadata": {},
     "output_type": "execute_result"
    }
   ],
   "source": [
    "process_tweet(df['full_text'][3])"
   ]
  },
  {
   "cell_type": "code",
   "execution_count": 28,
   "metadata": {},
   "outputs": [
    {
     "data": {
      "text/html": [
       "<div>\n",
       "<style scoped>\n",
       "    .dataframe tbody tr th:only-of-type {\n",
       "        vertical-align: middle;\n",
       "    }\n",
       "\n",
       "    .dataframe tbody tr th {\n",
       "        vertical-align: top;\n",
       "    }\n",
       "\n",
       "    .dataframe thead th {\n",
       "        text-align: right;\n",
       "    }\n",
       "</style>\n",
       "<table border=\"1\" class=\"dataframe\">\n",
       "  <thead>\n",
       "    <tr style=\"text-align: right;\">\n",
       "      <th></th>\n",
       "      <th>conversation_id_str</th>\n",
       "      <th>created_at</th>\n",
       "      <th>favorite_count</th>\n",
       "      <th>full_text</th>\n",
       "      <th>id_str</th>\n",
       "      <th>image_url</th>\n",
       "      <th>in_reply_to_screen_name</th>\n",
       "      <th>lang</th>\n",
       "      <th>location</th>\n",
       "      <th>quote_count</th>\n",
       "      <th>reply_count</th>\n",
       "      <th>retweet_count</th>\n",
       "      <th>tweet_url</th>\n",
       "      <th>user_id_str</th>\n",
       "      <th>username</th>\n",
       "    </tr>\n",
       "  </thead>\n",
       "  <tbody>\n",
       "    <tr>\n",
       "      <th>0</th>\n",
       "      <td>1190099100865159168</td>\n",
       "      <td>2019-11-01 02:51:51+00:00</td>\n",
       "      <td>0</td>\n",
       "      <td>Mari bekerja belajar dan bersenang senang deng...</td>\n",
       "      <td>1190099100865159168</td>\n",
       "      <td>https://pbs.twimg.com/media/EIQUxW_W4AA_Fzf.jpg</td>\n",
       "      <td>NaN</td>\n",
       "      <td>in</td>\n",
       "      <td>Jakarta</td>\n",
       "      <td>0</td>\n",
       "      <td>1</td>\n",
       "      <td>0</td>\n",
       "      <td>https://twitter.com/zia_rezia/status/119009910...</td>\n",
       "      <td>367453819</td>\n",
       "      <td>zia_rezia</td>\n",
       "    </tr>\n",
       "    <tr>\n",
       "      <th>1</th>\n",
       "      <td>1190485486348881920</td>\n",
       "      <td>2019-11-02 04:27:12+00:00</td>\n",
       "      <td>1</td>\n",
       "      <td>Di TPN guru-guru merdeka belajar. Semoga tahun...</td>\n",
       "      <td>1190485486348881920</td>\n",
       "      <td>NaN</td>\n",
       "      <td>NaN</td>\n",
       "      <td>in</td>\n",
       "      <td>indonesia</td>\n",
       "      <td>0</td>\n",
       "      <td>0</td>\n",
       "      <td>0</td>\n",
       "      <td>https://twitter.com/Lily_calla84/status/119048...</td>\n",
       "      <td>385774339</td>\n",
       "      <td>Lily_calla84</td>\n",
       "    </tr>\n",
       "    <tr>\n",
       "      <th>2</th>\n",
       "      <td>1190943314008104967</td>\n",
       "      <td>2019-11-03 10:46:27+00:00</td>\n",
       "      <td>2</td>\n",
       "      <td>[KBM AMBENGAN BATU] Mimin mau share beberapa d...</td>\n",
       "      <td>1190943314008104967</td>\n",
       "      <td>https://pbs.twimg.com/media/EIcUbjXWoAI3pAy.jpg</td>\n",
       "      <td>NaN</td>\n",
       "      <td>in</td>\n",
       "      <td>Surabaya</td>\n",
       "      <td>0</td>\n",
       "      <td>0</td>\n",
       "      <td>0</td>\n",
       "      <td>https://twitter.com/SSChildSurabaya/status/119...</td>\n",
       "      <td>311483005</td>\n",
       "      <td>SSChildSurabaya</td>\n",
       "    </tr>\n",
       "    <tr>\n",
       "      <th>3</th>\n",
       "      <td>1190944259316142080</td>\n",
       "      <td>2019-11-03 10:50:12+00:00</td>\n",
       "      <td>1</td>\n",
       "      <td>[KBM TL AMBENGAN] Mimin mau share beberapa dok...</td>\n",
       "      <td>1190944259316142080</td>\n",
       "      <td>https://pbs.twimg.com/media/EIcVSlQWoAEof40.jpg</td>\n",
       "      <td>NaN</td>\n",
       "      <td>in</td>\n",
       "      <td>Surabaya</td>\n",
       "      <td>0</td>\n",
       "      <td>0</td>\n",
       "      <td>0</td>\n",
       "      <td>https://twitter.com/SSChildSurabaya/status/119...</td>\n",
       "      <td>311483005</td>\n",
       "      <td>SSChildSurabaya</td>\n",
       "    </tr>\n",
       "    <tr>\n",
       "      <th>4</th>\n",
       "      <td>1191002957090717696</td>\n",
       "      <td>2019-11-03 14:43:27+00:00</td>\n",
       "      <td>10</td>\n",
       "      <td>Kt harusnya belajar loyal pada nurani dan piki...</td>\n",
       "      <td>1191002957090717696</td>\n",
       "      <td>NaN</td>\n",
       "      <td>NaN</td>\n",
       "      <td>in</td>\n",
       "      <td>Indonesia</td>\n",
       "      <td>0</td>\n",
       "      <td>1</td>\n",
       "      <td>2</td>\n",
       "      <td>https://twitter.com/rekatindonesia/status/1191...</td>\n",
       "      <td>2563567034</td>\n",
       "      <td>rekatindonesia</td>\n",
       "    </tr>\n",
       "  </tbody>\n",
       "</table>\n",
       "</div>"
      ],
      "text/plain": [
       "   conversation_id_str                created_at  favorite_count  \\\n",
       "0  1190099100865159168 2019-11-01 02:51:51+00:00               0   \n",
       "1  1190485486348881920 2019-11-02 04:27:12+00:00               1   \n",
       "2  1190943314008104967 2019-11-03 10:46:27+00:00               2   \n",
       "3  1190944259316142080 2019-11-03 10:50:12+00:00               1   \n",
       "4  1191002957090717696 2019-11-03 14:43:27+00:00              10   \n",
       "\n",
       "                                           full_text               id_str  \\\n",
       "0  Mari bekerja belajar dan bersenang senang deng...  1190099100865159168   \n",
       "1  Di TPN guru-guru merdeka belajar. Semoga tahun...  1190485486348881920   \n",
       "2  [KBM AMBENGAN BATU] Mimin mau share beberapa d...  1190943314008104967   \n",
       "3  [KBM TL AMBENGAN] Mimin mau share beberapa dok...  1190944259316142080   \n",
       "4  Kt harusnya belajar loyal pada nurani dan piki...  1191002957090717696   \n",
       "\n",
       "                                         image_url  in_reply_to_screen_name  \\\n",
       "0  https://pbs.twimg.com/media/EIQUxW_W4AA_Fzf.jpg                      NaN   \n",
       "1                                              NaN                      NaN   \n",
       "2  https://pbs.twimg.com/media/EIcUbjXWoAI3pAy.jpg                      NaN   \n",
       "3  https://pbs.twimg.com/media/EIcVSlQWoAEof40.jpg                      NaN   \n",
       "4                                              NaN                      NaN   \n",
       "\n",
       "  lang   location  quote_count  reply_count  retweet_count  \\\n",
       "0   in    Jakarta            0            1              0   \n",
       "1   in  indonesia            0            0              0   \n",
       "2   in   Surabaya            0            0              0   \n",
       "3   in   Surabaya            0            0              0   \n",
       "4   in  Indonesia            0            1              2   \n",
       "\n",
       "                                           tweet_url  user_id_str  \\\n",
       "0  https://twitter.com/zia_rezia/status/119009910...    367453819   \n",
       "1  https://twitter.com/Lily_calla84/status/119048...    385774339   \n",
       "2  https://twitter.com/SSChildSurabaya/status/119...    311483005   \n",
       "3  https://twitter.com/SSChildSurabaya/status/119...    311483005   \n",
       "4  https://twitter.com/rekatindonesia/status/1191...   2563567034   \n",
       "\n",
       "          username  \n",
       "0        zia_rezia  \n",
       "1     Lily_calla84  \n",
       "2  SSChildSurabaya  \n",
       "3  SSChildSurabaya  \n",
       "4   rekatindonesia  "
      ]
     },
     "execution_count": 28,
     "metadata": {},
     "output_type": "execute_result"
    }
   ],
   "source": [
    "df.head(5)"
   ]
  },
  {
   "cell_type": "code",
   "execution_count": 29,
   "metadata": {},
   "outputs": [
    {
     "data": {
      "text/plain": [
       "'kerja ajar senang senang penuh semangat merdeka'"
      ]
     },
     "execution_count": 29,
     "metadata": {},
     "output_type": "execute_result"
    }
   ],
   "source": [
    "process_tweet(df['full_text'][0])"
   ]
  },
  {
   "cell_type": "code",
   "execution_count": 30,
   "metadata": {},
   "outputs": [],
   "source": [
    "df['full_text'] = df['full_text'].apply(lambda x: process_tweet(str(x)))"
   ]
  },
  {
   "cell_type": "code",
   "execution_count": 31,
   "metadata": {},
   "outputs": [],
   "source": [
    "df.to_csv('cleaned_mb.csv')"
   ]
  },
  {
   "cell_type": "code",
   "execution_count": 32,
   "metadata": {},
   "outputs": [
    {
     "data": {
      "text/plain": [
       "0          kerja ajar senang senang penuh semangat merdeka\n",
       "1        tpn guruguru merdeka ajar moga tahun depan gab...\n",
       "2        kbm ambengan batu admin mau share beberapa dok...\n",
       "3        kbm tl ambengan admin mau share beberapa dokum...\n",
       "4        harus ajar loyal nurani pikir sendiri my heart...\n",
       "                               ...                        \n",
       "34593    wakatobi siap gelar konferensi internasional s...\n",
       "34594                  konsorsium baterai listrik nasional\n",
       "34595                         joki essay tema merdeka ajar\n",
       "34596            tim pkm pnup terima dana pkm vokasi tahun\n",
       "34597    juang anakanak dusun biram aceh utara tempuh m...\n",
       "Name: full_text, Length: 34598, dtype: object"
      ]
     },
     "execution_count": 32,
     "metadata": {},
     "output_type": "execute_result"
    }
   ],
   "source": [
    "(df['full_text'])"
   ]
  },
  {
   "cell_type": "code",
   "execution_count": 33,
   "metadata": {},
   "outputs": [
    {
     "data": {
      "text/plain": [
       "4227"
      ]
     },
     "execution_count": 33,
     "metadata": {},
     "output_type": "execute_result"
    }
   ],
   "source": [
    "df.duplicated(subset=['full_text']).sum()"
   ]
  },
  {
   "cell_type": "code",
   "execution_count": null,
   "metadata": {},
   "outputs": [],
   "source": []
  }
 ],
 "metadata": {
  "kernelspec": {
   "display_name": "base",
   "language": "python",
   "name": "python3"
  },
  "language_info": {
   "codemirror_mode": {
    "name": "ipython",
    "version": 3
   },
   "file_extension": ".py",
   "mimetype": "text/x-python",
   "name": "python",
   "nbconvert_exporter": "python",
   "pygments_lexer": "ipython3",
   "version": "3.12.3"
  }
 },
 "nbformat": 4,
 "nbformat_minor": 2
}
