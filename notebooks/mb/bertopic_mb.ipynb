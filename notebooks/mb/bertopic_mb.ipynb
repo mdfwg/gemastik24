{
 "cells": [
  {
   "cell_type": "markdown",
   "metadata": {},
   "source": [
    "# Libraries"
   ]
  },
  {
   "cell_type": "code",
   "execution_count": 1,
   "metadata": {},
   "outputs": [],
   "source": [
    "import pandas as pd\n",
    "import matplotlib.pyplot as plt\n",
    "import sys\n",
    "from bertopic import BERTopic\n",
    "import gensim.corpora as corpora\n",
    "from gensim.models.coherencemodel import CoherenceModel"
   ]
  },
  {
   "cell_type": "markdown",
   "metadata": {},
   "source": [
    "# Load Data"
   ]
  },
  {
   "cell_type": "code",
   "execution_count": 2,
   "metadata": {},
   "outputs": [
    {
     "data": {
      "text/html": [
       "<div>\n",
       "<style scoped>\n",
       "    .dataframe tbody tr th:only-of-type {\n",
       "        vertical-align: middle;\n",
       "    }\n",
       "\n",
       "    .dataframe tbody tr th {\n",
       "        vertical-align: top;\n",
       "    }\n",
       "\n",
       "    .dataframe thead th {\n",
       "        text-align: right;\n",
       "    }\n",
       "</style>\n",
       "<table border=\"1\" class=\"dataframe\">\n",
       "  <thead>\n",
       "    <tr style=\"text-align: right;\">\n",
       "      <th></th>\n",
       "      <th>created_at</th>\n",
       "      <th>full_text</th>\n",
       "    </tr>\n",
       "  </thead>\n",
       "  <tbody>\n",
       "    <tr>\n",
       "      <th>0</th>\n",
       "      <td>2019-11-01 02:51:51+00:00</td>\n",
       "      <td>kerja ajar senang senang penuh semangat merdeka</td>\n",
       "    </tr>\n",
       "    <tr>\n",
       "      <th>1</th>\n",
       "      <td>2019-11-02 04:27:12+00:00</td>\n",
       "      <td>tpn guruguru merdeka ajar moga tahun depan gab...</td>\n",
       "    </tr>\n",
       "    <tr>\n",
       "      <th>2</th>\n",
       "      <td>2019-11-03 10:46:27+00:00</td>\n",
       "      <td>kbm ambengan batu admin mau share beberapa dok...</td>\n",
       "    </tr>\n",
       "    <tr>\n",
       "      <th>3</th>\n",
       "      <td>2019-11-03 10:50:12+00:00</td>\n",
       "      <td>kbm tl ambengan admin mau share beberapa dokum...</td>\n",
       "    </tr>\n",
       "    <tr>\n",
       "      <th>4</th>\n",
       "      <td>2019-11-03 14:43:27+00:00</td>\n",
       "      <td>harus ajar loyal nurani pikir sendiri my heart...</td>\n",
       "    </tr>\n",
       "    <tr>\n",
       "      <th>...</th>\n",
       "      <td>...</td>\n",
       "      <td>...</td>\n",
       "    </tr>\n",
       "    <tr>\n",
       "      <th>34593</th>\n",
       "      <td>2024-04-29 13:43:31+00:00</td>\n",
       "      <td>wakatobi siap gelar konferensi internasional s...</td>\n",
       "    </tr>\n",
       "    <tr>\n",
       "      <th>34594</th>\n",
       "      <td>2024-04-29 14:23:23+00:00</td>\n",
       "      <td>konsorsium baterai listrik nasional</td>\n",
       "    </tr>\n",
       "    <tr>\n",
       "      <th>34595</th>\n",
       "      <td>2024-04-29 15:50:14+00:00</td>\n",
       "      <td>joki essay tema merdeka ajar</td>\n",
       "    </tr>\n",
       "    <tr>\n",
       "      <th>34596</th>\n",
       "      <td>2024-04-29 18:23:19+00:00</td>\n",
       "      <td>tim pkm pnup terima dana pkm vokasi tahun</td>\n",
       "    </tr>\n",
       "    <tr>\n",
       "      <th>34597</th>\n",
       "      <td>2024-04-29 20:22:16+00:00</td>\n",
       "      <td>juang anakanak dusun biram aceh utara tempuh m...</td>\n",
       "    </tr>\n",
       "  </tbody>\n",
       "</table>\n",
       "<p>34587 rows × 2 columns</p>\n",
       "</div>"
      ],
      "text/plain": [
       "                     created_at  \\\n",
       "0     2019-11-01 02:51:51+00:00   \n",
       "1     2019-11-02 04:27:12+00:00   \n",
       "2     2019-11-03 10:46:27+00:00   \n",
       "3     2019-11-03 10:50:12+00:00   \n",
       "4     2019-11-03 14:43:27+00:00   \n",
       "...                         ...   \n",
       "34593 2024-04-29 13:43:31+00:00   \n",
       "34594 2024-04-29 14:23:23+00:00   \n",
       "34595 2024-04-29 15:50:14+00:00   \n",
       "34596 2024-04-29 18:23:19+00:00   \n",
       "34597 2024-04-29 20:22:16+00:00   \n",
       "\n",
       "                                               full_text  \n",
       "0        kerja ajar senang senang penuh semangat merdeka  \n",
       "1      tpn guruguru merdeka ajar moga tahun depan gab...  \n",
       "2      kbm ambengan batu admin mau share beberapa dok...  \n",
       "3      kbm tl ambengan admin mau share beberapa dokum...  \n",
       "4      harus ajar loyal nurani pikir sendiri my heart...  \n",
       "...                                                  ...  \n",
       "34593  wakatobi siap gelar konferensi internasional s...  \n",
       "34594                konsorsium baterai listrik nasional  \n",
       "34595                       joki essay tema merdeka ajar  \n",
       "34596          tim pkm pnup terima dana pkm vokasi tahun  \n",
       "34597  juang anakanak dusun biram aceh utara tempuh m...  \n",
       "\n",
       "[34587 rows x 2 columns]"
      ]
     },
     "execution_count": 2,
     "metadata": {},
     "output_type": "execute_result"
    }
   ],
   "source": [
    "tweet = pd.read_csv('../../src/cleaned_mb.csv')\n",
    "tweet = tweet.dropna(subset=['full_text'])\n",
    "tweet = tweet[['created_at', 'full_text']]\n",
    "tweet['created_at'] = pd.to_datetime(tweet['created_at'])\n",
    "tweet"
   ]
  },
  {
   "cell_type": "markdown",
   "metadata": {},
   "source": [
    "# Preprocess"
   ]
  },
  {
   "cell_type": "code",
   "execution_count": 3,
   "metadata": {},
   "outputs": [],
   "source": [
    "tweet_quarter = tweet.copy()\n",
    "\n",
    "tweet_quarter['quarter'] = tweet_quarter['created_at'].dt.to_period('Q')\n",
    "\n",
    "tweet_quarter = tweet_quarter.groupby('quarter')"
   ]
  },
  {
   "cell_type": "markdown",
   "metadata": {},
   "source": [
    "# Modeling"
   ]
  },
  {
   "cell_type": "code",
   "execution_count": 4,
   "metadata": {},
   "outputs": [],
   "source": [
    "results = {}"
   ]
  },
  {
   "cell_type": "code",
   "execution_count": 5,
   "metadata": {},
   "outputs": [
    {
     "ename": "KeyboardInterrupt",
     "evalue": "",
     "output_type": "error",
     "traceback": [
      "\u001b[1;31m---------------------------------------------------------------------------\u001b[0m",
      "\u001b[1;31mKeyboardInterrupt\u001b[0m                         Traceback (most recent call last)",
      "File \u001b[1;32m<timed exec>:8\u001b[0m\n",
      "File \u001b[1;32mc:\\Users\\rhafaelc\\AppData\\Local\\Programs\\Python\\Python311\\Lib\\site-packages\\bertopic\\_bertopic.py:387\u001b[0m, in \u001b[0;36mBERTopic.fit_transform\u001b[1;34m(self, documents, embeddings, images, y)\u001b[0m\n\u001b[0;32m    384\u001b[0m     logger\u001b[38;5;241m.\u001b[39minfo(\u001b[38;5;124m\"\u001b[39m\u001b[38;5;124mEmbedding - Transforming documents to embeddings.\u001b[39m\u001b[38;5;124m\"\u001b[39m)\n\u001b[0;32m    385\u001b[0m     \u001b[38;5;28mself\u001b[39m\u001b[38;5;241m.\u001b[39membedding_model \u001b[38;5;241m=\u001b[39m select_backend(\u001b[38;5;28mself\u001b[39m\u001b[38;5;241m.\u001b[39membedding_model,\n\u001b[0;32m    386\u001b[0m                                           language\u001b[38;5;241m=\u001b[39m\u001b[38;5;28mself\u001b[39m\u001b[38;5;241m.\u001b[39mlanguage)\n\u001b[1;32m--> 387\u001b[0m     embeddings \u001b[38;5;241m=\u001b[39m \u001b[38;5;28;43mself\u001b[39;49m\u001b[38;5;241;43m.\u001b[39;49m\u001b[43m_extract_embeddings\u001b[49m\u001b[43m(\u001b[49m\u001b[43mdocuments\u001b[49m\u001b[38;5;241;43m.\u001b[39;49m\u001b[43mDocument\u001b[49m\u001b[38;5;241;43m.\u001b[39;49m\u001b[43mvalues\u001b[49m\u001b[38;5;241;43m.\u001b[39;49m\u001b[43mtolist\u001b[49m\u001b[43m(\u001b[49m\u001b[43m)\u001b[49m\u001b[43m,\u001b[49m\n\u001b[0;32m    388\u001b[0m \u001b[43m                                          \u001b[49m\u001b[43mimages\u001b[49m\u001b[38;5;241;43m=\u001b[39;49m\u001b[43mimages\u001b[49m\u001b[43m,\u001b[49m\n\u001b[0;32m    389\u001b[0m \u001b[43m                                          \u001b[49m\u001b[43mmethod\u001b[49m\u001b[38;5;241;43m=\u001b[39;49m\u001b[38;5;124;43m\"\u001b[39;49m\u001b[38;5;124;43mdocument\u001b[39;49m\u001b[38;5;124;43m\"\u001b[39;49m\u001b[43m,\u001b[49m\n\u001b[0;32m    390\u001b[0m \u001b[43m                                          \u001b[49m\u001b[43mverbose\u001b[49m\u001b[38;5;241;43m=\u001b[39;49m\u001b[38;5;28;43mself\u001b[39;49m\u001b[38;5;241;43m.\u001b[39;49m\u001b[43mverbose\u001b[49m\u001b[43m)\u001b[49m\n\u001b[0;32m    391\u001b[0m     logger\u001b[38;5;241m.\u001b[39minfo(\u001b[38;5;124m\"\u001b[39m\u001b[38;5;124mEmbedding - Completed \u001b[39m\u001b[38;5;130;01m\\u2713\u001b[39;00m\u001b[38;5;124m\"\u001b[39m)\n\u001b[0;32m    392\u001b[0m \u001b[38;5;28;01melse\u001b[39;00m:\n",
      "File \u001b[1;32mc:\\Users\\rhafaelc\\AppData\\Local\\Programs\\Python\\Python311\\Lib\\site-packages\\bertopic\\_bertopic.py:3410\u001b[0m, in \u001b[0;36mBERTopic._extract_embeddings\u001b[1;34m(self, documents, images, method, verbose)\u001b[0m\n\u001b[0;32m   3408\u001b[0m     embeddings \u001b[38;5;241m=\u001b[39m \u001b[38;5;28mself\u001b[39m\u001b[38;5;241m.\u001b[39membedding_model\u001b[38;5;241m.\u001b[39membed_words(words\u001b[38;5;241m=\u001b[39mdocuments, verbose\u001b[38;5;241m=\u001b[39mverbose)\n\u001b[0;32m   3409\u001b[0m \u001b[38;5;28;01melif\u001b[39;00m method \u001b[38;5;241m==\u001b[39m \u001b[38;5;124m\"\u001b[39m\u001b[38;5;124mdocument\u001b[39m\u001b[38;5;124m\"\u001b[39m:\n\u001b[1;32m-> 3410\u001b[0m     embeddings \u001b[38;5;241m=\u001b[39m \u001b[38;5;28;43mself\u001b[39;49m\u001b[38;5;241;43m.\u001b[39;49m\u001b[43membedding_model\u001b[49m\u001b[38;5;241;43m.\u001b[39;49m\u001b[43membed_documents\u001b[49m\u001b[43m(\u001b[49m\u001b[43mdocuments\u001b[49m\u001b[43m,\u001b[49m\u001b[43m \u001b[49m\u001b[43mverbose\u001b[49m\u001b[38;5;241;43m=\u001b[39;49m\u001b[43mverbose\u001b[49m\u001b[43m)\u001b[49m\n\u001b[0;32m   3411\u001b[0m \u001b[38;5;28;01melif\u001b[39;00m documents[\u001b[38;5;241m0\u001b[39m] \u001b[38;5;129;01mis\u001b[39;00m \u001b[38;5;28;01mNone\u001b[39;00m \u001b[38;5;129;01mand\u001b[39;00m images \u001b[38;5;129;01mis\u001b[39;00m \u001b[38;5;28;01mNone\u001b[39;00m:\n\u001b[0;32m   3412\u001b[0m     \u001b[38;5;28;01mraise\u001b[39;00m \u001b[38;5;167;01mValueError\u001b[39;00m(\u001b[38;5;124m\"\u001b[39m\u001b[38;5;124mMake sure to use an embedding model that can either embed documents\u001b[39m\u001b[38;5;124m\"\u001b[39m\n\u001b[0;32m   3413\u001b[0m                      \u001b[38;5;124m\"\u001b[39m\u001b[38;5;124mor images depending on which you want to embed.\u001b[39m\u001b[38;5;124m\"\u001b[39m)\n",
      "File \u001b[1;32mc:\\Users\\rhafaelc\\AppData\\Local\\Programs\\Python\\Python311\\Lib\\site-packages\\bertopic\\backend\\_base.py:69\u001b[0m, in \u001b[0;36mBaseEmbedder.embed_documents\u001b[1;34m(self, document, verbose)\u001b[0m\n\u001b[0;32m     55\u001b[0m \u001b[38;5;28;01mdef\u001b[39;00m \u001b[38;5;21membed_documents\u001b[39m(\u001b[38;5;28mself\u001b[39m,\n\u001b[0;32m     56\u001b[0m                     document: List[\u001b[38;5;28mstr\u001b[39m],\n\u001b[0;32m     57\u001b[0m                     verbose: \u001b[38;5;28mbool\u001b[39m \u001b[38;5;241m=\u001b[39m \u001b[38;5;28;01mFalse\u001b[39;00m) \u001b[38;5;241m-\u001b[39m\u001b[38;5;241m>\u001b[39m np\u001b[38;5;241m.\u001b[39mndarray:\n\u001b[0;32m     58\u001b[0m \u001b[38;5;250m    \u001b[39m\u001b[38;5;124;03m\"\"\" Embed a list of n words into an n-dimensional\u001b[39;00m\n\u001b[0;32m     59\u001b[0m \u001b[38;5;124;03m    matrix of embeddings\u001b[39;00m\n\u001b[0;32m     60\u001b[0m \n\u001b[1;32m   (...)\u001b[0m\n\u001b[0;32m     67\u001b[0m \u001b[38;5;124;03m        that each have an embeddings size of `m`\u001b[39;00m\n\u001b[0;32m     68\u001b[0m \u001b[38;5;124;03m    \"\"\"\u001b[39;00m\n\u001b[1;32m---> 69\u001b[0m     \u001b[38;5;28;01mreturn\u001b[39;00m \u001b[38;5;28;43mself\u001b[39;49m\u001b[38;5;241;43m.\u001b[39;49m\u001b[43membed\u001b[49m\u001b[43m(\u001b[49m\u001b[43mdocument\u001b[49m\u001b[43m,\u001b[49m\u001b[43m \u001b[49m\u001b[43mverbose\u001b[49m\u001b[43m)\u001b[49m\n",
      "File \u001b[1;32mc:\\Users\\rhafaelc\\AppData\\Local\\Programs\\Python\\Python311\\Lib\\site-packages\\bertopic\\backend\\_sentencetransformers.py:65\u001b[0m, in \u001b[0;36mSentenceTransformerBackend.embed\u001b[1;34m(self, documents, verbose)\u001b[0m\n\u001b[0;32m     51\u001b[0m \u001b[38;5;28;01mdef\u001b[39;00m \u001b[38;5;21membed\u001b[39m(\u001b[38;5;28mself\u001b[39m,\n\u001b[0;32m     52\u001b[0m           documents: List[\u001b[38;5;28mstr\u001b[39m],\n\u001b[0;32m     53\u001b[0m           verbose: \u001b[38;5;28mbool\u001b[39m \u001b[38;5;241m=\u001b[39m \u001b[38;5;28;01mFalse\u001b[39;00m) \u001b[38;5;241m-\u001b[39m\u001b[38;5;241m>\u001b[39m np\u001b[38;5;241m.\u001b[39mndarray:\n\u001b[0;32m     54\u001b[0m \u001b[38;5;250m    \u001b[39m\u001b[38;5;124;03m\"\"\" Embed a list of n documents/words into an n-dimensional\u001b[39;00m\n\u001b[0;32m     55\u001b[0m \u001b[38;5;124;03m    matrix of embeddings\u001b[39;00m\n\u001b[0;32m     56\u001b[0m \n\u001b[1;32m   (...)\u001b[0m\n\u001b[0;32m     63\u001b[0m \u001b[38;5;124;03m        that each have an embeddings size of `m`\u001b[39;00m\n\u001b[0;32m     64\u001b[0m \u001b[38;5;124;03m    \"\"\"\u001b[39;00m\n\u001b[1;32m---> 65\u001b[0m     embeddings \u001b[38;5;241m=\u001b[39m \u001b[38;5;28;43mself\u001b[39;49m\u001b[38;5;241;43m.\u001b[39;49m\u001b[43membedding_model\u001b[49m\u001b[38;5;241;43m.\u001b[39;49m\u001b[43mencode\u001b[49m\u001b[43m(\u001b[49m\u001b[43mdocuments\u001b[49m\u001b[43m,\u001b[49m\u001b[43m \u001b[49m\u001b[43mshow_progress_bar\u001b[49m\u001b[38;5;241;43m=\u001b[39;49m\u001b[43mverbose\u001b[49m\u001b[43m)\u001b[49m\n\u001b[0;32m     66\u001b[0m     \u001b[38;5;28;01mreturn\u001b[39;00m embeddings\n",
      "File \u001b[1;32mc:\\Users\\rhafaelc\\AppData\\Local\\Programs\\Python\\Python311\\Lib\\site-packages\\sentence_transformers\\SentenceTransformer.py:371\u001b[0m, in \u001b[0;36mSentenceTransformer.encode\u001b[1;34m(self, sentences, prompt_name, prompt, batch_size, show_progress_bar, output_value, precision, convert_to_numpy, convert_to_tensor, device, normalize_embeddings)\u001b[0m\n\u001b[0;32m    368\u001b[0m features\u001b[38;5;241m.\u001b[39mupdate(extra_features)\n\u001b[0;32m    370\u001b[0m \u001b[38;5;28;01mwith\u001b[39;00m torch\u001b[38;5;241m.\u001b[39mno_grad():\n\u001b[1;32m--> 371\u001b[0m     out_features \u001b[38;5;241m=\u001b[39m \u001b[38;5;28;43mself\u001b[39;49m\u001b[38;5;241;43m.\u001b[39;49m\u001b[43mforward\u001b[49m\u001b[43m(\u001b[49m\u001b[43mfeatures\u001b[49m\u001b[43m)\u001b[49m\n\u001b[0;32m    372\u001b[0m     out_features[\u001b[38;5;124m\"\u001b[39m\u001b[38;5;124msentence_embedding\u001b[39m\u001b[38;5;124m\"\u001b[39m] \u001b[38;5;241m=\u001b[39m truncate_embeddings(\n\u001b[0;32m    373\u001b[0m         out_features[\u001b[38;5;124m\"\u001b[39m\u001b[38;5;124msentence_embedding\u001b[39m\u001b[38;5;124m\"\u001b[39m], \u001b[38;5;28mself\u001b[39m\u001b[38;5;241m.\u001b[39mtruncate_dim\n\u001b[0;32m    374\u001b[0m     )\n\u001b[0;32m    376\u001b[0m     \u001b[38;5;28;01mif\u001b[39;00m output_value \u001b[38;5;241m==\u001b[39m \u001b[38;5;124m\"\u001b[39m\u001b[38;5;124mtoken_embeddings\u001b[39m\u001b[38;5;124m\"\u001b[39m:\n",
      "File \u001b[1;32mc:\\Users\\rhafaelc\\AppData\\Local\\Programs\\Python\\Python311\\Lib\\site-packages\\torch\\nn\\modules\\container.py:217\u001b[0m, in \u001b[0;36mSequential.forward\u001b[1;34m(self, input)\u001b[0m\n\u001b[0;32m    215\u001b[0m \u001b[38;5;28;01mdef\u001b[39;00m \u001b[38;5;21mforward\u001b[39m(\u001b[38;5;28mself\u001b[39m, \u001b[38;5;28minput\u001b[39m):\n\u001b[0;32m    216\u001b[0m     \u001b[38;5;28;01mfor\u001b[39;00m module \u001b[38;5;129;01min\u001b[39;00m \u001b[38;5;28mself\u001b[39m:\n\u001b[1;32m--> 217\u001b[0m         \u001b[38;5;28minput\u001b[39m \u001b[38;5;241m=\u001b[39m \u001b[43mmodule\u001b[49m\u001b[43m(\u001b[49m\u001b[38;5;28;43minput\u001b[39;49m\u001b[43m)\u001b[49m\n\u001b[0;32m    218\u001b[0m     \u001b[38;5;28;01mreturn\u001b[39;00m \u001b[38;5;28minput\u001b[39m\n",
      "File \u001b[1;32mc:\\Users\\rhafaelc\\AppData\\Local\\Programs\\Python\\Python311\\Lib\\site-packages\\torch\\nn\\modules\\module.py:1532\u001b[0m, in \u001b[0;36mModule._wrapped_call_impl\u001b[1;34m(self, *args, **kwargs)\u001b[0m\n\u001b[0;32m   1530\u001b[0m     \u001b[38;5;28;01mreturn\u001b[39;00m \u001b[38;5;28mself\u001b[39m\u001b[38;5;241m.\u001b[39m_compiled_call_impl(\u001b[38;5;241m*\u001b[39margs, \u001b[38;5;241m*\u001b[39m\u001b[38;5;241m*\u001b[39mkwargs)  \u001b[38;5;66;03m# type: ignore[misc]\u001b[39;00m\n\u001b[0;32m   1531\u001b[0m \u001b[38;5;28;01melse\u001b[39;00m:\n\u001b[1;32m-> 1532\u001b[0m     \u001b[38;5;28;01mreturn\u001b[39;00m \u001b[38;5;28;43mself\u001b[39;49m\u001b[38;5;241;43m.\u001b[39;49m\u001b[43m_call_impl\u001b[49m\u001b[43m(\u001b[49m\u001b[38;5;241;43m*\u001b[39;49m\u001b[43margs\u001b[49m\u001b[43m,\u001b[49m\u001b[43m \u001b[49m\u001b[38;5;241;43m*\u001b[39;49m\u001b[38;5;241;43m*\u001b[39;49m\u001b[43mkwargs\u001b[49m\u001b[43m)\u001b[49m\n",
      "File \u001b[1;32mc:\\Users\\rhafaelc\\AppData\\Local\\Programs\\Python\\Python311\\Lib\\site-packages\\torch\\nn\\modules\\module.py:1541\u001b[0m, in \u001b[0;36mModule._call_impl\u001b[1;34m(self, *args, **kwargs)\u001b[0m\n\u001b[0;32m   1536\u001b[0m \u001b[38;5;66;03m# If we don't have any hooks, we want to skip the rest of the logic in\u001b[39;00m\n\u001b[0;32m   1537\u001b[0m \u001b[38;5;66;03m# this function, and just call forward.\u001b[39;00m\n\u001b[0;32m   1538\u001b[0m \u001b[38;5;28;01mif\u001b[39;00m \u001b[38;5;129;01mnot\u001b[39;00m (\u001b[38;5;28mself\u001b[39m\u001b[38;5;241m.\u001b[39m_backward_hooks \u001b[38;5;129;01mor\u001b[39;00m \u001b[38;5;28mself\u001b[39m\u001b[38;5;241m.\u001b[39m_backward_pre_hooks \u001b[38;5;129;01mor\u001b[39;00m \u001b[38;5;28mself\u001b[39m\u001b[38;5;241m.\u001b[39m_forward_hooks \u001b[38;5;129;01mor\u001b[39;00m \u001b[38;5;28mself\u001b[39m\u001b[38;5;241m.\u001b[39m_forward_pre_hooks\n\u001b[0;32m   1539\u001b[0m         \u001b[38;5;129;01mor\u001b[39;00m _global_backward_pre_hooks \u001b[38;5;129;01mor\u001b[39;00m _global_backward_hooks\n\u001b[0;32m   1540\u001b[0m         \u001b[38;5;129;01mor\u001b[39;00m _global_forward_hooks \u001b[38;5;129;01mor\u001b[39;00m _global_forward_pre_hooks):\n\u001b[1;32m-> 1541\u001b[0m     \u001b[38;5;28;01mreturn\u001b[39;00m \u001b[43mforward_call\u001b[49m\u001b[43m(\u001b[49m\u001b[38;5;241;43m*\u001b[39;49m\u001b[43margs\u001b[49m\u001b[43m,\u001b[49m\u001b[43m \u001b[49m\u001b[38;5;241;43m*\u001b[39;49m\u001b[38;5;241;43m*\u001b[39;49m\u001b[43mkwargs\u001b[49m\u001b[43m)\u001b[49m\n\u001b[0;32m   1543\u001b[0m \u001b[38;5;28;01mtry\u001b[39;00m:\n\u001b[0;32m   1544\u001b[0m     result \u001b[38;5;241m=\u001b[39m \u001b[38;5;28;01mNone\u001b[39;00m\n",
      "File \u001b[1;32mc:\\Users\\rhafaelc\\AppData\\Local\\Programs\\Python\\Python311\\Lib\\site-packages\\sentence_transformers\\models\\Transformer.py:98\u001b[0m, in \u001b[0;36mTransformer.forward\u001b[1;34m(self, features)\u001b[0m\n\u001b[0;32m     95\u001b[0m \u001b[38;5;28;01mif\u001b[39;00m \u001b[38;5;124m\"\u001b[39m\u001b[38;5;124mtoken_type_ids\u001b[39m\u001b[38;5;124m\"\u001b[39m \u001b[38;5;129;01min\u001b[39;00m features:\n\u001b[0;32m     96\u001b[0m     trans_features[\u001b[38;5;124m\"\u001b[39m\u001b[38;5;124mtoken_type_ids\u001b[39m\u001b[38;5;124m\"\u001b[39m] \u001b[38;5;241m=\u001b[39m features[\u001b[38;5;124m\"\u001b[39m\u001b[38;5;124mtoken_type_ids\u001b[39m\u001b[38;5;124m\"\u001b[39m]\n\u001b[1;32m---> 98\u001b[0m output_states \u001b[38;5;241m=\u001b[39m \u001b[38;5;28;43mself\u001b[39;49m\u001b[38;5;241;43m.\u001b[39;49m\u001b[43mauto_model\u001b[49m\u001b[43m(\u001b[49m\u001b[38;5;241;43m*\u001b[39;49m\u001b[38;5;241;43m*\u001b[39;49m\u001b[43mtrans_features\u001b[49m\u001b[43m,\u001b[49m\u001b[43m \u001b[49m\u001b[43mreturn_dict\u001b[49m\u001b[38;5;241;43m=\u001b[39;49m\u001b[38;5;28;43;01mFalse\u001b[39;49;00m\u001b[43m)\u001b[49m\n\u001b[0;32m     99\u001b[0m output_tokens \u001b[38;5;241m=\u001b[39m output_states[\u001b[38;5;241m0\u001b[39m]\n\u001b[0;32m    101\u001b[0m features\u001b[38;5;241m.\u001b[39mupdate({\u001b[38;5;124m\"\u001b[39m\u001b[38;5;124mtoken_embeddings\u001b[39m\u001b[38;5;124m\"\u001b[39m: output_tokens, \u001b[38;5;124m\"\u001b[39m\u001b[38;5;124mattention_mask\u001b[39m\u001b[38;5;124m\"\u001b[39m: features[\u001b[38;5;124m\"\u001b[39m\u001b[38;5;124mattention_mask\u001b[39m\u001b[38;5;124m\"\u001b[39m]})\n",
      "File \u001b[1;32mc:\\Users\\rhafaelc\\AppData\\Local\\Programs\\Python\\Python311\\Lib\\site-packages\\torch\\nn\\modules\\module.py:1532\u001b[0m, in \u001b[0;36mModule._wrapped_call_impl\u001b[1;34m(self, *args, **kwargs)\u001b[0m\n\u001b[0;32m   1530\u001b[0m     \u001b[38;5;28;01mreturn\u001b[39;00m \u001b[38;5;28mself\u001b[39m\u001b[38;5;241m.\u001b[39m_compiled_call_impl(\u001b[38;5;241m*\u001b[39margs, \u001b[38;5;241m*\u001b[39m\u001b[38;5;241m*\u001b[39mkwargs)  \u001b[38;5;66;03m# type: ignore[misc]\u001b[39;00m\n\u001b[0;32m   1531\u001b[0m \u001b[38;5;28;01melse\u001b[39;00m:\n\u001b[1;32m-> 1532\u001b[0m     \u001b[38;5;28;01mreturn\u001b[39;00m \u001b[38;5;28;43mself\u001b[39;49m\u001b[38;5;241;43m.\u001b[39;49m\u001b[43m_call_impl\u001b[49m\u001b[43m(\u001b[49m\u001b[38;5;241;43m*\u001b[39;49m\u001b[43margs\u001b[49m\u001b[43m,\u001b[49m\u001b[43m \u001b[49m\u001b[38;5;241;43m*\u001b[39;49m\u001b[38;5;241;43m*\u001b[39;49m\u001b[43mkwargs\u001b[49m\u001b[43m)\u001b[49m\n",
      "File \u001b[1;32mc:\\Users\\rhafaelc\\AppData\\Local\\Programs\\Python\\Python311\\Lib\\site-packages\\torch\\nn\\modules\\module.py:1541\u001b[0m, in \u001b[0;36mModule._call_impl\u001b[1;34m(self, *args, **kwargs)\u001b[0m\n\u001b[0;32m   1536\u001b[0m \u001b[38;5;66;03m# If we don't have any hooks, we want to skip the rest of the logic in\u001b[39;00m\n\u001b[0;32m   1537\u001b[0m \u001b[38;5;66;03m# this function, and just call forward.\u001b[39;00m\n\u001b[0;32m   1538\u001b[0m \u001b[38;5;28;01mif\u001b[39;00m \u001b[38;5;129;01mnot\u001b[39;00m (\u001b[38;5;28mself\u001b[39m\u001b[38;5;241m.\u001b[39m_backward_hooks \u001b[38;5;129;01mor\u001b[39;00m \u001b[38;5;28mself\u001b[39m\u001b[38;5;241m.\u001b[39m_backward_pre_hooks \u001b[38;5;129;01mor\u001b[39;00m \u001b[38;5;28mself\u001b[39m\u001b[38;5;241m.\u001b[39m_forward_hooks \u001b[38;5;129;01mor\u001b[39;00m \u001b[38;5;28mself\u001b[39m\u001b[38;5;241m.\u001b[39m_forward_pre_hooks\n\u001b[0;32m   1539\u001b[0m         \u001b[38;5;129;01mor\u001b[39;00m _global_backward_pre_hooks \u001b[38;5;129;01mor\u001b[39;00m _global_backward_hooks\n\u001b[0;32m   1540\u001b[0m         \u001b[38;5;129;01mor\u001b[39;00m _global_forward_hooks \u001b[38;5;129;01mor\u001b[39;00m _global_forward_pre_hooks):\n\u001b[1;32m-> 1541\u001b[0m     \u001b[38;5;28;01mreturn\u001b[39;00m \u001b[43mforward_call\u001b[49m\u001b[43m(\u001b[49m\u001b[38;5;241;43m*\u001b[39;49m\u001b[43margs\u001b[49m\u001b[43m,\u001b[49m\u001b[43m \u001b[49m\u001b[38;5;241;43m*\u001b[39;49m\u001b[38;5;241;43m*\u001b[39;49m\u001b[43mkwargs\u001b[49m\u001b[43m)\u001b[49m\n\u001b[0;32m   1543\u001b[0m \u001b[38;5;28;01mtry\u001b[39;00m:\n\u001b[0;32m   1544\u001b[0m     result \u001b[38;5;241m=\u001b[39m \u001b[38;5;28;01mNone\u001b[39;00m\n",
      "File \u001b[1;32mc:\\Users\\rhafaelc\\AppData\\Local\\Programs\\Python\\Python311\\Lib\\site-packages\\transformers\\models\\bert\\modeling_bert.py:1013\u001b[0m, in \u001b[0;36mBertModel.forward\u001b[1;34m(self, input_ids, attention_mask, token_type_ids, position_ids, head_mask, inputs_embeds, encoder_hidden_states, encoder_attention_mask, past_key_values, use_cache, output_attentions, output_hidden_states, return_dict)\u001b[0m\n\u001b[0;32m   1004\u001b[0m head_mask \u001b[38;5;241m=\u001b[39m \u001b[38;5;28mself\u001b[39m\u001b[38;5;241m.\u001b[39mget_head_mask(head_mask, \u001b[38;5;28mself\u001b[39m\u001b[38;5;241m.\u001b[39mconfig\u001b[38;5;241m.\u001b[39mnum_hidden_layers)\n\u001b[0;32m   1006\u001b[0m embedding_output \u001b[38;5;241m=\u001b[39m \u001b[38;5;28mself\u001b[39m\u001b[38;5;241m.\u001b[39membeddings(\n\u001b[0;32m   1007\u001b[0m     input_ids\u001b[38;5;241m=\u001b[39minput_ids,\n\u001b[0;32m   1008\u001b[0m     position_ids\u001b[38;5;241m=\u001b[39mposition_ids,\n\u001b[1;32m   (...)\u001b[0m\n\u001b[0;32m   1011\u001b[0m     past_key_values_length\u001b[38;5;241m=\u001b[39mpast_key_values_length,\n\u001b[0;32m   1012\u001b[0m )\n\u001b[1;32m-> 1013\u001b[0m encoder_outputs \u001b[38;5;241m=\u001b[39m \u001b[38;5;28;43mself\u001b[39;49m\u001b[38;5;241;43m.\u001b[39;49m\u001b[43mencoder\u001b[49m\u001b[43m(\u001b[49m\n\u001b[0;32m   1014\u001b[0m \u001b[43m    \u001b[49m\u001b[43membedding_output\u001b[49m\u001b[43m,\u001b[49m\n\u001b[0;32m   1015\u001b[0m \u001b[43m    \u001b[49m\u001b[43mattention_mask\u001b[49m\u001b[38;5;241;43m=\u001b[39;49m\u001b[43mextended_attention_mask\u001b[49m\u001b[43m,\u001b[49m\n\u001b[0;32m   1016\u001b[0m \u001b[43m    \u001b[49m\u001b[43mhead_mask\u001b[49m\u001b[38;5;241;43m=\u001b[39;49m\u001b[43mhead_mask\u001b[49m\u001b[43m,\u001b[49m\n\u001b[0;32m   1017\u001b[0m \u001b[43m    \u001b[49m\u001b[43mencoder_hidden_states\u001b[49m\u001b[38;5;241;43m=\u001b[39;49m\u001b[43mencoder_hidden_states\u001b[49m\u001b[43m,\u001b[49m\n\u001b[0;32m   1018\u001b[0m \u001b[43m    \u001b[49m\u001b[43mencoder_attention_mask\u001b[49m\u001b[38;5;241;43m=\u001b[39;49m\u001b[43mencoder_extended_attention_mask\u001b[49m\u001b[43m,\u001b[49m\n\u001b[0;32m   1019\u001b[0m \u001b[43m    \u001b[49m\u001b[43mpast_key_values\u001b[49m\u001b[38;5;241;43m=\u001b[39;49m\u001b[43mpast_key_values\u001b[49m\u001b[43m,\u001b[49m\n\u001b[0;32m   1020\u001b[0m \u001b[43m    \u001b[49m\u001b[43muse_cache\u001b[49m\u001b[38;5;241;43m=\u001b[39;49m\u001b[43muse_cache\u001b[49m\u001b[43m,\u001b[49m\n\u001b[0;32m   1021\u001b[0m \u001b[43m    \u001b[49m\u001b[43moutput_attentions\u001b[49m\u001b[38;5;241;43m=\u001b[39;49m\u001b[43moutput_attentions\u001b[49m\u001b[43m,\u001b[49m\n\u001b[0;32m   1022\u001b[0m \u001b[43m    \u001b[49m\u001b[43moutput_hidden_states\u001b[49m\u001b[38;5;241;43m=\u001b[39;49m\u001b[43moutput_hidden_states\u001b[49m\u001b[43m,\u001b[49m\n\u001b[0;32m   1023\u001b[0m \u001b[43m    \u001b[49m\u001b[43mreturn_dict\u001b[49m\u001b[38;5;241;43m=\u001b[39;49m\u001b[43mreturn_dict\u001b[49m\u001b[43m,\u001b[49m\n\u001b[0;32m   1024\u001b[0m \u001b[43m\u001b[49m\u001b[43m)\u001b[49m\n\u001b[0;32m   1025\u001b[0m sequence_output \u001b[38;5;241m=\u001b[39m encoder_outputs[\u001b[38;5;241m0\u001b[39m]\n\u001b[0;32m   1026\u001b[0m pooled_output \u001b[38;5;241m=\u001b[39m \u001b[38;5;28mself\u001b[39m\u001b[38;5;241m.\u001b[39mpooler(sequence_output) \u001b[38;5;28;01mif\u001b[39;00m \u001b[38;5;28mself\u001b[39m\u001b[38;5;241m.\u001b[39mpooler \u001b[38;5;129;01mis\u001b[39;00m \u001b[38;5;129;01mnot\u001b[39;00m \u001b[38;5;28;01mNone\u001b[39;00m \u001b[38;5;28;01melse\u001b[39;00m \u001b[38;5;28;01mNone\u001b[39;00m\n",
      "File \u001b[1;32mc:\\Users\\rhafaelc\\AppData\\Local\\Programs\\Python\\Python311\\Lib\\site-packages\\torch\\nn\\modules\\module.py:1532\u001b[0m, in \u001b[0;36mModule._wrapped_call_impl\u001b[1;34m(self, *args, **kwargs)\u001b[0m\n\u001b[0;32m   1530\u001b[0m     \u001b[38;5;28;01mreturn\u001b[39;00m \u001b[38;5;28mself\u001b[39m\u001b[38;5;241m.\u001b[39m_compiled_call_impl(\u001b[38;5;241m*\u001b[39margs, \u001b[38;5;241m*\u001b[39m\u001b[38;5;241m*\u001b[39mkwargs)  \u001b[38;5;66;03m# type: ignore[misc]\u001b[39;00m\n\u001b[0;32m   1531\u001b[0m \u001b[38;5;28;01melse\u001b[39;00m:\n\u001b[1;32m-> 1532\u001b[0m     \u001b[38;5;28;01mreturn\u001b[39;00m \u001b[38;5;28;43mself\u001b[39;49m\u001b[38;5;241;43m.\u001b[39;49m\u001b[43m_call_impl\u001b[49m\u001b[43m(\u001b[49m\u001b[38;5;241;43m*\u001b[39;49m\u001b[43margs\u001b[49m\u001b[43m,\u001b[49m\u001b[43m \u001b[49m\u001b[38;5;241;43m*\u001b[39;49m\u001b[38;5;241;43m*\u001b[39;49m\u001b[43mkwargs\u001b[49m\u001b[43m)\u001b[49m\n",
      "File \u001b[1;32mc:\\Users\\rhafaelc\\AppData\\Local\\Programs\\Python\\Python311\\Lib\\site-packages\\torch\\nn\\modules\\module.py:1541\u001b[0m, in \u001b[0;36mModule._call_impl\u001b[1;34m(self, *args, **kwargs)\u001b[0m\n\u001b[0;32m   1536\u001b[0m \u001b[38;5;66;03m# If we don't have any hooks, we want to skip the rest of the logic in\u001b[39;00m\n\u001b[0;32m   1537\u001b[0m \u001b[38;5;66;03m# this function, and just call forward.\u001b[39;00m\n\u001b[0;32m   1538\u001b[0m \u001b[38;5;28;01mif\u001b[39;00m \u001b[38;5;129;01mnot\u001b[39;00m (\u001b[38;5;28mself\u001b[39m\u001b[38;5;241m.\u001b[39m_backward_hooks \u001b[38;5;129;01mor\u001b[39;00m \u001b[38;5;28mself\u001b[39m\u001b[38;5;241m.\u001b[39m_backward_pre_hooks \u001b[38;5;129;01mor\u001b[39;00m \u001b[38;5;28mself\u001b[39m\u001b[38;5;241m.\u001b[39m_forward_hooks \u001b[38;5;129;01mor\u001b[39;00m \u001b[38;5;28mself\u001b[39m\u001b[38;5;241m.\u001b[39m_forward_pre_hooks\n\u001b[0;32m   1539\u001b[0m         \u001b[38;5;129;01mor\u001b[39;00m _global_backward_pre_hooks \u001b[38;5;129;01mor\u001b[39;00m _global_backward_hooks\n\u001b[0;32m   1540\u001b[0m         \u001b[38;5;129;01mor\u001b[39;00m _global_forward_hooks \u001b[38;5;129;01mor\u001b[39;00m _global_forward_pre_hooks):\n\u001b[1;32m-> 1541\u001b[0m     \u001b[38;5;28;01mreturn\u001b[39;00m \u001b[43mforward_call\u001b[49m\u001b[43m(\u001b[49m\u001b[38;5;241;43m*\u001b[39;49m\u001b[43margs\u001b[49m\u001b[43m,\u001b[49m\u001b[43m \u001b[49m\u001b[38;5;241;43m*\u001b[39;49m\u001b[38;5;241;43m*\u001b[39;49m\u001b[43mkwargs\u001b[49m\u001b[43m)\u001b[49m\n\u001b[0;32m   1543\u001b[0m \u001b[38;5;28;01mtry\u001b[39;00m:\n\u001b[0;32m   1544\u001b[0m     result \u001b[38;5;241m=\u001b[39m \u001b[38;5;28;01mNone\u001b[39;00m\n",
      "File \u001b[1;32mc:\\Users\\rhafaelc\\AppData\\Local\\Programs\\Python\\Python311\\Lib\\site-packages\\transformers\\models\\bert\\modeling_bert.py:607\u001b[0m, in \u001b[0;36mBertEncoder.forward\u001b[1;34m(self, hidden_states, attention_mask, head_mask, encoder_hidden_states, encoder_attention_mask, past_key_values, use_cache, output_attentions, output_hidden_states, return_dict)\u001b[0m\n\u001b[0;32m    596\u001b[0m     layer_outputs \u001b[38;5;241m=\u001b[39m \u001b[38;5;28mself\u001b[39m\u001b[38;5;241m.\u001b[39m_gradient_checkpointing_func(\n\u001b[0;32m    597\u001b[0m         layer_module\u001b[38;5;241m.\u001b[39m\u001b[38;5;21m__call__\u001b[39m,\n\u001b[0;32m    598\u001b[0m         hidden_states,\n\u001b[1;32m   (...)\u001b[0m\n\u001b[0;32m    604\u001b[0m         output_attentions,\n\u001b[0;32m    605\u001b[0m     )\n\u001b[0;32m    606\u001b[0m \u001b[38;5;28;01melse\u001b[39;00m:\n\u001b[1;32m--> 607\u001b[0m     layer_outputs \u001b[38;5;241m=\u001b[39m \u001b[43mlayer_module\u001b[49m\u001b[43m(\u001b[49m\n\u001b[0;32m    608\u001b[0m \u001b[43m        \u001b[49m\u001b[43mhidden_states\u001b[49m\u001b[43m,\u001b[49m\n\u001b[0;32m    609\u001b[0m \u001b[43m        \u001b[49m\u001b[43mattention_mask\u001b[49m\u001b[43m,\u001b[49m\n\u001b[0;32m    610\u001b[0m \u001b[43m        \u001b[49m\u001b[43mlayer_head_mask\u001b[49m\u001b[43m,\u001b[49m\n\u001b[0;32m    611\u001b[0m \u001b[43m        \u001b[49m\u001b[43mencoder_hidden_states\u001b[49m\u001b[43m,\u001b[49m\n\u001b[0;32m    612\u001b[0m \u001b[43m        \u001b[49m\u001b[43mencoder_attention_mask\u001b[49m\u001b[43m,\u001b[49m\n\u001b[0;32m    613\u001b[0m \u001b[43m        \u001b[49m\u001b[43mpast_key_value\u001b[49m\u001b[43m,\u001b[49m\n\u001b[0;32m    614\u001b[0m \u001b[43m        \u001b[49m\u001b[43moutput_attentions\u001b[49m\u001b[43m,\u001b[49m\n\u001b[0;32m    615\u001b[0m \u001b[43m    \u001b[49m\u001b[43m)\u001b[49m\n\u001b[0;32m    617\u001b[0m hidden_states \u001b[38;5;241m=\u001b[39m layer_outputs[\u001b[38;5;241m0\u001b[39m]\n\u001b[0;32m    618\u001b[0m \u001b[38;5;28;01mif\u001b[39;00m use_cache:\n",
      "File \u001b[1;32mc:\\Users\\rhafaelc\\AppData\\Local\\Programs\\Python\\Python311\\Lib\\site-packages\\torch\\nn\\modules\\module.py:1532\u001b[0m, in \u001b[0;36mModule._wrapped_call_impl\u001b[1;34m(self, *args, **kwargs)\u001b[0m\n\u001b[0;32m   1530\u001b[0m     \u001b[38;5;28;01mreturn\u001b[39;00m \u001b[38;5;28mself\u001b[39m\u001b[38;5;241m.\u001b[39m_compiled_call_impl(\u001b[38;5;241m*\u001b[39margs, \u001b[38;5;241m*\u001b[39m\u001b[38;5;241m*\u001b[39mkwargs)  \u001b[38;5;66;03m# type: ignore[misc]\u001b[39;00m\n\u001b[0;32m   1531\u001b[0m \u001b[38;5;28;01melse\u001b[39;00m:\n\u001b[1;32m-> 1532\u001b[0m     \u001b[38;5;28;01mreturn\u001b[39;00m \u001b[38;5;28;43mself\u001b[39;49m\u001b[38;5;241;43m.\u001b[39;49m\u001b[43m_call_impl\u001b[49m\u001b[43m(\u001b[49m\u001b[38;5;241;43m*\u001b[39;49m\u001b[43margs\u001b[49m\u001b[43m,\u001b[49m\u001b[43m \u001b[49m\u001b[38;5;241;43m*\u001b[39;49m\u001b[38;5;241;43m*\u001b[39;49m\u001b[43mkwargs\u001b[49m\u001b[43m)\u001b[49m\n",
      "File \u001b[1;32mc:\\Users\\rhafaelc\\AppData\\Local\\Programs\\Python\\Python311\\Lib\\site-packages\\torch\\nn\\modules\\module.py:1541\u001b[0m, in \u001b[0;36mModule._call_impl\u001b[1;34m(self, *args, **kwargs)\u001b[0m\n\u001b[0;32m   1536\u001b[0m \u001b[38;5;66;03m# If we don't have any hooks, we want to skip the rest of the logic in\u001b[39;00m\n\u001b[0;32m   1537\u001b[0m \u001b[38;5;66;03m# this function, and just call forward.\u001b[39;00m\n\u001b[0;32m   1538\u001b[0m \u001b[38;5;28;01mif\u001b[39;00m \u001b[38;5;129;01mnot\u001b[39;00m (\u001b[38;5;28mself\u001b[39m\u001b[38;5;241m.\u001b[39m_backward_hooks \u001b[38;5;129;01mor\u001b[39;00m \u001b[38;5;28mself\u001b[39m\u001b[38;5;241m.\u001b[39m_backward_pre_hooks \u001b[38;5;129;01mor\u001b[39;00m \u001b[38;5;28mself\u001b[39m\u001b[38;5;241m.\u001b[39m_forward_hooks \u001b[38;5;129;01mor\u001b[39;00m \u001b[38;5;28mself\u001b[39m\u001b[38;5;241m.\u001b[39m_forward_pre_hooks\n\u001b[0;32m   1539\u001b[0m         \u001b[38;5;129;01mor\u001b[39;00m _global_backward_pre_hooks \u001b[38;5;129;01mor\u001b[39;00m _global_backward_hooks\n\u001b[0;32m   1540\u001b[0m         \u001b[38;5;129;01mor\u001b[39;00m _global_forward_hooks \u001b[38;5;129;01mor\u001b[39;00m _global_forward_pre_hooks):\n\u001b[1;32m-> 1541\u001b[0m     \u001b[38;5;28;01mreturn\u001b[39;00m \u001b[43mforward_call\u001b[49m\u001b[43m(\u001b[49m\u001b[38;5;241;43m*\u001b[39;49m\u001b[43margs\u001b[49m\u001b[43m,\u001b[49m\u001b[43m \u001b[49m\u001b[38;5;241;43m*\u001b[39;49m\u001b[38;5;241;43m*\u001b[39;49m\u001b[43mkwargs\u001b[49m\u001b[43m)\u001b[49m\n\u001b[0;32m   1543\u001b[0m \u001b[38;5;28;01mtry\u001b[39;00m:\n\u001b[0;32m   1544\u001b[0m     result \u001b[38;5;241m=\u001b[39m \u001b[38;5;28;01mNone\u001b[39;00m\n",
      "File \u001b[1;32mc:\\Users\\rhafaelc\\AppData\\Local\\Programs\\Python\\Python311\\Lib\\site-packages\\transformers\\models\\bert\\modeling_bert.py:497\u001b[0m, in \u001b[0;36mBertLayer.forward\u001b[1;34m(self, hidden_states, attention_mask, head_mask, encoder_hidden_states, encoder_attention_mask, past_key_value, output_attentions)\u001b[0m\n\u001b[0;32m    485\u001b[0m \u001b[38;5;28;01mdef\u001b[39;00m \u001b[38;5;21mforward\u001b[39m(\n\u001b[0;32m    486\u001b[0m     \u001b[38;5;28mself\u001b[39m,\n\u001b[0;32m    487\u001b[0m     hidden_states: torch\u001b[38;5;241m.\u001b[39mTensor,\n\u001b[1;32m   (...)\u001b[0m\n\u001b[0;32m    494\u001b[0m ) \u001b[38;5;241m-\u001b[39m\u001b[38;5;241m>\u001b[39m Tuple[torch\u001b[38;5;241m.\u001b[39mTensor]:\n\u001b[0;32m    495\u001b[0m     \u001b[38;5;66;03m# decoder uni-directional self-attention cached key/values tuple is at positions 1,2\u001b[39;00m\n\u001b[0;32m    496\u001b[0m     self_attn_past_key_value \u001b[38;5;241m=\u001b[39m past_key_value[:\u001b[38;5;241m2\u001b[39m] \u001b[38;5;28;01mif\u001b[39;00m past_key_value \u001b[38;5;129;01mis\u001b[39;00m \u001b[38;5;129;01mnot\u001b[39;00m \u001b[38;5;28;01mNone\u001b[39;00m \u001b[38;5;28;01melse\u001b[39;00m \u001b[38;5;28;01mNone\u001b[39;00m\n\u001b[1;32m--> 497\u001b[0m     self_attention_outputs \u001b[38;5;241m=\u001b[39m \u001b[38;5;28;43mself\u001b[39;49m\u001b[38;5;241;43m.\u001b[39;49m\u001b[43mattention\u001b[49m\u001b[43m(\u001b[49m\n\u001b[0;32m    498\u001b[0m \u001b[43m        \u001b[49m\u001b[43mhidden_states\u001b[49m\u001b[43m,\u001b[49m\n\u001b[0;32m    499\u001b[0m \u001b[43m        \u001b[49m\u001b[43mattention_mask\u001b[49m\u001b[43m,\u001b[49m\n\u001b[0;32m    500\u001b[0m \u001b[43m        \u001b[49m\u001b[43mhead_mask\u001b[49m\u001b[43m,\u001b[49m\n\u001b[0;32m    501\u001b[0m \u001b[43m        \u001b[49m\u001b[43moutput_attentions\u001b[49m\u001b[38;5;241;43m=\u001b[39;49m\u001b[43moutput_attentions\u001b[49m\u001b[43m,\u001b[49m\n\u001b[0;32m    502\u001b[0m \u001b[43m        \u001b[49m\u001b[43mpast_key_value\u001b[49m\u001b[38;5;241;43m=\u001b[39;49m\u001b[43mself_attn_past_key_value\u001b[49m\u001b[43m,\u001b[49m\n\u001b[0;32m    503\u001b[0m \u001b[43m    \u001b[49m\u001b[43m)\u001b[49m\n\u001b[0;32m    504\u001b[0m     attention_output \u001b[38;5;241m=\u001b[39m self_attention_outputs[\u001b[38;5;241m0\u001b[39m]\n\u001b[0;32m    506\u001b[0m     \u001b[38;5;66;03m# if decoder, the last output is tuple of self-attn cache\u001b[39;00m\n",
      "File \u001b[1;32mc:\\Users\\rhafaelc\\AppData\\Local\\Programs\\Python\\Python311\\Lib\\site-packages\\torch\\nn\\modules\\module.py:1532\u001b[0m, in \u001b[0;36mModule._wrapped_call_impl\u001b[1;34m(self, *args, **kwargs)\u001b[0m\n\u001b[0;32m   1530\u001b[0m     \u001b[38;5;28;01mreturn\u001b[39;00m \u001b[38;5;28mself\u001b[39m\u001b[38;5;241m.\u001b[39m_compiled_call_impl(\u001b[38;5;241m*\u001b[39margs, \u001b[38;5;241m*\u001b[39m\u001b[38;5;241m*\u001b[39mkwargs)  \u001b[38;5;66;03m# type: ignore[misc]\u001b[39;00m\n\u001b[0;32m   1531\u001b[0m \u001b[38;5;28;01melse\u001b[39;00m:\n\u001b[1;32m-> 1532\u001b[0m     \u001b[38;5;28;01mreturn\u001b[39;00m \u001b[38;5;28;43mself\u001b[39;49m\u001b[38;5;241;43m.\u001b[39;49m\u001b[43m_call_impl\u001b[49m\u001b[43m(\u001b[49m\u001b[38;5;241;43m*\u001b[39;49m\u001b[43margs\u001b[49m\u001b[43m,\u001b[49m\u001b[43m \u001b[49m\u001b[38;5;241;43m*\u001b[39;49m\u001b[38;5;241;43m*\u001b[39;49m\u001b[43mkwargs\u001b[49m\u001b[43m)\u001b[49m\n",
      "File \u001b[1;32mc:\\Users\\rhafaelc\\AppData\\Local\\Programs\\Python\\Python311\\Lib\\site-packages\\torch\\nn\\modules\\module.py:1541\u001b[0m, in \u001b[0;36mModule._call_impl\u001b[1;34m(self, *args, **kwargs)\u001b[0m\n\u001b[0;32m   1536\u001b[0m \u001b[38;5;66;03m# If we don't have any hooks, we want to skip the rest of the logic in\u001b[39;00m\n\u001b[0;32m   1537\u001b[0m \u001b[38;5;66;03m# this function, and just call forward.\u001b[39;00m\n\u001b[0;32m   1538\u001b[0m \u001b[38;5;28;01mif\u001b[39;00m \u001b[38;5;129;01mnot\u001b[39;00m (\u001b[38;5;28mself\u001b[39m\u001b[38;5;241m.\u001b[39m_backward_hooks \u001b[38;5;129;01mor\u001b[39;00m \u001b[38;5;28mself\u001b[39m\u001b[38;5;241m.\u001b[39m_backward_pre_hooks \u001b[38;5;129;01mor\u001b[39;00m \u001b[38;5;28mself\u001b[39m\u001b[38;5;241m.\u001b[39m_forward_hooks \u001b[38;5;129;01mor\u001b[39;00m \u001b[38;5;28mself\u001b[39m\u001b[38;5;241m.\u001b[39m_forward_pre_hooks\n\u001b[0;32m   1539\u001b[0m         \u001b[38;5;129;01mor\u001b[39;00m _global_backward_pre_hooks \u001b[38;5;129;01mor\u001b[39;00m _global_backward_hooks\n\u001b[0;32m   1540\u001b[0m         \u001b[38;5;129;01mor\u001b[39;00m _global_forward_hooks \u001b[38;5;129;01mor\u001b[39;00m _global_forward_pre_hooks):\n\u001b[1;32m-> 1541\u001b[0m     \u001b[38;5;28;01mreturn\u001b[39;00m \u001b[43mforward_call\u001b[49m\u001b[43m(\u001b[49m\u001b[38;5;241;43m*\u001b[39;49m\u001b[43margs\u001b[49m\u001b[43m,\u001b[49m\u001b[43m \u001b[49m\u001b[38;5;241;43m*\u001b[39;49m\u001b[38;5;241;43m*\u001b[39;49m\u001b[43mkwargs\u001b[49m\u001b[43m)\u001b[49m\n\u001b[0;32m   1543\u001b[0m \u001b[38;5;28;01mtry\u001b[39;00m:\n\u001b[0;32m   1544\u001b[0m     result \u001b[38;5;241m=\u001b[39m \u001b[38;5;28;01mNone\u001b[39;00m\n",
      "File \u001b[1;32mc:\\Users\\rhafaelc\\AppData\\Local\\Programs\\Python\\Python311\\Lib\\site-packages\\transformers\\models\\bert\\modeling_bert.py:427\u001b[0m, in \u001b[0;36mBertAttention.forward\u001b[1;34m(self, hidden_states, attention_mask, head_mask, encoder_hidden_states, encoder_attention_mask, past_key_value, output_attentions)\u001b[0m\n\u001b[0;32m    417\u001b[0m \u001b[38;5;28;01mdef\u001b[39;00m \u001b[38;5;21mforward\u001b[39m(\n\u001b[0;32m    418\u001b[0m     \u001b[38;5;28mself\u001b[39m,\n\u001b[0;32m    419\u001b[0m     hidden_states: torch\u001b[38;5;241m.\u001b[39mTensor,\n\u001b[1;32m   (...)\u001b[0m\n\u001b[0;32m    425\u001b[0m     output_attentions: Optional[\u001b[38;5;28mbool\u001b[39m] \u001b[38;5;241m=\u001b[39m \u001b[38;5;28;01mFalse\u001b[39;00m,\n\u001b[0;32m    426\u001b[0m ) \u001b[38;5;241m-\u001b[39m\u001b[38;5;241m>\u001b[39m Tuple[torch\u001b[38;5;241m.\u001b[39mTensor]:\n\u001b[1;32m--> 427\u001b[0m     self_outputs \u001b[38;5;241m=\u001b[39m \u001b[38;5;28;43mself\u001b[39;49m\u001b[38;5;241;43m.\u001b[39;49m\u001b[43mself\u001b[49m\u001b[43m(\u001b[49m\n\u001b[0;32m    428\u001b[0m \u001b[43m        \u001b[49m\u001b[43mhidden_states\u001b[49m\u001b[43m,\u001b[49m\n\u001b[0;32m    429\u001b[0m \u001b[43m        \u001b[49m\u001b[43mattention_mask\u001b[49m\u001b[43m,\u001b[49m\n\u001b[0;32m    430\u001b[0m \u001b[43m        \u001b[49m\u001b[43mhead_mask\u001b[49m\u001b[43m,\u001b[49m\n\u001b[0;32m    431\u001b[0m \u001b[43m        \u001b[49m\u001b[43mencoder_hidden_states\u001b[49m\u001b[43m,\u001b[49m\n\u001b[0;32m    432\u001b[0m \u001b[43m        \u001b[49m\u001b[43mencoder_attention_mask\u001b[49m\u001b[43m,\u001b[49m\n\u001b[0;32m    433\u001b[0m \u001b[43m        \u001b[49m\u001b[43mpast_key_value\u001b[49m\u001b[43m,\u001b[49m\n\u001b[0;32m    434\u001b[0m \u001b[43m        \u001b[49m\u001b[43moutput_attentions\u001b[49m\u001b[43m,\u001b[49m\n\u001b[0;32m    435\u001b[0m \u001b[43m    \u001b[49m\u001b[43m)\u001b[49m\n\u001b[0;32m    436\u001b[0m     attention_output \u001b[38;5;241m=\u001b[39m \u001b[38;5;28mself\u001b[39m\u001b[38;5;241m.\u001b[39moutput(self_outputs[\u001b[38;5;241m0\u001b[39m], hidden_states)\n\u001b[0;32m    437\u001b[0m     outputs \u001b[38;5;241m=\u001b[39m (attention_output,) \u001b[38;5;241m+\u001b[39m self_outputs[\u001b[38;5;241m1\u001b[39m:]  \u001b[38;5;66;03m# add attentions if we output them\u001b[39;00m\n",
      "File \u001b[1;32mc:\\Users\\rhafaelc\\AppData\\Local\\Programs\\Python\\Python311\\Lib\\site-packages\\torch\\nn\\modules\\module.py:1532\u001b[0m, in \u001b[0;36mModule._wrapped_call_impl\u001b[1;34m(self, *args, **kwargs)\u001b[0m\n\u001b[0;32m   1530\u001b[0m     \u001b[38;5;28;01mreturn\u001b[39;00m \u001b[38;5;28mself\u001b[39m\u001b[38;5;241m.\u001b[39m_compiled_call_impl(\u001b[38;5;241m*\u001b[39margs, \u001b[38;5;241m*\u001b[39m\u001b[38;5;241m*\u001b[39mkwargs)  \u001b[38;5;66;03m# type: ignore[misc]\u001b[39;00m\n\u001b[0;32m   1531\u001b[0m \u001b[38;5;28;01melse\u001b[39;00m:\n\u001b[1;32m-> 1532\u001b[0m     \u001b[38;5;28;01mreturn\u001b[39;00m \u001b[38;5;28;43mself\u001b[39;49m\u001b[38;5;241;43m.\u001b[39;49m\u001b[43m_call_impl\u001b[49m\u001b[43m(\u001b[49m\u001b[38;5;241;43m*\u001b[39;49m\u001b[43margs\u001b[49m\u001b[43m,\u001b[49m\u001b[43m \u001b[49m\u001b[38;5;241;43m*\u001b[39;49m\u001b[38;5;241;43m*\u001b[39;49m\u001b[43mkwargs\u001b[49m\u001b[43m)\u001b[49m\n",
      "File \u001b[1;32mc:\\Users\\rhafaelc\\AppData\\Local\\Programs\\Python\\Python311\\Lib\\site-packages\\torch\\nn\\modules\\module.py:1541\u001b[0m, in \u001b[0;36mModule._call_impl\u001b[1;34m(self, *args, **kwargs)\u001b[0m\n\u001b[0;32m   1536\u001b[0m \u001b[38;5;66;03m# If we don't have any hooks, we want to skip the rest of the logic in\u001b[39;00m\n\u001b[0;32m   1537\u001b[0m \u001b[38;5;66;03m# this function, and just call forward.\u001b[39;00m\n\u001b[0;32m   1538\u001b[0m \u001b[38;5;28;01mif\u001b[39;00m \u001b[38;5;129;01mnot\u001b[39;00m (\u001b[38;5;28mself\u001b[39m\u001b[38;5;241m.\u001b[39m_backward_hooks \u001b[38;5;129;01mor\u001b[39;00m \u001b[38;5;28mself\u001b[39m\u001b[38;5;241m.\u001b[39m_backward_pre_hooks \u001b[38;5;129;01mor\u001b[39;00m \u001b[38;5;28mself\u001b[39m\u001b[38;5;241m.\u001b[39m_forward_hooks \u001b[38;5;129;01mor\u001b[39;00m \u001b[38;5;28mself\u001b[39m\u001b[38;5;241m.\u001b[39m_forward_pre_hooks\n\u001b[0;32m   1539\u001b[0m         \u001b[38;5;129;01mor\u001b[39;00m _global_backward_pre_hooks \u001b[38;5;129;01mor\u001b[39;00m _global_backward_hooks\n\u001b[0;32m   1540\u001b[0m         \u001b[38;5;129;01mor\u001b[39;00m _global_forward_hooks \u001b[38;5;129;01mor\u001b[39;00m _global_forward_pre_hooks):\n\u001b[1;32m-> 1541\u001b[0m     \u001b[38;5;28;01mreturn\u001b[39;00m \u001b[43mforward_call\u001b[49m\u001b[43m(\u001b[49m\u001b[38;5;241;43m*\u001b[39;49m\u001b[43margs\u001b[49m\u001b[43m,\u001b[49m\u001b[43m \u001b[49m\u001b[38;5;241;43m*\u001b[39;49m\u001b[38;5;241;43m*\u001b[39;49m\u001b[43mkwargs\u001b[49m\u001b[43m)\u001b[49m\n\u001b[0;32m   1543\u001b[0m \u001b[38;5;28;01mtry\u001b[39;00m:\n\u001b[0;32m   1544\u001b[0m     result \u001b[38;5;241m=\u001b[39m \u001b[38;5;28;01mNone\u001b[39;00m\n",
      "File \u001b[1;32mc:\\Users\\rhafaelc\\AppData\\Local\\Programs\\Python\\Python311\\Lib\\site-packages\\transformers\\models\\bert\\modeling_bert.py:325\u001b[0m, in \u001b[0;36mBertSelfAttention.forward\u001b[1;34m(self, hidden_states, attention_mask, head_mask, encoder_hidden_states, encoder_attention_mask, past_key_value, output_attentions)\u001b[0m\n\u001b[0;32m    322\u001b[0m     past_key_value \u001b[38;5;241m=\u001b[39m (key_layer, value_layer)\n\u001b[0;32m    324\u001b[0m \u001b[38;5;66;03m# Take the dot product between \"query\" and \"key\" to get the raw attention scores.\u001b[39;00m\n\u001b[1;32m--> 325\u001b[0m attention_scores \u001b[38;5;241m=\u001b[39m \u001b[43mtorch\u001b[49m\u001b[38;5;241;43m.\u001b[39;49m\u001b[43mmatmul\u001b[49m\u001b[43m(\u001b[49m\u001b[43mquery_layer\u001b[49m\u001b[43m,\u001b[49m\u001b[43m \u001b[49m\u001b[43mkey_layer\u001b[49m\u001b[38;5;241;43m.\u001b[39;49m\u001b[43mtranspose\u001b[49m\u001b[43m(\u001b[49m\u001b[38;5;241;43m-\u001b[39;49m\u001b[38;5;241;43m1\u001b[39;49m\u001b[43m,\u001b[49m\u001b[43m \u001b[49m\u001b[38;5;241;43m-\u001b[39;49m\u001b[38;5;241;43m2\u001b[39;49m\u001b[43m)\u001b[49m\u001b[43m)\u001b[49m\n\u001b[0;32m    327\u001b[0m \u001b[38;5;28;01mif\u001b[39;00m \u001b[38;5;28mself\u001b[39m\u001b[38;5;241m.\u001b[39mposition_embedding_type \u001b[38;5;241m==\u001b[39m \u001b[38;5;124m\"\u001b[39m\u001b[38;5;124mrelative_key\u001b[39m\u001b[38;5;124m\"\u001b[39m \u001b[38;5;129;01mor\u001b[39;00m \u001b[38;5;28mself\u001b[39m\u001b[38;5;241m.\u001b[39mposition_embedding_type \u001b[38;5;241m==\u001b[39m \u001b[38;5;124m\"\u001b[39m\u001b[38;5;124mrelative_key_query\u001b[39m\u001b[38;5;124m\"\u001b[39m:\n\u001b[0;32m    328\u001b[0m     query_length, key_length \u001b[38;5;241m=\u001b[39m query_layer\u001b[38;5;241m.\u001b[39mshape[\u001b[38;5;241m2\u001b[39m], key_layer\u001b[38;5;241m.\u001b[39mshape[\u001b[38;5;241m2\u001b[39m]\n",
      "\u001b[1;31mKeyboardInterrupt\u001b[0m: "
     ]
    }
   ],
   "source": [
    "%%time\n",
    "for period, group in tweet_quarter:\n",
    "    topic_model = BERTopic(verbose=False,\n",
    "                           language='indonesian', calculate_probabilities=True,\n",
    "                           nr_topics=10,\n",
    "                           )\n",
    "    text_data = group['full_text'].tolist()\n",
    "    timestamps = group['created_at'].tolist()\n",
    "    topics, probs = topic_model.fit_transform(text_data)\n",
    "    results[period] = {\n",
    "        'model' : topic_model,\n",
    "        'topics_over_time' : topic_model.topics_over_time(text_data, timestamps, nr_bins=30),\n",
    "        'probs': probs,\n",
    "        'topic_info': topic_model.get_topic_info(),\n",
    "        \n",
    "        'topics': topics,\n",
    "        'text': text_data,\n",
    "    }"
   ]
  },
  {
   "cell_type": "code",
   "execution_count": null,
   "metadata": {},
   "outputs": [
    {
     "data": {
      "application/vnd.plotly.v1+json": {
       "config": {
        "plotlyServerURL": "https://plot.ly"
       },
       "data": [
        {
         "hoverinfo": "text",
         "hovertext": [
          "<b>Topic 0</b><br>Words: empat, pokok, tetap, mendikbud, merdeka",
          "<b>Topic 0</b><br>Words: sebut, empat, merdeka, ajar, istilah",
          "<b>Topic 0</b><br>Words: tetap, empat, pokok, merdeka, mendikbud",
          "<b>Topic 0</b><br>Words: empat, lembar, tetap, pokok, merdeka"
         ],
         "marker": {
          "color": "#E69F00"
         },
         "mode": "lines",
         "name": "0_empat_pokok_tetap_merdeka",
         "type": "scatter",
         "x": [
          "2019-12-10T15:59:04+00:00",
          "2019-12-12T15:32:51.800000+00:00",
          "2019-12-14T15:06:39.600000+00:00",
          "2019-12-16T14:40:27.400000+00:00"
         ],
         "y": [
          17,
          4,
          2,
          1
         ]
        },
        {
         "hoverinfo": "text",
         "hovertext": [
          "<b>Topic 1</b><br>Words: teu, demo, agama, heula, mah",
          "<b>Topic 1</b><br>Words: pusat, puasa, indonesia, teliti, sehat",
          "<b>Topic 1</b><br>Words: sipil, masyarakat, konsolidasi, damai, organisasi",
          "<b>Topic 1</b><br>Words: indonesia, amp, masa, tvet, jangan",
          "<b>Topic 1</b><br>Words: andai, institusi, luar, biasa, buah",
          "<b>Topic 1</b><br>Words: latih, bnpb, doktrin, tni, pusdiklat",
          "<b>Topic 1</b><br>Words: indonesia, madrasah, diklat, tingkat, syarat",
          "<b>Topic 1</b><br>Words: indeks, indonesia, indak, produktivitas, kontribusi",
          "<b>Topic 1</b><br>Words: lima, indonesia, nadiem, kembang, makarim",
          "<b>Topic 1</b><br>Words: indonesia, teknik, mengakomodir, kembang, lulus",
          "<b>Topic 1</b><br>Words: indonesia, terimakasih, bapak, moga, semua",
          "<b>Topic 1</b><br>Words: kkni, indonesia, kerja, sektor, moga",
          "<b>Topic 1</b><br>Words: agama, ppt, download, kantor, menteri",
          "<b>Topic 1</b><br>Words: kaji, uii, hmi, sekretariat, eko",
          "<b>Topic 1</b><br>Words: dhanny, disabilitas, komunitas, prodi, sore",
          "<b>Topic 1</b><br>Words: ppp, perempuan, politik, pandan, aktif",
          "<b>Topic 1</b><br>Words: indonesia, presiden, makarim, nadiem, merdeka",
          "<b>Topic 1</b><br>Words: presiden, indonesia, rp, republik, wakil",
          "<b>Topic 1</b><br>Words: indonesia, kait, ajar, aekkanopan, khairil",
          "<b>Topic 1</b><br>Words: ketidakmampuan, polemik, baswedan, bukti, kerap",
          "<b>Topic 1</b><br>Words: muhammadiyah, universitas, laku, rektor, surakarta",
          "<b>Topic 1</b><br>Words: muhammadiyah, universitas, rt, kunjung, ums",
          "<b>Topic 1</b><br>Words: viii, denpasar, lldikti, auditorium, astawa",
          "<b>Topic 1</b><br>Words: satu, per, merderka, edumu, bahas",
          "<b>Topic 1</b><br>Words: mulus, jajah, indonesia, jabar, provinsi"
         ],
         "marker": {
          "color": "#56B4E9"
         },
         "mode": "lines",
         "name": "1_indonesia_nadiem_makarim_presiden",
         "type": "scatter",
         "x": [
          "2019-10-31T23:17:31.166000+00:00",
          "2019-11-03T00:16:55.800000+00:00",
          "2019-11-04T23:50:43.600000+00:00",
          "2019-11-06T23:24:31.400000+00:00",
          "2019-11-08T22:58:19.200000+00:00",
          "2019-11-10T22:32:07+00:00",
          "2019-11-12T22:05:54.800000+00:00",
          "2019-11-14T21:39:42.600000+00:00",
          "2019-11-16T21:13:30.400000+00:00",
          "2019-11-18T20:47:18.200000+00:00",
          "2019-11-22T19:54:53.800000+00:00",
          "2019-11-24T19:28:41.600000+00:00",
          "2019-11-26T19:02:29.400000+00:00",
          "2019-11-30T18:10:05+00:00",
          "2019-12-02T17:43:52.800000+00:00",
          "2019-12-06T16:51:28.400000+00:00",
          "2019-12-10T15:59:04+00:00",
          "2019-12-12T15:32:51.800000+00:00",
          "2019-12-14T15:06:39.600000+00:00",
          "2019-12-16T14:40:27.400000+00:00",
          "2019-12-18T14:14:15.200000+00:00",
          "2019-12-20T13:48:03+00:00",
          "2019-12-22T13:21:50.800000+00:00",
          "2019-12-24T12:55:38.600000+00:00",
          "2019-12-28T12:03:14.200000+00:00"
         ],
         "y": [
          2,
          3,
          1,
          5,
          1,
          1,
          6,
          2,
          6,
          4,
          3,
          2,
          1,
          1,
          1,
          2,
          16,
          4,
          3,
          3,
          3,
          1,
          1,
          1,
          5
         ]
        },
        {
         "hoverinfo": "text",
         "hovertext": [
          "<b>Topic 2</b><br>Words: podo, neh, karo, ki, mbok",
          "<b>Topic 2</b><br>Words: pra, muat, sertifikat, jangan, lihat",
          "<b>Topic 2</b><br>Words: kembang, mendikbud, nadiem, tempo, barong",
          "<b>Topic 2</b><br>Words: salam, kembang, adil, ingin, jauh",
          "<b>Topic 2</b><br>Words: percaya, pada, aku, negeri, pak",
          "<b>Topic 2</b><br>Words: tuang, bangsa, lepas, beberapa, maju",
          "<b>Topic 2</b><br>Words: lindung, gratis, individu, misal, lingkung",
          "<b>Topic 2</b><br>Words: nama, salah, satu, hapus, arah",
          "<b>Topic 2</b><br>Words: kembang, mendikbud, nadiem, jangan, gratis",
          "<b>Topic 2</b><br>Words: spp, gratis, jabar, konsep, sama",
          "<b>Topic 2</b><br>Words: kendung, uka, shaeffer, aktor, sheldon",
          "<b>Topic 2</b><br>Words: un, hapus, now, muda, janganjangan"
         ],
         "marker": {
          "color": "#009E73"
         },
         "mode": "lines",
         "name": "2_kembang_mendikbud_nadiem_jangan",
         "type": "scatter",
         "x": [
          "2019-11-10T22:32:07+00:00",
          "2019-11-14T21:39:42.600000+00:00",
          "2019-11-16T21:13:30.400000+00:00",
          "2019-11-20T20:21:06+00:00",
          "2019-11-22T19:54:53.800000+00:00",
          "2019-12-04T17:17:40.600000+00:00",
          "2019-12-06T16:51:28.400000+00:00",
          "2019-12-10T15:59:04+00:00",
          "2019-12-12T15:32:51.800000+00:00",
          "2019-12-16T14:40:27.400000+00:00",
          "2019-12-18T14:14:15.200000+00:00",
          "2019-12-20T13:48:03+00:00"
         ],
         "y": [
          1,
          1,
          8,
          2,
          1,
          1,
          1,
          1,
          1,
          1,
          1,
          1
         ]
        },
        {
         "hoverinfo": "text",
         "hovertext": [
          "<b>Topic 3</b><br>Words: by, lewat, tri, baru, tingkat",
          "<b>Topic 3</b><br>Words: kuesioner, danatau, untuksaat, siapa, mendiknas",
          "<b>Topic 3</b><br>Words: bapakibu, jawab, pilih, sesuai, kotak",
          "<b>Topic 3</b><br>Words: arena, lama, coba, jadi, uji",
          "<b>Topic 3</b><br>Words: misi, kuat, tambah, wujud, sdm",
          "<b>Topic 3</b><br>Words: hasil, moga, kembang, pak, mendikbud",
          "<b>Topic 3</b><br>Words: tentang, buat, efektif, sukses, usaha",
          "<b>Topic 3</b><br>Words: kpai, langkah, minta, cipta, nyata",
          "<b>Topic 3</b><br>Words: pastika, sebab, via, kritik, mang",
          "<b>Topic 3</b><br>Words: baru, jungkir, balik, siap, tri",
          "<b>Topic 3</b><br>Words: alir, kreatifitas, sukses, efektif, hapus",
          "<b>Topic 3</b><br>Words: tri, ganti, baru, siapa, kualahan",
          "<b>Topic 3</b><br>Words: gabung, padang, pariaman, tani, inggris",
          "<b>Topic 3</b><br>Words: idealis, putus, pengaruh, sangat, ambil",
          "<b>Topic 3</b><br>Words: pergunu, paket, ragu, mutu, tingkat",
          "<b>Topic 3</b><br>Words: zam, kritik, kalau, jual, air",
          "<b>Topic 3</b><br>Words: dospen, rancang, berat, bisnis, kapan"
         ],
         "marker": {
          "color": "#F0E442"
         },
         "mode": "lines",
         "name": "3_tri_baru_tingkat_kritik",
         "type": "scatter",
         "x": [
          "2019-10-31T23:17:31.166000+00:00",
          "2019-11-03T00:16:55.800000+00:00",
          "2019-11-04T23:50:43.600000+00:00",
          "2019-11-06T23:24:31.400000+00:00",
          "2019-11-12T22:05:54.800000+00:00",
          "2019-11-16T21:13:30.400000+00:00",
          "2019-11-22T19:54:53.800000+00:00",
          "2019-11-24T19:28:41.600000+00:00",
          "2019-11-28T18:36:17.200000+00:00",
          "2019-12-04T17:17:40.600000+00:00",
          "2019-12-10T15:59:04+00:00",
          "2019-12-12T15:32:51.800000+00:00",
          "2019-12-14T15:06:39.600000+00:00",
          "2019-12-16T14:40:27.400000+00:00",
          "2019-12-18T14:14:15.200000+00:00",
          "2019-12-22T13:21:50.800000+00:00",
          "2019-12-26T12:29:26.400000+00:00"
         ],
         "y": [
          1,
          1,
          1,
          2,
          1,
          1,
          1,
          2,
          1,
          1,
          3,
          2,
          2,
          1,
          1,
          1,
          1
         ]
        },
        {
         "hoverinfo": "text",
         "hovertext": [
          "<b>Topic 4</b><br>Words: psi, anggota, betul, dprd, libat",
          "<b>Topic 4</b><br>Words: hak, rakyat, cipta, anggar, dasar",
          "<b>Topic 4</b><br>Words: pisah, sekali, lembaga, banyak, itu",
          "<b>Topic 4</b><br>Words: bidikmisi, kemeristekdikti, miskin, paling, luas",
          "<b>Topic 4</b><br>Words: atur, negara, jalan, satu, faktor",
          "<b>Topic 4</b><br>Words: reporter, fik, gpla, dilema, suistanble",
          "<b>Topic 4</b><br>Words: suatu, rupa, sejarah, analis, presedur",
          "<b>Topic 4</b><br>Words: investasi, tingkat, wenang, rupa, daerah",
          "<b>Topic 4</b><br>Words: formasi, daftar, nilai, kimia, situasional",
          "<b>Topic 4</b><br>Words: analisis, paham, orangorang, masalah, perlu",
          "<b>Topic 4</b><br>Words: cyber, teori, fisik, era, integrasi",
          "<b>Topic 4</b><br>Words: analisis, lingkup, arah, negara, suatu",
          "<b>Topic 4</b><br>Words: politik, orangorang, isi, penting, dunia",
          "<b>Topic 4</b><br>Words: banyak, najelaa, shihab, deregulasi, pancasila",
          "<b>Topic 4</b><br>Words: inisiatif, detil, spirit, tantang, compliance",
          "<b>Topic 4</b><br>Words: gagasangagasan, digital, tabrak, infrastruktur, inkosistensi",
          "<b>Topic 4</b><br>Words: peduli, begitu, labil, politik, masalah",
          "<b>Topic 4</b><br>Words: inovatif, presentasi, likaliku, proposal, konpers",
          "<b>Topic 4</b><br>Words: koperasi, negara, sinergi, dobrak, muara",
          "<b>Topic 4</b><br>Words: sd, sama, prmslhn, mi, matkul",
          "<b>Topic 4</b><br>Words: mungkin, minimal, pangan, bisa, situ"
         ],
         "marker": {
          "color": "#D55E00"
         },
         "mode": "lines",
         "name": "4_analisis_negara_suatu_rakyat",
         "type": "scatter",
         "x": [
          "2019-10-31T23:17:31.166000+00:00",
          "2019-11-04T23:50:43.600000+00:00",
          "2019-11-06T23:24:31.400000+00:00",
          "2019-11-08T22:58:19.200000+00:00",
          "2019-11-10T22:32:07+00:00",
          "2019-11-14T21:39:42.600000+00:00",
          "2019-11-16T21:13:30.400000+00:00",
          "2019-11-18T20:47:18.200000+00:00",
          "2019-11-20T20:21:06+00:00",
          "2019-11-22T19:54:53.800000+00:00",
          "2019-11-26T19:02:29.400000+00:00",
          "2019-11-28T18:36:17.200000+00:00",
          "2019-12-02T17:43:52.800000+00:00",
          "2019-12-04T17:17:40.600000+00:00",
          "2019-12-06T16:51:28.400000+00:00",
          "2019-12-10T15:59:04+00:00",
          "2019-12-12T15:32:51.800000+00:00",
          "2019-12-16T14:40:27.400000+00:00",
          "2019-12-18T14:14:15.200000+00:00",
          "2019-12-20T13:48:03+00:00",
          "2019-12-26T12:29:26.400000+00:00"
         ],
         "y": [
          2,
          2,
          1,
          1,
          2,
          1,
          1,
          3,
          2,
          8,
          1,
          1,
          3,
          6,
          1,
          2,
          1,
          2,
          5,
          1,
          1
         ]
        },
        {
         "hoverinfo": "text",
         "hovertext": [
          "<b>Topic 5</b><br>Words: praktisi, sampai, soal, tak, kemendikbud",
          "<b>Topic 5</b><br>Words: guru, sekolah, tunggu, honorer, bangun",
          "<b>Topic 5</b><br>Words: dinamis, adaptif, guru, perangkat, sj",
          "<b>Topic 5</b><br>Words: makan, sedia, tambah, anak, sekolah",
          "<b>Topic 5</b><br>Words: pinker, tolak, anak, guru, enggak",
          "<b>Topic 5</b><br>Words: guru, milik, sejahtera, nonformal, kupang",
          "<b>Topic 5</b><br>Words: terus, kecil, punya, tak, manusia",
          "<b>Topic 5</b><br>Words: gumun, ndoro, murid, ganti, yuuuung",
          "<b>Topic 5</b><br>Words: guru, jadi, lebih, punya, rasa",
          "<b>Topic 5</b><br>Words: guru, instrument, tenaga, benar, ind",
          "<b>Topic 5</b><br>Words: iq, istimewa, miskonsepsi, tes, semester",
          "<b>Topic 5</b><br>Words: batas, padu, akademik, terampil, pandang",
          "<b>Topic 5</b><br>Words: arief, lorot, tambal, sulam, buku",
          "<b>Topic 5</b><br>Words: kurikulum, strategi, ahli, anak, bukan",
          "<b>Topic 5</b><br>Words: ganjar, jateng, pemkab, pranowo, taat",
          "<b>Topic 5</b><br>Words: ibu, orang, edukasi, sayang, cakap",
          "<b>Topic 5</b><br>Words: guru, mendikbud, tanggap, karakter, siswa",
          "<b>Topic 5</b><br>Words: ambil, dianalisa, timbul, aspek, matang",
          "<b>Topic 5</b><br>Words: pasar, guru, biar, kerja, saing",
          "<b>Topic 5</b><br>Words: guru, mesin, pengaruh, lembaga, tinggi",
          "<b>Topic 5</b><br>Words: garansi, mainmain, acap, miliar, mutlak",
          "<b>Topic 5</b><br>Words: buku, siswa, learning, ruang, feed",
          "<b>Topic 5</b><br>Words: mewah, akademik, dahulu, fasilitas, mohon"
         ],
         "marker": {
          "color": "#0072B2"
         },
         "mode": "lines",
         "name": "5_guru_anak_sekolah_jadi",
         "type": "scatter",
         "x": [
          "2019-11-03T00:16:55.800000+00:00",
          "2019-11-04T23:50:43.600000+00:00",
          "2019-11-06T23:24:31.400000+00:00",
          "2019-11-10T22:32:07+00:00",
          "2019-11-12T22:05:54.800000+00:00",
          "2019-11-16T21:13:30.400000+00:00",
          "2019-11-18T20:47:18.200000+00:00",
          "2019-11-20T20:21:06+00:00",
          "2019-11-22T19:54:53.800000+00:00",
          "2019-11-24T19:28:41.600000+00:00",
          "2019-11-26T19:02:29.400000+00:00",
          "2019-11-30T18:10:05+00:00",
          "2019-12-02T17:43:52.800000+00:00",
          "2019-12-04T17:17:40.600000+00:00",
          "2019-12-06T16:51:28.400000+00:00",
          "2019-12-08T16:25:16.200000+00:00",
          "2019-12-10T15:59:04+00:00",
          "2019-12-12T15:32:51.800000+00:00",
          "2019-12-16T14:40:27.400000+00:00",
          "2019-12-18T14:14:15.200000+00:00",
          "2019-12-20T13:48:03+00:00",
          "2019-12-24T12:55:38.600000+00:00",
          "2019-12-26T12:29:26.400000+00:00"
         ],
         "y": [
          1,
          5,
          2,
          1,
          2,
          2,
          2,
          1,
          6,
          9,
          2,
          1,
          2,
          5,
          1,
          1,
          6,
          1,
          3,
          3,
          1,
          2,
          1
         ]
        },
        {
         "hoverinfo": "text",
         "hovertext": [
          "<b>Topic 6</b><br>Words: humas, november, dpr, nadiem, prioritas",
          "<b>Topic 6</b><br>Words: kurikulum, kenal, ktsp, budaya, belum",
          "<b>Topic 6</b><br>Words: tinjau, ulang, perata, gubernur, harap",
          "<b>Topic 6</b><br>Words: kotakota, daerahdaerah, universal, pencil, sifat",
          "<b>Topic 6</b><br>Words: budaya, pokokpokok, pemikian, jombang, koordinasi",
          "<b>Topic 6</b><br>Words: benah, standar, dorong, ri, lanjut",
          "<b>Topic 6</b><br>Words: budaya, menteri, makarim, program, empat",
          "<b>Topic 6</b><br>Words: program, makarim, budaya, anwar, uji",
          "<b>Topic 6</b><br>Words: uji, program, nasional, budaya, empat",
          "<b>Topic 6</b><br>Words: dindik, surabaya, keluar, budaya, jumlah",
          "<b>Topic 6</b><br>Words: uji, program, nasional, budaya, lima"
         ],
         "marker": {
          "color": "#CC79A7"
         },
         "mode": "lines",
         "name": "6_budaya_menteri_program_makarim",
         "type": "scatter",
         "x": [
          "2019-11-16T21:13:30.400000+00:00",
          "2019-11-22T19:54:53.800000+00:00",
          "2019-11-24T19:28:41.600000+00:00",
          "2019-11-26T19:02:29.400000+00:00",
          "2019-12-02T17:43:52.800000+00:00",
          "2019-12-08T16:25:16.200000+00:00",
          "2019-12-10T15:59:04+00:00",
          "2019-12-12T15:32:51.800000+00:00",
          "2019-12-14T15:06:39.600000+00:00",
          "2019-12-16T14:40:27.400000+00:00",
          "2019-12-22T13:21:50.800000+00:00"
         ],
         "y": [
          1,
          1,
          1,
          1,
          1,
          1,
          13,
          3,
          2,
          1,
          2
         ]
        },
        {
         "hoverinfo": "text",
         "hovertext": [
          "<b>Topic 7</b><br>Words: wamen, karir, khayal, valid, sisi",
          "<b>Topic 7</b><br>Words: menteri, fadli, ganti, bidang, bukan",
          "<b>Topic 7</b><br>Words: lebih, formula, somplak, mentingin, ciri",
          "<b>Topic 7</b><br>Words: pak, baru, menteri, ubah, resah",
          "<b>Topic 7</b><br>Words: ganti, potret, gonta, kurikulum, dunia",
          "<b>Topic 7</b><br>Words: beda, lieur, ari, cepat, sadar",
          "<b>Topic 7</b><br>Words: sana, saring, benah, pr, bodoh",
          "<b>Topic 7</b><br>Words: menteri, ganti, enggak, baru, amp",
          "<b>Topic 7</b><br>Words: menteri, ganti, hilang, segar, sudah",
          "<b>Topic 7</b><br>Words: un, enggak, pak, hapus, menteri",
          "<b>Topic 7</b><br>Words: bgtulah, repot, ganti, bawah, paham",
          "<b>Topic 7</b><br>Words: un, enggak, hapus, senang, anakanak",
          "<b>Topic 7</b><br>Words: kapal, illegal, fishing, penasaran, tenggelam",
          "<b>Topic 7</b><br>Words: apabila, langgar, adu, macam, wewenang"
         ],
         "marker": {
          "color": "#E69F00"
         },
         "mode": "lines",
         "name": "7_menteri_un_enggak_pak",
         "type": "scatter",
         "x": [
          "2019-11-03T00:16:55.800000+00:00",
          "2019-11-06T23:24:31.400000+00:00",
          "2019-11-12T22:05:54.800000+00:00",
          "2019-11-24T19:28:41.600000+00:00",
          "2019-11-26T19:02:29.400000+00:00",
          "2019-12-04T17:17:40.600000+00:00",
          "2019-12-06T16:51:28.400000+00:00",
          "2019-12-10T15:59:04+00:00",
          "2019-12-12T15:32:51.800000+00:00",
          "2019-12-14T15:06:39.600000+00:00",
          "2019-12-16T14:40:27.400000+00:00",
          "2019-12-18T14:14:15.200000+00:00",
          "2019-12-22T13:21:50.800000+00:00",
          "2019-12-26T12:29:26.400000+00:00"
         ],
         "y": [
          1,
          4,
          1,
          4,
          1,
          1,
          1,
          3,
          2,
          10,
          1,
          2,
          1,
          1
         ]
        }
       ],
       "layout": {
        "height": 450,
        "hoverlabel": {
         "bgcolor": "white",
         "font": {
          "family": "Rockwell",
          "size": 16
         }
        },
        "legend": {
         "title": {
          "text": "<b>Global Topic Representation"
         }
        },
        "template": {
         "data": {
          "bar": [
           {
            "error_x": {
             "color": "rgb(36,36,36)"
            },
            "error_y": {
             "color": "rgb(36,36,36)"
            },
            "marker": {
             "line": {
              "color": "white",
              "width": 0.5
             },
             "pattern": {
              "fillmode": "overlay",
              "size": 10,
              "solidity": 0.2
             }
            },
            "type": "bar"
           }
          ],
          "barpolar": [
           {
            "marker": {
             "line": {
              "color": "white",
              "width": 0.5
             },
             "pattern": {
              "fillmode": "overlay",
              "size": 10,
              "solidity": 0.2
             }
            },
            "type": "barpolar"
           }
          ],
          "carpet": [
           {
            "aaxis": {
             "endlinecolor": "rgb(36,36,36)",
             "gridcolor": "white",
             "linecolor": "white",
             "minorgridcolor": "white",
             "startlinecolor": "rgb(36,36,36)"
            },
            "baxis": {
             "endlinecolor": "rgb(36,36,36)",
             "gridcolor": "white",
             "linecolor": "white",
             "minorgridcolor": "white",
             "startlinecolor": "rgb(36,36,36)"
            },
            "type": "carpet"
           }
          ],
          "choropleth": [
           {
            "colorbar": {
             "outlinewidth": 1,
             "tickcolor": "rgb(36,36,36)",
             "ticks": "outside"
            },
            "type": "choropleth"
           }
          ],
          "contour": [
           {
            "colorbar": {
             "outlinewidth": 1,
             "tickcolor": "rgb(36,36,36)",
             "ticks": "outside"
            },
            "colorscale": [
             [
              0,
              "#440154"
             ],
             [
              0.1111111111111111,
              "#482878"
             ],
             [
              0.2222222222222222,
              "#3e4989"
             ],
             [
              0.3333333333333333,
              "#31688e"
             ],
             [
              0.4444444444444444,
              "#26828e"
             ],
             [
              0.5555555555555556,
              "#1f9e89"
             ],
             [
              0.6666666666666666,
              "#35b779"
             ],
             [
              0.7777777777777778,
              "#6ece58"
             ],
             [
              0.8888888888888888,
              "#b5de2b"
             ],
             [
              1,
              "#fde725"
             ]
            ],
            "type": "contour"
           }
          ],
          "contourcarpet": [
           {
            "colorbar": {
             "outlinewidth": 1,
             "tickcolor": "rgb(36,36,36)",
             "ticks": "outside"
            },
            "type": "contourcarpet"
           }
          ],
          "heatmap": [
           {
            "colorbar": {
             "outlinewidth": 1,
             "tickcolor": "rgb(36,36,36)",
             "ticks": "outside"
            },
            "colorscale": [
             [
              0,
              "#440154"
             ],
             [
              0.1111111111111111,
              "#482878"
             ],
             [
              0.2222222222222222,
              "#3e4989"
             ],
             [
              0.3333333333333333,
              "#31688e"
             ],
             [
              0.4444444444444444,
              "#26828e"
             ],
             [
              0.5555555555555556,
              "#1f9e89"
             ],
             [
              0.6666666666666666,
              "#35b779"
             ],
             [
              0.7777777777777778,
              "#6ece58"
             ],
             [
              0.8888888888888888,
              "#b5de2b"
             ],
             [
              1,
              "#fde725"
             ]
            ],
            "type": "heatmap"
           }
          ],
          "heatmapgl": [
           {
            "colorbar": {
             "outlinewidth": 1,
             "tickcolor": "rgb(36,36,36)",
             "ticks": "outside"
            },
            "colorscale": [
             [
              0,
              "#440154"
             ],
             [
              0.1111111111111111,
              "#482878"
             ],
             [
              0.2222222222222222,
              "#3e4989"
             ],
             [
              0.3333333333333333,
              "#31688e"
             ],
             [
              0.4444444444444444,
              "#26828e"
             ],
             [
              0.5555555555555556,
              "#1f9e89"
             ],
             [
              0.6666666666666666,
              "#35b779"
             ],
             [
              0.7777777777777778,
              "#6ece58"
             ],
             [
              0.8888888888888888,
              "#b5de2b"
             ],
             [
              1,
              "#fde725"
             ]
            ],
            "type": "heatmapgl"
           }
          ],
          "histogram": [
           {
            "marker": {
             "line": {
              "color": "white",
              "width": 0.6
             }
            },
            "type": "histogram"
           }
          ],
          "histogram2d": [
           {
            "colorbar": {
             "outlinewidth": 1,
             "tickcolor": "rgb(36,36,36)",
             "ticks": "outside"
            },
            "colorscale": [
             [
              0,
              "#440154"
             ],
             [
              0.1111111111111111,
              "#482878"
             ],
             [
              0.2222222222222222,
              "#3e4989"
             ],
             [
              0.3333333333333333,
              "#31688e"
             ],
             [
              0.4444444444444444,
              "#26828e"
             ],
             [
              0.5555555555555556,
              "#1f9e89"
             ],
             [
              0.6666666666666666,
              "#35b779"
             ],
             [
              0.7777777777777778,
              "#6ece58"
             ],
             [
              0.8888888888888888,
              "#b5de2b"
             ],
             [
              1,
              "#fde725"
             ]
            ],
            "type": "histogram2d"
           }
          ],
          "histogram2dcontour": [
           {
            "colorbar": {
             "outlinewidth": 1,
             "tickcolor": "rgb(36,36,36)",
             "ticks": "outside"
            },
            "colorscale": [
             [
              0,
              "#440154"
             ],
             [
              0.1111111111111111,
              "#482878"
             ],
             [
              0.2222222222222222,
              "#3e4989"
             ],
             [
              0.3333333333333333,
              "#31688e"
             ],
             [
              0.4444444444444444,
              "#26828e"
             ],
             [
              0.5555555555555556,
              "#1f9e89"
             ],
             [
              0.6666666666666666,
              "#35b779"
             ],
             [
              0.7777777777777778,
              "#6ece58"
             ],
             [
              0.8888888888888888,
              "#b5de2b"
             ],
             [
              1,
              "#fde725"
             ]
            ],
            "type": "histogram2dcontour"
           }
          ],
          "mesh3d": [
           {
            "colorbar": {
             "outlinewidth": 1,
             "tickcolor": "rgb(36,36,36)",
             "ticks": "outside"
            },
            "type": "mesh3d"
           }
          ],
          "parcoords": [
           {
            "line": {
             "colorbar": {
              "outlinewidth": 1,
              "tickcolor": "rgb(36,36,36)",
              "ticks": "outside"
             }
            },
            "type": "parcoords"
           }
          ],
          "pie": [
           {
            "automargin": true,
            "type": "pie"
           }
          ],
          "scatter": [
           {
            "fillpattern": {
             "fillmode": "overlay",
             "size": 10,
             "solidity": 0.2
            },
            "type": "scatter"
           }
          ],
          "scatter3d": [
           {
            "line": {
             "colorbar": {
              "outlinewidth": 1,
              "tickcolor": "rgb(36,36,36)",
              "ticks": "outside"
             }
            },
            "marker": {
             "colorbar": {
              "outlinewidth": 1,
              "tickcolor": "rgb(36,36,36)",
              "ticks": "outside"
             }
            },
            "type": "scatter3d"
           }
          ],
          "scattercarpet": [
           {
            "marker": {
             "colorbar": {
              "outlinewidth": 1,
              "tickcolor": "rgb(36,36,36)",
              "ticks": "outside"
             }
            },
            "type": "scattercarpet"
           }
          ],
          "scattergeo": [
           {
            "marker": {
             "colorbar": {
              "outlinewidth": 1,
              "tickcolor": "rgb(36,36,36)",
              "ticks": "outside"
             }
            },
            "type": "scattergeo"
           }
          ],
          "scattergl": [
           {
            "marker": {
             "colorbar": {
              "outlinewidth": 1,
              "tickcolor": "rgb(36,36,36)",
              "ticks": "outside"
             }
            },
            "type": "scattergl"
           }
          ],
          "scattermapbox": [
           {
            "marker": {
             "colorbar": {
              "outlinewidth": 1,
              "tickcolor": "rgb(36,36,36)",
              "ticks": "outside"
             }
            },
            "type": "scattermapbox"
           }
          ],
          "scatterpolar": [
           {
            "marker": {
             "colorbar": {
              "outlinewidth": 1,
              "tickcolor": "rgb(36,36,36)",
              "ticks": "outside"
             }
            },
            "type": "scatterpolar"
           }
          ],
          "scatterpolargl": [
           {
            "marker": {
             "colorbar": {
              "outlinewidth": 1,
              "tickcolor": "rgb(36,36,36)",
              "ticks": "outside"
             }
            },
            "type": "scatterpolargl"
           }
          ],
          "scatterternary": [
           {
            "marker": {
             "colorbar": {
              "outlinewidth": 1,
              "tickcolor": "rgb(36,36,36)",
              "ticks": "outside"
             }
            },
            "type": "scatterternary"
           }
          ],
          "surface": [
           {
            "colorbar": {
             "outlinewidth": 1,
             "tickcolor": "rgb(36,36,36)",
             "ticks": "outside"
            },
            "colorscale": [
             [
              0,
              "#440154"
             ],
             [
              0.1111111111111111,
              "#482878"
             ],
             [
              0.2222222222222222,
              "#3e4989"
             ],
             [
              0.3333333333333333,
              "#31688e"
             ],
             [
              0.4444444444444444,
              "#26828e"
             ],
             [
              0.5555555555555556,
              "#1f9e89"
             ],
             [
              0.6666666666666666,
              "#35b779"
             ],
             [
              0.7777777777777778,
              "#6ece58"
             ],
             [
              0.8888888888888888,
              "#b5de2b"
             ],
             [
              1,
              "#fde725"
             ]
            ],
            "type": "surface"
           }
          ],
          "table": [
           {
            "cells": {
             "fill": {
              "color": "rgb(237,237,237)"
             },
             "line": {
              "color": "white"
             }
            },
            "header": {
             "fill": {
              "color": "rgb(217,217,217)"
             },
             "line": {
              "color": "white"
             }
            },
            "type": "table"
           }
          ]
         },
         "layout": {
          "annotationdefaults": {
           "arrowhead": 0,
           "arrowwidth": 1
          },
          "autotypenumbers": "strict",
          "coloraxis": {
           "colorbar": {
            "outlinewidth": 1,
            "tickcolor": "rgb(36,36,36)",
            "ticks": "outside"
           }
          },
          "colorscale": {
           "diverging": [
            [
             0,
             "rgb(103,0,31)"
            ],
            [
             0.1,
             "rgb(178,24,43)"
            ],
            [
             0.2,
             "rgb(214,96,77)"
            ],
            [
             0.3,
             "rgb(244,165,130)"
            ],
            [
             0.4,
             "rgb(253,219,199)"
            ],
            [
             0.5,
             "rgb(247,247,247)"
            ],
            [
             0.6,
             "rgb(209,229,240)"
            ],
            [
             0.7,
             "rgb(146,197,222)"
            ],
            [
             0.8,
             "rgb(67,147,195)"
            ],
            [
             0.9,
             "rgb(33,102,172)"
            ],
            [
             1,
             "rgb(5,48,97)"
            ]
           ],
           "sequential": [
            [
             0,
             "#440154"
            ],
            [
             0.1111111111111111,
             "#482878"
            ],
            [
             0.2222222222222222,
             "#3e4989"
            ],
            [
             0.3333333333333333,
             "#31688e"
            ],
            [
             0.4444444444444444,
             "#26828e"
            ],
            [
             0.5555555555555556,
             "#1f9e89"
            ],
            [
             0.6666666666666666,
             "#35b779"
            ],
            [
             0.7777777777777778,
             "#6ece58"
            ],
            [
             0.8888888888888888,
             "#b5de2b"
            ],
            [
             1,
             "#fde725"
            ]
           ],
           "sequentialminus": [
            [
             0,
             "#440154"
            ],
            [
             0.1111111111111111,
             "#482878"
            ],
            [
             0.2222222222222222,
             "#3e4989"
            ],
            [
             0.3333333333333333,
             "#31688e"
            ],
            [
             0.4444444444444444,
             "#26828e"
            ],
            [
             0.5555555555555556,
             "#1f9e89"
            ],
            [
             0.6666666666666666,
             "#35b779"
            ],
            [
             0.7777777777777778,
             "#6ece58"
            ],
            [
             0.8888888888888888,
             "#b5de2b"
            ],
            [
             1,
             "#fde725"
            ]
           ]
          },
          "colorway": [
           "#1F77B4",
           "#FF7F0E",
           "#2CA02C",
           "#D62728",
           "#9467BD",
           "#8C564B",
           "#E377C2",
           "#7F7F7F",
           "#BCBD22",
           "#17BECF"
          ],
          "font": {
           "color": "rgb(36,36,36)"
          },
          "geo": {
           "bgcolor": "white",
           "lakecolor": "white",
           "landcolor": "white",
           "showlakes": true,
           "showland": true,
           "subunitcolor": "white"
          },
          "hoverlabel": {
           "align": "left"
          },
          "hovermode": "closest",
          "mapbox": {
           "style": "light"
          },
          "paper_bgcolor": "white",
          "plot_bgcolor": "white",
          "polar": {
           "angularaxis": {
            "gridcolor": "rgb(232,232,232)",
            "linecolor": "rgb(36,36,36)",
            "showgrid": false,
            "showline": true,
            "ticks": "outside"
           },
           "bgcolor": "white",
           "radialaxis": {
            "gridcolor": "rgb(232,232,232)",
            "linecolor": "rgb(36,36,36)",
            "showgrid": false,
            "showline": true,
            "ticks": "outside"
           }
          },
          "scene": {
           "xaxis": {
            "backgroundcolor": "white",
            "gridcolor": "rgb(232,232,232)",
            "gridwidth": 2,
            "linecolor": "rgb(36,36,36)",
            "showbackground": true,
            "showgrid": false,
            "showline": true,
            "ticks": "outside",
            "zeroline": false,
            "zerolinecolor": "rgb(36,36,36)"
           },
           "yaxis": {
            "backgroundcolor": "white",
            "gridcolor": "rgb(232,232,232)",
            "gridwidth": 2,
            "linecolor": "rgb(36,36,36)",
            "showbackground": true,
            "showgrid": false,
            "showline": true,
            "ticks": "outside",
            "zeroline": false,
            "zerolinecolor": "rgb(36,36,36)"
           },
           "zaxis": {
            "backgroundcolor": "white",
            "gridcolor": "rgb(232,232,232)",
            "gridwidth": 2,
            "linecolor": "rgb(36,36,36)",
            "showbackground": true,
            "showgrid": false,
            "showline": true,
            "ticks": "outside",
            "zeroline": false,
            "zerolinecolor": "rgb(36,36,36)"
           }
          },
          "shapedefaults": {
           "fillcolor": "black",
           "line": {
            "width": 0
           },
           "opacity": 0.3
          },
          "ternary": {
           "aaxis": {
            "gridcolor": "rgb(232,232,232)",
            "linecolor": "rgb(36,36,36)",
            "showgrid": false,
            "showline": true,
            "ticks": "outside"
           },
           "baxis": {
            "gridcolor": "rgb(232,232,232)",
            "linecolor": "rgb(36,36,36)",
            "showgrid": false,
            "showline": true,
            "ticks": "outside"
           },
           "bgcolor": "white",
           "caxis": {
            "gridcolor": "rgb(232,232,232)",
            "linecolor": "rgb(36,36,36)",
            "showgrid": false,
            "showline": true,
            "ticks": "outside"
           }
          },
          "title": {
           "x": 0.05
          },
          "xaxis": {
           "automargin": true,
           "gridcolor": "rgb(232,232,232)",
           "linecolor": "rgb(36,36,36)",
           "showgrid": false,
           "showline": true,
           "ticks": "outside",
           "title": {
            "standoff": 15
           },
           "zeroline": false,
           "zerolinecolor": "rgb(36,36,36)"
          },
          "yaxis": {
           "automargin": true,
           "gridcolor": "rgb(232,232,232)",
           "linecolor": "rgb(36,36,36)",
           "showgrid": false,
           "showline": true,
           "ticks": "outside",
           "title": {
            "standoff": 15
           },
           "zeroline": false,
           "zerolinecolor": "rgb(36,36,36)"
          }
         }
        },
        "title": {
         "font": {
          "color": "Black",
          "size": 22
         },
         "text": "Topics Over Time for 2019Q4",
         "x": 0.4,
         "xanchor": "center",
         "y": 0.95,
         "yanchor": "top"
        },
        "width": 1250,
        "xaxis": {
         "showgrid": true
        },
        "yaxis": {
         "showgrid": true,
         "title": {
          "text": "Frequency"
         }
        }
       }
      }
     },
     "metadata": {},
     "output_type": "display_data"
    },
    {
     "data": {
      "application/vnd.plotly.v1+json": {
       "config": {
        "plotlyServerURL": "https://plot.ly"
       },
       "data": [
        {
         "hoverinfo": "text",
         "hovertext": [
          "<b>Topic 0</b><br>Words: islam, buku, minta, cegah, pemda",
          "<b>Topic 0</b><br>Words: islam, orde, analisa, belanda, jepang",
          "<b>Topic 0</b><br>Words: islam, minta, cegah, pemda, ikut",
          "<b>Topic 0</b><br>Words: islam, minta, cegah, pemda, ikut"
         ],
         "marker": {
          "color": "#E69F00"
         },
         "mode": "lines",
         "name": "0_islam_minta_cegah_pemda",
         "type": "scatter",
         "x": [
          "2020-02-03T13:02:07+00:00",
          "2020-02-21T06:30:31+00:00",
          "2020-03-12T22:53:39+00:00",
          "2020-03-15T21:48:23+00:00"
         ],
         "y": [
          1,
          1,
          13,
          12
         ]
        },
        {
         "hoverinfo": "text",
         "hovertext": [
          "<b>Topic 1</b><br>Words: integrasi, kemendikbud, ubah, sinkron, jalur",
          "<b>Topic 1</b><br>Words: malaysia, mundur, kritik, habis, menteri",
          "<b>Topic 1</b><br>Words: menteri, sekolah, jateng, ajar, merdeka",
          "<b>Topic 1</b><br>Words: anies, banyak, anggar, ibu, bapak",
          "<b>Topic 1</b><br>Words: jago, formal, ilmu, arah, non",
          "<b>Topic 1</b><br>Words: anti, nadiem, lingkung, masuk, baru",
          "<b>Topic 1</b><br>Words: zonasi, kena, wapres, malang, dokter",
          "<b>Topic 1</b><br>Words: merdeka, ajar, kampus, luncur, nadiem",
          "<b>Topic 1</b><br>Words: tinggi, merdeka, kampus, nadiem, ajar",
          "<b>Topic 1</b><br>Words: kampus, merdeka, nadiem, makarim, menteri",
          "<b>Topic 1</b><br>Words: vokasi, nadiem, merdeka, menteri, kampus",
          "<b>Topic 1</b><br>Words: pangan, merdeka, ajar, nadiem, sekolah",
          "<b>Topic 1</b><br>Words: analisis, buku, merdeka, kampus, jadi",
          "<b>Topic 1</b><br>Words: menteri, dana, merdeka, sekolah, budaya",
          "<b>Topic 1</b><br>Words: jadi, sekolah, budaya, merdeka, ajar",
          "<b>Topic 1</b><br>Words: merdeka, nadiem, menteri, kampus, ajar",
          "<b>Topic 1</b><br>Words: bayar, spp, menteri, gojek, sekolah",
          "<b>Topic 1</b><br>Words: menteri, sekolah, me, get, know",
          "<b>Topic 1</b><br>Words: merdeka, menteri, kalau, kampus, buat",
          "<b>Topic 1</b><br>Words: sptv, isdianto, jombang, menyamaratakan, tahun",
          "<b>Topic 1</b><br>Words: merdeka, guru, ajar, sekolah, mang",
          "<b>Topic 1</b><br>Words: merdeka, kampus, semua, memasilitasi, bedah",
          "<b>Topic 1</b><br>Words: merdeka, asing, tak, kampus, pts",
          "<b>Topic 1</b><br>Words: libur, sekolah, balikpapan, perintah, paud",
          "<b>Topic 1</b><br>Words: libur, ajar, rumah, sekolah, perintah",
          "<b>Topic 1</b><br>Words: pasuruan, kota, guru, ajar, merdeka",
          "<b>Topic 1</b><br>Words: diy, daerah, ajar, sekolah, siswa",
          "<b>Topic 1</b><br>Words: covid, mendikbud, laksana, darurat, masa",
          "<b>Topic 1</b><br>Words: ajar, edar, surat, darurat, tahun"
         ],
         "marker": {
          "color": "#56B4E9"
         },
         "mode": "lines",
         "name": "1_merdeka_menteri_ajar_nadiem",
         "type": "scatter",
         "x": [
          "2020-01-01T22:52:24.480000+00:00",
          "2020-01-04T23:54:47+00:00",
          "2020-01-07T22:49:31+00:00",
          "2020-01-10T21:44:15+00:00",
          "2020-01-13T20:38:59+00:00",
          "2020-01-16T19:33:43+00:00",
          "2020-01-19T18:28:27+00:00",
          "2020-01-22T17:23:11+00:00",
          "2020-01-25T16:17:55+00:00",
          "2020-01-28T15:12:39+00:00",
          "2020-01-31T14:07:23+00:00",
          "2020-02-03T13:02:07+00:00",
          "2020-02-06T11:56:51+00:00",
          "2020-02-09T10:51:35+00:00",
          "2020-02-12T09:46:19+00:00",
          "2020-02-15T08:41:03+00:00",
          "2020-02-18T07:35:47+00:00",
          "2020-02-21T06:30:31+00:00",
          "2020-02-24T05:25:15+00:00",
          "2020-02-27T04:19:59+00:00",
          "2020-03-01T03:14:43+00:00",
          "2020-03-04T02:09:27+00:00",
          "2020-03-09T23:58:55+00:00",
          "2020-03-12T22:53:39+00:00",
          "2020-03-15T21:48:23+00:00",
          "2020-03-18T20:43:07+00:00",
          "2020-03-21T19:37:51+00:00",
          "2020-03-24T18:32:35+00:00",
          "2020-03-27T17:27:19+00:00"
         ],
         "y": [
          14,
          14,
          13,
          7,
          17,
          7,
          9,
          27,
          48,
          26,
          14,
          17,
          12,
          21,
          19,
          27,
          23,
          20,
          15,
          4,
          12,
          20,
          18,
          7,
          23,
          21,
          34,
          48,
          22
         ]
        },
        {
         "hoverinfo": "text",
         "hovertext": [
          "<b>Topic 2</b><br>Words: coronavirus, resmi, disease, se, nomor",
          "<b>Topic 2</b><br>Words: disease, darurat, masa, sebar, surat",
          "<b>Topic 2</b><br>Words: tahun, laksana, disease, darurat, masa"
         ],
         "marker": {
          "color": "#009E73"
         },
         "mode": "lines",
         "name": "2_disease_coronavirus_darurat_masa",
         "type": "scatter",
         "x": [
          "2020-03-21T19:37:51+00:00",
          "2020-03-24T18:32:35+00:00",
          "2020-03-27T17:27:19+00:00"
         ],
         "y": [
          7,
          5,
          1
         ]
        },
        {
         "hoverinfo": "text",
         "hovertext": [
          "<b>Topic 3</b><br>Words: rudi, batam, hendri, virus, apresiasi",
          "<b>Topic 3</b><br>Words: virus, corona, sebar, edar, covid",
          "<b>Topic 3</b><br>Words: virus, corona, tunda, sebar, perintah",
          "<b>Topic 3</b><br>Words: korona, perlu, sulam, azab, tambal",
          "<b>Topic 3</b><br>Words: virus, covid, sebar, corona, darurat",
          "<b>Topic 3</b><br>Words: virus, corona, sebar, covid, disease",
          "<b>Topic 3</b><br>Words: virus, corona, sebar, covid, darurat"
         ],
         "marker": {
          "color": "#F0E442"
         },
         "mode": "lines",
         "name": "3_virus_corona_sebar_covid",
         "type": "scatter",
         "x": [
          "2020-02-09T10:51:35+00:00",
          "2020-03-12T22:53:39+00:00",
          "2020-03-15T21:48:23+00:00",
          "2020-03-18T20:43:07+00:00",
          "2020-03-21T19:37:51+00:00",
          "2020-03-24T18:32:35+00:00",
          "2020-03-27T17:27:19+00:00"
         ],
         "y": [
          2,
          6,
          5,
          1,
          12,
          26,
          11
         ]
        }
       ],
       "layout": {
        "height": 450,
        "hoverlabel": {
         "bgcolor": "white",
         "font": {
          "family": "Rockwell",
          "size": 16
         }
        },
        "legend": {
         "title": {
          "text": "<b>Global Topic Representation"
         }
        },
        "template": {
         "data": {
          "bar": [
           {
            "error_x": {
             "color": "rgb(36,36,36)"
            },
            "error_y": {
             "color": "rgb(36,36,36)"
            },
            "marker": {
             "line": {
              "color": "white",
              "width": 0.5
             },
             "pattern": {
              "fillmode": "overlay",
              "size": 10,
              "solidity": 0.2
             }
            },
            "type": "bar"
           }
          ],
          "barpolar": [
           {
            "marker": {
             "line": {
              "color": "white",
              "width": 0.5
             },
             "pattern": {
              "fillmode": "overlay",
              "size": 10,
              "solidity": 0.2
             }
            },
            "type": "barpolar"
           }
          ],
          "carpet": [
           {
            "aaxis": {
             "endlinecolor": "rgb(36,36,36)",
             "gridcolor": "white",
             "linecolor": "white",
             "minorgridcolor": "white",
             "startlinecolor": "rgb(36,36,36)"
            },
            "baxis": {
             "endlinecolor": "rgb(36,36,36)",
             "gridcolor": "white",
             "linecolor": "white",
             "minorgridcolor": "white",
             "startlinecolor": "rgb(36,36,36)"
            },
            "type": "carpet"
           }
          ],
          "choropleth": [
           {
            "colorbar": {
             "outlinewidth": 1,
             "tickcolor": "rgb(36,36,36)",
             "ticks": "outside"
            },
            "type": "choropleth"
           }
          ],
          "contour": [
           {
            "colorbar": {
             "outlinewidth": 1,
             "tickcolor": "rgb(36,36,36)",
             "ticks": "outside"
            },
            "colorscale": [
             [
              0,
              "#440154"
             ],
             [
              0.1111111111111111,
              "#482878"
             ],
             [
              0.2222222222222222,
              "#3e4989"
             ],
             [
              0.3333333333333333,
              "#31688e"
             ],
             [
              0.4444444444444444,
              "#26828e"
             ],
             [
              0.5555555555555556,
              "#1f9e89"
             ],
             [
              0.6666666666666666,
              "#35b779"
             ],
             [
              0.7777777777777778,
              "#6ece58"
             ],
             [
              0.8888888888888888,
              "#b5de2b"
             ],
             [
              1,
              "#fde725"
             ]
            ],
            "type": "contour"
           }
          ],
          "contourcarpet": [
           {
            "colorbar": {
             "outlinewidth": 1,
             "tickcolor": "rgb(36,36,36)",
             "ticks": "outside"
            },
            "type": "contourcarpet"
           }
          ],
          "heatmap": [
           {
            "colorbar": {
             "outlinewidth": 1,
             "tickcolor": "rgb(36,36,36)",
             "ticks": "outside"
            },
            "colorscale": [
             [
              0,
              "#440154"
             ],
             [
              0.1111111111111111,
              "#482878"
             ],
             [
              0.2222222222222222,
              "#3e4989"
             ],
             [
              0.3333333333333333,
              "#31688e"
             ],
             [
              0.4444444444444444,
              "#26828e"
             ],
             [
              0.5555555555555556,
              "#1f9e89"
             ],
             [
              0.6666666666666666,
              "#35b779"
             ],
             [
              0.7777777777777778,
              "#6ece58"
             ],
             [
              0.8888888888888888,
              "#b5de2b"
             ],
             [
              1,
              "#fde725"
             ]
            ],
            "type": "heatmap"
           }
          ],
          "heatmapgl": [
           {
            "colorbar": {
             "outlinewidth": 1,
             "tickcolor": "rgb(36,36,36)",
             "ticks": "outside"
            },
            "colorscale": [
             [
              0,
              "#440154"
             ],
             [
              0.1111111111111111,
              "#482878"
             ],
             [
              0.2222222222222222,
              "#3e4989"
             ],
             [
              0.3333333333333333,
              "#31688e"
             ],
             [
              0.4444444444444444,
              "#26828e"
             ],
             [
              0.5555555555555556,
              "#1f9e89"
             ],
             [
              0.6666666666666666,
              "#35b779"
             ],
             [
              0.7777777777777778,
              "#6ece58"
             ],
             [
              0.8888888888888888,
              "#b5de2b"
             ],
             [
              1,
              "#fde725"
             ]
            ],
            "type": "heatmapgl"
           }
          ],
          "histogram": [
           {
            "marker": {
             "line": {
              "color": "white",
              "width": 0.6
             }
            },
            "type": "histogram"
           }
          ],
          "histogram2d": [
           {
            "colorbar": {
             "outlinewidth": 1,
             "tickcolor": "rgb(36,36,36)",
             "ticks": "outside"
            },
            "colorscale": [
             [
              0,
              "#440154"
             ],
             [
              0.1111111111111111,
              "#482878"
             ],
             [
              0.2222222222222222,
              "#3e4989"
             ],
             [
              0.3333333333333333,
              "#31688e"
             ],
             [
              0.4444444444444444,
              "#26828e"
             ],
             [
              0.5555555555555556,
              "#1f9e89"
             ],
             [
              0.6666666666666666,
              "#35b779"
             ],
             [
              0.7777777777777778,
              "#6ece58"
             ],
             [
              0.8888888888888888,
              "#b5de2b"
             ],
             [
              1,
              "#fde725"
             ]
            ],
            "type": "histogram2d"
           }
          ],
          "histogram2dcontour": [
           {
            "colorbar": {
             "outlinewidth": 1,
             "tickcolor": "rgb(36,36,36)",
             "ticks": "outside"
            },
            "colorscale": [
             [
              0,
              "#440154"
             ],
             [
              0.1111111111111111,
              "#482878"
             ],
             [
              0.2222222222222222,
              "#3e4989"
             ],
             [
              0.3333333333333333,
              "#31688e"
             ],
             [
              0.4444444444444444,
              "#26828e"
             ],
             [
              0.5555555555555556,
              "#1f9e89"
             ],
             [
              0.6666666666666666,
              "#35b779"
             ],
             [
              0.7777777777777778,
              "#6ece58"
             ],
             [
              0.8888888888888888,
              "#b5de2b"
             ],
             [
              1,
              "#fde725"
             ]
            ],
            "type": "histogram2dcontour"
           }
          ],
          "mesh3d": [
           {
            "colorbar": {
             "outlinewidth": 1,
             "tickcolor": "rgb(36,36,36)",
             "ticks": "outside"
            },
            "type": "mesh3d"
           }
          ],
          "parcoords": [
           {
            "line": {
             "colorbar": {
              "outlinewidth": 1,
              "tickcolor": "rgb(36,36,36)",
              "ticks": "outside"
             }
            },
            "type": "parcoords"
           }
          ],
          "pie": [
           {
            "automargin": true,
            "type": "pie"
           }
          ],
          "scatter": [
           {
            "fillpattern": {
             "fillmode": "overlay",
             "size": 10,
             "solidity": 0.2
            },
            "type": "scatter"
           }
          ],
          "scatter3d": [
           {
            "line": {
             "colorbar": {
              "outlinewidth": 1,
              "tickcolor": "rgb(36,36,36)",
              "ticks": "outside"
             }
            },
            "marker": {
             "colorbar": {
              "outlinewidth": 1,
              "tickcolor": "rgb(36,36,36)",
              "ticks": "outside"
             }
            },
            "type": "scatter3d"
           }
          ],
          "scattercarpet": [
           {
            "marker": {
             "colorbar": {
              "outlinewidth": 1,
              "tickcolor": "rgb(36,36,36)",
              "ticks": "outside"
             }
            },
            "type": "scattercarpet"
           }
          ],
          "scattergeo": [
           {
            "marker": {
             "colorbar": {
              "outlinewidth": 1,
              "tickcolor": "rgb(36,36,36)",
              "ticks": "outside"
             }
            },
            "type": "scattergeo"
           }
          ],
          "scattergl": [
           {
            "marker": {
             "colorbar": {
              "outlinewidth": 1,
              "tickcolor": "rgb(36,36,36)",
              "ticks": "outside"
             }
            },
            "type": "scattergl"
           }
          ],
          "scattermapbox": [
           {
            "marker": {
             "colorbar": {
              "outlinewidth": 1,
              "tickcolor": "rgb(36,36,36)",
              "ticks": "outside"
             }
            },
            "type": "scattermapbox"
           }
          ],
          "scatterpolar": [
           {
            "marker": {
             "colorbar": {
              "outlinewidth": 1,
              "tickcolor": "rgb(36,36,36)",
              "ticks": "outside"
             }
            },
            "type": "scatterpolar"
           }
          ],
          "scatterpolargl": [
           {
            "marker": {
             "colorbar": {
              "outlinewidth": 1,
              "tickcolor": "rgb(36,36,36)",
              "ticks": "outside"
             }
            },
            "type": "scatterpolargl"
           }
          ],
          "scatterternary": [
           {
            "marker": {
             "colorbar": {
              "outlinewidth": 1,
              "tickcolor": "rgb(36,36,36)",
              "ticks": "outside"
             }
            },
            "type": "scatterternary"
           }
          ],
          "surface": [
           {
            "colorbar": {
             "outlinewidth": 1,
             "tickcolor": "rgb(36,36,36)",
             "ticks": "outside"
            },
            "colorscale": [
             [
              0,
              "#440154"
             ],
             [
              0.1111111111111111,
              "#482878"
             ],
             [
              0.2222222222222222,
              "#3e4989"
             ],
             [
              0.3333333333333333,
              "#31688e"
             ],
             [
              0.4444444444444444,
              "#26828e"
             ],
             [
              0.5555555555555556,
              "#1f9e89"
             ],
             [
              0.6666666666666666,
              "#35b779"
             ],
             [
              0.7777777777777778,
              "#6ece58"
             ],
             [
              0.8888888888888888,
              "#b5de2b"
             ],
             [
              1,
              "#fde725"
             ]
            ],
            "type": "surface"
           }
          ],
          "table": [
           {
            "cells": {
             "fill": {
              "color": "rgb(237,237,237)"
             },
             "line": {
              "color": "white"
             }
            },
            "header": {
             "fill": {
              "color": "rgb(217,217,217)"
             },
             "line": {
              "color": "white"
             }
            },
            "type": "table"
           }
          ]
         },
         "layout": {
          "annotationdefaults": {
           "arrowhead": 0,
           "arrowwidth": 1
          },
          "autotypenumbers": "strict",
          "coloraxis": {
           "colorbar": {
            "outlinewidth": 1,
            "tickcolor": "rgb(36,36,36)",
            "ticks": "outside"
           }
          },
          "colorscale": {
           "diverging": [
            [
             0,
             "rgb(103,0,31)"
            ],
            [
             0.1,
             "rgb(178,24,43)"
            ],
            [
             0.2,
             "rgb(214,96,77)"
            ],
            [
             0.3,
             "rgb(244,165,130)"
            ],
            [
             0.4,
             "rgb(253,219,199)"
            ],
            [
             0.5,
             "rgb(247,247,247)"
            ],
            [
             0.6,
             "rgb(209,229,240)"
            ],
            [
             0.7,
             "rgb(146,197,222)"
            ],
            [
             0.8,
             "rgb(67,147,195)"
            ],
            [
             0.9,
             "rgb(33,102,172)"
            ],
            [
             1,
             "rgb(5,48,97)"
            ]
           ],
           "sequential": [
            [
             0,
             "#440154"
            ],
            [
             0.1111111111111111,
             "#482878"
            ],
            [
             0.2222222222222222,
             "#3e4989"
            ],
            [
             0.3333333333333333,
             "#31688e"
            ],
            [
             0.4444444444444444,
             "#26828e"
            ],
            [
             0.5555555555555556,
             "#1f9e89"
            ],
            [
             0.6666666666666666,
             "#35b779"
            ],
            [
             0.7777777777777778,
             "#6ece58"
            ],
            [
             0.8888888888888888,
             "#b5de2b"
            ],
            [
             1,
             "#fde725"
            ]
           ],
           "sequentialminus": [
            [
             0,
             "#440154"
            ],
            [
             0.1111111111111111,
             "#482878"
            ],
            [
             0.2222222222222222,
             "#3e4989"
            ],
            [
             0.3333333333333333,
             "#31688e"
            ],
            [
             0.4444444444444444,
             "#26828e"
            ],
            [
             0.5555555555555556,
             "#1f9e89"
            ],
            [
             0.6666666666666666,
             "#35b779"
            ],
            [
             0.7777777777777778,
             "#6ece58"
            ],
            [
             0.8888888888888888,
             "#b5de2b"
            ],
            [
             1,
             "#fde725"
            ]
           ]
          },
          "colorway": [
           "#1F77B4",
           "#FF7F0E",
           "#2CA02C",
           "#D62728",
           "#9467BD",
           "#8C564B",
           "#E377C2",
           "#7F7F7F",
           "#BCBD22",
           "#17BECF"
          ],
          "font": {
           "color": "rgb(36,36,36)"
          },
          "geo": {
           "bgcolor": "white",
           "lakecolor": "white",
           "landcolor": "white",
           "showlakes": true,
           "showland": true,
           "subunitcolor": "white"
          },
          "hoverlabel": {
           "align": "left"
          },
          "hovermode": "closest",
          "mapbox": {
           "style": "light"
          },
          "paper_bgcolor": "white",
          "plot_bgcolor": "white",
          "polar": {
           "angularaxis": {
            "gridcolor": "rgb(232,232,232)",
            "linecolor": "rgb(36,36,36)",
            "showgrid": false,
            "showline": true,
            "ticks": "outside"
           },
           "bgcolor": "white",
           "radialaxis": {
            "gridcolor": "rgb(232,232,232)",
            "linecolor": "rgb(36,36,36)",
            "showgrid": false,
            "showline": true,
            "ticks": "outside"
           }
          },
          "scene": {
           "xaxis": {
            "backgroundcolor": "white",
            "gridcolor": "rgb(232,232,232)",
            "gridwidth": 2,
            "linecolor": "rgb(36,36,36)",
            "showbackground": true,
            "showgrid": false,
            "showline": true,
            "ticks": "outside",
            "zeroline": false,
            "zerolinecolor": "rgb(36,36,36)"
           },
           "yaxis": {
            "backgroundcolor": "white",
            "gridcolor": "rgb(232,232,232)",
            "gridwidth": 2,
            "linecolor": "rgb(36,36,36)",
            "showbackground": true,
            "showgrid": false,
            "showline": true,
            "ticks": "outside",
            "zeroline": false,
            "zerolinecolor": "rgb(36,36,36)"
           },
           "zaxis": {
            "backgroundcolor": "white",
            "gridcolor": "rgb(232,232,232)",
            "gridwidth": 2,
            "linecolor": "rgb(36,36,36)",
            "showbackground": true,
            "showgrid": false,
            "showline": true,
            "ticks": "outside",
            "zeroline": false,
            "zerolinecolor": "rgb(36,36,36)"
           }
          },
          "shapedefaults": {
           "fillcolor": "black",
           "line": {
            "width": 0
           },
           "opacity": 0.3
          },
          "ternary": {
           "aaxis": {
            "gridcolor": "rgb(232,232,232)",
            "linecolor": "rgb(36,36,36)",
            "showgrid": false,
            "showline": true,
            "ticks": "outside"
           },
           "baxis": {
            "gridcolor": "rgb(232,232,232)",
            "linecolor": "rgb(36,36,36)",
            "showgrid": false,
            "showline": true,
            "ticks": "outside"
           },
           "bgcolor": "white",
           "caxis": {
            "gridcolor": "rgb(232,232,232)",
            "linecolor": "rgb(36,36,36)",
            "showgrid": false,
            "showline": true,
            "ticks": "outside"
           }
          },
          "title": {
           "x": 0.05
          },
          "xaxis": {
           "automargin": true,
           "gridcolor": "rgb(232,232,232)",
           "linecolor": "rgb(36,36,36)",
           "showgrid": false,
           "showline": true,
           "ticks": "outside",
           "title": {
            "standoff": 15
           },
           "zeroline": false,
           "zerolinecolor": "rgb(36,36,36)"
          },
          "yaxis": {
           "automargin": true,
           "gridcolor": "rgb(232,232,232)",
           "linecolor": "rgb(36,36,36)",
           "showgrid": false,
           "showline": true,
           "ticks": "outside",
           "title": {
            "standoff": 15
           },
           "zeroline": false,
           "zerolinecolor": "rgb(36,36,36)"
          }
         }
        },
        "title": {
         "font": {
          "color": "Black",
          "size": 22
         },
         "text": "Topics Over Time for 2020Q1",
         "x": 0.4,
         "xanchor": "center",
         "y": 0.95,
         "yanchor": "top"
        },
        "width": 1250,
        "xaxis": {
         "showgrid": true
        },
        "yaxis": {
         "showgrid": true,
         "title": {
          "text": "Frequency"
         }
        }
       }
      }
     },
     "metadata": {},
     "output_type": "display_data"
    },
    {
     "data": {
      "application/vnd.plotly.v1+json": {
       "config": {
        "plotlyServerURL": "https://plot.ly"
       },
       "data": [
        {
         "hoverinfo": "text",
         "hovertext": [
          "<b>Topic 0</b><br>Words: enggak, negara, bangkrut, meta, kecil",
          "<b>Topic 0</b><br>Words: metode, sukses, ajar, mahasiswa, lihat",
          "<b>Topic 0</b><br>Words: mtsma, muridmurid, maksimal, sekalipun, kait",
          "<b>Topic 0</b><br>Words: menjd, media, kampus, kalian, mahasiswa",
          "<b>Topic 0</b><br>Words: ikn, infrastruktur, maju, bangun, negara",
          "<b>Topic 0</b><br>Words: enggak, usah, negara, tanggung, jamin",
          "<b>Topic 0</b><br>Words: ars, university, peduli, bencana, arsnesia",
          "<b>Topic 0</b><br>Words: gol, amp, medis, perempuan, jodo",
          "<b>Topic 0</b><br>Words: mahasiswa, per, umm, juta, malang",
          "<b>Topic 0</b><br>Words: hari, mahasiswa, nasional, selamat, undip",
          "<b>Topic 0</b><br>Words: baru, ibukota, menghayal, bau, ikan",
          "<b>Topic 0</b><br>Words: insan, bebas, gulir, beri, lantik",
          "<b>Topic 0</b><br>Words: handal, bal, pilar, koster, wayan",
          "<b>Topic 0</b><br>Words: lihat, baik, politik, hidup, semua",
          "<b>Topic 0</b><br>Words: tuntut, masing, kampus, mahasiswa, sama",
          "<b>Topic 0</b><br>Words: mungkin, prank, kesel, makin, uji",
          "<b>Topic 0</b><br>Words: pigai, jokowi, harga, paham, kritik",
          "<b>Topic 0</b><br>Words: mahasiswa, baik, tekan, lama, tiap",
          "<b>Topic 0</b><br>Words: wisuda, pandemi, ajar, sekolah, pilih",
          "<b>Topic 0</b><br>Words: kampus, nya, tahun, baru, soal",
          "<b>Topic 0</b><br>Words: sekolah, buat, rakyat, kampus, baru",
          "<b>Topic 0</b><br>Words: usul, jadi, selalu, perintah, sambut",
          "<b>Topic 0</b><br>Words: normal, new, tlng, perintah, baik",
          "<b>Topic 0</b><br>Words: batas, jadi, undang, ukt, lahan",
          "<b>Topic 0</b><br>Words: sekolah, buka, mahasiswa, ajar, sih",
          "<b>Topic 0</b><br>Words: mahasiswa, ajar, baik, satu, tri",
          "<b>Topic 0</b><br>Words: mahasiswa, dukung, tunggal, luncur, dampak",
          "<b>Topic 0</b><br>Words: sekolah, umur, jadi, usia, anak",
          "<b>Topic 0</b><br>Words: sekolah, zonasi, anak, negara, kontra"
         ],
         "marker": {
          "color": "#E69F00"
         },
         "mode": "lines",
         "name": "0_mahasiswa_sekolah_jadi_buat",
         "type": "scatter",
         "x": [
          "2020-04-02T10:33:33.067000+00:00",
          "2020-04-05T11:25:17.433333+00:00",
          "2020-04-08T10:09:41.866666+00:00",
          "2020-04-11T08:54:06.300000+00:00",
          "2020-04-17T06:22:55.166666+00:00",
          "2020-04-20T05:07:19.600000+00:00",
          "2020-04-23T03:51:44.033333+00:00",
          "2020-04-26T02:36:08.466666+00:00",
          "2020-04-29T01:20:32.900000+00:00",
          "2020-05-02T00:04:57.333333+00:00",
          "2020-05-04T22:49:21.766666+00:00",
          "2020-05-07T21:33:46.200000+00:00",
          "2020-05-10T20:18:10.633333+00:00",
          "2020-05-13T19:02:35.066666+00:00",
          "2020-05-16T17:46:59.500000+00:00",
          "2020-05-19T16:31:23.933333+00:00",
          "2020-05-22T15:15:48.366666+00:00",
          "2020-05-25T14:00:12.800000+00:00",
          "2020-05-28T12:44:37.233333+00:00",
          "2020-05-31T11:29:01.666666+00:00",
          "2020-06-03T10:13:26.100000+00:00",
          "2020-06-06T08:57:50.533333+00:00",
          "2020-06-09T07:42:14.966666+00:00",
          "2020-06-12T06:26:39.400000+00:00",
          "2020-06-15T05:11:03.833333+00:00",
          "2020-06-18T03:55:28.266666+00:00",
          "2020-06-21T02:39:52.700000+00:00",
          "2020-06-24T01:24:17.133333+00:00",
          "2020-06-27T00:08:41.566666+00:00"
         ],
         "y": [
          10,
          10,
          4,
          4,
          2,
          4,
          1,
          7,
          5,
          33,
          4,
          10,
          6,
          6,
          8,
          6,
          4,
          8,
          7,
          20,
          25,
          16,
          36,
          17,
          48,
          22,
          29,
          30,
          26
         ]
        },
        {
         "hoverinfo": "text",
         "hovertext": [
          "<b>Topic 1</b><br>Words: muhammadiyah, guru, ptpg, krisis, jatim",
          "<b>Topic 1</b><br>Words: luar, negeri, den, idp, masyasarakat",
          "<b>Topic 1</b><br>Words: situasi, sebut, cilebut, realisasi, panggil",
          "<b>Topic 1</b><br>Words: menteri, aadc, salur, pppa, inisiasi",
          "<b>Topic 1</b><br>Words: cabut, kurung, kjp, sanksi, keluar",
          "<b>Topic 1</b><br>Words: meski, flotim, law, omnibus, pakar",
          "<b>Topic 1</b><br>Words: file, proteksi, from, menteri, ikut",
          "<b>Topic 1</b><br>Words: arsip, ristekdikti, berkas, banpt, akreditasi",
          "<b>Topic 1</b><br>Words: un, tinggal, wajib, program, salah",
          "<b>Topic 1</b><br>Words: kbm, belajarmengajar, anwar, lembaga, giat",
          "<b>Topic 1</b><br>Words: indonesia, menteri, ing, buat, baik",
          "<b>Topic 1</b><br>Words: vokasi, kemendikbud, khusus, terbit, indonesia",
          "<b>Topic 1</b><br>Words: direktur, phddilantik, syahril, jejak, rekam",
          "<b>Topic 1</b><br>Words: himpun, larang, semester, dana, hingga",
          "<b>Topic 1</b><br>Words: aktivitas, batas, orangorang, win, aco",
          "<b>Topic 1</b><br>Words: manajemen, pil, uny, unj, snmsbm",
          "<b>Topic 1</b><br>Words: hi, menteri, ptn, pil, undip",
          "<b>Topic 1</b><br>Words: pkb, menteri, budaya, ajar, iring",
          "<b>Topic 1</b><br>Words: mergo, gurune, sing, situasi, butuh",
          "<b>Topic 1</b><br>Words: indonesia, menteri, buat, nadiem, orang",
          "<b>Topic 1</b><br>Words: menteri, ora, dprd, contoh, sampai",
          "<b>Topic 1</b><br>Words: khusus, afirmasi, perintah, godok, menteri",
          "<b>Topic 1</b><br>Words: sektor, pesantren, dasar, menteri, perintah",
          "<b>Topic 1</b><br>Words: menko, pmk, menag, menteri, pondok",
          "<b>Topic 1</b><br>Words: menteri, ajar, budaya, indonesia, sama",
          "<b>Topic 1</b><br>Words: ajar, jarak, menteri, budaya, wr",
          "<b>Topic 1</b><br>Words: protes, ajar, menteri, bos, indonesia",
          "<b>Topic 1</b><br>Words: dki, ppdb, rapat, usia, jakarta"
         ],
         "marker": {
          "color": "#56B4E9"
         },
         "mode": "lines",
         "name": "1_menteri_indonesia_ajar_budaya",
         "type": "scatter",
         "x": [
          "2020-04-02T10:33:33.067000+00:00",
          "2020-04-05T11:25:17.433333+00:00",
          "2020-04-08T10:09:41.866666+00:00",
          "2020-04-11T08:54:06.300000+00:00",
          "2020-04-14T07:38:30.733333+00:00",
          "2020-04-17T06:22:55.166666+00:00",
          "2020-04-20T05:07:19.600000+00:00",
          "2020-04-23T03:51:44.033333+00:00",
          "2020-04-26T02:36:08.466666+00:00",
          "2020-04-29T01:20:32.900000+00:00",
          "2020-05-02T00:04:57.333333+00:00",
          "2020-05-04T22:49:21.766666+00:00",
          "2020-05-07T21:33:46.200000+00:00",
          "2020-05-10T20:18:10.633333+00:00",
          "2020-05-13T19:02:35.066666+00:00",
          "2020-05-16T17:46:59.500000+00:00",
          "2020-05-19T16:31:23.933333+00:00",
          "2020-05-25T14:00:12.800000+00:00",
          "2020-05-28T12:44:37.233333+00:00",
          "2020-05-31T11:29:01.666666+00:00",
          "2020-06-03T10:13:26.100000+00:00",
          "2020-06-06T08:57:50.533333+00:00",
          "2020-06-09T07:42:14.966666+00:00",
          "2020-06-12T06:26:39.400000+00:00",
          "2020-06-15T05:11:03.833333+00:00",
          "2020-06-18T03:55:28.266666+00:00",
          "2020-06-21T02:39:52.700000+00:00",
          "2020-06-24T01:24:17.133333+00:00"
         ],
         "y": [
          4,
          2,
          3,
          2,
          1,
          2,
          5,
          1,
          3,
          5,
          16,
          10,
          5,
          1,
          4,
          4,
          5,
          10,
          5,
          26,
          12,
          10,
          18,
          14,
          32,
          14,
          17,
          31
         ]
        },
        {
         "hoverinfo": "text",
         "hovertext": [
          "<b>Topic 2</b><br>Words: pandemi, durasi, dampak, sektor, ngambil",
          "<b>Topic 2</b><br>Words: menkes, perasaaan, po, duh, asih",
          "<b>Topic 2</b><br>Words: times, karakter, pandemi, daring, indonesia",
          "<b>Topic 2</b><br>Words: sekadar, times, karakter, online, pandemi",
          "<b>Topic 2</b><br>Words: pakar, cecep, pasca, korona, darmawan",
          "<b>Topic 2</b><br>Words: sehat, epidemiologi, penyeleseian, formula, holistik",
          "<b>Topic 2</b><br>Words: tggu, gebrak, sosok, siapa, alami",
          "<b>Topic 2</b><br>Words: pandemi, indonesia, terbang, larang, masa",
          "<b>Topic 2</b><br>Words: webinarnya, seminar, strategi, yuk, vokasi",
          "<b>Topic 2</b><br>Words: tinggal, kamis, ketemu, rg, ngopi",
          "<b>Topic 2</b><br>Words: gila, enggak, pandemi, ngundurin, ngotak",
          "<b>Topic 2</b><br>Words: ubah, lama, pandemi, covid, masa",
          "<b>Topic 2</b><br>Words: pandemi, medan, covid, salah, masa",
          "<b>Topic 2</b><br>Words: pandemi, thd, indonesia, covid, school",
          "<b>Topic 2</b><br>Words: faktor, pandemi, sisi, kalian, mayoritas",
          "<b>Topic 2</b><br>Words: vokasi, free, forum, sabtu, pasca",
          "<b>Topic 2</b><br>Words: pandemi, gojek, isi, daerah, masa",
          "<b>Topic 2</b><br>Words: muhammadiyah, naung, instansi, bawah, potong",
          "<b>Topic 2</b><br>Words: terang, surat, bermaterai, pandemi, smk",
          "<b>Topic 2</b><br>Words: stafstafnya, pecah, heran, ku, pandemi",
          "<b>Topic 2</b><br>Words: lai, pasuk, new, normal, pandemi",
          "<b>Topic 2</b><br>Words: pandemi, masa, covid, prinsip, keluarga",
          "<b>Topic 2</b><br>Words: tengah, pandemi, covid, masa, indonesia",
          "<b>Topic 2</b><br>Words: pandemi, institute, yudhoyono, masa, the",
          "<b>Topic 2</b><br>Words: pandemi, awal, intensif, masa, demokrat"
         ],
         "marker": {
          "color": "#009E73"
         },
         "mode": "lines",
         "name": "2_pandemi_masa_covid_indonesia",
         "type": "scatter",
         "x": [
          "2020-04-02T10:33:33.067000+00:00",
          "2020-04-05T11:25:17.433333+00:00",
          "2020-04-08T10:09:41.866666+00:00",
          "2020-04-11T08:54:06.300000+00:00",
          "2020-04-17T06:22:55.166666+00:00",
          "2020-04-20T05:07:19.600000+00:00",
          "2020-04-23T03:51:44.033333+00:00",
          "2020-05-02T00:04:57.333333+00:00",
          "2020-05-04T22:49:21.766666+00:00",
          "2020-05-07T21:33:46.200000+00:00",
          "2020-05-10T20:18:10.633333+00:00",
          "2020-05-13T19:02:35.066666+00:00",
          "2020-05-16T17:46:59.500000+00:00",
          "2020-05-19T16:31:23.933333+00:00",
          "2020-05-25T14:00:12.800000+00:00",
          "2020-05-28T12:44:37.233333+00:00",
          "2020-05-31T11:29:01.666666+00:00",
          "2020-06-03T10:13:26.100000+00:00",
          "2020-06-06T08:57:50.533333+00:00",
          "2020-06-09T07:42:14.966666+00:00",
          "2020-06-12T06:26:39.400000+00:00",
          "2020-06-15T05:11:03.833333+00:00",
          "2020-06-18T03:55:28.266666+00:00",
          "2020-06-21T02:39:52.700000+00:00",
          "2020-06-24T01:24:17.133333+00:00"
         ],
         "y": [
          2,
          1,
          7,
          1,
          1,
          1,
          1,
          6,
          1,
          1,
          1,
          11,
          3,
          3,
          2,
          1,
          8,
          2,
          1,
          2,
          2,
          20,
          1,
          5,
          10
         ]
        },
        {
         "hoverinfo": "text",
         "hovertext": [
          "<b>Topic 3</b><br>Words: corona, darurat, sebar, nomor, virus",
          "<b>Topic 3</b><br>Words: edar, surat, shalom, sebar, virus",
          "<b>Topic 3</b><br>Words: kendal, karantina, otgodp, darurat, salam",
          "<b>Topic 3</b><br>Words: jawa, timur, panjang, nomor, april",
          "<b>Topic 3</b><br>Words: panjang, lebaran, sebar, virus, jawa",
          "<b>Topic 3</b><br>Words: perlu, muat, darurat, susun, distribusi",
          "<b>Topic 3</b><br>Words: rantai, darurat, pjj, sebar, virus",
          "<b>Topic 3</b><br>Words: panjang, darurat, diy, sebar, nomor",
          "<b>Topic 3</b><br>Words: jawa, timur, darurat, surat, tanggal",
          "<b>Topic 3</b><br>Words: tana, toraja, bupati, darurat, sebar",
          "<b>Topic 3</b><br>Words: darurat, virus, sebar, sini, corona",
          "<b>Topic 3</b><br>Words: zona, sebar, virus, khusi, ima"
         ],
         "marker": {
          "color": "#F0E442"
         },
         "mode": "lines",
         "name": "3_darurat_sebar_timur_jawa",
         "type": "scatter",
         "x": [
          "2020-04-02T10:33:33.067000+00:00",
          "2020-04-05T11:25:17.433333+00:00",
          "2020-04-11T08:54:06.300000+00:00",
          "2020-04-17T06:22:55.166666+00:00",
          "2020-04-20T05:07:19.600000+00:00",
          "2020-04-26T02:36:08.466666+00:00",
          "2020-04-29T01:20:32.900000+00:00",
          "2020-05-28T12:44:37.233333+00:00",
          "2020-05-31T11:29:01.666666+00:00",
          "2020-06-12T06:26:39.400000+00:00",
          "2020-06-18T03:55:28.266666+00:00",
          "2020-06-24T01:24:17.133333+00:00"
         ],
         "y": [
          3,
          1,
          3,
          5,
          2,
          1,
          2,
          10,
          9,
          1,
          4,
          2
         ]
        },
        {
         "hoverinfo": "text",
         "hovertext": [
          "<b>Topic 4</b><br>Words: regulasi, dini, rangka, optimal, koordinasi",
          "<b>Topic 4</b><br>Words: perspektif, rabu, wib, zoom, rangka",
          "<b>Topic 4</b><br>Words: new, normal, utama, ditgl, tera",
          "<b>Topic 4</b><br>Words: new, normal, jabar, press, kang",
          "<b>Topic 4</b><br>Words: jabar, sore, new, normal, press",
          "<b>Topic 4</b><br>Words: agam, new, isra, basung, barubaru",
          "<b>Topic 4</b><br>Words: seto, lazim, kak, tahap, new",
          "<b>Topic 4</b><br>Words: normal, hati, new, pesantren, sesuatu",
          "<b>Topic 4</b><br>Words: new, normal, bingung, aman, sedang",
          "<b>Topic 4</b><br>Words: new, normal, hadap, era, kirakira"
         ],
         "marker": {
          "color": "#D55E00"
         },
         "mode": "lines",
         "name": "4_new_normal_hadap_jabar",
         "type": "scatter",
         "x": [
          "2020-04-02T10:33:33.067000+00:00",
          "2020-05-04T22:49:21.766666+00:00",
          "2020-05-25T14:00:12.800000+00:00",
          "2020-05-28T12:44:37.233333+00:00",
          "2020-05-31T11:29:01.666666+00:00",
          "2020-06-03T10:13:26.100000+00:00",
          "2020-06-06T08:57:50.533333+00:00",
          "2020-06-12T06:26:39.400000+00:00",
          "2020-06-15T05:11:03.833333+00:00",
          "2020-06-18T03:55:28.266666+00:00"
         ],
         "y": [
          2,
          1,
          3,
          7,
          4,
          2,
          2,
          2,
          4,
          3
         ]
        },
        {
         "hoverinfo": "text",
         "hovertext": [
          "<b>Topic 5</b><br>Words: klaten, kabupaten, rangka, se, cegah",
          "<b>Topic 5</b><br>Words: selatan, kabupaten, lampung, wabah, ajar",
          "<b>Topic 5</b><br>Words: legislator, rumus, dorong, teliti, dasar",
          "<b>Topic 5</b><br>Words: komitmen, prasarana, serang, tilik, kabupaten",
          "<b>Topic 5</b><br>Words: pedoman, permendikbud, daerah, nomor, khusus",
          "<b>Topic 5</b><br>Words: apresiasi, dpr, kali, komisi, bantu",
          "<b>Topic 5</b><br>Words: apresiasi, dpr, bantu, dampak, kemendikbud",
          "<b>Topic 5</b><br>Words: biaya, relaksasi, layan, dpr, kali"
         ],
         "marker": {
          "color": "#0072B2"
         },
         "mode": "lines",
         "name": "5_dpr_apresiasi_kali_komisi",
         "type": "scatter",
         "x": [
          "2020-04-02T10:33:33.067000+00:00",
          "2020-04-20T05:07:19.600000+00:00",
          "2020-05-07T21:33:46.200000+00:00",
          "2020-06-03T10:13:26.100000+00:00",
          "2020-06-18T03:55:28.266666+00:00",
          "2020-06-21T02:39:52.700000+00:00",
          "2020-06-24T01:24:17.133333+00:00",
          "2020-06-27T00:08:41.566666+00:00"
         ],
         "y": [
          2,
          1,
          1,
          2,
          1,
          12,
          2,
          4
         ]
        },
        {
         "hoverinfo": "text",
         "hovertext": [
          "<b>Topic 6</b><br>Words: politik, barat, corak, kerstening, kristen",
          "<b>Topic 6</b><br>Words: islam, normal, masuk, asosiasi, new",
          "<b>Topic 6</b><br>Words: islam, analisis, orde, zaman, jepang",
          "<b>Topic 6</b><br>Words: islam, kamaruddin, santri, dirjen, pasti",
          "<b>Topic 6</b><br>Words: pesantren, beber, sowan, luluk, menganaktirikan",
          "<b>Topic 6</b><br>Words: tiru, portal, islam, puji, anies",
          "<b>Topic 6</b><br>Words: soal, jemaah, hnw, haji, nasib",
          "<b>Topic 6</b><br>Words: basis, bidik, agresif, panislamisme, tangkal"
         ],
         "marker": {
          "color": "#CC79A7"
         },
         "mode": "lines",
         "name": "6_islam_normal_pesantren_agama",
         "type": "scatter",
         "x": [
          "2020-05-02T00:04:57.333333+00:00",
          "2020-05-31T11:29:01.666666+00:00",
          "2020-06-06T08:57:50.533333+00:00",
          "2020-06-15T05:11:03.833333+00:00",
          "2020-06-18T03:55:28.266666+00:00",
          "2020-06-21T02:39:52.700000+00:00",
          "2020-06-24T01:24:17.133333+00:00",
          "2020-06-27T00:08:41.566666+00:00"
         ],
         "y": [
          1,
          4,
          2,
          2,
          1,
          1,
          2,
          2
         ]
        },
        {
         "hoverinfo": "text",
         "hovertext": [
          "<b>Topic 7</b><br>Words: saran, hendak, kemendikbud, bila, implementasi",
          "<b>Topic 7</b><br>Words: hendak, saran, bila, implementasi, timbang",
          "<b>Topic 7</b><br>Words: hendak, saran, bila, implementasi, timbang"
         ],
         "marker": {
          "color": "#E69F00"
         },
         "mode": "lines",
         "name": "7_saran_hendak_bila_implementasi",
         "type": "scatter",
         "x": [
          "2020-06-06T08:57:50.533333+00:00",
          "2020-06-09T07:42:14.966666+00:00",
          "2020-06-12T06:26:39.400000+00:00"
         ],
         "y": [
          2,
          8,
          3
         ]
        },
        {
         "hoverinfo": "text",
         "hovertext": [
          "<b>Topic 8</b><br>Words: dokter, virtual, ulm, bahas, rapat",
          "<b>Topic 8</b><br>Words: virtual, sepenuh, khusus, perlu, pesantren",
          "<b>Topic 8</b><br>Words: dokter, siap, normal, era, baru"
         ],
         "marker": {
          "color": "#56B4E9"
         },
         "mode": "lines",
         "name": "8_dokter_siap_normal_era",
         "type": "scatter",
         "x": [
          "2020-04-20T05:07:19.600000+00:00",
          "2020-05-25T14:00:12.800000+00:00",
          "2020-06-06T08:57:50.533333+00:00"
         ],
         "y": [
          1,
          1,
          10
         ]
        }
       ],
       "layout": {
        "height": 450,
        "hoverlabel": {
         "bgcolor": "white",
         "font": {
          "family": "Rockwell",
          "size": 16
         }
        },
        "legend": {
         "title": {
          "text": "<b>Global Topic Representation"
         }
        },
        "template": {
         "data": {
          "bar": [
           {
            "error_x": {
             "color": "rgb(36,36,36)"
            },
            "error_y": {
             "color": "rgb(36,36,36)"
            },
            "marker": {
             "line": {
              "color": "white",
              "width": 0.5
             },
             "pattern": {
              "fillmode": "overlay",
              "size": 10,
              "solidity": 0.2
             }
            },
            "type": "bar"
           }
          ],
          "barpolar": [
           {
            "marker": {
             "line": {
              "color": "white",
              "width": 0.5
             },
             "pattern": {
              "fillmode": "overlay",
              "size": 10,
              "solidity": 0.2
             }
            },
            "type": "barpolar"
           }
          ],
          "carpet": [
           {
            "aaxis": {
             "endlinecolor": "rgb(36,36,36)",
             "gridcolor": "white",
             "linecolor": "white",
             "minorgridcolor": "white",
             "startlinecolor": "rgb(36,36,36)"
            },
            "baxis": {
             "endlinecolor": "rgb(36,36,36)",
             "gridcolor": "white",
             "linecolor": "white",
             "minorgridcolor": "white",
             "startlinecolor": "rgb(36,36,36)"
            },
            "type": "carpet"
           }
          ],
          "choropleth": [
           {
            "colorbar": {
             "outlinewidth": 1,
             "tickcolor": "rgb(36,36,36)",
             "ticks": "outside"
            },
            "type": "choropleth"
           }
          ],
          "contour": [
           {
            "colorbar": {
             "outlinewidth": 1,
             "tickcolor": "rgb(36,36,36)",
             "ticks": "outside"
            },
            "colorscale": [
             [
              0,
              "#440154"
             ],
             [
              0.1111111111111111,
              "#482878"
             ],
             [
              0.2222222222222222,
              "#3e4989"
             ],
             [
              0.3333333333333333,
              "#31688e"
             ],
             [
              0.4444444444444444,
              "#26828e"
             ],
             [
              0.5555555555555556,
              "#1f9e89"
             ],
             [
              0.6666666666666666,
              "#35b779"
             ],
             [
              0.7777777777777778,
              "#6ece58"
             ],
             [
              0.8888888888888888,
              "#b5de2b"
             ],
             [
              1,
              "#fde725"
             ]
            ],
            "type": "contour"
           }
          ],
          "contourcarpet": [
           {
            "colorbar": {
             "outlinewidth": 1,
             "tickcolor": "rgb(36,36,36)",
             "ticks": "outside"
            },
            "type": "contourcarpet"
           }
          ],
          "heatmap": [
           {
            "colorbar": {
             "outlinewidth": 1,
             "tickcolor": "rgb(36,36,36)",
             "ticks": "outside"
            },
            "colorscale": [
             [
              0,
              "#440154"
             ],
             [
              0.1111111111111111,
              "#482878"
             ],
             [
              0.2222222222222222,
              "#3e4989"
             ],
             [
              0.3333333333333333,
              "#31688e"
             ],
             [
              0.4444444444444444,
              "#26828e"
             ],
             [
              0.5555555555555556,
              "#1f9e89"
             ],
             [
              0.6666666666666666,
              "#35b779"
             ],
             [
              0.7777777777777778,
              "#6ece58"
             ],
             [
              0.8888888888888888,
              "#b5de2b"
             ],
             [
              1,
              "#fde725"
             ]
            ],
            "type": "heatmap"
           }
          ],
          "heatmapgl": [
           {
            "colorbar": {
             "outlinewidth": 1,
             "tickcolor": "rgb(36,36,36)",
             "ticks": "outside"
            },
            "colorscale": [
             [
              0,
              "#440154"
             ],
             [
              0.1111111111111111,
              "#482878"
             ],
             [
              0.2222222222222222,
              "#3e4989"
             ],
             [
              0.3333333333333333,
              "#31688e"
             ],
             [
              0.4444444444444444,
              "#26828e"
             ],
             [
              0.5555555555555556,
              "#1f9e89"
             ],
             [
              0.6666666666666666,
              "#35b779"
             ],
             [
              0.7777777777777778,
              "#6ece58"
             ],
             [
              0.8888888888888888,
              "#b5de2b"
             ],
             [
              1,
              "#fde725"
             ]
            ],
            "type": "heatmapgl"
           }
          ],
          "histogram": [
           {
            "marker": {
             "line": {
              "color": "white",
              "width": 0.6
             }
            },
            "type": "histogram"
           }
          ],
          "histogram2d": [
           {
            "colorbar": {
             "outlinewidth": 1,
             "tickcolor": "rgb(36,36,36)",
             "ticks": "outside"
            },
            "colorscale": [
             [
              0,
              "#440154"
             ],
             [
              0.1111111111111111,
              "#482878"
             ],
             [
              0.2222222222222222,
              "#3e4989"
             ],
             [
              0.3333333333333333,
              "#31688e"
             ],
             [
              0.4444444444444444,
              "#26828e"
             ],
             [
              0.5555555555555556,
              "#1f9e89"
             ],
             [
              0.6666666666666666,
              "#35b779"
             ],
             [
              0.7777777777777778,
              "#6ece58"
             ],
             [
              0.8888888888888888,
              "#b5de2b"
             ],
             [
              1,
              "#fde725"
             ]
            ],
            "type": "histogram2d"
           }
          ],
          "histogram2dcontour": [
           {
            "colorbar": {
             "outlinewidth": 1,
             "tickcolor": "rgb(36,36,36)",
             "ticks": "outside"
            },
            "colorscale": [
             [
              0,
              "#440154"
             ],
             [
              0.1111111111111111,
              "#482878"
             ],
             [
              0.2222222222222222,
              "#3e4989"
             ],
             [
              0.3333333333333333,
              "#31688e"
             ],
             [
              0.4444444444444444,
              "#26828e"
             ],
             [
              0.5555555555555556,
              "#1f9e89"
             ],
             [
              0.6666666666666666,
              "#35b779"
             ],
             [
              0.7777777777777778,
              "#6ece58"
             ],
             [
              0.8888888888888888,
              "#b5de2b"
             ],
             [
              1,
              "#fde725"
             ]
            ],
            "type": "histogram2dcontour"
           }
          ],
          "mesh3d": [
           {
            "colorbar": {
             "outlinewidth": 1,
             "tickcolor": "rgb(36,36,36)",
             "ticks": "outside"
            },
            "type": "mesh3d"
           }
          ],
          "parcoords": [
           {
            "line": {
             "colorbar": {
              "outlinewidth": 1,
              "tickcolor": "rgb(36,36,36)",
              "ticks": "outside"
             }
            },
            "type": "parcoords"
           }
          ],
          "pie": [
           {
            "automargin": true,
            "type": "pie"
           }
          ],
          "scatter": [
           {
            "fillpattern": {
             "fillmode": "overlay",
             "size": 10,
             "solidity": 0.2
            },
            "type": "scatter"
           }
          ],
          "scatter3d": [
           {
            "line": {
             "colorbar": {
              "outlinewidth": 1,
              "tickcolor": "rgb(36,36,36)",
              "ticks": "outside"
             }
            },
            "marker": {
             "colorbar": {
              "outlinewidth": 1,
              "tickcolor": "rgb(36,36,36)",
              "ticks": "outside"
             }
            },
            "type": "scatter3d"
           }
          ],
          "scattercarpet": [
           {
            "marker": {
             "colorbar": {
              "outlinewidth": 1,
              "tickcolor": "rgb(36,36,36)",
              "ticks": "outside"
             }
            },
            "type": "scattercarpet"
           }
          ],
          "scattergeo": [
           {
            "marker": {
             "colorbar": {
              "outlinewidth": 1,
              "tickcolor": "rgb(36,36,36)",
              "ticks": "outside"
             }
            },
            "type": "scattergeo"
           }
          ],
          "scattergl": [
           {
            "marker": {
             "colorbar": {
              "outlinewidth": 1,
              "tickcolor": "rgb(36,36,36)",
              "ticks": "outside"
             }
            },
            "type": "scattergl"
           }
          ],
          "scattermapbox": [
           {
            "marker": {
             "colorbar": {
              "outlinewidth": 1,
              "tickcolor": "rgb(36,36,36)",
              "ticks": "outside"
             }
            },
            "type": "scattermapbox"
           }
          ],
          "scatterpolar": [
           {
            "marker": {
             "colorbar": {
              "outlinewidth": 1,
              "tickcolor": "rgb(36,36,36)",
              "ticks": "outside"
             }
            },
            "type": "scatterpolar"
           }
          ],
          "scatterpolargl": [
           {
            "marker": {
             "colorbar": {
              "outlinewidth": 1,
              "tickcolor": "rgb(36,36,36)",
              "ticks": "outside"
             }
            },
            "type": "scatterpolargl"
           }
          ],
          "scatterternary": [
           {
            "marker": {
             "colorbar": {
              "outlinewidth": 1,
              "tickcolor": "rgb(36,36,36)",
              "ticks": "outside"
             }
            },
            "type": "scatterternary"
           }
          ],
          "surface": [
           {
            "colorbar": {
             "outlinewidth": 1,
             "tickcolor": "rgb(36,36,36)",
             "ticks": "outside"
            },
            "colorscale": [
             [
              0,
              "#440154"
             ],
             [
              0.1111111111111111,
              "#482878"
             ],
             [
              0.2222222222222222,
              "#3e4989"
             ],
             [
              0.3333333333333333,
              "#31688e"
             ],
             [
              0.4444444444444444,
              "#26828e"
             ],
             [
              0.5555555555555556,
              "#1f9e89"
             ],
             [
              0.6666666666666666,
              "#35b779"
             ],
             [
              0.7777777777777778,
              "#6ece58"
             ],
             [
              0.8888888888888888,
              "#b5de2b"
             ],
             [
              1,
              "#fde725"
             ]
            ],
            "type": "surface"
           }
          ],
          "table": [
           {
            "cells": {
             "fill": {
              "color": "rgb(237,237,237)"
             },
             "line": {
              "color": "white"
             }
            },
            "header": {
             "fill": {
              "color": "rgb(217,217,217)"
             },
             "line": {
              "color": "white"
             }
            },
            "type": "table"
           }
          ]
         },
         "layout": {
          "annotationdefaults": {
           "arrowhead": 0,
           "arrowwidth": 1
          },
          "autotypenumbers": "strict",
          "coloraxis": {
           "colorbar": {
            "outlinewidth": 1,
            "tickcolor": "rgb(36,36,36)",
            "ticks": "outside"
           }
          },
          "colorscale": {
           "diverging": [
            [
             0,
             "rgb(103,0,31)"
            ],
            [
             0.1,
             "rgb(178,24,43)"
            ],
            [
             0.2,
             "rgb(214,96,77)"
            ],
            [
             0.3,
             "rgb(244,165,130)"
            ],
            [
             0.4,
             "rgb(253,219,199)"
            ],
            [
             0.5,
             "rgb(247,247,247)"
            ],
            [
             0.6,
             "rgb(209,229,240)"
            ],
            [
             0.7,
             "rgb(146,197,222)"
            ],
            [
             0.8,
             "rgb(67,147,195)"
            ],
            [
             0.9,
             "rgb(33,102,172)"
            ],
            [
             1,
             "rgb(5,48,97)"
            ]
           ],
           "sequential": [
            [
             0,
             "#440154"
            ],
            [
             0.1111111111111111,
             "#482878"
            ],
            [
             0.2222222222222222,
             "#3e4989"
            ],
            [
             0.3333333333333333,
             "#31688e"
            ],
            [
             0.4444444444444444,
             "#26828e"
            ],
            [
             0.5555555555555556,
             "#1f9e89"
            ],
            [
             0.6666666666666666,
             "#35b779"
            ],
            [
             0.7777777777777778,
             "#6ece58"
            ],
            [
             0.8888888888888888,
             "#b5de2b"
            ],
            [
             1,
             "#fde725"
            ]
           ],
           "sequentialminus": [
            [
             0,
             "#440154"
            ],
            [
             0.1111111111111111,
             "#482878"
            ],
            [
             0.2222222222222222,
             "#3e4989"
            ],
            [
             0.3333333333333333,
             "#31688e"
            ],
            [
             0.4444444444444444,
             "#26828e"
            ],
            [
             0.5555555555555556,
             "#1f9e89"
            ],
            [
             0.6666666666666666,
             "#35b779"
            ],
            [
             0.7777777777777778,
             "#6ece58"
            ],
            [
             0.8888888888888888,
             "#b5de2b"
            ],
            [
             1,
             "#fde725"
            ]
           ]
          },
          "colorway": [
           "#1F77B4",
           "#FF7F0E",
           "#2CA02C",
           "#D62728",
           "#9467BD",
           "#8C564B",
           "#E377C2",
           "#7F7F7F",
           "#BCBD22",
           "#17BECF"
          ],
          "font": {
           "color": "rgb(36,36,36)"
          },
          "geo": {
           "bgcolor": "white",
           "lakecolor": "white",
           "landcolor": "white",
           "showlakes": true,
           "showland": true,
           "subunitcolor": "white"
          },
          "hoverlabel": {
           "align": "left"
          },
          "hovermode": "closest",
          "mapbox": {
           "style": "light"
          },
          "paper_bgcolor": "white",
          "plot_bgcolor": "white",
          "polar": {
           "angularaxis": {
            "gridcolor": "rgb(232,232,232)",
            "linecolor": "rgb(36,36,36)",
            "showgrid": false,
            "showline": true,
            "ticks": "outside"
           },
           "bgcolor": "white",
           "radialaxis": {
            "gridcolor": "rgb(232,232,232)",
            "linecolor": "rgb(36,36,36)",
            "showgrid": false,
            "showline": true,
            "ticks": "outside"
           }
          },
          "scene": {
           "xaxis": {
            "backgroundcolor": "white",
            "gridcolor": "rgb(232,232,232)",
            "gridwidth": 2,
            "linecolor": "rgb(36,36,36)",
            "showbackground": true,
            "showgrid": false,
            "showline": true,
            "ticks": "outside",
            "zeroline": false,
            "zerolinecolor": "rgb(36,36,36)"
           },
           "yaxis": {
            "backgroundcolor": "white",
            "gridcolor": "rgb(232,232,232)",
            "gridwidth": 2,
            "linecolor": "rgb(36,36,36)",
            "showbackground": true,
            "showgrid": false,
            "showline": true,
            "ticks": "outside",
            "zeroline": false,
            "zerolinecolor": "rgb(36,36,36)"
           },
           "zaxis": {
            "backgroundcolor": "white",
            "gridcolor": "rgb(232,232,232)",
            "gridwidth": 2,
            "linecolor": "rgb(36,36,36)",
            "showbackground": true,
            "showgrid": false,
            "showline": true,
            "ticks": "outside",
            "zeroline": false,
            "zerolinecolor": "rgb(36,36,36)"
           }
          },
          "shapedefaults": {
           "fillcolor": "black",
           "line": {
            "width": 0
           },
           "opacity": 0.3
          },
          "ternary": {
           "aaxis": {
            "gridcolor": "rgb(232,232,232)",
            "linecolor": "rgb(36,36,36)",
            "showgrid": false,
            "showline": true,
            "ticks": "outside"
           },
           "baxis": {
            "gridcolor": "rgb(232,232,232)",
            "linecolor": "rgb(36,36,36)",
            "showgrid": false,
            "showline": true,
            "ticks": "outside"
           },
           "bgcolor": "white",
           "caxis": {
            "gridcolor": "rgb(232,232,232)",
            "linecolor": "rgb(36,36,36)",
            "showgrid": false,
            "showline": true,
            "ticks": "outside"
           }
          },
          "title": {
           "x": 0.05
          },
          "xaxis": {
           "automargin": true,
           "gridcolor": "rgb(232,232,232)",
           "linecolor": "rgb(36,36,36)",
           "showgrid": false,
           "showline": true,
           "ticks": "outside",
           "title": {
            "standoff": 15
           },
           "zeroline": false,
           "zerolinecolor": "rgb(36,36,36)"
          },
          "yaxis": {
           "automargin": true,
           "gridcolor": "rgb(232,232,232)",
           "linecolor": "rgb(36,36,36)",
           "showgrid": false,
           "showline": true,
           "ticks": "outside",
           "title": {
            "standoff": 15
           },
           "zeroline": false,
           "zerolinecolor": "rgb(36,36,36)"
          }
         }
        },
        "title": {
         "font": {
          "color": "Black",
          "size": 22
         },
         "text": "Topics Over Time for 2020Q2",
         "x": 0.4,
         "xanchor": "center",
         "y": 0.95,
         "yanchor": "top"
        },
        "width": 1250,
        "xaxis": {
         "showgrid": true
        },
        "yaxis": {
         "showgrid": true,
         "title": {
          "text": "Frequency"
         }
        }
       }
      }
     },
     "metadata": {},
     "output_type": "display_data"
    },
    {
     "data": {
      "application/vnd.plotly.v1+json": {
       "config": {
        "plotlyServerURL": "https://plot.ly"
       },
       "data": [
        {
         "hoverinfo": "text",
         "hovertext": [
          "<b>Topic 0</b><br>Words: kuat, efektivitas, kartu, prakerja, pip",
          "<b>Topic 0</b><br>Words: kuat, efektivitas, kartu, prakerja, salur"
         ],
         "marker": {
          "color": "#E69F00"
         },
         "mode": "lines",
         "name": "0_kuat_kartu_prakerja_efektivitas",
         "type": "scatter",
         "x": [
          "2020-08-12T02:56:03.933333+00:00",
          "2020-08-15T03:01:28.500000+00:00"
         ],
         "y": [
          27,
          1
         ]
        },
        {
         "hoverinfo": "text",
         "hovertext": [
          "<b>Topic 1</b><br>Words: papua, otonomi, khusus, tanah, bangun",
          "<b>Topic 1</b><br>Words: papua, barat, otsus, otonomi, khusus",
          "<b>Topic 1</b><br>Words: papua, otonomi, khusus, barat, citacitanya",
          "<b>Topic 1</b><br>Words: papua, otonomi, emas, khusus, barat",
          "<b>Topic 1</b><br>Words: papua, otonomi, barat, khusus, bebas",
          "<b>Topic 1</b><br>Words: otonomi, khusus, papua, beasiswa, dana",
          "<b>Topic 1</b><br>Words: papua, otonomi, khusus, februari, otsus",
          "<b>Topic 1</b><br>Words: papua, otonomi, khusus, otsus, beasiswa",
          "<b>Topic 1</b><br>Words: papua, barat, otonomi, khusus, dana",
          "<b>Topic 1</b><br>Words: papua, otsus, filipina, otonomi, khusus",
          "<b>Topic 1</b><br>Words: papua, otsus, bangun, baik, kurang"
         ],
         "marker": {
          "color": "#56B4E9"
         },
         "mode": "lines",
         "name": "1_papua_otonomi_khusus_barat",
         "type": "scatter",
         "x": [
          "2020-07-04T01:45:44.566666+00:00",
          "2020-07-10T01:56:33.700000+00:00",
          "2020-07-13T02:01:58.266666+00:00",
          "2020-07-22T02:18:11.966666+00:00",
          "2020-07-25T02:23:36.533333+00:00",
          "2020-07-28T02:29:01.100000+00:00",
          "2020-08-03T02:39:50.233333+00:00",
          "2020-08-06T02:45:14.800000+00:00",
          "2020-08-15T03:01:28.500000+00:00",
          "2020-08-27T03:23:06.766666+00:00",
          "2020-09-08T03:44:45.033333+00:00"
         ],
         "y": [
          1,
          2,
          6,
          1,
          5,
          7,
          1,
          4,
          5,
          2,
          2
         ]
        },
        {
         "hoverinfo": "text",
         "hovertext": [
          "<b>Topic 2</b><br>Words: pjj, jarak, nilai, jauh, citayam",
          "<b>Topic 2</b><br>Words: ajar, pjj, pulsa, nilai, positif"
         ],
         "marker": {
          "color": "#009E73"
         },
         "mode": "lines",
         "name": "2_ajar_pjj_nilai_jarak",
         "type": "scatter",
         "x": [
          "2020-07-28T02:29:01.100000+00:00",
          "2020-09-02T03:33:55.900000+00:00"
         ],
         "y": [
          1,
          10
         ]
        },
        {
         "hoverinfo": "text",
         "hovertext": [
          "<b>Topic 3</b><br>Words: sekolah, ganti, menteri, guru, ajar",
          "<b>Topic 3</b><br>Words: menteri, dki, indonesia, nadiem, pandemi",
          "<b>Topic 3</b><br>Words: sekolah, indonesia, menteri, ajar, mahasiswa",
          "<b>Topic 3</b><br>Words: ajar, anak, lihat, tahun, menteri",
          "<b>Topic 3</b><br>Words: ajar, jadi, tahun, bukan, uu",
          "<b>Topic 3</b><br>Words: ajar, rakyat, pandemi, merdeka, buat",
          "<b>Topic 3</b><br>Words: ajar, buat, pandemi, banyak, tentu",
          "<b>Topic 3</b><br>Words: menteri, ajar, anak, jadi, dunia",
          "<b>Topic 3</b><br>Words: ribu, ajar, nadiem, merdeka, guru",
          "<b>Topic 3</b><br>Words: indonesia, buat, menteri, ajar, anak",
          "<b>Topic 3</b><br>Words: covid, sektor, tatanan, luar, guna",
          "<b>Topic 3</b><br>Words: program, indonesia, sekolah, sebut, ajar",
          "<b>Topic 3</b><br>Words: ajar, jadi, sekolah, satu, erti",
          "<b>Topic 3</b><br>Words: sekolah, menteri, ajar, masa, pandemi",
          "<b>Topic 3</b><br>Words: ajar, covid, menteri, perintah, tahun",
          "<b>Topic 3</b><br>Words: nasional, pandemi, apa, inovasi, new",
          "<b>Topic 3</b><br>Words: aspek, upaya, pandemi, covid, hadap",
          "<b>Topic 3</b><br>Words: uny, covid, menteri, pil, ringan",
          "<b>Topic 3</b><br>Words: ajar, pandemi, kemendikbud, menteri, dpr",
          "<b>Topic 3</b><br>Words: pandemi, ajar, karakter, covid, sekolah",
          "<b>Topic 3</b><br>Words: ajar, covid, pandemi, masa, menteri",
          "<b>Topic 3</b><br>Words: ganti, perdana, india, menteri, nasional",
          "<b>Topic 3</b><br>Words: nilai, positif, siswa, beri, menteri",
          "<b>Topic 3</b><br>Words: pandemi, ajar, indonesia, inews, bikin",
          "<b>Topic 3</b><br>Words: inews, pandemi, kurikulum, tengah, merdeka",
          "<b>Topic 3</b><br>Words: sejarah, jadi, memang, banyak, kalau",
          "<b>Topic 3</b><br>Words: ajar, mahasura, salam, muda, covid",
          "<b>Topic 3</b><br>Words: bantu, kuota, internet, nadiem, makarim",
          "<b>Topic 3</b><br>Words: sentral, jadi, tua, kerja, sekolah"
         ],
         "marker": {
          "color": "#F0E442"
         },
         "mode": "lines",
         "name": "3_ajar_menteri_pandemi_covid",
         "type": "scatter",
         "x": [
          "2020-06-30T23:30:34.263000+00:00",
          "2020-07-04T01:45:44.566666+00:00",
          "2020-07-07T01:51:09.133333+00:00",
          "2020-07-10T01:56:33.700000+00:00",
          "2020-07-13T02:01:58.266666+00:00",
          "2020-07-16T02:07:22.833333+00:00",
          "2020-07-19T02:12:47.400000+00:00",
          "2020-07-22T02:18:11.966666+00:00",
          "2020-07-25T02:23:36.533333+00:00",
          "2020-07-28T02:29:01.100000+00:00",
          "2020-07-31T02:34:25.666666+00:00",
          "2020-08-03T02:39:50.233333+00:00",
          "2020-08-06T02:45:14.800000+00:00",
          "2020-08-09T02:50:39.366666+00:00",
          "2020-08-12T02:56:03.933333+00:00",
          "2020-08-15T03:01:28.500000+00:00",
          "2020-08-18T03:06:53.066666+00:00",
          "2020-08-24T03:17:42.200000+00:00",
          "2020-08-27T03:23:06.766666+00:00",
          "2020-08-30T03:28:31.333333+00:00",
          "2020-09-02T03:33:55.900000+00:00",
          "2020-09-05T03:39:20.466666+00:00",
          "2020-09-08T03:44:45.033333+00:00",
          "2020-09-11T03:50:09.600000+00:00",
          "2020-09-14T03:55:34.166666+00:00",
          "2020-09-17T04:00:58.733333+00:00",
          "2020-09-20T04:06:23.300000+00:00",
          "2020-09-23T04:11:47.866666+00:00",
          "2020-09-26T04:17:12.433333+00:00"
         ],
         "y": [
          30,
          34,
          32,
          29,
          37,
          21,
          33,
          50,
          34,
          41,
          10,
          36,
          25,
          46,
          38,
          16,
          18,
          23,
          28,
          15,
          25,
          16,
          28,
          24,
          17,
          12,
          42,
          17,
          9
         ]
        }
       ],
       "layout": {
        "height": 450,
        "hoverlabel": {
         "bgcolor": "white",
         "font": {
          "family": "Rockwell",
          "size": 16
         }
        },
        "legend": {
         "title": {
          "text": "<b>Global Topic Representation"
         }
        },
        "template": {
         "data": {
          "bar": [
           {
            "error_x": {
             "color": "rgb(36,36,36)"
            },
            "error_y": {
             "color": "rgb(36,36,36)"
            },
            "marker": {
             "line": {
              "color": "white",
              "width": 0.5
             },
             "pattern": {
              "fillmode": "overlay",
              "size": 10,
              "solidity": 0.2
             }
            },
            "type": "bar"
           }
          ],
          "barpolar": [
           {
            "marker": {
             "line": {
              "color": "white",
              "width": 0.5
             },
             "pattern": {
              "fillmode": "overlay",
              "size": 10,
              "solidity": 0.2
             }
            },
            "type": "barpolar"
           }
          ],
          "carpet": [
           {
            "aaxis": {
             "endlinecolor": "rgb(36,36,36)",
             "gridcolor": "white",
             "linecolor": "white",
             "minorgridcolor": "white",
             "startlinecolor": "rgb(36,36,36)"
            },
            "baxis": {
             "endlinecolor": "rgb(36,36,36)",
             "gridcolor": "white",
             "linecolor": "white",
             "minorgridcolor": "white",
             "startlinecolor": "rgb(36,36,36)"
            },
            "type": "carpet"
           }
          ],
          "choropleth": [
           {
            "colorbar": {
             "outlinewidth": 1,
             "tickcolor": "rgb(36,36,36)",
             "ticks": "outside"
            },
            "type": "choropleth"
           }
          ],
          "contour": [
           {
            "colorbar": {
             "outlinewidth": 1,
             "tickcolor": "rgb(36,36,36)",
             "ticks": "outside"
            },
            "colorscale": [
             [
              0,
              "#440154"
             ],
             [
              0.1111111111111111,
              "#482878"
             ],
             [
              0.2222222222222222,
              "#3e4989"
             ],
             [
              0.3333333333333333,
              "#31688e"
             ],
             [
              0.4444444444444444,
              "#26828e"
             ],
             [
              0.5555555555555556,
              "#1f9e89"
             ],
             [
              0.6666666666666666,
              "#35b779"
             ],
             [
              0.7777777777777778,
              "#6ece58"
             ],
             [
              0.8888888888888888,
              "#b5de2b"
             ],
             [
              1,
              "#fde725"
             ]
            ],
            "type": "contour"
           }
          ],
          "contourcarpet": [
           {
            "colorbar": {
             "outlinewidth": 1,
             "tickcolor": "rgb(36,36,36)",
             "ticks": "outside"
            },
            "type": "contourcarpet"
           }
          ],
          "heatmap": [
           {
            "colorbar": {
             "outlinewidth": 1,
             "tickcolor": "rgb(36,36,36)",
             "ticks": "outside"
            },
            "colorscale": [
             [
              0,
              "#440154"
             ],
             [
              0.1111111111111111,
              "#482878"
             ],
             [
              0.2222222222222222,
              "#3e4989"
             ],
             [
              0.3333333333333333,
              "#31688e"
             ],
             [
              0.4444444444444444,
              "#26828e"
             ],
             [
              0.5555555555555556,
              "#1f9e89"
             ],
             [
              0.6666666666666666,
              "#35b779"
             ],
             [
              0.7777777777777778,
              "#6ece58"
             ],
             [
              0.8888888888888888,
              "#b5de2b"
             ],
             [
              1,
              "#fde725"
             ]
            ],
            "type": "heatmap"
           }
          ],
          "heatmapgl": [
           {
            "colorbar": {
             "outlinewidth": 1,
             "tickcolor": "rgb(36,36,36)",
             "ticks": "outside"
            },
            "colorscale": [
             [
              0,
              "#440154"
             ],
             [
              0.1111111111111111,
              "#482878"
             ],
             [
              0.2222222222222222,
              "#3e4989"
             ],
             [
              0.3333333333333333,
              "#31688e"
             ],
             [
              0.4444444444444444,
              "#26828e"
             ],
             [
              0.5555555555555556,
              "#1f9e89"
             ],
             [
              0.6666666666666666,
              "#35b779"
             ],
             [
              0.7777777777777778,
              "#6ece58"
             ],
             [
              0.8888888888888888,
              "#b5de2b"
             ],
             [
              1,
              "#fde725"
             ]
            ],
            "type": "heatmapgl"
           }
          ],
          "histogram": [
           {
            "marker": {
             "line": {
              "color": "white",
              "width": 0.6
             }
            },
            "type": "histogram"
           }
          ],
          "histogram2d": [
           {
            "colorbar": {
             "outlinewidth": 1,
             "tickcolor": "rgb(36,36,36)",
             "ticks": "outside"
            },
            "colorscale": [
             [
              0,
              "#440154"
             ],
             [
              0.1111111111111111,
              "#482878"
             ],
             [
              0.2222222222222222,
              "#3e4989"
             ],
             [
              0.3333333333333333,
              "#31688e"
             ],
             [
              0.4444444444444444,
              "#26828e"
             ],
             [
              0.5555555555555556,
              "#1f9e89"
             ],
             [
              0.6666666666666666,
              "#35b779"
             ],
             [
              0.7777777777777778,
              "#6ece58"
             ],
             [
              0.8888888888888888,
              "#b5de2b"
             ],
             [
              1,
              "#fde725"
             ]
            ],
            "type": "histogram2d"
           }
          ],
          "histogram2dcontour": [
           {
            "colorbar": {
             "outlinewidth": 1,
             "tickcolor": "rgb(36,36,36)",
             "ticks": "outside"
            },
            "colorscale": [
             [
              0,
              "#440154"
             ],
             [
              0.1111111111111111,
              "#482878"
             ],
             [
              0.2222222222222222,
              "#3e4989"
             ],
             [
              0.3333333333333333,
              "#31688e"
             ],
             [
              0.4444444444444444,
              "#26828e"
             ],
             [
              0.5555555555555556,
              "#1f9e89"
             ],
             [
              0.6666666666666666,
              "#35b779"
             ],
             [
              0.7777777777777778,
              "#6ece58"
             ],
             [
              0.8888888888888888,
              "#b5de2b"
             ],
             [
              1,
              "#fde725"
             ]
            ],
            "type": "histogram2dcontour"
           }
          ],
          "mesh3d": [
           {
            "colorbar": {
             "outlinewidth": 1,
             "tickcolor": "rgb(36,36,36)",
             "ticks": "outside"
            },
            "type": "mesh3d"
           }
          ],
          "parcoords": [
           {
            "line": {
             "colorbar": {
              "outlinewidth": 1,
              "tickcolor": "rgb(36,36,36)",
              "ticks": "outside"
             }
            },
            "type": "parcoords"
           }
          ],
          "pie": [
           {
            "automargin": true,
            "type": "pie"
           }
          ],
          "scatter": [
           {
            "fillpattern": {
             "fillmode": "overlay",
             "size": 10,
             "solidity": 0.2
            },
            "type": "scatter"
           }
          ],
          "scatter3d": [
           {
            "line": {
             "colorbar": {
              "outlinewidth": 1,
              "tickcolor": "rgb(36,36,36)",
              "ticks": "outside"
             }
            },
            "marker": {
             "colorbar": {
              "outlinewidth": 1,
              "tickcolor": "rgb(36,36,36)",
              "ticks": "outside"
             }
            },
            "type": "scatter3d"
           }
          ],
          "scattercarpet": [
           {
            "marker": {
             "colorbar": {
              "outlinewidth": 1,
              "tickcolor": "rgb(36,36,36)",
              "ticks": "outside"
             }
            },
            "type": "scattercarpet"
           }
          ],
          "scattergeo": [
           {
            "marker": {
             "colorbar": {
              "outlinewidth": 1,
              "tickcolor": "rgb(36,36,36)",
              "ticks": "outside"
             }
            },
            "type": "scattergeo"
           }
          ],
          "scattergl": [
           {
            "marker": {
             "colorbar": {
              "outlinewidth": 1,
              "tickcolor": "rgb(36,36,36)",
              "ticks": "outside"
             }
            },
            "type": "scattergl"
           }
          ],
          "scattermapbox": [
           {
            "marker": {
             "colorbar": {
              "outlinewidth": 1,
              "tickcolor": "rgb(36,36,36)",
              "ticks": "outside"
             }
            },
            "type": "scattermapbox"
           }
          ],
          "scatterpolar": [
           {
            "marker": {
             "colorbar": {
              "outlinewidth": 1,
              "tickcolor": "rgb(36,36,36)",
              "ticks": "outside"
             }
            },
            "type": "scatterpolar"
           }
          ],
          "scatterpolargl": [
           {
            "marker": {
             "colorbar": {
              "outlinewidth": 1,
              "tickcolor": "rgb(36,36,36)",
              "ticks": "outside"
             }
            },
            "type": "scatterpolargl"
           }
          ],
          "scatterternary": [
           {
            "marker": {
             "colorbar": {
              "outlinewidth": 1,
              "tickcolor": "rgb(36,36,36)",
              "ticks": "outside"
             }
            },
            "type": "scatterternary"
           }
          ],
          "surface": [
           {
            "colorbar": {
             "outlinewidth": 1,
             "tickcolor": "rgb(36,36,36)",
             "ticks": "outside"
            },
            "colorscale": [
             [
              0,
              "#440154"
             ],
             [
              0.1111111111111111,
              "#482878"
             ],
             [
              0.2222222222222222,
              "#3e4989"
             ],
             [
              0.3333333333333333,
              "#31688e"
             ],
             [
              0.4444444444444444,
              "#26828e"
             ],
             [
              0.5555555555555556,
              "#1f9e89"
             ],
             [
              0.6666666666666666,
              "#35b779"
             ],
             [
              0.7777777777777778,
              "#6ece58"
             ],
             [
              0.8888888888888888,
              "#b5de2b"
             ],
             [
              1,
              "#fde725"
             ]
            ],
            "type": "surface"
           }
          ],
          "table": [
           {
            "cells": {
             "fill": {
              "color": "rgb(237,237,237)"
             },
             "line": {
              "color": "white"
             }
            },
            "header": {
             "fill": {
              "color": "rgb(217,217,217)"
             },
             "line": {
              "color": "white"
             }
            },
            "type": "table"
           }
          ]
         },
         "layout": {
          "annotationdefaults": {
           "arrowhead": 0,
           "arrowwidth": 1
          },
          "autotypenumbers": "strict",
          "coloraxis": {
           "colorbar": {
            "outlinewidth": 1,
            "tickcolor": "rgb(36,36,36)",
            "ticks": "outside"
           }
          },
          "colorscale": {
           "diverging": [
            [
             0,
             "rgb(103,0,31)"
            ],
            [
             0.1,
             "rgb(178,24,43)"
            ],
            [
             0.2,
             "rgb(214,96,77)"
            ],
            [
             0.3,
             "rgb(244,165,130)"
            ],
            [
             0.4,
             "rgb(253,219,199)"
            ],
            [
             0.5,
             "rgb(247,247,247)"
            ],
            [
             0.6,
             "rgb(209,229,240)"
            ],
            [
             0.7,
             "rgb(146,197,222)"
            ],
            [
             0.8,
             "rgb(67,147,195)"
            ],
            [
             0.9,
             "rgb(33,102,172)"
            ],
            [
             1,
             "rgb(5,48,97)"
            ]
           ],
           "sequential": [
            [
             0,
             "#440154"
            ],
            [
             0.1111111111111111,
             "#482878"
            ],
            [
             0.2222222222222222,
             "#3e4989"
            ],
            [
             0.3333333333333333,
             "#31688e"
            ],
            [
             0.4444444444444444,
             "#26828e"
            ],
            [
             0.5555555555555556,
             "#1f9e89"
            ],
            [
             0.6666666666666666,
             "#35b779"
            ],
            [
             0.7777777777777778,
             "#6ece58"
            ],
            [
             0.8888888888888888,
             "#b5de2b"
            ],
            [
             1,
             "#fde725"
            ]
           ],
           "sequentialminus": [
            [
             0,
             "#440154"
            ],
            [
             0.1111111111111111,
             "#482878"
            ],
            [
             0.2222222222222222,
             "#3e4989"
            ],
            [
             0.3333333333333333,
             "#31688e"
            ],
            [
             0.4444444444444444,
             "#26828e"
            ],
            [
             0.5555555555555556,
             "#1f9e89"
            ],
            [
             0.6666666666666666,
             "#35b779"
            ],
            [
             0.7777777777777778,
             "#6ece58"
            ],
            [
             0.8888888888888888,
             "#b5de2b"
            ],
            [
             1,
             "#fde725"
            ]
           ]
          },
          "colorway": [
           "#1F77B4",
           "#FF7F0E",
           "#2CA02C",
           "#D62728",
           "#9467BD",
           "#8C564B",
           "#E377C2",
           "#7F7F7F",
           "#BCBD22",
           "#17BECF"
          ],
          "font": {
           "color": "rgb(36,36,36)"
          },
          "geo": {
           "bgcolor": "white",
           "lakecolor": "white",
           "landcolor": "white",
           "showlakes": true,
           "showland": true,
           "subunitcolor": "white"
          },
          "hoverlabel": {
           "align": "left"
          },
          "hovermode": "closest",
          "mapbox": {
           "style": "light"
          },
          "paper_bgcolor": "white",
          "plot_bgcolor": "white",
          "polar": {
           "angularaxis": {
            "gridcolor": "rgb(232,232,232)",
            "linecolor": "rgb(36,36,36)",
            "showgrid": false,
            "showline": true,
            "ticks": "outside"
           },
           "bgcolor": "white",
           "radialaxis": {
            "gridcolor": "rgb(232,232,232)",
            "linecolor": "rgb(36,36,36)",
            "showgrid": false,
            "showline": true,
            "ticks": "outside"
           }
          },
          "scene": {
           "xaxis": {
            "backgroundcolor": "white",
            "gridcolor": "rgb(232,232,232)",
            "gridwidth": 2,
            "linecolor": "rgb(36,36,36)",
            "showbackground": true,
            "showgrid": false,
            "showline": true,
            "ticks": "outside",
            "zeroline": false,
            "zerolinecolor": "rgb(36,36,36)"
           },
           "yaxis": {
            "backgroundcolor": "white",
            "gridcolor": "rgb(232,232,232)",
            "gridwidth": 2,
            "linecolor": "rgb(36,36,36)",
            "showbackground": true,
            "showgrid": false,
            "showline": true,
            "ticks": "outside",
            "zeroline": false,
            "zerolinecolor": "rgb(36,36,36)"
           },
           "zaxis": {
            "backgroundcolor": "white",
            "gridcolor": "rgb(232,232,232)",
            "gridwidth": 2,
            "linecolor": "rgb(36,36,36)",
            "showbackground": true,
            "showgrid": false,
            "showline": true,
            "ticks": "outside",
            "zeroline": false,
            "zerolinecolor": "rgb(36,36,36)"
           }
          },
          "shapedefaults": {
           "fillcolor": "black",
           "line": {
            "width": 0
           },
           "opacity": 0.3
          },
          "ternary": {
           "aaxis": {
            "gridcolor": "rgb(232,232,232)",
            "linecolor": "rgb(36,36,36)",
            "showgrid": false,
            "showline": true,
            "ticks": "outside"
           },
           "baxis": {
            "gridcolor": "rgb(232,232,232)",
            "linecolor": "rgb(36,36,36)",
            "showgrid": false,
            "showline": true,
            "ticks": "outside"
           },
           "bgcolor": "white",
           "caxis": {
            "gridcolor": "rgb(232,232,232)",
            "linecolor": "rgb(36,36,36)",
            "showgrid": false,
            "showline": true,
            "ticks": "outside"
           }
          },
          "title": {
           "x": 0.05
          },
          "xaxis": {
           "automargin": true,
           "gridcolor": "rgb(232,232,232)",
           "linecolor": "rgb(36,36,36)",
           "showgrid": false,
           "showline": true,
           "ticks": "outside",
           "title": {
            "standoff": 15
           },
           "zeroline": false,
           "zerolinecolor": "rgb(36,36,36)"
          },
          "yaxis": {
           "automargin": true,
           "gridcolor": "rgb(232,232,232)",
           "linecolor": "rgb(36,36,36)",
           "showgrid": false,
           "showline": true,
           "ticks": "outside",
           "title": {
            "standoff": 15
           },
           "zeroline": false,
           "zerolinecolor": "rgb(36,36,36)"
          }
         }
        },
        "title": {
         "font": {
          "color": "Black",
          "size": 22
         },
         "text": "Topics Over Time for 2020Q3",
         "x": 0.4,
         "xanchor": "center",
         "y": 0.95,
         "yanchor": "top"
        },
        "width": 1250,
        "xaxis": {
         "showgrid": true
        },
        "yaxis": {
         "showgrid": true,
         "title": {
          "text": "Frequency"
         }
        }
       }
      }
     },
     "metadata": {},
     "output_type": "display_data"
    },
    {
     "data": {
      "application/vnd.plotly.v1+json": {
       "config": {
        "plotlyServerURL": "https://plot.ly"
       },
       "data": [
        {
         "hoverinfo": "text",
         "hovertext": [
          "<b>Topic 0</b><br>Words: islam, politis, politik, gtgt, haji",
          "<b>Topic 0</b><br>Words: islam, sekularismekapitalisme, berkah, satusatunya, cek",
          "<b>Topic 0</b><br>Words: islam, kaji, ekonomi, perban, motivator",
          "<b>Topic 0</b><br>Words: muhammadiyah, seluruh, pp, mccc, amal",
          "<b>Topic 0</b><br>Words: gtgt, islam, cukup, layak, dapat"
         ],
         "marker": {
          "color": "#E69F00"
         },
         "mode": "lines",
         "name": "0_islam_gtgt_cukup_seluruh",
         "type": "scatter",
         "x": [
          "2020-10-22T07:54:38.700000+00:00",
          "2020-11-09T11:53:39.300000+00:00",
          "2020-11-12T12:33:29.400000+00:00",
          "2020-11-15T13:13:19.500000+00:00",
          "2020-12-24T21:51:10.800000+00:00"
         ],
         "y": [
          1,
          1,
          1,
          2,
          7
         ]
        },
        {
         "hoverinfo": "text",
         "hovertext": [
          "<b>Topic 1</b><br>Words: kampus, sama, pimpin, menteri, indonesia",
          "<b>Topic 1</b><br>Words: ajar, merdeka, pandemi, buat, indonesia",
          "<b>Topic 1</b><br>Words: papua, perintah, jadi, ganti, baik",
          "<b>Topic 1</b><br>Words: formal, uji, kemendikbud, nasional, beri",
          "<b>Topic 1</b><br>Words: cuci, tangan, menteri, sabun, apbn",
          "<b>Topic 1</b><br>Words: menteri, politik, nadin, bogor, pak",
          "<b>Topic 1</b><br>Words: perintah, sama, pandemi, masa, jadi",
          "<b>Topic 1</b><br>Words: ubah, jadi, menteri, ambil, mampu",
          "<b>Topic 1</b><br>Words: indonesia, nadiem, bagai, sekolah, tahun",
          "<b>Topic 1</b><br>Words: mana, masyarakat, jadi, lama, gelargelar",
          "<b>Topic 1</b><br>Words: kerja, luncur, lama, nadiem, baswedan",
          "<b>Topic 1</b><br>Words: perintah, indonesia, dana, alam, presiden",
          "<b>Topic 1</b><br>Words: manusia, kurikulum, indonesia, landas, rpjmm",
          "<b>Topic 1</b><br>Words: ajar, perintah, indonesia, masalah, pandemi",
          "<b>Topic 1</b><br>Words: publik, indonesia, darmawan, upi, prof",
          "<b>Topic 1</b><br>Words: tahun, sekolah, kampus, swasta, infrastruktur",
          "<b>Topic 1</b><br>Words: ajar, menteri, pandemi, sekolah, muka",
          "<b>Topic 1</b><br>Words: tatap, muka, menteri, nadiem, sekolah",
          "<b>Topic 1</b><br>Words: ajar, pandemi, sekolah, merdeka, tatap",
          "<b>Topic 1</b><br>Words: ptnbh, jadi, jalur, guru, malah",
          "<b>Topic 1</b><br>Words: program, semua, sama, ajar, merdeka",
          "<b>Topic 1</b><br>Words: menteri, perintah, daerah, indonesia, inovasi",
          "<b>Topic 1</b><br>Words: teknologi, digital, bas, tingkat, indonesia",
          "<b>Topic 1</b><br>Words: gue, asa, anehaneh, wasalam, lobang",
          "<b>Topic 1</b><br>Words: periode, anakanak, daftar, ajar, perintah",
          "<b>Topic 1</b><br>Words: jurnal, sok, masa, saia, jadi"
         ],
         "marker": {
          "color": "#56B4E9"
         },
         "mode": "lines",
         "name": "1_menteri_ajar_perintah_indonesia",
         "type": "scatter",
         "x": [
          "2020-10-01T01:05:00.296999+00:00",
          "2020-10-04T03:55:38.100000+00:00",
          "2020-10-07T04:35:28.200000+00:00",
          "2020-10-10T05:15:18.300000+00:00",
          "2020-10-13T05:55:08.400000+00:00",
          "2020-10-16T06:34:58.500000+00:00",
          "2020-10-19T07:14:48.600000+00:00",
          "2020-10-22T07:54:38.700000+00:00",
          "2020-10-25T08:34:28.800000+00:00",
          "2020-10-28T09:14:18.900000+00:00",
          "2020-10-31T09:54:09+00:00",
          "2020-11-03T10:33:59.100000+00:00",
          "2020-11-06T11:13:49.200000+00:00",
          "2020-11-09T11:53:39.300000+00:00",
          "2020-11-12T12:33:29.400000+00:00",
          "2020-11-15T13:13:19.500000+00:00",
          "2020-11-18T13:53:09.600000+00:00",
          "2020-11-21T14:32:59.700000+00:00",
          "2020-11-24T15:12:49.800000+00:00",
          "2020-11-27T15:52:39.900000+00:00",
          "2020-12-12T19:11:50.400000+00:00",
          "2020-12-15T19:51:40.500000+00:00",
          "2020-12-18T20:31:30.600000+00:00",
          "2020-12-21T21:11:20.700000+00:00",
          "2020-12-24T21:51:10.800000+00:00",
          "2020-12-27T22:31:00.900000+00:00"
         ],
         "y": [
          11,
          31,
          21,
          14,
          9,
          8,
          21,
          12,
          16,
          8,
          9,
          15,
          5,
          16,
          11,
          8,
          20,
          13,
          18,
          24,
          6,
          12,
          7,
          2,
          17,
          10
         ]
        }
       ],
       "layout": {
        "height": 450,
        "hoverlabel": {
         "bgcolor": "white",
         "font": {
          "family": "Rockwell",
          "size": 16
         }
        },
        "legend": {
         "title": {
          "text": "<b>Global Topic Representation"
         }
        },
        "template": {
         "data": {
          "bar": [
           {
            "error_x": {
             "color": "rgb(36,36,36)"
            },
            "error_y": {
             "color": "rgb(36,36,36)"
            },
            "marker": {
             "line": {
              "color": "white",
              "width": 0.5
             },
             "pattern": {
              "fillmode": "overlay",
              "size": 10,
              "solidity": 0.2
             }
            },
            "type": "bar"
           }
          ],
          "barpolar": [
           {
            "marker": {
             "line": {
              "color": "white",
              "width": 0.5
             },
             "pattern": {
              "fillmode": "overlay",
              "size": 10,
              "solidity": 0.2
             }
            },
            "type": "barpolar"
           }
          ],
          "carpet": [
           {
            "aaxis": {
             "endlinecolor": "rgb(36,36,36)",
             "gridcolor": "white",
             "linecolor": "white",
             "minorgridcolor": "white",
             "startlinecolor": "rgb(36,36,36)"
            },
            "baxis": {
             "endlinecolor": "rgb(36,36,36)",
             "gridcolor": "white",
             "linecolor": "white",
             "minorgridcolor": "white",
             "startlinecolor": "rgb(36,36,36)"
            },
            "type": "carpet"
           }
          ],
          "choropleth": [
           {
            "colorbar": {
             "outlinewidth": 1,
             "tickcolor": "rgb(36,36,36)",
             "ticks": "outside"
            },
            "type": "choropleth"
           }
          ],
          "contour": [
           {
            "colorbar": {
             "outlinewidth": 1,
             "tickcolor": "rgb(36,36,36)",
             "ticks": "outside"
            },
            "colorscale": [
             [
              0,
              "#440154"
             ],
             [
              0.1111111111111111,
              "#482878"
             ],
             [
              0.2222222222222222,
              "#3e4989"
             ],
             [
              0.3333333333333333,
              "#31688e"
             ],
             [
              0.4444444444444444,
              "#26828e"
             ],
             [
              0.5555555555555556,
              "#1f9e89"
             ],
             [
              0.6666666666666666,
              "#35b779"
             ],
             [
              0.7777777777777778,
              "#6ece58"
             ],
             [
              0.8888888888888888,
              "#b5de2b"
             ],
             [
              1,
              "#fde725"
             ]
            ],
            "type": "contour"
           }
          ],
          "contourcarpet": [
           {
            "colorbar": {
             "outlinewidth": 1,
             "tickcolor": "rgb(36,36,36)",
             "ticks": "outside"
            },
            "type": "contourcarpet"
           }
          ],
          "heatmap": [
           {
            "colorbar": {
             "outlinewidth": 1,
             "tickcolor": "rgb(36,36,36)",
             "ticks": "outside"
            },
            "colorscale": [
             [
              0,
              "#440154"
             ],
             [
              0.1111111111111111,
              "#482878"
             ],
             [
              0.2222222222222222,
              "#3e4989"
             ],
             [
              0.3333333333333333,
              "#31688e"
             ],
             [
              0.4444444444444444,
              "#26828e"
             ],
             [
              0.5555555555555556,
              "#1f9e89"
             ],
             [
              0.6666666666666666,
              "#35b779"
             ],
             [
              0.7777777777777778,
              "#6ece58"
             ],
             [
              0.8888888888888888,
              "#b5de2b"
             ],
             [
              1,
              "#fde725"
             ]
            ],
            "type": "heatmap"
           }
          ],
          "heatmapgl": [
           {
            "colorbar": {
             "outlinewidth": 1,
             "tickcolor": "rgb(36,36,36)",
             "ticks": "outside"
            },
            "colorscale": [
             [
              0,
              "#440154"
             ],
             [
              0.1111111111111111,
              "#482878"
             ],
             [
              0.2222222222222222,
              "#3e4989"
             ],
             [
              0.3333333333333333,
              "#31688e"
             ],
             [
              0.4444444444444444,
              "#26828e"
             ],
             [
              0.5555555555555556,
              "#1f9e89"
             ],
             [
              0.6666666666666666,
              "#35b779"
             ],
             [
              0.7777777777777778,
              "#6ece58"
             ],
             [
              0.8888888888888888,
              "#b5de2b"
             ],
             [
              1,
              "#fde725"
             ]
            ],
            "type": "heatmapgl"
           }
          ],
          "histogram": [
           {
            "marker": {
             "line": {
              "color": "white",
              "width": 0.6
             }
            },
            "type": "histogram"
           }
          ],
          "histogram2d": [
           {
            "colorbar": {
             "outlinewidth": 1,
             "tickcolor": "rgb(36,36,36)",
             "ticks": "outside"
            },
            "colorscale": [
             [
              0,
              "#440154"
             ],
             [
              0.1111111111111111,
              "#482878"
             ],
             [
              0.2222222222222222,
              "#3e4989"
             ],
             [
              0.3333333333333333,
              "#31688e"
             ],
             [
              0.4444444444444444,
              "#26828e"
             ],
             [
              0.5555555555555556,
              "#1f9e89"
             ],
             [
              0.6666666666666666,
              "#35b779"
             ],
             [
              0.7777777777777778,
              "#6ece58"
             ],
             [
              0.8888888888888888,
              "#b5de2b"
             ],
             [
              1,
              "#fde725"
             ]
            ],
            "type": "histogram2d"
           }
          ],
          "histogram2dcontour": [
           {
            "colorbar": {
             "outlinewidth": 1,
             "tickcolor": "rgb(36,36,36)",
             "ticks": "outside"
            },
            "colorscale": [
             [
              0,
              "#440154"
             ],
             [
              0.1111111111111111,
              "#482878"
             ],
             [
              0.2222222222222222,
              "#3e4989"
             ],
             [
              0.3333333333333333,
              "#31688e"
             ],
             [
              0.4444444444444444,
              "#26828e"
             ],
             [
              0.5555555555555556,
              "#1f9e89"
             ],
             [
              0.6666666666666666,
              "#35b779"
             ],
             [
              0.7777777777777778,
              "#6ece58"
             ],
             [
              0.8888888888888888,
              "#b5de2b"
             ],
             [
              1,
              "#fde725"
             ]
            ],
            "type": "histogram2dcontour"
           }
          ],
          "mesh3d": [
           {
            "colorbar": {
             "outlinewidth": 1,
             "tickcolor": "rgb(36,36,36)",
             "ticks": "outside"
            },
            "type": "mesh3d"
           }
          ],
          "parcoords": [
           {
            "line": {
             "colorbar": {
              "outlinewidth": 1,
              "tickcolor": "rgb(36,36,36)",
              "ticks": "outside"
             }
            },
            "type": "parcoords"
           }
          ],
          "pie": [
           {
            "automargin": true,
            "type": "pie"
           }
          ],
          "scatter": [
           {
            "fillpattern": {
             "fillmode": "overlay",
             "size": 10,
             "solidity": 0.2
            },
            "type": "scatter"
           }
          ],
          "scatter3d": [
           {
            "line": {
             "colorbar": {
              "outlinewidth": 1,
              "tickcolor": "rgb(36,36,36)",
              "ticks": "outside"
             }
            },
            "marker": {
             "colorbar": {
              "outlinewidth": 1,
              "tickcolor": "rgb(36,36,36)",
              "ticks": "outside"
             }
            },
            "type": "scatter3d"
           }
          ],
          "scattercarpet": [
           {
            "marker": {
             "colorbar": {
              "outlinewidth": 1,
              "tickcolor": "rgb(36,36,36)",
              "ticks": "outside"
             }
            },
            "type": "scattercarpet"
           }
          ],
          "scattergeo": [
           {
            "marker": {
             "colorbar": {
              "outlinewidth": 1,
              "tickcolor": "rgb(36,36,36)",
              "ticks": "outside"
             }
            },
            "type": "scattergeo"
           }
          ],
          "scattergl": [
           {
            "marker": {
             "colorbar": {
              "outlinewidth": 1,
              "tickcolor": "rgb(36,36,36)",
              "ticks": "outside"
             }
            },
            "type": "scattergl"
           }
          ],
          "scattermapbox": [
           {
            "marker": {
             "colorbar": {
              "outlinewidth": 1,
              "tickcolor": "rgb(36,36,36)",
              "ticks": "outside"
             }
            },
            "type": "scattermapbox"
           }
          ],
          "scatterpolar": [
           {
            "marker": {
             "colorbar": {
              "outlinewidth": 1,
              "tickcolor": "rgb(36,36,36)",
              "ticks": "outside"
             }
            },
            "type": "scatterpolar"
           }
          ],
          "scatterpolargl": [
           {
            "marker": {
             "colorbar": {
              "outlinewidth": 1,
              "tickcolor": "rgb(36,36,36)",
              "ticks": "outside"
             }
            },
            "type": "scatterpolargl"
           }
          ],
          "scatterternary": [
           {
            "marker": {
             "colorbar": {
              "outlinewidth": 1,
              "tickcolor": "rgb(36,36,36)",
              "ticks": "outside"
             }
            },
            "type": "scatterternary"
           }
          ],
          "surface": [
           {
            "colorbar": {
             "outlinewidth": 1,
             "tickcolor": "rgb(36,36,36)",
             "ticks": "outside"
            },
            "colorscale": [
             [
              0,
              "#440154"
             ],
             [
              0.1111111111111111,
              "#482878"
             ],
             [
              0.2222222222222222,
              "#3e4989"
             ],
             [
              0.3333333333333333,
              "#31688e"
             ],
             [
              0.4444444444444444,
              "#26828e"
             ],
             [
              0.5555555555555556,
              "#1f9e89"
             ],
             [
              0.6666666666666666,
              "#35b779"
             ],
             [
              0.7777777777777778,
              "#6ece58"
             ],
             [
              0.8888888888888888,
              "#b5de2b"
             ],
             [
              1,
              "#fde725"
             ]
            ],
            "type": "surface"
           }
          ],
          "table": [
           {
            "cells": {
             "fill": {
              "color": "rgb(237,237,237)"
             },
             "line": {
              "color": "white"
             }
            },
            "header": {
             "fill": {
              "color": "rgb(217,217,217)"
             },
             "line": {
              "color": "white"
             }
            },
            "type": "table"
           }
          ]
         },
         "layout": {
          "annotationdefaults": {
           "arrowhead": 0,
           "arrowwidth": 1
          },
          "autotypenumbers": "strict",
          "coloraxis": {
           "colorbar": {
            "outlinewidth": 1,
            "tickcolor": "rgb(36,36,36)",
            "ticks": "outside"
           }
          },
          "colorscale": {
           "diverging": [
            [
             0,
             "rgb(103,0,31)"
            ],
            [
             0.1,
             "rgb(178,24,43)"
            ],
            [
             0.2,
             "rgb(214,96,77)"
            ],
            [
             0.3,
             "rgb(244,165,130)"
            ],
            [
             0.4,
             "rgb(253,219,199)"
            ],
            [
             0.5,
             "rgb(247,247,247)"
            ],
            [
             0.6,
             "rgb(209,229,240)"
            ],
            [
             0.7,
             "rgb(146,197,222)"
            ],
            [
             0.8,
             "rgb(67,147,195)"
            ],
            [
             0.9,
             "rgb(33,102,172)"
            ],
            [
             1,
             "rgb(5,48,97)"
            ]
           ],
           "sequential": [
            [
             0,
             "#440154"
            ],
            [
             0.1111111111111111,
             "#482878"
            ],
            [
             0.2222222222222222,
             "#3e4989"
            ],
            [
             0.3333333333333333,
             "#31688e"
            ],
            [
             0.4444444444444444,
             "#26828e"
            ],
            [
             0.5555555555555556,
             "#1f9e89"
            ],
            [
             0.6666666666666666,
             "#35b779"
            ],
            [
             0.7777777777777778,
             "#6ece58"
            ],
            [
             0.8888888888888888,
             "#b5de2b"
            ],
            [
             1,
             "#fde725"
            ]
           ],
           "sequentialminus": [
            [
             0,
             "#440154"
            ],
            [
             0.1111111111111111,
             "#482878"
            ],
            [
             0.2222222222222222,
             "#3e4989"
            ],
            [
             0.3333333333333333,
             "#31688e"
            ],
            [
             0.4444444444444444,
             "#26828e"
            ],
            [
             0.5555555555555556,
             "#1f9e89"
            ],
            [
             0.6666666666666666,
             "#35b779"
            ],
            [
             0.7777777777777778,
             "#6ece58"
            ],
            [
             0.8888888888888888,
             "#b5de2b"
            ],
            [
             1,
             "#fde725"
            ]
           ]
          },
          "colorway": [
           "#1F77B4",
           "#FF7F0E",
           "#2CA02C",
           "#D62728",
           "#9467BD",
           "#8C564B",
           "#E377C2",
           "#7F7F7F",
           "#BCBD22",
           "#17BECF"
          ],
          "font": {
           "color": "rgb(36,36,36)"
          },
          "geo": {
           "bgcolor": "white",
           "lakecolor": "white",
           "landcolor": "white",
           "showlakes": true,
           "showland": true,
           "subunitcolor": "white"
          },
          "hoverlabel": {
           "align": "left"
          },
          "hovermode": "closest",
          "mapbox": {
           "style": "light"
          },
          "paper_bgcolor": "white",
          "plot_bgcolor": "white",
          "polar": {
           "angularaxis": {
            "gridcolor": "rgb(232,232,232)",
            "linecolor": "rgb(36,36,36)",
            "showgrid": false,
            "showline": true,
            "ticks": "outside"
           },
           "bgcolor": "white",
           "radialaxis": {
            "gridcolor": "rgb(232,232,232)",
            "linecolor": "rgb(36,36,36)",
            "showgrid": false,
            "showline": true,
            "ticks": "outside"
           }
          },
          "scene": {
           "xaxis": {
            "backgroundcolor": "white",
            "gridcolor": "rgb(232,232,232)",
            "gridwidth": 2,
            "linecolor": "rgb(36,36,36)",
            "showbackground": true,
            "showgrid": false,
            "showline": true,
            "ticks": "outside",
            "zeroline": false,
            "zerolinecolor": "rgb(36,36,36)"
           },
           "yaxis": {
            "backgroundcolor": "white",
            "gridcolor": "rgb(232,232,232)",
            "gridwidth": 2,
            "linecolor": "rgb(36,36,36)",
            "showbackground": true,
            "showgrid": false,
            "showline": true,
            "ticks": "outside",
            "zeroline": false,
            "zerolinecolor": "rgb(36,36,36)"
           },
           "zaxis": {
            "backgroundcolor": "white",
            "gridcolor": "rgb(232,232,232)",
            "gridwidth": 2,
            "linecolor": "rgb(36,36,36)",
            "showbackground": true,
            "showgrid": false,
            "showline": true,
            "ticks": "outside",
            "zeroline": false,
            "zerolinecolor": "rgb(36,36,36)"
           }
          },
          "shapedefaults": {
           "fillcolor": "black",
           "line": {
            "width": 0
           },
           "opacity": 0.3
          },
          "ternary": {
           "aaxis": {
            "gridcolor": "rgb(232,232,232)",
            "linecolor": "rgb(36,36,36)",
            "showgrid": false,
            "showline": true,
            "ticks": "outside"
           },
           "baxis": {
            "gridcolor": "rgb(232,232,232)",
            "linecolor": "rgb(36,36,36)",
            "showgrid": false,
            "showline": true,
            "ticks": "outside"
           },
           "bgcolor": "white",
           "caxis": {
            "gridcolor": "rgb(232,232,232)",
            "linecolor": "rgb(36,36,36)",
            "showgrid": false,
            "showline": true,
            "ticks": "outside"
           }
          },
          "title": {
           "x": 0.05
          },
          "xaxis": {
           "automargin": true,
           "gridcolor": "rgb(232,232,232)",
           "linecolor": "rgb(36,36,36)",
           "showgrid": false,
           "showline": true,
           "ticks": "outside",
           "title": {
            "standoff": 15
           },
           "zeroline": false,
           "zerolinecolor": "rgb(36,36,36)"
          },
          "yaxis": {
           "automargin": true,
           "gridcolor": "rgb(232,232,232)",
           "linecolor": "rgb(36,36,36)",
           "showgrid": false,
           "showline": true,
           "ticks": "outside",
           "title": {
            "standoff": 15
           },
           "zeroline": false,
           "zerolinecolor": "rgb(36,36,36)"
          }
         }
        },
        "title": {
         "font": {
          "color": "Black",
          "size": 22
         },
         "text": "Topics Over Time for 2020Q4",
         "x": 0.4,
         "xanchor": "center",
         "y": 0.95,
         "yanchor": "top"
        },
        "width": 1250,
        "xaxis": {
         "showgrid": true
        },
        "yaxis": {
         "showgrid": true,
         "title": {
          "text": "Frequency"
         }
        }
       }
      }
     },
     "metadata": {},
     "output_type": "display_data"
    },
    {
     "data": {
      "application/vnd.plotly.v1+json": {
       "config": {
        "plotlyServerURL": "https://plot.ly"
       },
       "data": [
        {
         "hoverinfo": "text",
         "hovertext": [
          "<b>Topic 0</b><br>Words: musik, rancang, tradisional, apresiasi, lindung",
          "<b>Topic 0</b><br>Words: musik, rancang, hari, kemarin, tanggal",
          "<b>Topic 0</b><br>Words: musik, tradisional, apresiasi, karya, cipta"
         ],
         "marker": {
          "color": "#E69F00"
         },
         "mode": "lines",
         "name": "0_musik_tradisional_apresiasi_karya",
         "type": "scatter",
         "x": [
          "2021-03-07T09:47:13.133333+00:00",
          "2021-03-09T12:37:29.666666+00:00",
          "2021-03-13T18:18:02.733333+00:00"
         ],
         "y": [
          2,
          1,
          16
         ]
        },
        {
         "hoverinfo": "text",
         "hovertext": [
          "<b>Topic 1</b><br>Words: pandemi, bapk, line, smu, kelasbnyk",
          "<b>Topic 1</b><br>Words: pandemi, menggebuh, cangkul, kala, saat",
          "<b>Topic 1</b><br>Words: pandemi, jelas, audiensi, biaya, proporsional",
          "<b>Topic 1</b><br>Words: pandemi, pergub, inflasi, jelasjelas, merah",
          "<b>Topic 1</b><br>Words: pandemi, audiensi, biaya, tengah, langsung",
          "<b>Topic 1</b><br>Words: pandemi, biaya, ubah, audiensi, fkm",
          "<b>Topic 1</b><br>Words: pandemi, analyst, aryo, junior, ravelto",
          "<b>Topic 1</b><br>Words: tilik, covid, pandemi, sektor, perintah"
         ],
         "marker": {
          "color": "#56B4E9"
         },
         "mode": "lines",
         "name": "1_pandemi_audiensi_biaya_tengah",
         "type": "scatter",
         "x": [
          "2021-01-28T06:42:15.533333+00:00",
          "2021-02-01T12:22:48.600000+00:00",
          "2021-02-03T15:13:05.133333+00:00",
          "2021-02-12T02:34:11.266666+00:00",
          "2021-02-16T08:14:44.333333+00:00",
          "2021-02-18T11:05:00.866666+00:00",
          "2021-02-22T16:45:33.933333+00:00",
          "2021-03-01T01:16:23.533333+00:00"
         ],
         "y": [
          1,
          1,
          3,
          1,
          14,
          1,
          1,
          1
         ]
        },
        {
         "hoverinfo": "text",
         "hovertext": [
          "<b>Topic 2</b><br>Words: kualitas, mampu, otsus, papua, tingkat",
          "<b>Topic 2</b><br>Words: kualitas, mampu, otsus, papua, tingkat",
          "<b>Topic 2</b><br>Words: kualitas, mampu, otsus, papua, tingkat",
          "<b>Topic 2</b><br>Words: tara, otsus, sektor, kualitas, mampu",
          "<b>Topic 2</b><br>Words: kualitas, mampu, otsus, papua, tingkat",
          "<b>Topic 2</b><br>Words: barangjasa, kualitas, mampu, otsus, ada"
         ],
         "marker": {
          "color": "#009E73"
         },
         "mode": "lines",
         "name": "2_kualitas_mampu_otsus_papua",
         "type": "scatter",
         "x": [
          "2021-01-28T06:42:15.533333+00:00",
          "2021-02-05T18:03:21.666666+00:00",
          "2021-02-12T02:34:11.266666+00:00",
          "2021-02-16T08:14:44.333333+00:00",
          "2021-02-26T22:26:07+00:00",
          "2021-03-09T12:37:29.666666+00:00"
         ],
         "y": [
          4,
          2,
          1,
          1,
          4,
          1
         ]
        },
        {
         "hoverinfo": "text",
         "hovertext": [
          "<b>Topic 3</b><br>Words: dapat, papua, lapis, masyarakat, akses",
          "<b>Topic 3</b><br>Words: papua, infrastruktur, bukti, ekonomi, fokus",
          "<b>Topic 3</b><br>Words: papua, masyarakat, sejahtera, otonomi, bukti",
          "<b>Topic 3</b><br>Words: papua, otsus, jadi, otonomi, masyarakat",
          "<b>Topic 3</b><br>Words: papua, masyarakat, sejahtera, otonomi, bukti",
          "<b>Topic 3</b><br>Words: papua, perpu, provinsi, amp, lebih",
          "<b>Topic 3</b><br>Words: papua, masyarakat, dukung, mekar, sejahtera",
          "<b>Topic 3</b><br>Words: papua, masyarakat, sejahtera, otonomi, bukti",
          "<b>Topic 3</b><br>Words: otsus, papua, sejahtera, masyarakat, serius",
          "<b>Topic 3</b><br>Words: papua, putra, inspektur, sip, bintara"
         ],
         "marker": {
          "color": "#F0E442"
         },
         "mode": "lines",
         "name": "3_papua_masyarakat_sejahtera_otsus",
         "type": "scatter",
         "x": [
          "2021-02-05T18:03:21.666666+00:00",
          "2021-02-09T23:43:54.733333+00:00",
          "2021-02-18T11:05:00.866666+00:00",
          "2021-02-24T19:35:50.466666+00:00",
          "2021-02-26T22:26:07+00:00",
          "2021-03-01T01:16:23.533333+00:00",
          "2021-03-17T23:58:35.800000+00:00",
          "2021-03-24T08:29:25.400000+00:00",
          "2021-03-26T11:19:41.933333+00:00",
          "2021-03-28T14:09:58.466666+00:00"
         ],
         "y": [
          1,
          1,
          2,
          3,
          1,
          1,
          1,
          3,
          1,
          1
         ]
        },
        {
         "hoverinfo": "text",
         "hovertext": [
          "<b>Topic 4</b><br>Words: abadi, ngobrolin, santun, daun, sembilan",
          "<b>Topic 4</b><br>Words: kuota, internet, bantu, data, kemendikbud",
          "<b>Topic 4</b><br>Words: bantu, internet, kuota, data, kemendikbud",
          "<b>Topic 4</b><br>Words: kuota, bantu, internet, data, kemendikbud",
          "<b>Topic 4</b><br>Words: internet, kuota, bantu, kemendikbud, data"
         ],
         "marker": {
          "color": "#D55E00"
         },
         "mode": "lines",
         "name": "4_kuota_bantu_internet_data",
         "type": "scatter",
         "x": [
          "2021-02-18T11:05:00.866666+00:00",
          "2021-02-24T19:35:50.466666+00:00",
          "2021-03-01T01:16:23.533333+00:00",
          "2021-03-03T04:06:40.066666+00:00",
          "2021-03-09T12:37:29.666666+00:00"
         ],
         "y": [
          1,
          2,
          8,
          5,
          2
         ]
        },
        {
         "hoverinfo": "text",
         "hovertext": [
          "<b>Topic 5</b><br>Words: jadi, wajib, kad, copot, jamin",
          "<b>Topic 5</b><br>Words: pjp, susun, jadi, peta, jalan",
          "<b>Topic 5</b><br>Words: pdi, juang, sangat, internal, harga",
          "<b>Topic 5</b><br>Words: ibu, cebong, bela, jalan, peta",
          "<b>Topic 5</b><br>Words: jadi, nasional, baru, mu, malah",
          "<b>Topic 5</b><br>Words: perintah, mesti, indonesia, agama, buat",
          "<b>Topic 5</b><br>Words: lebih, program, indonesia, prakerja, seameo",
          "<b>Topic 5</b><br>Words: india, via, uji, sehat, aditomo",
          "<b>Topic 5</b><br>Words: sama, negeri, gue, kampus, merdeka",
          "<b>Topic 5</b><br>Words: macam, harap, gaji, soal, guru",
          "<b>Topic 5</b><br>Words: ajar, kampus, masuk, merdeka, indonesia",
          "<b>Topic 5</b><br>Words: informasi, merdeka, dm, inflamasi, rep",
          "<b>Topic 5</b><br>Words: sertifikasi, forum, tuai, honorer, ketua",
          "<b>Topic 5</b><br>Words: kota, lamongan, sekolah, yogyakarta, teh",
          "<b>Topic 5</b><br>Words: operasional, fisik, sekolah, padahal, alokasi",
          "<b>Topic 5</b><br>Words: desa, paket, miras, masyarakat, prihatin",
          "<b>Topic 5</b><br>Words: semua, selesai, sekolah, feminisme, nya",
          "<b>Topic 5</b><br>Words: ajar, kaji, normal, anakanak, kau",
          "<b>Topic 5</b><br>Words: kritik, merdeka, ajar, banyak, apa",
          "<b>Topic 5</b><br>Words: perempuan, agama, perintah, amp, tak",
          "<b>Topic 5</b><br>Words: agama, frasa, jalan, peta, kurikulum",
          "<b>Topic 5</b><br>Words: gue, tahun, paud, wajib, nasional",
          "<b>Topic 5</b><br>Words: tutup, lanka, sri, larang, ikut",
          "<b>Topic 5</b><br>Words: joko, widodo, lama, ikut, anak",
          "<b>Topic 5</b><br>Words: golkar, partai, artikel, arya, teken",
          "<b>Topic 5</b><br>Words: keluarga, ormawa, kunjung, nilai, laksana",
          "<b>Topic 5</b><br>Words: bukan, jalan, ajar, bekas, serta",
          "<b>Topic 5</b><br>Words: guru, kait, sekolah, cuma, glorifying",
          "<b>Topic 5</b><br>Words: penting, nyawa, coba, uji, sekolah",
          "<b>Topic 5</b><br>Words: jam, sekolah, tangan, dinas, muka"
         ],
         "marker": {
          "color": "#0072B2"
         },
         "mode": "lines",
         "name": "5_sekolah_ajar_indonesia_nasional",
         "type": "scatter",
         "x": [
          "2021-01-26T02:20:28.504000+00:00",
          "2021-01-28T06:42:15.533333+00:00",
          "2021-01-30T09:32:32.066666+00:00",
          "2021-02-01T12:22:48.600000+00:00",
          "2021-02-03T15:13:05.133333+00:00",
          "2021-02-05T18:03:21.666666+00:00",
          "2021-02-07T20:53:38.200000+00:00",
          "2021-02-09T23:43:54.733333+00:00",
          "2021-02-12T02:34:11.266666+00:00",
          "2021-02-14T05:24:27.800000+00:00",
          "2021-02-16T08:14:44.333333+00:00",
          "2021-02-18T11:05:00.866666+00:00",
          "2021-02-20T13:55:17.400000+00:00",
          "2021-02-22T16:45:33.933333+00:00",
          "2021-02-24T19:35:50.466666+00:00",
          "2021-02-26T22:26:07+00:00",
          "2021-03-01T01:16:23.533333+00:00",
          "2021-03-03T04:06:40.066666+00:00",
          "2021-03-05T06:56:56.600000+00:00",
          "2021-03-07T09:47:13.133333+00:00",
          "2021-03-09T12:37:29.666666+00:00",
          "2021-03-11T15:27:46.200000+00:00",
          "2021-03-13T18:18:02.733333+00:00",
          "2021-03-15T21:08:19.266666+00:00",
          "2021-03-17T23:58:35.800000+00:00",
          "2021-03-20T02:48:52.333333+00:00",
          "2021-03-22T05:39:08.866666+00:00",
          "2021-03-24T08:29:25.400000+00:00",
          "2021-03-26T11:19:41.933333+00:00",
          "2021-03-28T14:09:58.466666+00:00"
         ],
         "y": [
          9,
          14,
          2,
          10,
          17,
          19,
          12,
          5,
          7,
          5,
          9,
          2,
          1,
          7,
          7,
          2,
          9,
          4,
          6,
          10,
          14,
          11,
          11,
          3,
          2,
          3,
          7,
          8,
          3,
          8
         ]
        }
       ],
       "layout": {
        "height": 450,
        "hoverlabel": {
         "bgcolor": "white",
         "font": {
          "family": "Rockwell",
          "size": 16
         }
        },
        "legend": {
         "title": {
          "text": "<b>Global Topic Representation"
         }
        },
        "template": {
         "data": {
          "bar": [
           {
            "error_x": {
             "color": "rgb(36,36,36)"
            },
            "error_y": {
             "color": "rgb(36,36,36)"
            },
            "marker": {
             "line": {
              "color": "white",
              "width": 0.5
             },
             "pattern": {
              "fillmode": "overlay",
              "size": 10,
              "solidity": 0.2
             }
            },
            "type": "bar"
           }
          ],
          "barpolar": [
           {
            "marker": {
             "line": {
              "color": "white",
              "width": 0.5
             },
             "pattern": {
              "fillmode": "overlay",
              "size": 10,
              "solidity": 0.2
             }
            },
            "type": "barpolar"
           }
          ],
          "carpet": [
           {
            "aaxis": {
             "endlinecolor": "rgb(36,36,36)",
             "gridcolor": "white",
             "linecolor": "white",
             "minorgridcolor": "white",
             "startlinecolor": "rgb(36,36,36)"
            },
            "baxis": {
             "endlinecolor": "rgb(36,36,36)",
             "gridcolor": "white",
             "linecolor": "white",
             "minorgridcolor": "white",
             "startlinecolor": "rgb(36,36,36)"
            },
            "type": "carpet"
           }
          ],
          "choropleth": [
           {
            "colorbar": {
             "outlinewidth": 1,
             "tickcolor": "rgb(36,36,36)",
             "ticks": "outside"
            },
            "type": "choropleth"
           }
          ],
          "contour": [
           {
            "colorbar": {
             "outlinewidth": 1,
             "tickcolor": "rgb(36,36,36)",
             "ticks": "outside"
            },
            "colorscale": [
             [
              0,
              "#440154"
             ],
             [
              0.1111111111111111,
              "#482878"
             ],
             [
              0.2222222222222222,
              "#3e4989"
             ],
             [
              0.3333333333333333,
              "#31688e"
             ],
             [
              0.4444444444444444,
              "#26828e"
             ],
             [
              0.5555555555555556,
              "#1f9e89"
             ],
             [
              0.6666666666666666,
              "#35b779"
             ],
             [
              0.7777777777777778,
              "#6ece58"
             ],
             [
              0.8888888888888888,
              "#b5de2b"
             ],
             [
              1,
              "#fde725"
             ]
            ],
            "type": "contour"
           }
          ],
          "contourcarpet": [
           {
            "colorbar": {
             "outlinewidth": 1,
             "tickcolor": "rgb(36,36,36)",
             "ticks": "outside"
            },
            "type": "contourcarpet"
           }
          ],
          "heatmap": [
           {
            "colorbar": {
             "outlinewidth": 1,
             "tickcolor": "rgb(36,36,36)",
             "ticks": "outside"
            },
            "colorscale": [
             [
              0,
              "#440154"
             ],
             [
              0.1111111111111111,
              "#482878"
             ],
             [
              0.2222222222222222,
              "#3e4989"
             ],
             [
              0.3333333333333333,
              "#31688e"
             ],
             [
              0.4444444444444444,
              "#26828e"
             ],
             [
              0.5555555555555556,
              "#1f9e89"
             ],
             [
              0.6666666666666666,
              "#35b779"
             ],
             [
              0.7777777777777778,
              "#6ece58"
             ],
             [
              0.8888888888888888,
              "#b5de2b"
             ],
             [
              1,
              "#fde725"
             ]
            ],
            "type": "heatmap"
           }
          ],
          "heatmapgl": [
           {
            "colorbar": {
             "outlinewidth": 1,
             "tickcolor": "rgb(36,36,36)",
             "ticks": "outside"
            },
            "colorscale": [
             [
              0,
              "#440154"
             ],
             [
              0.1111111111111111,
              "#482878"
             ],
             [
              0.2222222222222222,
              "#3e4989"
             ],
             [
              0.3333333333333333,
              "#31688e"
             ],
             [
              0.4444444444444444,
              "#26828e"
             ],
             [
              0.5555555555555556,
              "#1f9e89"
             ],
             [
              0.6666666666666666,
              "#35b779"
             ],
             [
              0.7777777777777778,
              "#6ece58"
             ],
             [
              0.8888888888888888,
              "#b5de2b"
             ],
             [
              1,
              "#fde725"
             ]
            ],
            "type": "heatmapgl"
           }
          ],
          "histogram": [
           {
            "marker": {
             "line": {
              "color": "white",
              "width": 0.6
             }
            },
            "type": "histogram"
           }
          ],
          "histogram2d": [
           {
            "colorbar": {
             "outlinewidth": 1,
             "tickcolor": "rgb(36,36,36)",
             "ticks": "outside"
            },
            "colorscale": [
             [
              0,
              "#440154"
             ],
             [
              0.1111111111111111,
              "#482878"
             ],
             [
              0.2222222222222222,
              "#3e4989"
             ],
             [
              0.3333333333333333,
              "#31688e"
             ],
             [
              0.4444444444444444,
              "#26828e"
             ],
             [
              0.5555555555555556,
              "#1f9e89"
             ],
             [
              0.6666666666666666,
              "#35b779"
             ],
             [
              0.7777777777777778,
              "#6ece58"
             ],
             [
              0.8888888888888888,
              "#b5de2b"
             ],
             [
              1,
              "#fde725"
             ]
            ],
            "type": "histogram2d"
           }
          ],
          "histogram2dcontour": [
           {
            "colorbar": {
             "outlinewidth": 1,
             "tickcolor": "rgb(36,36,36)",
             "ticks": "outside"
            },
            "colorscale": [
             [
              0,
              "#440154"
             ],
             [
              0.1111111111111111,
              "#482878"
             ],
             [
              0.2222222222222222,
              "#3e4989"
             ],
             [
              0.3333333333333333,
              "#31688e"
             ],
             [
              0.4444444444444444,
              "#26828e"
             ],
             [
              0.5555555555555556,
              "#1f9e89"
             ],
             [
              0.6666666666666666,
              "#35b779"
             ],
             [
              0.7777777777777778,
              "#6ece58"
             ],
             [
              0.8888888888888888,
              "#b5de2b"
             ],
             [
              1,
              "#fde725"
             ]
            ],
            "type": "histogram2dcontour"
           }
          ],
          "mesh3d": [
           {
            "colorbar": {
             "outlinewidth": 1,
             "tickcolor": "rgb(36,36,36)",
             "ticks": "outside"
            },
            "type": "mesh3d"
           }
          ],
          "parcoords": [
           {
            "line": {
             "colorbar": {
              "outlinewidth": 1,
              "tickcolor": "rgb(36,36,36)",
              "ticks": "outside"
             }
            },
            "type": "parcoords"
           }
          ],
          "pie": [
           {
            "automargin": true,
            "type": "pie"
           }
          ],
          "scatter": [
           {
            "fillpattern": {
             "fillmode": "overlay",
             "size": 10,
             "solidity": 0.2
            },
            "type": "scatter"
           }
          ],
          "scatter3d": [
           {
            "line": {
             "colorbar": {
              "outlinewidth": 1,
              "tickcolor": "rgb(36,36,36)",
              "ticks": "outside"
             }
            },
            "marker": {
             "colorbar": {
              "outlinewidth": 1,
              "tickcolor": "rgb(36,36,36)",
              "ticks": "outside"
             }
            },
            "type": "scatter3d"
           }
          ],
          "scattercarpet": [
           {
            "marker": {
             "colorbar": {
              "outlinewidth": 1,
              "tickcolor": "rgb(36,36,36)",
              "ticks": "outside"
             }
            },
            "type": "scattercarpet"
           }
          ],
          "scattergeo": [
           {
            "marker": {
             "colorbar": {
              "outlinewidth": 1,
              "tickcolor": "rgb(36,36,36)",
              "ticks": "outside"
             }
            },
            "type": "scattergeo"
           }
          ],
          "scattergl": [
           {
            "marker": {
             "colorbar": {
              "outlinewidth": 1,
              "tickcolor": "rgb(36,36,36)",
              "ticks": "outside"
             }
            },
            "type": "scattergl"
           }
          ],
          "scattermapbox": [
           {
            "marker": {
             "colorbar": {
              "outlinewidth": 1,
              "tickcolor": "rgb(36,36,36)",
              "ticks": "outside"
             }
            },
            "type": "scattermapbox"
           }
          ],
          "scatterpolar": [
           {
            "marker": {
             "colorbar": {
              "outlinewidth": 1,
              "tickcolor": "rgb(36,36,36)",
              "ticks": "outside"
             }
            },
            "type": "scatterpolar"
           }
          ],
          "scatterpolargl": [
           {
            "marker": {
             "colorbar": {
              "outlinewidth": 1,
              "tickcolor": "rgb(36,36,36)",
              "ticks": "outside"
             }
            },
            "type": "scatterpolargl"
           }
          ],
          "scatterternary": [
           {
            "marker": {
             "colorbar": {
              "outlinewidth": 1,
              "tickcolor": "rgb(36,36,36)",
              "ticks": "outside"
             }
            },
            "type": "scatterternary"
           }
          ],
          "surface": [
           {
            "colorbar": {
             "outlinewidth": 1,
             "tickcolor": "rgb(36,36,36)",
             "ticks": "outside"
            },
            "colorscale": [
             [
              0,
              "#440154"
             ],
             [
              0.1111111111111111,
              "#482878"
             ],
             [
              0.2222222222222222,
              "#3e4989"
             ],
             [
              0.3333333333333333,
              "#31688e"
             ],
             [
              0.4444444444444444,
              "#26828e"
             ],
             [
              0.5555555555555556,
              "#1f9e89"
             ],
             [
              0.6666666666666666,
              "#35b779"
             ],
             [
              0.7777777777777778,
              "#6ece58"
             ],
             [
              0.8888888888888888,
              "#b5de2b"
             ],
             [
              1,
              "#fde725"
             ]
            ],
            "type": "surface"
           }
          ],
          "table": [
           {
            "cells": {
             "fill": {
              "color": "rgb(237,237,237)"
             },
             "line": {
              "color": "white"
             }
            },
            "header": {
             "fill": {
              "color": "rgb(217,217,217)"
             },
             "line": {
              "color": "white"
             }
            },
            "type": "table"
           }
          ]
         },
         "layout": {
          "annotationdefaults": {
           "arrowhead": 0,
           "arrowwidth": 1
          },
          "autotypenumbers": "strict",
          "coloraxis": {
           "colorbar": {
            "outlinewidth": 1,
            "tickcolor": "rgb(36,36,36)",
            "ticks": "outside"
           }
          },
          "colorscale": {
           "diverging": [
            [
             0,
             "rgb(103,0,31)"
            ],
            [
             0.1,
             "rgb(178,24,43)"
            ],
            [
             0.2,
             "rgb(214,96,77)"
            ],
            [
             0.3,
             "rgb(244,165,130)"
            ],
            [
             0.4,
             "rgb(253,219,199)"
            ],
            [
             0.5,
             "rgb(247,247,247)"
            ],
            [
             0.6,
             "rgb(209,229,240)"
            ],
            [
             0.7,
             "rgb(146,197,222)"
            ],
            [
             0.8,
             "rgb(67,147,195)"
            ],
            [
             0.9,
             "rgb(33,102,172)"
            ],
            [
             1,
             "rgb(5,48,97)"
            ]
           ],
           "sequential": [
            [
             0,
             "#440154"
            ],
            [
             0.1111111111111111,
             "#482878"
            ],
            [
             0.2222222222222222,
             "#3e4989"
            ],
            [
             0.3333333333333333,
             "#31688e"
            ],
            [
             0.4444444444444444,
             "#26828e"
            ],
            [
             0.5555555555555556,
             "#1f9e89"
            ],
            [
             0.6666666666666666,
             "#35b779"
            ],
            [
             0.7777777777777778,
             "#6ece58"
            ],
            [
             0.8888888888888888,
             "#b5de2b"
            ],
            [
             1,
             "#fde725"
            ]
           ],
           "sequentialminus": [
            [
             0,
             "#440154"
            ],
            [
             0.1111111111111111,
             "#482878"
            ],
            [
             0.2222222222222222,
             "#3e4989"
            ],
            [
             0.3333333333333333,
             "#31688e"
            ],
            [
             0.4444444444444444,
             "#26828e"
            ],
            [
             0.5555555555555556,
             "#1f9e89"
            ],
            [
             0.6666666666666666,
             "#35b779"
            ],
            [
             0.7777777777777778,
             "#6ece58"
            ],
            [
             0.8888888888888888,
             "#b5de2b"
            ],
            [
             1,
             "#fde725"
            ]
           ]
          },
          "colorway": [
           "#1F77B4",
           "#FF7F0E",
           "#2CA02C",
           "#D62728",
           "#9467BD",
           "#8C564B",
           "#E377C2",
           "#7F7F7F",
           "#BCBD22",
           "#17BECF"
          ],
          "font": {
           "color": "rgb(36,36,36)"
          },
          "geo": {
           "bgcolor": "white",
           "lakecolor": "white",
           "landcolor": "white",
           "showlakes": true,
           "showland": true,
           "subunitcolor": "white"
          },
          "hoverlabel": {
           "align": "left"
          },
          "hovermode": "closest",
          "mapbox": {
           "style": "light"
          },
          "paper_bgcolor": "white",
          "plot_bgcolor": "white",
          "polar": {
           "angularaxis": {
            "gridcolor": "rgb(232,232,232)",
            "linecolor": "rgb(36,36,36)",
            "showgrid": false,
            "showline": true,
            "ticks": "outside"
           },
           "bgcolor": "white",
           "radialaxis": {
            "gridcolor": "rgb(232,232,232)",
            "linecolor": "rgb(36,36,36)",
            "showgrid": false,
            "showline": true,
            "ticks": "outside"
           }
          },
          "scene": {
           "xaxis": {
            "backgroundcolor": "white",
            "gridcolor": "rgb(232,232,232)",
            "gridwidth": 2,
            "linecolor": "rgb(36,36,36)",
            "showbackground": true,
            "showgrid": false,
            "showline": true,
            "ticks": "outside",
            "zeroline": false,
            "zerolinecolor": "rgb(36,36,36)"
           },
           "yaxis": {
            "backgroundcolor": "white",
            "gridcolor": "rgb(232,232,232)",
            "gridwidth": 2,
            "linecolor": "rgb(36,36,36)",
            "showbackground": true,
            "showgrid": false,
            "showline": true,
            "ticks": "outside",
            "zeroline": false,
            "zerolinecolor": "rgb(36,36,36)"
           },
           "zaxis": {
            "backgroundcolor": "white",
            "gridcolor": "rgb(232,232,232)",
            "gridwidth": 2,
            "linecolor": "rgb(36,36,36)",
            "showbackground": true,
            "showgrid": false,
            "showline": true,
            "ticks": "outside",
            "zeroline": false,
            "zerolinecolor": "rgb(36,36,36)"
           }
          },
          "shapedefaults": {
           "fillcolor": "black",
           "line": {
            "width": 0
           },
           "opacity": 0.3
          },
          "ternary": {
           "aaxis": {
            "gridcolor": "rgb(232,232,232)",
            "linecolor": "rgb(36,36,36)",
            "showgrid": false,
            "showline": true,
            "ticks": "outside"
           },
           "baxis": {
            "gridcolor": "rgb(232,232,232)",
            "linecolor": "rgb(36,36,36)",
            "showgrid": false,
            "showline": true,
            "ticks": "outside"
           },
           "bgcolor": "white",
           "caxis": {
            "gridcolor": "rgb(232,232,232)",
            "linecolor": "rgb(36,36,36)",
            "showgrid": false,
            "showline": true,
            "ticks": "outside"
           }
          },
          "title": {
           "x": 0.05
          },
          "xaxis": {
           "automargin": true,
           "gridcolor": "rgb(232,232,232)",
           "linecolor": "rgb(36,36,36)",
           "showgrid": false,
           "showline": true,
           "ticks": "outside",
           "title": {
            "standoff": 15
           },
           "zeroline": false,
           "zerolinecolor": "rgb(36,36,36)"
          },
          "yaxis": {
           "automargin": true,
           "gridcolor": "rgb(232,232,232)",
           "linecolor": "rgb(36,36,36)",
           "showgrid": false,
           "showline": true,
           "ticks": "outside",
           "title": {
            "standoff": 15
           },
           "zeroline": false,
           "zerolinecolor": "rgb(36,36,36)"
          }
         }
        },
        "title": {
         "font": {
          "color": "Black",
          "size": 22
         },
         "text": "Topics Over Time for 2021Q1",
         "x": 0.4,
         "xanchor": "center",
         "y": 0.95,
         "yanchor": "top"
        },
        "width": 1250,
        "xaxis": {
         "showgrid": true
        },
        "yaxis": {
         "showgrid": true,
         "title": {
          "text": "Frequency"
         }
        }
       }
      }
     },
     "metadata": {},
     "output_type": "display_data"
    },
    {
     "data": {
      "application/vnd.plotly.v1+json": {
       "config": {
        "plotlyServerURL": "https://plot.ly"
       },
       "data": [
        {
         "hoverinfo": "text",
         "hovertext": [
          "<b>Topic 0</b><br>Words: papua, otsus, infrastruktur, kawal, tara",
          "<b>Topic 0</b><br>Words: papua, otsus, infrastruktur, tara, efek",
          "<b>Topic 0</b><br>Words: papua, otsus, infrastruktur, daya, lalu",
          "<b>Topic 0</b><br>Words: papua, paragon, innovation, dokter, umum",
          "<b>Topic 0</b><br>Words: papua, otsus, fsmpm, mahasiswa, bawa",
          "<b>Topic 0</b><br>Words: tol, transportasi, papua, otsus, daerah",
          "<b>Topic 0</b><br>Words: indonesia, dunia, jembatan, sekjen, dekade"
         ],
         "marker": {
          "color": "#E69F00"
         },
         "mode": "lines",
         "name": "0_papua_otsus_infrastruktur_sehat",
         "type": "scatter",
         "x": [
          "2021-04-01T00:21:29.752999+00:00",
          "2021-04-04T01:54:02.566666+00:00",
          "2021-04-07T01:18:04.133333+00:00",
          "2021-04-21T22:18:11.966666+00:00",
          "2021-04-24T21:42:13.533333+00:00",
          "2021-05-15T17:30:24.500000+00:00",
          "2021-06-20T10:18:43.300000+00:00"
         ],
         "y": [
          2,
          3,
          6,
          2,
          2,
          1,
          1
         ]
        },
        {
         "hoverinfo": "text",
         "hovertext": [
          "<b>Topic 1</b><br>Words: program, ajar, kip, jalan, sekolah",
          "<b>Topic 1</b><br>Words: kurikulum, merdeka, kipk, cepat, reformasi",
          "<b>Topic 1</b><br>Words: gt, implementasi, menteri, timur, kalimantan",
          "<b>Topic 1</b><br>Words: riset, menteri, tak, ajar, budaya",
          "<b>Topic 1</b><br>Words: menteri, merdeka, budaya, kemendikbud, satu",
          "<b>Topic 1</b><br>Words: merdeka, negara, menteri, budaya, tuju",
          "<b>Topic 1</b><br>Words: menteri, indonesia, sekolah, guru, ubah",
          "<b>Topic 1</b><br>Words: buku, ajar, lptk, bahas, kelola",
          "<b>Topic 1</b><br>Words: sama, dulu, orang, ajar, ribut",
          "<b>Topic 1</b><br>Words: menteri, budaya, tangguh, minimal, dprd",
          "<b>Topic 1</b><br>Words: ajar, kalau, percuma, guru, merdeka",
          "<b>Topic 1</b><br>Words: sekolah, buat, zonasi, ajar, menteri",
          "<b>Topic 1</b><br>Words: marah, awal, negeri, ikip, intelektualisasi",
          "<b>Topic 1</b><br>Words: kerjasama, nasional, banking, stie, school",
          "<b>Topic 1</b><br>Words: selalu, ganti, muhammadiyah, menteri, budaya",
          "<b>Topic 1</b><br>Words: covid, hijau, kota, pihak, perintah",
          "<b>Topic 1</b><br>Words: pajak, jabat, merdeka, remaja, uny",
          "<b>Topic 1</b><br>Words: provinsi, kategori, perintah, masuk, warga",
          "<b>Topic 1</b><br>Words: enggak, buat, its, presiden, hidup"
         ],
         "marker": {
          "color": "#56B4E9"
         },
         "mode": "lines",
         "name": "1_menteri_ajar_merdeka_budaya",
         "type": "scatter",
         "x": [
          "2021-04-01T00:21:29.752999+00:00",
          "2021-04-04T01:54:02.566666+00:00",
          "2021-04-07T01:18:04.133333+00:00",
          "2021-04-10T00:42:05.700000+00:00",
          "2021-04-13T00:06:07.266666+00:00",
          "2021-04-15T23:30:08.833333+00:00",
          "2021-04-18T22:54:10.400000+00:00",
          "2021-04-21T22:18:11.966666+00:00",
          "2021-04-24T21:42:13.533333+00:00",
          "2021-04-27T21:06:15.100000+00:00",
          "2021-05-15T17:30:24.500000+00:00",
          "2021-05-18T16:54:26.066666+00:00",
          "2021-05-21T16:18:27.633333+00:00",
          "2021-05-24T15:42:29.200000+00:00",
          "2021-05-27T15:06:30.766666+00:00",
          "2021-06-17T10:54:41.733333+00:00",
          "2021-06-20T10:18:43.300000+00:00",
          "2021-06-23T09:42:44.866666+00:00",
          "2021-06-26T09:06:46.433333+00:00"
         ],
         "y": [
          10,
          6,
          15,
          15,
          15,
          16,
          18,
          18,
          9,
          6,
          8,
          14,
          3,
          7,
          7,
          6,
          15,
          4,
          10
         ]
        }
       ],
       "layout": {
        "height": 450,
        "hoverlabel": {
         "bgcolor": "white",
         "font": {
          "family": "Rockwell",
          "size": 16
         }
        },
        "legend": {
         "title": {
          "text": "<b>Global Topic Representation"
         }
        },
        "template": {
         "data": {
          "bar": [
           {
            "error_x": {
             "color": "rgb(36,36,36)"
            },
            "error_y": {
             "color": "rgb(36,36,36)"
            },
            "marker": {
             "line": {
              "color": "white",
              "width": 0.5
             },
             "pattern": {
              "fillmode": "overlay",
              "size": 10,
              "solidity": 0.2
             }
            },
            "type": "bar"
           }
          ],
          "barpolar": [
           {
            "marker": {
             "line": {
              "color": "white",
              "width": 0.5
             },
             "pattern": {
              "fillmode": "overlay",
              "size": 10,
              "solidity": 0.2
             }
            },
            "type": "barpolar"
           }
          ],
          "carpet": [
           {
            "aaxis": {
             "endlinecolor": "rgb(36,36,36)",
             "gridcolor": "white",
             "linecolor": "white",
             "minorgridcolor": "white",
             "startlinecolor": "rgb(36,36,36)"
            },
            "baxis": {
             "endlinecolor": "rgb(36,36,36)",
             "gridcolor": "white",
             "linecolor": "white",
             "minorgridcolor": "white",
             "startlinecolor": "rgb(36,36,36)"
            },
            "type": "carpet"
           }
          ],
          "choropleth": [
           {
            "colorbar": {
             "outlinewidth": 1,
             "tickcolor": "rgb(36,36,36)",
             "ticks": "outside"
            },
            "type": "choropleth"
           }
          ],
          "contour": [
           {
            "colorbar": {
             "outlinewidth": 1,
             "tickcolor": "rgb(36,36,36)",
             "ticks": "outside"
            },
            "colorscale": [
             [
              0,
              "#440154"
             ],
             [
              0.1111111111111111,
              "#482878"
             ],
             [
              0.2222222222222222,
              "#3e4989"
             ],
             [
              0.3333333333333333,
              "#31688e"
             ],
             [
              0.4444444444444444,
              "#26828e"
             ],
             [
              0.5555555555555556,
              "#1f9e89"
             ],
             [
              0.6666666666666666,
              "#35b779"
             ],
             [
              0.7777777777777778,
              "#6ece58"
             ],
             [
              0.8888888888888888,
              "#b5de2b"
             ],
             [
              1,
              "#fde725"
             ]
            ],
            "type": "contour"
           }
          ],
          "contourcarpet": [
           {
            "colorbar": {
             "outlinewidth": 1,
             "tickcolor": "rgb(36,36,36)",
             "ticks": "outside"
            },
            "type": "contourcarpet"
           }
          ],
          "heatmap": [
           {
            "colorbar": {
             "outlinewidth": 1,
             "tickcolor": "rgb(36,36,36)",
             "ticks": "outside"
            },
            "colorscale": [
             [
              0,
              "#440154"
             ],
             [
              0.1111111111111111,
              "#482878"
             ],
             [
              0.2222222222222222,
              "#3e4989"
             ],
             [
              0.3333333333333333,
              "#31688e"
             ],
             [
              0.4444444444444444,
              "#26828e"
             ],
             [
              0.5555555555555556,
              "#1f9e89"
             ],
             [
              0.6666666666666666,
              "#35b779"
             ],
             [
              0.7777777777777778,
              "#6ece58"
             ],
             [
              0.8888888888888888,
              "#b5de2b"
             ],
             [
              1,
              "#fde725"
             ]
            ],
            "type": "heatmap"
           }
          ],
          "heatmapgl": [
           {
            "colorbar": {
             "outlinewidth": 1,
             "tickcolor": "rgb(36,36,36)",
             "ticks": "outside"
            },
            "colorscale": [
             [
              0,
              "#440154"
             ],
             [
              0.1111111111111111,
              "#482878"
             ],
             [
              0.2222222222222222,
              "#3e4989"
             ],
             [
              0.3333333333333333,
              "#31688e"
             ],
             [
              0.4444444444444444,
              "#26828e"
             ],
             [
              0.5555555555555556,
              "#1f9e89"
             ],
             [
              0.6666666666666666,
              "#35b779"
             ],
             [
              0.7777777777777778,
              "#6ece58"
             ],
             [
              0.8888888888888888,
              "#b5de2b"
             ],
             [
              1,
              "#fde725"
             ]
            ],
            "type": "heatmapgl"
           }
          ],
          "histogram": [
           {
            "marker": {
             "line": {
              "color": "white",
              "width": 0.6
             }
            },
            "type": "histogram"
           }
          ],
          "histogram2d": [
           {
            "colorbar": {
             "outlinewidth": 1,
             "tickcolor": "rgb(36,36,36)",
             "ticks": "outside"
            },
            "colorscale": [
             [
              0,
              "#440154"
             ],
             [
              0.1111111111111111,
              "#482878"
             ],
             [
              0.2222222222222222,
              "#3e4989"
             ],
             [
              0.3333333333333333,
              "#31688e"
             ],
             [
              0.4444444444444444,
              "#26828e"
             ],
             [
              0.5555555555555556,
              "#1f9e89"
             ],
             [
              0.6666666666666666,
              "#35b779"
             ],
             [
              0.7777777777777778,
              "#6ece58"
             ],
             [
              0.8888888888888888,
              "#b5de2b"
             ],
             [
              1,
              "#fde725"
             ]
            ],
            "type": "histogram2d"
           }
          ],
          "histogram2dcontour": [
           {
            "colorbar": {
             "outlinewidth": 1,
             "tickcolor": "rgb(36,36,36)",
             "ticks": "outside"
            },
            "colorscale": [
             [
              0,
              "#440154"
             ],
             [
              0.1111111111111111,
              "#482878"
             ],
             [
              0.2222222222222222,
              "#3e4989"
             ],
             [
              0.3333333333333333,
              "#31688e"
             ],
             [
              0.4444444444444444,
              "#26828e"
             ],
             [
              0.5555555555555556,
              "#1f9e89"
             ],
             [
              0.6666666666666666,
              "#35b779"
             ],
             [
              0.7777777777777778,
              "#6ece58"
             ],
             [
              0.8888888888888888,
              "#b5de2b"
             ],
             [
              1,
              "#fde725"
             ]
            ],
            "type": "histogram2dcontour"
           }
          ],
          "mesh3d": [
           {
            "colorbar": {
             "outlinewidth": 1,
             "tickcolor": "rgb(36,36,36)",
             "ticks": "outside"
            },
            "type": "mesh3d"
           }
          ],
          "parcoords": [
           {
            "line": {
             "colorbar": {
              "outlinewidth": 1,
              "tickcolor": "rgb(36,36,36)",
              "ticks": "outside"
             }
            },
            "type": "parcoords"
           }
          ],
          "pie": [
           {
            "automargin": true,
            "type": "pie"
           }
          ],
          "scatter": [
           {
            "fillpattern": {
             "fillmode": "overlay",
             "size": 10,
             "solidity": 0.2
            },
            "type": "scatter"
           }
          ],
          "scatter3d": [
           {
            "line": {
             "colorbar": {
              "outlinewidth": 1,
              "tickcolor": "rgb(36,36,36)",
              "ticks": "outside"
             }
            },
            "marker": {
             "colorbar": {
              "outlinewidth": 1,
              "tickcolor": "rgb(36,36,36)",
              "ticks": "outside"
             }
            },
            "type": "scatter3d"
           }
          ],
          "scattercarpet": [
           {
            "marker": {
             "colorbar": {
              "outlinewidth": 1,
              "tickcolor": "rgb(36,36,36)",
              "ticks": "outside"
             }
            },
            "type": "scattercarpet"
           }
          ],
          "scattergeo": [
           {
            "marker": {
             "colorbar": {
              "outlinewidth": 1,
              "tickcolor": "rgb(36,36,36)",
              "ticks": "outside"
             }
            },
            "type": "scattergeo"
           }
          ],
          "scattergl": [
           {
            "marker": {
             "colorbar": {
              "outlinewidth": 1,
              "tickcolor": "rgb(36,36,36)",
              "ticks": "outside"
             }
            },
            "type": "scattergl"
           }
          ],
          "scattermapbox": [
           {
            "marker": {
             "colorbar": {
              "outlinewidth": 1,
              "tickcolor": "rgb(36,36,36)",
              "ticks": "outside"
             }
            },
            "type": "scattermapbox"
           }
          ],
          "scatterpolar": [
           {
            "marker": {
             "colorbar": {
              "outlinewidth": 1,
              "tickcolor": "rgb(36,36,36)",
              "ticks": "outside"
             }
            },
            "type": "scatterpolar"
           }
          ],
          "scatterpolargl": [
           {
            "marker": {
             "colorbar": {
              "outlinewidth": 1,
              "tickcolor": "rgb(36,36,36)",
              "ticks": "outside"
             }
            },
            "type": "scatterpolargl"
           }
          ],
          "scatterternary": [
           {
            "marker": {
             "colorbar": {
              "outlinewidth": 1,
              "tickcolor": "rgb(36,36,36)",
              "ticks": "outside"
             }
            },
            "type": "scatterternary"
           }
          ],
          "surface": [
           {
            "colorbar": {
             "outlinewidth": 1,
             "tickcolor": "rgb(36,36,36)",
             "ticks": "outside"
            },
            "colorscale": [
             [
              0,
              "#440154"
             ],
             [
              0.1111111111111111,
              "#482878"
             ],
             [
              0.2222222222222222,
              "#3e4989"
             ],
             [
              0.3333333333333333,
              "#31688e"
             ],
             [
              0.4444444444444444,
              "#26828e"
             ],
             [
              0.5555555555555556,
              "#1f9e89"
             ],
             [
              0.6666666666666666,
              "#35b779"
             ],
             [
              0.7777777777777778,
              "#6ece58"
             ],
             [
              0.8888888888888888,
              "#b5de2b"
             ],
             [
              1,
              "#fde725"
             ]
            ],
            "type": "surface"
           }
          ],
          "table": [
           {
            "cells": {
             "fill": {
              "color": "rgb(237,237,237)"
             },
             "line": {
              "color": "white"
             }
            },
            "header": {
             "fill": {
              "color": "rgb(217,217,217)"
             },
             "line": {
              "color": "white"
             }
            },
            "type": "table"
           }
          ]
         },
         "layout": {
          "annotationdefaults": {
           "arrowhead": 0,
           "arrowwidth": 1
          },
          "autotypenumbers": "strict",
          "coloraxis": {
           "colorbar": {
            "outlinewidth": 1,
            "tickcolor": "rgb(36,36,36)",
            "ticks": "outside"
           }
          },
          "colorscale": {
           "diverging": [
            [
             0,
             "rgb(103,0,31)"
            ],
            [
             0.1,
             "rgb(178,24,43)"
            ],
            [
             0.2,
             "rgb(214,96,77)"
            ],
            [
             0.3,
             "rgb(244,165,130)"
            ],
            [
             0.4,
             "rgb(253,219,199)"
            ],
            [
             0.5,
             "rgb(247,247,247)"
            ],
            [
             0.6,
             "rgb(209,229,240)"
            ],
            [
             0.7,
             "rgb(146,197,222)"
            ],
            [
             0.8,
             "rgb(67,147,195)"
            ],
            [
             0.9,
             "rgb(33,102,172)"
            ],
            [
             1,
             "rgb(5,48,97)"
            ]
           ],
           "sequential": [
            [
             0,
             "#440154"
            ],
            [
             0.1111111111111111,
             "#482878"
            ],
            [
             0.2222222222222222,
             "#3e4989"
            ],
            [
             0.3333333333333333,
             "#31688e"
            ],
            [
             0.4444444444444444,
             "#26828e"
            ],
            [
             0.5555555555555556,
             "#1f9e89"
            ],
            [
             0.6666666666666666,
             "#35b779"
            ],
            [
             0.7777777777777778,
             "#6ece58"
            ],
            [
             0.8888888888888888,
             "#b5de2b"
            ],
            [
             1,
             "#fde725"
            ]
           ],
           "sequentialminus": [
            [
             0,
             "#440154"
            ],
            [
             0.1111111111111111,
             "#482878"
            ],
            [
             0.2222222222222222,
             "#3e4989"
            ],
            [
             0.3333333333333333,
             "#31688e"
            ],
            [
             0.4444444444444444,
             "#26828e"
            ],
            [
             0.5555555555555556,
             "#1f9e89"
            ],
            [
             0.6666666666666666,
             "#35b779"
            ],
            [
             0.7777777777777778,
             "#6ece58"
            ],
            [
             0.8888888888888888,
             "#b5de2b"
            ],
            [
             1,
             "#fde725"
            ]
           ]
          },
          "colorway": [
           "#1F77B4",
           "#FF7F0E",
           "#2CA02C",
           "#D62728",
           "#9467BD",
           "#8C564B",
           "#E377C2",
           "#7F7F7F",
           "#BCBD22",
           "#17BECF"
          ],
          "font": {
           "color": "rgb(36,36,36)"
          },
          "geo": {
           "bgcolor": "white",
           "lakecolor": "white",
           "landcolor": "white",
           "showlakes": true,
           "showland": true,
           "subunitcolor": "white"
          },
          "hoverlabel": {
           "align": "left"
          },
          "hovermode": "closest",
          "mapbox": {
           "style": "light"
          },
          "paper_bgcolor": "white",
          "plot_bgcolor": "white",
          "polar": {
           "angularaxis": {
            "gridcolor": "rgb(232,232,232)",
            "linecolor": "rgb(36,36,36)",
            "showgrid": false,
            "showline": true,
            "ticks": "outside"
           },
           "bgcolor": "white",
           "radialaxis": {
            "gridcolor": "rgb(232,232,232)",
            "linecolor": "rgb(36,36,36)",
            "showgrid": false,
            "showline": true,
            "ticks": "outside"
           }
          },
          "scene": {
           "xaxis": {
            "backgroundcolor": "white",
            "gridcolor": "rgb(232,232,232)",
            "gridwidth": 2,
            "linecolor": "rgb(36,36,36)",
            "showbackground": true,
            "showgrid": false,
            "showline": true,
            "ticks": "outside",
            "zeroline": false,
            "zerolinecolor": "rgb(36,36,36)"
           },
           "yaxis": {
            "backgroundcolor": "white",
            "gridcolor": "rgb(232,232,232)",
            "gridwidth": 2,
            "linecolor": "rgb(36,36,36)",
            "showbackground": true,
            "showgrid": false,
            "showline": true,
            "ticks": "outside",
            "zeroline": false,
            "zerolinecolor": "rgb(36,36,36)"
           },
           "zaxis": {
            "backgroundcolor": "white",
            "gridcolor": "rgb(232,232,232)",
            "gridwidth": 2,
            "linecolor": "rgb(36,36,36)",
            "showbackground": true,
            "showgrid": false,
            "showline": true,
            "ticks": "outside",
            "zeroline": false,
            "zerolinecolor": "rgb(36,36,36)"
           }
          },
          "shapedefaults": {
           "fillcolor": "black",
           "line": {
            "width": 0
           },
           "opacity": 0.3
          },
          "ternary": {
           "aaxis": {
            "gridcolor": "rgb(232,232,232)",
            "linecolor": "rgb(36,36,36)",
            "showgrid": false,
            "showline": true,
            "ticks": "outside"
           },
           "baxis": {
            "gridcolor": "rgb(232,232,232)",
            "linecolor": "rgb(36,36,36)",
            "showgrid": false,
            "showline": true,
            "ticks": "outside"
           },
           "bgcolor": "white",
           "caxis": {
            "gridcolor": "rgb(232,232,232)",
            "linecolor": "rgb(36,36,36)",
            "showgrid": false,
            "showline": true,
            "ticks": "outside"
           }
          },
          "title": {
           "x": 0.05
          },
          "xaxis": {
           "automargin": true,
           "gridcolor": "rgb(232,232,232)",
           "linecolor": "rgb(36,36,36)",
           "showgrid": false,
           "showline": true,
           "ticks": "outside",
           "title": {
            "standoff": 15
           },
           "zeroline": false,
           "zerolinecolor": "rgb(36,36,36)"
          },
          "yaxis": {
           "automargin": true,
           "gridcolor": "rgb(232,232,232)",
           "linecolor": "rgb(36,36,36)",
           "showgrid": false,
           "showline": true,
           "ticks": "outside",
           "title": {
            "standoff": 15
           },
           "zeroline": false,
           "zerolinecolor": "rgb(36,36,36)"
          }
         }
        },
        "title": {
         "font": {
          "color": "Black",
          "size": 22
         },
         "text": "Topics Over Time for 2021Q2",
         "x": 0.4,
         "xanchor": "center",
         "y": 0.95,
         "yanchor": "top"
        },
        "width": 1250,
        "xaxis": {
         "showgrid": true
        },
        "yaxis": {
         "showgrid": true,
         "title": {
          "text": "Frequency"
         }
        }
       }
      }
     },
     "metadata": {},
     "output_type": "display_data"
    },
    {
     "data": {
      "application/vnd.plotly.v1+json": {
       "config": {
        "plotlyServerURL": "https://plot.ly"
       },
       "data": [
        {
         "hoverinfo": "text",
         "hovertext": [
          "<b>Topic 0</b><br>Words: rebak, jangan, soal, pandemi, salah",
          "<b>Topic 0</b><br>Words: ringan, pandemi, biaya, covid, merosot",
          "<b>Topic 0</b><br>Words: ketidakpastian, mulai, bidang, tahun, baru",
          "<b>Topic 0</b><br>Words: rumah, pandemi, malas, muncul, terkadang",
          "<b>Topic 0</b><br>Words: policy, parah, brief, rekomendasi, rilis",
          "<b>Topic 0</b><br>Words: pandemi, biaya, ui, parah, rilis",
          "<b>Topic 0</b><br>Words: pandemi, ui, biaya, ringan, mahasiswa",
          "<b>Topic 0</b><br>Words: universitas, pandemi, mahasiswa, sebab, stabil",
          "<b>Topic 0</b><br>Words: pandemi, ui, ringan, biaya, efisiensi",
          "<b>Topic 0</b><br>Words: edukasi, sehat, protokol, pandemi, adaptasi",
          "<b>Topic 0</b><br>Words: pandemi, kasihan, prihatin, berteletele, terlalu",
          "<b>Topic 0</b><br>Words: sejarah, konyol, kelak, pandemi, generasi",
          "<b>Topic 0</b><br>Words: pandemi, ubah, covid, ace, hasan",
          "<b>Topic 0</b><br>Words: bantu, pandemi, sasar, prestasi, dikbud",
          "<b>Topic 0</b><br>Words: risiko, apa, pandemi, loss, pjj"
         ],
         "marker": {
          "color": "#E69F00"
         },
         "mode": "lines",
         "name": "0_pandemi_biaya_ui_mahasiswa",
         "type": "scatter",
         "x": [
          "2021-07-03T04:40:02.766666+00:00",
          "2021-07-09T05:29:11.066666+00:00",
          "2021-07-11T05:45:33.833333+00:00",
          "2021-07-17T06:34:42.133333+00:00",
          "2021-07-23T07:23:50.433333+00:00",
          "2021-07-25T07:40:13.200000+00:00",
          "2021-07-27T07:56:35.966666+00:00",
          "2021-07-29T08:12:58.733333+00:00",
          "2021-08-02T08:45:44.266666+00:00",
          "2021-08-04T09:02:07.033333+00:00",
          "2021-08-08T09:34:52.566666+00:00",
          "2021-08-10T09:51:15.333333+00:00",
          "2021-08-22T11:29:31.933333+00:00",
          "2021-08-24T11:45:54.700000+00:00",
          "2021-08-28T12:18:40.233333+00:00"
         ],
         "y": [
          1,
          1,
          1,
          1,
          2,
          6,
          2,
          1,
          1,
          1,
          1,
          1,
          2,
          1,
          1
         ]
        },
        {
         "hoverinfo": "text",
         "hovertext": [
          "<b>Topic 1</b><br>Words: subsidi, gerindra, internet, bekas, kuota",
          "<b>Topic 1</b><br>Words: giat, snp, aceh, provinsi, dasar",
          "<b>Topic 1</b><br>Words: fgd, fraksi, bandar, pks, lampung",
          "<b>Topic 1</b><br>Words: suatu, wilayah, kualitas, surabaya, krusial",
          "<b>Topic 1</b><br>Words: kredit, kotan, dini, kota, cimahi",
          "<b>Topic 1</b><br>Words: rubah, desentralisasi, teliti, sarana, safe",
          "<b>Topic 1</b><br>Words: sangat, medis, pengaruh, lengkap, artikel",
          "<b>Topic 1</b><br>Words: daerah, amp, sama, mantap, kerjasama",
          "<b>Topic 1</b><br>Words: subulussalam, singkronisasi, efektif, koordinasi, kota",
          "<b>Topic 1</b><br>Words: subulussalam, singkronisasi, efektif, koordinasi, kota",
          "<b>Topic 1</b><br>Words: rakyat, adil, penting, korelasi, citacita",
          "<b>Topic 1</b><br>Words: mismatch, prasarana, tekan, sarana, selesai",
          "<b>Topic 1</b><br>Words: kualitas, tumbuh, indonesia, sarana, prasarana",
          "<b>Topic 1</b><br>Words: belanja, ekspansif, jabar, prioritas, anggar",
          "<b>Topic 1</b><br>Words: strategis, mutu, tingkat, aksi, satyakarta"
         ],
         "marker": {
          "color": "#56B4E9"
         },
         "mode": "lines",
         "name": "1_kualitas_kota_sarana_indonesia",
         "type": "scatter",
         "x": [
          "2021-07-01T02:56:46.516999+00:00",
          "2021-07-03T04:40:02.766666+00:00",
          "2021-07-09T05:29:11.066666+00:00",
          "2021-07-11T05:45:33.833333+00:00",
          "2021-07-13T06:01:56.600000+00:00",
          "2021-07-15T06:18:19.366666+00:00",
          "2021-07-23T07:23:50.433333+00:00",
          "2021-07-27T07:56:35.966666+00:00",
          "2021-08-08T09:34:52.566666+00:00",
          "2021-08-10T09:51:15.333333+00:00",
          "2021-08-12T10:07:38.100000+00:00",
          "2021-08-14T10:24:00.866666+00:00",
          "2021-08-16T10:40:23.633333+00:00",
          "2021-08-20T11:13:09.166666+00:00",
          "2021-08-24T11:45:54.700000+00:00"
         ],
         "y": [
          1,
          2,
          3,
          1,
          2,
          2,
          2,
          1,
          1,
          1,
          1,
          5,
          5,
          3,
          1
         ]
        },
        {
         "hoverinfo": "text",
         "hovertext": [
          "<b>Topic 2</b><br>Words: banyuwangi, pembejalaran, plt, pls, surat",
          "<b>Topic 2</b><br>Words: surat, sekolah, gimana, nomor, edaranya",
          "<b>Topic 2</b><br>Words: sekolah, satu, kepala, yayasan, sikap",
          "<b>Topic 2</b><br>Words: panjang, sekolah, sekolahkuliah, atlitatlit, novi",
          "<b>Topic 2</b><br>Words: sd, muka, tatap, sekolah, dasarsd",
          "<b>Topic 2</b><br>Words: sekolah, surat, ikhwal, larang, maret",
          "<b>Topic 2</b><br>Words: sekolah, baru, abu, dhabi, jelang",
          "<b>Topic 2</b><br>Words: siap, cecep, anakanaknya, pakar, sekolahkampus"
         ],
         "marker": {
          "color": "#009E73"
         },
         "mode": "lines",
         "name": "2_sekolah_kepala_surat_swasta",
         "type": "scatter",
         "x": [
          "2021-07-01T02:56:46.516999+00:00",
          "2021-07-03T04:40:02.766666+00:00",
          "2021-07-09T05:29:11.066666+00:00",
          "2021-07-13T06:01:56.600000+00:00",
          "2021-07-15T06:18:19.366666+00:00",
          "2021-07-23T07:23:50.433333+00:00",
          "2021-08-02T08:45:44.266666+00:00",
          "2021-08-12T10:07:38.100000+00:00"
         ],
         "y": [
          1,
          1,
          2,
          2,
          1,
          1,
          1,
          1
         ]
        },
        {
         "hoverinfo": "text",
         "hovertext": [
          "<b>Topic 3</b><br>Words: tinggi, akibat, akses, minim, ptn",
          "<b>Topic 3</b><br>Words: salam, hidup, mahasiswa, hayulahh, hati",
          "<b>Topic 3</b><br>Words: malaysia, indonesia, litang, promelayu, kemenag",
          "<b>Topic 3</b><br>Words: itb, indonesia, sbm, merdeka, teknologi",
          "<b>Topic 3</b><br>Words: inklusif, kskk, madrasah, direktorat, hasil",
          "<b>Topic 3</b><br>Words: pendidikankebijakan, rep, ptn, tanya, uny",
          "<b>Topic 3</b><br>Words: itb, sbm, indonesia, great, gubri",
          "<b>Topic 3</b><br>Words: ari, rangkap, malu, kuncoro, bumn",
          "<b>Topic 3</b><br>Words: merdeka, jastis, ums, surakarta, nampaknya",
          "<b>Topic 3</b><br>Words: kait, level, ppkm, indonesia, langgar",
          "<b>Topic 3</b><br>Words: baca, pihak, indonesia, amat, sinopsis",
          "<b>Topic 3</b><br>Words: pikir, kapan, telor, air, nyatu",
          "<b>Topic 3</b><br>Words: rukmini, yogyakarta, coauthored, entitled, elisabeth",
          "<b>Topic 3</b><br>Words: barat, dprd, jawa, anggar, apresiasi",
          "<b>Topic 3</b><br>Words: merdeka, vokasi, indonesia, kenal, sistem",
          "<b>Topic 3</b><br>Words: mas, an, tuju, ghozaly, madani",
          "<b>Topic 3</b><br>Words: kuliah, padang, formulasi, bahas, negeri",
          "<b>Topic 3</b><br>Words: doktor, banda, aceh, raniry, andhika"
         ],
         "marker": {
          "color": "#F0E442"
         },
         "mode": "lines",
         "name": "3_merdeka_indonesia_vokasi_ajar",
         "type": "scatter",
         "x": [
          "2021-07-01T02:56:46.516999+00:00",
          "2021-07-03T04:40:02.766666+00:00",
          "2021-07-05T04:56:25.533333+00:00",
          "2021-07-13T06:01:56.600000+00:00",
          "2021-07-15T06:18:19.366666+00:00",
          "2021-07-17T06:34:42.133333+00:00",
          "2021-07-19T06:51:04.900000+00:00",
          "2021-07-21T07:07:27.666666+00:00",
          "2021-07-25T07:40:13.200000+00:00",
          "2021-08-02T08:45:44.266666+00:00",
          "2021-08-04T09:02:07.033333+00:00",
          "2021-08-06T09:18:29.800000+00:00",
          "2021-08-16T10:40:23.633333+00:00",
          "2021-08-18T10:56:46.400000+00:00",
          "2021-08-20T11:13:09.166666+00:00",
          "2021-08-22T11:29:31.933333+00:00",
          "2021-08-26T12:02:17.466666+00:00",
          "2021-08-28T12:18:40.233333+00:00"
         ],
         "y": [
          1,
          1,
          2,
          3,
          4,
          1,
          2,
          1,
          1,
          2,
          2,
          1,
          1,
          1,
          21,
          1,
          1,
          1
         ]
        },
        {
         "hoverinfo": "text",
         "hovertext": [
          "<b>Topic 4</b><br>Words: sama, enggak, skor, aku, merdeka",
          "<b>Topic 4</b><br>Words: nya, pak, warga, enggak, nih",
          "<b>Topic 4</b><br>Words: kerja, dong, evaluasi, benar, sulit",
          "<b>Topic 4</b><br>Words: zamane, uu, enggak, intervensi, integritas",
          "<b>Topic 4</b><br>Words: skip, hari, seakanakan, terang, merah",
          "<b>Topic 4</b><br>Words: lewat, merdeka, film, media, dikti",
          "<b>Topic 4</b><br>Words: semester, akhir, diponegoro, himawarriors, konnichiwa",
          "<b>Topic 4</b><br>Words: makarim, semester, akhir, nadiem, mahasiswa",
          "<b>Topic 4</b><br>Words: income, jadi, menteri, dorong, satu",
          "<b>Topic 4</b><br>Words: diskusi, teliti, jadi, masing, pumpun",
          "<b>Topic 4</b><br>Words: produksi, analisa, laptop, digitalisasi, zyrex",
          "<b>Topic 4</b><br>Words: makan, waktu, webinar, batas, teliti",
          "<b>Topic 4</b><br>Words: dosen, bagai, terus, mahasiswa, menteri",
          "<b>Topic 4</b><br>Words: kalian, sisi, buat, biqolbi, raja",
          "<b>Topic 4</b><br>Words: enggak, panjang, jam, kelas, vokasi",
          "<b>Topic 4</b><br>Words: baik, resin, jenjang, donatur, skripsi",
          "<b>Topic 4</b><br>Words: latih, barangjasa, pusat, lembaga, perintah",
          "<b>Topic 4</b><br>Words: merdeka, jokowi, isi, rapat, kampus",
          "<b>Topic 4</b><br>Words: aku, core, bpktentang, skrh, kebijakankebijakan",
          "<b>Topic 4</b><br>Words: bansos, lebih, perintah, merdeka, ajar",
          "<b>Topic 4</b><br>Words: atur, cemooh, ukt, kemendikbud, publik",
          "<b>Topic 4</b><br>Words: gue, orang, enggak, jalan, selesai",
          "<b>Topic 4</b><br>Words: negara, tengah, apa, ngatur, himpun",
          "<b>Topic 4</b><br>Words: vokasi, tinggi, merdeka, siap, mahasiswa",
          "<b>Topic 4</b><br>Words: eks, napi, mahasiswamahasiswi, titik, sintas",
          "<b>Topic 4</b><br>Words: umkm, genjot, pemkot, malang, tumbuh",
          "<b>Topic 4</b><br>Words: terima, ukt, khusus, halo, baru",
          "<b>Topic 4</b><br>Words: disink, formulasi, rep, matkul, mbkm"
         ],
         "marker": {
          "color": "#D55E00"
         },
         "mode": "lines",
         "name": "4_vokasi_tinggi_merdeka_mahasiswa",
         "type": "scatter",
         "x": [
          "2021-07-01T02:56:46.516999+00:00",
          "2021-07-03T04:40:02.766666+00:00",
          "2021-07-09T05:29:11.066666+00:00",
          "2021-07-11T05:45:33.833333+00:00",
          "2021-07-13T06:01:56.600000+00:00",
          "2021-07-15T06:18:19.366666+00:00",
          "2021-07-17T06:34:42.133333+00:00",
          "2021-07-19T06:51:04.900000+00:00",
          "2021-07-21T07:07:27.666666+00:00",
          "2021-07-23T07:23:50.433333+00:00",
          "2021-07-25T07:40:13.200000+00:00",
          "2021-07-27T07:56:35.966666+00:00",
          "2021-07-29T08:12:58.733333+00:00",
          "2021-07-31T08:29:21.500000+00:00",
          "2021-08-02T08:45:44.266666+00:00",
          "2021-08-04T09:02:07.033333+00:00",
          "2021-08-06T09:18:29.800000+00:00",
          "2021-08-08T09:34:52.566666+00:00",
          "2021-08-10T09:51:15.333333+00:00",
          "2021-08-12T10:07:38.100000+00:00",
          "2021-08-14T10:24:00.866666+00:00",
          "2021-08-16T10:40:23.633333+00:00",
          "2021-08-18T10:56:46.400000+00:00",
          "2021-08-20T11:13:09.166666+00:00",
          "2021-08-22T11:29:31.933333+00:00",
          "2021-08-24T11:45:54.700000+00:00",
          "2021-08-26T12:02:17.466666+00:00",
          "2021-08-28T12:18:40.233333+00:00"
         ],
         "y": [
          4,
          4,
          1,
          2,
          1,
          3,
          1,
          5,
          5,
          2,
          2,
          4,
          4,
          1,
          5,
          4,
          1,
          3,
          2,
          2,
          2,
          3,
          3,
          31,
          2,
          2,
          4,
          1
         ]
        }
       ],
       "layout": {
        "height": 450,
        "hoverlabel": {
         "bgcolor": "white",
         "font": {
          "family": "Rockwell",
          "size": 16
         }
        },
        "legend": {
         "title": {
          "text": "<b>Global Topic Representation"
         }
        },
        "template": {
         "data": {
          "bar": [
           {
            "error_x": {
             "color": "rgb(36,36,36)"
            },
            "error_y": {
             "color": "rgb(36,36,36)"
            },
            "marker": {
             "line": {
              "color": "white",
              "width": 0.5
             },
             "pattern": {
              "fillmode": "overlay",
              "size": 10,
              "solidity": 0.2
             }
            },
            "type": "bar"
           }
          ],
          "barpolar": [
           {
            "marker": {
             "line": {
              "color": "white",
              "width": 0.5
             },
             "pattern": {
              "fillmode": "overlay",
              "size": 10,
              "solidity": 0.2
             }
            },
            "type": "barpolar"
           }
          ],
          "carpet": [
           {
            "aaxis": {
             "endlinecolor": "rgb(36,36,36)",
             "gridcolor": "white",
             "linecolor": "white",
             "minorgridcolor": "white",
             "startlinecolor": "rgb(36,36,36)"
            },
            "baxis": {
             "endlinecolor": "rgb(36,36,36)",
             "gridcolor": "white",
             "linecolor": "white",
             "minorgridcolor": "white",
             "startlinecolor": "rgb(36,36,36)"
            },
            "type": "carpet"
           }
          ],
          "choropleth": [
           {
            "colorbar": {
             "outlinewidth": 1,
             "tickcolor": "rgb(36,36,36)",
             "ticks": "outside"
            },
            "type": "choropleth"
           }
          ],
          "contour": [
           {
            "colorbar": {
             "outlinewidth": 1,
             "tickcolor": "rgb(36,36,36)",
             "ticks": "outside"
            },
            "colorscale": [
             [
              0,
              "#440154"
             ],
             [
              0.1111111111111111,
              "#482878"
             ],
             [
              0.2222222222222222,
              "#3e4989"
             ],
             [
              0.3333333333333333,
              "#31688e"
             ],
             [
              0.4444444444444444,
              "#26828e"
             ],
             [
              0.5555555555555556,
              "#1f9e89"
             ],
             [
              0.6666666666666666,
              "#35b779"
             ],
             [
              0.7777777777777778,
              "#6ece58"
             ],
             [
              0.8888888888888888,
              "#b5de2b"
             ],
             [
              1,
              "#fde725"
             ]
            ],
            "type": "contour"
           }
          ],
          "contourcarpet": [
           {
            "colorbar": {
             "outlinewidth": 1,
             "tickcolor": "rgb(36,36,36)",
             "ticks": "outside"
            },
            "type": "contourcarpet"
           }
          ],
          "heatmap": [
           {
            "colorbar": {
             "outlinewidth": 1,
             "tickcolor": "rgb(36,36,36)",
             "ticks": "outside"
            },
            "colorscale": [
             [
              0,
              "#440154"
             ],
             [
              0.1111111111111111,
              "#482878"
             ],
             [
              0.2222222222222222,
              "#3e4989"
             ],
             [
              0.3333333333333333,
              "#31688e"
             ],
             [
              0.4444444444444444,
              "#26828e"
             ],
             [
              0.5555555555555556,
              "#1f9e89"
             ],
             [
              0.6666666666666666,
              "#35b779"
             ],
             [
              0.7777777777777778,
              "#6ece58"
             ],
             [
              0.8888888888888888,
              "#b5de2b"
             ],
             [
              1,
              "#fde725"
             ]
            ],
            "type": "heatmap"
           }
          ],
          "heatmapgl": [
           {
            "colorbar": {
             "outlinewidth": 1,
             "tickcolor": "rgb(36,36,36)",
             "ticks": "outside"
            },
            "colorscale": [
             [
              0,
              "#440154"
             ],
             [
              0.1111111111111111,
              "#482878"
             ],
             [
              0.2222222222222222,
              "#3e4989"
             ],
             [
              0.3333333333333333,
              "#31688e"
             ],
             [
              0.4444444444444444,
              "#26828e"
             ],
             [
              0.5555555555555556,
              "#1f9e89"
             ],
             [
              0.6666666666666666,
              "#35b779"
             ],
             [
              0.7777777777777778,
              "#6ece58"
             ],
             [
              0.8888888888888888,
              "#b5de2b"
             ],
             [
              1,
              "#fde725"
             ]
            ],
            "type": "heatmapgl"
           }
          ],
          "histogram": [
           {
            "marker": {
             "line": {
              "color": "white",
              "width": 0.6
             }
            },
            "type": "histogram"
           }
          ],
          "histogram2d": [
           {
            "colorbar": {
             "outlinewidth": 1,
             "tickcolor": "rgb(36,36,36)",
             "ticks": "outside"
            },
            "colorscale": [
             [
              0,
              "#440154"
             ],
             [
              0.1111111111111111,
              "#482878"
             ],
             [
              0.2222222222222222,
              "#3e4989"
             ],
             [
              0.3333333333333333,
              "#31688e"
             ],
             [
              0.4444444444444444,
              "#26828e"
             ],
             [
              0.5555555555555556,
              "#1f9e89"
             ],
             [
              0.6666666666666666,
              "#35b779"
             ],
             [
              0.7777777777777778,
              "#6ece58"
             ],
             [
              0.8888888888888888,
              "#b5de2b"
             ],
             [
              1,
              "#fde725"
             ]
            ],
            "type": "histogram2d"
           }
          ],
          "histogram2dcontour": [
           {
            "colorbar": {
             "outlinewidth": 1,
             "tickcolor": "rgb(36,36,36)",
             "ticks": "outside"
            },
            "colorscale": [
             [
              0,
              "#440154"
             ],
             [
              0.1111111111111111,
              "#482878"
             ],
             [
              0.2222222222222222,
              "#3e4989"
             ],
             [
              0.3333333333333333,
              "#31688e"
             ],
             [
              0.4444444444444444,
              "#26828e"
             ],
             [
              0.5555555555555556,
              "#1f9e89"
             ],
             [
              0.6666666666666666,
              "#35b779"
             ],
             [
              0.7777777777777778,
              "#6ece58"
             ],
             [
              0.8888888888888888,
              "#b5de2b"
             ],
             [
              1,
              "#fde725"
             ]
            ],
            "type": "histogram2dcontour"
           }
          ],
          "mesh3d": [
           {
            "colorbar": {
             "outlinewidth": 1,
             "tickcolor": "rgb(36,36,36)",
             "ticks": "outside"
            },
            "type": "mesh3d"
           }
          ],
          "parcoords": [
           {
            "line": {
             "colorbar": {
              "outlinewidth": 1,
              "tickcolor": "rgb(36,36,36)",
              "ticks": "outside"
             }
            },
            "type": "parcoords"
           }
          ],
          "pie": [
           {
            "automargin": true,
            "type": "pie"
           }
          ],
          "scatter": [
           {
            "fillpattern": {
             "fillmode": "overlay",
             "size": 10,
             "solidity": 0.2
            },
            "type": "scatter"
           }
          ],
          "scatter3d": [
           {
            "line": {
             "colorbar": {
              "outlinewidth": 1,
              "tickcolor": "rgb(36,36,36)",
              "ticks": "outside"
             }
            },
            "marker": {
             "colorbar": {
              "outlinewidth": 1,
              "tickcolor": "rgb(36,36,36)",
              "ticks": "outside"
             }
            },
            "type": "scatter3d"
           }
          ],
          "scattercarpet": [
           {
            "marker": {
             "colorbar": {
              "outlinewidth": 1,
              "tickcolor": "rgb(36,36,36)",
              "ticks": "outside"
             }
            },
            "type": "scattercarpet"
           }
          ],
          "scattergeo": [
           {
            "marker": {
             "colorbar": {
              "outlinewidth": 1,
              "tickcolor": "rgb(36,36,36)",
              "ticks": "outside"
             }
            },
            "type": "scattergeo"
           }
          ],
          "scattergl": [
           {
            "marker": {
             "colorbar": {
              "outlinewidth": 1,
              "tickcolor": "rgb(36,36,36)",
              "ticks": "outside"
             }
            },
            "type": "scattergl"
           }
          ],
          "scattermapbox": [
           {
            "marker": {
             "colorbar": {
              "outlinewidth": 1,
              "tickcolor": "rgb(36,36,36)",
              "ticks": "outside"
             }
            },
            "type": "scattermapbox"
           }
          ],
          "scatterpolar": [
           {
            "marker": {
             "colorbar": {
              "outlinewidth": 1,
              "tickcolor": "rgb(36,36,36)",
              "ticks": "outside"
             }
            },
            "type": "scatterpolar"
           }
          ],
          "scatterpolargl": [
           {
            "marker": {
             "colorbar": {
              "outlinewidth": 1,
              "tickcolor": "rgb(36,36,36)",
              "ticks": "outside"
             }
            },
            "type": "scatterpolargl"
           }
          ],
          "scatterternary": [
           {
            "marker": {
             "colorbar": {
              "outlinewidth": 1,
              "tickcolor": "rgb(36,36,36)",
              "ticks": "outside"
             }
            },
            "type": "scatterternary"
           }
          ],
          "surface": [
           {
            "colorbar": {
             "outlinewidth": 1,
             "tickcolor": "rgb(36,36,36)",
             "ticks": "outside"
            },
            "colorscale": [
             [
              0,
              "#440154"
             ],
             [
              0.1111111111111111,
              "#482878"
             ],
             [
              0.2222222222222222,
              "#3e4989"
             ],
             [
              0.3333333333333333,
              "#31688e"
             ],
             [
              0.4444444444444444,
              "#26828e"
             ],
             [
              0.5555555555555556,
              "#1f9e89"
             ],
             [
              0.6666666666666666,
              "#35b779"
             ],
             [
              0.7777777777777778,
              "#6ece58"
             ],
             [
              0.8888888888888888,
              "#b5de2b"
             ],
             [
              1,
              "#fde725"
             ]
            ],
            "type": "surface"
           }
          ],
          "table": [
           {
            "cells": {
             "fill": {
              "color": "rgb(237,237,237)"
             },
             "line": {
              "color": "white"
             }
            },
            "header": {
             "fill": {
              "color": "rgb(217,217,217)"
             },
             "line": {
              "color": "white"
             }
            },
            "type": "table"
           }
          ]
         },
         "layout": {
          "annotationdefaults": {
           "arrowhead": 0,
           "arrowwidth": 1
          },
          "autotypenumbers": "strict",
          "coloraxis": {
           "colorbar": {
            "outlinewidth": 1,
            "tickcolor": "rgb(36,36,36)",
            "ticks": "outside"
           }
          },
          "colorscale": {
           "diverging": [
            [
             0,
             "rgb(103,0,31)"
            ],
            [
             0.1,
             "rgb(178,24,43)"
            ],
            [
             0.2,
             "rgb(214,96,77)"
            ],
            [
             0.3,
             "rgb(244,165,130)"
            ],
            [
             0.4,
             "rgb(253,219,199)"
            ],
            [
             0.5,
             "rgb(247,247,247)"
            ],
            [
             0.6,
             "rgb(209,229,240)"
            ],
            [
             0.7,
             "rgb(146,197,222)"
            ],
            [
             0.8,
             "rgb(67,147,195)"
            ],
            [
             0.9,
             "rgb(33,102,172)"
            ],
            [
             1,
             "rgb(5,48,97)"
            ]
           ],
           "sequential": [
            [
             0,
             "#440154"
            ],
            [
             0.1111111111111111,
             "#482878"
            ],
            [
             0.2222222222222222,
             "#3e4989"
            ],
            [
             0.3333333333333333,
             "#31688e"
            ],
            [
             0.4444444444444444,
             "#26828e"
            ],
            [
             0.5555555555555556,
             "#1f9e89"
            ],
            [
             0.6666666666666666,
             "#35b779"
            ],
            [
             0.7777777777777778,
             "#6ece58"
            ],
            [
             0.8888888888888888,
             "#b5de2b"
            ],
            [
             1,
             "#fde725"
            ]
           ],
           "sequentialminus": [
            [
             0,
             "#440154"
            ],
            [
             0.1111111111111111,
             "#482878"
            ],
            [
             0.2222222222222222,
             "#3e4989"
            ],
            [
             0.3333333333333333,
             "#31688e"
            ],
            [
             0.4444444444444444,
             "#26828e"
            ],
            [
             0.5555555555555556,
             "#1f9e89"
            ],
            [
             0.6666666666666666,
             "#35b779"
            ],
            [
             0.7777777777777778,
             "#6ece58"
            ],
            [
             0.8888888888888888,
             "#b5de2b"
            ],
            [
             1,
             "#fde725"
            ]
           ]
          },
          "colorway": [
           "#1F77B4",
           "#FF7F0E",
           "#2CA02C",
           "#D62728",
           "#9467BD",
           "#8C564B",
           "#E377C2",
           "#7F7F7F",
           "#BCBD22",
           "#17BECF"
          ],
          "font": {
           "color": "rgb(36,36,36)"
          },
          "geo": {
           "bgcolor": "white",
           "lakecolor": "white",
           "landcolor": "white",
           "showlakes": true,
           "showland": true,
           "subunitcolor": "white"
          },
          "hoverlabel": {
           "align": "left"
          },
          "hovermode": "closest",
          "mapbox": {
           "style": "light"
          },
          "paper_bgcolor": "white",
          "plot_bgcolor": "white",
          "polar": {
           "angularaxis": {
            "gridcolor": "rgb(232,232,232)",
            "linecolor": "rgb(36,36,36)",
            "showgrid": false,
            "showline": true,
            "ticks": "outside"
           },
           "bgcolor": "white",
           "radialaxis": {
            "gridcolor": "rgb(232,232,232)",
            "linecolor": "rgb(36,36,36)",
            "showgrid": false,
            "showline": true,
            "ticks": "outside"
           }
          },
          "scene": {
           "xaxis": {
            "backgroundcolor": "white",
            "gridcolor": "rgb(232,232,232)",
            "gridwidth": 2,
            "linecolor": "rgb(36,36,36)",
            "showbackground": true,
            "showgrid": false,
            "showline": true,
            "ticks": "outside",
            "zeroline": false,
            "zerolinecolor": "rgb(36,36,36)"
           },
           "yaxis": {
            "backgroundcolor": "white",
            "gridcolor": "rgb(232,232,232)",
            "gridwidth": 2,
            "linecolor": "rgb(36,36,36)",
            "showbackground": true,
            "showgrid": false,
            "showline": true,
            "ticks": "outside",
            "zeroline": false,
            "zerolinecolor": "rgb(36,36,36)"
           },
           "zaxis": {
            "backgroundcolor": "white",
            "gridcolor": "rgb(232,232,232)",
            "gridwidth": 2,
            "linecolor": "rgb(36,36,36)",
            "showbackground": true,
            "showgrid": false,
            "showline": true,
            "ticks": "outside",
            "zeroline": false,
            "zerolinecolor": "rgb(36,36,36)"
           }
          },
          "shapedefaults": {
           "fillcolor": "black",
           "line": {
            "width": 0
           },
           "opacity": 0.3
          },
          "ternary": {
           "aaxis": {
            "gridcolor": "rgb(232,232,232)",
            "linecolor": "rgb(36,36,36)",
            "showgrid": false,
            "showline": true,
            "ticks": "outside"
           },
           "baxis": {
            "gridcolor": "rgb(232,232,232)",
            "linecolor": "rgb(36,36,36)",
            "showgrid": false,
            "showline": true,
            "ticks": "outside"
           },
           "bgcolor": "white",
           "caxis": {
            "gridcolor": "rgb(232,232,232)",
            "linecolor": "rgb(36,36,36)",
            "showgrid": false,
            "showline": true,
            "ticks": "outside"
           }
          },
          "title": {
           "x": 0.05
          },
          "xaxis": {
           "automargin": true,
           "gridcolor": "rgb(232,232,232)",
           "linecolor": "rgb(36,36,36)",
           "showgrid": false,
           "showline": true,
           "ticks": "outside",
           "title": {
            "standoff": 15
           },
           "zeroline": false,
           "zerolinecolor": "rgb(36,36,36)"
          },
          "yaxis": {
           "automargin": true,
           "gridcolor": "rgb(232,232,232)",
           "linecolor": "rgb(36,36,36)",
           "showgrid": false,
           "showline": true,
           "ticks": "outside",
           "title": {
            "standoff": 15
           },
           "zeroline": false,
           "zerolinecolor": "rgb(36,36,36)"
          }
         }
        },
        "title": {
         "font": {
          "color": "Black",
          "size": 22
         },
         "text": "Topics Over Time for 2021Q3",
         "x": 0.4,
         "xanchor": "center",
         "y": 0.95,
         "yanchor": "top"
        },
        "width": 1250,
        "xaxis": {
         "showgrid": true
        },
        "yaxis": {
         "showgrid": true,
         "title": {
          "text": "Frequency"
         }
        }
       }
      }
     },
     "metadata": {},
     "output_type": "display_data"
    },
    {
     "data": {
      "application/vnd.plotly.v1+json": {
       "config": {
        "plotlyServerURL": "https://plot.ly"
       },
       "data": [
        {
         "hoverinfo": "text",
         "hovertext": [
          "<b>Topic 0</b><br>Words: tara, disabilitas, dorong, risma, laku"
         ],
         "marker": {
          "color": "#E69F00"
         },
         "mode": "lines",
         "name": "0_tara_disabilitas_dorong_risma",
         "type": "scatter",
         "x": [
          "2021-12-04T18:32:33.833333+00:00"
         ],
         "y": [
          21
         ]
        },
        {
         "hoverinfo": "text",
         "hovertext": [
          "<b>Topic 1</b><br>Words: narkoba, kota, konsolidasi, ancam, tanggap",
          "<b>Topic 1</b><br>Words: kota, laksana, narkoba, konsolidasi, ancam",
          "<b>Topic 1</b><br>Words: kota, narkoba, konsolidasi, ancam, tanggap",
          "<b>Topic 1</b><br>Words: narkoba, konsolidasi, kota, ancam, tanggap",
          "<b>Topic 1</b><br>Words: batang, hari, narkoba, konsolidasi, ancam",
          "<b>Topic 1</b><br>Words: narkoba, konsolidasi, ancam, kota, tanggap",
          "<b>Topic 1</b><br>Words: kota, narkoba, konsolidasi, jaya, pidie",
          "<b>Topic 1</b><br>Words: sintang, kota, narkoba, konsolidasi, ancam",
          "<b>Topic 1</b><br>Words: kota, dprd, narkoba, konsolidasi, ancam"
         ],
         "marker": {
          "color": "#56B4E9"
         },
         "mode": "lines",
         "name": "1_kota_narkoba_konsolidasi_tanggap",
         "type": "scatter",
         "x": [
          "2021-10-25T20:06:25.666666+00:00",
          "2021-10-28T04:29:08.500000+00:00",
          "2021-11-11T06:45:25.500000+00:00",
          "2021-11-13T15:08:08.333333+00:00",
          "2021-11-15T23:30:51.166666+00:00",
          "2021-11-18T07:53:34+00:00",
          "2021-11-23T00:38:59.666666+00:00",
          "2021-11-25T09:01:42.500000+00:00",
          "2021-12-02T10:09:51+00:00"
         ],
         "y": [
          3,
          1,
          1,
          1,
          1,
          1,
          1,
          1,
          3
         ]
        },
        {
         "hoverinfo": "text",
         "hovertext": [
          "<b>Topic 2</b><br>Words: jokowi, adaptasi, presidensi, ketua, lindung",
          "<b>Topic 2</b><br>Words: cepat, indonesia, produktivitas, milu, kursi",
          "<b>Topic 2</b><br>Words: ketua, sektor, amp, indonesia, qampa",
          "<b>Topic 2</b><br>Words: indonesia, kembang, sangat, jokowi, korporasi",
          "<b>Topic 2</b><br>Words: luhur, idealisme, konsisten, makmur, indonesia",
          "<b>Topic 2</b><br>Words: golkar, ketua, indonesia, dpd, potensial",
          "<b>Topic 2</b><br>Words: jamin, rekrut, fraksi, gurudosentenaga, status",
          "<b>Topic 2</b><br>Words: ganti, masalah, indonesia, enggak, selesai"
         ],
         "marker": {
          "color": "#009E73"
         },
         "mode": "lines",
         "name": "2_jokowi_indonesia_ketua_sektor",
         "type": "scatter",
         "x": [
          "2021-11-01T21:14:34.166666+00:00",
          "2021-11-13T15:08:08.333333+00:00",
          "2021-11-18T07:53:34+00:00",
          "2021-11-23T00:38:59.666666+00:00",
          "2021-11-30T01:47:08.166666+00:00",
          "2021-12-14T04:03:25.166666+00:00",
          "2021-12-16T12:26:08+00:00",
          "2021-12-21T05:11:33.666666+00:00"
         ],
         "y": [
          14,
          1,
          1,
          2,
          1,
          2,
          1,
          1
         ]
        },
        {
         "hoverinfo": "text",
         "hovertext": [
          "<b>Topic 3</b><br>Words: masa, ajar, kolonial, cilacap, habis",
          "<b>Topic 3</b><br>Words: perintah, manusia, institusi, kata, satu",
          "<b>Topic 3</b><br>Words: singapura, guru, tingkat, menteri, kapasitas",
          "<b>Topic 3</b><br>Words: kamu, sedang, magang, indonesia, jenjang",
          "<b>Topic 3</b><br>Words: kamu, ulas, islam, pesantren, jenjang",
          "<b>Topic 3</b><br>Words: guna, mahasiswa, buat, anak, guru",
          "<b>Topic 3</b><br>Words: menteri, dukung, seksual, keras, tinggi",
          "<b>Topic 3</b><br>Words: menteri, seksual, keras, mas, dukung",
          "<b>Topic 3</b><br>Words: baru, abu, lupa, efektif, permendikbudristek",
          "<b>Topic 3</b><br>Words: institusi, indonesia, cegah, seksual, keras",
          "<b>Topic 3</b><br>Words: enggak, bidang, materi, antikorupsi, libat",
          "<b>Topic 3</b><br>Words: tingkat, mutu, terap, juang, tuju",
          "<b>Topic 3</b><br>Words: guru, indonesia, nasional, hari, seluruh",
          "<b>Topic 3</b><br>Words: rakyat, ajar, persen, berapa, perintah",
          "<b>Topic 3</b><br>Words: bumn, otsus, demokrasi, surabaya, sangat",
          "<b>Topic 3</b><br>Words: benar, kemendikbud, sertifikat, hadiah, segitunyaa",
          "<b>Topic 3</b><br>Words: selalu, cermin, baharu, kaget, langgeng",
          "<b>Topic 3</b><br>Words: sajak, negeri, tak, indahtertulis, simulasi",
          "<b>Topic 3</b><br>Words: kutuk, adab, jadi, generasi, nilai",
          "<b>Topic 3</b><br>Words: giat, menteri, headline, baku, pr",
          "<b>Topic 3</b><br>Words: jauh, banget, kayak, minat, pas",
          "<b>Topic 3</b><br>Words: pusbangpeg, asn, pik, freire, psykis",
          "<b>Topic 3</b><br>Words: masuk, jadi, kkks, kukuh, diklat",
          "<b>Topic 3</b><br>Words: ibu, bagaimana, tunggal, cermat, diskusi",
          "<b>Topic 3</b><br>Words: enggak, mu, menteri, jadi, sekolah",
          "<b>Topic 3</b><br>Words: pkl, tahun, jawabarat, dinas, kuning",
          "<b>Topic 3</b><br>Words: nasional, merdeka, ajar, anak, amp"
         ],
         "marker": {
          "color": "#F0E442"
         },
         "mode": "lines",
         "name": "3_menteri_guru_jadi_seksual",
         "type": "scatter",
         "x": [
          "2021-10-21T01:39:31.115000+00:00",
          "2021-10-23T11:43:42.833333+00:00",
          "2021-10-25T20:06:25.666666+00:00",
          "2021-10-28T04:29:08.500000+00:00",
          "2021-10-30T12:51:51.333333+00:00",
          "2021-11-01T21:14:34.166666+00:00",
          "2021-11-08T22:22:42.666666+00:00",
          "2021-11-11T06:45:25.500000+00:00",
          "2021-11-13T15:08:08.333333+00:00",
          "2021-11-15T23:30:51.166666+00:00",
          "2021-11-18T07:53:34+00:00",
          "2021-11-20T16:16:16.833333+00:00",
          "2021-11-23T00:38:59.666666+00:00",
          "2021-11-25T09:01:42.500000+00:00",
          "2021-11-27T17:24:25.333333+00:00",
          "2021-11-30T01:47:08.166666+00:00",
          "2021-12-02T10:09:51+00:00",
          "2021-12-04T18:32:33.833333+00:00",
          "2021-12-09T11:17:59.500000+00:00",
          "2021-12-11T19:40:42.333333+00:00",
          "2021-12-14T04:03:25.166666+00:00",
          "2021-12-16T12:26:08+00:00",
          "2021-12-18T20:48:50.833333+00:00",
          "2021-12-21T05:11:33.666666+00:00",
          "2021-12-23T13:34:16.500000+00:00",
          "2021-12-25T21:56:59.333333+00:00",
          "2021-12-28T06:19:42.166666+00:00"
         ],
         "y": [
          8,
          8,
          10,
          6,
          3,
          3,
          35,
          19,
          6,
          13,
          15,
          8,
          15,
          4,
          7,
          2,
          4,
          3,
          3,
          5,
          5,
          6,
          7,
          7,
          5,
          3,
          7
         ]
        }
       ],
       "layout": {
        "height": 450,
        "hoverlabel": {
         "bgcolor": "white",
         "font": {
          "family": "Rockwell",
          "size": 16
         }
        },
        "legend": {
         "title": {
          "text": "<b>Global Topic Representation"
         }
        },
        "template": {
         "data": {
          "bar": [
           {
            "error_x": {
             "color": "rgb(36,36,36)"
            },
            "error_y": {
             "color": "rgb(36,36,36)"
            },
            "marker": {
             "line": {
              "color": "white",
              "width": 0.5
             },
             "pattern": {
              "fillmode": "overlay",
              "size": 10,
              "solidity": 0.2
             }
            },
            "type": "bar"
           }
          ],
          "barpolar": [
           {
            "marker": {
             "line": {
              "color": "white",
              "width": 0.5
             },
             "pattern": {
              "fillmode": "overlay",
              "size": 10,
              "solidity": 0.2
             }
            },
            "type": "barpolar"
           }
          ],
          "carpet": [
           {
            "aaxis": {
             "endlinecolor": "rgb(36,36,36)",
             "gridcolor": "white",
             "linecolor": "white",
             "minorgridcolor": "white",
             "startlinecolor": "rgb(36,36,36)"
            },
            "baxis": {
             "endlinecolor": "rgb(36,36,36)",
             "gridcolor": "white",
             "linecolor": "white",
             "minorgridcolor": "white",
             "startlinecolor": "rgb(36,36,36)"
            },
            "type": "carpet"
           }
          ],
          "choropleth": [
           {
            "colorbar": {
             "outlinewidth": 1,
             "tickcolor": "rgb(36,36,36)",
             "ticks": "outside"
            },
            "type": "choropleth"
           }
          ],
          "contour": [
           {
            "colorbar": {
             "outlinewidth": 1,
             "tickcolor": "rgb(36,36,36)",
             "ticks": "outside"
            },
            "colorscale": [
             [
              0,
              "#440154"
             ],
             [
              0.1111111111111111,
              "#482878"
             ],
             [
              0.2222222222222222,
              "#3e4989"
             ],
             [
              0.3333333333333333,
              "#31688e"
             ],
             [
              0.4444444444444444,
              "#26828e"
             ],
             [
              0.5555555555555556,
              "#1f9e89"
             ],
             [
              0.6666666666666666,
              "#35b779"
             ],
             [
              0.7777777777777778,
              "#6ece58"
             ],
             [
              0.8888888888888888,
              "#b5de2b"
             ],
             [
              1,
              "#fde725"
             ]
            ],
            "type": "contour"
           }
          ],
          "contourcarpet": [
           {
            "colorbar": {
             "outlinewidth": 1,
             "tickcolor": "rgb(36,36,36)",
             "ticks": "outside"
            },
            "type": "contourcarpet"
           }
          ],
          "heatmap": [
           {
            "colorbar": {
             "outlinewidth": 1,
             "tickcolor": "rgb(36,36,36)",
             "ticks": "outside"
            },
            "colorscale": [
             [
              0,
              "#440154"
             ],
             [
              0.1111111111111111,
              "#482878"
             ],
             [
              0.2222222222222222,
              "#3e4989"
             ],
             [
              0.3333333333333333,
              "#31688e"
             ],
             [
              0.4444444444444444,
              "#26828e"
             ],
             [
              0.5555555555555556,
              "#1f9e89"
             ],
             [
              0.6666666666666666,
              "#35b779"
             ],
             [
              0.7777777777777778,
              "#6ece58"
             ],
             [
              0.8888888888888888,
              "#b5de2b"
             ],
             [
              1,
              "#fde725"
             ]
            ],
            "type": "heatmap"
           }
          ],
          "heatmapgl": [
           {
            "colorbar": {
             "outlinewidth": 1,
             "tickcolor": "rgb(36,36,36)",
             "ticks": "outside"
            },
            "colorscale": [
             [
              0,
              "#440154"
             ],
             [
              0.1111111111111111,
              "#482878"
             ],
             [
              0.2222222222222222,
              "#3e4989"
             ],
             [
              0.3333333333333333,
              "#31688e"
             ],
             [
              0.4444444444444444,
              "#26828e"
             ],
             [
              0.5555555555555556,
              "#1f9e89"
             ],
             [
              0.6666666666666666,
              "#35b779"
             ],
             [
              0.7777777777777778,
              "#6ece58"
             ],
             [
              0.8888888888888888,
              "#b5de2b"
             ],
             [
              1,
              "#fde725"
             ]
            ],
            "type": "heatmapgl"
           }
          ],
          "histogram": [
           {
            "marker": {
             "line": {
              "color": "white",
              "width": 0.6
             }
            },
            "type": "histogram"
           }
          ],
          "histogram2d": [
           {
            "colorbar": {
             "outlinewidth": 1,
             "tickcolor": "rgb(36,36,36)",
             "ticks": "outside"
            },
            "colorscale": [
             [
              0,
              "#440154"
             ],
             [
              0.1111111111111111,
              "#482878"
             ],
             [
              0.2222222222222222,
              "#3e4989"
             ],
             [
              0.3333333333333333,
              "#31688e"
             ],
             [
              0.4444444444444444,
              "#26828e"
             ],
             [
              0.5555555555555556,
              "#1f9e89"
             ],
             [
              0.6666666666666666,
              "#35b779"
             ],
             [
              0.7777777777777778,
              "#6ece58"
             ],
             [
              0.8888888888888888,
              "#b5de2b"
             ],
             [
              1,
              "#fde725"
             ]
            ],
            "type": "histogram2d"
           }
          ],
          "histogram2dcontour": [
           {
            "colorbar": {
             "outlinewidth": 1,
             "tickcolor": "rgb(36,36,36)",
             "ticks": "outside"
            },
            "colorscale": [
             [
              0,
              "#440154"
             ],
             [
              0.1111111111111111,
              "#482878"
             ],
             [
              0.2222222222222222,
              "#3e4989"
             ],
             [
              0.3333333333333333,
              "#31688e"
             ],
             [
              0.4444444444444444,
              "#26828e"
             ],
             [
              0.5555555555555556,
              "#1f9e89"
             ],
             [
              0.6666666666666666,
              "#35b779"
             ],
             [
              0.7777777777777778,
              "#6ece58"
             ],
             [
              0.8888888888888888,
              "#b5de2b"
             ],
             [
              1,
              "#fde725"
             ]
            ],
            "type": "histogram2dcontour"
           }
          ],
          "mesh3d": [
           {
            "colorbar": {
             "outlinewidth": 1,
             "tickcolor": "rgb(36,36,36)",
             "ticks": "outside"
            },
            "type": "mesh3d"
           }
          ],
          "parcoords": [
           {
            "line": {
             "colorbar": {
              "outlinewidth": 1,
              "tickcolor": "rgb(36,36,36)",
              "ticks": "outside"
             }
            },
            "type": "parcoords"
           }
          ],
          "pie": [
           {
            "automargin": true,
            "type": "pie"
           }
          ],
          "scatter": [
           {
            "fillpattern": {
             "fillmode": "overlay",
             "size": 10,
             "solidity": 0.2
            },
            "type": "scatter"
           }
          ],
          "scatter3d": [
           {
            "line": {
             "colorbar": {
              "outlinewidth": 1,
              "tickcolor": "rgb(36,36,36)",
              "ticks": "outside"
             }
            },
            "marker": {
             "colorbar": {
              "outlinewidth": 1,
              "tickcolor": "rgb(36,36,36)",
              "ticks": "outside"
             }
            },
            "type": "scatter3d"
           }
          ],
          "scattercarpet": [
           {
            "marker": {
             "colorbar": {
              "outlinewidth": 1,
              "tickcolor": "rgb(36,36,36)",
              "ticks": "outside"
             }
            },
            "type": "scattercarpet"
           }
          ],
          "scattergeo": [
           {
            "marker": {
             "colorbar": {
              "outlinewidth": 1,
              "tickcolor": "rgb(36,36,36)",
              "ticks": "outside"
             }
            },
            "type": "scattergeo"
           }
          ],
          "scattergl": [
           {
            "marker": {
             "colorbar": {
              "outlinewidth": 1,
              "tickcolor": "rgb(36,36,36)",
              "ticks": "outside"
             }
            },
            "type": "scattergl"
           }
          ],
          "scattermapbox": [
           {
            "marker": {
             "colorbar": {
              "outlinewidth": 1,
              "tickcolor": "rgb(36,36,36)",
              "ticks": "outside"
             }
            },
            "type": "scattermapbox"
           }
          ],
          "scatterpolar": [
           {
            "marker": {
             "colorbar": {
              "outlinewidth": 1,
              "tickcolor": "rgb(36,36,36)",
              "ticks": "outside"
             }
            },
            "type": "scatterpolar"
           }
          ],
          "scatterpolargl": [
           {
            "marker": {
             "colorbar": {
              "outlinewidth": 1,
              "tickcolor": "rgb(36,36,36)",
              "ticks": "outside"
             }
            },
            "type": "scatterpolargl"
           }
          ],
          "scatterternary": [
           {
            "marker": {
             "colorbar": {
              "outlinewidth": 1,
              "tickcolor": "rgb(36,36,36)",
              "ticks": "outside"
             }
            },
            "type": "scatterternary"
           }
          ],
          "surface": [
           {
            "colorbar": {
             "outlinewidth": 1,
             "tickcolor": "rgb(36,36,36)",
             "ticks": "outside"
            },
            "colorscale": [
             [
              0,
              "#440154"
             ],
             [
              0.1111111111111111,
              "#482878"
             ],
             [
              0.2222222222222222,
              "#3e4989"
             ],
             [
              0.3333333333333333,
              "#31688e"
             ],
             [
              0.4444444444444444,
              "#26828e"
             ],
             [
              0.5555555555555556,
              "#1f9e89"
             ],
             [
              0.6666666666666666,
              "#35b779"
             ],
             [
              0.7777777777777778,
              "#6ece58"
             ],
             [
              0.8888888888888888,
              "#b5de2b"
             ],
             [
              1,
              "#fde725"
             ]
            ],
            "type": "surface"
           }
          ],
          "table": [
           {
            "cells": {
             "fill": {
              "color": "rgb(237,237,237)"
             },
             "line": {
              "color": "white"
             }
            },
            "header": {
             "fill": {
              "color": "rgb(217,217,217)"
             },
             "line": {
              "color": "white"
             }
            },
            "type": "table"
           }
          ]
         },
         "layout": {
          "annotationdefaults": {
           "arrowhead": 0,
           "arrowwidth": 1
          },
          "autotypenumbers": "strict",
          "coloraxis": {
           "colorbar": {
            "outlinewidth": 1,
            "tickcolor": "rgb(36,36,36)",
            "ticks": "outside"
           }
          },
          "colorscale": {
           "diverging": [
            [
             0,
             "rgb(103,0,31)"
            ],
            [
             0.1,
             "rgb(178,24,43)"
            ],
            [
             0.2,
             "rgb(214,96,77)"
            ],
            [
             0.3,
             "rgb(244,165,130)"
            ],
            [
             0.4,
             "rgb(253,219,199)"
            ],
            [
             0.5,
             "rgb(247,247,247)"
            ],
            [
             0.6,
             "rgb(209,229,240)"
            ],
            [
             0.7,
             "rgb(146,197,222)"
            ],
            [
             0.8,
             "rgb(67,147,195)"
            ],
            [
             0.9,
             "rgb(33,102,172)"
            ],
            [
             1,
             "rgb(5,48,97)"
            ]
           ],
           "sequential": [
            [
             0,
             "#440154"
            ],
            [
             0.1111111111111111,
             "#482878"
            ],
            [
             0.2222222222222222,
             "#3e4989"
            ],
            [
             0.3333333333333333,
             "#31688e"
            ],
            [
             0.4444444444444444,
             "#26828e"
            ],
            [
             0.5555555555555556,
             "#1f9e89"
            ],
            [
             0.6666666666666666,
             "#35b779"
            ],
            [
             0.7777777777777778,
             "#6ece58"
            ],
            [
             0.8888888888888888,
             "#b5de2b"
            ],
            [
             1,
             "#fde725"
            ]
           ],
           "sequentialminus": [
            [
             0,
             "#440154"
            ],
            [
             0.1111111111111111,
             "#482878"
            ],
            [
             0.2222222222222222,
             "#3e4989"
            ],
            [
             0.3333333333333333,
             "#31688e"
            ],
            [
             0.4444444444444444,
             "#26828e"
            ],
            [
             0.5555555555555556,
             "#1f9e89"
            ],
            [
             0.6666666666666666,
             "#35b779"
            ],
            [
             0.7777777777777778,
             "#6ece58"
            ],
            [
             0.8888888888888888,
             "#b5de2b"
            ],
            [
             1,
             "#fde725"
            ]
           ]
          },
          "colorway": [
           "#1F77B4",
           "#FF7F0E",
           "#2CA02C",
           "#D62728",
           "#9467BD",
           "#8C564B",
           "#E377C2",
           "#7F7F7F",
           "#BCBD22",
           "#17BECF"
          ],
          "font": {
           "color": "rgb(36,36,36)"
          },
          "geo": {
           "bgcolor": "white",
           "lakecolor": "white",
           "landcolor": "white",
           "showlakes": true,
           "showland": true,
           "subunitcolor": "white"
          },
          "hoverlabel": {
           "align": "left"
          },
          "hovermode": "closest",
          "mapbox": {
           "style": "light"
          },
          "paper_bgcolor": "white",
          "plot_bgcolor": "white",
          "polar": {
           "angularaxis": {
            "gridcolor": "rgb(232,232,232)",
            "linecolor": "rgb(36,36,36)",
            "showgrid": false,
            "showline": true,
            "ticks": "outside"
           },
           "bgcolor": "white",
           "radialaxis": {
            "gridcolor": "rgb(232,232,232)",
            "linecolor": "rgb(36,36,36)",
            "showgrid": false,
            "showline": true,
            "ticks": "outside"
           }
          },
          "scene": {
           "xaxis": {
            "backgroundcolor": "white",
            "gridcolor": "rgb(232,232,232)",
            "gridwidth": 2,
            "linecolor": "rgb(36,36,36)",
            "showbackground": true,
            "showgrid": false,
            "showline": true,
            "ticks": "outside",
            "zeroline": false,
            "zerolinecolor": "rgb(36,36,36)"
           },
           "yaxis": {
            "backgroundcolor": "white",
            "gridcolor": "rgb(232,232,232)",
            "gridwidth": 2,
            "linecolor": "rgb(36,36,36)",
            "showbackground": true,
            "showgrid": false,
            "showline": true,
            "ticks": "outside",
            "zeroline": false,
            "zerolinecolor": "rgb(36,36,36)"
           },
           "zaxis": {
            "backgroundcolor": "white",
            "gridcolor": "rgb(232,232,232)",
            "gridwidth": 2,
            "linecolor": "rgb(36,36,36)",
            "showbackground": true,
            "showgrid": false,
            "showline": true,
            "ticks": "outside",
            "zeroline": false,
            "zerolinecolor": "rgb(36,36,36)"
           }
          },
          "shapedefaults": {
           "fillcolor": "black",
           "line": {
            "width": 0
           },
           "opacity": 0.3
          },
          "ternary": {
           "aaxis": {
            "gridcolor": "rgb(232,232,232)",
            "linecolor": "rgb(36,36,36)",
            "showgrid": false,
            "showline": true,
            "ticks": "outside"
           },
           "baxis": {
            "gridcolor": "rgb(232,232,232)",
            "linecolor": "rgb(36,36,36)",
            "showgrid": false,
            "showline": true,
            "ticks": "outside"
           },
           "bgcolor": "white",
           "caxis": {
            "gridcolor": "rgb(232,232,232)",
            "linecolor": "rgb(36,36,36)",
            "showgrid": false,
            "showline": true,
            "ticks": "outside"
           }
          },
          "title": {
           "x": 0.05
          },
          "xaxis": {
           "automargin": true,
           "gridcolor": "rgb(232,232,232)",
           "linecolor": "rgb(36,36,36)",
           "showgrid": false,
           "showline": true,
           "ticks": "outside",
           "title": {
            "standoff": 15
           },
           "zeroline": false,
           "zerolinecolor": "rgb(36,36,36)"
          },
          "yaxis": {
           "automargin": true,
           "gridcolor": "rgb(232,232,232)",
           "linecolor": "rgb(36,36,36)",
           "showgrid": false,
           "showline": true,
           "ticks": "outside",
           "title": {
            "standoff": 15
           },
           "zeroline": false,
           "zerolinecolor": "rgb(36,36,36)"
          }
         }
        },
        "title": {
         "font": {
          "color": "Black",
          "size": 22
         },
         "text": "Topics Over Time for 2021Q4",
         "x": 0.4,
         "xanchor": "center",
         "y": 0.95,
         "yanchor": "top"
        },
        "width": 1250,
        "xaxis": {
         "showgrid": true
        },
        "yaxis": {
         "showgrid": true,
         "title": {
          "text": "Frequency"
         }
        }
       }
      }
     },
     "metadata": {},
     "output_type": "display_data"
    },
    {
     "data": {
      "application/vnd.plotly.v1+json": {
       "config": {
        "plotlyServerURL": "https://plot.ly"
       },
       "data": [
        {
         "hoverinfo": "text",
         "hovertext": [
          "<b>Topic 0</b><br>Words: pamekasan, lokakarya, mdmc, sector, risiko",
          "<b>Topic 0</b><br>Words: digitalisasi, ketat, prokes, ayo, apresiasi",
          "<b>Topic 0</b><br>Words: kontrak, tenaga, ekspor, mobilitas, tekon",
          "<b>Topic 0</b><br>Words: sikap, bidang, perintah, tingkat, sehat",
          "<b>Topic 0</b><br>Words: rusuh, buat, layak, politik, perempuan",
          "<b>Topic 0</b><br>Words: setiawan, via, bukik, sebut, riset",
          "<b>Topic 0</b><br>Words: sangat, jepara, jawa, sekjen, prioritas",
          "<b>Topic 0</b><br>Words: tingkat, instansi, informasi, maupun, pasti",
          "<b>Topic 0</b><br>Words: sisi, makin, amp, ptn, rakyat",
          "<b>Topic 0</b><br>Words: industri, pangan, pintar, awal, tara",
          "<b>Topic 0</b><br>Words: bina, sd, bidang, jombang, merger",
          "<b>Topic 0</b><br>Words: gus, sehat, penting, menag, pandang",
          "<b>Topic 0</b><br>Words: banyak, gagal, hidup, sosial, baik",
          "<b>Topic 0</b><br>Words: masyarakat, tingkat, layan, lingkung, sasar",
          "<b>Topic 0</b><br>Words: presidensi, tawar, bas, vokasi, komunitas",
          "<b>Topic 0</b><br>Words: hrbat, bbm, indeks, topang, serah",
          "<b>Topic 0</b><br>Words: tingkat, sehat, ksenjangan, ri, bop",
          "<b>Topic 0</b><br>Words: dana, tingkat, akselerasi, paud, perintah",
          "<b>Topic 0</b><br>Words: tingkat, sehat, tahun, prioritas, ekonomi",
          "<b>Topic 0</b><br>Words: ppn, monoarfa, suharso, ekstrem, turun",
          "<b>Topic 0</b><br>Words: tahun, gas, pol, ekstrem, turun"
         ],
         "marker": {
          "color": "#E69F00"
         },
         "mode": "lines",
         "name": "0_tingkat_sehat_perintah_tahun",
         "type": "scatter",
         "x": [
          "2022-01-01T02:59:56.176999+00:00",
          "2022-01-03T01:11:40.766666+00:00",
          "2022-01-04T22:02:41.533333+00:00",
          "2022-01-06T18:53:42.300000+00:00",
          "2022-01-08T15:44:43.066666+00:00",
          "2022-01-10T12:35:43.833333+00:00",
          "2022-01-17T23:59:46.900000+00:00",
          "2022-01-21T17:41:48.433333+00:00",
          "2022-01-23T14:32:49.200000+00:00",
          "2022-01-25T11:23:49.966666+00:00",
          "2022-01-29T05:05:51.500000+00:00",
          "2022-02-01T22:47:53.033333+00:00",
          "2022-02-05T16:29:54.566666+00:00",
          "2022-02-07T13:20:55.333333+00:00",
          "2022-02-09T10:11:56.100000+00:00",
          "2022-02-11T07:02:56.866666+00:00",
          "2022-02-13T03:53:57.633333+00:00",
          "2022-02-15T00:44:58.400000+00:00",
          "2022-02-16T21:35:59.166666+00:00",
          "2022-02-18T18:26:59.933333+00:00",
          "2022-02-22T12:09:01.466666+00:00"
         ],
         "y": [
          2,
          1,
          3,
          1,
          2,
          1,
          5,
          1,
          4,
          4,
          1,
          1,
          2,
          2,
          3,
          1,
          5,
          5,
          8,
          2,
          1
         ]
        },
        {
         "hoverinfo": "text",
         "hovertext": [
          "<b>Topic 1</b><br>Words: provinsi, pandemi, dki, terap, muka",
          "<b>Topic 1</b><br>Words: optimis, bidangnyaaa, fafifuwasweswos, ahli, depan",
          "<b>Topic 1</b><br>Words: jangka, tempat, rekomendasi, keluarga, pandemi",
          "<b>Topic 1</b><br>Words: sulit, ganti, indonesia, ideologis, gambar",
          "<b>Topic 1</b><br>Words: yatim, internasional, diri, sorot, pemkot",
          "<b>Topic 1</b><br>Words: papua, negeri, yunani, protes, avangers",
          "<b>Topic 1</b><br>Words: smpmts, sumedang, tanjungsari, ips, smpn",
          "<b>Topic 1</b><br>Words: gue, prihatin, balok, bilang, mandor",
          "<b>Topic 1</b><br>Words: mandiri, investasi, baca, arah, tuju",
          "<b>Topic 1</b><br>Words: australia, oleh, skandinavia, malaysia, inggris",
          "<b>Topic 1</b><br>Words: menteri, bumn, pandemi, masa, wajib",
          "<b>Topic 1</b><br>Words: korban, amp, jadi, pintu, transmisi",
          "<b>Topic 1</b><br>Words: teknologi, riset, menteri, indonesia, biaya",
          "<b>Topic 1</b><br>Words: ccp, indonesia, covid, publik, menteri",
          "<b>Topic 1</b><br>Words: padang, hukum, indonesia, kota, buat",
          "<b>Topic 1</b><br>Words: papua, beasiswa, asli, sendiri, ada",
          "<b>Topic 1</b><br>Words: ngabisin, asih, puluh, ounya, positif",
          "<b>Topic 1</b><br>Words: papua, coba, laku, perintah, doi",
          "<b>Topic 1</b><br>Words: appad, resmi, bentuk, vaksin, tolak",
          "<b>Topic 1</b><br>Words: buat, pundak, semangat, perata, berat"
         ],
         "marker": {
          "color": "#56B4E9"
         },
         "mode": "lines",
         "name": "1_indonesia_papua_menteri_anak",
         "type": "scatter",
         "x": [
          "2022-01-03T01:11:40.766666+00:00",
          "2022-01-08T15:44:43.066666+00:00",
          "2022-01-10T12:35:43.833333+00:00",
          "2022-01-12T09:26:44.600000+00:00",
          "2022-01-16T03:08:46.133333+00:00",
          "2022-01-17T23:59:46.900000+00:00",
          "2022-01-19T20:50:47.666666+00:00",
          "2022-01-21T17:41:48.433333+00:00",
          "2022-01-23T14:32:49.200000+00:00",
          "2022-01-27T08:14:50.733333+00:00",
          "2022-01-29T05:05:51.500000+00:00",
          "2022-02-01T22:47:53.033333+00:00",
          "2022-02-03T19:38:53.800000+00:00",
          "2022-02-05T16:29:54.566666+00:00",
          "2022-02-07T13:20:55.333333+00:00",
          "2022-02-09T10:11:56.100000+00:00",
          "2022-02-11T07:02:56.866666+00:00",
          "2022-02-13T03:53:57.633333+00:00",
          "2022-02-20T15:18:00.700000+00:00",
          "2022-02-22T12:09:01.466666+00:00"
         ],
         "y": [
          2,
          1,
          1,
          4,
          2,
          3,
          1,
          2,
          1,
          1,
          3,
          2,
          3,
          3,
          3,
          2,
          1,
          3,
          1,
          1
         ]
        },
        {
         "hoverinfo": "text",
         "hovertext": [
          "<b>Topic 2</b><br>Words: jir, prtrn, kntr, impact, apaka",
          "<b>Topic 2</b><br>Words: jakarta, pekanbaru, kasubag, dinas, humas",
          "<b>Topic 2</b><br>Words: halmahera, selatan, daerah, jakarta, pekanbaru",
          "<b>Topic 2</b><br>Words: pesan, ii, kcd, depok, wilayah",
          "<b>Topic 2</b><br>Words: tular, penting, satu, kakak, siur",
          "<b>Topic 2</b><br>Words: cianjur, dewan, apreasiasi, tegur, tangsel",
          "<b>Topic 2</b><br>Words: jalan, kakak, kak, detail, tks"
         ],
         "marker": {
          "color": "#009E73"
         },
         "mode": "lines",
         "name": "2_jakarta_pekanbaru_jalan_ptm",
         "type": "scatter",
         "x": [
          "2022-01-01T02:59:56.176999+00:00",
          "2022-01-03T01:11:40.766666+00:00",
          "2022-01-21T17:41:48.433333+00:00",
          "2022-01-31T01:56:52.266666+00:00",
          "2022-02-01T22:47:53.033333+00:00",
          "2022-02-07T13:20:55.333333+00:00",
          "2022-02-11T07:02:56.866666+00:00"
         ],
         "y": [
          1,
          4,
          1,
          1,
          2,
          2,
          1
         ]
        },
        {
         "hoverinfo": "text",
         "hovertext": [
          "<b>Topic 3</b><br>Words: demokrat, ahy, sahabat, susilo, bareng",
          "<b>Topic 3</b><br>Words: ani, ibu, perempuan, fatehah, kaum",
          "<b>Topic 3</b><br>Words: kalong, ramah, kota, anak, muhammadiyah",
          "<b>Topic 3</b><br>Words: muhammadiyah, alpa, sekretaris, ialah, amirrachman",
          "<b>Topic 3</b><br>Words: naskah, akademik, pp, muhammadiyah, nasional",
          "<b>Topic 3</b><br>Words: konsep, posisi, efendi, ajakki, ajarki",
          "<b>Topic 3</b><br>Words: sekolah, abdurrahman, usai, wahid, kakanwil",
          "<b>Topic 3</b><br>Words: its, direktorat, prasarana, biro, bem",
          "<b>Topic 3</b><br>Words: belanda, perempuan, tsb, finis, hindia",
          "<b>Topic 3</b><br>Words: muslim, mild, larang, diskriminatif, alir"
         ],
         "marker": {
          "color": "#F0E442"
         },
         "mode": "lines",
         "name": "3_muhammadiyah_its_pp_perempuan",
         "type": "scatter",
         "x": [
          "2022-01-04T22:02:41.533333+00:00",
          "2022-01-10T12:35:43.833333+00:00",
          "2022-01-19T20:50:47.666666+00:00",
          "2022-01-21T17:41:48.433333+00:00",
          "2022-01-23T14:32:49.200000+00:00",
          "2022-01-27T08:14:50.733333+00:00",
          "2022-02-09T10:11:56.100000+00:00",
          "2022-02-13T03:53:57.633333+00:00",
          "2022-02-16T21:35:59.166666+00:00",
          "2022-02-22T12:09:01.466666+00:00"
         ],
         "y": [
          1,
          1,
          2,
          2,
          2,
          2,
          2,
          1,
          1,
          1
         ]
        },
        {
         "hoverinfo": "text",
         "hovertext": [
          "<b>Topic 4</b><br>Words: guru, rekrutmen, rangka, honorer, kemdikbudristek",
          "<b>Topic 4</b><br>Words: kkn, mahasiswa, akidah, nama, dusun",
          "<b>Topic 4</b><br>Words: sempat, kemarin, bahas, kelas, guru",
          "<b>Topic 4</b><br>Words: kemendikbud, tulis, setiawan, nadim, bukik",
          "<b>Topic 4</b><br>Words: kurikulum, aditomo, pengin, obrol, standar",
          "<b>Topic 4</b><br>Words: merdeka, magang, plonga, tri, plongo",
          "<b>Topic 4</b><br>Words: guru, sampah, buton, plastik, oknum",
          "<b>Topic 4</b><br>Words: guru, benarbenar, bahan, lptk, akademisi",
          "<b>Topic 4</b><br>Words: tanggap, pns, plusminusnya, upi, aja",
          "<b>Topic 4</b><br>Words: bandar, serta, lampung, kelas, naik",
          "<b>Topic 4</b><br>Words: pak, guru, tiru, sangatsangat, an",
          "<b>Topic 4</b><br>Words: referensi, lptk, revitalisasi, bahan, sari",
          "<b>Topic 4</b><br>Words: mbkm, merdeka, bawa, bagai, mas",
          "<b>Topic 4</b><br>Words: kurikulum, saat, jantung, wawancara, landas",
          "<b>Topic 4</b><br>Words: kurikulum, fitk, rozak, pips, perspektif"
         ],
         "marker": {
          "color": "#D55E00"
         },
         "mode": "lines",
         "name": "4_guru_kurikulum_merdeka_kkn",
         "type": "scatter",
         "x": [
          "2022-01-04T22:02:41.533333+00:00",
          "2022-01-06T18:53:42.300000+00:00",
          "2022-01-08T15:44:43.066666+00:00",
          "2022-01-10T12:35:43.833333+00:00",
          "2022-01-17T23:59:46.900000+00:00",
          "2022-01-23T14:32:49.200000+00:00",
          "2022-01-27T08:14:50.733333+00:00",
          "2022-01-31T01:56:52.266666+00:00",
          "2022-02-01T22:47:53.033333+00:00",
          "2022-02-05T16:29:54.566666+00:00",
          "2022-02-09T10:11:56.100000+00:00",
          "2022-02-11T07:02:56.866666+00:00",
          "2022-02-13T03:53:57.633333+00:00",
          "2022-02-16T21:35:59.166666+00:00",
          "2022-02-22T12:09:01.466666+00:00"
         ],
         "y": [
          1,
          1,
          1,
          1,
          3,
          2,
          1,
          2,
          1,
          1,
          1,
          1,
          1,
          1,
          3
         ]
        },
        {
         "hoverinfo": "text",
         "hovertext": [
          "<b>Topic 5</b><br>Words: student, loan, negara, enggak, bayar",
          "<b>Topic 5</b><br>Words: negara, hak, kampus, rugi, student",
          "<b>Topic 5</b><br>Words: kapitalis, sosdem, negara, fdp, kanselir",
          "<b>Topic 5</b><br>Words: tengah, cocok, tuh, pas, kasih",
          "<b>Topic 5</b><br>Words: sekolah, keluarga, negara, negeri, aparat",
          "<b>Topic 5</b><br>Words: susah, bayar, enggak, minta, kuliahpengen",
          "<b>Topic 5</b><br>Words: prodi, gais, schapp, prospek, tau",
          "<b>Topic 5</b><br>Words: bpjs, pakai, jangan, urus, bikin"
         ],
         "marker": {
          "color": "#0072B2"
         },
         "mode": "lines",
         "name": "5_negara_student_loan_bayar",
         "type": "scatter",
         "x": [
          "2022-01-08T15:44:43.066666+00:00",
          "2022-01-10T12:35:43.833333+00:00",
          "2022-01-12T09:26:44.600000+00:00",
          "2022-01-19T20:50:47.666666+00:00",
          "2022-01-21T17:41:48.433333+00:00",
          "2022-02-05T16:29:54.566666+00:00",
          "2022-02-22T12:09:01.466666+00:00",
          "2022-02-24T09:00:02.233333+00:00"
         ],
         "y": [
          11,
          3,
          1,
          1,
          1,
          1,
          1,
          1
         ]
        }
       ],
       "layout": {
        "height": 450,
        "hoverlabel": {
         "bgcolor": "white",
         "font": {
          "family": "Rockwell",
          "size": 16
         }
        },
        "legend": {
         "title": {
          "text": "<b>Global Topic Representation"
         }
        },
        "template": {
         "data": {
          "bar": [
           {
            "error_x": {
             "color": "rgb(36,36,36)"
            },
            "error_y": {
             "color": "rgb(36,36,36)"
            },
            "marker": {
             "line": {
              "color": "white",
              "width": 0.5
             },
             "pattern": {
              "fillmode": "overlay",
              "size": 10,
              "solidity": 0.2
             }
            },
            "type": "bar"
           }
          ],
          "barpolar": [
           {
            "marker": {
             "line": {
              "color": "white",
              "width": 0.5
             },
             "pattern": {
              "fillmode": "overlay",
              "size": 10,
              "solidity": 0.2
             }
            },
            "type": "barpolar"
           }
          ],
          "carpet": [
           {
            "aaxis": {
             "endlinecolor": "rgb(36,36,36)",
             "gridcolor": "white",
             "linecolor": "white",
             "minorgridcolor": "white",
             "startlinecolor": "rgb(36,36,36)"
            },
            "baxis": {
             "endlinecolor": "rgb(36,36,36)",
             "gridcolor": "white",
             "linecolor": "white",
             "minorgridcolor": "white",
             "startlinecolor": "rgb(36,36,36)"
            },
            "type": "carpet"
           }
          ],
          "choropleth": [
           {
            "colorbar": {
             "outlinewidth": 1,
             "tickcolor": "rgb(36,36,36)",
             "ticks": "outside"
            },
            "type": "choropleth"
           }
          ],
          "contour": [
           {
            "colorbar": {
             "outlinewidth": 1,
             "tickcolor": "rgb(36,36,36)",
             "ticks": "outside"
            },
            "colorscale": [
             [
              0,
              "#440154"
             ],
             [
              0.1111111111111111,
              "#482878"
             ],
             [
              0.2222222222222222,
              "#3e4989"
             ],
             [
              0.3333333333333333,
              "#31688e"
             ],
             [
              0.4444444444444444,
              "#26828e"
             ],
             [
              0.5555555555555556,
              "#1f9e89"
             ],
             [
              0.6666666666666666,
              "#35b779"
             ],
             [
              0.7777777777777778,
              "#6ece58"
             ],
             [
              0.8888888888888888,
              "#b5de2b"
             ],
             [
              1,
              "#fde725"
             ]
            ],
            "type": "contour"
           }
          ],
          "contourcarpet": [
           {
            "colorbar": {
             "outlinewidth": 1,
             "tickcolor": "rgb(36,36,36)",
             "ticks": "outside"
            },
            "type": "contourcarpet"
           }
          ],
          "heatmap": [
           {
            "colorbar": {
             "outlinewidth": 1,
             "tickcolor": "rgb(36,36,36)",
             "ticks": "outside"
            },
            "colorscale": [
             [
              0,
              "#440154"
             ],
             [
              0.1111111111111111,
              "#482878"
             ],
             [
              0.2222222222222222,
              "#3e4989"
             ],
             [
              0.3333333333333333,
              "#31688e"
             ],
             [
              0.4444444444444444,
              "#26828e"
             ],
             [
              0.5555555555555556,
              "#1f9e89"
             ],
             [
              0.6666666666666666,
              "#35b779"
             ],
             [
              0.7777777777777778,
              "#6ece58"
             ],
             [
              0.8888888888888888,
              "#b5de2b"
             ],
             [
              1,
              "#fde725"
             ]
            ],
            "type": "heatmap"
           }
          ],
          "heatmapgl": [
           {
            "colorbar": {
             "outlinewidth": 1,
             "tickcolor": "rgb(36,36,36)",
             "ticks": "outside"
            },
            "colorscale": [
             [
              0,
              "#440154"
             ],
             [
              0.1111111111111111,
              "#482878"
             ],
             [
              0.2222222222222222,
              "#3e4989"
             ],
             [
              0.3333333333333333,
              "#31688e"
             ],
             [
              0.4444444444444444,
              "#26828e"
             ],
             [
              0.5555555555555556,
              "#1f9e89"
             ],
             [
              0.6666666666666666,
              "#35b779"
             ],
             [
              0.7777777777777778,
              "#6ece58"
             ],
             [
              0.8888888888888888,
              "#b5de2b"
             ],
             [
              1,
              "#fde725"
             ]
            ],
            "type": "heatmapgl"
           }
          ],
          "histogram": [
           {
            "marker": {
             "line": {
              "color": "white",
              "width": 0.6
             }
            },
            "type": "histogram"
           }
          ],
          "histogram2d": [
           {
            "colorbar": {
             "outlinewidth": 1,
             "tickcolor": "rgb(36,36,36)",
             "ticks": "outside"
            },
            "colorscale": [
             [
              0,
              "#440154"
             ],
             [
              0.1111111111111111,
              "#482878"
             ],
             [
              0.2222222222222222,
              "#3e4989"
             ],
             [
              0.3333333333333333,
              "#31688e"
             ],
             [
              0.4444444444444444,
              "#26828e"
             ],
             [
              0.5555555555555556,
              "#1f9e89"
             ],
             [
              0.6666666666666666,
              "#35b779"
             ],
             [
              0.7777777777777778,
              "#6ece58"
             ],
             [
              0.8888888888888888,
              "#b5de2b"
             ],
             [
              1,
              "#fde725"
             ]
            ],
            "type": "histogram2d"
           }
          ],
          "histogram2dcontour": [
           {
            "colorbar": {
             "outlinewidth": 1,
             "tickcolor": "rgb(36,36,36)",
             "ticks": "outside"
            },
            "colorscale": [
             [
              0,
              "#440154"
             ],
             [
              0.1111111111111111,
              "#482878"
             ],
             [
              0.2222222222222222,
              "#3e4989"
             ],
             [
              0.3333333333333333,
              "#31688e"
             ],
             [
              0.4444444444444444,
              "#26828e"
             ],
             [
              0.5555555555555556,
              "#1f9e89"
             ],
             [
              0.6666666666666666,
              "#35b779"
             ],
             [
              0.7777777777777778,
              "#6ece58"
             ],
             [
              0.8888888888888888,
              "#b5de2b"
             ],
             [
              1,
              "#fde725"
             ]
            ],
            "type": "histogram2dcontour"
           }
          ],
          "mesh3d": [
           {
            "colorbar": {
             "outlinewidth": 1,
             "tickcolor": "rgb(36,36,36)",
             "ticks": "outside"
            },
            "type": "mesh3d"
           }
          ],
          "parcoords": [
           {
            "line": {
             "colorbar": {
              "outlinewidth": 1,
              "tickcolor": "rgb(36,36,36)",
              "ticks": "outside"
             }
            },
            "type": "parcoords"
           }
          ],
          "pie": [
           {
            "automargin": true,
            "type": "pie"
           }
          ],
          "scatter": [
           {
            "fillpattern": {
             "fillmode": "overlay",
             "size": 10,
             "solidity": 0.2
            },
            "type": "scatter"
           }
          ],
          "scatter3d": [
           {
            "line": {
             "colorbar": {
              "outlinewidth": 1,
              "tickcolor": "rgb(36,36,36)",
              "ticks": "outside"
             }
            },
            "marker": {
             "colorbar": {
              "outlinewidth": 1,
              "tickcolor": "rgb(36,36,36)",
              "ticks": "outside"
             }
            },
            "type": "scatter3d"
           }
          ],
          "scattercarpet": [
           {
            "marker": {
             "colorbar": {
              "outlinewidth": 1,
              "tickcolor": "rgb(36,36,36)",
              "ticks": "outside"
             }
            },
            "type": "scattercarpet"
           }
          ],
          "scattergeo": [
           {
            "marker": {
             "colorbar": {
              "outlinewidth": 1,
              "tickcolor": "rgb(36,36,36)",
              "ticks": "outside"
             }
            },
            "type": "scattergeo"
           }
          ],
          "scattergl": [
           {
            "marker": {
             "colorbar": {
              "outlinewidth": 1,
              "tickcolor": "rgb(36,36,36)",
              "ticks": "outside"
             }
            },
            "type": "scattergl"
           }
          ],
          "scattermapbox": [
           {
            "marker": {
             "colorbar": {
              "outlinewidth": 1,
              "tickcolor": "rgb(36,36,36)",
              "ticks": "outside"
             }
            },
            "type": "scattermapbox"
           }
          ],
          "scatterpolar": [
           {
            "marker": {
             "colorbar": {
              "outlinewidth": 1,
              "tickcolor": "rgb(36,36,36)",
              "ticks": "outside"
             }
            },
            "type": "scatterpolar"
           }
          ],
          "scatterpolargl": [
           {
            "marker": {
             "colorbar": {
              "outlinewidth": 1,
              "tickcolor": "rgb(36,36,36)",
              "ticks": "outside"
             }
            },
            "type": "scatterpolargl"
           }
          ],
          "scatterternary": [
           {
            "marker": {
             "colorbar": {
              "outlinewidth": 1,
              "tickcolor": "rgb(36,36,36)",
              "ticks": "outside"
             }
            },
            "type": "scatterternary"
           }
          ],
          "surface": [
           {
            "colorbar": {
             "outlinewidth": 1,
             "tickcolor": "rgb(36,36,36)",
             "ticks": "outside"
            },
            "colorscale": [
             [
              0,
              "#440154"
             ],
             [
              0.1111111111111111,
              "#482878"
             ],
             [
              0.2222222222222222,
              "#3e4989"
             ],
             [
              0.3333333333333333,
              "#31688e"
             ],
             [
              0.4444444444444444,
              "#26828e"
             ],
             [
              0.5555555555555556,
              "#1f9e89"
             ],
             [
              0.6666666666666666,
              "#35b779"
             ],
             [
              0.7777777777777778,
              "#6ece58"
             ],
             [
              0.8888888888888888,
              "#b5de2b"
             ],
             [
              1,
              "#fde725"
             ]
            ],
            "type": "surface"
           }
          ],
          "table": [
           {
            "cells": {
             "fill": {
              "color": "rgb(237,237,237)"
             },
             "line": {
              "color": "white"
             }
            },
            "header": {
             "fill": {
              "color": "rgb(217,217,217)"
             },
             "line": {
              "color": "white"
             }
            },
            "type": "table"
           }
          ]
         },
         "layout": {
          "annotationdefaults": {
           "arrowhead": 0,
           "arrowwidth": 1
          },
          "autotypenumbers": "strict",
          "coloraxis": {
           "colorbar": {
            "outlinewidth": 1,
            "tickcolor": "rgb(36,36,36)",
            "ticks": "outside"
           }
          },
          "colorscale": {
           "diverging": [
            [
             0,
             "rgb(103,0,31)"
            ],
            [
             0.1,
             "rgb(178,24,43)"
            ],
            [
             0.2,
             "rgb(214,96,77)"
            ],
            [
             0.3,
             "rgb(244,165,130)"
            ],
            [
             0.4,
             "rgb(253,219,199)"
            ],
            [
             0.5,
             "rgb(247,247,247)"
            ],
            [
             0.6,
             "rgb(209,229,240)"
            ],
            [
             0.7,
             "rgb(146,197,222)"
            ],
            [
             0.8,
             "rgb(67,147,195)"
            ],
            [
             0.9,
             "rgb(33,102,172)"
            ],
            [
             1,
             "rgb(5,48,97)"
            ]
           ],
           "sequential": [
            [
             0,
             "#440154"
            ],
            [
             0.1111111111111111,
             "#482878"
            ],
            [
             0.2222222222222222,
             "#3e4989"
            ],
            [
             0.3333333333333333,
             "#31688e"
            ],
            [
             0.4444444444444444,
             "#26828e"
            ],
            [
             0.5555555555555556,
             "#1f9e89"
            ],
            [
             0.6666666666666666,
             "#35b779"
            ],
            [
             0.7777777777777778,
             "#6ece58"
            ],
            [
             0.8888888888888888,
             "#b5de2b"
            ],
            [
             1,
             "#fde725"
            ]
           ],
           "sequentialminus": [
            [
             0,
             "#440154"
            ],
            [
             0.1111111111111111,
             "#482878"
            ],
            [
             0.2222222222222222,
             "#3e4989"
            ],
            [
             0.3333333333333333,
             "#31688e"
            ],
            [
             0.4444444444444444,
             "#26828e"
            ],
            [
             0.5555555555555556,
             "#1f9e89"
            ],
            [
             0.6666666666666666,
             "#35b779"
            ],
            [
             0.7777777777777778,
             "#6ece58"
            ],
            [
             0.8888888888888888,
             "#b5de2b"
            ],
            [
             1,
             "#fde725"
            ]
           ]
          },
          "colorway": [
           "#1F77B4",
           "#FF7F0E",
           "#2CA02C",
           "#D62728",
           "#9467BD",
           "#8C564B",
           "#E377C2",
           "#7F7F7F",
           "#BCBD22",
           "#17BECF"
          ],
          "font": {
           "color": "rgb(36,36,36)"
          },
          "geo": {
           "bgcolor": "white",
           "lakecolor": "white",
           "landcolor": "white",
           "showlakes": true,
           "showland": true,
           "subunitcolor": "white"
          },
          "hoverlabel": {
           "align": "left"
          },
          "hovermode": "closest",
          "mapbox": {
           "style": "light"
          },
          "paper_bgcolor": "white",
          "plot_bgcolor": "white",
          "polar": {
           "angularaxis": {
            "gridcolor": "rgb(232,232,232)",
            "linecolor": "rgb(36,36,36)",
            "showgrid": false,
            "showline": true,
            "ticks": "outside"
           },
           "bgcolor": "white",
           "radialaxis": {
            "gridcolor": "rgb(232,232,232)",
            "linecolor": "rgb(36,36,36)",
            "showgrid": false,
            "showline": true,
            "ticks": "outside"
           }
          },
          "scene": {
           "xaxis": {
            "backgroundcolor": "white",
            "gridcolor": "rgb(232,232,232)",
            "gridwidth": 2,
            "linecolor": "rgb(36,36,36)",
            "showbackground": true,
            "showgrid": false,
            "showline": true,
            "ticks": "outside",
            "zeroline": false,
            "zerolinecolor": "rgb(36,36,36)"
           },
           "yaxis": {
            "backgroundcolor": "white",
            "gridcolor": "rgb(232,232,232)",
            "gridwidth": 2,
            "linecolor": "rgb(36,36,36)",
            "showbackground": true,
            "showgrid": false,
            "showline": true,
            "ticks": "outside",
            "zeroline": false,
            "zerolinecolor": "rgb(36,36,36)"
           },
           "zaxis": {
            "backgroundcolor": "white",
            "gridcolor": "rgb(232,232,232)",
            "gridwidth": 2,
            "linecolor": "rgb(36,36,36)",
            "showbackground": true,
            "showgrid": false,
            "showline": true,
            "ticks": "outside",
            "zeroline": false,
            "zerolinecolor": "rgb(36,36,36)"
           }
          },
          "shapedefaults": {
           "fillcolor": "black",
           "line": {
            "width": 0
           },
           "opacity": 0.3
          },
          "ternary": {
           "aaxis": {
            "gridcolor": "rgb(232,232,232)",
            "linecolor": "rgb(36,36,36)",
            "showgrid": false,
            "showline": true,
            "ticks": "outside"
           },
           "baxis": {
            "gridcolor": "rgb(232,232,232)",
            "linecolor": "rgb(36,36,36)",
            "showgrid": false,
            "showline": true,
            "ticks": "outside"
           },
           "bgcolor": "white",
           "caxis": {
            "gridcolor": "rgb(232,232,232)",
            "linecolor": "rgb(36,36,36)",
            "showgrid": false,
            "showline": true,
            "ticks": "outside"
           }
          },
          "title": {
           "x": 0.05
          },
          "xaxis": {
           "automargin": true,
           "gridcolor": "rgb(232,232,232)",
           "linecolor": "rgb(36,36,36)",
           "showgrid": false,
           "showline": true,
           "ticks": "outside",
           "title": {
            "standoff": 15
           },
           "zeroline": false,
           "zerolinecolor": "rgb(36,36,36)"
          },
          "yaxis": {
           "automargin": true,
           "gridcolor": "rgb(232,232,232)",
           "linecolor": "rgb(36,36,36)",
           "showgrid": false,
           "showline": true,
           "ticks": "outside",
           "title": {
            "standoff": 15
           },
           "zeroline": false,
           "zerolinecolor": "rgb(36,36,36)"
          }
         }
        },
        "title": {
         "font": {
          "color": "Black",
          "size": 22
         },
         "text": "Topics Over Time for 2022Q1",
         "x": 0.4,
         "xanchor": "center",
         "y": 0.95,
         "yanchor": "top"
        },
        "width": 1250,
        "xaxis": {
         "showgrid": true
        },
        "yaxis": {
         "showgrid": true,
         "title": {
          "text": "Frequency"
         }
        }
       }
      }
     },
     "metadata": {},
     "output_type": "display_data"
    },
    {
     "data": {
      "application/vnd.plotly.v1+json": {
       "config": {
        "plotlyServerURL": "https://plot.ly"
       },
       "data": [
        {
         "hoverinfo": "text",
         "hovertext": [
          "<b>Topic 0</b><br>Words: temu, sebut, sampai, pandang, harap",
          "<b>Topic 0</b><br>Words: inklusif, kawal, implementasi, bersamasama, mesti",
          "<b>Topic 0</b><br>Words: inklusif, kawal, bersamasama, mesti, panjang",
          "<b>Topic 0</b><br>Words: inklusif, kawal, bersamasama, mesti, panjang",
          "<b>Topic 0</b><br>Words: ojol, bos, jarak, hitung, sama"
         ],
         "marker": {
          "color": "#E69F00"
         },
         "mode": "lines",
         "name": "0_inklusif_kawal_implementasi_bersamasam...",
         "type": "scatter",
         "x": [
          "2022-05-31T01:32:07+00:00",
          "2022-06-13T18:54:48.266666+00:00",
          "2022-06-15T17:58:02.733333+00:00",
          "2022-06-17T17:01:17.200000+00:00",
          "2022-06-19T16:04:31.666666+00:00"
         ],
         "y": [
          1,
          20,
          4,
          1,
          1
         ]
        },
        {
         "hoverinfo": "text",
         "hovertext": [
          "<b>Topic 1</b><br>Words: indonesia, nasional, tingkat, islam, muslim",
          "<b>Topic 1</b><br>Words: baru, orde, sekat, memang, benar",
          "<b>Topic 1</b><br>Words: panglima, lemhannas, strategis, tni, via",
          "<b>Topic 1</b><br>Words: pandemi, indonesia, ajar, program, vokasi",
          "<b>Topic 1</b><br>Words: model, ajar, intelektual, merdeka, indonesia",
          "<b>Topic 1</b><br>Words: prasarana, sarana, inovasi, bidang, indonesia",
          "<b>Topic 1</b><br>Words: standard, jadi, masalahny, katro, orangorang",
          "<b>Topic 1</b><br>Words: sektor, arah, masyarakat, buat, presiden",
          "<b>Topic 1</b><br>Words: manfaat, infrastruktur, merdeka, mikro, paket",
          "<b>Topic 1</b><br>Words: sebal, miskin, siswa, bantu, layan",
          "<b>Topic 1</b><br>Words: sekolah, amp, siswa, ajar, miskin",
          "<b>Topic 1</b><br>Words: aliansi, indonesia, kait, sampai, pandang",
          "<b>Topic 1</b><br>Words: selenggara, aliansi, indonesia, jokowi, budaya",
          "<b>Topic 1</b><br>Words: indonesia, aliansi, masuk, bawaslu, presiden",
          "<b>Topic 1</b><br>Words: kena, perintah, fungsi, labil, sistim",
          "<b>Topic 1</b><br>Words: sekarang, ajar, buddha, umat, ritual",
          "<b>Topic 1</b><br>Words: tenaga, honorer, sehat, amp, nasib",
          "<b>Topic 1</b><br>Words: bahasa, seaqil, language, asia, seameo",
          "<b>Topic 1</b><br>Words: stabilitas, honorer, aplikasi, indonesia, harga",
          "<b>Topic 1</b><br>Words: seluruh, layan, mang, pulih, kemendikbudristek",
          "<b>Topic 1</b><br>Words: indonesia, bodoh, lengkap, henti, aneka",
          "<b>Topic 1</b><br>Words: survei, tingkat, jang, ristek, kemendikbud",
          "<b>Topic 1</b><br>Words: swasta, tak, baru, boros, duduk",
          "<b>Topic 1</b><br>Words: jurnal, sbmptn, ptt, pp, moga",
          "<b>Topic 1</b><br>Words: jadi, ekonomi, semua, lebih, kurikulum",
          "<b>Topic 1</b><br>Words: ajar, indonesia, rapor, pecat, merdeka",
          "<b>Topic 1</b><br>Words: olahraga, rencana, perempuan, publik, dokumen"
         ],
         "marker": {
          "color": "#56B4E9"
         },
         "mode": "lines",
         "name": "1_indonesia_aliansi_masuk_beri",
         "type": "scatter",
         "x": [
          "2022-05-01T14:18:48.166000+00:00",
          "2022-05-03T14:46:44.466666+00:00",
          "2022-05-05T13:49:58.933333+00:00",
          "2022-05-11T10:59:42.333333+00:00",
          "2022-05-13T10:02:56.800000+00:00",
          "2022-05-15T09:06:11.266666+00:00",
          "2022-05-19T07:12:40.200000+00:00",
          "2022-05-21T06:15:54.666666+00:00",
          "2022-05-23T05:19:09.133333+00:00",
          "2022-05-25T04:22:23.600000+00:00",
          "2022-05-27T03:25:38.066666+00:00",
          "2022-05-29T02:28:52.533333+00:00",
          "2022-05-31T01:32:07+00:00",
          "2022-06-02T00:35:21.466666+00:00",
          "2022-06-03T23:38:35.933333+00:00",
          "2022-06-05T22:41:50.400000+00:00",
          "2022-06-07T21:45:04.866666+00:00",
          "2022-06-09T20:48:19.333333+00:00",
          "2022-06-11T19:51:33.800000+00:00",
          "2022-06-13T18:54:48.266666+00:00",
          "2022-06-15T17:58:02.733333+00:00",
          "2022-06-17T17:01:17.200000+00:00",
          "2022-06-19T16:04:31.666666+00:00",
          "2022-06-21T15:07:46.133333+00:00",
          "2022-06-23T14:11:00.600000+00:00",
          "2022-06-25T13:14:15.066666+00:00",
          "2022-06-27T12:17:29.533333+00:00"
         ],
         "y": [
          5,
          3,
          1,
          14,
          5,
          1,
          2,
          3,
          6,
          11,
          15,
          25,
          6,
          11,
          3,
          6,
          4,
          5,
          7,
          16,
          8,
          7,
          3,
          4,
          7,
          10,
          16
         ]
        }
       ],
       "layout": {
        "height": 450,
        "hoverlabel": {
         "bgcolor": "white",
         "font": {
          "family": "Rockwell",
          "size": 16
         }
        },
        "legend": {
         "title": {
          "text": "<b>Global Topic Representation"
         }
        },
        "template": {
         "data": {
          "bar": [
           {
            "error_x": {
             "color": "rgb(36,36,36)"
            },
            "error_y": {
             "color": "rgb(36,36,36)"
            },
            "marker": {
             "line": {
              "color": "white",
              "width": 0.5
             },
             "pattern": {
              "fillmode": "overlay",
              "size": 10,
              "solidity": 0.2
             }
            },
            "type": "bar"
           }
          ],
          "barpolar": [
           {
            "marker": {
             "line": {
              "color": "white",
              "width": 0.5
             },
             "pattern": {
              "fillmode": "overlay",
              "size": 10,
              "solidity": 0.2
             }
            },
            "type": "barpolar"
           }
          ],
          "carpet": [
           {
            "aaxis": {
             "endlinecolor": "rgb(36,36,36)",
             "gridcolor": "white",
             "linecolor": "white",
             "minorgridcolor": "white",
             "startlinecolor": "rgb(36,36,36)"
            },
            "baxis": {
             "endlinecolor": "rgb(36,36,36)",
             "gridcolor": "white",
             "linecolor": "white",
             "minorgridcolor": "white",
             "startlinecolor": "rgb(36,36,36)"
            },
            "type": "carpet"
           }
          ],
          "choropleth": [
           {
            "colorbar": {
             "outlinewidth": 1,
             "tickcolor": "rgb(36,36,36)",
             "ticks": "outside"
            },
            "type": "choropleth"
           }
          ],
          "contour": [
           {
            "colorbar": {
             "outlinewidth": 1,
             "tickcolor": "rgb(36,36,36)",
             "ticks": "outside"
            },
            "colorscale": [
             [
              0,
              "#440154"
             ],
             [
              0.1111111111111111,
              "#482878"
             ],
             [
              0.2222222222222222,
              "#3e4989"
             ],
             [
              0.3333333333333333,
              "#31688e"
             ],
             [
              0.4444444444444444,
              "#26828e"
             ],
             [
              0.5555555555555556,
              "#1f9e89"
             ],
             [
              0.6666666666666666,
              "#35b779"
             ],
             [
              0.7777777777777778,
              "#6ece58"
             ],
             [
              0.8888888888888888,
              "#b5de2b"
             ],
             [
              1,
              "#fde725"
             ]
            ],
            "type": "contour"
           }
          ],
          "contourcarpet": [
           {
            "colorbar": {
             "outlinewidth": 1,
             "tickcolor": "rgb(36,36,36)",
             "ticks": "outside"
            },
            "type": "contourcarpet"
           }
          ],
          "heatmap": [
           {
            "colorbar": {
             "outlinewidth": 1,
             "tickcolor": "rgb(36,36,36)",
             "ticks": "outside"
            },
            "colorscale": [
             [
              0,
              "#440154"
             ],
             [
              0.1111111111111111,
              "#482878"
             ],
             [
              0.2222222222222222,
              "#3e4989"
             ],
             [
              0.3333333333333333,
              "#31688e"
             ],
             [
              0.4444444444444444,
              "#26828e"
             ],
             [
              0.5555555555555556,
              "#1f9e89"
             ],
             [
              0.6666666666666666,
              "#35b779"
             ],
             [
              0.7777777777777778,
              "#6ece58"
             ],
             [
              0.8888888888888888,
              "#b5de2b"
             ],
             [
              1,
              "#fde725"
             ]
            ],
            "type": "heatmap"
           }
          ],
          "heatmapgl": [
           {
            "colorbar": {
             "outlinewidth": 1,
             "tickcolor": "rgb(36,36,36)",
             "ticks": "outside"
            },
            "colorscale": [
             [
              0,
              "#440154"
             ],
             [
              0.1111111111111111,
              "#482878"
             ],
             [
              0.2222222222222222,
              "#3e4989"
             ],
             [
              0.3333333333333333,
              "#31688e"
             ],
             [
              0.4444444444444444,
              "#26828e"
             ],
             [
              0.5555555555555556,
              "#1f9e89"
             ],
             [
              0.6666666666666666,
              "#35b779"
             ],
             [
              0.7777777777777778,
              "#6ece58"
             ],
             [
              0.8888888888888888,
              "#b5de2b"
             ],
             [
              1,
              "#fde725"
             ]
            ],
            "type": "heatmapgl"
           }
          ],
          "histogram": [
           {
            "marker": {
             "line": {
              "color": "white",
              "width": 0.6
             }
            },
            "type": "histogram"
           }
          ],
          "histogram2d": [
           {
            "colorbar": {
             "outlinewidth": 1,
             "tickcolor": "rgb(36,36,36)",
             "ticks": "outside"
            },
            "colorscale": [
             [
              0,
              "#440154"
             ],
             [
              0.1111111111111111,
              "#482878"
             ],
             [
              0.2222222222222222,
              "#3e4989"
             ],
             [
              0.3333333333333333,
              "#31688e"
             ],
             [
              0.4444444444444444,
              "#26828e"
             ],
             [
              0.5555555555555556,
              "#1f9e89"
             ],
             [
              0.6666666666666666,
              "#35b779"
             ],
             [
              0.7777777777777778,
              "#6ece58"
             ],
             [
              0.8888888888888888,
              "#b5de2b"
             ],
             [
              1,
              "#fde725"
             ]
            ],
            "type": "histogram2d"
           }
          ],
          "histogram2dcontour": [
           {
            "colorbar": {
             "outlinewidth": 1,
             "tickcolor": "rgb(36,36,36)",
             "ticks": "outside"
            },
            "colorscale": [
             [
              0,
              "#440154"
             ],
             [
              0.1111111111111111,
              "#482878"
             ],
             [
              0.2222222222222222,
              "#3e4989"
             ],
             [
              0.3333333333333333,
              "#31688e"
             ],
             [
              0.4444444444444444,
              "#26828e"
             ],
             [
              0.5555555555555556,
              "#1f9e89"
             ],
             [
              0.6666666666666666,
              "#35b779"
             ],
             [
              0.7777777777777778,
              "#6ece58"
             ],
             [
              0.8888888888888888,
              "#b5de2b"
             ],
             [
              1,
              "#fde725"
             ]
            ],
            "type": "histogram2dcontour"
           }
          ],
          "mesh3d": [
           {
            "colorbar": {
             "outlinewidth": 1,
             "tickcolor": "rgb(36,36,36)",
             "ticks": "outside"
            },
            "type": "mesh3d"
           }
          ],
          "parcoords": [
           {
            "line": {
             "colorbar": {
              "outlinewidth": 1,
              "tickcolor": "rgb(36,36,36)",
              "ticks": "outside"
             }
            },
            "type": "parcoords"
           }
          ],
          "pie": [
           {
            "automargin": true,
            "type": "pie"
           }
          ],
          "scatter": [
           {
            "fillpattern": {
             "fillmode": "overlay",
             "size": 10,
             "solidity": 0.2
            },
            "type": "scatter"
           }
          ],
          "scatter3d": [
           {
            "line": {
             "colorbar": {
              "outlinewidth": 1,
              "tickcolor": "rgb(36,36,36)",
              "ticks": "outside"
             }
            },
            "marker": {
             "colorbar": {
              "outlinewidth": 1,
              "tickcolor": "rgb(36,36,36)",
              "ticks": "outside"
             }
            },
            "type": "scatter3d"
           }
          ],
          "scattercarpet": [
           {
            "marker": {
             "colorbar": {
              "outlinewidth": 1,
              "tickcolor": "rgb(36,36,36)",
              "ticks": "outside"
             }
            },
            "type": "scattercarpet"
           }
          ],
          "scattergeo": [
           {
            "marker": {
             "colorbar": {
              "outlinewidth": 1,
              "tickcolor": "rgb(36,36,36)",
              "ticks": "outside"
             }
            },
            "type": "scattergeo"
           }
          ],
          "scattergl": [
           {
            "marker": {
             "colorbar": {
              "outlinewidth": 1,
              "tickcolor": "rgb(36,36,36)",
              "ticks": "outside"
             }
            },
            "type": "scattergl"
           }
          ],
          "scattermapbox": [
           {
            "marker": {
             "colorbar": {
              "outlinewidth": 1,
              "tickcolor": "rgb(36,36,36)",
              "ticks": "outside"
             }
            },
            "type": "scattermapbox"
           }
          ],
          "scatterpolar": [
           {
            "marker": {
             "colorbar": {
              "outlinewidth": 1,
              "tickcolor": "rgb(36,36,36)",
              "ticks": "outside"
             }
            },
            "type": "scatterpolar"
           }
          ],
          "scatterpolargl": [
           {
            "marker": {
             "colorbar": {
              "outlinewidth": 1,
              "tickcolor": "rgb(36,36,36)",
              "ticks": "outside"
             }
            },
            "type": "scatterpolargl"
           }
          ],
          "scatterternary": [
           {
            "marker": {
             "colorbar": {
              "outlinewidth": 1,
              "tickcolor": "rgb(36,36,36)",
              "ticks": "outside"
             }
            },
            "type": "scatterternary"
           }
          ],
          "surface": [
           {
            "colorbar": {
             "outlinewidth": 1,
             "tickcolor": "rgb(36,36,36)",
             "ticks": "outside"
            },
            "colorscale": [
             [
              0,
              "#440154"
             ],
             [
              0.1111111111111111,
              "#482878"
             ],
             [
              0.2222222222222222,
              "#3e4989"
             ],
             [
              0.3333333333333333,
              "#31688e"
             ],
             [
              0.4444444444444444,
              "#26828e"
             ],
             [
              0.5555555555555556,
              "#1f9e89"
             ],
             [
              0.6666666666666666,
              "#35b779"
             ],
             [
              0.7777777777777778,
              "#6ece58"
             ],
             [
              0.8888888888888888,
              "#b5de2b"
             ],
             [
              1,
              "#fde725"
             ]
            ],
            "type": "surface"
           }
          ],
          "table": [
           {
            "cells": {
             "fill": {
              "color": "rgb(237,237,237)"
             },
             "line": {
              "color": "white"
             }
            },
            "header": {
             "fill": {
              "color": "rgb(217,217,217)"
             },
             "line": {
              "color": "white"
             }
            },
            "type": "table"
           }
          ]
         },
         "layout": {
          "annotationdefaults": {
           "arrowhead": 0,
           "arrowwidth": 1
          },
          "autotypenumbers": "strict",
          "coloraxis": {
           "colorbar": {
            "outlinewidth": 1,
            "tickcolor": "rgb(36,36,36)",
            "ticks": "outside"
           }
          },
          "colorscale": {
           "diverging": [
            [
             0,
             "rgb(103,0,31)"
            ],
            [
             0.1,
             "rgb(178,24,43)"
            ],
            [
             0.2,
             "rgb(214,96,77)"
            ],
            [
             0.3,
             "rgb(244,165,130)"
            ],
            [
             0.4,
             "rgb(253,219,199)"
            ],
            [
             0.5,
             "rgb(247,247,247)"
            ],
            [
             0.6,
             "rgb(209,229,240)"
            ],
            [
             0.7,
             "rgb(146,197,222)"
            ],
            [
             0.8,
             "rgb(67,147,195)"
            ],
            [
             0.9,
             "rgb(33,102,172)"
            ],
            [
             1,
             "rgb(5,48,97)"
            ]
           ],
           "sequential": [
            [
             0,
             "#440154"
            ],
            [
             0.1111111111111111,
             "#482878"
            ],
            [
             0.2222222222222222,
             "#3e4989"
            ],
            [
             0.3333333333333333,
             "#31688e"
            ],
            [
             0.4444444444444444,
             "#26828e"
            ],
            [
             0.5555555555555556,
             "#1f9e89"
            ],
            [
             0.6666666666666666,
             "#35b779"
            ],
            [
             0.7777777777777778,
             "#6ece58"
            ],
            [
             0.8888888888888888,
             "#b5de2b"
            ],
            [
             1,
             "#fde725"
            ]
           ],
           "sequentialminus": [
            [
             0,
             "#440154"
            ],
            [
             0.1111111111111111,
             "#482878"
            ],
            [
             0.2222222222222222,
             "#3e4989"
            ],
            [
             0.3333333333333333,
             "#31688e"
            ],
            [
             0.4444444444444444,
             "#26828e"
            ],
            [
             0.5555555555555556,
             "#1f9e89"
            ],
            [
             0.6666666666666666,
             "#35b779"
            ],
            [
             0.7777777777777778,
             "#6ece58"
            ],
            [
             0.8888888888888888,
             "#b5de2b"
            ],
            [
             1,
             "#fde725"
            ]
           ]
          },
          "colorway": [
           "#1F77B4",
           "#FF7F0E",
           "#2CA02C",
           "#D62728",
           "#9467BD",
           "#8C564B",
           "#E377C2",
           "#7F7F7F",
           "#BCBD22",
           "#17BECF"
          ],
          "font": {
           "color": "rgb(36,36,36)"
          },
          "geo": {
           "bgcolor": "white",
           "lakecolor": "white",
           "landcolor": "white",
           "showlakes": true,
           "showland": true,
           "subunitcolor": "white"
          },
          "hoverlabel": {
           "align": "left"
          },
          "hovermode": "closest",
          "mapbox": {
           "style": "light"
          },
          "paper_bgcolor": "white",
          "plot_bgcolor": "white",
          "polar": {
           "angularaxis": {
            "gridcolor": "rgb(232,232,232)",
            "linecolor": "rgb(36,36,36)",
            "showgrid": false,
            "showline": true,
            "ticks": "outside"
           },
           "bgcolor": "white",
           "radialaxis": {
            "gridcolor": "rgb(232,232,232)",
            "linecolor": "rgb(36,36,36)",
            "showgrid": false,
            "showline": true,
            "ticks": "outside"
           }
          },
          "scene": {
           "xaxis": {
            "backgroundcolor": "white",
            "gridcolor": "rgb(232,232,232)",
            "gridwidth": 2,
            "linecolor": "rgb(36,36,36)",
            "showbackground": true,
            "showgrid": false,
            "showline": true,
            "ticks": "outside",
            "zeroline": false,
            "zerolinecolor": "rgb(36,36,36)"
           },
           "yaxis": {
            "backgroundcolor": "white",
            "gridcolor": "rgb(232,232,232)",
            "gridwidth": 2,
            "linecolor": "rgb(36,36,36)",
            "showbackground": true,
            "showgrid": false,
            "showline": true,
            "ticks": "outside",
            "zeroline": false,
            "zerolinecolor": "rgb(36,36,36)"
           },
           "zaxis": {
            "backgroundcolor": "white",
            "gridcolor": "rgb(232,232,232)",
            "gridwidth": 2,
            "linecolor": "rgb(36,36,36)",
            "showbackground": true,
            "showgrid": false,
            "showline": true,
            "ticks": "outside",
            "zeroline": false,
            "zerolinecolor": "rgb(36,36,36)"
           }
          },
          "shapedefaults": {
           "fillcolor": "black",
           "line": {
            "width": 0
           },
           "opacity": 0.3
          },
          "ternary": {
           "aaxis": {
            "gridcolor": "rgb(232,232,232)",
            "linecolor": "rgb(36,36,36)",
            "showgrid": false,
            "showline": true,
            "ticks": "outside"
           },
           "baxis": {
            "gridcolor": "rgb(232,232,232)",
            "linecolor": "rgb(36,36,36)",
            "showgrid": false,
            "showline": true,
            "ticks": "outside"
           },
           "bgcolor": "white",
           "caxis": {
            "gridcolor": "rgb(232,232,232)",
            "linecolor": "rgb(36,36,36)",
            "showgrid": false,
            "showline": true,
            "ticks": "outside"
           }
          },
          "title": {
           "x": 0.05
          },
          "xaxis": {
           "automargin": true,
           "gridcolor": "rgb(232,232,232)",
           "linecolor": "rgb(36,36,36)",
           "showgrid": false,
           "showline": true,
           "ticks": "outside",
           "title": {
            "standoff": 15
           },
           "zeroline": false,
           "zerolinecolor": "rgb(36,36,36)"
          },
          "yaxis": {
           "automargin": true,
           "gridcolor": "rgb(232,232,232)",
           "linecolor": "rgb(36,36,36)",
           "showgrid": false,
           "showline": true,
           "ticks": "outside",
           "title": {
            "standoff": 15
           },
           "zeroline": false,
           "zerolinecolor": "rgb(36,36,36)"
          }
         }
        },
        "title": {
         "font": {
          "color": "Black",
          "size": 22
         },
         "text": "Topics Over Time for 2022Q2",
         "x": 0.4,
         "xanchor": "center",
         "y": 0.95,
         "yanchor": "top"
        },
        "width": 1250,
        "xaxis": {
         "showgrid": true
        },
        "yaxis": {
         "showgrid": true,
         "title": {
          "text": "Frequency"
         }
        }
       }
      }
     },
     "metadata": {},
     "output_type": "display_data"
    },
    {
     "data": {
      "application/vnd.plotly.v1+json": {
       "config": {
        "plotlyServerURL": "https://plot.ly"
       },
       "data": [
        {
         "hoverinfo": "text",
         "hovertext": [
          "<b>Topic 0</b><br>Words: indonesia, ekonomi, bidang, ajar, usung",
          "<b>Topic 0</b><br>Words: sih, apa, puskot, pokokpokok, aspek",
          "<b>Topic 0</b><br>Words: konflik, diametral, timbul, bur, babak",
          "<b>Topic 0</b><br>Words: indonesia, intervensi, beasiswa, terus, sekaligus",
          "<b>Topic 0</b><br>Words: advokasi, laku, tunggutunggu, cek, lho",
          "<b>Topic 0</b><br>Words: taiwan, investor, china, chip, aneh",
          "<b>Topic 0</b><br>Words: indonesia, maupun, pinggir, realita, progam",
          "<b>Topic 0</b><br>Words: papua, dob, indonesia, muda, maju",
          "<b>Topic 0</b><br>Words: rapor, indonesia, kemendikbudristek, coming, soon",
          "<b>Topic 0</b><br>Words: mahasiswa, amp, baru, indonesia, papua",
          "<b>Topic 0</b><br>Words: papua, beasiswa, asal, warga, kuota",
          "<b>Topic 0</b><br>Words: menkeu, rapbn, adaptasi, pasca, fokus",
          "<b>Topic 0</b><br>Words: berita, jambi, bbm, sesuai, bantu"
         ],
         "marker": {
          "color": "#E69F00"
         },
         "mode": "lines",
         "name": "0_indonesia_papua_ajar_merdeka",
         "type": "scatter",
         "x": [
          "2022-07-17T00:46:03.800000+00:00",
          "2022-07-19T21:52:00.500000+00:00",
          "2022-07-22T18:57:57.200000+00:00",
          "2022-07-25T16:03:53.900000+00:00",
          "2022-07-28T13:09:50.600000+00:00",
          "2022-07-31T10:15:47.300000+00:00",
          "2022-08-03T07:21:44+00:00",
          "2022-08-06T04:27:40.700000+00:00",
          "2022-08-09T01:33:37.400000+00:00",
          "2022-08-11T22:39:34.100000+00:00",
          "2022-08-20T13:57:24.200000+00:00",
          "2022-08-29T05:15:14.300000+00:00",
          "2022-09-27T00:14:41.300000+00:00"
         ],
         "y": [
          7,
          1,
          1,
          4,
          2,
          1,
          2,
          3,
          2,
          1,
          3,
          1,
          1
         ]
        },
        {
         "hoverinfo": "text",
         "hovertext": [
          "<b>Topic 1</b><br>Words: tpk, besok, islam, temu, dinas",
          "<b>Topic 1</b><br>Words: pesantren, diniyah, bubar, cabut, waryono",
          "<b>Topic 1</b><br>Words: nugroho, sian, mpp, agie, talkshow",
          "<b>Topic 1</b><br>Words: bupati, zamjani, ngawi, standart, anwar",
          "<b>Topic 1</b><br>Words: utara, halmahera, bapak, bahasa, tobelo",
          "<b>Topic 1</b><br>Words: agama, islam, positif, mando, sidenreng",
          "<b>Topic 1</b><br>Words: dpd, ketua, ri, gap, lanyalla",
          "<b>Topic 1</b><br>Words: banyuwangi, ratus, wicaksono, gubernur, den",
          "<b>Topic 1</b><br>Words: podcast, kp, dengar, youtube, ikan",
          "<b>Topic 1</b><br>Words: indramayu, kab, jalin, penandatanganan, tandatangin",
          "<b>Topic 1</b><br>Words: muhammadiyah, tinggi, islam, ketua, mughni"
         ],
         "marker": {
          "color": "#56B4E9"
         },
         "mode": "lines",
         "name": "1_islam_agama_ketua_ri",
         "type": "scatter",
         "x": [
          "2022-07-05T10:17:54.299000+00:00",
          "2022-07-08T09:28:13.700000+00:00",
          "2022-07-17T00:46:03.800000+00:00",
          "2022-07-19T21:52:00.500000+00:00",
          "2022-07-22T18:57:57.200000+00:00",
          "2022-07-25T16:03:53.900000+00:00",
          "2022-07-31T10:15:47.300000+00:00",
          "2022-08-06T04:27:40.700000+00:00",
          "2022-08-09T01:33:37.400000+00:00",
          "2022-08-14T19:45:30.800000+00:00",
          "2022-08-26T08:09:17.600000+00:00"
         ],
         "y": [
          2,
          1,
          3,
          1,
          2,
          3,
          3,
          3,
          1,
          1,
          4
         ]
        },
        {
         "hoverinfo": "text",
         "hovertext": [
          "<b>Topic 2</b><br>Words: menteri, kolonial, waris, narendra, bicara",
          "<b>Topic 2</b><br>Words: merdeka, menteri, program, mkbm, kampus",
          "<b>Topic 2</b><br>Words: merdeka, menteri, luncur, kampus, kemendikbudristek",
          "<b>Topic 2</b><br>Words: merdeka, kampus, trisula, wirausaha, menteri",
          "<b>Topic 2</b><br>Words: merdeka, kampus, menteri, budaya, luncur",
          "<b>Topic 2</b><br>Words: spk, jember, merdeka, sosialisasi, kurikulum",
          "<b>Topic 2</b><br>Words: komputer, bas, nasional, asesmen, kemdikbudristek",
          "<b>Topic 2</b><br>Words: kampus, merdeka, kaya, ajar, kompetensi",
          "<b>Topic 2</b><br>Words: bahasa, menteri, merdeka, budaya, kampus",
          "<b>Topic 2</b><br>Words: ajar, hayat, multi, exit, entrymulti",
          "<b>Topic 2</b><br>Words: mbkm, merdeka, tan, maros, polbangtan"
         ],
         "marker": {
          "color": "#009E73"
         },
         "mode": "lines",
         "name": "2_merdeka_menteri_kampus_budaya",
         "type": "scatter",
         "x": [
          "2022-07-05T10:17:54.299000+00:00",
          "2022-07-11T06:34:10.400000+00:00",
          "2022-07-14T03:40:07.100000+00:00",
          "2022-07-17T00:46:03.800000+00:00",
          "2022-07-19T21:52:00.500000+00:00",
          "2022-07-25T16:03:53.900000+00:00",
          "2022-07-28T13:09:50.600000+00:00",
          "2022-07-31T10:15:47.300000+00:00",
          "2022-08-06T04:27:40.700000+00:00",
          "2022-08-20T13:57:24.200000+00:00",
          "2022-08-29T05:15:14.300000+00:00"
         ],
         "y": [
          1,
          3,
          2,
          4,
          4,
          2,
          1,
          1,
          3,
          1,
          1
         ]
        },
        {
         "hoverinfo": "text",
         "hovertext": [
          "<b>Topic 3</b><br>Words: korban, hak, amp, kerangka, ngidenya",
          "<b>Topic 3</b><br>Words: problem, sistem, bikin, buat, baru",
          "<b>Topic 3</b><br>Words: dewan, anggota, tumbuh, bayar, muhammadiyah",
          "<b>Topic 3</b><br>Words: maju, lebih, jitu, pertama, ialah",
          "<b>Topic 3</b><br>Words: program, rangkai, benah, vokasi, upaya",
          "<b>Topic 3</b><br>Words: makan, bahaya, ospek, puluh, soal",
          "<b>Topic 3</b><br>Words: makin, dar, nyata, wenang, gratis",
          "<b>Topic 3</b><br>Words: jilbab, tri, korelasi, bangsa, masa",
          "<b>Topic 3</b><br>Words: ganti, nyata, baik, dunia, gonjang",
          "<b>Topic 3</b><br>Words: ghozali, nft, tahun, lalu, spanyol",
          "<b>Topic 3</b><br>Words: tumpang, hancur, acak, lena, tegak",
          "<b>Topic 3</b><br>Words: hapus, ganteng, pusing, foto, oppa",
          "<b>Topic 3</b><br>Words: suharto, pimpin, punya, lihat, ktk",
          "<b>Topic 3</b><br>Words: tua, orang, bangun, joko, komunitas",
          "<b>Topic 3</b><br>Words: amp, mempolitisir, tlh, parpol, suap",
          "<b>Topic 3</b><br>Words: pikir, rugi, serba, startup, resource"
         ],
         "marker": {
          "color": "#F0E442"
         },
         "mode": "lines",
         "name": "3_baru_buat_jadi_nyata",
         "type": "scatter",
         "x": [
          "2022-07-08T09:28:13.700000+00:00",
          "2022-07-11T06:34:10.400000+00:00",
          "2022-07-14T03:40:07.100000+00:00",
          "2022-07-17T00:46:03.800000+00:00",
          "2022-07-19T21:52:00.500000+00:00",
          "2022-07-22T18:57:57.200000+00:00",
          "2022-07-25T16:03:53.900000+00:00",
          "2022-07-28T13:09:50.600000+00:00",
          "2022-07-31T10:15:47.300000+00:00",
          "2022-08-03T07:21:44+00:00",
          "2022-08-06T04:27:40.700000+00:00",
          "2022-08-09T01:33:37.400000+00:00",
          "2022-08-11T22:39:34.100000+00:00",
          "2022-08-14T19:45:30.800000+00:00",
          "2022-08-23T11:03:20.900000+00:00",
          "2022-09-27T00:14:41.300000+00:00"
         ],
         "y": [
          2,
          2,
          6,
          2,
          1,
          1,
          4,
          2,
          2,
          2,
          1,
          1,
          2,
          2,
          1,
          1
         ]
        },
        {
         "hoverinfo": "text",
         "hovertext": [
          "<b>Topic 4</b><br>Words: kritisi, jadi, atur, guru, pasif",
          "<b>Topic 4</b><br>Words: mahal, sekolah, malas, jam, memang",
          "<b>Topic 4</b><br>Words: anak, harap, besar, pupus, ga",
          "<b>Topic 4</b><br>Words: guru, gerak, solusi, nadiem, depan",
          "<b>Topic 4</b><br>Words: akun, tri, yt, drive, tuh",
          "<b>Topic 4</b><br>Words: wates, kuliah, enggak, main, jodoh",
          "<b>Topic 4</b><br>Words: anak, emak, jaga, malah, lpdp",
          "<b>Topic 4</b><br>Words: enggak, pakar, apa, oknum, indak",
          "<b>Topic 4</b><br>Words: layan, guna, publik, jadi, birokrasi",
          "<b>Topic 4</b><br>Words: kurikulum, ikhtiar, film, sekolah, dalih",
          "<b>Topic 4</b><br>Words: setinggi, adalan, mungkin, kunci, salah",
          "<b>Topic 4</b><br>Words: negeri, jadi, sendiri, bukan, pak",
          "<b>Topic 4</b><br>Words: enggak, pejabt, suruh, nakal, ngeremehin",
          "<b>Topic 4</b><br>Words: mentok, gin, sejahtera, guru, beban"
         ],
         "marker": {
          "color": "#D55E00"
         },
         "mode": "lines",
         "name": "4_guru_jadi_enggak_sekolah",
         "type": "scatter",
         "x": [
          "2022-07-08T09:28:13.700000+00:00",
          "2022-07-11T06:34:10.400000+00:00",
          "2022-07-17T00:46:03.800000+00:00",
          "2022-07-19T21:52:00.500000+00:00",
          "2022-07-22T18:57:57.200000+00:00",
          "2022-07-25T16:03:53.900000+00:00",
          "2022-07-28T13:09:50.600000+00:00",
          "2022-07-31T10:15:47.300000+00:00",
          "2022-08-03T07:21:44+00:00",
          "2022-08-14T19:45:30.800000+00:00",
          "2022-08-23T11:03:20.900000+00:00",
          "2022-08-26T08:09:17.600000+00:00",
          "2022-08-29T05:15:14.300000+00:00",
          "2022-09-27T00:14:41.300000+00:00"
         ],
         "y": [
          3,
          2,
          2,
          5,
          1,
          1,
          2,
          3,
          1,
          2,
          1,
          3,
          1,
          1
         ]
        }
       ],
       "layout": {
        "height": 450,
        "hoverlabel": {
         "bgcolor": "white",
         "font": {
          "family": "Rockwell",
          "size": 16
         }
        },
        "legend": {
         "title": {
          "text": "<b>Global Topic Representation"
         }
        },
        "template": {
         "data": {
          "bar": [
           {
            "error_x": {
             "color": "rgb(36,36,36)"
            },
            "error_y": {
             "color": "rgb(36,36,36)"
            },
            "marker": {
             "line": {
              "color": "white",
              "width": 0.5
             },
             "pattern": {
              "fillmode": "overlay",
              "size": 10,
              "solidity": 0.2
             }
            },
            "type": "bar"
           }
          ],
          "barpolar": [
           {
            "marker": {
             "line": {
              "color": "white",
              "width": 0.5
             },
             "pattern": {
              "fillmode": "overlay",
              "size": 10,
              "solidity": 0.2
             }
            },
            "type": "barpolar"
           }
          ],
          "carpet": [
           {
            "aaxis": {
             "endlinecolor": "rgb(36,36,36)",
             "gridcolor": "white",
             "linecolor": "white",
             "minorgridcolor": "white",
             "startlinecolor": "rgb(36,36,36)"
            },
            "baxis": {
             "endlinecolor": "rgb(36,36,36)",
             "gridcolor": "white",
             "linecolor": "white",
             "minorgridcolor": "white",
             "startlinecolor": "rgb(36,36,36)"
            },
            "type": "carpet"
           }
          ],
          "choropleth": [
           {
            "colorbar": {
             "outlinewidth": 1,
             "tickcolor": "rgb(36,36,36)",
             "ticks": "outside"
            },
            "type": "choropleth"
           }
          ],
          "contour": [
           {
            "colorbar": {
             "outlinewidth": 1,
             "tickcolor": "rgb(36,36,36)",
             "ticks": "outside"
            },
            "colorscale": [
             [
              0,
              "#440154"
             ],
             [
              0.1111111111111111,
              "#482878"
             ],
             [
              0.2222222222222222,
              "#3e4989"
             ],
             [
              0.3333333333333333,
              "#31688e"
             ],
             [
              0.4444444444444444,
              "#26828e"
             ],
             [
              0.5555555555555556,
              "#1f9e89"
             ],
             [
              0.6666666666666666,
              "#35b779"
             ],
             [
              0.7777777777777778,
              "#6ece58"
             ],
             [
              0.8888888888888888,
              "#b5de2b"
             ],
             [
              1,
              "#fde725"
             ]
            ],
            "type": "contour"
           }
          ],
          "contourcarpet": [
           {
            "colorbar": {
             "outlinewidth": 1,
             "tickcolor": "rgb(36,36,36)",
             "ticks": "outside"
            },
            "type": "contourcarpet"
           }
          ],
          "heatmap": [
           {
            "colorbar": {
             "outlinewidth": 1,
             "tickcolor": "rgb(36,36,36)",
             "ticks": "outside"
            },
            "colorscale": [
             [
              0,
              "#440154"
             ],
             [
              0.1111111111111111,
              "#482878"
             ],
             [
              0.2222222222222222,
              "#3e4989"
             ],
             [
              0.3333333333333333,
              "#31688e"
             ],
             [
              0.4444444444444444,
              "#26828e"
             ],
             [
              0.5555555555555556,
              "#1f9e89"
             ],
             [
              0.6666666666666666,
              "#35b779"
             ],
             [
              0.7777777777777778,
              "#6ece58"
             ],
             [
              0.8888888888888888,
              "#b5de2b"
             ],
             [
              1,
              "#fde725"
             ]
            ],
            "type": "heatmap"
           }
          ],
          "heatmapgl": [
           {
            "colorbar": {
             "outlinewidth": 1,
             "tickcolor": "rgb(36,36,36)",
             "ticks": "outside"
            },
            "colorscale": [
             [
              0,
              "#440154"
             ],
             [
              0.1111111111111111,
              "#482878"
             ],
             [
              0.2222222222222222,
              "#3e4989"
             ],
             [
              0.3333333333333333,
              "#31688e"
             ],
             [
              0.4444444444444444,
              "#26828e"
             ],
             [
              0.5555555555555556,
              "#1f9e89"
             ],
             [
              0.6666666666666666,
              "#35b779"
             ],
             [
              0.7777777777777778,
              "#6ece58"
             ],
             [
              0.8888888888888888,
              "#b5de2b"
             ],
             [
              1,
              "#fde725"
             ]
            ],
            "type": "heatmapgl"
           }
          ],
          "histogram": [
           {
            "marker": {
             "line": {
              "color": "white",
              "width": 0.6
             }
            },
            "type": "histogram"
           }
          ],
          "histogram2d": [
           {
            "colorbar": {
             "outlinewidth": 1,
             "tickcolor": "rgb(36,36,36)",
             "ticks": "outside"
            },
            "colorscale": [
             [
              0,
              "#440154"
             ],
             [
              0.1111111111111111,
              "#482878"
             ],
             [
              0.2222222222222222,
              "#3e4989"
             ],
             [
              0.3333333333333333,
              "#31688e"
             ],
             [
              0.4444444444444444,
              "#26828e"
             ],
             [
              0.5555555555555556,
              "#1f9e89"
             ],
             [
              0.6666666666666666,
              "#35b779"
             ],
             [
              0.7777777777777778,
              "#6ece58"
             ],
             [
              0.8888888888888888,
              "#b5de2b"
             ],
             [
              1,
              "#fde725"
             ]
            ],
            "type": "histogram2d"
           }
          ],
          "histogram2dcontour": [
           {
            "colorbar": {
             "outlinewidth": 1,
             "tickcolor": "rgb(36,36,36)",
             "ticks": "outside"
            },
            "colorscale": [
             [
              0,
              "#440154"
             ],
             [
              0.1111111111111111,
              "#482878"
             ],
             [
              0.2222222222222222,
              "#3e4989"
             ],
             [
              0.3333333333333333,
              "#31688e"
             ],
             [
              0.4444444444444444,
              "#26828e"
             ],
             [
              0.5555555555555556,
              "#1f9e89"
             ],
             [
              0.6666666666666666,
              "#35b779"
             ],
             [
              0.7777777777777778,
              "#6ece58"
             ],
             [
              0.8888888888888888,
              "#b5de2b"
             ],
             [
              1,
              "#fde725"
             ]
            ],
            "type": "histogram2dcontour"
           }
          ],
          "mesh3d": [
           {
            "colorbar": {
             "outlinewidth": 1,
             "tickcolor": "rgb(36,36,36)",
             "ticks": "outside"
            },
            "type": "mesh3d"
           }
          ],
          "parcoords": [
           {
            "line": {
             "colorbar": {
              "outlinewidth": 1,
              "tickcolor": "rgb(36,36,36)",
              "ticks": "outside"
             }
            },
            "type": "parcoords"
           }
          ],
          "pie": [
           {
            "automargin": true,
            "type": "pie"
           }
          ],
          "scatter": [
           {
            "fillpattern": {
             "fillmode": "overlay",
             "size": 10,
             "solidity": 0.2
            },
            "type": "scatter"
           }
          ],
          "scatter3d": [
           {
            "line": {
             "colorbar": {
              "outlinewidth": 1,
              "tickcolor": "rgb(36,36,36)",
              "ticks": "outside"
             }
            },
            "marker": {
             "colorbar": {
              "outlinewidth": 1,
              "tickcolor": "rgb(36,36,36)",
              "ticks": "outside"
             }
            },
            "type": "scatter3d"
           }
          ],
          "scattercarpet": [
           {
            "marker": {
             "colorbar": {
              "outlinewidth": 1,
              "tickcolor": "rgb(36,36,36)",
              "ticks": "outside"
             }
            },
            "type": "scattercarpet"
           }
          ],
          "scattergeo": [
           {
            "marker": {
             "colorbar": {
              "outlinewidth": 1,
              "tickcolor": "rgb(36,36,36)",
              "ticks": "outside"
             }
            },
            "type": "scattergeo"
           }
          ],
          "scattergl": [
           {
            "marker": {
             "colorbar": {
              "outlinewidth": 1,
              "tickcolor": "rgb(36,36,36)",
              "ticks": "outside"
             }
            },
            "type": "scattergl"
           }
          ],
          "scattermapbox": [
           {
            "marker": {
             "colorbar": {
              "outlinewidth": 1,
              "tickcolor": "rgb(36,36,36)",
              "ticks": "outside"
             }
            },
            "type": "scattermapbox"
           }
          ],
          "scatterpolar": [
           {
            "marker": {
             "colorbar": {
              "outlinewidth": 1,
              "tickcolor": "rgb(36,36,36)",
              "ticks": "outside"
             }
            },
            "type": "scatterpolar"
           }
          ],
          "scatterpolargl": [
           {
            "marker": {
             "colorbar": {
              "outlinewidth": 1,
              "tickcolor": "rgb(36,36,36)",
              "ticks": "outside"
             }
            },
            "type": "scatterpolargl"
           }
          ],
          "scatterternary": [
           {
            "marker": {
             "colorbar": {
              "outlinewidth": 1,
              "tickcolor": "rgb(36,36,36)",
              "ticks": "outside"
             }
            },
            "type": "scatterternary"
           }
          ],
          "surface": [
           {
            "colorbar": {
             "outlinewidth": 1,
             "tickcolor": "rgb(36,36,36)",
             "ticks": "outside"
            },
            "colorscale": [
             [
              0,
              "#440154"
             ],
             [
              0.1111111111111111,
              "#482878"
             ],
             [
              0.2222222222222222,
              "#3e4989"
             ],
             [
              0.3333333333333333,
              "#31688e"
             ],
             [
              0.4444444444444444,
              "#26828e"
             ],
             [
              0.5555555555555556,
              "#1f9e89"
             ],
             [
              0.6666666666666666,
              "#35b779"
             ],
             [
              0.7777777777777778,
              "#6ece58"
             ],
             [
              0.8888888888888888,
              "#b5de2b"
             ],
             [
              1,
              "#fde725"
             ]
            ],
            "type": "surface"
           }
          ],
          "table": [
           {
            "cells": {
             "fill": {
              "color": "rgb(237,237,237)"
             },
             "line": {
              "color": "white"
             }
            },
            "header": {
             "fill": {
              "color": "rgb(217,217,217)"
             },
             "line": {
              "color": "white"
             }
            },
            "type": "table"
           }
          ]
         },
         "layout": {
          "annotationdefaults": {
           "arrowhead": 0,
           "arrowwidth": 1
          },
          "autotypenumbers": "strict",
          "coloraxis": {
           "colorbar": {
            "outlinewidth": 1,
            "tickcolor": "rgb(36,36,36)",
            "ticks": "outside"
           }
          },
          "colorscale": {
           "diverging": [
            [
             0,
             "rgb(103,0,31)"
            ],
            [
             0.1,
             "rgb(178,24,43)"
            ],
            [
             0.2,
             "rgb(214,96,77)"
            ],
            [
             0.3,
             "rgb(244,165,130)"
            ],
            [
             0.4,
             "rgb(253,219,199)"
            ],
            [
             0.5,
             "rgb(247,247,247)"
            ],
            [
             0.6,
             "rgb(209,229,240)"
            ],
            [
             0.7,
             "rgb(146,197,222)"
            ],
            [
             0.8,
             "rgb(67,147,195)"
            ],
            [
             0.9,
             "rgb(33,102,172)"
            ],
            [
             1,
             "rgb(5,48,97)"
            ]
           ],
           "sequential": [
            [
             0,
             "#440154"
            ],
            [
             0.1111111111111111,
             "#482878"
            ],
            [
             0.2222222222222222,
             "#3e4989"
            ],
            [
             0.3333333333333333,
             "#31688e"
            ],
            [
             0.4444444444444444,
             "#26828e"
            ],
            [
             0.5555555555555556,
             "#1f9e89"
            ],
            [
             0.6666666666666666,
             "#35b779"
            ],
            [
             0.7777777777777778,
             "#6ece58"
            ],
            [
             0.8888888888888888,
             "#b5de2b"
            ],
            [
             1,
             "#fde725"
            ]
           ],
           "sequentialminus": [
            [
             0,
             "#440154"
            ],
            [
             0.1111111111111111,
             "#482878"
            ],
            [
             0.2222222222222222,
             "#3e4989"
            ],
            [
             0.3333333333333333,
             "#31688e"
            ],
            [
             0.4444444444444444,
             "#26828e"
            ],
            [
             0.5555555555555556,
             "#1f9e89"
            ],
            [
             0.6666666666666666,
             "#35b779"
            ],
            [
             0.7777777777777778,
             "#6ece58"
            ],
            [
             0.8888888888888888,
             "#b5de2b"
            ],
            [
             1,
             "#fde725"
            ]
           ]
          },
          "colorway": [
           "#1F77B4",
           "#FF7F0E",
           "#2CA02C",
           "#D62728",
           "#9467BD",
           "#8C564B",
           "#E377C2",
           "#7F7F7F",
           "#BCBD22",
           "#17BECF"
          ],
          "font": {
           "color": "rgb(36,36,36)"
          },
          "geo": {
           "bgcolor": "white",
           "lakecolor": "white",
           "landcolor": "white",
           "showlakes": true,
           "showland": true,
           "subunitcolor": "white"
          },
          "hoverlabel": {
           "align": "left"
          },
          "hovermode": "closest",
          "mapbox": {
           "style": "light"
          },
          "paper_bgcolor": "white",
          "plot_bgcolor": "white",
          "polar": {
           "angularaxis": {
            "gridcolor": "rgb(232,232,232)",
            "linecolor": "rgb(36,36,36)",
            "showgrid": false,
            "showline": true,
            "ticks": "outside"
           },
           "bgcolor": "white",
           "radialaxis": {
            "gridcolor": "rgb(232,232,232)",
            "linecolor": "rgb(36,36,36)",
            "showgrid": false,
            "showline": true,
            "ticks": "outside"
           }
          },
          "scene": {
           "xaxis": {
            "backgroundcolor": "white",
            "gridcolor": "rgb(232,232,232)",
            "gridwidth": 2,
            "linecolor": "rgb(36,36,36)",
            "showbackground": true,
            "showgrid": false,
            "showline": true,
            "ticks": "outside",
            "zeroline": false,
            "zerolinecolor": "rgb(36,36,36)"
           },
           "yaxis": {
            "backgroundcolor": "white",
            "gridcolor": "rgb(232,232,232)",
            "gridwidth": 2,
            "linecolor": "rgb(36,36,36)",
            "showbackground": true,
            "showgrid": false,
            "showline": true,
            "ticks": "outside",
            "zeroline": false,
            "zerolinecolor": "rgb(36,36,36)"
           },
           "zaxis": {
            "backgroundcolor": "white",
            "gridcolor": "rgb(232,232,232)",
            "gridwidth": 2,
            "linecolor": "rgb(36,36,36)",
            "showbackground": true,
            "showgrid": false,
            "showline": true,
            "ticks": "outside",
            "zeroline": false,
            "zerolinecolor": "rgb(36,36,36)"
           }
          },
          "shapedefaults": {
           "fillcolor": "black",
           "line": {
            "width": 0
           },
           "opacity": 0.3
          },
          "ternary": {
           "aaxis": {
            "gridcolor": "rgb(232,232,232)",
            "linecolor": "rgb(36,36,36)",
            "showgrid": false,
            "showline": true,
            "ticks": "outside"
           },
           "baxis": {
            "gridcolor": "rgb(232,232,232)",
            "linecolor": "rgb(36,36,36)",
            "showgrid": false,
            "showline": true,
            "ticks": "outside"
           },
           "bgcolor": "white",
           "caxis": {
            "gridcolor": "rgb(232,232,232)",
            "linecolor": "rgb(36,36,36)",
            "showgrid": false,
            "showline": true,
            "ticks": "outside"
           }
          },
          "title": {
           "x": 0.05
          },
          "xaxis": {
           "automargin": true,
           "gridcolor": "rgb(232,232,232)",
           "linecolor": "rgb(36,36,36)",
           "showgrid": false,
           "showline": true,
           "ticks": "outside",
           "title": {
            "standoff": 15
           },
           "zeroline": false,
           "zerolinecolor": "rgb(36,36,36)"
          },
          "yaxis": {
           "automargin": true,
           "gridcolor": "rgb(232,232,232)",
           "linecolor": "rgb(36,36,36)",
           "showgrid": false,
           "showline": true,
           "ticks": "outside",
           "title": {
            "standoff": 15
           },
           "zeroline": false,
           "zerolinecolor": "rgb(36,36,36)"
          }
         }
        },
        "title": {
         "font": {
          "color": "Black",
          "size": 22
         },
         "text": "Topics Over Time for 2022Q3",
         "x": 0.4,
         "xanchor": "center",
         "y": 0.95,
         "yanchor": "top"
        },
        "width": 1250,
        "xaxis": {
         "showgrid": true
        },
        "yaxis": {
         "showgrid": true,
         "title": {
          "text": "Frequency"
         }
        }
       }
      }
     },
     "metadata": {},
     "output_type": "display_data"
    },
    {
     "data": {
      "application/vnd.plotly.v1+json": {
       "config": {
        "plotlyServerURL": "https://plot.ly"
       },
       "data": [
        {
         "hoverinfo": "text",
         "hovertext": [
          "<b>Topic 0</b><br>Words: kecil, agama, depok, islam, intisari",
          "<b>Topic 0</b><br>Words: jokowi, jaga, dorong, nkri, bawa",
          "<b>Topic 0</b><br>Words: partai, perindo, cepat, takalar, juang"
         ],
         "marker": {
          "color": "#E69F00"
         },
         "mode": "lines",
         "name": "0_jokowi_jaga_dorong_nkri",
         "type": "scatter",
         "x": [
          "2022-11-26T01:44:15+00:00",
          "2022-12-26T06:20:18.533333+00:00",
          "2022-12-28T14:04:37.266666+00:00"
         ],
         "y": [
          1,
          9,
          2
         ]
        },
        {
         "hoverinfo": "text",
         "hovertext": [
          "<b>Topic 1</b><br>Words: pimpin, ta, memang, masyarakat, kuliah",
          "<b>Topic 1</b><br>Words: tahun, jabat, rakyat, fip, uny",
          "<b>Topic 1</b><br>Words: lu, kantor, kerja, semangat, kemendikbudristek",
          "<b>Topic 1</b><br>Words: meski, reformatisi, nirlaba, bhmn, kelola",
          "<b>Topic 1</b><br>Words: sosial, realisasi, gli, papar, bicara",
          "<b>Topic 1</b><br>Words: nadiem, terlalu, mas, progesif, sembari",
          "<b>Topic 1</b><br>Words: dokter, guru, apresiasi, ruu, hasan",
          "<b>Topic 1</b><br>Words: dulu, manusia, guru, refleksi, diskusi"
         ],
         "marker": {
          "color": "#56B4E9"
         },
         "mode": "lines",
         "name": "1_pimpin_guru_tahun_jabat",
         "type": "scatter",
         "x": [
          "2022-10-22T03:59:14.238000+00:00",
          "2022-10-24T13:23:52.733333+00:00",
          "2022-10-26T21:08:11.466666+00:00",
          "2022-10-29T04:52:30.200000+00:00",
          "2022-11-26T01:44:15+00:00",
          "2022-12-23T22:35:59.800000+00:00",
          "2022-12-26T06:20:18.533333+00:00",
          "2022-12-28T14:04:37.266666+00:00"
         ],
         "y": [
          5,
          5,
          5,
          1,
          1,
          1,
          6,
          4
         ]
        }
       ],
       "layout": {
        "height": 450,
        "hoverlabel": {
         "bgcolor": "white",
         "font": {
          "family": "Rockwell",
          "size": 16
         }
        },
        "legend": {
         "title": {
          "text": "<b>Global Topic Representation"
         }
        },
        "template": {
         "data": {
          "bar": [
           {
            "error_x": {
             "color": "rgb(36,36,36)"
            },
            "error_y": {
             "color": "rgb(36,36,36)"
            },
            "marker": {
             "line": {
              "color": "white",
              "width": 0.5
             },
             "pattern": {
              "fillmode": "overlay",
              "size": 10,
              "solidity": 0.2
             }
            },
            "type": "bar"
           }
          ],
          "barpolar": [
           {
            "marker": {
             "line": {
              "color": "white",
              "width": 0.5
             },
             "pattern": {
              "fillmode": "overlay",
              "size": 10,
              "solidity": 0.2
             }
            },
            "type": "barpolar"
           }
          ],
          "carpet": [
           {
            "aaxis": {
             "endlinecolor": "rgb(36,36,36)",
             "gridcolor": "white",
             "linecolor": "white",
             "minorgridcolor": "white",
             "startlinecolor": "rgb(36,36,36)"
            },
            "baxis": {
             "endlinecolor": "rgb(36,36,36)",
             "gridcolor": "white",
             "linecolor": "white",
             "minorgridcolor": "white",
             "startlinecolor": "rgb(36,36,36)"
            },
            "type": "carpet"
           }
          ],
          "choropleth": [
           {
            "colorbar": {
             "outlinewidth": 1,
             "tickcolor": "rgb(36,36,36)",
             "ticks": "outside"
            },
            "type": "choropleth"
           }
          ],
          "contour": [
           {
            "colorbar": {
             "outlinewidth": 1,
             "tickcolor": "rgb(36,36,36)",
             "ticks": "outside"
            },
            "colorscale": [
             [
              0,
              "#440154"
             ],
             [
              0.1111111111111111,
              "#482878"
             ],
             [
              0.2222222222222222,
              "#3e4989"
             ],
             [
              0.3333333333333333,
              "#31688e"
             ],
             [
              0.4444444444444444,
              "#26828e"
             ],
             [
              0.5555555555555556,
              "#1f9e89"
             ],
             [
              0.6666666666666666,
              "#35b779"
             ],
             [
              0.7777777777777778,
              "#6ece58"
             ],
             [
              0.8888888888888888,
              "#b5de2b"
             ],
             [
              1,
              "#fde725"
             ]
            ],
            "type": "contour"
           }
          ],
          "contourcarpet": [
           {
            "colorbar": {
             "outlinewidth": 1,
             "tickcolor": "rgb(36,36,36)",
             "ticks": "outside"
            },
            "type": "contourcarpet"
           }
          ],
          "heatmap": [
           {
            "colorbar": {
             "outlinewidth": 1,
             "tickcolor": "rgb(36,36,36)",
             "ticks": "outside"
            },
            "colorscale": [
             [
              0,
              "#440154"
             ],
             [
              0.1111111111111111,
              "#482878"
             ],
             [
              0.2222222222222222,
              "#3e4989"
             ],
             [
              0.3333333333333333,
              "#31688e"
             ],
             [
              0.4444444444444444,
              "#26828e"
             ],
             [
              0.5555555555555556,
              "#1f9e89"
             ],
             [
              0.6666666666666666,
              "#35b779"
             ],
             [
              0.7777777777777778,
              "#6ece58"
             ],
             [
              0.8888888888888888,
              "#b5de2b"
             ],
             [
              1,
              "#fde725"
             ]
            ],
            "type": "heatmap"
           }
          ],
          "heatmapgl": [
           {
            "colorbar": {
             "outlinewidth": 1,
             "tickcolor": "rgb(36,36,36)",
             "ticks": "outside"
            },
            "colorscale": [
             [
              0,
              "#440154"
             ],
             [
              0.1111111111111111,
              "#482878"
             ],
             [
              0.2222222222222222,
              "#3e4989"
             ],
             [
              0.3333333333333333,
              "#31688e"
             ],
             [
              0.4444444444444444,
              "#26828e"
             ],
             [
              0.5555555555555556,
              "#1f9e89"
             ],
             [
              0.6666666666666666,
              "#35b779"
             ],
             [
              0.7777777777777778,
              "#6ece58"
             ],
             [
              0.8888888888888888,
              "#b5de2b"
             ],
             [
              1,
              "#fde725"
             ]
            ],
            "type": "heatmapgl"
           }
          ],
          "histogram": [
           {
            "marker": {
             "line": {
              "color": "white",
              "width": 0.6
             }
            },
            "type": "histogram"
           }
          ],
          "histogram2d": [
           {
            "colorbar": {
             "outlinewidth": 1,
             "tickcolor": "rgb(36,36,36)",
             "ticks": "outside"
            },
            "colorscale": [
             [
              0,
              "#440154"
             ],
             [
              0.1111111111111111,
              "#482878"
             ],
             [
              0.2222222222222222,
              "#3e4989"
             ],
             [
              0.3333333333333333,
              "#31688e"
             ],
             [
              0.4444444444444444,
              "#26828e"
             ],
             [
              0.5555555555555556,
              "#1f9e89"
             ],
             [
              0.6666666666666666,
              "#35b779"
             ],
             [
              0.7777777777777778,
              "#6ece58"
             ],
             [
              0.8888888888888888,
              "#b5de2b"
             ],
             [
              1,
              "#fde725"
             ]
            ],
            "type": "histogram2d"
           }
          ],
          "histogram2dcontour": [
           {
            "colorbar": {
             "outlinewidth": 1,
             "tickcolor": "rgb(36,36,36)",
             "ticks": "outside"
            },
            "colorscale": [
             [
              0,
              "#440154"
             ],
             [
              0.1111111111111111,
              "#482878"
             ],
             [
              0.2222222222222222,
              "#3e4989"
             ],
             [
              0.3333333333333333,
              "#31688e"
             ],
             [
              0.4444444444444444,
              "#26828e"
             ],
             [
              0.5555555555555556,
              "#1f9e89"
             ],
             [
              0.6666666666666666,
              "#35b779"
             ],
             [
              0.7777777777777778,
              "#6ece58"
             ],
             [
              0.8888888888888888,
              "#b5de2b"
             ],
             [
              1,
              "#fde725"
             ]
            ],
            "type": "histogram2dcontour"
           }
          ],
          "mesh3d": [
           {
            "colorbar": {
             "outlinewidth": 1,
             "tickcolor": "rgb(36,36,36)",
             "ticks": "outside"
            },
            "type": "mesh3d"
           }
          ],
          "parcoords": [
           {
            "line": {
             "colorbar": {
              "outlinewidth": 1,
              "tickcolor": "rgb(36,36,36)",
              "ticks": "outside"
             }
            },
            "type": "parcoords"
           }
          ],
          "pie": [
           {
            "automargin": true,
            "type": "pie"
           }
          ],
          "scatter": [
           {
            "fillpattern": {
             "fillmode": "overlay",
             "size": 10,
             "solidity": 0.2
            },
            "type": "scatter"
           }
          ],
          "scatter3d": [
           {
            "line": {
             "colorbar": {
              "outlinewidth": 1,
              "tickcolor": "rgb(36,36,36)",
              "ticks": "outside"
             }
            },
            "marker": {
             "colorbar": {
              "outlinewidth": 1,
              "tickcolor": "rgb(36,36,36)",
              "ticks": "outside"
             }
            },
            "type": "scatter3d"
           }
          ],
          "scattercarpet": [
           {
            "marker": {
             "colorbar": {
              "outlinewidth": 1,
              "tickcolor": "rgb(36,36,36)",
              "ticks": "outside"
             }
            },
            "type": "scattercarpet"
           }
          ],
          "scattergeo": [
           {
            "marker": {
             "colorbar": {
              "outlinewidth": 1,
              "tickcolor": "rgb(36,36,36)",
              "ticks": "outside"
             }
            },
            "type": "scattergeo"
           }
          ],
          "scattergl": [
           {
            "marker": {
             "colorbar": {
              "outlinewidth": 1,
              "tickcolor": "rgb(36,36,36)",
              "ticks": "outside"
             }
            },
            "type": "scattergl"
           }
          ],
          "scattermapbox": [
           {
            "marker": {
             "colorbar": {
              "outlinewidth": 1,
              "tickcolor": "rgb(36,36,36)",
              "ticks": "outside"
             }
            },
            "type": "scattermapbox"
           }
          ],
          "scatterpolar": [
           {
            "marker": {
             "colorbar": {
              "outlinewidth": 1,
              "tickcolor": "rgb(36,36,36)",
              "ticks": "outside"
             }
            },
            "type": "scatterpolar"
           }
          ],
          "scatterpolargl": [
           {
            "marker": {
             "colorbar": {
              "outlinewidth": 1,
              "tickcolor": "rgb(36,36,36)",
              "ticks": "outside"
             }
            },
            "type": "scatterpolargl"
           }
          ],
          "scatterternary": [
           {
            "marker": {
             "colorbar": {
              "outlinewidth": 1,
              "tickcolor": "rgb(36,36,36)",
              "ticks": "outside"
             }
            },
            "type": "scatterternary"
           }
          ],
          "surface": [
           {
            "colorbar": {
             "outlinewidth": 1,
             "tickcolor": "rgb(36,36,36)",
             "ticks": "outside"
            },
            "colorscale": [
             [
              0,
              "#440154"
             ],
             [
              0.1111111111111111,
              "#482878"
             ],
             [
              0.2222222222222222,
              "#3e4989"
             ],
             [
              0.3333333333333333,
              "#31688e"
             ],
             [
              0.4444444444444444,
              "#26828e"
             ],
             [
              0.5555555555555556,
              "#1f9e89"
             ],
             [
              0.6666666666666666,
              "#35b779"
             ],
             [
              0.7777777777777778,
              "#6ece58"
             ],
             [
              0.8888888888888888,
              "#b5de2b"
             ],
             [
              1,
              "#fde725"
             ]
            ],
            "type": "surface"
           }
          ],
          "table": [
           {
            "cells": {
             "fill": {
              "color": "rgb(237,237,237)"
             },
             "line": {
              "color": "white"
             }
            },
            "header": {
             "fill": {
              "color": "rgb(217,217,217)"
             },
             "line": {
              "color": "white"
             }
            },
            "type": "table"
           }
          ]
         },
         "layout": {
          "annotationdefaults": {
           "arrowhead": 0,
           "arrowwidth": 1
          },
          "autotypenumbers": "strict",
          "coloraxis": {
           "colorbar": {
            "outlinewidth": 1,
            "tickcolor": "rgb(36,36,36)",
            "ticks": "outside"
           }
          },
          "colorscale": {
           "diverging": [
            [
             0,
             "rgb(103,0,31)"
            ],
            [
             0.1,
             "rgb(178,24,43)"
            ],
            [
             0.2,
             "rgb(214,96,77)"
            ],
            [
             0.3,
             "rgb(244,165,130)"
            ],
            [
             0.4,
             "rgb(253,219,199)"
            ],
            [
             0.5,
             "rgb(247,247,247)"
            ],
            [
             0.6,
             "rgb(209,229,240)"
            ],
            [
             0.7,
             "rgb(146,197,222)"
            ],
            [
             0.8,
             "rgb(67,147,195)"
            ],
            [
             0.9,
             "rgb(33,102,172)"
            ],
            [
             1,
             "rgb(5,48,97)"
            ]
           ],
           "sequential": [
            [
             0,
             "#440154"
            ],
            [
             0.1111111111111111,
             "#482878"
            ],
            [
             0.2222222222222222,
             "#3e4989"
            ],
            [
             0.3333333333333333,
             "#31688e"
            ],
            [
             0.4444444444444444,
             "#26828e"
            ],
            [
             0.5555555555555556,
             "#1f9e89"
            ],
            [
             0.6666666666666666,
             "#35b779"
            ],
            [
             0.7777777777777778,
             "#6ece58"
            ],
            [
             0.8888888888888888,
             "#b5de2b"
            ],
            [
             1,
             "#fde725"
            ]
           ],
           "sequentialminus": [
            [
             0,
             "#440154"
            ],
            [
             0.1111111111111111,
             "#482878"
            ],
            [
             0.2222222222222222,
             "#3e4989"
            ],
            [
             0.3333333333333333,
             "#31688e"
            ],
            [
             0.4444444444444444,
             "#26828e"
            ],
            [
             0.5555555555555556,
             "#1f9e89"
            ],
            [
             0.6666666666666666,
             "#35b779"
            ],
            [
             0.7777777777777778,
             "#6ece58"
            ],
            [
             0.8888888888888888,
             "#b5de2b"
            ],
            [
             1,
             "#fde725"
            ]
           ]
          },
          "colorway": [
           "#1F77B4",
           "#FF7F0E",
           "#2CA02C",
           "#D62728",
           "#9467BD",
           "#8C564B",
           "#E377C2",
           "#7F7F7F",
           "#BCBD22",
           "#17BECF"
          ],
          "font": {
           "color": "rgb(36,36,36)"
          },
          "geo": {
           "bgcolor": "white",
           "lakecolor": "white",
           "landcolor": "white",
           "showlakes": true,
           "showland": true,
           "subunitcolor": "white"
          },
          "hoverlabel": {
           "align": "left"
          },
          "hovermode": "closest",
          "mapbox": {
           "style": "light"
          },
          "paper_bgcolor": "white",
          "plot_bgcolor": "white",
          "polar": {
           "angularaxis": {
            "gridcolor": "rgb(232,232,232)",
            "linecolor": "rgb(36,36,36)",
            "showgrid": false,
            "showline": true,
            "ticks": "outside"
           },
           "bgcolor": "white",
           "radialaxis": {
            "gridcolor": "rgb(232,232,232)",
            "linecolor": "rgb(36,36,36)",
            "showgrid": false,
            "showline": true,
            "ticks": "outside"
           }
          },
          "scene": {
           "xaxis": {
            "backgroundcolor": "white",
            "gridcolor": "rgb(232,232,232)",
            "gridwidth": 2,
            "linecolor": "rgb(36,36,36)",
            "showbackground": true,
            "showgrid": false,
            "showline": true,
            "ticks": "outside",
            "zeroline": false,
            "zerolinecolor": "rgb(36,36,36)"
           },
           "yaxis": {
            "backgroundcolor": "white",
            "gridcolor": "rgb(232,232,232)",
            "gridwidth": 2,
            "linecolor": "rgb(36,36,36)",
            "showbackground": true,
            "showgrid": false,
            "showline": true,
            "ticks": "outside",
            "zeroline": false,
            "zerolinecolor": "rgb(36,36,36)"
           },
           "zaxis": {
            "backgroundcolor": "white",
            "gridcolor": "rgb(232,232,232)",
            "gridwidth": 2,
            "linecolor": "rgb(36,36,36)",
            "showbackground": true,
            "showgrid": false,
            "showline": true,
            "ticks": "outside",
            "zeroline": false,
            "zerolinecolor": "rgb(36,36,36)"
           }
          },
          "shapedefaults": {
           "fillcolor": "black",
           "line": {
            "width": 0
           },
           "opacity": 0.3
          },
          "ternary": {
           "aaxis": {
            "gridcolor": "rgb(232,232,232)",
            "linecolor": "rgb(36,36,36)",
            "showgrid": false,
            "showline": true,
            "ticks": "outside"
           },
           "baxis": {
            "gridcolor": "rgb(232,232,232)",
            "linecolor": "rgb(36,36,36)",
            "showgrid": false,
            "showline": true,
            "ticks": "outside"
           },
           "bgcolor": "white",
           "caxis": {
            "gridcolor": "rgb(232,232,232)",
            "linecolor": "rgb(36,36,36)",
            "showgrid": false,
            "showline": true,
            "ticks": "outside"
           }
          },
          "title": {
           "x": 0.05
          },
          "xaxis": {
           "automargin": true,
           "gridcolor": "rgb(232,232,232)",
           "linecolor": "rgb(36,36,36)",
           "showgrid": false,
           "showline": true,
           "ticks": "outside",
           "title": {
            "standoff": 15
           },
           "zeroline": false,
           "zerolinecolor": "rgb(36,36,36)"
          },
          "yaxis": {
           "automargin": true,
           "gridcolor": "rgb(232,232,232)",
           "linecolor": "rgb(36,36,36)",
           "showgrid": false,
           "showline": true,
           "ticks": "outside",
           "title": {
            "standoff": 15
           },
           "zeroline": false,
           "zerolinecolor": "rgb(36,36,36)"
          }
         }
        },
        "title": {
         "font": {
          "color": "Black",
          "size": 22
         },
         "text": "Topics Over Time for 2022Q4",
         "x": 0.4,
         "xanchor": "center",
         "y": 0.95,
         "yanchor": "top"
        },
        "width": 1250,
        "xaxis": {
         "showgrid": true
        },
        "yaxis": {
         "showgrid": true,
         "title": {
          "text": "Frequency"
         }
        }
       }
      }
     },
     "metadata": {},
     "output_type": "display_data"
    },
    {
     "data": {
      "application/vnd.plotly.v1+json": {
       "config": {
        "plotlyServerURL": "https://plot.ly"
       },
       "data": [
        {
         "hoverinfo": "text",
         "hovertext": [
          "<b>Topic 0</b><br>Words: papua, approach, tingkat, otsus, sdm",
          "<b>Topic 0</b><br>Words: papua, otsus, asli, tingkat, sdm",
          "<b>Topic 0</b><br>Words: papua, otsus, tingkat, asli, maupun",
          "<b>Topic 0</b><br>Words: papua, otsus, asli, sdm, tingkat",
          "<b>Topic 0</b><br>Words: papua, otsus, asli, tingkat, sdm",
          "<b>Topic 0</b><br>Words: papua, otsus, asli, tingkat, sdm",
          "<b>Topic 0</b><br>Words: papua, asli, tingkat, otsus, kolaborasi",
          "<b>Topic 0</b><br>Words: papua, otsus, daerah, dana, bangun"
         ],
         "marker": {
          "color": "#E69F00"
         },
         "mode": "lines",
         "name": "0_papua_otsus_asli_tingkat",
         "type": "scatter",
         "x": [
          "2023-01-10T02:25:43.400000+00:00",
          "2023-02-02T15:42:43.133333+00:00",
          "2023-02-05T14:22:20.600000+00:00",
          "2023-02-08T13:01:58.066666+00:00",
          "2023-02-11T11:41:35.533333+00:00",
          "2023-02-17T09:00:50.466666+00:00",
          "2023-02-20T07:40:27.933333+00:00",
          "2023-03-27T15:35:57.533333+00:00"
         ],
         "y": [
          1,
          4,
          2,
          5,
          7,
          1,
          1,
          1
         ]
        },
        {
         "hoverinfo": "text",
         "hovertext": [
          "<b>Topic 1</b><br>Words: transformasi, jenderal, iwan, usia, direktur",
          "<b>Topic 1</b><br>Words: lalu, transformasi, kunci, ocean, oii",
          "<b>Topic 1</b><br>Words: butuh, laut, bebek, esensi, renang",
          "<b>Topic 1</b><br>Words: salur, aspirasi, gunungkidul, prakarsa, wadah"
         ],
         "marker": {
          "color": "#56B4E9"
         },
         "mode": "lines",
         "name": "1_lalu_transformasi_biru_kunci",
         "type": "scatter",
         "x": [
          "2023-01-07T03:46:05.933333+00:00",
          "2023-01-15T23:44:58.333333+00:00",
          "2023-03-21T18:16:42.600000+00:00",
          "2023-03-27T15:35:57.533333+00:00"
         ],
         "y": [
          2,
          9,
          1,
          1
         ]
        },
        {
         "hoverinfo": "text",
         "hovertext": [
          "<b>Topic 2</b><br>Words: lpka, ikut, kuat, anak, kutoarjo",
          "<b>Topic 2</b><br>Words: lpka, kutoarjo, pendidikanamppengentasan, kemenkumham, yuspahruddin",
          "<b>Topic 2</b><br>Words: ikut, anak, banyuwangi, swagata, blambangan",
          "<b>Topic 2</b><br>Words: ikut, anak, blambangan, sabha, forkopimda"
         ],
         "marker": {
          "color": "#009E73"
         },
         "mode": "lines",
         "name": "2_lpka_ikut_kutoarjo_anak",
         "type": "scatter",
         "x": [
          "2023-01-15T23:44:58.333333+00:00",
          "2023-01-18T22:24:35.800000+00:00",
          "2023-02-14T10:21:13+00:00",
          "2023-02-17T09:00:50.466666+00:00"
         ],
         "y": [
          4,
          7,
          1,
          1
         ]
        },
        {
         "hoverinfo": "text",
         "hovertext": [
          "<b>Topic 3</b><br>Words: tingkat, ekstrem, andal, liput, guru",
          "<b>Topic 3</b><br>Words: pelosok, gelontor, ratus, timpang, jokowi",
          "<b>Topic 3</b><br>Words: publik, sekolah, masjid, indonesia, anak",
          "<b>Topic 3</b><br>Words: pimpin, perempuan, indonesia, guru, tinggi",
          "<b>Topic 3</b><br>Words: latolato, larang, sekolah, kuliah, fsgi",
          "<b>Topic 3</b><br>Words: kalau, bantul, kabupaten, jadi, sekolah",
          "<b>Topic 3</b><br>Words: journal, konseling, arah, digital, leadership",
          "<b>Topic 3</b><br>Words: kampus, teliti, angket, jpkp, jurnal",
          "<b>Topic 3</b><br>Words: uny, sama, manajemen, matkul, dosen",
          "<b>Topic 3</b><br>Words: honorer, hapus, tenaga, ganjar, kurang",
          "<b>Topic 3</b><br>Words: baca, buku, tak, tekun, siswasiswa",
          "<b>Topic 3</b><br>Words: tinggi, dunia, persoalanpersoalan, sinkronisasi, panja",
          "<b>Topic 3</b><br>Words: haha, nongkrong, diplomasi, tadi, bumn",
          "<b>Topic 3</b><br>Words: bagaimana, lorong, ikm, gelap, gerak",
          "<b>Topic 3</b><br>Words: kalau, kerja, enggak, wakanda, aneh",
          "<b>Topic 3</b><br>Words: orang, peran, tua, tak, merdeka",
          "<b>Topic 3</b><br>Words: serius, dokter, bagai, benah, cies",
          "<b>Topic 3</b><br>Words: pisa, perintah, bangun, jadi, syarif",
          "<b>Topic 3</b><br>Words: akuntansi, sejahtera, sosial, publik, banyak",
          "<b>Topic 3</b><br>Words: ntt, sekolah, anak, gubernur, masuk",
          "<b>Topic 3</b><br>Words: jam, ntt, sekolah, masuk, pagi",
          "<b>Topic 3</b><br>Words: pukul, masuk, ntt, budaya, dinas",
          "<b>Topic 3</b><br>Words: sekolah, ntt, masuk, pagi, jam",
          "<b>Topic 3</b><br>Words: wajib, sekolah, guru, jam, ajar",
          "<b>Topic 3</b><br>Words: pagi, sekolah, menteri, jadi, tangerang",
          "<b>Topic 3</b><br>Words: inklusif, beby, detail, puan, kiky",
          "<b>Topic 3</b><br>Words: micellar, ramadhan, syabda, renata, alshad",
          "<b>Topic 3</b><br>Words: terima, enggak, kipk, maaf, biaya",
          "<b>Topic 3</b><br>Words: murid, hendak, potensi, optimal, menumbuhkembangkan",
          "<b>Topic 3</b><br>Words: gue, merdeka, ajar, kalo, orang"
         ],
         "marker": {
          "color": "#F0E442"
         },
         "mode": "lines",
         "name": "3_sekolah_jam_ntt_masuk",
         "type": "scatter",
         "x": [
          "2023-01-01T04:19:39.676000+00:00",
          "2023-01-04T05:06:28.466666+00:00",
          "2023-01-07T03:46:05.933333+00:00",
          "2023-01-10T02:25:43.400000+00:00",
          "2023-01-13T01:05:20.866666+00:00",
          "2023-01-15T23:44:58.333333+00:00",
          "2023-01-18T22:24:35.800000+00:00",
          "2023-01-21T21:04:13.266666+00:00",
          "2023-01-24T19:43:50.733333+00:00",
          "2023-01-27T18:23:28.200000+00:00",
          "2023-01-30T17:03:05.666666+00:00",
          "2023-02-02T15:42:43.133333+00:00",
          "2023-02-05T14:22:20.600000+00:00",
          "2023-02-08T13:01:58.066666+00:00",
          "2023-02-11T11:41:35.533333+00:00",
          "2023-02-14T10:21:13+00:00",
          "2023-02-17T09:00:50.466666+00:00",
          "2023-02-20T07:40:27.933333+00:00",
          "2023-02-23T06:20:05.400000+00:00",
          "2023-02-26T04:59:42.866666+00:00",
          "2023-03-01T03:39:20.333333+00:00",
          "2023-03-04T02:18:57.800000+00:00",
          "2023-03-07T00:58:35.266666+00:00",
          "2023-03-09T23:38:12.733333+00:00",
          "2023-03-12T22:17:50.200000+00:00",
          "2023-03-15T20:57:27.666666+00:00",
          "2023-03-18T19:37:05.133333+00:00",
          "2023-03-21T18:16:42.600000+00:00",
          "2023-03-24T16:56:20.066666+00:00",
          "2023-03-27T15:35:57.533333+00:00"
         ],
         "y": [
          6,
          8,
          9,
          15,
          19,
          11,
          7,
          7,
          9,
          7,
          9,
          5,
          4,
          8,
          5,
          9,
          7,
          8,
          8,
          11,
          85,
          14,
          25,
          11,
          13,
          12,
          1,
          9,
          5,
          12
         ]
        }
       ],
       "layout": {
        "height": 450,
        "hoverlabel": {
         "bgcolor": "white",
         "font": {
          "family": "Rockwell",
          "size": 16
         }
        },
        "legend": {
         "title": {
          "text": "<b>Global Topic Representation"
         }
        },
        "template": {
         "data": {
          "bar": [
           {
            "error_x": {
             "color": "rgb(36,36,36)"
            },
            "error_y": {
             "color": "rgb(36,36,36)"
            },
            "marker": {
             "line": {
              "color": "white",
              "width": 0.5
             },
             "pattern": {
              "fillmode": "overlay",
              "size": 10,
              "solidity": 0.2
             }
            },
            "type": "bar"
           }
          ],
          "barpolar": [
           {
            "marker": {
             "line": {
              "color": "white",
              "width": 0.5
             },
             "pattern": {
              "fillmode": "overlay",
              "size": 10,
              "solidity": 0.2
             }
            },
            "type": "barpolar"
           }
          ],
          "carpet": [
           {
            "aaxis": {
             "endlinecolor": "rgb(36,36,36)",
             "gridcolor": "white",
             "linecolor": "white",
             "minorgridcolor": "white",
             "startlinecolor": "rgb(36,36,36)"
            },
            "baxis": {
             "endlinecolor": "rgb(36,36,36)",
             "gridcolor": "white",
             "linecolor": "white",
             "minorgridcolor": "white",
             "startlinecolor": "rgb(36,36,36)"
            },
            "type": "carpet"
           }
          ],
          "choropleth": [
           {
            "colorbar": {
             "outlinewidth": 1,
             "tickcolor": "rgb(36,36,36)",
             "ticks": "outside"
            },
            "type": "choropleth"
           }
          ],
          "contour": [
           {
            "colorbar": {
             "outlinewidth": 1,
             "tickcolor": "rgb(36,36,36)",
             "ticks": "outside"
            },
            "colorscale": [
             [
              0,
              "#440154"
             ],
             [
              0.1111111111111111,
              "#482878"
             ],
             [
              0.2222222222222222,
              "#3e4989"
             ],
             [
              0.3333333333333333,
              "#31688e"
             ],
             [
              0.4444444444444444,
              "#26828e"
             ],
             [
              0.5555555555555556,
              "#1f9e89"
             ],
             [
              0.6666666666666666,
              "#35b779"
             ],
             [
              0.7777777777777778,
              "#6ece58"
             ],
             [
              0.8888888888888888,
              "#b5de2b"
             ],
             [
              1,
              "#fde725"
             ]
            ],
            "type": "contour"
           }
          ],
          "contourcarpet": [
           {
            "colorbar": {
             "outlinewidth": 1,
             "tickcolor": "rgb(36,36,36)",
             "ticks": "outside"
            },
            "type": "contourcarpet"
           }
          ],
          "heatmap": [
           {
            "colorbar": {
             "outlinewidth": 1,
             "tickcolor": "rgb(36,36,36)",
             "ticks": "outside"
            },
            "colorscale": [
             [
              0,
              "#440154"
             ],
             [
              0.1111111111111111,
              "#482878"
             ],
             [
              0.2222222222222222,
              "#3e4989"
             ],
             [
              0.3333333333333333,
              "#31688e"
             ],
             [
              0.4444444444444444,
              "#26828e"
             ],
             [
              0.5555555555555556,
              "#1f9e89"
             ],
             [
              0.6666666666666666,
              "#35b779"
             ],
             [
              0.7777777777777778,
              "#6ece58"
             ],
             [
              0.8888888888888888,
              "#b5de2b"
             ],
             [
              1,
              "#fde725"
             ]
            ],
            "type": "heatmap"
           }
          ],
          "heatmapgl": [
           {
            "colorbar": {
             "outlinewidth": 1,
             "tickcolor": "rgb(36,36,36)",
             "ticks": "outside"
            },
            "colorscale": [
             [
              0,
              "#440154"
             ],
             [
              0.1111111111111111,
              "#482878"
             ],
             [
              0.2222222222222222,
              "#3e4989"
             ],
             [
              0.3333333333333333,
              "#31688e"
             ],
             [
              0.4444444444444444,
              "#26828e"
             ],
             [
              0.5555555555555556,
              "#1f9e89"
             ],
             [
              0.6666666666666666,
              "#35b779"
             ],
             [
              0.7777777777777778,
              "#6ece58"
             ],
             [
              0.8888888888888888,
              "#b5de2b"
             ],
             [
              1,
              "#fde725"
             ]
            ],
            "type": "heatmapgl"
           }
          ],
          "histogram": [
           {
            "marker": {
             "line": {
              "color": "white",
              "width": 0.6
             }
            },
            "type": "histogram"
           }
          ],
          "histogram2d": [
           {
            "colorbar": {
             "outlinewidth": 1,
             "tickcolor": "rgb(36,36,36)",
             "ticks": "outside"
            },
            "colorscale": [
             [
              0,
              "#440154"
             ],
             [
              0.1111111111111111,
              "#482878"
             ],
             [
              0.2222222222222222,
              "#3e4989"
             ],
             [
              0.3333333333333333,
              "#31688e"
             ],
             [
              0.4444444444444444,
              "#26828e"
             ],
             [
              0.5555555555555556,
              "#1f9e89"
             ],
             [
              0.6666666666666666,
              "#35b779"
             ],
             [
              0.7777777777777778,
              "#6ece58"
             ],
             [
              0.8888888888888888,
              "#b5de2b"
             ],
             [
              1,
              "#fde725"
             ]
            ],
            "type": "histogram2d"
           }
          ],
          "histogram2dcontour": [
           {
            "colorbar": {
             "outlinewidth": 1,
             "tickcolor": "rgb(36,36,36)",
             "ticks": "outside"
            },
            "colorscale": [
             [
              0,
              "#440154"
             ],
             [
              0.1111111111111111,
              "#482878"
             ],
             [
              0.2222222222222222,
              "#3e4989"
             ],
             [
              0.3333333333333333,
              "#31688e"
             ],
             [
              0.4444444444444444,
              "#26828e"
             ],
             [
              0.5555555555555556,
              "#1f9e89"
             ],
             [
              0.6666666666666666,
              "#35b779"
             ],
             [
              0.7777777777777778,
              "#6ece58"
             ],
             [
              0.8888888888888888,
              "#b5de2b"
             ],
             [
              1,
              "#fde725"
             ]
            ],
            "type": "histogram2dcontour"
           }
          ],
          "mesh3d": [
           {
            "colorbar": {
             "outlinewidth": 1,
             "tickcolor": "rgb(36,36,36)",
             "ticks": "outside"
            },
            "type": "mesh3d"
           }
          ],
          "parcoords": [
           {
            "line": {
             "colorbar": {
              "outlinewidth": 1,
              "tickcolor": "rgb(36,36,36)",
              "ticks": "outside"
             }
            },
            "type": "parcoords"
           }
          ],
          "pie": [
           {
            "automargin": true,
            "type": "pie"
           }
          ],
          "scatter": [
           {
            "fillpattern": {
             "fillmode": "overlay",
             "size": 10,
             "solidity": 0.2
            },
            "type": "scatter"
           }
          ],
          "scatter3d": [
           {
            "line": {
             "colorbar": {
              "outlinewidth": 1,
              "tickcolor": "rgb(36,36,36)",
              "ticks": "outside"
             }
            },
            "marker": {
             "colorbar": {
              "outlinewidth": 1,
              "tickcolor": "rgb(36,36,36)",
              "ticks": "outside"
             }
            },
            "type": "scatter3d"
           }
          ],
          "scattercarpet": [
           {
            "marker": {
             "colorbar": {
              "outlinewidth": 1,
              "tickcolor": "rgb(36,36,36)",
              "ticks": "outside"
             }
            },
            "type": "scattercarpet"
           }
          ],
          "scattergeo": [
           {
            "marker": {
             "colorbar": {
              "outlinewidth": 1,
              "tickcolor": "rgb(36,36,36)",
              "ticks": "outside"
             }
            },
            "type": "scattergeo"
           }
          ],
          "scattergl": [
           {
            "marker": {
             "colorbar": {
              "outlinewidth": 1,
              "tickcolor": "rgb(36,36,36)",
              "ticks": "outside"
             }
            },
            "type": "scattergl"
           }
          ],
          "scattermapbox": [
           {
            "marker": {
             "colorbar": {
              "outlinewidth": 1,
              "tickcolor": "rgb(36,36,36)",
              "ticks": "outside"
             }
            },
            "type": "scattermapbox"
           }
          ],
          "scatterpolar": [
           {
            "marker": {
             "colorbar": {
              "outlinewidth": 1,
              "tickcolor": "rgb(36,36,36)",
              "ticks": "outside"
             }
            },
            "type": "scatterpolar"
           }
          ],
          "scatterpolargl": [
           {
            "marker": {
             "colorbar": {
              "outlinewidth": 1,
              "tickcolor": "rgb(36,36,36)",
              "ticks": "outside"
             }
            },
            "type": "scatterpolargl"
           }
          ],
          "scatterternary": [
           {
            "marker": {
             "colorbar": {
              "outlinewidth": 1,
              "tickcolor": "rgb(36,36,36)",
              "ticks": "outside"
             }
            },
            "type": "scatterternary"
           }
          ],
          "surface": [
           {
            "colorbar": {
             "outlinewidth": 1,
             "tickcolor": "rgb(36,36,36)",
             "ticks": "outside"
            },
            "colorscale": [
             [
              0,
              "#440154"
             ],
             [
              0.1111111111111111,
              "#482878"
             ],
             [
              0.2222222222222222,
              "#3e4989"
             ],
             [
              0.3333333333333333,
              "#31688e"
             ],
             [
              0.4444444444444444,
              "#26828e"
             ],
             [
              0.5555555555555556,
              "#1f9e89"
             ],
             [
              0.6666666666666666,
              "#35b779"
             ],
             [
              0.7777777777777778,
              "#6ece58"
             ],
             [
              0.8888888888888888,
              "#b5de2b"
             ],
             [
              1,
              "#fde725"
             ]
            ],
            "type": "surface"
           }
          ],
          "table": [
           {
            "cells": {
             "fill": {
              "color": "rgb(237,237,237)"
             },
             "line": {
              "color": "white"
             }
            },
            "header": {
             "fill": {
              "color": "rgb(217,217,217)"
             },
             "line": {
              "color": "white"
             }
            },
            "type": "table"
           }
          ]
         },
         "layout": {
          "annotationdefaults": {
           "arrowhead": 0,
           "arrowwidth": 1
          },
          "autotypenumbers": "strict",
          "coloraxis": {
           "colorbar": {
            "outlinewidth": 1,
            "tickcolor": "rgb(36,36,36)",
            "ticks": "outside"
           }
          },
          "colorscale": {
           "diverging": [
            [
             0,
             "rgb(103,0,31)"
            ],
            [
             0.1,
             "rgb(178,24,43)"
            ],
            [
             0.2,
             "rgb(214,96,77)"
            ],
            [
             0.3,
             "rgb(244,165,130)"
            ],
            [
             0.4,
             "rgb(253,219,199)"
            ],
            [
             0.5,
             "rgb(247,247,247)"
            ],
            [
             0.6,
             "rgb(209,229,240)"
            ],
            [
             0.7,
             "rgb(146,197,222)"
            ],
            [
             0.8,
             "rgb(67,147,195)"
            ],
            [
             0.9,
             "rgb(33,102,172)"
            ],
            [
             1,
             "rgb(5,48,97)"
            ]
           ],
           "sequential": [
            [
             0,
             "#440154"
            ],
            [
             0.1111111111111111,
             "#482878"
            ],
            [
             0.2222222222222222,
             "#3e4989"
            ],
            [
             0.3333333333333333,
             "#31688e"
            ],
            [
             0.4444444444444444,
             "#26828e"
            ],
            [
             0.5555555555555556,
             "#1f9e89"
            ],
            [
             0.6666666666666666,
             "#35b779"
            ],
            [
             0.7777777777777778,
             "#6ece58"
            ],
            [
             0.8888888888888888,
             "#b5de2b"
            ],
            [
             1,
             "#fde725"
            ]
           ],
           "sequentialminus": [
            [
             0,
             "#440154"
            ],
            [
             0.1111111111111111,
             "#482878"
            ],
            [
             0.2222222222222222,
             "#3e4989"
            ],
            [
             0.3333333333333333,
             "#31688e"
            ],
            [
             0.4444444444444444,
             "#26828e"
            ],
            [
             0.5555555555555556,
             "#1f9e89"
            ],
            [
             0.6666666666666666,
             "#35b779"
            ],
            [
             0.7777777777777778,
             "#6ece58"
            ],
            [
             0.8888888888888888,
             "#b5de2b"
            ],
            [
             1,
             "#fde725"
            ]
           ]
          },
          "colorway": [
           "#1F77B4",
           "#FF7F0E",
           "#2CA02C",
           "#D62728",
           "#9467BD",
           "#8C564B",
           "#E377C2",
           "#7F7F7F",
           "#BCBD22",
           "#17BECF"
          ],
          "font": {
           "color": "rgb(36,36,36)"
          },
          "geo": {
           "bgcolor": "white",
           "lakecolor": "white",
           "landcolor": "white",
           "showlakes": true,
           "showland": true,
           "subunitcolor": "white"
          },
          "hoverlabel": {
           "align": "left"
          },
          "hovermode": "closest",
          "mapbox": {
           "style": "light"
          },
          "paper_bgcolor": "white",
          "plot_bgcolor": "white",
          "polar": {
           "angularaxis": {
            "gridcolor": "rgb(232,232,232)",
            "linecolor": "rgb(36,36,36)",
            "showgrid": false,
            "showline": true,
            "ticks": "outside"
           },
           "bgcolor": "white",
           "radialaxis": {
            "gridcolor": "rgb(232,232,232)",
            "linecolor": "rgb(36,36,36)",
            "showgrid": false,
            "showline": true,
            "ticks": "outside"
           }
          },
          "scene": {
           "xaxis": {
            "backgroundcolor": "white",
            "gridcolor": "rgb(232,232,232)",
            "gridwidth": 2,
            "linecolor": "rgb(36,36,36)",
            "showbackground": true,
            "showgrid": false,
            "showline": true,
            "ticks": "outside",
            "zeroline": false,
            "zerolinecolor": "rgb(36,36,36)"
           },
           "yaxis": {
            "backgroundcolor": "white",
            "gridcolor": "rgb(232,232,232)",
            "gridwidth": 2,
            "linecolor": "rgb(36,36,36)",
            "showbackground": true,
            "showgrid": false,
            "showline": true,
            "ticks": "outside",
            "zeroline": false,
            "zerolinecolor": "rgb(36,36,36)"
           },
           "zaxis": {
            "backgroundcolor": "white",
            "gridcolor": "rgb(232,232,232)",
            "gridwidth": 2,
            "linecolor": "rgb(36,36,36)",
            "showbackground": true,
            "showgrid": false,
            "showline": true,
            "ticks": "outside",
            "zeroline": false,
            "zerolinecolor": "rgb(36,36,36)"
           }
          },
          "shapedefaults": {
           "fillcolor": "black",
           "line": {
            "width": 0
           },
           "opacity": 0.3
          },
          "ternary": {
           "aaxis": {
            "gridcolor": "rgb(232,232,232)",
            "linecolor": "rgb(36,36,36)",
            "showgrid": false,
            "showline": true,
            "ticks": "outside"
           },
           "baxis": {
            "gridcolor": "rgb(232,232,232)",
            "linecolor": "rgb(36,36,36)",
            "showgrid": false,
            "showline": true,
            "ticks": "outside"
           },
           "bgcolor": "white",
           "caxis": {
            "gridcolor": "rgb(232,232,232)",
            "linecolor": "rgb(36,36,36)",
            "showgrid": false,
            "showline": true,
            "ticks": "outside"
           }
          },
          "title": {
           "x": 0.05
          },
          "xaxis": {
           "automargin": true,
           "gridcolor": "rgb(232,232,232)",
           "linecolor": "rgb(36,36,36)",
           "showgrid": false,
           "showline": true,
           "ticks": "outside",
           "title": {
            "standoff": 15
           },
           "zeroline": false,
           "zerolinecolor": "rgb(36,36,36)"
          },
          "yaxis": {
           "automargin": true,
           "gridcolor": "rgb(232,232,232)",
           "linecolor": "rgb(36,36,36)",
           "showgrid": false,
           "showline": true,
           "ticks": "outside",
           "title": {
            "standoff": 15
           },
           "zeroline": false,
           "zerolinecolor": "rgb(36,36,36)"
          }
         }
        },
        "title": {
         "font": {
          "color": "Black",
          "size": 22
         },
         "text": "Topics Over Time for 2023Q1",
         "x": 0.4,
         "xanchor": "center",
         "y": 0.95,
         "yanchor": "top"
        },
        "width": 1250,
        "xaxis": {
         "showgrid": true
        },
        "yaxis": {
         "showgrid": true,
         "title": {
          "text": "Frequency"
         }
        }
       }
      }
     },
     "metadata": {},
     "output_type": "display_data"
    },
    {
     "data": {
      "application/vnd.plotly.v1+json": {
       "config": {
        "plotlyServerURL": "https://plot.ly"
       },
       "data": [
        {
         "hoverinfo": "text",
         "hovertext": [
          "<b>Topic 0</b><br>Words: adopsi, bitcoin, btc, inggris, organisasi",
          "<b>Topic 0</b><br>Words: ragam, pesan, ganjar, penting, maju",
          "<b>Topic 0</b><br>Words: ragam, pesan, maju, ganjar, penting",
          "<b>Topic 0</b><br>Words: kemdikbud, jaga, ekosistem, ragam, buka",
          "<b>Topic 0</b><br>Words: publik, ragam, pesan, maju, ganjar",
          "<b>Topic 0</b><br>Words: karlina, supelli, via, prof, kritik"
         ],
         "marker": {
          "color": "#E69F00"
         },
         "mode": "lines",
         "name": "0_ragam_pesan_maju_ganjar",
         "type": "scatter",
         "x": [
          "2023-04-13T11:35:21.066666+00:00",
          "2023-05-01T06:59:52.666666+00:00",
          "2023-05-10T04:42:08.466666+00:00",
          "2023-05-16T03:10:19+00:00",
          "2023-05-28T00:06:40.066666+00:00",
          "2023-06-17T18:45:16.933333+00:00"
         ],
         "y": [
          2,
          5,
          15,
          1,
          1,
          1
         ]
        },
        {
         "hoverinfo": "text",
         "hovertext": [
          "<b>Topic 1</b><br>Words: infertilitas, masalah, stigma, asmiua, publikasi",
          "<b>Topic 1</b><br>Words: literasi, teliti, jumpa, data, senjang",
          "<b>Topic 1</b><br>Words: literasi, teliti, data, pusat, senjang",
          "<b>Topic 1</b><br>Words: literasi, instansi, toko, buku, layak"
         ],
         "marker": {
          "color": "#56B4E9"
         },
         "mode": "lines",
         "name": "1_literasi_teliti_data_masalah",
         "type": "scatter",
         "x": [
          "2023-04-01T12:30:46.641999+00:00",
          "2023-05-13T03:56:13.733333+00:00",
          "2023-05-16T03:10:19+00:00",
          "2023-05-28T00:06:40.066666+00:00"
         ],
         "y": [
          1,
          4,
          6,
          1
         ]
        },
        {
         "hoverinfo": "text",
         "hovertext": [
          "<b>Topic 2</b><br>Words: episode, alas, sd, masuk, ajar",
          "<b>Topic 2</b><br>Words: lebih, bas, sekolah, negara, serang",
          "<b>Topic 2</b><br>Words: ukt, anak, sekarang, masa, makin",
          "<b>Topic 2</b><br>Words: nilai, kritik, kait, sebut, laku",
          "<b>Topic 2</b><br>Words: merdeka, ajar, budaya, blunder, fungsional",
          "<b>Topic 2</b><br>Words: etika, gratis, guru, sekolah, antiisrael",
          "<b>Topic 2</b><br>Words: bikin, rakyat, banyak, sengsara, iisma",
          "<b>Topic 2</b><br>Words: orang, bulan, anies, enggak, buat",
          "<b>Topic 2</b><br>Words: gtk, sapa, eps, seleksi, asn",
          "<b>Topic 2</b><br>Words: kurikulum, masuk, indonesia, lagu, podkaesang",
          "<b>Topic 2</b><br>Words: sekolah, terus, tengah, program, hari",
          "<b>Topic 2</b><br>Words: sekolah, gratis, mang, buat, gt",
          "<b>Topic 2</b><br>Words: amp, panitia, guru, indonesia, baik",
          "<b>Topic 2</b><br>Words: jadi, aspirasi, jaring, bagaimana, biaya",
          "<b>Topic 2</b><br>Words: jadi, negara, perintah, ham, muhammadiyah",
          "<b>Topic 2</b><br>Words: naik, daerah, kamu, anies, bangun",
          "<b>Topic 2</b><br>Words: pks, kampus, tingkat, kuat, akses",
          "<b>Topic 2</b><br>Words: pakar, seminar, minta, upi, tangan",
          "<b>Topic 2</b><br>Words: guru, jadi, buat, deh, banget",
          "<b>Topic 2</b><br>Words: guru, enggak, jadi, menteri, gaji",
          "<b>Topic 2</b><br>Words: guru, kok, mas, malah, tambah",
          "<b>Topic 2</b><br>Words: nadiem, bawa, enak, hampir, jidat",
          "<b>Topic 2</b><br>Words: guru, ganti, jadi, sistem, enggak",
          "<b>Topic 2</b><br>Words: anti, berani, korupsi, jateng, satu",
          "<b>Topic 2</b><br>Words: sekolah, ikhlas, guru, buah, buat",
          "<b>Topic 2</b><br>Words: negeri, jadi, pak, perintah, sama",
          "<b>Topic 2</b><br>Words: sekolah, jadi, baik, sama, gaji",
          "<b>Topic 2</b><br>Words: ada, cegah, sekolah, lingkung, keras",
          "<b>Topic 2</b><br>Words: jaman, pak, jawa, tengah, anak",
          "<b>Topic 2</b><br>Words: kota, sehat, aware, ormas, skor"
         ],
         "marker": {
          "color": "#009E73"
         },
         "mode": "lines",
         "name": "2_sekolah_guru_jadi_indonesia",
         "type": "scatter",
         "x": [
          "2023-04-01T12:30:46.641999+00:00",
          "2023-04-04T13:53:05.266666+00:00",
          "2023-04-07T13:07:10.533333+00:00",
          "2023-04-10T12:21:15.800000+00:00",
          "2023-04-13T11:35:21.066666+00:00",
          "2023-04-16T10:49:26.333333+00:00",
          "2023-04-19T10:03:31.600000+00:00",
          "2023-04-22T09:17:36.866666+00:00",
          "2023-04-25T08:31:42.133333+00:00",
          "2023-04-28T07:45:47.400000+00:00",
          "2023-05-01T06:59:52.666666+00:00",
          "2023-05-04T06:13:57.933333+00:00",
          "2023-05-07T05:28:03.200000+00:00",
          "2023-05-10T04:42:08.466666+00:00",
          "2023-05-13T03:56:13.733333+00:00",
          "2023-05-16T03:10:19+00:00",
          "2023-05-19T02:24:24.266666+00:00",
          "2023-05-22T01:38:29.533333+00:00",
          "2023-05-25T00:52:34.800000+00:00",
          "2023-05-28T00:06:40.066666+00:00",
          "2023-05-30T23:20:45.333333+00:00",
          "2023-06-02T22:34:50.600000+00:00",
          "2023-06-05T21:48:55.866666+00:00",
          "2023-06-08T21:03:01.133333+00:00",
          "2023-06-11T20:17:06.400000+00:00",
          "2023-06-14T19:31:11.666666+00:00",
          "2023-06-17T18:45:16.933333+00:00",
          "2023-06-20T17:59:22.200000+00:00",
          "2023-06-23T17:13:27.466666+00:00",
          "2023-06-26T16:27:32.733333+00:00"
         ],
         "y": [
          5,
          10,
          2,
          9,
          6,
          12,
          5,
          8,
          3,
          3,
          45,
          21,
          17,
          11,
          13,
          15,
          23,
          4,
          4,
          25,
          8,
          1,
          18,
          2,
          16,
          27,
          26,
          26,
          13,
          10
         ]
        }
       ],
       "layout": {
        "height": 450,
        "hoverlabel": {
         "bgcolor": "white",
         "font": {
          "family": "Rockwell",
          "size": 16
         }
        },
        "legend": {
         "title": {
          "text": "<b>Global Topic Representation"
         }
        },
        "template": {
         "data": {
          "bar": [
           {
            "error_x": {
             "color": "rgb(36,36,36)"
            },
            "error_y": {
             "color": "rgb(36,36,36)"
            },
            "marker": {
             "line": {
              "color": "white",
              "width": 0.5
             },
             "pattern": {
              "fillmode": "overlay",
              "size": 10,
              "solidity": 0.2
             }
            },
            "type": "bar"
           }
          ],
          "barpolar": [
           {
            "marker": {
             "line": {
              "color": "white",
              "width": 0.5
             },
             "pattern": {
              "fillmode": "overlay",
              "size": 10,
              "solidity": 0.2
             }
            },
            "type": "barpolar"
           }
          ],
          "carpet": [
           {
            "aaxis": {
             "endlinecolor": "rgb(36,36,36)",
             "gridcolor": "white",
             "linecolor": "white",
             "minorgridcolor": "white",
             "startlinecolor": "rgb(36,36,36)"
            },
            "baxis": {
             "endlinecolor": "rgb(36,36,36)",
             "gridcolor": "white",
             "linecolor": "white",
             "minorgridcolor": "white",
             "startlinecolor": "rgb(36,36,36)"
            },
            "type": "carpet"
           }
          ],
          "choropleth": [
           {
            "colorbar": {
             "outlinewidth": 1,
             "tickcolor": "rgb(36,36,36)",
             "ticks": "outside"
            },
            "type": "choropleth"
           }
          ],
          "contour": [
           {
            "colorbar": {
             "outlinewidth": 1,
             "tickcolor": "rgb(36,36,36)",
             "ticks": "outside"
            },
            "colorscale": [
             [
              0,
              "#440154"
             ],
             [
              0.1111111111111111,
              "#482878"
             ],
             [
              0.2222222222222222,
              "#3e4989"
             ],
             [
              0.3333333333333333,
              "#31688e"
             ],
             [
              0.4444444444444444,
              "#26828e"
             ],
             [
              0.5555555555555556,
              "#1f9e89"
             ],
             [
              0.6666666666666666,
              "#35b779"
             ],
             [
              0.7777777777777778,
              "#6ece58"
             ],
             [
              0.8888888888888888,
              "#b5de2b"
             ],
             [
              1,
              "#fde725"
             ]
            ],
            "type": "contour"
           }
          ],
          "contourcarpet": [
           {
            "colorbar": {
             "outlinewidth": 1,
             "tickcolor": "rgb(36,36,36)",
             "ticks": "outside"
            },
            "type": "contourcarpet"
           }
          ],
          "heatmap": [
           {
            "colorbar": {
             "outlinewidth": 1,
             "tickcolor": "rgb(36,36,36)",
             "ticks": "outside"
            },
            "colorscale": [
             [
              0,
              "#440154"
             ],
             [
              0.1111111111111111,
              "#482878"
             ],
             [
              0.2222222222222222,
              "#3e4989"
             ],
             [
              0.3333333333333333,
              "#31688e"
             ],
             [
              0.4444444444444444,
              "#26828e"
             ],
             [
              0.5555555555555556,
              "#1f9e89"
             ],
             [
              0.6666666666666666,
              "#35b779"
             ],
             [
              0.7777777777777778,
              "#6ece58"
             ],
             [
              0.8888888888888888,
              "#b5de2b"
             ],
             [
              1,
              "#fde725"
             ]
            ],
            "type": "heatmap"
           }
          ],
          "heatmapgl": [
           {
            "colorbar": {
             "outlinewidth": 1,
             "tickcolor": "rgb(36,36,36)",
             "ticks": "outside"
            },
            "colorscale": [
             [
              0,
              "#440154"
             ],
             [
              0.1111111111111111,
              "#482878"
             ],
             [
              0.2222222222222222,
              "#3e4989"
             ],
             [
              0.3333333333333333,
              "#31688e"
             ],
             [
              0.4444444444444444,
              "#26828e"
             ],
             [
              0.5555555555555556,
              "#1f9e89"
             ],
             [
              0.6666666666666666,
              "#35b779"
             ],
             [
              0.7777777777777778,
              "#6ece58"
             ],
             [
              0.8888888888888888,
              "#b5de2b"
             ],
             [
              1,
              "#fde725"
             ]
            ],
            "type": "heatmapgl"
           }
          ],
          "histogram": [
           {
            "marker": {
             "line": {
              "color": "white",
              "width": 0.6
             }
            },
            "type": "histogram"
           }
          ],
          "histogram2d": [
           {
            "colorbar": {
             "outlinewidth": 1,
             "tickcolor": "rgb(36,36,36)",
             "ticks": "outside"
            },
            "colorscale": [
             [
              0,
              "#440154"
             ],
             [
              0.1111111111111111,
              "#482878"
             ],
             [
              0.2222222222222222,
              "#3e4989"
             ],
             [
              0.3333333333333333,
              "#31688e"
             ],
             [
              0.4444444444444444,
              "#26828e"
             ],
             [
              0.5555555555555556,
              "#1f9e89"
             ],
             [
              0.6666666666666666,
              "#35b779"
             ],
             [
              0.7777777777777778,
              "#6ece58"
             ],
             [
              0.8888888888888888,
              "#b5de2b"
             ],
             [
              1,
              "#fde725"
             ]
            ],
            "type": "histogram2d"
           }
          ],
          "histogram2dcontour": [
           {
            "colorbar": {
             "outlinewidth": 1,
             "tickcolor": "rgb(36,36,36)",
             "ticks": "outside"
            },
            "colorscale": [
             [
              0,
              "#440154"
             ],
             [
              0.1111111111111111,
              "#482878"
             ],
             [
              0.2222222222222222,
              "#3e4989"
             ],
             [
              0.3333333333333333,
              "#31688e"
             ],
             [
              0.4444444444444444,
              "#26828e"
             ],
             [
              0.5555555555555556,
              "#1f9e89"
             ],
             [
              0.6666666666666666,
              "#35b779"
             ],
             [
              0.7777777777777778,
              "#6ece58"
             ],
             [
              0.8888888888888888,
              "#b5de2b"
             ],
             [
              1,
              "#fde725"
             ]
            ],
            "type": "histogram2dcontour"
           }
          ],
          "mesh3d": [
           {
            "colorbar": {
             "outlinewidth": 1,
             "tickcolor": "rgb(36,36,36)",
             "ticks": "outside"
            },
            "type": "mesh3d"
           }
          ],
          "parcoords": [
           {
            "line": {
             "colorbar": {
              "outlinewidth": 1,
              "tickcolor": "rgb(36,36,36)",
              "ticks": "outside"
             }
            },
            "type": "parcoords"
           }
          ],
          "pie": [
           {
            "automargin": true,
            "type": "pie"
           }
          ],
          "scatter": [
           {
            "fillpattern": {
             "fillmode": "overlay",
             "size": 10,
             "solidity": 0.2
            },
            "type": "scatter"
           }
          ],
          "scatter3d": [
           {
            "line": {
             "colorbar": {
              "outlinewidth": 1,
              "tickcolor": "rgb(36,36,36)",
              "ticks": "outside"
             }
            },
            "marker": {
             "colorbar": {
              "outlinewidth": 1,
              "tickcolor": "rgb(36,36,36)",
              "ticks": "outside"
             }
            },
            "type": "scatter3d"
           }
          ],
          "scattercarpet": [
           {
            "marker": {
             "colorbar": {
              "outlinewidth": 1,
              "tickcolor": "rgb(36,36,36)",
              "ticks": "outside"
             }
            },
            "type": "scattercarpet"
           }
          ],
          "scattergeo": [
           {
            "marker": {
             "colorbar": {
              "outlinewidth": 1,
              "tickcolor": "rgb(36,36,36)",
              "ticks": "outside"
             }
            },
            "type": "scattergeo"
           }
          ],
          "scattergl": [
           {
            "marker": {
             "colorbar": {
              "outlinewidth": 1,
              "tickcolor": "rgb(36,36,36)",
              "ticks": "outside"
             }
            },
            "type": "scattergl"
           }
          ],
          "scattermapbox": [
           {
            "marker": {
             "colorbar": {
              "outlinewidth": 1,
              "tickcolor": "rgb(36,36,36)",
              "ticks": "outside"
             }
            },
            "type": "scattermapbox"
           }
          ],
          "scatterpolar": [
           {
            "marker": {
             "colorbar": {
              "outlinewidth": 1,
              "tickcolor": "rgb(36,36,36)",
              "ticks": "outside"
             }
            },
            "type": "scatterpolar"
           }
          ],
          "scatterpolargl": [
           {
            "marker": {
             "colorbar": {
              "outlinewidth": 1,
              "tickcolor": "rgb(36,36,36)",
              "ticks": "outside"
             }
            },
            "type": "scatterpolargl"
           }
          ],
          "scatterternary": [
           {
            "marker": {
             "colorbar": {
              "outlinewidth": 1,
              "tickcolor": "rgb(36,36,36)",
              "ticks": "outside"
             }
            },
            "type": "scatterternary"
           }
          ],
          "surface": [
           {
            "colorbar": {
             "outlinewidth": 1,
             "tickcolor": "rgb(36,36,36)",
             "ticks": "outside"
            },
            "colorscale": [
             [
              0,
              "#440154"
             ],
             [
              0.1111111111111111,
              "#482878"
             ],
             [
              0.2222222222222222,
              "#3e4989"
             ],
             [
              0.3333333333333333,
              "#31688e"
             ],
             [
              0.4444444444444444,
              "#26828e"
             ],
             [
              0.5555555555555556,
              "#1f9e89"
             ],
             [
              0.6666666666666666,
              "#35b779"
             ],
             [
              0.7777777777777778,
              "#6ece58"
             ],
             [
              0.8888888888888888,
              "#b5de2b"
             ],
             [
              1,
              "#fde725"
             ]
            ],
            "type": "surface"
           }
          ],
          "table": [
           {
            "cells": {
             "fill": {
              "color": "rgb(237,237,237)"
             },
             "line": {
              "color": "white"
             }
            },
            "header": {
             "fill": {
              "color": "rgb(217,217,217)"
             },
             "line": {
              "color": "white"
             }
            },
            "type": "table"
           }
          ]
         },
         "layout": {
          "annotationdefaults": {
           "arrowhead": 0,
           "arrowwidth": 1
          },
          "autotypenumbers": "strict",
          "coloraxis": {
           "colorbar": {
            "outlinewidth": 1,
            "tickcolor": "rgb(36,36,36)",
            "ticks": "outside"
           }
          },
          "colorscale": {
           "diverging": [
            [
             0,
             "rgb(103,0,31)"
            ],
            [
             0.1,
             "rgb(178,24,43)"
            ],
            [
             0.2,
             "rgb(214,96,77)"
            ],
            [
             0.3,
             "rgb(244,165,130)"
            ],
            [
             0.4,
             "rgb(253,219,199)"
            ],
            [
             0.5,
             "rgb(247,247,247)"
            ],
            [
             0.6,
             "rgb(209,229,240)"
            ],
            [
             0.7,
             "rgb(146,197,222)"
            ],
            [
             0.8,
             "rgb(67,147,195)"
            ],
            [
             0.9,
             "rgb(33,102,172)"
            ],
            [
             1,
             "rgb(5,48,97)"
            ]
           ],
           "sequential": [
            [
             0,
             "#440154"
            ],
            [
             0.1111111111111111,
             "#482878"
            ],
            [
             0.2222222222222222,
             "#3e4989"
            ],
            [
             0.3333333333333333,
             "#31688e"
            ],
            [
             0.4444444444444444,
             "#26828e"
            ],
            [
             0.5555555555555556,
             "#1f9e89"
            ],
            [
             0.6666666666666666,
             "#35b779"
            ],
            [
             0.7777777777777778,
             "#6ece58"
            ],
            [
             0.8888888888888888,
             "#b5de2b"
            ],
            [
             1,
             "#fde725"
            ]
           ],
           "sequentialminus": [
            [
             0,
             "#440154"
            ],
            [
             0.1111111111111111,
             "#482878"
            ],
            [
             0.2222222222222222,
             "#3e4989"
            ],
            [
             0.3333333333333333,
             "#31688e"
            ],
            [
             0.4444444444444444,
             "#26828e"
            ],
            [
             0.5555555555555556,
             "#1f9e89"
            ],
            [
             0.6666666666666666,
             "#35b779"
            ],
            [
             0.7777777777777778,
             "#6ece58"
            ],
            [
             0.8888888888888888,
             "#b5de2b"
            ],
            [
             1,
             "#fde725"
            ]
           ]
          },
          "colorway": [
           "#1F77B4",
           "#FF7F0E",
           "#2CA02C",
           "#D62728",
           "#9467BD",
           "#8C564B",
           "#E377C2",
           "#7F7F7F",
           "#BCBD22",
           "#17BECF"
          ],
          "font": {
           "color": "rgb(36,36,36)"
          },
          "geo": {
           "bgcolor": "white",
           "lakecolor": "white",
           "landcolor": "white",
           "showlakes": true,
           "showland": true,
           "subunitcolor": "white"
          },
          "hoverlabel": {
           "align": "left"
          },
          "hovermode": "closest",
          "mapbox": {
           "style": "light"
          },
          "paper_bgcolor": "white",
          "plot_bgcolor": "white",
          "polar": {
           "angularaxis": {
            "gridcolor": "rgb(232,232,232)",
            "linecolor": "rgb(36,36,36)",
            "showgrid": false,
            "showline": true,
            "ticks": "outside"
           },
           "bgcolor": "white",
           "radialaxis": {
            "gridcolor": "rgb(232,232,232)",
            "linecolor": "rgb(36,36,36)",
            "showgrid": false,
            "showline": true,
            "ticks": "outside"
           }
          },
          "scene": {
           "xaxis": {
            "backgroundcolor": "white",
            "gridcolor": "rgb(232,232,232)",
            "gridwidth": 2,
            "linecolor": "rgb(36,36,36)",
            "showbackground": true,
            "showgrid": false,
            "showline": true,
            "ticks": "outside",
            "zeroline": false,
            "zerolinecolor": "rgb(36,36,36)"
           },
           "yaxis": {
            "backgroundcolor": "white",
            "gridcolor": "rgb(232,232,232)",
            "gridwidth": 2,
            "linecolor": "rgb(36,36,36)",
            "showbackground": true,
            "showgrid": false,
            "showline": true,
            "ticks": "outside",
            "zeroline": false,
            "zerolinecolor": "rgb(36,36,36)"
           },
           "zaxis": {
            "backgroundcolor": "white",
            "gridcolor": "rgb(232,232,232)",
            "gridwidth": 2,
            "linecolor": "rgb(36,36,36)",
            "showbackground": true,
            "showgrid": false,
            "showline": true,
            "ticks": "outside",
            "zeroline": false,
            "zerolinecolor": "rgb(36,36,36)"
           }
          },
          "shapedefaults": {
           "fillcolor": "black",
           "line": {
            "width": 0
           },
           "opacity": 0.3
          },
          "ternary": {
           "aaxis": {
            "gridcolor": "rgb(232,232,232)",
            "linecolor": "rgb(36,36,36)",
            "showgrid": false,
            "showline": true,
            "ticks": "outside"
           },
           "baxis": {
            "gridcolor": "rgb(232,232,232)",
            "linecolor": "rgb(36,36,36)",
            "showgrid": false,
            "showline": true,
            "ticks": "outside"
           },
           "bgcolor": "white",
           "caxis": {
            "gridcolor": "rgb(232,232,232)",
            "linecolor": "rgb(36,36,36)",
            "showgrid": false,
            "showline": true,
            "ticks": "outside"
           }
          },
          "title": {
           "x": 0.05
          },
          "xaxis": {
           "automargin": true,
           "gridcolor": "rgb(232,232,232)",
           "linecolor": "rgb(36,36,36)",
           "showgrid": false,
           "showline": true,
           "ticks": "outside",
           "title": {
            "standoff": 15
           },
           "zeroline": false,
           "zerolinecolor": "rgb(36,36,36)"
          },
          "yaxis": {
           "automargin": true,
           "gridcolor": "rgb(232,232,232)",
           "linecolor": "rgb(36,36,36)",
           "showgrid": false,
           "showline": true,
           "ticks": "outside",
           "title": {
            "standoff": 15
           },
           "zeroline": false,
           "zerolinecolor": "rgb(36,36,36)"
          }
         }
        },
        "title": {
         "font": {
          "color": "Black",
          "size": 22
         },
         "text": "Topics Over Time for 2023Q2",
         "x": 0.4,
         "xanchor": "center",
         "y": 0.95,
         "yanchor": "top"
        },
        "width": 1250,
        "xaxis": {
         "showgrid": true
        },
        "yaxis": {
         "showgrid": true,
         "title": {
          "text": "Frequency"
         }
        }
       }
      }
     },
     "metadata": {},
     "output_type": "display_data"
    },
    {
     "data": {
      "application/vnd.plotly.v1+json": {
       "config": {
        "plotlyServerURL": "https://plot.ly"
       },
       "data": [
        {
         "hoverinfo": "text",
         "hovertext": [
          "<b>Topic 0</b><br>Words: present, welcome, new, stakeholders, solve",
          "<b>Topic 0</b><br>Words: kuasa, tengah, jadi, chapter, belenggu",
          "<b>Topic 0</b><br>Words: uny, begini, ptn, rakyat, ganjar",
          "<b>Topic 0</b><br>Words: sehat, stabilitas, kewarganegaraannya, mebenai, gampang",
          "<b>Topic 0</b><br>Words: asing, omnibus, lebarlebar, hati, investasi",
          "<b>Topic 0</b><br>Words: wisatawan, like, gebrak, ellon, diy",
          "<b>Topic 0</b><br>Words: medical, wellness, hybrid, situasi, reportase",
          "<b>Topic 0</b><br>Words: amerika, subsidi, ekonomi, state, tampak",
          "<b>Topic 0</b><br>Words: apkh, jt, bikin, rugi, bagus",
          "<b>Topic 0</b><br>Words: mutu, saji, biaya, wabarakatuh, warahmatullahi",
          "<b>Topic 0</b><br>Words: bangsa, mahal, biaya, orang, beranganangan",
          "<b>Topic 0</b><br>Words: sehat, perintah, baik, kerja, rakyat",
          "<b>Topic 0</b><br>Words: pemuda, ditingjatkan, indeks, penyebarluasan, problem",
          "<b>Topic 0</b><br>Words: pajak, malah, korupsi, bayar, milik",
          "<b>Topic 0</b><br>Words: miskin, bagai, tuju, masif, malming",
          "<b>Topic 0</b><br>Words: ubah, sosial, sehat, semua, sisi",
          "<b>Topic 0</b><br>Words: keras, rakyat, dagang, negara, society",
          "<b>Topic 0</b><br>Words: ganjar, buat, baru, pak, ssemoga",
          "<b>Topic 0</b><br>Words: hidup, lingkung, tiru, dasar, pak",
          "<b>Topic 0</b><br>Words: investasi, ganti, pelihara, belit, meritokratik",
          "<b>Topic 0</b><br>Words: politik, pengaruh, melek, ekonomi, paham",
          "<b>Topic 0</b><br>Words: gratis, jateng, pak, turun, ganjar",
          "<b>Topic 0</b><br>Words: smakinmantab, kerennyasubianto, milihnyapakbowo, jelaskerjanya, baik",
          "<b>Topic 0</b><br>Words: smakinmantab, milihnyapakbowo, jelaskerjanya, kerennyasubianto, baik",
          "<b>Topic 0</b><br>Words: kerjanyajelas, jelaspakbowo, baik, nih, harapankita",
          "<b>Topic 0</b><br>Words: delapansmangat, utkmasadepan, prabowo, barengpakbowo, majuinnkri",
          "<b>Topic 0</b><br>Words: ganjar, tani, siapa, mesti, manusia",
          "<b>Topic 0</b><br>Words: fair, kompeten, pikir, amin, sisi"
         ],
         "marker": {
          "color": "#E69F00"
         },
         "mode": "lines",
         "name": "0_prabowo_utkmasadepan_delapansmangat_ra...",
         "type": "scatter",
         "x": [
          "2023-07-04T06:07:01.600000+00:00",
          "2023-07-07T06:12:45.200000+00:00",
          "2023-07-10T06:18:28.800000+00:00",
          "2023-07-13T06:24:12.400000+00:00",
          "2023-07-16T06:29:56+00:00",
          "2023-07-22T06:41:23.200000+00:00",
          "2023-07-25T06:47:06.800000+00:00",
          "2023-07-28T06:52:50.400000+00:00",
          "2023-07-31T06:58:34+00:00",
          "2023-08-03T07:04:17.600000+00:00",
          "2023-08-06T07:10:01.200000+00:00",
          "2023-08-09T07:15:44.800000+00:00",
          "2023-08-12T07:21:28.400000+00:00",
          "2023-08-15T07:27:12+00:00",
          "2023-08-18T07:32:55.600000+00:00",
          "2023-08-21T07:38:39.200000+00:00",
          "2023-08-24T07:44:22.800000+00:00",
          "2023-08-27T07:50:06.400000+00:00",
          "2023-08-30T07:55:50+00:00",
          "2023-09-02T08:01:33.600000+00:00",
          "2023-09-05T08:07:17.200000+00:00",
          "2023-09-08T08:13:00.800000+00:00",
          "2023-09-11T08:18:44.400000+00:00",
          "2023-09-14T08:24:28+00:00",
          "2023-09-17T08:30:11.600000+00:00",
          "2023-09-20T08:35:55.200000+00:00",
          "2023-09-23T08:41:38.800000+00:00",
          "2023-09-26T08:47:22.400000+00:00"
         ],
         "y": [
          1,
          2,
          5,
          3,
          1,
          2,
          3,
          3,
          4,
          3,
          8,
          10,
          3,
          3,
          2,
          7,
          5,
          4,
          10,
          3,
          19,
          7,
          32,
          16,
          38,
          94,
          9,
          10
         ]
        },
        {
         "hoverinfo": "text",
         "hovertext": [
          "<b>Topic 1</b><br>Words: lo, antah, malaysia, enggak, indonesia",
          "<b>Topic 1</b><br>Words: unas, indonesia, negeri, memang, riil",
          "<b>Topic 1</b><br>Words: indonesia, makin, jadi, acu, full",
          "<b>Topic 1</b><br>Words: demografi, peka, kategori, mayoritas, golong",
          "<b>Topic 1</b><br>Words: moal, masataka, skak, budak, pis",
          "<b>Topic 1</b><br>Words: on, seapd, southeast, early, care",
          "<b>Topic 1</b><br>Words: indonesia, dini, usia, lama, asean",
          "<b>Topic 1</b><br>Words: indonesia, on, alias, stagnan, nadiem",
          "<b>Topic 1</b><br>Words: indonesia, lomba, ormas, bidang, tahun",
          "<b>Topic 1</b><br>Words: sd, indonesia, pukis, bbpmp, morninggg",
          "<b>Topic 1</b><br>Words: indonesia, gratis, alas, selenggara, pkbm",
          "<b>Topic 1</b><br>Words: gera, indonesia, tahun, entrepreneurship, women",
          "<b>Topic 1</b><br>Words: dokter, indonesia, kaum, bidang, intensif",
          "<b>Topic 1</b><br>Words: indonesia, begini, krisis, otsus, enggak",
          "<b>Topic 1</b><br>Words: pesimis, gamang, tadi, metrotvnews, youtube",
          "<b>Topic 1</b><br>Words: tahu, indonesia, berdarahdarah, otak, putar",
          "<b>Topic 1</b><br>Words: indonesia, keras, maju, hadap, anggur",
          "<b>Topic 1</b><br>Words: indonesia, jadi, pak, anies, jakarta",
          "<b>Topic 1</b><br>Words: derita, lain, begini, selalu, kurikulum",
          "<b>Topic 1</b><br>Words: indonesia, buah, kenal, merdeka, teamwork",
          "<b>Topic 1</b><br>Words: islam, indonesia, sistematis, alternatif, sistemik",
          "<b>Topic 1</b><br>Words: anies, nunjukin, jakarta, wibawa, pintar",
          "<b>Topic 1</b><br>Words: direktorat, islam, sudirman, direktur, akademik",
          "<b>Topic 1</b><br>Words: indonesia, anies, inklusif, aktif, hadir",
          "<b>Topic 1</b><br>Words: nu, nahdlatul, ulama, maarif, lp",
          "<b>Topic 1</b><br>Words: indonesia, inklusif, perempuan, aktif, butuh",
          "<b>Topic 1</b><br>Words: benarbenar, tunjuk, wibawa, beliau, cerdas",
          "<b>Topic 1</b><br>Words: kurikulum, indonesia, merdeka, zaman, sejak"
         ],
         "marker": {
          "color": "#56B4E9"
         },
         "mode": "lines",
         "name": "1_indonesia_anies_jadi_jakarta",
         "type": "scatter",
         "x": [
          "2023-07-04T06:07:01.600000+00:00",
          "2023-07-07T06:12:45.200000+00:00",
          "2023-07-10T06:18:28.800000+00:00",
          "2023-07-13T06:24:12.400000+00:00",
          "2023-07-16T06:29:56+00:00",
          "2023-07-22T06:41:23.200000+00:00",
          "2023-07-25T06:47:06.800000+00:00",
          "2023-07-28T06:52:50.400000+00:00",
          "2023-07-31T06:58:34+00:00",
          "2023-08-03T07:04:17.600000+00:00",
          "2023-08-06T07:10:01.200000+00:00",
          "2023-08-09T07:15:44.800000+00:00",
          "2023-08-12T07:21:28.400000+00:00",
          "2023-08-15T07:27:12+00:00",
          "2023-08-18T07:32:55.600000+00:00",
          "2023-08-21T07:38:39.200000+00:00",
          "2023-08-24T07:44:22.800000+00:00",
          "2023-08-27T07:50:06.400000+00:00",
          "2023-08-30T07:55:50+00:00",
          "2023-09-02T08:01:33.600000+00:00",
          "2023-09-05T08:07:17.200000+00:00",
          "2023-09-08T08:13:00.800000+00:00",
          "2023-09-11T08:18:44.400000+00:00",
          "2023-09-14T08:24:28+00:00",
          "2023-09-17T08:30:11.600000+00:00",
          "2023-09-20T08:35:55.200000+00:00",
          "2023-09-23T08:41:38.800000+00:00",
          "2023-09-26T08:47:22.400000+00:00"
         ],
         "y": [
          2,
          3,
          7,
          1,
          1,
          2,
          11,
          9,
          4,
          3,
          6,
          6,
          3,
          6,
          2,
          2,
          2,
          12,
          1,
          8,
          6,
          7,
          1,
          18,
          4,
          4,
          1,
          5
         ]
        },
        {
         "hoverinfo": "text",
         "hovertext": [
          "<b>Topic 2</b><br>Words: orang, antara, profesional, positif, marketplace",
          "<b>Topic 2</b><br>Words: hebat, lihat, sekolah, orang, beban",
          "<b>Topic 2</b><br>Words: gaji, guru, bikin, sekolah, anggar",
          "<b>Topic 2</b><br>Words: tegas, pakar, tindak, pungli, sekolah",
          "<b>Topic 2</b><br>Words: kipk, jahat, potensi, sekolah, cuma",
          "<b>Topic 2</b><br>Words: salah, amp, unfaedah, andil, zonasi",
          "<b>Topic 2</b><br>Words: formal, sampai, darmawan, cecep, sumber",
          "<b>Topic 2</b><br>Words: sekolah, skola, masuk, potensi, ambil",
          "<b>Topic 2</b><br>Words: sejarah, pungut, sekolah, sesuai, hak",
          "<b>Topic 2</b><br>Words: sekolah, rembang, repot, adekku, iur",
          "<b>Topic 2</b><br>Words: jaman, sekarang, guru, saklek, mbiyen",
          "<b>Topic 2</b><br>Words: gtk, perdirjen, awas, implementasi, peran",
          "<b>Topic 2</b><br>Words: lulus, muda, kampus, beberapa, info",
          "<b>Topic 2</b><br>Words: negara, worst, diskriminasi, struktural, opinion",
          "<b>Topic 2</b><br>Words: guru, ganjar, honorer, peduli, umk",
          "<b>Topic 2</b><br>Words: guru, peduli, ganjar, honorer, alhamdulillah",
          "<b>Topic 2</b><br>Words: jelaskerjanya, kerennyasubianto, milihnyapakbowo, smakinmantab, sekolah",
          "<b>Topic 2</b><br>Words: sekolah, baik, nih, kerennyasubianto, milihnyapakbowo",
          "<b>Topic 2</b><br>Words: sekolah, kerjanyajelas, jelaspakbowo, nih, baik",
          "<b>Topic 2</b><br>Words: kiblat, timpang, algoritma, kostum, point",
          "<b>Topic 2</b><br>Words: nasib, sekolah, guru, mau, toilet",
          "<b>Topic 2</b><br>Words: keras, sekolah, daerah, orang, bullying"
         ],
         "marker": {
          "color": "#009E73"
         },
         "mode": "lines",
         "name": "2_sekolah_nih_guru_baik",
         "type": "scatter",
         "x": [
          "2023-07-01T03:51:31.692000+00:00",
          "2023-07-04T06:07:01.600000+00:00",
          "2023-07-10T06:18:28.800000+00:00",
          "2023-07-13T06:24:12.400000+00:00",
          "2023-07-16T06:29:56+00:00",
          "2023-07-22T06:41:23.200000+00:00",
          "2023-07-25T06:47:06.800000+00:00",
          "2023-07-28T06:52:50.400000+00:00",
          "2023-08-06T07:10:01.200000+00:00",
          "2023-08-09T07:15:44.800000+00:00",
          "2023-08-15T07:27:12+00:00",
          "2023-08-21T07:38:39.200000+00:00",
          "2023-08-27T07:50:06.400000+00:00",
          "2023-08-30T07:55:50+00:00",
          "2023-09-05T08:07:17.200000+00:00",
          "2023-09-08T08:13:00.800000+00:00",
          "2023-09-11T08:18:44.400000+00:00",
          "2023-09-14T08:24:28+00:00",
          "2023-09-17T08:30:11.600000+00:00",
          "2023-09-20T08:35:55.200000+00:00",
          "2023-09-23T08:41:38.800000+00:00",
          "2023-09-26T08:47:22.400000+00:00"
         ],
         "y": [
          1,
          3,
          4,
          2,
          3,
          1,
          1,
          3,
          3,
          2,
          2,
          1,
          1,
          1,
          8,
          5,
          18,
          14,
          30,
          2,
          2,
          2
         ]
        },
        {
         "hoverinfo": "text",
         "hovertext": [
          "<b>Topic 3</b><br>Words: barangjasa, ada, sertifikasi, ppsdm, bekerjasama",
          "<b>Topic 3</b><br>Words: data, awal, siswa, blinder, tn",
          "<b>Topic 3</b><br>Words: ada, barangjasa, analis, rencana, kait",
          "<b>Topic 3</b><br>Words: institusi, panja, selesai, tawar, panitia",
          "<b>Topic 3</b><br>Words: audiensi, usul, kukar, rpm, rapat",
          "<b>Topic 3</b><br>Words: itb, fck, dimultikampus, rektor, senjang",
          "<b>Topic 3</b><br>Words: daerah, temu, rise, tim, survei",
          "<b>Topic 3</b><br>Words: hutan, tni, snya, atrbpn, apel",
          "<b>Topic 3</b><br>Words: profil, karakter, internasional, pancasila, ikut",
          "<b>Topic 3</b><br>Words: pts, ptn, thd, papan, ranking",
          "<b>Topic 3</b><br>Words: big, ina, loker, dikirimin, ranah",
          "<b>Topic 3</b><br>Words: mahasiswa, skripsi, kelulus, budaya, teknologi",
          "<b>Topic 3</b><br>Words: skripsi, kelulus, mahasiswa, syarat, wajib",
          "<b>Topic 3</b><br>Words: aceh, madu, sekretaris, terampil, hamzah",
          "<b>Topic 3</b><br>Words: kelulus, merdeka, permedikbudristek, signifikan, skripsi",
          "<b>Topic 3</b><br>Words: dinas, rapat, barat, budaya, numerasi",
          "<b>Topic 3</b><br>Words: ri, perintah, provinsikabupatenkota, bimtek, nomor",
          "<b>Topic 3</b><br>Words: kunjung, kota, siswa, laksana, aamir",
          "<b>Topic 3</b><br>Words: laku, ubah, kurikulum, arti, makna"
         ],
         "marker": {
          "color": "#F0E442"
         },
         "mode": "lines",
         "name": "3_skripsi_mahasiswa_barangjasa_kelulus",
         "type": "scatter",
         "x": [
          "2023-07-04T06:07:01.600000+00:00",
          "2023-07-10T06:18:28.800000+00:00",
          "2023-07-13T06:24:12.400000+00:00",
          "2023-07-25T06:47:06.800000+00:00",
          "2023-07-31T06:58:34+00:00",
          "2023-08-03T07:04:17.600000+00:00",
          "2023-08-09T07:15:44.800000+00:00",
          "2023-08-12T07:21:28.400000+00:00",
          "2023-08-18T07:32:55.600000+00:00",
          "2023-08-21T07:38:39.200000+00:00",
          "2023-08-24T07:44:22.800000+00:00",
          "2023-08-27T07:50:06.400000+00:00",
          "2023-08-30T07:55:50+00:00",
          "2023-09-02T08:01:33.600000+00:00",
          "2023-09-05T08:07:17.200000+00:00",
          "2023-09-11T08:18:44.400000+00:00",
          "2023-09-14T08:24:28+00:00",
          "2023-09-17T08:30:11.600000+00:00",
          "2023-09-26T08:47:22.400000+00:00"
         ],
         "y": [
          3,
          2,
          2,
          2,
          1,
          1,
          1,
          3,
          1,
          1,
          1,
          7,
          5,
          2,
          3,
          4,
          2,
          2,
          1
         ]
        },
        {
         "hoverinfo": "text",
         "hovertext": [
          "<b>Topic 4</b><br>Words: surabaya, pakar, pranowo, puji, rang",
          "<b>Topic 4</b><br>Words: ngacak, wenang, menteri, sama, pls",
          "<b>Topic 4</b><br>Words: masuk, usia, menteri, kepri, pulau",
          "<b>Topic 4</b><br>Words: nadiem, menteri, belum, effendy, zonasi",
          "<b>Topic 4</b><br>Words: ganti, cetak, buku, menteri, jempol",
          "<b>Topic 4</b><br>Words: menteri, urus, bebas, merdeka, ngobrakabrik",
          "<b>Topic 4</b><br>Words: guru, hasilin, rekoso, km, plis",
          "<b>Topic 4</b><br>Words: kampuskamus, orba, mirip, metabolisme, rapi",
          "<b>Topic 4</b><br>Words: menteri, tersebutcontoh, mu, mengajingkanpasti, membangsatkankebijakan",
          "<b>Topic 4</b><br>Words: prancis, abaya, maurice, macron, utrillo",
          "<b>Topic 4</b><br>Words: tunggu, manfaat, menteri, jadi, dunia",
          "<b>Topic 4</b><br>Words: menteri, ganti, kalau, jadi, memang",
          "<b>Topic 4</b><br>Words: viral, ayunda, maudy, menteri, jadi"
         ],
         "marker": {
          "color": "#D55E00"
         },
         "mode": "lines",
         "name": "4_menteri_ganti_jadi_maudy",
         "type": "scatter",
         "x": [
          "2023-07-10T06:18:28.800000+00:00",
          "2023-07-13T06:24:12.400000+00:00",
          "2023-07-16T06:29:56+00:00",
          "2023-07-28T06:52:50.400000+00:00",
          "2023-07-31T06:58:34+00:00",
          "2023-08-06T07:10:01.200000+00:00",
          "2023-08-15T07:27:12+00:00",
          "2023-08-21T07:38:39.200000+00:00",
          "2023-08-27T07:50:06.400000+00:00",
          "2023-09-05T08:07:17.200000+00:00",
          "2023-09-08T08:13:00.800000+00:00",
          "2023-09-14T08:24:28+00:00",
          "2023-09-17T08:30:11.600000+00:00"
         ],
         "y": [
          2,
          2,
          2,
          3,
          1,
          2,
          1,
          1,
          1,
          1,
          3,
          11,
          4
         ]
        },
        {
         "hoverinfo": "text",
         "hovertext": [
          "<b>Topic 5</b><br>Words: gilas, orang, desa, solusi, kota",
          "<b>Topic 5</b><br>Words: zonasi, ppdb, jalur, meski, butuh",
          "<b>Topic 5</b><br>Words: zonasi, ppdb, kait, read, general",
          "<b>Topic 5</b><br>Words: zonasi, ppdb, panggil, manipulasi, goblok",
          "<b>Topic 5</b><br>Words: zonasi, penyamarataan, sadar, sebab, antar",
          "<b>Topic 5</b><br>Words: muhadjir, menko, zonasi, ppdb, tuju",
          "<b>Topic 5</b><br>Words: zonasi, ppdb, nadiem, makarim, teknologi",
          "<b>Topic 5</b><br>Words: zonasi, ppdb, sistem, anyar, celah",
          "<b>Topic 5</b><br>Words: hate, speech, negatif, lapor, bahaya",
          "<b>Topic 5</b><br>Words: jawa, tengah, simpan, judul, apresiasi",
          "<b>Topic 5</b><br>Words: lurus, banding, prasarana, sarana, contoh",
          "<b>Topic 5</b><br>Words: sender, banget, daerah, mostly, temanteman",
          "<b>Topic 5</b><br>Words: konsolidasi, narkoba, sintang, tanggap, ancam",
          "<b>Topic 5</b><br>Words: solusi, perata, zonasi, sistem, ppdb",
          "<b>Topic 5</b><br>Words: ppdb, dinas, kan, mk, zonasi"
         ],
         "marker": {
          "color": "#0072B2"
         },
         "mode": "lines",
         "name": "5_zonasi_ppdb_sistem_muhadjir",
         "type": "scatter",
         "x": [
          "2023-07-04T06:07:01.600000+00:00",
          "2023-07-07T06:12:45.200000+00:00",
          "2023-07-10T06:18:28.800000+00:00",
          "2023-07-13T06:24:12.400000+00:00",
          "2023-07-16T06:29:56+00:00",
          "2023-07-25T06:47:06.800000+00:00",
          "2023-07-28T06:52:50.400000+00:00",
          "2023-08-06T07:10:01.200000+00:00",
          "2023-08-12T07:21:28.400000+00:00",
          "2023-08-15T07:27:12+00:00",
          "2023-08-21T07:38:39.200000+00:00",
          "2023-08-30T07:55:50+00:00",
          "2023-09-14T08:24:28+00:00",
          "2023-09-23T08:41:38.800000+00:00",
          "2023-09-26T08:47:22.400000+00:00"
         ],
         "y": [
          1,
          5,
          2,
          2,
          1,
          2,
          6,
          2,
          1,
          1,
          1,
          1,
          1,
          1,
          1
         ]
        },
        {
         "hoverinfo": "text",
         "hovertext": [
          "<b>Topic 6</b><br>Words: garmen, ruswadi, ampsembako, ojek, nelayan",
          "<b>Topic 6</b><br>Words: beri, aksee, kotak, pkb, an",
          "<b>Topic 6</b><br>Words: biaya, akses, gratis, beri, gherriya",
          "<b>Topic 6</b><br>Words: spp, luas, akses, pranowo, tuju",
          "<b>Topic 6</b><br>Words: bebas, biaya, akses, hasil, rata",
          "<b>Topic 6</b><br>Words: biaya, akses, spp, pungut, oleh",
          "<b>Topic 6</b><br>Words: anies, fixs, bebas, rata, akses",
          "<b>Topic 6</b><br>Words: bayar, biaya, pisah, nana, yaiyaaa"
         ],
         "marker": {
          "color": "#CC79A7"
         },
         "mode": "lines",
         "name": "6_biaya_akses_bebas_beri",
         "type": "scatter",
         "x": [
          "2023-07-07T06:12:45.200000+00:00",
          "2023-07-10T06:18:28.800000+00:00",
          "2023-08-06T07:10:01.200000+00:00",
          "2023-08-21T07:38:39.200000+00:00",
          "2023-08-24T07:44:22.800000+00:00",
          "2023-09-08T08:13:00.800000+00:00",
          "2023-09-11T08:18:44.400000+00:00",
          "2023-09-14T08:24:28+00:00"
         ],
         "y": [
          1,
          1,
          2,
          1,
          9,
          1,
          3,
          1
         ]
        },
        {
         "hoverinfo": "text",
         "hovertext": [
          "<b>Topic 7</b><br>Words: sedukitsedikut, dibenerin, nikai, mendasarksn, efek",
          "<b>Topic 7</b><br>Words: periode, kalian, terlalu, sektor, berubahubah",
          "<b>Topic 7</b><br>Words: awak, gadang, nadim, hijab, gojek",
          "<b>Topic 7</b><br>Words: abai, great, kebaji, klaim, youre",
          "<b>Topic 7</b><br>Words: intervensi, rancu, sesat, rsup, adam",
          "<b>Topic 7</b><br>Words: enggak, erti, sbnernya, akan, alur",
          "<b>Topic 7</b><br>Words: bukan, brpikir, idealis, men, ilmiahmetodologis",
          "<b>Topic 7</b><br>Words: enggak, nalar, momok, un, kritis",
          "<b>Topic 7</b><br>Words: guna, enggak, research, asalasal, kirakira",
          "<b>Topic 7</b><br>Words: enggak, tau, ups, ndakik, bener",
          "<b>Topic 7</b><br>Words: orangorang, gitu, bisabisanya, pgsd, abrek"
         ],
         "marker": {
          "color": "#E69F00"
         },
         "mode": "lines",
         "name": "7_enggak_bukan_tau_periode",
         "type": "scatter",
         "x": [
          "2023-07-10T06:18:28.800000+00:00",
          "2023-07-13T06:24:12.400000+00:00",
          "2023-07-28T06:52:50.400000+00:00",
          "2023-08-15T07:27:12+00:00",
          "2023-08-18T07:32:55.600000+00:00",
          "2023-08-27T07:50:06.400000+00:00",
          "2023-09-02T08:01:33.600000+00:00",
          "2023-09-05T08:07:17.200000+00:00",
          "2023-09-11T08:18:44.400000+00:00",
          "2023-09-14T08:24:28+00:00",
          "2023-09-20T08:35:55.200000+00:00"
         ],
         "y": [
          1,
          2,
          1,
          2,
          1,
          1,
          1,
          1,
          1,
          1,
          1
         ]
        },
        {
         "hoverinfo": "text",
         "hovertext": [
          "<b>Topic 8</b><br>Words: hasil, beasiswa, raih, real, mampu",
          "<b>Topic 8</b><br>Words: raih, beasiswa, mampu, jakarta, anies"
         ],
         "marker": {
          "color": "#56B4E9"
         },
         "mode": "lines",
         "name": "8_beasiswa_raih_hasil_mampu",
         "type": "scatter",
         "x": [
          "2023-08-24T07:44:22.800000+00:00",
          "2023-09-11T08:18:44.400000+00:00"
         ],
         "y": [
          5,
          7
         ]
        }
       ],
       "layout": {
        "height": 450,
        "hoverlabel": {
         "bgcolor": "white",
         "font": {
          "family": "Rockwell",
          "size": 16
         }
        },
        "legend": {
         "title": {
          "text": "<b>Global Topic Representation"
         }
        },
        "template": {
         "data": {
          "bar": [
           {
            "error_x": {
             "color": "rgb(36,36,36)"
            },
            "error_y": {
             "color": "rgb(36,36,36)"
            },
            "marker": {
             "line": {
              "color": "white",
              "width": 0.5
             },
             "pattern": {
              "fillmode": "overlay",
              "size": 10,
              "solidity": 0.2
             }
            },
            "type": "bar"
           }
          ],
          "barpolar": [
           {
            "marker": {
             "line": {
              "color": "white",
              "width": 0.5
             },
             "pattern": {
              "fillmode": "overlay",
              "size": 10,
              "solidity": 0.2
             }
            },
            "type": "barpolar"
           }
          ],
          "carpet": [
           {
            "aaxis": {
             "endlinecolor": "rgb(36,36,36)",
             "gridcolor": "white",
             "linecolor": "white",
             "minorgridcolor": "white",
             "startlinecolor": "rgb(36,36,36)"
            },
            "baxis": {
             "endlinecolor": "rgb(36,36,36)",
             "gridcolor": "white",
             "linecolor": "white",
             "minorgridcolor": "white",
             "startlinecolor": "rgb(36,36,36)"
            },
            "type": "carpet"
           }
          ],
          "choropleth": [
           {
            "colorbar": {
             "outlinewidth": 1,
             "tickcolor": "rgb(36,36,36)",
             "ticks": "outside"
            },
            "type": "choropleth"
           }
          ],
          "contour": [
           {
            "colorbar": {
             "outlinewidth": 1,
             "tickcolor": "rgb(36,36,36)",
             "ticks": "outside"
            },
            "colorscale": [
             [
              0,
              "#440154"
             ],
             [
              0.1111111111111111,
              "#482878"
             ],
             [
              0.2222222222222222,
              "#3e4989"
             ],
             [
              0.3333333333333333,
              "#31688e"
             ],
             [
              0.4444444444444444,
              "#26828e"
             ],
             [
              0.5555555555555556,
              "#1f9e89"
             ],
             [
              0.6666666666666666,
              "#35b779"
             ],
             [
              0.7777777777777778,
              "#6ece58"
             ],
             [
              0.8888888888888888,
              "#b5de2b"
             ],
             [
              1,
              "#fde725"
             ]
            ],
            "type": "contour"
           }
          ],
          "contourcarpet": [
           {
            "colorbar": {
             "outlinewidth": 1,
             "tickcolor": "rgb(36,36,36)",
             "ticks": "outside"
            },
            "type": "contourcarpet"
           }
          ],
          "heatmap": [
           {
            "colorbar": {
             "outlinewidth": 1,
             "tickcolor": "rgb(36,36,36)",
             "ticks": "outside"
            },
            "colorscale": [
             [
              0,
              "#440154"
             ],
             [
              0.1111111111111111,
              "#482878"
             ],
             [
              0.2222222222222222,
              "#3e4989"
             ],
             [
              0.3333333333333333,
              "#31688e"
             ],
             [
              0.4444444444444444,
              "#26828e"
             ],
             [
              0.5555555555555556,
              "#1f9e89"
             ],
             [
              0.6666666666666666,
              "#35b779"
             ],
             [
              0.7777777777777778,
              "#6ece58"
             ],
             [
              0.8888888888888888,
              "#b5de2b"
             ],
             [
              1,
              "#fde725"
             ]
            ],
            "type": "heatmap"
           }
          ],
          "heatmapgl": [
           {
            "colorbar": {
             "outlinewidth": 1,
             "tickcolor": "rgb(36,36,36)",
             "ticks": "outside"
            },
            "colorscale": [
             [
              0,
              "#440154"
             ],
             [
              0.1111111111111111,
              "#482878"
             ],
             [
              0.2222222222222222,
              "#3e4989"
             ],
             [
              0.3333333333333333,
              "#31688e"
             ],
             [
              0.4444444444444444,
              "#26828e"
             ],
             [
              0.5555555555555556,
              "#1f9e89"
             ],
             [
              0.6666666666666666,
              "#35b779"
             ],
             [
              0.7777777777777778,
              "#6ece58"
             ],
             [
              0.8888888888888888,
              "#b5de2b"
             ],
             [
              1,
              "#fde725"
             ]
            ],
            "type": "heatmapgl"
           }
          ],
          "histogram": [
           {
            "marker": {
             "line": {
              "color": "white",
              "width": 0.6
             }
            },
            "type": "histogram"
           }
          ],
          "histogram2d": [
           {
            "colorbar": {
             "outlinewidth": 1,
             "tickcolor": "rgb(36,36,36)",
             "ticks": "outside"
            },
            "colorscale": [
             [
              0,
              "#440154"
             ],
             [
              0.1111111111111111,
              "#482878"
             ],
             [
              0.2222222222222222,
              "#3e4989"
             ],
             [
              0.3333333333333333,
              "#31688e"
             ],
             [
              0.4444444444444444,
              "#26828e"
             ],
             [
              0.5555555555555556,
              "#1f9e89"
             ],
             [
              0.6666666666666666,
              "#35b779"
             ],
             [
              0.7777777777777778,
              "#6ece58"
             ],
             [
              0.8888888888888888,
              "#b5de2b"
             ],
             [
              1,
              "#fde725"
             ]
            ],
            "type": "histogram2d"
           }
          ],
          "histogram2dcontour": [
           {
            "colorbar": {
             "outlinewidth": 1,
             "tickcolor": "rgb(36,36,36)",
             "ticks": "outside"
            },
            "colorscale": [
             [
              0,
              "#440154"
             ],
             [
              0.1111111111111111,
              "#482878"
             ],
             [
              0.2222222222222222,
              "#3e4989"
             ],
             [
              0.3333333333333333,
              "#31688e"
             ],
             [
              0.4444444444444444,
              "#26828e"
             ],
             [
              0.5555555555555556,
              "#1f9e89"
             ],
             [
              0.6666666666666666,
              "#35b779"
             ],
             [
              0.7777777777777778,
              "#6ece58"
             ],
             [
              0.8888888888888888,
              "#b5de2b"
             ],
             [
              1,
              "#fde725"
             ]
            ],
            "type": "histogram2dcontour"
           }
          ],
          "mesh3d": [
           {
            "colorbar": {
             "outlinewidth": 1,
             "tickcolor": "rgb(36,36,36)",
             "ticks": "outside"
            },
            "type": "mesh3d"
           }
          ],
          "parcoords": [
           {
            "line": {
             "colorbar": {
              "outlinewidth": 1,
              "tickcolor": "rgb(36,36,36)",
              "ticks": "outside"
             }
            },
            "type": "parcoords"
           }
          ],
          "pie": [
           {
            "automargin": true,
            "type": "pie"
           }
          ],
          "scatter": [
           {
            "fillpattern": {
             "fillmode": "overlay",
             "size": 10,
             "solidity": 0.2
            },
            "type": "scatter"
           }
          ],
          "scatter3d": [
           {
            "line": {
             "colorbar": {
              "outlinewidth": 1,
              "tickcolor": "rgb(36,36,36)",
              "ticks": "outside"
             }
            },
            "marker": {
             "colorbar": {
              "outlinewidth": 1,
              "tickcolor": "rgb(36,36,36)",
              "ticks": "outside"
             }
            },
            "type": "scatter3d"
           }
          ],
          "scattercarpet": [
           {
            "marker": {
             "colorbar": {
              "outlinewidth": 1,
              "tickcolor": "rgb(36,36,36)",
              "ticks": "outside"
             }
            },
            "type": "scattercarpet"
           }
          ],
          "scattergeo": [
           {
            "marker": {
             "colorbar": {
              "outlinewidth": 1,
              "tickcolor": "rgb(36,36,36)",
              "ticks": "outside"
             }
            },
            "type": "scattergeo"
           }
          ],
          "scattergl": [
           {
            "marker": {
             "colorbar": {
              "outlinewidth": 1,
              "tickcolor": "rgb(36,36,36)",
              "ticks": "outside"
             }
            },
            "type": "scattergl"
           }
          ],
          "scattermapbox": [
           {
            "marker": {
             "colorbar": {
              "outlinewidth": 1,
              "tickcolor": "rgb(36,36,36)",
              "ticks": "outside"
             }
            },
            "type": "scattermapbox"
           }
          ],
          "scatterpolar": [
           {
            "marker": {
             "colorbar": {
              "outlinewidth": 1,
              "tickcolor": "rgb(36,36,36)",
              "ticks": "outside"
             }
            },
            "type": "scatterpolar"
           }
          ],
          "scatterpolargl": [
           {
            "marker": {
             "colorbar": {
              "outlinewidth": 1,
              "tickcolor": "rgb(36,36,36)",
              "ticks": "outside"
             }
            },
            "type": "scatterpolargl"
           }
          ],
          "scatterternary": [
           {
            "marker": {
             "colorbar": {
              "outlinewidth": 1,
              "tickcolor": "rgb(36,36,36)",
              "ticks": "outside"
             }
            },
            "type": "scatterternary"
           }
          ],
          "surface": [
           {
            "colorbar": {
             "outlinewidth": 1,
             "tickcolor": "rgb(36,36,36)",
             "ticks": "outside"
            },
            "colorscale": [
             [
              0,
              "#440154"
             ],
             [
              0.1111111111111111,
              "#482878"
             ],
             [
              0.2222222222222222,
              "#3e4989"
             ],
             [
              0.3333333333333333,
              "#31688e"
             ],
             [
              0.4444444444444444,
              "#26828e"
             ],
             [
              0.5555555555555556,
              "#1f9e89"
             ],
             [
              0.6666666666666666,
              "#35b779"
             ],
             [
              0.7777777777777778,
              "#6ece58"
             ],
             [
              0.8888888888888888,
              "#b5de2b"
             ],
             [
              1,
              "#fde725"
             ]
            ],
            "type": "surface"
           }
          ],
          "table": [
           {
            "cells": {
             "fill": {
              "color": "rgb(237,237,237)"
             },
             "line": {
              "color": "white"
             }
            },
            "header": {
             "fill": {
              "color": "rgb(217,217,217)"
             },
             "line": {
              "color": "white"
             }
            },
            "type": "table"
           }
          ]
         },
         "layout": {
          "annotationdefaults": {
           "arrowhead": 0,
           "arrowwidth": 1
          },
          "autotypenumbers": "strict",
          "coloraxis": {
           "colorbar": {
            "outlinewidth": 1,
            "tickcolor": "rgb(36,36,36)",
            "ticks": "outside"
           }
          },
          "colorscale": {
           "diverging": [
            [
             0,
             "rgb(103,0,31)"
            ],
            [
             0.1,
             "rgb(178,24,43)"
            ],
            [
             0.2,
             "rgb(214,96,77)"
            ],
            [
             0.3,
             "rgb(244,165,130)"
            ],
            [
             0.4,
             "rgb(253,219,199)"
            ],
            [
             0.5,
             "rgb(247,247,247)"
            ],
            [
             0.6,
             "rgb(209,229,240)"
            ],
            [
             0.7,
             "rgb(146,197,222)"
            ],
            [
             0.8,
             "rgb(67,147,195)"
            ],
            [
             0.9,
             "rgb(33,102,172)"
            ],
            [
             1,
             "rgb(5,48,97)"
            ]
           ],
           "sequential": [
            [
             0,
             "#440154"
            ],
            [
             0.1111111111111111,
             "#482878"
            ],
            [
             0.2222222222222222,
             "#3e4989"
            ],
            [
             0.3333333333333333,
             "#31688e"
            ],
            [
             0.4444444444444444,
             "#26828e"
            ],
            [
             0.5555555555555556,
             "#1f9e89"
            ],
            [
             0.6666666666666666,
             "#35b779"
            ],
            [
             0.7777777777777778,
             "#6ece58"
            ],
            [
             0.8888888888888888,
             "#b5de2b"
            ],
            [
             1,
             "#fde725"
            ]
           ],
           "sequentialminus": [
            [
             0,
             "#440154"
            ],
            [
             0.1111111111111111,
             "#482878"
            ],
            [
             0.2222222222222222,
             "#3e4989"
            ],
            [
             0.3333333333333333,
             "#31688e"
            ],
            [
             0.4444444444444444,
             "#26828e"
            ],
            [
             0.5555555555555556,
             "#1f9e89"
            ],
            [
             0.6666666666666666,
             "#35b779"
            ],
            [
             0.7777777777777778,
             "#6ece58"
            ],
            [
             0.8888888888888888,
             "#b5de2b"
            ],
            [
             1,
             "#fde725"
            ]
           ]
          },
          "colorway": [
           "#1F77B4",
           "#FF7F0E",
           "#2CA02C",
           "#D62728",
           "#9467BD",
           "#8C564B",
           "#E377C2",
           "#7F7F7F",
           "#BCBD22",
           "#17BECF"
          ],
          "font": {
           "color": "rgb(36,36,36)"
          },
          "geo": {
           "bgcolor": "white",
           "lakecolor": "white",
           "landcolor": "white",
           "showlakes": true,
           "showland": true,
           "subunitcolor": "white"
          },
          "hoverlabel": {
           "align": "left"
          },
          "hovermode": "closest",
          "mapbox": {
           "style": "light"
          },
          "paper_bgcolor": "white",
          "plot_bgcolor": "white",
          "polar": {
           "angularaxis": {
            "gridcolor": "rgb(232,232,232)",
            "linecolor": "rgb(36,36,36)",
            "showgrid": false,
            "showline": true,
            "ticks": "outside"
           },
           "bgcolor": "white",
           "radialaxis": {
            "gridcolor": "rgb(232,232,232)",
            "linecolor": "rgb(36,36,36)",
            "showgrid": false,
            "showline": true,
            "ticks": "outside"
           }
          },
          "scene": {
           "xaxis": {
            "backgroundcolor": "white",
            "gridcolor": "rgb(232,232,232)",
            "gridwidth": 2,
            "linecolor": "rgb(36,36,36)",
            "showbackground": true,
            "showgrid": false,
            "showline": true,
            "ticks": "outside",
            "zeroline": false,
            "zerolinecolor": "rgb(36,36,36)"
           },
           "yaxis": {
            "backgroundcolor": "white",
            "gridcolor": "rgb(232,232,232)",
            "gridwidth": 2,
            "linecolor": "rgb(36,36,36)",
            "showbackground": true,
            "showgrid": false,
            "showline": true,
            "ticks": "outside",
            "zeroline": false,
            "zerolinecolor": "rgb(36,36,36)"
           },
           "zaxis": {
            "backgroundcolor": "white",
            "gridcolor": "rgb(232,232,232)",
            "gridwidth": 2,
            "linecolor": "rgb(36,36,36)",
            "showbackground": true,
            "showgrid": false,
            "showline": true,
            "ticks": "outside",
            "zeroline": false,
            "zerolinecolor": "rgb(36,36,36)"
           }
          },
          "shapedefaults": {
           "fillcolor": "black",
           "line": {
            "width": 0
           },
           "opacity": 0.3
          },
          "ternary": {
           "aaxis": {
            "gridcolor": "rgb(232,232,232)",
            "linecolor": "rgb(36,36,36)",
            "showgrid": false,
            "showline": true,
            "ticks": "outside"
           },
           "baxis": {
            "gridcolor": "rgb(232,232,232)",
            "linecolor": "rgb(36,36,36)",
            "showgrid": false,
            "showline": true,
            "ticks": "outside"
           },
           "bgcolor": "white",
           "caxis": {
            "gridcolor": "rgb(232,232,232)",
            "linecolor": "rgb(36,36,36)",
            "showgrid": false,
            "showline": true,
            "ticks": "outside"
           }
          },
          "title": {
           "x": 0.05
          },
          "xaxis": {
           "automargin": true,
           "gridcolor": "rgb(232,232,232)",
           "linecolor": "rgb(36,36,36)",
           "showgrid": false,
           "showline": true,
           "ticks": "outside",
           "title": {
            "standoff": 15
           },
           "zeroline": false,
           "zerolinecolor": "rgb(36,36,36)"
          },
          "yaxis": {
           "automargin": true,
           "gridcolor": "rgb(232,232,232)",
           "linecolor": "rgb(36,36,36)",
           "showgrid": false,
           "showline": true,
           "ticks": "outside",
           "title": {
            "standoff": 15
           },
           "zeroline": false,
           "zerolinecolor": "rgb(36,36,36)"
          }
         }
        },
        "title": {
         "font": {
          "color": "Black",
          "size": 22
         },
         "text": "Topics Over Time for 2023Q3",
         "x": 0.4,
         "xanchor": "center",
         "y": 0.95,
         "yanchor": "top"
        },
        "width": 1250,
        "xaxis": {
         "showgrid": true
        },
        "yaxis": {
         "showgrid": true,
         "title": {
          "text": "Frequency"
         }
        }
       }
      }
     },
     "metadata": {},
     "output_type": "display_data"
    },
    {
     "data": {
      "application/vnd.plotly.v1+json": {
       "config": {
        "plotlyServerURL": "https://plot.ly"
       },
       "data": [
        {
         "hoverinfo": "text",
         "hovertext": [
          "<b>Topic 0</b><br>Words: mau, lanjut, nih, wkwk, congratulations",
          "<b>Topic 0</b><br>Words: nih, baik, bapak, prabowo, jelasarahnya",
          "<b>Topic 0</b><br>Words: fair, tahu, capres, banget, ajar",
          "<b>Topic 0</b><br>Words: programprogram, rian, kebijakankebijakan, cara, beliau",
          "<b>Topic 0</b><br>Words: nih, masgibran, ayahbowo, baik, semangat",
          "<b>Topic 0</b><br>Words: lanjut, perhatiaan, milu, bingung, misi",
          "<b>Topic 0</b><br>Words: kembali, ahli, moga, nih, baik",
          "<b>Topic 0</b><br>Words: untukprabowo, katamereka, prabowo, insentif, pesat",
          "<b>Topic 0</b><br>Words: baik, lebih, gibran, kurang, anggap",
          "<b>Topic 0</b><br>Words: gin, madu, cerita, alam, bagus"
         ],
         "marker": {
          "color": "#E69F00"
         },
         "mode": "lines",
         "name": "0_nih_baik_standar_solutif",
         "type": "scatter",
         "x": [
          "2023-09-30T22:07:50.763000+00:00",
          "2023-10-10T02:32:30.700000+00:00",
          "2023-10-19T04:46:14.400000+00:00",
          "2023-10-22T05:30:48.966666+00:00",
          "2023-10-25T06:15:23.533333+00:00",
          "2023-10-28T06:59:58.100000+00:00",
          "2023-11-24T13:41:09.200000+00:00",
          "2023-12-18T19:37:45.733333+00:00",
          "2023-12-24T21:06:54.866666+00:00",
          "2023-12-27T21:51:29.433333+00:00"
         ],
         "y": [
          2,
          132,
          1,
          1,
          114,
          1,
          1,
          6,
          4,
          2
         ]
        },
        {
         "hoverinfo": "text",
         "hovertext": [
          "<b>Topic 1</b><br>Words: indonesia, jelas, kagak, mau, ambil",
          "<b>Topic 1</b><br>Words: indonesia, berani, buat, inklusif, anies",
          "<b>Topic 1</b><br>Words: mampu, mantep, upaya, amin, hadir",
          "<b>Topic 1</b><br>Words: indonesia, ganjar, presiden, maju, pikir",
          "<b>Topic 1</b><br>Words: indonesia, aset, pks, selalu, negara",
          "<b>Topic 1</b><br>Words: indonesia, siap, ganjar, presiden, inklusif",
          "<b>Topic 1</b><br>Words: issues, bahas, indonesia, anies, enough",
          "<b>Topic 1</b><br>Words: jabat, indonesia, hasil, anies, partisipasi",
          "<b>Topic 1</b><br>Words: anies, hasil, indonesia, baswedan, rombak",
          "<b>Topic 1</b><br>Words: indonesia, skor, iq, seharihari, pengaruh",
          "<b>Topic 1</b><br>Words: papua, bangun, gencar, asimetris, sekolahsekolah",
          "<b>Topic 1</b><br>Words: gpmmd, indonesia, papua, gratis, aceh",
          "<b>Topic 1</b><br>Words: prabowogibran, untukindonesia, tahan, usung, inovasi",
          "<b>Topic 1</b><br>Words: indonesia, maju, untukprabowo, katamereka, komitmen",
          "<b>Topic 1</b><br>Words: internet, cepat, indonesia, gratis, wilayah",
          "<b>Topic 1</b><br>Words: indonesia, guru, mahfud, ganjar, agama",
          "<b>Topic 1</b><br>Words: indonesia, md, mahfud, tepat, pranowo"
         ],
         "marker": {
          "color": "#56B4E9"
         },
         "mode": "lines",
         "name": "1_indonesia_internet_ganjar_gpmmd",
         "type": "scatter",
         "x": [
          "2023-09-30T22:07:50.763000+00:00",
          "2023-10-04T01:03:21.566666+00:00",
          "2023-10-07T01:47:56.133333+00:00",
          "2023-10-10T02:32:30.700000+00:00",
          "2023-10-13T03:17:05.266666+00:00",
          "2023-10-16T04:01:39.833333+00:00",
          "2023-10-19T04:46:14.400000+00:00",
          "2023-10-22T05:30:48.966666+00:00",
          "2023-10-25T06:15:23.533333+00:00",
          "2023-10-28T06:59:58.100000+00:00",
          "2023-11-24T13:41:09.200000+00:00",
          "2023-11-27T14:25:43.766666+00:00",
          "2023-12-15T18:53:11.166666+00:00",
          "2023-12-18T19:37:45.733333+00:00",
          "2023-12-21T20:22:20.300000+00:00",
          "2023-12-24T21:06:54.866666+00:00",
          "2023-12-27T21:51:29.433333+00:00"
         ],
         "y": [
          2,
          5,
          1,
          13,
          4,
          5,
          2,
          4,
          9,
          4,
          1,
          29,
          2,
          15,
          17,
          9,
          7
         ]
        },
        {
         "hoverinfo": "text",
         "hovertext": [
          "<b>Topic 2</b><br>Words: peluang, nkrisejahtera, jatuhhati, kinerjapakbowo, puskesmas",
          "<b>Topic 2</b><br>Words: klik, th, link, dm, pd",
          "<b>Topic 2</b><br>Words: alam, puskesmas, makmur, anies, naik",
          "<b>Topic 2</b><br>Words: berjejaring, perilaku, organisasi, sehat, mitra",
          "<b>Topic 2</b><br>Words: ekonomi, anies, gelar, paham, siap",
          "<b>Topic 2</b><br>Words: ekonomi, go, bangun, pks, background",
          "<b>Topic 2</b><br>Words: konsisten, rian, jakarta, terap, bagai",
          "<b>Topic 2</b><br>Words: seoarang, kesah, backgroundya, keluh, bisnis",
          "<b>Topic 2</b><br>Words: politik, pecah, terampil, tentu, pengaruh",
          "<b>Topic 2</b><br>Words: informasi, kampanye, verifikasi, kandidat, periksa",
          "<b>Topic 2</b><br>Words: gpmmd, kupang, ganjarmahfud, sabang, merauke",
          "<b>Topic 2</b><br>Words: ganjarmahfud, visimisi, pranowo, ganjar, cipta",
          "<b>Topic 2</b><br>Words: top, lebih, mahfud, cipta, dukung",
          "<b>Topic 2</b><br>Words: programganjarmahfud, ganjar, cipta, baru, janji",
          "<b>Topic 2</b><br>Words: ganjarmahfud, bukti, lalu, inklusif, mahfud"
         ],
         "marker": {
          "color": "#009E73"
         },
         "mode": "lines",
         "name": "2_ganjarmahfud_gpmmd_ganjar_pranowo",
         "type": "scatter",
         "x": [
          "2023-10-04T01:03:21.566666+00:00",
          "2023-10-07T01:47:56.133333+00:00",
          "2023-10-10T02:32:30.700000+00:00",
          "2023-10-13T03:17:05.266666+00:00",
          "2023-10-16T04:01:39.833333+00:00",
          "2023-10-19T04:46:14.400000+00:00",
          "2023-10-22T05:30:48.966666+00:00",
          "2023-10-25T06:15:23.533333+00:00",
          "2023-10-28T06:59:58.100000+00:00",
          "2023-11-24T13:41:09.200000+00:00",
          "2023-11-27T14:25:43.766666+00:00",
          "2023-12-18T19:37:45.733333+00:00",
          "2023-12-21T20:22:20.300000+00:00",
          "2023-12-24T21:06:54.866666+00:00",
          "2023-12-27T21:51:29.433333+00:00"
         ],
         "y": [
          4,
          1,
          6,
          1,
          4,
          2,
          1,
          1,
          3,
          2,
          34,
          17,
          14,
          8,
          29
         ]
        },
        {
         "hoverinfo": "text",
         "hovertext": [
          "<b>Topic 3</b><br>Words: sekolah, kelola, biaya, gpmmd, anak",
          "<b>Topic 3</b><br>Words: sekolah, gratis, gpmmd, anak, tahun",
          "<b>Topic 3</b><br>Words: kampus, bagus, makin, memang, anak",
          "<b>Topic 3</b><br>Words: genz, milenial, idam, prokesetaraan, angin",
          "<b>Topic 3</b><br>Words: go, pks, prorakyat, khusus, perhati",
          "<b>Topic 3</b><br>Words: akses, berubahrubah, silabus, persetan, pilpres",
          "<b>Topic 3</b><br>Words: pontianak, investasi, amp, anak, tahun",
          "<b>Topic 3</b><br>Words: unicef, un, cuma, enggak, pendidikankesehatan",
          "<b>Topic 3</b><br>Words: erti, sekarang, gue, ngengonggong, akun",
          "<b>Topic 3</b><br>Words: gpmmd, merauke, sabang, tahun, gratis",
          "<b>Topic 3</b><br>Words: kendala, tenaga, dasar, ambil, tepat",
          "<b>Topic 3</b><br>Words: jurnal, anakanak, ganjarmahfud, edukasi, anak",
          "<b>Topic 3</b><br>Words: kuliah, dana, gratis, tinggi, sense",
          "<b>Topic 3</b><br>Words: anak, akses, atikoh, ibu, programganjarmahfud",
          "<b>Topic 3</b><br>Words: sepenuh, cari, gratis, gpmmd, masalah"
         ],
         "marker": {
          "color": "#F0E442"
         },
         "mode": "lines",
         "name": "3_gpmmd_gratis_tahun_merauke",
         "type": "scatter",
         "x": [
          "2023-09-30T22:07:50.763000+00:00",
          "2023-10-04T01:03:21.566666+00:00",
          "2023-10-10T02:32:30.700000+00:00",
          "2023-10-13T03:17:05.266666+00:00",
          "2023-10-19T04:46:14.400000+00:00",
          "2023-10-22T05:30:48.966666+00:00",
          "2023-10-25T06:15:23.533333+00:00",
          "2023-10-28T06:59:58.100000+00:00",
          "2023-11-24T13:41:09.200000+00:00",
          "2023-11-27T14:25:43.766666+00:00",
          "2023-12-15T18:53:11.166666+00:00",
          "2023-12-18T19:37:45.733333+00:00",
          "2023-12-21T20:22:20.300000+00:00",
          "2023-12-24T21:06:54.866666+00:00",
          "2023-12-27T21:51:29.433333+00:00"
         ],
         "y": [
          6,
          7,
          3,
          1,
          1,
          1,
          3,
          1,
          1,
          44,
          1,
          16,
          2,
          10,
          4
         ]
        },
        {
         "hoverinfo": "text",
         "hovertext": [
          "<b>Topic 4</b><br>Words: siahaan, marcell, usul, kecil, jangkau",
          "<b>Topic 4</b><br>Words: jatuhhati, kinerjapakbowo, nkrisejahtera, miskin, visisubianto",
          "<b>Topic 4</b><br>Words: miskin, sehat, bapak, prabowo, kerja",
          "<b>Topic 4</b><br>Words: memang, pascajajahan, silang, timbang, orientalis",
          "<b>Topic 4</b><br>Words: gembruduk, donasi, miskin, satu, peduli",
          "<b>Topic 4</b><br>Words: miskin, negara, rendah, strutural, well",
          "<b>Topic 4</b><br>Words: miskin, menangin, smangatmuda, okmilihmasgibran, akusih",
          "<b>Topic 4</b><br>Words: eyang, tiada, pmp, pancasila, lini",
          "<b>Topic 4</b><br>Words: miskin, keluarga, kupang, gpmmd, ganjarmahfud",
          "<b>Topic 4</b><br>Words: pks, pimp, kader, rintang, sedia",
          "<b>Topic 4</b><br>Words: keluarga, miskin, programganjarmahfud, dini, bayar",
          "<b>Topic 4</b><br>Words: miskin, keluarga, sarjana, kerja, pranowo"
         ],
         "marker": {
          "color": "#D55E00"
         },
         "mode": "lines",
         "name": "4_miskin_kinerjapakbowo_jatuhhati_nkrise...",
         "type": "scatter",
         "x": [
          "2023-09-30T22:07:50.763000+00:00",
          "2023-10-04T01:03:21.566666+00:00",
          "2023-10-10T02:32:30.700000+00:00",
          "2023-10-13T03:17:05.266666+00:00",
          "2023-10-16T04:01:39.833333+00:00",
          "2023-10-19T04:46:14.400000+00:00",
          "2023-10-25T06:15:23.533333+00:00",
          "2023-10-28T06:59:58.100000+00:00",
          "2023-11-27T14:25:43.766666+00:00",
          "2023-12-18T19:37:45.733333+00:00",
          "2023-12-24T21:06:54.866666+00:00",
          "2023-12-27T21:51:29.433333+00:00"
         ],
         "y": [
          1,
          38,
          13,
          2,
          3,
          1,
          7,
          1,
          14,
          1,
          5,
          12
         ]
        },
        {
         "hoverinfo": "text",
         "hovertext": [
          "<b>Topic 5</b><br>Words: presiden, benar, enggak, gue, ganjar",
          "<b>Topic 5</b><br>Words: beasiswa, presiden, ganjar, upaya, langkah",
          "<b>Topic 5</b><br>Words: ganjar, presiden, pak, moga, nyata",
          "<b>Topic 5</b><br>Words: presiden, ganjar, siap, pesantren, pak",
          "<b>Topic 5</b><br>Words: presiden, ganjar, terap, utama, pak",
          "<b>Topic 5</b><br>Words: presiden, ganjar, allah, masha, optimalisasi",
          "<b>Topic 5</b><br>Words: sentuh, gibran, nasional, mampu, bawa",
          "<b>Topic 5</b><br>Words: ganjarpranowo, presiden, ganjar, holistik, dukung",
          "<b>Topic 5</b><br>Words: madu, tindak, baswedan, mampu, politik"
         ],
         "marker": {
          "color": "#0072B2"
         },
         "mode": "lines",
         "name": "5_presiden_ganjar_pak_siap",
         "type": "scatter",
         "x": [
          "2023-09-30T22:07:50.763000+00:00",
          "2023-10-04T01:03:21.566666+00:00",
          "2023-10-10T02:32:30.700000+00:00",
          "2023-10-16T04:01:39.833333+00:00",
          "2023-10-22T05:30:48.966666+00:00",
          "2023-10-25T06:15:23.533333+00:00",
          "2023-11-24T13:41:09.200000+00:00",
          "2023-12-18T19:37:45.733333+00:00",
          "2023-12-24T21:06:54.866666+00:00"
         ],
         "y": [
          1,
          4,
          29,
          11,
          6,
          2,
          1,
          4,
          1
         ]
        },
        {
         "hoverinfo": "text",
         "hovertext": [
          "<b>Topic 6</b><br>Words: canang, riset, mendikbudristek, teknologi, kampus",
          "<b>Topic 6</b><br>Words: agama, kpu, ketua, sebut, pak",
          "<b>Topic 6</b><br>Words: kultural, identitas, selamat, santri, wujud",
          "<b>Topic 6</b><br>Words: nilainilai, bas, partai, seringkali, definisi",
          "<b>Topic 6</b><br>Words: khilafah, keaamanan, islam, tanggung, pokok",
          "<b>Topic 6</b><br>Words: lembaga, agama, aspirasi, milad, hidayatullah",
          "<b>Topic 6</b><br>Words: hukum, joki, aji, spiritual, agama",
          "<b>Topic 6</b><br>Words: dukung, ulama, yakin, untukprabowo, katamereka",
          "<b>Topic 6</b><br>Words: agama, programganjarmahfud, prof, pak, mahfud",
          "<b>Topic 6</b><br>Words: agama, guru, aji, mahfud, moral"
         ],
         "marker": {
          "color": "#CC79A7"
         },
         "mode": "lines",
         "name": "6_agama_aji_guru_dukung",
         "type": "scatter",
         "x": [
          "2023-10-07T01:47:56.133333+00:00",
          "2023-10-10T02:32:30.700000+00:00",
          "2023-10-16T04:01:39.833333+00:00",
          "2023-10-25T06:15:23.533333+00:00",
          "2023-10-28T06:59:58.100000+00:00",
          "2023-11-24T13:41:09.200000+00:00",
          "2023-11-27T14:25:43.766666+00:00",
          "2023-12-18T19:37:45.733333+00:00",
          "2023-12-24T21:06:54.866666+00:00",
          "2023-12-27T21:51:29.433333+00:00"
         ],
         "y": [
          1,
          4,
          1,
          1,
          2,
          1,
          6,
          4,
          8,
          6
         ]
        },
        {
         "hoverinfo": "text",
         "hovertext": [
          "<b>Topic 7</b><br>Words: gpmmd, tahun, merauke, sabang, gratis"
         ],
         "marker": {
          "color": "#E69F00"
         },
         "mode": "lines",
         "name": "7_gpmmd_tahun_sabang_merauke",
         "type": "scatter",
         "x": [
          "2023-11-27T14:25:43.766666+00:00"
         ],
         "y": [
          12
         ]
        },
        {
         "hoverinfo": "text",
         "hovertext": [
          "<b>Topic 8</b><br>Words: kota, ancam, narkoba, tanggap, lingkung",
          "<b>Topic 8</b><br>Words: konsolidasi, narkoba, ancam, kota, tanggap",
          "<b>Topic 8</b><br>Words: instansi, konsolidasi, ancam, narkoba, kota",
          "<b>Topic 8</b><br>Words: desa, kota, pks, tumbuh, kampanye",
          "<b>Topic 8</b><br>Words: kota, set, sat, desa, juara"
         ],
         "marker": {
          "color": "#56B4E9"
         },
         "mode": "lines",
         "name": "8_kota_desa_set_sat",
         "type": "scatter",
         "x": [
          "2023-10-04T01:03:21.566666+00:00",
          "2023-10-19T04:46:14.400000+00:00",
          "2023-10-25T06:15:23.533333+00:00",
          "2023-11-24T13:41:09.200000+00:00",
          "2023-12-21T20:22:20.300000+00:00"
         ],
         "y": [
          2,
          1,
          1,
          1,
          6
         ]
        }
       ],
       "layout": {
        "height": 450,
        "hoverlabel": {
         "bgcolor": "white",
         "font": {
          "family": "Rockwell",
          "size": 16
         }
        },
        "legend": {
         "title": {
          "text": "<b>Global Topic Representation"
         }
        },
        "template": {
         "data": {
          "bar": [
           {
            "error_x": {
             "color": "rgb(36,36,36)"
            },
            "error_y": {
             "color": "rgb(36,36,36)"
            },
            "marker": {
             "line": {
              "color": "white",
              "width": 0.5
             },
             "pattern": {
              "fillmode": "overlay",
              "size": 10,
              "solidity": 0.2
             }
            },
            "type": "bar"
           }
          ],
          "barpolar": [
           {
            "marker": {
             "line": {
              "color": "white",
              "width": 0.5
             },
             "pattern": {
              "fillmode": "overlay",
              "size": 10,
              "solidity": 0.2
             }
            },
            "type": "barpolar"
           }
          ],
          "carpet": [
           {
            "aaxis": {
             "endlinecolor": "rgb(36,36,36)",
             "gridcolor": "white",
             "linecolor": "white",
             "minorgridcolor": "white",
             "startlinecolor": "rgb(36,36,36)"
            },
            "baxis": {
             "endlinecolor": "rgb(36,36,36)",
             "gridcolor": "white",
             "linecolor": "white",
             "minorgridcolor": "white",
             "startlinecolor": "rgb(36,36,36)"
            },
            "type": "carpet"
           }
          ],
          "choropleth": [
           {
            "colorbar": {
             "outlinewidth": 1,
             "tickcolor": "rgb(36,36,36)",
             "ticks": "outside"
            },
            "type": "choropleth"
           }
          ],
          "contour": [
           {
            "colorbar": {
             "outlinewidth": 1,
             "tickcolor": "rgb(36,36,36)",
             "ticks": "outside"
            },
            "colorscale": [
             [
              0,
              "#440154"
             ],
             [
              0.1111111111111111,
              "#482878"
             ],
             [
              0.2222222222222222,
              "#3e4989"
             ],
             [
              0.3333333333333333,
              "#31688e"
             ],
             [
              0.4444444444444444,
              "#26828e"
             ],
             [
              0.5555555555555556,
              "#1f9e89"
             ],
             [
              0.6666666666666666,
              "#35b779"
             ],
             [
              0.7777777777777778,
              "#6ece58"
             ],
             [
              0.8888888888888888,
              "#b5de2b"
             ],
             [
              1,
              "#fde725"
             ]
            ],
            "type": "contour"
           }
          ],
          "contourcarpet": [
           {
            "colorbar": {
             "outlinewidth": 1,
             "tickcolor": "rgb(36,36,36)",
             "ticks": "outside"
            },
            "type": "contourcarpet"
           }
          ],
          "heatmap": [
           {
            "colorbar": {
             "outlinewidth": 1,
             "tickcolor": "rgb(36,36,36)",
             "ticks": "outside"
            },
            "colorscale": [
             [
              0,
              "#440154"
             ],
             [
              0.1111111111111111,
              "#482878"
             ],
             [
              0.2222222222222222,
              "#3e4989"
             ],
             [
              0.3333333333333333,
              "#31688e"
             ],
             [
              0.4444444444444444,
              "#26828e"
             ],
             [
              0.5555555555555556,
              "#1f9e89"
             ],
             [
              0.6666666666666666,
              "#35b779"
             ],
             [
              0.7777777777777778,
              "#6ece58"
             ],
             [
              0.8888888888888888,
              "#b5de2b"
             ],
             [
              1,
              "#fde725"
             ]
            ],
            "type": "heatmap"
           }
          ],
          "heatmapgl": [
           {
            "colorbar": {
             "outlinewidth": 1,
             "tickcolor": "rgb(36,36,36)",
             "ticks": "outside"
            },
            "colorscale": [
             [
              0,
              "#440154"
             ],
             [
              0.1111111111111111,
              "#482878"
             ],
             [
              0.2222222222222222,
              "#3e4989"
             ],
             [
              0.3333333333333333,
              "#31688e"
             ],
             [
              0.4444444444444444,
              "#26828e"
             ],
             [
              0.5555555555555556,
              "#1f9e89"
             ],
             [
              0.6666666666666666,
              "#35b779"
             ],
             [
              0.7777777777777778,
              "#6ece58"
             ],
             [
              0.8888888888888888,
              "#b5de2b"
             ],
             [
              1,
              "#fde725"
             ]
            ],
            "type": "heatmapgl"
           }
          ],
          "histogram": [
           {
            "marker": {
             "line": {
              "color": "white",
              "width": 0.6
             }
            },
            "type": "histogram"
           }
          ],
          "histogram2d": [
           {
            "colorbar": {
             "outlinewidth": 1,
             "tickcolor": "rgb(36,36,36)",
             "ticks": "outside"
            },
            "colorscale": [
             [
              0,
              "#440154"
             ],
             [
              0.1111111111111111,
              "#482878"
             ],
             [
              0.2222222222222222,
              "#3e4989"
             ],
             [
              0.3333333333333333,
              "#31688e"
             ],
             [
              0.4444444444444444,
              "#26828e"
             ],
             [
              0.5555555555555556,
              "#1f9e89"
             ],
             [
              0.6666666666666666,
              "#35b779"
             ],
             [
              0.7777777777777778,
              "#6ece58"
             ],
             [
              0.8888888888888888,
              "#b5de2b"
             ],
             [
              1,
              "#fde725"
             ]
            ],
            "type": "histogram2d"
           }
          ],
          "histogram2dcontour": [
           {
            "colorbar": {
             "outlinewidth": 1,
             "tickcolor": "rgb(36,36,36)",
             "ticks": "outside"
            },
            "colorscale": [
             [
              0,
              "#440154"
             ],
             [
              0.1111111111111111,
              "#482878"
             ],
             [
              0.2222222222222222,
              "#3e4989"
             ],
             [
              0.3333333333333333,
              "#31688e"
             ],
             [
              0.4444444444444444,
              "#26828e"
             ],
             [
              0.5555555555555556,
              "#1f9e89"
             ],
             [
              0.6666666666666666,
              "#35b779"
             ],
             [
              0.7777777777777778,
              "#6ece58"
             ],
             [
              0.8888888888888888,
              "#b5de2b"
             ],
             [
              1,
              "#fde725"
             ]
            ],
            "type": "histogram2dcontour"
           }
          ],
          "mesh3d": [
           {
            "colorbar": {
             "outlinewidth": 1,
             "tickcolor": "rgb(36,36,36)",
             "ticks": "outside"
            },
            "type": "mesh3d"
           }
          ],
          "parcoords": [
           {
            "line": {
             "colorbar": {
              "outlinewidth": 1,
              "tickcolor": "rgb(36,36,36)",
              "ticks": "outside"
             }
            },
            "type": "parcoords"
           }
          ],
          "pie": [
           {
            "automargin": true,
            "type": "pie"
           }
          ],
          "scatter": [
           {
            "fillpattern": {
             "fillmode": "overlay",
             "size": 10,
             "solidity": 0.2
            },
            "type": "scatter"
           }
          ],
          "scatter3d": [
           {
            "line": {
             "colorbar": {
              "outlinewidth": 1,
              "tickcolor": "rgb(36,36,36)",
              "ticks": "outside"
             }
            },
            "marker": {
             "colorbar": {
              "outlinewidth": 1,
              "tickcolor": "rgb(36,36,36)",
              "ticks": "outside"
             }
            },
            "type": "scatter3d"
           }
          ],
          "scattercarpet": [
           {
            "marker": {
             "colorbar": {
              "outlinewidth": 1,
              "tickcolor": "rgb(36,36,36)",
              "ticks": "outside"
             }
            },
            "type": "scattercarpet"
           }
          ],
          "scattergeo": [
           {
            "marker": {
             "colorbar": {
              "outlinewidth": 1,
              "tickcolor": "rgb(36,36,36)",
              "ticks": "outside"
             }
            },
            "type": "scattergeo"
           }
          ],
          "scattergl": [
           {
            "marker": {
             "colorbar": {
              "outlinewidth": 1,
              "tickcolor": "rgb(36,36,36)",
              "ticks": "outside"
             }
            },
            "type": "scattergl"
           }
          ],
          "scattermapbox": [
           {
            "marker": {
             "colorbar": {
              "outlinewidth": 1,
              "tickcolor": "rgb(36,36,36)",
              "ticks": "outside"
             }
            },
            "type": "scattermapbox"
           }
          ],
          "scatterpolar": [
           {
            "marker": {
             "colorbar": {
              "outlinewidth": 1,
              "tickcolor": "rgb(36,36,36)",
              "ticks": "outside"
             }
            },
            "type": "scatterpolar"
           }
          ],
          "scatterpolargl": [
           {
            "marker": {
             "colorbar": {
              "outlinewidth": 1,
              "tickcolor": "rgb(36,36,36)",
              "ticks": "outside"
             }
            },
            "type": "scatterpolargl"
           }
          ],
          "scatterternary": [
           {
            "marker": {
             "colorbar": {
              "outlinewidth": 1,
              "tickcolor": "rgb(36,36,36)",
              "ticks": "outside"
             }
            },
            "type": "scatterternary"
           }
          ],
          "surface": [
           {
            "colorbar": {
             "outlinewidth": 1,
             "tickcolor": "rgb(36,36,36)",
             "ticks": "outside"
            },
            "colorscale": [
             [
              0,
              "#440154"
             ],
             [
              0.1111111111111111,
              "#482878"
             ],
             [
              0.2222222222222222,
              "#3e4989"
             ],
             [
              0.3333333333333333,
              "#31688e"
             ],
             [
              0.4444444444444444,
              "#26828e"
             ],
             [
              0.5555555555555556,
              "#1f9e89"
             ],
             [
              0.6666666666666666,
              "#35b779"
             ],
             [
              0.7777777777777778,
              "#6ece58"
             ],
             [
              0.8888888888888888,
              "#b5de2b"
             ],
             [
              1,
              "#fde725"
             ]
            ],
            "type": "surface"
           }
          ],
          "table": [
           {
            "cells": {
             "fill": {
              "color": "rgb(237,237,237)"
             },
             "line": {
              "color": "white"
             }
            },
            "header": {
             "fill": {
              "color": "rgb(217,217,217)"
             },
             "line": {
              "color": "white"
             }
            },
            "type": "table"
           }
          ]
         },
         "layout": {
          "annotationdefaults": {
           "arrowhead": 0,
           "arrowwidth": 1
          },
          "autotypenumbers": "strict",
          "coloraxis": {
           "colorbar": {
            "outlinewidth": 1,
            "tickcolor": "rgb(36,36,36)",
            "ticks": "outside"
           }
          },
          "colorscale": {
           "diverging": [
            [
             0,
             "rgb(103,0,31)"
            ],
            [
             0.1,
             "rgb(178,24,43)"
            ],
            [
             0.2,
             "rgb(214,96,77)"
            ],
            [
             0.3,
             "rgb(244,165,130)"
            ],
            [
             0.4,
             "rgb(253,219,199)"
            ],
            [
             0.5,
             "rgb(247,247,247)"
            ],
            [
             0.6,
             "rgb(209,229,240)"
            ],
            [
             0.7,
             "rgb(146,197,222)"
            ],
            [
             0.8,
             "rgb(67,147,195)"
            ],
            [
             0.9,
             "rgb(33,102,172)"
            ],
            [
             1,
             "rgb(5,48,97)"
            ]
           ],
           "sequential": [
            [
             0,
             "#440154"
            ],
            [
             0.1111111111111111,
             "#482878"
            ],
            [
             0.2222222222222222,
             "#3e4989"
            ],
            [
             0.3333333333333333,
             "#31688e"
            ],
            [
             0.4444444444444444,
             "#26828e"
            ],
            [
             0.5555555555555556,
             "#1f9e89"
            ],
            [
             0.6666666666666666,
             "#35b779"
            ],
            [
             0.7777777777777778,
             "#6ece58"
            ],
            [
             0.8888888888888888,
             "#b5de2b"
            ],
            [
             1,
             "#fde725"
            ]
           ],
           "sequentialminus": [
            [
             0,
             "#440154"
            ],
            [
             0.1111111111111111,
             "#482878"
            ],
            [
             0.2222222222222222,
             "#3e4989"
            ],
            [
             0.3333333333333333,
             "#31688e"
            ],
            [
             0.4444444444444444,
             "#26828e"
            ],
            [
             0.5555555555555556,
             "#1f9e89"
            ],
            [
             0.6666666666666666,
             "#35b779"
            ],
            [
             0.7777777777777778,
             "#6ece58"
            ],
            [
             0.8888888888888888,
             "#b5de2b"
            ],
            [
             1,
             "#fde725"
            ]
           ]
          },
          "colorway": [
           "#1F77B4",
           "#FF7F0E",
           "#2CA02C",
           "#D62728",
           "#9467BD",
           "#8C564B",
           "#E377C2",
           "#7F7F7F",
           "#BCBD22",
           "#17BECF"
          ],
          "font": {
           "color": "rgb(36,36,36)"
          },
          "geo": {
           "bgcolor": "white",
           "lakecolor": "white",
           "landcolor": "white",
           "showlakes": true,
           "showland": true,
           "subunitcolor": "white"
          },
          "hoverlabel": {
           "align": "left"
          },
          "hovermode": "closest",
          "mapbox": {
           "style": "light"
          },
          "paper_bgcolor": "white",
          "plot_bgcolor": "white",
          "polar": {
           "angularaxis": {
            "gridcolor": "rgb(232,232,232)",
            "linecolor": "rgb(36,36,36)",
            "showgrid": false,
            "showline": true,
            "ticks": "outside"
           },
           "bgcolor": "white",
           "radialaxis": {
            "gridcolor": "rgb(232,232,232)",
            "linecolor": "rgb(36,36,36)",
            "showgrid": false,
            "showline": true,
            "ticks": "outside"
           }
          },
          "scene": {
           "xaxis": {
            "backgroundcolor": "white",
            "gridcolor": "rgb(232,232,232)",
            "gridwidth": 2,
            "linecolor": "rgb(36,36,36)",
            "showbackground": true,
            "showgrid": false,
            "showline": true,
            "ticks": "outside",
            "zeroline": false,
            "zerolinecolor": "rgb(36,36,36)"
           },
           "yaxis": {
            "backgroundcolor": "white",
            "gridcolor": "rgb(232,232,232)",
            "gridwidth": 2,
            "linecolor": "rgb(36,36,36)",
            "showbackground": true,
            "showgrid": false,
            "showline": true,
            "ticks": "outside",
            "zeroline": false,
            "zerolinecolor": "rgb(36,36,36)"
           },
           "zaxis": {
            "backgroundcolor": "white",
            "gridcolor": "rgb(232,232,232)",
            "gridwidth": 2,
            "linecolor": "rgb(36,36,36)",
            "showbackground": true,
            "showgrid": false,
            "showline": true,
            "ticks": "outside",
            "zeroline": false,
            "zerolinecolor": "rgb(36,36,36)"
           }
          },
          "shapedefaults": {
           "fillcolor": "black",
           "line": {
            "width": 0
           },
           "opacity": 0.3
          },
          "ternary": {
           "aaxis": {
            "gridcolor": "rgb(232,232,232)",
            "linecolor": "rgb(36,36,36)",
            "showgrid": false,
            "showline": true,
            "ticks": "outside"
           },
           "baxis": {
            "gridcolor": "rgb(232,232,232)",
            "linecolor": "rgb(36,36,36)",
            "showgrid": false,
            "showline": true,
            "ticks": "outside"
           },
           "bgcolor": "white",
           "caxis": {
            "gridcolor": "rgb(232,232,232)",
            "linecolor": "rgb(36,36,36)",
            "showgrid": false,
            "showline": true,
            "ticks": "outside"
           }
          },
          "title": {
           "x": 0.05
          },
          "xaxis": {
           "automargin": true,
           "gridcolor": "rgb(232,232,232)",
           "linecolor": "rgb(36,36,36)",
           "showgrid": false,
           "showline": true,
           "ticks": "outside",
           "title": {
            "standoff": 15
           },
           "zeroline": false,
           "zerolinecolor": "rgb(36,36,36)"
          },
          "yaxis": {
           "automargin": true,
           "gridcolor": "rgb(232,232,232)",
           "linecolor": "rgb(36,36,36)",
           "showgrid": false,
           "showline": true,
           "ticks": "outside",
           "title": {
            "standoff": 15
           },
           "zeroline": false,
           "zerolinecolor": "rgb(36,36,36)"
          }
         }
        },
        "title": {
         "font": {
          "color": "Black",
          "size": 22
         },
         "text": "Topics Over Time for 2023Q4",
         "x": 0.4,
         "xanchor": "center",
         "y": 0.95,
         "yanchor": "top"
        },
        "width": 1250,
        "xaxis": {
         "showgrid": true
        },
        "yaxis": {
         "showgrid": true,
         "title": {
          "text": "Frequency"
         }
        }
       }
      }
     },
     "metadata": {},
     "output_type": "display_data"
    },
    {
     "data": {
      "application/vnd.plotly.v1+json": {
       "config": {
        "plotlyServerURL": "https://plot.ly"
       },
       "data": [
        {
         "hoverinfo": "text",
         "hovertext": [
          "<b>Topic 0</b><br>Words: papua, mahfud, lalu, miskin, ganjar",
          "<b>Topic 0</b><br>Words: papua, lalu, bagai, beasiswa, tingkat",
          "<b>Topic 0</b><br>Words: papua, lalu, bagai, beasiswa, tingkat",
          "<b>Topic 0</b><br>Words: papua, lalu, beasiswa, bagai, tingkat"
         ],
         "marker": {
          "color": "#E69F00"
         },
         "mode": "lines",
         "name": "0_papua_lalu_mahfud_tingkat",
         "type": "scatter",
         "x": [
          "2024-01-30T02:05:00.180999+00:00",
          "2024-02-29T09:03:53.500000+00:00",
          "2024-03-02T09:26:00.800000+00:00",
          "2024-03-12T11:16:37.300000+00:00"
         ],
         "y": [
          13,
          3,
          6,
          1
         ]
        },
        {
         "hoverinfo": "text",
         "hovertext": [
          "<b>Topic 1</b><br>Words: ganjar, sejahtera, pranowo, lebih, indonesia",
          "<b>Topic 1</b><br>Words: korban, kalo, makan, mulu, terusterusan",
          "<b>Topic 1</b><br>Words: enggak, jadi, guru, buat, gratis",
          "<b>Topic 1</b><br>Words: pg, rencana, nyata, guru, prabowogibran",
          "<b>Topic 1</b><br>Words: gratis, jadi, ganjar, dana, buat",
          "<b>Topic 1</b><br>Words: ganjar, lebih, enggak, rakyat, buat",
          "<b>Topic 1</b><br>Words: ganjar, indonesia, enggak, sejahtera, rakyat",
          "<b>Topic 1</b><br>Words: ganjar, lebih, indonesia, enggak, jadi",
          "<b>Topic 1</b><br>Words: kjmu, anies, makan, anak, enggak",
          "<b>Topic 1</b><br>Words: sejahtera, ganjar, royal, wahabi, families",
          "<b>Topic 1</b><br>Words: ganjar, lebih, enggak, kasih, indonesia",
          "<b>Topic 1</b><br>Words: indonesia, felt, lebih, jadi, guru",
          "<b>Topic 1</b><br>Words: indonesia, ganjar, komite, kak, rakyat",
          "<b>Topic 1</b><br>Words: enggak, rakyat, merdeka, negara, ganti",
          "<b>Topic 1</b><br>Words: enggak, aku, terus, banget, sekolah",
          "<b>Topic 1</b><br>Words: temu, tni, tahan, bahas, terima",
          "<b>Topic 1</b><br>Words: sekolah, mbak, kurikulum, lebih, indonesia",
          "<b>Topic 1</b><br>Words: pil, unnes, uny, teknologi, inflasi"
         ],
         "marker": {
          "color": "#56B4E9"
         },
         "mode": "lines",
         "name": "1_ganjar_lebih_indonesia_enggak",
         "type": "scatter",
         "x": [
          "2024-01-30T02:05:00.180999+00:00",
          "2024-02-25T08:19:38.900000+00:00",
          "2024-02-27T08:41:46.200000+00:00",
          "2024-02-29T09:03:53.500000+00:00",
          "2024-03-02T09:26:00.800000+00:00",
          "2024-03-04T09:48:08.100000+00:00",
          "2024-03-06T10:10:15.400000+00:00",
          "2024-03-08T10:32:22.700000+00:00",
          "2024-03-10T10:54:30+00:00",
          "2024-03-12T11:16:37.300000+00:00",
          "2024-03-14T11:38:44.600000+00:00",
          "2024-03-16T12:00:51.900000+00:00",
          "2024-03-18T12:22:59.200000+00:00",
          "2024-03-20T12:45:06.500000+00:00",
          "2024-03-22T13:07:13.800000+00:00",
          "2024-03-24T13:29:21.100000+00:00",
          "2024-03-26T13:51:28.400000+00:00",
          "2024-03-28T14:13:35.700000+00:00"
         ],
         "y": [
          56,
          3,
          19,
          1,
          16,
          23,
          27,
          15,
          10,
          10,
          11,
          8,
          8,
          15,
          10,
          6,
          10,
          10
         ]
        }
       ],
       "layout": {
        "height": 450,
        "hoverlabel": {
         "bgcolor": "white",
         "font": {
          "family": "Rockwell",
          "size": 16
         }
        },
        "legend": {
         "title": {
          "text": "<b>Global Topic Representation"
         }
        },
        "template": {
         "data": {
          "bar": [
           {
            "error_x": {
             "color": "rgb(36,36,36)"
            },
            "error_y": {
             "color": "rgb(36,36,36)"
            },
            "marker": {
             "line": {
              "color": "white",
              "width": 0.5
             },
             "pattern": {
              "fillmode": "overlay",
              "size": 10,
              "solidity": 0.2
             }
            },
            "type": "bar"
           }
          ],
          "barpolar": [
           {
            "marker": {
             "line": {
              "color": "white",
              "width": 0.5
             },
             "pattern": {
              "fillmode": "overlay",
              "size": 10,
              "solidity": 0.2
             }
            },
            "type": "barpolar"
           }
          ],
          "carpet": [
           {
            "aaxis": {
             "endlinecolor": "rgb(36,36,36)",
             "gridcolor": "white",
             "linecolor": "white",
             "minorgridcolor": "white",
             "startlinecolor": "rgb(36,36,36)"
            },
            "baxis": {
             "endlinecolor": "rgb(36,36,36)",
             "gridcolor": "white",
             "linecolor": "white",
             "minorgridcolor": "white",
             "startlinecolor": "rgb(36,36,36)"
            },
            "type": "carpet"
           }
          ],
          "choropleth": [
           {
            "colorbar": {
             "outlinewidth": 1,
             "tickcolor": "rgb(36,36,36)",
             "ticks": "outside"
            },
            "type": "choropleth"
           }
          ],
          "contour": [
           {
            "colorbar": {
             "outlinewidth": 1,
             "tickcolor": "rgb(36,36,36)",
             "ticks": "outside"
            },
            "colorscale": [
             [
              0,
              "#440154"
             ],
             [
              0.1111111111111111,
              "#482878"
             ],
             [
              0.2222222222222222,
              "#3e4989"
             ],
             [
              0.3333333333333333,
              "#31688e"
             ],
             [
              0.4444444444444444,
              "#26828e"
             ],
             [
              0.5555555555555556,
              "#1f9e89"
             ],
             [
              0.6666666666666666,
              "#35b779"
             ],
             [
              0.7777777777777778,
              "#6ece58"
             ],
             [
              0.8888888888888888,
              "#b5de2b"
             ],
             [
              1,
              "#fde725"
             ]
            ],
            "type": "contour"
           }
          ],
          "contourcarpet": [
           {
            "colorbar": {
             "outlinewidth": 1,
             "tickcolor": "rgb(36,36,36)",
             "ticks": "outside"
            },
            "type": "contourcarpet"
           }
          ],
          "heatmap": [
           {
            "colorbar": {
             "outlinewidth": 1,
             "tickcolor": "rgb(36,36,36)",
             "ticks": "outside"
            },
            "colorscale": [
             [
              0,
              "#440154"
             ],
             [
              0.1111111111111111,
              "#482878"
             ],
             [
              0.2222222222222222,
              "#3e4989"
             ],
             [
              0.3333333333333333,
              "#31688e"
             ],
             [
              0.4444444444444444,
              "#26828e"
             ],
             [
              0.5555555555555556,
              "#1f9e89"
             ],
             [
              0.6666666666666666,
              "#35b779"
             ],
             [
              0.7777777777777778,
              "#6ece58"
             ],
             [
              0.8888888888888888,
              "#b5de2b"
             ],
             [
              1,
              "#fde725"
             ]
            ],
            "type": "heatmap"
           }
          ],
          "heatmapgl": [
           {
            "colorbar": {
             "outlinewidth": 1,
             "tickcolor": "rgb(36,36,36)",
             "ticks": "outside"
            },
            "colorscale": [
             [
              0,
              "#440154"
             ],
             [
              0.1111111111111111,
              "#482878"
             ],
             [
              0.2222222222222222,
              "#3e4989"
             ],
             [
              0.3333333333333333,
              "#31688e"
             ],
             [
              0.4444444444444444,
              "#26828e"
             ],
             [
              0.5555555555555556,
              "#1f9e89"
             ],
             [
              0.6666666666666666,
              "#35b779"
             ],
             [
              0.7777777777777778,
              "#6ece58"
             ],
             [
              0.8888888888888888,
              "#b5de2b"
             ],
             [
              1,
              "#fde725"
             ]
            ],
            "type": "heatmapgl"
           }
          ],
          "histogram": [
           {
            "marker": {
             "line": {
              "color": "white",
              "width": 0.6
             }
            },
            "type": "histogram"
           }
          ],
          "histogram2d": [
           {
            "colorbar": {
             "outlinewidth": 1,
             "tickcolor": "rgb(36,36,36)",
             "ticks": "outside"
            },
            "colorscale": [
             [
              0,
              "#440154"
             ],
             [
              0.1111111111111111,
              "#482878"
             ],
             [
              0.2222222222222222,
              "#3e4989"
             ],
             [
              0.3333333333333333,
              "#31688e"
             ],
             [
              0.4444444444444444,
              "#26828e"
             ],
             [
              0.5555555555555556,
              "#1f9e89"
             ],
             [
              0.6666666666666666,
              "#35b779"
             ],
             [
              0.7777777777777778,
              "#6ece58"
             ],
             [
              0.8888888888888888,
              "#b5de2b"
             ],
             [
              1,
              "#fde725"
             ]
            ],
            "type": "histogram2d"
           }
          ],
          "histogram2dcontour": [
           {
            "colorbar": {
             "outlinewidth": 1,
             "tickcolor": "rgb(36,36,36)",
             "ticks": "outside"
            },
            "colorscale": [
             [
              0,
              "#440154"
             ],
             [
              0.1111111111111111,
              "#482878"
             ],
             [
              0.2222222222222222,
              "#3e4989"
             ],
             [
              0.3333333333333333,
              "#31688e"
             ],
             [
              0.4444444444444444,
              "#26828e"
             ],
             [
              0.5555555555555556,
              "#1f9e89"
             ],
             [
              0.6666666666666666,
              "#35b779"
             ],
             [
              0.7777777777777778,
              "#6ece58"
             ],
             [
              0.8888888888888888,
              "#b5de2b"
             ],
             [
              1,
              "#fde725"
             ]
            ],
            "type": "histogram2dcontour"
           }
          ],
          "mesh3d": [
           {
            "colorbar": {
             "outlinewidth": 1,
             "tickcolor": "rgb(36,36,36)",
             "ticks": "outside"
            },
            "type": "mesh3d"
           }
          ],
          "parcoords": [
           {
            "line": {
             "colorbar": {
              "outlinewidth": 1,
              "tickcolor": "rgb(36,36,36)",
              "ticks": "outside"
             }
            },
            "type": "parcoords"
           }
          ],
          "pie": [
           {
            "automargin": true,
            "type": "pie"
           }
          ],
          "scatter": [
           {
            "fillpattern": {
             "fillmode": "overlay",
             "size": 10,
             "solidity": 0.2
            },
            "type": "scatter"
           }
          ],
          "scatter3d": [
           {
            "line": {
             "colorbar": {
              "outlinewidth": 1,
              "tickcolor": "rgb(36,36,36)",
              "ticks": "outside"
             }
            },
            "marker": {
             "colorbar": {
              "outlinewidth": 1,
              "tickcolor": "rgb(36,36,36)",
              "ticks": "outside"
             }
            },
            "type": "scatter3d"
           }
          ],
          "scattercarpet": [
           {
            "marker": {
             "colorbar": {
              "outlinewidth": 1,
              "tickcolor": "rgb(36,36,36)",
              "ticks": "outside"
             }
            },
            "type": "scattercarpet"
           }
          ],
          "scattergeo": [
           {
            "marker": {
             "colorbar": {
              "outlinewidth": 1,
              "tickcolor": "rgb(36,36,36)",
              "ticks": "outside"
             }
            },
            "type": "scattergeo"
           }
          ],
          "scattergl": [
           {
            "marker": {
             "colorbar": {
              "outlinewidth": 1,
              "tickcolor": "rgb(36,36,36)",
              "ticks": "outside"
             }
            },
            "type": "scattergl"
           }
          ],
          "scattermapbox": [
           {
            "marker": {
             "colorbar": {
              "outlinewidth": 1,
              "tickcolor": "rgb(36,36,36)",
              "ticks": "outside"
             }
            },
            "type": "scattermapbox"
           }
          ],
          "scatterpolar": [
           {
            "marker": {
             "colorbar": {
              "outlinewidth": 1,
              "tickcolor": "rgb(36,36,36)",
              "ticks": "outside"
             }
            },
            "type": "scatterpolar"
           }
          ],
          "scatterpolargl": [
           {
            "marker": {
             "colorbar": {
              "outlinewidth": 1,
              "tickcolor": "rgb(36,36,36)",
              "ticks": "outside"
             }
            },
            "type": "scatterpolargl"
           }
          ],
          "scatterternary": [
           {
            "marker": {
             "colorbar": {
              "outlinewidth": 1,
              "tickcolor": "rgb(36,36,36)",
              "ticks": "outside"
             }
            },
            "type": "scatterternary"
           }
          ],
          "surface": [
           {
            "colorbar": {
             "outlinewidth": 1,
             "tickcolor": "rgb(36,36,36)",
             "ticks": "outside"
            },
            "colorscale": [
             [
              0,
              "#440154"
             ],
             [
              0.1111111111111111,
              "#482878"
             ],
             [
              0.2222222222222222,
              "#3e4989"
             ],
             [
              0.3333333333333333,
              "#31688e"
             ],
             [
              0.4444444444444444,
              "#26828e"
             ],
             [
              0.5555555555555556,
              "#1f9e89"
             ],
             [
              0.6666666666666666,
              "#35b779"
             ],
             [
              0.7777777777777778,
              "#6ece58"
             ],
             [
              0.8888888888888888,
              "#b5de2b"
             ],
             [
              1,
              "#fde725"
             ]
            ],
            "type": "surface"
           }
          ],
          "table": [
           {
            "cells": {
             "fill": {
              "color": "rgb(237,237,237)"
             },
             "line": {
              "color": "white"
             }
            },
            "header": {
             "fill": {
              "color": "rgb(217,217,217)"
             },
             "line": {
              "color": "white"
             }
            },
            "type": "table"
           }
          ]
         },
         "layout": {
          "annotationdefaults": {
           "arrowhead": 0,
           "arrowwidth": 1
          },
          "autotypenumbers": "strict",
          "coloraxis": {
           "colorbar": {
            "outlinewidth": 1,
            "tickcolor": "rgb(36,36,36)",
            "ticks": "outside"
           }
          },
          "colorscale": {
           "diverging": [
            [
             0,
             "rgb(103,0,31)"
            ],
            [
             0.1,
             "rgb(178,24,43)"
            ],
            [
             0.2,
             "rgb(214,96,77)"
            ],
            [
             0.3,
             "rgb(244,165,130)"
            ],
            [
             0.4,
             "rgb(253,219,199)"
            ],
            [
             0.5,
             "rgb(247,247,247)"
            ],
            [
             0.6,
             "rgb(209,229,240)"
            ],
            [
             0.7,
             "rgb(146,197,222)"
            ],
            [
             0.8,
             "rgb(67,147,195)"
            ],
            [
             0.9,
             "rgb(33,102,172)"
            ],
            [
             1,
             "rgb(5,48,97)"
            ]
           ],
           "sequential": [
            [
             0,
             "#440154"
            ],
            [
             0.1111111111111111,
             "#482878"
            ],
            [
             0.2222222222222222,
             "#3e4989"
            ],
            [
             0.3333333333333333,
             "#31688e"
            ],
            [
             0.4444444444444444,
             "#26828e"
            ],
            [
             0.5555555555555556,
             "#1f9e89"
            ],
            [
             0.6666666666666666,
             "#35b779"
            ],
            [
             0.7777777777777778,
             "#6ece58"
            ],
            [
             0.8888888888888888,
             "#b5de2b"
            ],
            [
             1,
             "#fde725"
            ]
           ],
           "sequentialminus": [
            [
             0,
             "#440154"
            ],
            [
             0.1111111111111111,
             "#482878"
            ],
            [
             0.2222222222222222,
             "#3e4989"
            ],
            [
             0.3333333333333333,
             "#31688e"
            ],
            [
             0.4444444444444444,
             "#26828e"
            ],
            [
             0.5555555555555556,
             "#1f9e89"
            ],
            [
             0.6666666666666666,
             "#35b779"
            ],
            [
             0.7777777777777778,
             "#6ece58"
            ],
            [
             0.8888888888888888,
             "#b5de2b"
            ],
            [
             1,
             "#fde725"
            ]
           ]
          },
          "colorway": [
           "#1F77B4",
           "#FF7F0E",
           "#2CA02C",
           "#D62728",
           "#9467BD",
           "#8C564B",
           "#E377C2",
           "#7F7F7F",
           "#BCBD22",
           "#17BECF"
          ],
          "font": {
           "color": "rgb(36,36,36)"
          },
          "geo": {
           "bgcolor": "white",
           "lakecolor": "white",
           "landcolor": "white",
           "showlakes": true,
           "showland": true,
           "subunitcolor": "white"
          },
          "hoverlabel": {
           "align": "left"
          },
          "hovermode": "closest",
          "mapbox": {
           "style": "light"
          },
          "paper_bgcolor": "white",
          "plot_bgcolor": "white",
          "polar": {
           "angularaxis": {
            "gridcolor": "rgb(232,232,232)",
            "linecolor": "rgb(36,36,36)",
            "showgrid": false,
            "showline": true,
            "ticks": "outside"
           },
           "bgcolor": "white",
           "radialaxis": {
            "gridcolor": "rgb(232,232,232)",
            "linecolor": "rgb(36,36,36)",
            "showgrid": false,
            "showline": true,
            "ticks": "outside"
           }
          },
          "scene": {
           "xaxis": {
            "backgroundcolor": "white",
            "gridcolor": "rgb(232,232,232)",
            "gridwidth": 2,
            "linecolor": "rgb(36,36,36)",
            "showbackground": true,
            "showgrid": false,
            "showline": true,
            "ticks": "outside",
            "zeroline": false,
            "zerolinecolor": "rgb(36,36,36)"
           },
           "yaxis": {
            "backgroundcolor": "white",
            "gridcolor": "rgb(232,232,232)",
            "gridwidth": 2,
            "linecolor": "rgb(36,36,36)",
            "showbackground": true,
            "showgrid": false,
            "showline": true,
            "ticks": "outside",
            "zeroline": false,
            "zerolinecolor": "rgb(36,36,36)"
           },
           "zaxis": {
            "backgroundcolor": "white",
            "gridcolor": "rgb(232,232,232)",
            "gridwidth": 2,
            "linecolor": "rgb(36,36,36)",
            "showbackground": true,
            "showgrid": false,
            "showline": true,
            "ticks": "outside",
            "zeroline": false,
            "zerolinecolor": "rgb(36,36,36)"
           }
          },
          "shapedefaults": {
           "fillcolor": "black",
           "line": {
            "width": 0
           },
           "opacity": 0.3
          },
          "ternary": {
           "aaxis": {
            "gridcolor": "rgb(232,232,232)",
            "linecolor": "rgb(36,36,36)",
            "showgrid": false,
            "showline": true,
            "ticks": "outside"
           },
           "baxis": {
            "gridcolor": "rgb(232,232,232)",
            "linecolor": "rgb(36,36,36)",
            "showgrid": false,
            "showline": true,
            "ticks": "outside"
           },
           "bgcolor": "white",
           "caxis": {
            "gridcolor": "rgb(232,232,232)",
            "linecolor": "rgb(36,36,36)",
            "showgrid": false,
            "showline": true,
            "ticks": "outside"
           }
          },
          "title": {
           "x": 0.05
          },
          "xaxis": {
           "automargin": true,
           "gridcolor": "rgb(232,232,232)",
           "linecolor": "rgb(36,36,36)",
           "showgrid": false,
           "showline": true,
           "ticks": "outside",
           "title": {
            "standoff": 15
           },
           "zeroline": false,
           "zerolinecolor": "rgb(36,36,36)"
          },
          "yaxis": {
           "automargin": true,
           "gridcolor": "rgb(232,232,232)",
           "linecolor": "rgb(36,36,36)",
           "showgrid": false,
           "showline": true,
           "ticks": "outside",
           "title": {
            "standoff": 15
           },
           "zeroline": false,
           "zerolinecolor": "rgb(36,36,36)"
          }
         }
        },
        "title": {
         "font": {
          "color": "Black",
          "size": 22
         },
         "text": "Topics Over Time for 2024Q1",
         "x": 0.4,
         "xanchor": "center",
         "y": 0.95,
         "yanchor": "top"
        },
        "width": 1250,
        "xaxis": {
         "showgrid": true
        },
        "yaxis": {
         "showgrid": true,
         "title": {
          "text": "Frequency"
         }
        }
       }
      }
     },
     "metadata": {},
     "output_type": "display_data"
    },
    {
     "data": {
      "application/vnd.plotly.v1+json": {
       "config": {
        "plotlyServerURL": "https://plot.ly"
       },
       "data": [
        {
         "hoverinfo": "text",
         "hovertext": [
          "<b>Topic 0</b><br>Words: indonesia, aco, kepala, bup, se",
          "<b>Topic 0</b><br>Words: indonesia, literasi, tuju, sangat, laman",
          "<b>Topic 0</b><br>Words: indonesia, banyak, cakap, certified, complainer",
          "<b>Topic 0</b><br>Words: mulai, indonesia, lingkup, maju, cara",
          "<b>Topic 0</b><br>Words: indonesia, administrasi, guru, guruguru, sibuk",
          "<b>Topic 0</b><br>Words: gerhana, matahari, darurat, mentingin, redup",
          "<b>Topic 0</b><br>Words: ngawur, ajurrrrrrr, puoooollllll, paham, indonesia",
          "<b>Topic 0</b><br>Words: baru, beban, kontroversi, indonesia, lama",
          "<b>Topic 0</b><br>Words: benar, duka, cita, indonesia, turut",
          "<b>Topic 0</b><br>Words: hingga, kelas, gratis, indonesia, sekolah",
          "<b>Topic 0</b><br>Words: direktorat, tengah, kembang, upt, dashboard",
          "<b>Topic 0</b><br>Words: felt, indonesia, call, kirim, paper",
          "<b>Topic 0</b><br>Words: ubah, kurun, cepat, indonesia, waktu",
          "<b>Topic 0</b><br>Words: indonesia, bimbel, bikin, jangan, tuh",
          "<b>Topic 0</b><br>Words: indonesia, arah, guru, hidup, mahasiswa",
          "<b>Topic 0</b><br>Words: indonesia, trhdp, berapa, malaysia, jalan"
         ],
         "marker": {
          "color": "#E69F00"
         },
         "mode": "lines",
         "name": "0_indonesia_menteri_guru_bikin",
         "type": "scatter",
         "x": [
          "2024-04-01T00:20:02.700000+00:00",
          "2024-04-02T23:20:57.333333+00:00",
          "2024-04-03T22:30:34+00:00",
          "2024-04-08T18:18:37.333333+00:00",
          "2024-04-10T16:37:50.666666+00:00",
          "2024-04-11T15:47:27.333333+00:00",
          "2024-04-13T14:06:40.666666+00:00",
          "2024-04-15T12:25:54+00:00",
          "2024-04-16T11:35:30.666666+00:00",
          "2024-04-19T09:04:20.666666+00:00",
          "2024-04-20T08:13:57.333333+00:00",
          "2024-04-24T04:52:24+00:00",
          "2024-04-25T04:02:00.666666+00:00",
          "2024-04-27T02:21:14+00:00",
          "2024-04-28T01:30:50.666666+00:00",
          "2024-04-29T00:40:27.333333+00:00"
         ],
         "y": [
          2,
          2,
          2,
          1,
          2,
          1,
          1,
          1,
          1,
          1,
          1,
          1,
          1,
          2,
          3,
          1
         ]
        },
        {
         "hoverinfo": "text",
         "hovertext": [
          "<b>Topic 1</b><br>Words: pramuka, enggak, buat, wajib, nadiem",
          "<b>Topic 1</b><br>Words: pramuka, wajib, hapus, riset, cabut",
          "<b>Topic 1</b><br>Words: kali, komisi, menteri, evaluasi, dpr",
          "<b>Topic 1</b><br>Words: enggak, pramuka, pns, hapus, perintah",
          "<b>Topic 1</b><br>Words: budaya, riset, pramuka, jatim, kemendikbudristek",
          "<b>Topic 1</b><br>Words: kebahasaaan, simpati, audiens, tinjau, dominan",
          "<b>Topic 1</b><br>Words: ramadhan, hukum, negara, program, semester",
          "<b>Topic 1</b><br>Words: jangan, buat, gaya, endingnya, tele",
          "<b>Topic 1</b><br>Words: topik, rakyat, perintah, buat, jadi",
          "<b>Topic 1</b><br>Words: kuliah, prajab, gt, ppg, terus",
          "<b>Topic 1</b><br>Words: buat, makin, menteri, semua, enggak",
          "<b>Topic 1</b><br>Words: bikin, enggak, seragam, menteri, banyak",
          "<b>Topic 1</b><br>Words: jadi, masalah, atur, sih, memang",
          "<b>Topic 1</b><br>Words: jadi, enggak, tempat, ahli, hukum",
          "<b>Topic 1</b><br>Words: kurikulum, ganti, orang, lebih, lintas",
          "<b>Topic 1</b><br>Words: rasa, nadiem, menteri, nakes, kubur",
          "<b>Topic 1</b><br>Words: upnvj, seragam, dpp, jadi, kota",
          "<b>Topic 1</b><br>Words: diy, rencana, efektif, buku, ambil",
          "<b>Topic 1</b><br>Words: muat, agam, betul, berani, alternatif",
          "<b>Topic 1</b><br>Words: antah, buat, biaya, mesin, pribadi",
          "<b>Topic 1</b><br>Words: sama, penting, negara, tak, gratis",
          "<b>Topic 1</b><br>Words: plus, adopsi, merdeka, ikn, ajar",
          "<b>Topic 1</b><br>Words: proletariat, kent, state, potong, reagan",
          "<b>Topic 1</b><br>Words: tarik, lemdiklat, polri, vokasi, banding",
          "<b>Topic 1</b><br>Words: hari, buat, perintah, mei, negara",
          "<b>Topic 1</b><br>Words: tinggi, amp, dokter, buat, macbook",
          "<b>Topic 1</b><br>Words: satu, perintah, kipk, inggris, ngotak"
         ],
         "marker": {
          "color": "#56B4E9"
         },
         "mode": "lines",
         "name": "1_enggak_jadi_buat_pramuka",
         "type": "scatter",
         "x": [
          "2024-04-01T00:20:02.700000+00:00",
          "2024-04-02T00:11:20.666666+00:00",
          "2024-04-02T23:20:57.333333+00:00",
          "2024-04-03T22:30:34+00:00",
          "2024-04-04T21:40:10.666666+00:00",
          "2024-04-05T20:49:47.333333+00:00",
          "2024-04-06T19:59:24+00:00",
          "2024-04-07T19:09:00.666666+00:00",
          "2024-04-08T18:18:37.333333+00:00",
          "2024-04-09T17:28:14+00:00",
          "2024-04-10T16:37:50.666666+00:00",
          "2024-04-11T15:47:27.333333+00:00",
          "2024-04-12T14:57:04+00:00",
          "2024-04-13T14:06:40.666666+00:00",
          "2024-04-14T13:16:17.333333+00:00",
          "2024-04-15T12:25:54+00:00",
          "2024-04-16T11:35:30.666666+00:00",
          "2024-04-17T10:45:07.333333+00:00",
          "2024-04-18T09:54:44+00:00",
          "2024-04-19T09:04:20.666666+00:00",
          "2024-04-20T08:13:57.333333+00:00",
          "2024-04-21T07:23:34+00:00",
          "2024-04-24T04:52:24+00:00",
          "2024-04-25T04:02:00.666666+00:00",
          "2024-04-27T02:21:14+00:00",
          "2024-04-28T01:30:50.666666+00:00",
          "2024-04-29T00:40:27.333333+00:00"
         ],
         "y": [
          10,
          7,
          7,
          10,
          4,
          1,
          3,
          6,
          3,
          4,
          10,
          11,
          6,
          6,
          7,
          5,
          6,
          4,
          4,
          3,
          3,
          4,
          1,
          7,
          9,
          6,
          6
         ]
        }
       ],
       "layout": {
        "height": 450,
        "hoverlabel": {
         "bgcolor": "white",
         "font": {
          "family": "Rockwell",
          "size": 16
         }
        },
        "legend": {
         "title": {
          "text": "<b>Global Topic Representation"
         }
        },
        "template": {
         "data": {
          "bar": [
           {
            "error_x": {
             "color": "rgb(36,36,36)"
            },
            "error_y": {
             "color": "rgb(36,36,36)"
            },
            "marker": {
             "line": {
              "color": "white",
              "width": 0.5
             },
             "pattern": {
              "fillmode": "overlay",
              "size": 10,
              "solidity": 0.2
             }
            },
            "type": "bar"
           }
          ],
          "barpolar": [
           {
            "marker": {
             "line": {
              "color": "white",
              "width": 0.5
             },
             "pattern": {
              "fillmode": "overlay",
              "size": 10,
              "solidity": 0.2
             }
            },
            "type": "barpolar"
           }
          ],
          "carpet": [
           {
            "aaxis": {
             "endlinecolor": "rgb(36,36,36)",
             "gridcolor": "white",
             "linecolor": "white",
             "minorgridcolor": "white",
             "startlinecolor": "rgb(36,36,36)"
            },
            "baxis": {
             "endlinecolor": "rgb(36,36,36)",
             "gridcolor": "white",
             "linecolor": "white",
             "minorgridcolor": "white",
             "startlinecolor": "rgb(36,36,36)"
            },
            "type": "carpet"
           }
          ],
          "choropleth": [
           {
            "colorbar": {
             "outlinewidth": 1,
             "tickcolor": "rgb(36,36,36)",
             "ticks": "outside"
            },
            "type": "choropleth"
           }
          ],
          "contour": [
           {
            "colorbar": {
             "outlinewidth": 1,
             "tickcolor": "rgb(36,36,36)",
             "ticks": "outside"
            },
            "colorscale": [
             [
              0,
              "#440154"
             ],
             [
              0.1111111111111111,
              "#482878"
             ],
             [
              0.2222222222222222,
              "#3e4989"
             ],
             [
              0.3333333333333333,
              "#31688e"
             ],
             [
              0.4444444444444444,
              "#26828e"
             ],
             [
              0.5555555555555556,
              "#1f9e89"
             ],
             [
              0.6666666666666666,
              "#35b779"
             ],
             [
              0.7777777777777778,
              "#6ece58"
             ],
             [
              0.8888888888888888,
              "#b5de2b"
             ],
             [
              1,
              "#fde725"
             ]
            ],
            "type": "contour"
           }
          ],
          "contourcarpet": [
           {
            "colorbar": {
             "outlinewidth": 1,
             "tickcolor": "rgb(36,36,36)",
             "ticks": "outside"
            },
            "type": "contourcarpet"
           }
          ],
          "heatmap": [
           {
            "colorbar": {
             "outlinewidth": 1,
             "tickcolor": "rgb(36,36,36)",
             "ticks": "outside"
            },
            "colorscale": [
             [
              0,
              "#440154"
             ],
             [
              0.1111111111111111,
              "#482878"
             ],
             [
              0.2222222222222222,
              "#3e4989"
             ],
             [
              0.3333333333333333,
              "#31688e"
             ],
             [
              0.4444444444444444,
              "#26828e"
             ],
             [
              0.5555555555555556,
              "#1f9e89"
             ],
             [
              0.6666666666666666,
              "#35b779"
             ],
             [
              0.7777777777777778,
              "#6ece58"
             ],
             [
              0.8888888888888888,
              "#b5de2b"
             ],
             [
              1,
              "#fde725"
             ]
            ],
            "type": "heatmap"
           }
          ],
          "heatmapgl": [
           {
            "colorbar": {
             "outlinewidth": 1,
             "tickcolor": "rgb(36,36,36)",
             "ticks": "outside"
            },
            "colorscale": [
             [
              0,
              "#440154"
             ],
             [
              0.1111111111111111,
              "#482878"
             ],
             [
              0.2222222222222222,
              "#3e4989"
             ],
             [
              0.3333333333333333,
              "#31688e"
             ],
             [
              0.4444444444444444,
              "#26828e"
             ],
             [
              0.5555555555555556,
              "#1f9e89"
             ],
             [
              0.6666666666666666,
              "#35b779"
             ],
             [
              0.7777777777777778,
              "#6ece58"
             ],
             [
              0.8888888888888888,
              "#b5de2b"
             ],
             [
              1,
              "#fde725"
             ]
            ],
            "type": "heatmapgl"
           }
          ],
          "histogram": [
           {
            "marker": {
             "line": {
              "color": "white",
              "width": 0.6
             }
            },
            "type": "histogram"
           }
          ],
          "histogram2d": [
           {
            "colorbar": {
             "outlinewidth": 1,
             "tickcolor": "rgb(36,36,36)",
             "ticks": "outside"
            },
            "colorscale": [
             [
              0,
              "#440154"
             ],
             [
              0.1111111111111111,
              "#482878"
             ],
             [
              0.2222222222222222,
              "#3e4989"
             ],
             [
              0.3333333333333333,
              "#31688e"
             ],
             [
              0.4444444444444444,
              "#26828e"
             ],
             [
              0.5555555555555556,
              "#1f9e89"
             ],
             [
              0.6666666666666666,
              "#35b779"
             ],
             [
              0.7777777777777778,
              "#6ece58"
             ],
             [
              0.8888888888888888,
              "#b5de2b"
             ],
             [
              1,
              "#fde725"
             ]
            ],
            "type": "histogram2d"
           }
          ],
          "histogram2dcontour": [
           {
            "colorbar": {
             "outlinewidth": 1,
             "tickcolor": "rgb(36,36,36)",
             "ticks": "outside"
            },
            "colorscale": [
             [
              0,
              "#440154"
             ],
             [
              0.1111111111111111,
              "#482878"
             ],
             [
              0.2222222222222222,
              "#3e4989"
             ],
             [
              0.3333333333333333,
              "#31688e"
             ],
             [
              0.4444444444444444,
              "#26828e"
             ],
             [
              0.5555555555555556,
              "#1f9e89"
             ],
             [
              0.6666666666666666,
              "#35b779"
             ],
             [
              0.7777777777777778,
              "#6ece58"
             ],
             [
              0.8888888888888888,
              "#b5de2b"
             ],
             [
              1,
              "#fde725"
             ]
            ],
            "type": "histogram2dcontour"
           }
          ],
          "mesh3d": [
           {
            "colorbar": {
             "outlinewidth": 1,
             "tickcolor": "rgb(36,36,36)",
             "ticks": "outside"
            },
            "type": "mesh3d"
           }
          ],
          "parcoords": [
           {
            "line": {
             "colorbar": {
              "outlinewidth": 1,
              "tickcolor": "rgb(36,36,36)",
              "ticks": "outside"
             }
            },
            "type": "parcoords"
           }
          ],
          "pie": [
           {
            "automargin": true,
            "type": "pie"
           }
          ],
          "scatter": [
           {
            "fillpattern": {
             "fillmode": "overlay",
             "size": 10,
             "solidity": 0.2
            },
            "type": "scatter"
           }
          ],
          "scatter3d": [
           {
            "line": {
             "colorbar": {
              "outlinewidth": 1,
              "tickcolor": "rgb(36,36,36)",
              "ticks": "outside"
             }
            },
            "marker": {
             "colorbar": {
              "outlinewidth": 1,
              "tickcolor": "rgb(36,36,36)",
              "ticks": "outside"
             }
            },
            "type": "scatter3d"
           }
          ],
          "scattercarpet": [
           {
            "marker": {
             "colorbar": {
              "outlinewidth": 1,
              "tickcolor": "rgb(36,36,36)",
              "ticks": "outside"
             }
            },
            "type": "scattercarpet"
           }
          ],
          "scattergeo": [
           {
            "marker": {
             "colorbar": {
              "outlinewidth": 1,
              "tickcolor": "rgb(36,36,36)",
              "ticks": "outside"
             }
            },
            "type": "scattergeo"
           }
          ],
          "scattergl": [
           {
            "marker": {
             "colorbar": {
              "outlinewidth": 1,
              "tickcolor": "rgb(36,36,36)",
              "ticks": "outside"
             }
            },
            "type": "scattergl"
           }
          ],
          "scattermapbox": [
           {
            "marker": {
             "colorbar": {
              "outlinewidth": 1,
              "tickcolor": "rgb(36,36,36)",
              "ticks": "outside"
             }
            },
            "type": "scattermapbox"
           }
          ],
          "scatterpolar": [
           {
            "marker": {
             "colorbar": {
              "outlinewidth": 1,
              "tickcolor": "rgb(36,36,36)",
              "ticks": "outside"
             }
            },
            "type": "scatterpolar"
           }
          ],
          "scatterpolargl": [
           {
            "marker": {
             "colorbar": {
              "outlinewidth": 1,
              "tickcolor": "rgb(36,36,36)",
              "ticks": "outside"
             }
            },
            "type": "scatterpolargl"
           }
          ],
          "scatterternary": [
           {
            "marker": {
             "colorbar": {
              "outlinewidth": 1,
              "tickcolor": "rgb(36,36,36)",
              "ticks": "outside"
             }
            },
            "type": "scatterternary"
           }
          ],
          "surface": [
           {
            "colorbar": {
             "outlinewidth": 1,
             "tickcolor": "rgb(36,36,36)",
             "ticks": "outside"
            },
            "colorscale": [
             [
              0,
              "#440154"
             ],
             [
              0.1111111111111111,
              "#482878"
             ],
             [
              0.2222222222222222,
              "#3e4989"
             ],
             [
              0.3333333333333333,
              "#31688e"
             ],
             [
              0.4444444444444444,
              "#26828e"
             ],
             [
              0.5555555555555556,
              "#1f9e89"
             ],
             [
              0.6666666666666666,
              "#35b779"
             ],
             [
              0.7777777777777778,
              "#6ece58"
             ],
             [
              0.8888888888888888,
              "#b5de2b"
             ],
             [
              1,
              "#fde725"
             ]
            ],
            "type": "surface"
           }
          ],
          "table": [
           {
            "cells": {
             "fill": {
              "color": "rgb(237,237,237)"
             },
             "line": {
              "color": "white"
             }
            },
            "header": {
             "fill": {
              "color": "rgb(217,217,217)"
             },
             "line": {
              "color": "white"
             }
            },
            "type": "table"
           }
          ]
         },
         "layout": {
          "annotationdefaults": {
           "arrowhead": 0,
           "arrowwidth": 1
          },
          "autotypenumbers": "strict",
          "coloraxis": {
           "colorbar": {
            "outlinewidth": 1,
            "tickcolor": "rgb(36,36,36)",
            "ticks": "outside"
           }
          },
          "colorscale": {
           "diverging": [
            [
             0,
             "rgb(103,0,31)"
            ],
            [
             0.1,
             "rgb(178,24,43)"
            ],
            [
             0.2,
             "rgb(214,96,77)"
            ],
            [
             0.3,
             "rgb(244,165,130)"
            ],
            [
             0.4,
             "rgb(253,219,199)"
            ],
            [
             0.5,
             "rgb(247,247,247)"
            ],
            [
             0.6,
             "rgb(209,229,240)"
            ],
            [
             0.7,
             "rgb(146,197,222)"
            ],
            [
             0.8,
             "rgb(67,147,195)"
            ],
            [
             0.9,
             "rgb(33,102,172)"
            ],
            [
             1,
             "rgb(5,48,97)"
            ]
           ],
           "sequential": [
            [
             0,
             "#440154"
            ],
            [
             0.1111111111111111,
             "#482878"
            ],
            [
             0.2222222222222222,
             "#3e4989"
            ],
            [
             0.3333333333333333,
             "#31688e"
            ],
            [
             0.4444444444444444,
             "#26828e"
            ],
            [
             0.5555555555555556,
             "#1f9e89"
            ],
            [
             0.6666666666666666,
             "#35b779"
            ],
            [
             0.7777777777777778,
             "#6ece58"
            ],
            [
             0.8888888888888888,
             "#b5de2b"
            ],
            [
             1,
             "#fde725"
            ]
           ],
           "sequentialminus": [
            [
             0,
             "#440154"
            ],
            [
             0.1111111111111111,
             "#482878"
            ],
            [
             0.2222222222222222,
             "#3e4989"
            ],
            [
             0.3333333333333333,
             "#31688e"
            ],
            [
             0.4444444444444444,
             "#26828e"
            ],
            [
             0.5555555555555556,
             "#1f9e89"
            ],
            [
             0.6666666666666666,
             "#35b779"
            ],
            [
             0.7777777777777778,
             "#6ece58"
            ],
            [
             0.8888888888888888,
             "#b5de2b"
            ],
            [
             1,
             "#fde725"
            ]
           ]
          },
          "colorway": [
           "#1F77B4",
           "#FF7F0E",
           "#2CA02C",
           "#D62728",
           "#9467BD",
           "#8C564B",
           "#E377C2",
           "#7F7F7F",
           "#BCBD22",
           "#17BECF"
          ],
          "font": {
           "color": "rgb(36,36,36)"
          },
          "geo": {
           "bgcolor": "white",
           "lakecolor": "white",
           "landcolor": "white",
           "showlakes": true,
           "showland": true,
           "subunitcolor": "white"
          },
          "hoverlabel": {
           "align": "left"
          },
          "hovermode": "closest",
          "mapbox": {
           "style": "light"
          },
          "paper_bgcolor": "white",
          "plot_bgcolor": "white",
          "polar": {
           "angularaxis": {
            "gridcolor": "rgb(232,232,232)",
            "linecolor": "rgb(36,36,36)",
            "showgrid": false,
            "showline": true,
            "ticks": "outside"
           },
           "bgcolor": "white",
           "radialaxis": {
            "gridcolor": "rgb(232,232,232)",
            "linecolor": "rgb(36,36,36)",
            "showgrid": false,
            "showline": true,
            "ticks": "outside"
           }
          },
          "scene": {
           "xaxis": {
            "backgroundcolor": "white",
            "gridcolor": "rgb(232,232,232)",
            "gridwidth": 2,
            "linecolor": "rgb(36,36,36)",
            "showbackground": true,
            "showgrid": false,
            "showline": true,
            "ticks": "outside",
            "zeroline": false,
            "zerolinecolor": "rgb(36,36,36)"
           },
           "yaxis": {
            "backgroundcolor": "white",
            "gridcolor": "rgb(232,232,232)",
            "gridwidth": 2,
            "linecolor": "rgb(36,36,36)",
            "showbackground": true,
            "showgrid": false,
            "showline": true,
            "ticks": "outside",
            "zeroline": false,
            "zerolinecolor": "rgb(36,36,36)"
           },
           "zaxis": {
            "backgroundcolor": "white",
            "gridcolor": "rgb(232,232,232)",
            "gridwidth": 2,
            "linecolor": "rgb(36,36,36)",
            "showbackground": true,
            "showgrid": false,
            "showline": true,
            "ticks": "outside",
            "zeroline": false,
            "zerolinecolor": "rgb(36,36,36)"
           }
          },
          "shapedefaults": {
           "fillcolor": "black",
           "line": {
            "width": 0
           },
           "opacity": 0.3
          },
          "ternary": {
           "aaxis": {
            "gridcolor": "rgb(232,232,232)",
            "linecolor": "rgb(36,36,36)",
            "showgrid": false,
            "showline": true,
            "ticks": "outside"
           },
           "baxis": {
            "gridcolor": "rgb(232,232,232)",
            "linecolor": "rgb(36,36,36)",
            "showgrid": false,
            "showline": true,
            "ticks": "outside"
           },
           "bgcolor": "white",
           "caxis": {
            "gridcolor": "rgb(232,232,232)",
            "linecolor": "rgb(36,36,36)",
            "showgrid": false,
            "showline": true,
            "ticks": "outside"
           }
          },
          "title": {
           "x": 0.05
          },
          "xaxis": {
           "automargin": true,
           "gridcolor": "rgb(232,232,232)",
           "linecolor": "rgb(36,36,36)",
           "showgrid": false,
           "showline": true,
           "ticks": "outside",
           "title": {
            "standoff": 15
           },
           "zeroline": false,
           "zerolinecolor": "rgb(36,36,36)"
          },
          "yaxis": {
           "automargin": true,
           "gridcolor": "rgb(232,232,232)",
           "linecolor": "rgb(36,36,36)",
           "showgrid": false,
           "showline": true,
           "ticks": "outside",
           "title": {
            "standoff": 15
           },
           "zeroline": false,
           "zerolinecolor": "rgb(36,36,36)"
          }
         }
        },
        "title": {
         "font": {
          "color": "Black",
          "size": 22
         },
         "text": "Topics Over Time for 2024Q2",
         "x": 0.4,
         "xanchor": "center",
         "y": 0.95,
         "yanchor": "top"
        },
        "width": 1250,
        "xaxis": {
         "showgrid": true
        },
        "yaxis": {
         "showgrid": true,
         "title": {
          "text": "Frequency"
         }
        }
       }
      }
     },
     "metadata": {},
     "output_type": "display_data"
    }
   ],
   "source": [
    "for period, result in results.items():\n",
    "    fig = result['model'].visualize_topics_over_time(result['topics_over_time'], top_n_topics=10)\n",
    "    fig.update_layout(title_text=f\"Topics Over Time for {period}\")\n",
    "    fig.show()"
   ]
  },
  {
   "cell_type": "code",
   "execution_count": null,
   "metadata": {},
   "outputs": [
    {
     "data": {
      "text/html": [
       "<div>\n",
       "<style scoped>\n",
       "    .dataframe tbody tr th:only-of-type {\n",
       "        vertical-align: middle;\n",
       "    }\n",
       "\n",
       "    .dataframe tbody tr th {\n",
       "        vertical-align: top;\n",
       "    }\n",
       "\n",
       "    .dataframe thead th {\n",
       "        text-align: right;\n",
       "    }\n",
       "</style>\n",
       "<table border=\"1\" class=\"dataframe\">\n",
       "  <thead>\n",
       "    <tr style=\"text-align: right;\">\n",
       "      <th></th>\n",
       "      <th>period</th>\n",
       "      <th>topics</th>\n",
       "    </tr>\n",
       "  </thead>\n",
       "  <tbody>\n",
       "    <tr>\n",
       "      <th>0</th>\n",
       "      <td>2019Q4</td>\n",
       "      <td>[-1_menteri_nadiem_ajar_merdeka, 0_empat_pokok...</td>\n",
       "    </tr>\n",
       "    <tr>\n",
       "      <th>1</th>\n",
       "      <td>2020Q1</td>\n",
       "      <td>[0_islam_minta_cegah_pemda, 1_merdeka_menteri_...</td>\n",
       "    </tr>\n",
       "    <tr>\n",
       "      <th>2</th>\n",
       "      <td>2020Q2</td>\n",
       "      <td>[-1_papua_ajar_perintah_covid, 0_mahasiswa_sek...</td>\n",
       "    </tr>\n",
       "    <tr>\n",
       "      <th>3</th>\n",
       "      <td>2020Q3</td>\n",
       "      <td>[0_kuat_kartu_prakerja_efektivitas, 1_papua_ot...</td>\n",
       "    </tr>\n",
       "    <tr>\n",
       "      <th>4</th>\n",
       "      <td>2020Q4</td>\n",
       "      <td>[0_islam_gtgt_cukup_seluruh, 1_menteri_ajar_pe...</td>\n",
       "    </tr>\n",
       "    <tr>\n",
       "      <th>5</th>\n",
       "      <td>2021Q1</td>\n",
       "      <td>[-1_akmrtv_sarah_radio_tv, 0_musik_tradisional...</td>\n",
       "    </tr>\n",
       "    <tr>\n",
       "      <th>6</th>\n",
       "      <td>2021Q2</td>\n",
       "      <td>[-1_hak_awal_anak_milik, 0_papua_otsus_infrast...</td>\n",
       "    </tr>\n",
       "    <tr>\n",
       "      <th>7</th>\n",
       "      <td>2021Q3</td>\n",
       "      <td>[-1_masyarakat_sehat_sanggau_papua, 0_pandemi_...</td>\n",
       "    </tr>\n",
       "    <tr>\n",
       "      <th>8</th>\n",
       "      <td>2021Q4</td>\n",
       "      <td>[0_tara_disabilitas_dorong_risma, 1_kota_narko...</td>\n",
       "    </tr>\n",
       "    <tr>\n",
       "      <th>9</th>\n",
       "      <td>2022Q1</td>\n",
       "      <td>[-1_ajar_bawaslu_milu_ptm, 0_tingkat_sehat_per...</td>\n",
       "    </tr>\n",
       "    <tr>\n",
       "      <th>10</th>\n",
       "      <td>2022Q2</td>\n",
       "      <td>[0_inklusif_kawal_implementasi_bersamasama, 1_...</td>\n",
       "    </tr>\n",
       "    <tr>\n",
       "      <th>11</th>\n",
       "      <td>2022Q3</td>\n",
       "      <td>[-1_perintah_sama_kota_bidang, 0_indonesia_pap...</td>\n",
       "    </tr>\n",
       "    <tr>\n",
       "      <th>12</th>\n",
       "      <td>2022Q4</td>\n",
       "      <td>[-1_olah_anak_daerah_analis, 0_jokowi_jaga_dor...</td>\n",
       "    </tr>\n",
       "    <tr>\n",
       "      <th>13</th>\n",
       "      <td>2023Q1</td>\n",
       "      <td>[-1_agama_menteri_laku_ustaz, 0_papua_otsus_as...</td>\n",
       "    </tr>\n",
       "    <tr>\n",
       "      <th>14</th>\n",
       "      <td>2023Q2</td>\n",
       "      <td>[-1_universitas_indonesia_ki_dewantara, 0_raga...</td>\n",
       "    </tr>\n",
       "    <tr>\n",
       "      <th>15</th>\n",
       "      <td>2023Q3</td>\n",
       "      <td>[-1_sekolah_guru_tingkat_kerja, 0_prabowo_utkm...</td>\n",
       "    </tr>\n",
       "    <tr>\n",
       "      <th>16</th>\n",
       "      <td>2023Q4</td>\n",
       "      <td>[-1_mahfud_tingkat_md_ganjar, 0_nih_baik_stand...</td>\n",
       "    </tr>\n",
       "    <tr>\n",
       "      <th>17</th>\n",
       "      <td>2024Q1</td>\n",
       "      <td>[0_papua_lalu_mahfud_tingkat, 1_ganjar_lebih_i...</td>\n",
       "    </tr>\n",
       "    <tr>\n",
       "      <th>18</th>\n",
       "      <td>2024Q2</td>\n",
       "      <td>[-1_jakarta_implementasi_ikn_program, 0_indone...</td>\n",
       "    </tr>\n",
       "  </tbody>\n",
       "</table>\n",
       "</div>"
      ],
      "text/plain": [
       "    period                                             topics\n",
       "0   2019Q4  [-1_menteri_nadiem_ajar_merdeka, 0_empat_pokok...\n",
       "1   2020Q1  [0_islam_minta_cegah_pemda, 1_merdeka_menteri_...\n",
       "2   2020Q2  [-1_papua_ajar_perintah_covid, 0_mahasiswa_sek...\n",
       "3   2020Q3  [0_kuat_kartu_prakerja_efektivitas, 1_papua_ot...\n",
       "4   2020Q4  [0_islam_gtgt_cukup_seluruh, 1_menteri_ajar_pe...\n",
       "5   2021Q1  [-1_akmrtv_sarah_radio_tv, 0_musik_tradisional...\n",
       "6   2021Q2  [-1_hak_awal_anak_milik, 0_papua_otsus_infrast...\n",
       "7   2021Q3  [-1_masyarakat_sehat_sanggau_papua, 0_pandemi_...\n",
       "8   2021Q4  [0_tara_disabilitas_dorong_risma, 1_kota_narko...\n",
       "9   2022Q1  [-1_ajar_bawaslu_milu_ptm, 0_tingkat_sehat_per...\n",
       "10  2022Q2  [0_inklusif_kawal_implementasi_bersamasama, 1_...\n",
       "11  2022Q3  [-1_perintah_sama_kota_bidang, 0_indonesia_pap...\n",
       "12  2022Q4  [-1_olah_anak_daerah_analis, 0_jokowi_jaga_dor...\n",
       "13  2023Q1  [-1_agama_menteri_laku_ustaz, 0_papua_otsus_as...\n",
       "14  2023Q2  [-1_universitas_indonesia_ki_dewantara, 0_raga...\n",
       "15  2023Q3  [-1_sekolah_guru_tingkat_kerja, 0_prabowo_utkm...\n",
       "16  2023Q4  [-1_mahfud_tingkat_md_ganjar, 0_nih_baik_stand...\n",
       "17  2024Q1  [0_papua_lalu_mahfud_tingkat, 1_ganjar_lebih_i...\n",
       "18  2024Q2  [-1_jakarta_implementasi_ikn_program, 0_indone..."
      ]
     },
     "metadata": {},
     "output_type": "display_data"
    }
   ],
   "source": [
    "top_topics = []\n",
    "\n",
    "\n",
    "for period, result in results.items():\n",
    "    top_10_topics = result['topic_info'][0:11]\n",
    "    # top_10_topics['Name'] = top_10_topics['Name'].str.replace(r'^\\d+_', '', regex=True)\n",
    "    topic_descriptions = top_10_topics['Name'].tolist()\n",
    "    top_topics.append({'period': period, 'topics': topic_descriptions})\n",
    "\n",
    "\n",
    "top_topics_df = pd.DataFrame(top_topics)\n",
    "display(top_topics_df)"
   ]
  },
  {
   "cell_type": "code",
   "execution_count": null,
   "metadata": {},
   "outputs": [
    {
     "name": "stdout",
     "output_type": "stream",
     "text": [
      "2019Q4: ['-1_menteri_nadiem_ajar_merdeka', '0_empat_pokok_tetap_merdeka', '1_indonesia_nadiem_makarim_presiden', '2_kembang_mendikbud_nadiem_jangan', '3_tri_baru_tingkat_kritik', '4_analisis_negara_suatu_rakyat', '5_guru_anak_sekolah_jadi', '6_budaya_menteri_program_makarim', '7_menteri_un_enggak_pak']\n",
      "2020Q1: ['0_islam_minta_cegah_pemda', '1_merdeka_menteri_ajar_nadiem', '2_disease_coronavirus_darurat_masa', '3_virus_corona_sebar_covid']\n",
      "2020Q2: ['-1_papua_ajar_perintah_covid', '0_mahasiswa_sekolah_jadi_buat', '1_menteri_indonesia_ajar_budaya', '2_pandemi_masa_covid_indonesia', '3_darurat_sebar_timur_jawa', '4_new_normal_hadap_jabar', '5_dpr_apresiasi_kali_komisi', '6_islam_normal_pesantren_agama', '7_saran_hendak_bila_implementasi', '8_dokter_siap_normal_era']\n",
      "2020Q3: ['0_kuat_kartu_prakerja_efektivitas', '1_papua_otonomi_khusus_barat', '2_ajar_pjj_nilai_jarak', '3_ajar_menteri_pandemi_covid']\n",
      "2020Q4: ['0_islam_gtgt_cukup_seluruh', '1_menteri_ajar_perintah_indonesia']\n",
      "2021Q1: ['-1_akmrtv_sarah_radio_tv', '0_musik_tradisional_apresiasi_karya', '1_pandemi_audiensi_biaya_tengah', '2_kualitas_mampu_otsus_papua', '3_papua_masyarakat_sejahtera_otsus', '4_kuota_bantu_internet_data', '5_sekolah_ajar_indonesia_nasional']\n",
      "2021Q2: ['-1_hak_awal_anak_milik', '0_papua_otsus_infrastruktur_sehat', '1_menteri_ajar_merdeka_budaya']\n",
      "2021Q3: ['-1_masyarakat_sehat_sanggau_papua', '0_pandemi_biaya_ui_mahasiswa', '1_kualitas_kota_sarana_indonesia', '2_sekolah_kepala_surat_swasta', '3_merdeka_indonesia_vokasi_ajar', '4_vokasi_tinggi_merdeka_mahasiswa']\n",
      "2021Q4: ['0_tara_disabilitas_dorong_risma', '1_kota_narkoba_konsolidasi_tanggap', '2_jokowi_indonesia_ketua_sektor', '3_menteri_guru_jadi_seksual']\n",
      "2022Q1: ['-1_ajar_bawaslu_milu_ptm', '0_tingkat_sehat_perintah_tahun', '1_indonesia_papua_menteri_anak', '2_jakarta_pekanbaru_jalan_ptm', '3_muhammadiyah_its_pp_perempuan', '4_guru_kurikulum_merdeka_kkn', '5_negara_student_loan_bayar']\n",
      "2022Q2: ['0_inklusif_kawal_implementasi_bersamasama', '1_indonesia_aliansi_masuk_beri']\n",
      "2022Q3: ['-1_perintah_sama_kota_bidang', '0_indonesia_papua_ajar_merdeka', '1_islam_agama_ketua_ri', '2_merdeka_menteri_kampus_budaya', '3_baru_buat_jadi_nyata', '4_guru_jadi_enggak_sekolah']\n",
      "2022Q4: ['-1_olah_anak_daerah_analis', '0_jokowi_jaga_dorong_nkri', '1_pimpin_guru_tahun_jabat']\n",
      "2023Q1: ['-1_agama_menteri_laku_ustaz', '0_papua_otsus_asli_tingkat', '1_lalu_transformasi_biru_kunci', '2_lpka_ikut_kutoarjo_anak', '3_sekolah_jam_ntt_masuk']\n",
      "2023Q2: ['-1_universitas_indonesia_ki_dewantara', '0_ragam_pesan_maju_ganjar', '1_literasi_teliti_data_masalah', '2_sekolah_guru_jadi_indonesia']\n",
      "2023Q3: ['-1_sekolah_guru_tingkat_kerja', '0_prabowo_utkmasadepan_delapansmangat_rakyat', '1_indonesia_anies_jadi_jakarta', '2_sekolah_nih_guru_baik', '3_skripsi_mahasiswa_barangjasa_kelulus', '4_menteri_ganti_jadi_maudy', '5_zonasi_ppdb_sistem_muhadjir', '6_biaya_akses_bebas_beri', '7_enggak_bukan_tau_periode', '8_beasiswa_raih_hasil_mampu']\n",
      "2023Q4: ['-1_mahfud_tingkat_md_ganjar', '0_nih_baik_standar_solutif', '1_indonesia_internet_ganjar_gpmmd', '2_ganjarmahfud_gpmmd_ganjar_pranowo', '3_gpmmd_gratis_tahun_merauke', '4_miskin_kinerjapakbowo_jatuhhati_nkrisejahtera', '5_presiden_ganjar_pak_siap', '6_agama_aji_guru_dukung', '7_gpmmd_tahun_sabang_merauke', '8_kota_desa_set_sat']\n",
      "2024Q1: ['0_papua_lalu_mahfud_tingkat', '1_ganjar_lebih_indonesia_enggak']\n",
      "2024Q2: ['-1_jakarta_implementasi_ikn_program', '0_indonesia_menteri_guru_bikin', '1_enggak_jadi_buat_pramuka']\n"
     ]
    }
   ],
   "source": [
    "for quarter in top_topics:\n",
    "    print(f\"{quarter['period']}: {quarter['topics']}\")"
   ]
  },
  {
   "cell_type": "markdown",
   "metadata": {},
   "source": [
    "# Evaluation"
   ]
  },
  {
   "cell_type": "code",
   "execution_count": null,
   "metadata": {},
   "outputs": [],
   "source": [
    "coherence_obj = {}\n",
    "\n",
    "for period, result in results.items():\n",
    "    documents = pd.DataFrame({\"Document\": result['text'],\n",
    "                              \"ID\": range(len(result['text'])),\n",
    "                              \"Topic\": result['topics'],\n",
    "                              })\n",
    "\n",
    "    documents_per_topic = documents.groupby(['Topic'], as_index=False).agg({'Document': ' '.join})\n",
    "    cleaned_docs = result['model']._preprocess_text(documents_per_topic.Document.values)\n",
    "\n",
    "    vectorizer = result['model'].vectorizer_model\n",
    "    analyzer = vectorizer.build_analyzer()\n",
    "\n",
    "    words = vectorizer.get_feature_names_out()\n",
    "    tokens = [analyzer(doc) for doc in cleaned_docs]\n",
    "    dictionary = corpora.Dictionary(tokens)\n",
    "    corpus = [dictionary.doc2bow(token) for token in tokens]\n",
    "    topic_words = [[words for words, _ in result['model'].get_topic(topic)] for topic in range(len(set(result['topics']))-1)]\n",
    "\n",
    "    coherence_model_c_v = CoherenceModel(topics=topic_words,\n",
    "                                    texts=tokens,\n",
    "                                    corpus=corpus,\n",
    "                                    dictionary=dictionary,\n",
    "                                    coherence='c_v')\n",
    "    coherence_model_u_mass = CoherenceModel(topics=topic_words,\n",
    "                                    texts=tokens,\n",
    "                                    corpus=corpus,\n",
    "                                    dictionary=dictionary,\n",
    "                                    coherence='u_mass')\n",
    "    coherence_c_v = coherence_model_c_v.get_coherence()\n",
    "    coherence_u_mass = coherence_model_u_mass.get_coherence()\n",
    "    coherence_obj[period] = {\n",
    "        'coherence_c_v': coherence_c_v,\n",
    "        'coherence_u_mass': coherence_u_mass,\n",
    "    }"
   ]
  },
  {
   "cell_type": "code",
   "execution_count": null,
   "metadata": {},
   "outputs": [
    {
     "data": {
      "text/plain": [
       "{Period('2019Q4', 'Q-DEC'): {'coherence_c_v': 0.5586950531695594,\n",
       "  'coherence_u_mass': -0.5607027727226086},\n",
       " Period('2020Q1', 'Q-DEC'): {'coherence_c_v': 0.7348581618075546,\n",
       "  'coherence_u_mass': -0.16566044331697286},\n",
       " Period('2020Q2', 'Q-DEC'): {'coherence_c_v': 0.6084942290321547,\n",
       "  'coherence_u_mass': -0.40894767149817063},\n",
       " Period('2020Q3', 'Q-DEC'): {'coherence_c_v': 0.6559972028358545,\n",
       "  'coherence_u_mass': -0.07837524280155266},\n",
       " Period('2020Q4', 'Q-DEC'): {'coherence_c_v': 0.7809663259471452,\n",
       "  'coherence_u_mass': -0.015403270677732079},\n",
       " Period('2021Q1', 'Q-DEC'): {'coherence_c_v': 0.7049338235698431,\n",
       "  'coherence_u_mass': -0.42268877879561967},\n",
       " Period('2021Q2', 'Q-DEC'): {'coherence_c_v': 0.3430110023832821,\n",
       "  'coherence_u_mass': -0.09053185699700497},\n",
       " Period('2021Q3', 'Q-DEC'): {'coherence_c_v': 0.7318491948466705,\n",
       "  'coherence_u_mass': -0.5081136275309767},\n",
       " Period('2021Q4', 'Q-DEC'): {'coherence_c_v': 0.7626448785739149,\n",
       "  'coherence_u_mass': -0.2946078328114052},\n",
       " Period('2022Q1', 'Q-DEC'): {'coherence_c_v': 0.6409702567199137,\n",
       "  'coherence_u_mass': -0.46526266043295866},\n",
       " Period('2022Q2', 'Q-DEC'): {'coherence_c_v': 0.9104997563938848,\n",
       "  'coherence_u_mass': -0.20024251882676197},\n",
       " Period('2022Q3', 'Q-DEC'): {'coherence_c_v': 0.5713353475682723,\n",
       "  'coherence_u_mass': -0.4691695077727044},\n",
       " Period('2022Q4', 'Q-DEC'): {'coherence_c_v': 0.6511481236839645,\n",
       "  'coherence_u_mass': -0.13354520156240374},\n",
       " Period('2023Q1', 'Q-DEC'): {'coherence_c_v': 0.7551227790622781,\n",
       "  'coherence_u_mass': -0.2152172898615312},\n",
       " Period('2023Q2', 'Q-DEC'): {'coherence_c_v': 0.6572623672910037,\n",
       "  'coherence_u_mass': -0.27920456213248296},\n",
       " Period('2023Q3', 'Q-DEC'): {'coherence_c_v': 0.681540367256832,\n",
       "  'coherence_u_mass': -0.508979633680091},\n",
       " Period('2023Q4', 'Q-DEC'): {'coherence_c_v': 0.7040724304152817,\n",
       "  'coherence_u_mass': -0.3762591971628654},\n",
       " Period('2024Q1', 'Q-DEC'): {'coherence_c_v': 0.47847845176463066,\n",
       "  'coherence_u_mass': 1.2000622717770244e-12},\n",
       " Period('2024Q2', 'Q-DEC'): {'coherence_c_v': 0.37581195197720363,\n",
       "  'coherence_u_mass': -0.19923495250539902}}"
      ]
     },
     "execution_count": 26,
     "metadata": {},
     "output_type": "execute_result"
    }
   ],
   "source": [
    "coherence_obj"
   ]
  },
  {
   "cell_type": "code",
   "execution_count": null,
   "metadata": {},
   "outputs": [],
   "source": []
  }
 ],
 "metadata": {
  "kernelspec": {
   "display_name": "base",
   "language": "python",
   "name": "python3"
  },
  "language_info": {
   "codemirror_mode": {
    "name": "ipython",
    "version": 3
   },
   "file_extension": ".py",
   "mimetype": "text/x-python",
   "name": "python",
   "nbconvert_exporter": "python",
   "pygments_lexer": "ipython3",
   "version": "3.11.6"
  }
 },
 "nbformat": 4,
 "nbformat_minor": 2
}
