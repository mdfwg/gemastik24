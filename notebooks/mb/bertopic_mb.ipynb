{
 "cells": [
  {
   "cell_type": "markdown",
   "metadata": {},
   "source": [
    "# Libraries"
   ]
  },
  {
   "cell_type": "code",
   "execution_count": 1,
   "metadata": {},
   "outputs": [
    {
     "name": "stderr",
     "output_type": "stream",
     "text": [
      "c:\\Users\\user\\anaconda3\\envs\\LDA\\Lib\\site-packages\\tqdm\\auto.py:21: TqdmWarning: IProgress not found. Please update jupyter and ipywidgets. See https://ipywidgets.readthedocs.io/en/stable/user_install.html\n",
      "  from .autonotebook import tqdm as notebook_tqdm\n"
     ]
    }
   ],
   "source": [
    "import pandas as pd\n",
    "import matplotlib.pyplot as plt\n",
    "import sys\n",
    "from bertopic import BERTopic\n",
    "import gensim.corpora as corpora\n",
    "from gensim.models.coherencemodel import CoherenceModel"
   ]
  },
  {
   "cell_type": "markdown",
   "metadata": {},
   "source": [
    "# Load Data"
   ]
  },
  {
   "cell_type": "code",
   "execution_count": 2,
   "metadata": {},
   "outputs": [
    {
     "data": {
      "text/html": [
       "<div>\n",
       "<style scoped>\n",
       "    .dataframe tbody tr th:only-of-type {\n",
       "        vertical-align: middle;\n",
       "    }\n",
       "\n",
       "    .dataframe tbody tr th {\n",
       "        vertical-align: top;\n",
       "    }\n",
       "\n",
       "    .dataframe thead th {\n",
       "        text-align: right;\n",
       "    }\n",
       "</style>\n",
       "<table border=\"1\" class=\"dataframe\">\n",
       "  <thead>\n",
       "    <tr style=\"text-align: right;\">\n",
       "      <th></th>\n",
       "      <th>created_at</th>\n",
       "      <th>full_text</th>\n",
       "    </tr>\n",
       "  </thead>\n",
       "  <tbody>\n",
       "    <tr>\n",
       "      <th>0</th>\n",
       "      <td>2019-11-01 02:51:51+00:00</td>\n",
       "      <td>kerja ajar senang senang penuh semangat merdeka</td>\n",
       "    </tr>\n",
       "    <tr>\n",
       "      <th>1</th>\n",
       "      <td>2019-11-02 04:27:12+00:00</td>\n",
       "      <td>tpn guruguru merdeka ajar moga tahun depan gab...</td>\n",
       "    </tr>\n",
       "    <tr>\n",
       "      <th>2</th>\n",
       "      <td>2019-11-03 10:46:27+00:00</td>\n",
       "      <td>kbm ambengan batu admin mau share beberapa dok...</td>\n",
       "    </tr>\n",
       "    <tr>\n",
       "      <th>3</th>\n",
       "      <td>2019-11-03 10:50:12+00:00</td>\n",
       "      <td>kbm tl ambengan admin mau share beberapa dokum...</td>\n",
       "    </tr>\n",
       "    <tr>\n",
       "      <th>4</th>\n",
       "      <td>2019-11-03 14:43:27+00:00</td>\n",
       "      <td>harus ajar loyal nurani pikir sendiri my heart...</td>\n",
       "    </tr>\n",
       "    <tr>\n",
       "      <th>...</th>\n",
       "      <td>...</td>\n",
       "      <td>...</td>\n",
       "    </tr>\n",
       "    <tr>\n",
       "      <th>34593</th>\n",
       "      <td>2024-04-29 13:43:31+00:00</td>\n",
       "      <td>wakatobi siap gelar konferensi internasional s...</td>\n",
       "    </tr>\n",
       "    <tr>\n",
       "      <th>34594</th>\n",
       "      <td>2024-04-29 14:23:23+00:00</td>\n",
       "      <td>konsorsium baterai listrik nasional</td>\n",
       "    </tr>\n",
       "    <tr>\n",
       "      <th>34595</th>\n",
       "      <td>2024-04-29 15:50:14+00:00</td>\n",
       "      <td>joki essay tema merdeka ajar</td>\n",
       "    </tr>\n",
       "    <tr>\n",
       "      <th>34596</th>\n",
       "      <td>2024-04-29 18:23:19+00:00</td>\n",
       "      <td>tim pkm pnup terima dana pkm vokasi tahun</td>\n",
       "    </tr>\n",
       "    <tr>\n",
       "      <th>34597</th>\n",
       "      <td>2024-04-29 20:22:16+00:00</td>\n",
       "      <td>juang anakanak dusun biram aceh utara tempuh m...</td>\n",
       "    </tr>\n",
       "  </tbody>\n",
       "</table>\n",
       "<p>34587 rows × 2 columns</p>\n",
       "</div>"
      ],
      "text/plain": [
       "                     created_at  \\\n",
       "0     2019-11-01 02:51:51+00:00   \n",
       "1     2019-11-02 04:27:12+00:00   \n",
       "2     2019-11-03 10:46:27+00:00   \n",
       "3     2019-11-03 10:50:12+00:00   \n",
       "4     2019-11-03 14:43:27+00:00   \n",
       "...                         ...   \n",
       "34593 2024-04-29 13:43:31+00:00   \n",
       "34594 2024-04-29 14:23:23+00:00   \n",
       "34595 2024-04-29 15:50:14+00:00   \n",
       "34596 2024-04-29 18:23:19+00:00   \n",
       "34597 2024-04-29 20:22:16+00:00   \n",
       "\n",
       "                                               full_text  \n",
       "0        kerja ajar senang senang penuh semangat merdeka  \n",
       "1      tpn guruguru merdeka ajar moga tahun depan gab...  \n",
       "2      kbm ambengan batu admin mau share beberapa dok...  \n",
       "3      kbm tl ambengan admin mau share beberapa dokum...  \n",
       "4      harus ajar loyal nurani pikir sendiri my heart...  \n",
       "...                                                  ...  \n",
       "34593  wakatobi siap gelar konferensi internasional s...  \n",
       "34594                konsorsium baterai listrik nasional  \n",
       "34595                       joki essay tema merdeka ajar  \n",
       "34596          tim pkm pnup terima dana pkm vokasi tahun  \n",
       "34597  juang anakanak dusun biram aceh utara tempuh m...  \n",
       "\n",
       "[34587 rows x 2 columns]"
      ]
     },
     "execution_count": 2,
     "metadata": {},
     "output_type": "execute_result"
    }
   ],
   "source": [
    "tweet = pd.read_csv('../../src/cleaned_mb.csv')\n",
    "tweet = tweet.dropna(subset=['full_text'])\n",
    "tweet = tweet[['created_at', 'full_text']]\n",
    "tweet['created_at'] = pd.to_datetime(tweet['created_at'])\n",
    "tweet"
   ]
  },
  {
   "cell_type": "markdown",
   "metadata": {},
   "source": [
    "# Preprocess"
   ]
  },
  {
   "cell_type": "code",
   "execution_count": 3,
   "metadata": {},
   "outputs": [],
   "source": [
    "tweet_quarter = tweet.copy()\n",
    "\n",
    "tweet_quarter['quarter'] = tweet_quarter['created_at'].dt.to_period('Q')\n",
    "\n",
    "tweet_quarter = tweet_quarter.groupby('quarter')"
   ]
  },
  {
   "cell_type": "markdown",
   "metadata": {},
   "source": [
    "# Modeling"
   ]
  },
  {
   "cell_type": "code",
   "execution_count": 4,
   "metadata": {},
   "outputs": [],
   "source": [
    "results = {}"
   ]
  },
  {
   "cell_type": "code",
   "execution_count": 5,
   "metadata": {},
   "outputs": [
    {
     "name": "stdout",
     "output_type": "stream",
     "text": [
      "CPU times: total: 16min 37s\n",
      "Wall time: 9min 14s\n"
     ]
    }
   ],
   "source": [
    "%%time\n",
    "for period, group in tweet_quarter:\n",
    "    topic_model = BERTopic(verbose=False,\n",
    "                           language='indonesian', calculate_probabilities=True,\n",
    "                           nr_topics=10,\n",
    "                           )\n",
    "    text_data = group['full_text'].tolist()\n",
    "    timestamps = group['created_at'].tolist()\n",
    "    topics, probs = topic_model.fit_transform(text_data)\n",
    "    results[period] = {\n",
    "        'model' : topic_model,\n",
    "        'topics_over_time' : topic_model.topics_over_time(text_data, timestamps, nr_bins=30),\n",
    "        'probs': probs,\n",
    "        'topic_info': topic_model.get_topic_info(),\n",
    "        \n",
    "        'topics': topics,\n",
    "        'text': text_data,\n",
    "    }"
   ]
  },
  {
   "cell_type": "code",
   "execution_count": 10,
   "metadata": {},
   "outputs": [
    {
     "name": "stdout",
     "output_type": "stream",
     "text": [
      "Period: 2019Q4\n"
     ]
    },
    {
     "data": {
      "text/html": [
       "<div>\n",
       "<style scoped>\n",
       "    .dataframe tbody tr th:only-of-type {\n",
       "        vertical-align: middle;\n",
       "    }\n",
       "\n",
       "    .dataframe tbody tr th {\n",
       "        vertical-align: top;\n",
       "    }\n",
       "\n",
       "    .dataframe thead th {\n",
       "        text-align: right;\n",
       "    }\n",
       "</style>\n",
       "<table border=\"1\" class=\"dataframe\">\n",
       "  <thead>\n",
       "    <tr style=\"text-align: right;\">\n",
       "      <th></th>\n",
       "      <th>Topic</th>\n",
       "      <th>Count</th>\n",
       "      <th>Name</th>\n",
       "      <th>Representation</th>\n",
       "      <th>Representative_Docs</th>\n",
       "    </tr>\n",
       "  </thead>\n",
       "  <tbody>\n",
       "    <tr>\n",
       "      <th>0</th>\n",
       "      <td>-1</td>\n",
       "      <td>315</td>\n",
       "      <td>-1_ajar_merdeka_nadiem_guru</td>\n",
       "      <td>[ajar, merdeka, nadiem, guru, mendikbud, makar...</td>\n",
       "      <td>[hapus un nadiem siap program merdeka ajar gur...</td>\n",
       "    </tr>\n",
       "    <tr>\n",
       "      <th>1</th>\n",
       "      <td>0</td>\n",
       "      <td>457</td>\n",
       "      <td>0_guru_ajar_merdeka_hari</td>\n",
       "      <td>[guru, ajar, merdeka, hari, program, selamat, ...</td>\n",
       "      <td>[hari guru nasional nadiem merdeka ajar guru g...</td>\n",
       "    </tr>\n",
       "    <tr>\n",
       "      <th>2</th>\n",
       "      <td>1</td>\n",
       "      <td>240</td>\n",
       "      <td>1_indonesia_guru_hari_selamat</td>\n",
       "      <td>[indonesia, guru, hari, selamat, maju, gerak, ...</td>\n",
       "      <td>[selamat hari guru nasional guru gerak indones...</td>\n",
       "    </tr>\n",
       "    <tr>\n",
       "      <th>3</th>\n",
       "      <td>2</td>\n",
       "      <td>181</td>\n",
       "      <td>2_aku_merdeka_ajar_nadiem</td>\n",
       "      <td>[aku, merdeka, ajar, nadiem, datang, ubah, rev...</td>\n",
       "      <td>[aku datang aku ajar aku uji aku revisi aku me...</td>\n",
       "    </tr>\n",
       "    <tr>\n",
       "      <th>4</th>\n",
       "      <td>3</td>\n",
       "      <td>74</td>\n",
       "      <td>3_menteri_mas_budaya_nadiem</td>\n",
       "      <td>[menteri, mas, budaya, nadiem, ajar, merdeka, ...</td>\n",
       "      <td>[menteri  budaya mendikbud nadiem anwar makari...</td>\n",
       "    </tr>\n",
       "    <tr>\n",
       "      <th>5</th>\n",
       "      <td>4</td>\n",
       "      <td>47</td>\n",
       "      <td>4_pokok_empat_tetap_mendikbud</td>\n",
       "      <td>[pokok, empat, tetap, mendikbud, merdeka, ajar...</td>\n",
       "      <td>[mendikbud tetap empat pokok   merdeka ajar, m...</td>\n",
       "    </tr>\n",
       "    <tr>\n",
       "      <th>6</th>\n",
       "      <td>5</td>\n",
       "      <td>42</td>\n",
       "      <td>5_uji_nasional_hapus_asesmen</td>\n",
       "      <td>[uji, nasional, hapus, asesmen, karakter, komp...</td>\n",
       "      <td>[menteri  budaya nadiem makarim sampai empat p...</td>\n",
       "    </tr>\n",
       "    <tr>\n",
       "      <th>7</th>\n",
       "      <td>6</td>\n",
       "      <td>13</td>\n",
       "      <td>6_baik_sendiri_manusia_loyal</td>\n",
       "      <td>[baik, sendiri, manusia, loyal, negara, enggak...</td>\n",
       "      <td>[aneh kebodohanterlalu fanatik manusiasehingga...</td>\n",
       "    </tr>\n",
       "    <tr>\n",
       "      <th>8</th>\n",
       "      <td>7</td>\n",
       "      <td>13</td>\n",
       "      <td>7_video_tv_dpr_komisi</td>\n",
       "      <td>[video, tv, dpr, komisi, des, trans, youtube, ...</td>\n",
       "      <td>[besok hari rabu tanggal des jam mata najwa tr...</td>\n",
       "    </tr>\n",
       "    <tr>\n",
       "      <th>9</th>\n",
       "      <td>8</td>\n",
       "      <td>11</td>\n",
       "      <td>8_ppdb_zonasi_tetap_jalur</td>\n",
       "      <td>[ppdb, zonasi, tetap, jalur, daerah, sistem, a...</td>\n",
       "      <td>[ppdb tetap sistem zonasi kuota jalur prestasi...</td>\n",
       "    </tr>\n",
       "  </tbody>\n",
       "</table>\n",
       "</div>"
      ],
      "text/plain": [
       "   Topic  Count                           Name  \\\n",
       "0     -1    315    -1_ajar_merdeka_nadiem_guru   \n",
       "1      0    457       0_guru_ajar_merdeka_hari   \n",
       "2      1    240  1_indonesia_guru_hari_selamat   \n",
       "3      2    181      2_aku_merdeka_ajar_nadiem   \n",
       "4      3     74    3_menteri_mas_budaya_nadiem   \n",
       "5      4     47  4_pokok_empat_tetap_mendikbud   \n",
       "6      5     42   5_uji_nasional_hapus_asesmen   \n",
       "7      6     13   6_baik_sendiri_manusia_loyal   \n",
       "8      7     13          7_video_tv_dpr_komisi   \n",
       "9      8     11      8_ppdb_zonasi_tetap_jalur   \n",
       "\n",
       "                                      Representation  \\\n",
       "0  [ajar, merdeka, nadiem, guru, mendikbud, makar...   \n",
       "1  [guru, ajar, merdeka, hari, program, selamat, ...   \n",
       "2  [indonesia, guru, hari, selamat, maju, gerak, ...   \n",
       "3  [aku, merdeka, ajar, nadiem, datang, ubah, rev...   \n",
       "4  [menteri, mas, budaya, nadiem, ajar, merdeka, ...   \n",
       "5  [pokok, empat, tetap, mendikbud, merdeka, ajar...   \n",
       "6  [uji, nasional, hapus, asesmen, karakter, komp...   \n",
       "7  [baik, sendiri, manusia, loyal, negara, enggak...   \n",
       "8  [video, tv, dpr, komisi, des, trans, youtube, ...   \n",
       "9  [ppdb, zonasi, tetap, jalur, daerah, sistem, a...   \n",
       "\n",
       "                                 Representative_Docs  \n",
       "0  [hapus un nadiem siap program merdeka ajar gur...  \n",
       "1  [hari guru nasional nadiem merdeka ajar guru g...  \n",
       "2  [selamat hari guru nasional guru gerak indones...  \n",
       "3  [aku datang aku ajar aku uji aku revisi aku me...  \n",
       "4  [menteri  budaya mendikbud nadiem anwar makari...  \n",
       "5  [mendikbud tetap empat pokok   merdeka ajar, m...  \n",
       "6  [menteri  budaya nadiem makarim sampai empat p...  \n",
       "7  [aneh kebodohanterlalu fanatik manusiasehingga...  \n",
       "8  [besok hari rabu tanggal des jam mata najwa tr...  \n",
       "9  [ppdb tetap sistem zonasi kuota jalur prestasi...  "
      ]
     },
     "metadata": {},
     "output_type": "display_data"
    },
    {
     "name": "stdout",
     "output_type": "stream",
     "text": [
      "\n",
      "Period: 2020Q1\n"
     ]
    },
    {
     "data": {
      "text/html": [
       "<div>\n",
       "<style scoped>\n",
       "    .dataframe tbody tr th:only-of-type {\n",
       "        vertical-align: middle;\n",
       "    }\n",
       "\n",
       "    .dataframe tbody tr th {\n",
       "        vertical-align: top;\n",
       "    }\n",
       "\n",
       "    .dataframe thead th {\n",
       "        text-align: right;\n",
       "    }\n",
       "</style>\n",
       "<table border=\"1\" class=\"dataframe\">\n",
       "  <thead>\n",
       "    <tr style=\"text-align: right;\">\n",
       "      <th></th>\n",
       "      <th>Topic</th>\n",
       "      <th>Count</th>\n",
       "      <th>Name</th>\n",
       "      <th>Representation</th>\n",
       "      <th>Representative_Docs</th>\n",
       "    </tr>\n",
       "  </thead>\n",
       "  <tbody>\n",
       "    <tr>\n",
       "      <th>0</th>\n",
       "      <td>-1</td>\n",
       "      <td>577</td>\n",
       "      <td>-1_ajar_merdeka_program_nadiem</td>\n",
       "      <td>[ajar, merdeka, program, nadiem, guru, sekolah...</td>\n",
       "      <td>[mendikbud nadiem makarim luncur empat  merdek...</td>\n",
       "    </tr>\n",
       "    <tr>\n",
       "      <th>1</th>\n",
       "      <td>0</td>\n",
       "      <td>438</td>\n",
       "      <td>0_merdeka_ajar_kampus_guru</td>\n",
       "      <td>[merdeka, ajar, kampus, guru, sekolah, nadiem,...</td>\n",
       "      <td>[merdeka ajar kampus merdeka, merdeka ajar kam...</td>\n",
       "    </tr>\n",
       "    <tr>\n",
       "      <th>2</th>\n",
       "      <td>1</td>\n",
       "      <td>370</td>\n",
       "      <td>1_ajar_merdeka_yuk_nadiem</td>\n",
       "      <td>[ajar, merdeka, yuk, nadiem, episode, ikut, si...</td>\n",
       "      <td>[merdeka ajar ajar merdeka, merdeka ajar, merd...</td>\n",
       "    </tr>\n",
       "    <tr>\n",
       "      <th>3</th>\n",
       "      <td>2</td>\n",
       "      <td>114</td>\n",
       "      <td>2_indonesia_merdeka_ajar_cikal</td>\n",
       "      <td>[indonesia, merdeka, ajar, cikal, guru, kerja,...</td>\n",
       "      <td>[merdeka kerja sama kampus guru cikal kampus g...</td>\n",
       "    </tr>\n",
       "    <tr>\n",
       "      <th>4</th>\n",
       "      <td>3</td>\n",
       "      <td>22</td>\n",
       "      <td>3_aku_menang_revisi_datang</td>\n",
       "      <td>[aku, menang, revisi, datang, uji, merdeka, aj...</td>\n",
       "      <td>[aku datang aku ajar aku uji aku revisi aku me...</td>\n",
       "    </tr>\n",
       "    <tr>\n",
       "      <th>5</th>\n",
       "      <td>4</td>\n",
       "      <td>17</td>\n",
       "      <td>4_teknologi_jalur_digital_online</td>\n",
       "      <td>[teknologi, jalur, digital, online, internet, ...</td>\n",
       "      <td>[guru zaman millenial guna kipinpto giat evalu...</td>\n",
       "    </tr>\n",
       "    <tr>\n",
       "      <th>6</th>\n",
       "      <td>5</td>\n",
       "      <td>16</td>\n",
       "      <td>5_edar_surat_terbit_nomor</td>\n",
       "      <td>[edar, surat, terbit, nomor, kemendikbud, tang...</td>\n",
       "      <td>[kemendikbud terbit surat edar nomor  merdeka ...</td>\n",
       "    </tr>\n",
       "    <tr>\n",
       "      <th>7</th>\n",
       "      <td>6</td>\n",
       "      <td>15</td>\n",
       "      <td>6_selamat_jam_januari_wib</td>\n",
       "      <td>[selamat, jam, januari, wib, kue, pukul, tahun...</td>\n",
       "      <td>[pagi kalian kunjung perlu perhati jam layan b...</td>\n",
       "    </tr>\n",
       "    <tr>\n",
       "      <th>8</th>\n",
       "      <td>7</td>\n",
       "      <td>14</td>\n",
       "      <td>7_peluang_negara_luar_negeri</td>\n",
       "      <td>[peluang, negara, luar, negeri, kerja, buka, k...</td>\n",
       "      <td>[merdeka ajar buka peluang kerja sama negara, ...</td>\n",
       "    </tr>\n",
       "    <tr>\n",
       "      <th>9</th>\n",
       "      <td>8</td>\n",
       "      <td>13</td>\n",
       "      <td>8_pakai_ukm_haram_internasional</td>\n",
       "      <td>[pakai, ukm, haram, internasional, kibijakan, ...</td>\n",
       "      <td>[kibijakan merdeka ajar gagal kalau juta ukm t...</td>\n",
       "    </tr>\n",
       "  </tbody>\n",
       "</table>\n",
       "</div>"
      ],
      "text/plain": [
       "   Topic  Count                              Name  \\\n",
       "0     -1    577    -1_ajar_merdeka_program_nadiem   \n",
       "1      0    438        0_merdeka_ajar_kampus_guru   \n",
       "2      1    370         1_ajar_merdeka_yuk_nadiem   \n",
       "3      2    114    2_indonesia_merdeka_ajar_cikal   \n",
       "4      3     22        3_aku_menang_revisi_datang   \n",
       "5      4     17  4_teknologi_jalur_digital_online   \n",
       "6      5     16         5_edar_surat_terbit_nomor   \n",
       "7      6     15         6_selamat_jam_januari_wib   \n",
       "8      7     14      7_peluang_negara_luar_negeri   \n",
       "9      8     13   8_pakai_ukm_haram_internasional   \n",
       "\n",
       "                                      Representation  \\\n",
       "0  [ajar, merdeka, program, nadiem, guru, sekolah...   \n",
       "1  [merdeka, ajar, kampus, guru, sekolah, nadiem,...   \n",
       "2  [ajar, merdeka, yuk, nadiem, episode, ikut, si...   \n",
       "3  [indonesia, merdeka, ajar, cikal, guru, kerja,...   \n",
       "4  [aku, menang, revisi, datang, uji, merdeka, aj...   \n",
       "5  [teknologi, jalur, digital, online, internet, ...   \n",
       "6  [edar, surat, terbit, nomor, kemendikbud, tang...   \n",
       "7  [selamat, jam, januari, wib, kue, pukul, tahun...   \n",
       "8  [peluang, negara, luar, negeri, kerja, buka, k...   \n",
       "9  [pakai, ukm, haram, internasional, kibijakan, ...   \n",
       "\n",
       "                                 Representative_Docs  \n",
       "0  [mendikbud nadiem makarim luncur empat  merdek...  \n",
       "1  [merdeka ajar kampus merdeka, merdeka ajar kam...  \n",
       "2  [merdeka ajar ajar merdeka, merdeka ajar, merd...  \n",
       "3  [merdeka kerja sama kampus guru cikal kampus g...  \n",
       "4  [aku datang aku ajar aku uji aku revisi aku me...  \n",
       "5  [guru zaman millenial guna kipinpto giat evalu...  \n",
       "6  [kemendikbud terbit surat edar nomor  merdeka ...  \n",
       "7  [pagi kalian kunjung perlu perhati jam layan b...  \n",
       "8  [merdeka ajar buka peluang kerja sama negara, ...  \n",
       "9  [kibijakan merdeka ajar gagal kalau juta ukm t...  "
      ]
     },
     "metadata": {},
     "output_type": "display_data"
    },
    {
     "name": "stdout",
     "output_type": "stream",
     "text": [
      "\n",
      "Period: 2020Q2\n"
     ]
    },
    {
     "data": {
      "text/html": [
       "<div>\n",
       "<style scoped>\n",
       "    .dataframe tbody tr th:only-of-type {\n",
       "        vertical-align: middle;\n",
       "    }\n",
       "\n",
       "    .dataframe tbody tr th {\n",
       "        vertical-align: top;\n",
       "    }\n",
       "\n",
       "    .dataframe thead th {\n",
       "        text-align: right;\n",
       "    }\n",
       "</style>\n",
       "<table border=\"1\" class=\"dataframe\">\n",
       "  <thead>\n",
       "    <tr style=\"text-align: right;\">\n",
       "      <th></th>\n",
       "      <th>Topic</th>\n",
       "      <th>Count</th>\n",
       "      <th>Name</th>\n",
       "      <th>Representation</th>\n",
       "      <th>Representative_Docs</th>\n",
       "    </tr>\n",
       "  </thead>\n",
       "  <tbody>\n",
       "    <tr>\n",
       "      <th>0</th>\n",
       "      <td>-1</td>\n",
       "      <td>474</td>\n",
       "      <td>-1_ajar_merdeka_sama_yuk</td>\n",
       "      <td>[ajar, merdeka, sama, yuk, sekolah, jadi, covi...</td>\n",
       "      <td>[program merdeka ajar masa darurat covid, merd...</td>\n",
       "    </tr>\n",
       "    <tr>\n",
       "      <th>1</th>\n",
       "      <td>0</td>\n",
       "      <td>279</td>\n",
       "      <td>0_merdeka_ajar_guru_kampus</td>\n",
       "      <td>[merdeka, ajar, guru, kampus, jadi, sekolah, a...</td>\n",
       "      <td>[manusia merdeka kampus merdeka merdeka ajar n...</td>\n",
       "    </tr>\n",
       "    <tr>\n",
       "      <th>2</th>\n",
       "      <td>1</td>\n",
       "      <td>176</td>\n",
       "      <td>1_hari_selamat_indonesia_nasional</td>\n",
       "      <td>[hari, selamat, indonesia, nasional, ajar, mer...</td>\n",
       "      <td>[selamat hari  nasional, selamat hari  nasiona...</td>\n",
       "    </tr>\n",
       "    <tr>\n",
       "      <th>3</th>\n",
       "      <td>2</td>\n",
       "      <td>165</td>\n",
       "      <td>2_jadwal_hari_pagi_acara</td>\n",
       "      <td>[jadwal, hari, pagi, acara, ikut, selamat, yuk...</td>\n",
       "      <td>[selamat pagi siap ikut seru hari yuk simak ja...</td>\n",
       "    </tr>\n",
       "    <tr>\n",
       "      <th>4</th>\n",
       "      <td>3</td>\n",
       "      <td>118</td>\n",
       "      <td>3_aku_merdeka_ajar_revisi</td>\n",
       "      <td>[aku, merdeka, ajar, revisi, datang, uji, mena...</td>\n",
       "      <td>[aku datang aku ajar aku uji aku revisi aku me...</td>\n",
       "    </tr>\n",
       "    <tr>\n",
       "      <th>5</th>\n",
       "      <td>4</td>\n",
       "      <td>103</td>\n",
       "      <td>4_ppdb_online_klik_google</td>\n",
       "      <td>[ppdb, online, klik, google, ajar, mulai, wib,...</td>\n",
       "      <td>[bagaimana perintah pusat atur terima serta  b...</td>\n",
       "    </tr>\n",
       "    <tr>\n",
       "      <th>6</th>\n",
       "      <td>5</td>\n",
       "      <td>51</td>\n",
       "      <td>5_pandemi_masa_covid_ajar</td>\n",
       "      <td>[pandemi, masa, covid, ajar, tahun, selenggara...</td>\n",
       "      <td>[saksi umum putus sama pandu selenggara ajar t...</td>\n",
       "    </tr>\n",
       "    <tr>\n",
       "      <th>7</th>\n",
       "      <td>6</td>\n",
       "      <td>22</td>\n",
       "      <td>6_episode_laras_cerita_cinta</td>\n",
       "      <td>[episode, laras, cerita, cinta, sekolah, bodoh...</td>\n",
       "      <td>[episode hari akhir sekolah, episode sekolah p...</td>\n",
       "    </tr>\n",
       "    <tr>\n",
       "      <th>8</th>\n",
       "      <td>7</td>\n",
       "      <td>19</td>\n",
       "      <td>7_teknik_mesin_akprind_ist</td>\n",
       "      <td>[teknik, mesin, akprind, ist, yogyakarta, puas...</td>\n",
       "      <td>[kamu bioteknologi mungkin baru sejarah kemban...</td>\n",
       "    </tr>\n",
       "    <tr>\n",
       "      <th>9</th>\n",
       "      <td>8</td>\n",
       "      <td>11</td>\n",
       "      <td>8_biologi_kampanye_produk_by</td>\n",
       "      <td>[biologi, kampanye, produk, by, stay, at, home...</td>\n",
       "      <td>[produk biologi kampanye stay at home by carla...</td>\n",
       "    </tr>\n",
       "  </tbody>\n",
       "</table>\n",
       "</div>"
      ],
      "text/plain": [
       "   Topic  Count                               Name  \\\n",
       "0     -1    474           -1_ajar_merdeka_sama_yuk   \n",
       "1      0    279         0_merdeka_ajar_guru_kampus   \n",
       "2      1    176  1_hari_selamat_indonesia_nasional   \n",
       "3      2    165           2_jadwal_hari_pagi_acara   \n",
       "4      3    118          3_aku_merdeka_ajar_revisi   \n",
       "5      4    103          4_ppdb_online_klik_google   \n",
       "6      5     51          5_pandemi_masa_covid_ajar   \n",
       "7      6     22       6_episode_laras_cerita_cinta   \n",
       "8      7     19         7_teknik_mesin_akprind_ist   \n",
       "9      8     11       8_biologi_kampanye_produk_by   \n",
       "\n",
       "                                      Representation  \\\n",
       "0  [ajar, merdeka, sama, yuk, sekolah, jadi, covi...   \n",
       "1  [merdeka, ajar, guru, kampus, jadi, sekolah, a...   \n",
       "2  [hari, selamat, indonesia, nasional, ajar, mer...   \n",
       "3  [jadwal, hari, pagi, acara, ikut, selamat, yuk...   \n",
       "4  [aku, merdeka, ajar, revisi, datang, uji, mena...   \n",
       "5  [ppdb, online, klik, google, ajar, mulai, wib,...   \n",
       "6  [pandemi, masa, covid, ajar, tahun, selenggara...   \n",
       "7  [episode, laras, cerita, cinta, sekolah, bodoh...   \n",
       "8  [teknik, mesin, akprind, ist, yogyakarta, puas...   \n",
       "9  [biologi, kampanye, produk, by, stay, at, home...   \n",
       "\n",
       "                                 Representative_Docs  \n",
       "0  [program merdeka ajar masa darurat covid, merd...  \n",
       "1  [manusia merdeka kampus merdeka merdeka ajar n...  \n",
       "2  [selamat hari  nasional, selamat hari  nasiona...  \n",
       "3  [selamat pagi siap ikut seru hari yuk simak ja...  \n",
       "4  [aku datang aku ajar aku uji aku revisi aku me...  \n",
       "5  [bagaimana perintah pusat atur terima serta  b...  \n",
       "6  [saksi umum putus sama pandu selenggara ajar t...  \n",
       "7  [episode hari akhir sekolah, episode sekolah p...  \n",
       "8  [kamu bioteknologi mungkin baru sejarah kemban...  \n",
       "9  [produk biologi kampanye stay at home by carla...  "
      ]
     },
     "metadata": {},
     "output_type": "display_data"
    },
    {
     "name": "stdout",
     "output_type": "stream",
     "text": [
      "\n",
      "Period: 2020Q3\n"
     ]
    },
    {
     "data": {
      "text/html": [
       "<div>\n",
       "<style scoped>\n",
       "    .dataframe tbody tr th:only-of-type {\n",
       "        vertical-align: middle;\n",
       "    }\n",
       "\n",
       "    .dataframe tbody tr th {\n",
       "        vertical-align: top;\n",
       "    }\n",
       "\n",
       "    .dataframe thead th {\n",
       "        text-align: right;\n",
       "    }\n",
       "</style>\n",
       "<table border=\"1\" class=\"dataframe\">\n",
       "  <thead>\n",
       "    <tr style=\"text-align: right;\">\n",
       "      <th></th>\n",
       "      <th>Topic</th>\n",
       "      <th>Count</th>\n",
       "      <th>Name</th>\n",
       "      <th>Representation</th>\n",
       "      <th>Representative_Docs</th>\n",
       "    </tr>\n",
       "  </thead>\n",
       "  <tbody>\n",
       "    <tr>\n",
       "      <th>0</th>\n",
       "      <td>-1</td>\n",
       "      <td>1269</td>\n",
       "      <td>-1_merdeka_ajar_anak_lagu</td>\n",
       "      <td>[merdeka, ajar, anak, lagu, jadi, program, ind...</td>\n",
       "      <td>[ajar merdeka indonesia dulu, tahun ajar merde...</td>\n",
       "    </tr>\n",
       "    <tr>\n",
       "      <th>1</th>\n",
       "      <td>0</td>\n",
       "      <td>1082</td>\n",
       "      <td>0_merdeka_ajar_sekolah_guru</td>\n",
       "      <td>[merdeka, ajar, sekolah, guru, kampus, ikut, r...</td>\n",
       "      <td>[merdeka ajar merdeka merdeka, merdeka merdeka...</td>\n",
       "    </tr>\n",
       "    <tr>\n",
       "      <th>2</th>\n",
       "      <td>1</td>\n",
       "      <td>496</td>\n",
       "      <td>1_lagu_anak_nyanyi_anakanak</td>\n",
       "      <td>[lagu, anak, nyanyi, anakanak, lomba, kila, ba...</td>\n",
       "      <td>[nyanyi lagu anakanak indonesia, apa kabar lag...</td>\n",
       "    </tr>\n",
       "    <tr>\n",
       "      <th>3</th>\n",
       "      <td>2</td>\n",
       "      <td>355</td>\n",
       "      <td>2_indonesia_merdeka_ajar_batik</td>\n",
       "      <td>[indonesia, merdeka, ajar, batik, maju, republ...</td>\n",
       "      <td>[selamat hari ulang tahun republik indonesia i...</td>\n",
       "    </tr>\n",
       "    <tr>\n",
       "      <th>4</th>\n",
       "      <td>3</td>\n",
       "      <td>130</td>\n",
       "      <td>3_pandemi_masa_covid_ajar</td>\n",
       "      <td>[pandemi, masa, covid, ajar, saksi, pukul, wib...</td>\n",
       "      <td>[merdeka ajar masa pandemi, merdeka ajar masa ...</td>\n",
       "    </tr>\n",
       "    <tr>\n",
       "      <th>5</th>\n",
       "      <td>4</td>\n",
       "      <td>100</td>\n",
       "      <td>4_kartu_telkomsel_internet_ajar</td>\n",
       "      <td>[kartu, telkomsel, internet, ajar, perdana, ja...</td>\n",
       "      <td>[telkomsel serah kartu merdeka ajar jarak jauh...</td>\n",
       "    </tr>\n",
       "    <tr>\n",
       "      <th>6</th>\n",
       "      <td>5</td>\n",
       "      <td>91</td>\n",
       "      <td>5_selamat_pagi_jadwal_hari</td>\n",
       "      <td>[selamat, pagi, jadwal, hari, acara, ikut, sep...</td>\n",
       "      <td>[selamat pagi yuk ajar sama pagi ikut jadwal a...</td>\n",
       "    </tr>\n",
       "    <tr>\n",
       "      <th>7</th>\n",
       "      <td>6</td>\n",
       "      <td>30</td>\n",
       "      <td>6_target_depan_tahun_lanjut</td>\n",
       "      <td>[target, depan, tahun, lanjut, prinsip, begini...</td>\n",
       "      <td>[nyata begini target merdeka ajar tahun depan,...</td>\n",
       "    </tr>\n",
       "    <tr>\n",
       "      <th>8</th>\n",
       "      <td>7</td>\n",
       "      <td>22</td>\n",
       "      <td>7_aku_revisi_datang_menang</td>\n",
       "      <td>[aku, revisi, datang, menang, uji, merdeka, aj...</td>\n",
       "      <td>[aku datang aku ajar aku uji aku revisi aku me...</td>\n",
       "    </tr>\n",
       "    <tr>\n",
       "      <th>9</th>\n",
       "      <td>8</td>\n",
       "      <td>12</td>\n",
       "      <td>8_min_kasih_nya_terima</td>\n",
       "      <td>[min, kasih, nya, terima, info, harwin, terima...</td>\n",
       "      <td>[terima kasih min info nya, terima kasih min i...</td>\n",
       "    </tr>\n",
       "  </tbody>\n",
       "</table>\n",
       "</div>"
      ],
      "text/plain": [
       "   Topic  Count                             Name  \\\n",
       "0     -1   1269        -1_merdeka_ajar_anak_lagu   \n",
       "1      0   1082      0_merdeka_ajar_sekolah_guru   \n",
       "2      1    496      1_lagu_anak_nyanyi_anakanak   \n",
       "3      2    355   2_indonesia_merdeka_ajar_batik   \n",
       "4      3    130        3_pandemi_masa_covid_ajar   \n",
       "5      4    100  4_kartu_telkomsel_internet_ajar   \n",
       "6      5     91       5_selamat_pagi_jadwal_hari   \n",
       "7      6     30      6_target_depan_tahun_lanjut   \n",
       "8      7     22       7_aku_revisi_datang_menang   \n",
       "9      8     12           8_min_kasih_nya_terima   \n",
       "\n",
       "                                      Representation  \\\n",
       "0  [merdeka, ajar, anak, lagu, jadi, program, ind...   \n",
       "1  [merdeka, ajar, sekolah, guru, kampus, ikut, r...   \n",
       "2  [lagu, anak, nyanyi, anakanak, lomba, kila, ba...   \n",
       "3  [indonesia, merdeka, ajar, batik, maju, republ...   \n",
       "4  [pandemi, masa, covid, ajar, saksi, pukul, wib...   \n",
       "5  [kartu, telkomsel, internet, ajar, perdana, ja...   \n",
       "6  [selamat, pagi, jadwal, hari, acara, ikut, sep...   \n",
       "7  [target, depan, tahun, lanjut, prinsip, begini...   \n",
       "8  [aku, revisi, datang, menang, uji, merdeka, aj...   \n",
       "9  [min, kasih, nya, terima, info, harwin, terima...   \n",
       "\n",
       "                                 Representative_Docs  \n",
       "0  [ajar merdeka indonesia dulu, tahun ajar merde...  \n",
       "1  [merdeka ajar merdeka merdeka, merdeka merdeka...  \n",
       "2  [nyanyi lagu anakanak indonesia, apa kabar lag...  \n",
       "3  [selamat hari ulang tahun republik indonesia i...  \n",
       "4  [merdeka ajar masa pandemi, merdeka ajar masa ...  \n",
       "5  [telkomsel serah kartu merdeka ajar jarak jauh...  \n",
       "6  [selamat pagi yuk ajar sama pagi ikut jadwal a...  \n",
       "7  [nyata begini target merdeka ajar tahun depan,...  \n",
       "8  [aku datang aku ajar aku uji aku revisi aku me...  \n",
       "9  [terima kasih min info nya, terima kasih min i...  "
      ]
     },
     "metadata": {},
     "output_type": "display_data"
    },
    {
     "name": "stdout",
     "output_type": "stream",
     "text": [
      "\n",
      "Period: 2020Q4\n"
     ]
    },
    {
     "data": {
      "text/html": [
       "<div>\n",
       "<style scoped>\n",
       "    .dataframe tbody tr th:only-of-type {\n",
       "        vertical-align: middle;\n",
       "    }\n",
       "\n",
       "    .dataframe tbody tr th {\n",
       "        vertical-align: top;\n",
       "    }\n",
       "\n",
       "    .dataframe thead th {\n",
       "        text-align: right;\n",
       "    }\n",
       "</style>\n",
       "<table border=\"1\" class=\"dataframe\">\n",
       "  <thead>\n",
       "    <tr style=\"text-align: right;\">\n",
       "      <th></th>\n",
       "      <th>Topic</th>\n",
       "      <th>Count</th>\n",
       "      <th>Name</th>\n",
       "      <th>Representation</th>\n",
       "      <th>Representative_Docs</th>\n",
       "    </tr>\n",
       "  </thead>\n",
       "  <tbody>\n",
       "    <tr>\n",
       "      <th>0</th>\n",
       "      <td>-1</td>\n",
       "      <td>512</td>\n",
       "      <td>-1_ajar_merdeka_guru_hari</td>\n",
       "      <td>[ajar, merdeka, guru, hari, semangat, selamat,...</td>\n",
       "      <td>[november selamat hari guru bangkit semangat w...</td>\n",
       "    </tr>\n",
       "    <tr>\n",
       "      <th>1</th>\n",
       "      <td>0</td>\n",
       "      <td>1162</td>\n",
       "      <td>0_merdeka_guru_ajar_semangat</td>\n",
       "      <td>[merdeka, guru, ajar, semangat, wujud, hari, b...</td>\n",
       "      <td>[selamat hari guru nasional bangkit semangat w...</td>\n",
       "    </tr>\n",
       "    <tr>\n",
       "      <th>2</th>\n",
       "      <td>1</td>\n",
       "      <td>149</td>\n",
       "      <td>1_indonesia_bahasa_ajar_bulan</td>\n",
       "      <td>[indonesia, bahasa, ajar, bulan, pukul, merdek...</td>\n",
       "      <td>[bulan bahasa unj apa merdeka ajar ajar bahasa...</td>\n",
       "    </tr>\n",
       "    <tr>\n",
       "      <th>3</th>\n",
       "      <td>2</td>\n",
       "      <td>74</td>\n",
       "      <td>2_pagi_jadwal_yuk_acara</td>\n",
       "      <td>[pagi, jadwal, yuk, acara, simak, siap, selama...</td>\n",
       "      <td>[selamat pagi siap ajar pagi yuk simak jadwal ...</td>\n",
       "    </tr>\n",
       "    <tr>\n",
       "      <th>4</th>\n",
       "      <td>3</td>\n",
       "      <td>61</td>\n",
       "      <td>3_webinar_selenggara_tema_sinergi</td>\n",
       "      <td>[webinar, selenggara, tema, sinergi, forgema, ...</td>\n",
       "      <td>[webinar forgemamgmp ekonomi diyubsi hai sobat...</td>\n",
       "    </tr>\n",
       "    <tr>\n",
       "      <th>5</th>\n",
       "      <td>4</td>\n",
       "      <td>43</td>\n",
       "      <td>4_pandemi_covid_lomba_momentum</td>\n",
       "      <td>[pandemi, covid, lomba, momentum, masa, ajar, ...</td>\n",
       "      <td>[presiden sebut jadi pandemi momentum baik eko...</td>\n",
       "    </tr>\n",
       "    <tr>\n",
       "      <th>6</th>\n",
       "      <td>5</td>\n",
       "      <td>35</td>\n",
       "      <td>5_episode_enam_luncur_dana</td>\n",
       "      <td>[episode, enam, luncur, dana, transformasi, ti...</td>\n",
       "      <td>[kemendikbud luncur merdeka ajar episode enam ...</td>\n",
       "    </tr>\n",
       "    <tr>\n",
       "      <th>7</th>\n",
       "      <td>6</td>\n",
       "      <td>15</td>\n",
       "      <td>6_batik_level_coaching_jakarta</td>\n",
       "      <td>[batik, level, coaching, jakarta, bagi, day, p...</td>\n",
       "      <td>[coaching day serta batik level bagi provinsi ...</td>\n",
       "    </tr>\n",
       "    <tr>\n",
       "      <th>8</th>\n",
       "      <td>7</td>\n",
       "      <td>15</td>\n",
       "      <td>7_sambut_presiden_jokowi_luncur</td>\n",
       "      <td>[sambut, presiden, jokowi, luncur, november, m...</td>\n",
       "      <td>[sambut presiden jokowi luncur  merdeka ajar n...</td>\n",
       "    </tr>\n",
       "    <tr>\n",
       "      <th>9</th>\n",
       "      <td>8</td>\n",
       "      <td>11</td>\n",
       "      <td>8_buku_subtema_kunci_halaman</td>\n",
       "      <td>[buku, subtema, kunci, halaman, jawab, via, as...</td>\n",
       "      <td>[kunci jawab buku tematik sd kelas tema halama...</td>\n",
       "    </tr>\n",
       "  </tbody>\n",
       "</table>\n",
       "</div>"
      ],
      "text/plain": [
       "   Topic  Count                               Name  \\\n",
       "0     -1    512          -1_ajar_merdeka_guru_hari   \n",
       "1      0   1162       0_merdeka_guru_ajar_semangat   \n",
       "2      1    149      1_indonesia_bahasa_ajar_bulan   \n",
       "3      2     74            2_pagi_jadwal_yuk_acara   \n",
       "4      3     61  3_webinar_selenggara_tema_sinergi   \n",
       "5      4     43     4_pandemi_covid_lomba_momentum   \n",
       "6      5     35         5_episode_enam_luncur_dana   \n",
       "7      6     15     6_batik_level_coaching_jakarta   \n",
       "8      7     15    7_sambut_presiden_jokowi_luncur   \n",
       "9      8     11       8_buku_subtema_kunci_halaman   \n",
       "\n",
       "                                      Representation  \\\n",
       "0  [ajar, merdeka, guru, hari, semangat, selamat,...   \n",
       "1  [merdeka, guru, ajar, semangat, wujud, hari, b...   \n",
       "2  [indonesia, bahasa, ajar, bulan, pukul, merdek...   \n",
       "3  [pagi, jadwal, yuk, acara, simak, siap, selama...   \n",
       "4  [webinar, selenggara, tema, sinergi, forgema, ...   \n",
       "5  [pandemi, covid, lomba, momentum, masa, ajar, ...   \n",
       "6  [episode, enam, luncur, dana, transformasi, ti...   \n",
       "7  [batik, level, coaching, jakarta, bagi, day, p...   \n",
       "8  [sambut, presiden, jokowi, luncur, november, m...   \n",
       "9  [buku, subtema, kunci, halaman, jawab, via, as...   \n",
       "\n",
       "                                 Representative_Docs  \n",
       "0  [november selamat hari guru bangkit semangat w...  \n",
       "1  [selamat hari guru nasional bangkit semangat w...  \n",
       "2  [bulan bahasa unj apa merdeka ajar ajar bahasa...  \n",
       "3  [selamat pagi siap ajar pagi yuk simak jadwal ...  \n",
       "4  [webinar forgemamgmp ekonomi diyubsi hai sobat...  \n",
       "5  [presiden sebut jadi pandemi momentum baik eko...  \n",
       "6  [kemendikbud luncur merdeka ajar episode enam ...  \n",
       "7  [coaching day serta batik level bagi provinsi ...  \n",
       "8  [sambut presiden jokowi luncur  merdeka ajar n...  \n",
       "9  [kunci jawab buku tematik sd kelas tema halama...  "
      ]
     },
     "metadata": {},
     "output_type": "display_data"
    },
    {
     "name": "stdout",
     "output_type": "stream",
     "text": [
      "\n",
      "Period: 2021Q1\n"
     ]
    },
    {
     "data": {
      "text/html": [
       "<div>\n",
       "<style scoped>\n",
       "    .dataframe tbody tr th:only-of-type {\n",
       "        vertical-align: middle;\n",
       "    }\n",
       "\n",
       "    .dataframe tbody tr th {\n",
       "        vertical-align: top;\n",
       "    }\n",
       "\n",
       "    .dataframe thead th {\n",
       "        text-align: right;\n",
       "    }\n",
       "</style>\n",
       "<table border=\"1\" class=\"dataframe\">\n",
       "  <thead>\n",
       "    <tr style=\"text-align: right;\">\n",
       "      <th></th>\n",
       "      <th>Topic</th>\n",
       "      <th>Count</th>\n",
       "      <th>Name</th>\n",
       "      <th>Representation</th>\n",
       "      <th>Representative_Docs</th>\n",
       "    </tr>\n",
       "  </thead>\n",
       "  <tbody>\n",
       "    <tr>\n",
       "      <th>0</th>\n",
       "      <td>-1</td>\n",
       "      <td>156</td>\n",
       "      <td>-1_ajar_merdeka_sekolah_buku</td>\n",
       "      <td>[ajar, merdeka, sekolah, buku, jaga, ayah, daf...</td>\n",
       "      <td>[jangan kendor jaga sehat tetap disiplin m cuc...</td>\n",
       "    </tr>\n",
       "    <tr>\n",
       "      <th>1</th>\n",
       "      <td>0</td>\n",
       "      <td>498</td>\n",
       "      <td>0_indonesia_ajar_merdeka_hari</td>\n",
       "      <td>[indonesia, ajar, merdeka, hari, yuk, selamat,...</td>\n",
       "      <td>[selamat pagi yuk siap catat ajar sama simak j...</td>\n",
       "    </tr>\n",
       "    <tr>\n",
       "      <th>2</th>\n",
       "      <td>1</td>\n",
       "      <td>379</td>\n",
       "      <td>1_merdeka_ajar_kampus_program</td>\n",
       "      <td>[merdeka, ajar, kampus, program, mahasiswa, gu...</td>\n",
       "      <td>[merdeka ajar kampus ajar halo kmfeb info baru...</td>\n",
       "    </tr>\n",
       "    <tr>\n",
       "      <th>3</th>\n",
       "      <td>2</td>\n",
       "      <td>33</td>\n",
       "      <td>2_menteri_bos_dana_salur</td>\n",
       "      <td>[menteri, bos, dana, salur, sekolah, operasion...</td>\n",
       "      <td>[kemendikbud hari umum  kait skema salur bantu...</td>\n",
       "    </tr>\n",
       "    <tr>\n",
       "      <th>4</th>\n",
       "      <td>3</td>\n",
       "      <td>28</td>\n",
       "      <td>3_universitas_mahasiswa_islam_merdeka</td>\n",
       "      <td>[universitas, mahasiswa, islam, merdeka, progr...</td>\n",
       "      <td>[halo mahasiswa usk salah satu nih program mer...</td>\n",
       "    </tr>\n",
       "    <tr>\n",
       "      <th>5</th>\n",
       "      <td>4</td>\n",
       "      <td>24</td>\n",
       "      <td>4_pandemi_tengah_covid_masa</td>\n",
       "      <td>[pandemi, tengah, covid, masa, tetap, provinsi...</td>\n",
       "      <td>[selamat sukses giat seminar daring internal p...</td>\n",
       "    </tr>\n",
       "    <tr>\n",
       "      <th>6</th>\n",
       "      <td>5</td>\n",
       "      <td>18</td>\n",
       "      <td>5_prioritas_delapan_fokus_kriteria</td>\n",
       "      <td>[prioritas, delapan, fokus, kriteria, terima, ...</td>\n",
       "      <td>[kip kuliah masuk merdeka ajar sembilan kriter...</td>\n",
       "    </tr>\n",
       "    <tr>\n",
       "      <th>7</th>\n",
       "      <td>6</td>\n",
       "      <td>18</td>\n",
       "      <td>6_kuota_internet_kemendikbud_data</td>\n",
       "      <td>[kuota, internet, kemendikbud, data, bantu, yo...</td>\n",
       "      <td>[saksi siar langsung umum  bantu kuota data in...</td>\n",
       "    </tr>\n",
       "    <tr>\n",
       "      <th>8</th>\n",
       "      <td>7</td>\n",
       "      <td>16</td>\n",
       "      <td>7_smk_pusat_unggul_delap</td>\n",
       "      <td>[smk, pusat, unggul, delap, inti, luncur, ini,...</td>\n",
       "      <td>[kemendikbud luncur merdeka ajar delap smk pus...</td>\n",
       "    </tr>\n",
       "    <tr>\n",
       "      <th>9</th>\n",
       "      <td>8</td>\n",
       "      <td>12</td>\n",
       "      <td>8_aku_kuisioner_massa_kisar</td>\n",
       "      <td>[aku, kuisioner, massa, kisar, cont, responden...</td>\n",
       "      <td>[cm selamat malam temanteman semua waktu luang...</td>\n",
       "    </tr>\n",
       "  </tbody>\n",
       "</table>\n",
       "</div>"
      ],
      "text/plain": [
       "   Topic  Count                                   Name  \\\n",
       "0     -1    156           -1_ajar_merdeka_sekolah_buku   \n",
       "1      0    498          0_indonesia_ajar_merdeka_hari   \n",
       "2      1    379          1_merdeka_ajar_kampus_program   \n",
       "3      2     33               2_menteri_bos_dana_salur   \n",
       "4      3     28  3_universitas_mahasiswa_islam_merdeka   \n",
       "5      4     24            4_pandemi_tengah_covid_masa   \n",
       "6      5     18     5_prioritas_delapan_fokus_kriteria   \n",
       "7      6     18      6_kuota_internet_kemendikbud_data   \n",
       "8      7     16               7_smk_pusat_unggul_delap   \n",
       "9      8     12            8_aku_kuisioner_massa_kisar   \n",
       "\n",
       "                                      Representation  \\\n",
       "0  [ajar, merdeka, sekolah, buku, jaga, ayah, daf...   \n",
       "1  [indonesia, ajar, merdeka, hari, yuk, selamat,...   \n",
       "2  [merdeka, ajar, kampus, program, mahasiswa, gu...   \n",
       "3  [menteri, bos, dana, salur, sekolah, operasion...   \n",
       "4  [universitas, mahasiswa, islam, merdeka, progr...   \n",
       "5  [pandemi, tengah, covid, masa, tetap, provinsi...   \n",
       "6  [prioritas, delapan, fokus, kriteria, terima, ...   \n",
       "7  [kuota, internet, kemendikbud, data, bantu, yo...   \n",
       "8  [smk, pusat, unggul, delap, inti, luncur, ini,...   \n",
       "9  [aku, kuisioner, massa, kisar, cont, responden...   \n",
       "\n",
       "                                 Representative_Docs  \n",
       "0  [jangan kendor jaga sehat tetap disiplin m cuc...  \n",
       "1  [selamat pagi yuk siap catat ajar sama simak j...  \n",
       "2  [merdeka ajar kampus ajar halo kmfeb info baru...  \n",
       "3  [kemendikbud hari umum  kait skema salur bantu...  \n",
       "4  [halo mahasiswa usk salah satu nih program mer...  \n",
       "5  [selamat sukses giat seminar daring internal p...  \n",
       "6  [kip kuliah masuk merdeka ajar sembilan kriter...  \n",
       "7  [saksi siar langsung umum  bantu kuota data in...  \n",
       "8  [kemendikbud luncur merdeka ajar delap smk pus...  \n",
       "9  [cm selamat malam temanteman semua waktu luang...  "
      ]
     },
     "metadata": {},
     "output_type": "display_data"
    },
    {
     "name": "stdout",
     "output_type": "stream",
     "text": [
      "\n",
      "Period: 2021Q2\n"
     ]
    },
    {
     "data": {
      "text/html": [
       "<div>\n",
       "<style scoped>\n",
       "    .dataframe tbody tr th:only-of-type {\n",
       "        vertical-align: middle;\n",
       "    }\n",
       "\n",
       "    .dataframe tbody tr th {\n",
       "        vertical-align: top;\n",
       "    }\n",
       "\n",
       "    .dataframe thead th {\n",
       "        text-align: right;\n",
       "    }\n",
       "</style>\n",
       "<table border=\"1\" class=\"dataframe\">\n",
       "  <thead>\n",
       "    <tr style=\"text-align: right;\">\n",
       "      <th></th>\n",
       "      <th>Topic</th>\n",
       "      <th>Count</th>\n",
       "      <th>Name</th>\n",
       "      <th>Representation</th>\n",
       "      <th>Representative_Docs</th>\n",
       "    </tr>\n",
       "  </thead>\n",
       "  <tbody>\n",
       "    <tr>\n",
       "      <th>0</th>\n",
       "      <td>-1</td>\n",
       "      <td>749</td>\n",
       "      <td>-1_ajar_merdeka_hari_nasional</td>\n",
       "      <td>[ajar, merdeka, hari, nasional, wujud, gerak, ...</td>\n",
       "      <td>[selamat hari  nasional mei semangat gerak wuj...</td>\n",
       "    </tr>\n",
       "    <tr>\n",
       "      <th>1</th>\n",
       "      <td>0</td>\n",
       "      <td>679</td>\n",
       "      <td>0_hari_nasional_selamat_serentak</td>\n",
       "      <td>[hari, nasional, selamat, serentak, wujud, ger...</td>\n",
       "      <td>[selamat hari  nasional serentak gerak wujud m...</td>\n",
       "    </tr>\n",
       "    <tr>\n",
       "      <th>2</th>\n",
       "      <td>1</td>\n",
       "      <td>485</td>\n",
       "      <td>1_merdeka_kampus_ajar_program</td>\n",
       "      <td>[merdeka, kampus, ajar, program, jadi, guru, m...</td>\n",
       "      <td>[kampus merdeka ajar, ajar merdeka kampus merd...</td>\n",
       "    </tr>\n",
       "    <tr>\n",
       "      <th>3</th>\n",
       "      <td>2</td>\n",
       "      <td>296</td>\n",
       "      <td>2_indonesia_merdeka_ajar_wujud</td>\n",
       "      <td>[indonesia, merdeka, ajar, wujud, moga, selama...</td>\n",
       "      <td>[selamat hari  nasional sama serentak gerak ma...</td>\n",
       "    </tr>\n",
       "    <tr>\n",
       "      <th>4</th>\n",
       "      <td>3</td>\n",
       "      <td>293</td>\n",
       "      <td>3_ucap_serta_staf_ing</td>\n",
       "      <td>[ucap, serta, staf, ing, nasional, hari, selam...</td>\n",
       "      <td>[kepala polisi resor wonogiri serta staf bhaya...</td>\n",
       "    </tr>\n",
       "    <tr>\n",
       "      <th>5</th>\n",
       "      <td>4</td>\n",
       "      <td>160</td>\n",
       "      <td>4_merdeka_ajar_wujud_gerak</td>\n",
       "      <td>[merdeka, ajar, wujud, gerak, serentak, kata, ...</td>\n",
       "      <td>[serentak gerak wujud merdeka ajar, serentak a...</td>\n",
       "    </tr>\n",
       "    <tr>\n",
       "      <th>6</th>\n",
       "      <td>5</td>\n",
       "      <td>108</td>\n",
       "      <td>5_jadwal_vidio_pagi_useetv</td>\n",
       "      <td>[jadwal, vidio, pagi, useetv, edukasi, televis...</td>\n",
       "      <td>[selamat pagi tayang tarik apa program televis...</td>\n",
       "    </tr>\n",
       "    <tr>\n",
       "      <th>7</th>\n",
       "      <td>6</td>\n",
       "      <td>48</td>\n",
       "      <td>6_inovasi_aceh_solusi_tingkat</td>\n",
       "      <td>[inovasi, aceh, solusi, tingkat, kadisdik, kua...</td>\n",
       "      <td>[kadisdik harap program merdeka ajar jadi solu...</td>\n",
       "    </tr>\n",
       "    <tr>\n",
       "      <th>8</th>\n",
       "      <td>7</td>\n",
       "      <td>20</td>\n",
       "      <td>7_palestina_yahudi_israel_enggak</td>\n",
       "      <td>[palestina, yahudi, israel, enggak, merdeka, s...</td>\n",
       "      <td>[trending nya palestina menang pas aku dulu ja...</td>\n",
       "    </tr>\n",
       "    <tr>\n",
       "      <th>9</th>\n",
       "      <td>8</td>\n",
       "      <td>16</td>\n",
       "      <td>8_desa_berkualitasserentak_sdgs_wujud</td>\n",
       "      <td>[desa, berkualitasserentak, sdgs, wujud, gerak...</td>\n",
       "      <td>[sdgs desa  berkualitasserentak gerak wujud me...</td>\n",
       "    </tr>\n",
       "  </tbody>\n",
       "</table>\n",
       "</div>"
      ],
      "text/plain": [
       "   Topic  Count                                   Name  \\\n",
       "0     -1    749          -1_ajar_merdeka_hari_nasional   \n",
       "1      0    679       0_hari_nasional_selamat_serentak   \n",
       "2      1    485          1_merdeka_kampus_ajar_program   \n",
       "3      2    296         2_indonesia_merdeka_ajar_wujud   \n",
       "4      3    293                  3_ucap_serta_staf_ing   \n",
       "5      4    160             4_merdeka_ajar_wujud_gerak   \n",
       "6      5    108             5_jadwal_vidio_pagi_useetv   \n",
       "7      6     48          6_inovasi_aceh_solusi_tingkat   \n",
       "8      7     20       7_palestina_yahudi_israel_enggak   \n",
       "9      8     16  8_desa_berkualitasserentak_sdgs_wujud   \n",
       "\n",
       "                                      Representation  \\\n",
       "0  [ajar, merdeka, hari, nasional, wujud, gerak, ...   \n",
       "1  [hari, nasional, selamat, serentak, wujud, ger...   \n",
       "2  [merdeka, kampus, ajar, program, jadi, guru, m...   \n",
       "3  [indonesia, merdeka, ajar, wujud, moga, selama...   \n",
       "4  [ucap, serta, staf, ing, nasional, hari, selam...   \n",
       "5  [merdeka, ajar, wujud, gerak, serentak, kata, ...   \n",
       "6  [jadwal, vidio, pagi, useetv, edukasi, televis...   \n",
       "7  [inovasi, aceh, solusi, tingkat, kadisdik, kua...   \n",
       "8  [palestina, yahudi, israel, enggak, merdeka, s...   \n",
       "9  [desa, berkualitasserentak, sdgs, wujud, gerak...   \n",
       "\n",
       "                                 Representative_Docs  \n",
       "0  [selamat hari  nasional mei semangat gerak wuj...  \n",
       "1  [selamat hari  nasional serentak gerak wujud m...  \n",
       "2  [kampus merdeka ajar, ajar merdeka kampus merd...  \n",
       "3  [selamat hari  nasional sama serentak gerak ma...  \n",
       "4  [kepala polisi resor wonogiri serta staf bhaya...  \n",
       "5  [serentak gerak wujud merdeka ajar, serentak a...  \n",
       "6  [selamat pagi tayang tarik apa program televis...  \n",
       "7  [kadisdik harap program merdeka ajar jadi solu...  \n",
       "8  [trending nya palestina menang pas aku dulu ja...  \n",
       "9  [sdgs desa  berkualitasserentak gerak wujud me...  "
      ]
     },
     "metadata": {},
     "output_type": "display_data"
    },
    {
     "name": "stdout",
     "output_type": "stream",
     "text": [
      "\n",
      "Period: 2021Q3\n"
     ]
    },
    {
     "data": {
      "text/html": [
       "<div>\n",
       "<style scoped>\n",
       "    .dataframe tbody tr th:only-of-type {\n",
       "        vertical-align: middle;\n",
       "    }\n",
       "\n",
       "    .dataframe tbody tr th {\n",
       "        vertical-align: top;\n",
       "    }\n",
       "\n",
       "    .dataframe thead th {\n",
       "        text-align: right;\n",
       "    }\n",
       "</style>\n",
       "<table border=\"1\" class=\"dataframe\">\n",
       "  <thead>\n",
       "    <tr style=\"text-align: right;\">\n",
       "      <th></th>\n",
       "      <th>Topic</th>\n",
       "      <th>Count</th>\n",
       "      <th>Name</th>\n",
       "      <th>Representation</th>\n",
       "      <th>Representative_Docs</th>\n",
       "    </tr>\n",
       "  </thead>\n",
       "  <tbody>\n",
       "    <tr>\n",
       "      <th>0</th>\n",
       "      <td>-1</td>\n",
       "      <td>407</td>\n",
       "      <td>-1_ajar_merdeka_indonesia_program</td>\n",
       "      <td>[ajar, merdeka, indonesia, program, hari, yuk,...</td>\n",
       "      <td>[sinergi dunia pndidikan industri pngembangan ...</td>\n",
       "    </tr>\n",
       "    <tr>\n",
       "      <th>1</th>\n",
       "      <td>0</td>\n",
       "      <td>512</td>\n",
       "      <td>0_merdeka_kampus_ajar_mahasiswa</td>\n",
       "      <td>[merdeka, kampus, ajar, mahasiswa, program, vo...</td>\n",
       "      <td>[kenal sistem  tinggi vokasi indonesia  merdek...</td>\n",
       "    </tr>\n",
       "    <tr>\n",
       "      <th>2</th>\n",
       "      <td>1</td>\n",
       "      <td>148</td>\n",
       "      <td>1_merdeka_ajar_yuk_pernah</td>\n",
       "      <td>[merdeka, ajar, yuk, pernah, baca, bahasa, lit...</td>\n",
       "      <td>[pernah bertanyatanya guna kata ikut yuk simak...</td>\n",
       "    </tr>\n",
       "    <tr>\n",
       "      <th>3</th>\n",
       "      <td>2</td>\n",
       "      <td>137</td>\n",
       "      <td>2_indonesia_merdeka_negarawan_rakyat</td>\n",
       "      <td>[indonesia, merdeka, negarawan, rakyat, malays...</td>\n",
       "      <td>[sempena bulan merdeka nih jom uji tahu malays...</td>\n",
       "    </tr>\n",
       "    <tr>\n",
       "      <th>4</th>\n",
       "      <td>3</td>\n",
       "      <td>58</td>\n",
       "      <td>3_pandemi_ajar_vaksinasi_masa</td>\n",
       "      <td>[pandemi, ajar, vaksinasi, masa, covid, merdek...</td>\n",
       "      <td>[pandemi paksa serta  jalan ajar jarak jauh be...</td>\n",
       "    </tr>\n",
       "    <tr>\n",
       "      <th>5</th>\n",
       "      <td>4</td>\n",
       "      <td>55</td>\n",
       "      <td>4_menteri_atrbpn_bpn_atrkepala</td>\n",
       "      <td>[menteri, atrbpn, bpn, atrkepala, sofyan, djal...</td>\n",
       "      <td>[menteri atrkepala bpn sofyan a djalil resmi l...</td>\n",
       "    </tr>\n",
       "    <tr>\n",
       "      <th>6</th>\n",
       "      <td>5</td>\n",
       "      <td>30</td>\n",
       "      <td>5_unilak_teman_hut_millennials</td>\n",
       "      <td>[unilak, teman, hut, millennials, jalur, septe...</td>\n",
       "      <td>[halo millennials rangka hut ri hut riau unila...</td>\n",
       "    </tr>\n",
       "    <tr>\n",
       "      <th>7</th>\n",
       "      <td>6</td>\n",
       "      <td>17</td>\n",
       "      <td>6_youtube_wib_saksi_pukul</td>\n",
       "      <td>[youtube, wib, saksi, pukul, kemendikbud, ri, ...</td>\n",
       "      <td>[yuk ikut silaturahmi merdeka ajar episode tem...</td>\n",
       "    </tr>\n",
       "    <tr>\n",
       "      <th>8</th>\n",
       "      <td>7</td>\n",
       "      <td>12</td>\n",
       "      <td>7_aku_revisi_uji_datang</td>\n",
       "      <td>[aku, revisi, uji, datang, menang, ajar, merde...</td>\n",
       "      <td>[aku datang aku ajar aku uji aku revisi aku me...</td>\n",
       "    </tr>\n",
       "    <tr>\n",
       "      <th>9</th>\n",
       "      <td>8</td>\n",
       "      <td>11</td>\n",
       "      <td>8_afghanistan_islam_nafas_negara</td>\n",
       "      <td>[afghanistan, islam, nafas, negara, jadi, tali...</td>\n",
       "      <td>[lawan sekarang bukan jajah lawan sekarang ide...</td>\n",
       "    </tr>\n",
       "  </tbody>\n",
       "</table>\n",
       "</div>"
      ],
      "text/plain": [
       "   Topic  Count                                  Name  \\\n",
       "0     -1    407     -1_ajar_merdeka_indonesia_program   \n",
       "1      0    512       0_merdeka_kampus_ajar_mahasiswa   \n",
       "2      1    148             1_merdeka_ajar_yuk_pernah   \n",
       "3      2    137  2_indonesia_merdeka_negarawan_rakyat   \n",
       "4      3     58         3_pandemi_ajar_vaksinasi_masa   \n",
       "5      4     55        4_menteri_atrbpn_bpn_atrkepala   \n",
       "6      5     30        5_unilak_teman_hut_millennials   \n",
       "7      6     17             6_youtube_wib_saksi_pukul   \n",
       "8      7     12               7_aku_revisi_uji_datang   \n",
       "9      8     11      8_afghanistan_islam_nafas_negara   \n",
       "\n",
       "                                      Representation  \\\n",
       "0  [ajar, merdeka, indonesia, program, hari, yuk,...   \n",
       "1  [merdeka, kampus, ajar, mahasiswa, program, vo...   \n",
       "2  [merdeka, ajar, yuk, pernah, baca, bahasa, lit...   \n",
       "3  [indonesia, merdeka, negarawan, rakyat, malays...   \n",
       "4  [pandemi, ajar, vaksinasi, masa, covid, merdek...   \n",
       "5  [menteri, atrbpn, bpn, atrkepala, sofyan, djal...   \n",
       "6  [unilak, teman, hut, millennials, jalur, septe...   \n",
       "7  [youtube, wib, saksi, pukul, kemendikbud, ri, ...   \n",
       "8  [aku, revisi, uji, datang, menang, ajar, merde...   \n",
       "9  [afghanistan, islam, nafas, negara, jadi, tali...   \n",
       "\n",
       "                                 Representative_Docs  \n",
       "0  [sinergi dunia pndidikan industri pngembangan ...  \n",
       "1  [kenal sistem  tinggi vokasi indonesia  merdek...  \n",
       "2  [pernah bertanyatanya guna kata ikut yuk simak...  \n",
       "3  [sempena bulan merdeka nih jom uji tahu malays...  \n",
       "4  [pandemi paksa serta  jalan ajar jarak jauh be...  \n",
       "5  [menteri atrkepala bpn sofyan a djalil resmi l...  \n",
       "6  [halo millennials rangka hut ri hut riau unila...  \n",
       "7  [yuk ikut silaturahmi merdeka ajar episode tem...  \n",
       "8  [aku datang aku ajar aku uji aku revisi aku me...  \n",
       "9  [lawan sekarang bukan jajah lawan sekarang ide...  "
      ]
     },
     "metadata": {},
     "output_type": "display_data"
    },
    {
     "name": "stdout",
     "output_type": "stream",
     "text": [
      "\n",
      "Period: 2021Q4\n"
     ]
    },
    {
     "data": {
      "text/html": [
       "<div>\n",
       "<style scoped>\n",
       "    .dataframe tbody tr th:only-of-type {\n",
       "        vertical-align: middle;\n",
       "    }\n",
       "\n",
       "    .dataframe tbody tr th {\n",
       "        vertical-align: top;\n",
       "    }\n",
       "\n",
       "    .dataframe thead th {\n",
       "        text-align: right;\n",
       "    }\n",
       "</style>\n",
       "<table border=\"1\" class=\"dataframe\">\n",
       "  <thead>\n",
       "    <tr style=\"text-align: right;\">\n",
       "      <th></th>\n",
       "      <th>Topic</th>\n",
       "      <th>Count</th>\n",
       "      <th>Name</th>\n",
       "      <th>Representation</th>\n",
       "      <th>Representative_Docs</th>\n",
       "    </tr>\n",
       "  </thead>\n",
       "  <tbody>\n",
       "    <tr>\n",
       "      <th>0</th>\n",
       "      <td>-1</td>\n",
       "      <td>272</td>\n",
       "      <td>-1_ajar_merdeka_indonesia_yuk</td>\n",
       "      <td>[ajar, merdeka, indonesia, yuk, sama, guru, ha...</td>\n",
       "      <td>[daftar akun ltmpt kip kuliah snmptn sbmptn pa...</td>\n",
       "    </tr>\n",
       "    <tr>\n",
       "      <th>1</th>\n",
       "      <td>0</td>\n",
       "      <td>536</td>\n",
       "      <td>0_merdeka_ajar_kampus_program</td>\n",
       "      <td>[merdeka, ajar, kampus, program, mahasiswa, gu...</td>\n",
       "      <td>[program merdeka ajar kampus merdeka buka semp...</td>\n",
       "    </tr>\n",
       "    <tr>\n",
       "      <th>2</th>\n",
       "      <td>1</td>\n",
       "      <td>347</td>\n",
       "      <td>1_indonesia_merdeka_ajar_hari</td>\n",
       "      <td>[indonesia, merdeka, ajar, hari, selamat, baha...</td>\n",
       "      <td>[webinar silaturahmi merdeka ajar hadir yuk ik...</td>\n",
       "    </tr>\n",
       "    <tr>\n",
       "      <th>3</th>\n",
       "      <td>2</td>\n",
       "      <td>155</td>\n",
       "      <td>2_kata_yuk_ajar_merdeka</td>\n",
       "      <td>[kata, yuk, ajar, merdeka, jelas, ikut, bahasa...</td>\n",
       "      <td>[pernah bertanyatanya guna kata ikut yuk simak...</td>\n",
       "    </tr>\n",
       "    <tr>\n",
       "      <th>4</th>\n",
       "      <td>3</td>\n",
       "      <td>114</td>\n",
       "      <td>3_berita_laman_baca_lengkap</td>\n",
       "      <td>[berita, laman, baca, lengkap, hingga, beli, i...</td>\n",
       "      <td>[asah mampu lapor peristiwa jadi berita hingga...</td>\n",
       "    </tr>\n",
       "    <tr>\n",
       "      <th>5</th>\n",
       "      <td>4</td>\n",
       "      <td>81</td>\n",
       "      <td>4_hari_selamat_guru_nasional</td>\n",
       "      <td>[hari, selamat, guru, nasional, pulih, hati, n...</td>\n",
       "      <td>[selamat hari guru nasional, selamat hari guru...</td>\n",
       "    </tr>\n",
       "    <tr>\n",
       "      <th>6</th>\n",
       "      <td>5</td>\n",
       "      <td>30</td>\n",
       "      <td>5_seksual_keras_lingkung_episode</td>\n",
       "      <td>[seksual, keras, lingkung, episode, merdeka, a...</td>\n",
       "      <td>[merdeka ajar episode kampus merdeka keras sek...</td>\n",
       "    </tr>\n",
       "    <tr>\n",
       "      <th>7</th>\n",
       "      <td>6</td>\n",
       "      <td>20</td>\n",
       "      <td>6_menteri_inisiasi_resmi_riset</td>\n",
       "      <td>[menteri, inisiasi, resmi, riset, belajarkampu...</td>\n",
       "      <td>[program merdeka belajarkampus merdeka mbkm in...</td>\n",
       "    </tr>\n",
       "    <tr>\n",
       "      <th>8</th>\n",
       "      <td>7</td>\n",
       "      <td>18</td>\n",
       "      <td>7_aku_revisi_menang_uji</td>\n",
       "      <td>[aku, revisi, menang, uji, datang, ajar, merde...</td>\n",
       "      <td>[aku datang aku ajar aku uji aku revisi aku me...</td>\n",
       "    </tr>\n",
       "    <tr>\n",
       "      <th>9</th>\n",
       "      <td>8</td>\n",
       "      <td>17</td>\n",
       "      <td>8_meru_gunung_bencana_erupsi</td>\n",
       "      <td>[meru, gunung, bencana, erupsi, turut, atas, d...</td>\n",
       "      <td>[keluarga besar lpmp provinsi gorontalo turut ...</td>\n",
       "    </tr>\n",
       "  </tbody>\n",
       "</table>\n",
       "</div>"
      ],
      "text/plain": [
       "   Topic  Count                              Name  \\\n",
       "0     -1    272     -1_ajar_merdeka_indonesia_yuk   \n",
       "1      0    536     0_merdeka_ajar_kampus_program   \n",
       "2      1    347     1_indonesia_merdeka_ajar_hari   \n",
       "3      2    155           2_kata_yuk_ajar_merdeka   \n",
       "4      3    114       3_berita_laman_baca_lengkap   \n",
       "5      4     81      4_hari_selamat_guru_nasional   \n",
       "6      5     30  5_seksual_keras_lingkung_episode   \n",
       "7      6     20    6_menteri_inisiasi_resmi_riset   \n",
       "8      7     18           7_aku_revisi_menang_uji   \n",
       "9      8     17      8_meru_gunung_bencana_erupsi   \n",
       "\n",
       "                                      Representation  \\\n",
       "0  [ajar, merdeka, indonesia, yuk, sama, guru, ha...   \n",
       "1  [merdeka, ajar, kampus, program, mahasiswa, gu...   \n",
       "2  [indonesia, merdeka, ajar, hari, selamat, baha...   \n",
       "3  [kata, yuk, ajar, merdeka, jelas, ikut, bahasa...   \n",
       "4  [berita, laman, baca, lengkap, hingga, beli, i...   \n",
       "5  [hari, selamat, guru, nasional, pulih, hati, n...   \n",
       "6  [seksual, keras, lingkung, episode, merdeka, a...   \n",
       "7  [menteri, inisiasi, resmi, riset, belajarkampu...   \n",
       "8  [aku, revisi, menang, uji, datang, ajar, merde...   \n",
       "9  [meru, gunung, bencana, erupsi, turut, atas, d...   \n",
       "\n",
       "                                 Representative_Docs  \n",
       "0  [daftar akun ltmpt kip kuliah snmptn sbmptn pa...  \n",
       "1  [program merdeka ajar kampus merdeka buka semp...  \n",
       "2  [webinar silaturahmi merdeka ajar hadir yuk ik...  \n",
       "3  [pernah bertanyatanya guna kata ikut yuk simak...  \n",
       "4  [asah mampu lapor peristiwa jadi berita hingga...  \n",
       "5  [selamat hari guru nasional, selamat hari guru...  \n",
       "6  [merdeka ajar episode kampus merdeka keras sek...  \n",
       "7  [program merdeka belajarkampus merdeka mbkm in...  \n",
       "8  [aku datang aku ajar aku uji aku revisi aku me...  \n",
       "9  [keluarga besar lpmp provinsi gorontalo turut ...  "
      ]
     },
     "metadata": {},
     "output_type": "display_data"
    },
    {
     "name": "stdout",
     "output_type": "stream",
     "text": [
      "\n",
      "Period: 2022Q1\n"
     ]
    },
    {
     "data": {
      "text/html": [
       "<div>\n",
       "<style scoped>\n",
       "    .dataframe tbody tr th:only-of-type {\n",
       "        vertical-align: middle;\n",
       "    }\n",
       "\n",
       "    .dataframe tbody tr th {\n",
       "        vertical-align: top;\n",
       "    }\n",
       "\n",
       "    .dataframe thead th {\n",
       "        text-align: right;\n",
       "    }\n",
       "</style>\n",
       "<table border=\"1\" class=\"dataframe\">\n",
       "  <thead>\n",
       "    <tr style=\"text-align: right;\">\n",
       "      <th></th>\n",
       "      <th>Topic</th>\n",
       "      <th>Count</th>\n",
       "      <th>Name</th>\n",
       "      <th>Representation</th>\n",
       "      <th>Representative_Docs</th>\n",
       "    </tr>\n",
       "  </thead>\n",
       "  <tbody>\n",
       "    <tr>\n",
       "      <th>0</th>\n",
       "      <td>-1</td>\n",
       "      <td>8</td>\n",
       "      <td>-1_tua_blended_learning_orang</td>\n",
       "      <td>[tua, blended, learning, orang, aktifitas, nar...</td>\n",
       "      <td>[nara sumber sinergi igi merdeka ajar blended ...</td>\n",
       "    </tr>\n",
       "    <tr>\n",
       "      <th>1</th>\n",
       "      <td>0</td>\n",
       "      <td>23</td>\n",
       "      <td>0_aku_revisi_menang_datang</td>\n",
       "      <td>[aku, revisi, menang, datang, uji, ajar, merde...</td>\n",
       "      <td>[aku datang aku ajar aku uji aku revisi aku me...</td>\n",
       "    </tr>\n",
       "    <tr>\n",
       "      <th>2</th>\n",
       "      <td>1</td>\n",
       "      <td>13</td>\n",
       "      <td>1_vaksinasi_vaksin_anak_luwu</td>\n",
       "      <td>[vaksinasi, vaksin, anak, luwu, launching, cov...</td>\n",
       "      <td>[tim satgas covid luwu launching vaksinasi mer...</td>\n",
       "    </tr>\n",
       "    <tr>\n",
       "      <th>3</th>\n",
       "      <td>2</td>\n",
       "      <td>48</td>\n",
       "      <td>2_immunity_herd_imunisasi_launching</td>\n",
       "      <td>[immunity, herd, imunisasi, launching, siswa, ...</td>\n",
       "      <td>[launching imunisasi siswa merdeka ajar wujud ...</td>\n",
       "    </tr>\n",
       "    <tr>\n",
       "      <th>4</th>\n",
       "      <td>3</td>\n",
       "      <td>14</td>\n",
       "      <td>3_revitalisasi_daerah_bahasa_episode</td>\n",
       "      <td>[revitalisasi, daerah, bahasa, episode, luncur...</td>\n",
       "      <td>[menteri nadiem luncur merdeka ajar episode re...</td>\n",
       "    </tr>\n",
       "    <tr>\n",
       "      <th>5</th>\n",
       "      <td>4</td>\n",
       "      <td>1005</td>\n",
       "      <td>4_merdeka_ajar_kampus_program</td>\n",
       "      <td>[merdeka, ajar, kampus, program, yuk, indonesi...</td>\n",
       "      <td>[merdeka ajar, merdeka ajar, ajar merdeka]</td>\n",
       "    </tr>\n",
       "  </tbody>\n",
       "</table>\n",
       "</div>"
      ],
      "text/plain": [
       "   Topic  Count                                  Name  \\\n",
       "0     -1      8         -1_tua_blended_learning_orang   \n",
       "1      0     23            0_aku_revisi_menang_datang   \n",
       "2      1     13          1_vaksinasi_vaksin_anak_luwu   \n",
       "3      2     48   2_immunity_herd_imunisasi_launching   \n",
       "4      3     14  3_revitalisasi_daerah_bahasa_episode   \n",
       "5      4   1005         4_merdeka_ajar_kampus_program   \n",
       "\n",
       "                                      Representation  \\\n",
       "0  [tua, blended, learning, orang, aktifitas, nar...   \n",
       "1  [aku, revisi, menang, datang, uji, ajar, merde...   \n",
       "2  [vaksinasi, vaksin, anak, luwu, launching, cov...   \n",
       "3  [immunity, herd, imunisasi, launching, siswa, ...   \n",
       "4  [revitalisasi, daerah, bahasa, episode, luncur...   \n",
       "5  [merdeka, ajar, kampus, program, yuk, indonesi...   \n",
       "\n",
       "                                 Representative_Docs  \n",
       "0  [nara sumber sinergi igi merdeka ajar blended ...  \n",
       "1  [aku datang aku ajar aku uji aku revisi aku me...  \n",
       "2  [tim satgas covid luwu launching vaksinasi mer...  \n",
       "3  [launching imunisasi siswa merdeka ajar wujud ...  \n",
       "4  [menteri nadiem luncur merdeka ajar episode re...  \n",
       "5         [merdeka ajar, merdeka ajar, ajar merdeka]  "
      ]
     },
     "metadata": {},
     "output_type": "display_data"
    },
    {
     "name": "stdout",
     "output_type": "stream",
     "text": [
      "\n",
      "Period: 2022Q2\n"
     ]
    },
    {
     "data": {
      "text/html": [
       "<div>\n",
       "<style scoped>\n",
       "    .dataframe tbody tr th:only-of-type {\n",
       "        vertical-align: middle;\n",
       "    }\n",
       "\n",
       "    .dataframe tbody tr th {\n",
       "        vertical-align: top;\n",
       "    }\n",
       "\n",
       "    .dataframe thead th {\n",
       "        text-align: right;\n",
       "    }\n",
       "</style>\n",
       "<table border=\"1\" class=\"dataframe\">\n",
       "  <thead>\n",
       "    <tr style=\"text-align: right;\">\n",
       "      <th></th>\n",
       "      <th>Topic</th>\n",
       "      <th>Count</th>\n",
       "      <th>Name</th>\n",
       "      <th>Representation</th>\n",
       "      <th>Representative_Docs</th>\n",
       "    </tr>\n",
       "  </thead>\n",
       "  <tbody>\n",
       "    <tr>\n",
       "      <th>0</th>\n",
       "      <td>-1</td>\n",
       "      <td>276</td>\n",
       "      <td>-1_ajar_merdeka_indonesia_ikut</td>\n",
       "      <td>[ajar, merdeka, indonesia, ikut, rapor, simak,...</td>\n",
       "      <td>[simak brsm dirjen guru amp tenaga  bpiwan sya...</td>\n",
       "    </tr>\n",
       "    <tr>\n",
       "      <th>1</th>\n",
       "      <td>0</td>\n",
       "      <td>443</td>\n",
       "      <td>0_merdeka_ajar_kurikulum_kampus</td>\n",
       "      <td>[merdeka, ajar, kurikulum, kampus, program, gu...</td>\n",
       "      <td>[ayo ajar kurikulum merdeka lalu platform merd...</td>\n",
       "    </tr>\n",
       "    <tr>\n",
       "      <th>2</th>\n",
       "      <td>1</td>\n",
       "      <td>148</td>\n",
       "      <td>1_yuk_hari_kata_simak</td>\n",
       "      <td>[yuk, hari, kata, simak, ajar, bahasa, merdeka...</td>\n",
       "      <td>[konten hari tampil puisi judul libur kuta lom...</td>\n",
       "    </tr>\n",
       "    <tr>\n",
       "      <th>3</th>\n",
       "      <td>2</td>\n",
       "      <td>40</td>\n",
       "      <td>2_indonesia_episode_rapor_nadiem</td>\n",
       "      <td>[indonesia, episode, rapor, nadiem, menteri, m...</td>\n",
       "      <td>[menteri nadiem rapor  indonesia terobos merde...</td>\n",
       "    </tr>\n",
       "    <tr>\n",
       "      <th>4</th>\n",
       "      <td>3</td>\n",
       "      <td>26</td>\n",
       "      <td>3_pukul_menteri_riset_teknologi</td>\n",
       "      <td>[pukul, menteri, riset, teknologi, luncur, dan...</td>\n",
       "      <td>[perintah lalu menteri  budaya riset teknologi...</td>\n",
       "    </tr>\n",
       "    <tr>\n",
       "      <th>5</th>\n",
       "      <td>4</td>\n",
       "      <td>19</td>\n",
       "      <td>4_transformasi_komunitas_peran_sistem</td>\n",
       "      <td>[transformasi, komunitas, peran, sistem, besar...</td>\n",
       "      <td>[mendikbudristek komunitas merdeka ajar peran ...</td>\n",
       "    </tr>\n",
       "    <tr>\n",
       "      <th>6</th>\n",
       "      <td>5</td>\n",
       "      <td>16</td>\n",
       "      <td>5_komentar_kolom_contoh_warna</td>\n",
       "      <td>[komentar, kolom, contoh, warna, sebut, kalima...</td>\n",
       "      <td>[ikut salah satu contoh ungkap konten hari dap...</td>\n",
       "    </tr>\n",
       "    <tr>\n",
       "      <th>7</th>\n",
       "      <td>6</td>\n",
       "      <td>15</td>\n",
       "      <td>6_kartini_perempuan_hari_selamat</td>\n",
       "      <td>[kartini, perempuan, hari, selamat, wanita, in...</td>\n",
       "      <td>[selamat hari kartini teladan semangat baik ju...</td>\n",
       "    </tr>\n",
       "    <tr>\n",
       "      <th>8</th>\n",
       "      <td>7</td>\n",
       "      <td>11</td>\n",
       "      <td>7_anak_usia_ayah_tua</td>\n",
       "      <td>[anak, usia, ayah, tua, milik, keras, renta, t...</td>\n",
       "      <td>[usaha kerja keras muda harap usia tua jadi be...</td>\n",
       "    </tr>\n",
       "    <tr>\n",
       "      <th>9</th>\n",
       "      <td>8</td>\n",
       "      <td>10</td>\n",
       "      <td>8_ibadah_bulan_puasa_ramadan</td>\n",
       "      <td>[ibadah, bulan, puasa, ramadan, berkah, keluar...</td>\n",
       "      <td>[bulan penuh berkah datang moga bulan jadi pri...</td>\n",
       "    </tr>\n",
       "  </tbody>\n",
       "</table>\n",
       "</div>"
      ],
      "text/plain": [
       "   Topic  Count                                   Name  \\\n",
       "0     -1    276         -1_ajar_merdeka_indonesia_ikut   \n",
       "1      0    443        0_merdeka_ajar_kurikulum_kampus   \n",
       "2      1    148                  1_yuk_hari_kata_simak   \n",
       "3      2     40       2_indonesia_episode_rapor_nadiem   \n",
       "4      3     26        3_pukul_menteri_riset_teknologi   \n",
       "5      4     19  4_transformasi_komunitas_peran_sistem   \n",
       "6      5     16          5_komentar_kolom_contoh_warna   \n",
       "7      6     15       6_kartini_perempuan_hari_selamat   \n",
       "8      7     11                   7_anak_usia_ayah_tua   \n",
       "9      8     10           8_ibadah_bulan_puasa_ramadan   \n",
       "\n",
       "                                      Representation  \\\n",
       "0  [ajar, merdeka, indonesia, ikut, rapor, simak,...   \n",
       "1  [merdeka, ajar, kurikulum, kampus, program, gu...   \n",
       "2  [yuk, hari, kata, simak, ajar, bahasa, merdeka...   \n",
       "3  [indonesia, episode, rapor, nadiem, menteri, m...   \n",
       "4  [pukul, menteri, riset, teknologi, luncur, dan...   \n",
       "5  [transformasi, komunitas, peran, sistem, besar...   \n",
       "6  [komentar, kolom, contoh, warna, sebut, kalima...   \n",
       "7  [kartini, perempuan, hari, selamat, wanita, in...   \n",
       "8  [anak, usia, ayah, tua, milik, keras, renta, t...   \n",
       "9  [ibadah, bulan, puasa, ramadan, berkah, keluar...   \n",
       "\n",
       "                                 Representative_Docs  \n",
       "0  [simak brsm dirjen guru amp tenaga  bpiwan sya...  \n",
       "1  [ayo ajar kurikulum merdeka lalu platform merd...  \n",
       "2  [konten hari tampil puisi judul libur kuta lom...  \n",
       "3  [menteri nadiem rapor  indonesia terobos merde...  \n",
       "4  [perintah lalu menteri  budaya riset teknologi...  \n",
       "5  [mendikbudristek komunitas merdeka ajar peran ...  \n",
       "6  [ikut salah satu contoh ungkap konten hari dap...  \n",
       "7  [selamat hari kartini teladan semangat baik ju...  \n",
       "8  [usaha kerja keras muda harap usia tua jadi be...  \n",
       "9  [bulan penuh berkah datang moga bulan jadi pri...  "
      ]
     },
     "metadata": {},
     "output_type": "display_data"
    },
    {
     "name": "stdout",
     "output_type": "stream",
     "text": [
      "\n",
      "Period: 2022Q3\n"
     ]
    },
    {
     "data": {
      "text/html": [
       "<div>\n",
       "<style scoped>\n",
       "    .dataframe tbody tr th:only-of-type {\n",
       "        vertical-align: middle;\n",
       "    }\n",
       "\n",
       "    .dataframe tbody tr th {\n",
       "        vertical-align: top;\n",
       "    }\n",
       "\n",
       "    .dataframe thead th {\n",
       "        text-align: right;\n",
       "    }\n",
       "</style>\n",
       "<table border=\"1\" class=\"dataframe\">\n",
       "  <thead>\n",
       "    <tr style=\"text-align: right;\">\n",
       "      <th></th>\n",
       "      <th>Topic</th>\n",
       "      <th>Count</th>\n",
       "      <th>Name</th>\n",
       "      <th>Representation</th>\n",
       "      <th>Representative_Docs</th>\n",
       "    </tr>\n",
       "  </thead>\n",
       "  <tbody>\n",
       "    <tr>\n",
       "      <th>0</th>\n",
       "      <td>-1</td>\n",
       "      <td>1025</td>\n",
       "      <td>-1_ajar_merdeka_kurikulum_guru</td>\n",
       "      <td>[ajar, merdeka, kurikulum, guru, sekolah, jadi...</td>\n",
       "      <td>[ajar merdeka ajar, merdeka ajar merdeka ajar,...</td>\n",
       "    </tr>\n",
       "    <tr>\n",
       "      <th>1</th>\n",
       "      <td>0</td>\n",
       "      <td>1028</td>\n",
       "      <td>0_merdeka_ajar_kampus_kurikulum</td>\n",
       "      <td>[merdeka, ajar, kampus, kurikulum, program, ma...</td>\n",
       "      <td>[kenal mbkm merdeka ajar kampus merdeka mahasi...</td>\n",
       "    </tr>\n",
       "    <tr>\n",
       "      <th>2</th>\n",
       "      <td>1</td>\n",
       "      <td>649</td>\n",
       "      <td>1_indonesia_merdeka_ajar_hari</td>\n",
       "      <td>[indonesia, merdeka, ajar, hari, bahasa, yuk, ...</td>\n",
       "      <td>[merdeka ajar, implementasi merdeka ajar ajar ...</td>\n",
       "    </tr>\n",
       "    <tr>\n",
       "      <th>3</th>\n",
       "      <td>2</td>\n",
       "      <td>54</td>\n",
       "      <td>2_youtube_saksi_download_podcast</td>\n",
       "      <td>[youtube, saksi, download, podcast, video, liv...</td>\n",
       "      <td>[yuk ikut silaturahmi merdeka ajar tema pulih ...</td>\n",
       "    </tr>\n",
       "    <tr>\n",
       "      <th>4</th>\n",
       "      <td>3</td>\n",
       "      <td>23</td>\n",
       "      <td>3_aku_menang_revisi_datang</td>\n",
       "      <td>[aku, menang, revisi, datang, uji, gue, ajar, ...</td>\n",
       "      <td>[aku datang aku ajar aku uji aku revisi aku me...</td>\n",
       "    </tr>\n",
       "    <tr>\n",
       "      <th>5</th>\n",
       "      <td>4</td>\n",
       "      <td>20</td>\n",
       "      <td>4_ladies_titik_tipsnya_kepo</td>\n",
       "      <td>[ladies, titik, tipsnya, kepo, kelola, uang, l...</td>\n",
       "      <td>[ladies penting banget buat ajar kelola uang l...</td>\n",
       "    </tr>\n",
       "    <tr>\n",
       "      <th>6</th>\n",
       "      <td>5</td>\n",
       "      <td>17</td>\n",
       "      <td>5_edukasi_keliling_negeri_bal</td>\n",
       "      <td>[edukasi, keliling, negeri, bal, bakti, abadi,...</td>\n",
       "      <td>[edukasi keliling negeri, edukasi keliling neg...</td>\n",
       "    </tr>\n",
       "    <tr>\n",
       "      <th>7</th>\n",
       "      <td>6</td>\n",
       "      <td>16</td>\n",
       "      <td>6_islam_selamat_tahun_baru</td>\n",
       "      <td>[islam, selamat, tahun, baru, hijriah, islami,...</td>\n",
       "      <td>[selamat sambut tahun baru islam hijriah moga ...</td>\n",
       "    </tr>\n",
       "    <tr>\n",
       "      <th>8</th>\n",
       "      <td>7</td>\n",
       "      <td>12</td>\n",
       "      <td>7_akun_langkahlangkah_notifikasi_mutakhir</td>\n",
       "      <td>[akun, langkahlangkah, notifikasi, mutakhir, e...</td>\n",
       "      <td>[dapat email notifikasi ganti jabat kait mutak...</td>\n",
       "    </tr>\n",
       "    <tr>\n",
       "      <th>9</th>\n",
       "      <td>8</td>\n",
       "      <td>11</td>\n",
       "      <td>8_sejarah_british_je_tanah</td>\n",
       "      <td>[sejarah, british, je, tanah, habis, nak, poli...</td>\n",
       "      <td>[sebab orangorang macam nih lah melayu mundur ...</td>\n",
       "    </tr>\n",
       "  </tbody>\n",
       "</table>\n",
       "</div>"
      ],
      "text/plain": [
       "   Topic  Count                                       Name  \\\n",
       "0     -1   1025             -1_ajar_merdeka_kurikulum_guru   \n",
       "1      0   1028            0_merdeka_ajar_kampus_kurikulum   \n",
       "2      1    649              1_indonesia_merdeka_ajar_hari   \n",
       "3      2     54           2_youtube_saksi_download_podcast   \n",
       "4      3     23                 3_aku_menang_revisi_datang   \n",
       "5      4     20                4_ladies_titik_tipsnya_kepo   \n",
       "6      5     17              5_edukasi_keliling_negeri_bal   \n",
       "7      6     16                 6_islam_selamat_tahun_baru   \n",
       "8      7     12  7_akun_langkahlangkah_notifikasi_mutakhir   \n",
       "9      8     11                 8_sejarah_british_je_tanah   \n",
       "\n",
       "                                      Representation  \\\n",
       "0  [ajar, merdeka, kurikulum, guru, sekolah, jadi...   \n",
       "1  [merdeka, ajar, kampus, kurikulum, program, ma...   \n",
       "2  [indonesia, merdeka, ajar, hari, bahasa, yuk, ...   \n",
       "3  [youtube, saksi, download, podcast, video, liv...   \n",
       "4  [aku, menang, revisi, datang, uji, gue, ajar, ...   \n",
       "5  [ladies, titik, tipsnya, kepo, kelola, uang, l...   \n",
       "6  [edukasi, keliling, negeri, bal, bakti, abadi,...   \n",
       "7  [islam, selamat, tahun, baru, hijriah, islami,...   \n",
       "8  [akun, langkahlangkah, notifikasi, mutakhir, e...   \n",
       "9  [sejarah, british, je, tanah, habis, nak, poli...   \n",
       "\n",
       "                                 Representative_Docs  \n",
       "0  [ajar merdeka ajar, merdeka ajar merdeka ajar,...  \n",
       "1  [kenal mbkm merdeka ajar kampus merdeka mahasi...  \n",
       "2  [merdeka ajar, implementasi merdeka ajar ajar ...  \n",
       "3  [yuk ikut silaturahmi merdeka ajar tema pulih ...  \n",
       "4  [aku datang aku ajar aku uji aku revisi aku me...  \n",
       "5  [ladies penting banget buat ajar kelola uang l...  \n",
       "6  [edukasi keliling negeri, edukasi keliling neg...  \n",
       "7  [selamat sambut tahun baru islam hijriah moga ...  \n",
       "8  [dapat email notifikasi ganti jabat kait mutak...  \n",
       "9  [sebab orangorang macam nih lah melayu mundur ...  "
      ]
     },
     "metadata": {},
     "output_type": "display_data"
    },
    {
     "name": "stdout",
     "output_type": "stream",
     "text": [
      "\n",
      "Period: 2022Q4\n"
     ]
    },
    {
     "data": {
      "text/html": [
       "<div>\n",
       "<style scoped>\n",
       "    .dataframe tbody tr th:only-of-type {\n",
       "        vertical-align: middle;\n",
       "    }\n",
       "\n",
       "    .dataframe tbody tr th {\n",
       "        vertical-align: top;\n",
       "    }\n",
       "\n",
       "    .dataframe thead th {\n",
       "        text-align: right;\n",
       "    }\n",
       "</style>\n",
       "<table border=\"1\" class=\"dataframe\">\n",
       "  <thead>\n",
       "    <tr style=\"text-align: right;\">\n",
       "      <th></th>\n",
       "      <th>Topic</th>\n",
       "      <th>Count</th>\n",
       "      <th>Name</th>\n",
       "      <th>Representation</th>\n",
       "      <th>Representative_Docs</th>\n",
       "    </tr>\n",
       "  </thead>\n",
       "  <tbody>\n",
       "    <tr>\n",
       "      <th>0</th>\n",
       "      <td>-1</td>\n",
       "      <td>769</td>\n",
       "      <td>-1_ajar_merdeka_guru_hari</td>\n",
       "      <td>[ajar, merdeka, guru, hari, nasional, selamat,...</td>\n",
       "      <td>[serentak inovasi wujud merdeka ajar selamat h...</td>\n",
       "    </tr>\n",
       "    <tr>\n",
       "      <th>1</th>\n",
       "      <td>0</td>\n",
       "      <td>798</td>\n",
       "      <td>0_guru_inovasi_wujud_serentak</td>\n",
       "      <td>[guru, inovasi, wujud, serentak, hari, nasiona...</td>\n",
       "      <td>[selamat hari guru nasional serentak inovasi w...</td>\n",
       "    </tr>\n",
       "    <tr>\n",
       "      <th>2</th>\n",
       "      <td>1</td>\n",
       "      <td>493</td>\n",
       "      <td>1_merdeka_ajar_kurikulum_kampus</td>\n",
       "      <td>[merdeka, ajar, kurikulum, kampus, program, ma...</td>\n",
       "      <td>[program merdeka ajar kampus merdeka mbkm ubah...</td>\n",
       "    </tr>\n",
       "    <tr>\n",
       "      <th>3</th>\n",
       "      <td>2</td>\n",
       "      <td>184</td>\n",
       "      <td>2_indonesia_bahasa_batik_level</td>\n",
       "      <td>[indonesia, bahasa, batik, level, kurikulum, d...</td>\n",
       "      <td>[latih soal uaspas bahasa indonesia tema kelas...</td>\n",
       "    </tr>\n",
       "    <tr>\n",
       "      <th>4</th>\n",
       "      <td>3</td>\n",
       "      <td>133</td>\n",
       "      <td>3_aku_revisi_datang_uji</td>\n",
       "      <td>[aku, revisi, datang, uji, menang, ajar, simak...</td>\n",
       "      <td>[aku datang aku ajar aku uji aku revisi aku me...</td>\n",
       "    </tr>\n",
       "    <tr>\n",
       "      <th>5</th>\n",
       "      <td>4</td>\n",
       "      <td>67</td>\n",
       "      <td>4_digital_sd_transformasi_laksana</td>\n",
       "      <td>[digital, sd, transformasi, laksana, ekosistem...</td>\n",
       "      <td>[germentasi rumbel amp pmm kolaborasi transfor...</td>\n",
       "    </tr>\n",
       "    <tr>\n",
       "      <th>6</th>\n",
       "      <td>5</td>\n",
       "      <td>62</td>\n",
       "      <td>5_natal_pahlawan_festival_desember</td>\n",
       "      <td>[natal, pahlawan, festival, desember, selamat,...</td>\n",
       "      <td>[selamat hari natal desember raya moga damai k...</td>\n",
       "    </tr>\n",
       "    <tr>\n",
       "      <th>7</th>\n",
       "      <td>6</td>\n",
       "      <td>23</td>\n",
       "      <td>6_portal_akun_rumah_fiturfitur</td>\n",
       "      <td>[portal, akun, rumah, fiturfitur, aplikasi, ma...</td>\n",
       "      <td>[fiturfitur aplikasi portal rumah ajar, fiturf...</td>\n",
       "    </tr>\n",
       "    <tr>\n",
       "      <th>8</th>\n",
       "      <td>7</td>\n",
       "      <td>17</td>\n",
       "      <td>7_agama_islam_madiun_kalo</td>\n",
       "      <td>[agama, islam, madiun, kalo, perpusdikbud, tak...</td>\n",
       "      <td>[contoh soal  agama islam pai kelas kurikulum ...</td>\n",
       "    </tr>\n",
       "    <tr>\n",
       "      <th>9</th>\n",
       "      <td>8</td>\n",
       "      <td>17</td>\n",
       "      <td>8_gempa_cianjur_meru_pustaka</td>\n",
       "      <td>[gempa, cianjur, meru, pustaka, moga, rusak, a...</td>\n",
       "      <td>[turut dukacita atas musibah gempa bumi jadi c...</td>\n",
       "    </tr>\n",
       "  </tbody>\n",
       "</table>\n",
       "</div>"
      ],
      "text/plain": [
       "   Topic  Count                                Name  \\\n",
       "0     -1    769           -1_ajar_merdeka_guru_hari   \n",
       "1      0    798       0_guru_inovasi_wujud_serentak   \n",
       "2      1    493     1_merdeka_ajar_kurikulum_kampus   \n",
       "3      2    184      2_indonesia_bahasa_batik_level   \n",
       "4      3    133             3_aku_revisi_datang_uji   \n",
       "5      4     67   4_digital_sd_transformasi_laksana   \n",
       "6      5     62  5_natal_pahlawan_festival_desember   \n",
       "7      6     23      6_portal_akun_rumah_fiturfitur   \n",
       "8      7     17           7_agama_islam_madiun_kalo   \n",
       "9      8     17        8_gempa_cianjur_meru_pustaka   \n",
       "\n",
       "                                      Representation  \\\n",
       "0  [ajar, merdeka, guru, hari, nasional, selamat,...   \n",
       "1  [guru, inovasi, wujud, serentak, hari, nasiona...   \n",
       "2  [merdeka, ajar, kurikulum, kampus, program, ma...   \n",
       "3  [indonesia, bahasa, batik, level, kurikulum, d...   \n",
       "4  [aku, revisi, datang, uji, menang, ajar, simak...   \n",
       "5  [digital, sd, transformasi, laksana, ekosistem...   \n",
       "6  [natal, pahlawan, festival, desember, selamat,...   \n",
       "7  [portal, akun, rumah, fiturfitur, aplikasi, ma...   \n",
       "8  [agama, islam, madiun, kalo, perpusdikbud, tak...   \n",
       "9  [gempa, cianjur, meru, pustaka, moga, rusak, a...   \n",
       "\n",
       "                                 Representative_Docs  \n",
       "0  [serentak inovasi wujud merdeka ajar selamat h...  \n",
       "1  [selamat hari guru nasional serentak inovasi w...  \n",
       "2  [program merdeka ajar kampus merdeka mbkm ubah...  \n",
       "3  [latih soal uaspas bahasa indonesia tema kelas...  \n",
       "4  [aku datang aku ajar aku uji aku revisi aku me...  \n",
       "5  [germentasi rumbel amp pmm kolaborasi transfor...  \n",
       "6  [selamat hari natal desember raya moga damai k...  \n",
       "7  [fiturfitur aplikasi portal rumah ajar, fiturf...  \n",
       "8  [contoh soal  agama islam pai kelas kurikulum ...  \n",
       "9  [turut dukacita atas musibah gempa bumi jadi c...  "
      ]
     },
     "metadata": {},
     "output_type": "display_data"
    },
    {
     "name": "stdout",
     "output_type": "stream",
     "text": [
      "\n",
      "Period: 2023Q1\n"
     ]
    },
    {
     "data": {
      "text/html": [
       "<div>\n",
       "<style scoped>\n",
       "    .dataframe tbody tr th:only-of-type {\n",
       "        vertical-align: middle;\n",
       "    }\n",
       "\n",
       "    .dataframe tbody tr th {\n",
       "        vertical-align: top;\n",
       "    }\n",
       "\n",
       "    .dataframe thead th {\n",
       "        text-align: right;\n",
       "    }\n",
       "</style>\n",
       "<table border=\"1\" class=\"dataframe\">\n",
       "  <thead>\n",
       "    <tr style=\"text-align: right;\">\n",
       "      <th></th>\n",
       "      <th>Topic</th>\n",
       "      <th>Count</th>\n",
       "      <th>Name</th>\n",
       "      <th>Representation</th>\n",
       "      <th>Representative_Docs</th>\n",
       "    </tr>\n",
       "  </thead>\n",
       "  <tbody>\n",
       "    <tr>\n",
       "      <th>0</th>\n",
       "      <td>-1</td>\n",
       "      <td>561</td>\n",
       "      <td>-1_ajar_merdeka_kurikulum_guru</td>\n",
       "      <td>[ajar, merdeka, kurikulum, guru, hari, program...</td>\n",
       "      <td>[salam sehat kurikulum merdeka beri leluasa mu...</td>\n",
       "    </tr>\n",
       "    <tr>\n",
       "      <th>1</th>\n",
       "      <td>0</td>\n",
       "      <td>461</td>\n",
       "      <td>0_merdeka_ajar_kampus_mahasiswa</td>\n",
       "      <td>[merdeka, ajar, kampus, mahasiswa, program, ku...</td>\n",
       "      <td>[mahasiswa dorong ikut program merdeka ajar ka...</td>\n",
       "    </tr>\n",
       "    <tr>\n",
       "      <th>2</th>\n",
       "      <td>1</td>\n",
       "      <td>286</td>\n",
       "      <td>1_indonesia_bahasa_merdeka_ajar</td>\n",
       "      <td>[indonesia, bahasa, merdeka, ajar, baca, liter...</td>\n",
       "      <td>[kemendikbudristek baru luncur merdeka ajar ep...</td>\n",
       "    </tr>\n",
       "    <tr>\n",
       "      <th>3</th>\n",
       "      <td>2</td>\n",
       "      <td>256</td>\n",
       "      <td>2_usung_uksw_ajar_merdeka</td>\n",
       "      <td>[usung, uksw, ajar, merdeka, apresiasi, konsep...</td>\n",
       "      <td>[ganjar apresiasi konsep merdeka ajar usung uk...</td>\n",
       "    </tr>\n",
       "    <tr>\n",
       "      <th>4</th>\n",
       "      <td>3</td>\n",
       "      <td>51</td>\n",
       "      <td>3_snpmb_akun_seleksi_rapor</td>\n",
       "      <td>[snpmb, akun, seleksi, rapor, dana, pilih, snb...</td>\n",
       "      <td>[h tutup panjang registrasi akun snpmb siswa, ...</td>\n",
       "    </tr>\n",
       "    <tr>\n",
       "      <th>5</th>\n",
       "      <td>4</td>\n",
       "      <td>47</td>\n",
       "      <td>4_episode_paud_transisi_senang</td>\n",
       "      <td>[episode, paud, transisi, senang, luncur, sd, ...</td>\n",
       "      <td>[kemendikbudristek luncur merdeka ajar episode...</td>\n",
       "    </tr>\n",
       "    <tr>\n",
       "      <th>6</th>\n",
       "      <td>5</td>\n",
       "      <td>47</td>\n",
       "      <td>5_selamat_moga_tahun_imlek</td>\n",
       "      <td>[selamat, moga, tahun, imlek, puasa, ibadah, r...</td>\n",
       "      <td>[selamat tahun baru imlek kongzili januari ray...</td>\n",
       "    </tr>\n",
       "    <tr>\n",
       "      <th>7</th>\n",
       "      <td>6</td>\n",
       "      <td>17</td>\n",
       "      <td>6_aku_menang_revisi_datang</td>\n",
       "      <td>[aku, menang, revisi, datang, uji, ajar, merde...</td>\n",
       "      <td>[aku datang aku ajar aku uji aku revisi aku me...</td>\n",
       "    </tr>\n",
       "    <tr>\n",
       "      <th>8</th>\n",
       "      <td>7</td>\n",
       "      <td>12</td>\n",
       "      <td>7_filsafat_isnaeni_sifa_berpikirliberalisme</td>\n",
       "      <td>[filsafat, isnaeni, sifa, berpikirliberalisme,...</td>\n",
       "      <td>[merdeka ajar merdeka berpikirliberalisme gene...</td>\n",
       "    </tr>\n",
       "    <tr>\n",
       "      <th>9</th>\n",
       "      <td>8</td>\n",
       "      <td>12</td>\n",
       "      <td>8_official_youtube_malam_via</td>\n",
       "      <td>[official, youtube, malam, via, bareng, tonton...</td>\n",
       "      <td>[sieun yuk tonton bareng via kanal youtube off...</td>\n",
       "    </tr>\n",
       "  </tbody>\n",
       "</table>\n",
       "</div>"
      ],
      "text/plain": [
       "   Topic  Count                                         Name  \\\n",
       "0     -1    561               -1_ajar_merdeka_kurikulum_guru   \n",
       "1      0    461              0_merdeka_ajar_kampus_mahasiswa   \n",
       "2      1    286              1_indonesia_bahasa_merdeka_ajar   \n",
       "3      2    256                    2_usung_uksw_ajar_merdeka   \n",
       "4      3     51                   3_snpmb_akun_seleksi_rapor   \n",
       "5      4     47               4_episode_paud_transisi_senang   \n",
       "6      5     47                   5_selamat_moga_tahun_imlek   \n",
       "7      6     17                   6_aku_menang_revisi_datang   \n",
       "8      7     12  7_filsafat_isnaeni_sifa_berpikirliberalisme   \n",
       "9      8     12                 8_official_youtube_malam_via   \n",
       "\n",
       "                                      Representation  \\\n",
       "0  [ajar, merdeka, kurikulum, guru, hari, program...   \n",
       "1  [merdeka, ajar, kampus, mahasiswa, program, ku...   \n",
       "2  [indonesia, bahasa, merdeka, ajar, baca, liter...   \n",
       "3  [usung, uksw, ajar, merdeka, apresiasi, konsep...   \n",
       "4  [snpmb, akun, seleksi, rapor, dana, pilih, snb...   \n",
       "5  [episode, paud, transisi, senang, luncur, sd, ...   \n",
       "6  [selamat, moga, tahun, imlek, puasa, ibadah, r...   \n",
       "7  [aku, menang, revisi, datang, uji, ajar, merde...   \n",
       "8  [filsafat, isnaeni, sifa, berpikirliberalisme,...   \n",
       "9  [official, youtube, malam, via, bareng, tonton...   \n",
       "\n",
       "                                 Representative_Docs  \n",
       "0  [salam sehat kurikulum merdeka beri leluasa mu...  \n",
       "1  [mahasiswa dorong ikut program merdeka ajar ka...  \n",
       "2  [kemendikbudristek baru luncur merdeka ajar ep...  \n",
       "3  [ganjar apresiasi konsep merdeka ajar usung uk...  \n",
       "4  [h tutup panjang registrasi akun snpmb siswa, ...  \n",
       "5  [kemendikbudristek luncur merdeka ajar episode...  \n",
       "6  [selamat tahun baru imlek kongzili januari ray...  \n",
       "7  [aku datang aku ajar aku uji aku revisi aku me...  \n",
       "8  [merdeka ajar merdeka berpikirliberalisme gene...  \n",
       "9  [sieun yuk tonton bareng via kanal youtube off...  "
      ]
     },
     "metadata": {},
     "output_type": "display_data"
    },
    {
     "name": "stdout",
     "output_type": "stream",
     "text": [
      "\n",
      "Period: 2023Q2\n"
     ]
    },
    {
     "data": {
      "text/html": [
       "<div>\n",
       "<style scoped>\n",
       "    .dataframe tbody tr th:only-of-type {\n",
       "        vertical-align: middle;\n",
       "    }\n",
       "\n",
       "    .dataframe tbody tr th {\n",
       "        vertical-align: top;\n",
       "    }\n",
       "\n",
       "    .dataframe thead th {\n",
       "        text-align: right;\n",
       "    }\n",
       "</style>\n",
       "<table border=\"1\" class=\"dataframe\">\n",
       "  <thead>\n",
       "    <tr style=\"text-align: right;\">\n",
       "      <th></th>\n",
       "      <th>Topic</th>\n",
       "      <th>Count</th>\n",
       "      <th>Name</th>\n",
       "      <th>Representation</th>\n",
       "      <th>Representative_Docs</th>\n",
       "    </tr>\n",
       "  </thead>\n",
       "  <tbody>\n",
       "    <tr>\n",
       "      <th>0</th>\n",
       "      <td>-1</td>\n",
       "      <td>574</td>\n",
       "      <td>-1_ajar_merdeka_hari_sama</td>\n",
       "      <td>[ajar, merdeka, hari, sama, nasional, program,...</td>\n",
       "      <td>[tahu tanggal mei ingat hari  nasional simak y...</td>\n",
       "    </tr>\n",
       "    <tr>\n",
       "      <th>1</th>\n",
       "      <td>0</td>\n",
       "      <td>763</td>\n",
       "      <td>0_merdeka_ajar_kurikulum_kampus</td>\n",
       "      <td>[merdeka, ajar, kurikulum, kampus, program, ma...</td>\n",
       "      <td>[selamat amp sukses mahasiswa lolos program me...</td>\n",
       "    </tr>\n",
       "    <tr>\n",
       "      <th>2</th>\n",
       "      <td>1</td>\n",
       "      <td>274</td>\n",
       "      <td>1_indonesia_bahasa_ajar_merdeka</td>\n",
       "      <td>[indonesia, bahasa, ajar, merdeka, yuk, hari, ...</td>\n",
       "      <td>[ki hajar dewantara bapak  indonesia jasa beli...</td>\n",
       "    </tr>\n",
       "    <tr>\n",
       "      <th>3</th>\n",
       "      <td>2</td>\n",
       "      <td>247</td>\n",
       "      <td>2_hari_nasional_selamat_sama</td>\n",
       "      <td>[hari, nasional, selamat, sama, gerak, semarak...</td>\n",
       "      <td>[selamat ingat hari  nasional gerak sama semar...</td>\n",
       "    </tr>\n",
       "    <tr>\n",
       "      <th>4</th>\n",
       "      <td>3</td>\n",
       "      <td>230</td>\n",
       "      <td>3_merdeka_ajar_semarak_sama</td>\n",
       "      <td>[merdeka, ajar, semarak, sama, bulan, hardikna...</td>\n",
       "      <td>[merdeka ajar, merdeka ajar, ajar merdeka]</td>\n",
       "    </tr>\n",
       "    <tr>\n",
       "      <th>5</th>\n",
       "      <td>4</td>\n",
       "      <td>101</td>\n",
       "      <td>4_karnaval_riah_hardiknas_acara</td>\n",
       "      <td>[karnaval, riah, hardiknas, acara, yogyakarta,...</td>\n",
       "      <td>[info munasprok karnaval merdeka ajar yuk saks...</td>\n",
       "    </tr>\n",
       "    <tr>\n",
       "      <th>6</th>\n",
       "      <td>5</td>\n",
       "      <td>30</td>\n",
       "      <td>5_digital_lomba_karya_era</td>\n",
       "      <td>[digital, lomba, karya, era, ajar, jurnalistik...</td>\n",
       "      <td>[lomba foto artikel karya jurnalistik selengga...</td>\n",
       "    </tr>\n",
       "    <tr>\n",
       "      <th>7</th>\n",
       "      <td>6</td>\n",
       "      <td>15</td>\n",
       "      <td>6_platform_ajar_merdeka_finest</td>\n",
       "      <td>[platform, ajar, merdeka, finest, buser, at, o...</td>\n",
       "      <td>[platform merdeka ajar, platform merdeka ajar,...</td>\n",
       "    </tr>\n",
       "    <tr>\n",
       "      <th>8</th>\n",
       "      <td>7</td>\n",
       "      <td>13</td>\n",
       "      <td>7_uji_tes_calistung_satu</td>\n",
       "      <td>[uji, tes, calistung, satu, usp, kunci, tara, ...</td>\n",
       "      <td>[serta seleksi uji tulis bas komputer utbk gel...</td>\n",
       "    </tr>\n",
       "    <tr>\n",
       "      <th>9</th>\n",
       "      <td>8</td>\n",
       "      <td>11</td>\n",
       "      <td>8_pancasila_gotong_tumbuh_adab</td>\n",
       "      <td>[pancasila, gotong, tumbuh, adab, global, royo...</td>\n",
       "      <td>[selamat hari lahir pancasila sama gotong royo...</td>\n",
       "    </tr>\n",
       "  </tbody>\n",
       "</table>\n",
       "</div>"
      ],
      "text/plain": [
       "   Topic  Count                             Name  \\\n",
       "0     -1    574        -1_ajar_merdeka_hari_sama   \n",
       "1      0    763  0_merdeka_ajar_kurikulum_kampus   \n",
       "2      1    274  1_indonesia_bahasa_ajar_merdeka   \n",
       "3      2    247     2_hari_nasional_selamat_sama   \n",
       "4      3    230      3_merdeka_ajar_semarak_sama   \n",
       "5      4    101  4_karnaval_riah_hardiknas_acara   \n",
       "6      5     30        5_digital_lomba_karya_era   \n",
       "7      6     15   6_platform_ajar_merdeka_finest   \n",
       "8      7     13         7_uji_tes_calistung_satu   \n",
       "9      8     11   8_pancasila_gotong_tumbuh_adab   \n",
       "\n",
       "                                      Representation  \\\n",
       "0  [ajar, merdeka, hari, sama, nasional, program,...   \n",
       "1  [merdeka, ajar, kurikulum, kampus, program, ma...   \n",
       "2  [indonesia, bahasa, ajar, merdeka, yuk, hari, ...   \n",
       "3  [hari, nasional, selamat, sama, gerak, semarak...   \n",
       "4  [merdeka, ajar, semarak, sama, bulan, hardikna...   \n",
       "5  [karnaval, riah, hardiknas, acara, yogyakarta,...   \n",
       "6  [digital, lomba, karya, era, ajar, jurnalistik...   \n",
       "7  [platform, ajar, merdeka, finest, buser, at, o...   \n",
       "8  [uji, tes, calistung, satu, usp, kunci, tara, ...   \n",
       "9  [pancasila, gotong, tumbuh, adab, global, royo...   \n",
       "\n",
       "                                 Representative_Docs  \n",
       "0  [tahu tanggal mei ingat hari  nasional simak y...  \n",
       "1  [selamat amp sukses mahasiswa lolos program me...  \n",
       "2  [ki hajar dewantara bapak  indonesia jasa beli...  \n",
       "3  [selamat ingat hari  nasional gerak sama semar...  \n",
       "4         [merdeka ajar, merdeka ajar, ajar merdeka]  \n",
       "5  [info munasprok karnaval merdeka ajar yuk saks...  \n",
       "6  [lomba foto artikel karya jurnalistik selengga...  \n",
       "7  [platform merdeka ajar, platform merdeka ajar,...  \n",
       "8  [serta seleksi uji tulis bas komputer utbk gel...  \n",
       "9  [selamat hari lahir pancasila sama gotong royo...  "
      ]
     },
     "metadata": {},
     "output_type": "display_data"
    },
    {
     "name": "stdout",
     "output_type": "stream",
     "text": [
      "\n",
      "Period: 2023Q3\n"
     ]
    },
    {
     "data": {
      "text/html": [
       "<div>\n",
       "<style scoped>\n",
       "    .dataframe tbody tr th:only-of-type {\n",
       "        vertical-align: middle;\n",
       "    }\n",
       "\n",
       "    .dataframe tbody tr th {\n",
       "        vertical-align: top;\n",
       "    }\n",
       "\n",
       "    .dataframe thead th {\n",
       "        text-align: right;\n",
       "    }\n",
       "</style>\n",
       "<table border=\"1\" class=\"dataframe\">\n",
       "  <thead>\n",
       "    <tr style=\"text-align: right;\">\n",
       "      <th></th>\n",
       "      <th>Topic</th>\n",
       "      <th>Count</th>\n",
       "      <th>Name</th>\n",
       "      <th>Representation</th>\n",
       "      <th>Representative_Docs</th>\n",
       "    </tr>\n",
       "  </thead>\n",
       "  <tbody>\n",
       "    <tr>\n",
       "      <th>0</th>\n",
       "      <td>-1</td>\n",
       "      <td>600</td>\n",
       "      <td>-1_ajar_merdeka_kurikulum_guru</td>\n",
       "      <td>[ajar, merdeka, kurikulum, guru, bahasa, satu,...</td>\n",
       "      <td>[halo salah satu bahasa daerah revitalisasi ka...</td>\n",
       "    </tr>\n",
       "    <tr>\n",
       "      <th>1</th>\n",
       "      <td>0</td>\n",
       "      <td>324</td>\n",
       "      <td>0_indonesia_merdeka_kampus_mahasiswa</td>\n",
       "      <td>[indonesia, merdeka, kampus, mahasiswa, progra...</td>\n",
       "      <td>[selamat sukses mahasiswa universitas persada ...</td>\n",
       "    </tr>\n",
       "    <tr>\n",
       "      <th>2</th>\n",
       "      <td>1</td>\n",
       "      <td>311</td>\n",
       "      <td>1_yuk_kayana_merdeka_budaya</td>\n",
       "      <td>[yuk, kayana, merdeka, budaya, ajar, tayang, s...</td>\n",
       "      <td>[kayana yuk saksi tayang ragam budaya pilih ma...</td>\n",
       "    </tr>\n",
       "    <tr>\n",
       "      <th>3</th>\n",
       "      <td>2</td>\n",
       "      <td>303</td>\n",
       "      <td>2_ajar_merdeka_kurikulum_guru</td>\n",
       "      <td>[ajar, merdeka, kurikulum, guru, sekolah, engg...</td>\n",
       "      <td>[merdeka ajar ajar merdeka nih jadi, merdeka a...</td>\n",
       "    </tr>\n",
       "    <tr>\n",
       "      <th>4</th>\n",
       "      <td>3</td>\n",
       "      <td>31</td>\n",
       "      <td>3_menteri_mas_ajar_merdeka</td>\n",
       "      <td>[menteri, mas, ajar, merdeka, jadi, orang, pim...</td>\n",
       "      <td>[kemendikbudristek tahan predikat opini wajar ...</td>\n",
       "    </tr>\n",
       "    <tr>\n",
       "      <th>5</th>\n",
       "      <td>4</td>\n",
       "      <td>31</td>\n",
       "      <td>4_muhammad_nabi_saw_islam</td>\n",
       "      <td>[muhammad, nabi, saw, islam, maulid, selamat, ...</td>\n",
       "      <td>[selamat ingat maulid nabi muhammad saw hijria...</td>\n",
       "    </tr>\n",
       "    <tr>\n",
       "      <th>6</th>\n",
       "      <td>5</td>\n",
       "      <td>20</td>\n",
       "      <td>5_nasional_asesmen_standar_transformasi</td>\n",
       "      <td>[nasional, asesmen, standar, transformasi, tin...</td>\n",
       "      <td>[mendikbudristek luncur merdeka ajar episode t...</td>\n",
       "    </tr>\n",
       "    <tr>\n",
       "      <th>7</th>\n",
       "      <td>6</td>\n",
       "      <td>17</td>\n",
       "      <td>6_bimbel_private_komputer_les</td>\n",
       "      <td>[bimbel, private, komputer, les, paket, tiban,...</td>\n",
       "      <td>[suasana ajar ajar program les private paket b...</td>\n",
       "    </tr>\n",
       "    <tr>\n",
       "      <th>8</th>\n",
       "      <td>7</td>\n",
       "      <td>14</td>\n",
       "      <td>7_teks_bab_tulis_deskripsi</td>\n",
       "      <td>[teks, bab, tulis, deskripsi, baca, argumentas...</td>\n",
       "      <td>[tulis teks deskripsi bab tulis teks eksposisi...</td>\n",
       "    </tr>\n",
       "    <tr>\n",
       "      <th>9</th>\n",
       "      <td>8</td>\n",
       "      <td>12</td>\n",
       "      <td>8_kenyah_bahasa_salah_lepoq</td>\n",
       "      <td>[kenyah, bahasa, salah, lepoq, satu, kosakata,...</td>\n",
       "      <td>[halo salah satu bahasa daerah revitalisasi ka...</td>\n",
       "    </tr>\n",
       "  </tbody>\n",
       "</table>\n",
       "</div>"
      ],
      "text/plain": [
       "   Topic  Count                                     Name  \\\n",
       "0     -1    600           -1_ajar_merdeka_kurikulum_guru   \n",
       "1      0    324     0_indonesia_merdeka_kampus_mahasiswa   \n",
       "2      1    311              1_yuk_kayana_merdeka_budaya   \n",
       "3      2    303            2_ajar_merdeka_kurikulum_guru   \n",
       "4      3     31               3_menteri_mas_ajar_merdeka   \n",
       "5      4     31                4_muhammad_nabi_saw_islam   \n",
       "6      5     20  5_nasional_asesmen_standar_transformasi   \n",
       "7      6     17            6_bimbel_private_komputer_les   \n",
       "8      7     14               7_teks_bab_tulis_deskripsi   \n",
       "9      8     12              8_kenyah_bahasa_salah_lepoq   \n",
       "\n",
       "                                      Representation  \\\n",
       "0  [ajar, merdeka, kurikulum, guru, bahasa, satu,...   \n",
       "1  [indonesia, merdeka, kampus, mahasiswa, progra...   \n",
       "2  [yuk, kayana, merdeka, budaya, ajar, tayang, s...   \n",
       "3  [ajar, merdeka, kurikulum, guru, sekolah, engg...   \n",
       "4  [menteri, mas, ajar, merdeka, jadi, orang, pim...   \n",
       "5  [muhammad, nabi, saw, islam, maulid, selamat, ...   \n",
       "6  [nasional, asesmen, standar, transformasi, tin...   \n",
       "7  [bimbel, private, komputer, les, paket, tiban,...   \n",
       "8  [teks, bab, tulis, deskripsi, baca, argumentas...   \n",
       "9  [kenyah, bahasa, salah, lepoq, satu, kosakata,...   \n",
       "\n",
       "                                 Representative_Docs  \n",
       "0  [halo salah satu bahasa daerah revitalisasi ka...  \n",
       "1  [selamat sukses mahasiswa universitas persada ...  \n",
       "2  [kayana yuk saksi tayang ragam budaya pilih ma...  \n",
       "3  [merdeka ajar ajar merdeka nih jadi, merdeka a...  \n",
       "4  [kemendikbudristek tahan predikat opini wajar ...  \n",
       "5  [selamat ingat maulid nabi muhammad saw hijria...  \n",
       "6  [mendikbudristek luncur merdeka ajar episode t...  \n",
       "7  [suasana ajar ajar program les private paket b...  \n",
       "8  [tulis teks deskripsi bab tulis teks eksposisi...  \n",
       "9  [halo salah satu bahasa daerah revitalisasi ka...  "
      ]
     },
     "metadata": {},
     "output_type": "display_data"
    },
    {
     "name": "stdout",
     "output_type": "stream",
     "text": [
      "\n",
      "Period: 2023Q4\n"
     ]
    },
    {
     "data": {
      "text/html": [
       "<div>\n",
       "<style scoped>\n",
       "    .dataframe tbody tr th:only-of-type {\n",
       "        vertical-align: middle;\n",
       "    }\n",
       "\n",
       "    .dataframe tbody tr th {\n",
       "        vertical-align: top;\n",
       "    }\n",
       "\n",
       "    .dataframe thead th {\n",
       "        text-align: right;\n",
       "    }\n",
       "</style>\n",
       "<table border=\"1\" class=\"dataframe\">\n",
       "  <thead>\n",
       "    <tr style=\"text-align: right;\">\n",
       "      <th></th>\n",
       "      <th>Topic</th>\n",
       "      <th>Count</th>\n",
       "      <th>Name</th>\n",
       "      <th>Representation</th>\n",
       "      <th>Representative_Docs</th>\n",
       "    </tr>\n",
       "  </thead>\n",
       "  <tbody>\n",
       "    <tr>\n",
       "      <th>0</th>\n",
       "      <td>-1</td>\n",
       "      <td>551</td>\n",
       "      <td>-1_ajar_merdeka_kurikulum_guru</td>\n",
       "      <td>[ajar, merdeka, kurikulum, guru, indonesia, sa...</td>\n",
       "      <td>[ingat hari guru nasional jadi ruang apresiasi...</td>\n",
       "    </tr>\n",
       "    <tr>\n",
       "      <th>1</th>\n",
       "      <td>0</td>\n",
       "      <td>1091</td>\n",
       "      <td>0_guru_hari_nasional_gerak</td>\n",
       "      <td>[guru, hari, nasional, gerak, selamat, raya, s...</td>\n",
       "      <td>[selamat hari guru nasional gerak sama raya me...</td>\n",
       "    </tr>\n",
       "    <tr>\n",
       "      <th>2</th>\n",
       "      <td>1</td>\n",
       "      <td>432</td>\n",
       "      <td>1_merdeka_ajar_kampus_kurikulum</td>\n",
       "      <td>[merdeka, ajar, kampus, kurikulum, program, ma...</td>\n",
       "      <td>[hai sobat bsi rangka implementasi  merdeka aj...</td>\n",
       "    </tr>\n",
       "    <tr>\n",
       "      <th>3</th>\n",
       "      <td>2</td>\n",
       "      <td>257</td>\n",
       "      <td>2_budaya_seni_salam_kayana</td>\n",
       "      <td>[budaya, seni, salam, kayana, indonesia, pukul...</td>\n",
       "      <td>[kayana yuk saksi seru tayang ragam budaya ind...</td>\n",
       "    </tr>\n",
       "    <tr>\n",
       "      <th>4</th>\n",
       "      <td>3</td>\n",
       "      <td>52</td>\n",
       "      <td>3_kiamat_palestina_islam_palestine</td>\n",
       "      <td>[kiamat, palestina, islam, palestine, agama, m...</td>\n",
       "      <td>[simak kunci jawab soal sumatif mata ajar mape...</td>\n",
       "    </tr>\n",
       "    <tr>\n",
       "      <th>5</th>\n",
       "      <td>4</td>\n",
       "      <td>32</td>\n",
       "      <td>4_bahasa_kosakata_yuk_satu</td>\n",
       "      <td>[bahasa, kosakata, yuk, satu, revitalisasi, mb...</td>\n",
       "      <td>[halo satu bahasa daerah revitalisasi kalimant...</td>\n",
       "    </tr>\n",
       "    <tr>\n",
       "      <th>6</th>\n",
       "      <td>5</td>\n",
       "      <td>26</td>\n",
       "      <td>5_sejarah_enggak_dulu_ajar</td>\n",
       "      <td>[sejarah, enggak, dulu, ajar, merdeka, rakyat,...</td>\n",
       "      <td>[kesi moyang mati lawan british nak merdeka de...</td>\n",
       "    </tr>\n",
       "    <tr>\n",
       "      <th>7</th>\n",
       "      <td>6</td>\n",
       "      <td>13</td>\n",
       "      <td>6_natal_damai_moga_selalu</td>\n",
       "      <td>[natal, damai, moga, selalu, selamat, desember...</td>\n",
       "      <td>[segenap pimpin civitas akademika politeknik k...</td>\n",
       "    </tr>\n",
       "    <tr>\n",
       "      <th>8</th>\n",
       "      <td>7</td>\n",
       "      <td>11</td>\n",
       "      <td>7_kolaborasi_bagi_jambi_hepi</td>\n",
       "      <td>[kolaborasi, bagi, jambi, hepi, untirta, kasim...</td>\n",
       "      <td>[giat bagi kolaborasi luring negeri kasimbar, ...</td>\n",
       "    </tr>\n",
       "    <tr>\n",
       "      <th>9</th>\n",
       "      <td>8</td>\n",
       "      <td>11</td>\n",
       "      <td>8_harga_madiun_sekolah_raih</td>\n",
       "      <td>[harga, madiun, sekolah, raih, baik, negeri, k...</td>\n",
       "      <td>[madiun terima harga kabupaten baik implementa...</td>\n",
       "    </tr>\n",
       "  </tbody>\n",
       "</table>\n",
       "</div>"
      ],
      "text/plain": [
       "   Topic  Count                                Name  \\\n",
       "0     -1    551      -1_ajar_merdeka_kurikulum_guru   \n",
       "1      0   1091          0_guru_hari_nasional_gerak   \n",
       "2      1    432     1_merdeka_ajar_kampus_kurikulum   \n",
       "3      2    257          2_budaya_seni_salam_kayana   \n",
       "4      3     52  3_kiamat_palestina_islam_palestine   \n",
       "5      4     32          4_bahasa_kosakata_yuk_satu   \n",
       "6      5     26          5_sejarah_enggak_dulu_ajar   \n",
       "7      6     13           6_natal_damai_moga_selalu   \n",
       "8      7     11        7_kolaborasi_bagi_jambi_hepi   \n",
       "9      8     11         8_harga_madiun_sekolah_raih   \n",
       "\n",
       "                                      Representation  \\\n",
       "0  [ajar, merdeka, kurikulum, guru, indonesia, sa...   \n",
       "1  [guru, hari, nasional, gerak, selamat, raya, s...   \n",
       "2  [merdeka, ajar, kampus, kurikulum, program, ma...   \n",
       "3  [budaya, seni, salam, kayana, indonesia, pukul...   \n",
       "4  [kiamat, palestina, islam, palestine, agama, m...   \n",
       "5  [bahasa, kosakata, yuk, satu, revitalisasi, mb...   \n",
       "6  [sejarah, enggak, dulu, ajar, merdeka, rakyat,...   \n",
       "7  [natal, damai, moga, selalu, selamat, desember...   \n",
       "8  [kolaborasi, bagi, jambi, hepi, untirta, kasim...   \n",
       "9  [harga, madiun, sekolah, raih, baik, negeri, k...   \n",
       "\n",
       "                                 Representative_Docs  \n",
       "0  [ingat hari guru nasional jadi ruang apresiasi...  \n",
       "1  [selamat hari guru nasional gerak sama raya me...  \n",
       "2  [hai sobat bsi rangka implementasi  merdeka aj...  \n",
       "3  [kayana yuk saksi seru tayang ragam budaya ind...  \n",
       "4  [simak kunci jawab soal sumatif mata ajar mape...  \n",
       "5  [halo satu bahasa daerah revitalisasi kalimant...  \n",
       "6  [kesi moyang mati lawan british nak merdeka de...  \n",
       "7  [segenap pimpin civitas akademika politeknik k...  \n",
       "8  [giat bagi kolaborasi luring negeri kasimbar, ...  \n",
       "9  [madiun terima harga kabupaten baik implementa...  "
      ]
     },
     "metadata": {},
     "output_type": "display_data"
    },
    {
     "name": "stdout",
     "output_type": "stream",
     "text": [
      "\n",
      "Period: 2024Q1\n"
     ]
    },
    {
     "data": {
      "text/html": [
       "<div>\n",
       "<style scoped>\n",
       "    .dataframe tbody tr th:only-of-type {\n",
       "        vertical-align: middle;\n",
       "    }\n",
       "\n",
       "    .dataframe tbody tr th {\n",
       "        vertical-align: top;\n",
       "    }\n",
       "\n",
       "    .dataframe thead th {\n",
       "        text-align: right;\n",
       "    }\n",
       "</style>\n",
       "<table border=\"1\" class=\"dataframe\">\n",
       "  <thead>\n",
       "    <tr style=\"text-align: right;\">\n",
       "      <th></th>\n",
       "      <th>Topic</th>\n",
       "      <th>Count</th>\n",
       "      <th>Name</th>\n",
       "      <th>Representation</th>\n",
       "      <th>Representative_Docs</th>\n",
       "    </tr>\n",
       "  </thead>\n",
       "  <tbody>\n",
       "    <tr>\n",
       "      <th>0</th>\n",
       "      <td>-1</td>\n",
       "      <td>500</td>\n",
       "      <td>-1_ajar_merdeka_program_sekolah</td>\n",
       "      <td>[ajar, merdeka, program, sekolah, gera, kuriku...</td>\n",
       "      <td>[lang sama gera merdeka ajar wujud harap masa ...</td>\n",
       "    </tr>\n",
       "    <tr>\n",
       "      <th>1</th>\n",
       "      <td>0</td>\n",
       "      <td>226</td>\n",
       "      <td>0_kurikulum_guru_ajar_enggak</td>\n",
       "      <td>[kurikulum, guru, ajar, enggak, merdeka, siswa...</td>\n",
       "      <td>[yaallah jujur pas ajar kurikulum gue benar sa...</td>\n",
       "    </tr>\n",
       "    <tr>\n",
       "      <th>2</th>\n",
       "      <td>1</td>\n",
       "      <td>212</td>\n",
       "      <td>1_indonesia_gera_ajar_merdeka</td>\n",
       "      <td>[indonesia, gera, ajar, merdeka, harap, maju, ...</td>\n",
       "      <td>[gera merdeka ajar indonesia terus lebih tingk...</td>\n",
       "    </tr>\n",
       "    <tr>\n",
       "      <th>3</th>\n",
       "      <td>2</td>\n",
       "      <td>160</td>\n",
       "      <td>2_ajar_merdeka_gera_harap</td>\n",
       "      <td>[ajar, merdeka, gera, harap, depan, lebih, mas...</td>\n",
       "      <td>[gera merdeka ajar memang jadi harap besar mas...</td>\n",
       "    </tr>\n",
       "    <tr>\n",
       "      <th>4</th>\n",
       "      <td>3</td>\n",
       "      <td>154</td>\n",
       "      <td>3_kampus_program_mahasiswa_merdeka</td>\n",
       "      <td>[kampus, program, mahasiswa, merdeka, mbkm, aj...</td>\n",
       "      <td>[terus komitmen dukung program prioritas salah...</td>\n",
       "    </tr>\n",
       "    <tr>\n",
       "      <th>5</th>\n",
       "      <td>4</td>\n",
       "      <td>91</td>\n",
       "      <td>4_merdeka_ajar_harap_gera</td>\n",
       "      <td>[merdeka, ajar, harap, gera, depan, kedepannya...</td>\n",
       "      <td>[gera merdeka ajar harap merdeka ajar depan, g...</td>\n",
       "    </tr>\n",
       "    <tr>\n",
       "      <th>6</th>\n",
       "      <td>5</td>\n",
       "      <td>79</td>\n",
       "      <td>5_yuk_simak_hari_konten</td>\n",
       "      <td>[yuk, simak, hari, konten, sama, tampil, bahas...</td>\n",
       "      <td>[konten kosakata panjang bahasa sasak samawa m...</td>\n",
       "    </tr>\n",
       "    <tr>\n",
       "      <th>7</th>\n",
       "      <td>6</td>\n",
       "      <td>59</td>\n",
       "      <td>6_seni_salam_budaya_isbi</td>\n",
       "      <td>[seni, salam, budaya, isbi, bandung, wargi, ba...</td>\n",
       "      <td>[yuk kenal fakultas budaya media fbm isbi band...</td>\n",
       "    </tr>\n",
       "    <tr>\n",
       "      <th>8</th>\n",
       "      <td>7</td>\n",
       "      <td>38</td>\n",
       "      <td>7_tahun_klaten_ganjar_selamat</td>\n",
       "      <td>[tahun, klaten, ganjar, selamat, warga, hari, ...</td>\n",
       "      <td>[ganjar pranowo sapa warga klaten hadir pesta ...</td>\n",
       "    </tr>\n",
       "    <tr>\n",
       "      <th>9</th>\n",
       "      <td>8</td>\n",
       "      <td>29</td>\n",
       "      <td>8_video_lomba_youtube_demokrasi</td>\n",
       "      <td>[video, lomba, youtube, demokrasi, merdeka, ro...</td>\n",
       "      <td>[beri hadiah lomba video merdeka ajar selamat ...</td>\n",
       "    </tr>\n",
       "  </tbody>\n",
       "</table>\n",
       "</div>"
      ],
      "text/plain": [
       "   Topic  Count                                Name  \\\n",
       "0     -1    500     -1_ajar_merdeka_program_sekolah   \n",
       "1      0    226        0_kurikulum_guru_ajar_enggak   \n",
       "2      1    212       1_indonesia_gera_ajar_merdeka   \n",
       "3      2    160           2_ajar_merdeka_gera_harap   \n",
       "4      3    154  3_kampus_program_mahasiswa_merdeka   \n",
       "5      4     91           4_merdeka_ajar_harap_gera   \n",
       "6      5     79             5_yuk_simak_hari_konten   \n",
       "7      6     59            6_seni_salam_budaya_isbi   \n",
       "8      7     38       7_tahun_klaten_ganjar_selamat   \n",
       "9      8     29     8_video_lomba_youtube_demokrasi   \n",
       "\n",
       "                                      Representation  \\\n",
       "0  [ajar, merdeka, program, sekolah, gera, kuriku...   \n",
       "1  [kurikulum, guru, ajar, enggak, merdeka, siswa...   \n",
       "2  [indonesia, gera, ajar, merdeka, harap, maju, ...   \n",
       "3  [ajar, merdeka, gera, harap, depan, lebih, mas...   \n",
       "4  [kampus, program, mahasiswa, merdeka, mbkm, aj...   \n",
       "5  [merdeka, ajar, harap, gera, depan, kedepannya...   \n",
       "6  [yuk, simak, hari, konten, sama, tampil, bahas...   \n",
       "7  [seni, salam, budaya, isbi, bandung, wargi, ba...   \n",
       "8  [tahun, klaten, ganjar, selamat, warga, hari, ...   \n",
       "9  [video, lomba, youtube, demokrasi, merdeka, ro...   \n",
       "\n",
       "                                 Representative_Docs  \n",
       "0  [lang sama gera merdeka ajar wujud harap masa ...  \n",
       "1  [yaallah jujur pas ajar kurikulum gue benar sa...  \n",
       "2  [gera merdeka ajar indonesia terus lebih tingk...  \n",
       "3  [gera merdeka ajar memang jadi harap besar mas...  \n",
       "4  [terus komitmen dukung program prioritas salah...  \n",
       "5  [gera merdeka ajar harap merdeka ajar depan, g...  \n",
       "6  [konten kosakata panjang bahasa sasak samawa m...  \n",
       "7  [yuk kenal fakultas budaya media fbm isbi band...  \n",
       "8  [ganjar pranowo sapa warga klaten hadir pesta ...  \n",
       "9  [beri hadiah lomba video merdeka ajar selamat ...  "
      ]
     },
     "metadata": {},
     "output_type": "display_data"
    },
    {
     "name": "stdout",
     "output_type": "stream",
     "text": [
      "\n",
      "Period: 2024Q2\n"
     ]
    },
    {
     "data": {
      "text/html": [
       "<div>\n",
       "<style scoped>\n",
       "    .dataframe tbody tr th:only-of-type {\n",
       "        vertical-align: middle;\n",
       "    }\n",
       "\n",
       "    .dataframe tbody tr th {\n",
       "        vertical-align: top;\n",
       "    }\n",
       "\n",
       "    .dataframe thead th {\n",
       "        text-align: right;\n",
       "    }\n",
       "</style>\n",
       "<table border=\"1\" class=\"dataframe\">\n",
       "  <thead>\n",
       "    <tr style=\"text-align: right;\">\n",
       "      <th></th>\n",
       "      <th>Topic</th>\n",
       "      <th>Count</th>\n",
       "      <th>Name</th>\n",
       "      <th>Representation</th>\n",
       "      <th>Representative_Docs</th>\n",
       "    </tr>\n",
       "  </thead>\n",
       "  <tbody>\n",
       "    <tr>\n",
       "      <th>0</th>\n",
       "      <td>-1</td>\n",
       "      <td>69</td>\n",
       "      <td>-1_merdeka_ajar_ikut_daftar</td>\n",
       "      <td>[merdeka, ajar, ikut, daftar, hadir, buat, kur...</td>\n",
       "      <td>[um fe kalo isi jurnal hari merdeka ajar siaka...</td>\n",
       "    </tr>\n",
       "    <tr>\n",
       "      <th>1</th>\n",
       "      <td>0</td>\n",
       "      <td>67</td>\n",
       "      <td>0_yuk_sama_hari_simak</td>\n",
       "      <td>[yuk, sama, hari, simak, lebaran, buku, merdek...</td>\n",
       "      <td>[hari tampil kutip sekaligus biografi singkat ...</td>\n",
       "    </tr>\n",
       "    <tr>\n",
       "      <th>2</th>\n",
       "      <td>1</td>\n",
       "      <td>17</td>\n",
       "      <td>1_jawab_post_test_platform</td>\n",
       "      <td>[jawab, post, test, platform, modul, kunci, aj...</td>\n",
       "      <td>[kunci jawab post test merdeka ajar modul  ant...</td>\n",
       "    </tr>\n",
       "    <tr>\n",
       "      <th>3</th>\n",
       "      <td>2</td>\n",
       "      <td>33</td>\n",
       "      <td>2_indonesia_merdeka_ajar_negara</td>\n",
       "      <td>[indonesia, merdeka, ajar, negara, dunia, seja...</td>\n",
       "      <td>[jalan panjang buah inovasi bidang  bawa indon...</td>\n",
       "    </tr>\n",
       "    <tr>\n",
       "      <th>4</th>\n",
       "      <td>3</td>\n",
       "      <td>13</td>\n",
       "      <td>3_kampus_mahasiswa_merdeka_angkat</td>\n",
       "      <td>[kampus, mahasiswa, merdeka, angkat, jadi, tuk...</td>\n",
       "      <td>[oif umsu terima kunjung tukar mahasiswa merde...</td>\n",
       "    </tr>\n",
       "    <tr>\n",
       "      <th>5</th>\n",
       "      <td>4</td>\n",
       "      <td>19</td>\n",
       "      <td>4_merdeka_ajar_gua_dunia</td>\n",
       "      <td>[merdeka, ajar, gua, dunia, bro, guncang, wing...</td>\n",
       "      <td>[merdeka ajar, merdeka ajar, sama tahir viral ...</td>\n",
       "    </tr>\n",
       "    <tr>\n",
       "      <th>6</th>\n",
       "      <td>5</td>\n",
       "      <td>57</td>\n",
       "      <td>5_ajar_merdeka_kurikulum_enggak</td>\n",
       "      <td>[ajar, merdeka, kurikulum, enggak, benar, jadi...</td>\n",
       "      <td>[sih masuk kurikulum merdeka ajar, hasil kurik...</td>\n",
       "    </tr>\n",
       "  </tbody>\n",
       "</table>\n",
       "</div>"
      ],
      "text/plain": [
       "   Topic  Count                               Name  \\\n",
       "0     -1     69        -1_merdeka_ajar_ikut_daftar   \n",
       "1      0     67              0_yuk_sama_hari_simak   \n",
       "2      1     17         1_jawab_post_test_platform   \n",
       "3      2     33    2_indonesia_merdeka_ajar_negara   \n",
       "4      3     13  3_kampus_mahasiswa_merdeka_angkat   \n",
       "5      4     19           4_merdeka_ajar_gua_dunia   \n",
       "6      5     57    5_ajar_merdeka_kurikulum_enggak   \n",
       "\n",
       "                                      Representation  \\\n",
       "0  [merdeka, ajar, ikut, daftar, hadir, buat, kur...   \n",
       "1  [yuk, sama, hari, simak, lebaran, buku, merdek...   \n",
       "2  [jawab, post, test, platform, modul, kunci, aj...   \n",
       "3  [indonesia, merdeka, ajar, negara, dunia, seja...   \n",
       "4  [kampus, mahasiswa, merdeka, angkat, jadi, tuk...   \n",
       "5  [merdeka, ajar, gua, dunia, bro, guncang, wing...   \n",
       "6  [ajar, merdeka, kurikulum, enggak, benar, jadi...   \n",
       "\n",
       "                                 Representative_Docs  \n",
       "0  [um fe kalo isi jurnal hari merdeka ajar siaka...  \n",
       "1  [hari tampil kutip sekaligus biografi singkat ...  \n",
       "2  [kunci jawab post test merdeka ajar modul  ant...  \n",
       "3  [jalan panjang buah inovasi bidang  bawa indon...  \n",
       "4  [oif umsu terima kunjung tukar mahasiswa merde...  \n",
       "5  [merdeka ajar, merdeka ajar, sama tahir viral ...  \n",
       "6  [sih masuk kurikulum merdeka ajar, hasil kurik...  "
      ]
     },
     "metadata": {},
     "output_type": "display_data"
    },
    {
     "name": "stdout",
     "output_type": "stream",
     "text": [
      "\n"
     ]
    }
   ],
   "source": [
    "for period, result in results.items():\n",
    "    print(f\"Period: {period}\")\n",
    "    display(result['model'].get_topic_info())\n",
    "    print()"
   ]
  },
  {
   "cell_type": "code",
   "execution_count": 8,
   "metadata": {},
   "outputs": [
    {
     "name": "stdout",
     "output_type": "stream",
     "text": [
      "Period: 2019Q4\n",
      "[('guru', 0.08517694201384238), ('ajar', 0.07364131219110379), ('merdeka', 0.06528279943316187), ('hari', 0.05180345093853399), ('program', 0.040913263195561066), ('selamat', 0.04031709486936009), ('nadiem', 0.0346369289650132), ('mendikbud', 0.03244633339491456), ('gerak', 0.0320838924990028), ('nasional', 0.03189649198685264)]\n",
      "\n",
      "Period: 2020Q1\n",
      "[('merdeka', 0.0723251950186973), ('ajar', 0.06855085761842135), ('kampus', 0.05866191780384118), ('guru', 0.05101645421165938), ('sekolah', 0.034015855768612664), ('nadiem', 0.03303618127965293), ('menteri', 0.030536673167625834), ('mendikbud', 0.029916015979020574), ('tinggi', 0.0218350156866603), ('program', 0.021602058868384746)]\n",
      "\n",
      "Period: 2020Q2\n",
      "[('merdeka', 0.08482326237000973), ('ajar', 0.07579508587475207), ('guru', 0.07458300842941852), ('kampus', 0.04839906898263946), ('jadi', 0.03762834154811363), ('sekolah', 0.034388668476263144), ('anak', 0.025951553801539184), ('murid', 0.02465808151796071), ('apa', 0.02037066115589145), ('orang', 0.019916243234913516)]\n",
      "\n",
      "Period: 2020Q3\n",
      "[('merdeka', 0.08462238933659988), ('ajar', 0.0831243816378042), ('sekolah', 0.03156363567449095), ('guru', 0.03022844637441109), ('kampus', 0.025708532343867545), ('ikut', 0.021836426495873248), ('rumah', 0.02089097198170104), ('apa', 0.020661578333105685), ('nadiem', 0.02005201670912145), ('kemendikbud', 0.01909712368062538)]\n",
      "\n",
      "Period: 2020Q4\n",
      "[('merdeka', 0.06861135133825579), ('guru', 0.06840972255217909), ('ajar', 0.06587667716275115), ('semangat', 0.060828598349202935), ('wujud', 0.06040120943493804), ('hari', 0.060137493021678), ('bangkit', 0.05965866266224857), ('nasional', 0.05855005239401387), ('selamat', 0.0568358824147085), ('november', 0.03135209107915496)]\n",
      "\n",
      "Period: 2021Q1\n",
      "[('indonesia', 0.04870099933201088), ('ajar', 0.04803088228072638), ('merdeka', 0.04374239120321849), ('hari', 0.037463828936603424), ('yuk', 0.03350075927673322), ('selamat', 0.03308246180018497), ('pagi', 0.028957269276288333), ('simak', 0.028916053917975602), ('luncur', 0.025503216914258636), ('jadwal', 0.024282039308707575)]\n",
      "\n",
      "Period: 2021Q2\n",
      "[('hari', 0.1113910388410673), ('nasional', 0.10936502857553439), ('selamat', 0.1037770905909816), ('serentak', 0.09437206436434023), ('wujud', 0.09378766338881736), ('gerak', 0.09293769077658705), ('ajar', 0.07340350007315656), ('mei', 0.06890126926362536), ('merdeka', 0.06775760221467135), ('ingat', 0.034334867261223354)]\n",
      "\n",
      "Period: 2021Q3\n",
      "[('merdeka', 0.07251763759595752), ('kampus', 0.06666198930058308), ('ajar', 0.06570433830859766), ('mahasiswa', 0.04296274236001078), ('program', 0.0429396274816988), ('vokasi', 0.031925819575761544), ('tinggi', 0.028267178624354468), ('sekolah', 0.025640559820854236), ('kerja', 0.022422119097770216), ('guru', 0.021677893458775594)]\n",
      "\n",
      "Period: 2021Q4\n",
      "[('merdeka', 0.08426552210357517), ('ajar', 0.08056579929830084), ('kampus', 0.06004366176851073), ('program', 0.04726907245872404), ('mahasiswa', 0.03132491432012723), ('guru', 0.03131812643726432), ('mbkm', 0.025912596255380293), ('kuliah', 0.02148178382169378), ('universitas', 0.021089074108217726), ('daftar', 0.020536237353564156)]\n",
      "\n",
      "Period: 2022Q1\n",
      "[('aku', 1.244832121392155), ('revisi', 0.4081622035588338), ('menang', 0.4081622035588338), ('datang', 0.38723776951898664), ('uji', 0.36335067255944536), ('ajar', 0.12298602251699356), ('merdeka', 0.1119652716443953), ('makin', 0.044016000402730876), ('kamu', 0.04268549804445174), ('ajang', 0.028813622084332382)]\n",
      "\n",
      "Period: 2022Q2\n",
      "[('merdeka', 0.08084162364854579), ('ajar', 0.07795977893752162), ('kurikulum', 0.046314651182923466), ('kampus', 0.03991030063667625), ('program', 0.038252989976864514), ('guru', 0.036352518925750386), ('mahasiswa', 0.027057672017755555), ('sekolah', 0.025037133205695786), ('mbkm', 0.024123481614418376), ('sama', 0.022315167119456192)]\n",
      "\n",
      "Period: 2022Q3\n",
      "[('merdeka', 0.07347945088932993), ('ajar', 0.06949596841478363), ('kampus', 0.042806756577659616), ('kurikulum', 0.04223991092569303), ('program', 0.03731031383652068), ('mahasiswa', 0.030034975855350733), ('guru', 0.026205635030077577), ('mbkm', 0.023292070467094497), ('baru', 0.021858749658876426), ('jadi', 0.020111000593757377)]\n",
      "\n",
      "Period: 2022Q4\n",
      "[('guru', 0.0966505678896429), ('inovasi', 0.09627764751374521), ('wujud', 0.09529713836920604), ('serentak', 0.09420359946886675), ('hari', 0.091778277255576), ('nasional', 0.09036653523395152), ('selamat', 0.08897404353586558), ('ajar', 0.06530826288294792), ('merdeka', 0.06349124861513544), ('ucap', 0.05715089830950361)]\n",
      "\n",
      "Period: 2023Q1\n",
      "[('merdeka', 0.08074653261947037), ('ajar', 0.07160334820154204), ('kampus', 0.05558211996790368), ('mahasiswa', 0.0479433801291603), ('program', 0.04022961950992151), ('kurikulum', 0.03694508334113665), ('sekolah', 0.027871138879948194), ('jadi', 0.026634281251788374), ('mbkm', 0.02626662105195486), ('guru', 0.025916318913536233)]\n",
      "\n",
      "Period: 2023Q2\n",
      "[('merdeka', 0.07369154020795135), ('ajar', 0.06897526975880133), ('kurikulum', 0.04905264825850244), ('kampus', 0.04082410416705063), ('program', 0.033737119582934516), ('mahasiswa', 0.029255524254955204), ('guru', 0.029160074405036165), ('jadi', 0.02244906307529741), ('mbkm', 0.022344414389930723), ('anugerah', 0.020753584861911166)]\n",
      "\n",
      "Period: 2023Q3\n",
      "[('indonesia', 0.07578173018868095), ('merdeka', 0.0664596540890178), ('kampus', 0.06298759461740297), ('mahasiswa', 0.050806764032457576), ('program', 0.05023732675429411), ('ajar', 0.04906194859069601), ('mbkm', 0.03968833227079396), ('universitas', 0.03299866165664039), ('budaya', 0.02367900541114633), ('magang', 0.02310285557078299)]\n",
      "\n",
      "Period: 2023Q4\n",
      "[('guru', 0.08098621584465367), ('hari', 0.07905856540695175), ('nasional', 0.07384404313024898), ('gerak', 0.07281818160587485), ('selamat', 0.0723364082309153), ('raya', 0.07146909913123786), ('sama', 0.07080404231974328), ('ajar', 0.05910599396452263), ('merdeka', 0.05887412862185126), ('ucap', 0.050805934413259715)]\n",
      "\n",
      "Period: 2024Q1\n",
      "[('kurikulum', 0.07906266682917806), ('guru', 0.07192090074674756), ('ajar', 0.05743273545589257), ('enggak', 0.05478195997926799), ('merdeka', 0.051012567765928295), ('siswa', 0.030210269656670095), ('jadi', 0.029225459222254), ('gue', 0.026658598062298627), ('apa', 0.026658598062298627), ('kerja', 0.026613515346618422)]\n",
      "\n",
      "Period: 2024Q2\n",
      "[('yuk', 0.06505058172382167), ('sama', 0.06258188226233403), ('hari', 0.059902585466078136), ('simak', 0.04960320619949405), ('lebaran', 0.041630016125046784), ('buku', 0.04029215438163603), ('merdeka', 0.03931544620351464), ('ajar', 0.03922218580576918), ('selamat', 0.03921532831083795), ('raya', 0.03746708851038572)]\n",
      "\n"
     ]
    }
   ],
   "source": [
    "for period, result in results.items():\n",
    "    print(f\"Period: {period}\")\n",
    "    print(result['model'].get_topic(0))\n",
    "    print()"
   ]
  },
  {
   "cell_type": "code",
   "execution_count": 25,
   "metadata": {},
   "outputs": [
    {
     "ename": "ValueError",
     "evalue": "Mime type rendering requires nbformat>=4.2.0 but it is not installed",
     "output_type": "error",
     "traceback": [
      "\u001b[1;31m---------------------------------------------------------------------------\u001b[0m",
      "\u001b[1;31mValueError\u001b[0m                                Traceback (most recent call last)",
      "Cell \u001b[1;32mIn[25], line 2\u001b[0m\n\u001b[0;32m      1\u001b[0m \u001b[38;5;28;01mfor\u001b[39;00m period, result \u001b[38;5;129;01min\u001b[39;00m results\u001b[38;5;241m.\u001b[39mitems():\n\u001b[1;32m----> 2\u001b[0m     fig \u001b[38;5;241m=\u001b[39m \u001b[43mresult\u001b[49m\u001b[43m[\u001b[49m\u001b[38;5;124;43m'\u001b[39;49m\u001b[38;5;124;43mmodel\u001b[39;49m\u001b[38;5;124;43m'\u001b[39;49m\u001b[43m]\u001b[49m\u001b[38;5;241;43m.\u001b[39;49m\u001b[43mvisualize_hierarchy\u001b[49m\u001b[43m(\u001b[49m\u001b[43mtop_n_topics\u001b[49m\u001b[38;5;241;43m=\u001b[39;49m\u001b[38;5;241;43m10\u001b[39;49m\u001b[43m)\u001b[49m\u001b[38;5;241;43m.\u001b[39;49m\u001b[43mshow\u001b[49m\u001b[43m(\u001b[49m\u001b[43m)\u001b[49m\n\u001b[0;32m      3\u001b[0m     fig\u001b[38;5;241m.\u001b[39mupdate_layout(title_text\u001b[38;5;241m=\u001b[39m\u001b[38;5;124mf\u001b[39m\u001b[38;5;124m\"\u001b[39m\u001b[38;5;124mTopics Over Time for \u001b[39m\u001b[38;5;132;01m{\u001b[39;00mperiod\u001b[38;5;132;01m}\u001b[39;00m\u001b[38;5;124m\"\u001b[39m)\n\u001b[0;32m      4\u001b[0m     fig\u001b[38;5;241m.\u001b[39mshow()\n",
      "File \u001b[1;32mc:\\Users\\user\\anaconda3\\envs\\LDA\\Lib\\site-packages\\plotly\\basedatatypes.py:3410\u001b[0m, in \u001b[0;36mBaseFigure.show\u001b[1;34m(self, *args, **kwargs)\u001b[0m\n\u001b[0;32m   3377\u001b[0m \u001b[38;5;250m\u001b[39m\u001b[38;5;124;03m\"\"\"\u001b[39;00m\n\u001b[0;32m   3378\u001b[0m \u001b[38;5;124;03mShow a figure using either the default renderer(s) or the renderer(s)\u001b[39;00m\n\u001b[0;32m   3379\u001b[0m \u001b[38;5;124;03mspecified by the renderer argument\u001b[39;00m\n\u001b[1;32m   (...)\u001b[0m\n\u001b[0;32m   3406\u001b[0m \u001b[38;5;124;03mNone\u001b[39;00m\n\u001b[0;32m   3407\u001b[0m \u001b[38;5;124;03m\"\"\"\u001b[39;00m\n\u001b[0;32m   3408\u001b[0m \u001b[38;5;28;01mimport\u001b[39;00m \u001b[38;5;21;01mplotly\u001b[39;00m\u001b[38;5;21;01m.\u001b[39;00m\u001b[38;5;21;01mio\u001b[39;00m \u001b[38;5;28;01mas\u001b[39;00m \u001b[38;5;21;01mpio\u001b[39;00m\n\u001b[1;32m-> 3410\u001b[0m \u001b[38;5;28;01mreturn\u001b[39;00m \u001b[43mpio\u001b[49m\u001b[38;5;241;43m.\u001b[39;49m\u001b[43mshow\u001b[49m\u001b[43m(\u001b[49m\u001b[38;5;28;43mself\u001b[39;49m\u001b[43m,\u001b[49m\u001b[43m \u001b[49m\u001b[38;5;241;43m*\u001b[39;49m\u001b[43margs\u001b[49m\u001b[43m,\u001b[49m\u001b[43m \u001b[49m\u001b[38;5;241;43m*\u001b[39;49m\u001b[38;5;241;43m*\u001b[39;49m\u001b[43mkwargs\u001b[49m\u001b[43m)\u001b[49m\n",
      "File \u001b[1;32mc:\\Users\\user\\anaconda3\\envs\\LDA\\Lib\\site-packages\\plotly\\io\\_renderers.py:394\u001b[0m, in \u001b[0;36mshow\u001b[1;34m(fig, renderer, validate, **kwargs)\u001b[0m\n\u001b[0;32m    389\u001b[0m         \u001b[38;5;28;01mraise\u001b[39;00m \u001b[38;5;167;01mValueError\u001b[39;00m(\n\u001b[0;32m    390\u001b[0m             \u001b[38;5;124m\"\u001b[39m\u001b[38;5;124mMime type rendering requires ipython but it is not installed\u001b[39m\u001b[38;5;124m\"\u001b[39m\n\u001b[0;32m    391\u001b[0m         )\n\u001b[0;32m    393\u001b[0m     \u001b[38;5;28;01mif\u001b[39;00m \u001b[38;5;129;01mnot\u001b[39;00m nbformat \u001b[38;5;129;01mor\u001b[39;00m Version(nbformat\u001b[38;5;241m.\u001b[39m__version__) \u001b[38;5;241m<\u001b[39m Version(\u001b[38;5;124m\"\u001b[39m\u001b[38;5;124m4.2.0\u001b[39m\u001b[38;5;124m\"\u001b[39m):\n\u001b[1;32m--> 394\u001b[0m         \u001b[38;5;28;01mraise\u001b[39;00m \u001b[38;5;167;01mValueError\u001b[39;00m(\n\u001b[0;32m    395\u001b[0m             \u001b[38;5;124m\"\u001b[39m\u001b[38;5;124mMime type rendering requires nbformat>=4.2.0 but it is not installed\u001b[39m\u001b[38;5;124m\"\u001b[39m\n\u001b[0;32m    396\u001b[0m         )\n\u001b[0;32m    398\u001b[0m     ipython_display\u001b[38;5;241m.\u001b[39mdisplay(bundle, raw\u001b[38;5;241m=\u001b[39m\u001b[38;5;28;01mTrue\u001b[39;00m)\n\u001b[0;32m    400\u001b[0m \u001b[38;5;66;03m# external renderers\u001b[39;00m\n",
      "\u001b[1;31mValueError\u001b[0m: Mime type rendering requires nbformat>=4.2.0 but it is not installed"
     ]
    }
   ],
   "source": [
    "for period, result in results.items():\n",
    "    fig = result['model'].visualize_hierarchy(top_n_topics=10).show()\n",
    "    fig.update_layout(title_text=f\"Topics Over Time for {period}\")\n",
    "    fig.show()"
   ]
  },
  {
   "cell_type": "code",
   "execution_count": null,
   "metadata": {},
   "outputs": [],
   "source": []
  },
  {
   "cell_type": "code",
   "execution_count": 23,
   "metadata": {},
   "outputs": [
    {
     "name": "stdout",
     "output_type": "stream",
     "text": [
      "5.10.4\n"
     ]
    }
   ],
   "source": [
    "import nbformat\n",
    "\n",
    "print(nbformat.__version__)"
   ]
  },
  {
   "cell_type": "code",
   "execution_count": null,
   "metadata": {},
   "outputs": [
    {
     "data": {
      "application/vnd.plotly.v1+json": {
       "config": {
        "plotlyServerURL": "https://plot.ly"
       },
       "data": [
        {
         "hoverinfo": "text",
         "hovertext": [
          "<b>Topic 0</b><br>Words: empat, pokok, tetap, mendikbud, merdeka",
          "<b>Topic 0</b><br>Words: sebut, empat, merdeka, ajar, istilah",
          "<b>Topic 0</b><br>Words: tetap, empat, pokok, merdeka, mendikbud",
          "<b>Topic 0</b><br>Words: empat, lembar, tetap, pokok, merdeka"
         ],
         "marker": {
          "color": "#E69F00"
         },
         "mode": "lines",
         "name": "0_empat_pokok_tetap_merdeka",
         "type": "scatter",
         "x": [
          "2019-12-10T15:59:04+00:00",
          "2019-12-12T15:32:51.800000+00:00",
          "2019-12-14T15:06:39.600000+00:00",
          "2019-12-16T14:40:27.400000+00:00"
         ],
         "y": [
          17,
          4,
          2,
          1
         ]
        },
        {
         "hoverinfo": "text",
         "hovertext": [
          "<b>Topic 1</b><br>Words: teu, demo, agama, heula, mah",
          "<b>Topic 1</b><br>Words: pusat, puasa, indonesia, teliti, sehat",
          "<b>Topic 1</b><br>Words: sipil, masyarakat, konsolidasi, damai, organisasi",
          "<b>Topic 1</b><br>Words: indonesia, amp, masa, tvet, jangan",
          "<b>Topic 1</b><br>Words: andai, institusi, luar, biasa, buah",
          "<b>Topic 1</b><br>Words: latih, bnpb, doktrin, tni, pusdiklat",
          "<b>Topic 1</b><br>Words: indonesia, madrasah, diklat, tingkat, syarat",
          "<b>Topic 1</b><br>Words: indeks, indonesia, indak, produktivitas, kontribusi",
          "<b>Topic 1</b><br>Words: lima, indonesia, nadiem, kembang, makarim",
          "<b>Topic 1</b><br>Words: indonesia, teknik, mengakomodir, kembang, lulus",
          "<b>Topic 1</b><br>Words: indonesia, terimakasih, bapak, moga, semua",
          "<b>Topic 1</b><br>Words: kkni, indonesia, kerja, sektor, moga",
          "<b>Topic 1</b><br>Words: agama, ppt, download, kantor, menteri",
          "<b>Topic 1</b><br>Words: kaji, uii, hmi, sekretariat, eko",
          "<b>Topic 1</b><br>Words: dhanny, disabilitas, komunitas, prodi, sore",
          "<b>Topic 1</b><br>Words: ppp, perempuan, politik, pandan, aktif",
          "<b>Topic 1</b><br>Words: indonesia, presiden, makarim, nadiem, merdeka",
          "<b>Topic 1</b><br>Words: presiden, indonesia, rp, republik, wakil",
          "<b>Topic 1</b><br>Words: indonesia, kait, ajar, aekkanopan, khairil",
          "<b>Topic 1</b><br>Words: ketidakmampuan, polemik, baswedan, bukti, kerap",
          "<b>Topic 1</b><br>Words: muhammadiyah, universitas, laku, rektor, surakarta",
          "<b>Topic 1</b><br>Words: muhammadiyah, universitas, rt, kunjung, ums",
          "<b>Topic 1</b><br>Words: viii, denpasar, lldikti, auditorium, astawa",
          "<b>Topic 1</b><br>Words: satu, per, merderka, edumu, bahas",
          "<b>Topic 1</b><br>Words: mulus, jajah, indonesia, jabar, provinsi"
         ],
         "marker": {
          "color": "#56B4E9"
         },
         "mode": "lines",
         "name": "1_indonesia_nadiem_makarim_presiden",
         "type": "scatter",
         "x": [
          "2019-10-31T23:17:31.166000+00:00",
          "2019-11-03T00:16:55.800000+00:00",
          "2019-11-04T23:50:43.600000+00:00",
          "2019-11-06T23:24:31.400000+00:00",
          "2019-11-08T22:58:19.200000+00:00",
          "2019-11-10T22:32:07+00:00",
          "2019-11-12T22:05:54.800000+00:00",
          "2019-11-14T21:39:42.600000+00:00",
          "2019-11-16T21:13:30.400000+00:00",
          "2019-11-18T20:47:18.200000+00:00",
          "2019-11-22T19:54:53.800000+00:00",
          "2019-11-24T19:28:41.600000+00:00",
          "2019-11-26T19:02:29.400000+00:00",
          "2019-11-30T18:10:05+00:00",
          "2019-12-02T17:43:52.800000+00:00",
          "2019-12-06T16:51:28.400000+00:00",
          "2019-12-10T15:59:04+00:00",
          "2019-12-12T15:32:51.800000+00:00",
          "2019-12-14T15:06:39.600000+00:00",
          "2019-12-16T14:40:27.400000+00:00",
          "2019-12-18T14:14:15.200000+00:00",
          "2019-12-20T13:48:03+00:00",
          "2019-12-22T13:21:50.800000+00:00",
          "2019-12-24T12:55:38.600000+00:00",
          "2019-12-28T12:03:14.200000+00:00"
         ],
         "y": [
          2,
          3,
          1,
          5,
          1,
          1,
          6,
          2,
          6,
          4,
          3,
          2,
          1,
          1,
          1,
          2,
          16,
          4,
          3,
          3,
          3,
          1,
          1,
          1,
          5
         ]
        },
        {
         "hoverinfo": "text",
         "hovertext": [
          "<b>Topic 2</b><br>Words: podo, neh, karo, ki, mbok",
          "<b>Topic 2</b><br>Words: pra, muat, sertifikat, jangan, lihat",
          "<b>Topic 2</b><br>Words: kembang, mendikbud, nadiem, tempo, barong",
          "<b>Topic 2</b><br>Words: salam, kembang, adil, ingin, jauh",
          "<b>Topic 2</b><br>Words: percaya, pada, aku, negeri, pak",
          "<b>Topic 2</b><br>Words: tuang, bangsa, lepas, beberapa, maju",
          "<b>Topic 2</b><br>Words: lindung, gratis, individu, misal, lingkung",
          "<b>Topic 2</b><br>Words: nama, salah, satu, hapus, arah",
          "<b>Topic 2</b><br>Words: kembang, mendikbud, nadiem, jangan, gratis",
          "<b>Topic 2</b><br>Words: spp, gratis, jabar, konsep, sama",
          "<b>Topic 2</b><br>Words: kendung, uka, shaeffer, aktor, sheldon",
          "<b>Topic 2</b><br>Words: un, hapus, now, muda, janganjangan"
         ],
         "marker": {
          "color": "#009E73"
         },
         "mode": "lines",
         "name": "2_kembang_mendikbud_nadiem_jangan",
         "type": "scatter",
         "x": [
          "2019-11-10T22:32:07+00:00",
          "2019-11-14T21:39:42.600000+00:00",
          "2019-11-16T21:13:30.400000+00:00",
          "2019-11-20T20:21:06+00:00",
          "2019-11-22T19:54:53.800000+00:00",
          "2019-12-04T17:17:40.600000+00:00",
          "2019-12-06T16:51:28.400000+00:00",
          "2019-12-10T15:59:04+00:00",
          "2019-12-12T15:32:51.800000+00:00",
          "2019-12-16T14:40:27.400000+00:00",
          "2019-12-18T14:14:15.200000+00:00",
          "2019-12-20T13:48:03+00:00"
         ],
         "y": [
          1,
          1,
          8,
          2,
          1,
          1,
          1,
          1,
          1,
          1,
          1,
          1
         ]
        },
        {
         "hoverinfo": "text",
         "hovertext": [
          "<b>Topic 3</b><br>Words: by, lewat, tri, baru, tingkat",
          "<b>Topic 3</b><br>Words: kuesioner, danatau, untuksaat, siapa, mendiknas",
          "<b>Topic 3</b><br>Words: bapakibu, jawab, pilih, sesuai, kotak",
          "<b>Topic 3</b><br>Words: arena, lama, coba, jadi, uji",
          "<b>Topic 3</b><br>Words: misi, kuat, tambah, wujud, sdm",
          "<b>Topic 3</b><br>Words: hasil, moga, kembang, pak, mendikbud",
          "<b>Topic 3</b><br>Words: tentang, buat, efektif, sukses, usaha",
          "<b>Topic 3</b><br>Words: kpai, langkah, minta, cipta, nyata",
          "<b>Topic 3</b><br>Words: pastika, sebab, via, kritik, mang",
          "<b>Topic 3</b><br>Words: baru, jungkir, balik, siap, tri",
          "<b>Topic 3</b><br>Words: alir, kreatifitas, sukses, efektif, hapus",
          "<b>Topic 3</b><br>Words: tri, ganti, baru, siapa, kualahan",
          "<b>Topic 3</b><br>Words: gabung, padang, pariaman, tani, inggris",
          "<b>Topic 3</b><br>Words: idealis, putus, pengaruh, sangat, ambil",
          "<b>Topic 3</b><br>Words: pergunu, paket, ragu, mutu, tingkat",
          "<b>Topic 3</b><br>Words: zam, kritik, kalau, jual, air",
          "<b>Topic 3</b><br>Words: dospen, rancang, berat, bisnis, kapan"
         ],
         "marker": {
          "color": "#F0E442"
         },
         "mode": "lines",
         "name": "3_tri_baru_tingkat_kritik",
         "type": "scatter",
         "x": [
          "2019-10-31T23:17:31.166000+00:00",
          "2019-11-03T00:16:55.800000+00:00",
          "2019-11-04T23:50:43.600000+00:00",
          "2019-11-06T23:24:31.400000+00:00",
          "2019-11-12T22:05:54.800000+00:00",
          "2019-11-16T21:13:30.400000+00:00",
          "2019-11-22T19:54:53.800000+00:00",
          "2019-11-24T19:28:41.600000+00:00",
          "2019-11-28T18:36:17.200000+00:00",
          "2019-12-04T17:17:40.600000+00:00",
          "2019-12-10T15:59:04+00:00",
          "2019-12-12T15:32:51.800000+00:00",
          "2019-12-14T15:06:39.600000+00:00",
          "2019-12-16T14:40:27.400000+00:00",
          "2019-12-18T14:14:15.200000+00:00",
          "2019-12-22T13:21:50.800000+00:00",
          "2019-12-26T12:29:26.400000+00:00"
         ],
         "y": [
          1,
          1,
          1,
          2,
          1,
          1,
          1,
          2,
          1,
          1,
          3,
          2,
          2,
          1,
          1,
          1,
          1
         ]
        },
        {
         "hoverinfo": "text",
         "hovertext": [
          "<b>Topic 4</b><br>Words: psi, anggota, betul, dprd, libat",
          "<b>Topic 4</b><br>Words: hak, rakyat, cipta, anggar, dasar",
          "<b>Topic 4</b><br>Words: pisah, sekali, lembaga, banyak, itu",
          "<b>Topic 4</b><br>Words: bidikmisi, kemeristekdikti, miskin, paling, luas",
          "<b>Topic 4</b><br>Words: atur, negara, jalan, satu, faktor",
          "<b>Topic 4</b><br>Words: reporter, fik, gpla, dilema, suistanble",
          "<b>Topic 4</b><br>Words: suatu, rupa, sejarah, analis, presedur",
          "<b>Topic 4</b><br>Words: investasi, tingkat, wenang, rupa, daerah",
          "<b>Topic 4</b><br>Words: formasi, daftar, nilai, kimia, situasional",
          "<b>Topic 4</b><br>Words: analisis, paham, orangorang, masalah, perlu",
          "<b>Topic 4</b><br>Words: cyber, teori, fisik, era, integrasi",
          "<b>Topic 4</b><br>Words: analisis, lingkup, arah, negara, suatu",
          "<b>Topic 4</b><br>Words: politik, orangorang, isi, penting, dunia",
          "<b>Topic 4</b><br>Words: banyak, najelaa, shihab, deregulasi, pancasila",
          "<b>Topic 4</b><br>Words: inisiatif, detil, spirit, tantang, compliance",
          "<b>Topic 4</b><br>Words: gagasangagasan, digital, tabrak, infrastruktur, inkosistensi",
          "<b>Topic 4</b><br>Words: peduli, begitu, labil, politik, masalah",
          "<b>Topic 4</b><br>Words: inovatif, presentasi, likaliku, proposal, konpers",
          "<b>Topic 4</b><br>Words: koperasi, negara, sinergi, dobrak, muara",
          "<b>Topic 4</b><br>Words: sd, sama, prmslhn, mi, matkul",
          "<b>Topic 4</b><br>Words: mungkin, minimal, pangan, bisa, situ"
         ],
         "marker": {
          "color": "#D55E00"
         },
         "mode": "lines",
         "name": "4_analisis_negara_suatu_rakyat",
         "type": "scatter",
         "x": [
          "2019-10-31T23:17:31.166000+00:00",
          "2019-11-04T23:50:43.600000+00:00",
          "2019-11-06T23:24:31.400000+00:00",
          "2019-11-08T22:58:19.200000+00:00",
          "2019-11-10T22:32:07+00:00",
          "2019-11-14T21:39:42.600000+00:00",
          "2019-11-16T21:13:30.400000+00:00",
          "2019-11-18T20:47:18.200000+00:00",
          "2019-11-20T20:21:06+00:00",
          "2019-11-22T19:54:53.800000+00:00",
          "2019-11-26T19:02:29.400000+00:00",
          "2019-11-28T18:36:17.200000+00:00",
          "2019-12-02T17:43:52.800000+00:00",
          "2019-12-04T17:17:40.600000+00:00",
          "2019-12-06T16:51:28.400000+00:00",
          "2019-12-10T15:59:04+00:00",
          "2019-12-12T15:32:51.800000+00:00",
          "2019-12-16T14:40:27.400000+00:00",
          "2019-12-18T14:14:15.200000+00:00",
          "2019-12-20T13:48:03+00:00",
          "2019-12-26T12:29:26.400000+00:00"
         ],
         "y": [
          2,
          2,
          1,
          1,
          2,
          1,
          1,
          3,
          2,
          8,
          1,
          1,
          3,
          6,
          1,
          2,
          1,
          2,
          5,
          1,
          1
         ]
        },
        {
         "hoverinfo": "text",
         "hovertext": [
          "<b>Topic 5</b><br>Words: praktisi, sampai, soal, tak, kemendikbud",
          "<b>Topic 5</b><br>Words: guru, sekolah, tunggu, honorer, bangun",
          "<b>Topic 5</b><br>Words: dinamis, adaptif, guru, perangkat, sj",
          "<b>Topic 5</b><br>Words: makan, sedia, tambah, anak, sekolah",
          "<b>Topic 5</b><br>Words: pinker, tolak, anak, guru, enggak",
          "<b>Topic 5</b><br>Words: guru, milik, sejahtera, nonformal, kupang",
          "<b>Topic 5</b><br>Words: terus, kecil, punya, tak, manusia",
          "<b>Topic 5</b><br>Words: gumun, ndoro, murid, ganti, yuuuung",
          "<b>Topic 5</b><br>Words: guru, jadi, lebih, punya, rasa",
          "<b>Topic 5</b><br>Words: guru, instrument, tenaga, benar, ind",
          "<b>Topic 5</b><br>Words: iq, istimewa, miskonsepsi, tes, semester",
          "<b>Topic 5</b><br>Words: batas, padu, akademik, terampil, pandang",
          "<b>Topic 5</b><br>Words: arief, lorot, tambal, sulam, buku",
          "<b>Topic 5</b><br>Words: kurikulum, strategi, ahli, anak, bukan",
          "<b>Topic 5</b><br>Words: ganjar, jateng, pemkab, pranowo, taat",
          "<b>Topic 5</b><br>Words: ibu, orang, edukasi, sayang, cakap",
          "<b>Topic 5</b><br>Words: guru, mendikbud, tanggap, karakter, siswa",
          "<b>Topic 5</b><br>Words: ambil, dianalisa, timbul, aspek, matang",
          "<b>Topic 5</b><br>Words: pasar, guru, biar, kerja, saing",
          "<b>Topic 5</b><br>Words: guru, mesin, pengaruh, lembaga, tinggi",
          "<b>Topic 5</b><br>Words: garansi, mainmain, acap, miliar, mutlak",
          "<b>Topic 5</b><br>Words: buku, siswa, learning, ruang, feed",
          "<b>Topic 5</b><br>Words: mewah, akademik, dahulu, fasilitas, mohon"
         ],
         "marker": {
          "color": "#0072B2"
         },
         "mode": "lines",
         "name": "5_guru_anak_sekolah_jadi",
         "type": "scatter",
         "x": [
          "2019-11-03T00:16:55.800000+00:00",
          "2019-11-04T23:50:43.600000+00:00",
          "2019-11-06T23:24:31.400000+00:00",
          "2019-11-10T22:32:07+00:00",
          "2019-11-12T22:05:54.800000+00:00",
          "2019-11-16T21:13:30.400000+00:00",
          "2019-11-18T20:47:18.200000+00:00",
          "2019-11-20T20:21:06+00:00",
          "2019-11-22T19:54:53.800000+00:00",
          "2019-11-24T19:28:41.600000+00:00",
          "2019-11-26T19:02:29.400000+00:00",
          "2019-11-30T18:10:05+00:00",
          "2019-12-02T17:43:52.800000+00:00",
          "2019-12-04T17:17:40.600000+00:00",
          "2019-12-06T16:51:28.400000+00:00",
          "2019-12-08T16:25:16.200000+00:00",
          "2019-12-10T15:59:04+00:00",
          "2019-12-12T15:32:51.800000+00:00",
          "2019-12-16T14:40:27.400000+00:00",
          "2019-12-18T14:14:15.200000+00:00",
          "2019-12-20T13:48:03+00:00",
          "2019-12-24T12:55:38.600000+00:00",
          "2019-12-26T12:29:26.400000+00:00"
         ],
         "y": [
          1,
          5,
          2,
          1,
          2,
          2,
          2,
          1,
          6,
          9,
          2,
          1,
          2,
          5,
          1,
          1,
          6,
          1,
          3,
          3,
          1,
          2,
          1
         ]
        },
        {
         "hoverinfo": "text",
         "hovertext": [
          "<b>Topic 6</b><br>Words: humas, november, dpr, nadiem, prioritas",
          "<b>Topic 6</b><br>Words: kurikulum, kenal, ktsp, budaya, belum",
          "<b>Topic 6</b><br>Words: tinjau, ulang, perata, gubernur, harap",
          "<b>Topic 6</b><br>Words: kotakota, daerahdaerah, universal, pencil, sifat",
          "<b>Topic 6</b><br>Words: budaya, pokokpokok, pemikian, jombang, koordinasi",
          "<b>Topic 6</b><br>Words: benah, standar, dorong, ri, lanjut",
          "<b>Topic 6</b><br>Words: budaya, menteri, makarim, program, empat",
          "<b>Topic 6</b><br>Words: program, makarim, budaya, anwar, uji",
          "<b>Topic 6</b><br>Words: uji, program, nasional, budaya, empat",
          "<b>Topic 6</b><br>Words: dindik, surabaya, keluar, budaya, jumlah",
          "<b>Topic 6</b><br>Words: uji, program, nasional, budaya, lima"
         ],
         "marker": {
          "color": "#CC79A7"
         },
         "mode": "lines",
         "name": "6_budaya_menteri_program_makarim",
         "type": "scatter",
         "x": [
          "2019-11-16T21:13:30.400000+00:00",
          "2019-11-22T19:54:53.800000+00:00",
          "2019-11-24T19:28:41.600000+00:00",
          "2019-11-26T19:02:29.400000+00:00",
          "2019-12-02T17:43:52.800000+00:00",
          "2019-12-08T16:25:16.200000+00:00",
          "2019-12-10T15:59:04+00:00",
          "2019-12-12T15:32:51.800000+00:00",
          "2019-12-14T15:06:39.600000+00:00",
          "2019-12-16T14:40:27.400000+00:00",
          "2019-12-22T13:21:50.800000+00:00"
         ],
         "y": [
          1,
          1,
          1,
          1,
          1,
          1,
          13,
          3,
          2,
          1,
          2
         ]
        },
        {
         "hoverinfo": "text",
         "hovertext": [
          "<b>Topic 7</b><br>Words: wamen, karir, khayal, valid, sisi",
          "<b>Topic 7</b><br>Words: menteri, fadli, ganti, bidang, bukan",
          "<b>Topic 7</b><br>Words: lebih, formula, somplak, mentingin, ciri",
          "<b>Topic 7</b><br>Words: pak, baru, menteri, ubah, resah",
          "<b>Topic 7</b><br>Words: ganti, potret, gonta, kurikulum, dunia",
          "<b>Topic 7</b><br>Words: beda, lieur, ari, cepat, sadar",
          "<b>Topic 7</b><br>Words: sana, saring, benah, pr, bodoh",
          "<b>Topic 7</b><br>Words: menteri, ganti, enggak, baru, amp",
          "<b>Topic 7</b><br>Words: menteri, ganti, hilang, segar, sudah",
          "<b>Topic 7</b><br>Words: un, enggak, pak, hapus, menteri",
          "<b>Topic 7</b><br>Words: bgtulah, repot, ganti, bawah, paham",
          "<b>Topic 7</b><br>Words: un, enggak, hapus, senang, anakanak",
          "<b>Topic 7</b><br>Words: kapal, illegal, fishing, penasaran, tenggelam",
          "<b>Topic 7</b><br>Words: apabila, langgar, adu, macam, wewenang"
         ],
         "marker": {
          "color": "#E69F00"
         },
         "mode": "lines",
         "name": "7_menteri_un_enggak_pak",
         "type": "scatter",
         "x": [
          "2019-11-03T00:16:55.800000+00:00",
          "2019-11-06T23:24:31.400000+00:00",
          "2019-11-12T22:05:54.800000+00:00",
          "2019-11-24T19:28:41.600000+00:00",
          "2019-11-26T19:02:29.400000+00:00",
          "2019-12-04T17:17:40.600000+00:00",
          "2019-12-06T16:51:28.400000+00:00",
          "2019-12-10T15:59:04+00:00",
          "2019-12-12T15:32:51.800000+00:00",
          "2019-12-14T15:06:39.600000+00:00",
          "2019-12-16T14:40:27.400000+00:00",
          "2019-12-18T14:14:15.200000+00:00",
          "2019-12-22T13:21:50.800000+00:00",
          "2019-12-26T12:29:26.400000+00:00"
         ],
         "y": [
          1,
          4,
          1,
          4,
          1,
          1,
          1,
          3,
          2,
          10,
          1,
          2,
          1,
          1
         ]
        }
       ],
       "layout": {
        "height": 450,
        "hoverlabel": {
         "bgcolor": "white",
         "font": {
          "family": "Rockwell",
          "size": 16
         }
        },
        "legend": {
         "title": {
          "text": "<b>Global Topic Representation"
         }
        },
        "template": {
         "data": {
          "bar": [
           {
            "error_x": {
             "color": "rgb(36,36,36)"
            },
            "error_y": {
             "color": "rgb(36,36,36)"
            },
            "marker": {
             "line": {
              "color": "white",
              "width": 0.5
             },
             "pattern": {
              "fillmode": "overlay",
              "size": 10,
              "solidity": 0.2
             }
            },
            "type": "bar"
           }
          ],
          "barpolar": [
           {
            "marker": {
             "line": {
              "color": "white",
              "width": 0.5
             },
             "pattern": {
              "fillmode": "overlay",
              "size": 10,
              "solidity": 0.2
             }
            },
            "type": "barpolar"
           }
          ],
          "carpet": [
           {
            "aaxis": {
             "endlinecolor": "rgb(36,36,36)",
             "gridcolor": "white",
             "linecolor": "white",
             "minorgridcolor": "white",
             "startlinecolor": "rgb(36,36,36)"
            },
            "baxis": {
             "endlinecolor": "rgb(36,36,36)",
             "gridcolor": "white",
             "linecolor": "white",
             "minorgridcolor": "white",
             "startlinecolor": "rgb(36,36,36)"
            },
            "type": "carpet"
           }
          ],
          "choropleth": [
           {
            "colorbar": {
             "outlinewidth": 1,
             "tickcolor": "rgb(36,36,36)",
             "ticks": "outside"
            },
            "type": "choropleth"
           }
          ],
          "contour": [
           {
            "colorbar": {
             "outlinewidth": 1,
             "tickcolor": "rgb(36,36,36)",
             "ticks": "outside"
            },
            "colorscale": [
             [
              0,
              "#440154"
             ],
             [
              0.1111111111111111,
              "#482878"
             ],
             [
              0.2222222222222222,
              "#3e4989"
             ],
             [
              0.3333333333333333,
              "#31688e"
             ],
             [
              0.4444444444444444,
              "#26828e"
             ],
             [
              0.5555555555555556,
              "#1f9e89"
             ],
             [
              0.6666666666666666,
              "#35b779"
             ],
             [
              0.7777777777777778,
              "#6ece58"
             ],
             [
              0.8888888888888888,
              "#b5de2b"
             ],
             [
              1,
              "#fde725"
             ]
            ],
            "type": "contour"
           }
          ],
          "contourcarpet": [
           {
            "colorbar": {
             "outlinewidth": 1,
             "tickcolor": "rgb(36,36,36)",
             "ticks": "outside"
            },
            "type": "contourcarpet"
           }
          ],
          "heatmap": [
           {
            "colorbar": {
             "outlinewidth": 1,
             "tickcolor": "rgb(36,36,36)",
             "ticks": "outside"
            },
            "colorscale": [
             [
              0,
              "#440154"
             ],
             [
              0.1111111111111111,
              "#482878"
             ],
             [
              0.2222222222222222,
              "#3e4989"
             ],
             [
              0.3333333333333333,
              "#31688e"
             ],
             [
              0.4444444444444444,
              "#26828e"
             ],
             [
              0.5555555555555556,
              "#1f9e89"
             ],
             [
              0.6666666666666666,
              "#35b779"
             ],
             [
              0.7777777777777778,
              "#6ece58"
             ],
             [
              0.8888888888888888,
              "#b5de2b"
             ],
             [
              1,
              "#fde725"
             ]
            ],
            "type": "heatmap"
           }
          ],
          "heatmapgl": [
           {
            "colorbar": {
             "outlinewidth": 1,
             "tickcolor": "rgb(36,36,36)",
             "ticks": "outside"
            },
            "colorscale": [
             [
              0,
              "#440154"
             ],
             [
              0.1111111111111111,
              "#482878"
             ],
             [
              0.2222222222222222,
              "#3e4989"
             ],
             [
              0.3333333333333333,
              "#31688e"
             ],
             [
              0.4444444444444444,
              "#26828e"
             ],
             [
              0.5555555555555556,
              "#1f9e89"
             ],
             [
              0.6666666666666666,
              "#35b779"
             ],
             [
              0.7777777777777778,
              "#6ece58"
             ],
             [
              0.8888888888888888,
              "#b5de2b"
             ],
             [
              1,
              "#fde725"
             ]
            ],
            "type": "heatmapgl"
           }
          ],
          "histogram": [
           {
            "marker": {
             "line": {
              "color": "white",
              "width": 0.6
             }
            },
            "type": "histogram"
           }
          ],
          "histogram2d": [
           {
            "colorbar": {
             "outlinewidth": 1,
             "tickcolor": "rgb(36,36,36)",
             "ticks": "outside"
            },
            "colorscale": [
             [
              0,
              "#440154"
             ],
             [
              0.1111111111111111,
              "#482878"
             ],
             [
              0.2222222222222222,
              "#3e4989"
             ],
             [
              0.3333333333333333,
              "#31688e"
             ],
             [
              0.4444444444444444,
              "#26828e"
             ],
             [
              0.5555555555555556,
              "#1f9e89"
             ],
             [
              0.6666666666666666,
              "#35b779"
             ],
             [
              0.7777777777777778,
              "#6ece58"
             ],
             [
              0.8888888888888888,
              "#b5de2b"
             ],
             [
              1,
              "#fde725"
             ]
            ],
            "type": "histogram2d"
           }
          ],
          "histogram2dcontour": [
           {
            "colorbar": {
             "outlinewidth": 1,
             "tickcolor": "rgb(36,36,36)",
             "ticks": "outside"
            },
            "colorscale": [
             [
              0,
              "#440154"
             ],
             [
              0.1111111111111111,
              "#482878"
             ],
             [
              0.2222222222222222,
              "#3e4989"
             ],
             [
              0.3333333333333333,
              "#31688e"
             ],
             [
              0.4444444444444444,
              "#26828e"
             ],
             [
              0.5555555555555556,
              "#1f9e89"
             ],
             [
              0.6666666666666666,
              "#35b779"
             ],
             [
              0.7777777777777778,
              "#6ece58"
             ],
             [
              0.8888888888888888,
              "#b5de2b"
             ],
             [
              1,
              "#fde725"
             ]
            ],
            "type": "histogram2dcontour"
           }
          ],
          "mesh3d": [
           {
            "colorbar": {
             "outlinewidth": 1,
             "tickcolor": "rgb(36,36,36)",
             "ticks": "outside"
            },
            "type": "mesh3d"
           }
          ],
          "parcoords": [
           {
            "line": {
             "colorbar": {
              "outlinewidth": 1,
              "tickcolor": "rgb(36,36,36)",
              "ticks": "outside"
             }
            },
            "type": "parcoords"
           }
          ],
          "pie": [
           {
            "automargin": true,
            "type": "pie"
           }
          ],
          "scatter": [
           {
            "fillpattern": {
             "fillmode": "overlay",
             "size": 10,
             "solidity": 0.2
            },
            "type": "scatter"
           }
          ],
          "scatter3d": [
           {
            "line": {
             "colorbar": {
              "outlinewidth": 1,
              "tickcolor": "rgb(36,36,36)",
              "ticks": "outside"
             }
            },
            "marker": {
             "colorbar": {
              "outlinewidth": 1,
              "tickcolor": "rgb(36,36,36)",
              "ticks": "outside"
             }
            },
            "type": "scatter3d"
           }
          ],
          "scattercarpet": [
           {
            "marker": {
             "colorbar": {
              "outlinewidth": 1,
              "tickcolor": "rgb(36,36,36)",
              "ticks": "outside"
             }
            },
            "type": "scattercarpet"
           }
          ],
          "scattergeo": [
           {
            "marker": {
             "colorbar": {
              "outlinewidth": 1,
              "tickcolor": "rgb(36,36,36)",
              "ticks": "outside"
             }
            },
            "type": "scattergeo"
           }
          ],
          "scattergl": [
           {
            "marker": {
             "colorbar": {
              "outlinewidth": 1,
              "tickcolor": "rgb(36,36,36)",
              "ticks": "outside"
             }
            },
            "type": "scattergl"
           }
          ],
          "scattermapbox": [
           {
            "marker": {
             "colorbar": {
              "outlinewidth": 1,
              "tickcolor": "rgb(36,36,36)",
              "ticks": "outside"
             }
            },
            "type": "scattermapbox"
           }
          ],
          "scatterpolar": [
           {
            "marker": {
             "colorbar": {
              "outlinewidth": 1,
              "tickcolor": "rgb(36,36,36)",
              "ticks": "outside"
             }
            },
            "type": "scatterpolar"
           }
          ],
          "scatterpolargl": [
           {
            "marker": {
             "colorbar": {
              "outlinewidth": 1,
              "tickcolor": "rgb(36,36,36)",
              "ticks": "outside"
             }
            },
            "type": "scatterpolargl"
           }
          ],
          "scatterternary": [
           {
            "marker": {
             "colorbar": {
              "outlinewidth": 1,
              "tickcolor": "rgb(36,36,36)",
              "ticks": "outside"
             }
            },
            "type": "scatterternary"
           }
          ],
          "surface": [
           {
            "colorbar": {
             "outlinewidth": 1,
             "tickcolor": "rgb(36,36,36)",
             "ticks": "outside"
            },
            "colorscale": [
             [
              0,
              "#440154"
             ],
             [
              0.1111111111111111,
              "#482878"
             ],
             [
              0.2222222222222222,
              "#3e4989"
             ],
             [
              0.3333333333333333,
              "#31688e"
             ],
             [
              0.4444444444444444,
              "#26828e"
             ],
             [
              0.5555555555555556,
              "#1f9e89"
             ],
             [
              0.6666666666666666,
              "#35b779"
             ],
             [
              0.7777777777777778,
              "#6ece58"
             ],
             [
              0.8888888888888888,
              "#b5de2b"
             ],
             [
              1,
              "#fde725"
             ]
            ],
            "type": "surface"
           }
          ],
          "table": [
           {
            "cells": {
             "fill": {
              "color": "rgb(237,237,237)"
             },
             "line": {
              "color": "white"
             }
            },
            "header": {
             "fill": {
              "color": "rgb(217,217,217)"
             },
             "line": {
              "color": "white"
             }
            },
            "type": "table"
           }
          ]
         },
         "layout": {
          "annotationdefaults": {
           "arrowhead": 0,
           "arrowwidth": 1
          },
          "autotypenumbers": "strict",
          "coloraxis": {
           "colorbar": {
            "outlinewidth": 1,
            "tickcolor": "rgb(36,36,36)",
            "ticks": "outside"
           }
          },
          "colorscale": {
           "diverging": [
            [
             0,
             "rgb(103,0,31)"
            ],
            [
             0.1,
             "rgb(178,24,43)"
            ],
            [
             0.2,
             "rgb(214,96,77)"
            ],
            [
             0.3,
             "rgb(244,165,130)"
            ],
            [
             0.4,
             "rgb(253,219,199)"
            ],
            [
             0.5,
             "rgb(247,247,247)"
            ],
            [
             0.6,
             "rgb(209,229,240)"
            ],
            [
             0.7,
             "rgb(146,197,222)"
            ],
            [
             0.8,
             "rgb(67,147,195)"
            ],
            [
             0.9,
             "rgb(33,102,172)"
            ],
            [
             1,
             "rgb(5,48,97)"
            ]
           ],
           "sequential": [
            [
             0,
             "#440154"
            ],
            [
             0.1111111111111111,
             "#482878"
            ],
            [
             0.2222222222222222,
             "#3e4989"
            ],
            [
             0.3333333333333333,
             "#31688e"
            ],
            [
             0.4444444444444444,
             "#26828e"
            ],
            [
             0.5555555555555556,
             "#1f9e89"
            ],
            [
             0.6666666666666666,
             "#35b779"
            ],
            [
             0.7777777777777778,
             "#6ece58"
            ],
            [
             0.8888888888888888,
             "#b5de2b"
            ],
            [
             1,
             "#fde725"
            ]
           ],
           "sequentialminus": [
            [
             0,
             "#440154"
            ],
            [
             0.1111111111111111,
             "#482878"
            ],
            [
             0.2222222222222222,
             "#3e4989"
            ],
            [
             0.3333333333333333,
             "#31688e"
            ],
            [
             0.4444444444444444,
             "#26828e"
            ],
            [
             0.5555555555555556,
             "#1f9e89"
            ],
            [
             0.6666666666666666,
             "#35b779"
            ],
            [
             0.7777777777777778,
             "#6ece58"
            ],
            [
             0.8888888888888888,
             "#b5de2b"
            ],
            [
             1,
             "#fde725"
            ]
           ]
          },
          "colorway": [
           "#1F77B4",
           "#FF7F0E",
           "#2CA02C",
           "#D62728",
           "#9467BD",
           "#8C564B",
           "#E377C2",
           "#7F7F7F",
           "#BCBD22",
           "#17BECF"
          ],
          "font": {
           "color": "rgb(36,36,36)"
          },
          "geo": {
           "bgcolor": "white",
           "lakecolor": "white",
           "landcolor": "white",
           "showlakes": true,
           "showland": true,
           "subunitcolor": "white"
          },
          "hoverlabel": {
           "align": "left"
          },
          "hovermode": "closest",
          "mapbox": {
           "style": "light"
          },
          "paper_bgcolor": "white",
          "plot_bgcolor": "white",
          "polar": {
           "angularaxis": {
            "gridcolor": "rgb(232,232,232)",
            "linecolor": "rgb(36,36,36)",
            "showgrid": false,
            "showline": true,
            "ticks": "outside"
           },
           "bgcolor": "white",
           "radialaxis": {
            "gridcolor": "rgb(232,232,232)",
            "linecolor": "rgb(36,36,36)",
            "showgrid": false,
            "showline": true,
            "ticks": "outside"
           }
          },
          "scene": {
           "xaxis": {
            "backgroundcolor": "white",
            "gridcolor": "rgb(232,232,232)",
            "gridwidth": 2,
            "linecolor": "rgb(36,36,36)",
            "showbackground": true,
            "showgrid": false,
            "showline": true,
            "ticks": "outside",
            "zeroline": false,
            "zerolinecolor": "rgb(36,36,36)"
           },
           "yaxis": {
            "backgroundcolor": "white",
            "gridcolor": "rgb(232,232,232)",
            "gridwidth": 2,
            "linecolor": "rgb(36,36,36)",
            "showbackground": true,
            "showgrid": false,
            "showline": true,
            "ticks": "outside",
            "zeroline": false,
            "zerolinecolor": "rgb(36,36,36)"
           },
           "zaxis": {
            "backgroundcolor": "white",
            "gridcolor": "rgb(232,232,232)",
            "gridwidth": 2,
            "linecolor": "rgb(36,36,36)",
            "showbackground": true,
            "showgrid": false,
            "showline": true,
            "ticks": "outside",
            "zeroline": false,
            "zerolinecolor": "rgb(36,36,36)"
           }
          },
          "shapedefaults": {
           "fillcolor": "black",
           "line": {
            "width": 0
           },
           "opacity": 0.3
          },
          "ternary": {
           "aaxis": {
            "gridcolor": "rgb(232,232,232)",
            "linecolor": "rgb(36,36,36)",
            "showgrid": false,
            "showline": true,
            "ticks": "outside"
           },
           "baxis": {
            "gridcolor": "rgb(232,232,232)",
            "linecolor": "rgb(36,36,36)",
            "showgrid": false,
            "showline": true,
            "ticks": "outside"
           },
           "bgcolor": "white",
           "caxis": {
            "gridcolor": "rgb(232,232,232)",
            "linecolor": "rgb(36,36,36)",
            "showgrid": false,
            "showline": true,
            "ticks": "outside"
           }
          },
          "title": {
           "x": 0.05
          },
          "xaxis": {
           "automargin": true,
           "gridcolor": "rgb(232,232,232)",
           "linecolor": "rgb(36,36,36)",
           "showgrid": false,
           "showline": true,
           "ticks": "outside",
           "title": {
            "standoff": 15
           },
           "zeroline": false,
           "zerolinecolor": "rgb(36,36,36)"
          },
          "yaxis": {
           "automargin": true,
           "gridcolor": "rgb(232,232,232)",
           "linecolor": "rgb(36,36,36)",
           "showgrid": false,
           "showline": true,
           "ticks": "outside",
           "title": {
            "standoff": 15
           },
           "zeroline": false,
           "zerolinecolor": "rgb(36,36,36)"
          }
         }
        },
        "title": {
         "font": {
          "color": "Black",
          "size": 22
         },
         "text": "Topics Over Time for 2019Q4",
         "x": 0.4,
         "xanchor": "center",
         "y": 0.95,
         "yanchor": "top"
        },
        "width": 1250,
        "xaxis": {
         "showgrid": true
        },
        "yaxis": {
         "showgrid": true,
         "title": {
          "text": "Frequency"
         }
        }
       }
      }
     },
     "metadata": {},
     "output_type": "display_data"
    },
    {
     "data": {
      "application/vnd.plotly.v1+json": {
       "config": {
        "plotlyServerURL": "https://plot.ly"
       },
       "data": [
        {
         "hoverinfo": "text",
         "hovertext": [
          "<b>Topic 0</b><br>Words: islam, buku, minta, cegah, pemda",
          "<b>Topic 0</b><br>Words: islam, orde, analisa, belanda, jepang",
          "<b>Topic 0</b><br>Words: islam, minta, cegah, pemda, ikut",
          "<b>Topic 0</b><br>Words: islam, minta, cegah, pemda, ikut"
         ],
         "marker": {
          "color": "#E69F00"
         },
         "mode": "lines",
         "name": "0_islam_minta_cegah_pemda",
         "type": "scatter",
         "x": [
          "2020-02-03T13:02:07+00:00",
          "2020-02-21T06:30:31+00:00",
          "2020-03-12T22:53:39+00:00",
          "2020-03-15T21:48:23+00:00"
         ],
         "y": [
          1,
          1,
          13,
          12
         ]
        },
        {
         "hoverinfo": "text",
         "hovertext": [
          "<b>Topic 1</b><br>Words: integrasi, kemendikbud, ubah, sinkron, jalur",
          "<b>Topic 1</b><br>Words: malaysia, mundur, kritik, habis, menteri",
          "<b>Topic 1</b><br>Words: menteri, sekolah, jateng, ajar, merdeka",
          "<b>Topic 1</b><br>Words: anies, banyak, anggar, ibu, bapak",
          "<b>Topic 1</b><br>Words: jago, formal, ilmu, arah, non",
          "<b>Topic 1</b><br>Words: anti, nadiem, lingkung, masuk, baru",
          "<b>Topic 1</b><br>Words: zonasi, kena, wapres, malang, dokter",
          "<b>Topic 1</b><br>Words: merdeka, ajar, kampus, luncur, nadiem",
          "<b>Topic 1</b><br>Words: tinggi, merdeka, kampus, nadiem, ajar",
          "<b>Topic 1</b><br>Words: kampus, merdeka, nadiem, makarim, menteri",
          "<b>Topic 1</b><br>Words: vokasi, nadiem, merdeka, menteri, kampus",
          "<b>Topic 1</b><br>Words: pangan, merdeka, ajar, nadiem, sekolah",
          "<b>Topic 1</b><br>Words: analisis, buku, merdeka, kampus, jadi",
          "<b>Topic 1</b><br>Words: menteri, dana, merdeka, sekolah, budaya",
          "<b>Topic 1</b><br>Words: jadi, sekolah, budaya, merdeka, ajar",
          "<b>Topic 1</b><br>Words: merdeka, nadiem, menteri, kampus, ajar",
          "<b>Topic 1</b><br>Words: bayar, spp, menteri, gojek, sekolah",
          "<b>Topic 1</b><br>Words: menteri, sekolah, me, get, know",
          "<b>Topic 1</b><br>Words: merdeka, menteri, kalau, kampus, buat",
          "<b>Topic 1</b><br>Words: sptv, isdianto, jombang, menyamaratakan, tahun",
          "<b>Topic 1</b><br>Words: merdeka, guru, ajar, sekolah, mang",
          "<b>Topic 1</b><br>Words: merdeka, kampus, semua, memasilitasi, bedah",
          "<b>Topic 1</b><br>Words: merdeka, asing, tak, kampus, pts",
          "<b>Topic 1</b><br>Words: libur, sekolah, balikpapan, perintah, paud",
          "<b>Topic 1</b><br>Words: libur, ajar, rumah, sekolah, perintah",
          "<b>Topic 1</b><br>Words: pasuruan, kota, guru, ajar, merdeka",
          "<b>Topic 1</b><br>Words: diy, daerah, ajar, sekolah, siswa",
          "<b>Topic 1</b><br>Words: covid, mendikbud, laksana, darurat, masa",
          "<b>Topic 1</b><br>Words: ajar, edar, surat, darurat, tahun"
         ],
         "marker": {
          "color": "#56B4E9"
         },
         "mode": "lines",
         "name": "1_merdeka_menteri_ajar_nadiem",
         "type": "scatter",
         "x": [
          "2020-01-01T22:52:24.480000+00:00",
          "2020-01-04T23:54:47+00:00",
          "2020-01-07T22:49:31+00:00",
          "2020-01-10T21:44:15+00:00",
          "2020-01-13T20:38:59+00:00",
          "2020-01-16T19:33:43+00:00",
          "2020-01-19T18:28:27+00:00",
          "2020-01-22T17:23:11+00:00",
          "2020-01-25T16:17:55+00:00",
          "2020-01-28T15:12:39+00:00",
          "2020-01-31T14:07:23+00:00",
          "2020-02-03T13:02:07+00:00",
          "2020-02-06T11:56:51+00:00",
          "2020-02-09T10:51:35+00:00",
          "2020-02-12T09:46:19+00:00",
          "2020-02-15T08:41:03+00:00",
          "2020-02-18T07:35:47+00:00",
          "2020-02-21T06:30:31+00:00",
          "2020-02-24T05:25:15+00:00",
          "2020-02-27T04:19:59+00:00",
          "2020-03-01T03:14:43+00:00",
          "2020-03-04T02:09:27+00:00",
          "2020-03-09T23:58:55+00:00",
          "2020-03-12T22:53:39+00:00",
          "2020-03-15T21:48:23+00:00",
          "2020-03-18T20:43:07+00:00",
          "2020-03-21T19:37:51+00:00",
          "2020-03-24T18:32:35+00:00",
          "2020-03-27T17:27:19+00:00"
         ],
         "y": [
          14,
          14,
          13,
          7,
          17,
          7,
          9,
          27,
          48,
          26,
          14,
          17,
          12,
          21,
          19,
          27,
          23,
          20,
          15,
          4,
          12,
          20,
          18,
          7,
          23,
          21,
          34,
          48,
          22
         ]
        },
        {
         "hoverinfo": "text",
         "hovertext": [
          "<b>Topic 2</b><br>Words: coronavirus, resmi, disease, se, nomor",
          "<b>Topic 2</b><br>Words: disease, darurat, masa, sebar, surat",
          "<b>Topic 2</b><br>Words: tahun, laksana, disease, darurat, masa"
         ],
         "marker": {
          "color": "#009E73"
         },
         "mode": "lines",
         "name": "2_disease_coronavirus_darurat_masa",
         "type": "scatter",
         "x": [
          "2020-03-21T19:37:51+00:00",
          "2020-03-24T18:32:35+00:00",
          "2020-03-27T17:27:19+00:00"
         ],
         "y": [
          7,
          5,
          1
         ]
        },
        {
         "hoverinfo": "text",
         "hovertext": [
          "<b>Topic 3</b><br>Words: rudi, batam, hendri, virus, apresiasi",
          "<b>Topic 3</b><br>Words: virus, corona, sebar, edar, covid",
          "<b>Topic 3</b><br>Words: virus, corona, tunda, sebar, perintah",
          "<b>Topic 3</b><br>Words: korona, perlu, sulam, azab, tambal",
          "<b>Topic 3</b><br>Words: virus, covid, sebar, corona, darurat",
          "<b>Topic 3</b><br>Words: virus, corona, sebar, covid, disease",
          "<b>Topic 3</b><br>Words: virus, corona, sebar, covid, darurat"
         ],
         "marker": {
          "color": "#F0E442"
         },
         "mode": "lines",
         "name": "3_virus_corona_sebar_covid",
         "type": "scatter",
         "x": [
          "2020-02-09T10:51:35+00:00",
          "2020-03-12T22:53:39+00:00",
          "2020-03-15T21:48:23+00:00",
          "2020-03-18T20:43:07+00:00",
          "2020-03-21T19:37:51+00:00",
          "2020-03-24T18:32:35+00:00",
          "2020-03-27T17:27:19+00:00"
         ],
         "y": [
          2,
          6,
          5,
          1,
          12,
          26,
          11
         ]
        }
       ],
       "layout": {
        "height": 450,
        "hoverlabel": {
         "bgcolor": "white",
         "font": {
          "family": "Rockwell",
          "size": 16
         }
        },
        "legend": {
         "title": {
          "text": "<b>Global Topic Representation"
         }
        },
        "template": {
         "data": {
          "bar": [
           {
            "error_x": {
             "color": "rgb(36,36,36)"
            },
            "error_y": {
             "color": "rgb(36,36,36)"
            },
            "marker": {
             "line": {
              "color": "white",
              "width": 0.5
             },
             "pattern": {
              "fillmode": "overlay",
              "size": 10,
              "solidity": 0.2
             }
            },
            "type": "bar"
           }
          ],
          "barpolar": [
           {
            "marker": {
             "line": {
              "color": "white",
              "width": 0.5
             },
             "pattern": {
              "fillmode": "overlay",
              "size": 10,
              "solidity": 0.2
             }
            },
            "type": "barpolar"
           }
          ],
          "carpet": [
           {
            "aaxis": {
             "endlinecolor": "rgb(36,36,36)",
             "gridcolor": "white",
             "linecolor": "white",
             "minorgridcolor": "white",
             "startlinecolor": "rgb(36,36,36)"
            },
            "baxis": {
             "endlinecolor": "rgb(36,36,36)",
             "gridcolor": "white",
             "linecolor": "white",
             "minorgridcolor": "white",
             "startlinecolor": "rgb(36,36,36)"
            },
            "type": "carpet"
           }
          ],
          "choropleth": [
           {
            "colorbar": {
             "outlinewidth": 1,
             "tickcolor": "rgb(36,36,36)",
             "ticks": "outside"
            },
            "type": "choropleth"
           }
          ],
          "contour": [
           {
            "colorbar": {
             "outlinewidth": 1,
             "tickcolor": "rgb(36,36,36)",
             "ticks": "outside"
            },
            "colorscale": [
             [
              0,
              "#440154"
             ],
             [
              0.1111111111111111,
              "#482878"
             ],
             [
              0.2222222222222222,
              "#3e4989"
             ],
             [
              0.3333333333333333,
              "#31688e"
             ],
             [
              0.4444444444444444,
              "#26828e"
             ],
             [
              0.5555555555555556,
              "#1f9e89"
             ],
             [
              0.6666666666666666,
              "#35b779"
             ],
             [
              0.7777777777777778,
              "#6ece58"
             ],
             [
              0.8888888888888888,
              "#b5de2b"
             ],
             [
              1,
              "#fde725"
             ]
            ],
            "type": "contour"
           }
          ],
          "contourcarpet": [
           {
            "colorbar": {
             "outlinewidth": 1,
             "tickcolor": "rgb(36,36,36)",
             "ticks": "outside"
            },
            "type": "contourcarpet"
           }
          ],
          "heatmap": [
           {
            "colorbar": {
             "outlinewidth": 1,
             "tickcolor": "rgb(36,36,36)",
             "ticks": "outside"
            },
            "colorscale": [
             [
              0,
              "#440154"
             ],
             [
              0.1111111111111111,
              "#482878"
             ],
             [
              0.2222222222222222,
              "#3e4989"
             ],
             [
              0.3333333333333333,
              "#31688e"
             ],
             [
              0.4444444444444444,
              "#26828e"
             ],
             [
              0.5555555555555556,
              "#1f9e89"
             ],
             [
              0.6666666666666666,
              "#35b779"
             ],
             [
              0.7777777777777778,
              "#6ece58"
             ],
             [
              0.8888888888888888,
              "#b5de2b"
             ],
             [
              1,
              "#fde725"
             ]
            ],
            "type": "heatmap"
           }
          ],
          "heatmapgl": [
           {
            "colorbar": {
             "outlinewidth": 1,
             "tickcolor": "rgb(36,36,36)",
             "ticks": "outside"
            },
            "colorscale": [
             [
              0,
              "#440154"
             ],
             [
              0.1111111111111111,
              "#482878"
             ],
             [
              0.2222222222222222,
              "#3e4989"
             ],
             [
              0.3333333333333333,
              "#31688e"
             ],
             [
              0.4444444444444444,
              "#26828e"
             ],
             [
              0.5555555555555556,
              "#1f9e89"
             ],
             [
              0.6666666666666666,
              "#35b779"
             ],
             [
              0.7777777777777778,
              "#6ece58"
             ],
             [
              0.8888888888888888,
              "#b5de2b"
             ],
             [
              1,
              "#fde725"
             ]
            ],
            "type": "heatmapgl"
           }
          ],
          "histogram": [
           {
            "marker": {
             "line": {
              "color": "white",
              "width": 0.6
             }
            },
            "type": "histogram"
           }
          ],
          "histogram2d": [
           {
            "colorbar": {
             "outlinewidth": 1,
             "tickcolor": "rgb(36,36,36)",
             "ticks": "outside"
            },
            "colorscale": [
             [
              0,
              "#440154"
             ],
             [
              0.1111111111111111,
              "#482878"
             ],
             [
              0.2222222222222222,
              "#3e4989"
             ],
             [
              0.3333333333333333,
              "#31688e"
             ],
             [
              0.4444444444444444,
              "#26828e"
             ],
             [
              0.5555555555555556,
              "#1f9e89"
             ],
             [
              0.6666666666666666,
              "#35b779"
             ],
             [
              0.7777777777777778,
              "#6ece58"
             ],
             [
              0.8888888888888888,
              "#b5de2b"
             ],
             [
              1,
              "#fde725"
             ]
            ],
            "type": "histogram2d"
           }
          ],
          "histogram2dcontour": [
           {
            "colorbar": {
             "outlinewidth": 1,
             "tickcolor": "rgb(36,36,36)",
             "ticks": "outside"
            },
            "colorscale": [
             [
              0,
              "#440154"
             ],
             [
              0.1111111111111111,
              "#482878"
             ],
             [
              0.2222222222222222,
              "#3e4989"
             ],
             [
              0.3333333333333333,
              "#31688e"
             ],
             [
              0.4444444444444444,
              "#26828e"
             ],
             [
              0.5555555555555556,
              "#1f9e89"
             ],
             [
              0.6666666666666666,
              "#35b779"
             ],
             [
              0.7777777777777778,
              "#6ece58"
             ],
             [
              0.8888888888888888,
              "#b5de2b"
             ],
             [
              1,
              "#fde725"
             ]
            ],
            "type": "histogram2dcontour"
           }
          ],
          "mesh3d": [
           {
            "colorbar": {
             "outlinewidth": 1,
             "tickcolor": "rgb(36,36,36)",
             "ticks": "outside"
            },
            "type": "mesh3d"
           }
          ],
          "parcoords": [
           {
            "line": {
             "colorbar": {
              "outlinewidth": 1,
              "tickcolor": "rgb(36,36,36)",
              "ticks": "outside"
             }
            },
            "type": "parcoords"
           }
          ],
          "pie": [
           {
            "automargin": true,
            "type": "pie"
           }
          ],
          "scatter": [
           {
            "fillpattern": {
             "fillmode": "overlay",
             "size": 10,
             "solidity": 0.2
            },
            "type": "scatter"
           }
          ],
          "scatter3d": [
           {
            "line": {
             "colorbar": {
              "outlinewidth": 1,
              "tickcolor": "rgb(36,36,36)",
              "ticks": "outside"
             }
            },
            "marker": {
             "colorbar": {
              "outlinewidth": 1,
              "tickcolor": "rgb(36,36,36)",
              "ticks": "outside"
             }
            },
            "type": "scatter3d"
           }
          ],
          "scattercarpet": [
           {
            "marker": {
             "colorbar": {
              "outlinewidth": 1,
              "tickcolor": "rgb(36,36,36)",
              "ticks": "outside"
             }
            },
            "type": "scattercarpet"
           }
          ],
          "scattergeo": [
           {
            "marker": {
             "colorbar": {
              "outlinewidth": 1,
              "tickcolor": "rgb(36,36,36)",
              "ticks": "outside"
             }
            },
            "type": "scattergeo"
           }
          ],
          "scattergl": [
           {
            "marker": {
             "colorbar": {
              "outlinewidth": 1,
              "tickcolor": "rgb(36,36,36)",
              "ticks": "outside"
             }
            },
            "type": "scattergl"
           }
          ],
          "scattermapbox": [
           {
            "marker": {
             "colorbar": {
              "outlinewidth": 1,
              "tickcolor": "rgb(36,36,36)",
              "ticks": "outside"
             }
            },
            "type": "scattermapbox"
           }
          ],
          "scatterpolar": [
           {
            "marker": {
             "colorbar": {
              "outlinewidth": 1,
              "tickcolor": "rgb(36,36,36)",
              "ticks": "outside"
             }
            },
            "type": "scatterpolar"
           }
          ],
          "scatterpolargl": [
           {
            "marker": {
             "colorbar": {
              "outlinewidth": 1,
              "tickcolor": "rgb(36,36,36)",
              "ticks": "outside"
             }
            },
            "type": "scatterpolargl"
           }
          ],
          "scatterternary": [
           {
            "marker": {
             "colorbar": {
              "outlinewidth": 1,
              "tickcolor": "rgb(36,36,36)",
              "ticks": "outside"
             }
            },
            "type": "scatterternary"
           }
          ],
          "surface": [
           {
            "colorbar": {
             "outlinewidth": 1,
             "tickcolor": "rgb(36,36,36)",
             "ticks": "outside"
            },
            "colorscale": [
             [
              0,
              "#440154"
             ],
             [
              0.1111111111111111,
              "#482878"
             ],
             [
              0.2222222222222222,
              "#3e4989"
             ],
             [
              0.3333333333333333,
              "#31688e"
             ],
             [
              0.4444444444444444,
              "#26828e"
             ],
             [
              0.5555555555555556,
              "#1f9e89"
             ],
             [
              0.6666666666666666,
              "#35b779"
             ],
             [
              0.7777777777777778,
              "#6ece58"
             ],
             [
              0.8888888888888888,
              "#b5de2b"
             ],
             [
              1,
              "#fde725"
             ]
            ],
            "type": "surface"
           }
          ],
          "table": [
           {
            "cells": {
             "fill": {
              "color": "rgb(237,237,237)"
             },
             "line": {
              "color": "white"
             }
            },
            "header": {
             "fill": {
              "color": "rgb(217,217,217)"
             },
             "line": {
              "color": "white"
             }
            },
            "type": "table"
           }
          ]
         },
         "layout": {
          "annotationdefaults": {
           "arrowhead": 0,
           "arrowwidth": 1
          },
          "autotypenumbers": "strict",
          "coloraxis": {
           "colorbar": {
            "outlinewidth": 1,
            "tickcolor": "rgb(36,36,36)",
            "ticks": "outside"
           }
          },
          "colorscale": {
           "diverging": [
            [
             0,
             "rgb(103,0,31)"
            ],
            [
             0.1,
             "rgb(178,24,43)"
            ],
            [
             0.2,
             "rgb(214,96,77)"
            ],
            [
             0.3,
             "rgb(244,165,130)"
            ],
            [
             0.4,
             "rgb(253,219,199)"
            ],
            [
             0.5,
             "rgb(247,247,247)"
            ],
            [
             0.6,
             "rgb(209,229,240)"
            ],
            [
             0.7,
             "rgb(146,197,222)"
            ],
            [
             0.8,
             "rgb(67,147,195)"
            ],
            [
             0.9,
             "rgb(33,102,172)"
            ],
            [
             1,
             "rgb(5,48,97)"
            ]
           ],
           "sequential": [
            [
             0,
             "#440154"
            ],
            [
             0.1111111111111111,
             "#482878"
            ],
            [
             0.2222222222222222,
             "#3e4989"
            ],
            [
             0.3333333333333333,
             "#31688e"
            ],
            [
             0.4444444444444444,
             "#26828e"
            ],
            [
             0.5555555555555556,
             "#1f9e89"
            ],
            [
             0.6666666666666666,
             "#35b779"
            ],
            [
             0.7777777777777778,
             "#6ece58"
            ],
            [
             0.8888888888888888,
             "#b5de2b"
            ],
            [
             1,
             "#fde725"
            ]
           ],
           "sequentialminus": [
            [
             0,
             "#440154"
            ],
            [
             0.1111111111111111,
             "#482878"
            ],
            [
             0.2222222222222222,
             "#3e4989"
            ],
            [
             0.3333333333333333,
             "#31688e"
            ],
            [
             0.4444444444444444,
             "#26828e"
            ],
            [
             0.5555555555555556,
             "#1f9e89"
            ],
            [
             0.6666666666666666,
             "#35b779"
            ],
            [
             0.7777777777777778,
             "#6ece58"
            ],
            [
             0.8888888888888888,
             "#b5de2b"
            ],
            [
             1,
             "#fde725"
            ]
           ]
          },
          "colorway": [
           "#1F77B4",
           "#FF7F0E",
           "#2CA02C",
           "#D62728",
           "#9467BD",
           "#8C564B",
           "#E377C2",
           "#7F7F7F",
           "#BCBD22",
           "#17BECF"
          ],
          "font": {
           "color": "rgb(36,36,36)"
          },
          "geo": {
           "bgcolor": "white",
           "lakecolor": "white",
           "landcolor": "white",
           "showlakes": true,
           "showland": true,
           "subunitcolor": "white"
          },
          "hoverlabel": {
           "align": "left"
          },
          "hovermode": "closest",
          "mapbox": {
           "style": "light"
          },
          "paper_bgcolor": "white",
          "plot_bgcolor": "white",
          "polar": {
           "angularaxis": {
            "gridcolor": "rgb(232,232,232)",
            "linecolor": "rgb(36,36,36)",
            "showgrid": false,
            "showline": true,
            "ticks": "outside"
           },
           "bgcolor": "white",
           "radialaxis": {
            "gridcolor": "rgb(232,232,232)",
            "linecolor": "rgb(36,36,36)",
            "showgrid": false,
            "showline": true,
            "ticks": "outside"
           }
          },
          "scene": {
           "xaxis": {
            "backgroundcolor": "white",
            "gridcolor": "rgb(232,232,232)",
            "gridwidth": 2,
            "linecolor": "rgb(36,36,36)",
            "showbackground": true,
            "showgrid": false,
            "showline": true,
            "ticks": "outside",
            "zeroline": false,
            "zerolinecolor": "rgb(36,36,36)"
           },
           "yaxis": {
            "backgroundcolor": "white",
            "gridcolor": "rgb(232,232,232)",
            "gridwidth": 2,
            "linecolor": "rgb(36,36,36)",
            "showbackground": true,
            "showgrid": false,
            "showline": true,
            "ticks": "outside",
            "zeroline": false,
            "zerolinecolor": "rgb(36,36,36)"
           },
           "zaxis": {
            "backgroundcolor": "white",
            "gridcolor": "rgb(232,232,232)",
            "gridwidth": 2,
            "linecolor": "rgb(36,36,36)",
            "showbackground": true,
            "showgrid": false,
            "showline": true,
            "ticks": "outside",
            "zeroline": false,
            "zerolinecolor": "rgb(36,36,36)"
           }
          },
          "shapedefaults": {
           "fillcolor": "black",
           "line": {
            "width": 0
           },
           "opacity": 0.3
          },
          "ternary": {
           "aaxis": {
            "gridcolor": "rgb(232,232,232)",
            "linecolor": "rgb(36,36,36)",
            "showgrid": false,
            "showline": true,
            "ticks": "outside"
           },
           "baxis": {
            "gridcolor": "rgb(232,232,232)",
            "linecolor": "rgb(36,36,36)",
            "showgrid": false,
            "showline": true,
            "ticks": "outside"
           },
           "bgcolor": "white",
           "caxis": {
            "gridcolor": "rgb(232,232,232)",
            "linecolor": "rgb(36,36,36)",
            "showgrid": false,
            "showline": true,
            "ticks": "outside"
           }
          },
          "title": {
           "x": 0.05
          },
          "xaxis": {
           "automargin": true,
           "gridcolor": "rgb(232,232,232)",
           "linecolor": "rgb(36,36,36)",
           "showgrid": false,
           "showline": true,
           "ticks": "outside",
           "title": {
            "standoff": 15
           },
           "zeroline": false,
           "zerolinecolor": "rgb(36,36,36)"
          },
          "yaxis": {
           "automargin": true,
           "gridcolor": "rgb(232,232,232)",
           "linecolor": "rgb(36,36,36)",
           "showgrid": false,
           "showline": true,
           "ticks": "outside",
           "title": {
            "standoff": 15
           },
           "zeroline": false,
           "zerolinecolor": "rgb(36,36,36)"
          }
         }
        },
        "title": {
         "font": {
          "color": "Black",
          "size": 22
         },
         "text": "Topics Over Time for 2020Q1",
         "x": 0.4,
         "xanchor": "center",
         "y": 0.95,
         "yanchor": "top"
        },
        "width": 1250,
        "xaxis": {
         "showgrid": true
        },
        "yaxis": {
         "showgrid": true,
         "title": {
          "text": "Frequency"
         }
        }
       }
      }
     },
     "metadata": {},
     "output_type": "display_data"
    },
    {
     "data": {
      "application/vnd.plotly.v1+json": {
       "config": {
        "plotlyServerURL": "https://plot.ly"
       },
       "data": [
        {
         "hoverinfo": "text",
         "hovertext": [
          "<b>Topic 0</b><br>Words: enggak, negara, bangkrut, meta, kecil",
          "<b>Topic 0</b><br>Words: metode, sukses, ajar, mahasiswa, lihat",
          "<b>Topic 0</b><br>Words: mtsma, muridmurid, maksimal, sekalipun, kait",
          "<b>Topic 0</b><br>Words: menjd, media, kampus, kalian, mahasiswa",
          "<b>Topic 0</b><br>Words: ikn, infrastruktur, maju, bangun, negara",
          "<b>Topic 0</b><br>Words: enggak, usah, negara, tanggung, jamin",
          "<b>Topic 0</b><br>Words: ars, university, peduli, bencana, arsnesia",
          "<b>Topic 0</b><br>Words: gol, amp, medis, perempuan, jodo",
          "<b>Topic 0</b><br>Words: mahasiswa, per, umm, juta, malang",
          "<b>Topic 0</b><br>Words: hari, mahasiswa, nasional, selamat, undip",
          "<b>Topic 0</b><br>Words: baru, ibukota, menghayal, bau, ikan",
          "<b>Topic 0</b><br>Words: insan, bebas, gulir, beri, lantik",
          "<b>Topic 0</b><br>Words: handal, bal, pilar, koster, wayan",
          "<b>Topic 0</b><br>Words: lihat, baik, politik, hidup, semua",
          "<b>Topic 0</b><br>Words: tuntut, masing, kampus, mahasiswa, sama",
          "<b>Topic 0</b><br>Words: mungkin, prank, kesel, makin, uji",
          "<b>Topic 0</b><br>Words: pigai, jokowi, harga, paham, kritik",
          "<b>Topic 0</b><br>Words: mahasiswa, baik, tekan, lama, tiap",
          "<b>Topic 0</b><br>Words: wisuda, pandemi, ajar, sekolah, pilih",
          "<b>Topic 0</b><br>Words: kampus, nya, tahun, baru, soal",
          "<b>Topic 0</b><br>Words: sekolah, buat, rakyat, kampus, baru",
          "<b>Topic 0</b><br>Words: usul, jadi, selalu, perintah, sambut",
          "<b>Topic 0</b><br>Words: normal, new, tlng, perintah, baik",
          "<b>Topic 0</b><br>Words: batas, jadi, undang, ukt, lahan",
          "<b>Topic 0</b><br>Words: sekolah, buka, mahasiswa, ajar, sih",
          "<b>Topic 0</b><br>Words: mahasiswa, ajar, baik, satu, tri",
          "<b>Topic 0</b><br>Words: mahasiswa, dukung, tunggal, luncur, dampak",
          "<b>Topic 0</b><br>Words: sekolah, umur, jadi, usia, anak",
          "<b>Topic 0</b><br>Words: sekolah, zonasi, anak, negara, kontra"
         ],
         "marker": {
          "color": "#E69F00"
         },
         "mode": "lines",
         "name": "0_mahasiswa_sekolah_jadi_buat",
         "type": "scatter",
         "x": [
          "2020-04-02T10:33:33.067000+00:00",
          "2020-04-05T11:25:17.433333+00:00",
          "2020-04-08T10:09:41.866666+00:00",
          "2020-04-11T08:54:06.300000+00:00",
          "2020-04-17T06:22:55.166666+00:00",
          "2020-04-20T05:07:19.600000+00:00",
          "2020-04-23T03:51:44.033333+00:00",
          "2020-04-26T02:36:08.466666+00:00",
          "2020-04-29T01:20:32.900000+00:00",
          "2020-05-02T00:04:57.333333+00:00",
          "2020-05-04T22:49:21.766666+00:00",
          "2020-05-07T21:33:46.200000+00:00",
          "2020-05-10T20:18:10.633333+00:00",
          "2020-05-13T19:02:35.066666+00:00",
          "2020-05-16T17:46:59.500000+00:00",
          "2020-05-19T16:31:23.933333+00:00",
          "2020-05-22T15:15:48.366666+00:00",
          "2020-05-25T14:00:12.800000+00:00",
          "2020-05-28T12:44:37.233333+00:00",
          "2020-05-31T11:29:01.666666+00:00",
          "2020-06-03T10:13:26.100000+00:00",
          "2020-06-06T08:57:50.533333+00:00",
          "2020-06-09T07:42:14.966666+00:00",
          "2020-06-12T06:26:39.400000+00:00",
          "2020-06-15T05:11:03.833333+00:00",
          "2020-06-18T03:55:28.266666+00:00",
          "2020-06-21T02:39:52.700000+00:00",
          "2020-06-24T01:24:17.133333+00:00",
          "2020-06-27T00:08:41.566666+00:00"
         ],
         "y": [
          10,
          10,
          4,
          4,
          2,
          4,
          1,
          7,
          5,
          33,
          4,
          10,
          6,
          6,
          8,
          6,
          4,
          8,
          7,
          20,
          25,
          16,
          36,
          17,
          48,
          22,
          29,
          30,
          26
         ]
        },
        {
         "hoverinfo": "text",
         "hovertext": [
          "<b>Topic 1</b><br>Words: muhammadiyah, guru, ptpg, krisis, jatim",
          "<b>Topic 1</b><br>Words: luar, negeri, den, idp, masyasarakat",
          "<b>Topic 1</b><br>Words: situasi, sebut, cilebut, realisasi, panggil",
          "<b>Topic 1</b><br>Words: menteri, aadc, salur, pppa, inisiasi",
          "<b>Topic 1</b><br>Words: cabut, kurung, kjp, sanksi, keluar",
          "<b>Topic 1</b><br>Words: meski, flotim, law, omnibus, pakar",
          "<b>Topic 1</b><br>Words: file, proteksi, from, menteri, ikut",
          "<b>Topic 1</b><br>Words: arsip, ristekdikti, berkas, banpt, akreditasi",
          "<b>Topic 1</b><br>Words: un, tinggal, wajib, program, salah",
          "<b>Topic 1</b><br>Words: kbm, belajarmengajar, anwar, lembaga, giat",
          "<b>Topic 1</b><br>Words: indonesia, menteri, ing, buat, baik",
          "<b>Topic 1</b><br>Words: vokasi, kemendikbud, khusus, terbit, indonesia",
          "<b>Topic 1</b><br>Words: direktur, phddilantik, syahril, jejak, rekam",
          "<b>Topic 1</b><br>Words: himpun, larang, semester, dana, hingga",
          "<b>Topic 1</b><br>Words: aktivitas, batas, orangorang, win, aco",
          "<b>Topic 1</b><br>Words: manajemen, pil, uny, unj, snmsbm",
          "<b>Topic 1</b><br>Words: hi, menteri, ptn, pil, undip",
          "<b>Topic 1</b><br>Words: pkb, menteri, budaya, ajar, iring",
          "<b>Topic 1</b><br>Words: mergo, gurune, sing, situasi, butuh",
          "<b>Topic 1</b><br>Words: indonesia, menteri, buat, nadiem, orang",
          "<b>Topic 1</b><br>Words: menteri, ora, dprd, contoh, sampai",
          "<b>Topic 1</b><br>Words: khusus, afirmasi, perintah, godok, menteri",
          "<b>Topic 1</b><br>Words: sektor, pesantren, dasar, menteri, perintah",
          "<b>Topic 1</b><br>Words: menko, pmk, menag, menteri, pondok",
          "<b>Topic 1</b><br>Words: menteri, ajar, budaya, indonesia, sama",
          "<b>Topic 1</b><br>Words: ajar, jarak, menteri, budaya, wr",
          "<b>Topic 1</b><br>Words: protes, ajar, menteri, bos, indonesia",
          "<b>Topic 1</b><br>Words: dki, ppdb, rapat, usia, jakarta"
         ],
         "marker": {
          "color": "#56B4E9"
         },
         "mode": "lines",
         "name": "1_menteri_indonesia_ajar_budaya",
         "type": "scatter",
         "x": [
          "2020-04-02T10:33:33.067000+00:00",
          "2020-04-05T11:25:17.433333+00:00",
          "2020-04-08T10:09:41.866666+00:00",
          "2020-04-11T08:54:06.300000+00:00",
          "2020-04-14T07:38:30.733333+00:00",
          "2020-04-17T06:22:55.166666+00:00",
          "2020-04-20T05:07:19.600000+00:00",
          "2020-04-23T03:51:44.033333+00:00",
          "2020-04-26T02:36:08.466666+00:00",
          "2020-04-29T01:20:32.900000+00:00",
          "2020-05-02T00:04:57.333333+00:00",
          "2020-05-04T22:49:21.766666+00:00",
          "2020-05-07T21:33:46.200000+00:00",
          "2020-05-10T20:18:10.633333+00:00",
          "2020-05-13T19:02:35.066666+00:00",
          "2020-05-16T17:46:59.500000+00:00",
          "2020-05-19T16:31:23.933333+00:00",
          "2020-05-25T14:00:12.800000+00:00",
          "2020-05-28T12:44:37.233333+00:00",
          "2020-05-31T11:29:01.666666+00:00",
          "2020-06-03T10:13:26.100000+00:00",
          "2020-06-06T08:57:50.533333+00:00",
          "2020-06-09T07:42:14.966666+00:00",
          "2020-06-12T06:26:39.400000+00:00",
          "2020-06-15T05:11:03.833333+00:00",
          "2020-06-18T03:55:28.266666+00:00",
          "2020-06-21T02:39:52.700000+00:00",
          "2020-06-24T01:24:17.133333+00:00"
         ],
         "y": [
          4,
          2,
          3,
          2,
          1,
          2,
          5,
          1,
          3,
          5,
          16,
          10,
          5,
          1,
          4,
          4,
          5,
          10,
          5,
          26,
          12,
          10,
          18,
          14,
          32,
          14,
          17,
          31
         ]
        },
        {
         "hoverinfo": "text",
         "hovertext": [
          "<b>Topic 2</b><br>Words: pandemi, durasi, dampak, sektor, ngambil",
          "<b>Topic 2</b><br>Words: menkes, perasaaan, po, duh, asih",
          "<b>Topic 2</b><br>Words: times, karakter, pandemi, daring, indonesia",
          "<b>Topic 2</b><br>Words: sekadar, times, karakter, online, pandemi",
          "<b>Topic 2</b><br>Words: pakar, cecep, pasca, korona, darmawan",
          "<b>Topic 2</b><br>Words: sehat, epidemiologi, penyeleseian, formula, holistik",
          "<b>Topic 2</b><br>Words: tggu, gebrak, sosok, siapa, alami",
          "<b>Topic 2</b><br>Words: pandemi, indonesia, terbang, larang, masa",
          "<b>Topic 2</b><br>Words: webinarnya, seminar, strategi, yuk, vokasi",
          "<b>Topic 2</b><br>Words: tinggal, kamis, ketemu, rg, ngopi",
          "<b>Topic 2</b><br>Words: gila, enggak, pandemi, ngundurin, ngotak",
          "<b>Topic 2</b><br>Words: ubah, lama, pandemi, covid, masa",
          "<b>Topic 2</b><br>Words: pandemi, medan, covid, salah, masa",
          "<b>Topic 2</b><br>Words: pandemi, thd, indonesia, covid, school",
          "<b>Topic 2</b><br>Words: faktor, pandemi, sisi, kalian, mayoritas",
          "<b>Topic 2</b><br>Words: vokasi, free, forum, sabtu, pasca",
          "<b>Topic 2</b><br>Words: pandemi, gojek, isi, daerah, masa",
          "<b>Topic 2</b><br>Words: muhammadiyah, naung, instansi, bawah, potong",
          "<b>Topic 2</b><br>Words: terang, surat, bermaterai, pandemi, smk",
          "<b>Topic 2</b><br>Words: stafstafnya, pecah, heran, ku, pandemi",
          "<b>Topic 2</b><br>Words: lai, pasuk, new, normal, pandemi",
          "<b>Topic 2</b><br>Words: pandemi, masa, covid, prinsip, keluarga",
          "<b>Topic 2</b><br>Words: tengah, pandemi, covid, masa, indonesia",
          "<b>Topic 2</b><br>Words: pandemi, institute, yudhoyono, masa, the",
          "<b>Topic 2</b><br>Words: pandemi, awal, intensif, masa, demokrat"
         ],
         "marker": {
          "color": "#009E73"
         },
         "mode": "lines",
         "name": "2_pandemi_masa_covid_indonesia",
         "type": "scatter",
         "x": [
          "2020-04-02T10:33:33.067000+00:00",
          "2020-04-05T11:25:17.433333+00:00",
          "2020-04-08T10:09:41.866666+00:00",
          "2020-04-11T08:54:06.300000+00:00",
          "2020-04-17T06:22:55.166666+00:00",
          "2020-04-20T05:07:19.600000+00:00",
          "2020-04-23T03:51:44.033333+00:00",
          "2020-05-02T00:04:57.333333+00:00",
          "2020-05-04T22:49:21.766666+00:00",
          "2020-05-07T21:33:46.200000+00:00",
          "2020-05-10T20:18:10.633333+00:00",
          "2020-05-13T19:02:35.066666+00:00",
          "2020-05-16T17:46:59.500000+00:00",
          "2020-05-19T16:31:23.933333+00:00",
          "2020-05-25T14:00:12.800000+00:00",
          "2020-05-28T12:44:37.233333+00:00",
          "2020-05-31T11:29:01.666666+00:00",
          "2020-06-03T10:13:26.100000+00:00",
          "2020-06-06T08:57:50.533333+00:00",
          "2020-06-09T07:42:14.966666+00:00",
          "2020-06-12T06:26:39.400000+00:00",
          "2020-06-15T05:11:03.833333+00:00",
          "2020-06-18T03:55:28.266666+00:00",
          "2020-06-21T02:39:52.700000+00:00",
          "2020-06-24T01:24:17.133333+00:00"
         ],
         "y": [
          2,
          1,
          7,
          1,
          1,
          1,
          1,
          6,
          1,
          1,
          1,
          11,
          3,
          3,
          2,
          1,
          8,
          2,
          1,
          2,
          2,
          20,
          1,
          5,
          10
         ]
        },
        {
         "hoverinfo": "text",
         "hovertext": [
          "<b>Topic 3</b><br>Words: corona, darurat, sebar, nomor, virus",
          "<b>Topic 3</b><br>Words: edar, surat, shalom, sebar, virus",
          "<b>Topic 3</b><br>Words: kendal, karantina, otgodp, darurat, salam",
          "<b>Topic 3</b><br>Words: jawa, timur, panjang, nomor, april",
          "<b>Topic 3</b><br>Words: panjang, lebaran, sebar, virus, jawa",
          "<b>Topic 3</b><br>Words: perlu, muat, darurat, susun, distribusi",
          "<b>Topic 3</b><br>Words: rantai, darurat, pjj, sebar, virus",
          "<b>Topic 3</b><br>Words: panjang, darurat, diy, sebar, nomor",
          "<b>Topic 3</b><br>Words: jawa, timur, darurat, surat, tanggal",
          "<b>Topic 3</b><br>Words: tana, toraja, bupati, darurat, sebar",
          "<b>Topic 3</b><br>Words: darurat, virus, sebar, sini, corona",
          "<b>Topic 3</b><br>Words: zona, sebar, virus, khusi, ima"
         ],
         "marker": {
          "color": "#F0E442"
         },
         "mode": "lines",
         "name": "3_darurat_sebar_timur_jawa",
         "type": "scatter",
         "x": [
          "2020-04-02T10:33:33.067000+00:00",
          "2020-04-05T11:25:17.433333+00:00",
          "2020-04-11T08:54:06.300000+00:00",
          "2020-04-17T06:22:55.166666+00:00",
          "2020-04-20T05:07:19.600000+00:00",
          "2020-04-26T02:36:08.466666+00:00",
          "2020-04-29T01:20:32.900000+00:00",
          "2020-05-28T12:44:37.233333+00:00",
          "2020-05-31T11:29:01.666666+00:00",
          "2020-06-12T06:26:39.400000+00:00",
          "2020-06-18T03:55:28.266666+00:00",
          "2020-06-24T01:24:17.133333+00:00"
         ],
         "y": [
          3,
          1,
          3,
          5,
          2,
          1,
          2,
          10,
          9,
          1,
          4,
          2
         ]
        },
        {
         "hoverinfo": "text",
         "hovertext": [
          "<b>Topic 4</b><br>Words: regulasi, dini, rangka, optimal, koordinasi",
          "<b>Topic 4</b><br>Words: perspektif, rabu, wib, zoom, rangka",
          "<b>Topic 4</b><br>Words: new, normal, utama, ditgl, tera",
          "<b>Topic 4</b><br>Words: new, normal, jabar, press, kang",
          "<b>Topic 4</b><br>Words: jabar, sore, new, normal, press",
          "<b>Topic 4</b><br>Words: agam, new, isra, basung, barubaru",
          "<b>Topic 4</b><br>Words: seto, lazim, kak, tahap, new",
          "<b>Topic 4</b><br>Words: normal, hati, new, pesantren, sesuatu",
          "<b>Topic 4</b><br>Words: new, normal, bingung, aman, sedang",
          "<b>Topic 4</b><br>Words: new, normal, hadap, era, kirakira"
         ],
         "marker": {
          "color": "#D55E00"
         },
         "mode": "lines",
         "name": "4_new_normal_hadap_jabar",
         "type": "scatter",
         "x": [
          "2020-04-02T10:33:33.067000+00:00",
          "2020-05-04T22:49:21.766666+00:00",
          "2020-05-25T14:00:12.800000+00:00",
          "2020-05-28T12:44:37.233333+00:00",
          "2020-05-31T11:29:01.666666+00:00",
          "2020-06-03T10:13:26.100000+00:00",
          "2020-06-06T08:57:50.533333+00:00",
          "2020-06-12T06:26:39.400000+00:00",
          "2020-06-15T05:11:03.833333+00:00",
          "2020-06-18T03:55:28.266666+00:00"
         ],
         "y": [
          2,
          1,
          3,
          7,
          4,
          2,
          2,
          2,
          4,
          3
         ]
        },
        {
         "hoverinfo": "text",
         "hovertext": [
          "<b>Topic 5</b><br>Words: klaten, kabupaten, rangka, se, cegah",
          "<b>Topic 5</b><br>Words: selatan, kabupaten, lampung, wabah, ajar",
          "<b>Topic 5</b><br>Words: legislator, rumus, dorong, teliti, dasar",
          "<b>Topic 5</b><br>Words: komitmen, prasarana, serang, tilik, kabupaten",
          "<b>Topic 5</b><br>Words: pedoman, permendikbud, daerah, nomor, khusus",
          "<b>Topic 5</b><br>Words: apresiasi, dpr, kali, komisi, bantu",
          "<b>Topic 5</b><br>Words: apresiasi, dpr, bantu, dampak, kemendikbud",
          "<b>Topic 5</b><br>Words: biaya, relaksasi, layan, dpr, kali"
         ],
         "marker": {
          "color": "#0072B2"
         },
         "mode": "lines",
         "name": "5_dpr_apresiasi_kali_komisi",
         "type": "scatter",
         "x": [
          "2020-04-02T10:33:33.067000+00:00",
          "2020-04-20T05:07:19.600000+00:00",
          "2020-05-07T21:33:46.200000+00:00",
          "2020-06-03T10:13:26.100000+00:00",
          "2020-06-18T03:55:28.266666+00:00",
          "2020-06-21T02:39:52.700000+00:00",
          "2020-06-24T01:24:17.133333+00:00",
          "2020-06-27T00:08:41.566666+00:00"
         ],
         "y": [
          2,
          1,
          1,
          2,
          1,
          12,
          2,
          4
         ]
        },
        {
         "hoverinfo": "text",
         "hovertext": [
          "<b>Topic 6</b><br>Words: politik, barat, corak, kerstening, kristen",
          "<b>Topic 6</b><br>Words: islam, normal, masuk, asosiasi, new",
          "<b>Topic 6</b><br>Words: islam, analisis, orde, zaman, jepang",
          "<b>Topic 6</b><br>Words: islam, kamaruddin, santri, dirjen, pasti",
          "<b>Topic 6</b><br>Words: pesantren, beber, sowan, luluk, menganaktirikan",
          "<b>Topic 6</b><br>Words: tiru, portal, islam, puji, anies",
          "<b>Topic 6</b><br>Words: soal, jemaah, hnw, haji, nasib",
          "<b>Topic 6</b><br>Words: basis, bidik, agresif, panislamisme, tangkal"
         ],
         "marker": {
          "color": "#CC79A7"
         },
         "mode": "lines",
         "name": "6_islam_normal_pesantren_agama",
         "type": "scatter",
         "x": [
          "2020-05-02T00:04:57.333333+00:00",
          "2020-05-31T11:29:01.666666+00:00",
          "2020-06-06T08:57:50.533333+00:00",
          "2020-06-15T05:11:03.833333+00:00",
          "2020-06-18T03:55:28.266666+00:00",
          "2020-06-21T02:39:52.700000+00:00",
          "2020-06-24T01:24:17.133333+00:00",
          "2020-06-27T00:08:41.566666+00:00"
         ],
         "y": [
          1,
          4,
          2,
          2,
          1,
          1,
          2,
          2
         ]
        },
        {
         "hoverinfo": "text",
         "hovertext": [
          "<b>Topic 7</b><br>Words: saran, hendak, kemendikbud, bila, implementasi",
          "<b>Topic 7</b><br>Words: hendak, saran, bila, implementasi, timbang",
          "<b>Topic 7</b><br>Words: hendak, saran, bila, implementasi, timbang"
         ],
         "marker": {
          "color": "#E69F00"
         },
         "mode": "lines",
         "name": "7_saran_hendak_bila_implementasi",
         "type": "scatter",
         "x": [
          "2020-06-06T08:57:50.533333+00:00",
          "2020-06-09T07:42:14.966666+00:00",
          "2020-06-12T06:26:39.400000+00:00"
         ],
         "y": [
          2,
          8,
          3
         ]
        },
        {
         "hoverinfo": "text",
         "hovertext": [
          "<b>Topic 8</b><br>Words: dokter, virtual, ulm, bahas, rapat",
          "<b>Topic 8</b><br>Words: virtual, sepenuh, khusus, perlu, pesantren",
          "<b>Topic 8</b><br>Words: dokter, siap, normal, era, baru"
         ],
         "marker": {
          "color": "#56B4E9"
         },
         "mode": "lines",
         "name": "8_dokter_siap_normal_era",
         "type": "scatter",
         "x": [
          "2020-04-20T05:07:19.600000+00:00",
          "2020-05-25T14:00:12.800000+00:00",
          "2020-06-06T08:57:50.533333+00:00"
         ],
         "y": [
          1,
          1,
          10
         ]
        }
       ],
       "layout": {
        "height": 450,
        "hoverlabel": {
         "bgcolor": "white",
         "font": {
          "family": "Rockwell",
          "size": 16
         }
        },
        "legend": {
         "title": {
          "text": "<b>Global Topic Representation"
         }
        },
        "template": {
         "data": {
          "bar": [
           {
            "error_x": {
             "color": "rgb(36,36,36)"
            },
            "error_y": {
             "color": "rgb(36,36,36)"
            },
            "marker": {
             "line": {
              "color": "white",
              "width": 0.5
             },
             "pattern": {
              "fillmode": "overlay",
              "size": 10,
              "solidity": 0.2
             }
            },
            "type": "bar"
           }
          ],
          "barpolar": [
           {
            "marker": {
             "line": {
              "color": "white",
              "width": 0.5
             },
             "pattern": {
              "fillmode": "overlay",
              "size": 10,
              "solidity": 0.2
             }
            },
            "type": "barpolar"
           }
          ],
          "carpet": [
           {
            "aaxis": {
             "endlinecolor": "rgb(36,36,36)",
             "gridcolor": "white",
             "linecolor": "white",
             "minorgridcolor": "white",
             "startlinecolor": "rgb(36,36,36)"
            },
            "baxis": {
             "endlinecolor": "rgb(36,36,36)",
             "gridcolor": "white",
             "linecolor": "white",
             "minorgridcolor": "white",
             "startlinecolor": "rgb(36,36,36)"
            },
            "type": "carpet"
           }
          ],
          "choropleth": [
           {
            "colorbar": {
             "outlinewidth": 1,
             "tickcolor": "rgb(36,36,36)",
             "ticks": "outside"
            },
            "type": "choropleth"
           }
          ],
          "contour": [
           {
            "colorbar": {
             "outlinewidth": 1,
             "tickcolor": "rgb(36,36,36)",
             "ticks": "outside"
            },
            "colorscale": [
             [
              0,
              "#440154"
             ],
             [
              0.1111111111111111,
              "#482878"
             ],
             [
              0.2222222222222222,
              "#3e4989"
             ],
             [
              0.3333333333333333,
              "#31688e"
             ],
             [
              0.4444444444444444,
              "#26828e"
             ],
             [
              0.5555555555555556,
              "#1f9e89"
             ],
             [
              0.6666666666666666,
              "#35b779"
             ],
             [
              0.7777777777777778,
              "#6ece58"
             ],
             [
              0.8888888888888888,
              "#b5de2b"
             ],
             [
              1,
              "#fde725"
             ]
            ],
            "type": "contour"
           }
          ],
          "contourcarpet": [
           {
            "colorbar": {
             "outlinewidth": 1,
             "tickcolor": "rgb(36,36,36)",
             "ticks": "outside"
            },
            "type": "contourcarpet"
           }
          ],
          "heatmap": [
           {
            "colorbar": {
             "outlinewidth": 1,
             "tickcolor": "rgb(36,36,36)",
             "ticks": "outside"
            },
            "colorscale": [
             [
              0,
              "#440154"
             ],
             [
              0.1111111111111111,
              "#482878"
             ],
             [
              0.2222222222222222,
              "#3e4989"
             ],
             [
              0.3333333333333333,
              "#31688e"
             ],
             [
              0.4444444444444444,
              "#26828e"
             ],
             [
              0.5555555555555556,
              "#1f9e89"
             ],
             [
              0.6666666666666666,
              "#35b779"
             ],
             [
              0.7777777777777778,
              "#6ece58"
             ],
             [
              0.8888888888888888,
              "#b5de2b"
             ],
             [
              1,
              "#fde725"
             ]
            ],
            "type": "heatmap"
           }
          ],
          "heatmapgl": [
           {
            "colorbar": {
             "outlinewidth": 1,
             "tickcolor": "rgb(36,36,36)",
             "ticks": "outside"
            },
            "colorscale": [
             [
              0,
              "#440154"
             ],
             [
              0.1111111111111111,
              "#482878"
             ],
             [
              0.2222222222222222,
              "#3e4989"
             ],
             [
              0.3333333333333333,
              "#31688e"
             ],
             [
              0.4444444444444444,
              "#26828e"
             ],
             [
              0.5555555555555556,
              "#1f9e89"
             ],
             [
              0.6666666666666666,
              "#35b779"
             ],
             [
              0.7777777777777778,
              "#6ece58"
             ],
             [
              0.8888888888888888,
              "#b5de2b"
             ],
             [
              1,
              "#fde725"
             ]
            ],
            "type": "heatmapgl"
           }
          ],
          "histogram": [
           {
            "marker": {
             "line": {
              "color": "white",
              "width": 0.6
             }
            },
            "type": "histogram"
           }
          ],
          "histogram2d": [
           {
            "colorbar": {
             "outlinewidth": 1,
             "tickcolor": "rgb(36,36,36)",
             "ticks": "outside"
            },
            "colorscale": [
             [
              0,
              "#440154"
             ],
             [
              0.1111111111111111,
              "#482878"
             ],
             [
              0.2222222222222222,
              "#3e4989"
             ],
             [
              0.3333333333333333,
              "#31688e"
             ],
             [
              0.4444444444444444,
              "#26828e"
             ],
             [
              0.5555555555555556,
              "#1f9e89"
             ],
             [
              0.6666666666666666,
              "#35b779"
             ],
             [
              0.7777777777777778,
              "#6ece58"
             ],
             [
              0.8888888888888888,
              "#b5de2b"
             ],
             [
              1,
              "#fde725"
             ]
            ],
            "type": "histogram2d"
           }
          ],
          "histogram2dcontour": [
           {
            "colorbar": {
             "outlinewidth": 1,
             "tickcolor": "rgb(36,36,36)",
             "ticks": "outside"
            },
            "colorscale": [
             [
              0,
              "#440154"
             ],
             [
              0.1111111111111111,
              "#482878"
             ],
             [
              0.2222222222222222,
              "#3e4989"
             ],
             [
              0.3333333333333333,
              "#31688e"
             ],
             [
              0.4444444444444444,
              "#26828e"
             ],
             [
              0.5555555555555556,
              "#1f9e89"
             ],
             [
              0.6666666666666666,
              "#35b779"
             ],
             [
              0.7777777777777778,
              "#6ece58"
             ],
             [
              0.8888888888888888,
              "#b5de2b"
             ],
             [
              1,
              "#fde725"
             ]
            ],
            "type": "histogram2dcontour"
           }
          ],
          "mesh3d": [
           {
            "colorbar": {
             "outlinewidth": 1,
             "tickcolor": "rgb(36,36,36)",
             "ticks": "outside"
            },
            "type": "mesh3d"
           }
          ],
          "parcoords": [
           {
            "line": {
             "colorbar": {
              "outlinewidth": 1,
              "tickcolor": "rgb(36,36,36)",
              "ticks": "outside"
             }
            },
            "type": "parcoords"
           }
          ],
          "pie": [
           {
            "automargin": true,
            "type": "pie"
           }
          ],
          "scatter": [
           {
            "fillpattern": {
             "fillmode": "overlay",
             "size": 10,
             "solidity": 0.2
            },
            "type": "scatter"
           }
          ],
          "scatter3d": [
           {
            "line": {
             "colorbar": {
              "outlinewidth": 1,
              "tickcolor": "rgb(36,36,36)",
              "ticks": "outside"
             }
            },
            "marker": {
             "colorbar": {
              "outlinewidth": 1,
              "tickcolor": "rgb(36,36,36)",
              "ticks": "outside"
             }
            },
            "type": "scatter3d"
           }
          ],
          "scattercarpet": [
           {
            "marker": {
             "colorbar": {
              "outlinewidth": 1,
              "tickcolor": "rgb(36,36,36)",
              "ticks": "outside"
             }
            },
            "type": "scattercarpet"
           }
          ],
          "scattergeo": [
           {
            "marker": {
             "colorbar": {
              "outlinewidth": 1,
              "tickcolor": "rgb(36,36,36)",
              "ticks": "outside"
             }
            },
            "type": "scattergeo"
           }
          ],
          "scattergl": [
           {
            "marker": {
             "colorbar": {
              "outlinewidth": 1,
              "tickcolor": "rgb(36,36,36)",
              "ticks": "outside"
             }
            },
            "type": "scattergl"
           }
          ],
          "scattermapbox": [
           {
            "marker": {
             "colorbar": {
              "outlinewidth": 1,
              "tickcolor": "rgb(36,36,36)",
              "ticks": "outside"
             }
            },
            "type": "scattermapbox"
           }
          ],
          "scatterpolar": [
           {
            "marker": {
             "colorbar": {
              "outlinewidth": 1,
              "tickcolor": "rgb(36,36,36)",
              "ticks": "outside"
             }
            },
            "type": "scatterpolar"
           }
          ],
          "scatterpolargl": [
           {
            "marker": {
             "colorbar": {
              "outlinewidth": 1,
              "tickcolor": "rgb(36,36,36)",
              "ticks": "outside"
             }
            },
            "type": "scatterpolargl"
           }
          ],
          "scatterternary": [
           {
            "marker": {
             "colorbar": {
              "outlinewidth": 1,
              "tickcolor": "rgb(36,36,36)",
              "ticks": "outside"
             }
            },
            "type": "scatterternary"
           }
          ],
          "surface": [
           {
            "colorbar": {
             "outlinewidth": 1,
             "tickcolor": "rgb(36,36,36)",
             "ticks": "outside"
            },
            "colorscale": [
             [
              0,
              "#440154"
             ],
             [
              0.1111111111111111,
              "#482878"
             ],
             [
              0.2222222222222222,
              "#3e4989"
             ],
             [
              0.3333333333333333,
              "#31688e"
             ],
             [
              0.4444444444444444,
              "#26828e"
             ],
             [
              0.5555555555555556,
              "#1f9e89"
             ],
             [
              0.6666666666666666,
              "#35b779"
             ],
             [
              0.7777777777777778,
              "#6ece58"
             ],
             [
              0.8888888888888888,
              "#b5de2b"
             ],
             [
              1,
              "#fde725"
             ]
            ],
            "type": "surface"
           }
          ],
          "table": [
           {
            "cells": {
             "fill": {
              "color": "rgb(237,237,237)"
             },
             "line": {
              "color": "white"
             }
            },
            "header": {
             "fill": {
              "color": "rgb(217,217,217)"
             },
             "line": {
              "color": "white"
             }
            },
            "type": "table"
           }
          ]
         },
         "layout": {
          "annotationdefaults": {
           "arrowhead": 0,
           "arrowwidth": 1
          },
          "autotypenumbers": "strict",
          "coloraxis": {
           "colorbar": {
            "outlinewidth": 1,
            "tickcolor": "rgb(36,36,36)",
            "ticks": "outside"
           }
          },
          "colorscale": {
           "diverging": [
            [
             0,
             "rgb(103,0,31)"
            ],
            [
             0.1,
             "rgb(178,24,43)"
            ],
            [
             0.2,
             "rgb(214,96,77)"
            ],
            [
             0.3,
             "rgb(244,165,130)"
            ],
            [
             0.4,
             "rgb(253,219,199)"
            ],
            [
             0.5,
             "rgb(247,247,247)"
            ],
            [
             0.6,
             "rgb(209,229,240)"
            ],
            [
             0.7,
             "rgb(146,197,222)"
            ],
            [
             0.8,
             "rgb(67,147,195)"
            ],
            [
             0.9,
             "rgb(33,102,172)"
            ],
            [
             1,
             "rgb(5,48,97)"
            ]
           ],
           "sequential": [
            [
             0,
             "#440154"
            ],
            [
             0.1111111111111111,
             "#482878"
            ],
            [
             0.2222222222222222,
             "#3e4989"
            ],
            [
             0.3333333333333333,
             "#31688e"
            ],
            [
             0.4444444444444444,
             "#26828e"
            ],
            [
             0.5555555555555556,
             "#1f9e89"
            ],
            [
             0.6666666666666666,
             "#35b779"
            ],
            [
             0.7777777777777778,
             "#6ece58"
            ],
            [
             0.8888888888888888,
             "#b5de2b"
            ],
            [
             1,
             "#fde725"
            ]
           ],
           "sequentialminus": [
            [
             0,
             "#440154"
            ],
            [
             0.1111111111111111,
             "#482878"
            ],
            [
             0.2222222222222222,
             "#3e4989"
            ],
            [
             0.3333333333333333,
             "#31688e"
            ],
            [
             0.4444444444444444,
             "#26828e"
            ],
            [
             0.5555555555555556,
             "#1f9e89"
            ],
            [
             0.6666666666666666,
             "#35b779"
            ],
            [
             0.7777777777777778,
             "#6ece58"
            ],
            [
             0.8888888888888888,
             "#b5de2b"
            ],
            [
             1,
             "#fde725"
            ]
           ]
          },
          "colorway": [
           "#1F77B4",
           "#FF7F0E",
           "#2CA02C",
           "#D62728",
           "#9467BD",
           "#8C564B",
           "#E377C2",
           "#7F7F7F",
           "#BCBD22",
           "#17BECF"
          ],
          "font": {
           "color": "rgb(36,36,36)"
          },
          "geo": {
           "bgcolor": "white",
           "lakecolor": "white",
           "landcolor": "white",
           "showlakes": true,
           "showland": true,
           "subunitcolor": "white"
          },
          "hoverlabel": {
           "align": "left"
          },
          "hovermode": "closest",
          "mapbox": {
           "style": "light"
          },
          "paper_bgcolor": "white",
          "plot_bgcolor": "white",
          "polar": {
           "angularaxis": {
            "gridcolor": "rgb(232,232,232)",
            "linecolor": "rgb(36,36,36)",
            "showgrid": false,
            "showline": true,
            "ticks": "outside"
           },
           "bgcolor": "white",
           "radialaxis": {
            "gridcolor": "rgb(232,232,232)",
            "linecolor": "rgb(36,36,36)",
            "showgrid": false,
            "showline": true,
            "ticks": "outside"
           }
          },
          "scene": {
           "xaxis": {
            "backgroundcolor": "white",
            "gridcolor": "rgb(232,232,232)",
            "gridwidth": 2,
            "linecolor": "rgb(36,36,36)",
            "showbackground": true,
            "showgrid": false,
            "showline": true,
            "ticks": "outside",
            "zeroline": false,
            "zerolinecolor": "rgb(36,36,36)"
           },
           "yaxis": {
            "backgroundcolor": "white",
            "gridcolor": "rgb(232,232,232)",
            "gridwidth": 2,
            "linecolor": "rgb(36,36,36)",
            "showbackground": true,
            "showgrid": false,
            "showline": true,
            "ticks": "outside",
            "zeroline": false,
            "zerolinecolor": "rgb(36,36,36)"
           },
           "zaxis": {
            "backgroundcolor": "white",
            "gridcolor": "rgb(232,232,232)",
            "gridwidth": 2,
            "linecolor": "rgb(36,36,36)",
            "showbackground": true,
            "showgrid": false,
            "showline": true,
            "ticks": "outside",
            "zeroline": false,
            "zerolinecolor": "rgb(36,36,36)"
           }
          },
          "shapedefaults": {
           "fillcolor": "black",
           "line": {
            "width": 0
           },
           "opacity": 0.3
          },
          "ternary": {
           "aaxis": {
            "gridcolor": "rgb(232,232,232)",
            "linecolor": "rgb(36,36,36)",
            "showgrid": false,
            "showline": true,
            "ticks": "outside"
           },
           "baxis": {
            "gridcolor": "rgb(232,232,232)",
            "linecolor": "rgb(36,36,36)",
            "showgrid": false,
            "showline": true,
            "ticks": "outside"
           },
           "bgcolor": "white",
           "caxis": {
            "gridcolor": "rgb(232,232,232)",
            "linecolor": "rgb(36,36,36)",
            "showgrid": false,
            "showline": true,
            "ticks": "outside"
           }
          },
          "title": {
           "x": 0.05
          },
          "xaxis": {
           "automargin": true,
           "gridcolor": "rgb(232,232,232)",
           "linecolor": "rgb(36,36,36)",
           "showgrid": false,
           "showline": true,
           "ticks": "outside",
           "title": {
            "standoff": 15
           },
           "zeroline": false,
           "zerolinecolor": "rgb(36,36,36)"
          },
          "yaxis": {
           "automargin": true,
           "gridcolor": "rgb(232,232,232)",
           "linecolor": "rgb(36,36,36)",
           "showgrid": false,
           "showline": true,
           "ticks": "outside",
           "title": {
            "standoff": 15
           },
           "zeroline": false,
           "zerolinecolor": "rgb(36,36,36)"
          }
         }
        },
        "title": {
         "font": {
          "color": "Black",
          "size": 22
         },
         "text": "Topics Over Time for 2020Q2",
         "x": 0.4,
         "xanchor": "center",
         "y": 0.95,
         "yanchor": "top"
        },
        "width": 1250,
        "xaxis": {
         "showgrid": true
        },
        "yaxis": {
         "showgrid": true,
         "title": {
          "text": "Frequency"
         }
        }
       }
      }
     },
     "metadata": {},
     "output_type": "display_data"
    },
    {
     "data": {
      "application/vnd.plotly.v1+json": {
       "config": {
        "plotlyServerURL": "https://plot.ly"
       },
       "data": [
        {
         "hoverinfo": "text",
         "hovertext": [
          "<b>Topic 0</b><br>Words: kuat, efektivitas, kartu, prakerja, pip",
          "<b>Topic 0</b><br>Words: kuat, efektivitas, kartu, prakerja, salur"
         ],
         "marker": {
          "color": "#E69F00"
         },
         "mode": "lines",
         "name": "0_kuat_kartu_prakerja_efektivitas",
         "type": "scatter",
         "x": [
          "2020-08-12T02:56:03.933333+00:00",
          "2020-08-15T03:01:28.500000+00:00"
         ],
         "y": [
          27,
          1
         ]
        },
        {
         "hoverinfo": "text",
         "hovertext": [
          "<b>Topic 1</b><br>Words: papua, otonomi, khusus, tanah, bangun",
          "<b>Topic 1</b><br>Words: papua, barat, otsus, otonomi, khusus",
          "<b>Topic 1</b><br>Words: papua, otonomi, khusus, barat, citacitanya",
          "<b>Topic 1</b><br>Words: papua, otonomi, emas, khusus, barat",
          "<b>Topic 1</b><br>Words: papua, otonomi, barat, khusus, bebas",
          "<b>Topic 1</b><br>Words: otonomi, khusus, papua, beasiswa, dana",
          "<b>Topic 1</b><br>Words: papua, otonomi, khusus, februari, otsus",
          "<b>Topic 1</b><br>Words: papua, otonomi, khusus, otsus, beasiswa",
          "<b>Topic 1</b><br>Words: papua, barat, otonomi, khusus, dana",
          "<b>Topic 1</b><br>Words: papua, otsus, filipina, otonomi, khusus",
          "<b>Topic 1</b><br>Words: papua, otsus, bangun, baik, kurang"
         ],
         "marker": {
          "color": "#56B4E9"
         },
         "mode": "lines",
         "name": "1_papua_otonomi_khusus_barat",
         "type": "scatter",
         "x": [
          "2020-07-04T01:45:44.566666+00:00",
          "2020-07-10T01:56:33.700000+00:00",
          "2020-07-13T02:01:58.266666+00:00",
          "2020-07-22T02:18:11.966666+00:00",
          "2020-07-25T02:23:36.533333+00:00",
          "2020-07-28T02:29:01.100000+00:00",
          "2020-08-03T02:39:50.233333+00:00",
          "2020-08-06T02:45:14.800000+00:00",
          "2020-08-15T03:01:28.500000+00:00",
          "2020-08-27T03:23:06.766666+00:00",
          "2020-09-08T03:44:45.033333+00:00"
         ],
         "y": [
          1,
          2,
          6,
          1,
          5,
          7,
          1,
          4,
          5,
          2,
          2
         ]
        },
        {
         "hoverinfo": "text",
         "hovertext": [
          "<b>Topic 2</b><br>Words: pjj, jarak, nilai, jauh, citayam",
          "<b>Topic 2</b><br>Words: ajar, pjj, pulsa, nilai, positif"
         ],
         "marker": {
          "color": "#009E73"
         },
         "mode": "lines",
         "name": "2_ajar_pjj_nilai_jarak",
         "type": "scatter",
         "x": [
          "2020-07-28T02:29:01.100000+00:00",
          "2020-09-02T03:33:55.900000+00:00"
         ],
         "y": [
          1,
          10
         ]
        },
        {
         "hoverinfo": "text",
         "hovertext": [
          "<b>Topic 3</b><br>Words: sekolah, ganti, menteri, guru, ajar",
          "<b>Topic 3</b><br>Words: menteri, dki, indonesia, nadiem, pandemi",
          "<b>Topic 3</b><br>Words: sekolah, indonesia, menteri, ajar, mahasiswa",
          "<b>Topic 3</b><br>Words: ajar, anak, lihat, tahun, menteri",
          "<b>Topic 3</b><br>Words: ajar, jadi, tahun, bukan, uu",
          "<b>Topic 3</b><br>Words: ajar, rakyat, pandemi, merdeka, buat",
          "<b>Topic 3</b><br>Words: ajar, buat, pandemi, banyak, tentu",
          "<b>Topic 3</b><br>Words: menteri, ajar, anak, jadi, dunia",
          "<b>Topic 3</b><br>Words: ribu, ajar, nadiem, merdeka, guru",
          "<b>Topic 3</b><br>Words: indonesia, buat, menteri, ajar, anak",
          "<b>Topic 3</b><br>Words: covid, sektor, tatanan, luar, guna",
          "<b>Topic 3</b><br>Words: program, indonesia, sekolah, sebut, ajar",
          "<b>Topic 3</b><br>Words: ajar, jadi, sekolah, satu, erti",
          "<b>Topic 3</b><br>Words: sekolah, menteri, ajar, masa, pandemi",
          "<b>Topic 3</b><br>Words: ajar, covid, menteri, perintah, tahun",
          "<b>Topic 3</b><br>Words: nasional, pandemi, apa, inovasi, new",
          "<b>Topic 3</b><br>Words: aspek, upaya, pandemi, covid, hadap",
          "<b>Topic 3</b><br>Words: uny, covid, menteri, pil, ringan",
          "<b>Topic 3</b><br>Words: ajar, pandemi, kemendikbud, menteri, dpr",
          "<b>Topic 3</b><br>Words: pandemi, ajar, karakter, covid, sekolah",
          "<b>Topic 3</b><br>Words: ajar, covid, pandemi, masa, menteri",
          "<b>Topic 3</b><br>Words: ganti, perdana, india, menteri, nasional",
          "<b>Topic 3</b><br>Words: nilai, positif, siswa, beri, menteri",
          "<b>Topic 3</b><br>Words: pandemi, ajar, indonesia, inews, bikin",
          "<b>Topic 3</b><br>Words: inews, pandemi, kurikulum, tengah, merdeka",
          "<b>Topic 3</b><br>Words: sejarah, jadi, memang, banyak, kalau",
          "<b>Topic 3</b><br>Words: ajar, mahasura, salam, muda, covid",
          "<b>Topic 3</b><br>Words: bantu, kuota, internet, nadiem, makarim",
          "<b>Topic 3</b><br>Words: sentral, jadi, tua, kerja, sekolah"
         ],
         "marker": {
          "color": "#F0E442"
         },
         "mode": "lines",
         "name": "3_ajar_menteri_pandemi_covid",
         "type": "scatter",
         "x": [
          "2020-06-30T23:30:34.263000+00:00",
          "2020-07-04T01:45:44.566666+00:00",
          "2020-07-07T01:51:09.133333+00:00",
          "2020-07-10T01:56:33.700000+00:00",
          "2020-07-13T02:01:58.266666+00:00",
          "2020-07-16T02:07:22.833333+00:00",
          "2020-07-19T02:12:47.400000+00:00",
          "2020-07-22T02:18:11.966666+00:00",
          "2020-07-25T02:23:36.533333+00:00",
          "2020-07-28T02:29:01.100000+00:00",
          "2020-07-31T02:34:25.666666+00:00",
          "2020-08-03T02:39:50.233333+00:00",
          "2020-08-06T02:45:14.800000+00:00",
          "2020-08-09T02:50:39.366666+00:00",
          "2020-08-12T02:56:03.933333+00:00",
          "2020-08-15T03:01:28.500000+00:00",
          "2020-08-18T03:06:53.066666+00:00",
          "2020-08-24T03:17:42.200000+00:00",
          "2020-08-27T03:23:06.766666+00:00",
          "2020-08-30T03:28:31.333333+00:00",
          "2020-09-02T03:33:55.900000+00:00",
          "2020-09-05T03:39:20.466666+00:00",
          "2020-09-08T03:44:45.033333+00:00",
          "2020-09-11T03:50:09.600000+00:00",
          "2020-09-14T03:55:34.166666+00:00",
          "2020-09-17T04:00:58.733333+00:00",
          "2020-09-20T04:06:23.300000+00:00",
          "2020-09-23T04:11:47.866666+00:00",
          "2020-09-26T04:17:12.433333+00:00"
         ],
         "y": [
          30,
          34,
          32,
          29,
          37,
          21,
          33,
          50,
          34,
          41,
          10,
          36,
          25,
          46,
          38,
          16,
          18,
          23,
          28,
          15,
          25,
          16,
          28,
          24,
          17,
          12,
          42,
          17,
          9
         ]
        }
       ],
       "layout": {
        "height": 450,
        "hoverlabel": {
         "bgcolor": "white",
         "font": {
          "family": "Rockwell",
          "size": 16
         }
        },
        "legend": {
         "title": {
          "text": "<b>Global Topic Representation"
         }
        },
        "template": {
         "data": {
          "bar": [
           {
            "error_x": {
             "color": "rgb(36,36,36)"
            },
            "error_y": {
             "color": "rgb(36,36,36)"
            },
            "marker": {
             "line": {
              "color": "white",
              "width": 0.5
             },
             "pattern": {
              "fillmode": "overlay",
              "size": 10,
              "solidity": 0.2
             }
            },
            "type": "bar"
           }
          ],
          "barpolar": [
           {
            "marker": {
             "line": {
              "color": "white",
              "width": 0.5
             },
             "pattern": {
              "fillmode": "overlay",
              "size": 10,
              "solidity": 0.2
             }
            },
            "type": "barpolar"
           }
          ],
          "carpet": [
           {
            "aaxis": {
             "endlinecolor": "rgb(36,36,36)",
             "gridcolor": "white",
             "linecolor": "white",
             "minorgridcolor": "white",
             "startlinecolor": "rgb(36,36,36)"
            },
            "baxis": {
             "endlinecolor": "rgb(36,36,36)",
             "gridcolor": "white",
             "linecolor": "white",
             "minorgridcolor": "white",
             "startlinecolor": "rgb(36,36,36)"
            },
            "type": "carpet"
           }
          ],
          "choropleth": [
           {
            "colorbar": {
             "outlinewidth": 1,
             "tickcolor": "rgb(36,36,36)",
             "ticks": "outside"
            },
            "type": "choropleth"
           }
          ],
          "contour": [
           {
            "colorbar": {
             "outlinewidth": 1,
             "tickcolor": "rgb(36,36,36)",
             "ticks": "outside"
            },
            "colorscale": [
             [
              0,
              "#440154"
             ],
             [
              0.1111111111111111,
              "#482878"
             ],
             [
              0.2222222222222222,
              "#3e4989"
             ],
             [
              0.3333333333333333,
              "#31688e"
             ],
             [
              0.4444444444444444,
              "#26828e"
             ],
             [
              0.5555555555555556,
              "#1f9e89"
             ],
             [
              0.6666666666666666,
              "#35b779"
             ],
             [
              0.7777777777777778,
              "#6ece58"
             ],
             [
              0.8888888888888888,
              "#b5de2b"
             ],
             [
              1,
              "#fde725"
             ]
            ],
            "type": "contour"
           }
          ],
          "contourcarpet": [
           {
            "colorbar": {
             "outlinewidth": 1,
             "tickcolor": "rgb(36,36,36)",
             "ticks": "outside"
            },
            "type": "contourcarpet"
           }
          ],
          "heatmap": [
           {
            "colorbar": {
             "outlinewidth": 1,
             "tickcolor": "rgb(36,36,36)",
             "ticks": "outside"
            },
            "colorscale": [
             [
              0,
              "#440154"
             ],
             [
              0.1111111111111111,
              "#482878"
             ],
             [
              0.2222222222222222,
              "#3e4989"
             ],
             [
              0.3333333333333333,
              "#31688e"
             ],
             [
              0.4444444444444444,
              "#26828e"
             ],
             [
              0.5555555555555556,
              "#1f9e89"
             ],
             [
              0.6666666666666666,
              "#35b779"
             ],
             [
              0.7777777777777778,
              "#6ece58"
             ],
             [
              0.8888888888888888,
              "#b5de2b"
             ],
             [
              1,
              "#fde725"
             ]
            ],
            "type": "heatmap"
           }
          ],
          "heatmapgl": [
           {
            "colorbar": {
             "outlinewidth": 1,
             "tickcolor": "rgb(36,36,36)",
             "ticks": "outside"
            },
            "colorscale": [
             [
              0,
              "#440154"
             ],
             [
              0.1111111111111111,
              "#482878"
             ],
             [
              0.2222222222222222,
              "#3e4989"
             ],
             [
              0.3333333333333333,
              "#31688e"
             ],
             [
              0.4444444444444444,
              "#26828e"
             ],
             [
              0.5555555555555556,
              "#1f9e89"
             ],
             [
              0.6666666666666666,
              "#35b779"
             ],
             [
              0.7777777777777778,
              "#6ece58"
             ],
             [
              0.8888888888888888,
              "#b5de2b"
             ],
             [
              1,
              "#fde725"
             ]
            ],
            "type": "heatmapgl"
           }
          ],
          "histogram": [
           {
            "marker": {
             "line": {
              "color": "white",
              "width": 0.6
             }
            },
            "type": "histogram"
           }
          ],
          "histogram2d": [
           {
            "colorbar": {
             "outlinewidth": 1,
             "tickcolor": "rgb(36,36,36)",
             "ticks": "outside"
            },
            "colorscale": [
             [
              0,
              "#440154"
             ],
             [
              0.1111111111111111,
              "#482878"
             ],
             [
              0.2222222222222222,
              "#3e4989"
             ],
             [
              0.3333333333333333,
              "#31688e"
             ],
             [
              0.4444444444444444,
              "#26828e"
             ],
             [
              0.5555555555555556,
              "#1f9e89"
             ],
             [
              0.6666666666666666,
              "#35b779"
             ],
             [
              0.7777777777777778,
              "#6ece58"
             ],
             [
              0.8888888888888888,
              "#b5de2b"
             ],
             [
              1,
              "#fde725"
             ]
            ],
            "type": "histogram2d"
           }
          ],
          "histogram2dcontour": [
           {
            "colorbar": {
             "outlinewidth": 1,
             "tickcolor": "rgb(36,36,36)",
             "ticks": "outside"
            },
            "colorscale": [
             [
              0,
              "#440154"
             ],
             [
              0.1111111111111111,
              "#482878"
             ],
             [
              0.2222222222222222,
              "#3e4989"
             ],
             [
              0.3333333333333333,
              "#31688e"
             ],
             [
              0.4444444444444444,
              "#26828e"
             ],
             [
              0.5555555555555556,
              "#1f9e89"
             ],
             [
              0.6666666666666666,
              "#35b779"
             ],
             [
              0.7777777777777778,
              "#6ece58"
             ],
             [
              0.8888888888888888,
              "#b5de2b"
             ],
             [
              1,
              "#fde725"
             ]
            ],
            "type": "histogram2dcontour"
           }
          ],
          "mesh3d": [
           {
            "colorbar": {
             "outlinewidth": 1,
             "tickcolor": "rgb(36,36,36)",
             "ticks": "outside"
            },
            "type": "mesh3d"
           }
          ],
          "parcoords": [
           {
            "line": {
             "colorbar": {
              "outlinewidth": 1,
              "tickcolor": "rgb(36,36,36)",
              "ticks": "outside"
             }
            },
            "type": "parcoords"
           }
          ],
          "pie": [
           {
            "automargin": true,
            "type": "pie"
           }
          ],
          "scatter": [
           {
            "fillpattern": {
             "fillmode": "overlay",
             "size": 10,
             "solidity": 0.2
            },
            "type": "scatter"
           }
          ],
          "scatter3d": [
           {
            "line": {
             "colorbar": {
              "outlinewidth": 1,
              "tickcolor": "rgb(36,36,36)",
              "ticks": "outside"
             }
            },
            "marker": {
             "colorbar": {
              "outlinewidth": 1,
              "tickcolor": "rgb(36,36,36)",
              "ticks": "outside"
             }
            },
            "type": "scatter3d"
           }
          ],
          "scattercarpet": [
           {
            "marker": {
             "colorbar": {
              "outlinewidth": 1,
              "tickcolor": "rgb(36,36,36)",
              "ticks": "outside"
             }
            },
            "type": "scattercarpet"
           }
          ],
          "scattergeo": [
           {
            "marker": {
             "colorbar": {
              "outlinewidth": 1,
              "tickcolor": "rgb(36,36,36)",
              "ticks": "outside"
             }
            },
            "type": "scattergeo"
           }
          ],
          "scattergl": [
           {
            "marker": {
             "colorbar": {
              "outlinewidth": 1,
              "tickcolor": "rgb(36,36,36)",
              "ticks": "outside"
             }
            },
            "type": "scattergl"
           }
          ],
          "scattermapbox": [
           {
            "marker": {
             "colorbar": {
              "outlinewidth": 1,
              "tickcolor": "rgb(36,36,36)",
              "ticks": "outside"
             }
            },
            "type": "scattermapbox"
           }
          ],
          "scatterpolar": [
           {
            "marker": {
             "colorbar": {
              "outlinewidth": 1,
              "tickcolor": "rgb(36,36,36)",
              "ticks": "outside"
             }
            },
            "type": "scatterpolar"
           }
          ],
          "scatterpolargl": [
           {
            "marker": {
             "colorbar": {
              "outlinewidth": 1,
              "tickcolor": "rgb(36,36,36)",
              "ticks": "outside"
             }
            },
            "type": "scatterpolargl"
           }
          ],
          "scatterternary": [
           {
            "marker": {
             "colorbar": {
              "outlinewidth": 1,
              "tickcolor": "rgb(36,36,36)",
              "ticks": "outside"
             }
            },
            "type": "scatterternary"
           }
          ],
          "surface": [
           {
            "colorbar": {
             "outlinewidth": 1,
             "tickcolor": "rgb(36,36,36)",
             "ticks": "outside"
            },
            "colorscale": [
             [
              0,
              "#440154"
             ],
             [
              0.1111111111111111,
              "#482878"
             ],
             [
              0.2222222222222222,
              "#3e4989"
             ],
             [
              0.3333333333333333,
              "#31688e"
             ],
             [
              0.4444444444444444,
              "#26828e"
             ],
             [
              0.5555555555555556,
              "#1f9e89"
             ],
             [
              0.6666666666666666,
              "#35b779"
             ],
             [
              0.7777777777777778,
              "#6ece58"
             ],
             [
              0.8888888888888888,
              "#b5de2b"
             ],
             [
              1,
              "#fde725"
             ]
            ],
            "type": "surface"
           }
          ],
          "table": [
           {
            "cells": {
             "fill": {
              "color": "rgb(237,237,237)"
             },
             "line": {
              "color": "white"
             }
            },
            "header": {
             "fill": {
              "color": "rgb(217,217,217)"
             },
             "line": {
              "color": "white"
             }
            },
            "type": "table"
           }
          ]
         },
         "layout": {
          "annotationdefaults": {
           "arrowhead": 0,
           "arrowwidth": 1
          },
          "autotypenumbers": "strict",
          "coloraxis": {
           "colorbar": {
            "outlinewidth": 1,
            "tickcolor": "rgb(36,36,36)",
            "ticks": "outside"
           }
          },
          "colorscale": {
           "diverging": [
            [
             0,
             "rgb(103,0,31)"
            ],
            [
             0.1,
             "rgb(178,24,43)"
            ],
            [
             0.2,
             "rgb(214,96,77)"
            ],
            [
             0.3,
             "rgb(244,165,130)"
            ],
            [
             0.4,
             "rgb(253,219,199)"
            ],
            [
             0.5,
             "rgb(247,247,247)"
            ],
            [
             0.6,
             "rgb(209,229,240)"
            ],
            [
             0.7,
             "rgb(146,197,222)"
            ],
            [
             0.8,
             "rgb(67,147,195)"
            ],
            [
             0.9,
             "rgb(33,102,172)"
            ],
            [
             1,
             "rgb(5,48,97)"
            ]
           ],
           "sequential": [
            [
             0,
             "#440154"
            ],
            [
             0.1111111111111111,
             "#482878"
            ],
            [
             0.2222222222222222,
             "#3e4989"
            ],
            [
             0.3333333333333333,
             "#31688e"
            ],
            [
             0.4444444444444444,
             "#26828e"
            ],
            [
             0.5555555555555556,
             "#1f9e89"
            ],
            [
             0.6666666666666666,
             "#35b779"
            ],
            [
             0.7777777777777778,
             "#6ece58"
            ],
            [
             0.8888888888888888,
             "#b5de2b"
            ],
            [
             1,
             "#fde725"
            ]
           ],
           "sequentialminus": [
            [
             0,
             "#440154"
            ],
            [
             0.1111111111111111,
             "#482878"
            ],
            [
             0.2222222222222222,
             "#3e4989"
            ],
            [
             0.3333333333333333,
             "#31688e"
            ],
            [
             0.4444444444444444,
             "#26828e"
            ],
            [
             0.5555555555555556,
             "#1f9e89"
            ],
            [
             0.6666666666666666,
             "#35b779"
            ],
            [
             0.7777777777777778,
             "#6ece58"
            ],
            [
             0.8888888888888888,
             "#b5de2b"
            ],
            [
             1,
             "#fde725"
            ]
           ]
          },
          "colorway": [
           "#1F77B4",
           "#FF7F0E",
           "#2CA02C",
           "#D62728",
           "#9467BD",
           "#8C564B",
           "#E377C2",
           "#7F7F7F",
           "#BCBD22",
           "#17BECF"
          ],
          "font": {
           "color": "rgb(36,36,36)"
          },
          "geo": {
           "bgcolor": "white",
           "lakecolor": "white",
           "landcolor": "white",
           "showlakes": true,
           "showland": true,
           "subunitcolor": "white"
          },
          "hoverlabel": {
           "align": "left"
          },
          "hovermode": "closest",
          "mapbox": {
           "style": "light"
          },
          "paper_bgcolor": "white",
          "plot_bgcolor": "white",
          "polar": {
           "angularaxis": {
            "gridcolor": "rgb(232,232,232)",
            "linecolor": "rgb(36,36,36)",
            "showgrid": false,
            "showline": true,
            "ticks": "outside"
           },
           "bgcolor": "white",
           "radialaxis": {
            "gridcolor": "rgb(232,232,232)",
            "linecolor": "rgb(36,36,36)",
            "showgrid": false,
            "showline": true,
            "ticks": "outside"
           }
          },
          "scene": {
           "xaxis": {
            "backgroundcolor": "white",
            "gridcolor": "rgb(232,232,232)",
            "gridwidth": 2,
            "linecolor": "rgb(36,36,36)",
            "showbackground": true,
            "showgrid": false,
            "showline": true,
            "ticks": "outside",
            "zeroline": false,
            "zerolinecolor": "rgb(36,36,36)"
           },
           "yaxis": {
            "backgroundcolor": "white",
            "gridcolor": "rgb(232,232,232)",
            "gridwidth": 2,
            "linecolor": "rgb(36,36,36)",
            "showbackground": true,
            "showgrid": false,
            "showline": true,
            "ticks": "outside",
            "zeroline": false,
            "zerolinecolor": "rgb(36,36,36)"
           },
           "zaxis": {
            "backgroundcolor": "white",
            "gridcolor": "rgb(232,232,232)",
            "gridwidth": 2,
            "linecolor": "rgb(36,36,36)",
            "showbackground": true,
            "showgrid": false,
            "showline": true,
            "ticks": "outside",
            "zeroline": false,
            "zerolinecolor": "rgb(36,36,36)"
           }
          },
          "shapedefaults": {
           "fillcolor": "black",
           "line": {
            "width": 0
           },
           "opacity": 0.3
          },
          "ternary": {
           "aaxis": {
            "gridcolor": "rgb(232,232,232)",
            "linecolor": "rgb(36,36,36)",
            "showgrid": false,
            "showline": true,
            "ticks": "outside"
           },
           "baxis": {
            "gridcolor": "rgb(232,232,232)",
            "linecolor": "rgb(36,36,36)",
            "showgrid": false,
            "showline": true,
            "ticks": "outside"
           },
           "bgcolor": "white",
           "caxis": {
            "gridcolor": "rgb(232,232,232)",
            "linecolor": "rgb(36,36,36)",
            "showgrid": false,
            "showline": true,
            "ticks": "outside"
           }
          },
          "title": {
           "x": 0.05
          },
          "xaxis": {
           "automargin": true,
           "gridcolor": "rgb(232,232,232)",
           "linecolor": "rgb(36,36,36)",
           "showgrid": false,
           "showline": true,
           "ticks": "outside",
           "title": {
            "standoff": 15
           },
           "zeroline": false,
           "zerolinecolor": "rgb(36,36,36)"
          },
          "yaxis": {
           "automargin": true,
           "gridcolor": "rgb(232,232,232)",
           "linecolor": "rgb(36,36,36)",
           "showgrid": false,
           "showline": true,
           "ticks": "outside",
           "title": {
            "standoff": 15
           },
           "zeroline": false,
           "zerolinecolor": "rgb(36,36,36)"
          }
         }
        },
        "title": {
         "font": {
          "color": "Black",
          "size": 22
         },
         "text": "Topics Over Time for 2020Q3",
         "x": 0.4,
         "xanchor": "center",
         "y": 0.95,
         "yanchor": "top"
        },
        "width": 1250,
        "xaxis": {
         "showgrid": true
        },
        "yaxis": {
         "showgrid": true,
         "title": {
          "text": "Frequency"
         }
        }
       }
      }
     },
     "metadata": {},
     "output_type": "display_data"
    },
    {
     "data": {
      "application/vnd.plotly.v1+json": {
       "config": {
        "plotlyServerURL": "https://plot.ly"
       },
       "data": [
        {
         "hoverinfo": "text",
         "hovertext": [
          "<b>Topic 0</b><br>Words: islam, politis, politik, gtgt, haji",
          "<b>Topic 0</b><br>Words: islam, sekularismekapitalisme, berkah, satusatunya, cek",
          "<b>Topic 0</b><br>Words: islam, kaji, ekonomi, perban, motivator",
          "<b>Topic 0</b><br>Words: muhammadiyah, seluruh, pp, mccc, amal",
          "<b>Topic 0</b><br>Words: gtgt, islam, cukup, layak, dapat"
         ],
         "marker": {
          "color": "#E69F00"
         },
         "mode": "lines",
         "name": "0_islam_gtgt_cukup_seluruh",
         "type": "scatter",
         "x": [
          "2020-10-22T07:54:38.700000+00:00",
          "2020-11-09T11:53:39.300000+00:00",
          "2020-11-12T12:33:29.400000+00:00",
          "2020-11-15T13:13:19.500000+00:00",
          "2020-12-24T21:51:10.800000+00:00"
         ],
         "y": [
          1,
          1,
          1,
          2,
          7
         ]
        },
        {
         "hoverinfo": "text",
         "hovertext": [
          "<b>Topic 1</b><br>Words: kampus, sama, pimpin, menteri, indonesia",
          "<b>Topic 1</b><br>Words: ajar, merdeka, pandemi, buat, indonesia",
          "<b>Topic 1</b><br>Words: papua, perintah, jadi, ganti, baik",
          "<b>Topic 1</b><br>Words: formal, uji, kemendikbud, nasional, beri",
          "<b>Topic 1</b><br>Words: cuci, tangan, menteri, sabun, apbn",
          "<b>Topic 1</b><br>Words: menteri, politik, nadin, bogor, pak",
          "<b>Topic 1</b><br>Words: perintah, sama, pandemi, masa, jadi",
          "<b>Topic 1</b><br>Words: ubah, jadi, menteri, ambil, mampu",
          "<b>Topic 1</b><br>Words: indonesia, nadiem, bagai, sekolah, tahun",
          "<b>Topic 1</b><br>Words: mana, masyarakat, jadi, lama, gelargelar",
          "<b>Topic 1</b><br>Words: kerja, luncur, lama, nadiem, baswedan",
          "<b>Topic 1</b><br>Words: perintah, indonesia, dana, alam, presiden",
          "<b>Topic 1</b><br>Words: manusia, kurikulum, indonesia, landas, rpjmm",
          "<b>Topic 1</b><br>Words: ajar, perintah, indonesia, masalah, pandemi",
          "<b>Topic 1</b><br>Words: publik, indonesia, darmawan, upi, prof",
          "<b>Topic 1</b><br>Words: tahun, sekolah, kampus, swasta, infrastruktur",
          "<b>Topic 1</b><br>Words: ajar, menteri, pandemi, sekolah, muka",
          "<b>Topic 1</b><br>Words: tatap, muka, menteri, nadiem, sekolah",
          "<b>Topic 1</b><br>Words: ajar, pandemi, sekolah, merdeka, tatap",
          "<b>Topic 1</b><br>Words: ptnbh, jadi, jalur, guru, malah",
          "<b>Topic 1</b><br>Words: program, semua, sama, ajar, merdeka",
          "<b>Topic 1</b><br>Words: menteri, perintah, daerah, indonesia, inovasi",
          "<b>Topic 1</b><br>Words: teknologi, digital, bas, tingkat, indonesia",
          "<b>Topic 1</b><br>Words: gue, asa, anehaneh, wasalam, lobang",
          "<b>Topic 1</b><br>Words: periode, anakanak, daftar, ajar, perintah",
          "<b>Topic 1</b><br>Words: jurnal, sok, masa, saia, jadi"
         ],
         "marker": {
          "color": "#56B4E9"
         },
         "mode": "lines",
         "name": "1_menteri_ajar_perintah_indonesia",
         "type": "scatter",
         "x": [
          "2020-10-01T01:05:00.296999+00:00",
          "2020-10-04T03:55:38.100000+00:00",
          "2020-10-07T04:35:28.200000+00:00",
          "2020-10-10T05:15:18.300000+00:00",
          "2020-10-13T05:55:08.400000+00:00",
          "2020-10-16T06:34:58.500000+00:00",
          "2020-10-19T07:14:48.600000+00:00",
          "2020-10-22T07:54:38.700000+00:00",
          "2020-10-25T08:34:28.800000+00:00",
          "2020-10-28T09:14:18.900000+00:00",
          "2020-10-31T09:54:09+00:00",
          "2020-11-03T10:33:59.100000+00:00",
          "2020-11-06T11:13:49.200000+00:00",
          "2020-11-09T11:53:39.300000+00:00",
          "2020-11-12T12:33:29.400000+00:00",
          "2020-11-15T13:13:19.500000+00:00",
          "2020-11-18T13:53:09.600000+00:00",
          "2020-11-21T14:32:59.700000+00:00",
          "2020-11-24T15:12:49.800000+00:00",
          "2020-11-27T15:52:39.900000+00:00",
          "2020-12-12T19:11:50.400000+00:00",
          "2020-12-15T19:51:40.500000+00:00",
          "2020-12-18T20:31:30.600000+00:00",
          "2020-12-21T21:11:20.700000+00:00",
          "2020-12-24T21:51:10.800000+00:00",
          "2020-12-27T22:31:00.900000+00:00"
         ],
         "y": [
          11,
          31,
          21,
          14,
          9,
          8,
          21,
          12,
          16,
          8,
          9,
          15,
          5,
          16,
          11,
          8,
          20,
          13,
          18,
          24,
          6,
          12,
          7,
          2,
          17,
          10
         ]
        }
       ],
       "layout": {
        "height": 450,
        "hoverlabel": {
         "bgcolor": "white",
         "font": {
          "family": "Rockwell",
          "size": 16
         }
        },
        "legend": {
         "title": {
          "text": "<b>Global Topic Representation"
         }
        },
        "template": {
         "data": {
          "bar": [
           {
            "error_x": {
             "color": "rgb(36,36,36)"
            },
            "error_y": {
             "color": "rgb(36,36,36)"
            },
            "marker": {
             "line": {
              "color": "white",
              "width": 0.5
             },
             "pattern": {
              "fillmode": "overlay",
              "size": 10,
              "solidity": 0.2
             }
            },
            "type": "bar"
           }
          ],
          "barpolar": [
           {
            "marker": {
             "line": {
              "color": "white",
              "width": 0.5
             },
             "pattern": {
              "fillmode": "overlay",
              "size": 10,
              "solidity": 0.2
             }
            },
            "type": "barpolar"
           }
          ],
          "carpet": [
           {
            "aaxis": {
             "endlinecolor": "rgb(36,36,36)",
             "gridcolor": "white",
             "linecolor": "white",
             "minorgridcolor": "white",
             "startlinecolor": "rgb(36,36,36)"
            },
            "baxis": {
             "endlinecolor": "rgb(36,36,36)",
             "gridcolor": "white",
             "linecolor": "white",
             "minorgridcolor": "white",
             "startlinecolor": "rgb(36,36,36)"
            },
            "type": "carpet"
           }
          ],
          "choropleth": [
           {
            "colorbar": {
             "outlinewidth": 1,
             "tickcolor": "rgb(36,36,36)",
             "ticks": "outside"
            },
            "type": "choropleth"
           }
          ],
          "contour": [
           {
            "colorbar": {
             "outlinewidth": 1,
             "tickcolor": "rgb(36,36,36)",
             "ticks": "outside"
            },
            "colorscale": [
             [
              0,
              "#440154"
             ],
             [
              0.1111111111111111,
              "#482878"
             ],
             [
              0.2222222222222222,
              "#3e4989"
             ],
             [
              0.3333333333333333,
              "#31688e"
             ],
             [
              0.4444444444444444,
              "#26828e"
             ],
             [
              0.5555555555555556,
              "#1f9e89"
             ],
             [
              0.6666666666666666,
              "#35b779"
             ],
             [
              0.7777777777777778,
              "#6ece58"
             ],
             [
              0.8888888888888888,
              "#b5de2b"
             ],
             [
              1,
              "#fde725"
             ]
            ],
            "type": "contour"
           }
          ],
          "contourcarpet": [
           {
            "colorbar": {
             "outlinewidth": 1,
             "tickcolor": "rgb(36,36,36)",
             "ticks": "outside"
            },
            "type": "contourcarpet"
           }
          ],
          "heatmap": [
           {
            "colorbar": {
             "outlinewidth": 1,
             "tickcolor": "rgb(36,36,36)",
             "ticks": "outside"
            },
            "colorscale": [
             [
              0,
              "#440154"
             ],
             [
              0.1111111111111111,
              "#482878"
             ],
             [
              0.2222222222222222,
              "#3e4989"
             ],
             [
              0.3333333333333333,
              "#31688e"
             ],
             [
              0.4444444444444444,
              "#26828e"
             ],
             [
              0.5555555555555556,
              "#1f9e89"
             ],
             [
              0.6666666666666666,
              "#35b779"
             ],
             [
              0.7777777777777778,
              "#6ece58"
             ],
             [
              0.8888888888888888,
              "#b5de2b"
             ],
             [
              1,
              "#fde725"
             ]
            ],
            "type": "heatmap"
           }
          ],
          "heatmapgl": [
           {
            "colorbar": {
             "outlinewidth": 1,
             "tickcolor": "rgb(36,36,36)",
             "ticks": "outside"
            },
            "colorscale": [
             [
              0,
              "#440154"
             ],
             [
              0.1111111111111111,
              "#482878"
             ],
             [
              0.2222222222222222,
              "#3e4989"
             ],
             [
              0.3333333333333333,
              "#31688e"
             ],
             [
              0.4444444444444444,
              "#26828e"
             ],
             [
              0.5555555555555556,
              "#1f9e89"
             ],
             [
              0.6666666666666666,
              "#35b779"
             ],
             [
              0.7777777777777778,
              "#6ece58"
             ],
             [
              0.8888888888888888,
              "#b5de2b"
             ],
             [
              1,
              "#fde725"
             ]
            ],
            "type": "heatmapgl"
           }
          ],
          "histogram": [
           {
            "marker": {
             "line": {
              "color": "white",
              "width": 0.6
             }
            },
            "type": "histogram"
           }
          ],
          "histogram2d": [
           {
            "colorbar": {
             "outlinewidth": 1,
             "tickcolor": "rgb(36,36,36)",
             "ticks": "outside"
            },
            "colorscale": [
             [
              0,
              "#440154"
             ],
             [
              0.1111111111111111,
              "#482878"
             ],
             [
              0.2222222222222222,
              "#3e4989"
             ],
             [
              0.3333333333333333,
              "#31688e"
             ],
             [
              0.4444444444444444,
              "#26828e"
             ],
             [
              0.5555555555555556,
              "#1f9e89"
             ],
             [
              0.6666666666666666,
              "#35b779"
             ],
             [
              0.7777777777777778,
              "#6ece58"
             ],
             [
              0.8888888888888888,
              "#b5de2b"
             ],
             [
              1,
              "#fde725"
             ]
            ],
            "type": "histogram2d"
           }
          ],
          "histogram2dcontour": [
           {
            "colorbar": {
             "outlinewidth": 1,
             "tickcolor": "rgb(36,36,36)",
             "ticks": "outside"
            },
            "colorscale": [
             [
              0,
              "#440154"
             ],
             [
              0.1111111111111111,
              "#482878"
             ],
             [
              0.2222222222222222,
              "#3e4989"
             ],
             [
              0.3333333333333333,
              "#31688e"
             ],
             [
              0.4444444444444444,
              "#26828e"
             ],
             [
              0.5555555555555556,
              "#1f9e89"
             ],
             [
              0.6666666666666666,
              "#35b779"
             ],
             [
              0.7777777777777778,
              "#6ece58"
             ],
             [
              0.8888888888888888,
              "#b5de2b"
             ],
             [
              1,
              "#fde725"
             ]
            ],
            "type": "histogram2dcontour"
           }
          ],
          "mesh3d": [
           {
            "colorbar": {
             "outlinewidth": 1,
             "tickcolor": "rgb(36,36,36)",
             "ticks": "outside"
            },
            "type": "mesh3d"
           }
          ],
          "parcoords": [
           {
            "line": {
             "colorbar": {
              "outlinewidth": 1,
              "tickcolor": "rgb(36,36,36)",
              "ticks": "outside"
             }
            },
            "type": "parcoords"
           }
          ],
          "pie": [
           {
            "automargin": true,
            "type": "pie"
           }
          ],
          "scatter": [
           {
            "fillpattern": {
             "fillmode": "overlay",
             "size": 10,
             "solidity": 0.2
            },
            "type": "scatter"
           }
          ],
          "scatter3d": [
           {
            "line": {
             "colorbar": {
              "outlinewidth": 1,
              "tickcolor": "rgb(36,36,36)",
              "ticks": "outside"
             }
            },
            "marker": {
             "colorbar": {
              "outlinewidth": 1,
              "tickcolor": "rgb(36,36,36)",
              "ticks": "outside"
             }
            },
            "type": "scatter3d"
           }
          ],
          "scattercarpet": [
           {
            "marker": {
             "colorbar": {
              "outlinewidth": 1,
              "tickcolor": "rgb(36,36,36)",
              "ticks": "outside"
             }
            },
            "type": "scattercarpet"
           }
          ],
          "scattergeo": [
           {
            "marker": {
             "colorbar": {
              "outlinewidth": 1,
              "tickcolor": "rgb(36,36,36)",
              "ticks": "outside"
             }
            },
            "type": "scattergeo"
           }
          ],
          "scattergl": [
           {
            "marker": {
             "colorbar": {
              "outlinewidth": 1,
              "tickcolor": "rgb(36,36,36)",
              "ticks": "outside"
             }
            },
            "type": "scattergl"
           }
          ],
          "scattermapbox": [
           {
            "marker": {
             "colorbar": {
              "outlinewidth": 1,
              "tickcolor": "rgb(36,36,36)",
              "ticks": "outside"
             }
            },
            "type": "scattermapbox"
           }
          ],
          "scatterpolar": [
           {
            "marker": {
             "colorbar": {
              "outlinewidth": 1,
              "tickcolor": "rgb(36,36,36)",
              "ticks": "outside"
             }
            },
            "type": "scatterpolar"
           }
          ],
          "scatterpolargl": [
           {
            "marker": {
             "colorbar": {
              "outlinewidth": 1,
              "tickcolor": "rgb(36,36,36)",
              "ticks": "outside"
             }
            },
            "type": "scatterpolargl"
           }
          ],
          "scatterternary": [
           {
            "marker": {
             "colorbar": {
              "outlinewidth": 1,
              "tickcolor": "rgb(36,36,36)",
              "ticks": "outside"
             }
            },
            "type": "scatterternary"
           }
          ],
          "surface": [
           {
            "colorbar": {
             "outlinewidth": 1,
             "tickcolor": "rgb(36,36,36)",
             "ticks": "outside"
            },
            "colorscale": [
             [
              0,
              "#440154"
             ],
             [
              0.1111111111111111,
              "#482878"
             ],
             [
              0.2222222222222222,
              "#3e4989"
             ],
             [
              0.3333333333333333,
              "#31688e"
             ],
             [
              0.4444444444444444,
              "#26828e"
             ],
             [
              0.5555555555555556,
              "#1f9e89"
             ],
             [
              0.6666666666666666,
              "#35b779"
             ],
             [
              0.7777777777777778,
              "#6ece58"
             ],
             [
              0.8888888888888888,
              "#b5de2b"
             ],
             [
              1,
              "#fde725"
             ]
            ],
            "type": "surface"
           }
          ],
          "table": [
           {
            "cells": {
             "fill": {
              "color": "rgb(237,237,237)"
             },
             "line": {
              "color": "white"
             }
            },
            "header": {
             "fill": {
              "color": "rgb(217,217,217)"
             },
             "line": {
              "color": "white"
             }
            },
            "type": "table"
           }
          ]
         },
         "layout": {
          "annotationdefaults": {
           "arrowhead": 0,
           "arrowwidth": 1
          },
          "autotypenumbers": "strict",
          "coloraxis": {
           "colorbar": {
            "outlinewidth": 1,
            "tickcolor": "rgb(36,36,36)",
            "ticks": "outside"
           }
          },
          "colorscale": {
           "diverging": [
            [
             0,
             "rgb(103,0,31)"
            ],
            [
             0.1,
             "rgb(178,24,43)"
            ],
            [
             0.2,
             "rgb(214,96,77)"
            ],
            [
             0.3,
             "rgb(244,165,130)"
            ],
            [
             0.4,
             "rgb(253,219,199)"
            ],
            [
             0.5,
             "rgb(247,247,247)"
            ],
            [
             0.6,
             "rgb(209,229,240)"
            ],
            [
             0.7,
             "rgb(146,197,222)"
            ],
            [
             0.8,
             "rgb(67,147,195)"
            ],
            [
             0.9,
             "rgb(33,102,172)"
            ],
            [
             1,
             "rgb(5,48,97)"
            ]
           ],
           "sequential": [
            [
             0,
             "#440154"
            ],
            [
             0.1111111111111111,
             "#482878"
            ],
            [
             0.2222222222222222,
             "#3e4989"
            ],
            [
             0.3333333333333333,
             "#31688e"
            ],
            [
             0.4444444444444444,
             "#26828e"
            ],
            [
             0.5555555555555556,
             "#1f9e89"
            ],
            [
             0.6666666666666666,
             "#35b779"
            ],
            [
             0.7777777777777778,
             "#6ece58"
            ],
            [
             0.8888888888888888,
             "#b5de2b"
            ],
            [
             1,
             "#fde725"
            ]
           ],
           "sequentialminus": [
            [
             0,
             "#440154"
            ],
            [
             0.1111111111111111,
             "#482878"
            ],
            [
             0.2222222222222222,
             "#3e4989"
            ],
            [
             0.3333333333333333,
             "#31688e"
            ],
            [
             0.4444444444444444,
             "#26828e"
            ],
            [
             0.5555555555555556,
             "#1f9e89"
            ],
            [
             0.6666666666666666,
             "#35b779"
            ],
            [
             0.7777777777777778,
             "#6ece58"
            ],
            [
             0.8888888888888888,
             "#b5de2b"
            ],
            [
             1,
             "#fde725"
            ]
           ]
          },
          "colorway": [
           "#1F77B4",
           "#FF7F0E",
           "#2CA02C",
           "#D62728",
           "#9467BD",
           "#8C564B",
           "#E377C2",
           "#7F7F7F",
           "#BCBD22",
           "#17BECF"
          ],
          "font": {
           "color": "rgb(36,36,36)"
          },
          "geo": {
           "bgcolor": "white",
           "lakecolor": "white",
           "landcolor": "white",
           "showlakes": true,
           "showland": true,
           "subunitcolor": "white"
          },
          "hoverlabel": {
           "align": "left"
          },
          "hovermode": "closest",
          "mapbox": {
           "style": "light"
          },
          "paper_bgcolor": "white",
          "plot_bgcolor": "white",
          "polar": {
           "angularaxis": {
            "gridcolor": "rgb(232,232,232)",
            "linecolor": "rgb(36,36,36)",
            "showgrid": false,
            "showline": true,
            "ticks": "outside"
           },
           "bgcolor": "white",
           "radialaxis": {
            "gridcolor": "rgb(232,232,232)",
            "linecolor": "rgb(36,36,36)",
            "showgrid": false,
            "showline": true,
            "ticks": "outside"
           }
          },
          "scene": {
           "xaxis": {
            "backgroundcolor": "white",
            "gridcolor": "rgb(232,232,232)",
            "gridwidth": 2,
            "linecolor": "rgb(36,36,36)",
            "showbackground": true,
            "showgrid": false,
            "showline": true,
            "ticks": "outside",
            "zeroline": false,
            "zerolinecolor": "rgb(36,36,36)"
           },
           "yaxis": {
            "backgroundcolor": "white",
            "gridcolor": "rgb(232,232,232)",
            "gridwidth": 2,
            "linecolor": "rgb(36,36,36)",
            "showbackground": true,
            "showgrid": false,
            "showline": true,
            "ticks": "outside",
            "zeroline": false,
            "zerolinecolor": "rgb(36,36,36)"
           },
           "zaxis": {
            "backgroundcolor": "white",
            "gridcolor": "rgb(232,232,232)",
            "gridwidth": 2,
            "linecolor": "rgb(36,36,36)",
            "showbackground": true,
            "showgrid": false,
            "showline": true,
            "ticks": "outside",
            "zeroline": false,
            "zerolinecolor": "rgb(36,36,36)"
           }
          },
          "shapedefaults": {
           "fillcolor": "black",
           "line": {
            "width": 0
           },
           "opacity": 0.3
          },
          "ternary": {
           "aaxis": {
            "gridcolor": "rgb(232,232,232)",
            "linecolor": "rgb(36,36,36)",
            "showgrid": false,
            "showline": true,
            "ticks": "outside"
           },
           "baxis": {
            "gridcolor": "rgb(232,232,232)",
            "linecolor": "rgb(36,36,36)",
            "showgrid": false,
            "showline": true,
            "ticks": "outside"
           },
           "bgcolor": "white",
           "caxis": {
            "gridcolor": "rgb(232,232,232)",
            "linecolor": "rgb(36,36,36)",
            "showgrid": false,
            "showline": true,
            "ticks": "outside"
           }
          },
          "title": {
           "x": 0.05
          },
          "xaxis": {
           "automargin": true,
           "gridcolor": "rgb(232,232,232)",
           "linecolor": "rgb(36,36,36)",
           "showgrid": false,
           "showline": true,
           "ticks": "outside",
           "title": {
            "standoff": 15
           },
           "zeroline": false,
           "zerolinecolor": "rgb(36,36,36)"
          },
          "yaxis": {
           "automargin": true,
           "gridcolor": "rgb(232,232,232)",
           "linecolor": "rgb(36,36,36)",
           "showgrid": false,
           "showline": true,
           "ticks": "outside",
           "title": {
            "standoff": 15
           },
           "zeroline": false,
           "zerolinecolor": "rgb(36,36,36)"
          }
         }
        },
        "title": {
         "font": {
          "color": "Black",
          "size": 22
         },
         "text": "Topics Over Time for 2020Q4",
         "x": 0.4,
         "xanchor": "center",
         "y": 0.95,
         "yanchor": "top"
        },
        "width": 1250,
        "xaxis": {
         "showgrid": true
        },
        "yaxis": {
         "showgrid": true,
         "title": {
          "text": "Frequency"
         }
        }
       }
      }
     },
     "metadata": {},
     "output_type": "display_data"
    },
    {
     "data": {
      "application/vnd.plotly.v1+json": {
       "config": {
        "plotlyServerURL": "https://plot.ly"
       },
       "data": [
        {
         "hoverinfo": "text",
         "hovertext": [
          "<b>Topic 0</b><br>Words: musik, rancang, tradisional, apresiasi, lindung",
          "<b>Topic 0</b><br>Words: musik, rancang, hari, kemarin, tanggal",
          "<b>Topic 0</b><br>Words: musik, tradisional, apresiasi, karya, cipta"
         ],
         "marker": {
          "color": "#E69F00"
         },
         "mode": "lines",
         "name": "0_musik_tradisional_apresiasi_karya",
         "type": "scatter",
         "x": [
          "2021-03-07T09:47:13.133333+00:00",
          "2021-03-09T12:37:29.666666+00:00",
          "2021-03-13T18:18:02.733333+00:00"
         ],
         "y": [
          2,
          1,
          16
         ]
        },
        {
         "hoverinfo": "text",
         "hovertext": [
          "<b>Topic 1</b><br>Words: pandemi, bapk, line, smu, kelasbnyk",
          "<b>Topic 1</b><br>Words: pandemi, menggebuh, cangkul, kala, saat",
          "<b>Topic 1</b><br>Words: pandemi, jelas, audiensi, biaya, proporsional",
          "<b>Topic 1</b><br>Words: pandemi, pergub, inflasi, jelasjelas, merah",
          "<b>Topic 1</b><br>Words: pandemi, audiensi, biaya, tengah, langsung",
          "<b>Topic 1</b><br>Words: pandemi, biaya, ubah, audiensi, fkm",
          "<b>Topic 1</b><br>Words: pandemi, analyst, aryo, junior, ravelto",
          "<b>Topic 1</b><br>Words: tilik, covid, pandemi, sektor, perintah"
         ],
         "marker": {
          "color": "#56B4E9"
         },
         "mode": "lines",
         "name": "1_pandemi_audiensi_biaya_tengah",
         "type": "scatter",
         "x": [
          "2021-01-28T06:42:15.533333+00:00",
          "2021-02-01T12:22:48.600000+00:00",
          "2021-02-03T15:13:05.133333+00:00",
          "2021-02-12T02:34:11.266666+00:00",
          "2021-02-16T08:14:44.333333+00:00",
          "2021-02-18T11:05:00.866666+00:00",
          "2021-02-22T16:45:33.933333+00:00",
          "2021-03-01T01:16:23.533333+00:00"
         ],
         "y": [
          1,
          1,
          3,
          1,
          14,
          1,
          1,
          1
         ]
        },
        {
         "hoverinfo": "text",
         "hovertext": [
          "<b>Topic 2</b><br>Words: kualitas, mampu, otsus, papua, tingkat",
          "<b>Topic 2</b><br>Words: kualitas, mampu, otsus, papua, tingkat",
          "<b>Topic 2</b><br>Words: kualitas, mampu, otsus, papua, tingkat",
          "<b>Topic 2</b><br>Words: tara, otsus, sektor, kualitas, mampu",
          "<b>Topic 2</b><br>Words: kualitas, mampu, otsus, papua, tingkat",
          "<b>Topic 2</b><br>Words: barangjasa, kualitas, mampu, otsus, ada"
         ],
         "marker": {
          "color": "#009E73"
         },
         "mode": "lines",
         "name": "2_kualitas_mampu_otsus_papua",
         "type": "scatter",
         "x": [
          "2021-01-28T06:42:15.533333+00:00",
          "2021-02-05T18:03:21.666666+00:00",
          "2021-02-12T02:34:11.266666+00:00",
          "2021-02-16T08:14:44.333333+00:00",
          "2021-02-26T22:26:07+00:00",
          "2021-03-09T12:37:29.666666+00:00"
         ],
         "y": [
          4,
          2,
          1,
          1,
          4,
          1
         ]
        },
        {
         "hoverinfo": "text",
         "hovertext": [
          "<b>Topic 3</b><br>Words: dapat, papua, lapis, masyarakat, akses",
          "<b>Topic 3</b><br>Words: papua, infrastruktur, bukti, ekonomi, fokus",
          "<b>Topic 3</b><br>Words: papua, masyarakat, sejahtera, otonomi, bukti",
          "<b>Topic 3</b><br>Words: papua, otsus, jadi, otonomi, masyarakat",
          "<b>Topic 3</b><br>Words: papua, masyarakat, sejahtera, otonomi, bukti",
          "<b>Topic 3</b><br>Words: papua, perpu, provinsi, amp, lebih",
          "<b>Topic 3</b><br>Words: papua, masyarakat, dukung, mekar, sejahtera",
          "<b>Topic 3</b><br>Words: papua, masyarakat, sejahtera, otonomi, bukti",
          "<b>Topic 3</b><br>Words: otsus, papua, sejahtera, masyarakat, serius",
          "<b>Topic 3</b><br>Words: papua, putra, inspektur, sip, bintara"
         ],
         "marker": {
          "color": "#F0E442"
         },
         "mode": "lines",
         "name": "3_papua_masyarakat_sejahtera_otsus",
         "type": "scatter",
         "x": [
          "2021-02-05T18:03:21.666666+00:00",
          "2021-02-09T23:43:54.733333+00:00",
          "2021-02-18T11:05:00.866666+00:00",
          "2021-02-24T19:35:50.466666+00:00",
          "2021-02-26T22:26:07+00:00",
          "2021-03-01T01:16:23.533333+00:00",
          "2021-03-17T23:58:35.800000+00:00",
          "2021-03-24T08:29:25.400000+00:00",
          "2021-03-26T11:19:41.933333+00:00",
          "2021-03-28T14:09:58.466666+00:00"
         ],
         "y": [
          1,
          1,
          2,
          3,
          1,
          1,
          1,
          3,
          1,
          1
         ]
        },
        {
         "hoverinfo": "text",
         "hovertext": [
          "<b>Topic 4</b><br>Words: abadi, ngobrolin, santun, daun, sembilan",
          "<b>Topic 4</b><br>Words: kuota, internet, bantu, data, kemendikbud",
          "<b>Topic 4</b><br>Words: bantu, internet, kuota, data, kemendikbud",
          "<b>Topic 4</b><br>Words: kuota, bantu, internet, data, kemendikbud",
          "<b>Topic 4</b><br>Words: internet, kuota, bantu, kemendikbud, data"
         ],
         "marker": {
          "color": "#D55E00"
         },
         "mode": "lines",
         "name": "4_kuota_bantu_internet_data",
         "type": "scatter",
         "x": [
          "2021-02-18T11:05:00.866666+00:00",
          "2021-02-24T19:35:50.466666+00:00",
          "2021-03-01T01:16:23.533333+00:00",
          "2021-03-03T04:06:40.066666+00:00",
          "2021-03-09T12:37:29.666666+00:00"
         ],
         "y": [
          1,
          2,
          8,
          5,
          2
         ]
        },
        {
         "hoverinfo": "text",
         "hovertext": [
          "<b>Topic 5</b><br>Words: jadi, wajib, kad, copot, jamin",
          "<b>Topic 5</b><br>Words: pjp, susun, jadi, peta, jalan",
          "<b>Topic 5</b><br>Words: pdi, juang, sangat, internal, harga",
          "<b>Topic 5</b><br>Words: ibu, cebong, bela, jalan, peta",
          "<b>Topic 5</b><br>Words: jadi, nasional, baru, mu, malah",
          "<b>Topic 5</b><br>Words: perintah, mesti, indonesia, agama, buat",
          "<b>Topic 5</b><br>Words: lebih, program, indonesia, prakerja, seameo",
          "<b>Topic 5</b><br>Words: india, via, uji, sehat, aditomo",
          "<b>Topic 5</b><br>Words: sama, negeri, gue, kampus, merdeka",
          "<b>Topic 5</b><br>Words: macam, harap, gaji, soal, guru",
          "<b>Topic 5</b><br>Words: ajar, kampus, masuk, merdeka, indonesia",
          "<b>Topic 5</b><br>Words: informasi, merdeka, dm, inflamasi, rep",
          "<b>Topic 5</b><br>Words: sertifikasi, forum, tuai, honorer, ketua",
          "<b>Topic 5</b><br>Words: kota, lamongan, sekolah, yogyakarta, teh",
          "<b>Topic 5</b><br>Words: operasional, fisik, sekolah, padahal, alokasi",
          "<b>Topic 5</b><br>Words: desa, paket, miras, masyarakat, prihatin",
          "<b>Topic 5</b><br>Words: semua, selesai, sekolah, feminisme, nya",
          "<b>Topic 5</b><br>Words: ajar, kaji, normal, anakanak, kau",
          "<b>Topic 5</b><br>Words: kritik, merdeka, ajar, banyak, apa",
          "<b>Topic 5</b><br>Words: perempuan, agama, perintah, amp, tak",
          "<b>Topic 5</b><br>Words: agama, frasa, jalan, peta, kurikulum",
          "<b>Topic 5</b><br>Words: gue, tahun, paud, wajib, nasional",
          "<b>Topic 5</b><br>Words: tutup, lanka, sri, larang, ikut",
          "<b>Topic 5</b><br>Words: joko, widodo, lama, ikut, anak",
          "<b>Topic 5</b><br>Words: golkar, partai, artikel, arya, teken",
          "<b>Topic 5</b><br>Words: keluarga, ormawa, kunjung, nilai, laksana",
          "<b>Topic 5</b><br>Words: bukan, jalan, ajar, bekas, serta",
          "<b>Topic 5</b><br>Words: guru, kait, sekolah, cuma, glorifying",
          "<b>Topic 5</b><br>Words: penting, nyawa, coba, uji, sekolah",
          "<b>Topic 5</b><br>Words: jam, sekolah, tangan, dinas, muka"
         ],
         "marker": {
          "color": "#0072B2"
         },
         "mode": "lines",
         "name": "5_sekolah_ajar_indonesia_nasional",
         "type": "scatter",
         "x": [
          "2021-01-26T02:20:28.504000+00:00",
          "2021-01-28T06:42:15.533333+00:00",
          "2021-01-30T09:32:32.066666+00:00",
          "2021-02-01T12:22:48.600000+00:00",
          "2021-02-03T15:13:05.133333+00:00",
          "2021-02-05T18:03:21.666666+00:00",
          "2021-02-07T20:53:38.200000+00:00",
          "2021-02-09T23:43:54.733333+00:00",
          "2021-02-12T02:34:11.266666+00:00",
          "2021-02-14T05:24:27.800000+00:00",
          "2021-02-16T08:14:44.333333+00:00",
          "2021-02-18T11:05:00.866666+00:00",
          "2021-02-20T13:55:17.400000+00:00",
          "2021-02-22T16:45:33.933333+00:00",
          "2021-02-24T19:35:50.466666+00:00",
          "2021-02-26T22:26:07+00:00",
          "2021-03-01T01:16:23.533333+00:00",
          "2021-03-03T04:06:40.066666+00:00",
          "2021-03-05T06:56:56.600000+00:00",
          "2021-03-07T09:47:13.133333+00:00",
          "2021-03-09T12:37:29.666666+00:00",
          "2021-03-11T15:27:46.200000+00:00",
          "2021-03-13T18:18:02.733333+00:00",
          "2021-03-15T21:08:19.266666+00:00",
          "2021-03-17T23:58:35.800000+00:00",
          "2021-03-20T02:48:52.333333+00:00",
          "2021-03-22T05:39:08.866666+00:00",
          "2021-03-24T08:29:25.400000+00:00",
          "2021-03-26T11:19:41.933333+00:00",
          "2021-03-28T14:09:58.466666+00:00"
         ],
         "y": [
          9,
          14,
          2,
          10,
          17,
          19,
          12,
          5,
          7,
          5,
          9,
          2,
          1,
          7,
          7,
          2,
          9,
          4,
          6,
          10,
          14,
          11,
          11,
          3,
          2,
          3,
          7,
          8,
          3,
          8
         ]
        }
       ],
       "layout": {
        "height": 450,
        "hoverlabel": {
         "bgcolor": "white",
         "font": {
          "family": "Rockwell",
          "size": 16
         }
        },
        "legend": {
         "title": {
          "text": "<b>Global Topic Representation"
         }
        },
        "template": {
         "data": {
          "bar": [
           {
            "error_x": {
             "color": "rgb(36,36,36)"
            },
            "error_y": {
             "color": "rgb(36,36,36)"
            },
            "marker": {
             "line": {
              "color": "white",
              "width": 0.5
             },
             "pattern": {
              "fillmode": "overlay",
              "size": 10,
              "solidity": 0.2
             }
            },
            "type": "bar"
           }
          ],
          "barpolar": [
           {
            "marker": {
             "line": {
              "color": "white",
              "width": 0.5
             },
             "pattern": {
              "fillmode": "overlay",
              "size": 10,
              "solidity": 0.2
             }
            },
            "type": "barpolar"
           }
          ],
          "carpet": [
           {
            "aaxis": {
             "endlinecolor": "rgb(36,36,36)",
             "gridcolor": "white",
             "linecolor": "white",
             "minorgridcolor": "white",
             "startlinecolor": "rgb(36,36,36)"
            },
            "baxis": {
             "endlinecolor": "rgb(36,36,36)",
             "gridcolor": "white",
             "linecolor": "white",
             "minorgridcolor": "white",
             "startlinecolor": "rgb(36,36,36)"
            },
            "type": "carpet"
           }
          ],
          "choropleth": [
           {
            "colorbar": {
             "outlinewidth": 1,
             "tickcolor": "rgb(36,36,36)",
             "ticks": "outside"
            },
            "type": "choropleth"
           }
          ],
          "contour": [
           {
            "colorbar": {
             "outlinewidth": 1,
             "tickcolor": "rgb(36,36,36)",
             "ticks": "outside"
            },
            "colorscale": [
             [
              0,
              "#440154"
             ],
             [
              0.1111111111111111,
              "#482878"
             ],
             [
              0.2222222222222222,
              "#3e4989"
             ],
             [
              0.3333333333333333,
              "#31688e"
             ],
             [
              0.4444444444444444,
              "#26828e"
             ],
             [
              0.5555555555555556,
              "#1f9e89"
             ],
             [
              0.6666666666666666,
              "#35b779"
             ],
             [
              0.7777777777777778,
              "#6ece58"
             ],
             [
              0.8888888888888888,
              "#b5de2b"
             ],
             [
              1,
              "#fde725"
             ]
            ],
            "type": "contour"
           }
          ],
          "contourcarpet": [
           {
            "colorbar": {
             "outlinewidth": 1,
             "tickcolor": "rgb(36,36,36)",
             "ticks": "outside"
            },
            "type": "contourcarpet"
           }
          ],
          "heatmap": [
           {
            "colorbar": {
             "outlinewidth": 1,
             "tickcolor": "rgb(36,36,36)",
             "ticks": "outside"
            },
            "colorscale": [
             [
              0,
              "#440154"
             ],
             [
              0.1111111111111111,
              "#482878"
             ],
             [
              0.2222222222222222,
              "#3e4989"
             ],
             [
              0.3333333333333333,
              "#31688e"
             ],
             [
              0.4444444444444444,
              "#26828e"
             ],
             [
              0.5555555555555556,
              "#1f9e89"
             ],
             [
              0.6666666666666666,
              "#35b779"
             ],
             [
              0.7777777777777778,
              "#6ece58"
             ],
             [
              0.8888888888888888,
              "#b5de2b"
             ],
             [
              1,
              "#fde725"
             ]
            ],
            "type": "heatmap"
           }
          ],
          "heatmapgl": [
           {
            "colorbar": {
             "outlinewidth": 1,
             "tickcolor": "rgb(36,36,36)",
             "ticks": "outside"
            },
            "colorscale": [
             [
              0,
              "#440154"
             ],
             [
              0.1111111111111111,
              "#482878"
             ],
             [
              0.2222222222222222,
              "#3e4989"
             ],
             [
              0.3333333333333333,
              "#31688e"
             ],
             [
              0.4444444444444444,
              "#26828e"
             ],
             [
              0.5555555555555556,
              "#1f9e89"
             ],
             [
              0.6666666666666666,
              "#35b779"
             ],
             [
              0.7777777777777778,
              "#6ece58"
             ],
             [
              0.8888888888888888,
              "#b5de2b"
             ],
             [
              1,
              "#fde725"
             ]
            ],
            "type": "heatmapgl"
           }
          ],
          "histogram": [
           {
            "marker": {
             "line": {
              "color": "white",
              "width": 0.6
             }
            },
            "type": "histogram"
           }
          ],
          "histogram2d": [
           {
            "colorbar": {
             "outlinewidth": 1,
             "tickcolor": "rgb(36,36,36)",
             "ticks": "outside"
            },
            "colorscale": [
             [
              0,
              "#440154"
             ],
             [
              0.1111111111111111,
              "#482878"
             ],
             [
              0.2222222222222222,
              "#3e4989"
             ],
             [
              0.3333333333333333,
              "#31688e"
             ],
             [
              0.4444444444444444,
              "#26828e"
             ],
             [
              0.5555555555555556,
              "#1f9e89"
             ],
             [
              0.6666666666666666,
              "#35b779"
             ],
             [
              0.7777777777777778,
              "#6ece58"
             ],
             [
              0.8888888888888888,
              "#b5de2b"
             ],
             [
              1,
              "#fde725"
             ]
            ],
            "type": "histogram2d"
           }
          ],
          "histogram2dcontour": [
           {
            "colorbar": {
             "outlinewidth": 1,
             "tickcolor": "rgb(36,36,36)",
             "ticks": "outside"
            },
            "colorscale": [
             [
              0,
              "#440154"
             ],
             [
              0.1111111111111111,
              "#482878"
             ],
             [
              0.2222222222222222,
              "#3e4989"
             ],
             [
              0.3333333333333333,
              "#31688e"
             ],
             [
              0.4444444444444444,
              "#26828e"
             ],
             [
              0.5555555555555556,
              "#1f9e89"
             ],
             [
              0.6666666666666666,
              "#35b779"
             ],
             [
              0.7777777777777778,
              "#6ece58"
             ],
             [
              0.8888888888888888,
              "#b5de2b"
             ],
             [
              1,
              "#fde725"
             ]
            ],
            "type": "histogram2dcontour"
           }
          ],
          "mesh3d": [
           {
            "colorbar": {
             "outlinewidth": 1,
             "tickcolor": "rgb(36,36,36)",
             "ticks": "outside"
            },
            "type": "mesh3d"
           }
          ],
          "parcoords": [
           {
            "line": {
             "colorbar": {
              "outlinewidth": 1,
              "tickcolor": "rgb(36,36,36)",
              "ticks": "outside"
             }
            },
            "type": "parcoords"
           }
          ],
          "pie": [
           {
            "automargin": true,
            "type": "pie"
           }
          ],
          "scatter": [
           {
            "fillpattern": {
             "fillmode": "overlay",
             "size": 10,
             "solidity": 0.2
            },
            "type": "scatter"
           }
          ],
          "scatter3d": [
           {
            "line": {
             "colorbar": {
              "outlinewidth": 1,
              "tickcolor": "rgb(36,36,36)",
              "ticks": "outside"
             }
            },
            "marker": {
             "colorbar": {
              "outlinewidth": 1,
              "tickcolor": "rgb(36,36,36)",
              "ticks": "outside"
             }
            },
            "type": "scatter3d"
           }
          ],
          "scattercarpet": [
           {
            "marker": {
             "colorbar": {
              "outlinewidth": 1,
              "tickcolor": "rgb(36,36,36)",
              "ticks": "outside"
             }
            },
            "type": "scattercarpet"
           }
          ],
          "scattergeo": [
           {
            "marker": {
             "colorbar": {
              "outlinewidth": 1,
              "tickcolor": "rgb(36,36,36)",
              "ticks": "outside"
             }
            },
            "type": "scattergeo"
           }
          ],
          "scattergl": [
           {
            "marker": {
             "colorbar": {
              "outlinewidth": 1,
              "tickcolor": "rgb(36,36,36)",
              "ticks": "outside"
             }
            },
            "type": "scattergl"
           }
          ],
          "scattermapbox": [
           {
            "marker": {
             "colorbar": {
              "outlinewidth": 1,
              "tickcolor": "rgb(36,36,36)",
              "ticks": "outside"
             }
            },
            "type": "scattermapbox"
           }
          ],
          "scatterpolar": [
           {
            "marker": {
             "colorbar": {
              "outlinewidth": 1,
              "tickcolor": "rgb(36,36,36)",
              "ticks": "outside"
             }
            },
            "type": "scatterpolar"
           }
          ],
          "scatterpolargl": [
           {
            "marker": {
             "colorbar": {
              "outlinewidth": 1,
              "tickcolor": "rgb(36,36,36)",
              "ticks": "outside"
             }
            },
            "type": "scatterpolargl"
           }
          ],
          "scatterternary": [
           {
            "marker": {
             "colorbar": {
              "outlinewidth": 1,
              "tickcolor": "rgb(36,36,36)",
              "ticks": "outside"
             }
            },
            "type": "scatterternary"
           }
          ],
          "surface": [
           {
            "colorbar": {
             "outlinewidth": 1,
             "tickcolor": "rgb(36,36,36)",
             "ticks": "outside"
            },
            "colorscale": [
             [
              0,
              "#440154"
             ],
             [
              0.1111111111111111,
              "#482878"
             ],
             [
              0.2222222222222222,
              "#3e4989"
             ],
             [
              0.3333333333333333,
              "#31688e"
             ],
             [
              0.4444444444444444,
              "#26828e"
             ],
             [
              0.5555555555555556,
              "#1f9e89"
             ],
             [
              0.6666666666666666,
              "#35b779"
             ],
             [
              0.7777777777777778,
              "#6ece58"
             ],
             [
              0.8888888888888888,
              "#b5de2b"
             ],
             [
              1,
              "#fde725"
             ]
            ],
            "type": "surface"
           }
          ],
          "table": [
           {
            "cells": {
             "fill": {
              "color": "rgb(237,237,237)"
             },
             "line": {
              "color": "white"
             }
            },
            "header": {
             "fill": {
              "color": "rgb(217,217,217)"
             },
             "line": {
              "color": "white"
             }
            },
            "type": "table"
           }
          ]
         },
         "layout": {
          "annotationdefaults": {
           "arrowhead": 0,
           "arrowwidth": 1
          },
          "autotypenumbers": "strict",
          "coloraxis": {
           "colorbar": {
            "outlinewidth": 1,
            "tickcolor": "rgb(36,36,36)",
            "ticks": "outside"
           }
          },
          "colorscale": {
           "diverging": [
            [
             0,
             "rgb(103,0,31)"
            ],
            [
             0.1,
             "rgb(178,24,43)"
            ],
            [
             0.2,
             "rgb(214,96,77)"
            ],
            [
             0.3,
             "rgb(244,165,130)"
            ],
            [
             0.4,
             "rgb(253,219,199)"
            ],
            [
             0.5,
             "rgb(247,247,247)"
            ],
            [
             0.6,
             "rgb(209,229,240)"
            ],
            [
             0.7,
             "rgb(146,197,222)"
            ],
            [
             0.8,
             "rgb(67,147,195)"
            ],
            [
             0.9,
             "rgb(33,102,172)"
            ],
            [
             1,
             "rgb(5,48,97)"
            ]
           ],
           "sequential": [
            [
             0,
             "#440154"
            ],
            [
             0.1111111111111111,
             "#482878"
            ],
            [
             0.2222222222222222,
             "#3e4989"
            ],
            [
             0.3333333333333333,
             "#31688e"
            ],
            [
             0.4444444444444444,
             "#26828e"
            ],
            [
             0.5555555555555556,
             "#1f9e89"
            ],
            [
             0.6666666666666666,
             "#35b779"
            ],
            [
             0.7777777777777778,
             "#6ece58"
            ],
            [
             0.8888888888888888,
             "#b5de2b"
            ],
            [
             1,
             "#fde725"
            ]
           ],
           "sequentialminus": [
            [
             0,
             "#440154"
            ],
            [
             0.1111111111111111,
             "#482878"
            ],
            [
             0.2222222222222222,
             "#3e4989"
            ],
            [
             0.3333333333333333,
             "#31688e"
            ],
            [
             0.4444444444444444,
             "#26828e"
            ],
            [
             0.5555555555555556,
             "#1f9e89"
            ],
            [
             0.6666666666666666,
             "#35b779"
            ],
            [
             0.7777777777777778,
             "#6ece58"
            ],
            [
             0.8888888888888888,
             "#b5de2b"
            ],
            [
             1,
             "#fde725"
            ]
           ]
          },
          "colorway": [
           "#1F77B4",
           "#FF7F0E",
           "#2CA02C",
           "#D62728",
           "#9467BD",
           "#8C564B",
           "#E377C2",
           "#7F7F7F",
           "#BCBD22",
           "#17BECF"
          ],
          "font": {
           "color": "rgb(36,36,36)"
          },
          "geo": {
           "bgcolor": "white",
           "lakecolor": "white",
           "landcolor": "white",
           "showlakes": true,
           "showland": true,
           "subunitcolor": "white"
          },
          "hoverlabel": {
           "align": "left"
          },
          "hovermode": "closest",
          "mapbox": {
           "style": "light"
          },
          "paper_bgcolor": "white",
          "plot_bgcolor": "white",
          "polar": {
           "angularaxis": {
            "gridcolor": "rgb(232,232,232)",
            "linecolor": "rgb(36,36,36)",
            "showgrid": false,
            "showline": true,
            "ticks": "outside"
           },
           "bgcolor": "white",
           "radialaxis": {
            "gridcolor": "rgb(232,232,232)",
            "linecolor": "rgb(36,36,36)",
            "showgrid": false,
            "showline": true,
            "ticks": "outside"
           }
          },
          "scene": {
           "xaxis": {
            "backgroundcolor": "white",
            "gridcolor": "rgb(232,232,232)",
            "gridwidth": 2,
            "linecolor": "rgb(36,36,36)",
            "showbackground": true,
            "showgrid": false,
            "showline": true,
            "ticks": "outside",
            "zeroline": false,
            "zerolinecolor": "rgb(36,36,36)"
           },
           "yaxis": {
            "backgroundcolor": "white",
            "gridcolor": "rgb(232,232,232)",
            "gridwidth": 2,
            "linecolor": "rgb(36,36,36)",
            "showbackground": true,
            "showgrid": false,
            "showline": true,
            "ticks": "outside",
            "zeroline": false,
            "zerolinecolor": "rgb(36,36,36)"
           },
           "zaxis": {
            "backgroundcolor": "white",
            "gridcolor": "rgb(232,232,232)",
            "gridwidth": 2,
            "linecolor": "rgb(36,36,36)",
            "showbackground": true,
            "showgrid": false,
            "showline": true,
            "ticks": "outside",
            "zeroline": false,
            "zerolinecolor": "rgb(36,36,36)"
           }
          },
          "shapedefaults": {
           "fillcolor": "black",
           "line": {
            "width": 0
           },
           "opacity": 0.3
          },
          "ternary": {
           "aaxis": {
            "gridcolor": "rgb(232,232,232)",
            "linecolor": "rgb(36,36,36)",
            "showgrid": false,
            "showline": true,
            "ticks": "outside"
           },
           "baxis": {
            "gridcolor": "rgb(232,232,232)",
            "linecolor": "rgb(36,36,36)",
            "showgrid": false,
            "showline": true,
            "ticks": "outside"
           },
           "bgcolor": "white",
           "caxis": {
            "gridcolor": "rgb(232,232,232)",
            "linecolor": "rgb(36,36,36)",
            "showgrid": false,
            "showline": true,
            "ticks": "outside"
           }
          },
          "title": {
           "x": 0.05
          },
          "xaxis": {
           "automargin": true,
           "gridcolor": "rgb(232,232,232)",
           "linecolor": "rgb(36,36,36)",
           "showgrid": false,
           "showline": true,
           "ticks": "outside",
           "title": {
            "standoff": 15
           },
           "zeroline": false,
           "zerolinecolor": "rgb(36,36,36)"
          },
          "yaxis": {
           "automargin": true,
           "gridcolor": "rgb(232,232,232)",
           "linecolor": "rgb(36,36,36)",
           "showgrid": false,
           "showline": true,
           "ticks": "outside",
           "title": {
            "standoff": 15
           },
           "zeroline": false,
           "zerolinecolor": "rgb(36,36,36)"
          }
         }
        },
        "title": {
         "font": {
          "color": "Black",
          "size": 22
         },
         "text": "Topics Over Time for 2021Q1",
         "x": 0.4,
         "xanchor": "center",
         "y": 0.95,
         "yanchor": "top"
        },
        "width": 1250,
        "xaxis": {
         "showgrid": true
        },
        "yaxis": {
         "showgrid": true,
         "title": {
          "text": "Frequency"
         }
        }
       }
      }
     },
     "metadata": {},
     "output_type": "display_data"
    },
    {
     "data": {
      "application/vnd.plotly.v1+json": {
       "config": {
        "plotlyServerURL": "https://plot.ly"
       },
       "data": [
        {
         "hoverinfo": "text",
         "hovertext": [
          "<b>Topic 0</b><br>Words: papua, otsus, infrastruktur, kawal, tara",
          "<b>Topic 0</b><br>Words: papua, otsus, infrastruktur, tara, efek",
          "<b>Topic 0</b><br>Words: papua, otsus, infrastruktur, daya, lalu",
          "<b>Topic 0</b><br>Words: papua, paragon, innovation, dokter, umum",
          "<b>Topic 0</b><br>Words: papua, otsus, fsmpm, mahasiswa, bawa",
          "<b>Topic 0</b><br>Words: tol, transportasi, papua, otsus, daerah",
          "<b>Topic 0</b><br>Words: indonesia, dunia, jembatan, sekjen, dekade"
         ],
         "marker": {
          "color": "#E69F00"
         },
         "mode": "lines",
         "name": "0_papua_otsus_infrastruktur_sehat",
         "type": "scatter",
         "x": [
          "2021-04-01T00:21:29.752999+00:00",
          "2021-04-04T01:54:02.566666+00:00",
          "2021-04-07T01:18:04.133333+00:00",
          "2021-04-21T22:18:11.966666+00:00",
          "2021-04-24T21:42:13.533333+00:00",
          "2021-05-15T17:30:24.500000+00:00",
          "2021-06-20T10:18:43.300000+00:00"
         ],
         "y": [
          2,
          3,
          6,
          2,
          2,
          1,
          1
         ]
        },
        {
         "hoverinfo": "text",
         "hovertext": [
          "<b>Topic 1</b><br>Words: program, ajar, kip, jalan, sekolah",
          "<b>Topic 1</b><br>Words: kurikulum, merdeka, kipk, cepat, reformasi",
          "<b>Topic 1</b><br>Words: gt, implementasi, menteri, timur, kalimantan",
          "<b>Topic 1</b><br>Words: riset, menteri, tak, ajar, budaya",
          "<b>Topic 1</b><br>Words: menteri, merdeka, budaya, kemendikbud, satu",
          "<b>Topic 1</b><br>Words: merdeka, negara, menteri, budaya, tuju",
          "<b>Topic 1</b><br>Words: menteri, indonesia, sekolah, guru, ubah",
          "<b>Topic 1</b><br>Words: buku, ajar, lptk, bahas, kelola",
          "<b>Topic 1</b><br>Words: sama, dulu, orang, ajar, ribut",
          "<b>Topic 1</b><br>Words: menteri, budaya, tangguh, minimal, dprd",
          "<b>Topic 1</b><br>Words: ajar, kalau, percuma, guru, merdeka",
          "<b>Topic 1</b><br>Words: sekolah, buat, zonasi, ajar, menteri",
          "<b>Topic 1</b><br>Words: marah, awal, negeri, ikip, intelektualisasi",
          "<b>Topic 1</b><br>Words: kerjasama, nasional, banking, stie, school",
          "<b>Topic 1</b><br>Words: selalu, ganti, muhammadiyah, menteri, budaya",
          "<b>Topic 1</b><br>Words: covid, hijau, kota, pihak, perintah",
          "<b>Topic 1</b><br>Words: pajak, jabat, merdeka, remaja, uny",
          "<b>Topic 1</b><br>Words: provinsi, kategori, perintah, masuk, warga",
          "<b>Topic 1</b><br>Words: enggak, buat, its, presiden, hidup"
         ],
         "marker": {
          "color": "#56B4E9"
         },
         "mode": "lines",
         "name": "1_menteri_ajar_merdeka_budaya",
         "type": "scatter",
         "x": [
          "2021-04-01T00:21:29.752999+00:00",
          "2021-04-04T01:54:02.566666+00:00",
          "2021-04-07T01:18:04.133333+00:00",
          "2021-04-10T00:42:05.700000+00:00",
          "2021-04-13T00:06:07.266666+00:00",
          "2021-04-15T23:30:08.833333+00:00",
          "2021-04-18T22:54:10.400000+00:00",
          "2021-04-21T22:18:11.966666+00:00",
          "2021-04-24T21:42:13.533333+00:00",
          "2021-04-27T21:06:15.100000+00:00",
          "2021-05-15T17:30:24.500000+00:00",
          "2021-05-18T16:54:26.066666+00:00",
          "2021-05-21T16:18:27.633333+00:00",
          "2021-05-24T15:42:29.200000+00:00",
          "2021-05-27T15:06:30.766666+00:00",
          "2021-06-17T10:54:41.733333+00:00",
          "2021-06-20T10:18:43.300000+00:00",
          "2021-06-23T09:42:44.866666+00:00",
          "2021-06-26T09:06:46.433333+00:00"
         ],
         "y": [
          10,
          6,
          15,
          15,
          15,
          16,
          18,
          18,
          9,
          6,
          8,
          14,
          3,
          7,
          7,
          6,
          15,
          4,
          10
         ]
        }
       ],
       "layout": {
        "height": 450,
        "hoverlabel": {
         "bgcolor": "white",
         "font": {
          "family": "Rockwell",
          "size": 16
         }
        },
        "legend": {
         "title": {
          "text": "<b>Global Topic Representation"
         }
        },
        "template": {
         "data": {
          "bar": [
           {
            "error_x": {
             "color": "rgb(36,36,36)"
            },
            "error_y": {
             "color": "rgb(36,36,36)"
            },
            "marker": {
             "line": {
              "color": "white",
              "width": 0.5
             },
             "pattern": {
              "fillmode": "overlay",
              "size": 10,
              "solidity": 0.2
             }
            },
            "type": "bar"
           }
          ],
          "barpolar": [
           {
            "marker": {
             "line": {
              "color": "white",
              "width": 0.5
             },
             "pattern": {
              "fillmode": "overlay",
              "size": 10,
              "solidity": 0.2
             }
            },
            "type": "barpolar"
           }
          ],
          "carpet": [
           {
            "aaxis": {
             "endlinecolor": "rgb(36,36,36)",
             "gridcolor": "white",
             "linecolor": "white",
             "minorgridcolor": "white",
             "startlinecolor": "rgb(36,36,36)"
            },
            "baxis": {
             "endlinecolor": "rgb(36,36,36)",
             "gridcolor": "white",
             "linecolor": "white",
             "minorgridcolor": "white",
             "startlinecolor": "rgb(36,36,36)"
            },
            "type": "carpet"
           }
          ],
          "choropleth": [
           {
            "colorbar": {
             "outlinewidth": 1,
             "tickcolor": "rgb(36,36,36)",
             "ticks": "outside"
            },
            "type": "choropleth"
           }
          ],
          "contour": [
           {
            "colorbar": {
             "outlinewidth": 1,
             "tickcolor": "rgb(36,36,36)",
             "ticks": "outside"
            },
            "colorscale": [
             [
              0,
              "#440154"
             ],
             [
              0.1111111111111111,
              "#482878"
             ],
             [
              0.2222222222222222,
              "#3e4989"
             ],
             [
              0.3333333333333333,
              "#31688e"
             ],
             [
              0.4444444444444444,
              "#26828e"
             ],
             [
              0.5555555555555556,
              "#1f9e89"
             ],
             [
              0.6666666666666666,
              "#35b779"
             ],
             [
              0.7777777777777778,
              "#6ece58"
             ],
             [
              0.8888888888888888,
              "#b5de2b"
             ],
             [
              1,
              "#fde725"
             ]
            ],
            "type": "contour"
           }
          ],
          "contourcarpet": [
           {
            "colorbar": {
             "outlinewidth": 1,
             "tickcolor": "rgb(36,36,36)",
             "ticks": "outside"
            },
            "type": "contourcarpet"
           }
          ],
          "heatmap": [
           {
            "colorbar": {
             "outlinewidth": 1,
             "tickcolor": "rgb(36,36,36)",
             "ticks": "outside"
            },
            "colorscale": [
             [
              0,
              "#440154"
             ],
             [
              0.1111111111111111,
              "#482878"
             ],
             [
              0.2222222222222222,
              "#3e4989"
             ],
             [
              0.3333333333333333,
              "#31688e"
             ],
             [
              0.4444444444444444,
              "#26828e"
             ],
             [
              0.5555555555555556,
              "#1f9e89"
             ],
             [
              0.6666666666666666,
              "#35b779"
             ],
             [
              0.7777777777777778,
              "#6ece58"
             ],
             [
              0.8888888888888888,
              "#b5de2b"
             ],
             [
              1,
              "#fde725"
             ]
            ],
            "type": "heatmap"
           }
          ],
          "heatmapgl": [
           {
            "colorbar": {
             "outlinewidth": 1,
             "tickcolor": "rgb(36,36,36)",
             "ticks": "outside"
            },
            "colorscale": [
             [
              0,
              "#440154"
             ],
             [
              0.1111111111111111,
              "#482878"
             ],
             [
              0.2222222222222222,
              "#3e4989"
             ],
             [
              0.3333333333333333,
              "#31688e"
             ],
             [
              0.4444444444444444,
              "#26828e"
             ],
             [
              0.5555555555555556,
              "#1f9e89"
             ],
             [
              0.6666666666666666,
              "#35b779"
             ],
             [
              0.7777777777777778,
              "#6ece58"
             ],
             [
              0.8888888888888888,
              "#b5de2b"
             ],
             [
              1,
              "#fde725"
             ]
            ],
            "type": "heatmapgl"
           }
          ],
          "histogram": [
           {
            "marker": {
             "line": {
              "color": "white",
              "width": 0.6
             }
            },
            "type": "histogram"
           }
          ],
          "histogram2d": [
           {
            "colorbar": {
             "outlinewidth": 1,
             "tickcolor": "rgb(36,36,36)",
             "ticks": "outside"
            },
            "colorscale": [
             [
              0,
              "#440154"
             ],
             [
              0.1111111111111111,
              "#482878"
             ],
             [
              0.2222222222222222,
              "#3e4989"
             ],
             [
              0.3333333333333333,
              "#31688e"
             ],
             [
              0.4444444444444444,
              "#26828e"
             ],
             [
              0.5555555555555556,
              "#1f9e89"
             ],
             [
              0.6666666666666666,
              "#35b779"
             ],
             [
              0.7777777777777778,
              "#6ece58"
             ],
             [
              0.8888888888888888,
              "#b5de2b"
             ],
             [
              1,
              "#fde725"
             ]
            ],
            "type": "histogram2d"
           }
          ],
          "histogram2dcontour": [
           {
            "colorbar": {
             "outlinewidth": 1,
             "tickcolor": "rgb(36,36,36)",
             "ticks": "outside"
            },
            "colorscale": [
             [
              0,
              "#440154"
             ],
             [
              0.1111111111111111,
              "#482878"
             ],
             [
              0.2222222222222222,
              "#3e4989"
             ],
             [
              0.3333333333333333,
              "#31688e"
             ],
             [
              0.4444444444444444,
              "#26828e"
             ],
             [
              0.5555555555555556,
              "#1f9e89"
             ],
             [
              0.6666666666666666,
              "#35b779"
             ],
             [
              0.7777777777777778,
              "#6ece58"
             ],
             [
              0.8888888888888888,
              "#b5de2b"
             ],
             [
              1,
              "#fde725"
             ]
            ],
            "type": "histogram2dcontour"
           }
          ],
          "mesh3d": [
           {
            "colorbar": {
             "outlinewidth": 1,
             "tickcolor": "rgb(36,36,36)",
             "ticks": "outside"
            },
            "type": "mesh3d"
           }
          ],
          "parcoords": [
           {
            "line": {
             "colorbar": {
              "outlinewidth": 1,
              "tickcolor": "rgb(36,36,36)",
              "ticks": "outside"
             }
            },
            "type": "parcoords"
           }
          ],
          "pie": [
           {
            "automargin": true,
            "type": "pie"
           }
          ],
          "scatter": [
           {
            "fillpattern": {
             "fillmode": "overlay",
             "size": 10,
             "solidity": 0.2
            },
            "type": "scatter"
           }
          ],
          "scatter3d": [
           {
            "line": {
             "colorbar": {
              "outlinewidth": 1,
              "tickcolor": "rgb(36,36,36)",
              "ticks": "outside"
             }
            },
            "marker": {
             "colorbar": {
              "outlinewidth": 1,
              "tickcolor": "rgb(36,36,36)",
              "ticks": "outside"
             }
            },
            "type": "scatter3d"
           }
          ],
          "scattercarpet": [
           {
            "marker": {
             "colorbar": {
              "outlinewidth": 1,
              "tickcolor": "rgb(36,36,36)",
              "ticks": "outside"
             }
            },
            "type": "scattercarpet"
           }
          ],
          "scattergeo": [
           {
            "marker": {
             "colorbar": {
              "outlinewidth": 1,
              "tickcolor": "rgb(36,36,36)",
              "ticks": "outside"
             }
            },
            "type": "scattergeo"
           }
          ],
          "scattergl": [
           {
            "marker": {
             "colorbar": {
              "outlinewidth": 1,
              "tickcolor": "rgb(36,36,36)",
              "ticks": "outside"
             }
            },
            "type": "scattergl"
           }
          ],
          "scattermapbox": [
           {
            "marker": {
             "colorbar": {
              "outlinewidth": 1,
              "tickcolor": "rgb(36,36,36)",
              "ticks": "outside"
             }
            },
            "type": "scattermapbox"
           }
          ],
          "scatterpolar": [
           {
            "marker": {
             "colorbar": {
              "outlinewidth": 1,
              "tickcolor": "rgb(36,36,36)",
              "ticks": "outside"
             }
            },
            "type": "scatterpolar"
           }
          ],
          "scatterpolargl": [
           {
            "marker": {
             "colorbar": {
              "outlinewidth": 1,
              "tickcolor": "rgb(36,36,36)",
              "ticks": "outside"
             }
            },
            "type": "scatterpolargl"
           }
          ],
          "scatterternary": [
           {
            "marker": {
             "colorbar": {
              "outlinewidth": 1,
              "tickcolor": "rgb(36,36,36)",
              "ticks": "outside"
             }
            },
            "type": "scatterternary"
           }
          ],
          "surface": [
           {
            "colorbar": {
             "outlinewidth": 1,
             "tickcolor": "rgb(36,36,36)",
             "ticks": "outside"
            },
            "colorscale": [
             [
              0,
              "#440154"
             ],
             [
              0.1111111111111111,
              "#482878"
             ],
             [
              0.2222222222222222,
              "#3e4989"
             ],
             [
              0.3333333333333333,
              "#31688e"
             ],
             [
              0.4444444444444444,
              "#26828e"
             ],
             [
              0.5555555555555556,
              "#1f9e89"
             ],
             [
              0.6666666666666666,
              "#35b779"
             ],
             [
              0.7777777777777778,
              "#6ece58"
             ],
             [
              0.8888888888888888,
              "#b5de2b"
             ],
             [
              1,
              "#fde725"
             ]
            ],
            "type": "surface"
           }
          ],
          "table": [
           {
            "cells": {
             "fill": {
              "color": "rgb(237,237,237)"
             },
             "line": {
              "color": "white"
             }
            },
            "header": {
             "fill": {
              "color": "rgb(217,217,217)"
             },
             "line": {
              "color": "white"
             }
            },
            "type": "table"
           }
          ]
         },
         "layout": {
          "annotationdefaults": {
           "arrowhead": 0,
           "arrowwidth": 1
          },
          "autotypenumbers": "strict",
          "coloraxis": {
           "colorbar": {
            "outlinewidth": 1,
            "tickcolor": "rgb(36,36,36)",
            "ticks": "outside"
           }
          },
          "colorscale": {
           "diverging": [
            [
             0,
             "rgb(103,0,31)"
            ],
            [
             0.1,
             "rgb(178,24,43)"
            ],
            [
             0.2,
             "rgb(214,96,77)"
            ],
            [
             0.3,
             "rgb(244,165,130)"
            ],
            [
             0.4,
             "rgb(253,219,199)"
            ],
            [
             0.5,
             "rgb(247,247,247)"
            ],
            [
             0.6,
             "rgb(209,229,240)"
            ],
            [
             0.7,
             "rgb(146,197,222)"
            ],
            [
             0.8,
             "rgb(67,147,195)"
            ],
            [
             0.9,
             "rgb(33,102,172)"
            ],
            [
             1,
             "rgb(5,48,97)"
            ]
           ],
           "sequential": [
            [
             0,
             "#440154"
            ],
            [
             0.1111111111111111,
             "#482878"
            ],
            [
             0.2222222222222222,
             "#3e4989"
            ],
            [
             0.3333333333333333,
             "#31688e"
            ],
            [
             0.4444444444444444,
             "#26828e"
            ],
            [
             0.5555555555555556,
             "#1f9e89"
            ],
            [
             0.6666666666666666,
             "#35b779"
            ],
            [
             0.7777777777777778,
             "#6ece58"
            ],
            [
             0.8888888888888888,
             "#b5de2b"
            ],
            [
             1,
             "#fde725"
            ]
           ],
           "sequentialminus": [
            [
             0,
             "#440154"
            ],
            [
             0.1111111111111111,
             "#482878"
            ],
            [
             0.2222222222222222,
             "#3e4989"
            ],
            [
             0.3333333333333333,
             "#31688e"
            ],
            [
             0.4444444444444444,
             "#26828e"
            ],
            [
             0.5555555555555556,
             "#1f9e89"
            ],
            [
             0.6666666666666666,
             "#35b779"
            ],
            [
             0.7777777777777778,
             "#6ece58"
            ],
            [
             0.8888888888888888,
             "#b5de2b"
            ],
            [
             1,
             "#fde725"
            ]
           ]
          },
          "colorway": [
           "#1F77B4",
           "#FF7F0E",
           "#2CA02C",
           "#D62728",
           "#9467BD",
           "#8C564B",
           "#E377C2",
           "#7F7F7F",
           "#BCBD22",
           "#17BECF"
          ],
          "font": {
           "color": "rgb(36,36,36)"
          },
          "geo": {
           "bgcolor": "white",
           "lakecolor": "white",
           "landcolor": "white",
           "showlakes": true,
           "showland": true,
           "subunitcolor": "white"
          },
          "hoverlabel": {
           "align": "left"
          },
          "hovermode": "closest",
          "mapbox": {
           "style": "light"
          },
          "paper_bgcolor": "white",
          "plot_bgcolor": "white",
          "polar": {
           "angularaxis": {
            "gridcolor": "rgb(232,232,232)",
            "linecolor": "rgb(36,36,36)",
            "showgrid": false,
            "showline": true,
            "ticks": "outside"
           },
           "bgcolor": "white",
           "radialaxis": {
            "gridcolor": "rgb(232,232,232)",
            "linecolor": "rgb(36,36,36)",
            "showgrid": false,
            "showline": true,
            "ticks": "outside"
           }
          },
          "scene": {
           "xaxis": {
            "backgroundcolor": "white",
            "gridcolor": "rgb(232,232,232)",
            "gridwidth": 2,
            "linecolor": "rgb(36,36,36)",
            "showbackground": true,
            "showgrid": false,
            "showline": true,
            "ticks": "outside",
            "zeroline": false,
            "zerolinecolor": "rgb(36,36,36)"
           },
           "yaxis": {
            "backgroundcolor": "white",
            "gridcolor": "rgb(232,232,232)",
            "gridwidth": 2,
            "linecolor": "rgb(36,36,36)",
            "showbackground": true,
            "showgrid": false,
            "showline": true,
            "ticks": "outside",
            "zeroline": false,
            "zerolinecolor": "rgb(36,36,36)"
           },
           "zaxis": {
            "backgroundcolor": "white",
            "gridcolor": "rgb(232,232,232)",
            "gridwidth": 2,
            "linecolor": "rgb(36,36,36)",
            "showbackground": true,
            "showgrid": false,
            "showline": true,
            "ticks": "outside",
            "zeroline": false,
            "zerolinecolor": "rgb(36,36,36)"
           }
          },
          "shapedefaults": {
           "fillcolor": "black",
           "line": {
            "width": 0
           },
           "opacity": 0.3
          },
          "ternary": {
           "aaxis": {
            "gridcolor": "rgb(232,232,232)",
            "linecolor": "rgb(36,36,36)",
            "showgrid": false,
            "showline": true,
            "ticks": "outside"
           },
           "baxis": {
            "gridcolor": "rgb(232,232,232)",
            "linecolor": "rgb(36,36,36)",
            "showgrid": false,
            "showline": true,
            "ticks": "outside"
           },
           "bgcolor": "white",
           "caxis": {
            "gridcolor": "rgb(232,232,232)",
            "linecolor": "rgb(36,36,36)",
            "showgrid": false,
            "showline": true,
            "ticks": "outside"
           }
          },
          "title": {
           "x": 0.05
          },
          "xaxis": {
           "automargin": true,
           "gridcolor": "rgb(232,232,232)",
           "linecolor": "rgb(36,36,36)",
           "showgrid": false,
           "showline": true,
           "ticks": "outside",
           "title": {
            "standoff": 15
           },
           "zeroline": false,
           "zerolinecolor": "rgb(36,36,36)"
          },
          "yaxis": {
           "automargin": true,
           "gridcolor": "rgb(232,232,232)",
           "linecolor": "rgb(36,36,36)",
           "showgrid": false,
           "showline": true,
           "ticks": "outside",
           "title": {
            "standoff": 15
           },
           "zeroline": false,
           "zerolinecolor": "rgb(36,36,36)"
          }
         }
        },
        "title": {
         "font": {
          "color": "Black",
          "size": 22
         },
         "text": "Topics Over Time for 2021Q2",
         "x": 0.4,
         "xanchor": "center",
         "y": 0.95,
         "yanchor": "top"
        },
        "width": 1250,
        "xaxis": {
         "showgrid": true
        },
        "yaxis": {
         "showgrid": true,
         "title": {
          "text": "Frequency"
         }
        }
       }
      }
     },
     "metadata": {},
     "output_type": "display_data"
    },
    {
     "data": {
      "application/vnd.plotly.v1+json": {
       "config": {
        "plotlyServerURL": "https://plot.ly"
       },
       "data": [
        {
         "hoverinfo": "text",
         "hovertext": [
          "<b>Topic 0</b><br>Words: rebak, jangan, soal, pandemi, salah",
          "<b>Topic 0</b><br>Words: ringan, pandemi, biaya, covid, merosot",
          "<b>Topic 0</b><br>Words: ketidakpastian, mulai, bidang, tahun, baru",
          "<b>Topic 0</b><br>Words: rumah, pandemi, malas, muncul, terkadang",
          "<b>Topic 0</b><br>Words: policy, parah, brief, rekomendasi, rilis",
          "<b>Topic 0</b><br>Words: pandemi, biaya, ui, parah, rilis",
          "<b>Topic 0</b><br>Words: pandemi, ui, biaya, ringan, mahasiswa",
          "<b>Topic 0</b><br>Words: universitas, pandemi, mahasiswa, sebab, stabil",
          "<b>Topic 0</b><br>Words: pandemi, ui, ringan, biaya, efisiensi",
          "<b>Topic 0</b><br>Words: edukasi, sehat, protokol, pandemi, adaptasi",
          "<b>Topic 0</b><br>Words: pandemi, kasihan, prihatin, berteletele, terlalu",
          "<b>Topic 0</b><br>Words: sejarah, konyol, kelak, pandemi, generasi",
          "<b>Topic 0</b><br>Words: pandemi, ubah, covid, ace, hasan",
          "<b>Topic 0</b><br>Words: bantu, pandemi, sasar, prestasi, dikbud",
          "<b>Topic 0</b><br>Words: risiko, apa, pandemi, loss, pjj"
         ],
         "marker": {
          "color": "#E69F00"
         },
         "mode": "lines",
         "name": "0_pandemi_biaya_ui_mahasiswa",
         "type": "scatter",
         "x": [
          "2021-07-03T04:40:02.766666+00:00",
          "2021-07-09T05:29:11.066666+00:00",
          "2021-07-11T05:45:33.833333+00:00",
          "2021-07-17T06:34:42.133333+00:00",
          "2021-07-23T07:23:50.433333+00:00",
          "2021-07-25T07:40:13.200000+00:00",
          "2021-07-27T07:56:35.966666+00:00",
          "2021-07-29T08:12:58.733333+00:00",
          "2021-08-02T08:45:44.266666+00:00",
          "2021-08-04T09:02:07.033333+00:00",
          "2021-08-08T09:34:52.566666+00:00",
          "2021-08-10T09:51:15.333333+00:00",
          "2021-08-22T11:29:31.933333+00:00",
          "2021-08-24T11:45:54.700000+00:00",
          "2021-08-28T12:18:40.233333+00:00"
         ],
         "y": [
          1,
          1,
          1,
          1,
          2,
          6,
          2,
          1,
          1,
          1,
          1,
          1,
          2,
          1,
          1
         ]
        },
        {
         "hoverinfo": "text",
         "hovertext": [
          "<b>Topic 1</b><br>Words: subsidi, gerindra, internet, bekas, kuota",
          "<b>Topic 1</b><br>Words: giat, snp, aceh, provinsi, dasar",
          "<b>Topic 1</b><br>Words: fgd, fraksi, bandar, pks, lampung",
          "<b>Topic 1</b><br>Words: suatu, wilayah, kualitas, surabaya, krusial",
          "<b>Topic 1</b><br>Words: kredit, kotan, dini, kota, cimahi",
          "<b>Topic 1</b><br>Words: rubah, desentralisasi, teliti, sarana, safe",
          "<b>Topic 1</b><br>Words: sangat, medis, pengaruh, lengkap, artikel",
          "<b>Topic 1</b><br>Words: daerah, amp, sama, mantap, kerjasama",
          "<b>Topic 1</b><br>Words: subulussalam, singkronisasi, efektif, koordinasi, kota",
          "<b>Topic 1</b><br>Words: subulussalam, singkronisasi, efektif, koordinasi, kota",
          "<b>Topic 1</b><br>Words: rakyat, adil, penting, korelasi, citacita",
          "<b>Topic 1</b><br>Words: mismatch, prasarana, tekan, sarana, selesai",
          "<b>Topic 1</b><br>Words: kualitas, tumbuh, indonesia, sarana, prasarana",
          "<b>Topic 1</b><br>Words: belanja, ekspansif, jabar, prioritas, anggar",
          "<b>Topic 1</b><br>Words: strategis, mutu, tingkat, aksi, satyakarta"
         ],
         "marker": {
          "color": "#56B4E9"
         },
         "mode": "lines",
         "name": "1_kualitas_kota_sarana_indonesia",
         "type": "scatter",
         "x": [
          "2021-07-01T02:56:46.516999+00:00",
          "2021-07-03T04:40:02.766666+00:00",
          "2021-07-09T05:29:11.066666+00:00",
          "2021-07-11T05:45:33.833333+00:00",
          "2021-07-13T06:01:56.600000+00:00",
          "2021-07-15T06:18:19.366666+00:00",
          "2021-07-23T07:23:50.433333+00:00",
          "2021-07-27T07:56:35.966666+00:00",
          "2021-08-08T09:34:52.566666+00:00",
          "2021-08-10T09:51:15.333333+00:00",
          "2021-08-12T10:07:38.100000+00:00",
          "2021-08-14T10:24:00.866666+00:00",
          "2021-08-16T10:40:23.633333+00:00",
          "2021-08-20T11:13:09.166666+00:00",
          "2021-08-24T11:45:54.700000+00:00"
         ],
         "y": [
          1,
          2,
          3,
          1,
          2,
          2,
          2,
          1,
          1,
          1,
          1,
          5,
          5,
          3,
          1
         ]
        },
        {
         "hoverinfo": "text",
         "hovertext": [
          "<b>Topic 2</b><br>Words: banyuwangi, pembejalaran, plt, pls, surat",
          "<b>Topic 2</b><br>Words: surat, sekolah, gimana, nomor, edaranya",
          "<b>Topic 2</b><br>Words: sekolah, satu, kepala, yayasan, sikap",
          "<b>Topic 2</b><br>Words: panjang, sekolah, sekolahkuliah, atlitatlit, novi",
          "<b>Topic 2</b><br>Words: sd, muka, tatap, sekolah, dasarsd",
          "<b>Topic 2</b><br>Words: sekolah, surat, ikhwal, larang, maret",
          "<b>Topic 2</b><br>Words: sekolah, baru, abu, dhabi, jelang",
          "<b>Topic 2</b><br>Words: siap, cecep, anakanaknya, pakar, sekolahkampus"
         ],
         "marker": {
          "color": "#009E73"
         },
         "mode": "lines",
         "name": "2_sekolah_kepala_surat_swasta",
         "type": "scatter",
         "x": [
          "2021-07-01T02:56:46.516999+00:00",
          "2021-07-03T04:40:02.766666+00:00",
          "2021-07-09T05:29:11.066666+00:00",
          "2021-07-13T06:01:56.600000+00:00",
          "2021-07-15T06:18:19.366666+00:00",
          "2021-07-23T07:23:50.433333+00:00",
          "2021-08-02T08:45:44.266666+00:00",
          "2021-08-12T10:07:38.100000+00:00"
         ],
         "y": [
          1,
          1,
          2,
          2,
          1,
          1,
          1,
          1
         ]
        },
        {
         "hoverinfo": "text",
         "hovertext": [
          "<b>Topic 3</b><br>Words: tinggi, akibat, akses, minim, ptn",
          "<b>Topic 3</b><br>Words: salam, hidup, mahasiswa, hayulahh, hati",
          "<b>Topic 3</b><br>Words: malaysia, indonesia, litang, promelayu, kemenag",
          "<b>Topic 3</b><br>Words: itb, indonesia, sbm, merdeka, teknologi",
          "<b>Topic 3</b><br>Words: inklusif, kskk, madrasah, direktorat, hasil",
          "<b>Topic 3</b><br>Words: pendidikankebijakan, rep, ptn, tanya, uny",
          "<b>Topic 3</b><br>Words: itb, sbm, indonesia, great, gubri",
          "<b>Topic 3</b><br>Words: ari, rangkap, malu, kuncoro, bumn",
          "<b>Topic 3</b><br>Words: merdeka, jastis, ums, surakarta, nampaknya",
          "<b>Topic 3</b><br>Words: kait, level, ppkm, indonesia, langgar",
          "<b>Topic 3</b><br>Words: baca, pihak, indonesia, amat, sinopsis",
          "<b>Topic 3</b><br>Words: pikir, kapan, telor, air, nyatu",
          "<b>Topic 3</b><br>Words: rukmini, yogyakarta, coauthored, entitled, elisabeth",
          "<b>Topic 3</b><br>Words: barat, dprd, jawa, anggar, apresiasi",
          "<b>Topic 3</b><br>Words: merdeka, vokasi, indonesia, kenal, sistem",
          "<b>Topic 3</b><br>Words: mas, an, tuju, ghozaly, madani",
          "<b>Topic 3</b><br>Words: kuliah, padang, formulasi, bahas, negeri",
          "<b>Topic 3</b><br>Words: doktor, banda, aceh, raniry, andhika"
         ],
         "marker": {
          "color": "#F0E442"
         },
         "mode": "lines",
         "name": "3_merdeka_indonesia_vokasi_ajar",
         "type": "scatter",
         "x": [
          "2021-07-01T02:56:46.516999+00:00",
          "2021-07-03T04:40:02.766666+00:00",
          "2021-07-05T04:56:25.533333+00:00",
          "2021-07-13T06:01:56.600000+00:00",
          "2021-07-15T06:18:19.366666+00:00",
          "2021-07-17T06:34:42.133333+00:00",
          "2021-07-19T06:51:04.900000+00:00",
          "2021-07-21T07:07:27.666666+00:00",
          "2021-07-25T07:40:13.200000+00:00",
          "2021-08-02T08:45:44.266666+00:00",
          "2021-08-04T09:02:07.033333+00:00",
          "2021-08-06T09:18:29.800000+00:00",
          "2021-08-16T10:40:23.633333+00:00",
          "2021-08-18T10:56:46.400000+00:00",
          "2021-08-20T11:13:09.166666+00:00",
          "2021-08-22T11:29:31.933333+00:00",
          "2021-08-26T12:02:17.466666+00:00",
          "2021-08-28T12:18:40.233333+00:00"
         ],
         "y": [
          1,
          1,
          2,
          3,
          4,
          1,
          2,
          1,
          1,
          2,
          2,
          1,
          1,
          1,
          21,
          1,
          1,
          1
         ]
        },
        {
         "hoverinfo": "text",
         "hovertext": [
          "<b>Topic 4</b><br>Words: sama, enggak, skor, aku, merdeka",
          "<b>Topic 4</b><br>Words: nya, pak, warga, enggak, nih",
          "<b>Topic 4</b><br>Words: kerja, dong, evaluasi, benar, sulit",
          "<b>Topic 4</b><br>Words: zamane, uu, enggak, intervensi, integritas",
          "<b>Topic 4</b><br>Words: skip, hari, seakanakan, terang, merah",
          "<b>Topic 4</b><br>Words: lewat, merdeka, film, media, dikti",
          "<b>Topic 4</b><br>Words: semester, akhir, diponegoro, himawarriors, konnichiwa",
          "<b>Topic 4</b><br>Words: makarim, semester, akhir, nadiem, mahasiswa",
          "<b>Topic 4</b><br>Words: income, jadi, menteri, dorong, satu",
          "<b>Topic 4</b><br>Words: diskusi, teliti, jadi, masing, pumpun",
          "<b>Topic 4</b><br>Words: produksi, analisa, laptop, digitalisasi, zyrex",
          "<b>Topic 4</b><br>Words: makan, waktu, webinar, batas, teliti",
          "<b>Topic 4</b><br>Words: dosen, bagai, terus, mahasiswa, menteri",
          "<b>Topic 4</b><br>Words: kalian, sisi, buat, biqolbi, raja",
          "<b>Topic 4</b><br>Words: enggak, panjang, jam, kelas, vokasi",
          "<b>Topic 4</b><br>Words: baik, resin, jenjang, donatur, skripsi",
          "<b>Topic 4</b><br>Words: latih, barangjasa, pusat, lembaga, perintah",
          "<b>Topic 4</b><br>Words: merdeka, jokowi, isi, rapat, kampus",
          "<b>Topic 4</b><br>Words: aku, core, bpktentang, skrh, kebijakankebijakan",
          "<b>Topic 4</b><br>Words: bansos, lebih, perintah, merdeka, ajar",
          "<b>Topic 4</b><br>Words: atur, cemooh, ukt, kemendikbud, publik",
          "<b>Topic 4</b><br>Words: gue, orang, enggak, jalan, selesai",
          "<b>Topic 4</b><br>Words: negara, tengah, apa, ngatur, himpun",
          "<b>Topic 4</b><br>Words: vokasi, tinggi, merdeka, siap, mahasiswa",
          "<b>Topic 4</b><br>Words: eks, napi, mahasiswamahasiswi, titik, sintas",
          "<b>Topic 4</b><br>Words: umkm, genjot, pemkot, malang, tumbuh",
          "<b>Topic 4</b><br>Words: terima, ukt, khusus, halo, baru",
          "<b>Topic 4</b><br>Words: disink, formulasi, rep, matkul, mbkm"
         ],
         "marker": {
          "color": "#D55E00"
         },
         "mode": "lines",
         "name": "4_vokasi_tinggi_merdeka_mahasiswa",
         "type": "scatter",
         "x": [
          "2021-07-01T02:56:46.516999+00:00",
          "2021-07-03T04:40:02.766666+00:00",
          "2021-07-09T05:29:11.066666+00:00",
          "2021-07-11T05:45:33.833333+00:00",
          "2021-07-13T06:01:56.600000+00:00",
          "2021-07-15T06:18:19.366666+00:00",
          "2021-07-17T06:34:42.133333+00:00",
          "2021-07-19T06:51:04.900000+00:00",
          "2021-07-21T07:07:27.666666+00:00",
          "2021-07-23T07:23:50.433333+00:00",
          "2021-07-25T07:40:13.200000+00:00",
          "2021-07-27T07:56:35.966666+00:00",
          "2021-07-29T08:12:58.733333+00:00",
          "2021-07-31T08:29:21.500000+00:00",
          "2021-08-02T08:45:44.266666+00:00",
          "2021-08-04T09:02:07.033333+00:00",
          "2021-08-06T09:18:29.800000+00:00",
          "2021-08-08T09:34:52.566666+00:00",
          "2021-08-10T09:51:15.333333+00:00",
          "2021-08-12T10:07:38.100000+00:00",
          "2021-08-14T10:24:00.866666+00:00",
          "2021-08-16T10:40:23.633333+00:00",
          "2021-08-18T10:56:46.400000+00:00",
          "2021-08-20T11:13:09.166666+00:00",
          "2021-08-22T11:29:31.933333+00:00",
          "2021-08-24T11:45:54.700000+00:00",
          "2021-08-26T12:02:17.466666+00:00",
          "2021-08-28T12:18:40.233333+00:00"
         ],
         "y": [
          4,
          4,
          1,
          2,
          1,
          3,
          1,
          5,
          5,
          2,
          2,
          4,
          4,
          1,
          5,
          4,
          1,
          3,
          2,
          2,
          2,
          3,
          3,
          31,
          2,
          2,
          4,
          1
         ]
        }
       ],
       "layout": {
        "height": 450,
        "hoverlabel": {
         "bgcolor": "white",
         "font": {
          "family": "Rockwell",
          "size": 16
         }
        },
        "legend": {
         "title": {
          "text": "<b>Global Topic Representation"
         }
        },
        "template": {
         "data": {
          "bar": [
           {
            "error_x": {
             "color": "rgb(36,36,36)"
            },
            "error_y": {
             "color": "rgb(36,36,36)"
            },
            "marker": {
             "line": {
              "color": "white",
              "width": 0.5
             },
             "pattern": {
              "fillmode": "overlay",
              "size": 10,
              "solidity": 0.2
             }
            },
            "type": "bar"
           }
          ],
          "barpolar": [
           {
            "marker": {
             "line": {
              "color": "white",
              "width": 0.5
             },
             "pattern": {
              "fillmode": "overlay",
              "size": 10,
              "solidity": 0.2
             }
            },
            "type": "barpolar"
           }
          ],
          "carpet": [
           {
            "aaxis": {
             "endlinecolor": "rgb(36,36,36)",
             "gridcolor": "white",
             "linecolor": "white",
             "minorgridcolor": "white",
             "startlinecolor": "rgb(36,36,36)"
            },
            "baxis": {
             "endlinecolor": "rgb(36,36,36)",
             "gridcolor": "white",
             "linecolor": "white",
             "minorgridcolor": "white",
             "startlinecolor": "rgb(36,36,36)"
            },
            "type": "carpet"
           }
          ],
          "choropleth": [
           {
            "colorbar": {
             "outlinewidth": 1,
             "tickcolor": "rgb(36,36,36)",
             "ticks": "outside"
            },
            "type": "choropleth"
           }
          ],
          "contour": [
           {
            "colorbar": {
             "outlinewidth": 1,
             "tickcolor": "rgb(36,36,36)",
             "ticks": "outside"
            },
            "colorscale": [
             [
              0,
              "#440154"
             ],
             [
              0.1111111111111111,
              "#482878"
             ],
             [
              0.2222222222222222,
              "#3e4989"
             ],
             [
              0.3333333333333333,
              "#31688e"
             ],
             [
              0.4444444444444444,
              "#26828e"
             ],
             [
              0.5555555555555556,
              "#1f9e89"
             ],
             [
              0.6666666666666666,
              "#35b779"
             ],
             [
              0.7777777777777778,
              "#6ece58"
             ],
             [
              0.8888888888888888,
              "#b5de2b"
             ],
             [
              1,
              "#fde725"
             ]
            ],
            "type": "contour"
           }
          ],
          "contourcarpet": [
           {
            "colorbar": {
             "outlinewidth": 1,
             "tickcolor": "rgb(36,36,36)",
             "ticks": "outside"
            },
            "type": "contourcarpet"
           }
          ],
          "heatmap": [
           {
            "colorbar": {
             "outlinewidth": 1,
             "tickcolor": "rgb(36,36,36)",
             "ticks": "outside"
            },
            "colorscale": [
             [
              0,
              "#440154"
             ],
             [
              0.1111111111111111,
              "#482878"
             ],
             [
              0.2222222222222222,
              "#3e4989"
             ],
             [
              0.3333333333333333,
              "#31688e"
             ],
             [
              0.4444444444444444,
              "#26828e"
             ],
             [
              0.5555555555555556,
              "#1f9e89"
             ],
             [
              0.6666666666666666,
              "#35b779"
             ],
             [
              0.7777777777777778,
              "#6ece58"
             ],
             [
              0.8888888888888888,
              "#b5de2b"
             ],
             [
              1,
              "#fde725"
             ]
            ],
            "type": "heatmap"
           }
          ],
          "heatmapgl": [
           {
            "colorbar": {
             "outlinewidth": 1,
             "tickcolor": "rgb(36,36,36)",
             "ticks": "outside"
            },
            "colorscale": [
             [
              0,
              "#440154"
             ],
             [
              0.1111111111111111,
              "#482878"
             ],
             [
              0.2222222222222222,
              "#3e4989"
             ],
             [
              0.3333333333333333,
              "#31688e"
             ],
             [
              0.4444444444444444,
              "#26828e"
             ],
             [
              0.5555555555555556,
              "#1f9e89"
             ],
             [
              0.6666666666666666,
              "#35b779"
             ],
             [
              0.7777777777777778,
              "#6ece58"
             ],
             [
              0.8888888888888888,
              "#b5de2b"
             ],
             [
              1,
              "#fde725"
             ]
            ],
            "type": "heatmapgl"
           }
          ],
          "histogram": [
           {
            "marker": {
             "line": {
              "color": "white",
              "width": 0.6
             }
            },
            "type": "histogram"
           }
          ],
          "histogram2d": [
           {
            "colorbar": {
             "outlinewidth": 1,
             "tickcolor": "rgb(36,36,36)",
             "ticks": "outside"
            },
            "colorscale": [
             [
              0,
              "#440154"
             ],
             [
              0.1111111111111111,
              "#482878"
             ],
             [
              0.2222222222222222,
              "#3e4989"
             ],
             [
              0.3333333333333333,
              "#31688e"
             ],
             [
              0.4444444444444444,
              "#26828e"
             ],
             [
              0.5555555555555556,
              "#1f9e89"
             ],
             [
              0.6666666666666666,
              "#35b779"
             ],
             [
              0.7777777777777778,
              "#6ece58"
             ],
             [
              0.8888888888888888,
              "#b5de2b"
             ],
             [
              1,
              "#fde725"
             ]
            ],
            "type": "histogram2d"
           }
          ],
          "histogram2dcontour": [
           {
            "colorbar": {
             "outlinewidth": 1,
             "tickcolor": "rgb(36,36,36)",
             "ticks": "outside"
            },
            "colorscale": [
             [
              0,
              "#440154"
             ],
             [
              0.1111111111111111,
              "#482878"
             ],
             [
              0.2222222222222222,
              "#3e4989"
             ],
             [
              0.3333333333333333,
              "#31688e"
             ],
             [
              0.4444444444444444,
              "#26828e"
             ],
             [
              0.5555555555555556,
              "#1f9e89"
             ],
             [
              0.6666666666666666,
              "#35b779"
             ],
             [
              0.7777777777777778,
              "#6ece58"
             ],
             [
              0.8888888888888888,
              "#b5de2b"
             ],
             [
              1,
              "#fde725"
             ]
            ],
            "type": "histogram2dcontour"
           }
          ],
          "mesh3d": [
           {
            "colorbar": {
             "outlinewidth": 1,
             "tickcolor": "rgb(36,36,36)",
             "ticks": "outside"
            },
            "type": "mesh3d"
           }
          ],
          "parcoords": [
           {
            "line": {
             "colorbar": {
              "outlinewidth": 1,
              "tickcolor": "rgb(36,36,36)",
              "ticks": "outside"
             }
            },
            "type": "parcoords"
           }
          ],
          "pie": [
           {
            "automargin": true,
            "type": "pie"
           }
          ],
          "scatter": [
           {
            "fillpattern": {
             "fillmode": "overlay",
             "size": 10,
             "solidity": 0.2
            },
            "type": "scatter"
           }
          ],
          "scatter3d": [
           {
            "line": {
             "colorbar": {
              "outlinewidth": 1,
              "tickcolor": "rgb(36,36,36)",
              "ticks": "outside"
             }
            },
            "marker": {
             "colorbar": {
              "outlinewidth": 1,
              "tickcolor": "rgb(36,36,36)",
              "ticks": "outside"
             }
            },
            "type": "scatter3d"
           }
          ],
          "scattercarpet": [
           {
            "marker": {
             "colorbar": {
              "outlinewidth": 1,
              "tickcolor": "rgb(36,36,36)",
              "ticks": "outside"
             }
            },
            "type": "scattercarpet"
           }
          ],
          "scattergeo": [
           {
            "marker": {
             "colorbar": {
              "outlinewidth": 1,
              "tickcolor": "rgb(36,36,36)",
              "ticks": "outside"
             }
            },
            "type": "scattergeo"
           }
          ],
          "scattergl": [
           {
            "marker": {
             "colorbar": {
              "outlinewidth": 1,
              "tickcolor": "rgb(36,36,36)",
              "ticks": "outside"
             }
            },
            "type": "scattergl"
           }
          ],
          "scattermapbox": [
           {
            "marker": {
             "colorbar": {
              "outlinewidth": 1,
              "tickcolor": "rgb(36,36,36)",
              "ticks": "outside"
             }
            },
            "type": "scattermapbox"
           }
          ],
          "scatterpolar": [
           {
            "marker": {
             "colorbar": {
              "outlinewidth": 1,
              "tickcolor": "rgb(36,36,36)",
              "ticks": "outside"
             }
            },
            "type": "scatterpolar"
           }
          ],
          "scatterpolargl": [
           {
            "marker": {
             "colorbar": {
              "outlinewidth": 1,
              "tickcolor": "rgb(36,36,36)",
              "ticks": "outside"
             }
            },
            "type": "scatterpolargl"
           }
          ],
          "scatterternary": [
           {
            "marker": {
             "colorbar": {
              "outlinewidth": 1,
              "tickcolor": "rgb(36,36,36)",
              "ticks": "outside"
             }
            },
            "type": "scatterternary"
           }
          ],
          "surface": [
           {
            "colorbar": {
             "outlinewidth": 1,
             "tickcolor": "rgb(36,36,36)",
             "ticks": "outside"
            },
            "colorscale": [
             [
              0,
              "#440154"
             ],
             [
              0.1111111111111111,
              "#482878"
             ],
             [
              0.2222222222222222,
              "#3e4989"
             ],
             [
              0.3333333333333333,
              "#31688e"
             ],
             [
              0.4444444444444444,
              "#26828e"
             ],
             [
              0.5555555555555556,
              "#1f9e89"
             ],
             [
              0.6666666666666666,
              "#35b779"
             ],
             [
              0.7777777777777778,
              "#6ece58"
             ],
             [
              0.8888888888888888,
              "#b5de2b"
             ],
             [
              1,
              "#fde725"
             ]
            ],
            "type": "surface"
           }
          ],
          "table": [
           {
            "cells": {
             "fill": {
              "color": "rgb(237,237,237)"
             },
             "line": {
              "color": "white"
             }
            },
            "header": {
             "fill": {
              "color": "rgb(217,217,217)"
             },
             "line": {
              "color": "white"
             }
            },
            "type": "table"
           }
          ]
         },
         "layout": {
          "annotationdefaults": {
           "arrowhead": 0,
           "arrowwidth": 1
          },
          "autotypenumbers": "strict",
          "coloraxis": {
           "colorbar": {
            "outlinewidth": 1,
            "tickcolor": "rgb(36,36,36)",
            "ticks": "outside"
           }
          },
          "colorscale": {
           "diverging": [
            [
             0,
             "rgb(103,0,31)"
            ],
            [
             0.1,
             "rgb(178,24,43)"
            ],
            [
             0.2,
             "rgb(214,96,77)"
            ],
            [
             0.3,
             "rgb(244,165,130)"
            ],
            [
             0.4,
             "rgb(253,219,199)"
            ],
            [
             0.5,
             "rgb(247,247,247)"
            ],
            [
             0.6,
             "rgb(209,229,240)"
            ],
            [
             0.7,
             "rgb(146,197,222)"
            ],
            [
             0.8,
             "rgb(67,147,195)"
            ],
            [
             0.9,
             "rgb(33,102,172)"
            ],
            [
             1,
             "rgb(5,48,97)"
            ]
           ],
           "sequential": [
            [
             0,
             "#440154"
            ],
            [
             0.1111111111111111,
             "#482878"
            ],
            [
             0.2222222222222222,
             "#3e4989"
            ],
            [
             0.3333333333333333,
             "#31688e"
            ],
            [
             0.4444444444444444,
             "#26828e"
            ],
            [
             0.5555555555555556,
             "#1f9e89"
            ],
            [
             0.6666666666666666,
             "#35b779"
            ],
            [
             0.7777777777777778,
             "#6ece58"
            ],
            [
             0.8888888888888888,
             "#b5de2b"
            ],
            [
             1,
             "#fde725"
            ]
           ],
           "sequentialminus": [
            [
             0,
             "#440154"
            ],
            [
             0.1111111111111111,
             "#482878"
            ],
            [
             0.2222222222222222,
             "#3e4989"
            ],
            [
             0.3333333333333333,
             "#31688e"
            ],
            [
             0.4444444444444444,
             "#26828e"
            ],
            [
             0.5555555555555556,
             "#1f9e89"
            ],
            [
             0.6666666666666666,
             "#35b779"
            ],
            [
             0.7777777777777778,
             "#6ece58"
            ],
            [
             0.8888888888888888,
             "#b5de2b"
            ],
            [
             1,
             "#fde725"
            ]
           ]
          },
          "colorway": [
           "#1F77B4",
           "#FF7F0E",
           "#2CA02C",
           "#D62728",
           "#9467BD",
           "#8C564B",
           "#E377C2",
           "#7F7F7F",
           "#BCBD22",
           "#17BECF"
          ],
          "font": {
           "color": "rgb(36,36,36)"
          },
          "geo": {
           "bgcolor": "white",
           "lakecolor": "white",
           "landcolor": "white",
           "showlakes": true,
           "showland": true,
           "subunitcolor": "white"
          },
          "hoverlabel": {
           "align": "left"
          },
          "hovermode": "closest",
          "mapbox": {
           "style": "light"
          },
          "paper_bgcolor": "white",
          "plot_bgcolor": "white",
          "polar": {
           "angularaxis": {
            "gridcolor": "rgb(232,232,232)",
            "linecolor": "rgb(36,36,36)",
            "showgrid": false,
            "showline": true,
            "ticks": "outside"
           },
           "bgcolor": "white",
           "radialaxis": {
            "gridcolor": "rgb(232,232,232)",
            "linecolor": "rgb(36,36,36)",
            "showgrid": false,
            "showline": true,
            "ticks": "outside"
           }
          },
          "scene": {
           "xaxis": {
            "backgroundcolor": "white",
            "gridcolor": "rgb(232,232,232)",
            "gridwidth": 2,
            "linecolor": "rgb(36,36,36)",
            "showbackground": true,
            "showgrid": false,
            "showline": true,
            "ticks": "outside",
            "zeroline": false,
            "zerolinecolor": "rgb(36,36,36)"
           },
           "yaxis": {
            "backgroundcolor": "white",
            "gridcolor": "rgb(232,232,232)",
            "gridwidth": 2,
            "linecolor": "rgb(36,36,36)",
            "showbackground": true,
            "showgrid": false,
            "showline": true,
            "ticks": "outside",
            "zeroline": false,
            "zerolinecolor": "rgb(36,36,36)"
           },
           "zaxis": {
            "backgroundcolor": "white",
            "gridcolor": "rgb(232,232,232)",
            "gridwidth": 2,
            "linecolor": "rgb(36,36,36)",
            "showbackground": true,
            "showgrid": false,
            "showline": true,
            "ticks": "outside",
            "zeroline": false,
            "zerolinecolor": "rgb(36,36,36)"
           }
          },
          "shapedefaults": {
           "fillcolor": "black",
           "line": {
            "width": 0
           },
           "opacity": 0.3
          },
          "ternary": {
           "aaxis": {
            "gridcolor": "rgb(232,232,232)",
            "linecolor": "rgb(36,36,36)",
            "showgrid": false,
            "showline": true,
            "ticks": "outside"
           },
           "baxis": {
            "gridcolor": "rgb(232,232,232)",
            "linecolor": "rgb(36,36,36)",
            "showgrid": false,
            "showline": true,
            "ticks": "outside"
           },
           "bgcolor": "white",
           "caxis": {
            "gridcolor": "rgb(232,232,232)",
            "linecolor": "rgb(36,36,36)",
            "showgrid": false,
            "showline": true,
            "ticks": "outside"
           }
          },
          "title": {
           "x": 0.05
          },
          "xaxis": {
           "automargin": true,
           "gridcolor": "rgb(232,232,232)",
           "linecolor": "rgb(36,36,36)",
           "showgrid": false,
           "showline": true,
           "ticks": "outside",
           "title": {
            "standoff": 15
           },
           "zeroline": false,
           "zerolinecolor": "rgb(36,36,36)"
          },
          "yaxis": {
           "automargin": true,
           "gridcolor": "rgb(232,232,232)",
           "linecolor": "rgb(36,36,36)",
           "showgrid": false,
           "showline": true,
           "ticks": "outside",
           "title": {
            "standoff": 15
           },
           "zeroline": false,
           "zerolinecolor": "rgb(36,36,36)"
          }
         }
        },
        "title": {
         "font": {
          "color": "Black",
          "size": 22
         },
         "text": "Topics Over Time for 2021Q3",
         "x": 0.4,
         "xanchor": "center",
         "y": 0.95,
         "yanchor": "top"
        },
        "width": 1250,
        "xaxis": {
         "showgrid": true
        },
        "yaxis": {
         "showgrid": true,
         "title": {
          "text": "Frequency"
         }
        }
       }
      }
     },
     "metadata": {},
     "output_type": "display_data"
    },
    {
     "data": {
      "application/vnd.plotly.v1+json": {
       "config": {
        "plotlyServerURL": "https://plot.ly"
       },
       "data": [
        {
         "hoverinfo": "text",
         "hovertext": [
          "<b>Topic 0</b><br>Words: tara, disabilitas, dorong, risma, laku"
         ],
         "marker": {
          "color": "#E69F00"
         },
         "mode": "lines",
         "name": "0_tara_disabilitas_dorong_risma",
         "type": "scatter",
         "x": [
          "2021-12-04T18:32:33.833333+00:00"
         ],
         "y": [
          21
         ]
        },
        {
         "hoverinfo": "text",
         "hovertext": [
          "<b>Topic 1</b><br>Words: narkoba, kota, konsolidasi, ancam, tanggap",
          "<b>Topic 1</b><br>Words: kota, laksana, narkoba, konsolidasi, ancam",
          "<b>Topic 1</b><br>Words: kota, narkoba, konsolidasi, ancam, tanggap",
          "<b>Topic 1</b><br>Words: narkoba, konsolidasi, kota, ancam, tanggap",
          "<b>Topic 1</b><br>Words: batang, hari, narkoba, konsolidasi, ancam",
          "<b>Topic 1</b><br>Words: narkoba, konsolidasi, ancam, kota, tanggap",
          "<b>Topic 1</b><br>Words: kota, narkoba, konsolidasi, jaya, pidie",
          "<b>Topic 1</b><br>Words: sintang, kota, narkoba, konsolidasi, ancam",
          "<b>Topic 1</b><br>Words: kota, dprd, narkoba, konsolidasi, ancam"
         ],
         "marker": {
          "color": "#56B4E9"
         },
         "mode": "lines",
         "name": "1_kota_narkoba_konsolidasi_tanggap",
         "type": "scatter",
         "x": [
          "2021-10-25T20:06:25.666666+00:00",
          "2021-10-28T04:29:08.500000+00:00",
          "2021-11-11T06:45:25.500000+00:00",
          "2021-11-13T15:08:08.333333+00:00",
          "2021-11-15T23:30:51.166666+00:00",
          "2021-11-18T07:53:34+00:00",
          "2021-11-23T00:38:59.666666+00:00",
          "2021-11-25T09:01:42.500000+00:00",
          "2021-12-02T10:09:51+00:00"
         ],
         "y": [
          3,
          1,
          1,
          1,
          1,
          1,
          1,
          1,
          3
         ]
        },
        {
         "hoverinfo": "text",
         "hovertext": [
          "<b>Topic 2</b><br>Words: jokowi, adaptasi, presidensi, ketua, lindung",
          "<b>Topic 2</b><br>Words: cepat, indonesia, produktivitas, milu, kursi",
          "<b>Topic 2</b><br>Words: ketua, sektor, amp, indonesia, qampa",
          "<b>Topic 2</b><br>Words: indonesia, kembang, sangat, jokowi, korporasi",
          "<b>Topic 2</b><br>Words: luhur, idealisme, konsisten, makmur, indonesia",
          "<b>Topic 2</b><br>Words: golkar, ketua, indonesia, dpd, potensial",
          "<b>Topic 2</b><br>Words: jamin, rekrut, fraksi, gurudosentenaga, status",
          "<b>Topic 2</b><br>Words: ganti, masalah, indonesia, enggak, selesai"
         ],
         "marker": {
          "color": "#009E73"
         },
         "mode": "lines",
         "name": "2_jokowi_indonesia_ketua_sektor",
         "type": "scatter",
         "x": [
          "2021-11-01T21:14:34.166666+00:00",
          "2021-11-13T15:08:08.333333+00:00",
          "2021-11-18T07:53:34+00:00",
          "2021-11-23T00:38:59.666666+00:00",
          "2021-11-30T01:47:08.166666+00:00",
          "2021-12-14T04:03:25.166666+00:00",
          "2021-12-16T12:26:08+00:00",
          "2021-12-21T05:11:33.666666+00:00"
         ],
         "y": [
          14,
          1,
          1,
          2,
          1,
          2,
          1,
          1
         ]
        },
        {
         "hoverinfo": "text",
         "hovertext": [
          "<b>Topic 3</b><br>Words: masa, ajar, kolonial, cilacap, habis",
          "<b>Topic 3</b><br>Words: perintah, manusia, institusi, kata, satu",
          "<b>Topic 3</b><br>Words: singapura, guru, tingkat, menteri, kapasitas",
          "<b>Topic 3</b><br>Words: kamu, sedang, magang, indonesia, jenjang",
          "<b>Topic 3</b><br>Words: kamu, ulas, islam, pesantren, jenjang",
          "<b>Topic 3</b><br>Words: guna, mahasiswa, buat, anak, guru",
          "<b>Topic 3</b><br>Words: menteri, dukung, seksual, keras, tinggi",
          "<b>Topic 3</b><br>Words: menteri, seksual, keras, mas, dukung",
          "<b>Topic 3</b><br>Words: baru, abu, lupa, efektif, permendikbudristek",
          "<b>Topic 3</b><br>Words: institusi, indonesia, cegah, seksual, keras",
          "<b>Topic 3</b><br>Words: enggak, bidang, materi, antikorupsi, libat",
          "<b>Topic 3</b><br>Words: tingkat, mutu, terap, juang, tuju",
          "<b>Topic 3</b><br>Words: guru, indonesia, nasional, hari, seluruh",
          "<b>Topic 3</b><br>Words: rakyat, ajar, persen, berapa, perintah",
          "<b>Topic 3</b><br>Words: bumn, otsus, demokrasi, surabaya, sangat",
          "<b>Topic 3</b><br>Words: benar, kemendikbud, sertifikat, hadiah, segitunyaa",
          "<b>Topic 3</b><br>Words: selalu, cermin, baharu, kaget, langgeng",
          "<b>Topic 3</b><br>Words: sajak, negeri, tak, indahtertulis, simulasi",
          "<b>Topic 3</b><br>Words: kutuk, adab, jadi, generasi, nilai",
          "<b>Topic 3</b><br>Words: giat, menteri, headline, baku, pr",
          "<b>Topic 3</b><br>Words: jauh, banget, kayak, minat, pas",
          "<b>Topic 3</b><br>Words: pusbangpeg, asn, pik, freire, psykis",
          "<b>Topic 3</b><br>Words: masuk, jadi, kkks, kukuh, diklat",
          "<b>Topic 3</b><br>Words: ibu, bagaimana, tunggal, cermat, diskusi",
          "<b>Topic 3</b><br>Words: enggak, mu, menteri, jadi, sekolah",
          "<b>Topic 3</b><br>Words: pkl, tahun, jawabarat, dinas, kuning",
          "<b>Topic 3</b><br>Words: nasional, merdeka, ajar, anak, amp"
         ],
         "marker": {
          "color": "#F0E442"
         },
         "mode": "lines",
         "name": "3_menteri_guru_jadi_seksual",
         "type": "scatter",
         "x": [
          "2021-10-21T01:39:31.115000+00:00",
          "2021-10-23T11:43:42.833333+00:00",
          "2021-10-25T20:06:25.666666+00:00",
          "2021-10-28T04:29:08.500000+00:00",
          "2021-10-30T12:51:51.333333+00:00",
          "2021-11-01T21:14:34.166666+00:00",
          "2021-11-08T22:22:42.666666+00:00",
          "2021-11-11T06:45:25.500000+00:00",
          "2021-11-13T15:08:08.333333+00:00",
          "2021-11-15T23:30:51.166666+00:00",
          "2021-11-18T07:53:34+00:00",
          "2021-11-20T16:16:16.833333+00:00",
          "2021-11-23T00:38:59.666666+00:00",
          "2021-11-25T09:01:42.500000+00:00",
          "2021-11-27T17:24:25.333333+00:00",
          "2021-11-30T01:47:08.166666+00:00",
          "2021-12-02T10:09:51+00:00",
          "2021-12-04T18:32:33.833333+00:00",
          "2021-12-09T11:17:59.500000+00:00",
          "2021-12-11T19:40:42.333333+00:00",
          "2021-12-14T04:03:25.166666+00:00",
          "2021-12-16T12:26:08+00:00",
          "2021-12-18T20:48:50.833333+00:00",
          "2021-12-21T05:11:33.666666+00:00",
          "2021-12-23T13:34:16.500000+00:00",
          "2021-12-25T21:56:59.333333+00:00",
          "2021-12-28T06:19:42.166666+00:00"
         ],
         "y": [
          8,
          8,
          10,
          6,
          3,
          3,
          35,
          19,
          6,
          13,
          15,
          8,
          15,
          4,
          7,
          2,
          4,
          3,
          3,
          5,
          5,
          6,
          7,
          7,
          5,
          3,
          7
         ]
        }
       ],
       "layout": {
        "height": 450,
        "hoverlabel": {
         "bgcolor": "white",
         "font": {
          "family": "Rockwell",
          "size": 16
         }
        },
        "legend": {
         "title": {
          "text": "<b>Global Topic Representation"
         }
        },
        "template": {
         "data": {
          "bar": [
           {
            "error_x": {
             "color": "rgb(36,36,36)"
            },
            "error_y": {
             "color": "rgb(36,36,36)"
            },
            "marker": {
             "line": {
              "color": "white",
              "width": 0.5
             },
             "pattern": {
              "fillmode": "overlay",
              "size": 10,
              "solidity": 0.2
             }
            },
            "type": "bar"
           }
          ],
          "barpolar": [
           {
            "marker": {
             "line": {
              "color": "white",
              "width": 0.5
             },
             "pattern": {
              "fillmode": "overlay",
              "size": 10,
              "solidity": 0.2
             }
            },
            "type": "barpolar"
           }
          ],
          "carpet": [
           {
            "aaxis": {
             "endlinecolor": "rgb(36,36,36)",
             "gridcolor": "white",
             "linecolor": "white",
             "minorgridcolor": "white",
             "startlinecolor": "rgb(36,36,36)"
            },
            "baxis": {
             "endlinecolor": "rgb(36,36,36)",
             "gridcolor": "white",
             "linecolor": "white",
             "minorgridcolor": "white",
             "startlinecolor": "rgb(36,36,36)"
            },
            "type": "carpet"
           }
          ],
          "choropleth": [
           {
            "colorbar": {
             "outlinewidth": 1,
             "tickcolor": "rgb(36,36,36)",
             "ticks": "outside"
            },
            "type": "choropleth"
           }
          ],
          "contour": [
           {
            "colorbar": {
             "outlinewidth": 1,
             "tickcolor": "rgb(36,36,36)",
             "ticks": "outside"
            },
            "colorscale": [
             [
              0,
              "#440154"
             ],
             [
              0.1111111111111111,
              "#482878"
             ],
             [
              0.2222222222222222,
              "#3e4989"
             ],
             [
              0.3333333333333333,
              "#31688e"
             ],
             [
              0.4444444444444444,
              "#26828e"
             ],
             [
              0.5555555555555556,
              "#1f9e89"
             ],
             [
              0.6666666666666666,
              "#35b779"
             ],
             [
              0.7777777777777778,
              "#6ece58"
             ],
             [
              0.8888888888888888,
              "#b5de2b"
             ],
             [
              1,
              "#fde725"
             ]
            ],
            "type": "contour"
           }
          ],
          "contourcarpet": [
           {
            "colorbar": {
             "outlinewidth": 1,
             "tickcolor": "rgb(36,36,36)",
             "ticks": "outside"
            },
            "type": "contourcarpet"
           }
          ],
          "heatmap": [
           {
            "colorbar": {
             "outlinewidth": 1,
             "tickcolor": "rgb(36,36,36)",
             "ticks": "outside"
            },
            "colorscale": [
             [
              0,
              "#440154"
             ],
             [
              0.1111111111111111,
              "#482878"
             ],
             [
              0.2222222222222222,
              "#3e4989"
             ],
             [
              0.3333333333333333,
              "#31688e"
             ],
             [
              0.4444444444444444,
              "#26828e"
             ],
             [
              0.5555555555555556,
              "#1f9e89"
             ],
             [
              0.6666666666666666,
              "#35b779"
             ],
             [
              0.7777777777777778,
              "#6ece58"
             ],
             [
              0.8888888888888888,
              "#b5de2b"
             ],
             [
              1,
              "#fde725"
             ]
            ],
            "type": "heatmap"
           }
          ],
          "heatmapgl": [
           {
            "colorbar": {
             "outlinewidth": 1,
             "tickcolor": "rgb(36,36,36)",
             "ticks": "outside"
            },
            "colorscale": [
             [
              0,
              "#440154"
             ],
             [
              0.1111111111111111,
              "#482878"
             ],
             [
              0.2222222222222222,
              "#3e4989"
             ],
             [
              0.3333333333333333,
              "#31688e"
             ],
             [
              0.4444444444444444,
              "#26828e"
             ],
             [
              0.5555555555555556,
              "#1f9e89"
             ],
             [
              0.6666666666666666,
              "#35b779"
             ],
             [
              0.7777777777777778,
              "#6ece58"
             ],
             [
              0.8888888888888888,
              "#b5de2b"
             ],
             [
              1,
              "#fde725"
             ]
            ],
            "type": "heatmapgl"
           }
          ],
          "histogram": [
           {
            "marker": {
             "line": {
              "color": "white",
              "width": 0.6
             }
            },
            "type": "histogram"
           }
          ],
          "histogram2d": [
           {
            "colorbar": {
             "outlinewidth": 1,
             "tickcolor": "rgb(36,36,36)",
             "ticks": "outside"
            },
            "colorscale": [
             [
              0,
              "#440154"
             ],
             [
              0.1111111111111111,
              "#482878"
             ],
             [
              0.2222222222222222,
              "#3e4989"
             ],
             [
              0.3333333333333333,
              "#31688e"
             ],
             [
              0.4444444444444444,
              "#26828e"
             ],
             [
              0.5555555555555556,
              "#1f9e89"
             ],
             [
              0.6666666666666666,
              "#35b779"
             ],
             [
              0.7777777777777778,
              "#6ece58"
             ],
             [
              0.8888888888888888,
              "#b5de2b"
             ],
             [
              1,
              "#fde725"
             ]
            ],
            "type": "histogram2d"
           }
          ],
          "histogram2dcontour": [
           {
            "colorbar": {
             "outlinewidth": 1,
             "tickcolor": "rgb(36,36,36)",
             "ticks": "outside"
            },
            "colorscale": [
             [
              0,
              "#440154"
             ],
             [
              0.1111111111111111,
              "#482878"
             ],
             [
              0.2222222222222222,
              "#3e4989"
             ],
             [
              0.3333333333333333,
              "#31688e"
             ],
             [
              0.4444444444444444,
              "#26828e"
             ],
             [
              0.5555555555555556,
              "#1f9e89"
             ],
             [
              0.6666666666666666,
              "#35b779"
             ],
             [
              0.7777777777777778,
              "#6ece58"
             ],
             [
              0.8888888888888888,
              "#b5de2b"
             ],
             [
              1,
              "#fde725"
             ]
            ],
            "type": "histogram2dcontour"
           }
          ],
          "mesh3d": [
           {
            "colorbar": {
             "outlinewidth": 1,
             "tickcolor": "rgb(36,36,36)",
             "ticks": "outside"
            },
            "type": "mesh3d"
           }
          ],
          "parcoords": [
           {
            "line": {
             "colorbar": {
              "outlinewidth": 1,
              "tickcolor": "rgb(36,36,36)",
              "ticks": "outside"
             }
            },
            "type": "parcoords"
           }
          ],
          "pie": [
           {
            "automargin": true,
            "type": "pie"
           }
          ],
          "scatter": [
           {
            "fillpattern": {
             "fillmode": "overlay",
             "size": 10,
             "solidity": 0.2
            },
            "type": "scatter"
           }
          ],
          "scatter3d": [
           {
            "line": {
             "colorbar": {
              "outlinewidth": 1,
              "tickcolor": "rgb(36,36,36)",
              "ticks": "outside"
             }
            },
            "marker": {
             "colorbar": {
              "outlinewidth": 1,
              "tickcolor": "rgb(36,36,36)",
              "ticks": "outside"
             }
            },
            "type": "scatter3d"
           }
          ],
          "scattercarpet": [
           {
            "marker": {
             "colorbar": {
              "outlinewidth": 1,
              "tickcolor": "rgb(36,36,36)",
              "ticks": "outside"
             }
            },
            "type": "scattercarpet"
           }
          ],
          "scattergeo": [
           {
            "marker": {
             "colorbar": {
              "outlinewidth": 1,
              "tickcolor": "rgb(36,36,36)",
              "ticks": "outside"
             }
            },
            "type": "scattergeo"
           }
          ],
          "scattergl": [
           {
            "marker": {
             "colorbar": {
              "outlinewidth": 1,
              "tickcolor": "rgb(36,36,36)",
              "ticks": "outside"
             }
            },
            "type": "scattergl"
           }
          ],
          "scattermapbox": [
           {
            "marker": {
             "colorbar": {
              "outlinewidth": 1,
              "tickcolor": "rgb(36,36,36)",
              "ticks": "outside"
             }
            },
            "type": "scattermapbox"
           }
          ],
          "scatterpolar": [
           {
            "marker": {
             "colorbar": {
              "outlinewidth": 1,
              "tickcolor": "rgb(36,36,36)",
              "ticks": "outside"
             }
            },
            "type": "scatterpolar"
           }
          ],
          "scatterpolargl": [
           {
            "marker": {
             "colorbar": {
              "outlinewidth": 1,
              "tickcolor": "rgb(36,36,36)",
              "ticks": "outside"
             }
            },
            "type": "scatterpolargl"
           }
          ],
          "scatterternary": [
           {
            "marker": {
             "colorbar": {
              "outlinewidth": 1,
              "tickcolor": "rgb(36,36,36)",
              "ticks": "outside"
             }
            },
            "type": "scatterternary"
           }
          ],
          "surface": [
           {
            "colorbar": {
             "outlinewidth": 1,
             "tickcolor": "rgb(36,36,36)",
             "ticks": "outside"
            },
            "colorscale": [
             [
              0,
              "#440154"
             ],
             [
              0.1111111111111111,
              "#482878"
             ],
             [
              0.2222222222222222,
              "#3e4989"
             ],
             [
              0.3333333333333333,
              "#31688e"
             ],
             [
              0.4444444444444444,
              "#26828e"
             ],
             [
              0.5555555555555556,
              "#1f9e89"
             ],
             [
              0.6666666666666666,
              "#35b779"
             ],
             [
              0.7777777777777778,
              "#6ece58"
             ],
             [
              0.8888888888888888,
              "#b5de2b"
             ],
             [
              1,
              "#fde725"
             ]
            ],
            "type": "surface"
           }
          ],
          "table": [
           {
            "cells": {
             "fill": {
              "color": "rgb(237,237,237)"
             },
             "line": {
              "color": "white"
             }
            },
            "header": {
             "fill": {
              "color": "rgb(217,217,217)"
             },
             "line": {
              "color": "white"
             }
            },
            "type": "table"
           }
          ]
         },
         "layout": {
          "annotationdefaults": {
           "arrowhead": 0,
           "arrowwidth": 1
          },
          "autotypenumbers": "strict",
          "coloraxis": {
           "colorbar": {
            "outlinewidth": 1,
            "tickcolor": "rgb(36,36,36)",
            "ticks": "outside"
           }
          },
          "colorscale": {
           "diverging": [
            [
             0,
             "rgb(103,0,31)"
            ],
            [
             0.1,
             "rgb(178,24,43)"
            ],
            [
             0.2,
             "rgb(214,96,77)"
            ],
            [
             0.3,
             "rgb(244,165,130)"
            ],
            [
             0.4,
             "rgb(253,219,199)"
            ],
            [
             0.5,
             "rgb(247,247,247)"
            ],
            [
             0.6,
             "rgb(209,229,240)"
            ],
            [
             0.7,
             "rgb(146,197,222)"
            ],
            [
             0.8,
             "rgb(67,147,195)"
            ],
            [
             0.9,
             "rgb(33,102,172)"
            ],
            [
             1,
             "rgb(5,48,97)"
            ]
           ],
           "sequential": [
            [
             0,
             "#440154"
            ],
            [
             0.1111111111111111,
             "#482878"
            ],
            [
             0.2222222222222222,
             "#3e4989"
            ],
            [
             0.3333333333333333,
             "#31688e"
            ],
            [
             0.4444444444444444,
             "#26828e"
            ],
            [
             0.5555555555555556,
             "#1f9e89"
            ],
            [
             0.6666666666666666,
             "#35b779"
            ],
            [
             0.7777777777777778,
             "#6ece58"
            ],
            [
             0.8888888888888888,
             "#b5de2b"
            ],
            [
             1,
             "#fde725"
            ]
           ],
           "sequentialminus": [
            [
             0,
             "#440154"
            ],
            [
             0.1111111111111111,
             "#482878"
            ],
            [
             0.2222222222222222,
             "#3e4989"
            ],
            [
             0.3333333333333333,
             "#31688e"
            ],
            [
             0.4444444444444444,
             "#26828e"
            ],
            [
             0.5555555555555556,
             "#1f9e89"
            ],
            [
             0.6666666666666666,
             "#35b779"
            ],
            [
             0.7777777777777778,
             "#6ece58"
            ],
            [
             0.8888888888888888,
             "#b5de2b"
            ],
            [
             1,
             "#fde725"
            ]
           ]
          },
          "colorway": [
           "#1F77B4",
           "#FF7F0E",
           "#2CA02C",
           "#D62728",
           "#9467BD",
           "#8C564B",
           "#E377C2",
           "#7F7F7F",
           "#BCBD22",
           "#17BECF"
          ],
          "font": {
           "color": "rgb(36,36,36)"
          },
          "geo": {
           "bgcolor": "white",
           "lakecolor": "white",
           "landcolor": "white",
           "showlakes": true,
           "showland": true,
           "subunitcolor": "white"
          },
          "hoverlabel": {
           "align": "left"
          },
          "hovermode": "closest",
          "mapbox": {
           "style": "light"
          },
          "paper_bgcolor": "white",
          "plot_bgcolor": "white",
          "polar": {
           "angularaxis": {
            "gridcolor": "rgb(232,232,232)",
            "linecolor": "rgb(36,36,36)",
            "showgrid": false,
            "showline": true,
            "ticks": "outside"
           },
           "bgcolor": "white",
           "radialaxis": {
            "gridcolor": "rgb(232,232,232)",
            "linecolor": "rgb(36,36,36)",
            "showgrid": false,
            "showline": true,
            "ticks": "outside"
           }
          },
          "scene": {
           "xaxis": {
            "backgroundcolor": "white",
            "gridcolor": "rgb(232,232,232)",
            "gridwidth": 2,
            "linecolor": "rgb(36,36,36)",
            "showbackground": true,
            "showgrid": false,
            "showline": true,
            "ticks": "outside",
            "zeroline": false,
            "zerolinecolor": "rgb(36,36,36)"
           },
           "yaxis": {
            "backgroundcolor": "white",
            "gridcolor": "rgb(232,232,232)",
            "gridwidth": 2,
            "linecolor": "rgb(36,36,36)",
            "showbackground": true,
            "showgrid": false,
            "showline": true,
            "ticks": "outside",
            "zeroline": false,
            "zerolinecolor": "rgb(36,36,36)"
           },
           "zaxis": {
            "backgroundcolor": "white",
            "gridcolor": "rgb(232,232,232)",
            "gridwidth": 2,
            "linecolor": "rgb(36,36,36)",
            "showbackground": true,
            "showgrid": false,
            "showline": true,
            "ticks": "outside",
            "zeroline": false,
            "zerolinecolor": "rgb(36,36,36)"
           }
          },
          "shapedefaults": {
           "fillcolor": "black",
           "line": {
            "width": 0
           },
           "opacity": 0.3
          },
          "ternary": {
           "aaxis": {
            "gridcolor": "rgb(232,232,232)",
            "linecolor": "rgb(36,36,36)",
            "showgrid": false,
            "showline": true,
            "ticks": "outside"
           },
           "baxis": {
            "gridcolor": "rgb(232,232,232)",
            "linecolor": "rgb(36,36,36)",
            "showgrid": false,
            "showline": true,
            "ticks": "outside"
           },
           "bgcolor": "white",
           "caxis": {
            "gridcolor": "rgb(232,232,232)",
            "linecolor": "rgb(36,36,36)",
            "showgrid": false,
            "showline": true,
            "ticks": "outside"
           }
          },
          "title": {
           "x": 0.05
          },
          "xaxis": {
           "automargin": true,
           "gridcolor": "rgb(232,232,232)",
           "linecolor": "rgb(36,36,36)",
           "showgrid": false,
           "showline": true,
           "ticks": "outside",
           "title": {
            "standoff": 15
           },
           "zeroline": false,
           "zerolinecolor": "rgb(36,36,36)"
          },
          "yaxis": {
           "automargin": true,
           "gridcolor": "rgb(232,232,232)",
           "linecolor": "rgb(36,36,36)",
           "showgrid": false,
           "showline": true,
           "ticks": "outside",
           "title": {
            "standoff": 15
           },
           "zeroline": false,
           "zerolinecolor": "rgb(36,36,36)"
          }
         }
        },
        "title": {
         "font": {
          "color": "Black",
          "size": 22
         },
         "text": "Topics Over Time for 2021Q4",
         "x": 0.4,
         "xanchor": "center",
         "y": 0.95,
         "yanchor": "top"
        },
        "width": 1250,
        "xaxis": {
         "showgrid": true
        },
        "yaxis": {
         "showgrid": true,
         "title": {
          "text": "Frequency"
         }
        }
       }
      }
     },
     "metadata": {},
     "output_type": "display_data"
    },
    {
     "data": {
      "application/vnd.plotly.v1+json": {
       "config": {
        "plotlyServerURL": "https://plot.ly"
       },
       "data": [
        {
         "hoverinfo": "text",
         "hovertext": [
          "<b>Topic 0</b><br>Words: pamekasan, lokakarya, mdmc, sector, risiko",
          "<b>Topic 0</b><br>Words: digitalisasi, ketat, prokes, ayo, apresiasi",
          "<b>Topic 0</b><br>Words: kontrak, tenaga, ekspor, mobilitas, tekon",
          "<b>Topic 0</b><br>Words: sikap, bidang, perintah, tingkat, sehat",
          "<b>Topic 0</b><br>Words: rusuh, buat, layak, politik, perempuan",
          "<b>Topic 0</b><br>Words: setiawan, via, bukik, sebut, riset",
          "<b>Topic 0</b><br>Words: sangat, jepara, jawa, sekjen, prioritas",
          "<b>Topic 0</b><br>Words: tingkat, instansi, informasi, maupun, pasti",
          "<b>Topic 0</b><br>Words: sisi, makin, amp, ptn, rakyat",
          "<b>Topic 0</b><br>Words: industri, pangan, pintar, awal, tara",
          "<b>Topic 0</b><br>Words: bina, sd, bidang, jombang, merger",
          "<b>Topic 0</b><br>Words: gus, sehat, penting, menag, pandang",
          "<b>Topic 0</b><br>Words: banyak, gagal, hidup, sosial, baik",
          "<b>Topic 0</b><br>Words: masyarakat, tingkat, layan, lingkung, sasar",
          "<b>Topic 0</b><br>Words: presidensi, tawar, bas, vokasi, komunitas",
          "<b>Topic 0</b><br>Words: hrbat, bbm, indeks, topang, serah",
          "<b>Topic 0</b><br>Words: tingkat, sehat, ksenjangan, ri, bop",
          "<b>Topic 0</b><br>Words: dana, tingkat, akselerasi, paud, perintah",
          "<b>Topic 0</b><br>Words: tingkat, sehat, tahun, prioritas, ekonomi",
          "<b>Topic 0</b><br>Words: ppn, monoarfa, suharso, ekstrem, turun",
          "<b>Topic 0</b><br>Words: tahun, gas, pol, ekstrem, turun"
         ],
         "marker": {
          "color": "#E69F00"
         },
         "mode": "lines",
         "name": "0_tingkat_sehat_perintah_tahun",
         "type": "scatter",
         "x": [
          "2022-01-01T02:59:56.176999+00:00",
          "2022-01-03T01:11:40.766666+00:00",
          "2022-01-04T22:02:41.533333+00:00",
          "2022-01-06T18:53:42.300000+00:00",
          "2022-01-08T15:44:43.066666+00:00",
          "2022-01-10T12:35:43.833333+00:00",
          "2022-01-17T23:59:46.900000+00:00",
          "2022-01-21T17:41:48.433333+00:00",
          "2022-01-23T14:32:49.200000+00:00",
          "2022-01-25T11:23:49.966666+00:00",
          "2022-01-29T05:05:51.500000+00:00",
          "2022-02-01T22:47:53.033333+00:00",
          "2022-02-05T16:29:54.566666+00:00",
          "2022-02-07T13:20:55.333333+00:00",
          "2022-02-09T10:11:56.100000+00:00",
          "2022-02-11T07:02:56.866666+00:00",
          "2022-02-13T03:53:57.633333+00:00",
          "2022-02-15T00:44:58.400000+00:00",
          "2022-02-16T21:35:59.166666+00:00",
          "2022-02-18T18:26:59.933333+00:00",
          "2022-02-22T12:09:01.466666+00:00"
         ],
         "y": [
          2,
          1,
          3,
          1,
          2,
          1,
          5,
          1,
          4,
          4,
          1,
          1,
          2,
          2,
          3,
          1,
          5,
          5,
          8,
          2,
          1
         ]
        },
        {
         "hoverinfo": "text",
         "hovertext": [
          "<b>Topic 1</b><br>Words: provinsi, pandemi, dki, terap, muka",
          "<b>Topic 1</b><br>Words: optimis, bidangnyaaa, fafifuwasweswos, ahli, depan",
          "<b>Topic 1</b><br>Words: jangka, tempat, rekomendasi, keluarga, pandemi",
          "<b>Topic 1</b><br>Words: sulit, ganti, indonesia, ideologis, gambar",
          "<b>Topic 1</b><br>Words: yatim, internasional, diri, sorot, pemkot",
          "<b>Topic 1</b><br>Words: papua, negeri, yunani, protes, avangers",
          "<b>Topic 1</b><br>Words: smpmts, sumedang, tanjungsari, ips, smpn",
          "<b>Topic 1</b><br>Words: gue, prihatin, balok, bilang, mandor",
          "<b>Topic 1</b><br>Words: mandiri, investasi, baca, arah, tuju",
          "<b>Topic 1</b><br>Words: australia, oleh, skandinavia, malaysia, inggris",
          "<b>Topic 1</b><br>Words: menteri, bumn, pandemi, masa, wajib",
          "<b>Topic 1</b><br>Words: korban, amp, jadi, pintu, transmisi",
          "<b>Topic 1</b><br>Words: teknologi, riset, menteri, indonesia, biaya",
          "<b>Topic 1</b><br>Words: ccp, indonesia, covid, publik, menteri",
          "<b>Topic 1</b><br>Words: padang, hukum, indonesia, kota, buat",
          "<b>Topic 1</b><br>Words: papua, beasiswa, asli, sendiri, ada",
          "<b>Topic 1</b><br>Words: ngabisin, asih, puluh, ounya, positif",
          "<b>Topic 1</b><br>Words: papua, coba, laku, perintah, doi",
          "<b>Topic 1</b><br>Words: appad, resmi, bentuk, vaksin, tolak",
          "<b>Topic 1</b><br>Words: buat, pundak, semangat, perata, berat"
         ],
         "marker": {
          "color": "#56B4E9"
         },
         "mode": "lines",
         "name": "1_indonesia_papua_menteri_anak",
         "type": "scatter",
         "x": [
          "2022-01-03T01:11:40.766666+00:00",
          "2022-01-08T15:44:43.066666+00:00",
          "2022-01-10T12:35:43.833333+00:00",
          "2022-01-12T09:26:44.600000+00:00",
          "2022-01-16T03:08:46.133333+00:00",
          "2022-01-17T23:59:46.900000+00:00",
          "2022-01-19T20:50:47.666666+00:00",
          "2022-01-21T17:41:48.433333+00:00",
          "2022-01-23T14:32:49.200000+00:00",
          "2022-01-27T08:14:50.733333+00:00",
          "2022-01-29T05:05:51.500000+00:00",
          "2022-02-01T22:47:53.033333+00:00",
          "2022-02-03T19:38:53.800000+00:00",
          "2022-02-05T16:29:54.566666+00:00",
          "2022-02-07T13:20:55.333333+00:00",
          "2022-02-09T10:11:56.100000+00:00",
          "2022-02-11T07:02:56.866666+00:00",
          "2022-02-13T03:53:57.633333+00:00",
          "2022-02-20T15:18:00.700000+00:00",
          "2022-02-22T12:09:01.466666+00:00"
         ],
         "y": [
          2,
          1,
          1,
          4,
          2,
          3,
          1,
          2,
          1,
          1,
          3,
          2,
          3,
          3,
          3,
          2,
          1,
          3,
          1,
          1
         ]
        },
        {
         "hoverinfo": "text",
         "hovertext": [
          "<b>Topic 2</b><br>Words: jir, prtrn, kntr, impact, apaka",
          "<b>Topic 2</b><br>Words: jakarta, pekanbaru, kasubag, dinas, humas",
          "<b>Topic 2</b><br>Words: halmahera, selatan, daerah, jakarta, pekanbaru",
          "<b>Topic 2</b><br>Words: pesan, ii, kcd, depok, wilayah",
          "<b>Topic 2</b><br>Words: tular, penting, satu, kakak, siur",
          "<b>Topic 2</b><br>Words: cianjur, dewan, apreasiasi, tegur, tangsel",
          "<b>Topic 2</b><br>Words: jalan, kakak, kak, detail, tks"
         ],
         "marker": {
          "color": "#009E73"
         },
         "mode": "lines",
         "name": "2_jakarta_pekanbaru_jalan_ptm",
         "type": "scatter",
         "x": [
          "2022-01-01T02:59:56.176999+00:00",
          "2022-01-03T01:11:40.766666+00:00",
          "2022-01-21T17:41:48.433333+00:00",
          "2022-01-31T01:56:52.266666+00:00",
          "2022-02-01T22:47:53.033333+00:00",
          "2022-02-07T13:20:55.333333+00:00",
          "2022-02-11T07:02:56.866666+00:00"
         ],
         "y": [
          1,
          4,
          1,
          1,
          2,
          2,
          1
         ]
        },
        {
         "hoverinfo": "text",
         "hovertext": [
          "<b>Topic 3</b><br>Words: demokrat, ahy, sahabat, susilo, bareng",
          "<b>Topic 3</b><br>Words: ani, ibu, perempuan, fatehah, kaum",
          "<b>Topic 3</b><br>Words: kalong, ramah, kota, anak, muhammadiyah",
          "<b>Topic 3</b><br>Words: muhammadiyah, alpa, sekretaris, ialah, amirrachman",
          "<b>Topic 3</b><br>Words: naskah, akademik, pp, muhammadiyah, nasional",
          "<b>Topic 3</b><br>Words: konsep, posisi, efendi, ajakki, ajarki",
          "<b>Topic 3</b><br>Words: sekolah, abdurrahman, usai, wahid, kakanwil",
          "<b>Topic 3</b><br>Words: its, direktorat, prasarana, biro, bem",
          "<b>Topic 3</b><br>Words: belanda, perempuan, tsb, finis, hindia",
          "<b>Topic 3</b><br>Words: muslim, mild, larang, diskriminatif, alir"
         ],
         "marker": {
          "color": "#F0E442"
         },
         "mode": "lines",
         "name": "3_muhammadiyah_its_pp_perempuan",
         "type": "scatter",
         "x": [
          "2022-01-04T22:02:41.533333+00:00",
          "2022-01-10T12:35:43.833333+00:00",
          "2022-01-19T20:50:47.666666+00:00",
          "2022-01-21T17:41:48.433333+00:00",
          "2022-01-23T14:32:49.200000+00:00",
          "2022-01-27T08:14:50.733333+00:00",
          "2022-02-09T10:11:56.100000+00:00",
          "2022-02-13T03:53:57.633333+00:00",
          "2022-02-16T21:35:59.166666+00:00",
          "2022-02-22T12:09:01.466666+00:00"
         ],
         "y": [
          1,
          1,
          2,
          2,
          2,
          2,
          2,
          1,
          1,
          1
         ]
        },
        {
         "hoverinfo": "text",
         "hovertext": [
          "<b>Topic 4</b><br>Words: guru, rekrutmen, rangka, honorer, kemdikbudristek",
          "<b>Topic 4</b><br>Words: kkn, mahasiswa, akidah, nama, dusun",
          "<b>Topic 4</b><br>Words: sempat, kemarin, bahas, kelas, guru",
          "<b>Topic 4</b><br>Words: kemendikbud, tulis, setiawan, nadim, bukik",
          "<b>Topic 4</b><br>Words: kurikulum, aditomo, pengin, obrol, standar",
          "<b>Topic 4</b><br>Words: merdeka, magang, plonga, tri, plongo",
          "<b>Topic 4</b><br>Words: guru, sampah, buton, plastik, oknum",
          "<b>Topic 4</b><br>Words: guru, benarbenar, bahan, lptk, akademisi",
          "<b>Topic 4</b><br>Words: tanggap, pns, plusminusnya, upi, aja",
          "<b>Topic 4</b><br>Words: bandar, serta, lampung, kelas, naik",
          "<b>Topic 4</b><br>Words: pak, guru, tiru, sangatsangat, an",
          "<b>Topic 4</b><br>Words: referensi, lptk, revitalisasi, bahan, sari",
          "<b>Topic 4</b><br>Words: mbkm, merdeka, bawa, bagai, mas",
          "<b>Topic 4</b><br>Words: kurikulum, saat, jantung, wawancara, landas",
          "<b>Topic 4</b><br>Words: kurikulum, fitk, rozak, pips, perspektif"
         ],
         "marker": {
          "color": "#D55E00"
         },
         "mode": "lines",
         "name": "4_guru_kurikulum_merdeka_kkn",
         "type": "scatter",
         "x": [
          "2022-01-04T22:02:41.533333+00:00",
          "2022-01-06T18:53:42.300000+00:00",
          "2022-01-08T15:44:43.066666+00:00",
          "2022-01-10T12:35:43.833333+00:00",
          "2022-01-17T23:59:46.900000+00:00",
          "2022-01-23T14:32:49.200000+00:00",
          "2022-01-27T08:14:50.733333+00:00",
          "2022-01-31T01:56:52.266666+00:00",
          "2022-02-01T22:47:53.033333+00:00",
          "2022-02-05T16:29:54.566666+00:00",
          "2022-02-09T10:11:56.100000+00:00",
          "2022-02-11T07:02:56.866666+00:00",
          "2022-02-13T03:53:57.633333+00:00",
          "2022-02-16T21:35:59.166666+00:00",
          "2022-02-22T12:09:01.466666+00:00"
         ],
         "y": [
          1,
          1,
          1,
          1,
          3,
          2,
          1,
          2,
          1,
          1,
          1,
          1,
          1,
          1,
          3
         ]
        },
        {
         "hoverinfo": "text",
         "hovertext": [
          "<b>Topic 5</b><br>Words: student, loan, negara, enggak, bayar",
          "<b>Topic 5</b><br>Words: negara, hak, kampus, rugi, student",
          "<b>Topic 5</b><br>Words: kapitalis, sosdem, negara, fdp, kanselir",
          "<b>Topic 5</b><br>Words: tengah, cocok, tuh, pas, kasih",
          "<b>Topic 5</b><br>Words: sekolah, keluarga, negara, negeri, aparat",
          "<b>Topic 5</b><br>Words: susah, bayar, enggak, minta, kuliahpengen",
          "<b>Topic 5</b><br>Words: prodi, gais, schapp, prospek, tau",
          "<b>Topic 5</b><br>Words: bpjs, pakai, jangan, urus, bikin"
         ],
         "marker": {
          "color": "#0072B2"
         },
         "mode": "lines",
         "name": "5_negara_student_loan_bayar",
         "type": "scatter",
         "x": [
          "2022-01-08T15:44:43.066666+00:00",
          "2022-01-10T12:35:43.833333+00:00",
          "2022-01-12T09:26:44.600000+00:00",
          "2022-01-19T20:50:47.666666+00:00",
          "2022-01-21T17:41:48.433333+00:00",
          "2022-02-05T16:29:54.566666+00:00",
          "2022-02-22T12:09:01.466666+00:00",
          "2022-02-24T09:00:02.233333+00:00"
         ],
         "y": [
          11,
          3,
          1,
          1,
          1,
          1,
          1,
          1
         ]
        }
       ],
       "layout": {
        "height": 450,
        "hoverlabel": {
         "bgcolor": "white",
         "font": {
          "family": "Rockwell",
          "size": 16
         }
        },
        "legend": {
         "title": {
          "text": "<b>Global Topic Representation"
         }
        },
        "template": {
         "data": {
          "bar": [
           {
            "error_x": {
             "color": "rgb(36,36,36)"
            },
            "error_y": {
             "color": "rgb(36,36,36)"
            },
            "marker": {
             "line": {
              "color": "white",
              "width": 0.5
             },
             "pattern": {
              "fillmode": "overlay",
              "size": 10,
              "solidity": 0.2
             }
            },
            "type": "bar"
           }
          ],
          "barpolar": [
           {
            "marker": {
             "line": {
              "color": "white",
              "width": 0.5
             },
             "pattern": {
              "fillmode": "overlay",
              "size": 10,
              "solidity": 0.2
             }
            },
            "type": "barpolar"
           }
          ],
          "carpet": [
           {
            "aaxis": {
             "endlinecolor": "rgb(36,36,36)",
             "gridcolor": "white",
             "linecolor": "white",
             "minorgridcolor": "white",
             "startlinecolor": "rgb(36,36,36)"
            },
            "baxis": {
             "endlinecolor": "rgb(36,36,36)",
             "gridcolor": "white",
             "linecolor": "white",
             "minorgridcolor": "white",
             "startlinecolor": "rgb(36,36,36)"
            },
            "type": "carpet"
           }
          ],
          "choropleth": [
           {
            "colorbar": {
             "outlinewidth": 1,
             "tickcolor": "rgb(36,36,36)",
             "ticks": "outside"
            },
            "type": "choropleth"
           }
          ],
          "contour": [
           {
            "colorbar": {
             "outlinewidth": 1,
             "tickcolor": "rgb(36,36,36)",
             "ticks": "outside"
            },
            "colorscale": [
             [
              0,
              "#440154"
             ],
             [
              0.1111111111111111,
              "#482878"
             ],
             [
              0.2222222222222222,
              "#3e4989"
             ],
             [
              0.3333333333333333,
              "#31688e"
             ],
             [
              0.4444444444444444,
              "#26828e"
             ],
             [
              0.5555555555555556,
              "#1f9e89"
             ],
             [
              0.6666666666666666,
              "#35b779"
             ],
             [
              0.7777777777777778,
              "#6ece58"
             ],
             [
              0.8888888888888888,
              "#b5de2b"
             ],
             [
              1,
              "#fde725"
             ]
            ],
            "type": "contour"
           }
          ],
          "contourcarpet": [
           {
            "colorbar": {
             "outlinewidth": 1,
             "tickcolor": "rgb(36,36,36)",
             "ticks": "outside"
            },
            "type": "contourcarpet"
           }
          ],
          "heatmap": [
           {
            "colorbar": {
             "outlinewidth": 1,
             "tickcolor": "rgb(36,36,36)",
             "ticks": "outside"
            },
            "colorscale": [
             [
              0,
              "#440154"
             ],
             [
              0.1111111111111111,
              "#482878"
             ],
             [
              0.2222222222222222,
              "#3e4989"
             ],
             [
              0.3333333333333333,
              "#31688e"
             ],
             [
              0.4444444444444444,
              "#26828e"
             ],
             [
              0.5555555555555556,
              "#1f9e89"
             ],
             [
              0.6666666666666666,
              "#35b779"
             ],
             [
              0.7777777777777778,
              "#6ece58"
             ],
             [
              0.8888888888888888,
              "#b5de2b"
             ],
             [
              1,
              "#fde725"
             ]
            ],
            "type": "heatmap"
           }
          ],
          "heatmapgl": [
           {
            "colorbar": {
             "outlinewidth": 1,
             "tickcolor": "rgb(36,36,36)",
             "ticks": "outside"
            },
            "colorscale": [
             [
              0,
              "#440154"
             ],
             [
              0.1111111111111111,
              "#482878"
             ],
             [
              0.2222222222222222,
              "#3e4989"
             ],
             [
              0.3333333333333333,
              "#31688e"
             ],
             [
              0.4444444444444444,
              "#26828e"
             ],
             [
              0.5555555555555556,
              "#1f9e89"
             ],
             [
              0.6666666666666666,
              "#35b779"
             ],
             [
              0.7777777777777778,
              "#6ece58"
             ],
             [
              0.8888888888888888,
              "#b5de2b"
             ],
             [
              1,
              "#fde725"
             ]
            ],
            "type": "heatmapgl"
           }
          ],
          "histogram": [
           {
            "marker": {
             "line": {
              "color": "white",
              "width": 0.6
             }
            },
            "type": "histogram"
           }
          ],
          "histogram2d": [
           {
            "colorbar": {
             "outlinewidth": 1,
             "tickcolor": "rgb(36,36,36)",
             "ticks": "outside"
            },
            "colorscale": [
             [
              0,
              "#440154"
             ],
             [
              0.1111111111111111,
              "#482878"
             ],
             [
              0.2222222222222222,
              "#3e4989"
             ],
             [
              0.3333333333333333,
              "#31688e"
             ],
             [
              0.4444444444444444,
              "#26828e"
             ],
             [
              0.5555555555555556,
              "#1f9e89"
             ],
             [
              0.6666666666666666,
              "#35b779"
             ],
             [
              0.7777777777777778,
              "#6ece58"
             ],
             [
              0.8888888888888888,
              "#b5de2b"
             ],
             [
              1,
              "#fde725"
             ]
            ],
            "type": "histogram2d"
           }
          ],
          "histogram2dcontour": [
           {
            "colorbar": {
             "outlinewidth": 1,
             "tickcolor": "rgb(36,36,36)",
             "ticks": "outside"
            },
            "colorscale": [
             [
              0,
              "#440154"
             ],
             [
              0.1111111111111111,
              "#482878"
             ],
             [
              0.2222222222222222,
              "#3e4989"
             ],
             [
              0.3333333333333333,
              "#31688e"
             ],
             [
              0.4444444444444444,
              "#26828e"
             ],
             [
              0.5555555555555556,
              "#1f9e89"
             ],
             [
              0.6666666666666666,
              "#35b779"
             ],
             [
              0.7777777777777778,
              "#6ece58"
             ],
             [
              0.8888888888888888,
              "#b5de2b"
             ],
             [
              1,
              "#fde725"
             ]
            ],
            "type": "histogram2dcontour"
           }
          ],
          "mesh3d": [
           {
            "colorbar": {
             "outlinewidth": 1,
             "tickcolor": "rgb(36,36,36)",
             "ticks": "outside"
            },
            "type": "mesh3d"
           }
          ],
          "parcoords": [
           {
            "line": {
             "colorbar": {
              "outlinewidth": 1,
              "tickcolor": "rgb(36,36,36)",
              "ticks": "outside"
             }
            },
            "type": "parcoords"
           }
          ],
          "pie": [
           {
            "automargin": true,
            "type": "pie"
           }
          ],
          "scatter": [
           {
            "fillpattern": {
             "fillmode": "overlay",
             "size": 10,
             "solidity": 0.2
            },
            "type": "scatter"
           }
          ],
          "scatter3d": [
           {
            "line": {
             "colorbar": {
              "outlinewidth": 1,
              "tickcolor": "rgb(36,36,36)",
              "ticks": "outside"
             }
            },
            "marker": {
             "colorbar": {
              "outlinewidth": 1,
              "tickcolor": "rgb(36,36,36)",
              "ticks": "outside"
             }
            },
            "type": "scatter3d"
           }
          ],
          "scattercarpet": [
           {
            "marker": {
             "colorbar": {
              "outlinewidth": 1,
              "tickcolor": "rgb(36,36,36)",
              "ticks": "outside"
             }
            },
            "type": "scattercarpet"
           }
          ],
          "scattergeo": [
           {
            "marker": {
             "colorbar": {
              "outlinewidth": 1,
              "tickcolor": "rgb(36,36,36)",
              "ticks": "outside"
             }
            },
            "type": "scattergeo"
           }
          ],
          "scattergl": [
           {
            "marker": {
             "colorbar": {
              "outlinewidth": 1,
              "tickcolor": "rgb(36,36,36)",
              "ticks": "outside"
             }
            },
            "type": "scattergl"
           }
          ],
          "scattermapbox": [
           {
            "marker": {
             "colorbar": {
              "outlinewidth": 1,
              "tickcolor": "rgb(36,36,36)",
              "ticks": "outside"
             }
            },
            "type": "scattermapbox"
           }
          ],
          "scatterpolar": [
           {
            "marker": {
             "colorbar": {
              "outlinewidth": 1,
              "tickcolor": "rgb(36,36,36)",
              "ticks": "outside"
             }
            },
            "type": "scatterpolar"
           }
          ],
          "scatterpolargl": [
           {
            "marker": {
             "colorbar": {
              "outlinewidth": 1,
              "tickcolor": "rgb(36,36,36)",
              "ticks": "outside"
             }
            },
            "type": "scatterpolargl"
           }
          ],
          "scatterternary": [
           {
            "marker": {
             "colorbar": {
              "outlinewidth": 1,
              "tickcolor": "rgb(36,36,36)",
              "ticks": "outside"
             }
            },
            "type": "scatterternary"
           }
          ],
          "surface": [
           {
            "colorbar": {
             "outlinewidth": 1,
             "tickcolor": "rgb(36,36,36)",
             "ticks": "outside"
            },
            "colorscale": [
             [
              0,
              "#440154"
             ],
             [
              0.1111111111111111,
              "#482878"
             ],
             [
              0.2222222222222222,
              "#3e4989"
             ],
             [
              0.3333333333333333,
              "#31688e"
             ],
             [
              0.4444444444444444,
              "#26828e"
             ],
             [
              0.5555555555555556,
              "#1f9e89"
             ],
             [
              0.6666666666666666,
              "#35b779"
             ],
             [
              0.7777777777777778,
              "#6ece58"
             ],
             [
              0.8888888888888888,
              "#b5de2b"
             ],
             [
              1,
              "#fde725"
             ]
            ],
            "type": "surface"
           }
          ],
          "table": [
           {
            "cells": {
             "fill": {
              "color": "rgb(237,237,237)"
             },
             "line": {
              "color": "white"
             }
            },
            "header": {
             "fill": {
              "color": "rgb(217,217,217)"
             },
             "line": {
              "color": "white"
             }
            },
            "type": "table"
           }
          ]
         },
         "layout": {
          "annotationdefaults": {
           "arrowhead": 0,
           "arrowwidth": 1
          },
          "autotypenumbers": "strict",
          "coloraxis": {
           "colorbar": {
            "outlinewidth": 1,
            "tickcolor": "rgb(36,36,36)",
            "ticks": "outside"
           }
          },
          "colorscale": {
           "diverging": [
            [
             0,
             "rgb(103,0,31)"
            ],
            [
             0.1,
             "rgb(178,24,43)"
            ],
            [
             0.2,
             "rgb(214,96,77)"
            ],
            [
             0.3,
             "rgb(244,165,130)"
            ],
            [
             0.4,
             "rgb(253,219,199)"
            ],
            [
             0.5,
             "rgb(247,247,247)"
            ],
            [
             0.6,
             "rgb(209,229,240)"
            ],
            [
             0.7,
             "rgb(146,197,222)"
            ],
            [
             0.8,
             "rgb(67,147,195)"
            ],
            [
             0.9,
             "rgb(33,102,172)"
            ],
            [
             1,
             "rgb(5,48,97)"
            ]
           ],
           "sequential": [
            [
             0,
             "#440154"
            ],
            [
             0.1111111111111111,
             "#482878"
            ],
            [
             0.2222222222222222,
             "#3e4989"
            ],
            [
             0.3333333333333333,
             "#31688e"
            ],
            [
             0.4444444444444444,
             "#26828e"
            ],
            [
             0.5555555555555556,
             "#1f9e89"
            ],
            [
             0.6666666666666666,
             "#35b779"
            ],
            [
             0.7777777777777778,
             "#6ece58"
            ],
            [
             0.8888888888888888,
             "#b5de2b"
            ],
            [
             1,
             "#fde725"
            ]
           ],
           "sequentialminus": [
            [
             0,
             "#440154"
            ],
            [
             0.1111111111111111,
             "#482878"
            ],
            [
             0.2222222222222222,
             "#3e4989"
            ],
            [
             0.3333333333333333,
             "#31688e"
            ],
            [
             0.4444444444444444,
             "#26828e"
            ],
            [
             0.5555555555555556,
             "#1f9e89"
            ],
            [
             0.6666666666666666,
             "#35b779"
            ],
            [
             0.7777777777777778,
             "#6ece58"
            ],
            [
             0.8888888888888888,
             "#b5de2b"
            ],
            [
             1,
             "#fde725"
            ]
           ]
          },
          "colorway": [
           "#1F77B4",
           "#FF7F0E",
           "#2CA02C",
           "#D62728",
           "#9467BD",
           "#8C564B",
           "#E377C2",
           "#7F7F7F",
           "#BCBD22",
           "#17BECF"
          ],
          "font": {
           "color": "rgb(36,36,36)"
          },
          "geo": {
           "bgcolor": "white",
           "lakecolor": "white",
           "landcolor": "white",
           "showlakes": true,
           "showland": true,
           "subunitcolor": "white"
          },
          "hoverlabel": {
           "align": "left"
          },
          "hovermode": "closest",
          "mapbox": {
           "style": "light"
          },
          "paper_bgcolor": "white",
          "plot_bgcolor": "white",
          "polar": {
           "angularaxis": {
            "gridcolor": "rgb(232,232,232)",
            "linecolor": "rgb(36,36,36)",
            "showgrid": false,
            "showline": true,
            "ticks": "outside"
           },
           "bgcolor": "white",
           "radialaxis": {
            "gridcolor": "rgb(232,232,232)",
            "linecolor": "rgb(36,36,36)",
            "showgrid": false,
            "showline": true,
            "ticks": "outside"
           }
          },
          "scene": {
           "xaxis": {
            "backgroundcolor": "white",
            "gridcolor": "rgb(232,232,232)",
            "gridwidth": 2,
            "linecolor": "rgb(36,36,36)",
            "showbackground": true,
            "showgrid": false,
            "showline": true,
            "ticks": "outside",
            "zeroline": false,
            "zerolinecolor": "rgb(36,36,36)"
           },
           "yaxis": {
            "backgroundcolor": "white",
            "gridcolor": "rgb(232,232,232)",
            "gridwidth": 2,
            "linecolor": "rgb(36,36,36)",
            "showbackground": true,
            "showgrid": false,
            "showline": true,
            "ticks": "outside",
            "zeroline": false,
            "zerolinecolor": "rgb(36,36,36)"
           },
           "zaxis": {
            "backgroundcolor": "white",
            "gridcolor": "rgb(232,232,232)",
            "gridwidth": 2,
            "linecolor": "rgb(36,36,36)",
            "showbackground": true,
            "showgrid": false,
            "showline": true,
            "ticks": "outside",
            "zeroline": false,
            "zerolinecolor": "rgb(36,36,36)"
           }
          },
          "shapedefaults": {
           "fillcolor": "black",
           "line": {
            "width": 0
           },
           "opacity": 0.3
          },
          "ternary": {
           "aaxis": {
            "gridcolor": "rgb(232,232,232)",
            "linecolor": "rgb(36,36,36)",
            "showgrid": false,
            "showline": true,
            "ticks": "outside"
           },
           "baxis": {
            "gridcolor": "rgb(232,232,232)",
            "linecolor": "rgb(36,36,36)",
            "showgrid": false,
            "showline": true,
            "ticks": "outside"
           },
           "bgcolor": "white",
           "caxis": {
            "gridcolor": "rgb(232,232,232)",
            "linecolor": "rgb(36,36,36)",
            "showgrid": false,
            "showline": true,
            "ticks": "outside"
           }
          },
          "title": {
           "x": 0.05
          },
          "xaxis": {
           "automargin": true,
           "gridcolor": "rgb(232,232,232)",
           "linecolor": "rgb(36,36,36)",
           "showgrid": false,
           "showline": true,
           "ticks": "outside",
           "title": {
            "standoff": 15
           },
           "zeroline": false,
           "zerolinecolor": "rgb(36,36,36)"
          },
          "yaxis": {
           "automargin": true,
           "gridcolor": "rgb(232,232,232)",
           "linecolor": "rgb(36,36,36)",
           "showgrid": false,
           "showline": true,
           "ticks": "outside",
           "title": {
            "standoff": 15
           },
           "zeroline": false,
           "zerolinecolor": "rgb(36,36,36)"
          }
         }
        },
        "title": {
         "font": {
          "color": "Black",
          "size": 22
         },
         "text": "Topics Over Time for 2022Q1",
         "x": 0.4,
         "xanchor": "center",
         "y": 0.95,
         "yanchor": "top"
        },
        "width": 1250,
        "xaxis": {
         "showgrid": true
        },
        "yaxis": {
         "showgrid": true,
         "title": {
          "text": "Frequency"
         }
        }
       }
      }
     },
     "metadata": {},
     "output_type": "display_data"
    },
    {
     "data": {
      "application/vnd.plotly.v1+json": {
       "config": {
        "plotlyServerURL": "https://plot.ly"
       },
       "data": [
        {
         "hoverinfo": "text",
         "hovertext": [
          "<b>Topic 0</b><br>Words: temu, sebut, sampai, pandang, harap",
          "<b>Topic 0</b><br>Words: inklusif, kawal, implementasi, bersamasama, mesti",
          "<b>Topic 0</b><br>Words: inklusif, kawal, bersamasama, mesti, panjang",
          "<b>Topic 0</b><br>Words: inklusif, kawal, bersamasama, mesti, panjang",
          "<b>Topic 0</b><br>Words: ojol, bos, jarak, hitung, sama"
         ],
         "marker": {
          "color": "#E69F00"
         },
         "mode": "lines",
         "name": "0_inklusif_kawal_implementasi_bersamasam...",
         "type": "scatter",
         "x": [
          "2022-05-31T01:32:07+00:00",
          "2022-06-13T18:54:48.266666+00:00",
          "2022-06-15T17:58:02.733333+00:00",
          "2022-06-17T17:01:17.200000+00:00",
          "2022-06-19T16:04:31.666666+00:00"
         ],
         "y": [
          1,
          20,
          4,
          1,
          1
         ]
        },
        {
         "hoverinfo": "text",
         "hovertext": [
          "<b>Topic 1</b><br>Words: indonesia, nasional, tingkat, islam, muslim",
          "<b>Topic 1</b><br>Words: baru, orde, sekat, memang, benar",
          "<b>Topic 1</b><br>Words: panglima, lemhannas, strategis, tni, via",
          "<b>Topic 1</b><br>Words: pandemi, indonesia, ajar, program, vokasi",
          "<b>Topic 1</b><br>Words: model, ajar, intelektual, merdeka, indonesia",
          "<b>Topic 1</b><br>Words: prasarana, sarana, inovasi, bidang, indonesia",
          "<b>Topic 1</b><br>Words: standard, jadi, masalahny, katro, orangorang",
          "<b>Topic 1</b><br>Words: sektor, arah, masyarakat, buat, presiden",
          "<b>Topic 1</b><br>Words: manfaat, infrastruktur, merdeka, mikro, paket",
          "<b>Topic 1</b><br>Words: sebal, miskin, siswa, bantu, layan",
          "<b>Topic 1</b><br>Words: sekolah, amp, siswa, ajar, miskin",
          "<b>Topic 1</b><br>Words: aliansi, indonesia, kait, sampai, pandang",
          "<b>Topic 1</b><br>Words: selenggara, aliansi, indonesia, jokowi, budaya",
          "<b>Topic 1</b><br>Words: indonesia, aliansi, masuk, bawaslu, presiden",
          "<b>Topic 1</b><br>Words: kena, perintah, fungsi, labil, sistim",
          "<b>Topic 1</b><br>Words: sekarang, ajar, buddha, umat, ritual",
          "<b>Topic 1</b><br>Words: tenaga, honorer, sehat, amp, nasib",
          "<b>Topic 1</b><br>Words: bahasa, seaqil, language, asia, seameo",
          "<b>Topic 1</b><br>Words: stabilitas, honorer, aplikasi, indonesia, harga",
          "<b>Topic 1</b><br>Words: seluruh, layan, mang, pulih, kemendikbudristek",
          "<b>Topic 1</b><br>Words: indonesia, bodoh, lengkap, henti, aneka",
          "<b>Topic 1</b><br>Words: survei, tingkat, jang, ristek, kemendikbud",
          "<b>Topic 1</b><br>Words: swasta, tak, baru, boros, duduk",
          "<b>Topic 1</b><br>Words: jurnal, sbmptn, ptt, pp, moga",
          "<b>Topic 1</b><br>Words: jadi, ekonomi, semua, lebih, kurikulum",
          "<b>Topic 1</b><br>Words: ajar, indonesia, rapor, pecat, merdeka",
          "<b>Topic 1</b><br>Words: olahraga, rencana, perempuan, publik, dokumen"
         ],
         "marker": {
          "color": "#56B4E9"
         },
         "mode": "lines",
         "name": "1_indonesia_aliansi_masuk_beri",
         "type": "scatter",
         "x": [
          "2022-05-01T14:18:48.166000+00:00",
          "2022-05-03T14:46:44.466666+00:00",
          "2022-05-05T13:49:58.933333+00:00",
          "2022-05-11T10:59:42.333333+00:00",
          "2022-05-13T10:02:56.800000+00:00",
          "2022-05-15T09:06:11.266666+00:00",
          "2022-05-19T07:12:40.200000+00:00",
          "2022-05-21T06:15:54.666666+00:00",
          "2022-05-23T05:19:09.133333+00:00",
          "2022-05-25T04:22:23.600000+00:00",
          "2022-05-27T03:25:38.066666+00:00",
          "2022-05-29T02:28:52.533333+00:00",
          "2022-05-31T01:32:07+00:00",
          "2022-06-02T00:35:21.466666+00:00",
          "2022-06-03T23:38:35.933333+00:00",
          "2022-06-05T22:41:50.400000+00:00",
          "2022-06-07T21:45:04.866666+00:00",
          "2022-06-09T20:48:19.333333+00:00",
          "2022-06-11T19:51:33.800000+00:00",
          "2022-06-13T18:54:48.266666+00:00",
          "2022-06-15T17:58:02.733333+00:00",
          "2022-06-17T17:01:17.200000+00:00",
          "2022-06-19T16:04:31.666666+00:00",
          "2022-06-21T15:07:46.133333+00:00",
          "2022-06-23T14:11:00.600000+00:00",
          "2022-06-25T13:14:15.066666+00:00",
          "2022-06-27T12:17:29.533333+00:00"
         ],
         "y": [
          5,
          3,
          1,
          14,
          5,
          1,
          2,
          3,
          6,
          11,
          15,
          25,
          6,
          11,
          3,
          6,
          4,
          5,
          7,
          16,
          8,
          7,
          3,
          4,
          7,
          10,
          16
         ]
        }
       ],
       "layout": {
        "height": 450,
        "hoverlabel": {
         "bgcolor": "white",
         "font": {
          "family": "Rockwell",
          "size": 16
         }
        },
        "legend": {
         "title": {
          "text": "<b>Global Topic Representation"
         }
        },
        "template": {
         "data": {
          "bar": [
           {
            "error_x": {
             "color": "rgb(36,36,36)"
            },
            "error_y": {
             "color": "rgb(36,36,36)"
            },
            "marker": {
             "line": {
              "color": "white",
              "width": 0.5
             },
             "pattern": {
              "fillmode": "overlay",
              "size": 10,
              "solidity": 0.2
             }
            },
            "type": "bar"
           }
          ],
          "barpolar": [
           {
            "marker": {
             "line": {
              "color": "white",
              "width": 0.5
             },
             "pattern": {
              "fillmode": "overlay",
              "size": 10,
              "solidity": 0.2
             }
            },
            "type": "barpolar"
           }
          ],
          "carpet": [
           {
            "aaxis": {
             "endlinecolor": "rgb(36,36,36)",
             "gridcolor": "white",
             "linecolor": "white",
             "minorgridcolor": "white",
             "startlinecolor": "rgb(36,36,36)"
            },
            "baxis": {
             "endlinecolor": "rgb(36,36,36)",
             "gridcolor": "white",
             "linecolor": "white",
             "minorgridcolor": "white",
             "startlinecolor": "rgb(36,36,36)"
            },
            "type": "carpet"
           }
          ],
          "choropleth": [
           {
            "colorbar": {
             "outlinewidth": 1,
             "tickcolor": "rgb(36,36,36)",
             "ticks": "outside"
            },
            "type": "choropleth"
           }
          ],
          "contour": [
           {
            "colorbar": {
             "outlinewidth": 1,
             "tickcolor": "rgb(36,36,36)",
             "ticks": "outside"
            },
            "colorscale": [
             [
              0,
              "#440154"
             ],
             [
              0.1111111111111111,
              "#482878"
             ],
             [
              0.2222222222222222,
              "#3e4989"
             ],
             [
              0.3333333333333333,
              "#31688e"
             ],
             [
              0.4444444444444444,
              "#26828e"
             ],
             [
              0.5555555555555556,
              "#1f9e89"
             ],
             [
              0.6666666666666666,
              "#35b779"
             ],
             [
              0.7777777777777778,
              "#6ece58"
             ],
             [
              0.8888888888888888,
              "#b5de2b"
             ],
             [
              1,
              "#fde725"
             ]
            ],
            "type": "contour"
           }
          ],
          "contourcarpet": [
           {
            "colorbar": {
             "outlinewidth": 1,
             "tickcolor": "rgb(36,36,36)",
             "ticks": "outside"
            },
            "type": "contourcarpet"
           }
          ],
          "heatmap": [
           {
            "colorbar": {
             "outlinewidth": 1,
             "tickcolor": "rgb(36,36,36)",
             "ticks": "outside"
            },
            "colorscale": [
             [
              0,
              "#440154"
             ],
             [
              0.1111111111111111,
              "#482878"
             ],
             [
              0.2222222222222222,
              "#3e4989"
             ],
             [
              0.3333333333333333,
              "#31688e"
             ],
             [
              0.4444444444444444,
              "#26828e"
             ],
             [
              0.5555555555555556,
              "#1f9e89"
             ],
             [
              0.6666666666666666,
              "#35b779"
             ],
             [
              0.7777777777777778,
              "#6ece58"
             ],
             [
              0.8888888888888888,
              "#b5de2b"
             ],
             [
              1,
              "#fde725"
             ]
            ],
            "type": "heatmap"
           }
          ],
          "heatmapgl": [
           {
            "colorbar": {
             "outlinewidth": 1,
             "tickcolor": "rgb(36,36,36)",
             "ticks": "outside"
            },
            "colorscale": [
             [
              0,
              "#440154"
             ],
             [
              0.1111111111111111,
              "#482878"
             ],
             [
              0.2222222222222222,
              "#3e4989"
             ],
             [
              0.3333333333333333,
              "#31688e"
             ],
             [
              0.4444444444444444,
              "#26828e"
             ],
             [
              0.5555555555555556,
              "#1f9e89"
             ],
             [
              0.6666666666666666,
              "#35b779"
             ],
             [
              0.7777777777777778,
              "#6ece58"
             ],
             [
              0.8888888888888888,
              "#b5de2b"
             ],
             [
              1,
              "#fde725"
             ]
            ],
            "type": "heatmapgl"
           }
          ],
          "histogram": [
           {
            "marker": {
             "line": {
              "color": "white",
              "width": 0.6
             }
            },
            "type": "histogram"
           }
          ],
          "histogram2d": [
           {
            "colorbar": {
             "outlinewidth": 1,
             "tickcolor": "rgb(36,36,36)",
             "ticks": "outside"
            },
            "colorscale": [
             [
              0,
              "#440154"
             ],
             [
              0.1111111111111111,
              "#482878"
             ],
             [
              0.2222222222222222,
              "#3e4989"
             ],
             [
              0.3333333333333333,
              "#31688e"
             ],
             [
              0.4444444444444444,
              "#26828e"
             ],
             [
              0.5555555555555556,
              "#1f9e89"
             ],
             [
              0.6666666666666666,
              "#35b779"
             ],
             [
              0.7777777777777778,
              "#6ece58"
             ],
             [
              0.8888888888888888,
              "#b5de2b"
             ],
             [
              1,
              "#fde725"
             ]
            ],
            "type": "histogram2d"
           }
          ],
          "histogram2dcontour": [
           {
            "colorbar": {
             "outlinewidth": 1,
             "tickcolor": "rgb(36,36,36)",
             "ticks": "outside"
            },
            "colorscale": [
             [
              0,
              "#440154"
             ],
             [
              0.1111111111111111,
              "#482878"
             ],
             [
              0.2222222222222222,
              "#3e4989"
             ],
             [
              0.3333333333333333,
              "#31688e"
             ],
             [
              0.4444444444444444,
              "#26828e"
             ],
             [
              0.5555555555555556,
              "#1f9e89"
             ],
             [
              0.6666666666666666,
              "#35b779"
             ],
             [
              0.7777777777777778,
              "#6ece58"
             ],
             [
              0.8888888888888888,
              "#b5de2b"
             ],
             [
              1,
              "#fde725"
             ]
            ],
            "type": "histogram2dcontour"
           }
          ],
          "mesh3d": [
           {
            "colorbar": {
             "outlinewidth": 1,
             "tickcolor": "rgb(36,36,36)",
             "ticks": "outside"
            },
            "type": "mesh3d"
           }
          ],
          "parcoords": [
           {
            "line": {
             "colorbar": {
              "outlinewidth": 1,
              "tickcolor": "rgb(36,36,36)",
              "ticks": "outside"
             }
            },
            "type": "parcoords"
           }
          ],
          "pie": [
           {
            "automargin": true,
            "type": "pie"
           }
          ],
          "scatter": [
           {
            "fillpattern": {
             "fillmode": "overlay",
             "size": 10,
             "solidity": 0.2
            },
            "type": "scatter"
           }
          ],
          "scatter3d": [
           {
            "line": {
             "colorbar": {
              "outlinewidth": 1,
              "tickcolor": "rgb(36,36,36)",
              "ticks": "outside"
             }
            },
            "marker": {
             "colorbar": {
              "outlinewidth": 1,
              "tickcolor": "rgb(36,36,36)",
              "ticks": "outside"
             }
            },
            "type": "scatter3d"
           }
          ],
          "scattercarpet": [
           {
            "marker": {
             "colorbar": {
              "outlinewidth": 1,
              "tickcolor": "rgb(36,36,36)",
              "ticks": "outside"
             }
            },
            "type": "scattercarpet"
           }
          ],
          "scattergeo": [
           {
            "marker": {
             "colorbar": {
              "outlinewidth": 1,
              "tickcolor": "rgb(36,36,36)",
              "ticks": "outside"
             }
            },
            "type": "scattergeo"
           }
          ],
          "scattergl": [
           {
            "marker": {
             "colorbar": {
              "outlinewidth": 1,
              "tickcolor": "rgb(36,36,36)",
              "ticks": "outside"
             }
            },
            "type": "scattergl"
           }
          ],
          "scattermapbox": [
           {
            "marker": {
             "colorbar": {
              "outlinewidth": 1,
              "tickcolor": "rgb(36,36,36)",
              "ticks": "outside"
             }
            },
            "type": "scattermapbox"
           }
          ],
          "scatterpolar": [
           {
            "marker": {
             "colorbar": {
              "outlinewidth": 1,
              "tickcolor": "rgb(36,36,36)",
              "ticks": "outside"
             }
            },
            "type": "scatterpolar"
           }
          ],
          "scatterpolargl": [
           {
            "marker": {
             "colorbar": {
              "outlinewidth": 1,
              "tickcolor": "rgb(36,36,36)",
              "ticks": "outside"
             }
            },
            "type": "scatterpolargl"
           }
          ],
          "scatterternary": [
           {
            "marker": {
             "colorbar": {
              "outlinewidth": 1,
              "tickcolor": "rgb(36,36,36)",
              "ticks": "outside"
             }
            },
            "type": "scatterternary"
           }
          ],
          "surface": [
           {
            "colorbar": {
             "outlinewidth": 1,
             "tickcolor": "rgb(36,36,36)",
             "ticks": "outside"
            },
            "colorscale": [
             [
              0,
              "#440154"
             ],
             [
              0.1111111111111111,
              "#482878"
             ],
             [
              0.2222222222222222,
              "#3e4989"
             ],
             [
              0.3333333333333333,
              "#31688e"
             ],
             [
              0.4444444444444444,
              "#26828e"
             ],
             [
              0.5555555555555556,
              "#1f9e89"
             ],
             [
              0.6666666666666666,
              "#35b779"
             ],
             [
              0.7777777777777778,
              "#6ece58"
             ],
             [
              0.8888888888888888,
              "#b5de2b"
             ],
             [
              1,
              "#fde725"
             ]
            ],
            "type": "surface"
           }
          ],
          "table": [
           {
            "cells": {
             "fill": {
              "color": "rgb(237,237,237)"
             },
             "line": {
              "color": "white"
             }
            },
            "header": {
             "fill": {
              "color": "rgb(217,217,217)"
             },
             "line": {
              "color": "white"
             }
            },
            "type": "table"
           }
          ]
         },
         "layout": {
          "annotationdefaults": {
           "arrowhead": 0,
           "arrowwidth": 1
          },
          "autotypenumbers": "strict",
          "coloraxis": {
           "colorbar": {
            "outlinewidth": 1,
            "tickcolor": "rgb(36,36,36)",
            "ticks": "outside"
           }
          },
          "colorscale": {
           "diverging": [
            [
             0,
             "rgb(103,0,31)"
            ],
            [
             0.1,
             "rgb(178,24,43)"
            ],
            [
             0.2,
             "rgb(214,96,77)"
            ],
            [
             0.3,
             "rgb(244,165,130)"
            ],
            [
             0.4,
             "rgb(253,219,199)"
            ],
            [
             0.5,
             "rgb(247,247,247)"
            ],
            [
             0.6,
             "rgb(209,229,240)"
            ],
            [
             0.7,
             "rgb(146,197,222)"
            ],
            [
             0.8,
             "rgb(67,147,195)"
            ],
            [
             0.9,
             "rgb(33,102,172)"
            ],
            [
             1,
             "rgb(5,48,97)"
            ]
           ],
           "sequential": [
            [
             0,
             "#440154"
            ],
            [
             0.1111111111111111,
             "#482878"
            ],
            [
             0.2222222222222222,
             "#3e4989"
            ],
            [
             0.3333333333333333,
             "#31688e"
            ],
            [
             0.4444444444444444,
             "#26828e"
            ],
            [
             0.5555555555555556,
             "#1f9e89"
            ],
            [
             0.6666666666666666,
             "#35b779"
            ],
            [
             0.7777777777777778,
             "#6ece58"
            ],
            [
             0.8888888888888888,
             "#b5de2b"
            ],
            [
             1,
             "#fde725"
            ]
           ],
           "sequentialminus": [
            [
             0,
             "#440154"
            ],
            [
             0.1111111111111111,
             "#482878"
            ],
            [
             0.2222222222222222,
             "#3e4989"
            ],
            [
             0.3333333333333333,
             "#31688e"
            ],
            [
             0.4444444444444444,
             "#26828e"
            ],
            [
             0.5555555555555556,
             "#1f9e89"
            ],
            [
             0.6666666666666666,
             "#35b779"
            ],
            [
             0.7777777777777778,
             "#6ece58"
            ],
            [
             0.8888888888888888,
             "#b5de2b"
            ],
            [
             1,
             "#fde725"
            ]
           ]
          },
          "colorway": [
           "#1F77B4",
           "#FF7F0E",
           "#2CA02C",
           "#D62728",
           "#9467BD",
           "#8C564B",
           "#E377C2",
           "#7F7F7F",
           "#BCBD22",
           "#17BECF"
          ],
          "font": {
           "color": "rgb(36,36,36)"
          },
          "geo": {
           "bgcolor": "white",
           "lakecolor": "white",
           "landcolor": "white",
           "showlakes": true,
           "showland": true,
           "subunitcolor": "white"
          },
          "hoverlabel": {
           "align": "left"
          },
          "hovermode": "closest",
          "mapbox": {
           "style": "light"
          },
          "paper_bgcolor": "white",
          "plot_bgcolor": "white",
          "polar": {
           "angularaxis": {
            "gridcolor": "rgb(232,232,232)",
            "linecolor": "rgb(36,36,36)",
            "showgrid": false,
            "showline": true,
            "ticks": "outside"
           },
           "bgcolor": "white",
           "radialaxis": {
            "gridcolor": "rgb(232,232,232)",
            "linecolor": "rgb(36,36,36)",
            "showgrid": false,
            "showline": true,
            "ticks": "outside"
           }
          },
          "scene": {
           "xaxis": {
            "backgroundcolor": "white",
            "gridcolor": "rgb(232,232,232)",
            "gridwidth": 2,
            "linecolor": "rgb(36,36,36)",
            "showbackground": true,
            "showgrid": false,
            "showline": true,
            "ticks": "outside",
            "zeroline": false,
            "zerolinecolor": "rgb(36,36,36)"
           },
           "yaxis": {
            "backgroundcolor": "white",
            "gridcolor": "rgb(232,232,232)",
            "gridwidth": 2,
            "linecolor": "rgb(36,36,36)",
            "showbackground": true,
            "showgrid": false,
            "showline": true,
            "ticks": "outside",
            "zeroline": false,
            "zerolinecolor": "rgb(36,36,36)"
           },
           "zaxis": {
            "backgroundcolor": "white",
            "gridcolor": "rgb(232,232,232)",
            "gridwidth": 2,
            "linecolor": "rgb(36,36,36)",
            "showbackground": true,
            "showgrid": false,
            "showline": true,
            "ticks": "outside",
            "zeroline": false,
            "zerolinecolor": "rgb(36,36,36)"
           }
          },
          "shapedefaults": {
           "fillcolor": "black",
           "line": {
            "width": 0
           },
           "opacity": 0.3
          },
          "ternary": {
           "aaxis": {
            "gridcolor": "rgb(232,232,232)",
            "linecolor": "rgb(36,36,36)",
            "showgrid": false,
            "showline": true,
            "ticks": "outside"
           },
           "baxis": {
            "gridcolor": "rgb(232,232,232)",
            "linecolor": "rgb(36,36,36)",
            "showgrid": false,
            "showline": true,
            "ticks": "outside"
           },
           "bgcolor": "white",
           "caxis": {
            "gridcolor": "rgb(232,232,232)",
            "linecolor": "rgb(36,36,36)",
            "showgrid": false,
            "showline": true,
            "ticks": "outside"
           }
          },
          "title": {
           "x": 0.05
          },
          "xaxis": {
           "automargin": true,
           "gridcolor": "rgb(232,232,232)",
           "linecolor": "rgb(36,36,36)",
           "showgrid": false,
           "showline": true,
           "ticks": "outside",
           "title": {
            "standoff": 15
           },
           "zeroline": false,
           "zerolinecolor": "rgb(36,36,36)"
          },
          "yaxis": {
           "automargin": true,
           "gridcolor": "rgb(232,232,232)",
           "linecolor": "rgb(36,36,36)",
           "showgrid": false,
           "showline": true,
           "ticks": "outside",
           "title": {
            "standoff": 15
           },
           "zeroline": false,
           "zerolinecolor": "rgb(36,36,36)"
          }
         }
        },
        "title": {
         "font": {
          "color": "Black",
          "size": 22
         },
         "text": "Topics Over Time for 2022Q2",
         "x": 0.4,
         "xanchor": "center",
         "y": 0.95,
         "yanchor": "top"
        },
        "width": 1250,
        "xaxis": {
         "showgrid": true
        },
        "yaxis": {
         "showgrid": true,
         "title": {
          "text": "Frequency"
         }
        }
       }
      }
     },
     "metadata": {},
     "output_type": "display_data"
    },
    {
     "data": {
      "application/vnd.plotly.v1+json": {
       "config": {
        "plotlyServerURL": "https://plot.ly"
       },
       "data": [
        {
         "hoverinfo": "text",
         "hovertext": [
          "<b>Topic 0</b><br>Words: indonesia, ekonomi, bidang, ajar, usung",
          "<b>Topic 0</b><br>Words: sih, apa, puskot, pokokpokok, aspek",
          "<b>Topic 0</b><br>Words: konflik, diametral, timbul, bur, babak",
          "<b>Topic 0</b><br>Words: indonesia, intervensi, beasiswa, terus, sekaligus",
          "<b>Topic 0</b><br>Words: advokasi, laku, tunggutunggu, cek, lho",
          "<b>Topic 0</b><br>Words: taiwan, investor, china, chip, aneh",
          "<b>Topic 0</b><br>Words: indonesia, maupun, pinggir, realita, progam",
          "<b>Topic 0</b><br>Words: papua, dob, indonesia, muda, maju",
          "<b>Topic 0</b><br>Words: rapor, indonesia, kemendikbudristek, coming, soon",
          "<b>Topic 0</b><br>Words: mahasiswa, amp, baru, indonesia, papua",
          "<b>Topic 0</b><br>Words: papua, beasiswa, asal, warga, kuota",
          "<b>Topic 0</b><br>Words: menkeu, rapbn, adaptasi, pasca, fokus",
          "<b>Topic 0</b><br>Words: berita, jambi, bbm, sesuai, bantu"
         ],
         "marker": {
          "color": "#E69F00"
         },
         "mode": "lines",
         "name": "0_indonesia_papua_ajar_merdeka",
         "type": "scatter",
         "x": [
          "2022-07-17T00:46:03.800000+00:00",
          "2022-07-19T21:52:00.500000+00:00",
          "2022-07-22T18:57:57.200000+00:00",
          "2022-07-25T16:03:53.900000+00:00",
          "2022-07-28T13:09:50.600000+00:00",
          "2022-07-31T10:15:47.300000+00:00",
          "2022-08-03T07:21:44+00:00",
          "2022-08-06T04:27:40.700000+00:00",
          "2022-08-09T01:33:37.400000+00:00",
          "2022-08-11T22:39:34.100000+00:00",
          "2022-08-20T13:57:24.200000+00:00",
          "2022-08-29T05:15:14.300000+00:00",
          "2022-09-27T00:14:41.300000+00:00"
         ],
         "y": [
          7,
          1,
          1,
          4,
          2,
          1,
          2,
          3,
          2,
          1,
          3,
          1,
          1
         ]
        },
        {
         "hoverinfo": "text",
         "hovertext": [
          "<b>Topic 1</b><br>Words: tpk, besok, islam, temu, dinas",
          "<b>Topic 1</b><br>Words: pesantren, diniyah, bubar, cabut, waryono",
          "<b>Topic 1</b><br>Words: nugroho, sian, mpp, agie, talkshow",
          "<b>Topic 1</b><br>Words: bupati, zamjani, ngawi, standart, anwar",
          "<b>Topic 1</b><br>Words: utara, halmahera, bapak, bahasa, tobelo",
          "<b>Topic 1</b><br>Words: agama, islam, positif, mando, sidenreng",
          "<b>Topic 1</b><br>Words: dpd, ketua, ri, gap, lanyalla",
          "<b>Topic 1</b><br>Words: banyuwangi, ratus, wicaksono, gubernur, den",
          "<b>Topic 1</b><br>Words: podcast, kp, dengar, youtube, ikan",
          "<b>Topic 1</b><br>Words: indramayu, kab, jalin, penandatanganan, tandatangin",
          "<b>Topic 1</b><br>Words: muhammadiyah, tinggi, islam, ketua, mughni"
         ],
         "marker": {
          "color": "#56B4E9"
         },
         "mode": "lines",
         "name": "1_islam_agama_ketua_ri",
         "type": "scatter",
         "x": [
          "2022-07-05T10:17:54.299000+00:00",
          "2022-07-08T09:28:13.700000+00:00",
          "2022-07-17T00:46:03.800000+00:00",
          "2022-07-19T21:52:00.500000+00:00",
          "2022-07-22T18:57:57.200000+00:00",
          "2022-07-25T16:03:53.900000+00:00",
          "2022-07-31T10:15:47.300000+00:00",
          "2022-08-06T04:27:40.700000+00:00",
          "2022-08-09T01:33:37.400000+00:00",
          "2022-08-14T19:45:30.800000+00:00",
          "2022-08-26T08:09:17.600000+00:00"
         ],
         "y": [
          2,
          1,
          3,
          1,
          2,
          3,
          3,
          3,
          1,
          1,
          4
         ]
        },
        {
         "hoverinfo": "text",
         "hovertext": [
          "<b>Topic 2</b><br>Words: menteri, kolonial, waris, narendra, bicara",
          "<b>Topic 2</b><br>Words: merdeka, menteri, program, mkbm, kampus",
          "<b>Topic 2</b><br>Words: merdeka, menteri, luncur, kampus, kemendikbudristek",
          "<b>Topic 2</b><br>Words: merdeka, kampus, trisula, wirausaha, menteri",
          "<b>Topic 2</b><br>Words: merdeka, kampus, menteri, budaya, luncur",
          "<b>Topic 2</b><br>Words: spk, jember, merdeka, sosialisasi, kurikulum",
          "<b>Topic 2</b><br>Words: komputer, bas, nasional, asesmen, kemdikbudristek",
          "<b>Topic 2</b><br>Words: kampus, merdeka, kaya, ajar, kompetensi",
          "<b>Topic 2</b><br>Words: bahasa, menteri, merdeka, budaya, kampus",
          "<b>Topic 2</b><br>Words: ajar, hayat, multi, exit, entrymulti",
          "<b>Topic 2</b><br>Words: mbkm, merdeka, tan, maros, polbangtan"
         ],
         "marker": {
          "color": "#009E73"
         },
         "mode": "lines",
         "name": "2_merdeka_menteri_kampus_budaya",
         "type": "scatter",
         "x": [
          "2022-07-05T10:17:54.299000+00:00",
          "2022-07-11T06:34:10.400000+00:00",
          "2022-07-14T03:40:07.100000+00:00",
          "2022-07-17T00:46:03.800000+00:00",
          "2022-07-19T21:52:00.500000+00:00",
          "2022-07-25T16:03:53.900000+00:00",
          "2022-07-28T13:09:50.600000+00:00",
          "2022-07-31T10:15:47.300000+00:00",
          "2022-08-06T04:27:40.700000+00:00",
          "2022-08-20T13:57:24.200000+00:00",
          "2022-08-29T05:15:14.300000+00:00"
         ],
         "y": [
          1,
          3,
          2,
          4,
          4,
          2,
          1,
          1,
          3,
          1,
          1
         ]
        },
        {
         "hoverinfo": "text",
         "hovertext": [
          "<b>Topic 3</b><br>Words: korban, hak, amp, kerangka, ngidenya",
          "<b>Topic 3</b><br>Words: problem, sistem, bikin, buat, baru",
          "<b>Topic 3</b><br>Words: dewan, anggota, tumbuh, bayar, muhammadiyah",
          "<b>Topic 3</b><br>Words: maju, lebih, jitu, pertama, ialah",
          "<b>Topic 3</b><br>Words: program, rangkai, benah, vokasi, upaya",
          "<b>Topic 3</b><br>Words: makan, bahaya, ospek, puluh, soal",
          "<b>Topic 3</b><br>Words: makin, dar, nyata, wenang, gratis",
          "<b>Topic 3</b><br>Words: jilbab, tri, korelasi, bangsa, masa",
          "<b>Topic 3</b><br>Words: ganti, nyata, baik, dunia, gonjang",
          "<b>Topic 3</b><br>Words: ghozali, nft, tahun, lalu, spanyol",
          "<b>Topic 3</b><br>Words: tumpang, hancur, acak, lena, tegak",
          "<b>Topic 3</b><br>Words: hapus, ganteng, pusing, foto, oppa",
          "<b>Topic 3</b><br>Words: suharto, pimpin, punya, lihat, ktk",
          "<b>Topic 3</b><br>Words: tua, orang, bangun, joko, komunitas",
          "<b>Topic 3</b><br>Words: amp, mempolitisir, tlh, parpol, suap",
          "<b>Topic 3</b><br>Words: pikir, rugi, serba, startup, resource"
         ],
         "marker": {
          "color": "#F0E442"
         },
         "mode": "lines",
         "name": "3_baru_buat_jadi_nyata",
         "type": "scatter",
         "x": [
          "2022-07-08T09:28:13.700000+00:00",
          "2022-07-11T06:34:10.400000+00:00",
          "2022-07-14T03:40:07.100000+00:00",
          "2022-07-17T00:46:03.800000+00:00",
          "2022-07-19T21:52:00.500000+00:00",
          "2022-07-22T18:57:57.200000+00:00",
          "2022-07-25T16:03:53.900000+00:00",
          "2022-07-28T13:09:50.600000+00:00",
          "2022-07-31T10:15:47.300000+00:00",
          "2022-08-03T07:21:44+00:00",
          "2022-08-06T04:27:40.700000+00:00",
          "2022-08-09T01:33:37.400000+00:00",
          "2022-08-11T22:39:34.100000+00:00",
          "2022-08-14T19:45:30.800000+00:00",
          "2022-08-23T11:03:20.900000+00:00",
          "2022-09-27T00:14:41.300000+00:00"
         ],
         "y": [
          2,
          2,
          6,
          2,
          1,
          1,
          4,
          2,
          2,
          2,
          1,
          1,
          2,
          2,
          1,
          1
         ]
        },
        {
         "hoverinfo": "text",
         "hovertext": [
          "<b>Topic 4</b><br>Words: kritisi, jadi, atur, guru, pasif",
          "<b>Topic 4</b><br>Words: mahal, sekolah, malas, jam, memang",
          "<b>Topic 4</b><br>Words: anak, harap, besar, pupus, ga",
          "<b>Topic 4</b><br>Words: guru, gerak, solusi, nadiem, depan",
          "<b>Topic 4</b><br>Words: akun, tri, yt, drive, tuh",
          "<b>Topic 4</b><br>Words: wates, kuliah, enggak, main, jodoh",
          "<b>Topic 4</b><br>Words: anak, emak, jaga, malah, lpdp",
          "<b>Topic 4</b><br>Words: enggak, pakar, apa, oknum, indak",
          "<b>Topic 4</b><br>Words: layan, guna, publik, jadi, birokrasi",
          "<b>Topic 4</b><br>Words: kurikulum, ikhtiar, film, sekolah, dalih",
          "<b>Topic 4</b><br>Words: setinggi, adalan, mungkin, kunci, salah",
          "<b>Topic 4</b><br>Words: negeri, jadi, sendiri, bukan, pak",
          "<b>Topic 4</b><br>Words: enggak, pejabt, suruh, nakal, ngeremehin",
          "<b>Topic 4</b><br>Words: mentok, gin, sejahtera, guru, beban"
         ],
         "marker": {
          "color": "#D55E00"
         },
         "mode": "lines",
         "name": "4_guru_jadi_enggak_sekolah",
         "type": "scatter",
         "x": [
          "2022-07-08T09:28:13.700000+00:00",
          "2022-07-11T06:34:10.400000+00:00",
          "2022-07-17T00:46:03.800000+00:00",
          "2022-07-19T21:52:00.500000+00:00",
          "2022-07-22T18:57:57.200000+00:00",
          "2022-07-25T16:03:53.900000+00:00",
          "2022-07-28T13:09:50.600000+00:00",
          "2022-07-31T10:15:47.300000+00:00",
          "2022-08-03T07:21:44+00:00",
          "2022-08-14T19:45:30.800000+00:00",
          "2022-08-23T11:03:20.900000+00:00",
          "2022-08-26T08:09:17.600000+00:00",
          "2022-08-29T05:15:14.300000+00:00",
          "2022-09-27T00:14:41.300000+00:00"
         ],
         "y": [
          3,
          2,
          2,
          5,
          1,
          1,
          2,
          3,
          1,
          2,
          1,
          3,
          1,
          1
         ]
        }
       ],
       "layout": {
        "height": 450,
        "hoverlabel": {
         "bgcolor": "white",
         "font": {
          "family": "Rockwell",
          "size": 16
         }
        },
        "legend": {
         "title": {
          "text": "<b>Global Topic Representation"
         }
        },
        "template": {
         "data": {
          "bar": [
           {
            "error_x": {
             "color": "rgb(36,36,36)"
            },
            "error_y": {
             "color": "rgb(36,36,36)"
            },
            "marker": {
             "line": {
              "color": "white",
              "width": 0.5
             },
             "pattern": {
              "fillmode": "overlay",
              "size": 10,
              "solidity": 0.2
             }
            },
            "type": "bar"
           }
          ],
          "barpolar": [
           {
            "marker": {
             "line": {
              "color": "white",
              "width": 0.5
             },
             "pattern": {
              "fillmode": "overlay",
              "size": 10,
              "solidity": 0.2
             }
            },
            "type": "barpolar"
           }
          ],
          "carpet": [
           {
            "aaxis": {
             "endlinecolor": "rgb(36,36,36)",
             "gridcolor": "white",
             "linecolor": "white",
             "minorgridcolor": "white",
             "startlinecolor": "rgb(36,36,36)"
            },
            "baxis": {
             "endlinecolor": "rgb(36,36,36)",
             "gridcolor": "white",
             "linecolor": "white",
             "minorgridcolor": "white",
             "startlinecolor": "rgb(36,36,36)"
            },
            "type": "carpet"
           }
          ],
          "choropleth": [
           {
            "colorbar": {
             "outlinewidth": 1,
             "tickcolor": "rgb(36,36,36)",
             "ticks": "outside"
            },
            "type": "choropleth"
           }
          ],
          "contour": [
           {
            "colorbar": {
             "outlinewidth": 1,
             "tickcolor": "rgb(36,36,36)",
             "ticks": "outside"
            },
            "colorscale": [
             [
              0,
              "#440154"
             ],
             [
              0.1111111111111111,
              "#482878"
             ],
             [
              0.2222222222222222,
              "#3e4989"
             ],
             [
              0.3333333333333333,
              "#31688e"
             ],
             [
              0.4444444444444444,
              "#26828e"
             ],
             [
              0.5555555555555556,
              "#1f9e89"
             ],
             [
              0.6666666666666666,
              "#35b779"
             ],
             [
              0.7777777777777778,
              "#6ece58"
             ],
             [
              0.8888888888888888,
              "#b5de2b"
             ],
             [
              1,
              "#fde725"
             ]
            ],
            "type": "contour"
           }
          ],
          "contourcarpet": [
           {
            "colorbar": {
             "outlinewidth": 1,
             "tickcolor": "rgb(36,36,36)",
             "ticks": "outside"
            },
            "type": "contourcarpet"
           }
          ],
          "heatmap": [
           {
            "colorbar": {
             "outlinewidth": 1,
             "tickcolor": "rgb(36,36,36)",
             "ticks": "outside"
            },
            "colorscale": [
             [
              0,
              "#440154"
             ],
             [
              0.1111111111111111,
              "#482878"
             ],
             [
              0.2222222222222222,
              "#3e4989"
             ],
             [
              0.3333333333333333,
              "#31688e"
             ],
             [
              0.4444444444444444,
              "#26828e"
             ],
             [
              0.5555555555555556,
              "#1f9e89"
             ],
             [
              0.6666666666666666,
              "#35b779"
             ],
             [
              0.7777777777777778,
              "#6ece58"
             ],
             [
              0.8888888888888888,
              "#b5de2b"
             ],
             [
              1,
              "#fde725"
             ]
            ],
            "type": "heatmap"
           }
          ],
          "heatmapgl": [
           {
            "colorbar": {
             "outlinewidth": 1,
             "tickcolor": "rgb(36,36,36)",
             "ticks": "outside"
            },
            "colorscale": [
             [
              0,
              "#440154"
             ],
             [
              0.1111111111111111,
              "#482878"
             ],
             [
              0.2222222222222222,
              "#3e4989"
             ],
             [
              0.3333333333333333,
              "#31688e"
             ],
             [
              0.4444444444444444,
              "#26828e"
             ],
             [
              0.5555555555555556,
              "#1f9e89"
             ],
             [
              0.6666666666666666,
              "#35b779"
             ],
             [
              0.7777777777777778,
              "#6ece58"
             ],
             [
              0.8888888888888888,
              "#b5de2b"
             ],
             [
              1,
              "#fde725"
             ]
            ],
            "type": "heatmapgl"
           }
          ],
          "histogram": [
           {
            "marker": {
             "line": {
              "color": "white",
              "width": 0.6
             }
            },
            "type": "histogram"
           }
          ],
          "histogram2d": [
           {
            "colorbar": {
             "outlinewidth": 1,
             "tickcolor": "rgb(36,36,36)",
             "ticks": "outside"
            },
            "colorscale": [
             [
              0,
              "#440154"
             ],
             [
              0.1111111111111111,
              "#482878"
             ],
             [
              0.2222222222222222,
              "#3e4989"
             ],
             [
              0.3333333333333333,
              "#31688e"
             ],
             [
              0.4444444444444444,
              "#26828e"
             ],
             [
              0.5555555555555556,
              "#1f9e89"
             ],
             [
              0.6666666666666666,
              "#35b779"
             ],
             [
              0.7777777777777778,
              "#6ece58"
             ],
             [
              0.8888888888888888,
              "#b5de2b"
             ],
             [
              1,
              "#fde725"
             ]
            ],
            "type": "histogram2d"
           }
          ],
          "histogram2dcontour": [
           {
            "colorbar": {
             "outlinewidth": 1,
             "tickcolor": "rgb(36,36,36)",
             "ticks": "outside"
            },
            "colorscale": [
             [
              0,
              "#440154"
             ],
             [
              0.1111111111111111,
              "#482878"
             ],
             [
              0.2222222222222222,
              "#3e4989"
             ],
             [
              0.3333333333333333,
              "#31688e"
             ],
             [
              0.4444444444444444,
              "#26828e"
             ],
             [
              0.5555555555555556,
              "#1f9e89"
             ],
             [
              0.6666666666666666,
              "#35b779"
             ],
             [
              0.7777777777777778,
              "#6ece58"
             ],
             [
              0.8888888888888888,
              "#b5de2b"
             ],
             [
              1,
              "#fde725"
             ]
            ],
            "type": "histogram2dcontour"
           }
          ],
          "mesh3d": [
           {
            "colorbar": {
             "outlinewidth": 1,
             "tickcolor": "rgb(36,36,36)",
             "ticks": "outside"
            },
            "type": "mesh3d"
           }
          ],
          "parcoords": [
           {
            "line": {
             "colorbar": {
              "outlinewidth": 1,
              "tickcolor": "rgb(36,36,36)",
              "ticks": "outside"
             }
            },
            "type": "parcoords"
           }
          ],
          "pie": [
           {
            "automargin": true,
            "type": "pie"
           }
          ],
          "scatter": [
           {
            "fillpattern": {
             "fillmode": "overlay",
             "size": 10,
             "solidity": 0.2
            },
            "type": "scatter"
           }
          ],
          "scatter3d": [
           {
            "line": {
             "colorbar": {
              "outlinewidth": 1,
              "tickcolor": "rgb(36,36,36)",
              "ticks": "outside"
             }
            },
            "marker": {
             "colorbar": {
              "outlinewidth": 1,
              "tickcolor": "rgb(36,36,36)",
              "ticks": "outside"
             }
            },
            "type": "scatter3d"
           }
          ],
          "scattercarpet": [
           {
            "marker": {
             "colorbar": {
              "outlinewidth": 1,
              "tickcolor": "rgb(36,36,36)",
              "ticks": "outside"
             }
            },
            "type": "scattercarpet"
           }
          ],
          "scattergeo": [
           {
            "marker": {
             "colorbar": {
              "outlinewidth": 1,
              "tickcolor": "rgb(36,36,36)",
              "ticks": "outside"
             }
            },
            "type": "scattergeo"
           }
          ],
          "scattergl": [
           {
            "marker": {
             "colorbar": {
              "outlinewidth": 1,
              "tickcolor": "rgb(36,36,36)",
              "ticks": "outside"
             }
            },
            "type": "scattergl"
           }
          ],
          "scattermapbox": [
           {
            "marker": {
             "colorbar": {
              "outlinewidth": 1,
              "tickcolor": "rgb(36,36,36)",
              "ticks": "outside"
             }
            },
            "type": "scattermapbox"
           }
          ],
          "scatterpolar": [
           {
            "marker": {
             "colorbar": {
              "outlinewidth": 1,
              "tickcolor": "rgb(36,36,36)",
              "ticks": "outside"
             }
            },
            "type": "scatterpolar"
           }
          ],
          "scatterpolargl": [
           {
            "marker": {
             "colorbar": {
              "outlinewidth": 1,
              "tickcolor": "rgb(36,36,36)",
              "ticks": "outside"
             }
            },
            "type": "scatterpolargl"
           }
          ],
          "scatterternary": [
           {
            "marker": {
             "colorbar": {
              "outlinewidth": 1,
              "tickcolor": "rgb(36,36,36)",
              "ticks": "outside"
             }
            },
            "type": "scatterternary"
           }
          ],
          "surface": [
           {
            "colorbar": {
             "outlinewidth": 1,
             "tickcolor": "rgb(36,36,36)",
             "ticks": "outside"
            },
            "colorscale": [
             [
              0,
              "#440154"
             ],
             [
              0.1111111111111111,
              "#482878"
             ],
             [
              0.2222222222222222,
              "#3e4989"
             ],
             [
              0.3333333333333333,
              "#31688e"
             ],
             [
              0.4444444444444444,
              "#26828e"
             ],
             [
              0.5555555555555556,
              "#1f9e89"
             ],
             [
              0.6666666666666666,
              "#35b779"
             ],
             [
              0.7777777777777778,
              "#6ece58"
             ],
             [
              0.8888888888888888,
              "#b5de2b"
             ],
             [
              1,
              "#fde725"
             ]
            ],
            "type": "surface"
           }
          ],
          "table": [
           {
            "cells": {
             "fill": {
              "color": "rgb(237,237,237)"
             },
             "line": {
              "color": "white"
             }
            },
            "header": {
             "fill": {
              "color": "rgb(217,217,217)"
             },
             "line": {
              "color": "white"
             }
            },
            "type": "table"
           }
          ]
         },
         "layout": {
          "annotationdefaults": {
           "arrowhead": 0,
           "arrowwidth": 1
          },
          "autotypenumbers": "strict",
          "coloraxis": {
           "colorbar": {
            "outlinewidth": 1,
            "tickcolor": "rgb(36,36,36)",
            "ticks": "outside"
           }
          },
          "colorscale": {
           "diverging": [
            [
             0,
             "rgb(103,0,31)"
            ],
            [
             0.1,
             "rgb(178,24,43)"
            ],
            [
             0.2,
             "rgb(214,96,77)"
            ],
            [
             0.3,
             "rgb(244,165,130)"
            ],
            [
             0.4,
             "rgb(253,219,199)"
            ],
            [
             0.5,
             "rgb(247,247,247)"
            ],
            [
             0.6,
             "rgb(209,229,240)"
            ],
            [
             0.7,
             "rgb(146,197,222)"
            ],
            [
             0.8,
             "rgb(67,147,195)"
            ],
            [
             0.9,
             "rgb(33,102,172)"
            ],
            [
             1,
             "rgb(5,48,97)"
            ]
           ],
           "sequential": [
            [
             0,
             "#440154"
            ],
            [
             0.1111111111111111,
             "#482878"
            ],
            [
             0.2222222222222222,
             "#3e4989"
            ],
            [
             0.3333333333333333,
             "#31688e"
            ],
            [
             0.4444444444444444,
             "#26828e"
            ],
            [
             0.5555555555555556,
             "#1f9e89"
            ],
            [
             0.6666666666666666,
             "#35b779"
            ],
            [
             0.7777777777777778,
             "#6ece58"
            ],
            [
             0.8888888888888888,
             "#b5de2b"
            ],
            [
             1,
             "#fde725"
            ]
           ],
           "sequentialminus": [
            [
             0,
             "#440154"
            ],
            [
             0.1111111111111111,
             "#482878"
            ],
            [
             0.2222222222222222,
             "#3e4989"
            ],
            [
             0.3333333333333333,
             "#31688e"
            ],
            [
             0.4444444444444444,
             "#26828e"
            ],
            [
             0.5555555555555556,
             "#1f9e89"
            ],
            [
             0.6666666666666666,
             "#35b779"
            ],
            [
             0.7777777777777778,
             "#6ece58"
            ],
            [
             0.8888888888888888,
             "#b5de2b"
            ],
            [
             1,
             "#fde725"
            ]
           ]
          },
          "colorway": [
           "#1F77B4",
           "#FF7F0E",
           "#2CA02C",
           "#D62728",
           "#9467BD",
           "#8C564B",
           "#E377C2",
           "#7F7F7F",
           "#BCBD22",
           "#17BECF"
          ],
          "font": {
           "color": "rgb(36,36,36)"
          },
          "geo": {
           "bgcolor": "white",
           "lakecolor": "white",
           "landcolor": "white",
           "showlakes": true,
           "showland": true,
           "subunitcolor": "white"
          },
          "hoverlabel": {
           "align": "left"
          },
          "hovermode": "closest",
          "mapbox": {
           "style": "light"
          },
          "paper_bgcolor": "white",
          "plot_bgcolor": "white",
          "polar": {
           "angularaxis": {
            "gridcolor": "rgb(232,232,232)",
            "linecolor": "rgb(36,36,36)",
            "showgrid": false,
            "showline": true,
            "ticks": "outside"
           },
           "bgcolor": "white",
           "radialaxis": {
            "gridcolor": "rgb(232,232,232)",
            "linecolor": "rgb(36,36,36)",
            "showgrid": false,
            "showline": true,
            "ticks": "outside"
           }
          },
          "scene": {
           "xaxis": {
            "backgroundcolor": "white",
            "gridcolor": "rgb(232,232,232)",
            "gridwidth": 2,
            "linecolor": "rgb(36,36,36)",
            "showbackground": true,
            "showgrid": false,
            "showline": true,
            "ticks": "outside",
            "zeroline": false,
            "zerolinecolor": "rgb(36,36,36)"
           },
           "yaxis": {
            "backgroundcolor": "white",
            "gridcolor": "rgb(232,232,232)",
            "gridwidth": 2,
            "linecolor": "rgb(36,36,36)",
            "showbackground": true,
            "showgrid": false,
            "showline": true,
            "ticks": "outside",
            "zeroline": false,
            "zerolinecolor": "rgb(36,36,36)"
           },
           "zaxis": {
            "backgroundcolor": "white",
            "gridcolor": "rgb(232,232,232)",
            "gridwidth": 2,
            "linecolor": "rgb(36,36,36)",
            "showbackground": true,
            "showgrid": false,
            "showline": true,
            "ticks": "outside",
            "zeroline": false,
            "zerolinecolor": "rgb(36,36,36)"
           }
          },
          "shapedefaults": {
           "fillcolor": "black",
           "line": {
            "width": 0
           },
           "opacity": 0.3
          },
          "ternary": {
           "aaxis": {
            "gridcolor": "rgb(232,232,232)",
            "linecolor": "rgb(36,36,36)",
            "showgrid": false,
            "showline": true,
            "ticks": "outside"
           },
           "baxis": {
            "gridcolor": "rgb(232,232,232)",
            "linecolor": "rgb(36,36,36)",
            "showgrid": false,
            "showline": true,
            "ticks": "outside"
           },
           "bgcolor": "white",
           "caxis": {
            "gridcolor": "rgb(232,232,232)",
            "linecolor": "rgb(36,36,36)",
            "showgrid": false,
            "showline": true,
            "ticks": "outside"
           }
          },
          "title": {
           "x": 0.05
          },
          "xaxis": {
           "automargin": true,
           "gridcolor": "rgb(232,232,232)",
           "linecolor": "rgb(36,36,36)",
           "showgrid": false,
           "showline": true,
           "ticks": "outside",
           "title": {
            "standoff": 15
           },
           "zeroline": false,
           "zerolinecolor": "rgb(36,36,36)"
          },
          "yaxis": {
           "automargin": true,
           "gridcolor": "rgb(232,232,232)",
           "linecolor": "rgb(36,36,36)",
           "showgrid": false,
           "showline": true,
           "ticks": "outside",
           "title": {
            "standoff": 15
           },
           "zeroline": false,
           "zerolinecolor": "rgb(36,36,36)"
          }
         }
        },
        "title": {
         "font": {
          "color": "Black",
          "size": 22
         },
         "text": "Topics Over Time for 2022Q3",
         "x": 0.4,
         "xanchor": "center",
         "y": 0.95,
         "yanchor": "top"
        },
        "width": 1250,
        "xaxis": {
         "showgrid": true
        },
        "yaxis": {
         "showgrid": true,
         "title": {
          "text": "Frequency"
         }
        }
       }
      }
     },
     "metadata": {},
     "output_type": "display_data"
    },
    {
     "data": {
      "application/vnd.plotly.v1+json": {
       "config": {
        "plotlyServerURL": "https://plot.ly"
       },
       "data": [
        {
         "hoverinfo": "text",
         "hovertext": [
          "<b>Topic 0</b><br>Words: kecil, agama, depok, islam, intisari",
          "<b>Topic 0</b><br>Words: jokowi, jaga, dorong, nkri, bawa",
          "<b>Topic 0</b><br>Words: partai, perindo, cepat, takalar, juang"
         ],
         "marker": {
          "color": "#E69F00"
         },
         "mode": "lines",
         "name": "0_jokowi_jaga_dorong_nkri",
         "type": "scatter",
         "x": [
          "2022-11-26T01:44:15+00:00",
          "2022-12-26T06:20:18.533333+00:00",
          "2022-12-28T14:04:37.266666+00:00"
         ],
         "y": [
          1,
          9,
          2
         ]
        },
        {
         "hoverinfo": "text",
         "hovertext": [
          "<b>Topic 1</b><br>Words: pimpin, ta, memang, masyarakat, kuliah",
          "<b>Topic 1</b><br>Words: tahun, jabat, rakyat, fip, uny",
          "<b>Topic 1</b><br>Words: lu, kantor, kerja, semangat, kemendikbudristek",
          "<b>Topic 1</b><br>Words: meski, reformatisi, nirlaba, bhmn, kelola",
          "<b>Topic 1</b><br>Words: sosial, realisasi, gli, papar, bicara",
          "<b>Topic 1</b><br>Words: nadiem, terlalu, mas, progesif, sembari",
          "<b>Topic 1</b><br>Words: dokter, guru, apresiasi, ruu, hasan",
          "<b>Topic 1</b><br>Words: dulu, manusia, guru, refleksi, diskusi"
         ],
         "marker": {
          "color": "#56B4E9"
         },
         "mode": "lines",
         "name": "1_pimpin_guru_tahun_jabat",
         "type": "scatter",
         "x": [
          "2022-10-22T03:59:14.238000+00:00",
          "2022-10-24T13:23:52.733333+00:00",
          "2022-10-26T21:08:11.466666+00:00",
          "2022-10-29T04:52:30.200000+00:00",
          "2022-11-26T01:44:15+00:00",
          "2022-12-23T22:35:59.800000+00:00",
          "2022-12-26T06:20:18.533333+00:00",
          "2022-12-28T14:04:37.266666+00:00"
         ],
         "y": [
          5,
          5,
          5,
          1,
          1,
          1,
          6,
          4
         ]
        }
       ],
       "layout": {
        "height": 450,
        "hoverlabel": {
         "bgcolor": "white",
         "font": {
          "family": "Rockwell",
          "size": 16
         }
        },
        "legend": {
         "title": {
          "text": "<b>Global Topic Representation"
         }
        },
        "template": {
         "data": {
          "bar": [
           {
            "error_x": {
             "color": "rgb(36,36,36)"
            },
            "error_y": {
             "color": "rgb(36,36,36)"
            },
            "marker": {
             "line": {
              "color": "white",
              "width": 0.5
             },
             "pattern": {
              "fillmode": "overlay",
              "size": 10,
              "solidity": 0.2
             }
            },
            "type": "bar"
           }
          ],
          "barpolar": [
           {
            "marker": {
             "line": {
              "color": "white",
              "width": 0.5
             },
             "pattern": {
              "fillmode": "overlay",
              "size": 10,
              "solidity": 0.2
             }
            },
            "type": "barpolar"
           }
          ],
          "carpet": [
           {
            "aaxis": {
             "endlinecolor": "rgb(36,36,36)",
             "gridcolor": "white",
             "linecolor": "white",
             "minorgridcolor": "white",
             "startlinecolor": "rgb(36,36,36)"
            },
            "baxis": {
             "endlinecolor": "rgb(36,36,36)",
             "gridcolor": "white",
             "linecolor": "white",
             "minorgridcolor": "white",
             "startlinecolor": "rgb(36,36,36)"
            },
            "type": "carpet"
           }
          ],
          "choropleth": [
           {
            "colorbar": {
             "outlinewidth": 1,
             "tickcolor": "rgb(36,36,36)",
             "ticks": "outside"
            },
            "type": "choropleth"
           }
          ],
          "contour": [
           {
            "colorbar": {
             "outlinewidth": 1,
             "tickcolor": "rgb(36,36,36)",
             "ticks": "outside"
            },
            "colorscale": [
             [
              0,
              "#440154"
             ],
             [
              0.1111111111111111,
              "#482878"
             ],
             [
              0.2222222222222222,
              "#3e4989"
             ],
             [
              0.3333333333333333,
              "#31688e"
             ],
             [
              0.4444444444444444,
              "#26828e"
             ],
             [
              0.5555555555555556,
              "#1f9e89"
             ],
             [
              0.6666666666666666,
              "#35b779"
             ],
             [
              0.7777777777777778,
              "#6ece58"
             ],
             [
              0.8888888888888888,
              "#b5de2b"
             ],
             [
              1,
              "#fde725"
             ]
            ],
            "type": "contour"
           }
          ],
          "contourcarpet": [
           {
            "colorbar": {
             "outlinewidth": 1,
             "tickcolor": "rgb(36,36,36)",
             "ticks": "outside"
            },
            "type": "contourcarpet"
           }
          ],
          "heatmap": [
           {
            "colorbar": {
             "outlinewidth": 1,
             "tickcolor": "rgb(36,36,36)",
             "ticks": "outside"
            },
            "colorscale": [
             [
              0,
              "#440154"
             ],
             [
              0.1111111111111111,
              "#482878"
             ],
             [
              0.2222222222222222,
              "#3e4989"
             ],
             [
              0.3333333333333333,
              "#31688e"
             ],
             [
              0.4444444444444444,
              "#26828e"
             ],
             [
              0.5555555555555556,
              "#1f9e89"
             ],
             [
              0.6666666666666666,
              "#35b779"
             ],
             [
              0.7777777777777778,
              "#6ece58"
             ],
             [
              0.8888888888888888,
              "#b5de2b"
             ],
             [
              1,
              "#fde725"
             ]
            ],
            "type": "heatmap"
           }
          ],
          "heatmapgl": [
           {
            "colorbar": {
             "outlinewidth": 1,
             "tickcolor": "rgb(36,36,36)",
             "ticks": "outside"
            },
            "colorscale": [
             [
              0,
              "#440154"
             ],
             [
              0.1111111111111111,
              "#482878"
             ],
             [
              0.2222222222222222,
              "#3e4989"
             ],
             [
              0.3333333333333333,
              "#31688e"
             ],
             [
              0.4444444444444444,
              "#26828e"
             ],
             [
              0.5555555555555556,
              "#1f9e89"
             ],
             [
              0.6666666666666666,
              "#35b779"
             ],
             [
              0.7777777777777778,
              "#6ece58"
             ],
             [
              0.8888888888888888,
              "#b5de2b"
             ],
             [
              1,
              "#fde725"
             ]
            ],
            "type": "heatmapgl"
           }
          ],
          "histogram": [
           {
            "marker": {
             "line": {
              "color": "white",
              "width": 0.6
             }
            },
            "type": "histogram"
           }
          ],
          "histogram2d": [
           {
            "colorbar": {
             "outlinewidth": 1,
             "tickcolor": "rgb(36,36,36)",
             "ticks": "outside"
            },
            "colorscale": [
             [
              0,
              "#440154"
             ],
             [
              0.1111111111111111,
              "#482878"
             ],
             [
              0.2222222222222222,
              "#3e4989"
             ],
             [
              0.3333333333333333,
              "#31688e"
             ],
             [
              0.4444444444444444,
              "#26828e"
             ],
             [
              0.5555555555555556,
              "#1f9e89"
             ],
             [
              0.6666666666666666,
              "#35b779"
             ],
             [
              0.7777777777777778,
              "#6ece58"
             ],
             [
              0.8888888888888888,
              "#b5de2b"
             ],
             [
              1,
              "#fde725"
             ]
            ],
            "type": "histogram2d"
           }
          ],
          "histogram2dcontour": [
           {
            "colorbar": {
             "outlinewidth": 1,
             "tickcolor": "rgb(36,36,36)",
             "ticks": "outside"
            },
            "colorscale": [
             [
              0,
              "#440154"
             ],
             [
              0.1111111111111111,
              "#482878"
             ],
             [
              0.2222222222222222,
              "#3e4989"
             ],
             [
              0.3333333333333333,
              "#31688e"
             ],
             [
              0.4444444444444444,
              "#26828e"
             ],
             [
              0.5555555555555556,
              "#1f9e89"
             ],
             [
              0.6666666666666666,
              "#35b779"
             ],
             [
              0.7777777777777778,
              "#6ece58"
             ],
             [
              0.8888888888888888,
              "#b5de2b"
             ],
             [
              1,
              "#fde725"
             ]
            ],
            "type": "histogram2dcontour"
           }
          ],
          "mesh3d": [
           {
            "colorbar": {
             "outlinewidth": 1,
             "tickcolor": "rgb(36,36,36)",
             "ticks": "outside"
            },
            "type": "mesh3d"
           }
          ],
          "parcoords": [
           {
            "line": {
             "colorbar": {
              "outlinewidth": 1,
              "tickcolor": "rgb(36,36,36)",
              "ticks": "outside"
             }
            },
            "type": "parcoords"
           }
          ],
          "pie": [
           {
            "automargin": true,
            "type": "pie"
           }
          ],
          "scatter": [
           {
            "fillpattern": {
             "fillmode": "overlay",
             "size": 10,
             "solidity": 0.2
            },
            "type": "scatter"
           }
          ],
          "scatter3d": [
           {
            "line": {
             "colorbar": {
              "outlinewidth": 1,
              "tickcolor": "rgb(36,36,36)",
              "ticks": "outside"
             }
            },
            "marker": {
             "colorbar": {
              "outlinewidth": 1,
              "tickcolor": "rgb(36,36,36)",
              "ticks": "outside"
             }
            },
            "type": "scatter3d"
           }
          ],
          "scattercarpet": [
           {
            "marker": {
             "colorbar": {
              "outlinewidth": 1,
              "tickcolor": "rgb(36,36,36)",
              "ticks": "outside"
             }
            },
            "type": "scattercarpet"
           }
          ],
          "scattergeo": [
           {
            "marker": {
             "colorbar": {
              "outlinewidth": 1,
              "tickcolor": "rgb(36,36,36)",
              "ticks": "outside"
             }
            },
            "type": "scattergeo"
           }
          ],
          "scattergl": [
           {
            "marker": {
             "colorbar": {
              "outlinewidth": 1,
              "tickcolor": "rgb(36,36,36)",
              "ticks": "outside"
             }
            },
            "type": "scattergl"
           }
          ],
          "scattermapbox": [
           {
            "marker": {
             "colorbar": {
              "outlinewidth": 1,
              "tickcolor": "rgb(36,36,36)",
              "ticks": "outside"
             }
            },
            "type": "scattermapbox"
           }
          ],
          "scatterpolar": [
           {
            "marker": {
             "colorbar": {
              "outlinewidth": 1,
              "tickcolor": "rgb(36,36,36)",
              "ticks": "outside"
             }
            },
            "type": "scatterpolar"
           }
          ],
          "scatterpolargl": [
           {
            "marker": {
             "colorbar": {
              "outlinewidth": 1,
              "tickcolor": "rgb(36,36,36)",
              "ticks": "outside"
             }
            },
            "type": "scatterpolargl"
           }
          ],
          "scatterternary": [
           {
            "marker": {
             "colorbar": {
              "outlinewidth": 1,
              "tickcolor": "rgb(36,36,36)",
              "ticks": "outside"
             }
            },
            "type": "scatterternary"
           }
          ],
          "surface": [
           {
            "colorbar": {
             "outlinewidth": 1,
             "tickcolor": "rgb(36,36,36)",
             "ticks": "outside"
            },
            "colorscale": [
             [
              0,
              "#440154"
             ],
             [
              0.1111111111111111,
              "#482878"
             ],
             [
              0.2222222222222222,
              "#3e4989"
             ],
             [
              0.3333333333333333,
              "#31688e"
             ],
             [
              0.4444444444444444,
              "#26828e"
             ],
             [
              0.5555555555555556,
              "#1f9e89"
             ],
             [
              0.6666666666666666,
              "#35b779"
             ],
             [
              0.7777777777777778,
              "#6ece58"
             ],
             [
              0.8888888888888888,
              "#b5de2b"
             ],
             [
              1,
              "#fde725"
             ]
            ],
            "type": "surface"
           }
          ],
          "table": [
           {
            "cells": {
             "fill": {
              "color": "rgb(237,237,237)"
             },
             "line": {
              "color": "white"
             }
            },
            "header": {
             "fill": {
              "color": "rgb(217,217,217)"
             },
             "line": {
              "color": "white"
             }
            },
            "type": "table"
           }
          ]
         },
         "layout": {
          "annotationdefaults": {
           "arrowhead": 0,
           "arrowwidth": 1
          },
          "autotypenumbers": "strict",
          "coloraxis": {
           "colorbar": {
            "outlinewidth": 1,
            "tickcolor": "rgb(36,36,36)",
            "ticks": "outside"
           }
          },
          "colorscale": {
           "diverging": [
            [
             0,
             "rgb(103,0,31)"
            ],
            [
             0.1,
             "rgb(178,24,43)"
            ],
            [
             0.2,
             "rgb(214,96,77)"
            ],
            [
             0.3,
             "rgb(244,165,130)"
            ],
            [
             0.4,
             "rgb(253,219,199)"
            ],
            [
             0.5,
             "rgb(247,247,247)"
            ],
            [
             0.6,
             "rgb(209,229,240)"
            ],
            [
             0.7,
             "rgb(146,197,222)"
            ],
            [
             0.8,
             "rgb(67,147,195)"
            ],
            [
             0.9,
             "rgb(33,102,172)"
            ],
            [
             1,
             "rgb(5,48,97)"
            ]
           ],
           "sequential": [
            [
             0,
             "#440154"
            ],
            [
             0.1111111111111111,
             "#482878"
            ],
            [
             0.2222222222222222,
             "#3e4989"
            ],
            [
             0.3333333333333333,
             "#31688e"
            ],
            [
             0.4444444444444444,
             "#26828e"
            ],
            [
             0.5555555555555556,
             "#1f9e89"
            ],
            [
             0.6666666666666666,
             "#35b779"
            ],
            [
             0.7777777777777778,
             "#6ece58"
            ],
            [
             0.8888888888888888,
             "#b5de2b"
            ],
            [
             1,
             "#fde725"
            ]
           ],
           "sequentialminus": [
            [
             0,
             "#440154"
            ],
            [
             0.1111111111111111,
             "#482878"
            ],
            [
             0.2222222222222222,
             "#3e4989"
            ],
            [
             0.3333333333333333,
             "#31688e"
            ],
            [
             0.4444444444444444,
             "#26828e"
            ],
            [
             0.5555555555555556,
             "#1f9e89"
            ],
            [
             0.6666666666666666,
             "#35b779"
            ],
            [
             0.7777777777777778,
             "#6ece58"
            ],
            [
             0.8888888888888888,
             "#b5de2b"
            ],
            [
             1,
             "#fde725"
            ]
           ]
          },
          "colorway": [
           "#1F77B4",
           "#FF7F0E",
           "#2CA02C",
           "#D62728",
           "#9467BD",
           "#8C564B",
           "#E377C2",
           "#7F7F7F",
           "#BCBD22",
           "#17BECF"
          ],
          "font": {
           "color": "rgb(36,36,36)"
          },
          "geo": {
           "bgcolor": "white",
           "lakecolor": "white",
           "landcolor": "white",
           "showlakes": true,
           "showland": true,
           "subunitcolor": "white"
          },
          "hoverlabel": {
           "align": "left"
          },
          "hovermode": "closest",
          "mapbox": {
           "style": "light"
          },
          "paper_bgcolor": "white",
          "plot_bgcolor": "white",
          "polar": {
           "angularaxis": {
            "gridcolor": "rgb(232,232,232)",
            "linecolor": "rgb(36,36,36)",
            "showgrid": false,
            "showline": true,
            "ticks": "outside"
           },
           "bgcolor": "white",
           "radialaxis": {
            "gridcolor": "rgb(232,232,232)",
            "linecolor": "rgb(36,36,36)",
            "showgrid": false,
            "showline": true,
            "ticks": "outside"
           }
          },
          "scene": {
           "xaxis": {
            "backgroundcolor": "white",
            "gridcolor": "rgb(232,232,232)",
            "gridwidth": 2,
            "linecolor": "rgb(36,36,36)",
            "showbackground": true,
            "showgrid": false,
            "showline": true,
            "ticks": "outside",
            "zeroline": false,
            "zerolinecolor": "rgb(36,36,36)"
           },
           "yaxis": {
            "backgroundcolor": "white",
            "gridcolor": "rgb(232,232,232)",
            "gridwidth": 2,
            "linecolor": "rgb(36,36,36)",
            "showbackground": true,
            "showgrid": false,
            "showline": true,
            "ticks": "outside",
            "zeroline": false,
            "zerolinecolor": "rgb(36,36,36)"
           },
           "zaxis": {
            "backgroundcolor": "white",
            "gridcolor": "rgb(232,232,232)",
            "gridwidth": 2,
            "linecolor": "rgb(36,36,36)",
            "showbackground": true,
            "showgrid": false,
            "showline": true,
            "ticks": "outside",
            "zeroline": false,
            "zerolinecolor": "rgb(36,36,36)"
           }
          },
          "shapedefaults": {
           "fillcolor": "black",
           "line": {
            "width": 0
           },
           "opacity": 0.3
          },
          "ternary": {
           "aaxis": {
            "gridcolor": "rgb(232,232,232)",
            "linecolor": "rgb(36,36,36)",
            "showgrid": false,
            "showline": true,
            "ticks": "outside"
           },
           "baxis": {
            "gridcolor": "rgb(232,232,232)",
            "linecolor": "rgb(36,36,36)",
            "showgrid": false,
            "showline": true,
            "ticks": "outside"
           },
           "bgcolor": "white",
           "caxis": {
            "gridcolor": "rgb(232,232,232)",
            "linecolor": "rgb(36,36,36)",
            "showgrid": false,
            "showline": true,
            "ticks": "outside"
           }
          },
          "title": {
           "x": 0.05
          },
          "xaxis": {
           "automargin": true,
           "gridcolor": "rgb(232,232,232)",
           "linecolor": "rgb(36,36,36)",
           "showgrid": false,
           "showline": true,
           "ticks": "outside",
           "title": {
            "standoff": 15
           },
           "zeroline": false,
           "zerolinecolor": "rgb(36,36,36)"
          },
          "yaxis": {
           "automargin": true,
           "gridcolor": "rgb(232,232,232)",
           "linecolor": "rgb(36,36,36)",
           "showgrid": false,
           "showline": true,
           "ticks": "outside",
           "title": {
            "standoff": 15
           },
           "zeroline": false,
           "zerolinecolor": "rgb(36,36,36)"
          }
         }
        },
        "title": {
         "font": {
          "color": "Black",
          "size": 22
         },
         "text": "Topics Over Time for 2022Q4",
         "x": 0.4,
         "xanchor": "center",
         "y": 0.95,
         "yanchor": "top"
        },
        "width": 1250,
        "xaxis": {
         "showgrid": true
        },
        "yaxis": {
         "showgrid": true,
         "title": {
          "text": "Frequency"
         }
        }
       }
      }
     },
     "metadata": {},
     "output_type": "display_data"
    },
    {
     "data": {
      "application/vnd.plotly.v1+json": {
       "config": {
        "plotlyServerURL": "https://plot.ly"
       },
       "data": [
        {
         "hoverinfo": "text",
         "hovertext": [
          "<b>Topic 0</b><br>Words: papua, approach, tingkat, otsus, sdm",
          "<b>Topic 0</b><br>Words: papua, otsus, asli, tingkat, sdm",
          "<b>Topic 0</b><br>Words: papua, otsus, tingkat, asli, maupun",
          "<b>Topic 0</b><br>Words: papua, otsus, asli, sdm, tingkat",
          "<b>Topic 0</b><br>Words: papua, otsus, asli, tingkat, sdm",
          "<b>Topic 0</b><br>Words: papua, otsus, asli, tingkat, sdm",
          "<b>Topic 0</b><br>Words: papua, asli, tingkat, otsus, kolaborasi",
          "<b>Topic 0</b><br>Words: papua, otsus, daerah, dana, bangun"
         ],
         "marker": {
          "color": "#E69F00"
         },
         "mode": "lines",
         "name": "0_papua_otsus_asli_tingkat",
         "type": "scatter",
         "x": [
          "2023-01-10T02:25:43.400000+00:00",
          "2023-02-02T15:42:43.133333+00:00",
          "2023-02-05T14:22:20.600000+00:00",
          "2023-02-08T13:01:58.066666+00:00",
          "2023-02-11T11:41:35.533333+00:00",
          "2023-02-17T09:00:50.466666+00:00",
          "2023-02-20T07:40:27.933333+00:00",
          "2023-03-27T15:35:57.533333+00:00"
         ],
         "y": [
          1,
          4,
          2,
          5,
          7,
          1,
          1,
          1
         ]
        },
        {
         "hoverinfo": "text",
         "hovertext": [
          "<b>Topic 1</b><br>Words: transformasi, jenderal, iwan, usia, direktur",
          "<b>Topic 1</b><br>Words: lalu, transformasi, kunci, ocean, oii",
          "<b>Topic 1</b><br>Words: butuh, laut, bebek, esensi, renang",
          "<b>Topic 1</b><br>Words: salur, aspirasi, gunungkidul, prakarsa, wadah"
         ],
         "marker": {
          "color": "#56B4E9"
         },
         "mode": "lines",
         "name": "1_lalu_transformasi_biru_kunci",
         "type": "scatter",
         "x": [
          "2023-01-07T03:46:05.933333+00:00",
          "2023-01-15T23:44:58.333333+00:00",
          "2023-03-21T18:16:42.600000+00:00",
          "2023-03-27T15:35:57.533333+00:00"
         ],
         "y": [
          2,
          9,
          1,
          1
         ]
        },
        {
         "hoverinfo": "text",
         "hovertext": [
          "<b>Topic 2</b><br>Words: lpka, ikut, kuat, anak, kutoarjo",
          "<b>Topic 2</b><br>Words: lpka, kutoarjo, pendidikanamppengentasan, kemenkumham, yuspahruddin",
          "<b>Topic 2</b><br>Words: ikut, anak, banyuwangi, swagata, blambangan",
          "<b>Topic 2</b><br>Words: ikut, anak, blambangan, sabha, forkopimda"
         ],
         "marker": {
          "color": "#009E73"
         },
         "mode": "lines",
         "name": "2_lpka_ikut_kutoarjo_anak",
         "type": "scatter",
         "x": [
          "2023-01-15T23:44:58.333333+00:00",
          "2023-01-18T22:24:35.800000+00:00",
          "2023-02-14T10:21:13+00:00",
          "2023-02-17T09:00:50.466666+00:00"
         ],
         "y": [
          4,
          7,
          1,
          1
         ]
        },
        {
         "hoverinfo": "text",
         "hovertext": [
          "<b>Topic 3</b><br>Words: tingkat, ekstrem, andal, liput, guru",
          "<b>Topic 3</b><br>Words: pelosok, gelontor, ratus, timpang, jokowi",
          "<b>Topic 3</b><br>Words: publik, sekolah, masjid, indonesia, anak",
          "<b>Topic 3</b><br>Words: pimpin, perempuan, indonesia, guru, tinggi",
          "<b>Topic 3</b><br>Words: latolato, larang, sekolah, kuliah, fsgi",
          "<b>Topic 3</b><br>Words: kalau, bantul, kabupaten, jadi, sekolah",
          "<b>Topic 3</b><br>Words: journal, konseling, arah, digital, leadership",
          "<b>Topic 3</b><br>Words: kampus, teliti, angket, jpkp, jurnal",
          "<b>Topic 3</b><br>Words: uny, sama, manajemen, matkul, dosen",
          "<b>Topic 3</b><br>Words: honorer, hapus, tenaga, ganjar, kurang",
          "<b>Topic 3</b><br>Words: baca, buku, tak, tekun, siswasiswa",
          "<b>Topic 3</b><br>Words: tinggi, dunia, persoalanpersoalan, sinkronisasi, panja",
          "<b>Topic 3</b><br>Words: haha, nongkrong, diplomasi, tadi, bumn",
          "<b>Topic 3</b><br>Words: bagaimana, lorong, ikm, gelap, gerak",
          "<b>Topic 3</b><br>Words: kalau, kerja, enggak, wakanda, aneh",
          "<b>Topic 3</b><br>Words: orang, peran, tua, tak, merdeka",
          "<b>Topic 3</b><br>Words: serius, dokter, bagai, benah, cies",
          "<b>Topic 3</b><br>Words: pisa, perintah, bangun, jadi, syarif",
          "<b>Topic 3</b><br>Words: akuntansi, sejahtera, sosial, publik, banyak",
          "<b>Topic 3</b><br>Words: ntt, sekolah, anak, gubernur, masuk",
          "<b>Topic 3</b><br>Words: jam, ntt, sekolah, masuk, pagi",
          "<b>Topic 3</b><br>Words: pukul, masuk, ntt, budaya, dinas",
          "<b>Topic 3</b><br>Words: sekolah, ntt, masuk, pagi, jam",
          "<b>Topic 3</b><br>Words: wajib, sekolah, guru, jam, ajar",
          "<b>Topic 3</b><br>Words: pagi, sekolah, menteri, jadi, tangerang",
          "<b>Topic 3</b><br>Words: inklusif, beby, detail, puan, kiky",
          "<b>Topic 3</b><br>Words: micellar, ramadhan, syabda, renata, alshad",
          "<b>Topic 3</b><br>Words: terima, enggak, kipk, maaf, biaya",
          "<b>Topic 3</b><br>Words: murid, hendak, potensi, optimal, menumbuhkembangkan",
          "<b>Topic 3</b><br>Words: gue, merdeka, ajar, kalo, orang"
         ],
         "marker": {
          "color": "#F0E442"
         },
         "mode": "lines",
         "name": "3_sekolah_jam_ntt_masuk",
         "type": "scatter",
         "x": [
          "2023-01-01T04:19:39.676000+00:00",
          "2023-01-04T05:06:28.466666+00:00",
          "2023-01-07T03:46:05.933333+00:00",
          "2023-01-10T02:25:43.400000+00:00",
          "2023-01-13T01:05:20.866666+00:00",
          "2023-01-15T23:44:58.333333+00:00",
          "2023-01-18T22:24:35.800000+00:00",
          "2023-01-21T21:04:13.266666+00:00",
          "2023-01-24T19:43:50.733333+00:00",
          "2023-01-27T18:23:28.200000+00:00",
          "2023-01-30T17:03:05.666666+00:00",
          "2023-02-02T15:42:43.133333+00:00",
          "2023-02-05T14:22:20.600000+00:00",
          "2023-02-08T13:01:58.066666+00:00",
          "2023-02-11T11:41:35.533333+00:00",
          "2023-02-14T10:21:13+00:00",
          "2023-02-17T09:00:50.466666+00:00",
          "2023-02-20T07:40:27.933333+00:00",
          "2023-02-23T06:20:05.400000+00:00",
          "2023-02-26T04:59:42.866666+00:00",
          "2023-03-01T03:39:20.333333+00:00",
          "2023-03-04T02:18:57.800000+00:00",
          "2023-03-07T00:58:35.266666+00:00",
          "2023-03-09T23:38:12.733333+00:00",
          "2023-03-12T22:17:50.200000+00:00",
          "2023-03-15T20:57:27.666666+00:00",
          "2023-03-18T19:37:05.133333+00:00",
          "2023-03-21T18:16:42.600000+00:00",
          "2023-03-24T16:56:20.066666+00:00",
          "2023-03-27T15:35:57.533333+00:00"
         ],
         "y": [
          6,
          8,
          9,
          15,
          19,
          11,
          7,
          7,
          9,
          7,
          9,
          5,
          4,
          8,
          5,
          9,
          7,
          8,
          8,
          11,
          85,
          14,
          25,
          11,
          13,
          12,
          1,
          9,
          5,
          12
         ]
        }
       ],
       "layout": {
        "height": 450,
        "hoverlabel": {
         "bgcolor": "white",
         "font": {
          "family": "Rockwell",
          "size": 16
         }
        },
        "legend": {
         "title": {
          "text": "<b>Global Topic Representation"
         }
        },
        "template": {
         "data": {
          "bar": [
           {
            "error_x": {
             "color": "rgb(36,36,36)"
            },
            "error_y": {
             "color": "rgb(36,36,36)"
            },
            "marker": {
             "line": {
              "color": "white",
              "width": 0.5
             },
             "pattern": {
              "fillmode": "overlay",
              "size": 10,
              "solidity": 0.2
             }
            },
            "type": "bar"
           }
          ],
          "barpolar": [
           {
            "marker": {
             "line": {
              "color": "white",
              "width": 0.5
             },
             "pattern": {
              "fillmode": "overlay",
              "size": 10,
              "solidity": 0.2
             }
            },
            "type": "barpolar"
           }
          ],
          "carpet": [
           {
            "aaxis": {
             "endlinecolor": "rgb(36,36,36)",
             "gridcolor": "white",
             "linecolor": "white",
             "minorgridcolor": "white",
             "startlinecolor": "rgb(36,36,36)"
            },
            "baxis": {
             "endlinecolor": "rgb(36,36,36)",
             "gridcolor": "white",
             "linecolor": "white",
             "minorgridcolor": "white",
             "startlinecolor": "rgb(36,36,36)"
            },
            "type": "carpet"
           }
          ],
          "choropleth": [
           {
            "colorbar": {
             "outlinewidth": 1,
             "tickcolor": "rgb(36,36,36)",
             "ticks": "outside"
            },
            "type": "choropleth"
           }
          ],
          "contour": [
           {
            "colorbar": {
             "outlinewidth": 1,
             "tickcolor": "rgb(36,36,36)",
             "ticks": "outside"
            },
            "colorscale": [
             [
              0,
              "#440154"
             ],
             [
              0.1111111111111111,
              "#482878"
             ],
             [
              0.2222222222222222,
              "#3e4989"
             ],
             [
              0.3333333333333333,
              "#31688e"
             ],
             [
              0.4444444444444444,
              "#26828e"
             ],
             [
              0.5555555555555556,
              "#1f9e89"
             ],
             [
              0.6666666666666666,
              "#35b779"
             ],
             [
              0.7777777777777778,
              "#6ece58"
             ],
             [
              0.8888888888888888,
              "#b5de2b"
             ],
             [
              1,
              "#fde725"
             ]
            ],
            "type": "contour"
           }
          ],
          "contourcarpet": [
           {
            "colorbar": {
             "outlinewidth": 1,
             "tickcolor": "rgb(36,36,36)",
             "ticks": "outside"
            },
            "type": "contourcarpet"
           }
          ],
          "heatmap": [
           {
            "colorbar": {
             "outlinewidth": 1,
             "tickcolor": "rgb(36,36,36)",
             "ticks": "outside"
            },
            "colorscale": [
             [
              0,
              "#440154"
             ],
             [
              0.1111111111111111,
              "#482878"
             ],
             [
              0.2222222222222222,
              "#3e4989"
             ],
             [
              0.3333333333333333,
              "#31688e"
             ],
             [
              0.4444444444444444,
              "#26828e"
             ],
             [
              0.5555555555555556,
              "#1f9e89"
             ],
             [
              0.6666666666666666,
              "#35b779"
             ],
             [
              0.7777777777777778,
              "#6ece58"
             ],
             [
              0.8888888888888888,
              "#b5de2b"
             ],
             [
              1,
              "#fde725"
             ]
            ],
            "type": "heatmap"
           }
          ],
          "heatmapgl": [
           {
            "colorbar": {
             "outlinewidth": 1,
             "tickcolor": "rgb(36,36,36)",
             "ticks": "outside"
            },
            "colorscale": [
             [
              0,
              "#440154"
             ],
             [
              0.1111111111111111,
              "#482878"
             ],
             [
              0.2222222222222222,
              "#3e4989"
             ],
             [
              0.3333333333333333,
              "#31688e"
             ],
             [
              0.4444444444444444,
              "#26828e"
             ],
             [
              0.5555555555555556,
              "#1f9e89"
             ],
             [
              0.6666666666666666,
              "#35b779"
             ],
             [
              0.7777777777777778,
              "#6ece58"
             ],
             [
              0.8888888888888888,
              "#b5de2b"
             ],
             [
              1,
              "#fde725"
             ]
            ],
            "type": "heatmapgl"
           }
          ],
          "histogram": [
           {
            "marker": {
             "line": {
              "color": "white",
              "width": 0.6
             }
            },
            "type": "histogram"
           }
          ],
          "histogram2d": [
           {
            "colorbar": {
             "outlinewidth": 1,
             "tickcolor": "rgb(36,36,36)",
             "ticks": "outside"
            },
            "colorscale": [
             [
              0,
              "#440154"
             ],
             [
              0.1111111111111111,
              "#482878"
             ],
             [
              0.2222222222222222,
              "#3e4989"
             ],
             [
              0.3333333333333333,
              "#31688e"
             ],
             [
              0.4444444444444444,
              "#26828e"
             ],
             [
              0.5555555555555556,
              "#1f9e89"
             ],
             [
              0.6666666666666666,
              "#35b779"
             ],
             [
              0.7777777777777778,
              "#6ece58"
             ],
             [
              0.8888888888888888,
              "#b5de2b"
             ],
             [
              1,
              "#fde725"
             ]
            ],
            "type": "histogram2d"
           }
          ],
          "histogram2dcontour": [
           {
            "colorbar": {
             "outlinewidth": 1,
             "tickcolor": "rgb(36,36,36)",
             "ticks": "outside"
            },
            "colorscale": [
             [
              0,
              "#440154"
             ],
             [
              0.1111111111111111,
              "#482878"
             ],
             [
              0.2222222222222222,
              "#3e4989"
             ],
             [
              0.3333333333333333,
              "#31688e"
             ],
             [
              0.4444444444444444,
              "#26828e"
             ],
             [
              0.5555555555555556,
              "#1f9e89"
             ],
             [
              0.6666666666666666,
              "#35b779"
             ],
             [
              0.7777777777777778,
              "#6ece58"
             ],
             [
              0.8888888888888888,
              "#b5de2b"
             ],
             [
              1,
              "#fde725"
             ]
            ],
            "type": "histogram2dcontour"
           }
          ],
          "mesh3d": [
           {
            "colorbar": {
             "outlinewidth": 1,
             "tickcolor": "rgb(36,36,36)",
             "ticks": "outside"
            },
            "type": "mesh3d"
           }
          ],
          "parcoords": [
           {
            "line": {
             "colorbar": {
              "outlinewidth": 1,
              "tickcolor": "rgb(36,36,36)",
              "ticks": "outside"
             }
            },
            "type": "parcoords"
           }
          ],
          "pie": [
           {
            "automargin": true,
            "type": "pie"
           }
          ],
          "scatter": [
           {
            "fillpattern": {
             "fillmode": "overlay",
             "size": 10,
             "solidity": 0.2
            },
            "type": "scatter"
           }
          ],
          "scatter3d": [
           {
            "line": {
             "colorbar": {
              "outlinewidth": 1,
              "tickcolor": "rgb(36,36,36)",
              "ticks": "outside"
             }
            },
            "marker": {
             "colorbar": {
              "outlinewidth": 1,
              "tickcolor": "rgb(36,36,36)",
              "ticks": "outside"
             }
            },
            "type": "scatter3d"
           }
          ],
          "scattercarpet": [
           {
            "marker": {
             "colorbar": {
              "outlinewidth": 1,
              "tickcolor": "rgb(36,36,36)",
              "ticks": "outside"
             }
            },
            "type": "scattercarpet"
           }
          ],
          "scattergeo": [
           {
            "marker": {
             "colorbar": {
              "outlinewidth": 1,
              "tickcolor": "rgb(36,36,36)",
              "ticks": "outside"
             }
            },
            "type": "scattergeo"
           }
          ],
          "scattergl": [
           {
            "marker": {
             "colorbar": {
              "outlinewidth": 1,
              "tickcolor": "rgb(36,36,36)",
              "ticks": "outside"
             }
            },
            "type": "scattergl"
           }
          ],
          "scattermapbox": [
           {
            "marker": {
             "colorbar": {
              "outlinewidth": 1,
              "tickcolor": "rgb(36,36,36)",
              "ticks": "outside"
             }
            },
            "type": "scattermapbox"
           }
          ],
          "scatterpolar": [
           {
            "marker": {
             "colorbar": {
              "outlinewidth": 1,
              "tickcolor": "rgb(36,36,36)",
              "ticks": "outside"
             }
            },
            "type": "scatterpolar"
           }
          ],
          "scatterpolargl": [
           {
            "marker": {
             "colorbar": {
              "outlinewidth": 1,
              "tickcolor": "rgb(36,36,36)",
              "ticks": "outside"
             }
            },
            "type": "scatterpolargl"
           }
          ],
          "scatterternary": [
           {
            "marker": {
             "colorbar": {
              "outlinewidth": 1,
              "tickcolor": "rgb(36,36,36)",
              "ticks": "outside"
             }
            },
            "type": "scatterternary"
           }
          ],
          "surface": [
           {
            "colorbar": {
             "outlinewidth": 1,
             "tickcolor": "rgb(36,36,36)",
             "ticks": "outside"
            },
            "colorscale": [
             [
              0,
              "#440154"
             ],
             [
              0.1111111111111111,
              "#482878"
             ],
             [
              0.2222222222222222,
              "#3e4989"
             ],
             [
              0.3333333333333333,
              "#31688e"
             ],
             [
              0.4444444444444444,
              "#26828e"
             ],
             [
              0.5555555555555556,
              "#1f9e89"
             ],
             [
              0.6666666666666666,
              "#35b779"
             ],
             [
              0.7777777777777778,
              "#6ece58"
             ],
             [
              0.8888888888888888,
              "#b5de2b"
             ],
             [
              1,
              "#fde725"
             ]
            ],
            "type": "surface"
           }
          ],
          "table": [
           {
            "cells": {
             "fill": {
              "color": "rgb(237,237,237)"
             },
             "line": {
              "color": "white"
             }
            },
            "header": {
             "fill": {
              "color": "rgb(217,217,217)"
             },
             "line": {
              "color": "white"
             }
            },
            "type": "table"
           }
          ]
         },
         "layout": {
          "annotationdefaults": {
           "arrowhead": 0,
           "arrowwidth": 1
          },
          "autotypenumbers": "strict",
          "coloraxis": {
           "colorbar": {
            "outlinewidth": 1,
            "tickcolor": "rgb(36,36,36)",
            "ticks": "outside"
           }
          },
          "colorscale": {
           "diverging": [
            [
             0,
             "rgb(103,0,31)"
            ],
            [
             0.1,
             "rgb(178,24,43)"
            ],
            [
             0.2,
             "rgb(214,96,77)"
            ],
            [
             0.3,
             "rgb(244,165,130)"
            ],
            [
             0.4,
             "rgb(253,219,199)"
            ],
            [
             0.5,
             "rgb(247,247,247)"
            ],
            [
             0.6,
             "rgb(209,229,240)"
            ],
            [
             0.7,
             "rgb(146,197,222)"
            ],
            [
             0.8,
             "rgb(67,147,195)"
            ],
            [
             0.9,
             "rgb(33,102,172)"
            ],
            [
             1,
             "rgb(5,48,97)"
            ]
           ],
           "sequential": [
            [
             0,
             "#440154"
            ],
            [
             0.1111111111111111,
             "#482878"
            ],
            [
             0.2222222222222222,
             "#3e4989"
            ],
            [
             0.3333333333333333,
             "#31688e"
            ],
            [
             0.4444444444444444,
             "#26828e"
            ],
            [
             0.5555555555555556,
             "#1f9e89"
            ],
            [
             0.6666666666666666,
             "#35b779"
            ],
            [
             0.7777777777777778,
             "#6ece58"
            ],
            [
             0.8888888888888888,
             "#b5de2b"
            ],
            [
             1,
             "#fde725"
            ]
           ],
           "sequentialminus": [
            [
             0,
             "#440154"
            ],
            [
             0.1111111111111111,
             "#482878"
            ],
            [
             0.2222222222222222,
             "#3e4989"
            ],
            [
             0.3333333333333333,
             "#31688e"
            ],
            [
             0.4444444444444444,
             "#26828e"
            ],
            [
             0.5555555555555556,
             "#1f9e89"
            ],
            [
             0.6666666666666666,
             "#35b779"
            ],
            [
             0.7777777777777778,
             "#6ece58"
            ],
            [
             0.8888888888888888,
             "#b5de2b"
            ],
            [
             1,
             "#fde725"
            ]
           ]
          },
          "colorway": [
           "#1F77B4",
           "#FF7F0E",
           "#2CA02C",
           "#D62728",
           "#9467BD",
           "#8C564B",
           "#E377C2",
           "#7F7F7F",
           "#BCBD22",
           "#17BECF"
          ],
          "font": {
           "color": "rgb(36,36,36)"
          },
          "geo": {
           "bgcolor": "white",
           "lakecolor": "white",
           "landcolor": "white",
           "showlakes": true,
           "showland": true,
           "subunitcolor": "white"
          },
          "hoverlabel": {
           "align": "left"
          },
          "hovermode": "closest",
          "mapbox": {
           "style": "light"
          },
          "paper_bgcolor": "white",
          "plot_bgcolor": "white",
          "polar": {
           "angularaxis": {
            "gridcolor": "rgb(232,232,232)",
            "linecolor": "rgb(36,36,36)",
            "showgrid": false,
            "showline": true,
            "ticks": "outside"
           },
           "bgcolor": "white",
           "radialaxis": {
            "gridcolor": "rgb(232,232,232)",
            "linecolor": "rgb(36,36,36)",
            "showgrid": false,
            "showline": true,
            "ticks": "outside"
           }
          },
          "scene": {
           "xaxis": {
            "backgroundcolor": "white",
            "gridcolor": "rgb(232,232,232)",
            "gridwidth": 2,
            "linecolor": "rgb(36,36,36)",
            "showbackground": true,
            "showgrid": false,
            "showline": true,
            "ticks": "outside",
            "zeroline": false,
            "zerolinecolor": "rgb(36,36,36)"
           },
           "yaxis": {
            "backgroundcolor": "white",
            "gridcolor": "rgb(232,232,232)",
            "gridwidth": 2,
            "linecolor": "rgb(36,36,36)",
            "showbackground": true,
            "showgrid": false,
            "showline": true,
            "ticks": "outside",
            "zeroline": false,
            "zerolinecolor": "rgb(36,36,36)"
           },
           "zaxis": {
            "backgroundcolor": "white",
            "gridcolor": "rgb(232,232,232)",
            "gridwidth": 2,
            "linecolor": "rgb(36,36,36)",
            "showbackground": true,
            "showgrid": false,
            "showline": true,
            "ticks": "outside",
            "zeroline": false,
            "zerolinecolor": "rgb(36,36,36)"
           }
          },
          "shapedefaults": {
           "fillcolor": "black",
           "line": {
            "width": 0
           },
           "opacity": 0.3
          },
          "ternary": {
           "aaxis": {
            "gridcolor": "rgb(232,232,232)",
            "linecolor": "rgb(36,36,36)",
            "showgrid": false,
            "showline": true,
            "ticks": "outside"
           },
           "baxis": {
            "gridcolor": "rgb(232,232,232)",
            "linecolor": "rgb(36,36,36)",
            "showgrid": false,
            "showline": true,
            "ticks": "outside"
           },
           "bgcolor": "white",
           "caxis": {
            "gridcolor": "rgb(232,232,232)",
            "linecolor": "rgb(36,36,36)",
            "showgrid": false,
            "showline": true,
            "ticks": "outside"
           }
          },
          "title": {
           "x": 0.05
          },
          "xaxis": {
           "automargin": true,
           "gridcolor": "rgb(232,232,232)",
           "linecolor": "rgb(36,36,36)",
           "showgrid": false,
           "showline": true,
           "ticks": "outside",
           "title": {
            "standoff": 15
           },
           "zeroline": false,
           "zerolinecolor": "rgb(36,36,36)"
          },
          "yaxis": {
           "automargin": true,
           "gridcolor": "rgb(232,232,232)",
           "linecolor": "rgb(36,36,36)",
           "showgrid": false,
           "showline": true,
           "ticks": "outside",
           "title": {
            "standoff": 15
           },
           "zeroline": false,
           "zerolinecolor": "rgb(36,36,36)"
          }
         }
        },
        "title": {
         "font": {
          "color": "Black",
          "size": 22
         },
         "text": "Topics Over Time for 2023Q1",
         "x": 0.4,
         "xanchor": "center",
         "y": 0.95,
         "yanchor": "top"
        },
        "width": 1250,
        "xaxis": {
         "showgrid": true
        },
        "yaxis": {
         "showgrid": true,
         "title": {
          "text": "Frequency"
         }
        }
       }
      }
     },
     "metadata": {},
     "output_type": "display_data"
    },
    {
     "data": {
      "application/vnd.plotly.v1+json": {
       "config": {
        "plotlyServerURL": "https://plot.ly"
       },
       "data": [
        {
         "hoverinfo": "text",
         "hovertext": [
          "<b>Topic 0</b><br>Words: adopsi, bitcoin, btc, inggris, organisasi",
          "<b>Topic 0</b><br>Words: ragam, pesan, ganjar, penting, maju",
          "<b>Topic 0</b><br>Words: ragam, pesan, maju, ganjar, penting",
          "<b>Topic 0</b><br>Words: kemdikbud, jaga, ekosistem, ragam, buka",
          "<b>Topic 0</b><br>Words: publik, ragam, pesan, maju, ganjar",
          "<b>Topic 0</b><br>Words: karlina, supelli, via, prof, kritik"
         ],
         "marker": {
          "color": "#E69F00"
         },
         "mode": "lines",
         "name": "0_ragam_pesan_maju_ganjar",
         "type": "scatter",
         "x": [
          "2023-04-13T11:35:21.066666+00:00",
          "2023-05-01T06:59:52.666666+00:00",
          "2023-05-10T04:42:08.466666+00:00",
          "2023-05-16T03:10:19+00:00",
          "2023-05-28T00:06:40.066666+00:00",
          "2023-06-17T18:45:16.933333+00:00"
         ],
         "y": [
          2,
          5,
          15,
          1,
          1,
          1
         ]
        },
        {
         "hoverinfo": "text",
         "hovertext": [
          "<b>Topic 1</b><br>Words: infertilitas, masalah, stigma, asmiua, publikasi",
          "<b>Topic 1</b><br>Words: literasi, teliti, jumpa, data, senjang",
          "<b>Topic 1</b><br>Words: literasi, teliti, data, pusat, senjang",
          "<b>Topic 1</b><br>Words: literasi, instansi, toko, buku, layak"
         ],
         "marker": {
          "color": "#56B4E9"
         },
         "mode": "lines",
         "name": "1_literasi_teliti_data_masalah",
         "type": "scatter",
         "x": [
          "2023-04-01T12:30:46.641999+00:00",
          "2023-05-13T03:56:13.733333+00:00",
          "2023-05-16T03:10:19+00:00",
          "2023-05-28T00:06:40.066666+00:00"
         ],
         "y": [
          1,
          4,
          6,
          1
         ]
        },
        {
         "hoverinfo": "text",
         "hovertext": [
          "<b>Topic 2</b><br>Words: episode, alas, sd, masuk, ajar",
          "<b>Topic 2</b><br>Words: lebih, bas, sekolah, negara, serang",
          "<b>Topic 2</b><br>Words: ukt, anak, sekarang, masa, makin",
          "<b>Topic 2</b><br>Words: nilai, kritik, kait, sebut, laku",
          "<b>Topic 2</b><br>Words: merdeka, ajar, budaya, blunder, fungsional",
          "<b>Topic 2</b><br>Words: etika, gratis, guru, sekolah, antiisrael",
          "<b>Topic 2</b><br>Words: bikin, rakyat, banyak, sengsara, iisma",
          "<b>Topic 2</b><br>Words: orang, bulan, anies, enggak, buat",
          "<b>Topic 2</b><br>Words: gtk, sapa, eps, seleksi, asn",
          "<b>Topic 2</b><br>Words: kurikulum, masuk, indonesia, lagu, podkaesang",
          "<b>Topic 2</b><br>Words: sekolah, terus, tengah, program, hari",
          "<b>Topic 2</b><br>Words: sekolah, gratis, mang, buat, gt",
          "<b>Topic 2</b><br>Words: amp, panitia, guru, indonesia, baik",
          "<b>Topic 2</b><br>Words: jadi, aspirasi, jaring, bagaimana, biaya",
          "<b>Topic 2</b><br>Words: jadi, negara, perintah, ham, muhammadiyah",
          "<b>Topic 2</b><br>Words: naik, daerah, kamu, anies, bangun",
          "<b>Topic 2</b><br>Words: pks, kampus, tingkat, kuat, akses",
          "<b>Topic 2</b><br>Words: pakar, seminar, minta, upi, tangan",
          "<b>Topic 2</b><br>Words: guru, jadi, buat, deh, banget",
          "<b>Topic 2</b><br>Words: guru, enggak, jadi, menteri, gaji",
          "<b>Topic 2</b><br>Words: guru, kok, mas, malah, tambah",
          "<b>Topic 2</b><br>Words: nadiem, bawa, enak, hampir, jidat",
          "<b>Topic 2</b><br>Words: guru, ganti, jadi, sistem, enggak",
          "<b>Topic 2</b><br>Words: anti, berani, korupsi, jateng, satu",
          "<b>Topic 2</b><br>Words: sekolah, ikhlas, guru, buah, buat",
          "<b>Topic 2</b><br>Words: negeri, jadi, pak, perintah, sama",
          "<b>Topic 2</b><br>Words: sekolah, jadi, baik, sama, gaji",
          "<b>Topic 2</b><br>Words: ada, cegah, sekolah, lingkung, keras",
          "<b>Topic 2</b><br>Words: jaman, pak, jawa, tengah, anak",
          "<b>Topic 2</b><br>Words: kota, sehat, aware, ormas, skor"
         ],
         "marker": {
          "color": "#009E73"
         },
         "mode": "lines",
         "name": "2_sekolah_guru_jadi_indonesia",
         "type": "scatter",
         "x": [
          "2023-04-01T12:30:46.641999+00:00",
          "2023-04-04T13:53:05.266666+00:00",
          "2023-04-07T13:07:10.533333+00:00",
          "2023-04-10T12:21:15.800000+00:00",
          "2023-04-13T11:35:21.066666+00:00",
          "2023-04-16T10:49:26.333333+00:00",
          "2023-04-19T10:03:31.600000+00:00",
          "2023-04-22T09:17:36.866666+00:00",
          "2023-04-25T08:31:42.133333+00:00",
          "2023-04-28T07:45:47.400000+00:00",
          "2023-05-01T06:59:52.666666+00:00",
          "2023-05-04T06:13:57.933333+00:00",
          "2023-05-07T05:28:03.200000+00:00",
          "2023-05-10T04:42:08.466666+00:00",
          "2023-05-13T03:56:13.733333+00:00",
          "2023-05-16T03:10:19+00:00",
          "2023-05-19T02:24:24.266666+00:00",
          "2023-05-22T01:38:29.533333+00:00",
          "2023-05-25T00:52:34.800000+00:00",
          "2023-05-28T00:06:40.066666+00:00",
          "2023-05-30T23:20:45.333333+00:00",
          "2023-06-02T22:34:50.600000+00:00",
          "2023-06-05T21:48:55.866666+00:00",
          "2023-06-08T21:03:01.133333+00:00",
          "2023-06-11T20:17:06.400000+00:00",
          "2023-06-14T19:31:11.666666+00:00",
          "2023-06-17T18:45:16.933333+00:00",
          "2023-06-20T17:59:22.200000+00:00",
          "2023-06-23T17:13:27.466666+00:00",
          "2023-06-26T16:27:32.733333+00:00"
         ],
         "y": [
          5,
          10,
          2,
          9,
          6,
          12,
          5,
          8,
          3,
          3,
          45,
          21,
          17,
          11,
          13,
          15,
          23,
          4,
          4,
          25,
          8,
          1,
          18,
          2,
          16,
          27,
          26,
          26,
          13,
          10
         ]
        }
       ],
       "layout": {
        "height": 450,
        "hoverlabel": {
         "bgcolor": "white",
         "font": {
          "family": "Rockwell",
          "size": 16
         }
        },
        "legend": {
         "title": {
          "text": "<b>Global Topic Representation"
         }
        },
        "template": {
         "data": {
          "bar": [
           {
            "error_x": {
             "color": "rgb(36,36,36)"
            },
            "error_y": {
             "color": "rgb(36,36,36)"
            },
            "marker": {
             "line": {
              "color": "white",
              "width": 0.5
             },
             "pattern": {
              "fillmode": "overlay",
              "size": 10,
              "solidity": 0.2
             }
            },
            "type": "bar"
           }
          ],
          "barpolar": [
           {
            "marker": {
             "line": {
              "color": "white",
              "width": 0.5
             },
             "pattern": {
              "fillmode": "overlay",
              "size": 10,
              "solidity": 0.2
             }
            },
            "type": "barpolar"
           }
          ],
          "carpet": [
           {
            "aaxis": {
             "endlinecolor": "rgb(36,36,36)",
             "gridcolor": "white",
             "linecolor": "white",
             "minorgridcolor": "white",
             "startlinecolor": "rgb(36,36,36)"
            },
            "baxis": {
             "endlinecolor": "rgb(36,36,36)",
             "gridcolor": "white",
             "linecolor": "white",
             "minorgridcolor": "white",
             "startlinecolor": "rgb(36,36,36)"
            },
            "type": "carpet"
           }
          ],
          "choropleth": [
           {
            "colorbar": {
             "outlinewidth": 1,
             "tickcolor": "rgb(36,36,36)",
             "ticks": "outside"
            },
            "type": "choropleth"
           }
          ],
          "contour": [
           {
            "colorbar": {
             "outlinewidth": 1,
             "tickcolor": "rgb(36,36,36)",
             "ticks": "outside"
            },
            "colorscale": [
             [
              0,
              "#440154"
             ],
             [
              0.1111111111111111,
              "#482878"
             ],
             [
              0.2222222222222222,
              "#3e4989"
             ],
             [
              0.3333333333333333,
              "#31688e"
             ],
             [
              0.4444444444444444,
              "#26828e"
             ],
             [
              0.5555555555555556,
              "#1f9e89"
             ],
             [
              0.6666666666666666,
              "#35b779"
             ],
             [
              0.7777777777777778,
              "#6ece58"
             ],
             [
              0.8888888888888888,
              "#b5de2b"
             ],
             [
              1,
              "#fde725"
             ]
            ],
            "type": "contour"
           }
          ],
          "contourcarpet": [
           {
            "colorbar": {
             "outlinewidth": 1,
             "tickcolor": "rgb(36,36,36)",
             "ticks": "outside"
            },
            "type": "contourcarpet"
           }
          ],
          "heatmap": [
           {
            "colorbar": {
             "outlinewidth": 1,
             "tickcolor": "rgb(36,36,36)",
             "ticks": "outside"
            },
            "colorscale": [
             [
              0,
              "#440154"
             ],
             [
              0.1111111111111111,
              "#482878"
             ],
             [
              0.2222222222222222,
              "#3e4989"
             ],
             [
              0.3333333333333333,
              "#31688e"
             ],
             [
              0.4444444444444444,
              "#26828e"
             ],
             [
              0.5555555555555556,
              "#1f9e89"
             ],
             [
              0.6666666666666666,
              "#35b779"
             ],
             [
              0.7777777777777778,
              "#6ece58"
             ],
             [
              0.8888888888888888,
              "#b5de2b"
             ],
             [
              1,
              "#fde725"
             ]
            ],
            "type": "heatmap"
           }
          ],
          "heatmapgl": [
           {
            "colorbar": {
             "outlinewidth": 1,
             "tickcolor": "rgb(36,36,36)",
             "ticks": "outside"
            },
            "colorscale": [
             [
              0,
              "#440154"
             ],
             [
              0.1111111111111111,
              "#482878"
             ],
             [
              0.2222222222222222,
              "#3e4989"
             ],
             [
              0.3333333333333333,
              "#31688e"
             ],
             [
              0.4444444444444444,
              "#26828e"
             ],
             [
              0.5555555555555556,
              "#1f9e89"
             ],
             [
              0.6666666666666666,
              "#35b779"
             ],
             [
              0.7777777777777778,
              "#6ece58"
             ],
             [
              0.8888888888888888,
              "#b5de2b"
             ],
             [
              1,
              "#fde725"
             ]
            ],
            "type": "heatmapgl"
           }
          ],
          "histogram": [
           {
            "marker": {
             "line": {
              "color": "white",
              "width": 0.6
             }
            },
            "type": "histogram"
           }
          ],
          "histogram2d": [
           {
            "colorbar": {
             "outlinewidth": 1,
             "tickcolor": "rgb(36,36,36)",
             "ticks": "outside"
            },
            "colorscale": [
             [
              0,
              "#440154"
             ],
             [
              0.1111111111111111,
              "#482878"
             ],
             [
              0.2222222222222222,
              "#3e4989"
             ],
             [
              0.3333333333333333,
              "#31688e"
             ],
             [
              0.4444444444444444,
              "#26828e"
             ],
             [
              0.5555555555555556,
              "#1f9e89"
             ],
             [
              0.6666666666666666,
              "#35b779"
             ],
             [
              0.7777777777777778,
              "#6ece58"
             ],
             [
              0.8888888888888888,
              "#b5de2b"
             ],
             [
              1,
              "#fde725"
             ]
            ],
            "type": "histogram2d"
           }
          ],
          "histogram2dcontour": [
           {
            "colorbar": {
             "outlinewidth": 1,
             "tickcolor": "rgb(36,36,36)",
             "ticks": "outside"
            },
            "colorscale": [
             [
              0,
              "#440154"
             ],
             [
              0.1111111111111111,
              "#482878"
             ],
             [
              0.2222222222222222,
              "#3e4989"
             ],
             [
              0.3333333333333333,
              "#31688e"
             ],
             [
              0.4444444444444444,
              "#26828e"
             ],
             [
              0.5555555555555556,
              "#1f9e89"
             ],
             [
              0.6666666666666666,
              "#35b779"
             ],
             [
              0.7777777777777778,
              "#6ece58"
             ],
             [
              0.8888888888888888,
              "#b5de2b"
             ],
             [
              1,
              "#fde725"
             ]
            ],
            "type": "histogram2dcontour"
           }
          ],
          "mesh3d": [
           {
            "colorbar": {
             "outlinewidth": 1,
             "tickcolor": "rgb(36,36,36)",
             "ticks": "outside"
            },
            "type": "mesh3d"
           }
          ],
          "parcoords": [
           {
            "line": {
             "colorbar": {
              "outlinewidth": 1,
              "tickcolor": "rgb(36,36,36)",
              "ticks": "outside"
             }
            },
            "type": "parcoords"
           }
          ],
          "pie": [
           {
            "automargin": true,
            "type": "pie"
           }
          ],
          "scatter": [
           {
            "fillpattern": {
             "fillmode": "overlay",
             "size": 10,
             "solidity": 0.2
            },
            "type": "scatter"
           }
          ],
          "scatter3d": [
           {
            "line": {
             "colorbar": {
              "outlinewidth": 1,
              "tickcolor": "rgb(36,36,36)",
              "ticks": "outside"
             }
            },
            "marker": {
             "colorbar": {
              "outlinewidth": 1,
              "tickcolor": "rgb(36,36,36)",
              "ticks": "outside"
             }
            },
            "type": "scatter3d"
           }
          ],
          "scattercarpet": [
           {
            "marker": {
             "colorbar": {
              "outlinewidth": 1,
              "tickcolor": "rgb(36,36,36)",
              "ticks": "outside"
             }
            },
            "type": "scattercarpet"
           }
          ],
          "scattergeo": [
           {
            "marker": {
             "colorbar": {
              "outlinewidth": 1,
              "tickcolor": "rgb(36,36,36)",
              "ticks": "outside"
             }
            },
            "type": "scattergeo"
           }
          ],
          "scattergl": [
           {
            "marker": {
             "colorbar": {
              "outlinewidth": 1,
              "tickcolor": "rgb(36,36,36)",
              "ticks": "outside"
             }
            },
            "type": "scattergl"
           }
          ],
          "scattermapbox": [
           {
            "marker": {
             "colorbar": {
              "outlinewidth": 1,
              "tickcolor": "rgb(36,36,36)",
              "ticks": "outside"
             }
            },
            "type": "scattermapbox"
           }
          ],
          "scatterpolar": [
           {
            "marker": {
             "colorbar": {
              "outlinewidth": 1,
              "tickcolor": "rgb(36,36,36)",
              "ticks": "outside"
             }
            },
            "type": "scatterpolar"
           }
          ],
          "scatterpolargl": [
           {
            "marker": {
             "colorbar": {
              "outlinewidth": 1,
              "tickcolor": "rgb(36,36,36)",
              "ticks": "outside"
             }
            },
            "type": "scatterpolargl"
           }
          ],
          "scatterternary": [
           {
            "marker": {
             "colorbar": {
              "outlinewidth": 1,
              "tickcolor": "rgb(36,36,36)",
              "ticks": "outside"
             }
            },
            "type": "scatterternary"
           }
          ],
          "surface": [
           {
            "colorbar": {
             "outlinewidth": 1,
             "tickcolor": "rgb(36,36,36)",
             "ticks": "outside"
            },
            "colorscale": [
             [
              0,
              "#440154"
             ],
             [
              0.1111111111111111,
              "#482878"
             ],
             [
              0.2222222222222222,
              "#3e4989"
             ],
             [
              0.3333333333333333,
              "#31688e"
             ],
             [
              0.4444444444444444,
              "#26828e"
             ],
             [
              0.5555555555555556,
              "#1f9e89"
             ],
             [
              0.6666666666666666,
              "#35b779"
             ],
             [
              0.7777777777777778,
              "#6ece58"
             ],
             [
              0.8888888888888888,
              "#b5de2b"
             ],
             [
              1,
              "#fde725"
             ]
            ],
            "type": "surface"
           }
          ],
          "table": [
           {
            "cells": {
             "fill": {
              "color": "rgb(237,237,237)"
             },
             "line": {
              "color": "white"
             }
            },
            "header": {
             "fill": {
              "color": "rgb(217,217,217)"
             },
             "line": {
              "color": "white"
             }
            },
            "type": "table"
           }
          ]
         },
         "layout": {
          "annotationdefaults": {
           "arrowhead": 0,
           "arrowwidth": 1
          },
          "autotypenumbers": "strict",
          "coloraxis": {
           "colorbar": {
            "outlinewidth": 1,
            "tickcolor": "rgb(36,36,36)",
            "ticks": "outside"
           }
          },
          "colorscale": {
           "diverging": [
            [
             0,
             "rgb(103,0,31)"
            ],
            [
             0.1,
             "rgb(178,24,43)"
            ],
            [
             0.2,
             "rgb(214,96,77)"
            ],
            [
             0.3,
             "rgb(244,165,130)"
            ],
            [
             0.4,
             "rgb(253,219,199)"
            ],
            [
             0.5,
             "rgb(247,247,247)"
            ],
            [
             0.6,
             "rgb(209,229,240)"
            ],
            [
             0.7,
             "rgb(146,197,222)"
            ],
            [
             0.8,
             "rgb(67,147,195)"
            ],
            [
             0.9,
             "rgb(33,102,172)"
            ],
            [
             1,
             "rgb(5,48,97)"
            ]
           ],
           "sequential": [
            [
             0,
             "#440154"
            ],
            [
             0.1111111111111111,
             "#482878"
            ],
            [
             0.2222222222222222,
             "#3e4989"
            ],
            [
             0.3333333333333333,
             "#31688e"
            ],
            [
             0.4444444444444444,
             "#26828e"
            ],
            [
             0.5555555555555556,
             "#1f9e89"
            ],
            [
             0.6666666666666666,
             "#35b779"
            ],
            [
             0.7777777777777778,
             "#6ece58"
            ],
            [
             0.8888888888888888,
             "#b5de2b"
            ],
            [
             1,
             "#fde725"
            ]
           ],
           "sequentialminus": [
            [
             0,
             "#440154"
            ],
            [
             0.1111111111111111,
             "#482878"
            ],
            [
             0.2222222222222222,
             "#3e4989"
            ],
            [
             0.3333333333333333,
             "#31688e"
            ],
            [
             0.4444444444444444,
             "#26828e"
            ],
            [
             0.5555555555555556,
             "#1f9e89"
            ],
            [
             0.6666666666666666,
             "#35b779"
            ],
            [
             0.7777777777777778,
             "#6ece58"
            ],
            [
             0.8888888888888888,
             "#b5de2b"
            ],
            [
             1,
             "#fde725"
            ]
           ]
          },
          "colorway": [
           "#1F77B4",
           "#FF7F0E",
           "#2CA02C",
           "#D62728",
           "#9467BD",
           "#8C564B",
           "#E377C2",
           "#7F7F7F",
           "#BCBD22",
           "#17BECF"
          ],
          "font": {
           "color": "rgb(36,36,36)"
          },
          "geo": {
           "bgcolor": "white",
           "lakecolor": "white",
           "landcolor": "white",
           "showlakes": true,
           "showland": true,
           "subunitcolor": "white"
          },
          "hoverlabel": {
           "align": "left"
          },
          "hovermode": "closest",
          "mapbox": {
           "style": "light"
          },
          "paper_bgcolor": "white",
          "plot_bgcolor": "white",
          "polar": {
           "angularaxis": {
            "gridcolor": "rgb(232,232,232)",
            "linecolor": "rgb(36,36,36)",
            "showgrid": false,
            "showline": true,
            "ticks": "outside"
           },
           "bgcolor": "white",
           "radialaxis": {
            "gridcolor": "rgb(232,232,232)",
            "linecolor": "rgb(36,36,36)",
            "showgrid": false,
            "showline": true,
            "ticks": "outside"
           }
          },
          "scene": {
           "xaxis": {
            "backgroundcolor": "white",
            "gridcolor": "rgb(232,232,232)",
            "gridwidth": 2,
            "linecolor": "rgb(36,36,36)",
            "showbackground": true,
            "showgrid": false,
            "showline": true,
            "ticks": "outside",
            "zeroline": false,
            "zerolinecolor": "rgb(36,36,36)"
           },
           "yaxis": {
            "backgroundcolor": "white",
            "gridcolor": "rgb(232,232,232)",
            "gridwidth": 2,
            "linecolor": "rgb(36,36,36)",
            "showbackground": true,
            "showgrid": false,
            "showline": true,
            "ticks": "outside",
            "zeroline": false,
            "zerolinecolor": "rgb(36,36,36)"
           },
           "zaxis": {
            "backgroundcolor": "white",
            "gridcolor": "rgb(232,232,232)",
            "gridwidth": 2,
            "linecolor": "rgb(36,36,36)",
            "showbackground": true,
            "showgrid": false,
            "showline": true,
            "ticks": "outside",
            "zeroline": false,
            "zerolinecolor": "rgb(36,36,36)"
           }
          },
          "shapedefaults": {
           "fillcolor": "black",
           "line": {
            "width": 0
           },
           "opacity": 0.3
          },
          "ternary": {
           "aaxis": {
            "gridcolor": "rgb(232,232,232)",
            "linecolor": "rgb(36,36,36)",
            "showgrid": false,
            "showline": true,
            "ticks": "outside"
           },
           "baxis": {
            "gridcolor": "rgb(232,232,232)",
            "linecolor": "rgb(36,36,36)",
            "showgrid": false,
            "showline": true,
            "ticks": "outside"
           },
           "bgcolor": "white",
           "caxis": {
            "gridcolor": "rgb(232,232,232)",
            "linecolor": "rgb(36,36,36)",
            "showgrid": false,
            "showline": true,
            "ticks": "outside"
           }
          },
          "title": {
           "x": 0.05
          },
          "xaxis": {
           "automargin": true,
           "gridcolor": "rgb(232,232,232)",
           "linecolor": "rgb(36,36,36)",
           "showgrid": false,
           "showline": true,
           "ticks": "outside",
           "title": {
            "standoff": 15
           },
           "zeroline": false,
           "zerolinecolor": "rgb(36,36,36)"
          },
          "yaxis": {
           "automargin": true,
           "gridcolor": "rgb(232,232,232)",
           "linecolor": "rgb(36,36,36)",
           "showgrid": false,
           "showline": true,
           "ticks": "outside",
           "title": {
            "standoff": 15
           },
           "zeroline": false,
           "zerolinecolor": "rgb(36,36,36)"
          }
         }
        },
        "title": {
         "font": {
          "color": "Black",
          "size": 22
         },
         "text": "Topics Over Time for 2023Q2",
         "x": 0.4,
         "xanchor": "center",
         "y": 0.95,
         "yanchor": "top"
        },
        "width": 1250,
        "xaxis": {
         "showgrid": true
        },
        "yaxis": {
         "showgrid": true,
         "title": {
          "text": "Frequency"
         }
        }
       }
      }
     },
     "metadata": {},
     "output_type": "display_data"
    },
    {
     "data": {
      "application/vnd.plotly.v1+json": {
       "config": {
        "plotlyServerURL": "https://plot.ly"
       },
       "data": [
        {
         "hoverinfo": "text",
         "hovertext": [
          "<b>Topic 0</b><br>Words: present, welcome, new, stakeholders, solve",
          "<b>Topic 0</b><br>Words: kuasa, tengah, jadi, chapter, belenggu",
          "<b>Topic 0</b><br>Words: uny, begini, ptn, rakyat, ganjar",
          "<b>Topic 0</b><br>Words: sehat, stabilitas, kewarganegaraannya, mebenai, gampang",
          "<b>Topic 0</b><br>Words: asing, omnibus, lebarlebar, hati, investasi",
          "<b>Topic 0</b><br>Words: wisatawan, like, gebrak, ellon, diy",
          "<b>Topic 0</b><br>Words: medical, wellness, hybrid, situasi, reportase",
          "<b>Topic 0</b><br>Words: amerika, subsidi, ekonomi, state, tampak",
          "<b>Topic 0</b><br>Words: apkh, jt, bikin, rugi, bagus",
          "<b>Topic 0</b><br>Words: mutu, saji, biaya, wabarakatuh, warahmatullahi",
          "<b>Topic 0</b><br>Words: bangsa, mahal, biaya, orang, beranganangan",
          "<b>Topic 0</b><br>Words: sehat, perintah, baik, kerja, rakyat",
          "<b>Topic 0</b><br>Words: pemuda, ditingjatkan, indeks, penyebarluasan, problem",
          "<b>Topic 0</b><br>Words: pajak, malah, korupsi, bayar, milik",
          "<b>Topic 0</b><br>Words: miskin, bagai, tuju, masif, malming",
          "<b>Topic 0</b><br>Words: ubah, sosial, sehat, semua, sisi",
          "<b>Topic 0</b><br>Words: keras, rakyat, dagang, negara, society",
          "<b>Topic 0</b><br>Words: ganjar, buat, baru, pak, ssemoga",
          "<b>Topic 0</b><br>Words: hidup, lingkung, tiru, dasar, pak",
          "<b>Topic 0</b><br>Words: investasi, ganti, pelihara, belit, meritokratik",
          "<b>Topic 0</b><br>Words: politik, pengaruh, melek, ekonomi, paham",
          "<b>Topic 0</b><br>Words: gratis, jateng, pak, turun, ganjar",
          "<b>Topic 0</b><br>Words: smakinmantab, kerennyasubianto, milihnyapakbowo, jelaskerjanya, baik",
          "<b>Topic 0</b><br>Words: smakinmantab, milihnyapakbowo, jelaskerjanya, kerennyasubianto, baik",
          "<b>Topic 0</b><br>Words: kerjanyajelas, jelaspakbowo, baik, nih, harapankita",
          "<b>Topic 0</b><br>Words: delapansmangat, utkmasadepan, prabowo, barengpakbowo, majuinnkri",
          "<b>Topic 0</b><br>Words: ganjar, tani, siapa, mesti, manusia",
          "<b>Topic 0</b><br>Words: fair, kompeten, pikir, amin, sisi"
         ],
         "marker": {
          "color": "#E69F00"
         },
         "mode": "lines",
         "name": "0_prabowo_utkmasadepan_delapansmangat_ra...",
         "type": "scatter",
         "x": [
          "2023-07-04T06:07:01.600000+00:00",
          "2023-07-07T06:12:45.200000+00:00",
          "2023-07-10T06:18:28.800000+00:00",
          "2023-07-13T06:24:12.400000+00:00",
          "2023-07-16T06:29:56+00:00",
          "2023-07-22T06:41:23.200000+00:00",
          "2023-07-25T06:47:06.800000+00:00",
          "2023-07-28T06:52:50.400000+00:00",
          "2023-07-31T06:58:34+00:00",
          "2023-08-03T07:04:17.600000+00:00",
          "2023-08-06T07:10:01.200000+00:00",
          "2023-08-09T07:15:44.800000+00:00",
          "2023-08-12T07:21:28.400000+00:00",
          "2023-08-15T07:27:12+00:00",
          "2023-08-18T07:32:55.600000+00:00",
          "2023-08-21T07:38:39.200000+00:00",
          "2023-08-24T07:44:22.800000+00:00",
          "2023-08-27T07:50:06.400000+00:00",
          "2023-08-30T07:55:50+00:00",
          "2023-09-02T08:01:33.600000+00:00",
          "2023-09-05T08:07:17.200000+00:00",
          "2023-09-08T08:13:00.800000+00:00",
          "2023-09-11T08:18:44.400000+00:00",
          "2023-09-14T08:24:28+00:00",
          "2023-09-17T08:30:11.600000+00:00",
          "2023-09-20T08:35:55.200000+00:00",
          "2023-09-23T08:41:38.800000+00:00",
          "2023-09-26T08:47:22.400000+00:00"
         ],
         "y": [
          1,
          2,
          5,
          3,
          1,
          2,
          3,
          3,
          4,
          3,
          8,
          10,
          3,
          3,
          2,
          7,
          5,
          4,
          10,
          3,
          19,
          7,
          32,
          16,
          38,
          94,
          9,
          10
         ]
        },
        {
         "hoverinfo": "text",
         "hovertext": [
          "<b>Topic 1</b><br>Words: lo, antah, malaysia, enggak, indonesia",
          "<b>Topic 1</b><br>Words: unas, indonesia, negeri, memang, riil",
          "<b>Topic 1</b><br>Words: indonesia, makin, jadi, acu, full",
          "<b>Topic 1</b><br>Words: demografi, peka, kategori, mayoritas, golong",
          "<b>Topic 1</b><br>Words: moal, masataka, skak, budak, pis",
          "<b>Topic 1</b><br>Words: on, seapd, southeast, early, care",
          "<b>Topic 1</b><br>Words: indonesia, dini, usia, lama, asean",
          "<b>Topic 1</b><br>Words: indonesia, on, alias, stagnan, nadiem",
          "<b>Topic 1</b><br>Words: indonesia, lomba, ormas, bidang, tahun",
          "<b>Topic 1</b><br>Words: sd, indonesia, pukis, bbpmp, morninggg",
          "<b>Topic 1</b><br>Words: indonesia, gratis, alas, selenggara, pkbm",
          "<b>Topic 1</b><br>Words: gera, indonesia, tahun, entrepreneurship, women",
          "<b>Topic 1</b><br>Words: dokter, indonesia, kaum, bidang, intensif",
          "<b>Topic 1</b><br>Words: indonesia, begini, krisis, otsus, enggak",
          "<b>Topic 1</b><br>Words: pesimis, gamang, tadi, metrotvnews, youtube",
          "<b>Topic 1</b><br>Words: tahu, indonesia, berdarahdarah, otak, putar",
          "<b>Topic 1</b><br>Words: indonesia, keras, maju, hadap, anggur",
          "<b>Topic 1</b><br>Words: indonesia, jadi, pak, anies, jakarta",
          "<b>Topic 1</b><br>Words: derita, lain, begini, selalu, kurikulum",
          "<b>Topic 1</b><br>Words: indonesia, buah, kenal, merdeka, teamwork",
          "<b>Topic 1</b><br>Words: islam, indonesia, sistematis, alternatif, sistemik",
          "<b>Topic 1</b><br>Words: anies, nunjukin, jakarta, wibawa, pintar",
          "<b>Topic 1</b><br>Words: direktorat, islam, sudirman, direktur, akademik",
          "<b>Topic 1</b><br>Words: indonesia, anies, inklusif, aktif, hadir",
          "<b>Topic 1</b><br>Words: nu, nahdlatul, ulama, maarif, lp",
          "<b>Topic 1</b><br>Words: indonesia, inklusif, perempuan, aktif, butuh",
          "<b>Topic 1</b><br>Words: benarbenar, tunjuk, wibawa, beliau, cerdas",
          "<b>Topic 1</b><br>Words: kurikulum, indonesia, merdeka, zaman, sejak"
         ],
         "marker": {
          "color": "#56B4E9"
         },
         "mode": "lines",
         "name": "1_indonesia_anies_jadi_jakarta",
         "type": "scatter",
         "x": [
          "2023-07-04T06:07:01.600000+00:00",
          "2023-07-07T06:12:45.200000+00:00",
          "2023-07-10T06:18:28.800000+00:00",
          "2023-07-13T06:24:12.400000+00:00",
          "2023-07-16T06:29:56+00:00",
          "2023-07-22T06:41:23.200000+00:00",
          "2023-07-25T06:47:06.800000+00:00",
          "2023-07-28T06:52:50.400000+00:00",
          "2023-07-31T06:58:34+00:00",
          "2023-08-03T07:04:17.600000+00:00",
          "2023-08-06T07:10:01.200000+00:00",
          "2023-08-09T07:15:44.800000+00:00",
          "2023-08-12T07:21:28.400000+00:00",
          "2023-08-15T07:27:12+00:00",
          "2023-08-18T07:32:55.600000+00:00",
          "2023-08-21T07:38:39.200000+00:00",
          "2023-08-24T07:44:22.800000+00:00",
          "2023-08-27T07:50:06.400000+00:00",
          "2023-08-30T07:55:50+00:00",
          "2023-09-02T08:01:33.600000+00:00",
          "2023-09-05T08:07:17.200000+00:00",
          "2023-09-08T08:13:00.800000+00:00",
          "2023-09-11T08:18:44.400000+00:00",
          "2023-09-14T08:24:28+00:00",
          "2023-09-17T08:30:11.600000+00:00",
          "2023-09-20T08:35:55.200000+00:00",
          "2023-09-23T08:41:38.800000+00:00",
          "2023-09-26T08:47:22.400000+00:00"
         ],
         "y": [
          2,
          3,
          7,
          1,
          1,
          2,
          11,
          9,
          4,
          3,
          6,
          6,
          3,
          6,
          2,
          2,
          2,
          12,
          1,
          8,
          6,
          7,
          1,
          18,
          4,
          4,
          1,
          5
         ]
        },
        {
         "hoverinfo": "text",
         "hovertext": [
          "<b>Topic 2</b><br>Words: orang, antara, profesional, positif, marketplace",
          "<b>Topic 2</b><br>Words: hebat, lihat, sekolah, orang, beban",
          "<b>Topic 2</b><br>Words: gaji, guru, bikin, sekolah, anggar",
          "<b>Topic 2</b><br>Words: tegas, pakar, tindak, pungli, sekolah",
          "<b>Topic 2</b><br>Words: kipk, jahat, potensi, sekolah, cuma",
          "<b>Topic 2</b><br>Words: salah, amp, unfaedah, andil, zonasi",
          "<b>Topic 2</b><br>Words: formal, sampai, darmawan, cecep, sumber",
          "<b>Topic 2</b><br>Words: sekolah, skola, masuk, potensi, ambil",
          "<b>Topic 2</b><br>Words: sejarah, pungut, sekolah, sesuai, hak",
          "<b>Topic 2</b><br>Words: sekolah, rembang, repot, adekku, iur",
          "<b>Topic 2</b><br>Words: jaman, sekarang, guru, saklek, mbiyen",
          "<b>Topic 2</b><br>Words: gtk, perdirjen, awas, implementasi, peran",
          "<b>Topic 2</b><br>Words: lulus, muda, kampus, beberapa, info",
          "<b>Topic 2</b><br>Words: negara, worst, diskriminasi, struktural, opinion",
          "<b>Topic 2</b><br>Words: guru, ganjar, honorer, peduli, umk",
          "<b>Topic 2</b><br>Words: guru, peduli, ganjar, honorer, alhamdulillah",
          "<b>Topic 2</b><br>Words: jelaskerjanya, kerennyasubianto, milihnyapakbowo, smakinmantab, sekolah",
          "<b>Topic 2</b><br>Words: sekolah, baik, nih, kerennyasubianto, milihnyapakbowo",
          "<b>Topic 2</b><br>Words: sekolah, kerjanyajelas, jelaspakbowo, nih, baik",
          "<b>Topic 2</b><br>Words: kiblat, timpang, algoritma, kostum, point",
          "<b>Topic 2</b><br>Words: nasib, sekolah, guru, mau, toilet",
          "<b>Topic 2</b><br>Words: keras, sekolah, daerah, orang, bullying"
         ],
         "marker": {
          "color": "#009E73"
         },
         "mode": "lines",
         "name": "2_sekolah_nih_guru_baik",
         "type": "scatter",
         "x": [
          "2023-07-01T03:51:31.692000+00:00",
          "2023-07-04T06:07:01.600000+00:00",
          "2023-07-10T06:18:28.800000+00:00",
          "2023-07-13T06:24:12.400000+00:00",
          "2023-07-16T06:29:56+00:00",
          "2023-07-22T06:41:23.200000+00:00",
          "2023-07-25T06:47:06.800000+00:00",
          "2023-07-28T06:52:50.400000+00:00",
          "2023-08-06T07:10:01.200000+00:00",
          "2023-08-09T07:15:44.800000+00:00",
          "2023-08-15T07:27:12+00:00",
          "2023-08-21T07:38:39.200000+00:00",
          "2023-08-27T07:50:06.400000+00:00",
          "2023-08-30T07:55:50+00:00",
          "2023-09-05T08:07:17.200000+00:00",
          "2023-09-08T08:13:00.800000+00:00",
          "2023-09-11T08:18:44.400000+00:00",
          "2023-09-14T08:24:28+00:00",
          "2023-09-17T08:30:11.600000+00:00",
          "2023-09-20T08:35:55.200000+00:00",
          "2023-09-23T08:41:38.800000+00:00",
          "2023-09-26T08:47:22.400000+00:00"
         ],
         "y": [
          1,
          3,
          4,
          2,
          3,
          1,
          1,
          3,
          3,
          2,
          2,
          1,
          1,
          1,
          8,
          5,
          18,
          14,
          30,
          2,
          2,
          2
         ]
        },
        {
         "hoverinfo": "text",
         "hovertext": [
          "<b>Topic 3</b><br>Words: barangjasa, ada, sertifikasi, ppsdm, bekerjasama",
          "<b>Topic 3</b><br>Words: data, awal, siswa, blinder, tn",
          "<b>Topic 3</b><br>Words: ada, barangjasa, analis, rencana, kait",
          "<b>Topic 3</b><br>Words: institusi, panja, selesai, tawar, panitia",
          "<b>Topic 3</b><br>Words: audiensi, usul, kukar, rpm, rapat",
          "<b>Topic 3</b><br>Words: itb, fck, dimultikampus, rektor, senjang",
          "<b>Topic 3</b><br>Words: daerah, temu, rise, tim, survei",
          "<b>Topic 3</b><br>Words: hutan, tni, snya, atrbpn, apel",
          "<b>Topic 3</b><br>Words: profil, karakter, internasional, pancasila, ikut",
          "<b>Topic 3</b><br>Words: pts, ptn, thd, papan, ranking",
          "<b>Topic 3</b><br>Words: big, ina, loker, dikirimin, ranah",
          "<b>Topic 3</b><br>Words: mahasiswa, skripsi, kelulus, budaya, teknologi",
          "<b>Topic 3</b><br>Words: skripsi, kelulus, mahasiswa, syarat, wajib",
          "<b>Topic 3</b><br>Words: aceh, madu, sekretaris, terampil, hamzah",
          "<b>Topic 3</b><br>Words: kelulus, merdeka, permedikbudristek, signifikan, skripsi",
          "<b>Topic 3</b><br>Words: dinas, rapat, barat, budaya, numerasi",
          "<b>Topic 3</b><br>Words: ri, perintah, provinsikabupatenkota, bimtek, nomor",
          "<b>Topic 3</b><br>Words: kunjung, kota, siswa, laksana, aamir",
          "<b>Topic 3</b><br>Words: laku, ubah, kurikulum, arti, makna"
         ],
         "marker": {
          "color": "#F0E442"
         },
         "mode": "lines",
         "name": "3_skripsi_mahasiswa_barangjasa_kelulus",
         "type": "scatter",
         "x": [
          "2023-07-04T06:07:01.600000+00:00",
          "2023-07-10T06:18:28.800000+00:00",
          "2023-07-13T06:24:12.400000+00:00",
          "2023-07-25T06:47:06.800000+00:00",
          "2023-07-31T06:58:34+00:00",
          "2023-08-03T07:04:17.600000+00:00",
          "2023-08-09T07:15:44.800000+00:00",
          "2023-08-12T07:21:28.400000+00:00",
          "2023-08-18T07:32:55.600000+00:00",
          "2023-08-21T07:38:39.200000+00:00",
          "2023-08-24T07:44:22.800000+00:00",
          "2023-08-27T07:50:06.400000+00:00",
          "2023-08-30T07:55:50+00:00",
          "2023-09-02T08:01:33.600000+00:00",
          "2023-09-05T08:07:17.200000+00:00",
          "2023-09-11T08:18:44.400000+00:00",
          "2023-09-14T08:24:28+00:00",
          "2023-09-17T08:30:11.600000+00:00",
          "2023-09-26T08:47:22.400000+00:00"
         ],
         "y": [
          3,
          2,
          2,
          2,
          1,
          1,
          1,
          3,
          1,
          1,
          1,
          7,
          5,
          2,
          3,
          4,
          2,
          2,
          1
         ]
        },
        {
         "hoverinfo": "text",
         "hovertext": [
          "<b>Topic 4</b><br>Words: surabaya, pakar, pranowo, puji, rang",
          "<b>Topic 4</b><br>Words: ngacak, wenang, menteri, sama, pls",
          "<b>Topic 4</b><br>Words: masuk, usia, menteri, kepri, pulau",
          "<b>Topic 4</b><br>Words: nadiem, menteri, belum, effendy, zonasi",
          "<b>Topic 4</b><br>Words: ganti, cetak, buku, menteri, jempol",
          "<b>Topic 4</b><br>Words: menteri, urus, bebas, merdeka, ngobrakabrik",
          "<b>Topic 4</b><br>Words: guru, hasilin, rekoso, km, plis",
          "<b>Topic 4</b><br>Words: kampuskamus, orba, mirip, metabolisme, rapi",
          "<b>Topic 4</b><br>Words: menteri, tersebutcontoh, mu, mengajingkanpasti, membangsatkankebijakan",
          "<b>Topic 4</b><br>Words: prancis, abaya, maurice, macron, utrillo",
          "<b>Topic 4</b><br>Words: tunggu, manfaat, menteri, jadi, dunia",
          "<b>Topic 4</b><br>Words: menteri, ganti, kalau, jadi, memang",
          "<b>Topic 4</b><br>Words: viral, ayunda, maudy, menteri, jadi"
         ],
         "marker": {
          "color": "#D55E00"
         },
         "mode": "lines",
         "name": "4_menteri_ganti_jadi_maudy",
         "type": "scatter",
         "x": [
          "2023-07-10T06:18:28.800000+00:00",
          "2023-07-13T06:24:12.400000+00:00",
          "2023-07-16T06:29:56+00:00",
          "2023-07-28T06:52:50.400000+00:00",
          "2023-07-31T06:58:34+00:00",
          "2023-08-06T07:10:01.200000+00:00",
          "2023-08-15T07:27:12+00:00",
          "2023-08-21T07:38:39.200000+00:00",
          "2023-08-27T07:50:06.400000+00:00",
          "2023-09-05T08:07:17.200000+00:00",
          "2023-09-08T08:13:00.800000+00:00",
          "2023-09-14T08:24:28+00:00",
          "2023-09-17T08:30:11.600000+00:00"
         ],
         "y": [
          2,
          2,
          2,
          3,
          1,
          2,
          1,
          1,
          1,
          1,
          3,
          11,
          4
         ]
        },
        {
         "hoverinfo": "text",
         "hovertext": [
          "<b>Topic 5</b><br>Words: gilas, orang, desa, solusi, kota",
          "<b>Topic 5</b><br>Words: zonasi, ppdb, jalur, meski, butuh",
          "<b>Topic 5</b><br>Words: zonasi, ppdb, kait, read, general",
          "<b>Topic 5</b><br>Words: zonasi, ppdb, panggil, manipulasi, goblok",
          "<b>Topic 5</b><br>Words: zonasi, penyamarataan, sadar, sebab, antar",
          "<b>Topic 5</b><br>Words: muhadjir, menko, zonasi, ppdb, tuju",
          "<b>Topic 5</b><br>Words: zonasi, ppdb, nadiem, makarim, teknologi",
          "<b>Topic 5</b><br>Words: zonasi, ppdb, sistem, anyar, celah",
          "<b>Topic 5</b><br>Words: hate, speech, negatif, lapor, bahaya",
          "<b>Topic 5</b><br>Words: jawa, tengah, simpan, judul, apresiasi",
          "<b>Topic 5</b><br>Words: lurus, banding, prasarana, sarana, contoh",
          "<b>Topic 5</b><br>Words: sender, banget, daerah, mostly, temanteman",
          "<b>Topic 5</b><br>Words: konsolidasi, narkoba, sintang, tanggap, ancam",
          "<b>Topic 5</b><br>Words: solusi, perata, zonasi, sistem, ppdb",
          "<b>Topic 5</b><br>Words: ppdb, dinas, kan, mk, zonasi"
         ],
         "marker": {
          "color": "#0072B2"
         },
         "mode": "lines",
         "name": "5_zonasi_ppdb_sistem_muhadjir",
         "type": "scatter",
         "x": [
          "2023-07-04T06:07:01.600000+00:00",
          "2023-07-07T06:12:45.200000+00:00",
          "2023-07-10T06:18:28.800000+00:00",
          "2023-07-13T06:24:12.400000+00:00",
          "2023-07-16T06:29:56+00:00",
          "2023-07-25T06:47:06.800000+00:00",
          "2023-07-28T06:52:50.400000+00:00",
          "2023-08-06T07:10:01.200000+00:00",
          "2023-08-12T07:21:28.400000+00:00",
          "2023-08-15T07:27:12+00:00",
          "2023-08-21T07:38:39.200000+00:00",
          "2023-08-30T07:55:50+00:00",
          "2023-09-14T08:24:28+00:00",
          "2023-09-23T08:41:38.800000+00:00",
          "2023-09-26T08:47:22.400000+00:00"
         ],
         "y": [
          1,
          5,
          2,
          2,
          1,
          2,
          6,
          2,
          1,
          1,
          1,
          1,
          1,
          1,
          1
         ]
        },
        {
         "hoverinfo": "text",
         "hovertext": [
          "<b>Topic 6</b><br>Words: garmen, ruswadi, ampsembako, ojek, nelayan",
          "<b>Topic 6</b><br>Words: beri, aksee, kotak, pkb, an",
          "<b>Topic 6</b><br>Words: biaya, akses, gratis, beri, gherriya",
          "<b>Topic 6</b><br>Words: spp, luas, akses, pranowo, tuju",
          "<b>Topic 6</b><br>Words: bebas, biaya, akses, hasil, rata",
          "<b>Topic 6</b><br>Words: biaya, akses, spp, pungut, oleh",
          "<b>Topic 6</b><br>Words: anies, fixs, bebas, rata, akses",
          "<b>Topic 6</b><br>Words: bayar, biaya, pisah, nana, yaiyaaa"
         ],
         "marker": {
          "color": "#CC79A7"
         },
         "mode": "lines",
         "name": "6_biaya_akses_bebas_beri",
         "type": "scatter",
         "x": [
          "2023-07-07T06:12:45.200000+00:00",
          "2023-07-10T06:18:28.800000+00:00",
          "2023-08-06T07:10:01.200000+00:00",
          "2023-08-21T07:38:39.200000+00:00",
          "2023-08-24T07:44:22.800000+00:00",
          "2023-09-08T08:13:00.800000+00:00",
          "2023-09-11T08:18:44.400000+00:00",
          "2023-09-14T08:24:28+00:00"
         ],
         "y": [
          1,
          1,
          2,
          1,
          9,
          1,
          3,
          1
         ]
        },
        {
         "hoverinfo": "text",
         "hovertext": [
          "<b>Topic 7</b><br>Words: sedukitsedikut, dibenerin, nikai, mendasarksn, efek",
          "<b>Topic 7</b><br>Words: periode, kalian, terlalu, sektor, berubahubah",
          "<b>Topic 7</b><br>Words: awak, gadang, nadim, hijab, gojek",
          "<b>Topic 7</b><br>Words: abai, great, kebaji, klaim, youre",
          "<b>Topic 7</b><br>Words: intervensi, rancu, sesat, rsup, adam",
          "<b>Topic 7</b><br>Words: enggak, erti, sbnernya, akan, alur",
          "<b>Topic 7</b><br>Words: bukan, brpikir, idealis, men, ilmiahmetodologis",
          "<b>Topic 7</b><br>Words: enggak, nalar, momok, un, kritis",
          "<b>Topic 7</b><br>Words: guna, enggak, research, asalasal, kirakira",
          "<b>Topic 7</b><br>Words: enggak, tau, ups, ndakik, bener",
          "<b>Topic 7</b><br>Words: orangorang, gitu, bisabisanya, pgsd, abrek"
         ],
         "marker": {
          "color": "#E69F00"
         },
         "mode": "lines",
         "name": "7_enggak_bukan_tau_periode",
         "type": "scatter",
         "x": [
          "2023-07-10T06:18:28.800000+00:00",
          "2023-07-13T06:24:12.400000+00:00",
          "2023-07-28T06:52:50.400000+00:00",
          "2023-08-15T07:27:12+00:00",
          "2023-08-18T07:32:55.600000+00:00",
          "2023-08-27T07:50:06.400000+00:00",
          "2023-09-02T08:01:33.600000+00:00",
          "2023-09-05T08:07:17.200000+00:00",
          "2023-09-11T08:18:44.400000+00:00",
          "2023-09-14T08:24:28+00:00",
          "2023-09-20T08:35:55.200000+00:00"
         ],
         "y": [
          1,
          2,
          1,
          2,
          1,
          1,
          1,
          1,
          1,
          1,
          1
         ]
        },
        {
         "hoverinfo": "text",
         "hovertext": [
          "<b>Topic 8</b><br>Words: hasil, beasiswa, raih, real, mampu",
          "<b>Topic 8</b><br>Words: raih, beasiswa, mampu, jakarta, anies"
         ],
         "marker": {
          "color": "#56B4E9"
         },
         "mode": "lines",
         "name": "8_beasiswa_raih_hasil_mampu",
         "type": "scatter",
         "x": [
          "2023-08-24T07:44:22.800000+00:00",
          "2023-09-11T08:18:44.400000+00:00"
         ],
         "y": [
          5,
          7
         ]
        }
       ],
       "layout": {
        "height": 450,
        "hoverlabel": {
         "bgcolor": "white",
         "font": {
          "family": "Rockwell",
          "size": 16
         }
        },
        "legend": {
         "title": {
          "text": "<b>Global Topic Representation"
         }
        },
        "template": {
         "data": {
          "bar": [
           {
            "error_x": {
             "color": "rgb(36,36,36)"
            },
            "error_y": {
             "color": "rgb(36,36,36)"
            },
            "marker": {
             "line": {
              "color": "white",
              "width": 0.5
             },
             "pattern": {
              "fillmode": "overlay",
              "size": 10,
              "solidity": 0.2
             }
            },
            "type": "bar"
           }
          ],
          "barpolar": [
           {
            "marker": {
             "line": {
              "color": "white",
              "width": 0.5
             },
             "pattern": {
              "fillmode": "overlay",
              "size": 10,
              "solidity": 0.2
             }
            },
            "type": "barpolar"
           }
          ],
          "carpet": [
           {
            "aaxis": {
             "endlinecolor": "rgb(36,36,36)",
             "gridcolor": "white",
             "linecolor": "white",
             "minorgridcolor": "white",
             "startlinecolor": "rgb(36,36,36)"
            },
            "baxis": {
             "endlinecolor": "rgb(36,36,36)",
             "gridcolor": "white",
             "linecolor": "white",
             "minorgridcolor": "white",
             "startlinecolor": "rgb(36,36,36)"
            },
            "type": "carpet"
           }
          ],
          "choropleth": [
           {
            "colorbar": {
             "outlinewidth": 1,
             "tickcolor": "rgb(36,36,36)",
             "ticks": "outside"
            },
            "type": "choropleth"
           }
          ],
          "contour": [
           {
            "colorbar": {
             "outlinewidth": 1,
             "tickcolor": "rgb(36,36,36)",
             "ticks": "outside"
            },
            "colorscale": [
             [
              0,
              "#440154"
             ],
             [
              0.1111111111111111,
              "#482878"
             ],
             [
              0.2222222222222222,
              "#3e4989"
             ],
             [
              0.3333333333333333,
              "#31688e"
             ],
             [
              0.4444444444444444,
              "#26828e"
             ],
             [
              0.5555555555555556,
              "#1f9e89"
             ],
             [
              0.6666666666666666,
              "#35b779"
             ],
             [
              0.7777777777777778,
              "#6ece58"
             ],
             [
              0.8888888888888888,
              "#b5de2b"
             ],
             [
              1,
              "#fde725"
             ]
            ],
            "type": "contour"
           }
          ],
          "contourcarpet": [
           {
            "colorbar": {
             "outlinewidth": 1,
             "tickcolor": "rgb(36,36,36)",
             "ticks": "outside"
            },
            "type": "contourcarpet"
           }
          ],
          "heatmap": [
           {
            "colorbar": {
             "outlinewidth": 1,
             "tickcolor": "rgb(36,36,36)",
             "ticks": "outside"
            },
            "colorscale": [
             [
              0,
              "#440154"
             ],
             [
              0.1111111111111111,
              "#482878"
             ],
             [
              0.2222222222222222,
              "#3e4989"
             ],
             [
              0.3333333333333333,
              "#31688e"
             ],
             [
              0.4444444444444444,
              "#26828e"
             ],
             [
              0.5555555555555556,
              "#1f9e89"
             ],
             [
              0.6666666666666666,
              "#35b779"
             ],
             [
              0.7777777777777778,
              "#6ece58"
             ],
             [
              0.8888888888888888,
              "#b5de2b"
             ],
             [
              1,
              "#fde725"
             ]
            ],
            "type": "heatmap"
           }
          ],
          "heatmapgl": [
           {
            "colorbar": {
             "outlinewidth": 1,
             "tickcolor": "rgb(36,36,36)",
             "ticks": "outside"
            },
            "colorscale": [
             [
              0,
              "#440154"
             ],
             [
              0.1111111111111111,
              "#482878"
             ],
             [
              0.2222222222222222,
              "#3e4989"
             ],
             [
              0.3333333333333333,
              "#31688e"
             ],
             [
              0.4444444444444444,
              "#26828e"
             ],
             [
              0.5555555555555556,
              "#1f9e89"
             ],
             [
              0.6666666666666666,
              "#35b779"
             ],
             [
              0.7777777777777778,
              "#6ece58"
             ],
             [
              0.8888888888888888,
              "#b5de2b"
             ],
             [
              1,
              "#fde725"
             ]
            ],
            "type": "heatmapgl"
           }
          ],
          "histogram": [
           {
            "marker": {
             "line": {
              "color": "white",
              "width": 0.6
             }
            },
            "type": "histogram"
           }
          ],
          "histogram2d": [
           {
            "colorbar": {
             "outlinewidth": 1,
             "tickcolor": "rgb(36,36,36)",
             "ticks": "outside"
            },
            "colorscale": [
             [
              0,
              "#440154"
             ],
             [
              0.1111111111111111,
              "#482878"
             ],
             [
              0.2222222222222222,
              "#3e4989"
             ],
             [
              0.3333333333333333,
              "#31688e"
             ],
             [
              0.4444444444444444,
              "#26828e"
             ],
             [
              0.5555555555555556,
              "#1f9e89"
             ],
             [
              0.6666666666666666,
              "#35b779"
             ],
             [
              0.7777777777777778,
              "#6ece58"
             ],
             [
              0.8888888888888888,
              "#b5de2b"
             ],
             [
              1,
              "#fde725"
             ]
            ],
            "type": "histogram2d"
           }
          ],
          "histogram2dcontour": [
           {
            "colorbar": {
             "outlinewidth": 1,
             "tickcolor": "rgb(36,36,36)",
             "ticks": "outside"
            },
            "colorscale": [
             [
              0,
              "#440154"
             ],
             [
              0.1111111111111111,
              "#482878"
             ],
             [
              0.2222222222222222,
              "#3e4989"
             ],
             [
              0.3333333333333333,
              "#31688e"
             ],
             [
              0.4444444444444444,
              "#26828e"
             ],
             [
              0.5555555555555556,
              "#1f9e89"
             ],
             [
              0.6666666666666666,
              "#35b779"
             ],
             [
              0.7777777777777778,
              "#6ece58"
             ],
             [
              0.8888888888888888,
              "#b5de2b"
             ],
             [
              1,
              "#fde725"
             ]
            ],
            "type": "histogram2dcontour"
           }
          ],
          "mesh3d": [
           {
            "colorbar": {
             "outlinewidth": 1,
             "tickcolor": "rgb(36,36,36)",
             "ticks": "outside"
            },
            "type": "mesh3d"
           }
          ],
          "parcoords": [
           {
            "line": {
             "colorbar": {
              "outlinewidth": 1,
              "tickcolor": "rgb(36,36,36)",
              "ticks": "outside"
             }
            },
            "type": "parcoords"
           }
          ],
          "pie": [
           {
            "automargin": true,
            "type": "pie"
           }
          ],
          "scatter": [
           {
            "fillpattern": {
             "fillmode": "overlay",
             "size": 10,
             "solidity": 0.2
            },
            "type": "scatter"
           }
          ],
          "scatter3d": [
           {
            "line": {
             "colorbar": {
              "outlinewidth": 1,
              "tickcolor": "rgb(36,36,36)",
              "ticks": "outside"
             }
            },
            "marker": {
             "colorbar": {
              "outlinewidth": 1,
              "tickcolor": "rgb(36,36,36)",
              "ticks": "outside"
             }
            },
            "type": "scatter3d"
           }
          ],
          "scattercarpet": [
           {
            "marker": {
             "colorbar": {
              "outlinewidth": 1,
              "tickcolor": "rgb(36,36,36)",
              "ticks": "outside"
             }
            },
            "type": "scattercarpet"
           }
          ],
          "scattergeo": [
           {
            "marker": {
             "colorbar": {
              "outlinewidth": 1,
              "tickcolor": "rgb(36,36,36)",
              "ticks": "outside"
             }
            },
            "type": "scattergeo"
           }
          ],
          "scattergl": [
           {
            "marker": {
             "colorbar": {
              "outlinewidth": 1,
              "tickcolor": "rgb(36,36,36)",
              "ticks": "outside"
             }
            },
            "type": "scattergl"
           }
          ],
          "scattermapbox": [
           {
            "marker": {
             "colorbar": {
              "outlinewidth": 1,
              "tickcolor": "rgb(36,36,36)",
              "ticks": "outside"
             }
            },
            "type": "scattermapbox"
           }
          ],
          "scatterpolar": [
           {
            "marker": {
             "colorbar": {
              "outlinewidth": 1,
              "tickcolor": "rgb(36,36,36)",
              "ticks": "outside"
             }
            },
            "type": "scatterpolar"
           }
          ],
          "scatterpolargl": [
           {
            "marker": {
             "colorbar": {
              "outlinewidth": 1,
              "tickcolor": "rgb(36,36,36)",
              "ticks": "outside"
             }
            },
            "type": "scatterpolargl"
           }
          ],
          "scatterternary": [
           {
            "marker": {
             "colorbar": {
              "outlinewidth": 1,
              "tickcolor": "rgb(36,36,36)",
              "ticks": "outside"
             }
            },
            "type": "scatterternary"
           }
          ],
          "surface": [
           {
            "colorbar": {
             "outlinewidth": 1,
             "tickcolor": "rgb(36,36,36)",
             "ticks": "outside"
            },
            "colorscale": [
             [
              0,
              "#440154"
             ],
             [
              0.1111111111111111,
              "#482878"
             ],
             [
              0.2222222222222222,
              "#3e4989"
             ],
             [
              0.3333333333333333,
              "#31688e"
             ],
             [
              0.4444444444444444,
              "#26828e"
             ],
             [
              0.5555555555555556,
              "#1f9e89"
             ],
             [
              0.6666666666666666,
              "#35b779"
             ],
             [
              0.7777777777777778,
              "#6ece58"
             ],
             [
              0.8888888888888888,
              "#b5de2b"
             ],
             [
              1,
              "#fde725"
             ]
            ],
            "type": "surface"
           }
          ],
          "table": [
           {
            "cells": {
             "fill": {
              "color": "rgb(237,237,237)"
             },
             "line": {
              "color": "white"
             }
            },
            "header": {
             "fill": {
              "color": "rgb(217,217,217)"
             },
             "line": {
              "color": "white"
             }
            },
            "type": "table"
           }
          ]
         },
         "layout": {
          "annotationdefaults": {
           "arrowhead": 0,
           "arrowwidth": 1
          },
          "autotypenumbers": "strict",
          "coloraxis": {
           "colorbar": {
            "outlinewidth": 1,
            "tickcolor": "rgb(36,36,36)",
            "ticks": "outside"
           }
          },
          "colorscale": {
           "diverging": [
            [
             0,
             "rgb(103,0,31)"
            ],
            [
             0.1,
             "rgb(178,24,43)"
            ],
            [
             0.2,
             "rgb(214,96,77)"
            ],
            [
             0.3,
             "rgb(244,165,130)"
            ],
            [
             0.4,
             "rgb(253,219,199)"
            ],
            [
             0.5,
             "rgb(247,247,247)"
            ],
            [
             0.6,
             "rgb(209,229,240)"
            ],
            [
             0.7,
             "rgb(146,197,222)"
            ],
            [
             0.8,
             "rgb(67,147,195)"
            ],
            [
             0.9,
             "rgb(33,102,172)"
            ],
            [
             1,
             "rgb(5,48,97)"
            ]
           ],
           "sequential": [
            [
             0,
             "#440154"
            ],
            [
             0.1111111111111111,
             "#482878"
            ],
            [
             0.2222222222222222,
             "#3e4989"
            ],
            [
             0.3333333333333333,
             "#31688e"
            ],
            [
             0.4444444444444444,
             "#26828e"
            ],
            [
             0.5555555555555556,
             "#1f9e89"
            ],
            [
             0.6666666666666666,
             "#35b779"
            ],
            [
             0.7777777777777778,
             "#6ece58"
            ],
            [
             0.8888888888888888,
             "#b5de2b"
            ],
            [
             1,
             "#fde725"
            ]
           ],
           "sequentialminus": [
            [
             0,
             "#440154"
            ],
            [
             0.1111111111111111,
             "#482878"
            ],
            [
             0.2222222222222222,
             "#3e4989"
            ],
            [
             0.3333333333333333,
             "#31688e"
            ],
            [
             0.4444444444444444,
             "#26828e"
            ],
            [
             0.5555555555555556,
             "#1f9e89"
            ],
            [
             0.6666666666666666,
             "#35b779"
            ],
            [
             0.7777777777777778,
             "#6ece58"
            ],
            [
             0.8888888888888888,
             "#b5de2b"
            ],
            [
             1,
             "#fde725"
            ]
           ]
          },
          "colorway": [
           "#1F77B4",
           "#FF7F0E",
           "#2CA02C",
           "#D62728",
           "#9467BD",
           "#8C564B",
           "#E377C2",
           "#7F7F7F",
           "#BCBD22",
           "#17BECF"
          ],
          "font": {
           "color": "rgb(36,36,36)"
          },
          "geo": {
           "bgcolor": "white",
           "lakecolor": "white",
           "landcolor": "white",
           "showlakes": true,
           "showland": true,
           "subunitcolor": "white"
          },
          "hoverlabel": {
           "align": "left"
          },
          "hovermode": "closest",
          "mapbox": {
           "style": "light"
          },
          "paper_bgcolor": "white",
          "plot_bgcolor": "white",
          "polar": {
           "angularaxis": {
            "gridcolor": "rgb(232,232,232)",
            "linecolor": "rgb(36,36,36)",
            "showgrid": false,
            "showline": true,
            "ticks": "outside"
           },
           "bgcolor": "white",
           "radialaxis": {
            "gridcolor": "rgb(232,232,232)",
            "linecolor": "rgb(36,36,36)",
            "showgrid": false,
            "showline": true,
            "ticks": "outside"
           }
          },
          "scene": {
           "xaxis": {
            "backgroundcolor": "white",
            "gridcolor": "rgb(232,232,232)",
            "gridwidth": 2,
            "linecolor": "rgb(36,36,36)",
            "showbackground": true,
            "showgrid": false,
            "showline": true,
            "ticks": "outside",
            "zeroline": false,
            "zerolinecolor": "rgb(36,36,36)"
           },
           "yaxis": {
            "backgroundcolor": "white",
            "gridcolor": "rgb(232,232,232)",
            "gridwidth": 2,
            "linecolor": "rgb(36,36,36)",
            "showbackground": true,
            "showgrid": false,
            "showline": true,
            "ticks": "outside",
            "zeroline": false,
            "zerolinecolor": "rgb(36,36,36)"
           },
           "zaxis": {
            "backgroundcolor": "white",
            "gridcolor": "rgb(232,232,232)",
            "gridwidth": 2,
            "linecolor": "rgb(36,36,36)",
            "showbackground": true,
            "showgrid": false,
            "showline": true,
            "ticks": "outside",
            "zeroline": false,
            "zerolinecolor": "rgb(36,36,36)"
           }
          },
          "shapedefaults": {
           "fillcolor": "black",
           "line": {
            "width": 0
           },
           "opacity": 0.3
          },
          "ternary": {
           "aaxis": {
            "gridcolor": "rgb(232,232,232)",
            "linecolor": "rgb(36,36,36)",
            "showgrid": false,
            "showline": true,
            "ticks": "outside"
           },
           "baxis": {
            "gridcolor": "rgb(232,232,232)",
            "linecolor": "rgb(36,36,36)",
            "showgrid": false,
            "showline": true,
            "ticks": "outside"
           },
           "bgcolor": "white",
           "caxis": {
            "gridcolor": "rgb(232,232,232)",
            "linecolor": "rgb(36,36,36)",
            "showgrid": false,
            "showline": true,
            "ticks": "outside"
           }
          },
          "title": {
           "x": 0.05
          },
          "xaxis": {
           "automargin": true,
           "gridcolor": "rgb(232,232,232)",
           "linecolor": "rgb(36,36,36)",
           "showgrid": false,
           "showline": true,
           "ticks": "outside",
           "title": {
            "standoff": 15
           },
           "zeroline": false,
           "zerolinecolor": "rgb(36,36,36)"
          },
          "yaxis": {
           "automargin": true,
           "gridcolor": "rgb(232,232,232)",
           "linecolor": "rgb(36,36,36)",
           "showgrid": false,
           "showline": true,
           "ticks": "outside",
           "title": {
            "standoff": 15
           },
           "zeroline": false,
           "zerolinecolor": "rgb(36,36,36)"
          }
         }
        },
        "title": {
         "font": {
          "color": "Black",
          "size": 22
         },
         "text": "Topics Over Time for 2023Q3",
         "x": 0.4,
         "xanchor": "center",
         "y": 0.95,
         "yanchor": "top"
        },
        "width": 1250,
        "xaxis": {
         "showgrid": true
        },
        "yaxis": {
         "showgrid": true,
         "title": {
          "text": "Frequency"
         }
        }
       }
      }
     },
     "metadata": {},
     "output_type": "display_data"
    },
    {
     "data": {
      "application/vnd.plotly.v1+json": {
       "config": {
        "plotlyServerURL": "https://plot.ly"
       },
       "data": [
        {
         "hoverinfo": "text",
         "hovertext": [
          "<b>Topic 0</b><br>Words: mau, lanjut, nih, wkwk, congratulations",
          "<b>Topic 0</b><br>Words: nih, baik, bapak, prabowo, jelasarahnya",
          "<b>Topic 0</b><br>Words: fair, tahu, capres, banget, ajar",
          "<b>Topic 0</b><br>Words: programprogram, rian, kebijakankebijakan, cara, beliau",
          "<b>Topic 0</b><br>Words: nih, masgibran, ayahbowo, baik, semangat",
          "<b>Topic 0</b><br>Words: lanjut, perhatiaan, milu, bingung, misi",
          "<b>Topic 0</b><br>Words: kembali, ahli, moga, nih, baik",
          "<b>Topic 0</b><br>Words: untukprabowo, katamereka, prabowo, insentif, pesat",
          "<b>Topic 0</b><br>Words: baik, lebih, gibran, kurang, anggap",
          "<b>Topic 0</b><br>Words: gin, madu, cerita, alam, bagus"
         ],
         "marker": {
          "color": "#E69F00"
         },
         "mode": "lines",
         "name": "0_nih_baik_standar_solutif",
         "type": "scatter",
         "x": [
          "2023-09-30T22:07:50.763000+00:00",
          "2023-10-10T02:32:30.700000+00:00",
          "2023-10-19T04:46:14.400000+00:00",
          "2023-10-22T05:30:48.966666+00:00",
          "2023-10-25T06:15:23.533333+00:00",
          "2023-10-28T06:59:58.100000+00:00",
          "2023-11-24T13:41:09.200000+00:00",
          "2023-12-18T19:37:45.733333+00:00",
          "2023-12-24T21:06:54.866666+00:00",
          "2023-12-27T21:51:29.433333+00:00"
         ],
         "y": [
          2,
          132,
          1,
          1,
          114,
          1,
          1,
          6,
          4,
          2
         ]
        },
        {
         "hoverinfo": "text",
         "hovertext": [
          "<b>Topic 1</b><br>Words: indonesia, jelas, kagak, mau, ambil",
          "<b>Topic 1</b><br>Words: indonesia, berani, buat, inklusif, anies",
          "<b>Topic 1</b><br>Words: mampu, mantep, upaya, amin, hadir",
          "<b>Topic 1</b><br>Words: indonesia, ganjar, presiden, maju, pikir",
          "<b>Topic 1</b><br>Words: indonesia, aset, pks, selalu, negara",
          "<b>Topic 1</b><br>Words: indonesia, siap, ganjar, presiden, inklusif",
          "<b>Topic 1</b><br>Words: issues, bahas, indonesia, anies, enough",
          "<b>Topic 1</b><br>Words: jabat, indonesia, hasil, anies, partisipasi",
          "<b>Topic 1</b><br>Words: anies, hasil, indonesia, baswedan, rombak",
          "<b>Topic 1</b><br>Words: indonesia, skor, iq, seharihari, pengaruh",
          "<b>Topic 1</b><br>Words: papua, bangun, gencar, asimetris, sekolahsekolah",
          "<b>Topic 1</b><br>Words: gpmmd, indonesia, papua, gratis, aceh",
          "<b>Topic 1</b><br>Words: prabowogibran, untukindonesia, tahan, usung, inovasi",
          "<b>Topic 1</b><br>Words: indonesia, maju, untukprabowo, katamereka, komitmen",
          "<b>Topic 1</b><br>Words: internet, cepat, indonesia, gratis, wilayah",
          "<b>Topic 1</b><br>Words: indonesia, guru, mahfud, ganjar, agama",
          "<b>Topic 1</b><br>Words: indonesia, md, mahfud, tepat, pranowo"
         ],
         "marker": {
          "color": "#56B4E9"
         },
         "mode": "lines",
         "name": "1_indonesia_internet_ganjar_gpmmd",
         "type": "scatter",
         "x": [
          "2023-09-30T22:07:50.763000+00:00",
          "2023-10-04T01:03:21.566666+00:00",
          "2023-10-07T01:47:56.133333+00:00",
          "2023-10-10T02:32:30.700000+00:00",
          "2023-10-13T03:17:05.266666+00:00",
          "2023-10-16T04:01:39.833333+00:00",
          "2023-10-19T04:46:14.400000+00:00",
          "2023-10-22T05:30:48.966666+00:00",
          "2023-10-25T06:15:23.533333+00:00",
          "2023-10-28T06:59:58.100000+00:00",
          "2023-11-24T13:41:09.200000+00:00",
          "2023-11-27T14:25:43.766666+00:00",
          "2023-12-15T18:53:11.166666+00:00",
          "2023-12-18T19:37:45.733333+00:00",
          "2023-12-21T20:22:20.300000+00:00",
          "2023-12-24T21:06:54.866666+00:00",
          "2023-12-27T21:51:29.433333+00:00"
         ],
         "y": [
          2,
          5,
          1,
          13,
          4,
          5,
          2,
          4,
          9,
          4,
          1,
          29,
          2,
          15,
          17,
          9,
          7
         ]
        },
        {
         "hoverinfo": "text",
         "hovertext": [
          "<b>Topic 2</b><br>Words: peluang, nkrisejahtera, jatuhhati, kinerjapakbowo, puskesmas",
          "<b>Topic 2</b><br>Words: klik, th, link, dm, pd",
          "<b>Topic 2</b><br>Words: alam, puskesmas, makmur, anies, naik",
          "<b>Topic 2</b><br>Words: berjejaring, perilaku, organisasi, sehat, mitra",
          "<b>Topic 2</b><br>Words: ekonomi, anies, gelar, paham, siap",
          "<b>Topic 2</b><br>Words: ekonomi, go, bangun, pks, background",
          "<b>Topic 2</b><br>Words: konsisten, rian, jakarta, terap, bagai",
          "<b>Topic 2</b><br>Words: seoarang, kesah, backgroundya, keluh, bisnis",
          "<b>Topic 2</b><br>Words: politik, pecah, terampil, tentu, pengaruh",
          "<b>Topic 2</b><br>Words: informasi, kampanye, verifikasi, kandidat, periksa",
          "<b>Topic 2</b><br>Words: gpmmd, kupang, ganjarmahfud, sabang, merauke",
          "<b>Topic 2</b><br>Words: ganjarmahfud, visimisi, pranowo, ganjar, cipta",
          "<b>Topic 2</b><br>Words: top, lebih, mahfud, cipta, dukung",
          "<b>Topic 2</b><br>Words: programganjarmahfud, ganjar, cipta, baru, janji",
          "<b>Topic 2</b><br>Words: ganjarmahfud, bukti, lalu, inklusif, mahfud"
         ],
         "marker": {
          "color": "#009E73"
         },
         "mode": "lines",
         "name": "2_ganjarmahfud_gpmmd_ganjar_pranowo",
         "type": "scatter",
         "x": [
          "2023-10-04T01:03:21.566666+00:00",
          "2023-10-07T01:47:56.133333+00:00",
          "2023-10-10T02:32:30.700000+00:00",
          "2023-10-13T03:17:05.266666+00:00",
          "2023-10-16T04:01:39.833333+00:00",
          "2023-10-19T04:46:14.400000+00:00",
          "2023-10-22T05:30:48.966666+00:00",
          "2023-10-25T06:15:23.533333+00:00",
          "2023-10-28T06:59:58.100000+00:00",
          "2023-11-24T13:41:09.200000+00:00",
          "2023-11-27T14:25:43.766666+00:00",
          "2023-12-18T19:37:45.733333+00:00",
          "2023-12-21T20:22:20.300000+00:00",
          "2023-12-24T21:06:54.866666+00:00",
          "2023-12-27T21:51:29.433333+00:00"
         ],
         "y": [
          4,
          1,
          6,
          1,
          4,
          2,
          1,
          1,
          3,
          2,
          34,
          17,
          14,
          8,
          29
         ]
        },
        {
         "hoverinfo": "text",
         "hovertext": [
          "<b>Topic 3</b><br>Words: sekolah, kelola, biaya, gpmmd, anak",
          "<b>Topic 3</b><br>Words: sekolah, gratis, gpmmd, anak, tahun",
          "<b>Topic 3</b><br>Words: kampus, bagus, makin, memang, anak",
          "<b>Topic 3</b><br>Words: genz, milenial, idam, prokesetaraan, angin",
          "<b>Topic 3</b><br>Words: go, pks, prorakyat, khusus, perhati",
          "<b>Topic 3</b><br>Words: akses, berubahrubah, silabus, persetan, pilpres",
          "<b>Topic 3</b><br>Words: pontianak, investasi, amp, anak, tahun",
          "<b>Topic 3</b><br>Words: unicef, un, cuma, enggak, pendidikankesehatan",
          "<b>Topic 3</b><br>Words: erti, sekarang, gue, ngengonggong, akun",
          "<b>Topic 3</b><br>Words: gpmmd, merauke, sabang, tahun, gratis",
          "<b>Topic 3</b><br>Words: kendala, tenaga, dasar, ambil, tepat",
          "<b>Topic 3</b><br>Words: jurnal, anakanak, ganjarmahfud, edukasi, anak",
          "<b>Topic 3</b><br>Words: kuliah, dana, gratis, tinggi, sense",
          "<b>Topic 3</b><br>Words: anak, akses, atikoh, ibu, programganjarmahfud",
          "<b>Topic 3</b><br>Words: sepenuh, cari, gratis, gpmmd, masalah"
         ],
         "marker": {
          "color": "#F0E442"
         },
         "mode": "lines",
         "name": "3_gpmmd_gratis_tahun_merauke",
         "type": "scatter",
         "x": [
          "2023-09-30T22:07:50.763000+00:00",
          "2023-10-04T01:03:21.566666+00:00",
          "2023-10-10T02:32:30.700000+00:00",
          "2023-10-13T03:17:05.266666+00:00",
          "2023-10-19T04:46:14.400000+00:00",
          "2023-10-22T05:30:48.966666+00:00",
          "2023-10-25T06:15:23.533333+00:00",
          "2023-10-28T06:59:58.100000+00:00",
          "2023-11-24T13:41:09.200000+00:00",
          "2023-11-27T14:25:43.766666+00:00",
          "2023-12-15T18:53:11.166666+00:00",
          "2023-12-18T19:37:45.733333+00:00",
          "2023-12-21T20:22:20.300000+00:00",
          "2023-12-24T21:06:54.866666+00:00",
          "2023-12-27T21:51:29.433333+00:00"
         ],
         "y": [
          6,
          7,
          3,
          1,
          1,
          1,
          3,
          1,
          1,
          44,
          1,
          16,
          2,
          10,
          4
         ]
        },
        {
         "hoverinfo": "text",
         "hovertext": [
          "<b>Topic 4</b><br>Words: siahaan, marcell, usul, kecil, jangkau",
          "<b>Topic 4</b><br>Words: jatuhhati, kinerjapakbowo, nkrisejahtera, miskin, visisubianto",
          "<b>Topic 4</b><br>Words: miskin, sehat, bapak, prabowo, kerja",
          "<b>Topic 4</b><br>Words: memang, pascajajahan, silang, timbang, orientalis",
          "<b>Topic 4</b><br>Words: gembruduk, donasi, miskin, satu, peduli",
          "<b>Topic 4</b><br>Words: miskin, negara, rendah, strutural, well",
          "<b>Topic 4</b><br>Words: miskin, menangin, smangatmuda, okmilihmasgibran, akusih",
          "<b>Topic 4</b><br>Words: eyang, tiada, pmp, pancasila, lini",
          "<b>Topic 4</b><br>Words: miskin, keluarga, kupang, gpmmd, ganjarmahfud",
          "<b>Topic 4</b><br>Words: pks, pimp, kader, rintang, sedia",
          "<b>Topic 4</b><br>Words: keluarga, miskin, programganjarmahfud, dini, bayar",
          "<b>Topic 4</b><br>Words: miskin, keluarga, sarjana, kerja, pranowo"
         ],
         "marker": {
          "color": "#D55E00"
         },
         "mode": "lines",
         "name": "4_miskin_kinerjapakbowo_jatuhhati_nkrise...",
         "type": "scatter",
         "x": [
          "2023-09-30T22:07:50.763000+00:00",
          "2023-10-04T01:03:21.566666+00:00",
          "2023-10-10T02:32:30.700000+00:00",
          "2023-10-13T03:17:05.266666+00:00",
          "2023-10-16T04:01:39.833333+00:00",
          "2023-10-19T04:46:14.400000+00:00",
          "2023-10-25T06:15:23.533333+00:00",
          "2023-10-28T06:59:58.100000+00:00",
          "2023-11-27T14:25:43.766666+00:00",
          "2023-12-18T19:37:45.733333+00:00",
          "2023-12-24T21:06:54.866666+00:00",
          "2023-12-27T21:51:29.433333+00:00"
         ],
         "y": [
          1,
          38,
          13,
          2,
          3,
          1,
          7,
          1,
          14,
          1,
          5,
          12
         ]
        },
        {
         "hoverinfo": "text",
         "hovertext": [
          "<b>Topic 5</b><br>Words: presiden, benar, enggak, gue, ganjar",
          "<b>Topic 5</b><br>Words: beasiswa, presiden, ganjar, upaya, langkah",
          "<b>Topic 5</b><br>Words: ganjar, presiden, pak, moga, nyata",
          "<b>Topic 5</b><br>Words: presiden, ganjar, siap, pesantren, pak",
          "<b>Topic 5</b><br>Words: presiden, ganjar, terap, utama, pak",
          "<b>Topic 5</b><br>Words: presiden, ganjar, allah, masha, optimalisasi",
          "<b>Topic 5</b><br>Words: sentuh, gibran, nasional, mampu, bawa",
          "<b>Topic 5</b><br>Words: ganjarpranowo, presiden, ganjar, holistik, dukung",
          "<b>Topic 5</b><br>Words: madu, tindak, baswedan, mampu, politik"
         ],
         "marker": {
          "color": "#0072B2"
         },
         "mode": "lines",
         "name": "5_presiden_ganjar_pak_siap",
         "type": "scatter",
         "x": [
          "2023-09-30T22:07:50.763000+00:00",
          "2023-10-04T01:03:21.566666+00:00",
          "2023-10-10T02:32:30.700000+00:00",
          "2023-10-16T04:01:39.833333+00:00",
          "2023-10-22T05:30:48.966666+00:00",
          "2023-10-25T06:15:23.533333+00:00",
          "2023-11-24T13:41:09.200000+00:00",
          "2023-12-18T19:37:45.733333+00:00",
          "2023-12-24T21:06:54.866666+00:00"
         ],
         "y": [
          1,
          4,
          29,
          11,
          6,
          2,
          1,
          4,
          1
         ]
        },
        {
         "hoverinfo": "text",
         "hovertext": [
          "<b>Topic 6</b><br>Words: canang, riset, mendikbudristek, teknologi, kampus",
          "<b>Topic 6</b><br>Words: agama, kpu, ketua, sebut, pak",
          "<b>Topic 6</b><br>Words: kultural, identitas, selamat, santri, wujud",
          "<b>Topic 6</b><br>Words: nilainilai, bas, partai, seringkali, definisi",
          "<b>Topic 6</b><br>Words: khilafah, keaamanan, islam, tanggung, pokok",
          "<b>Topic 6</b><br>Words: lembaga, agama, aspirasi, milad, hidayatullah",
          "<b>Topic 6</b><br>Words: hukum, joki, aji, spiritual, agama",
          "<b>Topic 6</b><br>Words: dukung, ulama, yakin, untukprabowo, katamereka",
          "<b>Topic 6</b><br>Words: agama, programganjarmahfud, prof, pak, mahfud",
          "<b>Topic 6</b><br>Words: agama, guru, aji, mahfud, moral"
         ],
         "marker": {
          "color": "#CC79A7"
         },
         "mode": "lines",
         "name": "6_agama_aji_guru_dukung",
         "type": "scatter",
         "x": [
          "2023-10-07T01:47:56.133333+00:00",
          "2023-10-10T02:32:30.700000+00:00",
          "2023-10-16T04:01:39.833333+00:00",
          "2023-10-25T06:15:23.533333+00:00",
          "2023-10-28T06:59:58.100000+00:00",
          "2023-11-24T13:41:09.200000+00:00",
          "2023-11-27T14:25:43.766666+00:00",
          "2023-12-18T19:37:45.733333+00:00",
          "2023-12-24T21:06:54.866666+00:00",
          "2023-12-27T21:51:29.433333+00:00"
         ],
         "y": [
          1,
          4,
          1,
          1,
          2,
          1,
          6,
          4,
          8,
          6
         ]
        },
        {
         "hoverinfo": "text",
         "hovertext": [
          "<b>Topic 7</b><br>Words: gpmmd, tahun, merauke, sabang, gratis"
         ],
         "marker": {
          "color": "#E69F00"
         },
         "mode": "lines",
         "name": "7_gpmmd_tahun_sabang_merauke",
         "type": "scatter",
         "x": [
          "2023-11-27T14:25:43.766666+00:00"
         ],
         "y": [
          12
         ]
        },
        {
         "hoverinfo": "text",
         "hovertext": [
          "<b>Topic 8</b><br>Words: kota, ancam, narkoba, tanggap, lingkung",
          "<b>Topic 8</b><br>Words: konsolidasi, narkoba, ancam, kota, tanggap",
          "<b>Topic 8</b><br>Words: instansi, konsolidasi, ancam, narkoba, kota",
          "<b>Topic 8</b><br>Words: desa, kota, pks, tumbuh, kampanye",
          "<b>Topic 8</b><br>Words: kota, set, sat, desa, juara"
         ],
         "marker": {
          "color": "#56B4E9"
         },
         "mode": "lines",
         "name": "8_kota_desa_set_sat",
         "type": "scatter",
         "x": [
          "2023-10-04T01:03:21.566666+00:00",
          "2023-10-19T04:46:14.400000+00:00",
          "2023-10-25T06:15:23.533333+00:00",
          "2023-11-24T13:41:09.200000+00:00",
          "2023-12-21T20:22:20.300000+00:00"
         ],
         "y": [
          2,
          1,
          1,
          1,
          6
         ]
        }
       ],
       "layout": {
        "height": 450,
        "hoverlabel": {
         "bgcolor": "white",
         "font": {
          "family": "Rockwell",
          "size": 16
         }
        },
        "legend": {
         "title": {
          "text": "<b>Global Topic Representation"
         }
        },
        "template": {
         "data": {
          "bar": [
           {
            "error_x": {
             "color": "rgb(36,36,36)"
            },
            "error_y": {
             "color": "rgb(36,36,36)"
            },
            "marker": {
             "line": {
              "color": "white",
              "width": 0.5
             },
             "pattern": {
              "fillmode": "overlay",
              "size": 10,
              "solidity": 0.2
             }
            },
            "type": "bar"
           }
          ],
          "barpolar": [
           {
            "marker": {
             "line": {
              "color": "white",
              "width": 0.5
             },
             "pattern": {
              "fillmode": "overlay",
              "size": 10,
              "solidity": 0.2
             }
            },
            "type": "barpolar"
           }
          ],
          "carpet": [
           {
            "aaxis": {
             "endlinecolor": "rgb(36,36,36)",
             "gridcolor": "white",
             "linecolor": "white",
             "minorgridcolor": "white",
             "startlinecolor": "rgb(36,36,36)"
            },
            "baxis": {
             "endlinecolor": "rgb(36,36,36)",
             "gridcolor": "white",
             "linecolor": "white",
             "minorgridcolor": "white",
             "startlinecolor": "rgb(36,36,36)"
            },
            "type": "carpet"
           }
          ],
          "choropleth": [
           {
            "colorbar": {
             "outlinewidth": 1,
             "tickcolor": "rgb(36,36,36)",
             "ticks": "outside"
            },
            "type": "choropleth"
           }
          ],
          "contour": [
           {
            "colorbar": {
             "outlinewidth": 1,
             "tickcolor": "rgb(36,36,36)",
             "ticks": "outside"
            },
            "colorscale": [
             [
              0,
              "#440154"
             ],
             [
              0.1111111111111111,
              "#482878"
             ],
             [
              0.2222222222222222,
              "#3e4989"
             ],
             [
              0.3333333333333333,
              "#31688e"
             ],
             [
              0.4444444444444444,
              "#26828e"
             ],
             [
              0.5555555555555556,
              "#1f9e89"
             ],
             [
              0.6666666666666666,
              "#35b779"
             ],
             [
              0.7777777777777778,
              "#6ece58"
             ],
             [
              0.8888888888888888,
              "#b5de2b"
             ],
             [
              1,
              "#fde725"
             ]
            ],
            "type": "contour"
           }
          ],
          "contourcarpet": [
           {
            "colorbar": {
             "outlinewidth": 1,
             "tickcolor": "rgb(36,36,36)",
             "ticks": "outside"
            },
            "type": "contourcarpet"
           }
          ],
          "heatmap": [
           {
            "colorbar": {
             "outlinewidth": 1,
             "tickcolor": "rgb(36,36,36)",
             "ticks": "outside"
            },
            "colorscale": [
             [
              0,
              "#440154"
             ],
             [
              0.1111111111111111,
              "#482878"
             ],
             [
              0.2222222222222222,
              "#3e4989"
             ],
             [
              0.3333333333333333,
              "#31688e"
             ],
             [
              0.4444444444444444,
              "#26828e"
             ],
             [
              0.5555555555555556,
              "#1f9e89"
             ],
             [
              0.6666666666666666,
              "#35b779"
             ],
             [
              0.7777777777777778,
              "#6ece58"
             ],
             [
              0.8888888888888888,
              "#b5de2b"
             ],
             [
              1,
              "#fde725"
             ]
            ],
            "type": "heatmap"
           }
          ],
          "heatmapgl": [
           {
            "colorbar": {
             "outlinewidth": 1,
             "tickcolor": "rgb(36,36,36)",
             "ticks": "outside"
            },
            "colorscale": [
             [
              0,
              "#440154"
             ],
             [
              0.1111111111111111,
              "#482878"
             ],
             [
              0.2222222222222222,
              "#3e4989"
             ],
             [
              0.3333333333333333,
              "#31688e"
             ],
             [
              0.4444444444444444,
              "#26828e"
             ],
             [
              0.5555555555555556,
              "#1f9e89"
             ],
             [
              0.6666666666666666,
              "#35b779"
             ],
             [
              0.7777777777777778,
              "#6ece58"
             ],
             [
              0.8888888888888888,
              "#b5de2b"
             ],
             [
              1,
              "#fde725"
             ]
            ],
            "type": "heatmapgl"
           }
          ],
          "histogram": [
           {
            "marker": {
             "line": {
              "color": "white",
              "width": 0.6
             }
            },
            "type": "histogram"
           }
          ],
          "histogram2d": [
           {
            "colorbar": {
             "outlinewidth": 1,
             "tickcolor": "rgb(36,36,36)",
             "ticks": "outside"
            },
            "colorscale": [
             [
              0,
              "#440154"
             ],
             [
              0.1111111111111111,
              "#482878"
             ],
             [
              0.2222222222222222,
              "#3e4989"
             ],
             [
              0.3333333333333333,
              "#31688e"
             ],
             [
              0.4444444444444444,
              "#26828e"
             ],
             [
              0.5555555555555556,
              "#1f9e89"
             ],
             [
              0.6666666666666666,
              "#35b779"
             ],
             [
              0.7777777777777778,
              "#6ece58"
             ],
             [
              0.8888888888888888,
              "#b5de2b"
             ],
             [
              1,
              "#fde725"
             ]
            ],
            "type": "histogram2d"
           }
          ],
          "histogram2dcontour": [
           {
            "colorbar": {
             "outlinewidth": 1,
             "tickcolor": "rgb(36,36,36)",
             "ticks": "outside"
            },
            "colorscale": [
             [
              0,
              "#440154"
             ],
             [
              0.1111111111111111,
              "#482878"
             ],
             [
              0.2222222222222222,
              "#3e4989"
             ],
             [
              0.3333333333333333,
              "#31688e"
             ],
             [
              0.4444444444444444,
              "#26828e"
             ],
             [
              0.5555555555555556,
              "#1f9e89"
             ],
             [
              0.6666666666666666,
              "#35b779"
             ],
             [
              0.7777777777777778,
              "#6ece58"
             ],
             [
              0.8888888888888888,
              "#b5de2b"
             ],
             [
              1,
              "#fde725"
             ]
            ],
            "type": "histogram2dcontour"
           }
          ],
          "mesh3d": [
           {
            "colorbar": {
             "outlinewidth": 1,
             "tickcolor": "rgb(36,36,36)",
             "ticks": "outside"
            },
            "type": "mesh3d"
           }
          ],
          "parcoords": [
           {
            "line": {
             "colorbar": {
              "outlinewidth": 1,
              "tickcolor": "rgb(36,36,36)",
              "ticks": "outside"
             }
            },
            "type": "parcoords"
           }
          ],
          "pie": [
           {
            "automargin": true,
            "type": "pie"
           }
          ],
          "scatter": [
           {
            "fillpattern": {
             "fillmode": "overlay",
             "size": 10,
             "solidity": 0.2
            },
            "type": "scatter"
           }
          ],
          "scatter3d": [
           {
            "line": {
             "colorbar": {
              "outlinewidth": 1,
              "tickcolor": "rgb(36,36,36)",
              "ticks": "outside"
             }
            },
            "marker": {
             "colorbar": {
              "outlinewidth": 1,
              "tickcolor": "rgb(36,36,36)",
              "ticks": "outside"
             }
            },
            "type": "scatter3d"
           }
          ],
          "scattercarpet": [
           {
            "marker": {
             "colorbar": {
              "outlinewidth": 1,
              "tickcolor": "rgb(36,36,36)",
              "ticks": "outside"
             }
            },
            "type": "scattercarpet"
           }
          ],
          "scattergeo": [
           {
            "marker": {
             "colorbar": {
              "outlinewidth": 1,
              "tickcolor": "rgb(36,36,36)",
              "ticks": "outside"
             }
            },
            "type": "scattergeo"
           }
          ],
          "scattergl": [
           {
            "marker": {
             "colorbar": {
              "outlinewidth": 1,
              "tickcolor": "rgb(36,36,36)",
              "ticks": "outside"
             }
            },
            "type": "scattergl"
           }
          ],
          "scattermapbox": [
           {
            "marker": {
             "colorbar": {
              "outlinewidth": 1,
              "tickcolor": "rgb(36,36,36)",
              "ticks": "outside"
             }
            },
            "type": "scattermapbox"
           }
          ],
          "scatterpolar": [
           {
            "marker": {
             "colorbar": {
              "outlinewidth": 1,
              "tickcolor": "rgb(36,36,36)",
              "ticks": "outside"
             }
            },
            "type": "scatterpolar"
           }
          ],
          "scatterpolargl": [
           {
            "marker": {
             "colorbar": {
              "outlinewidth": 1,
              "tickcolor": "rgb(36,36,36)",
              "ticks": "outside"
             }
            },
            "type": "scatterpolargl"
           }
          ],
          "scatterternary": [
           {
            "marker": {
             "colorbar": {
              "outlinewidth": 1,
              "tickcolor": "rgb(36,36,36)",
              "ticks": "outside"
             }
            },
            "type": "scatterternary"
           }
          ],
          "surface": [
           {
            "colorbar": {
             "outlinewidth": 1,
             "tickcolor": "rgb(36,36,36)",
             "ticks": "outside"
            },
            "colorscale": [
             [
              0,
              "#440154"
             ],
             [
              0.1111111111111111,
              "#482878"
             ],
             [
              0.2222222222222222,
              "#3e4989"
             ],
             [
              0.3333333333333333,
              "#31688e"
             ],
             [
              0.4444444444444444,
              "#26828e"
             ],
             [
              0.5555555555555556,
              "#1f9e89"
             ],
             [
              0.6666666666666666,
              "#35b779"
             ],
             [
              0.7777777777777778,
              "#6ece58"
             ],
             [
              0.8888888888888888,
              "#b5de2b"
             ],
             [
              1,
              "#fde725"
             ]
            ],
            "type": "surface"
           }
          ],
          "table": [
           {
            "cells": {
             "fill": {
              "color": "rgb(237,237,237)"
             },
             "line": {
              "color": "white"
             }
            },
            "header": {
             "fill": {
              "color": "rgb(217,217,217)"
             },
             "line": {
              "color": "white"
             }
            },
            "type": "table"
           }
          ]
         },
         "layout": {
          "annotationdefaults": {
           "arrowhead": 0,
           "arrowwidth": 1
          },
          "autotypenumbers": "strict",
          "coloraxis": {
           "colorbar": {
            "outlinewidth": 1,
            "tickcolor": "rgb(36,36,36)",
            "ticks": "outside"
           }
          },
          "colorscale": {
           "diverging": [
            [
             0,
             "rgb(103,0,31)"
            ],
            [
             0.1,
             "rgb(178,24,43)"
            ],
            [
             0.2,
             "rgb(214,96,77)"
            ],
            [
             0.3,
             "rgb(244,165,130)"
            ],
            [
             0.4,
             "rgb(253,219,199)"
            ],
            [
             0.5,
             "rgb(247,247,247)"
            ],
            [
             0.6,
             "rgb(209,229,240)"
            ],
            [
             0.7,
             "rgb(146,197,222)"
            ],
            [
             0.8,
             "rgb(67,147,195)"
            ],
            [
             0.9,
             "rgb(33,102,172)"
            ],
            [
             1,
             "rgb(5,48,97)"
            ]
           ],
           "sequential": [
            [
             0,
             "#440154"
            ],
            [
             0.1111111111111111,
             "#482878"
            ],
            [
             0.2222222222222222,
             "#3e4989"
            ],
            [
             0.3333333333333333,
             "#31688e"
            ],
            [
             0.4444444444444444,
             "#26828e"
            ],
            [
             0.5555555555555556,
             "#1f9e89"
            ],
            [
             0.6666666666666666,
             "#35b779"
            ],
            [
             0.7777777777777778,
             "#6ece58"
            ],
            [
             0.8888888888888888,
             "#b5de2b"
            ],
            [
             1,
             "#fde725"
            ]
           ],
           "sequentialminus": [
            [
             0,
             "#440154"
            ],
            [
             0.1111111111111111,
             "#482878"
            ],
            [
             0.2222222222222222,
             "#3e4989"
            ],
            [
             0.3333333333333333,
             "#31688e"
            ],
            [
             0.4444444444444444,
             "#26828e"
            ],
            [
             0.5555555555555556,
             "#1f9e89"
            ],
            [
             0.6666666666666666,
             "#35b779"
            ],
            [
             0.7777777777777778,
             "#6ece58"
            ],
            [
             0.8888888888888888,
             "#b5de2b"
            ],
            [
             1,
             "#fde725"
            ]
           ]
          },
          "colorway": [
           "#1F77B4",
           "#FF7F0E",
           "#2CA02C",
           "#D62728",
           "#9467BD",
           "#8C564B",
           "#E377C2",
           "#7F7F7F",
           "#BCBD22",
           "#17BECF"
          ],
          "font": {
           "color": "rgb(36,36,36)"
          },
          "geo": {
           "bgcolor": "white",
           "lakecolor": "white",
           "landcolor": "white",
           "showlakes": true,
           "showland": true,
           "subunitcolor": "white"
          },
          "hoverlabel": {
           "align": "left"
          },
          "hovermode": "closest",
          "mapbox": {
           "style": "light"
          },
          "paper_bgcolor": "white",
          "plot_bgcolor": "white",
          "polar": {
           "angularaxis": {
            "gridcolor": "rgb(232,232,232)",
            "linecolor": "rgb(36,36,36)",
            "showgrid": false,
            "showline": true,
            "ticks": "outside"
           },
           "bgcolor": "white",
           "radialaxis": {
            "gridcolor": "rgb(232,232,232)",
            "linecolor": "rgb(36,36,36)",
            "showgrid": false,
            "showline": true,
            "ticks": "outside"
           }
          },
          "scene": {
           "xaxis": {
            "backgroundcolor": "white",
            "gridcolor": "rgb(232,232,232)",
            "gridwidth": 2,
            "linecolor": "rgb(36,36,36)",
            "showbackground": true,
            "showgrid": false,
            "showline": true,
            "ticks": "outside",
            "zeroline": false,
            "zerolinecolor": "rgb(36,36,36)"
           },
           "yaxis": {
            "backgroundcolor": "white",
            "gridcolor": "rgb(232,232,232)",
            "gridwidth": 2,
            "linecolor": "rgb(36,36,36)",
            "showbackground": true,
            "showgrid": false,
            "showline": true,
            "ticks": "outside",
            "zeroline": false,
            "zerolinecolor": "rgb(36,36,36)"
           },
           "zaxis": {
            "backgroundcolor": "white",
            "gridcolor": "rgb(232,232,232)",
            "gridwidth": 2,
            "linecolor": "rgb(36,36,36)",
            "showbackground": true,
            "showgrid": false,
            "showline": true,
            "ticks": "outside",
            "zeroline": false,
            "zerolinecolor": "rgb(36,36,36)"
           }
          },
          "shapedefaults": {
           "fillcolor": "black",
           "line": {
            "width": 0
           },
           "opacity": 0.3
          },
          "ternary": {
           "aaxis": {
            "gridcolor": "rgb(232,232,232)",
            "linecolor": "rgb(36,36,36)",
            "showgrid": false,
            "showline": true,
            "ticks": "outside"
           },
           "baxis": {
            "gridcolor": "rgb(232,232,232)",
            "linecolor": "rgb(36,36,36)",
            "showgrid": false,
            "showline": true,
            "ticks": "outside"
           },
           "bgcolor": "white",
           "caxis": {
            "gridcolor": "rgb(232,232,232)",
            "linecolor": "rgb(36,36,36)",
            "showgrid": false,
            "showline": true,
            "ticks": "outside"
           }
          },
          "title": {
           "x": 0.05
          },
          "xaxis": {
           "automargin": true,
           "gridcolor": "rgb(232,232,232)",
           "linecolor": "rgb(36,36,36)",
           "showgrid": false,
           "showline": true,
           "ticks": "outside",
           "title": {
            "standoff": 15
           },
           "zeroline": false,
           "zerolinecolor": "rgb(36,36,36)"
          },
          "yaxis": {
           "automargin": true,
           "gridcolor": "rgb(232,232,232)",
           "linecolor": "rgb(36,36,36)",
           "showgrid": false,
           "showline": true,
           "ticks": "outside",
           "title": {
            "standoff": 15
           },
           "zeroline": false,
           "zerolinecolor": "rgb(36,36,36)"
          }
         }
        },
        "title": {
         "font": {
          "color": "Black",
          "size": 22
         },
         "text": "Topics Over Time for 2023Q4",
         "x": 0.4,
         "xanchor": "center",
         "y": 0.95,
         "yanchor": "top"
        },
        "width": 1250,
        "xaxis": {
         "showgrid": true
        },
        "yaxis": {
         "showgrid": true,
         "title": {
          "text": "Frequency"
         }
        }
       }
      }
     },
     "metadata": {},
     "output_type": "display_data"
    },
    {
     "data": {
      "application/vnd.plotly.v1+json": {
       "config": {
        "plotlyServerURL": "https://plot.ly"
       },
       "data": [
        {
         "hoverinfo": "text",
         "hovertext": [
          "<b>Topic 0</b><br>Words: papua, mahfud, lalu, miskin, ganjar",
          "<b>Topic 0</b><br>Words: papua, lalu, bagai, beasiswa, tingkat",
          "<b>Topic 0</b><br>Words: papua, lalu, bagai, beasiswa, tingkat",
          "<b>Topic 0</b><br>Words: papua, lalu, beasiswa, bagai, tingkat"
         ],
         "marker": {
          "color": "#E69F00"
         },
         "mode": "lines",
         "name": "0_papua_lalu_mahfud_tingkat",
         "type": "scatter",
         "x": [
          "2024-01-30T02:05:00.180999+00:00",
          "2024-02-29T09:03:53.500000+00:00",
          "2024-03-02T09:26:00.800000+00:00",
          "2024-03-12T11:16:37.300000+00:00"
         ],
         "y": [
          13,
          3,
          6,
          1
         ]
        },
        {
         "hoverinfo": "text",
         "hovertext": [
          "<b>Topic 1</b><br>Words: ganjar, sejahtera, pranowo, lebih, indonesia",
          "<b>Topic 1</b><br>Words: korban, kalo, makan, mulu, terusterusan",
          "<b>Topic 1</b><br>Words: enggak, jadi, guru, buat, gratis",
          "<b>Topic 1</b><br>Words: pg, rencana, nyata, guru, prabowogibran",
          "<b>Topic 1</b><br>Words: gratis, jadi, ganjar, dana, buat",
          "<b>Topic 1</b><br>Words: ganjar, lebih, enggak, rakyat, buat",
          "<b>Topic 1</b><br>Words: ganjar, indonesia, enggak, sejahtera, rakyat",
          "<b>Topic 1</b><br>Words: ganjar, lebih, indonesia, enggak, jadi",
          "<b>Topic 1</b><br>Words: kjmu, anies, makan, anak, enggak",
          "<b>Topic 1</b><br>Words: sejahtera, ganjar, royal, wahabi, families",
          "<b>Topic 1</b><br>Words: ganjar, lebih, enggak, kasih, indonesia",
          "<b>Topic 1</b><br>Words: indonesia, felt, lebih, jadi, guru",
          "<b>Topic 1</b><br>Words: indonesia, ganjar, komite, kak, rakyat",
          "<b>Topic 1</b><br>Words: enggak, rakyat, merdeka, negara, ganti",
          "<b>Topic 1</b><br>Words: enggak, aku, terus, banget, sekolah",
          "<b>Topic 1</b><br>Words: temu, tni, tahan, bahas, terima",
          "<b>Topic 1</b><br>Words: sekolah, mbak, kurikulum, lebih, indonesia",
          "<b>Topic 1</b><br>Words: pil, unnes, uny, teknologi, inflasi"
         ],
         "marker": {
          "color": "#56B4E9"
         },
         "mode": "lines",
         "name": "1_ganjar_lebih_indonesia_enggak",
         "type": "scatter",
         "x": [
          "2024-01-30T02:05:00.180999+00:00",
          "2024-02-25T08:19:38.900000+00:00",
          "2024-02-27T08:41:46.200000+00:00",
          "2024-02-29T09:03:53.500000+00:00",
          "2024-03-02T09:26:00.800000+00:00",
          "2024-03-04T09:48:08.100000+00:00",
          "2024-03-06T10:10:15.400000+00:00",
          "2024-03-08T10:32:22.700000+00:00",
          "2024-03-10T10:54:30+00:00",
          "2024-03-12T11:16:37.300000+00:00",
          "2024-03-14T11:38:44.600000+00:00",
          "2024-03-16T12:00:51.900000+00:00",
          "2024-03-18T12:22:59.200000+00:00",
          "2024-03-20T12:45:06.500000+00:00",
          "2024-03-22T13:07:13.800000+00:00",
          "2024-03-24T13:29:21.100000+00:00",
          "2024-03-26T13:51:28.400000+00:00",
          "2024-03-28T14:13:35.700000+00:00"
         ],
         "y": [
          56,
          3,
          19,
          1,
          16,
          23,
          27,
          15,
          10,
          10,
          11,
          8,
          8,
          15,
          10,
          6,
          10,
          10
         ]
        }
       ],
       "layout": {
        "height": 450,
        "hoverlabel": {
         "bgcolor": "white",
         "font": {
          "family": "Rockwell",
          "size": 16
         }
        },
        "legend": {
         "title": {
          "text": "<b>Global Topic Representation"
         }
        },
        "template": {
         "data": {
          "bar": [
           {
            "error_x": {
             "color": "rgb(36,36,36)"
            },
            "error_y": {
             "color": "rgb(36,36,36)"
            },
            "marker": {
             "line": {
              "color": "white",
              "width": 0.5
             },
             "pattern": {
              "fillmode": "overlay",
              "size": 10,
              "solidity": 0.2
             }
            },
            "type": "bar"
           }
          ],
          "barpolar": [
           {
            "marker": {
             "line": {
              "color": "white",
              "width": 0.5
             },
             "pattern": {
              "fillmode": "overlay",
              "size": 10,
              "solidity": 0.2
             }
            },
            "type": "barpolar"
           }
          ],
          "carpet": [
           {
            "aaxis": {
             "endlinecolor": "rgb(36,36,36)",
             "gridcolor": "white",
             "linecolor": "white",
             "minorgridcolor": "white",
             "startlinecolor": "rgb(36,36,36)"
            },
            "baxis": {
             "endlinecolor": "rgb(36,36,36)",
             "gridcolor": "white",
             "linecolor": "white",
             "minorgridcolor": "white",
             "startlinecolor": "rgb(36,36,36)"
            },
            "type": "carpet"
           }
          ],
          "choropleth": [
           {
            "colorbar": {
             "outlinewidth": 1,
             "tickcolor": "rgb(36,36,36)",
             "ticks": "outside"
            },
            "type": "choropleth"
           }
          ],
          "contour": [
           {
            "colorbar": {
             "outlinewidth": 1,
             "tickcolor": "rgb(36,36,36)",
             "ticks": "outside"
            },
            "colorscale": [
             [
              0,
              "#440154"
             ],
             [
              0.1111111111111111,
              "#482878"
             ],
             [
              0.2222222222222222,
              "#3e4989"
             ],
             [
              0.3333333333333333,
              "#31688e"
             ],
             [
              0.4444444444444444,
              "#26828e"
             ],
             [
              0.5555555555555556,
              "#1f9e89"
             ],
             [
              0.6666666666666666,
              "#35b779"
             ],
             [
              0.7777777777777778,
              "#6ece58"
             ],
             [
              0.8888888888888888,
              "#b5de2b"
             ],
             [
              1,
              "#fde725"
             ]
            ],
            "type": "contour"
           }
          ],
          "contourcarpet": [
           {
            "colorbar": {
             "outlinewidth": 1,
             "tickcolor": "rgb(36,36,36)",
             "ticks": "outside"
            },
            "type": "contourcarpet"
           }
          ],
          "heatmap": [
           {
            "colorbar": {
             "outlinewidth": 1,
             "tickcolor": "rgb(36,36,36)",
             "ticks": "outside"
            },
            "colorscale": [
             [
              0,
              "#440154"
             ],
             [
              0.1111111111111111,
              "#482878"
             ],
             [
              0.2222222222222222,
              "#3e4989"
             ],
             [
              0.3333333333333333,
              "#31688e"
             ],
             [
              0.4444444444444444,
              "#26828e"
             ],
             [
              0.5555555555555556,
              "#1f9e89"
             ],
             [
              0.6666666666666666,
              "#35b779"
             ],
             [
              0.7777777777777778,
              "#6ece58"
             ],
             [
              0.8888888888888888,
              "#b5de2b"
             ],
             [
              1,
              "#fde725"
             ]
            ],
            "type": "heatmap"
           }
          ],
          "heatmapgl": [
           {
            "colorbar": {
             "outlinewidth": 1,
             "tickcolor": "rgb(36,36,36)",
             "ticks": "outside"
            },
            "colorscale": [
             [
              0,
              "#440154"
             ],
             [
              0.1111111111111111,
              "#482878"
             ],
             [
              0.2222222222222222,
              "#3e4989"
             ],
             [
              0.3333333333333333,
              "#31688e"
             ],
             [
              0.4444444444444444,
              "#26828e"
             ],
             [
              0.5555555555555556,
              "#1f9e89"
             ],
             [
              0.6666666666666666,
              "#35b779"
             ],
             [
              0.7777777777777778,
              "#6ece58"
             ],
             [
              0.8888888888888888,
              "#b5de2b"
             ],
             [
              1,
              "#fde725"
             ]
            ],
            "type": "heatmapgl"
           }
          ],
          "histogram": [
           {
            "marker": {
             "line": {
              "color": "white",
              "width": 0.6
             }
            },
            "type": "histogram"
           }
          ],
          "histogram2d": [
           {
            "colorbar": {
             "outlinewidth": 1,
             "tickcolor": "rgb(36,36,36)",
             "ticks": "outside"
            },
            "colorscale": [
             [
              0,
              "#440154"
             ],
             [
              0.1111111111111111,
              "#482878"
             ],
             [
              0.2222222222222222,
              "#3e4989"
             ],
             [
              0.3333333333333333,
              "#31688e"
             ],
             [
              0.4444444444444444,
              "#26828e"
             ],
             [
              0.5555555555555556,
              "#1f9e89"
             ],
             [
              0.6666666666666666,
              "#35b779"
             ],
             [
              0.7777777777777778,
              "#6ece58"
             ],
             [
              0.8888888888888888,
              "#b5de2b"
             ],
             [
              1,
              "#fde725"
             ]
            ],
            "type": "histogram2d"
           }
          ],
          "histogram2dcontour": [
           {
            "colorbar": {
             "outlinewidth": 1,
             "tickcolor": "rgb(36,36,36)",
             "ticks": "outside"
            },
            "colorscale": [
             [
              0,
              "#440154"
             ],
             [
              0.1111111111111111,
              "#482878"
             ],
             [
              0.2222222222222222,
              "#3e4989"
             ],
             [
              0.3333333333333333,
              "#31688e"
             ],
             [
              0.4444444444444444,
              "#26828e"
             ],
             [
              0.5555555555555556,
              "#1f9e89"
             ],
             [
              0.6666666666666666,
              "#35b779"
             ],
             [
              0.7777777777777778,
              "#6ece58"
             ],
             [
              0.8888888888888888,
              "#b5de2b"
             ],
             [
              1,
              "#fde725"
             ]
            ],
            "type": "histogram2dcontour"
           }
          ],
          "mesh3d": [
           {
            "colorbar": {
             "outlinewidth": 1,
             "tickcolor": "rgb(36,36,36)",
             "ticks": "outside"
            },
            "type": "mesh3d"
           }
          ],
          "parcoords": [
           {
            "line": {
             "colorbar": {
              "outlinewidth": 1,
              "tickcolor": "rgb(36,36,36)",
              "ticks": "outside"
             }
            },
            "type": "parcoords"
           }
          ],
          "pie": [
           {
            "automargin": true,
            "type": "pie"
           }
          ],
          "scatter": [
           {
            "fillpattern": {
             "fillmode": "overlay",
             "size": 10,
             "solidity": 0.2
            },
            "type": "scatter"
           }
          ],
          "scatter3d": [
           {
            "line": {
             "colorbar": {
              "outlinewidth": 1,
              "tickcolor": "rgb(36,36,36)",
              "ticks": "outside"
             }
            },
            "marker": {
             "colorbar": {
              "outlinewidth": 1,
              "tickcolor": "rgb(36,36,36)",
              "ticks": "outside"
             }
            },
            "type": "scatter3d"
           }
          ],
          "scattercarpet": [
           {
            "marker": {
             "colorbar": {
              "outlinewidth": 1,
              "tickcolor": "rgb(36,36,36)",
              "ticks": "outside"
             }
            },
            "type": "scattercarpet"
           }
          ],
          "scattergeo": [
           {
            "marker": {
             "colorbar": {
              "outlinewidth": 1,
              "tickcolor": "rgb(36,36,36)",
              "ticks": "outside"
             }
            },
            "type": "scattergeo"
           }
          ],
          "scattergl": [
           {
            "marker": {
             "colorbar": {
              "outlinewidth": 1,
              "tickcolor": "rgb(36,36,36)",
              "ticks": "outside"
             }
            },
            "type": "scattergl"
           }
          ],
          "scattermapbox": [
           {
            "marker": {
             "colorbar": {
              "outlinewidth": 1,
              "tickcolor": "rgb(36,36,36)",
              "ticks": "outside"
             }
            },
            "type": "scattermapbox"
           }
          ],
          "scatterpolar": [
           {
            "marker": {
             "colorbar": {
              "outlinewidth": 1,
              "tickcolor": "rgb(36,36,36)",
              "ticks": "outside"
             }
            },
            "type": "scatterpolar"
           }
          ],
          "scatterpolargl": [
           {
            "marker": {
             "colorbar": {
              "outlinewidth": 1,
              "tickcolor": "rgb(36,36,36)",
              "ticks": "outside"
             }
            },
            "type": "scatterpolargl"
           }
          ],
          "scatterternary": [
           {
            "marker": {
             "colorbar": {
              "outlinewidth": 1,
              "tickcolor": "rgb(36,36,36)",
              "ticks": "outside"
             }
            },
            "type": "scatterternary"
           }
          ],
          "surface": [
           {
            "colorbar": {
             "outlinewidth": 1,
             "tickcolor": "rgb(36,36,36)",
             "ticks": "outside"
            },
            "colorscale": [
             [
              0,
              "#440154"
             ],
             [
              0.1111111111111111,
              "#482878"
             ],
             [
              0.2222222222222222,
              "#3e4989"
             ],
             [
              0.3333333333333333,
              "#31688e"
             ],
             [
              0.4444444444444444,
              "#26828e"
             ],
             [
              0.5555555555555556,
              "#1f9e89"
             ],
             [
              0.6666666666666666,
              "#35b779"
             ],
             [
              0.7777777777777778,
              "#6ece58"
             ],
             [
              0.8888888888888888,
              "#b5de2b"
             ],
             [
              1,
              "#fde725"
             ]
            ],
            "type": "surface"
           }
          ],
          "table": [
           {
            "cells": {
             "fill": {
              "color": "rgb(237,237,237)"
             },
             "line": {
              "color": "white"
             }
            },
            "header": {
             "fill": {
              "color": "rgb(217,217,217)"
             },
             "line": {
              "color": "white"
             }
            },
            "type": "table"
           }
          ]
         },
         "layout": {
          "annotationdefaults": {
           "arrowhead": 0,
           "arrowwidth": 1
          },
          "autotypenumbers": "strict",
          "coloraxis": {
           "colorbar": {
            "outlinewidth": 1,
            "tickcolor": "rgb(36,36,36)",
            "ticks": "outside"
           }
          },
          "colorscale": {
           "diverging": [
            [
             0,
             "rgb(103,0,31)"
            ],
            [
             0.1,
             "rgb(178,24,43)"
            ],
            [
             0.2,
             "rgb(214,96,77)"
            ],
            [
             0.3,
             "rgb(244,165,130)"
            ],
            [
             0.4,
             "rgb(253,219,199)"
            ],
            [
             0.5,
             "rgb(247,247,247)"
            ],
            [
             0.6,
             "rgb(209,229,240)"
            ],
            [
             0.7,
             "rgb(146,197,222)"
            ],
            [
             0.8,
             "rgb(67,147,195)"
            ],
            [
             0.9,
             "rgb(33,102,172)"
            ],
            [
             1,
             "rgb(5,48,97)"
            ]
           ],
           "sequential": [
            [
             0,
             "#440154"
            ],
            [
             0.1111111111111111,
             "#482878"
            ],
            [
             0.2222222222222222,
             "#3e4989"
            ],
            [
             0.3333333333333333,
             "#31688e"
            ],
            [
             0.4444444444444444,
             "#26828e"
            ],
            [
             0.5555555555555556,
             "#1f9e89"
            ],
            [
             0.6666666666666666,
             "#35b779"
            ],
            [
             0.7777777777777778,
             "#6ece58"
            ],
            [
             0.8888888888888888,
             "#b5de2b"
            ],
            [
             1,
             "#fde725"
            ]
           ],
           "sequentialminus": [
            [
             0,
             "#440154"
            ],
            [
             0.1111111111111111,
             "#482878"
            ],
            [
             0.2222222222222222,
             "#3e4989"
            ],
            [
             0.3333333333333333,
             "#31688e"
            ],
            [
             0.4444444444444444,
             "#26828e"
            ],
            [
             0.5555555555555556,
             "#1f9e89"
            ],
            [
             0.6666666666666666,
             "#35b779"
            ],
            [
             0.7777777777777778,
             "#6ece58"
            ],
            [
             0.8888888888888888,
             "#b5de2b"
            ],
            [
             1,
             "#fde725"
            ]
           ]
          },
          "colorway": [
           "#1F77B4",
           "#FF7F0E",
           "#2CA02C",
           "#D62728",
           "#9467BD",
           "#8C564B",
           "#E377C2",
           "#7F7F7F",
           "#BCBD22",
           "#17BECF"
          ],
          "font": {
           "color": "rgb(36,36,36)"
          },
          "geo": {
           "bgcolor": "white",
           "lakecolor": "white",
           "landcolor": "white",
           "showlakes": true,
           "showland": true,
           "subunitcolor": "white"
          },
          "hoverlabel": {
           "align": "left"
          },
          "hovermode": "closest",
          "mapbox": {
           "style": "light"
          },
          "paper_bgcolor": "white",
          "plot_bgcolor": "white",
          "polar": {
           "angularaxis": {
            "gridcolor": "rgb(232,232,232)",
            "linecolor": "rgb(36,36,36)",
            "showgrid": false,
            "showline": true,
            "ticks": "outside"
           },
           "bgcolor": "white",
           "radialaxis": {
            "gridcolor": "rgb(232,232,232)",
            "linecolor": "rgb(36,36,36)",
            "showgrid": false,
            "showline": true,
            "ticks": "outside"
           }
          },
          "scene": {
           "xaxis": {
            "backgroundcolor": "white",
            "gridcolor": "rgb(232,232,232)",
            "gridwidth": 2,
            "linecolor": "rgb(36,36,36)",
            "showbackground": true,
            "showgrid": false,
            "showline": true,
            "ticks": "outside",
            "zeroline": false,
            "zerolinecolor": "rgb(36,36,36)"
           },
           "yaxis": {
            "backgroundcolor": "white",
            "gridcolor": "rgb(232,232,232)",
            "gridwidth": 2,
            "linecolor": "rgb(36,36,36)",
            "showbackground": true,
            "showgrid": false,
            "showline": true,
            "ticks": "outside",
            "zeroline": false,
            "zerolinecolor": "rgb(36,36,36)"
           },
           "zaxis": {
            "backgroundcolor": "white",
            "gridcolor": "rgb(232,232,232)",
            "gridwidth": 2,
            "linecolor": "rgb(36,36,36)",
            "showbackground": true,
            "showgrid": false,
            "showline": true,
            "ticks": "outside",
            "zeroline": false,
            "zerolinecolor": "rgb(36,36,36)"
           }
          },
          "shapedefaults": {
           "fillcolor": "black",
           "line": {
            "width": 0
           },
           "opacity": 0.3
          },
          "ternary": {
           "aaxis": {
            "gridcolor": "rgb(232,232,232)",
            "linecolor": "rgb(36,36,36)",
            "showgrid": false,
            "showline": true,
            "ticks": "outside"
           },
           "baxis": {
            "gridcolor": "rgb(232,232,232)",
            "linecolor": "rgb(36,36,36)",
            "showgrid": false,
            "showline": true,
            "ticks": "outside"
           },
           "bgcolor": "white",
           "caxis": {
            "gridcolor": "rgb(232,232,232)",
            "linecolor": "rgb(36,36,36)",
            "showgrid": false,
            "showline": true,
            "ticks": "outside"
           }
          },
          "title": {
           "x": 0.05
          },
          "xaxis": {
           "automargin": true,
           "gridcolor": "rgb(232,232,232)",
           "linecolor": "rgb(36,36,36)",
           "showgrid": false,
           "showline": true,
           "ticks": "outside",
           "title": {
            "standoff": 15
           },
           "zeroline": false,
           "zerolinecolor": "rgb(36,36,36)"
          },
          "yaxis": {
           "automargin": true,
           "gridcolor": "rgb(232,232,232)",
           "linecolor": "rgb(36,36,36)",
           "showgrid": false,
           "showline": true,
           "ticks": "outside",
           "title": {
            "standoff": 15
           },
           "zeroline": false,
           "zerolinecolor": "rgb(36,36,36)"
          }
         }
        },
        "title": {
         "font": {
          "color": "Black",
          "size": 22
         },
         "text": "Topics Over Time for 2024Q1",
         "x": 0.4,
         "xanchor": "center",
         "y": 0.95,
         "yanchor": "top"
        },
        "width": 1250,
        "xaxis": {
         "showgrid": true
        },
        "yaxis": {
         "showgrid": true,
         "title": {
          "text": "Frequency"
         }
        }
       }
      }
     },
     "metadata": {},
     "output_type": "display_data"
    },
    {
     "data": {
      "application/vnd.plotly.v1+json": {
       "config": {
        "plotlyServerURL": "https://plot.ly"
       },
       "data": [
        {
         "hoverinfo": "text",
         "hovertext": [
          "<b>Topic 0</b><br>Words: indonesia, aco, kepala, bup, se",
          "<b>Topic 0</b><br>Words: indonesia, literasi, tuju, sangat, laman",
          "<b>Topic 0</b><br>Words: indonesia, banyak, cakap, certified, complainer",
          "<b>Topic 0</b><br>Words: mulai, indonesia, lingkup, maju, cara",
          "<b>Topic 0</b><br>Words: indonesia, administrasi, guru, guruguru, sibuk",
          "<b>Topic 0</b><br>Words: gerhana, matahari, darurat, mentingin, redup",
          "<b>Topic 0</b><br>Words: ngawur, ajurrrrrrr, puoooollllll, paham, indonesia",
          "<b>Topic 0</b><br>Words: baru, beban, kontroversi, indonesia, lama",
          "<b>Topic 0</b><br>Words: benar, duka, cita, indonesia, turut",
          "<b>Topic 0</b><br>Words: hingga, kelas, gratis, indonesia, sekolah",
          "<b>Topic 0</b><br>Words: direktorat, tengah, kembang, upt, dashboard",
          "<b>Topic 0</b><br>Words: felt, indonesia, call, kirim, paper",
          "<b>Topic 0</b><br>Words: ubah, kurun, cepat, indonesia, waktu",
          "<b>Topic 0</b><br>Words: indonesia, bimbel, bikin, jangan, tuh",
          "<b>Topic 0</b><br>Words: indonesia, arah, guru, hidup, mahasiswa",
          "<b>Topic 0</b><br>Words: indonesia, trhdp, berapa, malaysia, jalan"
         ],
         "marker": {
          "color": "#E69F00"
         },
         "mode": "lines",
         "name": "0_indonesia_menteri_guru_bikin",
         "type": "scatter",
         "x": [
          "2024-04-01T00:20:02.700000+00:00",
          "2024-04-02T23:20:57.333333+00:00",
          "2024-04-03T22:30:34+00:00",
          "2024-04-08T18:18:37.333333+00:00",
          "2024-04-10T16:37:50.666666+00:00",
          "2024-04-11T15:47:27.333333+00:00",
          "2024-04-13T14:06:40.666666+00:00",
          "2024-04-15T12:25:54+00:00",
          "2024-04-16T11:35:30.666666+00:00",
          "2024-04-19T09:04:20.666666+00:00",
          "2024-04-20T08:13:57.333333+00:00",
          "2024-04-24T04:52:24+00:00",
          "2024-04-25T04:02:00.666666+00:00",
          "2024-04-27T02:21:14+00:00",
          "2024-04-28T01:30:50.666666+00:00",
          "2024-04-29T00:40:27.333333+00:00"
         ],
         "y": [
          2,
          2,
          2,
          1,
          2,
          1,
          1,
          1,
          1,
          1,
          1,
          1,
          1,
          2,
          3,
          1
         ]
        },
        {
         "hoverinfo": "text",
         "hovertext": [
          "<b>Topic 1</b><br>Words: pramuka, enggak, buat, wajib, nadiem",
          "<b>Topic 1</b><br>Words: pramuka, wajib, hapus, riset, cabut",
          "<b>Topic 1</b><br>Words: kali, komisi, menteri, evaluasi, dpr",
          "<b>Topic 1</b><br>Words: enggak, pramuka, pns, hapus, perintah",
          "<b>Topic 1</b><br>Words: budaya, riset, pramuka, jatim, kemendikbudristek",
          "<b>Topic 1</b><br>Words: kebahasaaan, simpati, audiens, tinjau, dominan",
          "<b>Topic 1</b><br>Words: ramadhan, hukum, negara, program, semester",
          "<b>Topic 1</b><br>Words: jangan, buat, gaya, endingnya, tele",
          "<b>Topic 1</b><br>Words: topik, rakyat, perintah, buat, jadi",
          "<b>Topic 1</b><br>Words: kuliah, prajab, gt, ppg, terus",
          "<b>Topic 1</b><br>Words: buat, makin, menteri, semua, enggak",
          "<b>Topic 1</b><br>Words: bikin, enggak, seragam, menteri, banyak",
          "<b>Topic 1</b><br>Words: jadi, masalah, atur, sih, memang",
          "<b>Topic 1</b><br>Words: jadi, enggak, tempat, ahli, hukum",
          "<b>Topic 1</b><br>Words: kurikulum, ganti, orang, lebih, lintas",
          "<b>Topic 1</b><br>Words: rasa, nadiem, menteri, nakes, kubur",
          "<b>Topic 1</b><br>Words: upnvj, seragam, dpp, jadi, kota",
          "<b>Topic 1</b><br>Words: diy, rencana, efektif, buku, ambil",
          "<b>Topic 1</b><br>Words: muat, agam, betul, berani, alternatif",
          "<b>Topic 1</b><br>Words: antah, buat, biaya, mesin, pribadi",
          "<b>Topic 1</b><br>Words: sama, penting, negara, tak, gratis",
          "<b>Topic 1</b><br>Words: plus, adopsi, merdeka, ikn, ajar",
          "<b>Topic 1</b><br>Words: proletariat, kent, state, potong, reagan",
          "<b>Topic 1</b><br>Words: tarik, lemdiklat, polri, vokasi, banding",
          "<b>Topic 1</b><br>Words: hari, buat, perintah, mei, negara",
          "<b>Topic 1</b><br>Words: tinggi, amp, dokter, buat, macbook",
          "<b>Topic 1</b><br>Words: satu, perintah, kipk, inggris, ngotak"
         ],
         "marker": {
          "color": "#56B4E9"
         },
         "mode": "lines",
         "name": "1_enggak_jadi_buat_pramuka",
         "type": "scatter",
         "x": [
          "2024-04-01T00:20:02.700000+00:00",
          "2024-04-02T00:11:20.666666+00:00",
          "2024-04-02T23:20:57.333333+00:00",
          "2024-04-03T22:30:34+00:00",
          "2024-04-04T21:40:10.666666+00:00",
          "2024-04-05T20:49:47.333333+00:00",
          "2024-04-06T19:59:24+00:00",
          "2024-04-07T19:09:00.666666+00:00",
          "2024-04-08T18:18:37.333333+00:00",
          "2024-04-09T17:28:14+00:00",
          "2024-04-10T16:37:50.666666+00:00",
          "2024-04-11T15:47:27.333333+00:00",
          "2024-04-12T14:57:04+00:00",
          "2024-04-13T14:06:40.666666+00:00",
          "2024-04-14T13:16:17.333333+00:00",
          "2024-04-15T12:25:54+00:00",
          "2024-04-16T11:35:30.666666+00:00",
          "2024-04-17T10:45:07.333333+00:00",
          "2024-04-18T09:54:44+00:00",
          "2024-04-19T09:04:20.666666+00:00",
          "2024-04-20T08:13:57.333333+00:00",
          "2024-04-21T07:23:34+00:00",
          "2024-04-24T04:52:24+00:00",
          "2024-04-25T04:02:00.666666+00:00",
          "2024-04-27T02:21:14+00:00",
          "2024-04-28T01:30:50.666666+00:00",
          "2024-04-29T00:40:27.333333+00:00"
         ],
         "y": [
          10,
          7,
          7,
          10,
          4,
          1,
          3,
          6,
          3,
          4,
          10,
          11,
          6,
          6,
          7,
          5,
          6,
          4,
          4,
          3,
          3,
          4,
          1,
          7,
          9,
          6,
          6
         ]
        }
       ],
       "layout": {
        "height": 450,
        "hoverlabel": {
         "bgcolor": "white",
         "font": {
          "family": "Rockwell",
          "size": 16
         }
        },
        "legend": {
         "title": {
          "text": "<b>Global Topic Representation"
         }
        },
        "template": {
         "data": {
          "bar": [
           {
            "error_x": {
             "color": "rgb(36,36,36)"
            },
            "error_y": {
             "color": "rgb(36,36,36)"
            },
            "marker": {
             "line": {
              "color": "white",
              "width": 0.5
             },
             "pattern": {
              "fillmode": "overlay",
              "size": 10,
              "solidity": 0.2
             }
            },
            "type": "bar"
           }
          ],
          "barpolar": [
           {
            "marker": {
             "line": {
              "color": "white",
              "width": 0.5
             },
             "pattern": {
              "fillmode": "overlay",
              "size": 10,
              "solidity": 0.2
             }
            },
            "type": "barpolar"
           }
          ],
          "carpet": [
           {
            "aaxis": {
             "endlinecolor": "rgb(36,36,36)",
             "gridcolor": "white",
             "linecolor": "white",
             "minorgridcolor": "white",
             "startlinecolor": "rgb(36,36,36)"
            },
            "baxis": {
             "endlinecolor": "rgb(36,36,36)",
             "gridcolor": "white",
             "linecolor": "white",
             "minorgridcolor": "white",
             "startlinecolor": "rgb(36,36,36)"
            },
            "type": "carpet"
           }
          ],
          "choropleth": [
           {
            "colorbar": {
             "outlinewidth": 1,
             "tickcolor": "rgb(36,36,36)",
             "ticks": "outside"
            },
            "type": "choropleth"
           }
          ],
          "contour": [
           {
            "colorbar": {
             "outlinewidth": 1,
             "tickcolor": "rgb(36,36,36)",
             "ticks": "outside"
            },
            "colorscale": [
             [
              0,
              "#440154"
             ],
             [
              0.1111111111111111,
              "#482878"
             ],
             [
              0.2222222222222222,
              "#3e4989"
             ],
             [
              0.3333333333333333,
              "#31688e"
             ],
             [
              0.4444444444444444,
              "#26828e"
             ],
             [
              0.5555555555555556,
              "#1f9e89"
             ],
             [
              0.6666666666666666,
              "#35b779"
             ],
             [
              0.7777777777777778,
              "#6ece58"
             ],
             [
              0.8888888888888888,
              "#b5de2b"
             ],
             [
              1,
              "#fde725"
             ]
            ],
            "type": "contour"
           }
          ],
          "contourcarpet": [
           {
            "colorbar": {
             "outlinewidth": 1,
             "tickcolor": "rgb(36,36,36)",
             "ticks": "outside"
            },
            "type": "contourcarpet"
           }
          ],
          "heatmap": [
           {
            "colorbar": {
             "outlinewidth": 1,
             "tickcolor": "rgb(36,36,36)",
             "ticks": "outside"
            },
            "colorscale": [
             [
              0,
              "#440154"
             ],
             [
              0.1111111111111111,
              "#482878"
             ],
             [
              0.2222222222222222,
              "#3e4989"
             ],
             [
              0.3333333333333333,
              "#31688e"
             ],
             [
              0.4444444444444444,
              "#26828e"
             ],
             [
              0.5555555555555556,
              "#1f9e89"
             ],
             [
              0.6666666666666666,
              "#35b779"
             ],
             [
              0.7777777777777778,
              "#6ece58"
             ],
             [
              0.8888888888888888,
              "#b5de2b"
             ],
             [
              1,
              "#fde725"
             ]
            ],
            "type": "heatmap"
           }
          ],
          "heatmapgl": [
           {
            "colorbar": {
             "outlinewidth": 1,
             "tickcolor": "rgb(36,36,36)",
             "ticks": "outside"
            },
            "colorscale": [
             [
              0,
              "#440154"
             ],
             [
              0.1111111111111111,
              "#482878"
             ],
             [
              0.2222222222222222,
              "#3e4989"
             ],
             [
              0.3333333333333333,
              "#31688e"
             ],
             [
              0.4444444444444444,
              "#26828e"
             ],
             [
              0.5555555555555556,
              "#1f9e89"
             ],
             [
              0.6666666666666666,
              "#35b779"
             ],
             [
              0.7777777777777778,
              "#6ece58"
             ],
             [
              0.8888888888888888,
              "#b5de2b"
             ],
             [
              1,
              "#fde725"
             ]
            ],
            "type": "heatmapgl"
           }
          ],
          "histogram": [
           {
            "marker": {
             "line": {
              "color": "white",
              "width": 0.6
             }
            },
            "type": "histogram"
           }
          ],
          "histogram2d": [
           {
            "colorbar": {
             "outlinewidth": 1,
             "tickcolor": "rgb(36,36,36)",
             "ticks": "outside"
            },
            "colorscale": [
             [
              0,
              "#440154"
             ],
             [
              0.1111111111111111,
              "#482878"
             ],
             [
              0.2222222222222222,
              "#3e4989"
             ],
             [
              0.3333333333333333,
              "#31688e"
             ],
             [
              0.4444444444444444,
              "#26828e"
             ],
             [
              0.5555555555555556,
              "#1f9e89"
             ],
             [
              0.6666666666666666,
              "#35b779"
             ],
             [
              0.7777777777777778,
              "#6ece58"
             ],
             [
              0.8888888888888888,
              "#b5de2b"
             ],
             [
              1,
              "#fde725"
             ]
            ],
            "type": "histogram2d"
           }
          ],
          "histogram2dcontour": [
           {
            "colorbar": {
             "outlinewidth": 1,
             "tickcolor": "rgb(36,36,36)",
             "ticks": "outside"
            },
            "colorscale": [
             [
              0,
              "#440154"
             ],
             [
              0.1111111111111111,
              "#482878"
             ],
             [
              0.2222222222222222,
              "#3e4989"
             ],
             [
              0.3333333333333333,
              "#31688e"
             ],
             [
              0.4444444444444444,
              "#26828e"
             ],
             [
              0.5555555555555556,
              "#1f9e89"
             ],
             [
              0.6666666666666666,
              "#35b779"
             ],
             [
              0.7777777777777778,
              "#6ece58"
             ],
             [
              0.8888888888888888,
              "#b5de2b"
             ],
             [
              1,
              "#fde725"
             ]
            ],
            "type": "histogram2dcontour"
           }
          ],
          "mesh3d": [
           {
            "colorbar": {
             "outlinewidth": 1,
             "tickcolor": "rgb(36,36,36)",
             "ticks": "outside"
            },
            "type": "mesh3d"
           }
          ],
          "parcoords": [
           {
            "line": {
             "colorbar": {
              "outlinewidth": 1,
              "tickcolor": "rgb(36,36,36)",
              "ticks": "outside"
             }
            },
            "type": "parcoords"
           }
          ],
          "pie": [
           {
            "automargin": true,
            "type": "pie"
           }
          ],
          "scatter": [
           {
            "fillpattern": {
             "fillmode": "overlay",
             "size": 10,
             "solidity": 0.2
            },
            "type": "scatter"
           }
          ],
          "scatter3d": [
           {
            "line": {
             "colorbar": {
              "outlinewidth": 1,
              "tickcolor": "rgb(36,36,36)",
              "ticks": "outside"
             }
            },
            "marker": {
             "colorbar": {
              "outlinewidth": 1,
              "tickcolor": "rgb(36,36,36)",
              "ticks": "outside"
             }
            },
            "type": "scatter3d"
           }
          ],
          "scattercarpet": [
           {
            "marker": {
             "colorbar": {
              "outlinewidth": 1,
              "tickcolor": "rgb(36,36,36)",
              "ticks": "outside"
             }
            },
            "type": "scattercarpet"
           }
          ],
          "scattergeo": [
           {
            "marker": {
             "colorbar": {
              "outlinewidth": 1,
              "tickcolor": "rgb(36,36,36)",
              "ticks": "outside"
             }
            },
            "type": "scattergeo"
           }
          ],
          "scattergl": [
           {
            "marker": {
             "colorbar": {
              "outlinewidth": 1,
              "tickcolor": "rgb(36,36,36)",
              "ticks": "outside"
             }
            },
            "type": "scattergl"
           }
          ],
          "scattermapbox": [
           {
            "marker": {
             "colorbar": {
              "outlinewidth": 1,
              "tickcolor": "rgb(36,36,36)",
              "ticks": "outside"
             }
            },
            "type": "scattermapbox"
           }
          ],
          "scatterpolar": [
           {
            "marker": {
             "colorbar": {
              "outlinewidth": 1,
              "tickcolor": "rgb(36,36,36)",
              "ticks": "outside"
             }
            },
            "type": "scatterpolar"
           }
          ],
          "scatterpolargl": [
           {
            "marker": {
             "colorbar": {
              "outlinewidth": 1,
              "tickcolor": "rgb(36,36,36)",
              "ticks": "outside"
             }
            },
            "type": "scatterpolargl"
           }
          ],
          "scatterternary": [
           {
            "marker": {
             "colorbar": {
              "outlinewidth": 1,
              "tickcolor": "rgb(36,36,36)",
              "ticks": "outside"
             }
            },
            "type": "scatterternary"
           }
          ],
          "surface": [
           {
            "colorbar": {
             "outlinewidth": 1,
             "tickcolor": "rgb(36,36,36)",
             "ticks": "outside"
            },
            "colorscale": [
             [
              0,
              "#440154"
             ],
             [
              0.1111111111111111,
              "#482878"
             ],
             [
              0.2222222222222222,
              "#3e4989"
             ],
             [
              0.3333333333333333,
              "#31688e"
             ],
             [
              0.4444444444444444,
              "#26828e"
             ],
             [
              0.5555555555555556,
              "#1f9e89"
             ],
             [
              0.6666666666666666,
              "#35b779"
             ],
             [
              0.7777777777777778,
              "#6ece58"
             ],
             [
              0.8888888888888888,
              "#b5de2b"
             ],
             [
              1,
              "#fde725"
             ]
            ],
            "type": "surface"
           }
          ],
          "table": [
           {
            "cells": {
             "fill": {
              "color": "rgb(237,237,237)"
             },
             "line": {
              "color": "white"
             }
            },
            "header": {
             "fill": {
              "color": "rgb(217,217,217)"
             },
             "line": {
              "color": "white"
             }
            },
            "type": "table"
           }
          ]
         },
         "layout": {
          "annotationdefaults": {
           "arrowhead": 0,
           "arrowwidth": 1
          },
          "autotypenumbers": "strict",
          "coloraxis": {
           "colorbar": {
            "outlinewidth": 1,
            "tickcolor": "rgb(36,36,36)",
            "ticks": "outside"
           }
          },
          "colorscale": {
           "diverging": [
            [
             0,
             "rgb(103,0,31)"
            ],
            [
             0.1,
             "rgb(178,24,43)"
            ],
            [
             0.2,
             "rgb(214,96,77)"
            ],
            [
             0.3,
             "rgb(244,165,130)"
            ],
            [
             0.4,
             "rgb(253,219,199)"
            ],
            [
             0.5,
             "rgb(247,247,247)"
            ],
            [
             0.6,
             "rgb(209,229,240)"
            ],
            [
             0.7,
             "rgb(146,197,222)"
            ],
            [
             0.8,
             "rgb(67,147,195)"
            ],
            [
             0.9,
             "rgb(33,102,172)"
            ],
            [
             1,
             "rgb(5,48,97)"
            ]
           ],
           "sequential": [
            [
             0,
             "#440154"
            ],
            [
             0.1111111111111111,
             "#482878"
            ],
            [
             0.2222222222222222,
             "#3e4989"
            ],
            [
             0.3333333333333333,
             "#31688e"
            ],
            [
             0.4444444444444444,
             "#26828e"
            ],
            [
             0.5555555555555556,
             "#1f9e89"
            ],
            [
             0.6666666666666666,
             "#35b779"
            ],
            [
             0.7777777777777778,
             "#6ece58"
            ],
            [
             0.8888888888888888,
             "#b5de2b"
            ],
            [
             1,
             "#fde725"
            ]
           ],
           "sequentialminus": [
            [
             0,
             "#440154"
            ],
            [
             0.1111111111111111,
             "#482878"
            ],
            [
             0.2222222222222222,
             "#3e4989"
            ],
            [
             0.3333333333333333,
             "#31688e"
            ],
            [
             0.4444444444444444,
             "#26828e"
            ],
            [
             0.5555555555555556,
             "#1f9e89"
            ],
            [
             0.6666666666666666,
             "#35b779"
            ],
            [
             0.7777777777777778,
             "#6ece58"
            ],
            [
             0.8888888888888888,
             "#b5de2b"
            ],
            [
             1,
             "#fde725"
            ]
           ]
          },
          "colorway": [
           "#1F77B4",
           "#FF7F0E",
           "#2CA02C",
           "#D62728",
           "#9467BD",
           "#8C564B",
           "#E377C2",
           "#7F7F7F",
           "#BCBD22",
           "#17BECF"
          ],
          "font": {
           "color": "rgb(36,36,36)"
          },
          "geo": {
           "bgcolor": "white",
           "lakecolor": "white",
           "landcolor": "white",
           "showlakes": true,
           "showland": true,
           "subunitcolor": "white"
          },
          "hoverlabel": {
           "align": "left"
          },
          "hovermode": "closest",
          "mapbox": {
           "style": "light"
          },
          "paper_bgcolor": "white",
          "plot_bgcolor": "white",
          "polar": {
           "angularaxis": {
            "gridcolor": "rgb(232,232,232)",
            "linecolor": "rgb(36,36,36)",
            "showgrid": false,
            "showline": true,
            "ticks": "outside"
           },
           "bgcolor": "white",
           "radialaxis": {
            "gridcolor": "rgb(232,232,232)",
            "linecolor": "rgb(36,36,36)",
            "showgrid": false,
            "showline": true,
            "ticks": "outside"
           }
          },
          "scene": {
           "xaxis": {
            "backgroundcolor": "white",
            "gridcolor": "rgb(232,232,232)",
            "gridwidth": 2,
            "linecolor": "rgb(36,36,36)",
            "showbackground": true,
            "showgrid": false,
            "showline": true,
            "ticks": "outside",
            "zeroline": false,
            "zerolinecolor": "rgb(36,36,36)"
           },
           "yaxis": {
            "backgroundcolor": "white",
            "gridcolor": "rgb(232,232,232)",
            "gridwidth": 2,
            "linecolor": "rgb(36,36,36)",
            "showbackground": true,
            "showgrid": false,
            "showline": true,
            "ticks": "outside",
            "zeroline": false,
            "zerolinecolor": "rgb(36,36,36)"
           },
           "zaxis": {
            "backgroundcolor": "white",
            "gridcolor": "rgb(232,232,232)",
            "gridwidth": 2,
            "linecolor": "rgb(36,36,36)",
            "showbackground": true,
            "showgrid": false,
            "showline": true,
            "ticks": "outside",
            "zeroline": false,
            "zerolinecolor": "rgb(36,36,36)"
           }
          },
          "shapedefaults": {
           "fillcolor": "black",
           "line": {
            "width": 0
           },
           "opacity": 0.3
          },
          "ternary": {
           "aaxis": {
            "gridcolor": "rgb(232,232,232)",
            "linecolor": "rgb(36,36,36)",
            "showgrid": false,
            "showline": true,
            "ticks": "outside"
           },
           "baxis": {
            "gridcolor": "rgb(232,232,232)",
            "linecolor": "rgb(36,36,36)",
            "showgrid": false,
            "showline": true,
            "ticks": "outside"
           },
           "bgcolor": "white",
           "caxis": {
            "gridcolor": "rgb(232,232,232)",
            "linecolor": "rgb(36,36,36)",
            "showgrid": false,
            "showline": true,
            "ticks": "outside"
           }
          },
          "title": {
           "x": 0.05
          },
          "xaxis": {
           "automargin": true,
           "gridcolor": "rgb(232,232,232)",
           "linecolor": "rgb(36,36,36)",
           "showgrid": false,
           "showline": true,
           "ticks": "outside",
           "title": {
            "standoff": 15
           },
           "zeroline": false,
           "zerolinecolor": "rgb(36,36,36)"
          },
          "yaxis": {
           "automargin": true,
           "gridcolor": "rgb(232,232,232)",
           "linecolor": "rgb(36,36,36)",
           "showgrid": false,
           "showline": true,
           "ticks": "outside",
           "title": {
            "standoff": 15
           },
           "zeroline": false,
           "zerolinecolor": "rgb(36,36,36)"
          }
         }
        },
        "title": {
         "font": {
          "color": "Black",
          "size": 22
         },
         "text": "Topics Over Time for 2024Q2",
         "x": 0.4,
         "xanchor": "center",
         "y": 0.95,
         "yanchor": "top"
        },
        "width": 1250,
        "xaxis": {
         "showgrid": true
        },
        "yaxis": {
         "showgrid": true,
         "title": {
          "text": "Frequency"
         }
        }
       }
      }
     },
     "metadata": {},
     "output_type": "display_data"
    }
   ],
   "source": [
    "for period, result in results.items():\n",
    "    fig = result['model'].visualize_topics_over_time(result['topics_over_time'], top_n_topics=10)\n",
    "    fig.update_layout(title_text=f\"Topics Over Time for {period}\")\n",
    "    fig.show()"
   ]
  },
  {
   "cell_type": "code",
   "execution_count": null,
   "metadata": {},
   "outputs": [
    {
     "data": {
      "text/html": [
       "<div>\n",
       "<style scoped>\n",
       "    .dataframe tbody tr th:only-of-type {\n",
       "        vertical-align: middle;\n",
       "    }\n",
       "\n",
       "    .dataframe tbody tr th {\n",
       "        vertical-align: top;\n",
       "    }\n",
       "\n",
       "    .dataframe thead th {\n",
       "        text-align: right;\n",
       "    }\n",
       "</style>\n",
       "<table border=\"1\" class=\"dataframe\">\n",
       "  <thead>\n",
       "    <tr style=\"text-align: right;\">\n",
       "      <th></th>\n",
       "      <th>period</th>\n",
       "      <th>topics</th>\n",
       "    </tr>\n",
       "  </thead>\n",
       "  <tbody>\n",
       "    <tr>\n",
       "      <th>0</th>\n",
       "      <td>2019Q4</td>\n",
       "      <td>[-1_menteri_nadiem_ajar_merdeka, 0_empat_pokok...</td>\n",
       "    </tr>\n",
       "    <tr>\n",
       "      <th>1</th>\n",
       "      <td>2020Q1</td>\n",
       "      <td>[0_islam_minta_cegah_pemda, 1_merdeka_menteri_...</td>\n",
       "    </tr>\n",
       "    <tr>\n",
       "      <th>2</th>\n",
       "      <td>2020Q2</td>\n",
       "      <td>[-1_papua_ajar_perintah_covid, 0_mahasiswa_sek...</td>\n",
       "    </tr>\n",
       "    <tr>\n",
       "      <th>3</th>\n",
       "      <td>2020Q3</td>\n",
       "      <td>[0_kuat_kartu_prakerja_efektivitas, 1_papua_ot...</td>\n",
       "    </tr>\n",
       "    <tr>\n",
       "      <th>4</th>\n",
       "      <td>2020Q4</td>\n",
       "      <td>[0_islam_gtgt_cukup_seluruh, 1_menteri_ajar_pe...</td>\n",
       "    </tr>\n",
       "    <tr>\n",
       "      <th>5</th>\n",
       "      <td>2021Q1</td>\n",
       "      <td>[-1_akmrtv_sarah_radio_tv, 0_musik_tradisional...</td>\n",
       "    </tr>\n",
       "    <tr>\n",
       "      <th>6</th>\n",
       "      <td>2021Q2</td>\n",
       "      <td>[-1_hak_awal_anak_milik, 0_papua_otsus_infrast...</td>\n",
       "    </tr>\n",
       "    <tr>\n",
       "      <th>7</th>\n",
       "      <td>2021Q3</td>\n",
       "      <td>[-1_masyarakat_sehat_sanggau_papua, 0_pandemi_...</td>\n",
       "    </tr>\n",
       "    <tr>\n",
       "      <th>8</th>\n",
       "      <td>2021Q4</td>\n",
       "      <td>[0_tara_disabilitas_dorong_risma, 1_kota_narko...</td>\n",
       "    </tr>\n",
       "    <tr>\n",
       "      <th>9</th>\n",
       "      <td>2022Q1</td>\n",
       "      <td>[-1_ajar_bawaslu_milu_ptm, 0_tingkat_sehat_per...</td>\n",
       "    </tr>\n",
       "    <tr>\n",
       "      <th>10</th>\n",
       "      <td>2022Q2</td>\n",
       "      <td>[0_inklusif_kawal_implementasi_bersamasama, 1_...</td>\n",
       "    </tr>\n",
       "    <tr>\n",
       "      <th>11</th>\n",
       "      <td>2022Q3</td>\n",
       "      <td>[-1_perintah_sama_kota_bidang, 0_indonesia_pap...</td>\n",
       "    </tr>\n",
       "    <tr>\n",
       "      <th>12</th>\n",
       "      <td>2022Q4</td>\n",
       "      <td>[-1_olah_anak_daerah_analis, 0_jokowi_jaga_dor...</td>\n",
       "    </tr>\n",
       "    <tr>\n",
       "      <th>13</th>\n",
       "      <td>2023Q1</td>\n",
       "      <td>[-1_agama_menteri_laku_ustaz, 0_papua_otsus_as...</td>\n",
       "    </tr>\n",
       "    <tr>\n",
       "      <th>14</th>\n",
       "      <td>2023Q2</td>\n",
       "      <td>[-1_universitas_indonesia_ki_dewantara, 0_raga...</td>\n",
       "    </tr>\n",
       "    <tr>\n",
       "      <th>15</th>\n",
       "      <td>2023Q3</td>\n",
       "      <td>[-1_sekolah_guru_tingkat_kerja, 0_prabowo_utkm...</td>\n",
       "    </tr>\n",
       "    <tr>\n",
       "      <th>16</th>\n",
       "      <td>2023Q4</td>\n",
       "      <td>[-1_mahfud_tingkat_md_ganjar, 0_nih_baik_stand...</td>\n",
       "    </tr>\n",
       "    <tr>\n",
       "      <th>17</th>\n",
       "      <td>2024Q1</td>\n",
       "      <td>[0_papua_lalu_mahfud_tingkat, 1_ganjar_lebih_i...</td>\n",
       "    </tr>\n",
       "    <tr>\n",
       "      <th>18</th>\n",
       "      <td>2024Q2</td>\n",
       "      <td>[-1_jakarta_implementasi_ikn_program, 0_indone...</td>\n",
       "    </tr>\n",
       "  </tbody>\n",
       "</table>\n",
       "</div>"
      ],
      "text/plain": [
       "    period                                             topics\n",
       "0   2019Q4  [-1_menteri_nadiem_ajar_merdeka, 0_empat_pokok...\n",
       "1   2020Q1  [0_islam_minta_cegah_pemda, 1_merdeka_menteri_...\n",
       "2   2020Q2  [-1_papua_ajar_perintah_covid, 0_mahasiswa_sek...\n",
       "3   2020Q3  [0_kuat_kartu_prakerja_efektivitas, 1_papua_ot...\n",
       "4   2020Q4  [0_islam_gtgt_cukup_seluruh, 1_menteri_ajar_pe...\n",
       "5   2021Q1  [-1_akmrtv_sarah_radio_tv, 0_musik_tradisional...\n",
       "6   2021Q2  [-1_hak_awal_anak_milik, 0_papua_otsus_infrast...\n",
       "7   2021Q3  [-1_masyarakat_sehat_sanggau_papua, 0_pandemi_...\n",
       "8   2021Q4  [0_tara_disabilitas_dorong_risma, 1_kota_narko...\n",
       "9   2022Q1  [-1_ajar_bawaslu_milu_ptm, 0_tingkat_sehat_per...\n",
       "10  2022Q2  [0_inklusif_kawal_implementasi_bersamasama, 1_...\n",
       "11  2022Q3  [-1_perintah_sama_kota_bidang, 0_indonesia_pap...\n",
       "12  2022Q4  [-1_olah_anak_daerah_analis, 0_jokowi_jaga_dor...\n",
       "13  2023Q1  [-1_agama_menteri_laku_ustaz, 0_papua_otsus_as...\n",
       "14  2023Q2  [-1_universitas_indonesia_ki_dewantara, 0_raga...\n",
       "15  2023Q3  [-1_sekolah_guru_tingkat_kerja, 0_prabowo_utkm...\n",
       "16  2023Q4  [-1_mahfud_tingkat_md_ganjar, 0_nih_baik_stand...\n",
       "17  2024Q1  [0_papua_lalu_mahfud_tingkat, 1_ganjar_lebih_i...\n",
       "18  2024Q2  [-1_jakarta_implementasi_ikn_program, 0_indone..."
      ]
     },
     "metadata": {},
     "output_type": "display_data"
    }
   ],
   "source": [
    "top_topics = []\n",
    "\n",
    "\n",
    "for period, result in results.items():\n",
    "    top_10_topics = result['topic_info'][0:11]\n",
    "    # top_10_topics['Name'] = top_10_topics['Name'].str.replace(r'^\\d+_', '', regex=True)\n",
    "    topic_descriptions = top_10_topics['Name'].tolist()\n",
    "    top_topics.append({'period': period, 'topics': topic_descriptions})\n",
    "\n",
    "\n",
    "top_topics_df = pd.DataFrame(top_topics)\n",
    "display(top_topics_df)"
   ]
  },
  {
   "cell_type": "code",
   "execution_count": null,
   "metadata": {},
   "outputs": [
    {
     "name": "stdout",
     "output_type": "stream",
     "text": [
      "2019Q4: ['-1_menteri_nadiem_ajar_merdeka', '0_empat_pokok_tetap_merdeka', '1_indonesia_nadiem_makarim_presiden', '2_kembang_mendikbud_nadiem_jangan', '3_tri_baru_tingkat_kritik', '4_analisis_negara_suatu_rakyat', '5_guru_anak_sekolah_jadi', '6_budaya_menteri_program_makarim', '7_menteri_un_enggak_pak']\n",
      "2020Q1: ['0_islam_minta_cegah_pemda', '1_merdeka_menteri_ajar_nadiem', '2_disease_coronavirus_darurat_masa', '3_virus_corona_sebar_covid']\n",
      "2020Q2: ['-1_papua_ajar_perintah_covid', '0_mahasiswa_sekolah_jadi_buat', '1_menteri_indonesia_ajar_budaya', '2_pandemi_masa_covid_indonesia', '3_darurat_sebar_timur_jawa', '4_new_normal_hadap_jabar', '5_dpr_apresiasi_kali_komisi', '6_islam_normal_pesantren_agama', '7_saran_hendak_bila_implementasi', '8_dokter_siap_normal_era']\n",
      "2020Q3: ['0_kuat_kartu_prakerja_efektivitas', '1_papua_otonomi_khusus_barat', '2_ajar_pjj_nilai_jarak', '3_ajar_menteri_pandemi_covid']\n",
      "2020Q4: ['0_islam_gtgt_cukup_seluruh', '1_menteri_ajar_perintah_indonesia']\n",
      "2021Q1: ['-1_akmrtv_sarah_radio_tv', '0_musik_tradisional_apresiasi_karya', '1_pandemi_audiensi_biaya_tengah', '2_kualitas_mampu_otsus_papua', '3_papua_masyarakat_sejahtera_otsus', '4_kuota_bantu_internet_data', '5_sekolah_ajar_indonesia_nasional']\n",
      "2021Q2: ['-1_hak_awal_anak_milik', '0_papua_otsus_infrastruktur_sehat', '1_menteri_ajar_merdeka_budaya']\n",
      "2021Q3: ['-1_masyarakat_sehat_sanggau_papua', '0_pandemi_biaya_ui_mahasiswa', '1_kualitas_kota_sarana_indonesia', '2_sekolah_kepala_surat_swasta', '3_merdeka_indonesia_vokasi_ajar', '4_vokasi_tinggi_merdeka_mahasiswa']\n",
      "2021Q4: ['0_tara_disabilitas_dorong_risma', '1_kota_narkoba_konsolidasi_tanggap', '2_jokowi_indonesia_ketua_sektor', '3_menteri_guru_jadi_seksual']\n",
      "2022Q1: ['-1_ajar_bawaslu_milu_ptm', '0_tingkat_sehat_perintah_tahun', '1_indonesia_papua_menteri_anak', '2_jakarta_pekanbaru_jalan_ptm', '3_muhammadiyah_its_pp_perempuan', '4_guru_kurikulum_merdeka_kkn', '5_negara_student_loan_bayar']\n",
      "2022Q2: ['0_inklusif_kawal_implementasi_bersamasama', '1_indonesia_aliansi_masuk_beri']\n",
      "2022Q3: ['-1_perintah_sama_kota_bidang', '0_indonesia_papua_ajar_merdeka', '1_islam_agama_ketua_ri', '2_merdeka_menteri_kampus_budaya', '3_baru_buat_jadi_nyata', '4_guru_jadi_enggak_sekolah']\n",
      "2022Q4: ['-1_olah_anak_daerah_analis', '0_jokowi_jaga_dorong_nkri', '1_pimpin_guru_tahun_jabat']\n",
      "2023Q1: ['-1_agama_menteri_laku_ustaz', '0_papua_otsus_asli_tingkat', '1_lalu_transformasi_biru_kunci', '2_lpka_ikut_kutoarjo_anak', '3_sekolah_jam_ntt_masuk']\n",
      "2023Q2: ['-1_universitas_indonesia_ki_dewantara', '0_ragam_pesan_maju_ganjar', '1_literasi_teliti_data_masalah', '2_sekolah_guru_jadi_indonesia']\n",
      "2023Q3: ['-1_sekolah_guru_tingkat_kerja', '0_prabowo_utkmasadepan_delapansmangat_rakyat', '1_indonesia_anies_jadi_jakarta', '2_sekolah_nih_guru_baik', '3_skripsi_mahasiswa_barangjasa_kelulus', '4_menteri_ganti_jadi_maudy', '5_zonasi_ppdb_sistem_muhadjir', '6_biaya_akses_bebas_beri', '7_enggak_bukan_tau_periode', '8_beasiswa_raih_hasil_mampu']\n",
      "2023Q4: ['-1_mahfud_tingkat_md_ganjar', '0_nih_baik_standar_solutif', '1_indonesia_internet_ganjar_gpmmd', '2_ganjarmahfud_gpmmd_ganjar_pranowo', '3_gpmmd_gratis_tahun_merauke', '4_miskin_kinerjapakbowo_jatuhhati_nkrisejahtera', '5_presiden_ganjar_pak_siap', '6_agama_aji_guru_dukung', '7_gpmmd_tahun_sabang_merauke', '8_kota_desa_set_sat']\n",
      "2024Q1: ['0_papua_lalu_mahfud_tingkat', '1_ganjar_lebih_indonesia_enggak']\n",
      "2024Q2: ['-1_jakarta_implementasi_ikn_program', '0_indonesia_menteri_guru_bikin', '1_enggak_jadi_buat_pramuka']\n"
     ]
    }
   ],
   "source": [
    "for quarter in top_topics:\n",
    "    print(f\"{quarter['period']}: {quarter['topics']}\")"
   ]
  },
  {
   "cell_type": "markdown",
   "metadata": {},
   "source": [
    "# Evaluation"
   ]
  },
  {
   "cell_type": "code",
   "execution_count": null,
   "metadata": {},
   "outputs": [],
   "source": [
    "coherence_obj = {}\n",
    "\n",
    "for period, result in results.items():\n",
    "    documents = pd.DataFrame({\"Document\": result['text'],\n",
    "                              \"ID\": range(len(result['text'])),\n",
    "                              \"Topic\": result['topics'],\n",
    "                              })\n",
    "\n",
    "    documents_per_topic = documents.groupby(['Topic'], as_index=False).agg({'Document': ' '.join})\n",
    "    cleaned_docs = result['model']._preprocess_text(documents_per_topic.Document.values)\n",
    "\n",
    "    vectorizer = result['model'].vectorizer_model\n",
    "    analyzer = vectorizer.build_analyzer()\n",
    "\n",
    "    words = vectorizer.get_feature_names_out()\n",
    "    tokens = [analyzer(doc) for doc in cleaned_docs]\n",
    "    dictionary = corpora.Dictionary(tokens)\n",
    "    corpus = [dictionary.doc2bow(token) for token in tokens]\n",
    "    topic_words = [[words for words, _ in result['model'].get_topic(topic)] for topic in range(len(set(result['topics']))-1)]\n",
    "\n",
    "    coherence_model_c_v = CoherenceModel(topics=topic_words,\n",
    "                                    texts=tokens,\n",
    "                                    corpus=corpus,\n",
    "                                    dictionary=dictionary,\n",
    "                                    coherence='c_v')\n",
    "    coherence_model_u_mass = CoherenceModel(topics=topic_words,\n",
    "                                    texts=tokens,\n",
    "                                    corpus=corpus,\n",
    "                                    dictionary=dictionary,\n",
    "                                    coherence='u_mass')\n",
    "    coherence_c_v = coherence_model_c_v.get_coherence()\n",
    "    coherence_u_mass = coherence_model_u_mass.get_coherence()\n",
    "    coherence_obj[period] = {\n",
    "        'coherence_c_v': coherence_c_v,\n",
    "        'coherence_u_mass': coherence_u_mass,\n",
    "    }"
   ]
  },
  {
   "cell_type": "code",
   "execution_count": null,
   "metadata": {},
   "outputs": [
    {
     "data": {
      "text/plain": [
       "{Period('2019Q4', 'Q-DEC'): {'coherence_c_v': 0.5586950531695594,\n",
       "  'coherence_u_mass': -0.5607027727226086},\n",
       " Period('2020Q1', 'Q-DEC'): {'coherence_c_v': 0.7348581618075546,\n",
       "  'coherence_u_mass': -0.16566044331697286},\n",
       " Period('2020Q2', 'Q-DEC'): {'coherence_c_v': 0.6084942290321547,\n",
       "  'coherence_u_mass': -0.40894767149817063},\n",
       " Period('2020Q3', 'Q-DEC'): {'coherence_c_v': 0.6559972028358545,\n",
       "  'coherence_u_mass': -0.07837524280155266},\n",
       " Period('2020Q4', 'Q-DEC'): {'coherence_c_v': 0.7809663259471452,\n",
       "  'coherence_u_mass': -0.015403270677732079},\n",
       " Period('2021Q1', 'Q-DEC'): {'coherence_c_v': 0.7049338235698431,\n",
       "  'coherence_u_mass': -0.42268877879561967},\n",
       " Period('2021Q2', 'Q-DEC'): {'coherence_c_v': 0.3430110023832821,\n",
       "  'coherence_u_mass': -0.09053185699700497},\n",
       " Period('2021Q3', 'Q-DEC'): {'coherence_c_v': 0.7318491948466705,\n",
       "  'coherence_u_mass': -0.5081136275309767},\n",
       " Period('2021Q4', 'Q-DEC'): {'coherence_c_v': 0.7626448785739149,\n",
       "  'coherence_u_mass': -0.2946078328114052},\n",
       " Period('2022Q1', 'Q-DEC'): {'coherence_c_v': 0.6409702567199137,\n",
       "  'coherence_u_mass': -0.46526266043295866},\n",
       " Period('2022Q2', 'Q-DEC'): {'coherence_c_v': 0.9104997563938848,\n",
       "  'coherence_u_mass': -0.20024251882676197},\n",
       " Period('2022Q3', 'Q-DEC'): {'coherence_c_v': 0.5713353475682723,\n",
       "  'coherence_u_mass': -0.4691695077727044},\n",
       " Period('2022Q4', 'Q-DEC'): {'coherence_c_v': 0.6511481236839645,\n",
       "  'coherence_u_mass': -0.13354520156240374},\n",
       " Period('2023Q1', 'Q-DEC'): {'coherence_c_v': 0.7551227790622781,\n",
       "  'coherence_u_mass': -0.2152172898615312},\n",
       " Period('2023Q2', 'Q-DEC'): {'coherence_c_v': 0.6572623672910037,\n",
       "  'coherence_u_mass': -0.27920456213248296},\n",
       " Period('2023Q3', 'Q-DEC'): {'coherence_c_v': 0.681540367256832,\n",
       "  'coherence_u_mass': -0.508979633680091},\n",
       " Period('2023Q4', 'Q-DEC'): {'coherence_c_v': 0.7040724304152817,\n",
       "  'coherence_u_mass': -0.3762591971628654},\n",
       " Period('2024Q1', 'Q-DEC'): {'coherence_c_v': 0.47847845176463066,\n",
       "  'coherence_u_mass': 1.2000622717770244e-12},\n",
       " Period('2024Q2', 'Q-DEC'): {'coherence_c_v': 0.37581195197720363,\n",
       "  'coherence_u_mass': -0.19923495250539902}}"
      ]
     },
     "execution_count": 26,
     "metadata": {},
     "output_type": "execute_result"
    }
   ],
   "source": [
    "coherence_obj"
   ]
  },
  {
   "cell_type": "code",
   "execution_count": null,
   "metadata": {},
   "outputs": [],
   "source": []
  }
 ],
 "metadata": {
  "kernelspec": {
   "display_name": "base",
   "language": "python",
   "name": "python3"
  },
  "language_info": {
   "codemirror_mode": {
    "name": "ipython",
    "version": 3
   },
   "file_extension": ".py",
   "mimetype": "text/x-python",
   "name": "python",
   "nbconvert_exporter": "python",
   "pygments_lexer": "ipython3",
   "version": "3.12.3"
  }
 },
 "nbformat": 4,
 "nbformat_minor": 2
}
