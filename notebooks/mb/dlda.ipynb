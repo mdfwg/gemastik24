{
 "cells": [
  {
   "cell_type": "markdown",
   "metadata": {},
   "source": [
    "# a"
   ]
  },
  {
   "cell_type": "code",
   "execution_count": null,
   "metadata": {},
   "outputs": [],
   "source": [
    "text_list=[]\n",
    "def create_token(tweet) :\n",
    "  tweet=tweet.split()\n",
    "  text_list.append(tweet)"
   ]
  },
  {
   "cell_type": "code",
   "execution_count": null,
   "metadata": {},
   "outputs": [],
   "source": [
    "import pandas as pd \n",
    "import gensim\n",
    "from gensim import corpora, models\n",
    "from gensim.models import Phrases\n"
   ]
  },
  {
   "cell_type": "code",
   "execution_count": null,
   "metadata": {},
   "outputs": [
    {
     "name": "stderr",
     "output_type": "stream",
     "text": [
      "<>:1: SyntaxWarning: invalid escape sequence '\\D'\n",
      "<>:1: SyntaxWarning: invalid escape sequence '\\D'\n",
      "C:\\Users\\user\\AppData\\Local\\Temp\\ipykernel_29036\\2483182503.py:1: SyntaxWarning: invalid escape sequence '\\D'\n",
      "  raw_data=pd.read_csv('D:\\Dafa\\Jupyter\\gemasyik\\src\\cleaned_mb.csv')\n"
     ]
    }
   ],
   "source": [
    "raw_data=pd.read_csv('D:\\Dafa\\Jupyter\\gemasyik\\src\\cleaned_mb.csv')"
   ]
  },
  {
   "cell_type": "code",
   "execution_count": null,
   "metadata": {},
   "outputs": [
    {
     "data": {
      "text/html": [
       "<div>\n",
       "<style scoped>\n",
       "    .dataframe tbody tr th:only-of-type {\n",
       "        vertical-align: middle;\n",
       "    }\n",
       "\n",
       "    .dataframe tbody tr th {\n",
       "        vertical-align: top;\n",
       "    }\n",
       "\n",
       "    .dataframe thead th {\n",
       "        text-align: right;\n",
       "    }\n",
       "</style>\n",
       "<table border=\"1\" class=\"dataframe\">\n",
       "  <thead>\n",
       "    <tr style=\"text-align: right;\">\n",
       "      <th></th>\n",
       "      <th>Unnamed: 0</th>\n",
       "      <th>conversation_id_str</th>\n",
       "      <th>created_at</th>\n",
       "      <th>favorite_count</th>\n",
       "      <th>full_text</th>\n",
       "      <th>id_str</th>\n",
       "      <th>image_url</th>\n",
       "      <th>in_reply_to_screen_name</th>\n",
       "      <th>lang</th>\n",
       "      <th>location</th>\n",
       "      <th>quote_count</th>\n",
       "      <th>reply_count</th>\n",
       "      <th>retweet_count</th>\n",
       "      <th>tweet_url</th>\n",
       "      <th>user_id_str</th>\n",
       "      <th>username</th>\n",
       "    </tr>\n",
       "  </thead>\n",
       "  <tbody>\n",
       "    <tr>\n",
       "      <th>34593</th>\n",
       "      <td>34593</td>\n",
       "      <td>1784941586708861319</td>\n",
       "      <td>2024-04-29 13:43:31+00:00</td>\n",
       "      <td>3</td>\n",
       "      <td>wakatobi siap gelar konferensi internasional s...</td>\n",
       "      <td>1784941586708861319</td>\n",
       "      <td>https://pbs.twimg.com/media/GMVgyaXa0AAe2E4.jpg</td>\n",
       "      <td>NaN</td>\n",
       "      <td>in</td>\n",
       "      <td>Jakarta Capital Region</td>\n",
       "      <td>0</td>\n",
       "      <td>2</td>\n",
       "      <td>3</td>\n",
       "      <td>https://twitter.com/kniukemdikbud/status/17849...</td>\n",
       "      <td>753041497109528578</td>\n",
       "      <td>kniukemdikbud</td>\n",
       "    </tr>\n",
       "    <tr>\n",
       "      <th>34594</th>\n",
       "      <td>34594</td>\n",
       "      <td>1784951618980720809</td>\n",
       "      <td>2024-04-29 14:23:23+00:00</td>\n",
       "      <td>0</td>\n",
       "      <td>konsorsium baterai listrik nasional</td>\n",
       "      <td>1784951618980720809</td>\n",
       "      <td>https://pbs.twimg.com/media/GMVr8LVbUAEJVsc.jpg</td>\n",
       "      <td>NaN</td>\n",
       "      <td>in</td>\n",
       "      <td>Tamalanrea Indah, Tamalanrea,</td>\n",
       "      <td>0</td>\n",
       "      <td>0</td>\n",
       "      <td>0</td>\n",
       "      <td>https://twitter.com/OfficialPnup/status/178495...</td>\n",
       "      <td>1536635157481869319</td>\n",
       "      <td>OfficialPnup</td>\n",
       "    </tr>\n",
       "    <tr>\n",
       "      <th>34595</th>\n",
       "      <td>34595</td>\n",
       "      <td>1784973476270670028</td>\n",
       "      <td>2024-04-29 15:50:14+00:00</td>\n",
       "      <td>12</td>\n",
       "      <td>joki essay tema merdeka ajar</td>\n",
       "      <td>1784973476270670028</td>\n",
       "      <td>NaN</td>\n",
       "      <td>NaN</td>\n",
       "      <td>in</td>\n",
       "      <td>Seoul</td>\n",
       "      <td>0</td>\n",
       "      <td>53</td>\n",
       "      <td>0</td>\n",
       "      <td>https://twitter.com/evrybdlysmydy/status/17849...</td>\n",
       "      <td>1608396493844795393</td>\n",
       "      <td>evrybdlysmydy</td>\n",
       "    </tr>\n",
       "    <tr>\n",
       "      <th>34596</th>\n",
       "      <td>34596</td>\n",
       "      <td>1785012001032507859</td>\n",
       "      <td>2024-04-29 18:23:19+00:00</td>\n",
       "      <td>0</td>\n",
       "      <td>tim pkm pnup terima dana pkm vokasi tahun</td>\n",
       "      <td>1785012001032507859</td>\n",
       "      <td>https://pbs.twimg.com/media/GMWi7gla4AEYvsT.jpg</td>\n",
       "      <td>NaN</td>\n",
       "      <td>in</td>\n",
       "      <td>Tamalanrea Indah, Tamalanrea,</td>\n",
       "      <td>0</td>\n",
       "      <td>0</td>\n",
       "      <td>0</td>\n",
       "      <td>https://twitter.com/OfficialPnup/status/178501...</td>\n",
       "      <td>1536635157481869319</td>\n",
       "      <td>OfficialPnup</td>\n",
       "    </tr>\n",
       "    <tr>\n",
       "      <th>34597</th>\n",
       "      <td>34597</td>\n",
       "      <td>1785041936224849969</td>\n",
       "      <td>2024-04-29 20:22:16+00:00</td>\n",
       "      <td>0</td>\n",
       "      <td>juang anakanak dusun biram aceh utara tempuh m...</td>\n",
       "      <td>1785041936224849969</td>\n",
       "      <td>https://pbs.twimg.com/media/GMW-LhobIAA4IZD.jpg</td>\n",
       "      <td>NaN</td>\n",
       "      <td>in</td>\n",
       "      <td>Indonesia</td>\n",
       "      <td>0</td>\n",
       "      <td>0</td>\n",
       "      <td>0</td>\n",
       "      <td>https://twitter.com/notulamedia/status/1785041...</td>\n",
       "      <td>1260498090571808771</td>\n",
       "      <td>notulamedia</td>\n",
       "    </tr>\n",
       "  </tbody>\n",
       "</table>\n",
       "</div>"
      ],
      "text/plain": [
       "       Unnamed: 0  conversation_id_str                 created_at  \\\n",
       "34593       34593  1784941586708861319  2024-04-29 13:43:31+00:00   \n",
       "34594       34594  1784951618980720809  2024-04-29 14:23:23+00:00   \n",
       "34595       34595  1784973476270670028  2024-04-29 15:50:14+00:00   \n",
       "34596       34596  1785012001032507859  2024-04-29 18:23:19+00:00   \n",
       "34597       34597  1785041936224849969  2024-04-29 20:22:16+00:00   \n",
       "\n",
       "       favorite_count                                          full_text  \\\n",
       "34593               3  wakatobi siap gelar konferensi internasional s...   \n",
       "34594               0                konsorsium baterai listrik nasional   \n",
       "34595              12                       joki essay tema merdeka ajar   \n",
       "34596               0          tim pkm pnup terima dana pkm vokasi tahun   \n",
       "34597               0  juang anakanak dusun biram aceh utara tempuh m...   \n",
       "\n",
       "                    id_str                                        image_url  \\\n",
       "34593  1784941586708861319  https://pbs.twimg.com/media/GMVgyaXa0AAe2E4.jpg   \n",
       "34594  1784951618980720809  https://pbs.twimg.com/media/GMVr8LVbUAEJVsc.jpg   \n",
       "34595  1784973476270670028                                              NaN   \n",
       "34596  1785012001032507859  https://pbs.twimg.com/media/GMWi7gla4AEYvsT.jpg   \n",
       "34597  1785041936224849969  https://pbs.twimg.com/media/GMW-LhobIAA4IZD.jpg   \n",
       "\n",
       "       in_reply_to_screen_name lang                        location  \\\n",
       "34593                      NaN   in          Jakarta Capital Region   \n",
       "34594                      NaN   in  Tamalanrea Indah, Tamalanrea,    \n",
       "34595                      NaN   in                          Seoul    \n",
       "34596                      NaN   in  Tamalanrea Indah, Tamalanrea,    \n",
       "34597                      NaN   in                       Indonesia   \n",
       "\n",
       "       quote_count  reply_count  retweet_count  \\\n",
       "34593            0            2              3   \n",
       "34594            0            0              0   \n",
       "34595            0           53              0   \n",
       "34596            0            0              0   \n",
       "34597            0            0              0   \n",
       "\n",
       "                                               tweet_url          user_id_str  \\\n",
       "34593  https://twitter.com/kniukemdikbud/status/17849...   753041497109528578   \n",
       "34594  https://twitter.com/OfficialPnup/status/178495...  1536635157481869319   \n",
       "34595  https://twitter.com/evrybdlysmydy/status/17849...  1608396493844795393   \n",
       "34596  https://twitter.com/OfficialPnup/status/178501...  1536635157481869319   \n",
       "34597  https://twitter.com/notulamedia/status/1785041...  1260498090571808771   \n",
       "\n",
       "            username  \n",
       "34593  kniukemdikbud  \n",
       "34594   OfficialPnup  \n",
       "34595  evrybdlysmydy  \n",
       "34596   OfficialPnup  \n",
       "34597    notulamedia  "
      ]
     },
     "metadata": {},
     "output_type": "display_data"
    }
   ],
   "source": [
    "raw_data.tail()"
   ]
  },
  {
   "cell_type": "code",
   "execution_count": null,
   "metadata": {},
   "outputs": [],
   "source": [
    "raw_data['full_text'] = raw_data['full_text'].astype(str)"
   ]
  },
  {
   "cell_type": "code",
   "execution_count": null,
   "metadata": {},
   "outputs": [
    {
     "data": {
      "text/plain": [
       "0        None\n",
       "1        None\n",
       "2        None\n",
       "3        None\n",
       "4        None\n",
       "         ... \n",
       "34593    None\n",
       "34594    None\n",
       "34595    None\n",
       "34596    None\n",
       "34597    None\n",
       "Name: full_text, Length: 34598, dtype: object"
      ]
     },
     "metadata": {},
     "output_type": "display_data"
    }
   ],
   "source": [
    "raw_data['full_text'].apply(create_token)"
   ]
  },
  {
   "cell_type": "code",
   "execution_count": null,
   "metadata": {},
   "outputs": [
    {
     "data": {
      "text/plain": [
       "['kerja', 'ajar', 'senang', 'senang', 'penuh', 'semangat', 'merdeka']"
      ]
     },
     "metadata": {},
     "output_type": "display_data"
    }
   ],
   "source": [
    "text_list[0]"
   ]
  },
  {
   "cell_type": "code",
   "execution_count": null,
   "metadata": {},
   "outputs": [],
   "source": [
    "bigram = Phrases(text_list, min_count=10)\n",
    "trigram = Phrases(bigram[text_list])"
   ]
  },
  {
   "cell_type": "code",
   "execution_count": null,
   "metadata": {},
   "outputs": [],
   "source": [
    "for idx in range(len(text_list)):\n",
    "    for token in bigram[text_list[idx]]:\n",
    "        if '_' in token:\n",
    "            # Token is a bigram, add to document.\n",
    "            text_list[idx].append(token)\n",
    "    for token in trigram[text_list[idx]]:\n",
    "        if '_' in token:\n",
    "            # Token is a bigram, add to document.\n",
    "            text_list[idx].append(token)"
   ]
  },
  {
   "cell_type": "code",
   "execution_count": null,
   "metadata": {},
   "outputs": [],
   "source": [
    "dictionary = corpora.Dictionary(text_list)\n",
    "dictionary.filter_extremes(no_below=5, no_above=0.2)"
   ]
  },
  {
   "cell_type": "code",
   "execution_count": null,
   "metadata": {},
   "outputs": [
    {
     "name": "stdout",
     "output_type": "stream",
     "text": [
      "Dictionary(8709 unique tokens: ['kerja', 'penuh', 'semangat', 'senang', 'depan']...)\n"
     ]
    }
   ],
   "source": [
    "print(dictionary)"
   ]
  },
  {
   "cell_type": "code",
   "execution_count": null,
   "metadata": {},
   "outputs": [],
   "source": [
    "doc_term_matrix = [dictionary.doc2bow(doc) for doc in text_list]"
   ]
  },
  {
   "cell_type": "code",
   "execution_count": null,
   "metadata": {},
   "outputs": [],
   "source": [
    "tfidf = models.TfidfModel(doc_term_matrix) #build TF-IDF model\n",
    "corpus_tfidf = tfidf[doc_term_matrix]"
   ]
  },
  {
   "cell_type": "code",
   "execution_count": null,
   "metadata": {},
   "outputs": [
    {
     "name": "stdout",
     "output_type": "stream",
     "text": [
      "[(0, 0.3057356714255539), (1, 0.42700010166837093), (2, 0.2522360723550572), (3, 0.8127567755460801)]\n"
     ]
    }
   ],
   "source": [
    "for i in corpus_tfidf :\n",
    "    print(i)\n",
    "    break"
   ]
  }
 ],
 "metadata": {
  "kernelspec": {
   "display_name": "LDA",
   "language": "python",
   "name": "python3"
  },
  "language_info": {
   "name": "python",
   "version": "3.12.3"
  }
 },
 "nbformat": 4,
 "nbformat_minor": 2
}
