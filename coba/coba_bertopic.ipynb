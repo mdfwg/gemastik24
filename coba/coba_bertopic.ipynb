{
 "cells": [
  {
   "cell_type": "code",
   "execution_count": 17,
   "metadata": {},
   "outputs": [],
   "source": [
    "import pandas as pd\n",
    "import re\n",
    "from bertopic import BERTopic"
   ]
  },
  {
   "cell_type": "code",
   "execution_count": 18,
   "metadata": {},
   "outputs": [],
   "source": [
    "tweet = pd.read_csv('kebijakan_22.csv')"
   ]
  },
  {
   "cell_type": "code",
   "execution_count": 19,
   "metadata": {},
   "outputs": [],
   "source": [
    "tweet.full_text = tweet.apply(lambda row: re.sub(r\"http\\S+\", \"\", row.full_text).lower(), 1)\n",
    "tweet.full_text = tweet.apply(lambda row: \" \".join(filter(lambda x:x[0]!=\"@\", row.full_text.split())), 1)\n",
    "tweet.full_text = tweet.apply(lambda row: \" \".join(re.sub(\"[^a-zA-Z]+\", \" \", row.full_text).split()), 1)"
   ]
  },
  {
   "cell_type": "code",
   "execution_count": 20,
   "metadata": {},
   "outputs": [],
   "source": [
    "tweet = tweet.loc[(tweet.full_text != \"\"), :]\n",
    "timestamps = tweet.created_at.to_list()"
   ]
  },
  {
   "cell_type": "code",
   "execution_count": 21,
   "metadata": {},
   "outputs": [],
   "source": [
    "tweets = tweet.full_text.to_list()"
   ]
  },
  {
   "cell_type": "code",
   "execution_count": 22,
   "metadata": {},
   "outputs": [
    {
     "name": "stderr",
     "output_type": "stream",
     "text": [
      "2024-05-13 10:11:15,144 - BERTopic - Embedding - Transforming documents to embeddings.\n"
     ]
    },
    {
     "data": {
      "application/vnd.jupyter.widget-view+json": {
       "model_id": "3c9e04bdeb95477ca480e84697489697",
       "version_major": 2,
       "version_minor": 0
      },
      "text/plain": [
       "Batches:   0%|          | 0/63 [00:00<?, ?it/s]"
      ]
     },
     "metadata": {},
     "output_type": "display_data"
    },
    {
     "name": "stderr",
     "output_type": "stream",
     "text": [
      "2024-05-13 10:11:30,981 - BERTopic - Embedding - Completed ✓\n",
      "2024-05-13 10:11:30,982 - BERTopic - Dimensionality - Fitting the dimensionality reduction algorithm\n",
      "2024-05-13 10:11:38,290 - BERTopic - Dimensionality - Completed ✓\n",
      "2024-05-13 10:11:38,291 - BERTopic - Cluster - Start clustering the reduced embeddings\n",
      "2024-05-13 10:11:38,365 - BERTopic - Cluster - Completed ✓\n",
      "2024-05-13 10:11:38,368 - BERTopic - Representation - Extracting topics from clusters using representation models.\n",
      "2024-05-13 10:11:38,451 - BERTopic - Representation - Completed ✓\n"
     ]
    }
   ],
   "source": [
    "topic_model = BERTopic(verbose=True)\n",
    "topics, probs = topic_model.fit_transform(tweets)"
   ]
  },
  {
   "cell_type": "code",
   "execution_count": 23,
   "metadata": {},
   "outputs": [
    {
     "name": "stderr",
     "output_type": "stream",
     "text": [
      "20it [00:00, 32.46it/s]\n"
     ]
    }
   ],
   "source": [
    "topics_over_time = topic_model.topics_over_time(tweets, timestamps, nr_bins=20)"
   ]
  },
  {
   "cell_type": "code",
   "execution_count": 34,
   "metadata": {},
   "outputs": [
    {
     "data": {
      "application/vnd.plotly.v1+json": {
       "config": {
        "plotlyServerURL": "https://plot.ly"
       },
       "data": [
        {
         "hoverinfo": "text",
         "hovertext": [
          "<b>Topic 0</b><br>Words: lainya, baswedan, track, cukong, record",
          "<b>Topic 0</b><br>Words: nggak, berbungkus, memenangkan, bungkus, menyulitkan",
          "<b>Topic 0</b><br>Words: beli, bagaimana, saya, kesehatan, lupakan",
          "<b>Topic 0</b><br>Words: nabrak, berwenang, gubdki, kesel, filtering",
          "<b>Topic 0</b><br>Words: by, ruby, diambilnya, yee, kay",
          "<b>Topic 0</b><br>Words: suap, dateng, loket, rokok, bikin",
          "<b>Topic 0</b><br>Words: ya, bikin, pindah, pajak, tiongkok",
          "<b>Topic 0</b><br>Words: yg, buku, banget, lumayan, to",
          "<b>Topic 0</b><br>Words: diam, bantu, support, ribet, nantinya",
          "<b>Topic 0</b><br>Words: ya, aneh, krl, naik, bikin",
          "<b>Topic 0</b><br>Words: krl, naik, membahagiakan, mau, kaya",
          "<b>Topic 0</b><br>Words: yg, bikin, pake, kaya, krl",
          "<b>Topic 0</b><br>Words: yg, bagus, bikin, dirimu, umat",
          "<b>Topic 0</b><br>Words: lulusan, ya, juga, padahal, kok",
          "<b>Topic 0</b><br>Words: thn, dibikin, kl, ikut, berubah",
          "<b>Topic 0</b><br>Words: tempek, buku, angkringan, warkop, hmm",
          "<b>Topic 0</b><br>Words: kui, sing, tu, tarif, krl",
          "<b>Topic 0</b><br>Words: tempo, jatuh, pindah, bs, ptn",
          "<b>Topic 0</b><br>Words: ngilangin, muter, malu, gajelas, pula"
         ],
         "marker": {
          "color": "#E69F00"
         },
         "mode": "lines",
         "name": "0_ya_yg_bikin_krl",
         "type": "scatter",
         "x": [
          "2022-12-26T20:04:41.699000+00:00",
          "2022-12-27T01:10:06.049999+00:00",
          "2022-12-27T11:08:56.150000+00:00",
          "2022-12-27T16:08:21.200000+00:00",
          "2022-12-27T21:07:46.249999+00:00",
          "2022-12-28T02:07:11.300000+00:00",
          "2022-12-28T07:06:36.350000+00:00",
          "2022-12-28T12:06:01.400000+00:00",
          "2022-12-28T17:05:26.449999+00:00",
          "2022-12-28T22:04:51.500000+00:00",
          "2022-12-29T03:04:16.550000+00:00",
          "2022-12-29T08:03:41.600000+00:00",
          "2022-12-29T13:03:06.649999+00:00",
          "2022-12-29T18:02:31.700000+00:00",
          "2022-12-29T23:01:56.750000+00:00",
          "2022-12-30T04:01:21.800000+00:00",
          "2022-12-30T09:00:46.849999+00:00",
          "2022-12-30T14:00:11.900000+00:00",
          "2022-12-30T18:59:36.950000+00:00"
         ],
         "y": [
          1,
          1,
          3,
          1,
          1,
          6,
          8,
          6,
          1,
          8,
          15,
          18,
          9,
          2,
          4,
          3,
          4,
          3,
          1
         ]
        },
        {
         "hoverinfo": "text",
         "hovertext": [
          "<b>Topic 1</b><br>Words: talenta, digital, kesempatan, scientist, terukur",
          "<b>Topic 1</b><br>Words: portal, media, data, diklaim, akurat",
          "<b>Topic 1</b><br>Words: tv, benar, analog, program, diwujudkan",
          "<b>Topic 1</b><br>Words: data, penentu, berjalan, optimal, adadikompas",
          "<b>Topic 1</b><br>Words: edisi, parlemen, pks, positioning, humas",
          "<b>Topic 1</b><br>Words: program, kkn, padanya, membuat, langkah",
          "<b>Topic 1</b><br>Words: kkn, bantul, serta, timeline, profesor",
          "<b>Topic 1</b><br>Words: peneliti, klo, nasa, armageddon, stbcolokpakai",
          "<b>Topic 1</b><br>Words: media, biru, kkp, pemberitaan, negoroku",
          "<b>Topic 1</b><br>Words: kkn, kulonprogo, digital, lokasi, gt",
          "<b>Topic 1</b><br>Words: websitenya, techi, kerjasama, data, naeco",
          "<b>Topic 1</b><br>Words: set, cuan, sat, data, tinggal",
          "<b>Topic 1</b><br>Words: digital, tv, pip, analog, perbedaan",
          "<b>Topic 1</b><br>Words: lapangan, belajar, membumi, konsep, sebenarnya",
          "<b>Topic 1</b><br>Words: target, mengulik, nampaknya, pso, kolaborasi",
          "<b>Topic 1</b><br>Words: kira, kan, sindir, gerindra, pengaduan"
         ],
         "marker": {
          "color": "#56B4E9"
         },
         "mode": "lines",
         "name": "1_digital_kkn_data_program",
         "type": "scatter",
         "x": [
          "2022-12-26T20:04:41.699000+00:00",
          "2022-12-27T01:10:06.049999+00:00",
          "2022-12-27T06:09:31.100000+00:00",
          "2022-12-27T11:08:56.150000+00:00",
          "2022-12-27T21:07:46.249999+00:00",
          "2022-12-28T02:07:11.300000+00:00",
          "2022-12-28T07:06:36.350000+00:00",
          "2022-12-28T12:06:01.400000+00:00",
          "2022-12-28T22:04:51.500000+00:00",
          "2022-12-29T03:04:16.550000+00:00",
          "2022-12-29T08:03:41.600000+00:00",
          "2022-12-29T13:03:06.649999+00:00",
          "2022-12-29T23:01:56.750000+00:00",
          "2022-12-30T04:01:21.800000+00:00",
          "2022-12-30T09:00:46.849999+00:00",
          "2022-12-30T14:00:11.900000+00:00"
         ],
         "y": [
          1,
          8,
          3,
          1,
          1,
          5,
          2,
          3,
          2,
          12,
          5,
          6,
          5,
          4,
          2,
          1
         ]
        },
        {
         "hoverinfo": "text",
         "hovertext": [
          "<b>Topic 2</b><br>Words: zolim, islam, dimatikan, pribumi, perlahan",
          "<b>Topic 2</b><br>Words: jakarta, sedih, gamon, kedelai, ton",
          "<b>Topic 2</b><br>Words: heru, jakarta, gubernur, mengimbau, budi",
          "<b>Topic 2</b><br>Words: jakarta, dki, poin, jabodetabek, hartono",
          "<b>Topic 2</b><br>Words: ketengan, dalih, direalisasikan, kedepannya, pengawasan",
          "<b>Topic 2</b><br>Words: jakarta, kemaren, wfh, paa, cuacaekstrem",
          "<b>Topic 2</b><br>Words: silang, bidang, kereta, hukum, tindak",
          "<b>Topic 2</b><br>Words: menjual, remaja, disahkan, prevalensi, rokok",
          "<b>Topic 2</b><br>Words: problematik, sbg, apakah, akan, ramalan",
          "<b>Topic 2</b><br>Words: jakarta, toxic, bekasi, gali, dulu",
          "<b>Topic 2</b><br>Words: perindo, takalar, adanya, partai, bukankh",
          "<b>Topic 2</b><br>Words: mahasiswa, terusir, pelan, pbb, tdk",
          "<b>Topic 2</b><br>Words: defisit, percuma, ut, rumput, akar",
          "<b>Topic 2</b><br>Words: lu, fortuner, gegayaan, facility, terburuk",
          "<b>Topic 2</b><br>Words: masing, dinilai, krl, jakarta, malamtahunbaru"
         ],
         "marker": {
          "color": "#009E73"
         },
         "mode": "lines",
         "name": "2_jakarta_heru_agar_dki",
         "type": "scatter",
         "x": [
          "2022-12-26T20:04:41.699000+00:00",
          "2022-12-27T01:10:06.049999+00:00",
          "2022-12-27T06:09:31.100000+00:00",
          "2022-12-27T11:08:56.150000+00:00",
          "2022-12-27T21:07:46.249999+00:00",
          "2022-12-28T02:07:11.300000+00:00",
          "2022-12-28T07:06:36.350000+00:00",
          "2022-12-28T12:06:01.400000+00:00",
          "2022-12-28T22:04:51.500000+00:00",
          "2022-12-29T03:04:16.550000+00:00",
          "2022-12-29T08:03:41.600000+00:00",
          "2022-12-29T13:03:06.649999+00:00",
          "2022-12-29T23:01:56.750000+00:00",
          "2022-12-30T04:01:21.800000+00:00",
          "2022-12-30T09:00:46.849999+00:00"
         ],
         "y": [
          1,
          5,
          8,
          4,
          1,
          4,
          2,
          2,
          4,
          10,
          2,
          3,
          4,
          1,
          5
         ]
        },
        {
         "hoverinfo": "text",
         "hovertext": [
          "<b>Topic 3</b><br>Words: karyawan, hak, ide, diserikat, airbus",
          "<b>Topic 3</b><br>Words: gamau, mobil, buat, tbtb, doa",
          "<b>Topic 3</b><br>Words: mobil, bias, listrik, subsidi, yg",
          "<b>Topic 3</b><br>Words: membutuhkan, tempat, ijin, berduit, awalnya",
          "<b>Topic 3</b><br>Words: walaupun, potret, inikah, mobilitas, entah",
          "<b>Topic 3</b><br>Words: mobil, listrik, subsidi, pribadi, konsumen",
          "<b>Topic 3</b><br>Words: mobil, subsidi, kendaraan, listrik, orang",
          "<b>Topic 3</b><br>Words: mobil, listrik, subsidi, makin, yg",
          "<b>Topic 3</b><br>Words: subsidi, listrik, spesifik, penelitian, diperkecil",
          "<b>Topic 3</b><br>Words: ganti, dugaanku, mobil, sepertinya, dibilang",
          "<b>Topic 3</b><br>Words: iknmajukannkri, subsidi, pemberian, listrik, mempercepat",
          "<b>Topic 3</b><br>Words: memprihatinkan, bersyarat, dilecehkan, memuluskan, terbitnya",
          "<b>Topic 3</b><br>Words: dkk, subsidi, negative, keberanian, emission"
         ],
         "marker": {
          "color": "#F0E442"
         },
         "mode": "lines",
         "name": "3_mobil_listrik_subsidi_kendaraan",
         "type": "scatter",
         "x": [
          "2022-12-27T06:09:31.100000+00:00",
          "2022-12-28T02:07:11.300000+00:00",
          "2022-12-28T07:06:36.350000+00:00",
          "2022-12-28T12:06:01.400000+00:00",
          "2022-12-28T17:05:26.449999+00:00",
          "2022-12-28T22:04:51.500000+00:00",
          "2022-12-29T03:04:16.550000+00:00",
          "2022-12-29T08:03:41.600000+00:00",
          "2022-12-29T13:03:06.649999+00:00",
          "2022-12-29T18:02:31.700000+00:00",
          "2022-12-29T23:01:56.750000+00:00",
          "2022-12-30T04:01:21.800000+00:00",
          "2022-12-30T09:00:46.849999+00:00"
         ],
         "y": [
          1,
          3,
          3,
          2,
          1,
          7,
          6,
          10,
          2,
          1,
          16,
          2,
          2
         ]
        },
        {
         "hoverinfo": "text",
         "hovertext": [
          "<b>Topic 4</b><br>Words: musim, mudik, transportasi, diperkirakan, perjalanan",
          "<b>Topic 4</b><br>Words: diformulasikan, insentif, menilai, transportasi, kurang",
          "<b>Topic 4</b><br>Words: parah, menyelesaikan, tambah, menyebut, transportasi",
          "<b>Topic 4</b><br>Words: transportasi, umum, pribadi, kendaraan, beralih",
          "<b>Topic 4</b><br>Words: moda, orkay, masal, pribadi, transportasi",
          "<b>Topic 4</b><br>Words: transportasi, umum, sedikit, milih, org",
          "<b>Topic 4</b><br>Words: transportasi, umum, beda, biaya, duit",
          "<b>Topic 4</b><br>Words: transportasi, umum, kendaraan, kaya, naik",
          "<b>Topic 4</b><br>Words: transportasi, umum, policy, naik, subsidi",
          "<b>Topic 4</b><br>Words: transportasi, umum, lah, dulu, jangan",
          "<b>Topic 4</b><br>Words: transport, umum, transportasi, ni, kuburannya",
          "<b>Topic 4</b><br>Words: transportasi, umum, sedikit, yg, listrik",
          "<b>Topic 4</b><br>Words: lha, transportasi, umum, menhub, judulnya",
          "<b>Topic 4</b><br>Words: transportasi, pergantian, umum, ambyaar, transjakarta"
         ],
         "marker": {
          "color": "#D55E00"
         },
         "mode": "lines",
         "name": "4_transportasi_umum_kendaraan_pribadi",
         "type": "scatter",
         "x": [
          "2022-12-27T01:10:06.049999+00:00",
          "2022-12-27T06:09:31.100000+00:00",
          "2022-12-27T11:08:56.150000+00:00",
          "2022-12-28T02:07:11.300000+00:00",
          "2022-12-28T07:06:36.350000+00:00",
          "2022-12-28T12:06:01.400000+00:00",
          "2022-12-28T22:04:51.500000+00:00",
          "2022-12-29T03:04:16.550000+00:00",
          "2022-12-29T08:03:41.600000+00:00",
          "2022-12-29T13:03:06.649999+00:00",
          "2022-12-29T18:02:31.700000+00:00",
          "2022-12-29T23:01:56.750000+00:00",
          "2022-12-30T04:01:21.800000+00:00",
          "2022-12-30T09:00:46.849999+00:00"
         ],
         "y": [
          1,
          1,
          1,
          6,
          1,
          3,
          5,
          11,
          4,
          6,
          3,
          5,
          2,
          2
         ]
        },
        {
         "hoverinfo": "text",
         "hovertext": [
          "<b>Topic 5</b><br>Words: jokowipresidenku, jokowibapakinfrastruktur, keren, jokowi, presidenjokowihebat",
          "<b>Topic 5</b><br>Words: jokowipresidenku, presidenjokowihebat, jokowimajubersamaindonesia, pembangunanuntukrakyat, jokowimembangunnegeri",
          "<b>Topic 5</b><br>Words: polrestabes, asyik, medan, keren, biasa",
          "<b>Topic 5</b><br>Words: jokowipresidenku, jokowibapakinfrastruktur, presidenjokowihebat, pembangunanuntukrakyat, jokowimembangunnegeri",
          "<b>Topic 5</b><br>Words: jokowipresidenku, presidenjokowihebat, lohh, jokowimajubersamaindonesia, pembangunanuntukrakyat",
          "<b>Topic 5</b><br>Words: keren, presidenjokowihebat, jokowipresidenku, pembangunanuntukrakyat, jokowi",
          "<b>Topic 5</b><br>Words: jokowibapakinfrastruktur, lakukan, jokowipresidenku, presidenjokowihebat, pembangunanuntukrakyat",
          "<b>Topic 5</b><br>Words: hebat, jokowipresidenku, presidenjokowihebat, jokowimajubersamaindonesia, jokowimembangunnegeri",
          "<b>Topic 5</b><br>Words: jokowipresidenku, presidenjokowihebat, pembangunanuntukrakyat, jokowimajubersamaindonesia, jokowimembangunnegeri",
          "<b>Topic 5</b><br>Words: jokowibapakinfrastruktur, jokowipresidenku, presidenjokowihebat, pembangunanuntukrakyat, jokowimembangunnegeri",
          "<b>Topic 5</b><br>Words: pdiperjuanganjabar, solidbergerak, pdiperjuangan, jokowi, resmi",
          "<b>Topic 5</b><br>Words: pdiperjuanganpurwakarta, pdiperjuanganjabar, solidbergerak, pdiperjuangan, cabut"
         ],
         "marker": {
          "color": "#0072B2"
         },
         "mode": "lines",
         "name": "5_jokowipresidenku_presidenjokowihebat_j...",
         "type": "scatter",
         "x": [
          "2022-12-27T01:10:06.049999+00:00",
          "2022-12-27T06:09:31.100000+00:00",
          "2022-12-27T11:08:56.150000+00:00",
          "2022-12-28T02:07:11.300000+00:00",
          "2022-12-28T07:06:36.350000+00:00",
          "2022-12-28T17:05:26.449999+00:00",
          "2022-12-29T03:04:16.550000+00:00",
          "2022-12-29T08:03:41.600000+00:00",
          "2022-12-30T04:01:21.800000+00:00",
          "2022-12-30T09:00:46.849999+00:00",
          "2022-12-30T14:00:11.900000+00:00",
          "2022-12-30T18:59:36.950000+00:00"
         ],
         "y": [
          2,
          10,
          1,
          3,
          2,
          1,
          3,
          1,
          14,
          5,
          7,
          1
         ]
        },
        {
         "hoverinfo": "text",
         "hovertext": [
          "<b>Topic 6</b><br>Words: covidmasihada, tetapprokescovid, yaa, diberikan, covid",
          "<b>Topic 6</b><br>Words: bandung, covid, kasus, pemkot, komunis",
          "<b>Topic 6</b><br>Words: covid, atasi, wismaatlet, sukses, jokowi",
          "<b>Topic 6</b><br>Words: perangkat, riono, relevan, mempunyai, pandu",
          "<b>Topic 6</b><br>Words: pandu, covid, sarana, memadai, diakhiri",
          "<b>Topic 6</b><br>Words: kontan, covid, longgarkan, internasional, jepang",
          "<b>Topic 6</b><br>Words: nasib, menyampaikan, pernyataan, tentang, bakal",
          "<b>Topic 6</b><br>Words: covid, horeeeeeee, jokowicabutppkm, pokmdicabut, pandemicovid",
          "<b>Topic 6</b><br>Words: covid, jokowi, ppkm, sukses, tekankan",
          "<b>Topic 6</b><br>Words: kasus, covid, penambahan, deretan, keseluruhan",
          "<b>Topic 6</b><br>Words: terkendali, situasi, pandemi, covid, cabut"
         ],
         "marker": {
          "color": "#CC79A7"
         },
         "mode": "lines",
         "name": "6_covid_atasi_wismaatlet_sukses",
         "type": "scatter",
         "x": [
          "2022-12-27T01:10:06.049999+00:00",
          "2022-12-27T21:07:46.249999+00:00",
          "2022-12-28T02:07:11.300000+00:00",
          "2022-12-28T22:04:51.500000+00:00",
          "2022-12-29T03:04:16.550000+00:00",
          "2022-12-29T08:03:41.600000+00:00",
          "2022-12-29T23:01:56.750000+00:00",
          "2022-12-30T04:01:21.800000+00:00",
          "2022-12-30T09:00:46.849999+00:00",
          "2022-12-30T14:00:11.900000+00:00",
          "2022-12-30T18:59:36.950000+00:00"
         ],
         "y": [
          2,
          2,
          29,
          1,
          2,
          1,
          2,
          2,
          4,
          4,
          1
         ]
        },
        {
         "hoverinfo": "text",
         "hovertext": [
          "<b>Topic 7</b><br>Words: seberapa, pakar, kata, efektif, melarang",
          "<b>Topic 7</b><br>Words: justru, hal, framing, bermasalah, menyandera",
          "<b>Topic 7</b><br>Words: bata, subang, jokowi, realisasinya, merombak",
          "<b>Topic 7</b><br>Words: merombak, realisasinya, reshuffle, medcomid, kabinet",
          "<b>Topic 7</b><br>Words: menggaungkan, sinyal, pemberlakuan, ri, widodo",
          "<b>Topic 7</b><br>Words: instruksikan, dekat, penyelesaian, iknsolusinkrimaju, penghentian",
          "<b>Topic 7</b><br>Words: smi, bu, nkri, memperpanjang, presidenku",
          "<b>Topic 7</b><br>Words: suramadu, gratiskan, jatim, pemprov, jembatan",
          "<b>Topic 7</b><br>Words: pembatasan, ppkm, pemberlakuan, kegiatan, jokowi",
          "<b>Topic 7</b><br>Words: widodo, joko, mencabut, ppkm, pembatasan",
          "<b>Topic 7</b><br>Words: pembatasan, pemberlakuan, mencabut, kegiatan, jumat",
          "<b>Topic 7</b><br>Words: inmendagri, terbit, pemberlakuan, kegiatan, pembatasan"
         ],
         "marker": {
          "color": "#E69F00"
         },
         "mode": "lines",
         "name": "7_widodo_joko_pembatasan_ppkm",
         "type": "scatter",
         "x": [
          "2022-12-26T20:04:41.699000+00:00",
          "2022-12-27T01:10:06.049999+00:00",
          "2022-12-27T06:09:31.100000+00:00",
          "2022-12-27T11:08:56.150000+00:00",
          "2022-12-28T12:06:01.400000+00:00",
          "2022-12-28T22:04:51.500000+00:00",
          "2022-12-29T03:04:16.550000+00:00",
          "2022-12-29T08:03:41.600000+00:00",
          "2022-12-30T04:01:21.800000+00:00",
          "2022-12-30T09:00:46.849999+00:00",
          "2022-12-30T14:00:11.900000+00:00",
          "2022-12-30T18:59:36.950000+00:00"
         ],
         "y": [
          1,
          2,
          3,
          1,
          1,
          1,
          2,
          2,
          7,
          16,
          3,
          2
         ]
        },
        {
         "hoverinfo": "text",
         "hovertext": [
          "<b>Topic 8</b><br>Words: ejek, notice, month, dini, one",
          "<b>Topic 8</b><br>Words: aneh, aseli, jelek, kebijaksanaan, sepakat",
          "<b>Topic 8</b><br>Words: ampas, banget, kebijakan, goblok, aneh",
          "<b>Topic 8</b><br>Words: sesuatu, liga, hmmmm, cipta, concussion",
          "<b>Topic 8</b><br>Words: wes, entek, koyok, ngeneki, taek",
          "<b>Topic 8</b><br>Words: ngentod, inisih, hahahaha, gjls, latah",
          "<b>Topic 8</b><br>Words: tolol, penutup, semisal, konyol, bijak",
          "<b>Topic 8</b><br>Words: lomba, jelek, berlomba, bikin, kebijakan",
          "<b>Topic 8</b><br>Words: gamasuk, asw, sakit, moneter, akal",
          "<b>Topic 8</b><br>Words: goblok, ciptakan, taek, bijak, tdk",
          "<b>Topic 8</b><br>Words: yaaaaa, cepet, menyesuaikan, semoga, kebijakan",
          "<b>Topic 8</b><br>Words: aneh, kesini, dihapus, mfaat, belakangan"
         ],
         "marker": {
          "color": "#56B4E9"
         },
         "mode": "lines",
         "name": "8_goblok_aneh_paling_taek",
         "type": "scatter",
         "x": [
          "2022-12-27T11:08:56.150000+00:00",
          "2022-12-28T02:07:11.300000+00:00",
          "2022-12-28T07:06:36.350000+00:00",
          "2022-12-28T12:06:01.400000+00:00",
          "2022-12-28T22:04:51.500000+00:00",
          "2022-12-29T03:04:16.550000+00:00",
          "2022-12-29T08:03:41.600000+00:00",
          "2022-12-29T13:03:06.649999+00:00",
          "2022-12-29T18:02:31.700000+00:00",
          "2022-12-29T23:01:56.750000+00:00",
          "2022-12-30T04:01:21.800000+00:00",
          "2022-12-30T09:00:46.849999+00:00"
         ],
         "y": [
          2,
          4,
          1,
          3,
          2,
          10,
          6,
          1,
          2,
          4,
          1,
          4
         ]
        },
        {
         "hoverinfo": "text",
         "hovertext": [
          "<b>Topic 9</b><br>Words: kementerian, dalam, negeri, tim, bidang",
          "<b>Topic 9</b><br>Words: pph, pajak, penghasilan, termuda, bersiap",
          "<b>Topic 9</b><br>Words: diinisiasi, pspk, asesmen, pemantik, literasi",
          "<b>Topic 9</b><br>Words: strategis, isu, memohon, konoha, menyerahkan",
          "<b>Topic 9</b><br>Words: optimalkan, kepgub, posko, pjlp, pengamat",
          "<b>Topic 9</b><br>Words: perempuan, puan, keterlibatan, mengabaikan, peran",
          "<b>Topic 9</b><br>Words: dalam, kementrian, strategis, isu, puan",
          "<b>Topic 9</b><br>Words: panrb, kamis, pelayanan, anugerah, warjiyo",
          "<b>Topic 9</b><br>Words: cadangan, pengetahuan, ancam, geopolitik, menggantikan",
          "<b>Topic 9</b><br>Words: nusahima, cianjur, assessment, inayah, rancagoong",
          "<b>Topic 9</b><br>Words: submit, tata, keuangan, analis, negeri",
          "<b>Topic 9</b><br>Words: kepentingan, keselamatan, terusan, science, gausa",
          "<b>Topic 9</b><br>Words: publik, puan, perempuan, keterlibatan, proses",
          "<b>Topic 9</b><br>Words: puan, perempuan, keterlibatan, peran, pilpres"
         ],
         "marker": {
          "color": "#009E73"
         },
         "mode": "lines",
         "name": "9_dalam_publik_puan_perempuan",
         "type": "scatter",
         "x": [
          "2022-12-27T01:10:06.049999+00:00",
          "2022-12-27T06:09:31.100000+00:00",
          "2022-12-27T11:08:56.150000+00:00",
          "2022-12-28T02:07:11.300000+00:00",
          "2022-12-28T07:06:36.350000+00:00",
          "2022-12-28T12:06:01.400000+00:00",
          "2022-12-28T22:04:51.500000+00:00",
          "2022-12-29T03:04:16.550000+00:00",
          "2022-12-29T08:03:41.600000+00:00",
          "2022-12-29T18:02:31.700000+00:00",
          "2022-12-29T23:01:56.750000+00:00",
          "2022-12-30T04:01:21.800000+00:00",
          "2022-12-30T09:00:46.849999+00:00",
          "2022-12-30T14:00:11.900000+00:00"
         ],
         "y": [
          5,
          4,
          1,
          3,
          3,
          3,
          3,
          2,
          3,
          1,
          3,
          1,
          5,
          3
         ]
        },
        {
         "hoverinfo": "text",
         "hovertext": [
          "<b>Topic 10</b><br>Words: jokowibapakinfrastruktur, stabilitas, menjaga, pembangunanuntukrakyat, jokowipresidenku",
          "<b>Topic 10</b><br>Words: jokowibapakinfrastruktur, pembangunanuntukrakyat, jokowimembangunnegeri, jokowimajubersamaindonesia, presidenjokowihebat",
          "<b>Topic 10</b><br>Words: jokowibapakinfrastruktur, asn, siapkan, pembangunanuntukrakyat, jokowipresidenku",
          "<b>Topic 10</b><br>Words: asn, siapkan, jokowibapakinfrastruktur, pembangunanuntukrakyat, jokowimembangunnegeri",
          "<b>Topic 10</b><br>Words: jokowibapakinfrastruktur, pembangunanuntukrakyat, jokowimembangunnegeri, presidenjokowihebat, jokowipresidenku",
          "<b>Topic 10</b><br>Words: jokowibapakinfrastruktur, pembangunanuntukrakyat, jokowimembangunnegeri, jokowipresidenku, presidenjokowihebat",
          "<b>Topic 10</b><br>Words: jokowibapakinfrastruktur, pembangunanuntukrakyat, jokowimembangunnegeri, jokowipresidenku, presidenjokowihebat",
          "<b>Topic 10</b><br>Words: jokowibapakinfrastruktur, stabilitas, menjaga, perekonomian, diterapkan"
         ],
         "marker": {
          "color": "#F0E442"
         },
         "mode": "lines",
         "name": "10_jokowibapakinfrastruktur_pembangunanu...",
         "type": "scatter",
         "x": [
          "2022-12-27T01:10:06.049999+00:00",
          "2022-12-27T06:09:31.100000+00:00",
          "2022-12-28T02:07:11.300000+00:00",
          "2022-12-28T07:06:36.350000+00:00",
          "2022-12-29T03:04:16.550000+00:00",
          "2022-12-29T08:03:41.600000+00:00",
          "2022-12-30T04:01:21.800000+00:00",
          "2022-12-30T09:00:46.849999+00:00"
         ],
         "y": [
          3,
          1,
          10,
          8,
          7,
          2,
          6,
          2
         ]
        },
        {
         "hoverinfo": "text",
         "hovertext": [
          "<b>Topic 11</b><br>Words: kemakmuran, sejalan, demi, semua, indonesia",
          "<b>Topic 11</b><br>Words: kemakmuran, sejalan, papua, demi, semua",
          "<b>Topic 11</b><br>Words: kemakmuran, sejalan, demi, semua, korea",
          "<b>Topic 11</b><br>Words: kemakmuran, papua, sejalan, jual, demi",
          "<b>Topic 11</b><br>Words: kemakmuran, sejalan, demi, pembangunan, semua",
          "<b>Topic 11</b><br>Words: hacker, papua, aas, korea, barat",
          "<b>Topic 11</b><br>Words: korea, terpopuler, setidaknya, mengincar, menuding",
          "<b>Topic 11</b><br>Words: semangat, kemakmuran, beras, perbuatan, pemkab",
          "<b>Topic 11</b><br>Words: anulir, copot, segera, mereka, semua",
          "<b>Topic 11</b><br>Words: rezim, abai, tangani, pernikahan, gizi",
          "<b>Topic 11</b><br>Words: ojk, lima, modal, sektor, pasar",
          "<b>Topic 11</b><br>Words: papua, uu, the, staf, dilahirkannya",
          "<b>Topic 11</b><br>Words: papua, otsus, dob, barat, diberikan",
          "<b>Topic 11</b><br>Words: jurdil, pemilu, semangat, kemakmuran, demi",
          "<b>Topic 11</b><br>Words: akhirnya, rumah, pemodal, tapak, developer"
         ],
         "marker": {
          "color": "#D55E00"
         },
         "mode": "lines",
         "name": "11_kemakmuran_papua_sejalan_demi",
         "type": "scatter",
         "x": [
          "2022-12-26T20:04:41.699000+00:00",
          "2022-12-27T01:10:06.049999+00:00",
          "2022-12-27T06:09:31.100000+00:00",
          "2022-12-27T11:08:56.150000+00:00",
          "2022-12-27T16:08:21.200000+00:00",
          "2022-12-28T02:07:11.300000+00:00",
          "2022-12-28T07:06:36.350000+00:00",
          "2022-12-28T12:06:01.400000+00:00",
          "2022-12-28T17:05:26.449999+00:00",
          "2022-12-28T22:04:51.500000+00:00",
          "2022-12-29T08:03:41.600000+00:00",
          "2022-12-29T13:03:06.649999+00:00",
          "2022-12-29T23:01:56.750000+00:00",
          "2022-12-30T04:01:21.800000+00:00",
          "2022-12-30T14:00:11.900000+00:00"
         ],
         "y": [
          5,
          6,
          5,
          3,
          1,
          3,
          1,
          3,
          1,
          1,
          1,
          1,
          2,
          4,
          1
         ]
        },
        {
         "hoverinfo": "text",
         "hovertext": [
          "<b>Topic 12</b><br>Words: pemeritah, memperhatikan, bawah, segala, kami",
          "<b>Topic 12</b><br>Words: pemeritah, aceh, memperhatikan, bawah, segala",
          "<b>Topic 12</b><br>Words: pemeritah, memperhatikan, bawah, segala, kami",
          "<b>Topic 12</b><br>Words: pemeritah, memperhatikan, bawah, segala, kami",
          "<b>Topic 12</b><br>Words: denniserfindo, renajkt, pemeritah, memperhatikan, bawah",
          "<b>Topic 12</b><br>Words: bencana, serangkaian, efek, pupr, kaltim",
          "<b>Topic 12</b><br>Words: meresahkan, menindas, memikirkan, pedagang, umkm",
          "<b>Topic 12</b><br>Words: toleransi, sekolahtoleransi, ranpe, wahidfoundation, wahid",
          "<b>Topic 12</b><br>Words: pundi, harta, pemerhati, didengar, rispek",
          "<b>Topic 12</b><br>Words: malas, rekanasn, kemenpanrb, birokrasiberdampak, casn",
          "<b>Topic 12</b><br>Words: mengantisipasi, effendy, muhadjir, mengeluarkan, pmk",
          "<b>Topic 12</b><br>Words: teteup, pantun, berbalas, setali, menyengsarakan",
          "<b>Topic 12</b><br>Words: prasojo, darmawan, selamat, ikut, meraih",
          "<b>Topic 12</b><br>Words: dipersilakan, kemenkopmk, bergembira, merayakan, tahunbaru",
          "<b>Topic 12</b><br>Words: koordinator, mengantisipasi, manusia, muhadjir, effendy"
         ],
         "marker": {
          "color": "#0072B2"
         },
         "mode": "lines",
         "name": "12_pemeritah_memperhatikan_bawah_segala",
         "type": "scatter",
         "x": [
          "2022-12-26T20:04:41.699000+00:00",
          "2022-12-27T01:10:06.049999+00:00",
          "2022-12-27T06:09:31.100000+00:00",
          "2022-12-27T11:08:56.150000+00:00",
          "2022-12-27T16:08:21.200000+00:00",
          "2022-12-27T21:07:46.249999+00:00",
          "2022-12-28T02:07:11.300000+00:00",
          "2022-12-28T07:06:36.350000+00:00",
          "2022-12-28T12:06:01.400000+00:00",
          "2022-12-29T03:04:16.550000+00:00",
          "2022-12-29T08:03:41.600000+00:00",
          "2022-12-29T18:02:31.700000+00:00",
          "2022-12-29T23:01:56.750000+00:00",
          "2022-12-30T09:00:46.849999+00:00",
          "2022-12-30T14:00:11.900000+00:00"
         ],
         "y": [
          5,
          5,
          4,
          3,
          2,
          3,
          1,
          1,
          2,
          3,
          3,
          1,
          1,
          1,
          1
         ]
        },
        {
         "hoverinfo": "text",
         "hovertext": [
          "<b>Topic 13</b><br>Words: proporsional, antipandemi, cina, menyatakan, harus",
          "<b>Topic 13</b><br>Words: difokuskan, apbn, tahun, presiden, ppkm",
          "<b>Topic 13</b><br>Words: ppkm, breaking, resmi, cabut, news",
          "<b>Topic 13</b><br>Words: umumkan, ppkm, jokowi, presiden, resmi",
          "<b>Topic 13</b><br>Words: landasan, coverbothside, umumkan, ungkap, ppkm",
          "<b>Topic 13</b><br>Words: sumatra, bandarlampung, cabut, resmi, ppkm"
         ],
         "marker": {
          "color": "#CC79A7"
         },
         "mode": "lines",
         "name": "13_ppkm_umumkan_jokowi_resmi",
         "type": "scatter",
         "x": [
          "2022-12-27T11:08:56.150000+00:00",
          "2022-12-28T02:07:11.300000+00:00",
          "2022-12-30T04:01:21.800000+00:00",
          "2022-12-30T09:00:46.849999+00:00",
          "2022-12-30T14:00:11.900000+00:00",
          "2022-12-30T18:59:36.950000+00:00"
         ],
         "y": [
          1,
          1,
          14,
          13,
          2,
          1
         ]
        },
        {
         "hoverinfo": "text",
         "hovertext": [
          "<b>Topic 14</b><br>Words: tanah, konsolidasi, pemilikan, menata, penguasaan",
          "<b>Topic 14</b><br>Words: sehari, perilaku, kesiapan, praktek, sebelum",
          "<b>Topic 14</b><br>Words: kilas, menurun, tren, terakhir, berencana",
          "<b>Topic 14</b><br>Words: kt, pertanian, konsolidasi, tanah, ve",
          "<b>Topic 14</b><br>Words: tanah, bisnis, lampu, ekspansi, konsolidasi",
          "<b>Topic 14</b><br>Words: iknsolusinkrimaju, evaluasi, menunggu, hasil, tanah",
          "<b>Topic 14</b><br>Words: penghapusan, tanah, konsolidasi, menata, pemilikan",
          "<b>Topic 14</b><br>Words: ppn, april, tanah, konsolidasi, menata",
          "<b>Topic 14</b><br>Words: tragis, esensi, berkerumun, pemberlakukan, memahami",
          "<b>Topic 14</b><br>Words: gianyar, prg, ppkm, mencabut, pasar",
          "<b>Topic 14</b><br>Words: hati, komponen, fungsinya, dicabut, telah",
          "<b>Topic 14</b><br>Words: jumat, pemberlakuan, kemarin, kegiatan, mencabut"
         ],
         "marker": {
          "color": "#E69F00"
         },
         "mode": "lines",
         "name": "14_tanah_konsolidasi_pemilikan_penguasaa...",
         "type": "scatter",
         "x": [
          "2022-12-27T01:10:06.049999+00:00",
          "2022-12-27T06:09:31.100000+00:00",
          "2022-12-27T21:07:46.249999+00:00",
          "2022-12-28T02:07:11.300000+00:00",
          "2022-12-28T07:06:36.350000+00:00",
          "2022-12-28T22:04:51.500000+00:00",
          "2022-12-29T03:04:16.550000+00:00",
          "2022-12-29T23:01:56.750000+00:00",
          "2022-12-30T04:01:21.800000+00:00",
          "2022-12-30T09:00:46.849999+00:00",
          "2022-12-30T14:00:11.900000+00:00",
          "2022-12-30T18:59:36.950000+00:00"
         ],
         "y": [
          2,
          1,
          1,
          1,
          2,
          4,
          2,
          3,
          3,
          5,
          2,
          3
         ]
        },
        {
         "hoverinfo": "text",
         "hovertext": [
          "<b>Topic 15</b><br>Words: sama, ganjar, presiden, terbaik, bangsa",
          "<b>Topic 15</b><br>Words: sama, ganjar, presiden, asyik, keren",
          "<b>Topic 15</b><br>Words: sama, ganjar, terbaik, presiden, bangsa",
          "<b>Topic 15</b><br>Words: sama, ganjar, terbaik, mari, bangsa",
          "<b>Topic 15</b><br>Words: sama, gan, terbaik, mari, bangsa",
          "<b>Topic 15</b><br>Words: perempuan, taliban, membalikkan, afghanistan, menargetkan",
          "<b>Topic 15</b><br>Words: taliban, perempuan, pbb, targetkan, kecam",
          "<b>Topic 15</b><br>Words: perempuan, taliban, dewan, pbb, ham"
         ],
         "marker": {
          "color": "#56B4E9"
         },
         "mode": "lines",
         "name": "15_sama_ganjar_perempuan_taliban",
         "type": "scatter",
         "x": [
          "2022-12-26T20:04:41.699000+00:00",
          "2022-12-27T01:10:06.049999+00:00",
          "2022-12-27T06:09:31.100000+00:00",
          "2022-12-27T11:08:56.150000+00:00",
          "2022-12-27T16:08:21.200000+00:00",
          "2022-12-27T21:07:46.249999+00:00",
          "2022-12-28T02:07:11.300000+00:00",
          "2022-12-28T12:06:01.400000+00:00"
         ],
         "y": [
          5,
          7,
          4,
          5,
          1,
          2,
          4,
          1
         ]
        },
        {
         "hoverinfo": "text",
         "hovertext": [
          "<b>Topic 16</b><br>Words: murahan, pertumbuhan, jatim, rangka, mendorong",
          "<b>Topic 16</b><br>Words: cuci, dokumen, uang, tujuan, saya",
          "<b>Topic 16</b><br>Words: pertanyakan, mentan, asosiasi, lhk, sawit",
          "<b>Topic 16</b><br>Words: pasundan, gema, kontroversial, cianjur, kecam",
          "<b>Topic 16</b><br>Words: title, ruginya, berlanjut, agung, mahkamah",
          "<b>Topic 16</b><br>Words: raja, nemu, wkwkk, vakcinazi, alkisah",
          "<b>Topic 16</b><br>Words: kbb, anis, problem, tingkat, terkait",
          "<b>Topic 16</b><br>Words: mengajarkan, kesungguhan, ditulis, pembuka, permainan",
          "<b>Topic 16</b><br>Words: kebajikaan, perisai, kak, kau, keamanan",
          "<b>Topic 16</b><br>Words: diwariskan, dengki, apindo, dorong, meneruskan",
          "<b>Topic 16</b><br>Words: tiada, boomer, tanpa, tolol, hari",
          "<b>Topic 16</b><br>Words: tangkap, quo, app, perikanan, langganan",
          "<b>Topic 16</b><br>Words: sambut, kadin, dorong, pertumbuhan, pencabutan"
         ],
         "marker": {
          "color": "#009E73"
         },
         "mode": "lines",
         "name": "16_dorong_perisai_kebajikaan_apindo",
         "type": "scatter",
         "x": [
          "2022-12-27T01:10:06.049999+00:00",
          "2022-12-27T06:09:31.100000+00:00",
          "2022-12-27T11:08:56.150000+00:00",
          "2022-12-28T02:07:11.300000+00:00",
          "2022-12-28T07:06:36.350000+00:00",
          "2022-12-28T12:06:01.400000+00:00",
          "2022-12-28T17:05:26.449999+00:00",
          "2022-12-29T03:04:16.550000+00:00",
          "2022-12-29T08:03:41.600000+00:00",
          "2022-12-29T13:03:06.649999+00:00",
          "2022-12-30T04:01:21.800000+00:00",
          "2022-12-30T09:00:46.849999+00:00",
          "2022-12-30T14:00:11.900000+00:00"
         ],
         "y": [
          2,
          1,
          2,
          1,
          2,
          3,
          1,
          4,
          5,
          3,
          1,
          2,
          1
         ]
        },
        {
         "hoverinfo": "text",
         "hovertext": [
          "<b>Topic 17</b><br>Words: yogyakarta, pemerintah, istimewa, terus, kebiij",
          "<b>Topic 17</b><br>Words: kebiij, istimewa, daerah, kesejahteraan, membuat",
          "<b>Topic 17</b><br>Words: yogyakarta, terus, pemerintah, penuh, kebiij",
          "<b>Topic 17</b><br>Words: terus, yogyakarta, penuh, pemerintah, mendukung",
          "<b>Topic 17</b><br>Words: terus, penuh, yogyakarta, pemerintah, mendukung",
          "<b>Topic 17</b><br>Words: perokok, akomodatif, kureng, pengawasannya, terlindungi",
          "<b>Topic 17</b><br>Words: katalog, ukm, kemenkop, elektronik, lkpp",
          "<b>Topic 17</b><br>Words: ancang, arsjadrasjid, inklusifkolaboratif, arsjad, rasjid",
          "<b>Topic 17</b><br>Words: aset, daerah, penyerahan, pertanahan, sertipikasi"
         ],
         "marker": {
          "color": "#F0E442"
         },
         "mode": "lines",
         "name": "17_yogyakarta_terus_pemerintah_penuh",
         "type": "scatter",
         "x": [
          "2022-12-26T20:04:41.699000+00:00",
          "2022-12-27T01:10:06.049999+00:00",
          "2022-12-27T06:09:31.100000+00:00",
          "2022-12-27T11:08:56.150000+00:00",
          "2022-12-27T16:08:21.200000+00:00",
          "2022-12-28T12:06:01.400000+00:00",
          "2022-12-29T08:03:41.600000+00:00",
          "2022-12-29T23:01:56.750000+00:00",
          "2022-12-30T09:00:46.849999+00:00"
         ],
         "y": [
          7,
          2,
          6,
          7,
          2,
          1,
          1,
          1,
          1
         ]
        },
        {
         "hoverinfo": "text",
         "hovertext": [
          "<b>Topic 18</b><br>Words: baik, pastinya, menghasilkan, hal, maju",
          "<b>Topic 18</b><br>Words: serampangan, jawane, gagal, bahasa, baik",
          "<b>Topic 18</b><br>Words: baik, pastinya, menghasilkan, hal, maju",
          "<b>Topic 18</b><br>Words: konflik, gitu, ngerusak, sawitttt, kasi",
          "<b>Topic 18</b><br>Words: sebutkan, imbasnya, komuter, membedakan, seseorang",
          "<b>Topic 18</b><br>Words: jijik, jingung, gatau, bingung, orang",
          "<b>Topic 18</b><br>Words: esdm, ron, gengs, migas, oktan",
          "<b>Topic 18</b><br>Words: orang, bayangkan, dibangun, dislike, sesusah",
          "<b>Topic 18</b><br>Words: tinggi, tolak, ukur, dihajar, sosialis",
          "<b>Topic 18</b><br>Words: cukup, orang, kajiannya, sekolahnya, sometimes",
          "<b>Topic 18</b><br>Words: warbiyasak, pengambil, wakanda, emang, di",
          "<b>Topic 18</b><br>Words: haram, kebanyakan, makan, makanya, duit",
          "<b>Topic 18</b><br>Words: mingkem, pro, omnimbus, loe, elo",
          "<b>Topic 18</b><br>Words: sepur, proxy, perkara, haqqul, negara",
          "<b>Topic 18</b><br>Words: alfie, kiranya, tka, wew, membludak",
          "<b>Topic 18</b><br>Words: feel, artinya, diskriminasi, kah, absurd"
         ],
         "marker": {
          "color": "#D55E00"
         },
         "mode": "lines",
         "name": "18_orang_baik_pastinya_menghasilkan",
         "type": "scatter",
         "x": [
          "2022-12-26T20:04:41.699000+00:00",
          "2022-12-27T01:10:06.049999+00:00",
          "2022-12-27T06:09:31.100000+00:00",
          "2022-12-27T11:08:56.150000+00:00",
          "2022-12-28T02:07:11.300000+00:00",
          "2022-12-28T07:06:36.350000+00:00",
          "2022-12-28T12:06:01.400000+00:00",
          "2022-12-28T22:04:51.500000+00:00",
          "2022-12-29T03:04:16.550000+00:00",
          "2022-12-29T08:03:41.600000+00:00",
          "2022-12-29T13:03:06.649999+00:00",
          "2022-12-29T18:02:31.700000+00:00",
          "2022-12-29T23:01:56.750000+00:00",
          "2022-12-30T04:01:21.800000+00:00",
          "2022-12-30T09:00:46.849999+00:00",
          "2022-12-30T18:59:36.950000+00:00"
         ],
         "y": [
          2,
          2,
          1,
          2,
          1,
          2,
          1,
          2,
          2,
          3,
          1,
          1,
          2,
          1,
          3,
          1
         ]
        },
        {
         "hoverinfo": "text",
         "hovertext": [
          "<b>Topic 19</b><br>Words: polrestabesmedan, balam, polresta, jokowihebat, kesejahteraan",
          "<b>Topic 19</b><br>Words: polrestabesmedan, polri, krisis, berat, bersinergi",
          "<b>Topic 19</b><br>Words: polrestabesmedan, memperhatikan, kepentingan, kesejahteraan, demi",
          "<b>Topic 19</b><br>Words: jokowihebat, polrestabes, medan, biasa, luar",
          "<b>Topic 19</b><br>Words: polrestabesmedan, polresta, balam, ino, harianto",
          "<b>Topic 19</b><br>Words: pola, asuh, pendidikan, masyarakat, pemerintah",
          "<b>Topic 19</b><br>Words: bauksit, memperkirakan, surplus, penyetopan, legislator",
          "<b>Topic 19</b><br>Words: polri, berat, korlantas, nataru, kamseltibcar",
          "<b>Topic 19</b><br>Words: gapeduli, jujur, gw, udah, mau",
          "<b>Topic 19</b><br>Words: mengatasi, resesi, ekonomi, opini, lewat"
         ],
         "marker": {
          "color": "#0072B2"
         },
         "mode": "lines",
         "name": "19_polrestabesmedan_jokowihebat_polri_po...",
         "type": "scatter",
         "x": [
          "2022-12-26T20:04:41.699000+00:00",
          "2022-12-27T01:10:06.049999+00:00",
          "2022-12-27T06:09:31.100000+00:00",
          "2022-12-27T11:08:56.150000+00:00",
          "2022-12-27T16:08:21.200000+00:00",
          "2022-12-27T21:07:46.249999+00:00",
          "2022-12-28T02:07:11.300000+00:00",
          "2022-12-29T03:04:16.550000+00:00",
          "2022-12-29T13:03:06.649999+00:00",
          "2022-12-30T04:01:21.800000+00:00"
         ],
         "y": [
          7,
          4,
          1,
          4,
          4,
          1,
          1,
          2,
          1,
          1
         ]
        }
       ],
       "layout": {
        "height": 450,
        "hoverlabel": {
         "bgcolor": "white",
         "font": {
          "family": "Rockwell",
          "size": 16
         }
        },
        "legend": {
         "title": {
          "text": "<b>Global Topic Representation"
         }
        },
        "template": {
         "data": {
          "bar": [
           {
            "error_x": {
             "color": "rgb(36,36,36)"
            },
            "error_y": {
             "color": "rgb(36,36,36)"
            },
            "marker": {
             "line": {
              "color": "white",
              "width": 0.5
             },
             "pattern": {
              "fillmode": "overlay",
              "size": 10,
              "solidity": 0.2
             }
            },
            "type": "bar"
           }
          ],
          "barpolar": [
           {
            "marker": {
             "line": {
              "color": "white",
              "width": 0.5
             },
             "pattern": {
              "fillmode": "overlay",
              "size": 10,
              "solidity": 0.2
             }
            },
            "type": "barpolar"
           }
          ],
          "carpet": [
           {
            "aaxis": {
             "endlinecolor": "rgb(36,36,36)",
             "gridcolor": "white",
             "linecolor": "white",
             "minorgridcolor": "white",
             "startlinecolor": "rgb(36,36,36)"
            },
            "baxis": {
             "endlinecolor": "rgb(36,36,36)",
             "gridcolor": "white",
             "linecolor": "white",
             "minorgridcolor": "white",
             "startlinecolor": "rgb(36,36,36)"
            },
            "type": "carpet"
           }
          ],
          "choropleth": [
           {
            "colorbar": {
             "outlinewidth": 1,
             "tickcolor": "rgb(36,36,36)",
             "ticks": "outside"
            },
            "type": "choropleth"
           }
          ],
          "contour": [
           {
            "colorbar": {
             "outlinewidth": 1,
             "tickcolor": "rgb(36,36,36)",
             "ticks": "outside"
            },
            "colorscale": [
             [
              0,
              "#440154"
             ],
             [
              0.1111111111111111,
              "#482878"
             ],
             [
              0.2222222222222222,
              "#3e4989"
             ],
             [
              0.3333333333333333,
              "#31688e"
             ],
             [
              0.4444444444444444,
              "#26828e"
             ],
             [
              0.5555555555555556,
              "#1f9e89"
             ],
             [
              0.6666666666666666,
              "#35b779"
             ],
             [
              0.7777777777777778,
              "#6ece58"
             ],
             [
              0.8888888888888888,
              "#b5de2b"
             ],
             [
              1,
              "#fde725"
             ]
            ],
            "type": "contour"
           }
          ],
          "contourcarpet": [
           {
            "colorbar": {
             "outlinewidth": 1,
             "tickcolor": "rgb(36,36,36)",
             "ticks": "outside"
            },
            "type": "contourcarpet"
           }
          ],
          "heatmap": [
           {
            "colorbar": {
             "outlinewidth": 1,
             "tickcolor": "rgb(36,36,36)",
             "ticks": "outside"
            },
            "colorscale": [
             [
              0,
              "#440154"
             ],
             [
              0.1111111111111111,
              "#482878"
             ],
             [
              0.2222222222222222,
              "#3e4989"
             ],
             [
              0.3333333333333333,
              "#31688e"
             ],
             [
              0.4444444444444444,
              "#26828e"
             ],
             [
              0.5555555555555556,
              "#1f9e89"
             ],
             [
              0.6666666666666666,
              "#35b779"
             ],
             [
              0.7777777777777778,
              "#6ece58"
             ],
             [
              0.8888888888888888,
              "#b5de2b"
             ],
             [
              1,
              "#fde725"
             ]
            ],
            "type": "heatmap"
           }
          ],
          "heatmapgl": [
           {
            "colorbar": {
             "outlinewidth": 1,
             "tickcolor": "rgb(36,36,36)",
             "ticks": "outside"
            },
            "colorscale": [
             [
              0,
              "#440154"
             ],
             [
              0.1111111111111111,
              "#482878"
             ],
             [
              0.2222222222222222,
              "#3e4989"
             ],
             [
              0.3333333333333333,
              "#31688e"
             ],
             [
              0.4444444444444444,
              "#26828e"
             ],
             [
              0.5555555555555556,
              "#1f9e89"
             ],
             [
              0.6666666666666666,
              "#35b779"
             ],
             [
              0.7777777777777778,
              "#6ece58"
             ],
             [
              0.8888888888888888,
              "#b5de2b"
             ],
             [
              1,
              "#fde725"
             ]
            ],
            "type": "heatmapgl"
           }
          ],
          "histogram": [
           {
            "marker": {
             "line": {
              "color": "white",
              "width": 0.6
             }
            },
            "type": "histogram"
           }
          ],
          "histogram2d": [
           {
            "colorbar": {
             "outlinewidth": 1,
             "tickcolor": "rgb(36,36,36)",
             "ticks": "outside"
            },
            "colorscale": [
             [
              0,
              "#440154"
             ],
             [
              0.1111111111111111,
              "#482878"
             ],
             [
              0.2222222222222222,
              "#3e4989"
             ],
             [
              0.3333333333333333,
              "#31688e"
             ],
             [
              0.4444444444444444,
              "#26828e"
             ],
             [
              0.5555555555555556,
              "#1f9e89"
             ],
             [
              0.6666666666666666,
              "#35b779"
             ],
             [
              0.7777777777777778,
              "#6ece58"
             ],
             [
              0.8888888888888888,
              "#b5de2b"
             ],
             [
              1,
              "#fde725"
             ]
            ],
            "type": "histogram2d"
           }
          ],
          "histogram2dcontour": [
           {
            "colorbar": {
             "outlinewidth": 1,
             "tickcolor": "rgb(36,36,36)",
             "ticks": "outside"
            },
            "colorscale": [
             [
              0,
              "#440154"
             ],
             [
              0.1111111111111111,
              "#482878"
             ],
             [
              0.2222222222222222,
              "#3e4989"
             ],
             [
              0.3333333333333333,
              "#31688e"
             ],
             [
              0.4444444444444444,
              "#26828e"
             ],
             [
              0.5555555555555556,
              "#1f9e89"
             ],
             [
              0.6666666666666666,
              "#35b779"
             ],
             [
              0.7777777777777778,
              "#6ece58"
             ],
             [
              0.8888888888888888,
              "#b5de2b"
             ],
             [
              1,
              "#fde725"
             ]
            ],
            "type": "histogram2dcontour"
           }
          ],
          "mesh3d": [
           {
            "colorbar": {
             "outlinewidth": 1,
             "tickcolor": "rgb(36,36,36)",
             "ticks": "outside"
            },
            "type": "mesh3d"
           }
          ],
          "parcoords": [
           {
            "line": {
             "colorbar": {
              "outlinewidth": 1,
              "tickcolor": "rgb(36,36,36)",
              "ticks": "outside"
             }
            },
            "type": "parcoords"
           }
          ],
          "pie": [
           {
            "automargin": true,
            "type": "pie"
           }
          ],
          "scatter": [
           {
            "fillpattern": {
             "fillmode": "overlay",
             "size": 10,
             "solidity": 0.2
            },
            "type": "scatter"
           }
          ],
          "scatter3d": [
           {
            "line": {
             "colorbar": {
              "outlinewidth": 1,
              "tickcolor": "rgb(36,36,36)",
              "ticks": "outside"
             }
            },
            "marker": {
             "colorbar": {
              "outlinewidth": 1,
              "tickcolor": "rgb(36,36,36)",
              "ticks": "outside"
             }
            },
            "type": "scatter3d"
           }
          ],
          "scattercarpet": [
           {
            "marker": {
             "colorbar": {
              "outlinewidth": 1,
              "tickcolor": "rgb(36,36,36)",
              "ticks": "outside"
             }
            },
            "type": "scattercarpet"
           }
          ],
          "scattergeo": [
           {
            "marker": {
             "colorbar": {
              "outlinewidth": 1,
              "tickcolor": "rgb(36,36,36)",
              "ticks": "outside"
             }
            },
            "type": "scattergeo"
           }
          ],
          "scattergl": [
           {
            "marker": {
             "colorbar": {
              "outlinewidth": 1,
              "tickcolor": "rgb(36,36,36)",
              "ticks": "outside"
             }
            },
            "type": "scattergl"
           }
          ],
          "scattermapbox": [
           {
            "marker": {
             "colorbar": {
              "outlinewidth": 1,
              "tickcolor": "rgb(36,36,36)",
              "ticks": "outside"
             }
            },
            "type": "scattermapbox"
           }
          ],
          "scatterpolar": [
           {
            "marker": {
             "colorbar": {
              "outlinewidth": 1,
              "tickcolor": "rgb(36,36,36)",
              "ticks": "outside"
             }
            },
            "type": "scatterpolar"
           }
          ],
          "scatterpolargl": [
           {
            "marker": {
             "colorbar": {
              "outlinewidth": 1,
              "tickcolor": "rgb(36,36,36)",
              "ticks": "outside"
             }
            },
            "type": "scatterpolargl"
           }
          ],
          "scatterternary": [
           {
            "marker": {
             "colorbar": {
              "outlinewidth": 1,
              "tickcolor": "rgb(36,36,36)",
              "ticks": "outside"
             }
            },
            "type": "scatterternary"
           }
          ],
          "surface": [
           {
            "colorbar": {
             "outlinewidth": 1,
             "tickcolor": "rgb(36,36,36)",
             "ticks": "outside"
            },
            "colorscale": [
             [
              0,
              "#440154"
             ],
             [
              0.1111111111111111,
              "#482878"
             ],
             [
              0.2222222222222222,
              "#3e4989"
             ],
             [
              0.3333333333333333,
              "#31688e"
             ],
             [
              0.4444444444444444,
              "#26828e"
             ],
             [
              0.5555555555555556,
              "#1f9e89"
             ],
             [
              0.6666666666666666,
              "#35b779"
             ],
             [
              0.7777777777777778,
              "#6ece58"
             ],
             [
              0.8888888888888888,
              "#b5de2b"
             ],
             [
              1,
              "#fde725"
             ]
            ],
            "type": "surface"
           }
          ],
          "table": [
           {
            "cells": {
             "fill": {
              "color": "rgb(237,237,237)"
             },
             "line": {
              "color": "white"
             }
            },
            "header": {
             "fill": {
              "color": "rgb(217,217,217)"
             },
             "line": {
              "color": "white"
             }
            },
            "type": "table"
           }
          ]
         },
         "layout": {
          "annotationdefaults": {
           "arrowhead": 0,
           "arrowwidth": 1
          },
          "autotypenumbers": "strict",
          "coloraxis": {
           "colorbar": {
            "outlinewidth": 1,
            "tickcolor": "rgb(36,36,36)",
            "ticks": "outside"
           }
          },
          "colorscale": {
           "diverging": [
            [
             0,
             "rgb(103,0,31)"
            ],
            [
             0.1,
             "rgb(178,24,43)"
            ],
            [
             0.2,
             "rgb(214,96,77)"
            ],
            [
             0.3,
             "rgb(244,165,130)"
            ],
            [
             0.4,
             "rgb(253,219,199)"
            ],
            [
             0.5,
             "rgb(247,247,247)"
            ],
            [
             0.6,
             "rgb(209,229,240)"
            ],
            [
             0.7,
             "rgb(146,197,222)"
            ],
            [
             0.8,
             "rgb(67,147,195)"
            ],
            [
             0.9,
             "rgb(33,102,172)"
            ],
            [
             1,
             "rgb(5,48,97)"
            ]
           ],
           "sequential": [
            [
             0,
             "#440154"
            ],
            [
             0.1111111111111111,
             "#482878"
            ],
            [
             0.2222222222222222,
             "#3e4989"
            ],
            [
             0.3333333333333333,
             "#31688e"
            ],
            [
             0.4444444444444444,
             "#26828e"
            ],
            [
             0.5555555555555556,
             "#1f9e89"
            ],
            [
             0.6666666666666666,
             "#35b779"
            ],
            [
             0.7777777777777778,
             "#6ece58"
            ],
            [
             0.8888888888888888,
             "#b5de2b"
            ],
            [
             1,
             "#fde725"
            ]
           ],
           "sequentialminus": [
            [
             0,
             "#440154"
            ],
            [
             0.1111111111111111,
             "#482878"
            ],
            [
             0.2222222222222222,
             "#3e4989"
            ],
            [
             0.3333333333333333,
             "#31688e"
            ],
            [
             0.4444444444444444,
             "#26828e"
            ],
            [
             0.5555555555555556,
             "#1f9e89"
            ],
            [
             0.6666666666666666,
             "#35b779"
            ],
            [
             0.7777777777777778,
             "#6ece58"
            ],
            [
             0.8888888888888888,
             "#b5de2b"
            ],
            [
             1,
             "#fde725"
            ]
           ]
          },
          "colorway": [
           "#1F77B4",
           "#FF7F0E",
           "#2CA02C",
           "#D62728",
           "#9467BD",
           "#8C564B",
           "#E377C2",
           "#7F7F7F",
           "#BCBD22",
           "#17BECF"
          ],
          "font": {
           "color": "rgb(36,36,36)"
          },
          "geo": {
           "bgcolor": "white",
           "lakecolor": "white",
           "landcolor": "white",
           "showlakes": true,
           "showland": true,
           "subunitcolor": "white"
          },
          "hoverlabel": {
           "align": "left"
          },
          "hovermode": "closest",
          "mapbox": {
           "style": "light"
          },
          "paper_bgcolor": "white",
          "plot_bgcolor": "white",
          "polar": {
           "angularaxis": {
            "gridcolor": "rgb(232,232,232)",
            "linecolor": "rgb(36,36,36)",
            "showgrid": false,
            "showline": true,
            "ticks": "outside"
           },
           "bgcolor": "white",
           "radialaxis": {
            "gridcolor": "rgb(232,232,232)",
            "linecolor": "rgb(36,36,36)",
            "showgrid": false,
            "showline": true,
            "ticks": "outside"
           }
          },
          "scene": {
           "xaxis": {
            "backgroundcolor": "white",
            "gridcolor": "rgb(232,232,232)",
            "gridwidth": 2,
            "linecolor": "rgb(36,36,36)",
            "showbackground": true,
            "showgrid": false,
            "showline": true,
            "ticks": "outside",
            "zeroline": false,
            "zerolinecolor": "rgb(36,36,36)"
           },
           "yaxis": {
            "backgroundcolor": "white",
            "gridcolor": "rgb(232,232,232)",
            "gridwidth": 2,
            "linecolor": "rgb(36,36,36)",
            "showbackground": true,
            "showgrid": false,
            "showline": true,
            "ticks": "outside",
            "zeroline": false,
            "zerolinecolor": "rgb(36,36,36)"
           },
           "zaxis": {
            "backgroundcolor": "white",
            "gridcolor": "rgb(232,232,232)",
            "gridwidth": 2,
            "linecolor": "rgb(36,36,36)",
            "showbackground": true,
            "showgrid": false,
            "showline": true,
            "ticks": "outside",
            "zeroline": false,
            "zerolinecolor": "rgb(36,36,36)"
           }
          },
          "shapedefaults": {
           "fillcolor": "black",
           "line": {
            "width": 0
           },
           "opacity": 0.3
          },
          "ternary": {
           "aaxis": {
            "gridcolor": "rgb(232,232,232)",
            "linecolor": "rgb(36,36,36)",
            "showgrid": false,
            "showline": true,
            "ticks": "outside"
           },
           "baxis": {
            "gridcolor": "rgb(232,232,232)",
            "linecolor": "rgb(36,36,36)",
            "showgrid": false,
            "showline": true,
            "ticks": "outside"
           },
           "bgcolor": "white",
           "caxis": {
            "gridcolor": "rgb(232,232,232)",
            "linecolor": "rgb(36,36,36)",
            "showgrid": false,
            "showline": true,
            "ticks": "outside"
           }
          },
          "title": {
           "x": 0.05
          },
          "xaxis": {
           "automargin": true,
           "gridcolor": "rgb(232,232,232)",
           "linecolor": "rgb(36,36,36)",
           "showgrid": false,
           "showline": true,
           "ticks": "outside",
           "title": {
            "standoff": 15
           },
           "zeroline": false,
           "zerolinecolor": "rgb(36,36,36)"
          },
          "yaxis": {
           "automargin": true,
           "gridcolor": "rgb(232,232,232)",
           "linecolor": "rgb(36,36,36)",
           "showgrid": false,
           "showline": true,
           "ticks": "outside",
           "title": {
            "standoff": 15
           },
           "zeroline": false,
           "zerolinecolor": "rgb(36,36,36)"
          }
         }
        },
        "title": {
         "font": {
          "color": "Black",
          "size": 22
         },
         "text": "<b>Topics over Time</b>",
         "x": 0.4,
         "xanchor": "center",
         "y": 0.95,
         "yanchor": "top"
        },
        "width": 1250,
        "xaxis": {
         "showgrid": true
        },
        "yaxis": {
         "showgrid": true,
         "title": {
          "text": "Frequency"
         }
        }
       }
      }
     },
     "metadata": {},
     "output_type": "display_data"
    }
   ],
   "source": [
    "topic_model.visualize_topics_over_time(topics_over_time, top_n_topics=20)"
   ]
  },
  {
   "cell_type": "code",
   "execution_count": 33,
   "metadata": {},
   "outputs": [
    {
     "data": {
      "text/html": [
       "<div>\n",
       "<style scoped>\n",
       "    .dataframe tbody tr th:only-of-type {\n",
       "        vertical-align: middle;\n",
       "    }\n",
       "\n",
       "    .dataframe tbody tr th {\n",
       "        vertical-align: top;\n",
       "    }\n",
       "\n",
       "    .dataframe thead th {\n",
       "        text-align: right;\n",
       "    }\n",
       "</style>\n",
       "<table border=\"1\" class=\"dataframe\">\n",
       "  <thead>\n",
       "    <tr style=\"text-align: right;\">\n",
       "      <th></th>\n",
       "      <th>Topic</th>\n",
       "      <th>Count</th>\n",
       "      <th>Name</th>\n",
       "      <th>Representation</th>\n",
       "      <th>Representative_Docs</th>\n",
       "    </tr>\n",
       "  </thead>\n",
       "  <tbody>\n",
       "    <tr>\n",
       "      <th>0</th>\n",
       "      <td>-1</td>\n",
       "      <td>504</td>\n",
       "      <td>-1_dan_kebijakan_yang_ada</td>\n",
       "      <td>[dan, kebijakan, yang, ada, ini, di, tidak, ba...</td>\n",
       "      <td>[kami juga akan terus mengambil tindakan keras...</td>\n",
       "    </tr>\n",
       "    <tr>\n",
       "      <th>1</th>\n",
       "      <td>0</td>\n",
       "      <td>95</td>\n",
       "      <td>0_ya_yg_bikin_krl</td>\n",
       "      <td>[ya, yg, bikin, krl, juga, naik, kaya, pake, k...</td>\n",
       "      <td>[harusnya orang kaya mah dibujuk biar mau naik...</td>\n",
       "    </tr>\n",
       "    <tr>\n",
       "      <th>2</th>\n",
       "      <td>1</td>\n",
       "      <td>61</td>\n",
       "      <td>1_digital_kkn_data_program</td>\n",
       "      <td>[digital, kkn, data, program, tv, media, dan, ...</td>\n",
       "      <td>[frekuensi tv digital purwakarta terlengkap fr...</td>\n",
       "    </tr>\n",
       "    <tr>\n",
       "      <th>3</th>\n",
       "      <td>2</td>\n",
       "      <td>56</td>\n",
       "      <td>2_jakarta_heru_agar_dki</td>\n",
       "      <td>[jakarta, heru, agar, dki, budi, wfh, gubernur...</td>\n",
       "      <td>[penjabat gubernur dki jakarta heru budi harto...</td>\n",
       "    </tr>\n",
       "    <tr>\n",
       "      <th>4</th>\n",
       "      <td>3</td>\n",
       "      <td>56</td>\n",
       "      <td>3_mobil_listrik_subsidi_kendaraan</td>\n",
       "      <td>[mobil, listrik, subsidi, kendaraan, iknmajuka...</td>\n",
       "      <td>[keputusan pemerintah untuk mempercepat kebija...</td>\n",
       "    </tr>\n",
       "    <tr>\n",
       "      <th>...</th>\n",
       "      <td>...</td>\n",
       "      <td>...</td>\n",
       "      <td>...</td>\n",
       "      <td>...</td>\n",
       "      <td>...</td>\n",
       "    </tr>\n",
       "    <tr>\n",
       "      <th>56</th>\n",
       "      <td>55</td>\n",
       "      <td>12</td>\n",
       "      <td>55_ayo_dukungan_berikan_dukung</td>\n",
       "      <td>[ayo, dukungan, berikan, dukung, ganjarhebat, ...</td>\n",
       "      <td>[dukung kebijakan pemerintah ayo berikan dukun...</td>\n",
       "    </tr>\n",
       "    <tr>\n",
       "      <th>57</th>\n",
       "      <td>56</td>\n",
       "      <td>12</td>\n",
       "      <td>56_bumn_ala_law_terobosanet</td>\n",
       "      <td>[bumn, ala, law, terobosanet, omnibus, depan, ...</td>\n",
       "      <td>[kebijakan ini menjadi salah satu bahan bagi p...</td>\n",
       "    </tr>\n",
       "    <tr>\n",
       "      <th>58</th>\n",
       "      <td>57</td>\n",
       "      <td>11</td>\n",
       "      <td>57_cerminan_maju_semua_mendukung</td>\n",
       "      <td>[cerminan, maju, semua, mendukung, ganjarpresi...</td>\n",
       "      <td>[ganjar cerminan indonesia maju mendukung semu...</td>\n",
       "    </tr>\n",
       "    <tr>\n",
       "      <th>59</th>\n",
       "      <td>58</td>\n",
       "      <td>11</td>\n",
       "      <td>58_terbantu_ganj_bangga_tengah</td>\n",
       "      <td>[terbantu, ganj, bangga, tengah, dengan, semak...</td>\n",
       "      <td>[masyarakat kalimantan tengah bangga dengan pr...</td>\n",
       "    </tr>\n",
       "    <tr>\n",
       "      <th>60</th>\n",
       "      <td>59</td>\n",
       "      <td>10</td>\n",
       "      <td>59_taun_tau_ugm_nerima</td>\n",
       "      <td>[taun, tau, ugm, nerima, janganlah, tak, mende...</td>\n",
       "      <td>[notesayahibu janganlah kamu bersikap keras ke...</td>\n",
       "    </tr>\n",
       "  </tbody>\n",
       "</table>\n",
       "<p>61 rows × 5 columns</p>\n",
       "</div>"
      ],
      "text/plain": [
       "    Topic  Count                               Name  \\\n",
       "0      -1    504          -1_dan_kebijakan_yang_ada   \n",
       "1       0     95                  0_ya_yg_bikin_krl   \n",
       "2       1     61         1_digital_kkn_data_program   \n",
       "3       2     56            2_jakarta_heru_agar_dki   \n",
       "4       3     56  3_mobil_listrik_subsidi_kendaraan   \n",
       "..    ...    ...                                ...   \n",
       "56     55     12     55_ayo_dukungan_berikan_dukung   \n",
       "57     56     12        56_bumn_ala_law_terobosanet   \n",
       "58     57     11   57_cerminan_maju_semua_mendukung   \n",
       "59     58     11     58_terbantu_ganj_bangga_tengah   \n",
       "60     59     10             59_taun_tau_ugm_nerima   \n",
       "\n",
       "                                       Representation  \\\n",
       "0   [dan, kebijakan, yang, ada, ini, di, tidak, ba...   \n",
       "1   [ya, yg, bikin, krl, juga, naik, kaya, pake, k...   \n",
       "2   [digital, kkn, data, program, tv, media, dan, ...   \n",
       "3   [jakarta, heru, agar, dki, budi, wfh, gubernur...   \n",
       "4   [mobil, listrik, subsidi, kendaraan, iknmajuka...   \n",
       "..                                                ...   \n",
       "56  [ayo, dukungan, berikan, dukung, ganjarhebat, ...   \n",
       "57  [bumn, ala, law, terobosanet, omnibus, depan, ...   \n",
       "58  [cerminan, maju, semua, mendukung, ganjarpresi...   \n",
       "59  [terbantu, ganj, bangga, tengah, dengan, semak...   \n",
       "60  [taun, tau, ugm, nerima, janganlah, tak, mende...   \n",
       "\n",
       "                                  Representative_Docs  \n",
       "0   [kami juga akan terus mengambil tindakan keras...  \n",
       "1   [harusnya orang kaya mah dibujuk biar mau naik...  \n",
       "2   [frekuensi tv digital purwakarta terlengkap fr...  \n",
       "3   [penjabat gubernur dki jakarta heru budi harto...  \n",
       "4   [keputusan pemerintah untuk mempercepat kebija...  \n",
       "..                                                ...  \n",
       "56  [dukung kebijakan pemerintah ayo berikan dukun...  \n",
       "57  [kebijakan ini menjadi salah satu bahan bagi p...  \n",
       "58  [ganjar cerminan indonesia maju mendukung semu...  \n",
       "59  [masyarakat kalimantan tengah bangga dengan pr...  \n",
       "60  [notesayahibu janganlah kamu bersikap keras ke...  \n",
       "\n",
       "[61 rows x 5 columns]"
      ]
     },
     "execution_count": 33,
     "metadata": {},
     "output_type": "execute_result"
    }
   ],
   "source": [
    "topic_model.get_topic_info()"
   ]
  },
  {
   "cell_type": "code",
   "execution_count": 30,
   "metadata": {},
   "outputs": [
    {
     "data": {
      "text/plain": [
       "[('ya', 0.02853433165568528),\n",
       " ('yg', 0.027834197083155203),\n",
       " ('bikin', 0.023217666549456475),\n",
       " ('krl', 0.022216168389363678),\n",
       " ('juga', 0.020090647584223752),\n",
       " ('naik', 0.018863149318767702),\n",
       " ('kaya', 0.01742958866348018),\n",
       " ('pake', 0.017048647212002447),\n",
       " ('kalau', 0.01689629231738864),\n",
       " ('ga', 0.016350061725874977)]"
      ]
     },
     "execution_count": 30,
     "metadata": {},
     "output_type": "execute_result"
    }
   ],
   "source": [
    "topic_model.get_topic(0)"
   ]
  }
 ],
 "metadata": {
  "kernelspec": {
   "display_name": "base",
   "language": "python",
   "name": "python3"
  },
  "language_info": {
   "codemirror_mode": {
    "name": "ipython",
    "version": 3
   },
   "file_extension": ".py",
   "mimetype": "text/x-python",
   "name": "python",
   "nbconvert_exporter": "python",
   "pygments_lexer": "ipython3",
   "version": "3.11.7"
  }
 },
 "nbformat": 4,
 "nbformat_minor": 2
}
